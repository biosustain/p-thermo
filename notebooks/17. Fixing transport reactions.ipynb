{
 "cells": [
  {
   "cell_type": "markdown",
   "metadata": {},
   "source": [
    "# Introduction\n",
    "From Beata's PhD thesis,we have experimental validation about which sugars P. thermoglucosidasius can grow on. Additionally, Brumm et al. (DOI 10.3389/fmicb.2015.00430) performed a comparative bioinformatics analysis into some of the sugar uptake systems of related strains. the NCIB 11955 strain is >99% similar to the C56-YS93 strain they analyse. We can use this information to add the required transport reactions into the model.\n",
    "\n",
    "For adding the sugar transport reactions, where there is a predicted transporter associated to that sugar transport in the genome, I added either the ABC or PTS transport it is associated to. Where there is no annotated transporter, but the strain is known to grow on the sugar, I added passive transport.\n",
    "\n",
    "Then once that is done, later one can evaluate the predicted growth rates of the model in the presence of the different sugars. "
   ]
  },
  {
   "cell_type": "code",
   "execution_count": 1,
   "metadata": {},
   "outputs": [
    {
     "data": {
      "application/javascript": [
       "\n",
       "(function(root) {\n",
       "  function now() {\n",
       "    return new Date();\n",
       "  }\n",
       "\n",
       "  var force = true;\n",
       "\n",
       "  if (typeof root._bokeh_onload_callbacks === \"undefined\" || force === true) {\n",
       "    root._bokeh_onload_callbacks = [];\n",
       "    root._bokeh_is_loading = undefined;\n",
       "  }\n",
       "\n",
       "  var JS_MIME_TYPE = 'application/javascript';\n",
       "  var HTML_MIME_TYPE = 'text/html';\n",
       "  var EXEC_MIME_TYPE = 'application/vnd.bokehjs_exec.v0+json';\n",
       "  var CLASS_NAME = 'output_bokeh rendered_html';\n",
       "\n",
       "  /**\n",
       "   * Render data to the DOM node\n",
       "   */\n",
       "  function render(props, node) {\n",
       "    var script = document.createElement(\"script\");\n",
       "    node.appendChild(script);\n",
       "  }\n",
       "\n",
       "  /**\n",
       "   * Handle when an output is cleared or removed\n",
       "   */\n",
       "  function handleClearOutput(event, handle) {\n",
       "    var cell = handle.cell;\n",
       "\n",
       "    var id = cell.output_area._bokeh_element_id;\n",
       "    var server_id = cell.output_area._bokeh_server_id;\n",
       "    // Clean up Bokeh references\n",
       "    if (id != null && id in Bokeh.index) {\n",
       "      Bokeh.index[id].model.document.clear();\n",
       "      delete Bokeh.index[id];\n",
       "    }\n",
       "\n",
       "    if (server_id !== undefined) {\n",
       "      // Clean up Bokeh references\n",
       "      var cmd = \"from bokeh.io.state import curstate; print(curstate().uuid_to_server['\" + server_id + \"'].get_sessions()[0].document.roots[0]._id)\";\n",
       "      cell.notebook.kernel.execute(cmd, {\n",
       "        iopub: {\n",
       "          output: function(msg) {\n",
       "            var id = msg.content.text.trim();\n",
       "            if (id in Bokeh.index) {\n",
       "              Bokeh.index[id].model.document.clear();\n",
       "              delete Bokeh.index[id];\n",
       "            }\n",
       "          }\n",
       "        }\n",
       "      });\n",
       "      // Destroy server and session\n",
       "      var cmd = \"import bokeh.io.notebook as ion; ion.destroy_server('\" + server_id + \"')\";\n",
       "      cell.notebook.kernel.execute(cmd);\n",
       "    }\n",
       "  }\n",
       "\n",
       "  /**\n",
       "   * Handle when a new output is added\n",
       "   */\n",
       "  function handleAddOutput(event, handle) {\n",
       "    var output_area = handle.output_area;\n",
       "    var output = handle.output;\n",
       "\n",
       "    // limit handleAddOutput to display_data with EXEC_MIME_TYPE content only\n",
       "    if ((output.output_type != \"display_data\") || (!output.data.hasOwnProperty(EXEC_MIME_TYPE))) {\n",
       "      return\n",
       "    }\n",
       "\n",
       "    var toinsert = output_area.element.find(\".\" + CLASS_NAME.split(' ')[0]);\n",
       "\n",
       "    if (output.metadata[EXEC_MIME_TYPE][\"id\"] !== undefined) {\n",
       "      toinsert[toinsert.length - 1].firstChild.textContent = output.data[JS_MIME_TYPE];\n",
       "      // store reference to embed id on output_area\n",
       "      output_area._bokeh_element_id = output.metadata[EXEC_MIME_TYPE][\"id\"];\n",
       "    }\n",
       "    if (output.metadata[EXEC_MIME_TYPE][\"server_id\"] !== undefined) {\n",
       "      var bk_div = document.createElement(\"div\");\n",
       "      bk_div.innerHTML = output.data[HTML_MIME_TYPE];\n",
       "      var script_attrs = bk_div.children[0].attributes;\n",
       "      for (var i = 0; i < script_attrs.length; i++) {\n",
       "        toinsert[toinsert.length - 1].firstChild.setAttribute(script_attrs[i].name, script_attrs[i].value);\n",
       "      }\n",
       "      // store reference to server id on output_area\n",
       "      output_area._bokeh_server_id = output.metadata[EXEC_MIME_TYPE][\"server_id\"];\n",
       "    }\n",
       "  }\n",
       "\n",
       "  function register_renderer(events, OutputArea) {\n",
       "\n",
       "    function append_mime(data, metadata, element) {\n",
       "      // create a DOM node to render to\n",
       "      var toinsert = this.create_output_subarea(\n",
       "        metadata,\n",
       "        CLASS_NAME,\n",
       "        EXEC_MIME_TYPE\n",
       "      );\n",
       "      this.keyboard_manager.register_events(toinsert);\n",
       "      // Render to node\n",
       "      var props = {data: data, metadata: metadata[EXEC_MIME_TYPE]};\n",
       "      render(props, toinsert[toinsert.length - 1]);\n",
       "      element.append(toinsert);\n",
       "      return toinsert\n",
       "    }\n",
       "\n",
       "    /* Handle when an output is cleared or removed */\n",
       "    events.on('clear_output.CodeCell', handleClearOutput);\n",
       "    events.on('delete.Cell', handleClearOutput);\n",
       "\n",
       "    /* Handle when a new output is added */\n",
       "    events.on('output_added.OutputArea', handleAddOutput);\n",
       "\n",
       "    /**\n",
       "     * Register the mime type and append_mime function with output_area\n",
       "     */\n",
       "    OutputArea.prototype.register_mime_type(EXEC_MIME_TYPE, append_mime, {\n",
       "      /* Is output safe? */\n",
       "      safe: true,\n",
       "      /* Index of renderer in `output_area.display_order` */\n",
       "      index: 0\n",
       "    });\n",
       "  }\n",
       "\n",
       "  // register the mime type if in Jupyter Notebook environment and previously unregistered\n",
       "  if (root.Jupyter !== undefined) {\n",
       "    var events = require('base/js/events');\n",
       "    var OutputArea = require('notebook/js/outputarea').OutputArea;\n",
       "\n",
       "    if (OutputArea.prototype.mime_types().indexOf(EXEC_MIME_TYPE) == -1) {\n",
       "      register_renderer(events, OutputArea);\n",
       "    }\n",
       "  }\n",
       "\n",
       "  \n",
       "  if (typeof (root._bokeh_timeout) === \"undefined\" || force === true) {\n",
       "    root._bokeh_timeout = Date.now() + 5000;\n",
       "    root._bokeh_failed_load = false;\n",
       "  }\n",
       "\n",
       "  var NB_LOAD_WARNING = {'data': {'text/html':\n",
       "     \"<div style='background-color: #fdd'>\\n\"+\n",
       "     \"<p>\\n\"+\n",
       "     \"BokehJS does not appear to have successfully loaded. If loading BokehJS from CDN, this \\n\"+\n",
       "     \"may be due to a slow or bad network connection. Possible fixes:\\n\"+\n",
       "     \"</p>\\n\"+\n",
       "     \"<ul>\\n\"+\n",
       "     \"<li>re-rerun `output_notebook()` to attempt to load from CDN again, or</li>\\n\"+\n",
       "     \"<li>use INLINE resources instead, as so:</li>\\n\"+\n",
       "     \"</ul>\\n\"+\n",
       "     \"<code>\\n\"+\n",
       "     \"from bokeh.resources import INLINE\\n\"+\n",
       "     \"output_notebook(resources=INLINE)\\n\"+\n",
       "     \"</code>\\n\"+\n",
       "     \"</div>\"}};\n",
       "\n",
       "  function display_loaded() {\n",
       "    var el = document.getElementById(null);\n",
       "    if (el != null) {\n",
       "      el.textContent = \"BokehJS is loading...\";\n",
       "    }\n",
       "    if (root.Bokeh !== undefined) {\n",
       "      if (el != null) {\n",
       "        el.textContent = \"BokehJS \" + root.Bokeh.version + \" successfully loaded.\";\n",
       "      }\n",
       "    } else if (Date.now() < root._bokeh_timeout) {\n",
       "      setTimeout(display_loaded, 100)\n",
       "    }\n",
       "  }\n",
       "\n",
       "\n",
       "  function run_callbacks() {\n",
       "    try {\n",
       "      root._bokeh_onload_callbacks.forEach(function(callback) {\n",
       "        if (callback != null)\n",
       "          callback();\n",
       "      });\n",
       "    } finally {\n",
       "      delete root._bokeh_onload_callbacks\n",
       "    }\n",
       "    console.debug(\"Bokeh: all callbacks have finished\");\n",
       "  }\n",
       "\n",
       "  function load_libs(css_urls, js_urls, callback) {\n",
       "    if (css_urls == null) css_urls = [];\n",
       "    if (js_urls == null) js_urls = [];\n",
       "\n",
       "    root._bokeh_onload_callbacks.push(callback);\n",
       "    if (root._bokeh_is_loading > 0) {\n",
       "      console.debug(\"Bokeh: BokehJS is being loaded, scheduling callback at\", now());\n",
       "      return null;\n",
       "    }\n",
       "    if (js_urls == null || js_urls.length === 0) {\n",
       "      run_callbacks();\n",
       "      return null;\n",
       "    }\n",
       "    console.debug(\"Bokeh: BokehJS not loaded, scheduling load and callback at\", now());\n",
       "    root._bokeh_is_loading = css_urls.length + js_urls.length;\n",
       "\n",
       "    function on_load() {\n",
       "      root._bokeh_is_loading--;\n",
       "      if (root._bokeh_is_loading === 0) {\n",
       "        console.debug(\"Bokeh: all BokehJS libraries/stylesheets loaded\");\n",
       "        run_callbacks()\n",
       "      }\n",
       "    }\n",
       "\n",
       "    function on_error() {\n",
       "      console.error(\"failed to load \" + url);\n",
       "    }\n",
       "\n",
       "    for (var i = 0; i < css_urls.length; i++) {\n",
       "      var url = css_urls[i];\n",
       "      const element = document.createElement(\"link\");\n",
       "      element.onload = on_load;\n",
       "      element.onerror = on_error;\n",
       "      element.rel = \"stylesheet\";\n",
       "      element.type = \"text/css\";\n",
       "      element.href = url;\n",
       "      console.debug(\"Bokeh: injecting link tag for BokehJS stylesheet: \", url);\n",
       "      document.body.appendChild(element);\n",
       "    }\n",
       "\n",
       "    for (var i = 0; i < js_urls.length; i++) {\n",
       "      var url = js_urls[i];\n",
       "      var element = document.createElement('script');\n",
       "      element.onload = on_load;\n",
       "      element.onerror = on_error;\n",
       "      element.async = false;\n",
       "      element.src = url;\n",
       "      console.debug(\"Bokeh: injecting script tag for BokehJS library: \", url);\n",
       "      document.head.appendChild(element);\n",
       "    }\n",
       "  };\n",
       "\n",
       "  function inject_raw_css(css) {\n",
       "    const element = document.createElement(\"style\");\n",
       "    element.appendChild(document.createTextNode(css));\n",
       "    document.body.appendChild(element);\n",
       "  }\n",
       "\n",
       "  var js_urls = [\"https://cdn.pydata.org/bokeh/release/bokeh-1.3.4.min.js\", \"https://cdn.pydata.org/bokeh/release/bokeh-widgets-1.3.4.min.js\", \"https://cdn.pydata.org/bokeh/release/bokeh-tables-1.3.4.min.js\", \"https://cdn.pydata.org/bokeh/release/bokeh-gl-1.3.4.min.js\"];\n",
       "  var css_urls = [];\n",
       "\n",
       "  var inline_js = [\n",
       "    function(Bokeh) {\n",
       "      Bokeh.set_log_level(\"info\");\n",
       "    },\n",
       "    \n",
       "    function(Bokeh) {\n",
       "      \n",
       "    },\n",
       "    function(Bokeh) {} // ensure no trailing comma for IE\n",
       "  ];\n",
       "\n",
       "  function run_inline_js() {\n",
       "    \n",
       "    if ((root.Bokeh !== undefined) || (force === true)) {\n",
       "      for (var i = 0; i < inline_js.length; i++) {\n",
       "        inline_js[i].call(root, root.Bokeh);\n",
       "      }} else if (Date.now() < root._bokeh_timeout) {\n",
       "      setTimeout(run_inline_js, 100);\n",
       "    } else if (!root._bokeh_failed_load) {\n",
       "      console.log(\"Bokeh: BokehJS failed to load within specified timeout.\");\n",
       "      root._bokeh_failed_load = true;\n",
       "    } else if (force !== true) {\n",
       "      var cell = $(document.getElementById(null)).parents('.cell').data().cell;\n",
       "      cell.output_area.append_execute_result(NB_LOAD_WARNING)\n",
       "    }\n",
       "\n",
       "  }\n",
       "\n",
       "  if (root._bokeh_is_loading === 0) {\n",
       "    console.debug(\"Bokeh: BokehJS loaded, going straight to plotting\");\n",
       "    run_inline_js();\n",
       "  } else {\n",
       "    load_libs(css_urls, js_urls, function() {\n",
       "      console.debug(\"Bokeh: BokehJS plotting callback run at\", now());\n",
       "      run_inline_js();\n",
       "    });\n",
       "  }\n",
       "}(window));"
      ],
      "application/vnd.bokehjs_load.v0+json": "\n(function(root) {\n  function now() {\n    return new Date();\n  }\n\n  var force = true;\n\n  if (typeof root._bokeh_onload_callbacks === \"undefined\" || force === true) {\n    root._bokeh_onload_callbacks = [];\n    root._bokeh_is_loading = undefined;\n  }\n\n  \n\n  \n  if (typeof (root._bokeh_timeout) === \"undefined\" || force === true) {\n    root._bokeh_timeout = Date.now() + 5000;\n    root._bokeh_failed_load = false;\n  }\n\n  var NB_LOAD_WARNING = {'data': {'text/html':\n     \"<div style='background-color: #fdd'>\\n\"+\n     \"<p>\\n\"+\n     \"BokehJS does not appear to have successfully loaded. If loading BokehJS from CDN, this \\n\"+\n     \"may be due to a slow or bad network connection. Possible fixes:\\n\"+\n     \"</p>\\n\"+\n     \"<ul>\\n\"+\n     \"<li>re-rerun `output_notebook()` to attempt to load from CDN again, or</li>\\n\"+\n     \"<li>use INLINE resources instead, as so:</li>\\n\"+\n     \"</ul>\\n\"+\n     \"<code>\\n\"+\n     \"from bokeh.resources import INLINE\\n\"+\n     \"output_notebook(resources=INLINE)\\n\"+\n     \"</code>\\n\"+\n     \"</div>\"}};\n\n  function display_loaded() {\n    var el = document.getElementById(null);\n    if (el != null) {\n      el.textContent = \"BokehJS is loading...\";\n    }\n    if (root.Bokeh !== undefined) {\n      if (el != null) {\n        el.textContent = \"BokehJS \" + root.Bokeh.version + \" successfully loaded.\";\n      }\n    } else if (Date.now() < root._bokeh_timeout) {\n      setTimeout(display_loaded, 100)\n    }\n  }\n\n\n  function run_callbacks() {\n    try {\n      root._bokeh_onload_callbacks.forEach(function(callback) {\n        if (callback != null)\n          callback();\n      });\n    } finally {\n      delete root._bokeh_onload_callbacks\n    }\n    console.debug(\"Bokeh: all callbacks have finished\");\n  }\n\n  function load_libs(css_urls, js_urls, callback) {\n    if (css_urls == null) css_urls = [];\n    if (js_urls == null) js_urls = [];\n\n    root._bokeh_onload_callbacks.push(callback);\n    if (root._bokeh_is_loading > 0) {\n      console.debug(\"Bokeh: BokehJS is being loaded, scheduling callback at\", now());\n      return null;\n    }\n    if (js_urls == null || js_urls.length === 0) {\n      run_callbacks();\n      return null;\n    }\n    console.debug(\"Bokeh: BokehJS not loaded, scheduling load and callback at\", now());\n    root._bokeh_is_loading = css_urls.length + js_urls.length;\n\n    function on_load() {\n      root._bokeh_is_loading--;\n      if (root._bokeh_is_loading === 0) {\n        console.debug(\"Bokeh: all BokehJS libraries/stylesheets loaded\");\n        run_callbacks()\n      }\n    }\n\n    function on_error() {\n      console.error(\"failed to load \" + url);\n    }\n\n    for (var i = 0; i < css_urls.length; i++) {\n      var url = css_urls[i];\n      const element = document.createElement(\"link\");\n      element.onload = on_load;\n      element.onerror = on_error;\n      element.rel = \"stylesheet\";\n      element.type = \"text/css\";\n      element.href = url;\n      console.debug(\"Bokeh: injecting link tag for BokehJS stylesheet: \", url);\n      document.body.appendChild(element);\n    }\n\n    for (var i = 0; i < js_urls.length; i++) {\n      var url = js_urls[i];\n      var element = document.createElement('script');\n      element.onload = on_load;\n      element.onerror = on_error;\n      element.async = false;\n      element.src = url;\n      console.debug(\"Bokeh: injecting script tag for BokehJS library: \", url);\n      document.head.appendChild(element);\n    }\n  };\n\n  function inject_raw_css(css) {\n    const element = document.createElement(\"style\");\n    element.appendChild(document.createTextNode(css));\n    document.body.appendChild(element);\n  }\n\n  var js_urls = [\"https://cdn.pydata.org/bokeh/release/bokeh-1.3.4.min.js\", \"https://cdn.pydata.org/bokeh/release/bokeh-widgets-1.3.4.min.js\", \"https://cdn.pydata.org/bokeh/release/bokeh-tables-1.3.4.min.js\", \"https://cdn.pydata.org/bokeh/release/bokeh-gl-1.3.4.min.js\"];\n  var css_urls = [];\n\n  var inline_js = [\n    function(Bokeh) {\n      Bokeh.set_log_level(\"info\");\n    },\n    \n    function(Bokeh) {\n      \n    },\n    function(Bokeh) {} // ensure no trailing comma for IE\n  ];\n\n  function run_inline_js() {\n    \n    if ((root.Bokeh !== undefined) || (force === true)) {\n      for (var i = 0; i < inline_js.length; i++) {\n        inline_js[i].call(root, root.Bokeh);\n      }} else if (Date.now() < root._bokeh_timeout) {\n      setTimeout(run_inline_js, 100);\n    } else if (!root._bokeh_failed_load) {\n      console.log(\"Bokeh: BokehJS failed to load within specified timeout.\");\n      root._bokeh_failed_load = true;\n    } else if (force !== true) {\n      var cell = $(document.getElementById(null)).parents('.cell').data().cell;\n      cell.output_area.append_execute_result(NB_LOAD_WARNING)\n    }\n\n  }\n\n  if (root._bokeh_is_loading === 0) {\n    console.debug(\"Bokeh: BokehJS loaded, going straight to plotting\");\n    run_inline_js();\n  } else {\n    load_libs(css_urls, js_urls, function() {\n      console.debug(\"Bokeh: BokehJS plotting callback run at\", now());\n      run_inline_js();\n    });\n  }\n}(window));"
     },
     "metadata": {},
     "output_type": "display_data"
    }
   ],
   "source": [
    "import cameo\n",
    "import pandas as pd\n",
    "import cobra.io\n",
    "import escher\n",
    "from cobra import Reaction, Metabolite"
   ]
  },
  {
   "cell_type": "code",
   "execution_count": 2,
   "metadata": {},
   "outputs": [],
   "source": [
    "model_e_coli = cameo.load_model('iML1515')"
   ]
  },
  {
   "cell_type": "code",
   "execution_count": 3,
   "metadata": {},
   "outputs": [],
   "source": [
    "model = cobra.io.read_sbml_model('../model/g-thermo.xml')"
   ]
  },
  {
   "cell_type": "markdown",
   "metadata": {},
   "source": [
    "First, I will modify the glucose transport in the model. It is predicted that the strain has both ABC and PTS systems for glucose transport. "
   ]
  },
  {
   "cell_type": "code",
   "execution_count": null,
   "metadata": {},
   "outputs": [],
   "source": [
    "model.reactions.GLC__Dt.id = 'GLC__Dtabc'"
   ]
  },
  {
   "cell_type": "code",
   "execution_count": null,
   "metadata": {},
   "outputs": [],
   "source": [
    "model.reactions.GLC__Dtabc.add_metabolites({model.metabolites.h2o_c:-1, model.metabolites.atp_c:-1, model.metabolites.adp_c:1, model.metabolites.pi_c:1, model.metabolites.h_c: 1})"
   ]
  },
  {
   "cell_type": "code",
   "execution_count": null,
   "metadata": {},
   "outputs": [],
   "source": [
    "new_rct = Reaction(id = 'GLC__Dtpts')"
   ]
  },
  {
   "cell_type": "code",
   "execution_count": null,
   "metadata": {},
   "outputs": [],
   "source": [
    "model.add_reaction(new_rct)"
   ]
  },
  {
   "cell_type": "code",
   "execution_count": null,
   "metadata": {},
   "outputs": [],
   "source": [
    "model.reactions.GLC__Dtpts.add_metabolites({model.metabolites.pep_c:-1, model.metabolites.pyr_c: 1.0, model.metabolites.g6p_c:1, model.metabolites.glc__D_e:-1})"
   ]
  },
  {
   "cell_type": "code",
   "execution_count": null,
   "metadata": {},
   "outputs": [],
   "source": [
    "model.reactions.GLC__Dtpts.name = 'D-Glucose PTS transport'"
   ]
  },
  {
   "cell_type": "markdown",
   "metadata": {},
   "source": [
    "Now that this has been fixed for glucose, I will try to incorporate it for the rest of the sugars. I will do so according to the data proposed in Beata's thesis as well as in Brumm et al. 2015. "
   ]
  },
  {
   "cell_type": "code",
   "execution_count": null,
   "metadata": {},
   "outputs": [],
   "source": [
    "#fructose via ABC\n",
    "model.metabolites.fru_c.name = 'D-Fructose'"
   ]
  },
  {
   "cell_type": "code",
   "execution_count": null,
   "metadata": {},
   "outputs": [],
   "source": [
    "fru_e = Metabolite(id='fru_e')"
   ]
  },
  {
   "cell_type": "code",
   "execution_count": null,
   "metadata": {},
   "outputs": [],
   "source": [
    "model.add_metabolites(fru_e)"
   ]
  },
  {
   "cell_type": "code",
   "execution_count": null,
   "metadata": {},
   "outputs": [],
   "source": [
    "model.metabolites.fru_e.name = 'D-Fructose'\n",
    "model.metabolites.fru_e.charge = 0\n",
    "model.metabolites.fru_e.formula = model.metabolites.fru_c.formula\n",
    "model.metabolites.fru_e.notes = model.metabolites.fru_c.notes\n",
    "model.metabolites.fru_e.compartment = 'e'"
   ]
  },
  {
   "cell_type": "code",
   "execution_count": null,
   "metadata": {},
   "outputs": [],
   "source": [
    "new_t = Reaction(id = 'FRUtpts')\n",
    "model.add_reaction(new_t)"
   ]
  },
  {
   "cell_type": "code",
   "execution_count": null,
   "metadata": {},
   "outputs": [],
   "source": [
    "model.reactions.FRUtpts.name = 'Transport of D-fructose via PTS'"
   ]
  },
  {
   "cell_type": "code",
   "execution_count": null,
   "metadata": {},
   "outputs": [],
   "source": [
    "model.reactions.FRUtpts.add_metabolites({model.metabolites.fru_e:-1, model.metabolites.pep_c: -1, model.metabolites.pyr_c:1.0, model.metabolites.f6p_B_c:1, model.metabolites.h_c: 1})"
   ]
  },
  {
   "cell_type": "code",
   "execution_count": null,
   "metadata": {},
   "outputs": [],
   "source": [
    "#L-Arabinose\n",
    "model.metabolites.larpyr_c.id = 'arab__L_c'"
   ]
  },
  {
   "cell_type": "code",
   "execution_count": null,
   "metadata": {},
   "outputs": [],
   "source": [
    "model.reactions.LARPYRISO.id = 'ARAI'"
   ]
  },
  {
   "cell_type": "code",
   "execution_count": null,
   "metadata": {},
   "outputs": [],
   "source": [
    "model.add_metabolites(Metabolite(id='arab__L_e'))"
   ]
  },
  {
   "cell_type": "code",
   "execution_count": null,
   "metadata": {},
   "outputs": [],
   "source": [
    "model.metabolites.arab__L_e.name = 'L-arabinose'\n",
    "model.metabolites.arab__L_e.charge = 0\n",
    "model.metabolites.arab__L_e.formula = model.metabolites.arab__L_c.formula\n",
    "model.metabolites.arab__L_e.notes = model.metabolites.arab__L_c.notes\n",
    "model.metabolites.arab__L_e.compartment = 'e'"
   ]
  },
  {
   "cell_type": "code",
   "execution_count": null,
   "metadata": {},
   "outputs": [],
   "source": [
    "model.add_reaction(Reaction(id = 'ARAB__Ltabc'))"
   ]
  },
  {
   "cell_type": "code",
   "execution_count": null,
   "metadata": {},
   "outputs": [],
   "source": [
    "model.reactions.ARAB__Ltabc.name = 'Transport of L-arabinose via ABC transporter'"
   ]
  },
  {
   "cell_type": "code",
   "execution_count": null,
   "metadata": {},
   "outputs": [],
   "source": [
    "model.reactions.ARAB__Ltabc.add_metabolites({model.metabolites.h2o_c:-1, model.metabolites.atp_c:-1, model.metabolites.arab__L_e:-1, model.metabolites.adp_c: 1, model.metabolites.pi_c:1, model.metabolites.arab__L_c:1, model.metabolites.h_c: 1})"
   ]
  },
  {
   "cell_type": "code",
   "execution_count": null,
   "metadata": {},
   "outputs": [],
   "source": [
    "#D-xylose via ABC\n",
    "model.add_metabolites(Metabolite(id='xyl__D_e'))"
   ]
  },
  {
   "cell_type": "code",
   "execution_count": null,
   "metadata": {},
   "outputs": [],
   "source": [
    "model.metabolites.xyl__D_e.name = 'D-xylose'\n",
    "model.metabolites.xyl__D_e.charge = 0\n",
    "model.metabolites.xyl__D_e.formula = model.metabolites.xyl__D_c.formula\n",
    "model.metabolites.xyl__D_e.notes = model.metabolites.xyl__D_c.notes\n",
    "model.metabolites.xyl__D_e.compartment = 'e'"
   ]
  },
  {
   "cell_type": "code",
   "execution_count": null,
   "metadata": {},
   "outputs": [],
   "source": [
    "model.add_reaction(Reaction(id='XYL__Dtabc'))"
   ]
  },
  {
   "cell_type": "code",
   "execution_count": null,
   "metadata": {},
   "outputs": [],
   "source": [
    "model.reactions.XYL__Dtabc.name = 'Transport of D-xylose via ABC transport'"
   ]
  },
  {
   "cell_type": "code",
   "execution_count": null,
   "metadata": {},
   "outputs": [],
   "source": [
    "model.reactions.XYL__Dtabc.add_metabolites({model.metabolites.xyl__D_e:-1, model.metabolites.xyl__D_c:1, model.metabolites.atp_c:-1, model.metabolites.adp_c:1, model.metabolites.pi_c:1, model.metabolites.h_c:1, model.metabolites.h2o_c:-1})"
   ]
  },
  {
   "cell_type": "code",
   "execution_count": null,
   "metadata": {},
   "outputs": [],
   "source": [
    "#Galactose via ABC\n",
    "model.metabolites.gal_e.name = 'D-Galactose'"
   ]
  },
  {
   "cell_type": "code",
   "execution_count": null,
   "metadata": {},
   "outputs": [],
   "source": [
    "model.metabolites.dgal_c.id = 'gal_c'"
   ]
  },
  {
   "cell_type": "code",
   "execution_count": null,
   "metadata": {},
   "outputs": [],
   "source": [
    "model.metabolites.gal_e.formula = 'C6H12O6'\n",
    "model.metabolites.gal_e.charge = 0"
   ]
  },
  {
   "cell_type": "code",
   "execution_count": null,
   "metadata": {},
   "outputs": [],
   "source": [
    "model.metabolites.gal1p_c.name = 'Alpha-D-Galactose 1-phosphate'"
   ]
  },
  {
   "cell_type": "code",
   "execution_count": null,
   "metadata": {},
   "outputs": [],
   "source": [
    "model.reactions.GALKh.id = 'GALKr'"
   ]
  },
  {
   "cell_type": "code",
   "execution_count": null,
   "metadata": {},
   "outputs": [],
   "source": [
    "model.add_reaction(Reaction(id='GALtabc'))"
   ]
  },
  {
   "cell_type": "code",
   "execution_count": null,
   "metadata": {},
   "outputs": [],
   "source": [
    "model.reactions.GALtabc.add_metabolites({model.metabolites.gal_e:-1, model.metabolites.gal_c:1, model.metabolites.atp_c:-1, model.metabolites.adp_c:1, model.metabolites.pi_c:1, model.metabolites.h_c:1, model.metabolites.h2o_c:-1})"
   ]
  },
  {
   "cell_type": "code",
   "execution_count": null,
   "metadata": {},
   "outputs": [],
   "source": [
    "model.reactions.GALtabc.name = 'Transport of D-galactose via abc transport'"
   ]
  },
  {
   "cell_type": "code",
   "execution_count": null,
   "metadata": {},
   "outputs": [],
   "source": [
    "#Mannitol via PTS\n",
    "model.add_metabolites(Metabolite(id = 'mnl_e'))"
   ]
  },
  {
   "cell_type": "code",
   "execution_count": null,
   "metadata": {},
   "outputs": [],
   "source": [
    "model.metabolites.mnl_e.name = 'Mannitol'\n",
    "model.metabolites.mnl_e.charge = 0\n",
    "model.metabolites.mnl_e.formula = model.metabolites.mnl_c.formula\n",
    "model.metabolites.mnl_e.notes = model.metabolites.mnl_c.notes\n",
    "model.metabolites.mnl_e.compartment = 'e'"
   ]
  },
  {
   "cell_type": "code",
   "execution_count": null,
   "metadata": {},
   "outputs": [],
   "source": [
    "model.add_reaction(Reaction(id='MNLtpts'))"
   ]
  },
  {
   "cell_type": "code",
   "execution_count": null,
   "metadata": {},
   "outputs": [],
   "source": [
    "model.reactions.MNLtpts.name = 'Transport of Mannitol via PTS'"
   ]
  },
  {
   "cell_type": "code",
   "execution_count": null,
   "metadata": {},
   "outputs": [],
   "source": [
    "model.reactions.MNLtpts.add_metabolites({model.metabolites.mnl_e:-1, model.metabolites.pep_c:-1, model.metabolites.pyr_c:1, model.metabolites.mnl1p_c:1})"
   ]
  },
  {
   "cell_type": "code",
   "execution_count": null,
   "metadata": {},
   "outputs": [],
   "source": [
    "#Cellobiose via PTS\n",
    "model.add_metabolites(Metabolite(id='cellb_e'))"
   ]
  },
  {
   "cell_type": "code",
   "execution_count": null,
   "metadata": {},
   "outputs": [],
   "source": [
    "model.metabolites.cellb_e.name = 'Cellobiose'\n",
    "model.metabolites.cellb_e.charge = 0\n",
    "model.metabolites.cellb_e.formula = model.metabolites.cellb_c.formula\n",
    "model.metabolites.cellb_e.notes = model.metabolites.cellb_c.notes\n",
    "model.metabolites.cellb_e.compartment = 'e'"
   ]
  },
  {
   "cell_type": "code",
   "execution_count": null,
   "metadata": {},
   "outputs": [],
   "source": [
    "model.add_reaction(Reaction(id='CELLBtpts'))"
   ]
  },
  {
   "cell_type": "code",
   "execution_count": null,
   "metadata": {},
   "outputs": [],
   "source": [
    "model.reactions.CELLBtpts.name = 'Transport of cellobiose vis pts'"
   ]
  },
  {
   "cell_type": "code",
   "execution_count": null,
   "metadata": {},
   "outputs": [],
   "source": [
    "model.reactions.CELLBtpts.add_metabolites({model.metabolites.cellb_e:-1, model.metabolites.cellb6p_c: 1,model.metabolites.pep_c:-1, model.metabolites.pyr_c:1})"
   ]
  },
  {
   "cell_type": "code",
   "execution_count": null,
   "metadata": {},
   "outputs": [],
   "source": [
    "#sucrose via PTS\n",
    "model.add_metabolites(Metabolite(id='sucr_e'))"
   ]
  },
  {
   "cell_type": "code",
   "execution_count": null,
   "metadata": {},
   "outputs": [],
   "source": [
    "model.metabolites.sucr_e.name = 'Sucrose'\n",
    "model.metabolites.sucr_e.charge = 0\n",
    "model.metabolites.sucr_e.formula = model.metabolites.sucr_c.formula\n",
    "model.metabolites.sucr_e.notes = model.metabolites.sucr_c.notes\n",
    "model.metabolites.sucr_e.compartment = 'e'"
   ]
  },
  {
   "cell_type": "code",
   "execution_count": null,
   "metadata": {},
   "outputs": [],
   "source": [
    "model.add_reaction(Reaction(id='SUCRtpts'))"
   ]
  },
  {
   "cell_type": "code",
   "execution_count": null,
   "metadata": {},
   "outputs": [],
   "source": [
    "model.reactions.SUCRtpts.name = 'Transport of sucrose via pts'"
   ]
  },
  {
   "cell_type": "code",
   "execution_count": null,
   "metadata": {},
   "outputs": [],
   "source": [
    "model.reactions.SUCRtpts.add_metabolites({model.metabolites.sucr_e:-1, model.metabolites.suc6p_c:1,model.metabolites.pep_c:-1, model.metabolites.pyr_c:1, model.metabolites.h_c: 1 })"
   ]
  },
  {
   "cell_type": "code",
   "execution_count": null,
   "metadata": {},
   "outputs": [],
   "source": [
    "model.metabolites.suc6p_c.charge = -2\n",
    "model.metabolites.suc6p_c.formula = 'C12H21O14P'"
   ]
  },
  {
   "cell_type": "markdown",
   "metadata": {},
   "source": [
    "__Xylan__\n",
    "For the growth on xylan, Beata's thesis mentions that (in similar strains) Xylan is cleaved extracelullarly by xylanases to form xylobiose and oligoxylose units (with glucuronic acid side chains). These two subunits are then transported into the cell. Xylobiose is converted to xylotriose and D-glucuronic acid. P. thermoglucosidasius does not have genes annotated for the degradation of D-glucuronate, and so it is assumed this is not utilized further. \n",
    "\n",
    "However, the evidence that P. thermoglucosidasius can transport xylan comes from Brumm et al. 2015. In this paper they state 'unsubstituted xylans, arabinoxylans, glucuronoxylans, and arabinoglucuronoxylans (these will\n",
    "all be collectively called xylan.)' Thus this is not a single sugar type. To decide how to tackle this I will want to discuss with Niko. \n",
    "\n",
    "Taken together, if one would want to simulate the degradation of Xylan, one could mimic it by just supplying xylose and D-glucuronate instead and so directly xylan will not be included in the model. "
   ]
  },
  {
   "cell_type": "markdown",
   "metadata": {},
   "source": [
    "__Pullulan degradation__\n",
    "Pullulan is a polymer that consisits of maltotriose units. It is predicted from bioinformatics that our strain contains the enzymes able to degrade this sugar into maltotriose (and then further into maltose). But there is no real experimental validation for this exact strain. Considering this is not a frequently used sugar, we will not include it in the model. If one would want to grow on this, one could always add the needed reactions. "
   ]
  },
  {
   "cell_type": "markdown",
   "metadata": {},
   "source": [
    "__Glycerol:__ There is bioinformatics/genome based evidence that our strain can transport glycerol into the cell via a permease (passsive) mechanism. (see Brumm 2015)"
   ]
  },
  {
   "cell_type": "code",
   "execution_count": null,
   "metadata": {},
   "outputs": [],
   "source": [
    "#Glycerol\n",
    "model.metabolites.glyc_e.formula = model.metabolites.glyc_c.formula\n",
    "model.metabolites.glyc_e.charge = model.metabolites.glyc_c.charge\n",
    "model.metabolites.glyc_e.name = 'Glycerol'"
   ]
  },
  {
   "cell_type": "code",
   "execution_count": null,
   "metadata": {},
   "outputs": [],
   "source": [
    "model.add_reaction(Reaction (id= 'GLYCt'))"
   ]
  },
  {
   "cell_type": "code",
   "execution_count": null,
   "metadata": {},
   "outputs": [],
   "source": [
    "model.reactions.GLYCt.name = ' Transport of Glycerol, passive'"
   ]
  },
  {
   "cell_type": "code",
   "execution_count": null,
   "metadata": {},
   "outputs": [],
   "source": [
    "model.reactions.GLYCt.add_metabolites({model.metabolites.glyc_e:-1, model.metabolites.glyc_c:1})"
   ]
  },
  {
   "cell_type": "code",
   "execution_count": null,
   "metadata": {},
   "outputs": [],
   "source": [
    "#Ribose via ABC\n",
    "model.metabolites.rib__D_e.formula = model.metabolites.rib__D_c.formula \n",
    "model.metabolites.rib__D_e.charge = model.metabolites.rib__D_c.charge "
   ]
  },
  {
   "cell_type": "code",
   "execution_count": null,
   "metadata": {},
   "outputs": [],
   "source": [
    "model.add_reaction(Reaction(id = 'RIB__Dtabc'))"
   ]
  },
  {
   "cell_type": "code",
   "execution_count": null,
   "metadata": {},
   "outputs": [],
   "source": [
    "model.reactions.RIB__Dtabc.name = 'Transport of D-Ribose via ABC transport'"
   ]
  },
  {
   "cell_type": "code",
   "execution_count": null,
   "metadata": {},
   "outputs": [],
   "source": [
    "model.reactions.RIB__Dtabc.add_metabolites({model.metabolites.rib__D_e:-1, model.metabolites.rib__D_c:1,  model.metabolites.atp_c:-1, model.metabolites.adp_c:1, model.metabolites.pi_c:1, model.metabolites.h_c:1, model.metabolites.h2o_c:-1})"
   ]
  },
  {
   "cell_type": "code",
   "execution_count": null,
   "metadata": {},
   "outputs": [],
   "source": [
    "#Mannose via PTS\n",
    "model.metabolites.man_e.name = 'D-Mannose'\n",
    "model.metabolites.man_e.charge = model.metabolites.man_c.charge \n",
    "model.metabolites.man_e.formula = model.metabolites.man_c.formula "
   ]
  },
  {
   "cell_type": "code",
   "execution_count": null,
   "metadata": {},
   "outputs": [],
   "source": [
    "model.add_reaction(Reaction(id = 'MANtpts'))"
   ]
  },
  {
   "cell_type": "code",
   "execution_count": null,
   "metadata": {},
   "outputs": [],
   "source": [
    "model.reactions.MANtpts.add_metabolites({model.metabolites.man_e: -1, model.metabolites.man6p_c:1,model.metabolites.pep_c:-1, model.metabolites.pyr_c:1})"
   ]
  },
  {
   "cell_type": "code",
   "execution_count": null,
   "metadata": {},
   "outputs": [],
   "source": [
    "model.metabolites.man1p_c.name = 'D-Mannose-1-phosphate'"
   ]
  },
  {
   "cell_type": "code",
   "execution_count": null,
   "metadata": {},
   "outputs": [],
   "source": [
    "model.metabolites.man6p_c.name = 'D-Mannose-6-phosphate'"
   ]
  },
  {
   "cell_type": "markdown",
   "metadata": {},
   "source": [
    "__Sorbitol__\n",
    "\n",
    "Sorbitol is likely taken up by PTS, and in the process converted into sorbitol-6-phosphate. There is no sorbitol-6-phosphate in the model, so this has to be added. Also we need to then investigate how sorbitol-6-phosphate is connected to the rest of metabolism. Based on genome annotation, the sorbitol-6-phosphate is likely converted into B-D-fructose-6-phosphate via E.C. 1.1.1.140. Fructose-6-phosphate is connected to the rest of the model so this should be sufficient. "
   ]
  },
  {
   "cell_type": "code",
   "execution_count": null,
   "metadata": {},
   "outputs": [],
   "source": [
    "#Sorbitol via PTS\n",
    "model.add_metabolites(Metabolite(id='sbt__D_e'))"
   ]
  },
  {
   "cell_type": "code",
   "execution_count": null,
   "metadata": {},
   "outputs": [],
   "source": [
    "model.metabolites.sbt__D_e.name = model.metabolites.sbt__D_c.name\n",
    "model.metabolites.sbt__D_e.charge= model.metabolites.sbt__D_c.charge\n",
    "model.metabolites.sbt__D_e.formula= model.metabolites.sbt__D_c.formula\n",
    "model.metabolites.sbt__D_e.compartment = 'e'"
   ]
  },
  {
   "cell_type": "code",
   "execution_count": null,
   "metadata": {},
   "outputs": [],
   "source": [
    "model.add_metabolites(Metabolite(id='sbt6p_c'))"
   ]
  },
  {
   "cell_type": "code",
   "execution_count": null,
   "metadata": {},
   "outputs": [],
   "source": [
    "model.metabolites.sbt6p_c.name = 'D-Sorbitol 6-phosphate'\n",
    "model.metabolites.sbt6p_c.formula = 'C6H13O9P'\n",
    "model.metabolites.sbt6p_c.charge = -2\n",
    "model.metabolites.sbt6p_c.annotation = model_e_coli.metabolites.sbt6p_c.annotation\n",
    "model.metabolites.sbt6p_c.compartment = 'c'"
   ]
  },
  {
   "cell_type": "code",
   "execution_count": null,
   "metadata": {},
   "outputs": [],
   "source": [
    "#add pts transport\n",
    "model.add_reaction(Reaction(id='SBTtpts'))"
   ]
  },
  {
   "cell_type": "code",
   "execution_count": null,
   "metadata": {},
   "outputs": [],
   "source": [
    "model.reactions.SBTtpts.name = 'Transport of D-sorbitol via pts'"
   ]
  },
  {
   "cell_type": "code",
   "execution_count": null,
   "metadata": {},
   "outputs": [],
   "source": [
    "model.reactions.SBTtpts.add_metabolites({model.metabolites.pep_c:-1, model.metabolites.sbt__D_e:-1, model.metabolites.pyr_c:1, model.metabolites.sbt6p_c:1, model.metabolites.h_c:1})"
   ]
  },
  {
   "cell_type": "code",
   "execution_count": null,
   "metadata": {},
   "outputs": [],
   "source": [
    "#add sbt6p to f6p_B conversion\n",
    "model.add_reaction(Reaction(id='SBTPD'))"
   ]
  },
  {
   "cell_type": "code",
   "execution_count": null,
   "metadata": {},
   "outputs": [],
   "source": [
    "model.reactions.SBTPD.name = 'Sorbitol-6-phosphate dehydrogenase'\n",
    "model.reactions.SBTPD.annotation = model_e_coli.reactions.SBTPD.annotation\n",
    "model.reactions.SBTPD.bounds = (-1000, 1000)"
   ]
  },
  {
   "cell_type": "code",
   "execution_count": null,
   "metadata": {},
   "outputs": [],
   "source": [
    "model.reactions.SBTPD.add_metabolites({model.metabolites.nad_c:-1, model.metabolites.sbt6p_c:-1, model.metabolites.f6p_B_c:1, model.metabolites.h_c:1, model.metabolites.nadh_c:1})"
   ]
  },
  {
   "cell_type": "code",
   "execution_count": null,
   "metadata": {},
   "outputs": [],
   "source": [
    "#N-acetylglucosamine via PTS\n",
    "model.add_metabolites(Metabolite(id='acgam_e'))"
   ]
  },
  {
   "cell_type": "code",
   "execution_count": null,
   "metadata": {},
   "outputs": [],
   "source": [
    "model.metabolites.acgam_e.name = 'N-Acetyl-D-glucosamine'\n",
    "model.metabolites.acgam_e.formula = 'C8H15NO6'\n",
    "model.metabolites.acgam_e.annotation = model_e_coli.metabolites.acgam_e.annotation\n",
    "model.metabolites.acgam_e.charge = 0\n",
    "model.metabolites.acgam_e.compartment= 'e'"
   ]
  },
  {
   "cell_type": "code",
   "execution_count": null,
   "metadata": {},
   "outputs": [],
   "source": [
    "model.add_reaction(Reaction(id='ACGAMtpts'))"
   ]
  },
  {
   "cell_type": "code",
   "execution_count": null,
   "metadata": {},
   "outputs": [],
   "source": [
    "model.reactions.ACGAMtpts.name = 'Transport of N-Acetyl-D-glucosamine via pts'"
   ]
  },
  {
   "cell_type": "code",
   "execution_count": null,
   "metadata": {},
   "outputs": [],
   "source": [
    "model.reactions.ACGAMtpts.add_metabolites({model.metabolites.acgam_e:-1, model.metabolites.pep_c:-1, model.metabolites.pyr_c:1, model.metabolites.acgam6p_c:1})"
   ]
  },
  {
   "cell_type": "code",
   "execution_count": null,
   "metadata": {},
   "outputs": [],
   "source": [
    "#Arbutin via pts\n",
    "model.metabolites.arbt_e.formula = model.metabolites.arbt_c.formula\n",
    "model.metabolites.arbt_e.name =  model.metabolites.arbt_c.name\n",
    "model.metabolites.arbt_e.charge =  model.metabolites.arbt_c.charge\n",
    "model.metabolites.arbt_e.notes =  model.metabolites.arbt_c.notes\n",
    "model.metabolites.arbt_e.annotation =  model.metabolites.arbt_c.annotation"
   ]
  },
  {
   "cell_type": "code",
   "execution_count": null,
   "metadata": {},
   "outputs": [],
   "source": [
    "model.add_reaction(Reaction(id='ARBTtpts'))"
   ]
  },
  {
   "cell_type": "code",
   "execution_count": null,
   "metadata": {},
   "outputs": [],
   "source": [
    "model.reactions.ARBTtpts.name = 'Transport of arbutin via pts'"
   ]
  },
  {
   "cell_type": "code",
   "execution_count": null,
   "metadata": {},
   "outputs": [],
   "source": [
    "model.reactions.ARBTtpts.add_metabolites({model.metabolites.arbt_e:-1, model.metabolites.pep_c:-1, model.metabolites.pyr_c:1, model.metabolites.arbt6p_c:1,model.metabolites.h_c:1})"
   ]
  },
  {
   "cell_type": "code",
   "execution_count": null,
   "metadata": {},
   "outputs": [],
   "source": [
    "#Salicin via pts\n",
    "model.metabolites.salcn_e.name = 'Salicin'\n",
    "model.metabolites.salcn_e.charge = 0\n",
    "model.metabolites.salcn_e.formula = model.metabolites.salcn_c.formula\n",
    "model.metabolites.salcn_e.notes = model.metabolites.salcn_c.notes\n",
    "model.metabolites.salcn_e.annotation = model.metabolites.salcn_c.annotation"
   ]
  },
  {
   "cell_type": "code",
   "execution_count": null,
   "metadata": {},
   "outputs": [],
   "source": [
    "model.metabolites.salcn6p_c.name = 'Salicin-6-phosphate'"
   ]
  },
  {
   "cell_type": "code",
   "execution_count": null,
   "metadata": {},
   "outputs": [],
   "source": [
    "model.add_reaction(Reaction(id='SALCNtpts'))"
   ]
  },
  {
   "cell_type": "code",
   "execution_count": null,
   "metadata": {},
   "outputs": [],
   "source": [
    "model.reactions.SALCNtpts.add_metabolites({model.metabolites.salcn_e:-1, model.metabolites.salcn6p_c:1, model.metabolites.pep_c:-1, model.metabolites.pyr_c:1})"
   ]
  },
  {
   "cell_type": "markdown",
   "metadata": {},
   "source": [
    "__Maltose__\n",
    "\n",
    "Similar to glucose, for maltose there is reason to believe that there is both an ABC transporter and PTS system present in P. thermoglucosidasius. Thus these will both be added.\n",
    "We need to consider at a later time point that in real-situations one of the two transport systems is predominant in carrying flux. How to include this in the model?"
   ]
  },
  {
   "cell_type": "code",
   "execution_count": null,
   "metadata": {},
   "outputs": [],
   "source": [
    "model.add_metabolites(Metabolite(id='malt_e'))"
   ]
  },
  {
   "cell_type": "code",
   "execution_count": null,
   "metadata": {},
   "outputs": [],
   "source": [
    "model.metabolites.malt_e.name = 'Maltose'\n",
    "model.metabolites.malt_e.formula = 'C12H22O11'\n",
    "model.metabolites.malt_e.charge = 0\n",
    "model.metabolites.malt_e.notes = model.metabolites.malt_c.notes\n",
    "model.metabolites.malt_e.annotation = model_e_coli.metabolites.malt_e.annotation\n",
    "model.metabolites.malt_e.compartment ='e'"
   ]
  },
  {
   "cell_type": "code",
   "execution_count": null,
   "metadata": {},
   "outputs": [],
   "source": [
    "#add ABC first\n",
    "model.add_reaction(Reaction(id='MALTtabc'))"
   ]
  },
  {
   "cell_type": "code",
   "execution_count": null,
   "metadata": {},
   "outputs": [],
   "source": [
    "model.reactions.MALTtabc.name = 'Transport of Matlose via ABC'"
   ]
  },
  {
   "cell_type": "code",
   "execution_count": null,
   "metadata": {},
   "outputs": [],
   "source": [
    "model.reactions.MALTtabc.add_metabolites({model.metabolites.malt_e:-1, model.metabolites.malt_c:1, model.metabolites.atp_c:-1, model.metabolites.adp_c:1, model.metabolites.pi_c:1, model.metabolites.h_c:1, model.metabolites.h2o_c:-1})"
   ]
  },
  {
   "cell_type": "code",
   "execution_count": null,
   "metadata": {},
   "outputs": [],
   "source": [
    "#add PTS reaction\n",
    "model.add_reaction(Reaction(id='MALTtpts'))"
   ]
  },
  {
   "cell_type": "code",
   "execution_count": null,
   "metadata": {},
   "outputs": [],
   "source": [
    "model.reactions.MALTtpts.name = 'Transport of Maltose via PTS'"
   ]
  },
  {
   "cell_type": "code",
   "execution_count": null,
   "metadata": {},
   "outputs": [],
   "source": [
    "model.reactions.MALTtpts.add_metabolites({model.metabolites.malt_e:-1, model.metabolites.malt6p_c:1, model.metabolites.pep_c:-1, model.metabolites.pyr_c:1})"
   ]
  },
  {
   "cell_type": "code",
   "execution_count": null,
   "metadata": {},
   "outputs": [],
   "source": [
    "#Trehalose via PTS\n",
    "model.metabolites.tre_c.name = 'Trehalose'"
   ]
  },
  {
   "cell_type": "code",
   "execution_count": null,
   "metadata": {},
   "outputs": [],
   "source": [
    "model.metabolites.tre_e.name = 'Trehalose'\n",
    "model.metabolites.tre_e.formula = 'C12H22O11'\n",
    "model.metabolites.tre_e.annotation = model.metabolites.tre_c.annotation\n",
    "model.metabolites.tre_e.notes = model.metabolites.tre_c.notes\n",
    "model.metabolites.tre_e.charge = 0"
   ]
  },
  {
   "cell_type": "code",
   "execution_count": null,
   "metadata": {},
   "outputs": [],
   "source": [
    "model.add_reaction(Reaction(id='TREtpts'))"
   ]
  },
  {
   "cell_type": "code",
   "execution_count": null,
   "metadata": {},
   "outputs": [],
   "source": [
    "model.reactions.TREtpts.name = ' Transport of Trehalose via PTS'"
   ]
  },
  {
   "cell_type": "code",
   "execution_count": null,
   "metadata": {},
   "outputs": [],
   "source": [
    "model.reactions.TREtpts.add_metabolites({model.metabolites.tre_e:-1, model.metabolites.pep_c:-1, model.metabolites.pyr_c:1, model.metabolites.tre6p_c:1})"
   ]
  },
  {
   "cell_type": "code",
   "execution_count": null,
   "metadata": {},
   "outputs": [],
   "source": [
    "#save&commit\n",
    "cobra.io.write_sbml_model(model,'../model/g-thermo.xml')"
   ]
  },
  {
   "cell_type": "markdown",
   "metadata": {},
   "source": [
    "## Passive transport\n",
    "I have now incorporated all transport reactions where there is experimental evidence of growth and bioinformatic indication of what type of transport is present. \n",
    "However, in Beata's thesis there are still additional sugars that the strain has been shown to grow on, however there is no clarity regarding the transport type. For these reactions I will add a passive transport into the cell. I will also add a note that they are assumed to be passive transport."
   ]
  },
  {
   "cell_type": "code",
   "execution_count": null,
   "metadata": {},
   "outputs": [],
   "source": [
    "model = cobra.io.read_sbml_model('../model/g-thermo.xml')"
   ]
  },
  {
   "cell_type": "code",
   "execution_count": null,
   "metadata": {},
   "outputs": [],
   "source": [
    "model_e_coli_MG1655 = cameo.load_model('iJO1366')"
   ]
  },
  {
   "cell_type": "markdown",
   "metadata": {},
   "source": [
    "__Rhamnose__\n",
    "\n",
    "I cannot find Rhamnose in the model currently. I will add it, and also its connection to central metabolism according to the information in Beata's thesis. I will add KEGG reactions: R03014, R02437 and R02263. This connects the Rhamnose to DHAP (AKA glycerone phosphate) in central metabolism."
   ]
  },
  {
   "cell_type": "code",
   "execution_count": null,
   "metadata": {},
   "outputs": [],
   "source": [
    "#add Rhamnose\n",
    "model.add_metabolites(Metabolite(id = 'rmn_e'))"
   ]
  },
  {
   "cell_type": "code",
   "execution_count": null,
   "metadata": {},
   "outputs": [],
   "source": [
    "model.metabolites.rmn_e.name = 'L-rhamnose'\n",
    "model.metabolites.rmn_e.formula = 'C6H12O5'\n",
    "model.metabolites.rmn_e.charge = 0\n",
    "model.metabolites.rmn_e.compartment = 'e'\n",
    "model.metabolites.rmn_e.annotation = model_e_coli_MG1655.metabolites.rmn_e.annotation"
   ]
  },
  {
   "cell_type": "code",
   "execution_count": null,
   "metadata": {},
   "outputs": [],
   "source": [
    "model.add_metabolites(Metabolite(id = 'rmn_c'))"
   ]
  },
  {
   "cell_type": "code",
   "execution_count": null,
   "metadata": {},
   "outputs": [],
   "source": [
    "model.metabolites.rmn_c.name = 'L-rhamnose'\n",
    "model.metabolites.rmn_c.formula = 'C6H12O5'\n",
    "model.metabolites.rmn_c.charge = 0\n",
    "model.metabolites.rmn_c.compartment = 'c'\n",
    "model.metabolites.rmn_c.annotation = model_e_coli_MG1655.metabolites.rmn_c.annotation"
   ]
  },
  {
   "cell_type": "code",
   "execution_count": null,
   "metadata": {},
   "outputs": [],
   "source": [
    "#add passive transport reaction\n",
    "model.add_reaction(Reaction(id='RMNt'))"
   ]
  },
  {
   "cell_type": "code",
   "execution_count": null,
   "metadata": {},
   "outputs": [],
   "source": [
    "model.reactions.RMNt.name = 'Transport of L-rhamnose passively'\n",
    "model.reactions.RMNt.notes['NOTES'] = 'Assumed passive transport'\n",
    "model.reactions.RMNt.bounds = (-1000,1000)"
   ]
  },
  {
   "cell_type": "code",
   "execution_count": null,
   "metadata": {},
   "outputs": [],
   "source": [
    "model.reactions.RMNt.add_metabolites({model.metabolites.rmn_e:-1, model.metabolites.rmn_c:1})"
   ]
  },
  {
   "cell_type": "code",
   "execution_count": null,
   "metadata": {},
   "outputs": [],
   "source": [
    "#add converion to rhamnulose (R02437)\n",
    "#first and L-rhamnulose met\n",
    "model.add_metabolites(Metabolite(id='rml_c'))"
   ]
  },
  {
   "cell_type": "code",
   "execution_count": null,
   "metadata": {},
   "outputs": [],
   "source": [
    "model.metabolites.rml_c.name = 'L-Rhamnulose'\n",
    "model.metabolites.rml_c.formula = 'C6H12O5'\n",
    "model.metabolites.rml_c.charge = 0\n",
    "model.metabolites.rml_c.compartment = 'c'\n",
    "model.metabolites.rml_c.annotation = model_e_coli_MG1655.metabolites.rml_c.annotation"
   ]
  },
  {
   "cell_type": "code",
   "execution_count": null,
   "metadata": {},
   "outputs": [],
   "source": [
    "#add reaction R02437\n",
    "model.add_reaction(model_e_coli_MG1655.reactions.RMI)"
   ]
  },
  {
   "cell_type": "code",
   "execution_count": null,
   "metadata": {},
   "outputs": [],
   "source": [
    "model.reactions.RMI.gene_reaction_rule = ''"
   ]
  },
  {
   "cell_type": "code",
   "execution_count": null,
   "metadata": {},
   "outputs": [],
   "source": [
    "#add reaction R03014\n",
    "#add L-rhamnulose-1-phosphate first\n",
    "model.add_metabolites(Metabolite(id='rml1p_c'))"
   ]
  },
  {
   "cell_type": "code",
   "execution_count": null,
   "metadata": {},
   "outputs": [],
   "source": [
    "model.metabolites.rml1p_c.name = 'L-Rhamnulose 1-phosphate'\n",
    "model.metabolites.rml1p_c.formula = 'C6H11O8P'\n",
    "model.metabolites.rml1p_c.charge = -1\n",
    "model.metabolites.rml1p_c.compartment = 'c'\n",
    "model.metabolites.rml1p_c.annotation = model_e_coli_MG1655.metabolites.rml1p_c.annotation"
   ]
  },
  {
   "cell_type": "code",
   "execution_count": null,
   "metadata": {},
   "outputs": [],
   "source": [
    "#add R03014\n",
    "model.add_reaction(model_e_coli_MG1655.reactions.RMK)"
   ]
  },
  {
   "cell_type": "code",
   "execution_count": null,
   "metadata": {},
   "outputs": [],
   "source": [
    "model.reactions.RMK.gene_reaction_rule = ''"
   ]
  },
  {
   "cell_type": "code",
   "execution_count": null,
   "metadata": {},
   "outputs": [],
   "source": [
    "#add R02263\n",
    "model.add_reaction(model_e_coli_MG1655.reactions.RMPA)"
   ]
  },
  {
   "cell_type": "code",
   "execution_count": null,
   "metadata": {},
   "outputs": [],
   "source": [
    "model.reactions.RMPA.gene_reaction_rule = ''"
   ]
  },
  {
   "cell_type": "markdown",
   "metadata": {},
   "source": [
    "__Melibiose__"
   ]
  },
  {
   "cell_type": "code",
   "execution_count": null,
   "metadata": {},
   "outputs": [],
   "source": [
    "model.metabolites.meli_c.id = 'melib_c'"
   ]
  },
  {
   "cell_type": "code",
   "execution_count": null,
   "metadata": {},
   "outputs": [],
   "source": [
    "model.add_metabolites(Metabolite(id='melib_e'))"
   ]
  },
  {
   "cell_type": "code",
   "execution_count": null,
   "metadata": {},
   "outputs": [],
   "source": [
    "model.metabolites.melib_e.name = 'Melibiose'\n",
    "model.metabolites.melib_e.formula = 'C12H22O11'\n",
    "model.metabolites.melib_e.charge = 0\n",
    "model.metabolites.melib_e.compartment = 'e'\n",
    "model.metabolites.melib_e.annotation = model_e_coli_MG1655.metabolites.melib_e.annotation"
   ]
  },
  {
   "cell_type": "code",
   "execution_count": null,
   "metadata": {},
   "outputs": [],
   "source": [
    "model.add_reaction(Reaction(id='MELIBt'))"
   ]
  },
  {
   "cell_type": "code",
   "execution_count": null,
   "metadata": {},
   "outputs": [],
   "source": [
    "model.reactions.MELIBt.name = 'Transport of Melibiose via passive transport'\n",
    "model.reactions.MELIBt.notes['NOTES'] = 'Assumed passive transport'\n",
    "model.reactions.MELIBt.bounds = (-1000,1000)\n"
   ]
  },
  {
   "cell_type": "code",
   "execution_count": null,
   "metadata": {},
   "outputs": [],
   "source": [
    "model.reactions.MELIBt.add_metabolites({model.metabolites.melib_e:-1, model.metabolites.melib_c:1})"
   ]
  },
  {
   "cell_type": "markdown",
   "metadata": {},
   "source": [
    "__Gentiobiose__\n",
    "\n",
    "Gentiobiose (Kegg: C08240) is the same as amygdalin. It consists of two D-glucose units joined with a β(1->6) linkage. To incorporate this into the model, I Will transport gentiobiose into the cell and cleave it into two D-glucose units. "
   ]
  },
  {
   "cell_type": "code",
   "execution_count": null,
   "metadata": {},
   "outputs": [],
   "source": [
    "#add Gentiobiose\n",
    "model.add_metabolites(Metabolite(id='gtbi_e'))\n",
    "model.add_metabolites(Metabolite(id='gtbi_c'))"
   ]
  },
  {
   "cell_type": "code",
   "execution_count": null,
   "metadata": {},
   "outputs": [],
   "source": [
    "model.metabolites.gtbi_e.name = 'Gentiobiose'\n",
    "model.metabolites.gtbi_e.formula = 'C12H22O11'\n",
    "model.metabolites.gtbi_e.charge = 0\n",
    "model.metabolites.gtbi_e.compartment = 'e'\n",
    "model.metabolites.gtbi_e.notes['KEGG'] = 'C08240'"
   ]
  },
  {
   "cell_type": "code",
   "execution_count": null,
   "metadata": {},
   "outputs": [],
   "source": [
    "model.metabolites.gtbi_c.name = 'Gentiobiose'\n",
    "model.metabolites.gtbi_c.formula = 'C12H22O11'\n",
    "model.metabolites.gtbi_c.charge = 0\n",
    "model.metabolites.gtbi_c.compartment = 'c'\n",
    "model.metabolites.gtbi_c.notes['KEGG'] = 'C08240'"
   ]
  },
  {
   "cell_type": "code",
   "execution_count": null,
   "metadata": {},
   "outputs": [],
   "source": [
    "model.add_reaction(Reaction(id='GTBIt'))"
   ]
  },
  {
   "cell_type": "code",
   "execution_count": null,
   "metadata": {},
   "outputs": [],
   "source": [
    "model.reactions.GTBIt.name = 'Transport of gentiobiose'\n",
    "model.reactions.GTBIt.notes['NOTES'] = 'Assumed passive transport'\n",
    "model.reactions.GTBIt.bounds = (-1000,1000)"
   ]
  },
  {
   "cell_type": "code",
   "execution_count": null,
   "metadata": {},
   "outputs": [],
   "source": [
    "model.reactions.GTBIt.add_metabolites({model.metabolites.gtbi_e:-1, model.metabolites.gtbi_c:1})"
   ]
  },
  {
   "cell_type": "code",
   "execution_count": null,
   "metadata": {},
   "outputs": [],
   "source": [
    "#then connect gtbi_c to glucose\n",
    "model.add_reaction(Reaction(id ='GTBIHY'))"
   ]
  },
  {
   "cell_type": "code",
   "execution_count": null,
   "metadata": {},
   "outputs": [],
   "source": [
    "model.reactions.GTBIHY.name = 'Hydrolysis of Gentiobiose'\n",
    "model.reactions.GTBIHY.notes['NOTES'] = 'Assumed reaction'"
   ]
  },
  {
   "cell_type": "code",
   "execution_count": null,
   "metadata": {},
   "outputs": [],
   "source": [
    "model.reactions.GTBIHY.add_metabolites({model.metabolites.gtbi_c:-1, model.metabolites.glc__D_c:2, model.metabolites.h2o_c:-1})"
   ]
  },
  {
   "cell_type": "code",
   "execution_count": null,
   "metadata": {},
   "outputs": [],
   "source": [
    "cobra.io.write_sbml_model(model,'../model/g-thermo.xml')"
   ]
  },
  {
   "cell_type": "markdown",
   "metadata": {},
   "source": [
    "__D-turanose__\n",
    "\n",
    "Kegg: C19636, AKA α-d-glucopyranosyl-(1→3)-α-d-fructofuranose\n",
    "\n",
    "D-turanose is an isomer of D-sucrose and is hydrolyzed into D-fructose and D-glucose."
   ]
  },
  {
   "cell_type": "code",
   "execution_count": null,
   "metadata": {},
   "outputs": [],
   "source": [
    "model = cobra.io.read_sbml_model('../model/g-thermo.xml')"
   ]
  },
  {
   "cell_type": "code",
   "execution_count": null,
   "metadata": {},
   "outputs": [],
   "source": [
    "#add turanose\n",
    "model.add_metabolites(Metabolite(id='tura_c'))\n",
    "model.add_metabolites(Metabolite(id='tura_e'))"
   ]
  },
  {
   "cell_type": "code",
   "execution_count": null,
   "metadata": {},
   "outputs": [],
   "source": [
    "model.metabolites.tura_c.name = 'D-Turanose'\n",
    "model.metabolites.tura_c.formula = 'C12H22O11'\n",
    "model.metabolites.tura_c.charge = 0\n",
    "model.metabolites.tura_c.compartment = 'c'\n",
    "model.metabolites.tura_c.notes['KEGG'] = 'C19636'"
   ]
  },
  {
   "cell_type": "code",
   "execution_count": null,
   "metadata": {},
   "outputs": [],
   "source": [
    "model.metabolites.tura_e.name = 'D-Turanose'\n",
    "model.metabolites.tura_e.formula = 'C12H22O11'\n",
    "model.metabolites.tura_e.charge = 0\n",
    "model.metabolites.tura_e.compartment = 'e'\n",
    "model.metabolites.tura_e.notes['KEGG'] = 'C19636'"
   ]
  },
  {
   "cell_type": "code",
   "execution_count": null,
   "metadata": {},
   "outputs": [],
   "source": [
    "model.add_reaction(Reaction(id='TURAt'))"
   ]
  },
  {
   "cell_type": "code",
   "execution_count": null,
   "metadata": {},
   "outputs": [],
   "source": [
    "model.reactions.TURAt.name = 'Turanose hydrolysis'\n",
    "model.reactions.TURAt.notes['NOTES']='Assumed reaction based on data'"
   ]
  },
  {
   "cell_type": "code",
   "execution_count": null,
   "metadata": {},
   "outputs": [],
   "source": [
    "model.reactions.TURAt.add_metabolites({model.metabolites.tura_e:-1, model.metabolites.tura_c:1})"
   ]
  },
  {
   "cell_type": "code",
   "execution_count": null,
   "metadata": {},
   "outputs": [],
   "source": [
    "#add turanose hydrolysis\n",
    "model.add_reaction(Reaction(id='TURAHY'))"
   ]
  },
  {
   "cell_type": "code",
   "execution_count": null,
   "metadata": {},
   "outputs": [],
   "source": [
    "model.reactions.TURAHY.name = 'Hydrolysis of Turanose'\n",
    "model.reactions.TURAHY.notes['NOTES'] = 'Assumed reactions based on data'"
   ]
  },
  {
   "cell_type": "code",
   "execution_count": null,
   "metadata": {},
   "outputs": [],
   "source": [
    "model.reactions.TURAHY.add_metabolites({model.metabolites.tura_c:-1, model.metabolites.h2o_c:-1, model.metabolites.glc__D_c:1, model.metabolites.fru_c:1})"
   ]
  },
  {
   "cell_type": "code",
   "execution_count": null,
   "metadata": {},
   "outputs": [],
   "source": [
    "cobra.io.write_sbml_model(model,'../model/g-thermo.xml')"
   ]
  },
  {
   "cell_type": "markdown",
   "metadata": {},
   "source": [
    "__2-ketogluconate__\n",
    "\n",
    "Kegg:C06473\n",
    "\n",
    "Our strain has no annotated conversion route explaining the possible catabolism. So again here I have to do a bit further search into literature and do some BLAST again. \n",
    "\n",
    "\n",
    "*B. subtilis* has a yvcT protein, a  2-ketogluconate reductase. A tBLASTn of this sequence leads to a significant hit with 46.44% identity, locus tag BCV53_00225, protein ID: ANZ28678.1. Therefore, one would assume that this may be the way our strain can grow on 2-ketogluconate. So I will add this reaction. We will assume passive transport into the cell."
   ]
  },
  {
   "cell_type": "code",
   "execution_count": null,
   "metadata": {},
   "outputs": [],
   "source": [
    "#add metabolites\n",
    "model.add_metabolites(Metabolite(id='kdg2_e'))"
   ]
  },
  {
   "cell_type": "code",
   "execution_count": null,
   "metadata": {},
   "outputs": [],
   "source": [
    "model.metabolites.kdg2_e.name = '2-Keto-D-gluconic acid'\n",
    "model.metabolites.kdg2_e.formula = 'C6H9O7'\n",
    "model.metabolites.kdg2_e.charge = -1\n",
    "model.metabolites.kdg2_e.notes['KEGG'] = 'C06473'\n",
    "model.metabolites.kdg2_e.compartment = 'e'"
   ]
  },
  {
   "cell_type": "code",
   "execution_count": null,
   "metadata": {},
   "outputs": [],
   "source": [
    "model.add_metabolites(Metabolite(id='kdg2_c'))"
   ]
  },
  {
   "cell_type": "code",
   "execution_count": null,
   "metadata": {},
   "outputs": [],
   "source": [
    "model.metabolites.kdg2_c.name = '2-Keto-D-gluconic acid'\n",
    "model.metabolites.kdg2_c.formula = 'C6H9O7'\n",
    "model.metabolites.kdg2_c.charge = -1\n",
    "model.metabolites.kdg2_c.notes['KEGG'] = 'C06473'\n",
    "model.metabolites.kdg2_c.compartment = 'c'"
   ]
  },
  {
   "cell_type": "code",
   "execution_count": null,
   "metadata": {},
   "outputs": [],
   "source": [
    "#add transport\n",
    "model.add_reaction(Reaction(id='KDG2t'))"
   ]
  },
  {
   "cell_type": "code",
   "execution_count": null,
   "metadata": {},
   "outputs": [],
   "source": [
    "model.reactions.KDG2t.name = 'Transport of 2-Keto-D-gluconic acid passively'\n",
    "model.reactions.KDG2t.notes['NOTES'] = 'Assumed reaction from experimental data and bioinformatic indication'"
   ]
  },
  {
   "cell_type": "code",
   "execution_count": null,
   "metadata": {},
   "outputs": [],
   "source": [
    "model.reactions.KDG2t.add_metabolites({model.metabolites.kdg2_c:1, model.metabolites.kdg2_e:-1})"
   ]
  },
  {
   "cell_type": "code",
   "execution_count": null,
   "metadata": {},
   "outputs": [],
   "source": [
    "#add R01739 \n",
    "model.add_reaction(Reaction(id='KDG2R'))"
   ]
  },
  {
   "cell_type": "code",
   "execution_count": null,
   "metadata": {},
   "outputs": [],
   "source": [
    "model.reactions.KDG2R.name = '2-Keto-D-gluconic acid reductase'\n",
    "model.reactions.KDG2R.notes['NOTES'] = 'Assumed reaction from experimental data and bioinformatic indication'\n",
    "model.reactions.KDG2R.bounds = (-1000,1000)"
   ]
  },
  {
   "cell_type": "code",
   "execution_count": null,
   "metadata": {},
   "outputs": [],
   "source": [
    "model.reactions.KDG2R.add_metabolites({model.metabolites.glcn__D_c:-1, model.metabolites.nadp_c:-1, model.metabolites.kdg2_c:1, model.metabolites.h_c:1, model.metabolites.nadph_c:1 })"
   ]
  },
  {
   "cell_type": "markdown",
   "metadata": {},
   "source": [
    "__5-ketogluconate__\n",
    "\n",
    "Kegg:C01062\n",
    "\n",
    "From Blast, it seems the strain has a preidcted gluconate 5-dehydrogenase (ANZ30057.1) in its genome, which is likely reversible. This is the only indication I can find how our strain may be able to consume 5-ketogluconate, so will include this in the model."
   ]
  },
  {
   "cell_type": "code",
   "execution_count": null,
   "metadata": {},
   "outputs": [],
   "source": [
    "#add metabolites\n",
    "model.add_metabolites(Metabolite(id='dglcn5_e'))"
   ]
  },
  {
   "cell_type": "code",
   "execution_count": null,
   "metadata": {},
   "outputs": [],
   "source": [
    "model.metabolites.dglcn5_e.name = '5-Dehydro-D-gluconate'\n",
    "model.metabolites.dglcn5_e.formula = 'C6H9O7'\n",
    "model.metabolites.dglcn5_e.charge = -1\n",
    "model.metabolites.dglcn5_e.notes['KEGG'] = 'C01062'\n",
    "model.metabolites.dglcn5_e.compartment = 'e'"
   ]
  },
  {
   "cell_type": "code",
   "execution_count": null,
   "metadata": {},
   "outputs": [],
   "source": [
    "model.add_metabolites(Metabolite(id='dglcn5_c'))"
   ]
  },
  {
   "cell_type": "code",
   "execution_count": null,
   "metadata": {},
   "outputs": [],
   "source": [
    "model.metabolites.dglcn5_c.name = '5-Dehydro-D-gluconate'\n",
    "model.metabolites.dglcn5_c.formula = 'C6H9O7'\n",
    "model.metabolites.dglcn5_c.charge = -1\n",
    "model.metabolites.dglcn5_c.notes['KEGG'] = 'C01062'\n",
    "model.metabolites.dglcn5_c.compartment = 'c'"
   ]
  },
  {
   "cell_type": "code",
   "execution_count": null,
   "metadata": {},
   "outputs": [],
   "source": [
    "#add transport\n",
    "model.add_reaction(Reaction(id='DGLCN5t'))"
   ]
  },
  {
   "cell_type": "code",
   "execution_count": null,
   "metadata": {},
   "outputs": [],
   "source": [
    "model.reactions.DGLCN5t.name = 'Transport of 5-Dehydro-D-gluconate passively'\n",
    "model.reactions.DGLCN5t.notes['NOTES'] = 'Assumed reaction from experimental data and bioinformatic indication'"
   ]
  },
  {
   "cell_type": "code",
   "execution_count": null,
   "metadata": {},
   "outputs": [],
   "source": [
    "model.reactions.DGLCN5t.add_metabolites({model.metabolites.dglcn5_c:1, model.metabolites.dglcn5_e:-1})"
   ]
  },
  {
   "cell_type": "code",
   "execution_count": null,
   "metadata": {},
   "outputs": [],
   "source": [
    "#add the converion to gluconate\n",
    "model.add_reaction(Reaction(id='DGLCN5R'))"
   ]
  },
  {
   "cell_type": "code",
   "execution_count": null,
   "metadata": {},
   "outputs": [],
   "source": [
    "model.reactions.DGLCN5R.name = '5-dehydro-D-gluconate reductase'\n",
    "model.reactions.DGLCN5R.notes['NOTES'] = 'Assumed reaction from experimental data and bioinformatic indication'"
   ]
  },
  {
   "cell_type": "code",
   "execution_count": null,
   "metadata": {},
   "outputs": [],
   "source": [
    "model.reactions.DGLCN5R.add_metabolites({model.metabolites.dglcn5_c:-1, model.metabolites.nadph_c:-1, model.metabolites.h_c:-1, model.metabolites.glcn__D_c:1, model.metabolites.nadp_c:1})"
   ]
  },
  {
   "cell_type": "markdown",
   "metadata": {},
   "source": [
    "__Methyl D-glucopyranoside__\n",
    "Kegg: C03619 , CHEBI:17540\n",
    "\n",
    "B-galactosidase can cleave the Methyl-d-glucopyranoside into glucose and methanol.There is bioinformatic evidence that this enzyme is present in the *P. thermoglucosidasius NCIB11955* genome. The glucose can then be further catabolised. Guo et al. (2019, doi.org/10.1016/j.bmcl.2019.04.025) have shown that*Geobacillus stearothermophilus* DSM 2334 has a NAD dependent methanol dehydrogenase capable of converting methanol into formate. A blast search indicates that *P. thermoglucosidasius* NCIB1955 likely contains a similar enzyme (locus tag = BCV53_03705, protein ID: ANZ29283.1). Therefore it seems reasonable to assume the produced methanol is converted into formaldehyde. The formaldehyde is then further converted by the HPS and PHI enzymes that couple it to the pentose phosphate pathway (see Antoniewicz et al. 2019 (doi:https://doi.org/10.1016/j.copbio). \n",
    "\n",
    "It seems that our strain contains all the genes necessary to perform these conversions (hxlA and hxlB). However, research in *B. subtilis* has shown that though the enzymes are present, they do not allow energy generation and growth on methanol (see Sanishvili et al. 2004, doi:10.1016/j.jsb.2004.04.006 ). Instead they propose these enzymes function as a formaldehyde detoxification system. \n",
    "\n",
    "As there is no ABC transporter found in the genome, we will assume some form of passive transport for now. \n"
   ]
  },
  {
   "cell_type": "code",
   "execution_count": null,
   "metadata": {},
   "outputs": [],
   "source": [
    "model.add_metabolites(Metabolite(id='meoh_c'))\n",
    "model.add_metabolites(Metabolite(id='mdgp_e'))\n",
    "model.add_metabolites(Metabolite(id='mdgp_c'))"
   ]
  },
  {
   "cell_type": "code",
   "execution_count": null,
   "metadata": {},
   "outputs": [],
   "source": [
    "model.metabolites.meoh_c.name = 'Methanol'\n",
    "model.metabolites.meoh_c.formula = 'CH4O'\n",
    "model.metabolites.meoh_c.charge = 0\n",
    "model.metabolites.meoh_c.annotation = model_e_coli_MG1655.metabolites.meoh_c.annotation\n",
    "model.metabolites.meoh_c.compartment = 'c'"
   ]
  },
  {
   "cell_type": "code",
   "execution_count": null,
   "metadata": {},
   "outputs": [],
   "source": [
    "model.metabolites.mdgp_e.name = 'Methyl D-glucopyranoside'\n",
    "model.metabolites.mdgp_e.formula = 'C7H14O6'\n",
    "model.metabolites.mdgp_e.charge = 0\n",
    "model.metabolites.mdgp_e.notes['KEGG'] = 'C03619'\n",
    "model.metabolites.mdgp_e.notes['CheBI'] = '17540'\n",
    "model.metabolites.mdgp_e.compartment = 'e'"
   ]
  },
  {
   "cell_type": "code",
   "execution_count": null,
   "metadata": {},
   "outputs": [],
   "source": [
    "model.metabolites.mdgp_c.name = 'Methyl D-glucopyranoside'\n",
    "model.metabolites.mdgp_c.formula = 'C7H14O6'\n",
    "model.metabolites.mdgp_c.charge = 0\n",
    "model.metabolites.mdgp_c.notes['KEGG'] = 'C03619'\n",
    "model.metabolites.mdgp_c.notes['CheBI'] = '17540'\n",
    "model.metabolites.mdgp_c.compartment = 'c'"
   ]
  },
  {
   "cell_type": "code",
   "execution_count": null,
   "metadata": {},
   "outputs": [],
   "source": [
    "#add transport\n",
    "model.add_reaction(Reaction(id='MDGPt'))"
   ]
  },
  {
   "cell_type": "code",
   "execution_count": null,
   "metadata": {},
   "outputs": [],
   "source": [
    "model.reactions.MDGPt.name = 'Transport of Methyl D-glucopyranoside passively'\n",
    "model.reactions.MDGPt.notes['NOTES'] = 'Assumed reaction from experimental data, though no confirmation on trasnport type'"
   ]
  },
  {
   "cell_type": "code",
   "execution_count": null,
   "metadata": {},
   "outputs": [],
   "source": [
    "model.reactions.MDGPt.add_metabolites({model.metabolites.mdgp_e:-1, model.metabolites.mdgp_c:1})"
   ]
  },
  {
   "cell_type": "code",
   "execution_count": null,
   "metadata": {},
   "outputs": [],
   "source": [
    "#add b-galactosidase reaction\n",
    "model.add_reaction(Reaction(id='BGAL'))"
   ]
  },
  {
   "cell_type": "code",
   "execution_count": null,
   "metadata": {},
   "outputs": [],
   "source": [
    "model.reactions.BGAL.name = 'methyl-beta-galactosidase'\n",
    "model.reactions.BGAL.notes['NOTES'] = 'Assumed reaction from experimental data. This is a side reaction of the normal B-galactosidase'"
   ]
  },
  {
   "cell_type": "code",
   "execution_count": null,
   "metadata": {},
   "outputs": [],
   "source": [
    "model.reactions.BGAL.add_metabolites({model.metabolites.mdgp_c:-1, model.metabolites.h2o_c:-1, model.metabolites.meoh_c:1, model.metabolites.glc__D_c:1})"
   ]
  },
  {
   "cell_type": "code",
   "execution_count": null,
   "metadata": {},
   "outputs": [],
   "source": [
    "#add dehydrogenase reaction\n",
    "model.add_reaction(Reaction(id='ALCD1'))"
   ]
  },
  {
   "cell_type": "code",
   "execution_count": null,
   "metadata": {},
   "outputs": [],
   "source": [
    "model.reactions.ALCD1.name = 'NAD-dependent Methanol dehydrogenase'\n",
    "model.reactions.ALCD1.notes['KEGG'] = 'R00605'\n",
    "model.reactions.ALCD1.notes['ENZYME'] = '1.1.1.244'\n",
    "model.reactions.ALCD1.bounds = (-1000,1000)"
   ]
  },
  {
   "cell_type": "code",
   "execution_count": null,
   "metadata": {},
   "outputs": [],
   "source": [
    "model.reactions.ALCD1.add_metabolites({model.metabolites.meoh_c:-1, model.metabolites.nad_c:-1, model.metabolites.nadh_c:1, model.metabolites.fald_c:1, model.metabolites.h_c:1})"
   ]
  },
  {
   "cell_type": "code",
   "execution_count": null,
   "metadata": {},
   "outputs": [],
   "source": [
    "#later i will fix these double sugars, but AH6PI should be the proper bigg ID, so i just switch this around here. \n",
    "model.reactions.AH6PI.add_metabolites({model.metabolites.f6p_B_c:1, model.metabolites.f6p_k_c:-1})\n",
    "model.reactions.AH6PISO.add_metabolites({model.metabolites.f6p_B_c:-1, model.metabolites.f6p_k_c:1})"
   ]
  },
  {
   "cell_type": "markdown",
   "metadata": {},
   "source": []
  },
  {
   "cell_type": "markdown",
   "metadata": {},
   "source": [
    "__D-tagatose__\n",
    "\n",
    "Kegg: C00795\n",
    "\n",
    "There is experimental evidence that the strain can grow on D-tagatose. Bioinformatic analysis is less clear about howt his tagatose can be imported and catabolized into central carbon metabolism.\n",
    "Automatic annotation of *P. thermoglucosidasius* NCIB 11955 shows that the 6-phosphofructokinase that can convert tagatose-1-phosphate into tagatose-1,6-bisphosphate is present. But not the PTS system or kinasae to form the tagatose6-phosphate, or aldolase to convert tagatose-1,6-bisphosphate into Glyceraldehyde3phosphate and Dihydroxyacetone phosphate. So for those we need to look further into literature.\n",
    "\n",
    "A paper by van der Heiden et al. (2013, doi:10.1128/AEM.03918-12 ) looks into the operon responsible for D-tagatose catabolism in *Bacillus licheniformis*. I did a tBLASTn of the different proteins found and confirmed to be responsible for tagatose catabolism in *B. licheniformis*, and found that for each of the five proteins a significant hit could be found in our strains genome. The arrangment seems to be a bit different, but this combined with the experimental growth observes leads me to believe this is the likely pathway that *P. thermoglucosidasius* can grow on D-tagatose. I will encorporate it into the pathway. I will mention the protein acension number according to NCIB at which the sequence can be found."
   ]
  },
  {
   "cell_type": "code",
   "execution_count": null,
   "metadata": {},
   "outputs": [],
   "source": [
    "#Encroporate PTS of D-tagatose into the cell\n",
    "#first add metabolites\n",
    "model.add_metabolites(Metabolite(id='tag__D_e'))"
   ]
  },
  {
   "cell_type": "code",
   "execution_count": null,
   "metadata": {},
   "outputs": [],
   "source": [
    "model.metabolites.tag__D_e.name = 'D-tagatose'\n",
    "model.metabolites.tag__D_e.formula = 'C6H12O6'\n",
    "model.metabolites.tag__D_e.charge = 0\n",
    "model.metabolites.tag__D_e.compartment = 'e'\n",
    "model.metabolites.tag__D_e.notes['KEGG'] = 'C00795'"
   ]
  },
  {
   "cell_type": "code",
   "execution_count": null,
   "metadata": {},
   "outputs": [],
   "source": [
    "model.add_metabolites(Metabolite(id='tag1p__D_c'))"
   ]
  },
  {
   "cell_type": "code",
   "execution_count": null,
   "metadata": {},
   "outputs": [],
   "source": [
    "model.metabolites.tag1p__D_c.name = 'D-Tagatose 1-phosphate'\n",
    "model.metabolites.tag1p__D_c.formula = 'C6H11O9P'\n",
    "model.metabolites.tag1p__D_c.charge = -2\n",
    "model.metabolites.tag1p__D_c.compartment = 'c'\n",
    "model.metabolites.tag1p__D_c.notes = ''"
   ]
  },
  {
   "cell_type": "code",
   "execution_count": null,
   "metadata": {},
   "outputs": [],
   "source": [
    "#add PTS transport (Protein ascension:ANZ30704.1)\n",
    "model.add_reaction(Reaction(id='TAGtpts'))"
   ]
  },
  {
   "cell_type": "code",
   "execution_count": 3,
   "metadata": {},
   "outputs": [],
   "source": [
    "model.reactions.TAGtpts.name = 'Transport of tag__D via PTS'\n",
    "model.reactions.TAGtpts.notes['COMMENTS'] = 'Assumed reaction from experimental data and bioinformatic indication.'\n",
    "model.reactions.TAGtpts.gene_reaction_rule = ''"
   ]
  },
  {
   "cell_type": "code",
   "execution_count": null,
   "metadata": {},
   "outputs": [],
   "source": [
    "model.reactions.TAGtpts.add_metabolites({model.metabolites.tag__D_e:-1, model.metabolites.tag1p__D_c:1, model.metabolites.pep_c:-1, model.metabolites.pyr_c:1, model.metabolites.h_c:1})"
   ]
  },
  {
   "cell_type": "code",
   "execution_count": null,
   "metadata": {},
   "outputs": [],
   "source": [
    "#next add the Tag1,6,bisphosphate met and the reaction to form it\n",
    "model.add_metabolites(Metabolite(id='tagdp__D_c'))"
   ]
  },
  {
   "cell_type": "code",
   "execution_count": null,
   "metadata": {},
   "outputs": [],
   "source": [
    "model.metabolites.tagdp__D_c.name = 'D-Tagatose 1,6-bisphosphate'\n",
    "model.metabolites.tagdp__D_c.formula = 'C6H12O12P2'\n",
    "model.metabolites.tagdp__D_c.charge = -2\n",
    "model.metabolites.tagdp__D_c.compartment = 'c'\n",
    "model.metabolites.tagdp__D_c.annotation['kegg.compound'] = 'C03785'"
   ]
  },
  {
   "cell_type": "code",
   "execution_count": null,
   "metadata": {},
   "outputs": [],
   "source": [
    "#NCBI Protein ascension:ANZ30703.1\n",
    "model.add_reaction(Reaction(id='TAG1PK'))"
   ]
  },
  {
   "cell_type": "code",
   "execution_count": null,
   "metadata": {},
   "outputs": [],
   "source": [
    "model.reactions.TAG1PK.name = 'D-Tagatose-1-phosphate kinase'\n",
    "model.reactions.TAG1PK.notes['COMMENTS'] = 'Assumed reaction from experimental data and bioinformatic indication'"
   ]
  },
  {
   "cell_type": "code",
   "execution_count": null,
   "metadata": {},
   "outputs": [],
   "source": [
    "model.reactions.TAG1PK.add_metabolites({model.metabolites.tag1p__D_c:-1, model.metabolites.tagdp__D_c:1, model.metabolites.atp_c:-1, model.metabolites.adp_c:1, model.metabolites.h_c:-1})"
   ]
  },
  {
   "cell_type": "code",
   "execution_count": null,
   "metadata": {},
   "outputs": [],
   "source": [
    "#Add the aldolase reaction to DHAP + G3P\n",
    "#NCBI Protein ascension: ANZ29272.1\n",
    "model.add_reaction(Reaction(id='TGBPA'))"
   ]
  },
  {
   "cell_type": "code",
   "execution_count": null,
   "metadata": {},
   "outputs": [],
   "source": [
    "model.reactions.TGBPA = model_e_coli_MG1655.reactions.TGBPA"
   ]
  },
  {
   "cell_type": "code",
   "execution_count": null,
   "metadata": {},
   "outputs": [],
   "source": [
    "model.reactions.TGBPA.gene_reaction_rule = ''"
   ]
  },
  {
   "cell_type": "code",
   "execution_count": null,
   "metadata": {},
   "outputs": [],
   "source": [
    "cobra.io.write_sbml_model(model,'../model/g-thermo.xml')"
   ]
  },
  {
   "cell_type": "markdown",
   "metadata": {},
   "source": [
    "In the meantime, i also noticed that the THMt transport is currently passive, though should be active accorind go the ABC transporter that has been identified in the genome for it. I Will fix this here."
   ]
  },
  {
   "cell_type": "code",
   "execution_count": null,
   "metadata": {},
   "outputs": [],
   "source": [
    "model.metabolites.thm_e.name = 'Thiamin'"
   ]
  },
  {
   "cell_type": "code",
   "execution_count": null,
   "metadata": {},
   "outputs": [],
   "source": [
    "model.reactions.THMt.add_metabolites({model.metabolites.h2o_c:-1, model.metabolites.atp_c:-1, model.metabolites.adp_c:1, model.metabolites.pi_c:1, model.metabolites.h_c:1})"
   ]
  },
  {
   "cell_type": "code",
   "execution_count": null,
   "metadata": {
    "scrolled": true
   },
   "outputs": [],
   "source": [
    "model.reactions.THMt.check_mass_balance()"
   ]
  },
  {
   "cell_type": "code",
   "execution_count": null,
   "metadata": {},
   "outputs": [],
   "source": [
    "#save&commit\n",
    "cobra.io.write_sbml_model(model,'../model/g-thermo.xml')"
   ]
  },
  {
   "cell_type": "markdown",
   "metadata": {},
   "source": [
    "## Demand reactions\n",
    "in the above script, I have added some new extracellular metabolites. For these it is imporant that we create demand reactions."
   ]
  },
  {
   "cell_type": "code",
   "execution_count": null,
   "metadata": {},
   "outputs": [],
   "source": [
    "model= cobra.io.read_sbml_model('../model/g-thermo.xml')"
   ]
  },
  {
   "cell_type": "code",
   "execution_count": 16,
   "metadata": {},
   "outputs": [],
   "source": [
    "#make a list of extracellular metabolites\n",
    "extracellular_mets = []\n",
    "for met in model.metabolites:\n",
    "    if met.id[-1:] in 'e':\n",
    "        extracellular_mets.append(met)\n",
    "    else: \n",
    "        continue"
   ]
  },
  {
   "cell_type": "code",
   "execution_count": 17,
   "metadata": {},
   "outputs": [
    {
     "data": {
      "text/plain": [
       "166"
      ]
     },
     "execution_count": 17,
     "metadata": {},
     "output_type": "execute_result"
    }
   ],
   "source": [
    "len(extracellular_mets)"
   ]
  },
  {
   "cell_type": "code",
   "execution_count": 18,
   "metadata": {},
   "outputs": [
    {
     "data": {
      "text/plain": [
       "151"
      ]
     },
     "execution_count": 18,
     "metadata": {},
     "output_type": "execute_result"
    }
   ],
   "source": [
    "len(model.exchanges)"
   ]
  },
  {
   "cell_type": "markdown",
   "metadata": {},
   "source": [
    "So we need to add 14 demand reactions for the new extracellular metabolites I've created."
   ]
  },
  {
   "cell_type": "code",
   "execution_count": 19,
   "metadata": {},
   "outputs": [
    {
     "data": {
      "text/plain": [
       "151"
      ]
     },
     "execution_count": 19,
     "metadata": {},
     "output_type": "execute_result"
    }
   ],
   "source": [
    "#make a list of the metabolites that have an exchange\n",
    "exchanged_mets = []\n",
    "for rct in model.exchanges:\n",
    "    met_dict = rct.metabolites\n",
    "    met_id = list(met_dict)[0].id\n",
    "    exchanged_mets.append(met_id)\n",
    "len(exchanged_mets)"
   ]
  },
  {
   "cell_type": "code",
   "execution_count": 20,
   "metadata": {},
   "outputs": [
    {
     "data": {
      "text/plain": [
       "17"
      ]
     },
     "execution_count": 20,
     "metadata": {},
     "output_type": "execute_result"
    }
   ],
   "source": [
    "#list metabolites without demand\n",
    "mets_wo_exch =[]\n",
    "for met in extracellular_mets:\n",
    "    if met.id in exchanged_mets:\n",
    "        continue\n",
    "    else:\n",
    "        mets_wo_exch.append(met.id)\n",
    "len(mets_wo_exch)"
   ]
  },
  {
   "cell_type": "code",
   "execution_count": 22,
   "metadata": {},
   "outputs": [],
   "source": [
    "#add demand reactions for each \n",
    "for met in model.metabolites:\n",
    "    if met.id in mets_wo_exch:\n",
    "        met_id = met.id\n",
    "        rct_id = f\"EX_{met_id}\"\n",
    "        model.add_boundary(met, type ='demand', reaction_id = rct_id)\n",
    "        model.reactions.get_by_id(rct_id).bounds = (0,1000)\n",
    "    else: \n",
    "        continue"
   ]
  },
  {
   "cell_type": "code",
   "execution_count": 23,
   "metadata": {},
   "outputs": [],
   "source": [
    "#save&commit\n",
    "cobra.io.write_sbml_model(model,'../model/g-thermo.xml')"
   ]
  },
  {
   "cell_type": "markdown",
   "metadata": {},
   "source": [
    "__Gluconate__: There is no experimental evidence that our strain can grow on gluconate, even though Brumm et al. may propose some bioinformatic evidence for it. For now, I will not include gluconate transport into the strain as experimental data should be reflected in the model.\n"
   ]
  },
  {
   "cell_type": "markdown",
   "metadata": {},
   "source": [
    "__Starch__: Beata's thesis shows our strain can grow on starch. Starch can also be formed from the hydrolysis of amylose.It is proposed the starch is converted to dextrin and then into a-D-glucose (for simplicity of the model, just D-glucose). As starch is a large polymer, it would be expected to be degraded extracellularly, after which the dextrin is taken up and converted further. However, as the amylose is also connected into the metabolism currently intracellularly, and the uptake of dextrin is passive anyway, I will just contain the reactions within the cell. "
   ]
  },
  {
   "cell_type": "code",
   "execution_count": 117,
   "metadata": {},
   "outputs": [],
   "source": [
    "model = cobra.io.read_sbml_model('../model/g-thermo.xml')"
   ]
  },
  {
   "cell_type": "code",
   "execution_count": 118,
   "metadata": {},
   "outputs": [],
   "source": [
    "model.metabolites.Dextrin.id = 'dextrin_c'"
   ]
  },
  {
   "cell_type": "code",
   "execution_count": 119,
   "metadata": {},
   "outputs": [],
   "source": [
    "model.metabolites.dextrin_c.formula = 'C12H22O11'"
   ]
  },
  {
   "cell_type": "code",
   "execution_count": 120,
   "metadata": {},
   "outputs": [],
   "source": [
    "model.add_metabolites(Metabolite(id='amylose_e'))"
   ]
  },
  {
   "cell_type": "code",
   "execution_count": 121,
   "metadata": {},
   "outputs": [],
   "source": [
    "model.metabolites.amylose_e.name = 'Amylose'\n",
    "model.metabolites.amylose_e.charge = 0\n",
    "model.metabolites.amylose_e.compartment = 'e'\n",
    "model.metabolites.amylose_e.formula = model.metabolites.amylose_c.formula"
   ]
  },
  {
   "cell_type": "markdown",
   "metadata": {},
   "source": [
    "Amylose is of course a long, complex polymer. This makes it difficult to be contained in the model. So for simplicity, I will show amylose as two starch units, and starch is just converted into dextrin. The dextrin is then converted into two glucose molecules. These numbers are ofcourse a bit complex to represent, but when one considers the input of amylose or starch into the system this can be corrected for. "
   ]
  },
  {
   "cell_type": "code",
   "execution_count": 122,
   "metadata": {
    "scrolled": true
   },
   "outputs": [],
   "source": [
    "model.metabolites.starch_c.formula = 'C12H22O11'"
   ]
  },
  {
   "cell_type": "code",
   "execution_count": 123,
   "metadata": {},
   "outputs": [],
   "source": [
    "model.metabolites.amylose_c.formula = 'C24H42O21'"
   ]
  },
  {
   "cell_type": "code",
   "execution_count": 124,
   "metadata": {},
   "outputs": [],
   "source": [
    "model.reactions.AMYTRANS.add_metabolites({model.metabolites.h2o_c:-1, model.metabolites.starch_c:1})"
   ]
  },
  {
   "cell_type": "code",
   "execution_count": 125,
   "metadata": {},
   "outputs": [],
   "source": [
    "model.add_reaction(Reaction(id='AMYt'))"
   ]
  },
  {
   "cell_type": "code",
   "execution_count": 126,
   "metadata": {},
   "outputs": [],
   "source": [
    "model.reactions.AMYt.name = 'Transport of Amylose'\n",
    "model.reactions.AMYt.bounds = (0,1000)"
   ]
  },
  {
   "cell_type": "code",
   "execution_count": 127,
   "metadata": {},
   "outputs": [],
   "source": [
    "model.reactions.AMYt.add_metabolites({model.metabolites.amylose_c:1, model.metabolites.amylose_e:-1})"
   ]
  },
  {
   "cell_type": "code",
   "execution_count": 128,
   "metadata": {},
   "outputs": [],
   "source": [
    "model.reactions.STARCHGT.add_metabolites({model.metabolites.glc__D_c:1, model.metabolites.amylose_c:-1, model.metabolites.h2o_c:-1, model.metabolites.h_c:1})"
   ]
  },
  {
   "cell_type": "code",
   "execution_count": 129,
   "metadata": {},
   "outputs": [
    {
     "name": "stderr",
     "output_type": "stream",
     "text": [
      "C:\\Users\\vivmol\\AppData\\Local\\Continuum\\anaconda3\\envs\\g-thermo\\lib\\site-packages\\cobra\\core\\model.py:716: UserWarning:\n",
      "\n",
      "need to pass in a list\n",
      "\n",
      "C:\\Users\\vivmol\\AppData\\Local\\Continuum\\anaconda3\\envs\\g-thermo\\lib\\site-packages\\cobra\\core\\group.py:110: UserWarning:\n",
      "\n",
      "need to pass in a list\n",
      "\n"
     ]
    }
   ],
   "source": [
    "model.remove_reactions(model.reactions.AMYLOSEGT)"
   ]
  },
  {
   "cell_type": "code",
   "execution_count": 130,
   "metadata": {},
   "outputs": [],
   "source": [
    "#our organism doesn't produce amylose, so we can remove this rct\n",
    "model.remove_reactions(model.reactions.ADPGLCGT)"
   ]
  },
  {
   "cell_type": "code",
   "execution_count": 131,
   "metadata": {},
   "outputs": [
    {
     "data": {
      "text/html": [
       "\n",
       "        <table>\n",
       "            <tr>\n",
       "                <td><strong>Reaction identifier</strong></td><td>EX_amylose_e</td>\n",
       "            </tr><tr>\n",
       "                <td><strong>Name</strong></td><td>Amylose demand</td>\n",
       "            </tr><tr>\n",
       "                <td><strong>Memory address</strong></td>\n",
       "                <td>0x02964618f188</td>\n",
       "            </tr><tr>\n",
       "                <td><strong>Stoichiometry</strong></td>\n",
       "                <td>\n",
       "                    <p style='text-align:right'>amylose_e --> </p>\n",
       "                    <p style='text-align:right'>Amylose --> </p>\n",
       "                </td>\n",
       "            </tr><tr>\n",
       "                <td><strong>GPR</strong></td><td></td>\n",
       "            </tr><tr>\n",
       "                <td><strong>Lower bound</strong></td><td>0</td>\n",
       "            </tr><tr>\n",
       "                <td><strong>Upper bound</strong></td><td>1000.0</td>\n",
       "            </tr>\n",
       "        </table>\n",
       "        "
      ],
      "text/plain": [
       "<Reaction EX_amylose_e at 0x2964618f188>"
      ]
     },
     "execution_count": 131,
     "metadata": {},
     "output_type": "execute_result"
    }
   ],
   "source": [
    "#add exchange\n",
    "model.add_boundary(model.metabolites.amylose_e, type = 'demand', reaction_id = 'EX_amylose_e')"
   ]
  },
  {
   "cell_type": "code",
   "execution_count": 132,
   "metadata": {},
   "outputs": [],
   "source": [
    "model.reactions.STARCHHY2.add_metabolites({model.metabolites.h2o_c:1})"
   ]
  },
  {
   "cell_type": "code",
   "execution_count": 133,
   "metadata": {},
   "outputs": [],
   "source": [
    "#starch will not be converted directly, but via dextrin so will fix this\n",
    "model.remove_reactions(model.reactions.STARCHGT)"
   ]
  },
  {
   "cell_type": "code",
   "execution_count": 134,
   "metadata": {},
   "outputs": [],
   "source": [
    "model.reactions.STARCHHY.id = 'DEXHY'"
   ]
  },
  {
   "cell_type": "code",
   "execution_count": 135,
   "metadata": {},
   "outputs": [],
   "source": [
    "model.reactions.DEXHY.add_metabolites({model.metabolites.glc__D_c:2, model.metabolites.glc__aD_c:-1})"
   ]
  },
  {
   "cell_type": "code",
   "execution_count": 136,
   "metadata": {},
   "outputs": [
    {
     "data": {
      "text/plain": [
       "{}"
      ]
     },
     "execution_count": 136,
     "metadata": {},
     "output_type": "execute_result"
    }
   ],
   "source": [
    "model.reactions.DEXHY.check_mass_balance()"
   ]
  },
  {
   "cell_type": "code",
   "execution_count": 138,
   "metadata": {},
   "outputs": [],
   "source": [
    "#save&commit\n",
    "cobra.io.write_sbml_model(model,'../model/g-thermo.xml')"
   ]
  }
 ],
 "metadata": {
  "kernelspec": {
   "display_name": "Python 3",
   "language": "python",
   "name": "python3"
  },
  "language_info": {
   "codemirror_mode": {
    "name": "ipython",
    "version": 3
   },
   "file_extension": ".py",
   "mimetype": "text/x-python",
   "name": "python",
   "nbconvert_exporter": "python",
   "pygments_lexer": "ipython3",
   "version": "3.7.4"
  }
 },
 "nbformat": 4,
 "nbformat_minor": 2
}
