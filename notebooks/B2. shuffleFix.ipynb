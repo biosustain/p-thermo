{
 "cells": [
  {
   "cell_type": "markdown",
   "metadata": {},
   "source": [
    "# Shuffle Fix\n",
    "\n",
    "Fixing shuffling problems in the p-thermo model\n",
    "\n",
    "Benjamín J. Sánchez, 2020-01-23\n",
    "\n",
    "### 1. Before Fix\n",
    "\n",
    "Load #1:"
   ]
  },
  {
   "cell_type": "code",
   "execution_count": 1,
   "metadata": {},
   "outputs": [
    {
     "name": "stdout",
     "output_type": "stream",
     "text": [
      "{<Reaction 7 at 0x18802574408>, <Reaction 192 at 0x18805d4ce48>, <Reaction 780 at 0x188060e9d88>, <Reaction 13 at 0x1880257fe88>, <Reaction 8 at 0x18802574a88>, <Reaction 790 at 0x188060f5288>, <Reaction 9 at 0x1880257a088>, <Reaction 190 at 0x18805d4c8c8>, <Reaction 11 at 0x1880257af88>, <Reaction 995 at 0x188061e8d88>}\n"
     ]
    }
   ],
   "source": [
    "import cobra\n",
    "\n",
    "model = cobra.io.read_sbml_model(\"../model/p-thermo.xml\")\n",
    "print(model.groups.get_by_id(\"rn00730\").members)"
   ]
  },
  {
   "cell_type": "markdown",
   "metadata": {},
   "source": [
    "Load #2:"
   ]
  },
  {
   "cell_type": "code",
   "execution_count": 2,
   "metadata": {},
   "outputs": [
    {
     "name": "stdout",
     "output_type": "stream",
     "text": [
      "{<Reaction 11 at 0x18807755a08>, <Reaction 7 at 0x18807750e48>, <Reaction 192 at 0x188077e2888>, <Reaction 9 at 0x18807752ac8>, <Reaction 8 at 0x18807752508>, <Reaction 13 at 0x18807756908>, <Reaction 190 at 0x188077e2308>, <Reaction 995 at 0x18808176f08>, <Reaction 780 at 0x18808075f88>, <Reaction 790 at 0x1880807bbc8>}\n"
     ]
    }
   ],
   "source": [
    "cobra.io.write_sbml_model(model,\"../model/p-thermo.xml\")\n",
    "model = cobra.io.read_sbml_model(\"../model/p-thermo.xml\")\n",
    "print(model.groups.get_by_id(\"rn00730\").members)"
   ]
  },
  {
   "cell_type": "markdown",
   "metadata": {},
   "source": [
    "We see that the members within each group get shuffled, because groups are defined with `set()`, which are unordered lists in python. So instead we should use the cobrapy type `DictList()`, which keeps the order. This is implemented in the following fork of cobrapy:\n",
    "\n",
    "github.com/BenjaSanchez/cobrapy.git@fix/switch-group-type\n",
    "\n",
    "So we need to then pip install that version of cobrapy, with:\n",
    "\n",
    "```bash\n",
    "pip install git+git://github.com/BenjaSanchez/cobrapy.git@fix/switch-group-type --upgrade\n",
    "```\n",
    "\n",
    "### 2. After Fix\n",
    "\n",
    "Load #1:"
   ]
  },
  {
   "cell_type": "code",
   "execution_count": 1,
   "metadata": {},
   "outputs": [
    {
     "name": "stdout",
     "output_type": "stream",
     "text": [
      "[<Reaction 7 at 0x269e9212488>, <Reaction 192 at 0x269ec9ebe48>, <Reaction 780 at 0x269ecd8dfc8>, <Reaction 13 at 0x269e9221f08>, <Reaction 8 at 0x269e9212b08>, <Reaction 790 at 0x269ecd971c8>, <Reaction 9 at 0x269e921a108>, <Reaction 190 at 0x269ec9eb8c8>, <Reaction 11 at 0x269e9221048>, <Reaction 995 at 0x269ece89cc8>]\n"
     ]
    }
   ],
   "source": [
    "import cobra\n",
    "\n",
    "model = cobra.io.read_sbml_model(\"../model/p-thermo.xml\")\n",
    "print(model.groups.get_by_id(\"rn00730\").members)"
   ]
  },
  {
   "cell_type": "markdown",
   "metadata": {},
   "source": [
    "Load #2:"
   ]
  },
  {
   "cell_type": "code",
   "execution_count": 2,
   "metadata": {},
   "outputs": [
    {
     "name": "stdout",
     "output_type": "stream",
     "text": [
      "[<Reaction 7 at 0x269ee3f4d48>, <Reaction 192 at 0x269ee485788>, <Reaction 780 at 0x269eea9be88>, <Reaction 13 at 0x269ee3f9808>, <Reaction 8 at 0x269ee3f5408>, <Reaction 790 at 0x269eeaa0ac8>, <Reaction 9 at 0x269ee3f59c8>, <Reaction 190 at 0x269ee485f88>, <Reaction 11 at 0x269ee3f8908>, <Reaction 995 at 0x269eeb9ee08>]\n"
     ]
    }
   ],
   "source": [
    "cobra.io.write_sbml_model(model,\"../model/p-thermo.xml\")\n",
    "model = cobra.io.read_sbml_model(\"../model/p-thermo.xml\")\n",
    "print(model.groups.get_by_id(\"rn00730\").members)"
   ]
  },
  {
   "cell_type": "markdown",
   "metadata": {},
   "source": [
    "No shuffling, yei!"
   ]
  },
  {
   "cell_type": "code",
   "execution_count": null,
   "metadata": {},
   "outputs": [],
   "source": []
  }
 ],
 "metadata": {
  "kernelspec": {
   "display_name": "Python 3",
   "language": "python",
   "name": "python3"
  },
  "language_info": {
   "codemirror_mode": {
    "name": "ipython",
    "version": 3
   },
   "file_extension": ".py",
   "mimetype": "text/x-python",
   "name": "python",
   "nbconvert_exporter": "python",
   "pygments_lexer": "ipython3",
   "version": "3.7.9"
  }
 },
 "nbformat": 4,
 "nbformat_minor": 2
}
