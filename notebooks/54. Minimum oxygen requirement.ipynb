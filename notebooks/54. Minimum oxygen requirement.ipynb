{
 "cells": [
  {
   "cell_type": "markdown",
   "metadata": {},
   "source": [
    "# Introduction\n",
    "Here I will try to see what the minimum amount of oxygen needed by our model for growth is by limiting the oxygen exchange. Then I'll also take a look at the central carbon metabolism to see what changes and if this is as expected. Finally, if this is (somehwat) the case, I will see what the pathways are that consume this little bit of oxygen that is supplied."
   ]
  },
  {
   "cell_type": "code",
   "execution_count": 1,
   "metadata": {},
   "outputs": [
    {
     "data": {
      "application/javascript": [
       "\n",
       "(function(root) {\n",
       "  function now() {\n",
       "    return new Date();\n",
       "  }\n",
       "\n",
       "  var force = true;\n",
       "\n",
       "  if (typeof root._bokeh_onload_callbacks === \"undefined\" || force === true) {\n",
       "    root._bokeh_onload_callbacks = [];\n",
       "    root._bokeh_is_loading = undefined;\n",
       "  }\n",
       "\n",
       "  var JS_MIME_TYPE = 'application/javascript';\n",
       "  var HTML_MIME_TYPE = 'text/html';\n",
       "  var EXEC_MIME_TYPE = 'application/vnd.bokehjs_exec.v0+json';\n",
       "  var CLASS_NAME = 'output_bokeh rendered_html';\n",
       "\n",
       "  /**\n",
       "   * Render data to the DOM node\n",
       "   */\n",
       "  function render(props, node) {\n",
       "    var script = document.createElement(\"script\");\n",
       "    node.appendChild(script);\n",
       "  }\n",
       "\n",
       "  /**\n",
       "   * Handle when an output is cleared or removed\n",
       "   */\n",
       "  function handleClearOutput(event, handle) {\n",
       "    var cell = handle.cell;\n",
       "\n",
       "    var id = cell.output_area._bokeh_element_id;\n",
       "    var server_id = cell.output_area._bokeh_server_id;\n",
       "    // Clean up Bokeh references\n",
       "    if (id != null && id in Bokeh.index) {\n",
       "      Bokeh.index[id].model.document.clear();\n",
       "      delete Bokeh.index[id];\n",
       "    }\n",
       "\n",
       "    if (server_id !== undefined) {\n",
       "      // Clean up Bokeh references\n",
       "      var cmd = \"from bokeh.io.state import curstate; print(curstate().uuid_to_server['\" + server_id + \"'].get_sessions()[0].document.roots[0]._id)\";\n",
       "      cell.notebook.kernel.execute(cmd, {\n",
       "        iopub: {\n",
       "          output: function(msg) {\n",
       "            var id = msg.content.text.trim();\n",
       "            if (id in Bokeh.index) {\n",
       "              Bokeh.index[id].model.document.clear();\n",
       "              delete Bokeh.index[id];\n",
       "            }\n",
       "          }\n",
       "        }\n",
       "      });\n",
       "      // Destroy server and session\n",
       "      var cmd = \"import bokeh.io.notebook as ion; ion.destroy_server('\" + server_id + \"')\";\n",
       "      cell.notebook.kernel.execute(cmd);\n",
       "    }\n",
       "  }\n",
       "\n",
       "  /**\n",
       "   * Handle when a new output is added\n",
       "   */\n",
       "  function handleAddOutput(event, handle) {\n",
       "    var output_area = handle.output_area;\n",
       "    var output = handle.output;\n",
       "\n",
       "    // limit handleAddOutput to display_data with EXEC_MIME_TYPE content only\n",
       "    if ((output.output_type != \"display_data\") || (!output.data.hasOwnProperty(EXEC_MIME_TYPE))) {\n",
       "      return\n",
       "    }\n",
       "\n",
       "    var toinsert = output_area.element.find(\".\" + CLASS_NAME.split(' ')[0]);\n",
       "\n",
       "    if (output.metadata[EXEC_MIME_TYPE][\"id\"] !== undefined) {\n",
       "      toinsert[toinsert.length - 1].firstChild.textContent = output.data[JS_MIME_TYPE];\n",
       "      // store reference to embed id on output_area\n",
       "      output_area._bokeh_element_id = output.metadata[EXEC_MIME_TYPE][\"id\"];\n",
       "    }\n",
       "    if (output.metadata[EXEC_MIME_TYPE][\"server_id\"] !== undefined) {\n",
       "      var bk_div = document.createElement(\"div\");\n",
       "      bk_div.innerHTML = output.data[HTML_MIME_TYPE];\n",
       "      var script_attrs = bk_div.children[0].attributes;\n",
       "      for (var i = 0; i < script_attrs.length; i++) {\n",
       "        toinsert[toinsert.length - 1].firstChild.setAttribute(script_attrs[i].name, script_attrs[i].value);\n",
       "        toinsert[toinsert.length - 1].firstChild.textContent = bk_div.children[0].textContent\n",
       "      }\n",
       "      // store reference to server id on output_area\n",
       "      output_area._bokeh_server_id = output.metadata[EXEC_MIME_TYPE][\"server_id\"];\n",
       "    }\n",
       "  }\n",
       "\n",
       "  function register_renderer(events, OutputArea) {\n",
       "\n",
       "    function append_mime(data, metadata, element) {\n",
       "      // create a DOM node to render to\n",
       "      var toinsert = this.create_output_subarea(\n",
       "        metadata,\n",
       "        CLASS_NAME,\n",
       "        EXEC_MIME_TYPE\n",
       "      );\n",
       "      this.keyboard_manager.register_events(toinsert);\n",
       "      // Render to node\n",
       "      var props = {data: data, metadata: metadata[EXEC_MIME_TYPE]};\n",
       "      render(props, toinsert[toinsert.length - 1]);\n",
       "      element.append(toinsert);\n",
       "      return toinsert\n",
       "    }\n",
       "\n",
       "    /* Handle when an output is cleared or removed */\n",
       "    events.on('clear_output.CodeCell', handleClearOutput);\n",
       "    events.on('delete.Cell', handleClearOutput);\n",
       "\n",
       "    /* Handle when a new output is added */\n",
       "    events.on('output_added.OutputArea', handleAddOutput);\n",
       "\n",
       "    /**\n",
       "     * Register the mime type and append_mime function with output_area\n",
       "     */\n",
       "    OutputArea.prototype.register_mime_type(EXEC_MIME_TYPE, append_mime, {\n",
       "      /* Is output safe? */\n",
       "      safe: true,\n",
       "      /* Index of renderer in `output_area.display_order` */\n",
       "      index: 0\n",
       "    });\n",
       "  }\n",
       "\n",
       "  // register the mime type if in Jupyter Notebook environment and previously unregistered\n",
       "  if (root.Jupyter !== undefined) {\n",
       "    var events = require('base/js/events');\n",
       "    var OutputArea = require('notebook/js/outputarea').OutputArea;\n",
       "\n",
       "    if (OutputArea.prototype.mime_types().indexOf(EXEC_MIME_TYPE) == -1) {\n",
       "      register_renderer(events, OutputArea);\n",
       "    }\n",
       "  }\n",
       "\n",
       "  \n",
       "  if (typeof (root._bokeh_timeout) === \"undefined\" || force === true) {\n",
       "    root._bokeh_timeout = Date.now() + 5000;\n",
       "    root._bokeh_failed_load = false;\n",
       "  }\n",
       "\n",
       "  var NB_LOAD_WARNING = {'data': {'text/html':\n",
       "     \"<div style='background-color: #fdd'>\\n\"+\n",
       "     \"<p>\\n\"+\n",
       "     \"BokehJS does not appear to have successfully loaded. If loading BokehJS from CDN, this \\n\"+\n",
       "     \"may be due to a slow or bad network connection. Possible fixes:\\n\"+\n",
       "     \"</p>\\n\"+\n",
       "     \"<ul>\\n\"+\n",
       "     \"<li>re-rerun `output_notebook()` to attempt to load from CDN again, or</li>\\n\"+\n",
       "     \"<li>use INLINE resources instead, as so:</li>\\n\"+\n",
       "     \"</ul>\\n\"+\n",
       "     \"<code>\\n\"+\n",
       "     \"from bokeh.resources import INLINE\\n\"+\n",
       "     \"output_notebook(resources=INLINE)\\n\"+\n",
       "     \"</code>\\n\"+\n",
       "     \"</div>\"}};\n",
       "\n",
       "  function display_loaded() {\n",
       "    var el = document.getElementById(null);\n",
       "    if (el != null) {\n",
       "      el.textContent = \"BokehJS is loading...\";\n",
       "    }\n",
       "    if (root.Bokeh !== undefined) {\n",
       "      if (el != null) {\n",
       "        el.textContent = \"BokehJS \" + root.Bokeh.version + \" successfully loaded.\";\n",
       "      }\n",
       "    } else if (Date.now() < root._bokeh_timeout) {\n",
       "      setTimeout(display_loaded, 100)\n",
       "    }\n",
       "  }\n",
       "\n",
       "\n",
       "  function run_callbacks() {\n",
       "    try {\n",
       "      root._bokeh_onload_callbacks.forEach(function(callback) {\n",
       "        if (callback != null)\n",
       "          callback();\n",
       "      });\n",
       "    } finally {\n",
       "      delete root._bokeh_onload_callbacks\n",
       "    }\n",
       "    console.debug(\"Bokeh: all callbacks have finished\");\n",
       "  }\n",
       "\n",
       "  function load_libs(css_urls, js_urls, callback) {\n",
       "    if (css_urls == null) css_urls = [];\n",
       "    if (js_urls == null) js_urls = [];\n",
       "\n",
       "    root._bokeh_onload_callbacks.push(callback);\n",
       "    if (root._bokeh_is_loading > 0) {\n",
       "      console.debug(\"Bokeh: BokehJS is being loaded, scheduling callback at\", now());\n",
       "      return null;\n",
       "    }\n",
       "    if (js_urls == null || js_urls.length === 0) {\n",
       "      run_callbacks();\n",
       "      return null;\n",
       "    }\n",
       "    console.debug(\"Bokeh: BokehJS not loaded, scheduling load and callback at\", now());\n",
       "    root._bokeh_is_loading = css_urls.length + js_urls.length;\n",
       "\n",
       "    function on_load() {\n",
       "      root._bokeh_is_loading--;\n",
       "      if (root._bokeh_is_loading === 0) {\n",
       "        console.debug(\"Bokeh: all BokehJS libraries/stylesheets loaded\");\n",
       "        run_callbacks()\n",
       "      }\n",
       "    }\n",
       "\n",
       "    function on_error() {\n",
       "      console.error(\"failed to load \" + url);\n",
       "    }\n",
       "\n",
       "    for (var i = 0; i < css_urls.length; i++) {\n",
       "      var url = css_urls[i];\n",
       "      const element = document.createElement(\"link\");\n",
       "      element.onload = on_load;\n",
       "      element.onerror = on_error;\n",
       "      element.rel = \"stylesheet\";\n",
       "      element.type = \"text/css\";\n",
       "      element.href = url;\n",
       "      console.debug(\"Bokeh: injecting link tag for BokehJS stylesheet: \", url);\n",
       "      document.body.appendChild(element);\n",
       "    }\n",
       "\n",
       "    const hashes = {\"https://cdn.bokeh.org/bokeh/release/bokeh-2.0.1.min.js\": \"JpP8FXbgAZLkfur7LiK3j9AGBhHNIvF742meBJrjO2ShJDhCG2I1uVvW+0DUtrmc\", \"https://cdn.bokeh.org/bokeh/release/bokeh-widgets-2.0.1.min.js\": \"xZlADit0Q04ISQEdKg2k3L4W9AwQBAuDs9nJL9fM/WwzL1tEU9VPNezOFX0nLEAz\", \"https://cdn.bokeh.org/bokeh/release/bokeh-tables-2.0.1.min.js\": \"4BuPRZkdMKSnj3zoxiNrQ86XgNw0rYmBOxe7nshquXwwcauupgBF2DHLVG1WuZlV\", \"https://cdn.bokeh.org/bokeh/release/bokeh-gl-2.0.1.min.js\": \"Dv1SQ87hmDqK6S5OhBf0bCuwAEvL5QYL0PuR/F1SPVhCS/r/abjkbpKDYL2zeM19\"};\n",
       "\n",
       "    for (var i = 0; i < js_urls.length; i++) {\n",
       "      var url = js_urls[i];\n",
       "      var element = document.createElement('script');\n",
       "      element.onload = on_load;\n",
       "      element.onerror = on_error;\n",
       "      element.async = false;\n",
       "      element.src = url;\n",
       "      if (url in hashes) {\n",
       "        element.crossOrigin = \"anonymous\";\n",
       "        element.integrity = \"sha384-\" + hashes[url];\n",
       "      }\n",
       "      console.debug(\"Bokeh: injecting script tag for BokehJS library: \", url);\n",
       "      document.head.appendChild(element);\n",
       "    }\n",
       "  };\n",
       "\n",
       "  function inject_raw_css(css) {\n",
       "    const element = document.createElement(\"style\");\n",
       "    element.appendChild(document.createTextNode(css));\n",
       "    document.body.appendChild(element);\n",
       "  }\n",
       "\n",
       "  \n",
       "  var js_urls = [\"https://cdn.bokeh.org/bokeh/release/bokeh-2.0.1.min.js\", \"https://cdn.bokeh.org/bokeh/release/bokeh-widgets-2.0.1.min.js\", \"https://cdn.bokeh.org/bokeh/release/bokeh-tables-2.0.1.min.js\", \"https://cdn.bokeh.org/bokeh/release/bokeh-gl-2.0.1.min.js\"];\n",
       "  var css_urls = [];\n",
       "  \n",
       "\n",
       "  var inline_js = [\n",
       "    function(Bokeh) {\n",
       "      Bokeh.set_log_level(\"info\");\n",
       "    },\n",
       "    function(Bokeh) {\n",
       "    \n",
       "    \n",
       "    }\n",
       "  ];\n",
       "\n",
       "  function run_inline_js() {\n",
       "    \n",
       "    if (root.Bokeh !== undefined || force === true) {\n",
       "      \n",
       "    for (var i = 0; i < inline_js.length; i++) {\n",
       "      inline_js[i].call(root, root.Bokeh);\n",
       "    }\n",
       "    } else if (Date.now() < root._bokeh_timeout) {\n",
       "      setTimeout(run_inline_js, 100);\n",
       "    } else if (!root._bokeh_failed_load) {\n",
       "      console.log(\"Bokeh: BokehJS failed to load within specified timeout.\");\n",
       "      root._bokeh_failed_load = true;\n",
       "    } else if (force !== true) {\n",
       "      var cell = $(document.getElementById(null)).parents('.cell').data().cell;\n",
       "      cell.output_area.append_execute_result(NB_LOAD_WARNING)\n",
       "    }\n",
       "\n",
       "  }\n",
       "\n",
       "  if (root._bokeh_is_loading === 0) {\n",
       "    console.debug(\"Bokeh: BokehJS loaded, going straight to plotting\");\n",
       "    run_inline_js();\n",
       "  } else {\n",
       "    load_libs(css_urls, js_urls, function() {\n",
       "      console.debug(\"Bokeh: BokehJS plotting callback run at\", now());\n",
       "      run_inline_js();\n",
       "    });\n",
       "  }\n",
       "}(window));"
      ],
      "application/vnd.bokehjs_load.v0+json": "\n(function(root) {\n  function now() {\n    return new Date();\n  }\n\n  var force = true;\n\n  if (typeof root._bokeh_onload_callbacks === \"undefined\" || force === true) {\n    root._bokeh_onload_callbacks = [];\n    root._bokeh_is_loading = undefined;\n  }\n\n  \n\n  \n  if (typeof (root._bokeh_timeout) === \"undefined\" || force === true) {\n    root._bokeh_timeout = Date.now() + 5000;\n    root._bokeh_failed_load = false;\n  }\n\n  var NB_LOAD_WARNING = {'data': {'text/html':\n     \"<div style='background-color: #fdd'>\\n\"+\n     \"<p>\\n\"+\n     \"BokehJS does not appear to have successfully loaded. If loading BokehJS from CDN, this \\n\"+\n     \"may be due to a slow or bad network connection. Possible fixes:\\n\"+\n     \"</p>\\n\"+\n     \"<ul>\\n\"+\n     \"<li>re-rerun `output_notebook()` to attempt to load from CDN again, or</li>\\n\"+\n     \"<li>use INLINE resources instead, as so:</li>\\n\"+\n     \"</ul>\\n\"+\n     \"<code>\\n\"+\n     \"from bokeh.resources import INLINE\\n\"+\n     \"output_notebook(resources=INLINE)\\n\"+\n     \"</code>\\n\"+\n     \"</div>\"}};\n\n  function display_loaded() {\n    var el = document.getElementById(null);\n    if (el != null) {\n      el.textContent = \"BokehJS is loading...\";\n    }\n    if (root.Bokeh !== undefined) {\n      if (el != null) {\n        el.textContent = \"BokehJS \" + root.Bokeh.version + \" successfully loaded.\";\n      }\n    } else if (Date.now() < root._bokeh_timeout) {\n      setTimeout(display_loaded, 100)\n    }\n  }\n\n\n  function run_callbacks() {\n    try {\n      root._bokeh_onload_callbacks.forEach(function(callback) {\n        if (callback != null)\n          callback();\n      });\n    } finally {\n      delete root._bokeh_onload_callbacks\n    }\n    console.debug(\"Bokeh: all callbacks have finished\");\n  }\n\n  function load_libs(css_urls, js_urls, callback) {\n    if (css_urls == null) css_urls = [];\n    if (js_urls == null) js_urls = [];\n\n    root._bokeh_onload_callbacks.push(callback);\n    if (root._bokeh_is_loading > 0) {\n      console.debug(\"Bokeh: BokehJS is being loaded, scheduling callback at\", now());\n      return null;\n    }\n    if (js_urls == null || js_urls.length === 0) {\n      run_callbacks();\n      return null;\n    }\n    console.debug(\"Bokeh: BokehJS not loaded, scheduling load and callback at\", now());\n    root._bokeh_is_loading = css_urls.length + js_urls.length;\n\n    function on_load() {\n      root._bokeh_is_loading--;\n      if (root._bokeh_is_loading === 0) {\n        console.debug(\"Bokeh: all BokehJS libraries/stylesheets loaded\");\n        run_callbacks()\n      }\n    }\n\n    function on_error() {\n      console.error(\"failed to load \" + url);\n    }\n\n    for (var i = 0; i < css_urls.length; i++) {\n      var url = css_urls[i];\n      const element = document.createElement(\"link\");\n      element.onload = on_load;\n      element.onerror = on_error;\n      element.rel = \"stylesheet\";\n      element.type = \"text/css\";\n      element.href = url;\n      console.debug(\"Bokeh: injecting link tag for BokehJS stylesheet: \", url);\n      document.body.appendChild(element);\n    }\n\n    const hashes = {\"https://cdn.bokeh.org/bokeh/release/bokeh-2.0.1.min.js\": \"JpP8FXbgAZLkfur7LiK3j9AGBhHNIvF742meBJrjO2ShJDhCG2I1uVvW+0DUtrmc\", \"https://cdn.bokeh.org/bokeh/release/bokeh-widgets-2.0.1.min.js\": \"xZlADit0Q04ISQEdKg2k3L4W9AwQBAuDs9nJL9fM/WwzL1tEU9VPNezOFX0nLEAz\", \"https://cdn.bokeh.org/bokeh/release/bokeh-tables-2.0.1.min.js\": \"4BuPRZkdMKSnj3zoxiNrQ86XgNw0rYmBOxe7nshquXwwcauupgBF2DHLVG1WuZlV\", \"https://cdn.bokeh.org/bokeh/release/bokeh-gl-2.0.1.min.js\": \"Dv1SQ87hmDqK6S5OhBf0bCuwAEvL5QYL0PuR/F1SPVhCS/r/abjkbpKDYL2zeM19\"};\n\n    for (var i = 0; i < js_urls.length; i++) {\n      var url = js_urls[i];\n      var element = document.createElement('script');\n      element.onload = on_load;\n      element.onerror = on_error;\n      element.async = false;\n      element.src = url;\n      if (url in hashes) {\n        element.crossOrigin = \"anonymous\";\n        element.integrity = \"sha384-\" + hashes[url];\n      }\n      console.debug(\"Bokeh: injecting script tag for BokehJS library: \", url);\n      document.head.appendChild(element);\n    }\n  };\n\n  function inject_raw_css(css) {\n    const element = document.createElement(\"style\");\n    element.appendChild(document.createTextNode(css));\n    document.body.appendChild(element);\n  }\n\n  \n  var js_urls = [\"https://cdn.bokeh.org/bokeh/release/bokeh-2.0.1.min.js\", \"https://cdn.bokeh.org/bokeh/release/bokeh-widgets-2.0.1.min.js\", \"https://cdn.bokeh.org/bokeh/release/bokeh-tables-2.0.1.min.js\", \"https://cdn.bokeh.org/bokeh/release/bokeh-gl-2.0.1.min.js\"];\n  var css_urls = [];\n  \n\n  var inline_js = [\n    function(Bokeh) {\n      Bokeh.set_log_level(\"info\");\n    },\n    function(Bokeh) {\n    \n    \n    }\n  ];\n\n  function run_inline_js() {\n    \n    if (root.Bokeh !== undefined || force === true) {\n      \n    for (var i = 0; i < inline_js.length; i++) {\n      inline_js[i].call(root, root.Bokeh);\n    }\n    } else if (Date.now() < root._bokeh_timeout) {\n      setTimeout(run_inline_js, 100);\n    } else if (!root._bokeh_failed_load) {\n      console.log(\"Bokeh: BokehJS failed to load within specified timeout.\");\n      root._bokeh_failed_load = true;\n    } else if (force !== true) {\n      var cell = $(document.getElementById(null)).parents('.cell').data().cell;\n      cell.output_area.append_execute_result(NB_LOAD_WARNING)\n    }\n\n  }\n\n  if (root._bokeh_is_loading === 0) {\n    console.debug(\"Bokeh: BokehJS loaded, going straight to plotting\");\n    run_inline_js();\n  } else {\n    load_libs(css_urls, js_urls, function() {\n      console.debug(\"Bokeh: BokehJS plotting callback run at\", now());\n      run_inline_js();\n    });\n  }\n}(window));"
     },
     "metadata": {},
     "output_type": "display_data"
    }
   ],
   "source": [
    "import cameo\n",
    "import pandas as pd\n",
    "import cobra.io\n",
    "from escher import Builder\n",
    "import numpy\n",
    "from cobra import Metabolite,Reaction\n",
    "import matplotlib.pyplot as plt\n",
    "import seaborn as sns\n"
   ]
  },
  {
   "cell_type": "code",
   "execution_count": 6,
   "metadata": {},
   "outputs": [],
   "source": [
    "model = cobra.io.read_sbml_model('../model/g-thermo.xml')"
   ]
  },
  {
   "cell_type": "code",
   "execution_count": 22,
   "metadata": {},
   "outputs": [],
   "source": [
    "model_e_coli = cameo.load_model('iML1515')"
   ]
  },
  {
   "cell_type": "code",
   "execution_count": 7,
   "metadata": {
    "scrolled": false
   },
   "outputs": [
    {
     "name": "stderr",
     "output_type": "stream",
     "text": [
      "C:\\Users\\vivmol\\AppData\\Local\\Continuum\\anaconda3\\envs\\g-thermo\\lib\\site-packages\\cobra\\core\\model.py:716: UserWarning:\n",
      "\n",
      "need to pass in a list\n",
      "\n"
     ]
    }
   ],
   "source": [
    "#this reaction is wrong: the e.c. number associated to it doesn't convert hydrogen peroxide.\n",
    "#the correct reaction is the COOR reaction we already have. \n",
    "#as this reaction is wrong, and it will produce oxygen we need to delete it!\n",
    "model.remove_reactions(model.reactions.H202OR)"
   ]
  },
  {
   "cell_type": "code",
   "execution_count": 14,
   "metadata": {},
   "outputs": [],
   "source": [
    "#save&commit\n",
    "cobra.io.write_sbml_model(model,'../model/g-thermo.xml')"
   ]
  },
  {
   "cell_type": "code",
   "execution_count": 8,
   "metadata": {},
   "outputs": [
    {
     "name": "stdout",
     "output_type": "stream",
     "text": [
      "0.1\n"
     ]
    }
   ],
   "source": [
    "#then write a script to add different intervals of O2, and when biomass is regained print the number\n",
    "O2 = list(numpy.linspace(0,1,11)) #list of oxygen exchanges to test\n",
    "O2_growth = []\n",
    "with model:\n",
    "    #first remove the oxygen supply from the medium\n",
    "    model.reactions.EX_o2_e.bounds = (0,0)\n",
    "    for oxygen in O2: #iterate through each oxygen amount\n",
    "        model.reactions.EX_o2_e.bounds = (-oxygen,0)\n",
    "        growth = model.optimize().objective_value\n",
    "        if growth > 0.01: #leaving just as zero will allow 10^-29 to be seen as growth too.\n",
    "            O2_growth.append(oxygen) #store all the oxygen amounts at which the strain can still grow here\n",
    "        else: \n",
    "            continue\n",
    "    print (min(O2_growth))"
   ]
  },
  {
   "cell_type": "markdown",
   "metadata": {},
   "source": [
    "We can iterate through the above code to find the minimal amount of oxygen needed, for different minimal growth rates."
   ]
  },
  {
   "cell_type": "code",
   "execution_count": 251,
   "metadata": {},
   "outputs": [
    {
     "name": "stdout",
     "output_type": "stream",
     "text": [
      "0.0017833333333333334\n"
     ]
    }
   ],
   "source": [
    "#then write a script to add different intervals of O2, and when biomass is regained print the number\n",
    "O2 = list(numpy.linspace(0.0015,0.002,31)) #list of oxygen exchanges to test\n",
    "O2_growth = []\n",
    "with model:\n",
    "    #first remove the oxygen supply from the medium\n",
    "    model.reactions.EX_o2_e.bounds = (0,0)\n",
    "    for oxygen in O2: #iterate through each oxygen amount\n",
    "        model.reactions.EX_o2_e.bounds = (-oxygen,0)\n",
    "        growth = model.optimize().objective_value\n",
    "        if growth > 0.12: #leaving just as zero will allow 10^-29 to be seen as growth too. \n",
    "            #here the question is what do we define as growth\n",
    "            O2_growth.append(oxygen) #store all the oxygen amounts at which the strain can still grow here\n",
    "        else: \n",
    "            continue\n",
    "    print (min(O2_growth))"
   ]
  },
  {
   "cell_type": "code",
   "execution_count": 252,
   "metadata": {},
   "outputs": [],
   "source": [
    "#plot the different definitions of growth with the minimal oxygen requirement\n",
    "growth_def = [0.001, 0.01, 0.05, 0.1, 0.12, 0.15, 0.2, 0.3, 0.4]\n",
    "min_o2_req =[1.53e-05, 0.00015, 0.00074, 0.0015, 0.00178, 1.36, 3.97, 9.2, 15.8]"
   ]
  },
  {
   "cell_type": "code",
   "execution_count": 253,
   "metadata": {},
   "outputs": [
    {
     "data": {
      "text/plain": [
       "Text(0.5, 0, 'Growth rate')"
      ]
     },
     "execution_count": 253,
     "metadata": {},
     "output_type": "execute_result"
    },
    {
     "data": {
      "image/png": "[encoded data removed]",
      "text/plain": [
       "<Figure size 432x288 with 1 Axes>"
      ]
     },
     "metadata": {
      "needs_background": "light"
     },
     "output_type": "display_data"
    }
   ],
   "source": [
    "plt.plot(growth_def,min_o2_req)\n",
    "plt.ylabel('Minimum O2 requirement (mmol/gcdw/h)')\n",
    "plt.xlabel('Growth rate')"
   ]
  },
  {
   "cell_type": "markdown",
   "metadata": {},
   "source": [
    "### ASPO6\n",
    "This reaction produced H2O2, in the oxidation of aspartate. This step is needed as the first part for the biosynthesis of NAD. in B. subtilis (see doi 10.1111/j.1742-4658.2008.06641.x) the enzyme can use either O2 or fumurate as electron acceptor, allowing it to function in both aerobic and anaerobic conditions. the iminoaspartate can be converted with the EC 2.5.1.72, quinolinate synthase enzyme into quinolate, which can be converted further into NAD. Our model and strain has these enzymes already in it, but lacks the secondaryt reaction of the aspartate oxidase.\n",
    "\n",
    "So here I will add it. the CAT reaction present in our model has the main function of covnerting H2O2 to detoxify the cell. As this is also oxygen dependent, it makes sense that this pathway is only triggered when oxygen is present. \n"
   ]
  },
  {
   "cell_type": "code",
   "execution_count": 9,
   "metadata": {},
   "outputs": [],
   "source": [
    "#add the ASPO6s reaction\n",
    "model.add_reaction(Reaction(id='ASPO6s', name = 'L-aspartate:succinate oxidoreductase'))"
   ]
  },
  {
   "cell_type": "code",
   "execution_count": 10,
   "metadata": {},
   "outputs": [
    {
     "name": "stderr",
     "output_type": "stream",
     "text": [
      "C:\\Users\\vivmol\\AppData\\Local\\Continuum\\anaconda3\\envs\\g-thermo\\lib\\site-packages\\cobra\\core\\group.py:93: UserWarning:\n",
      "\n",
      "need to pass in a list\n",
      "\n"
     ]
    }
   ],
   "source": [
    "model.groups.get_by_id('00760 - Nicotinate and nicotinamide metabolism').add_members(model.reactions.ASPO6s)"
   ]
  },
  {
   "cell_type": "code",
   "execution_count": 11,
   "metadata": {},
   "outputs": [],
   "source": [
    "model.reactions.ASPO6s.gene_reaction_rule = 'RTMO06195'"
   ]
  },
  {
   "cell_type": "code",
   "execution_count": 12,
   "metadata": {},
   "outputs": [],
   "source": [
    "model.reactions.ASPO6s.annotation['sbo'] = 'SBO:0000176'\n",
    "model.reactions.ASPO6s.annotation['ec-code'] = '1.4.3.16'"
   ]
  },
  {
   "cell_type": "code",
   "execution_count": 13,
   "metadata": {},
   "outputs": [],
   "source": [
    "model.reactions.ASPO6s.add_metabolites({\n",
    "    model.metabolites.asp__L_c:-1,\n",
    "    model.metabolites.iasp_c:1,\n",
    "    model.metabolites.succ_c:1,\n",
    "    model.metabolites.fum_c:-1,\n",
    "    model.metabolites.h_c: 1\n",
    "})"
   ]
  },
  {
   "cell_type": "markdown",
   "metadata": {},
   "source": [
    "### PPPGO_1\n",
    "This reaction also produces H2O2, but there is only evidence that this is the only way this reaction can occur. SO i will leave it. This enzyme is required in the Porphyrin and chlorophyll metabolism, which in our model is crucial for the formation of protoheme and hemeO that is in our biomass reaction. So this will be left as it is. \n",
    "\n",
    "## change in demand @ 0.12 h-1\n",
    "from the graph we made above, we can see a clear change in the minimum oxygen requirement need to sustain growth around the 0.15 h-1 node. Now I will try to investigate what changes here at this node. It can give us important insights."
   ]
  },
  {
   "cell_type": "markdown",
   "metadata": {},
   "source": [
    "Spotted an error: when we remove oxygen from the strain, we produce a lot of butyrate. After a bit of investigation, we see this is because of the ACOAD1 reaction that is present in the model. Digging a bit further, we see that there is no annotation for the NAD dependent version, so this will be removed."
   ]
  },
  {
   "cell_type": "code",
   "execution_count": 13,
   "metadata": {
    "scrolled": true
   },
   "outputs": [
    {
     "name": "stderr",
     "output_type": "stream",
     "text": [
      "C:\\Users\\vivmol\\AppData\\Local\\Continuum\\anaconda3\\envs\\g-thermo\\lib\\site-packages\\cobra\\core\\group.py:110: UserWarning:\n",
      "\n",
      "need to pass in a list\n",
      "\n"
     ]
    }
   ],
   "source": [
    "model.remove_reactions(model.reactions.ACOAD1)"
   ]
  },
  {
   "cell_type": "code",
   "execution_count": 13,
   "metadata": {
    "scrolled": true
   },
   "outputs": [],
   "source": [
    "model.reactions.EX_o2_e.bounds = (-0.00178,0)"
   ]
  },
  {
   "cell_type": "code",
   "execution_count": 14,
   "metadata": {},
   "outputs": [],
   "source": [
    "#make a script to find each reaction involving oxygen and the flux through it (only if it is larger than 0)\n",
    "rct_O2 = []\n",
    "flux_O2_low = []\n",
    "desc_O2 = []\n",
    "flux_perc_low = []\n",
    "solution = model.optimize()\n",
    "for rct in model.metabolites.o2_c.reactions:\n",
    "    flux = solution[rct.id]\n",
    "    rct_O2.append(rct.id)\n",
    "    flux_O2_low.append(flux)\n",
    "    desc_O2.append(rct.reaction)\n",
    "    flux_perc_low.append(100*flux/0.00178)"
   ]
  },
  {
   "cell_type": "code",
   "execution_count": 15,
   "metadata": {},
   "outputs": [],
   "source": [
    "#make a dataframe\n",
    "df_O2_low = pd.DataFrame({'ID': rct_O2, 'Flux_0.12': flux_O2_low, 'Flux_0.12 %':flux_perc_low,'Description': desc_O2} )"
   ]
  },
  {
   "cell_type": "code",
   "execution_count": 16,
   "metadata": {},
   "outputs": [],
   "source": [
    "#repeat for the oxygen supply at growth rate 0.15\n",
    "model.reactions.EX_o2_e.bounds = (-1.36,0)\n",
    "rct_O2_high = []\n",
    "flux_O2_high = []\n",
    "flux_perc_high = []\n",
    "solution = model.optimize()\n",
    "for rct in model.metabolites.o2_c.reactions:\n",
    "    flux = solution[rct.id]\n",
    "    rct_O2_high.append(rct.id)\n",
    "    flux_O2_high.append(flux)\n",
    "    flux_perc_high.append(100*flux/1.36)"
   ]
  },
  {
   "cell_type": "code",
   "execution_count": 17,
   "metadata": {},
   "outputs": [],
   "source": [
    "#make a dataframe for the higher amount\n",
    "df_O2_high = pd.DataFrame({'ID': rct_O2_high, 'Flux_0.15': flux_O2_high, 'Flux_0.15 %':flux_perc_high} )"
   ]
  },
  {
   "cell_type": "code",
   "execution_count": 18,
   "metadata": {
    "scrolled": true
   },
   "outputs": [],
   "source": [
    "#merge two based on rct id\n",
    "df_combine = pd.merge(df_O2_low, df_O2_high, on='ID')"
   ]
  },
  {
   "cell_type": "code",
   "execution_count": 19,
   "metadata": {},
   "outputs": [],
   "source": [
    "df_combine = df_combine[['ID', 'Description', 'Flux_0.12 %', 'Flux_0.15 %']]"
   ]
  },
  {
   "cell_type": "code",
   "execution_count": 20,
   "metadata": {},
   "outputs": [],
   "source": [
    "#remove lines where the flux is zero in both cases\n",
    "for index, row in df_combine.iterrows():\n",
    "    flux_1 = row['Flux_0.12 %']\n",
    "    flux_2 = row['Flux_0.15 %']\n",
    "    if flux_1 ==0:\n",
    "        if flux_2 == 0:\n",
    "            df_combine = df_combine.drop([index])\n",
    "        else: continue\n",
    "    else:\n",
    "        continue"
   ]
  },
  {
   "cell_type": "code",
   "execution_count": 21,
   "metadata": {},
   "outputs": [
    {
     "data": {
      "text/html": [
       "<div>\n",
       "<style scoped>\n",
       "    .dataframe tbody tr th:only-of-type {\n",
       "        vertical-align: middle;\n",
       "    }\n",
       "\n",
       "    .dataframe tbody tr th {\n",
       "        vertical-align: top;\n",
       "    }\n",
       "\n",
       "    .dataframe thead th {\n",
       "        text-align: right;\n",
       "    }\n",
       "</style>\n",
       "<table border=\"1\" class=\"dataframe\">\n",
       "  <thead>\n",
       "    <tr style=\"text-align: right;\">\n",
       "      <th></th>\n",
       "      <th>ID</th>\n",
       "      <th>Description</th>\n",
       "      <th>Flux_0.12 %</th>\n",
       "      <th>Flux_0.15 %</th>\n",
       "    </tr>\n",
       "  </thead>\n",
       "  <tbody>\n",
       "    <tr>\n",
       "      <th>0</th>\n",
       "      <td>CAT</td>\n",
       "      <td>2.0 h2o2_c --&gt; 2.0 h2o_c + o2_c</td>\n",
       "      <td>5.938731</td>\n",
       "      <td>0.009670</td>\n",
       "    </tr>\n",
       "    <tr>\n",
       "      <th>1</th>\n",
       "      <td>PMES</td>\n",
       "      <td>2.0 fmnh2_c + 3.0 o2_c + palmACP_c --&gt; 2.0 fmn...</td>\n",
       "      <td>0.012114</td>\n",
       "      <td>0.000020</td>\n",
       "    </tr>\n",
       "    <tr>\n",
       "      <th>3</th>\n",
       "      <td>GLYHOR</td>\n",
       "      <td>gly_c + o2_c --&gt; dhgly_c + h2o2_c</td>\n",
       "      <td>1.350675</td>\n",
       "      <td>0.002199</td>\n",
       "    </tr>\n",
       "    <tr>\n",
       "      <th>8</th>\n",
       "      <td>ACDO</td>\n",
       "      <td>dhmtp_c + o2_c --&gt; 4met2obut_c + for_c + 2.0 h_c</td>\n",
       "      <td>41.186509</td>\n",
       "      <td>0.067065</td>\n",
       "    </tr>\n",
       "    <tr>\n",
       "      <th>10</th>\n",
       "      <td>O2t</td>\n",
       "      <td>o2_e &lt;=&gt; o2_c</td>\n",
       "      <td>100.000000</td>\n",
       "      <td>100.000000</td>\n",
       "    </tr>\n",
       "    <tr>\n",
       "      <th>11</th>\n",
       "      <td>BLUB</td>\n",
       "      <td>fmnh2_c + o2_c --&gt; diur_c + dmbzid_c + e4p_c +...</td>\n",
       "      <td>1.350675</td>\n",
       "      <td>0.002199</td>\n",
       "    </tr>\n",
       "    <tr>\n",
       "      <th>12</th>\n",
       "      <td>CYTBO3</td>\n",
       "      <td>2.5 h_c + 0.5 o2_c + qh2_c --&gt; h2o_c + 2.5 h_e...</td>\n",
       "      <td>0.000000</td>\n",
       "      <td>199.674335</td>\n",
       "    </tr>\n",
       "    <tr>\n",
       "      <th>14</th>\n",
       "      <td>GLYCTO1</td>\n",
       "      <td>glyclt_c + o2_c --&gt; glx_c + h2o2_c</td>\n",
       "      <td>2.422736</td>\n",
       "      <td>0.003945</td>\n",
       "    </tr>\n",
       "    <tr>\n",
       "      <th>19</th>\n",
       "      <td>FERO</td>\n",
       "      <td>4.0 fe2_c + 4.0 h_c + o2_c --&gt; 4.0 fe3_c + 2.0...</td>\n",
       "      <td>51.487743</td>\n",
       "      <td>0.083839</td>\n",
       "    </tr>\n",
       "    <tr>\n",
       "      <th>21</th>\n",
       "      <td>PPPGO_1</td>\n",
       "      <td>3.0 o2_c + pppg9_c --&gt; 3.0 h2o2_c + ppp9_c</td>\n",
       "      <td>2.701350</td>\n",
       "      <td>0.004399</td>\n",
       "    </tr>\n",
       "  </tbody>\n",
       "</table>\n",
       "</div>"
      ],
      "text/plain": [
       "         ID                                        Description  Flux_0.12 %  \\\n",
       "0       CAT                    2.0 h2o2_c --> 2.0 h2o_c + o2_c     5.938731   \n",
       "1      PMES  2.0 fmnh2_c + 3.0 o2_c + palmACP_c --> 2.0 fmn...     0.012114   \n",
       "3    GLYHOR                  gly_c + o2_c --> dhgly_c + h2o2_c     1.350675   \n",
       "8      ACDO   dhmtp_c + o2_c --> 4met2obut_c + for_c + 2.0 h_c    41.186509   \n",
       "10      O2t                                      o2_e <=> o2_c   100.000000   \n",
       "11     BLUB  fmnh2_c + o2_c --> diur_c + dmbzid_c + e4p_c +...     1.350675   \n",
       "12   CYTBO3  2.5 h_c + 0.5 o2_c + qh2_c --> h2o_c + 2.5 h_e...     0.000000   \n",
       "14  GLYCTO1                 glyclt_c + o2_c --> glx_c + h2o2_c     2.422736   \n",
       "19     FERO  4.0 fe2_c + 4.0 h_c + o2_c --> 4.0 fe3_c + 2.0...    51.487743   \n",
       "21  PPPGO_1         3.0 o2_c + pppg9_c --> 3.0 h2o2_c + ppp9_c     2.701350   \n",
       "\n",
       "    Flux_0.15 %  \n",
       "0      0.009670  \n",
       "1      0.000020  \n",
       "3      0.002199  \n",
       "8      0.067065  \n",
       "10   100.000000  \n",
       "11     0.002199  \n",
       "12   199.674335  \n",
       "14     0.003945  \n",
       "19     0.083839  \n",
       "21     0.004399  "
      ]
     },
     "execution_count": 21,
     "metadata": {},
     "output_type": "execute_result"
    }
   ],
   "source": [
    "df_combine"
   ]
  },
  {
   "cell_type": "markdown",
   "metadata": {},
   "source": [
    "With the above knowledge, i will now try to see if we supplement it into the medium: can we then achieve anaerobic growth?\n",
    "\n",
    "list of metabolites: \n",
    "Biotin, thiamine, spermidine, spermine, cobalamin (vitB12), tetra-hydro-folate (THF), Fe(III), protoheme and heme O"
   ]
  },
  {
   "cell_type": "code",
   "execution_count": 133,
   "metadata": {},
   "outputs": [
    {
     "name": "stdout",
     "output_type": "stream",
     "text": [
      "Growth rate: 0.124 /h\n",
      "Biotin: 2.22e-07  mmol/gCDW/h\n",
      "Thiamine diphosphate: 2.48e-05  mmol/gCDW/h\n",
      "Spermine: 3.11e-04  mmol/gCDW/h\n",
      "Spermidine: 1.33e-04  mmol/gCDW/h\n",
      "VitB12: 2.48e-05  mmol/gCDW/h\n",
      "10-Formyltetrahydrofolate: 4.44e-05  mmol/gCDW/h\n",
      "Iron(III): 3.78e-03  mmol/gCDW/h\n",
      "protoheme: 4.95e-05  mmol/gCDW/h\n",
      "Oxygen uptake: 0.00e+00  mmol/gCDW/h\n"
     ]
    }
   ],
   "source": [
    "with model:\n",
    "    #add supply reactions for each of the metabolites identified, as sink reactions\n",
    "    model.add_boundary(model.metabolites.btn_c, type = 'sink', reaction_id = 'sink_btn')\n",
    "    model.add_boundary(model.metabolites.thmpp_c , type = 'sink', reaction_id = 'sink_thmpp')\n",
    "    model.add_boundary(model.metabolites.sprm_c, type = 'sink', reaction_id = 'sink_sprm')\n",
    "    model.add_boundary(model.metabolites.spmd_c, type = 'sink', reaction_id = 'sink_spmd')\n",
    "    model.add_boundary(model.metabolites.adocbl_c, type = 'sink', reaction_id = 'sink_adocbl')\n",
    "    model.add_boundary(model.metabolites.get_by_id('10fthf_c') , type = 'sink', reaction_id = 'sink_10fthf')\n",
    "    model.add_boundary(model.metabolites.fe3_c , type = 'sink', reaction_id = 'sink_fe3')\n",
    "    model.add_boundary(model.metabolites.pheme_c , type = 'sink', reaction_id = 'sink_pheme')\n",
    "#     model.add_boundary(model.metabolites.hemeO_c , type = 'sink', reaction_id = 'sink_hemeO')\n",
    "    #set to anaerobic\n",
    "    model.reactions.EX_o2_e.bounds = (0,0)\n",
    "    solution = model.optimize()\n",
    "    print('Growth rate:', round(solution.objective_value,3),'/h')\n",
    "    print('Biotin:','{:0.2e}'.format(abs(solution['sink_btn'])),' mmol/gCDW/h')\n",
    "    print('Thiamine diphosphate:','{:0.2e}'.format(abs(solution['sink_thmpp'])),' mmol/gCDW/h')\n",
    "    print('Spermine:','{:0.2e}'.format(abs(solution['sink_sprm'])),' mmol/gCDW/h')\n",
    "    print('Spermidine:','{:0.2e}'.format(abs(solution['sink_spmd'])),' mmol/gCDW/h')\n",
    "    print('VitB12:','{:0.2e}'.format(abs(solution['sink_adocbl'])),' mmol/gCDW/h')\n",
    "    print('10-Formyltetrahydrofolate:','{:0.2e}'.format(abs(solution['sink_10fthf'])),' mmol/gCDW/h')\n",
    "    print('Iron(III):','{:0.2e}'.format(abs(solution['sink_fe3'])),' mmol/gCDW/h')\n",
    "    print('protoheme:','{:0.2e}'.format(abs(solution['sink_pheme'])),' mmol/gCDW/h')\n",
    "#     print('Heme O:',solution['sink_hemeO'])\n",
    "    print ('Oxygen uptake:', '{:0.2e}'.format(abs(solution['EX_o2_e'])),' mmol/gCDW/h')\n",
    "    \n",
    "    "
   ]
  },
  {
   "cell_type": "code",
   "execution_count": 4,
   "metadata": {},
   "outputs": [
    {
     "data": {
      "text/plain": [
       "{'sbo': 'SBO:0000247',\n",
       " 'bigg.metabolite': 'ppp9',\n",
       " 'biocyc': 'META:PROTOPORPHYRIN_IX',\n",
       " 'chebi': ['CHEBI:15430',\n",
       "  'CHEBI:14961',\n",
       "  'CHEBI:26358',\n",
       "  'CHEBI:8592',\n",
       "  'CHEBI:14960',\n",
       "  'CHEBI:14959',\n",
       "  'CHEBI:36159',\n",
       "  'CHEBI:57306'],\n",
       " 'hmdb': 'HMDB00241',\n",
       " 'inchi_key': 'KSFOVUSSGSKXFI-UJJXFSCMSA-L',\n",
       " 'kegg.compound': 'C02191',\n",
       " 'metanetx.chemical': 'MNXM346',\n",
       " 'reactome.compound': ['189487', '189463'],\n",
       " 'sabiork': '6061',\n",
       " 'seed.compound': 'cpd01476'}"
      ]
     },
     "execution_count": 4,
     "metadata": {},
     "output_type": "execute_result"
    }
   ],
   "source": [
    "model.metabolites.ppp9_c.annotation"
   ]
  },
  {
   "cell_type": "code",
   "execution_count": null,
   "metadata": {},
   "outputs": [],
   "source": [
    "*"
   ]
  }
 ],
 "metadata": {
  "kernelspec": {
   "display_name": "Python 3",
   "language": "python",
   "name": "python3"
  },
  "language_info": {
   "codemirror_mode": {
    "name": "ipython",
    "version": 3
   },
   "file_extension": ".py",
   "mimetype": "text/x-python",
   "name": "python",
   "nbconvert_exporter": "python",
   "pygments_lexer": "ipython3",
   "version": "3.7.7"
  }
 },
 "nbformat": 4,
 "nbformat_minor": 4
}
