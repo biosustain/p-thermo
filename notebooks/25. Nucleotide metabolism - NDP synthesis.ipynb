{
 "cells": [
  {
   "cell_type": "markdown",
   "metadata": {},
   "source": [
    "# Introduction\n",
    "In notebook 24, I've looked at the formation of the NMPs. To systematically go through the majority of the network, I will not tackle the 'stage' of the NDPs, and then from there move up towards the NTPs. Hopefully this will solve quite some issues that we have. "
   ]
  },
  {
   "cell_type": "code",
   "execution_count": 139,
   "metadata": {},
   "outputs": [],
   "source": [
    "import cameo\n",
    "import pandas as pd\n",
    "import cobra.io\n",
    "import escher\n",
    "from escher import Builder\n",
    "from cobra import Reaction, Metabolite"
   ]
  },
  {
   "cell_type": "code",
   "execution_count": 188,
   "metadata": {},
   "outputs": [],
   "source": [
    "model = cobra.io.read_sbml_model('../model/g-thermo.xml')"
   ]
  },
  {
   "cell_type": "code",
   "execution_count": 3,
   "metadata": {},
   "outputs": [],
   "source": [
    "model_e_coli = cameo.load_model ('iML1515')"
   ]
  },
  {
   "cell_type": "code",
   "execution_count": 4,
   "metadata": {},
   "outputs": [],
   "source": [
    "model_b_sub = cameo.load_model('iYO844')"
   ]
  },
  {
   "cell_type": "markdown",
   "metadata": {},
   "source": [
    "__CMP & CDP node__ Mostly had to change the reversability of these reactions, as they were wrong. The rest seemed fine."
   ]
  },
  {
   "cell_type": "code",
   "execution_count": null,
   "metadata": {},
   "outputs": [],
   "source": [
    "#bounds in the wrong direction\n",
    "model.reactions.RNDR3.bounds = (-1000,0)"
   ]
  },
  {
   "cell_type": "code",
   "execution_count": null,
   "metadata": {},
   "outputs": [],
   "source": [
    "#I can remove this one reaction involving RNA\n",
    "model.remove_reactions(model.reactions.PRPCT)"
   ]
  },
  {
   "cell_type": "code",
   "execution_count": null,
   "metadata": {},
   "outputs": [],
   "source": [
    "#also in the wrong direction\n",
    "model.reactions.PYK4.bounds = (-1000,0)"
   ]
  },
  {
   "cell_type": "code",
   "execution_count": null,
   "metadata": {},
   "outputs": [],
   "source": [
    "#save&commit\n",
    "cobra.io.write_sbml_model(model,'../model/g-thermo.xml')"
   ]
  },
  {
   "cell_type": "code",
   "execution_count": null,
   "metadata": {},
   "outputs": [],
   "source": [
    "#fixing CMP node, aside from this it seems fine. "
   ]
  },
  {
   "cell_type": "code",
   "execution_count": null,
   "metadata": {},
   "outputs": [],
   "source": []
  },
  {
   "cell_type": "markdown",
   "metadata": {},
   "source": [
    "__GDP__"
   ]
  },
  {
   "cell_type": "code",
   "execution_count": null,
   "metadata": {},
   "outputs": [],
   "source": [
    "#can also remove this one reaction involving RNA\n",
    "model.remove_reactions(model.reactions.PRPGT)"
   ]
  },
  {
   "cell_type": "code",
   "execution_count": null,
   "metadata": {},
   "outputs": [],
   "source": [
    "#rename\n",
    "model.reactions.ATGDm.id = 'NDPK1'"
   ]
  },
  {
   "cell_type": "code",
   "execution_count": null,
   "metadata": {},
   "outputs": [],
   "source": [
    "#rename\n",
    "model.reactions.GTPOPm.id = 'PYK3'"
   ]
  },
  {
   "cell_type": "code",
   "execution_count": null,
   "metadata": {},
   "outputs": [],
   "source": [
    "#switch reaction direction, see delta g\n",
    "model.reactions.PYK3.bounds = (-1000,0)"
   ]
  },
  {
   "cell_type": "code",
   "execution_count": null,
   "metadata": {},
   "outputs": [],
   "source": [
    "#switch directionality\n",
    "model.reactions.RNDR2.bounds = (-1000,0)"
   ]
  },
  {
   "cell_type": "code",
   "execution_count": null,
   "metadata": {},
   "outputs": [],
   "source": [
    "#save&commit\n",
    "cobra.io.write_sbml_model(model,'../model/g-thermo.xml')"
   ]
  },
  {
   "cell_type": "code",
   "execution_count": null,
   "metadata": {},
   "outputs": [],
   "source": [
    "#check gmp node: seems fine"
   ]
  },
  {
   "cell_type": "markdown",
   "metadata": {},
   "source": [
    "__XMP to other mets__\n",
    "The model doesn't contain XDP, so instead I will just check that the XMP that is formed is properly converted furhter. After inspection, it is, and so we don't have to change anything here. "
   ]
  },
  {
   "cell_type": "markdown",
   "metadata": {},
   "source": [
    "__AMP & ADP__ There are 108 reactions involving ADP. This is a lot to go through in this notebook. Instead, here I will go through the ADP reactions that do not contain ATP, to check that those are correct. \n",
    "\n",
    "I've checked the reversable ATP reactions in another notebook already, so for now we can assume they are fine, otherwise I'll look at them again at a later stage."
   ]
  },
  {
   "cell_type": "code",
   "execution_count": 5,
   "metadata": {},
   "outputs": [],
   "source": [
    "model = cobra.io.read_sbml_model('../model/g-thermo.xml')"
   ]
  },
  {
   "cell_type": "code",
   "execution_count": 6,
   "metadata": {},
   "outputs": [],
   "source": [
    "#rename\n",
    "model.reactions.MCS.id = 'MECDPS'"
   ]
  },
  {
   "cell_type": "code",
   "execution_count": 7,
   "metadata": {},
   "outputs": [
    {
     "name": "stdout",
     "output_type": "stream",
     "text": [
      "RNDR1 : dadp_c + h2o_c + trdox_c --> adp_c + h_c + trdrd_c\n",
      "PRPAT : pi_c <=> RNA_c + adp_c\n"
     ]
    }
   ],
   "source": [
    "for rct in model.metabolites.adp_c.reactions:\n",
    "    if rct in model.metabolites.atp_c.reactions:\n",
    "        continue\n",
    "    else:\n",
    "        print (rct.id, ':',rct.reaction)"
   ]
  },
  {
   "cell_type": "markdown",
   "metadata": {},
   "source": [
    "So there are only two reactions with ADP but no ATP: RNDR1 and PRPAT. There should also be more, e.g. converting ADP to dADP, and ADP back to AMP. So I will look into this a bit more. "
   ]
  },
  {
   "cell_type": "code",
   "execution_count": 8,
   "metadata": {},
   "outputs": [
    {
     "name": "stderr",
     "output_type": "stream",
     "text": [
      "C:\\Users\\vivmol\\AppData\\Local\\Continuum\\anaconda3\\envs\\g-thermo\\lib\\site-packages\\cobra\\core\\model.py:716: UserWarning:\n",
      "\n",
      "need to pass in a list\n",
      "\n",
      "C:\\Users\\vivmol\\AppData\\Local\\Continuum\\anaconda3\\envs\\g-thermo\\lib\\site-packages\\cobra\\core\\group.py:110: UserWarning:\n",
      "\n",
      "need to pass in a list\n",
      "\n"
     ]
    }
   ],
   "source": [
    "#removing PRPAT, as we know it is wrong\n",
    "model.remove_reactions(model.reactions.PRPAT)"
   ]
  },
  {
   "cell_type": "code",
   "execution_count": 9,
   "metadata": {},
   "outputs": [],
   "source": [
    "#change direction of reaction\n",
    "model.reactions.RNDR1.bounds = (-1000,0)"
   ]
  },
  {
   "cell_type": "code",
   "execution_count": 10,
   "metadata": {},
   "outputs": [
    {
     "name": "stdout",
     "output_type": "stream",
     "text": [
      "PAMPT : coa_c + pamp_c --> amp_c + h_c + ppcoa_c\n",
      "NTD7 : amp_c + h2o_c --> adn_c + pi_c\n",
      "DNADDP : dnad_c + h2o_c --> amp_c + h_c + nicrnt_c\n",
      "BTN5AMPL : b5amp_c + h2o_c <=> amp_c + btn_c + 2.0 h_c\n",
      "ADPRIBPH : adprib_c + h2o_c --> amp_c + h_c + r5p_c\n",
      "NADDP : h2o_c + nad_c --> amp_c + h_c + nmn_c\n",
      "FADDP : fad_c + h2o_c --> amp_c + fmn_c + h_c\n",
      "DPCOAPP : dpcoa_c + h2o_c --> amp_c + h_c + pan4p_c\n",
      "ADPT : amp_c + 2.0 h_c + ppi_c --> ade_c + prpp_c\n",
      "ADSL1r : dcamp_c --> amp_c + fum_c + h_c\n"
     ]
    }
   ],
   "source": [
    "#also for the amp node, just check which reactions do not involve ATP\n",
    "for rct in model.metabolites.amp_c.reactions:\n",
    "    if rct in model.metabolites.atp_c.reactions:\n",
    "        continue\n",
    "    else:\n",
    "        print (rct.id, ':',rct.reaction)"
   ]
  },
  {
   "cell_type": "code",
   "execution_count": null,
   "metadata": {},
   "outputs": [],
   "source": [
    "#rct DPCOAPP should be Ec 2.7.7.3, not EC3.6.1.9. So here I will change the reaction to the correct."
   ]
  },
  {
   "cell_type": "code",
   "execution_count": 11,
   "metadata": {},
   "outputs": [],
   "source": [
    "model.reactions.DPCOAPP.id = 'PTPATi'"
   ]
  },
  {
   "cell_type": "code",
   "execution_count": 12,
   "metadata": {},
   "outputs": [],
   "source": [
    "model.reactions.PTPATi.name = 'Pantetheine-phosphate adenylyltransferase'\n",
    "model.reactions.PTPATi.annotation = model_e_coli.reactions.PTPATi.annotation\n",
    "model.reactions.PTPATi.bounds = (-1000,0)\n",
    "model.reactions.PTPATi.notes = {}"
   ]
  },
  {
   "cell_type": "code",
   "execution_count": 13,
   "metadata": {},
   "outputs": [],
   "source": [
    "model.reactions.PTPATi.add_metabolites({model.metabolites.atp_c:1,model.metabolites.amp_c:-1, model.metabolites.ppi_c:-1, model.metabolites.h2o_c:1})"
   ]
  },
  {
   "cell_type": "code",
   "execution_count": 25,
   "metadata": {},
   "outputs": [],
   "source": [
    "model.reactions.NNATm.id = 'NNATr'"
   ]
  },
  {
   "cell_type": "code",
   "execution_count": 31,
   "metadata": {},
   "outputs": [],
   "source": [
    "model.reactions.ADPRIBPH.id = 'ADPRDP'"
   ]
  },
  {
   "cell_type": "code",
   "execution_count": 35,
   "metadata": {},
   "outputs": [],
   "source": [
    "#change directionality\n",
    "model.reactions.ADPT.bounds = (-1000,0)"
   ]
  },
  {
   "cell_type": "code",
   "execution_count": 40,
   "metadata": {},
   "outputs": [],
   "source": [
    "#make reversible\n",
    "model.reactions.ADSL1r.bounds = (-1000,1000)"
   ]
  },
  {
   "cell_type": "code",
   "execution_count": 42,
   "metadata": {},
   "outputs": [],
   "source": [
    "#save&commit\n",
    "cobra.io.write_sbml_model(model,'../model/g-thermo.xml')"
   ]
  },
  {
   "cell_type": "markdown",
   "metadata": {},
   "source": [
    "__UMP and UDP__"
   ]
  },
  {
   "cell_type": "code",
   "execution_count": 47,
   "metadata": {},
   "outputs": [],
   "source": [
    "#make irreversible\n",
    "model.reactions.UPPRT.bounds = (-1000,0)"
   ]
  },
  {
   "cell_type": "code",
   "execution_count": 55,
   "metadata": {},
   "outputs": [],
   "source": [
    "#switch directionality\n",
    "#cannot be done as it will kill biomass for now\n",
    "#model.reactions.OMPDC.bounds = (-1000,1000)"
   ]
  },
  {
   "cell_type": "code",
   "execution_count": 63,
   "metadata": {},
   "outputs": [],
   "source": [
    "#DTPCUNPPT should be the same as e. coli ACGAMT\n",
    "#rename the Undecaprenyl phosphate metabolite\n",
    "model.metabolites.dtpcunp_c.id = 'udcpp_c'"
   ]
  },
  {
   "cell_type": "code",
   "execution_count": 65,
   "metadata": {},
   "outputs": [],
   "source": [
    "model.reactions.DTPCUNPPT.id = 'ACGAMT'"
   ]
  },
  {
   "cell_type": "code",
   "execution_count": null,
   "metadata": {},
   "outputs": [],
   "source": [
    "# DTPCUNPT should be PAPPT3"
   ]
  },
  {
   "cell_type": "code",
   "execution_count": 71,
   "metadata": {},
   "outputs": [],
   "source": [
    "model.reactions.DTPCUNPT.id = 'PAPPT3'"
   ]
  },
  {
   "cell_type": "code",
   "execution_count": 72,
   "metadata": {},
   "outputs": [],
   "source": [
    "model.reactions.PAPPT3.bounds = (0,1000)"
   ]
  },
  {
   "cell_type": "code",
   "execution_count": 82,
   "metadata": {},
   "outputs": [],
   "source": [
    "#should be reversible\n",
    "model.reactions.NDPK2.bounds = (-1000,1000)"
   ]
  },
  {
   "cell_type": "code",
   "execution_count": 84,
   "metadata": {},
   "outputs": [],
   "source": [
    "#wrong directionality\n",
    "model.reactions.PYK2.bounds = (-1000,0)"
   ]
  },
  {
   "cell_type": "code",
   "execution_count": 96,
   "metadata": {},
   "outputs": [],
   "source": [
    "model.reactions.PYK5.bounds = (-1000,0)"
   ]
  },
  {
   "cell_type": "code",
   "execution_count": 114,
   "metadata": {},
   "outputs": [],
   "source": [
    "#UACGAMT should be the same as UAGPT3\n",
    "model.reactions.UACGAMT.id = 'UAGPT3'"
   ]
  },
  {
   "cell_type": "code",
   "execution_count": 115,
   "metadata": {},
   "outputs": [],
   "source": [
    "model.reactions.UAGPT3.annotation = model_e_coli.reactions.UAGPT3.annotation"
   ]
  },
  {
   "cell_type": "code",
   "execution_count": 116,
   "metadata": {},
   "outputs": [
    {
     "data": {
      "text/html": [
       "\n",
       "        <table>\n",
       "            <tr>\n",
       "                <td><strong>Reaction identifier</strong></td><td>UAGPT3</td>\n",
       "            </tr><tr>\n",
       "                <td><strong>Name</strong></td><td>R05032</td>\n",
       "            </tr><tr>\n",
       "                <td><strong>Memory address</strong></td>\n",
       "                <td>0x02252aae9f88</td>\n",
       "            </tr><tr>\n",
       "                <td><strong>Stoichiometry</strong></td>\n",
       "                <td>\n",
       "                    <p style='text-align:right'>uacgam_c + uagmda_c <=> uddaalagmdaa_c + udp_c</p>\n",
       "                    <p style='text-align:right'>UDP-N-acetyl-D-glucosamine + Undecaprenyl-diphospho-N-acetylmuramoyl-L-alanyl-D-glutamyl-meso- <=> Undecaprenyl-diphospho-N-acetylmuramoyl-(N-acetylglucosamine)-L- + UDP</p>\n",
       "                </td>\n",
       "            </tr><tr>\n",
       "                <td><strong>GPR</strong></td><td>RTMO00339</td>\n",
       "            </tr><tr>\n",
       "                <td><strong>Lower bound</strong></td><td>-1000.0</td>\n",
       "            </tr><tr>\n",
       "                <td><strong>Upper bound</strong></td><td>1000.0</td>\n",
       "            </tr>\n",
       "        </table>\n",
       "        "
      ],
      "text/plain": [
       "<Reaction UAGPT3 at 0x2252aae9f88>"
      ]
     },
     "execution_count": 116,
     "metadata": {},
     "output_type": "execute_result"
    }
   ],
   "source": [
    "model.metabolites.uddaalagmdaa_c.id = 'uaagmda_c'"
   ]
  },
  {
   "cell_type": "code",
   "execution_count": 118,
   "metadata": {},
   "outputs": [],
   "source": [
    "model.metabolites.uaagmda_c.notes = {}\n",
    "model.metabolites.uaagmda_c.annotation = model_e_coli.metabolites.uaagmda_c.annotation "
   ]
  },
  {
   "cell_type": "code",
   "execution_count": 144,
   "metadata": {},
   "outputs": [],
   "source": [
    "#save&commit\n",
    "cobra.io.write_sbml_model(model,'../model/g-thermo.xml')"
   ]
  },
  {
   "cell_type": "markdown",
   "metadata": {},
   "source": [
    "__dCMP and dCDP__ These nodes seem to be correct."
   ]
  },
  {
   "cell_type": "code",
   "execution_count": 149,
   "metadata": {},
   "outputs": [],
   "source": [
    "model = cobra.io.read_sbml_model('../model/g-thermo.xml')"
   ]
  },
  {
   "cell_type": "markdown",
   "metadata": {},
   "source": [
    "__dGMP and dGDP__"
   ]
  },
  {
   "cell_type": "code",
   "execution_count": 161,
   "metadata": {},
   "outputs": [],
   "source": [
    "#should be in reverse direction\n",
    "model.reactions.AGPOP.bounds = (-1000,0)"
   ]
  },
  {
   "cell_type": "markdown",
   "metadata": {},
   "source": [
    "__dTMP and dTDP__ Seems to be fine"
   ]
  },
  {
   "cell_type": "markdown",
   "metadata": {},
   "source": [
    "__dUMP and dUDP__ is missing one reaction"
   ]
  },
  {
   "cell_type": "code",
   "execution_count": 171,
   "metadata": {},
   "outputs": [],
   "source": [
    "model.add_reaction(Reaction(id='RNDR4'))"
   ]
  },
  {
   "cell_type": "code",
   "execution_count": 173,
   "metadata": {},
   "outputs": [],
   "source": [
    "model.reactions.RNDR4.name = 'Ribonucleoside-diphosphate reductase (UDP)'\n",
    "model.reactions.RNDR4.bounds = (0,1000)\n",
    "model.reactions.RNDR4.annotation = model_e_coli.reactions.RNDR4.annotation"
   ]
  },
  {
   "cell_type": "code",
   "execution_count": 174,
   "metadata": {},
   "outputs": [],
   "source": [
    "model.reactions.RNDR4.add_metabolites({model.metabolites.trdrd_c:-1, model.metabolites.udp_c:-1, model.metabolites.dudp_c:1, model.metabolites.h2o_c:1, model.metabolites.trdox_c:1})"
   ]
  },
  {
   "cell_type": "code",
   "execution_count": 178,
   "metadata": {},
   "outputs": [],
   "source": [
    "#save&commit\n",
    "cobra.io.write_sbml_model(model,'../model/g-thermo.xml')"
   ]
  },
  {
   "cell_type": "markdown",
   "metadata": {},
   "source": [
    "__dAMP and dADP__ Both nodes seem fine here."
   ]
  },
  {
   "cell_type": "code",
   "execution_count": 187,
   "metadata": {
    "scrolled": true
   },
   "outputs": [
    {
     "data": {
      "text/html": [
       "<div>\n",
       "<style scoped>\n",
       "    .dataframe tbody tr th:only-of-type {\n",
       "        vertical-align: middle;\n",
       "    }\n",
       "\n",
       "    .dataframe tbody tr th {\n",
       "        vertical-align: top;\n",
       "    }\n",
       "\n",
       "    .dataframe thead th {\n",
       "        text-align: right;\n",
       "    }\n",
       "</style>\n",
       "<table border=\"1\" class=\"dataframe\">\n",
       "  <thead>\n",
       "    <tr style=\"text-align: right;\">\n",
       "      <th></th>\n",
       "      <th>ID</th>\n",
       "      <th>reaction</th>\n",
       "    </tr>\n",
       "  </thead>\n",
       "  <tbody>\n",
       "    <tr>\n",
       "      <th>0</th>\n",
       "      <td>NTD6</td>\n",
       "      <td>damp_c + h2o_c --&gt; dad_2_c + h_c + pi_c</td>\n",
       "    </tr>\n",
       "    <tr>\n",
       "      <th>1</th>\n",
       "      <td>biomass</td>\n",
       "      <td>0.029903042 accoa_c + 0.54554044 ala__L_c + 0....</td>\n",
       "    </tr>\n",
       "    <tr>\n",
       "      <th>2</th>\n",
       "      <td>DADNK</td>\n",
       "      <td>atp_c + dad_2_c --&gt; adp_c + damp_c</td>\n",
       "    </tr>\n",
       "    <tr>\n",
       "      <th>3</th>\n",
       "      <td>DADK</td>\n",
       "      <td>atp_c + damp_c &lt;=&gt; adp_c + dadp_c</td>\n",
       "    </tr>\n",
       "  </tbody>\n",
       "</table>\n",
       "</div>"
      ],
      "text/plain": [
       "        ID                                           reaction\n",
       "0     NTD6            damp_c + h2o_c --> dad_2_c + h_c + pi_c\n",
       "1  biomass  0.029903042 accoa_c + 0.54554044 ala__L_c + 0....\n",
       "2    DADNK                 atp_c + dad_2_c --> adp_c + damp_c\n",
       "3     DADK                  atp_c + damp_c <=> adp_c + dadp_c"
      ]
     },
     "execution_count": 187,
     "metadata": {},
     "output_type": "execute_result"
    }
   ],
   "source": [
    "rct_id = []\n",
    "rct_rct =[]\n",
    "for rct in model.metabolites.damp_c.reactions:\n",
    "    rct_id.append(rct.id)\n",
    "    rct_rct.append(rct.reaction)\n",
    "    \n",
    "rct_df = pd.DataFrame({'ID':rct_id, 'reaction':rct_rct})\n",
    "rct_df"
   ]
  },
  {
   "cell_type": "code",
   "execution_count": 182,
   "metadata": {
    "scrolled": true
   },
   "outputs": [
    {
     "data": {
      "text/html": [
       "<div>\n",
       "<style scoped>\n",
       "    .dataframe tbody tr th:only-of-type {\n",
       "        vertical-align: middle;\n",
       "    }\n",
       "\n",
       "    .dataframe tbody tr th {\n",
       "        vertical-align: top;\n",
       "    }\n",
       "\n",
       "    .dataframe thead th {\n",
       "        text-align: right;\n",
       "    }\n",
       "</style>\n",
       "<table border=\"1\" class=\"dataframe\">\n",
       "  <thead>\n",
       "    <tr style=\"text-align: right;\">\n",
       "      <th></th>\n",
       "      <th>ID</th>\n",
       "      <th>reaction</th>\n",
       "    </tr>\n",
       "  </thead>\n",
       "  <tbody>\n",
       "    <tr>\n",
       "      <th>0</th>\n",
       "      <td>NDPK8</td>\n",
       "      <td>atp_c + dadp_c &lt;=&gt; adp_c + datp_c</td>\n",
       "    </tr>\n",
       "    <tr>\n",
       "      <th>1</th>\n",
       "      <td>DADK</td>\n",
       "      <td>atp_c + damp_c &lt;=&gt; adp_c + dadp_c</td>\n",
       "    </tr>\n",
       "    <tr>\n",
       "      <th>2</th>\n",
       "      <td>RNDR1</td>\n",
       "      <td>adp_c + trdrd_c --&gt; dadp_c + h2o_c + trdox_c</td>\n",
       "    </tr>\n",
       "    <tr>\n",
       "      <th>3</th>\n",
       "      <td>RNDR1b</td>\n",
       "      <td>adp_c + grxrd_c --&gt; dadp_c + grxox_c + h2o_c</td>\n",
       "    </tr>\n",
       "  </tbody>\n",
       "</table>\n",
       "</div>"
      ],
      "text/plain": [
       "       ID                                      reaction\n",
       "0   NDPK8             atp_c + dadp_c <=> adp_c + datp_c\n",
       "1    DADK             atp_c + damp_c <=> adp_c + dadp_c\n",
       "2   RNDR1  adp_c + trdrd_c --> dadp_c + h2o_c + trdox_c\n",
       "3  RNDR1b  adp_c + grxrd_c --> dadp_c + grxox_c + h2o_c"
      ]
     },
     "execution_count": 182,
     "metadata": {},
     "output_type": "execute_result"
    }
   ],
   "source": [
    "rct_id = []\n",
    "rct_rct =[]\n",
    "for rct in model_e_coli.metabolites.dadp_c.reactions:\n",
    "    rct_id.append(rct.id)\n",
    "    rct_rct.append(rct.reaction)\n",
    "    \n",
    "rct_df = pd.DataFrame({'ID':rct_id, 'reaction':rct_rct})\n",
    "rct_df"
   ]
  },
  {
   "cell_type": "code",
   "execution_count": 189,
   "metadata": {
    "scrolled": true
   },
   "outputs": [
    {
     "data": {
      "text/plain": [
       "10.7599977886498"
      ]
     },
     "execution_count": 189,
     "metadata": {},
     "output_type": "execute_result"
    }
   ],
   "source": [
    "model.optimize().objective_value"
   ]
  },
  {
   "cell_type": "code",
   "execution_count": 185,
   "metadata": {},
   "outputs": [],
   "source": [
    "#check if this is the cause of ump related issues\n",
    "#switch directionality, cannot bew done now, noted in issue\n",
    "#model.reactions.OMPDC.bounds = (-1000,0)"
   ]
  }
 ],
 "metadata": {
  "kernelspec": {
   "display_name": "Python 3",
   "language": "python",
   "name": "python3"
  },
  "language_info": {
   "codemirror_mode": {
    "name": "ipython",
    "version": 3
   },
   "file_extension": ".py",
   "mimetype": "text/x-python",
   "name": "python",
   "nbconvert_exporter": "python",
   "pygments_lexer": "ipython3",
   "version": "3.7.4"
  }
 },
 "nbformat": 4,
 "nbformat_minor": 2
}
