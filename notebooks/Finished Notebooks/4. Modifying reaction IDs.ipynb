{
 "cells": [
  {
   "cell_type": "markdown",
   "metadata": {},
   "source": [
    "# Introduction\n",
    "In the previous notebooks we have modified the metabolite IDs, annotations and ensured that most metabolites have some mass associated to it. Now we will start to tackle the reactions, to make them more insightfull.\n",
    "\n",
    "In this notebook we will change the reaction IDs to make them easier to work with and allow improved further curation. \n",
    "To do so, first we need to copy the notes that Matteo has assigned in his version of the model to this model. Then when the reactions contain a Kegg ID, we can use this to rename them in a more insightfull way. (This process is similar to what was done for the metabolites.) "
   ]
  },
  {
   "cell_type": "code",
   "execution_count": 1,
   "metadata": {},
   "outputs": [
    {
     "data": {
      "application/javascript": [
       "\n",
       "(function(root) {\n",
       "  function now() {\n",
       "    return new Date();\n",
       "  }\n",
       "\n",
       "  var force = true;\n",
       "\n",
       "  if (typeof root._bokeh_onload_callbacks === \"undefined\" || force === true) {\n",
       "    root._bokeh_onload_callbacks = [];\n",
       "    root._bokeh_is_loading = undefined;\n",
       "  }\n",
       "\n",
       "  var JS_MIME_TYPE = 'application/javascript';\n",
       "  var HTML_MIME_TYPE = 'text/html';\n",
       "  var EXEC_MIME_TYPE = 'application/vnd.bokehjs_exec.v0+json';\n",
       "  var CLASS_NAME = 'output_bokeh rendered_html';\n",
       "\n",
       "  /**\n",
       "   * Render data to the DOM node\n",
       "   */\n",
       "  function render(props, node) {\n",
       "    var script = document.createElement(\"script\");\n",
       "    node.appendChild(script);\n",
       "  }\n",
       "\n",
       "  /**\n",
       "   * Handle when an output is cleared or removed\n",
       "   */\n",
       "  function handleClearOutput(event, handle) {\n",
       "    var cell = handle.cell;\n",
       "\n",
       "    var id = cell.output_area._bokeh_element_id;\n",
       "    var server_id = cell.output_area._bokeh_server_id;\n",
       "    // Clean up Bokeh references\n",
       "    if (id != null && id in Bokeh.index) {\n",
       "      Bokeh.index[id].model.document.clear();\n",
       "      delete Bokeh.index[id];\n",
       "    }\n",
       "\n",
       "    if (server_id !== undefined) {\n",
       "      // Clean up Bokeh references\n",
       "      var cmd = \"from bokeh.io.state import curstate; print(curstate().uuid_to_server['\" + server_id + \"'].get_sessions()[0].document.roots[0]._id)\";\n",
       "      cell.notebook.kernel.execute(cmd, {\n",
       "        iopub: {\n",
       "          output: function(msg) {\n",
       "            var id = msg.content.text.trim();\n",
       "            if (id in Bokeh.index) {\n",
       "              Bokeh.index[id].model.document.clear();\n",
       "              delete Bokeh.index[id];\n",
       "            }\n",
       "          }\n",
       "        }\n",
       "      });\n",
       "      // Destroy server and session\n",
       "      var cmd = \"import bokeh.io.notebook as ion; ion.destroy_server('\" + server_id + \"')\";\n",
       "      cell.notebook.kernel.execute(cmd);\n",
       "    }\n",
       "  }\n",
       "\n",
       "  /**\n",
       "   * Handle when a new output is added\n",
       "   */\n",
       "  function handleAddOutput(event, handle) {\n",
       "    var output_area = handle.output_area;\n",
       "    var output = handle.output;\n",
       "\n",
       "    // limit handleAddOutput to display_data with EXEC_MIME_TYPE content only\n",
       "    if ((output.output_type != \"display_data\") || (!output.data.hasOwnProperty(EXEC_MIME_TYPE))) {\n",
       "      return\n",
       "    }\n",
       "\n",
       "    var toinsert = output_area.element.find(\".\" + CLASS_NAME.split(' ')[0]);\n",
       "\n",
       "    if (output.metadata[EXEC_MIME_TYPE][\"id\"] !== undefined) {\n",
       "      toinsert[toinsert.length - 1].firstChild.textContent = output.data[JS_MIME_TYPE];\n",
       "      // store reference to embed id on output_area\n",
       "      output_area._bokeh_element_id = output.metadata[EXEC_MIME_TYPE][\"id\"];\n",
       "    }\n",
       "    if (output.metadata[EXEC_MIME_TYPE][\"server_id\"] !== undefined) {\n",
       "      var bk_div = document.createElement(\"div\");\n",
       "      bk_div.innerHTML = output.data[HTML_MIME_TYPE];\n",
       "      var script_attrs = bk_div.children[0].attributes;\n",
       "      for (var i = 0; i < script_attrs.length; i++) {\n",
       "        toinsert[toinsert.length - 1].firstChild.setAttribute(script_attrs[i].name, script_attrs[i].value);\n",
       "      }\n",
       "      // store reference to server id on output_area\n",
       "      output_area._bokeh_server_id = output.metadata[EXEC_MIME_TYPE][\"server_id\"];\n",
       "    }\n",
       "  }\n",
       "\n",
       "  function register_renderer(events, OutputArea) {\n",
       "\n",
       "    function append_mime(data, metadata, element) {\n",
       "      // create a DOM node to render to\n",
       "      var toinsert = this.create_output_subarea(\n",
       "        metadata,\n",
       "        CLASS_NAME,\n",
       "        EXEC_MIME_TYPE\n",
       "      );\n",
       "      this.keyboard_manager.register_events(toinsert);\n",
       "      // Render to node\n",
       "      var props = {data: data, metadata: metadata[EXEC_MIME_TYPE]};\n",
       "      render(props, toinsert[toinsert.length - 1]);\n",
       "      element.append(toinsert);\n",
       "      return toinsert\n",
       "    }\n",
       "\n",
       "    /* Handle when an output is cleared or removed */\n",
       "    events.on('clear_output.CodeCell', handleClearOutput);\n",
       "    events.on('delete.Cell', handleClearOutput);\n",
       "\n",
       "    /* Handle when a new output is added */\n",
       "    events.on('output_added.OutputArea', handleAddOutput);\n",
       "\n",
       "    /**\n",
       "     * Register the mime type and append_mime function with output_area\n",
       "     */\n",
       "    OutputArea.prototype.register_mime_type(EXEC_MIME_TYPE, append_mime, {\n",
       "      /* Is output safe? */\n",
       "      safe: true,\n",
       "      /* Index of renderer in `output_area.display_order` */\n",
       "      index: 0\n",
       "    });\n",
       "  }\n",
       "\n",
       "  // register the mime type if in Jupyter Notebook environment and previously unregistered\n",
       "  if (root.Jupyter !== undefined) {\n",
       "    var events = require('base/js/events');\n",
       "    var OutputArea = require('notebook/js/outputarea').OutputArea;\n",
       "\n",
       "    if (OutputArea.prototype.mime_types().indexOf(EXEC_MIME_TYPE) == -1) {\n",
       "      register_renderer(events, OutputArea);\n",
       "    }\n",
       "  }\n",
       "\n",
       "  \n",
       "  if (typeof (root._bokeh_timeout) === \"undefined\" || force === true) {\n",
       "    root._bokeh_timeout = Date.now() + 5000;\n",
       "    root._bokeh_failed_load = false;\n",
       "  }\n",
       "\n",
       "  var NB_LOAD_WARNING = {'data': {'text/html':\n",
       "     \"<div style='background-color: #fdd'>\\n\"+\n",
       "     \"<p>\\n\"+\n",
       "     \"BokehJS does not appear to have successfully loaded. If loading BokehJS from CDN, this \\n\"+\n",
       "     \"may be due to a slow or bad network connection. Possible fixes:\\n\"+\n",
       "     \"</p>\\n\"+\n",
       "     \"<ul>\\n\"+\n",
       "     \"<li>re-rerun `output_notebook()` to attempt to load from CDN again, or</li>\\n\"+\n",
       "     \"<li>use INLINE resources instead, as so:</li>\\n\"+\n",
       "     \"</ul>\\n\"+\n",
       "     \"<code>\\n\"+\n",
       "     \"from bokeh.resources import INLINE\\n\"+\n",
       "     \"output_notebook(resources=INLINE)\\n\"+\n",
       "     \"</code>\\n\"+\n",
       "     \"</div>\"}};\n",
       "\n",
       "  function display_loaded() {\n",
       "    var el = document.getElementById(null);\n",
       "    if (el != null) {\n",
       "      el.textContent = \"BokehJS is loading...\";\n",
       "    }\n",
       "    if (root.Bokeh !== undefined) {\n",
       "      if (el != null) {\n",
       "        el.textContent = \"BokehJS \" + root.Bokeh.version + \" successfully loaded.\";\n",
       "      }\n",
       "    } else if (Date.now() < root._bokeh_timeout) {\n",
       "      setTimeout(display_loaded, 100)\n",
       "    }\n",
       "  }\n",
       "\n",
       "\n",
       "  function run_callbacks() {\n",
       "    try {\n",
       "      root._bokeh_onload_callbacks.forEach(function(callback) {\n",
       "        if (callback != null)\n",
       "          callback();\n",
       "      });\n",
       "    } finally {\n",
       "      delete root._bokeh_onload_callbacks\n",
       "    }\n",
       "    console.debug(\"Bokeh: all callbacks have finished\");\n",
       "  }\n",
       "\n",
       "  function load_libs(css_urls, js_urls, callback) {\n",
       "    if (css_urls == null) css_urls = [];\n",
       "    if (js_urls == null) js_urls = [];\n",
       "\n",
       "    root._bokeh_onload_callbacks.push(callback);\n",
       "    if (root._bokeh_is_loading > 0) {\n",
       "      console.debug(\"Bokeh: BokehJS is being loaded, scheduling callback at\", now());\n",
       "      return null;\n",
       "    }\n",
       "    if (js_urls == null || js_urls.length === 0) {\n",
       "      run_callbacks();\n",
       "      return null;\n",
       "    }\n",
       "    console.debug(\"Bokeh: BokehJS not loaded, scheduling load and callback at\", now());\n",
       "    root._bokeh_is_loading = css_urls.length + js_urls.length;\n",
       "\n",
       "    function on_load() {\n",
       "      root._bokeh_is_loading--;\n",
       "      if (root._bokeh_is_loading === 0) {\n",
       "        console.debug(\"Bokeh: all BokehJS libraries/stylesheets loaded\");\n",
       "        run_callbacks()\n",
       "      }\n",
       "    }\n",
       "\n",
       "    function on_error() {\n",
       "      console.error(\"failed to load \" + url);\n",
       "    }\n",
       "\n",
       "    for (var i = 0; i < css_urls.length; i++) {\n",
       "      var url = css_urls[i];\n",
       "      const element = document.createElement(\"link\");\n",
       "      element.onload = on_load;\n",
       "      element.onerror = on_error;\n",
       "      element.rel = \"stylesheet\";\n",
       "      element.type = \"text/css\";\n",
       "      element.href = url;\n",
       "      console.debug(\"Bokeh: injecting link tag for BokehJS stylesheet: \", url);\n",
       "      document.body.appendChild(element);\n",
       "    }\n",
       "\n",
       "    for (var i = 0; i < js_urls.length; i++) {\n",
       "      var url = js_urls[i];\n",
       "      var element = document.createElement('script');\n",
       "      element.onload = on_load;\n",
       "      element.onerror = on_error;\n",
       "      element.async = false;\n",
       "      element.src = url;\n",
       "      console.debug(\"Bokeh: injecting script tag for BokehJS library: \", url);\n",
       "      document.head.appendChild(element);\n",
       "    }\n",
       "  };\n",
       "\n",
       "  function inject_raw_css(css) {\n",
       "    const element = document.createElement(\"style\");\n",
       "    element.appendChild(document.createTextNode(css));\n",
       "    document.body.appendChild(element);\n",
       "  }\n",
       "\n",
       "  var js_urls = [\"https://cdn.pydata.org/bokeh/release/bokeh-1.3.4.min.js\", \"https://cdn.pydata.org/bokeh/release/bokeh-widgets-1.3.4.min.js\", \"https://cdn.pydata.org/bokeh/release/bokeh-tables-1.3.4.min.js\", \"https://cdn.pydata.org/bokeh/release/bokeh-gl-1.3.4.min.js\"];\n",
       "  var css_urls = [];\n",
       "\n",
       "  var inline_js = [\n",
       "    function(Bokeh) {\n",
       "      Bokeh.set_log_level(\"info\");\n",
       "    },\n",
       "    \n",
       "    function(Bokeh) {\n",
       "      \n",
       "    },\n",
       "    function(Bokeh) {} // ensure no trailing comma for IE\n",
       "  ];\n",
       "\n",
       "  function run_inline_js() {\n",
       "    \n",
       "    if ((root.Bokeh !== undefined) || (force === true)) {\n",
       "      for (var i = 0; i < inline_js.length; i++) {\n",
       "        inline_js[i].call(root, root.Bokeh);\n",
       "      }} else if (Date.now() < root._bokeh_timeout) {\n",
       "      setTimeout(run_inline_js, 100);\n",
       "    } else if (!root._bokeh_failed_load) {\n",
       "      console.log(\"Bokeh: BokehJS failed to load within specified timeout.\");\n",
       "      root._bokeh_failed_load = true;\n",
       "    } else if (force !== true) {\n",
       "      var cell = $(document.getElementById(null)).parents('.cell').data().cell;\n",
       "      cell.output_area.append_execute_result(NB_LOAD_WARNING)\n",
       "    }\n",
       "\n",
       "  }\n",
       "\n",
       "  if (root._bokeh_is_loading === 0) {\n",
       "    console.debug(\"Bokeh: BokehJS loaded, going straight to plotting\");\n",
       "    run_inline_js();\n",
       "  } else {\n",
       "    load_libs(css_urls, js_urls, function() {\n",
       "      console.debug(\"Bokeh: BokehJS plotting callback run at\", now());\n",
       "      run_inline_js();\n",
       "    });\n",
       "  }\n",
       "}(window));"
      ],
      "application/vnd.bokehjs_load.v0+json": "\n(function(root) {\n  function now() {\n    return new Date();\n  }\n\n  var force = true;\n\n  if (typeof root._bokeh_onload_callbacks === \"undefined\" || force === true) {\n    root._bokeh_onload_callbacks = [];\n    root._bokeh_is_loading = undefined;\n  }\n\n  \n\n  \n  if (typeof (root._bokeh_timeout) === \"undefined\" || force === true) {\n    root._bokeh_timeout = Date.now() + 5000;\n    root._bokeh_failed_load = false;\n  }\n\n  var NB_LOAD_WARNING = {'data': {'text/html':\n     \"<div style='background-color: #fdd'>\\n\"+\n     \"<p>\\n\"+\n     \"BokehJS does not appear to have successfully loaded. If loading BokehJS from CDN, this \\n\"+\n     \"may be due to a slow or bad network connection. Possible fixes:\\n\"+\n     \"</p>\\n\"+\n     \"<ul>\\n\"+\n     \"<li>re-rerun `output_notebook()` to attempt to load from CDN again, or</li>\\n\"+\n     \"<li>use INLINE resources instead, as so:</li>\\n\"+\n     \"</ul>\\n\"+\n     \"<code>\\n\"+\n     \"from bokeh.resources import INLINE\\n\"+\n     \"output_notebook(resources=INLINE)\\n\"+\n     \"</code>\\n\"+\n     \"</div>\"}};\n\n  function display_loaded() {\n    var el = document.getElementById(null);\n    if (el != null) {\n      el.textContent = \"BokehJS is loading...\";\n    }\n    if (root.Bokeh !== undefined) {\n      if (el != null) {\n        el.textContent = \"BokehJS \" + root.Bokeh.version + \" successfully loaded.\";\n      }\n    } else if (Date.now() < root._bokeh_timeout) {\n      setTimeout(display_loaded, 100)\n    }\n  }\n\n\n  function run_callbacks() {\n    try {\n      root._bokeh_onload_callbacks.forEach(function(callback) {\n        if (callback != null)\n          callback();\n      });\n    } finally {\n      delete root._bokeh_onload_callbacks\n    }\n    console.debug(\"Bokeh: all callbacks have finished\");\n  }\n\n  function load_libs(css_urls, js_urls, callback) {\n    if (css_urls == null) css_urls = [];\n    if (js_urls == null) js_urls = [];\n\n    root._bokeh_onload_callbacks.push(callback);\n    if (root._bokeh_is_loading > 0) {\n      console.debug(\"Bokeh: BokehJS is being loaded, scheduling callback at\", now());\n      return null;\n    }\n    if (js_urls == null || js_urls.length === 0) {\n      run_callbacks();\n      return null;\n    }\n    console.debug(\"Bokeh: BokehJS not loaded, scheduling load and callback at\", now());\n    root._bokeh_is_loading = css_urls.length + js_urls.length;\n\n    function on_load() {\n      root._bokeh_is_loading--;\n      if (root._bokeh_is_loading === 0) {\n        console.debug(\"Bokeh: all BokehJS libraries/stylesheets loaded\");\n        run_callbacks()\n      }\n    }\n\n    function on_error() {\n      console.error(\"failed to load \" + url);\n    }\n\n    for (var i = 0; i < css_urls.length; i++) {\n      var url = css_urls[i];\n      const element = document.createElement(\"link\");\n      element.onload = on_load;\n      element.onerror = on_error;\n      element.rel = \"stylesheet\";\n      element.type = \"text/css\";\n      element.href = url;\n      console.debug(\"Bokeh: injecting link tag for BokehJS stylesheet: \", url);\n      document.body.appendChild(element);\n    }\n\n    for (var i = 0; i < js_urls.length; i++) {\n      var url = js_urls[i];\n      var element = document.createElement('script');\n      element.onload = on_load;\n      element.onerror = on_error;\n      element.async = false;\n      element.src = url;\n      console.debug(\"Bokeh: injecting script tag for BokehJS library: \", url);\n      document.head.appendChild(element);\n    }\n  };\n\n  function inject_raw_css(css) {\n    const element = document.createElement(\"style\");\n    element.appendChild(document.createTextNode(css));\n    document.body.appendChild(element);\n  }\n\n  var js_urls = [\"https://cdn.pydata.org/bokeh/release/bokeh-1.3.4.min.js\", \"https://cdn.pydata.org/bokeh/release/bokeh-widgets-1.3.4.min.js\", \"https://cdn.pydata.org/bokeh/release/bokeh-tables-1.3.4.min.js\", \"https://cdn.pydata.org/bokeh/release/bokeh-gl-1.3.4.min.js\"];\n  var css_urls = [];\n\n  var inline_js = [\n    function(Bokeh) {\n      Bokeh.set_log_level(\"info\");\n    },\n    \n    function(Bokeh) {\n      \n    },\n    function(Bokeh) {} // ensure no trailing comma for IE\n  ];\n\n  function run_inline_js() {\n    \n    if ((root.Bokeh !== undefined) || (force === true)) {\n      for (var i = 0; i < inline_js.length; i++) {\n        inline_js[i].call(root, root.Bokeh);\n      }} else if (Date.now() < root._bokeh_timeout) {\n      setTimeout(run_inline_js, 100);\n    } else if (!root._bokeh_failed_load) {\n      console.log(\"Bokeh: BokehJS failed to load within specified timeout.\");\n      root._bokeh_failed_load = true;\n    } else if (force !== true) {\n      var cell = $(document.getElementById(null)).parents('.cell').data().cell;\n      cell.output_area.append_execute_result(NB_LOAD_WARNING)\n    }\n\n  }\n\n  if (root._bokeh_is_loading === 0) {\n    console.debug(\"Bokeh: BokehJS loaded, going straight to plotting\");\n    run_inline_js();\n  } else {\n    load_libs(css_urls, js_urls, function() {\n      console.debug(\"Bokeh: BokehJS plotting callback run at\", now());\n      run_inline_js();\n    });\n  }\n}(window));"
     },
     "metadata": {},
     "output_type": "display_data"
    }
   ],
   "source": [
    "import cobra\n",
    "import pandas as pd\n",
    "import cameo"
   ]
  },
  {
   "cell_type": "code",
   "execution_count": 2,
   "metadata": {},
   "outputs": [],
   "source": [
    "model = cobra.io.read_sbml_model(\"../../model/g-thermo.xml\")"
   ]
  },
  {
   "cell_type": "code",
   "execution_count": 5,
   "metadata": {},
   "outputs": [],
   "source": [
    "matteo_model = cobra.io.read_sbml_model(\"../../databases/g-thermo-Matteo.xml\")"
   ]
  },
  {
   "cell_type": "markdown",
   "metadata": {},
   "source": [
    "## Copying the notes from Matteo model"
   ]
  },
  {
   "cell_type": "markdown",
   "metadata": {},
   "source": [
    "We can now try to copy the relevant notes from the matteo model to the original model. "
   ]
  },
  {
   "cell_type": "code",
   "execution_count": 6,
   "metadata": {},
   "outputs": [
    {
     "name": "stdout",
     "output_type": "stream",
     "text": [
      "280\n",
      "290\n",
      "87\n"
     ]
    }
   ],
   "source": [
    "#copying the desired notes from the matteo model\n",
    "no_notes_KEGG = []\n",
    "no_notes_ec = []\n",
    "no_notes_rct = []\n",
    "for rct in model.reactions:\n",
    "    id = rct.id\n",
    "    if rct in matteo_model.reactions:\n",
    "        rct_matteo = matteo_model.reactions.get_by_id(id)\n",
    "        try:\n",
    "            rct.notes[\"KEGG ID\"] = rct_matteo.notes[\"ID\"]\n",
    "        except KeyError:\n",
    "            no_notes_KEGG.append(rct)\n",
    "        try:\n",
    "            rct.notes[\"ENZYME\"] = rct_matteo.notes[\"ENZYME\"]\n",
    "        except KeyError:\n",
    "            no_notes_ec.append(rct)\n",
    "        try:\n",
    "            rct.notes[\"NAME\"] = rct_matteo.notes[\"NAME\"]\n",
    "        except KeyError:\n",
    "            continue\n",
    "        try:\n",
    "            rct.notes[\"DEFINITION\"] = rct_matteo.notes[\"DEFINITION\"]\n",
    "        except KeyError:\n",
    "            if rct in no_notes_rct:\n",
    "                continue\n",
    "            else:\n",
    "                no_notes_rct.append(rct)\n",
    "    else:\n",
    "        no_notes_rct.append(rct)\n",
    "print(len(no_notes_KEGG))\n",
    "print(len(no_notes_ec))\n",
    "print(len(no_notes_rct))"
   ]
  },
  {
   "cell_type": "code",
   "execution_count": 7,
   "metadata": {},
   "outputs": [
    {
     "data": {
      "text/plain": [
       "[<Reaction EX_179_e at 0x148af5c0e88>,\n",
       " <Reaction EX_82_e at 0x148af5da408>,\n",
       " <Reaction EX_394_e at 0x148af5f0588>,\n",
       " <Reaction EX_991_e at 0x148af5f0dc8>,\n",
       " <Reaction EX_2328_e at 0x148af5f0fc8>,\n",
       " <Reaction EX_1231_e at 0x148af605288>,\n",
       " <Reaction EX_1039_e at 0x148af605c88>,\n",
       " <Reaction EX_1243_e at 0x148af60a508>,\n",
       " <Reaction EX_1014_e at 0x148af614208>,\n",
       " <Reaction EX_813_e at 0x148af6190c8>,\n",
       " <Reaction EX_299_e at 0x148af61f548>,\n",
       " <Reaction 117 at 0x148af704448>,\n",
       " <Reaction 211 at 0x148af7a7b08>,\n",
       " <Reaction 323 at 0x148af881c48>,\n",
       " <Reaction 349 at 0x148af8b4848>,\n",
       " <Reaction 366 at 0x148af8d5cc8>,\n",
       " <Reaction 372 at 0x148af8df188>,\n",
       " <Reaction 430 at 0x148af938848>,\n",
       " <Reaction 436 at 0x148af93d6c8>,\n",
       " <Reaction 507 at 0x148af9aabc8>,\n",
       " <Reaction 544 at 0x148af9e2e48>,\n",
       " <Reaction 644 at 0x148afa6c4c8>,\n",
       " <Reaction 645 at 0x148afa6cbc8>,\n",
       " <Reaction 654 at 0x148afa77b08>,\n",
       " <Reaction 730 at 0x148afacd708>,\n",
       " <Reaction 831 at 0x148ac096948>,\n",
       " <Reaction 838 at 0x148af5f9d48>,\n",
       " <Reaction 839 at 0x148af605e08>,\n",
       " <Reaction 972 at 0x148af7afc08>,\n",
       " <Reaction 1010 at 0x148afbe8648>,\n",
       " <Reaction 1081 at 0x148afc2d448>,\n",
       " <Reaction 1082 at 0x148afc2db48>,\n",
       " <Reaction 1153 at 0x148afc63288>,\n",
       " <Reaction 1242 at 0x148afc84a88>,\n",
       " <Reaction 1269 at 0x148afc9d248>,\n",
       " <Reaction 1286 at 0x148afca6c48>,\n",
       " <Reaction 1326 at 0x148afcbaf08>,\n",
       " <Reaction 1329 at 0x148afcc2a08>,\n",
       " <Reaction 1331 at 0x148afcc2988>,\n",
       " <Reaction 1332 at 0x148afcc6c08>,\n",
       " <Reaction 1343 at 0x148afcd1948>,\n",
       " <Reaction 1344 at 0x148afcd1ec8>,\n",
       " <Reaction 1345 at 0x148afcd74c8>,\n",
       " <Reaction 1346 at 0x148afcd7b08>,\n",
       " <Reaction 1354 at 0x148afcd7fc8>,\n",
       " <Reaction 1371 at 0x148afce19c8>,\n",
       " <Reaction 1568 at 0x148afd0b108>,\n",
       " <Reaction M_945_e_out at 0x148afdcef08>,\n",
       " <Reaction M_2466_e_out at 0x148afdd1588>,\n",
       " <Reaction M_209_e_out at 0x148afdd1848>,\n",
       " <Reaction M_737_e_out at 0x148afdd68c8>,\n",
       " <Reaction M_236_e_out at 0x148afddb508>,\n",
       " <Reaction M_106_e_out at 0x148afddb708>,\n",
       " <Reaction M_101_e_out at 0x148afddbbc8>,\n",
       " <Reaction M_234_e_out at 0x148afdec448>,\n",
       " <Reaction M_218_e_out at 0x148afdec648>,\n",
       " <Reaction M_452_e_out at 0x148afdec888>,\n",
       " <Reaction M_181_e_out at 0x148afdecc08>,\n",
       " <Reaction M_95_e_out at 0x148afdecf48>,\n",
       " <Reaction M_179_e_out at 0x148afdf1488>,\n",
       " <Reaction M_10_e_out at 0x148afdfda08>,\n",
       " <Reaction M_127_e_out at 0x148afdfdc48>,\n",
       " <Reaction M_82_e_out at 0x148afdfde48>,\n",
       " <Reaction M_18_e_out at 0x148afe024c8>,\n",
       " <Reaction M_195_e_out at 0x148afe02548>,\n",
       " <Reaction M_22_e_out at 0x148afe027c8>,\n",
       " <Reaction M_30_e_out at 0x148afe02a88>,\n",
       " <Reaction M_3_e_out at 0x148afe02c88>,\n",
       " <Reaction M_4_e_out at 0x148afe08448>,\n",
       " <Reaction M_74_e_out at 0x148afe08dc8>,\n",
       " <Reaction M_91_e_out at 0x148afe0f488>,\n",
       " <Reaction M_394_e_out at 0x148afe0f808>,\n",
       " <Reaction M_668_e_out at 0x148afe154c8>,\n",
       " <Reaction M_685_e_out at 0x148afe1b488>,\n",
       " <Reaction M_593_e_out at 0x148afe1bcc8>,\n",
       " <Reaction M_413_e_out at 0x148afe1bf08>,\n",
       " <Reaction M_1231_e_out at 0x148afe21b88>,\n",
       " <Reaction M_251_e_out at 0x148afe21d88>,\n",
       " <Reaction M_1977_e_out at 0x148afe21f88>,\n",
       " <Reaction M_1039_e_out at 0x148afe27448>,\n",
       " <Reaction M_1243_e_out at 0x148afe27d48>,\n",
       " <Reaction M_1014_e_out at 0x148afe35488>,\n",
       " <Reaction M_680_e_out at 0x148afe3b748>,\n",
       " <Reaction M_813_e_out at 0x148afe3bb48>,\n",
       " <Reaction M_445_e_out at 0x148afe425c8>,\n",
       " <Reaction M_395_e_out at 0x148afe4f488>,\n",
       " <Reaction e_out at 0x148afe58348>]"
      ]
     },
     "execution_count": 7,
     "metadata": {},
     "output_type": "execute_result"
    }
   ],
   "source": [
    "no_notes_rct"
   ]
  },
  {
   "cell_type": "markdown",
   "metadata": {},
   "source": [
    "The only reactions without the KEGG Id are the exchange and transport reactions, which makes sense. For these we will write another script later anyway to make them more meaningful. For the vast majority of the reactions this is also the case for the ec number. \n",
    "\n",
    "There are still 89 reactions without any notes (as they are either unique in beata's original version or they dont have notes in matteo's version).  \n",
    "For these metabolites, we will need to do some manual modification of their ID's later anyway, so it's oke to leave them for now. "
   ]
  },
  {
   "cell_type": "code",
   "execution_count": 8,
   "metadata": {},
   "outputs": [],
   "source": [
    "#save & commit\n",
    "cobra.io.write_sbml_model(model,\"../../model/g-thermo.xml\")"
   ]
  },
  {
   "cell_type": "markdown",
   "metadata": {},
   "source": [
    "## Automatic ID modification\n",
    "\n",
    "Once the reactions have their notes associated, we can modify the reaction IDs automatically  by mapping a MetaNetX ID to each reaction according to the assigned KEGG reaction. Then from there, we can find a BiGG ID to assign to those reactions. To do so, we have downloaded the MetaNetX database and will use that. This can be found here: https://www.metanetx.org/mnxdoc/mnxref.html\n",
    "\n",
    "Then we can inspect the reactions that remain unnamed to see why and how to re-name them more intuitively in another approach."
   ]
  },
  {
   "cell_type": "code",
   "execution_count": 9,
   "metadata": {},
   "outputs": [
    {
     "data": {
      "text/html": [
       "\n",
       "        <table>\n",
       "            <tr>\n",
       "                <td><strong>Name</strong></td>\n",
       "                <td>GTModelBeata2015</td>\n",
       "            </tr><tr>\n",
       "                <td><strong>Memory address</strong></td>\n",
       "                <td>0x0148b251ab88</td>\n",
       "            </tr><tr>\n",
       "                <td><strong>Number of metabolites</strong></td>\n",
       "                <td>851</td>\n",
       "            </tr><tr>\n",
       "                <td><strong>Number of reactions</strong></td>\n",
       "                <td>1202</td>\n",
       "            </tr><tr>\n",
       "                <td><strong>Number of groups</strong></td>\n",
       "                <td>15</td>\n",
       "            </tr><tr>\n",
       "                <td><strong>Objective expression</strong></td>\n",
       "                <td>1.0*M_biomass - 1.0*M_biomass_reverse_e7414</td>\n",
       "            </tr><tr>\n",
       "                <td><strong>Compartments</strong></td>\n",
       "                <td>c, e</td>\n",
       "            </tr>\n",
       "          </table>"
      ],
      "text/plain": [
       "<Model GTModelBeata2015 at 0x148b251ab88>"
      ]
     },
     "execution_count": 9,
     "metadata": {},
     "output_type": "execute_result"
    }
   ],
   "source": [
    "cobra.io.read_sbml_model(\"../../model/g-thermo.xml\")"
   ]
  },
  {
   "cell_type": "code",
   "execution_count": 4,
   "metadata": {},
   "outputs": [],
   "source": [
    "# Load databae of reaction IDs, taken from MetanetX\n",
    "rct_df = pd.read_csv(\"../databases/reac_xref.tsv\", sep=\"\\t\", skiprows=385)\n",
    "#NOTE: an extra colum head was added to the file on line 386 called 'note' to fix the headings being aligned further"
   ]
  },
  {
   "cell_type": "code",
   "execution_count": 5,
   "metadata": {},
   "outputs": [],
   "source": [
    "#try to change reacion IDs to match BiGG IDs\n",
    "unmatched_rct = []\n",
    "for rct in model.reactions:\n",
    "    # construct string that matches reaction ID to IDs in database\n",
    "    try:\n",
    "        rct_id = \"kegg:\"+ rct.notes[\"KEGG ID\"]\n",
    "    except KeyError:\n",
    "        unmatched_rct.append(rct)\n",
    "        continue\n",
    "    # try to find metanetx id for this reaction\n",
    "    try:\n",
    "        rct_new_id = rct_df.loc[rct_df[\"#XREF\"] == rct_id,\"MNX_ID\"].values[0]\n",
    "    except IndexError:\n",
    "        unmatched_rct.append(rct)\n",
    "        continue\n",
    "    # find all entries that have the same metanetx id\n",
    "    matched_compounds = rct_df[rct_df['MNX_ID'] == rct_new_id]\n",
    "    # find the shortest BiGG id that correspond to our MetaNetX id\n",
    "    try:\n",
    "        # Look for BiGG ID, if it fails put it in the unmatched_rct list\n",
    "        new_id = (\n",
    "            matched_compounds[matched_compounds[\"#XREF\"].str.startswith(\"bigg:\")][\"#XREF\"]\n",
    "            .str.replace(\"bigg:\", \"\").sort_values(ascending=True).values[0]\n",
    "              )\n",
    "    except IndexError:\n",
    "        unmatched_rct.append(rct)\n",
    "        continue\n",
    "        # overwrite model id with matched id\n",
    "    try:\n",
    "        if \"-\" in new_id:\n",
    "            new_id = new_id.replace(\"-\",\"__\")\n",
    "        rct.id = new_id\n",
    "    except ValueError:\n",
    "        unmatched_rct.append(rct)\n",
    "        continue"
   ]
  },
  {
   "cell_type": "code",
   "execution_count": 6,
   "metadata": {},
   "outputs": [
    {
     "data": {
      "text/plain": [
       "579"
      ]
     },
     "execution_count": 6,
     "metadata": {},
     "output_type": "execute_result"
    }
   ],
   "source": [
    "len(unmatched_rct)"
   ]
  },
  {
   "cell_type": "code",
   "execution_count": 9,
   "metadata": {},
   "outputs": [
    {
     "data": {
      "text/plain": [
       "[<Reaction EX_1819_e at 0x1978d9f3dc8>,\n",
       " <Reaction EX_499_e at 0x1978d9f3d88>,\n",
       " <Reaction EX_23_e at 0x1978d9fb148>,\n",
       " <Reaction EX_43_e at 0x1978d9fb348>,\n",
       " <Reaction EX_1864_e at 0x1978d9fb5c8>,\n",
       " <Reaction EX_85_e at 0x1978d9fb708>,\n",
       " <Reaction EX_140_e at 0x1978d9fb948>,\n",
       " <Reaction EX_408_e at 0x1978d9fbbc8>,\n",
       " <Reaction EX_14_e at 0x1978d9fbe08>,\n",
       " <Reaction EX_29_e at 0x1978da03208>,\n",
       " <Reaction EX_280_e at 0x1978da035c8>,\n",
       " <Reaction EX_1754_e at 0x1978da03888>,\n",
       " <Reaction EX_1755_e at 0x1978da03a88>,\n",
       " <Reaction EX_1_e at 0x1978da03cc8>,\n",
       " <Reaction EX_7_e at 0x1978da03f48>,\n",
       " <Reaction EX_11_e at 0x1978da06188>,\n",
       " <Reaction EX_71_e at 0x1978da06388>,\n",
       " <Reaction EX_209_e at 0x1978da06648>,\n",
       " <Reaction EX_179_e at 0x1978da06888>,\n",
       " <Reaction EX_37_e at 0x1978da06ac8>,\n",
       " <Reaction EX_55_e at 0x1978da06d88>,\n",
       " <Reaction EX_45_e at 0x1978da0b148>,\n",
       " <Reaction EX_357_e at 0x1978da0b488>,\n",
       " <Reaction EX_452_e at 0x1978da0b788>,\n",
       " <Reaction EX_333_e at 0x1978da0ba08>,\n",
       " <Reaction EX_34_e at 0x1978da0bc48>,\n",
       " <Reaction EX_120_e at 0x1978da0bec8>,\n",
       " <Reaction EX_218_e at 0x1978da0f1c8>,\n",
       " <Reaction EX_295_e at 0x1978da0f508>,\n",
       " <Reaction EX_234_e at 0x1978da0f788>,\n",
       " <Reaction EX_65_e at 0x1978da0fa08>,\n",
       " <Reaction EX_211_e at 0x1978da0fc88>,\n",
       " <Reaction EX_70_e at 0x1978da13048>,\n",
       " <Reaction EX_449_e at 0x1978da13308>,\n",
       " <Reaction EX_213_e at 0x1978da13688>,\n",
       " <Reaction EX_58_e at 0x1978da13908>,\n",
       " <Reaction EX_181_e at 0x1978da13b88>,\n",
       " <Reaction EX_69_e at 0x1978da13f08>,\n",
       " <Reaction EX_95_e at 0x1978da17148>,\n",
       " <Reaction EX_236_e at 0x1978da17488>,\n",
       " <Reaction EX_160_e at 0x1978da17708>,\n",
       " <Reaction EX_154_e at 0x1978da17948>,\n",
       " <Reaction EX_106_e at 0x1978da17cc8>,\n",
       " <Reaction EX_101_e at 0x1978da17ec8>,\n",
       " <Reaction EX_134_e at 0x1978da1c1c8>,\n",
       " <Reaction EX_19_e at 0x1978da1c488>,\n",
       " <Reaction EX_128_e at 0x1978da1c788>,\n",
       " <Reaction EX_50_e at 0x1978da1ca88>,\n",
       " <Reaction EX_94_e at 0x1978da1cc88>,\n",
       " <Reaction EX_271_e at 0x1978da1cec8>,\n",
       " <Reaction EX_269_e at 0x1978da1f188>,\n",
       " <Reaction EX_199_e at 0x1978da1f388>,\n",
       " <Reaction EX_273_e at 0x1978da1f5c8>,\n",
       " <Reaction EX_222_e at 0x1978da1f808>,\n",
       " <Reaction EX_2_e at 0x1978da1fa08>,\n",
       " <Reaction EX_547_e at 0x1978da1fc08>,\n",
       " <Reaction EX_77_e at 0x1978da1fdc8>,\n",
       " <Reaction EX_376_e at 0x1978da1ffc8>,\n",
       " <Reaction EX_12_e at 0x1978da27248>,\n",
       " <Reaction EX_168_e at 0x1978da27448>,\n",
       " <Reaction EX_1207_e at 0x1978da27648>,\n",
       " <Reaction EX_286_e at 0x1978da27848>,\n",
       " <Reaction EX_10_e at 0x1978da27988>,\n",
       " <Reaction EX_127_e at 0x1978da27b88>,\n",
       " <Reaction EX_82_e at 0x1978da27d88>,\n",
       " <Reaction EX_1774_e at 0x1978da27f88>,\n",
       " <Reaction EX_18_e at 0x1978da2c1c8>,\n",
       " <Reaction EX_195_e at 0x1978da2c3c8>,\n",
       " <Reaction EX_22_e at 0x1978da2c5c8>,\n",
       " <Reaction EX_243_e at 0x1978da2c7c8>,\n",
       " <Reaction EX_3_e at 0x1978da2c9c8>,\n",
       " <Reaction EX_30_e at 0x1978da2cc08>,\n",
       " <Reaction EX_306_e at 0x1978da2ce08>,\n",
       " <Reaction EX_971_e at 0x1978da31088>,\n",
       " <Reaction EX_4_e at 0x1978da31288>,\n",
       " <Reaction EX_46_e at 0x1978da31488>,\n",
       " <Reaction EX_5_e at 0x1978da31688>,\n",
       " <Reaction EX_6_e at 0x1978da31908>,\n",
       " <Reaction EX_74_e at 0x1978da31b08>,\n",
       " <Reaction EX_91_e at 0x1978da31d08>,\n",
       " <Reaction EX_394_e at 0x1978da31f08>,\n",
       " <Reaction EX_249_e at 0x1978da36148>,\n",
       " <Reaction EX_107_e at 0x1978da36348>,\n",
       " <Reaction EX_Biomass_e at 0x1978da36588>,\n",
       " <Reaction EX_991_e at 0x1978da36788>,\n",
       " <Reaction EX_2328_e at 0x1978da36988>,\n",
       " <Reaction EX_668_e at 0x1978da36ac8>,\n",
       " <Reaction EX_402_e at 0x1978da36c08>,\n",
       " <Reaction EX_523_e at 0x1978da36e08>,\n",
       " <Reaction EX_1571_e at 0x1978da3b048>,\n",
       " <Reaction EX_1312_e at 0x1978da3b188>,\n",
       " <Reaction EX_1763_e at 0x1978da3b388>,\n",
       " <Reaction EX_403_e at 0x1978da3b588>,\n",
       " <Reaction EX_1214_e at 0x1978da3b788>,\n",
       " <Reaction EX_1158_e at 0x1978da3b988>,\n",
       " <Reaction EX_422_e at 0x1978da3bb48>,\n",
       " <Reaction EX_635_e at 0x1978da3bd48>,\n",
       " <Reaction EX_654_e at 0x1978da3bf48>,\n",
       " <Reaction EX_657_e at 0x1978da410c8>,\n",
       " <Reaction EX_685_e at 0x1978da41208>,\n",
       " <Reaction EX_902_e at 0x1978da41348>,\n",
       " <Reaction EX_977_e at 0x1978da41548>,\n",
       " <Reaction EX_914_e at 0x1978da41748>,\n",
       " <Reaction EX_349_e at 0x1978da41948>,\n",
       " <Reaction EX_1569_e at 0x1978da41b48>,\n",
       " <Reaction EX_593_e at 0x1978da41d48>,\n",
       " <Reaction EX_413_e at 0x1978da41f48>,\n",
       " <Reaction EX_755_e at 0x1978da461c8>,\n",
       " <Reaction EX_995_e at 0x1978da463c8>,\n",
       " <Reaction EX_892_e at 0x1978da465c8>,\n",
       " <Reaction EX_10000_e at 0x1978da467c8>,\n",
       " <Reaction EX_787_e at 0x1978da469c8>,\n",
       " <Reaction EX_1231_e at 0x1978da46bc8>,\n",
       " <Reaction EX_251_e at 0x1978da46dc8>,\n",
       " <Reaction EX_1066_e at 0x1978da46fc8>,\n",
       " <Reaction EX_1977_e at 0x1978da4b208>,\n",
       " <Reaction EX_112_e at 0x1978da4b408>,\n",
       " <Reaction EX_1039_e at 0x1978da4b608>,\n",
       " <Reaction EX_958_e at 0x1978da4b848>,\n",
       " <Reaction EX_830_e at 0x1978da4ba48>,\n",
       " <Reaction EX_911_e at 0x1978da4bc48>,\n",
       " <Reaction EX_1243_e at 0x1978da4be48>,\n",
       " <Reaction EX_346_e at 0x1978da50088>,\n",
       " <Reaction EX_1190_e at 0x1978da50288>,\n",
       " <Reaction EX_798_e at 0x1978da50488>,\n",
       " <Reaction EX_458_e at 0x1978da50688>,\n",
       " <Reaction EX_1191_e at 0x1978da50888>,\n",
       " <Reaction EX_1194_e at 0x1978da50a88>,\n",
       " <Reaction EX_1643_e at 0x1978da50c88>,\n",
       " <Reaction EX_1036_e at 0x1978da50e88>,\n",
       " <Reaction EX_238_e at 0x1978da56108>,\n",
       " <Reaction EX_624_e at 0x1978da56308>,\n",
       " <Reaction EX_155_e at 0x1978da56508>,\n",
       " <Reaction EX_28_e at 0x1978da56708>,\n",
       " <Reaction EX_742_e at 0x1978da56948>,\n",
       " <Reaction EX_1014_e at 0x1978da56b48>,\n",
       " <Reaction EX_1144_e at 0x1978da56d48>,\n",
       " <Reaction EX_1100_e at 0x1978da56f48>,\n",
       " <Reaction EX_320_e at 0x1978da5c1c8>,\n",
       " <Reaction EX_631_e at 0x1978da5c408>,\n",
       " <Reaction EX_437_e at 0x1978da5c608>,\n",
       " <Reaction EX_680_e at 0x1978da5c808>,\n",
       " <Reaction EX_813_e at 0x1978da5ca08>,\n",
       " <Reaction EX_237_e at 0x1978da5cc08>,\n",
       " <Reaction EX_1797_e at 0x1978da5ce08>,\n",
       " <Reaction EX_1215_e at 0x1978da60048>,\n",
       " <Reaction EX_81_e at 0x1978da60248>,\n",
       " <Reaction EX_583_e at 0x1978da60448>,\n",
       " <Reaction EX_445_e at 0x1978da60648>,\n",
       " <Reaction EX_87_e at 0x1978da60848>,\n",
       " <Reaction EX_961_e at 0x1978da60a88>,\n",
       " <Reaction EX_141_e at 0x1978da60c88>,\n",
       " <Reaction EX_299_e at 0x1978da60e88>,\n",
       " <Reaction EX_2466_e at 0x1978da64108>,\n",
       " <Reaction EX_136_e at 0x1978da64308>,\n",
       " <Reaction EX_1304_e at 0x1978da64508>,\n",
       " <Reaction EX_578_e at 0x1978da64708>,\n",
       " <Reaction EX_496_e at 0x1978da64908>,\n",
       " <Reaction EX_18544_e at 0x1978da64b08>,\n",
       " <Reaction EX_1189_e at 0x1978da64d08>,\n",
       " <Reaction EX_921_e at 0x1978da64f08>,\n",
       " <Reaction EX_1180_e at 0x1978da69148>,\n",
       " <Reaction EX_122_e at 0x1978da69348>,\n",
       " <Reaction EX_737_e at 0x1978da69548>,\n",
       " <Reaction EX_395_e at 0x1978da69748>,\n",
       " <Reaction EX_1038_e at 0x1978da69988>,\n",
       " <Reaction EX_945_e at 0x1978da69b88>,\n",
       " <Reaction EX_1084_e at 0x1978da69d88>,\n",
       " <Reaction EX_31_e at 0x1978da69f88>,\n",
       " <Reaction EX_51_e at 0x1978da6f1c8>,\n",
       " <Reaction EX_38_e at 0x1978da6f488>,\n",
       " <Reaction EX_214_e at 0x1978da6f748>,\n",
       " <Reaction EX_42_e at 0x1978da6f988>,\n",
       " <Reaction EX_35_e at 0x1978da6fbc8>,\n",
       " <Reaction EX_267_e at 0x1978da6fdc8>,\n",
       " <Reaction EX_163_e at 0x1978da6ffc8>,\n",
       " <Reaction EX_281_e at 0x1978da75208>,\n",
       " <Reaction EX_776_e at 0x1978da75448>,\n",
       " <Reaction EX_215_e at 0x1978da75688>,\n",
       " <Reaction 2 at 0x1978da75a88>,\n",
       " <Reaction 9 at 0x1978da7bb48>,\n",
       " <Reaction 15 at 0x1978da89dc8>,\n",
       " <Reaction 16 at 0x1978da8e5c8>,\n",
       " <Reaction 23 at 0x1978da9c9c8>,\n",
       " <Reaction 76 at 0x1978db12148>,\n",
       " <Reaction 105 at 0x1978db27d08>,\n",
       " <Reaction 107 at 0x1978db3b988>,\n",
       " <Reaction 108 at 0x1978db42fc8>,\n",
       " <Reaction 109 at 0x1978db44808>,\n",
       " <Reaction 110 at 0x1978db42f48>,\n",
       " <Reaction 117 at 0x1978db44e08>,\n",
       " <Reaction 121 at 0x1978db56a08>,\n",
       " <Reaction 124 at 0x1978db63648>,\n",
       " <Reaction 132 at 0x1978db6ddc8>,\n",
       " <Reaction 133 at 0x1978db6f248>,\n",
       " <Reaction 134 at 0x1978db73848>,\n",
       " <Reaction 135 at 0x1978db73308>,\n",
       " <Reaction 136 at 0x1978db73788>,\n",
       " <Reaction 137 at 0x1978db79148>,\n",
       " <Reaction 138 at 0x1978db79848>,\n",
       " <Reaction 139 at 0x1978db73b48>,\n",
       " <Reaction 193 at 0x1978dbd0a48>,\n",
       " <Reaction 207 at 0x1978dbe0088>,\n",
       " <Reaction 210 at 0x1978dbe56c8>,\n",
       " <Reaction 211 at 0x1978dbedcc8>,\n",
       " <Reaction 215 at 0x1978dbf69c8>,\n",
       " <Reaction 217 at 0x1978dbf6908>,\n",
       " <Reaction 224 at 0x1978dc0ed08>,\n",
       " <Reaction 226 at 0x1978dc12d48>,\n",
       " <Reaction 231 at 0x1978dc23ac8>,\n",
       " <Reaction 232 at 0x1978dc27688>,\n",
       " <Reaction 233 at 0x1978dc27f48>,\n",
       " <Reaction 234 at 0x1978dc2c888>,\n",
       " <Reaction 236 at 0x1978dc31808>,\n",
       " <Reaction 237 at 0x1978dc31f48>,\n",
       " <Reaction 238 at 0x1978dc317c8>,\n",
       " <Reaction 239 at 0x1978dc35e88>,\n",
       " <Reaction 240 at 0x1978dc35608>,\n",
       " <Reaction 241 at 0x1978dc35e48>,\n",
       " <Reaction 243 at 0x1978dc3e3c8>,\n",
       " <Reaction 244 at 0x1978dc3e488>,\n",
       " <Reaction 249 at 0x1978dc3efc8>,\n",
       " <Reaction 250 at 0x1978dc47ac8>,\n",
       " <Reaction 258 at 0x1978dc50948>,\n",
       " <Reaction 259 at 0x1978dc50a08>,\n",
       " <Reaction 260 at 0x1978dc565c8>,\n",
       " <Reaction 271 at 0x1978dc61b88>,\n",
       " <Reaction 277 at 0x1978dc6c948>,\n",
       " <Reaction 289 at 0x1978dc7b648>,\n",
       " <Reaction 290 at 0x1978dc7fe08>,\n",
       " <Reaction 323 at 0x1978dcc5608>,\n",
       " <Reaction 325 at 0x1978dcc5e08>,\n",
       " <Reaction 326 at 0x1978dccb8c8>,\n",
       " <Reaction 327 at 0x1978dccbe88>,\n",
       " <Reaction 328 at 0x1978dcd1448>,\n",
       " <Reaction 329 at 0x1978dcd1bc8>,\n",
       " <Reaction 330 at 0x1978dcd4708>,\n",
       " <Reaction 334 at 0x1978dcd4c08>,\n",
       " <Reaction 349 at 0x1978dcfb208>,\n",
       " <Reaction 351 at 0x1978dcfbb08>,\n",
       " <Reaction 365 at 0x1978dd16e08>,\n",
       " <Reaction 366 at 0x1978dd1b688>,\n",
       " <Reaction 368 at 0x1978dd1b548>,\n",
       " <Reaction 372 at 0x1978dd27dc8>,\n",
       " <Reaction 375 at 0x1978dd27a48>,\n",
       " <Reaction 376 at 0x1978dd2bdc8>,\n",
       " <Reaction 399 at 0x1978dd58488>,\n",
       " <Reaction 408 at 0x1978dd68208>,\n",
       " <Reaction 413 at 0x1978dd62dc8>,\n",
       " <Reaction 414 at 0x1978dd68048>,\n",
       " <Reaction 416 at 0x1978dd68a48>,\n",
       " <Reaction 430 at 0x1978dd7f208>,\n",
       " <Reaction 436 at 0x1978dd7fac8>,\n",
       " <Reaction 448 at 0x1978dd9a5c8>,\n",
       " <Reaction 455 at 0x1978dda6a08>,\n",
       " <Reaction 456 at 0x1978dda6fc8>,\n",
       " <Reaction 457 at 0x1978dda69c8>,\n",
       " <Reaction 458 at 0x1978dda6f88>,\n",
       " <Reaction 463 at 0x1978ddb2a08>,\n",
       " <Reaction 465 at 0x1978ddb29c8>,\n",
       " <Reaction 483 at 0x1978ddcda08>,\n",
       " <Reaction 486 at 0x1978ddd3ec8>,\n",
       " <Reaction 491 at 0x1978ddd7888>,\n",
       " <Reaction 492 at 0x1978ddd7a08>,\n",
       " <Reaction 501 at 0x1978ddebe48>,\n",
       " <Reaction 505 at 0x1978ddeb9c8>,\n",
       " <Reaction 507 at 0x1978ddebc88>,\n",
       " <Reaction 510 at 0x1978ddf18c8>,\n",
       " <Reaction 529 at 0x1978de137c8>,\n",
       " <Reaction 544 at 0x1978de296c8>,\n",
       " <Reaction 561 at 0x1978de3d208>,\n",
       " <Reaction 575 at 0x1978de58cc8>,\n",
       " <Reaction 576 at 0x1978de58dc8>,\n",
       " <Reaction 577 at 0x1978de5eec8>,\n",
       " <Reaction 583 at 0x1978de5e608>,\n",
       " <Reaction 584 at 0x1978de637c8>,\n",
       " <Reaction 588 at 0x1978de6ae08>,\n",
       " <Reaction 602 at 0x1978de83f88>,\n",
       " <Reaction 612 at 0x1978de869c8>,\n",
       " <Reaction 632 at 0x1978dea6208>,\n",
       " <Reaction 643 at 0x1978dead6c8>,\n",
       " <Reaction 644 at 0x1978dea68c8>,\n",
       " <Reaction 645 at 0x1978deb2588>,\n",
       " <Reaction 654 at 0x1978debeec8>,\n",
       " <Reaction 657 at 0x1978dec4d48>,\n",
       " <Reaction 658 at 0x1978dec46c8>,\n",
       " <Reaction 661 at 0x1978dec4c88>,\n",
       " <Reaction 662 at 0x1978deccc48>,\n",
       " <Reaction 663 at 0x1978deccfc8>,\n",
       " <Reaction 665 at 0x1978decc648>,\n",
       " <Reaction 670 at 0x1978ded1a88>,\n",
       " <Reaction 674 at 0x1978ded75c8>,\n",
       " <Reaction 676 at 0x1978ded1cc8>,\n",
       " <Reaction 683 at 0x1978ded7948>,\n",
       " <Reaction 685 at 0x1978ded8b48>,\n",
       " <Reaction 691 at 0x1978deec4c8>,\n",
       " <Reaction 704 at 0x1978def9208>,\n",
       " <Reaction 706 at 0x1978df06b88>,\n",
       " <Reaction 729 at 0x1978df0b108>,\n",
       " <Reaction 730 at 0x1978df160c8>,\n",
       " <Reaction 737 at 0x1978df06348>,\n",
       " <Reaction 751 at 0x1978df28248>,\n",
       " <Reaction 752 at 0x1978df22e88>,\n",
       " <Reaction 754 at 0x1978df28e48>,\n",
       " <Reaction 761 at 0x1978df34a48>,\n",
       " <Reaction 7615 at 0x1978df34d08>,\n",
       " <Reaction 769 at 0x1978df3abc8>,\n",
       " <Reaction 770 at 0x1978df3a948>,\n",
       " <Reaction 772 at 0x1978df40388>,\n",
       " <Reaction 781 at 0x1978df55088>,\n",
       " <Reaction 793 at 0x1978df55808>,\n",
       " <Reaction 800 at 0x1978df5be48>,\n",
       " <Reaction 808 at 0x1978df66ec8>,\n",
       " <Reaction 810 at 0x1978df6efc8>,\n",
       " <Reaction 819 at 0x1978df79e48>,\n",
       " <Reaction 820 at 0x1978df85048>,\n",
       " <Reaction 831 at 0x1978d9fb0c8>,\n",
       " <Reaction 832 at 0x1978a547048>,\n",
       " <Reaction 833 at 0x1978da2cd88>,\n",
       " <Reaction 835 at 0x1978da0b988>,\n",
       " <Reaction 836 at 0x1978da1f088>,\n",
       " <Reaction 838 at 0x1978da3b708>,\n",
       " <Reaction 839 at 0x1978da56648>,\n",
       " <Reaction 910 at 0x1978db15188>,\n",
       " <Reaction 912 at 0x1978db07a88>,\n",
       " <Reaction 914 at 0x1978db15148>,\n",
       " <Reaction 915 at 0x1978db1a288>,\n",
       " <Reaction 934 at 0x1978db7d088>,\n",
       " <Reaction 935 at 0x1978db8fac8>,\n",
       " <Reaction 939 at 0x1978db88688>,\n",
       " <Reaction 940 at 0x1978dba9c48>,\n",
       " <Reaction 946 at 0x1978dbb6388>,\n",
       " <Reaction 972 at 0x1978dc04c88>,\n",
       " <Reaction 974 at 0x1978dbfcb48>,\n",
       " <Reaction 989 at 0x1978a6b0308>,\n",
       " <Reaction 995 at 0x1978e01a748>,\n",
       " <Reaction 996 at 0x1978e01a648>,\n",
       " <Reaction 1008 at 0x1978e0278c8>,\n",
       " <Reaction 1010 at 0x1978e02a348>,\n",
       " <Reaction 1016 at 0x1978e033b48>,\n",
       " <Reaction 1027 at 0x1978e03ca48>,\n",
       " <Reaction 1043 at 0x1978e056508>,\n",
       " <Reaction 1046 at 0x1978e05a548>,\n",
       " <Reaction 1047 at 0x1978e05ad88>,\n",
       " <Reaction 1049 at 0x1978e060988>,\n",
       " <Reaction 1051 at 0x1978e066a08>,\n",
       " <Reaction 1059 at 0x1978e06b208>,\n",
       " <Reaction 1081 at 0x1978e070148>,\n",
       " <Reaction 1082 at 0x1978e070848>,\n",
       " <Reaction 1085 at 0x1978e074dc8>,\n",
       " <Reaction 1119 at 0x1978e07f408>,\n",
       " <Reaction 1123 at 0x1978e07fa48>,\n",
       " <Reaction 1142 at 0x1978e08d3c8>,\n",
       " <Reaction 1143 at 0x1978e08d648>,\n",
       " <Reaction 1144 at 0x1978e08db48>,\n",
       " <Reaction 1153 at 0x1978e0a3f08>,\n",
       " <Reaction 1154 at 0x1978e0a75c8>,\n",
       " <Reaction 1155 at 0x1978e0a3ec8>,\n",
       " <Reaction 1159 at 0x1978e0af208>,\n",
       " <Reaction 1160 at 0x1978e0b4588>,\n",
       " <Reaction 1184 at 0x1978e0bd408>,\n",
       " <Reaction 1186 at 0x1978e0bdd08>,\n",
       " <Reaction 1187 at 0x1978e0c29c8>,\n",
       " <Reaction 1241 at 0x1978e0c91c8>,\n",
       " <Reaction 1242 at 0x1978e0c9788>,\n",
       " <Reaction 1245 at 0x1978e0c9f88>,\n",
       " <Reaction 1256 at 0x1978e0c9f08>,\n",
       " <Reaction 1261 at 0x1978e0cdfc8>,\n",
       " <Reaction 1266 at 0x1978e0d2dc8>,\n",
       " <Reaction 1268 at 0x1978e0d86c8>,\n",
       " <Reaction 1269 at 0x1978e0dcf08>,\n",
       " <Reaction 1270 at 0x1978e0e0708>,\n",
       " <Reaction 1286 at 0x1978e0e9948>,\n",
       " <Reaction 1292 at 0x1978e0f4708>,\n",
       " <Reaction 1313 at 0x1978e0fe1c8>,\n",
       " <Reaction 1326 at 0x1978e0fec08>,\n",
       " <Reaction 1329 at 0x1978e105708>,\n",
       " <Reaction 1330 at 0x1978e103c88>,\n",
       " <Reaction 1331 at 0x1978e105688>,\n",
       " <Reaction 1332 at 0x1978e10b8c8>,\n",
       " <Reaction 1333 at 0x1978e0fa148>,\n",
       " <Reaction 1334 at 0x1978e10b848>,\n",
       " <Reaction 1335 at 0x1978e10bc88>,\n",
       " <Reaction 1336 at 0x1978e10be48>,\n",
       " <Reaction 1339 at 0x1978e111808>,\n",
       " <Reaction 1341 at 0x1978e111cc8>,\n",
       " <Reaction 1342 at 0x1978e117288>,\n",
       " <Reaction 1343 at 0x1978e117648>,\n",
       " <Reaction 1345 at 0x1978e117bc8>,\n",
       " <Reaction 1354 at 0x1978e11c1c8>,\n",
       " <Reaction 1356 at 0x1978e11c808>,\n",
       " <Reaction 1362 at 0x1978e11cd08>,\n",
       " <Reaction 1370 at 0x1978e121388>,\n",
       " <Reaction 1371 at 0x1978e121348>,\n",
       " <Reaction 1420 at 0x1978e1266c8>,\n",
       " <Reaction 1458 at 0x1978e12dec8>,\n",
       " <Reaction 1503 at 0x1978e131388>,\n",
       " <Reaction 1504 at 0x1978e12de48>,\n",
       " <Reaction 1548 at 0x1978e135948>,\n",
       " <Reaction 1551 at 0x1978e138588>,\n",
       " <Reaction 1552 at 0x1978e13b048>,\n",
       " <Reaction 1553 at 0x1978e13b748>,\n",
       " <Reaction 1554 at 0x1978e140e48>,\n",
       " <Reaction 1555 at 0x1978e140748>,\n",
       " <Reaction 1568 at 0x1978e14c088>,\n",
       " <Reaction 1579 at 0x1978e150a08>,\n",
       " <Reaction 1605 at 0x1978e159b08>,\n",
       " <Reaction 1619 at 0x1978e15e388>,\n",
       " <Reaction 1621 at 0x1978e163fc8>,\n",
       " <Reaction 1623 at 0x1978e163f88>,\n",
       " <Reaction 1630 at 0x1978e167688>,\n",
       " <Reaction 1775 at 0x1978e1710c8>,\n",
       " <Reaction 1776 at 0x1978e171ec8>,\n",
       " <Reaction 1833 at 0x1978e17fe88>,\n",
       " <Reaction 1834 at 0x1978e1760c8>,\n",
       " <Reaction 1836 at 0x1978e183648>,\n",
       " <Reaction 1857 at 0x1978e189108>,\n",
       " <Reaction 1858 at 0x1978e189b88>,\n",
       " <Reaction 1860 at 0x1978e192ac8>,\n",
       " <Reaction 1872 at 0x1978e19ba48>,\n",
       " <Reaction 1890 at 0x1978e19bd48>,\n",
       " <Reaction 1904 at 0x1978e1a2088>,\n",
       " <Reaction 1905 at 0x1978e1a2ec8>,\n",
       " <Reaction 1906 at 0x1978e1a8dc8>,\n",
       " <Reaction 1907 at 0x1978e1a88c8>,\n",
       " <Reaction 1908 at 0x1978e1a8d48>,\n",
       " <Reaction 1909 at 0x1978e1aeb88>,\n",
       " <Reaction 1945 at 0x1978e1aefc8>,\n",
       " <Reaction 2031 at 0x1978e1aeb08>,\n",
       " <Reaction 2073 at 0x1978e1b5908>,\n",
       " <Reaction 2077 at 0x1978e1b5548>,\n",
       " <Reaction 2083 at 0x1978e1c3348>,\n",
       " <Reaction 2084 at 0x1978e1c3808>,\n",
       " <Reaction 2087 at 0x1978e1ca6c8>,\n",
       " <Reaction 2088 at 0x1978e1cab08>,\n",
       " <Reaction 2091 at 0x1978e1d37c8>,\n",
       " <Reaction 2092 at 0x1978e1d3c08>,\n",
       " <Reaction 2095 at 0x1978e1d98c8>,\n",
       " <Reaction 2096 at 0x1978e1d9d08>,\n",
       " <Reaction 2099 at 0x1978e1e0908>,\n",
       " <Reaction 2100 at 0x1978e1e0d48>,\n",
       " <Reaction 2103 at 0x1978e1e8a08>,\n",
       " <Reaction 2104 at 0x1978e1e8e48>,\n",
       " <Reaction 2107 at 0x1978e1eeb08>,\n",
       " <Reaction 2108 at 0x1978e1eef48>,\n",
       " <Reaction 2109 at 0x1978e1f7488>,\n",
       " <Reaction 2111 at 0x1978e1f7c08>,\n",
       " <Reaction 2112 at 0x1978e1f7e88>,\n",
       " <Reaction 2113 at 0x1978e1fd588>,\n",
       " <Reaction 2114 at 0x1978e1fd148>,\n",
       " <Reaction 2115 at 0x1978e1fdd88>,\n",
       " <Reaction 2116 at 0x1978e203208>,\n",
       " <Reaction 2117 at 0x1978e203988>,\n",
       " <Reaction M_85_e_out at 0x1978e203488>,\n",
       " <Reaction M_408_e_out at 0x1978e2073c8>,\n",
       " <Reaction M_14_e_out at 0x1978e207608>,\n",
       " <Reaction M_29_e_out at 0x1978e20f288>,\n",
       " <Reaction M_1754_e_out at 0x1978e20f888>,\n",
       " <Reaction M_1_e_out at 0x1978e20fd88>,\n",
       " <Reaction M_945_e_out at 0x1978e20fec8>,\n",
       " <Reaction M_7_e_out at 0x1978e212088>,\n",
       " <Reaction M_2466_e_out at 0x1978e212548>,\n",
       " <Reaction M_11_e_out at 0x1978e2125c8>,\n",
       " <Reaction M_209_e_out at 0x1978e212808>,\n",
       " <Reaction M_55_e_out at 0x1978e212a08>,\n",
       " <Reaction M_333_e_out at 0x1978e212d88>,\n",
       " <Reaction M_71_e_out at 0x1978e219388>,\n",
       " <Reaction M_211_e_out at 0x1978e219788>,\n",
       " <Reaction M_737_e_out at 0x1978e219888>,\n",
       " <Reaction M_58_e_out at 0x1978e219b48>,\n",
       " <Reaction M_69_e_out at 0x1978e219f08>,\n",
       " <Reaction M_236_e_out at 0x1978e21e4c8>,\n",
       " <Reaction M_106_e_out at 0x1978e21e9c8>,\n",
       " <Reaction M_101_e_out at 0x1978e21eb88>,\n",
       " <Reaction M_37_e_out at 0x1978e222108>,\n",
       " <Reaction M_45_e_out at 0x1978e2224c8>,\n",
       " <Reaction M_160_e_out at 0x1978e222948>,\n",
       " <Reaction M_120_e_out at 0x1978e222b48>,\n",
       " <Reaction M_65_e_out at 0x1978e226308>,\n",
       " <Reaction M_134_e_out at 0x1978e226808>,\n",
       " <Reaction M_34_e_out at 0x1978e2269c8>,\n",
       " <Reaction M_295_e_out at 0x1978e229208>,\n",
       " <Reaction M_70_e_out at 0x1978e229608>,\n",
       " <Reaction M_18544_e_out at 0x1978e229988>,\n",
       " <Reaction M_1189_e_out at 0x1978e229a88>,\n",
       " <Reaction M_280_e_out at 0x1978e229fc8>,\n",
       " <Reaction M_213_e_out at 0x1978e22d388>,\n",
       " <Reaction M_234_e_out at 0x1978e22d408>,\n",
       " <Reaction M_218_e_out at 0x1978e22d608>,\n",
       " <Reaction M_452_e_out at 0x1978e22d848>,\n",
       " <Reaction M_181_e_out at 0x1978e22dbc8>,\n",
       " <Reaction M_95_e_out at 0x1978e22df08>,\n",
       " <Reaction M_357_e_out at 0x1978e2320c8>,\n",
       " <Reaction M_179_e_out at 0x1978e232688>,\n",
       " <Reaction M_19_e_out at 0x1978e232788>,\n",
       " <Reaction M_128_e_out at 0x1978e232ac8>,\n",
       " <Reaction M_50_e_out at 0x1978e237188>,\n",
       " <Reaction M_94_e_out at 0x1978e237048>,\n",
       " <Reaction M_269_e_out at 0x1978e237748>,\n",
       " <Reaction M_271_e_out at 0x1978e237808>,\n",
       " <Reaction M_199_e_out at 0x1978e237b48>,\n",
       " <Reaction M_273_e_out at 0x1978e237e08>,\n",
       " <Reaction M_2_e_out at 0x1978e23e288>,\n",
       " <Reaction M_376_e_out at 0x1978e23e4c8>,\n",
       " <Reaction M_12_e_out at 0x1978e23e588>,\n",
       " <Reaction M_286_e_out at 0x1978e23e7c8>,\n",
       " <Reaction M_10_e_out at 0x1978e23e9c8>,\n",
       " <Reaction M_127_e_out at 0x1978e23ec08>,\n",
       " <Reaction M_82_e_out at 0x1978e23ee08>,\n",
       " <Reaction M_1774_e_out at 0x1978e23efc8>,\n",
       " <Reaction M_18_e_out at 0x1978e244488>,\n",
       " <Reaction M_195_e_out at 0x1978e244508>,\n",
       " <Reaction M_22_e_out at 0x1978e244788>,\n",
       " <Reaction M_30_e_out at 0x1978e244a48>,\n",
       " <Reaction M_3_e_out at 0x1978e244c48>,\n",
       " <Reaction M_306_e_out at 0x1978e24a188>,\n",
       " <Reaction M_4_e_out at 0x1978e24a0c8>,\n",
       " <Reaction M_46_e_out at 0x1978e24a688>,\n",
       " <Reaction M_5_e_out at 0x1978e24a708>,\n",
       " <Reaction M_6_e_out at 0x1978e24a908>,\n",
       " <Reaction M_74_e_out at 0x1978e24ad88>,\n",
       " <Reaction M_1180_e_out at 0x1978e24af48>,\n",
       " <Reaction M_91_e_out at 0x1978e24f448>,\n",
       " <Reaction M_971_e_out at 0x1978e24f5c8>,\n",
       " <Reaction M_394_e_out at 0x1978e24f7c8>,\n",
       " <Reaction M_249_e_out at 0x1978e24f9c8>,\n",
       " <Reaction M_107_e_out at 0x1978e24fc48>,\n",
       " <Reaction M_Biomass_e_out at 0x1978e256588>,\n",
       " <Reaction M_668_e_out at 0x1978e256488>,\n",
       " <Reaction M_1571_e_out at 0x1978e2566c8>,\n",
       " <Reaction M_1312_e_out at 0x1978e256748>,\n",
       " <Reaction M_1763_e_out at 0x1978e256988>,\n",
       " <Reaction M_403_e_out at 0x1978e256b88>,\n",
       " <Reaction M_1214_e_out at 0x1978e256dc8>,\n",
       " <Reaction M_1158_e_out at 0x1978e256fc8>,\n",
       " <Reaction M_422_e_out at 0x1978e25b3c8>,\n",
       " <Reaction M_685_e_out at 0x1978e25b448>,\n",
       " <Reaction M_902_e_out at 0x1978e25b648>,\n",
       " <Reaction M_914_e_out at 0x1978e25b888>,\n",
       " <Reaction M_1569_e_out at 0x1978e25ba88>,\n",
       " <Reaction M_593_e_out at 0x1978e25bc88>,\n",
       " <Reaction M_413_e_out at 0x1978e25bec8>,\n",
       " <Reaction M_892_e_out at 0x1978e261088>,\n",
       " <Reaction M_458_e_out at 0x1978e261688>,\n",
       " <Reaction M_10000_e_out at 0x1978e261708>,\n",
       " <Reaction M_787_e_out at 0x1978e261908>,\n",
       " <Reaction M_1231_e_out at 0x1978e261b48>,\n",
       " <Reaction M_251_e_out at 0x1978e261d48>,\n",
       " <Reaction M_1977_e_out at 0x1978e261f48>,\n",
       " <Reaction M_112_e_out at 0x1978e269348>,\n",
       " <Reaction M_1039_e_out at 0x1978e269408>,\n",
       " <Reaction M_1066_e_out at 0x1978e269608>,\n",
       " <Reaction M_958_e_out at 0x1978e269908>,\n",
       " <Reaction M_830_e_out at 0x1978e269b08>,\n",
       " <Reaction M_1243_e_out at 0x1978e269d08>,\n",
       " <Reaction M_346_e_out at 0x1978e269f08>,\n",
       " <Reaction M_1191_e_out at 0x1978e26f0c8>,\n",
       " <Reaction M_798_e_out at 0x1978e26f4c8>,\n",
       " <Reaction M_1643_e_out at 0x1978e26f548>,\n",
       " <Reaction M_154_e_out at 0x1978e26f748>,\n",
       " <Reaction M_238_e_out at 0x1978e26f948>,\n",
       " <Reaction M_624_e_out at 0x1978e26fbc8>,\n",
       " <Reaction M_1194_e_out at 0x1978e26fe08>,\n",
       " <Reaction M_155_e_out at 0x1978e26ffc8>,\n",
       " <Reaction M_28_e_out at 0x1978e2763c8>,\n",
       " <Reaction M_1014_e_out at 0x1978e276448>,\n",
       " <Reaction M_1100_e_out at 0x1978e276848>,\n",
       " <Reaction M_742_e_out at 0x1978e276a48>,\n",
       " <Reaction M_1144_e_out at 0x1978e276c48>,\n",
       " <Reaction M_320_e_out at 0x1978e276e88>,\n",
       " <Reaction M_631_e_out at 0x1978e27c088>,\n",
       " <Reaction M_81_e_out at 0x1978e27c5c8>,\n",
       " <Reaction M_680_e_out at 0x1978e27c708>,\n",
       " <Reaction M_437_e_out at 0x1978e27c908>,\n",
       " <Reaction M_813_e_out at 0x1978e27cb08>,\n",
       " <Reaction M_237_e_out at 0x1978e27cd08>,\n",
       " <Reaction M_1797_e_out at 0x1978e27cf08>,\n",
       " <Reaction M_583_e_out at 0x1978e2810c8>,\n",
       " <Reaction M_1215_e_out at 0x1978e281508>,\n",
       " <Reaction M_445_e_out at 0x1978e281588>,\n",
       " <Reaction M_87_e_out at 0x1978e281788>,\n",
       " <Reaction M_961_e_out at 0x1978e281988>,\n",
       " <Reaction M_141_e_out at 0x1978e281bc8>,\n",
       " <Reaction M_229_e_out at 0x1978e281e08>,\n",
       " <Reaction M_136_e_out at 0x1978e28a288>,\n",
       " <Reaction M_1304_e_out at 0x1978e28a608>,\n",
       " <Reaction M_578_e_out at 0x1978e28a648>,\n",
       " <Reaction M_496_e_out at 0x1978e28a8c8>,\n",
       " <Reaction M_1038_e_out at 0x1978e28aac8>,\n",
       " <Reaction M_1084_e_out at 0x1978e28acc8>,\n",
       " <Reaction M_921_e_out at 0x1978e28ae88>,\n",
       " <Reaction M_122_e_out at 0x1978e2903c8>,\n",
       " <Reaction M_395_e_out at 0x1978e290448>,\n",
       " <Reaction M_31_e_out at 0x1978e290648>,\n",
       " <Reaction M_51_e_out at 0x1978e290ac8>,\n",
       " <Reaction M_214_e_out at 0x1978e294048>,\n",
       " <Reaction M_38_e_out at 0x1978e294588>,\n",
       " <Reaction M_42_e_out at 0x1978e294a48>,\n",
       " <Reaction M_35_e_out at 0x1978e294b88>,\n",
       " <Reaction M_267_e_out at 0x1978e294f48>,\n",
       " <Reaction e_out at 0x1978e299308>,\n",
       " <Reaction M_281_e_out at 0x1978e299048>,\n",
       " <Reaction M_776_e_out at 0x1978e299548>,\n",
       " <Reaction M_215_e_out at 0x1978e299888>,\n",
       " <Reaction M_biomass at 0x1978e299b48>]"
      ]
     },
     "execution_count": 9,
     "metadata": {},
     "output_type": "execute_result"
    }
   ],
   "source": [
    "unmatched_rct"
   ]
  },
  {
   "cell_type": "code",
   "execution_count": 8,
   "metadata": {},
   "outputs": [],
   "source": [
    "#save & commit\n",
    "cobra.io.write_sbml_model(model,\"../../model/g-thermo.xml\")"
   ]
  },
  {
   "cell_type": "markdown",
   "metadata": {},
   "source": [
    "about half of the reactions have now modified ID's. If we inspect the rest of the unmatched reactions, we can see that many are the exchange and transport reactions.\n",
    "\n",
    "## Renaming Transport and Exchange Reactions\n",
    "We would want the transport and exchange reactions to in their name have the metabolite ID they are referring to, together with a logical way to distinguish them as transport and exchange. Later we will revisit these reactions ayway to see if they are all correct or not, so this is not done here.\n",
    "\n",
    "To fix the exchange reactions, we will first remove them. Then for each extracellular metabolite we will add the transport reaction. Then finally we can add the exchange reaction for the extracellular metabolite."
   ]
  },
  {
   "cell_type": "code",
   "execution_count": 5,
   "metadata": {},
   "outputs": [],
   "source": [
    "model = cobra.io.read_sbml_model(\"../../model/g-thermo.xml\")"
   ]
  },
  {
   "cell_type": "code",
   "execution_count": 7,
   "metadata": {},
   "outputs": [
    {
     "data": {
      "text/plain": [
       "179"
      ]
     },
     "execution_count": 7,
     "metadata": {},
     "output_type": "execute_result"
    }
   ],
   "source": [
    "#gather all exchanges\n",
    "remove_ex = model.exchanges\n",
    "len(remove_ex)"
   ]
  },
  {
   "cell_type": "code",
   "execution_count": 8,
   "metadata": {},
   "outputs": [],
   "source": [
    "#remove those reactions\n",
    "model.remove_reactions(remove_ex)"
   ]
  },
  {
   "cell_type": "code",
   "execution_count": 9,
   "metadata": {},
   "outputs": [
    {
     "name": "stderr",
     "output_type": "stream",
     "text": [
      "There are no boundary reactions in this model. Therefore specific types of boundary reactions such as 'exchanges', 'demands' or 'sinks' cannot be identified.\n"
     ]
    },
    {
     "data": {
      "text/plain": [
       "[]"
      ]
     },
     "execution_count": 9,
     "metadata": {},
     "output_type": "execute_result"
    }
   ],
   "source": [
    "#check there are no exchanges left\n",
    "model.exchanges"
   ]
  },
  {
   "cell_type": "code",
   "execution_count": 10,
   "metadata": {},
   "outputs": [],
   "source": [
    "#slightly rename the keys in the compartments to make further work easier.\n",
    "model.compartments = {'c': 'cytosol', 'e': 'extracellular space'}"
   ]
  },
  {
   "cell_type": "code",
   "execution_count": 11,
   "metadata": {},
   "outputs": [
    {
     "data": {
      "text/plain": [
       "{'c': 'cytosol', 'e': 'extracellular space'}"
      ]
     },
     "execution_count": 11,
     "metadata": {},
     "output_type": "execute_result"
    }
   ],
   "source": [
    "model.compartments"
   ]
  },
  {
   "cell_type": "code",
   "execution_count": 12,
   "metadata": {},
   "outputs": [],
   "source": [
    "#Which metabolties are now extracellular\n",
    "extracell_mets = [met for met in model.metabolites if met.compartment == \"e\"]"
   ]
  },
  {
   "cell_type": "code",
   "execution_count": 13,
   "metadata": {},
   "outputs": [
    {
     "data": {
      "text/plain": [
       "169"
      ]
     },
     "execution_count": 13,
     "metadata": {},
     "output_type": "execute_result"
    }
   ],
   "source": [
    "len(extracell_mets)"
   ]
  },
  {
   "cell_type": "code",
   "execution_count": 14,
   "metadata": {},
   "outputs": [
    {
     "name": "stdout",
     "output_type": "stream",
     "text": [
      "f1p_e\n",
      "adhlam_e\n",
      "cit_e\n",
      "fe3_e\n",
      "pnto__R_e\n",
      "glc__aD_e\n",
      "M_6pgl_e\n",
      "urea_e\n",
      "adocbl_e\n",
      "spmd_e\n",
      "M_2hmcnsad_e\n",
      "uaccg_e\n",
      "pppi_e\n",
      "ppap_e\n",
      "fprica_e\n",
      "M_3hmoa_e\n",
      "uppg1_e\n",
      "dad_5_e\n"
     ]
    }
   ],
   "source": [
    "#now in one go, we will rename the transport reaction as it is the only reaction of all extracellular metabolites left now\n",
    "#then we will add the exchange reaction for each extracellular metabolite\n",
    "strange_extracell_met = []\n",
    "for met in model.metabolites:\n",
    "    if met in extracell_mets:\n",
    "        # Rename transport\n",
    "        try:\n",
    "            transport_reaction = list(met.reactions)[0]\n",
    "            transport_reaction.id = f\"T_{met.id}\"\n",
    "            transport_reaction.name = f\"Transport of metabolite {met.id}\"\n",
    "        except:\n",
    "            strange_extracell_met.append(met)\n",
    "            print(met.id)\n",
    "    # Add exchange\n",
    "        model.add_boundary(met, type = \"exchange\")\n",
    "    else: continue"
   ]
  },
  {
   "cell_type": "code",
   "execution_count": 15,
   "metadata": {},
   "outputs": [],
   "source": [
    "cobra.io.write_sbml_model(model,\"../../model/g-thermo.xml\")"
   ]
  },
  {
   "cell_type": "markdown",
   "metadata": {},
   "source": [
    "So, there are 18 metabolites that have intracellular reactions, but no transport. In the current state they will not interfere perse with the model, but to tidy up unneccesary components, they will be removed."
   ]
  },
  {
   "cell_type": "code",
   "execution_count": 4,
   "metadata": {
    "scrolled": true
   },
   "outputs": [],
   "source": [
    "model = cobra.io.read_sbml_model(\"../../model/g-thermo.xml\")"
   ]
  },
  {
   "cell_type": "code",
   "execution_count": 6,
   "metadata": {},
   "outputs": [],
   "source": [
    "remove_mets = [\"f1p_e\",\"adhlam_e\", \"cit_e\", \"fe3_e\", \"pnto__R_e\", \"glc__aD_e\", \"M_6pgl_e\", \"urea_e\", \"adocbl_e\", \"spmd_e\",\n",
    "               \"M_2hmcnsad_e\", \"uaccg_e\", \"pppi_e\", \"ppap_e\", \"fprica_e\", \"M_3hmoa_e\", \"uppg1_e\",\"dad_5_e\"]"
   ]
  },
  {
   "cell_type": "code",
   "execution_count": 7,
   "metadata": {},
   "outputs": [],
   "source": [
    "remove_metabolites = [model.metabolites.get_by_id(mid) for mid in remove_mets]\n",
    "model.remove_metabolites(remove_metabolites)"
   ]
  },
  {
   "cell_type": "markdown",
   "metadata": {},
   "source": [
    "We should also remove the exchange reactions associated to these metabolites."
   ]
  },
  {
   "cell_type": "code",
   "execution_count": 8,
   "metadata": {},
   "outputs": [],
   "source": [
    "exch = []\n",
    "for met in remove_mets:\n",
    "    exchange = f\"EX_{met}\"\n",
    "    exch.append(exchange)\n",
    "remove_exch = [model.reactions.get_by_id(mid) for mid in exch]\n",
    "model.remove_reactions(remove_exch)"
   ]
  },
  {
   "cell_type": "code",
   "execution_count": 9,
   "metadata": {},
   "outputs": [],
   "source": [
    "cobra.io.write_sbml_model(model, \"../../model/g-thermo.xml\")"
   ]
  },
  {
   "cell_type": "markdown",
   "metadata": {},
   "source": [
    "## Manually modifying left over reaction IDs\n",
    "Now, we should make sure that the reactions that were not automatically re-named are done so manually. For this, we first need to make a list of all unmatched reactions and exclude the transport and exchange reactions. Then this list can be exported to excel, and we can manually add names to the file and re-import them here."
   ]
  },
  {
   "cell_type": "code",
   "execution_count": 9,
   "metadata": {},
   "outputs": [],
   "source": [
    "#which reactions are left with obscure names\n",
    "unmatched_rct_left = []\n",
    "for rct in model.reactions:\n",
    "    if rct in unmatched_rct:\n",
    "        if rct in model.exchanges:\n",
    "            continue\n",
    "        elif rct.id[0] == 'T' :\n",
    "            continue\n",
    "        else: \n",
    "            unmatched_rct_left.append(rct)\n",
    "    else: continue"
   ]
  },
  {
   "cell_type": "code",
   "execution_count": 10,
   "metadata": {},
   "outputs": [
    {
     "data": {
      "text/plain": [
       "277"
      ]
     },
     "execution_count": 10,
     "metadata": {},
     "output_type": "execute_result"
    }
   ],
   "source": [
    "len(unmatched_rct_left)"
   ]
  },
  {
   "cell_type": "markdown",
   "metadata": {},
   "source": [
    "There are still 277 reactions that are not named properly. For this we will have to manually fix them one by one. \n",
    "\n",
    "To do so, we assemble some lists: one of the rct.id, one of the rct.name (which is a kegg ID), one of the name in the notes. from there we can export these as a dataframe and then manually add a column of new reaction IDs."
   ]
  },
  {
   "cell_type": "code",
   "execution_count": 11,
   "metadata": {},
   "outputs": [
    {
     "data": {
      "text/plain": [
       "277"
      ]
     },
     "execution_count": 11,
     "metadata": {},
     "output_type": "execute_result"
    }
   ],
   "source": [
    "#list of reaction Ids.\n",
    "unmatched_rct_left_ID =[]\n",
    "for rct in model.reactions:\n",
    "    if rct in unmatched_rct_left:\n",
    "        unmatched_rct_left_ID.append(rct.id)\n",
    "    else: continue\n",
    "len(unmatched_rct_left_ID)"
   ]
  },
  {
   "cell_type": "code",
   "execution_count": 12,
   "metadata": {},
   "outputs": [
    {
     "data": {
      "text/plain": [
       "277"
      ]
     },
     "execution_count": 12,
     "metadata": {},
     "output_type": "execute_result"
    }
   ],
   "source": [
    "#list of reaction names.\n",
    "unmatched_rct_left_name =[]\n",
    "for rct in model.reactions:\n",
    "    if rct in unmatched_rct_left:\n",
    "        unmatched_rct_left_name.append(rct.name)\n",
    "    else: continue\n",
    "len(unmatched_rct_left_name)"
   ]
  },
  {
   "cell_type": "code",
   "execution_count": 13,
   "metadata": {},
   "outputs": [
    {
     "data": {
      "text/plain": [
       "277"
      ]
     },
     "execution_count": 13,
     "metadata": {},
     "output_type": "execute_result"
    }
   ],
   "source": [
    "#list of reaction name notes.\n",
    "unmatched_rct_left_note =[]\n",
    "for rct in model.reactions:\n",
    "    if rct in unmatched_rct_left:\n",
    "        try: \n",
    "            unmatched_rct_left_note.append(rct.notes[\"NAME\"])\n",
    "        except KeyError:\n",
    "            unmatched_rct_left_note.append('-')\n",
    "    else: continue\n",
    "len(unmatched_rct_left_note)"
   ]
  },
  {
   "cell_type": "code",
   "execution_count": 14,
   "metadata": {},
   "outputs": [],
   "source": [
    "#export to a csv file to manipulate in excel\n",
    "df_rct = pd.DataFrame({'ID' : unmatched_rct_left_ID, 'Name_KEGG' : unmatched_rct_left_name, 'Name_Notes':unmatched_rct_left_note})    \n",
    "df_rct.to_csv('../databases/Reaction IDs.csv')"
   ]
  },
  {
   "cell_type": "code",
   "execution_count": 22,
   "metadata": {},
   "outputs": [
    {
     "data": {
      "text/html": [
       "<div>\n",
       "<style scoped>\n",
       "    .dataframe tbody tr th:only-of-type {\n",
       "        vertical-align: middle;\n",
       "    }\n",
       "\n",
       "    .dataframe tbody tr th {\n",
       "        vertical-align: top;\n",
       "    }\n",
       "\n",
       "    .dataframe thead th {\n",
       "        text-align: right;\n",
       "    }\n",
       "</style>\n",
       "<table border=\"1\" class=\"dataframe\">\n",
       "  <thead>\n",
       "    <tr style=\"text-align: right;\">\n",
       "      <th></th>\n",
       "      <th>Unnamed: 0</th>\n",
       "      <th>ID</th>\n",
       "      <th>Name_KEGG</th>\n",
       "      <th>Name_Notes</th>\n",
       "      <th>New ID</th>\n",
       "    </tr>\n",
       "  </thead>\n",
       "  <tbody>\n",
       "    <tr>\n",
       "      <th>0</th>\n",
       "      <td>276</td>\n",
       "      <td>M_biomass</td>\n",
       "      <td>biomass</td>\n",
       "      <td>-</td>\n",
       "      <td>biomass</td>\n",
       "    </tr>\n",
       "    <tr>\n",
       "      <th>1</th>\n",
       "      <td>0</td>\n",
       "      <td>2</td>\n",
       "      <td>R00006</td>\n",
       "      <td>pyruvate:pyruvate acetaldehydetransferase (dec...</td>\n",
       "      <td>PYRACTT</td>\n",
       "    </tr>\n",
       "    <tr>\n",
       "      <th>2</th>\n",
       "      <td>1</td>\n",
       "      <td>9</td>\n",
       "      <td>R00028</td>\n",
       "      <td>-</td>\n",
       "      <td>MALHYDRO</td>\n",
       "    </tr>\n",
       "    <tr>\n",
       "      <th>3</th>\n",
       "      <td>2</td>\n",
       "      <td>15</td>\n",
       "      <td>R00081</td>\n",
       "      <td>Ferrocytochrome-c:oxygen oxidoreductase</td>\n",
       "      <td>FOCYCTCOR</td>\n",
       "    </tr>\n",
       "    <tr>\n",
       "      <th>4</th>\n",
       "      <td>3</td>\n",
       "      <td>16</td>\n",
       "      <td>R00082</td>\n",
       "      <td>Ferrocytochrome c2:oxygen oxidoreductase</td>\n",
       "      <td>FOCYTCCOR</td>\n",
       "    </tr>\n",
       "    <tr>\n",
       "      <th>...</th>\n",
       "      <td>...</td>\n",
       "      <td>...</td>\n",
       "      <td>...</td>\n",
       "      <td>...</td>\n",
       "      <td>...</td>\n",
       "    </tr>\n",
       "    <tr>\n",
       "      <th>259</th>\n",
       "      <td>274</td>\n",
       "      <td>2116</td>\n",
       "      <td>R10147</td>\n",
       "      <td>L-aspartate-4-semialdehyde hydro-lyase [adding...</td>\n",
       "      <td>ASPSALY</td>\n",
       "    </tr>\n",
       "    <tr>\n",
       "      <th>260</th>\n",
       "      <td>273</td>\n",
       "      <td>2115</td>\n",
       "      <td>R10305</td>\n",
       "      <td>O3-acetyl-L-serine:L-homocysteine S-(2-amino-2...</td>\n",
       "      <td>ACSERT</td>\n",
       "    </tr>\n",
       "    <tr>\n",
       "      <th>261</th>\n",
       "      <td>167</td>\n",
       "      <td>1059</td>\n",
       "      <td>R10404</td>\n",
       "      <td>-</td>\n",
       "      <td>SAM</td>\n",
       "    </tr>\n",
       "    <tr>\n",
       "      <th>262</th>\n",
       "      <td>272</td>\n",
       "      <td>2114</td>\n",
       "      <td>R10619</td>\n",
       "      <td>aldose 1-epimerase</td>\n",
       "      <td>GALISO</td>\n",
       "    </tr>\n",
       "    <tr>\n",
       "      <th>263</th>\n",
       "      <td>271</td>\n",
       "      <td>2113</td>\n",
       "      <td>RNGAM</td>\n",
       "      <td>-</td>\n",
       "      <td>NGAM</td>\n",
       "    </tr>\n",
       "  </tbody>\n",
       "</table>\n",
       "<p>264 rows × 5 columns</p>\n",
       "</div>"
      ],
      "text/plain": [
       "     Unnamed: 0         ID Name_KEGG  \\\n",
       "0           276  M_biomass   biomass   \n",
       "1             0          2    R00006   \n",
       "2             1          9    R00028   \n",
       "3             2         15    R00081   \n",
       "4             3         16    R00082   \n",
       "..          ...        ...       ...   \n",
       "259         274       2116    R10147   \n",
       "260         273       2115    R10305   \n",
       "261         167       1059    R10404   \n",
       "262         272       2114    R10619   \n",
       "263         271       2113     RNGAM   \n",
       "\n",
       "                                            Name_Notes     New ID  \n",
       "0                                                    -    biomass  \n",
       "1    pyruvate:pyruvate acetaldehydetransferase (dec...    PYRACTT  \n",
       "2                                                    -   MALHYDRO  \n",
       "3              Ferrocytochrome-c:oxygen oxidoreductase  FOCYCTCOR  \n",
       "4             Ferrocytochrome c2:oxygen oxidoreductase  FOCYTCCOR  \n",
       "..                                                 ...        ...  \n",
       "259  L-aspartate-4-semialdehyde hydro-lyase [adding...    ASPSALY  \n",
       "260  O3-acetyl-L-serine:L-homocysteine S-(2-amino-2...     ACSERT  \n",
       "261                                                  -        SAM  \n",
       "262                                 aldose 1-epimerase     GALISO  \n",
       "263                                                  -       NGAM  \n",
       "\n",
       "[264 rows x 5 columns]"
      ]
     },
     "execution_count": 22,
     "metadata": {},
     "output_type": "execute_result"
    }
   ],
   "source": [
    "#import csv file with the new reaction names\n",
    "#Now sort the exel file and import into python, to change the ID's for the metabolites changed by hand. \n",
    "new_rct_id = pd.read_csv(\"../../databases/Reaction IDs_new.csv\", sep = ';')\n",
    "new_rct_id"
   ]
  },
  {
   "cell_type": "code",
   "execution_count": 23,
   "metadata": {},
   "outputs": [
    {
     "data": {
      "text/plain": [
       "264"
      ]
     },
     "execution_count": 23,
     "metadata": {},
     "output_type": "execute_result"
    }
   ],
   "source": [
    "#rename the so far unnamed metabolites\n",
    "matched_rct = []\n",
    "for rct in model.reactions:\n",
    "    found = new_rct_id[new_rct_id[\"Name_KEGG\"]==rct.name]\n",
    "    if found[\"New ID\"].empty or found[\"New ID\"].isna().values[0]: #NaN is stored as empty in the data frame\n",
    "        continue\n",
    "    elif found[\"New ID\"].empty == False:    \n",
    "        try: \n",
    "            rct.id = found[\"New ID\"].values[0]\n",
    "            matched_rct.append(rct)\n",
    "        except: \n",
    "            print (rct.id, \"non unique\")\n",
    "len(matched_rct)"
   ]
  },
  {
   "cell_type": "markdown",
   "metadata": {},
   "source": [
    "Now we've named 264 of the reactions with other IDs.However, there were originally 277 reactions not named. So ill try to find the 13 missing now. "
   ]
  },
  {
   "cell_type": "code",
   "execution_count": 24,
   "metadata": {},
   "outputs": [
    {
     "data": {
      "text/plain": [
       "13"
      ]
     },
     "execution_count": 24,
     "metadata": {},
     "output_type": "execute_result"
    }
   ],
   "source": [
    "unnamed_rct =[]\n",
    "for rct in unmatched_rct_left:\n",
    "    if rct in matched_rct:\n",
    "        continue\n",
    "    else: \n",
    "        unnamed_rct.append(rct.id)\n",
    "len(unnamed_rct)\n",
    "        "
   ]
  },
  {
   "cell_type": "code",
   "execution_count": 25,
   "metadata": {},
   "outputs": [
    {
     "data": {
      "text/plain": [
       "['729',\n",
       " '730',\n",
       " '737',\n",
       " '751',\n",
       " '752',\n",
       " '1504',\n",
       " '1548',\n",
       " '1551',\n",
       " '1552',\n",
       " '1553',\n",
       " '1554',\n",
       " '1555',\n",
       " '1905']"
      ]
     },
     "execution_count": 25,
     "metadata": {},
     "output_type": "execute_result"
    }
   ],
   "source": [
    "unnamed_rct"
   ]
  },
  {
   "cell_type": "markdown",
   "metadata": {},
   "source": [
    "For some reason these were not included in the excel file I made... so now I will just chage their ID manually."
   ]
  },
  {
   "cell_type": "code",
   "execution_count": 26,
   "metadata": {},
   "outputs": [],
   "source": [
    "model.reactions.get_by_id(\"729\").id = \"MENAOR\""
   ]
  },
  {
   "cell_type": "code",
   "execution_count": 27,
   "metadata": {},
   "outputs": [],
   "source": [
    "model.reactions.get_by_id(\"730\").id = \"PANTPTRANS\""
   ]
  },
  {
   "cell_type": "code",
   "execution_count": 28,
   "metadata": {},
   "outputs": [],
   "source": [
    "model.reactions.get_by_id(\"737\").id = \"HISTIOR\""
   ]
  },
  {
   "cell_type": "code",
   "execution_count": 29,
   "metadata": {},
   "outputs": [],
   "source": [
    "model.reactions.get_by_id(\"751\").id = \"ALACPH\""
   ]
  },
  {
   "cell_type": "code",
   "execution_count": 30,
   "metadata": {},
   "outputs": [],
   "source": [
    "model.reactions.get_by_id(\"752\").id = \"DHMBISO\""
   ]
  },
  {
   "cell_type": "code",
   "execution_count": 31,
   "metadata": {},
   "outputs": [],
   "source": [
    "model.reactions.get_by_id(\"1504\").id = \"S7PTRANSPP\""
   ]
  },
  {
   "cell_type": "code",
   "execution_count": 32,
   "metadata": {},
   "outputs": [],
   "source": [
    "model.reactions.get_by_id(\"1548\").id = \"H2MB4POR\""
   ]
  },
  {
   "cell_type": "code",
   "execution_count": 33,
   "metadata": {},
   "outputs": [],
   "source": [
    "model.reactions.get_by_id(\"1551\").id = \"AMETTRANS\""
   ]
  },
  {
   "cell_type": "code",
   "execution_count": 34,
   "metadata": {},
   "outputs": [],
   "source": [
    "model.reactions.get_by_id(\"1552\").id = \"AHCYSMETTRANS\""
   ]
  },
  {
   "cell_type": "code",
   "execution_count": 35,
   "metadata": {},
   "outputs": [],
   "source": [
    "model.reactions.get_by_id(\"1553\").id = \"SBZCOAHYDRO\""
   ]
  },
  {
   "cell_type": "code",
   "execution_count": 36,
   "metadata": {},
   "outputs": [],
   "source": [
    "model.reactions.get_by_id(\"1554\").id = \"ADOCBITRANS\""
   ]
  },
  {
   "cell_type": "code",
   "execution_count": 37,
   "metadata": {},
   "outputs": [],
   "source": [
    "model.reactions.get_by_id(\"1555\").id = \"DECDPPP\""
   ]
  },
  {
   "cell_type": "code",
   "execution_count": 38,
   "metadata": {},
   "outputs": [],
   "source": [
    "model.reactions.get_by_id(\"1905\").id = \"CCTTPENPP\""
   ]
  },
  {
   "cell_type": "markdown",
   "metadata": {},
   "source": [
    "Now that each reaction has a more insightful and easy to work with name, the model can be saved, and in the next notebook we can add all the annotations needed."
   ]
  },
  {
   "cell_type": "code",
   "execution_count": 40,
   "metadata": {},
   "outputs": [],
   "source": [
    "cobra.io.write_sbml_model(model,\"../../model/g-thermo.xml\")"
   ]
  },
  {
   "cell_type": "code",
   "execution_count": null,
   "metadata": {},
   "outputs": [],
   "source": []
  }
 ],
 "metadata": {
  "kernelspec": {
   "display_name": "Python 3",
   "language": "python",
   "name": "python3"
  },
  "language_info": {
   "codemirror_mode": {
    "name": "ipython",
    "version": 3
   },
   "file_extension": ".py",
   "mimetype": "text/x-python",
   "name": "python",
   "nbconvert_exporter": "python",
   "pygments_lexer": "ipython3",
   "version": "3.7.4"
  }
 },
 "nbformat": 4,
 "nbformat_minor": 2
}
