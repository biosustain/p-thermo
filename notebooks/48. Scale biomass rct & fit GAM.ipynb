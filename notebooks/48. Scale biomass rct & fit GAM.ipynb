{
 "cells": [
  {
   "cell_type": "markdown",
   "metadata": {},
   "source": [
    "# Introduction\n",
    "After the previous notebook (47) we have gone through all of the dead end metabolites and check wether or not they should be included in the biomass reaction. After doing so, we need to check that we get maximum of 1 g/gCDW when adding the stoichiometreisa and the weights of each compound together. Here I will check that.\n",
    "\n",
    "If our biomass reaction exceeds the 1g/1gCDW, we need to scale all stoichiometries down to max 1 g/gCDW by changing the assigned stoichiometries linearly. This notebook will cover that.\n",
    "\n",
    "Then when that has been finished, we can fit the GAM to the reaction to assure this fits measured chemostat data.\n"
   ]
  },
  {
   "cell_type": "code",
   "execution_count": 14,
   "metadata": {},
   "outputs": [],
   "source": [
    "import cameo\n",
    "import pandas as pd\n",
    "import cobra.io\n",
    "import escher\n",
    "from escher import Builder\n",
    "from cobra import Metabolite"
   ]
  },
  {
   "cell_type": "code",
   "execution_count": 33,
   "metadata": {},
   "outputs": [],
   "source": [
    "model = cobra.io.read_sbml_model('../../model/g-thermo.xml')"
   ]
  },
  {
   "cell_type": "code",
   "execution_count": 34,
   "metadata": {},
   "outputs": [],
   "source": [
    "#check total g/gdcw biomass\n",
    "biomass_g_g = []\n",
    "for met in model.reactions.biomass.metabolites:\n",
    "    stoich = model.reactions.biomass.metabolites.get(met) #get stoichiometry in mmol/gcdw\n",
    "    if stoich == 1 :#ignore the biomass part, but need to include the ADP/Pi/UDP that is also made here\n",
    "        continue\n",
    "    else:\n",
    "        mw = met.formula_weight # get molecular weight of metabolite in g/mol\n",
    "        try:\n",
    "            weight_fraction = (mw/1000)*stoich #the g/gcdw of this metabolite\n",
    "            biomass_g_g.append(weight_fraction)\n",
    "        except TypeError: #for the met with R in it, just ignore\n",
    "            print(met.id)"
   ]
  },
  {
   "cell_type": "code",
   "execution_count": 35,
   "metadata": {
    "scrolled": true
   },
   "outputs": [
    {
     "data": {
      "text/plain": [
       "1.1169736189545567"
      ]
     },
     "execution_count": 35,
     "metadata": {},
     "output_type": "execute_result"
    }
   ],
   "source": [
    "#to find total g/gcdw of all mets, sum up this list\n",
    "abs(sum(biomass_g_g))"
   ]
  },
  {
   "cell_type": "markdown",
   "metadata": {},
   "source": [
    "So we need to scale the coefficients of all molecules in the biomass reaction to make sure this number is around 1 g/gCDW. \n",
    "\n",
    "To do so, we need to decrease the total stoichiometries of the metabolites. It needs to be scaled in such a way that the %of each metabolite in a g/g way remains the same compared to the rest. So, I need to scale based on the g/g of each metabolite."
   ]
  },
  {
   "cell_type": "code",
   "execution_count": 36,
   "metadata": {},
   "outputs": [],
   "source": [
    "for met in model.reactions.biomass.metabolites:\n",
    "    if met.id in ['atp_c','adp_c','pi_c','h_c', 'Biomass_c', 'h2o_c']: #don't scale the biomass or ATP related metabolites. these will be fit in the GAM and they shouldn't contibute much to total weight anyway\n",
    "        continue\n",
    "    else:\n",
    "        stoich = model.reactions.biomass.metabolites[met]\n",
    "        new_stoich = stoich/1.12\n",
    "        add_stoich = (stoich-new_stoich)\n",
    "        model.reactions.biomass.add_metabolites({model.metabolites.get_by_id(met.id): -add_stoich})"
   ]
  },
  {
   "cell_type": "markdown",
   "metadata": {},
   "source": [
    "We can see that the stoichiometry of the metabolites have changed accordingly. Lets check we now have 1g/gCDW."
   ]
  },
  {
   "cell_type": "code",
   "execution_count": 37,
   "metadata": {},
   "outputs": [],
   "source": [
    "#check total g/gdcw biomass\n",
    "biomass_g_g_new = []\n",
    "for met in model.reactions.biomass.metabolites:\n",
    "    stoich = model.reactions.biomass.metabolites.get(met) #get stoichiometry in mmol/gcdw\n",
    "    if stoich == 1 :#ignore the biomass part, but need to include the ADP/Pi/UDP that is also made here\n",
    "        continue\n",
    "    else:\n",
    "        mw = met.formula_weight # get molecular weight of metabolite in g/mol\n",
    "        try:\n",
    "            weight_fraction = (mw/1000)*stoich #the g/gcdw of this metabolite\n",
    "            biomass_g_g_new.append(weight_fraction)\n",
    "        except TypeError: #for the met with R in it, just ignore\n",
    "            print(met.id)"
   ]
  },
  {
   "cell_type": "code",
   "execution_count": 38,
   "metadata": {
    "scrolled": true
   },
   "outputs": [
    {
     "data": {
      "text/plain": [
       "0.9990312579196647"
      ]
     },
     "execution_count": 38,
     "metadata": {},
     "output_type": "execute_result"
    }
   ],
   "source": [
    "#to find total g/gcdw of all mets, sum up this list\n",
    "abs(sum(biomass_g_g_new))"
   ]
  },
  {
   "cell_type": "code",
   "execution_count": null,
   "metadata": {},
   "outputs": [],
   "source": [
    "#save&commit\n",
    "cobra.io.write_sbml_model(model,'../../model/g-thermo.xml')"
   ]
  }
 ],
 "metadata": {
  "kernelspec": {
   "display_name": "Python 3",
   "language": "python",
   "name": "python3"
  },
  "language_info": {
   "codemirror_mode": {
    "name": "ipython",
    "version": 3
   },
   "file_extension": ".py",
   "mimetype": "text/x-python",
   "name": "python",
   "nbconvert_exporter": "python",
   "pygments_lexer": "ipython3",
   "version": "3.7.7"
  }
 },
 "nbformat": 4,
 "nbformat_minor": 4
}
