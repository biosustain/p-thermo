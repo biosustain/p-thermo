{
 "cells": [
  {
   "cell_type": "markdown",
   "metadata": {},
   "source": [
    "# Introduction\n",
    "In this notebook, we will look into the NADPH metabolism further, as we've observed our model currently doesn't use the oxidative PPP when an FBA is run. "
   ]
  },
  {
   "cell_type": "code",
   "execution_count": 1,
   "metadata": {},
   "outputs": [
    {
     "data": {
      "application/javascript": [
       "\n",
       "(function(root) {\n",
       "  function now() {\n",
       "    return new Date();\n",
       "  }\n",
       "\n",
       "  var force = true;\n",
       "\n",
       "  if (typeof root._bokeh_onload_callbacks === \"undefined\" || force === true) {\n",
       "    root._bokeh_onload_callbacks = [];\n",
       "    root._bokeh_is_loading = undefined;\n",
       "  }\n",
       "\n",
       "  var JS_MIME_TYPE = 'application/javascript';\n",
       "  var HTML_MIME_TYPE = 'text/html';\n",
       "  var EXEC_MIME_TYPE = 'application/vnd.bokehjs_exec.v0+json';\n",
       "  var CLASS_NAME = 'output_bokeh rendered_html';\n",
       "\n",
       "  /**\n",
       "   * Render data to the DOM node\n",
       "   */\n",
       "  function render(props, node) {\n",
       "    var script = document.createElement(\"script\");\n",
       "    node.appendChild(script);\n",
       "  }\n",
       "\n",
       "  /**\n",
       "   * Handle when an output is cleared or removed\n",
       "   */\n",
       "  function handleClearOutput(event, handle) {\n",
       "    var cell = handle.cell;\n",
       "\n",
       "    var id = cell.output_area._bokeh_element_id;\n",
       "    var server_id = cell.output_area._bokeh_server_id;\n",
       "    // Clean up Bokeh references\n",
       "    if (id != null && id in Bokeh.index) {\n",
       "      Bokeh.index[id].model.document.clear();\n",
       "      delete Bokeh.index[id];\n",
       "    }\n",
       "\n",
       "    if (server_id !== undefined) {\n",
       "      // Clean up Bokeh references\n",
       "      var cmd = \"from bokeh.io.state import curstate; print(curstate().uuid_to_server['\" + server_id + \"'].get_sessions()[0].document.roots[0]._id)\";\n",
       "      cell.notebook.kernel.execute(cmd, {\n",
       "        iopub: {\n",
       "          output: function(msg) {\n",
       "            var id = msg.content.text.trim();\n",
       "            if (id in Bokeh.index) {\n",
       "              Bokeh.index[id].model.document.clear();\n",
       "              delete Bokeh.index[id];\n",
       "            }\n",
       "          }\n",
       "        }\n",
       "      });\n",
       "      // Destroy server and session\n",
       "      var cmd = \"import bokeh.io.notebook as ion; ion.destroy_server('\" + server_id + \"')\";\n",
       "      cell.notebook.kernel.execute(cmd);\n",
       "    }\n",
       "  }\n",
       "\n",
       "  /**\n",
       "   * Handle when a new output is added\n",
       "   */\n",
       "  function handleAddOutput(event, handle) {\n",
       "    var output_area = handle.output_area;\n",
       "    var output = handle.output;\n",
       "\n",
       "    // limit handleAddOutput to display_data with EXEC_MIME_TYPE content only\n",
       "    if ((output.output_type != \"display_data\") || (!output.data.hasOwnProperty(EXEC_MIME_TYPE))) {\n",
       "      return\n",
       "    }\n",
       "\n",
       "    var toinsert = output_area.element.find(\".\" + CLASS_NAME.split(' ')[0]);\n",
       "\n",
       "    if (output.metadata[EXEC_MIME_TYPE][\"id\"] !== undefined) {\n",
       "      toinsert[toinsert.length - 1].firstChild.textContent = output.data[JS_MIME_TYPE];\n",
       "      // store reference to embed id on output_area\n",
       "      output_area._bokeh_element_id = output.metadata[EXEC_MIME_TYPE][\"id\"];\n",
       "    }\n",
       "    if (output.metadata[EXEC_MIME_TYPE][\"server_id\"] !== undefined) {\n",
       "      var bk_div = document.createElement(\"div\");\n",
       "      bk_div.innerHTML = output.data[HTML_MIME_TYPE];\n",
       "      var script_attrs = bk_div.children[0].attributes;\n",
       "      for (var i = 0; i < script_attrs.length; i++) {\n",
       "        toinsert[toinsert.length - 1].firstChild.setAttribute(script_attrs[i].name, script_attrs[i].value);\n",
       "        toinsert[toinsert.length - 1].firstChild.textContent = bk_div.children[0].textContent\n",
       "      }\n",
       "      // store reference to server id on output_area\n",
       "      output_area._bokeh_server_id = output.metadata[EXEC_MIME_TYPE][\"server_id\"];\n",
       "    }\n",
       "  }\n",
       "\n",
       "  function register_renderer(events, OutputArea) {\n",
       "\n",
       "    function append_mime(data, metadata, element) {\n",
       "      // create a DOM node to render to\n",
       "      var toinsert = this.create_output_subarea(\n",
       "        metadata,\n",
       "        CLASS_NAME,\n",
       "        EXEC_MIME_TYPE\n",
       "      );\n",
       "      this.keyboard_manager.register_events(toinsert);\n",
       "      // Render to node\n",
       "      var props = {data: data, metadata: metadata[EXEC_MIME_TYPE]};\n",
       "      render(props, toinsert[toinsert.length - 1]);\n",
       "      element.append(toinsert);\n",
       "      return toinsert\n",
       "    }\n",
       "\n",
       "    /* Handle when an output is cleared or removed */\n",
       "    events.on('clear_output.CodeCell', handleClearOutput);\n",
       "    events.on('delete.Cell', handleClearOutput);\n",
       "\n",
       "    /* Handle when a new output is added */\n",
       "    events.on('output_added.OutputArea', handleAddOutput);\n",
       "\n",
       "    /**\n",
       "     * Register the mime type and append_mime function with output_area\n",
       "     */\n",
       "    OutputArea.prototype.register_mime_type(EXEC_MIME_TYPE, append_mime, {\n",
       "      /* Is output safe? */\n",
       "      safe: true,\n",
       "      /* Index of renderer in `output_area.display_order` */\n",
       "      index: 0\n",
       "    });\n",
       "  }\n",
       "\n",
       "  // register the mime type if in Jupyter Notebook environment and previously unregistered\n",
       "  if (root.Jupyter !== undefined) {\n",
       "    var events = require('base/js/events');\n",
       "    var OutputArea = require('notebook/js/outputarea').OutputArea;\n",
       "\n",
       "    if (OutputArea.prototype.mime_types().indexOf(EXEC_MIME_TYPE) == -1) {\n",
       "      register_renderer(events, OutputArea);\n",
       "    }\n",
       "  }\n",
       "\n",
       "  \n",
       "  if (typeof (root._bokeh_timeout) === \"undefined\" || force === true) {\n",
       "    root._bokeh_timeout = Date.now() + 5000;\n",
       "    root._bokeh_failed_load = false;\n",
       "  }\n",
       "\n",
       "  var NB_LOAD_WARNING = {'data': {'text/html':\n",
       "     \"<div style='background-color: #fdd'>\\n\"+\n",
       "     \"<p>\\n\"+\n",
       "     \"BokehJS does not appear to have successfully loaded. If loading BokehJS from CDN, this \\n\"+\n",
       "     \"may be due to a slow or bad network connection. Possible fixes:\\n\"+\n",
       "     \"</p>\\n\"+\n",
       "     \"<ul>\\n\"+\n",
       "     \"<li>re-rerun `output_notebook()` to attempt to load from CDN again, or</li>\\n\"+\n",
       "     \"<li>use INLINE resources instead, as so:</li>\\n\"+\n",
       "     \"</ul>\\n\"+\n",
       "     \"<code>\\n\"+\n",
       "     \"from bokeh.resources import INLINE\\n\"+\n",
       "     \"output_notebook(resources=INLINE)\\n\"+\n",
       "     \"</code>\\n\"+\n",
       "     \"</div>\"}};\n",
       "\n",
       "  function display_loaded() {\n",
       "    var el = document.getElementById(null);\n",
       "    if (el != null) {\n",
       "      el.textContent = \"BokehJS is loading...\";\n",
       "    }\n",
       "    if (root.Bokeh !== undefined) {\n",
       "      if (el != null) {\n",
       "        el.textContent = \"BokehJS \" + root.Bokeh.version + \" successfully loaded.\";\n",
       "      }\n",
       "    } else if (Date.now() < root._bokeh_timeout) {\n",
       "      setTimeout(display_loaded, 100)\n",
       "    }\n",
       "  }\n",
       "\n",
       "\n",
       "  function run_callbacks() {\n",
       "    try {\n",
       "      root._bokeh_onload_callbacks.forEach(function(callback) {\n",
       "        if (callback != null)\n",
       "          callback();\n",
       "      });\n",
       "    } finally {\n",
       "      delete root._bokeh_onload_callbacks\n",
       "    }\n",
       "    console.debug(\"Bokeh: all callbacks have finished\");\n",
       "  }\n",
       "\n",
       "  function load_libs(css_urls, js_urls, callback) {\n",
       "    if (css_urls == null) css_urls = [];\n",
       "    if (js_urls == null) js_urls = [];\n",
       "\n",
       "    root._bokeh_onload_callbacks.push(callback);\n",
       "    if (root._bokeh_is_loading > 0) {\n",
       "      console.debug(\"Bokeh: BokehJS is being loaded, scheduling callback at\", now());\n",
       "      return null;\n",
       "    }\n",
       "    if (js_urls == null || js_urls.length === 0) {\n",
       "      run_callbacks();\n",
       "      return null;\n",
       "    }\n",
       "    console.debug(\"Bokeh: BokehJS not loaded, scheduling load and callback at\", now());\n",
       "    root._bokeh_is_loading = css_urls.length + js_urls.length;\n",
       "\n",
       "    function on_load() {\n",
       "      root._bokeh_is_loading--;\n",
       "      if (root._bokeh_is_loading === 0) {\n",
       "        console.debug(\"Bokeh: all BokehJS libraries/stylesheets loaded\");\n",
       "        run_callbacks()\n",
       "      }\n",
       "    }\n",
       "\n",
       "    function on_error() {\n",
       "      console.error(\"failed to load \" + url);\n",
       "    }\n",
       "\n",
       "    for (var i = 0; i < css_urls.length; i++) {\n",
       "      var url = css_urls[i];\n",
       "      const element = document.createElement(\"link\");\n",
       "      element.onload = on_load;\n",
       "      element.onerror = on_error;\n",
       "      element.rel = \"stylesheet\";\n",
       "      element.type = \"text/css\";\n",
       "      element.href = url;\n",
       "      console.debug(\"Bokeh: injecting link tag for BokehJS stylesheet: \", url);\n",
       "      document.body.appendChild(element);\n",
       "    }\n",
       "\n",
       "    const hashes = {\"https://cdn.bokeh.org/bokeh/release/bokeh-2.0.1.min.js\": \"JpP8FXbgAZLkfur7LiK3j9AGBhHNIvF742meBJrjO2ShJDhCG2I1uVvW+0DUtrmc\", \"https://cdn.bokeh.org/bokeh/release/bokeh-widgets-2.0.1.min.js\": \"xZlADit0Q04ISQEdKg2k3L4W9AwQBAuDs9nJL9fM/WwzL1tEU9VPNezOFX0nLEAz\", \"https://cdn.bokeh.org/bokeh/release/bokeh-tables-2.0.1.min.js\": \"4BuPRZkdMKSnj3zoxiNrQ86XgNw0rYmBOxe7nshquXwwcauupgBF2DHLVG1WuZlV\", \"https://cdn.bokeh.org/bokeh/release/bokeh-gl-2.0.1.min.js\": \"Dv1SQ87hmDqK6S5OhBf0bCuwAEvL5QYL0PuR/F1SPVhCS/r/abjkbpKDYL2zeM19\"};\n",
       "\n",
       "    for (var i = 0; i < js_urls.length; i++) {\n",
       "      var url = js_urls[i];\n",
       "      var element = document.createElement('script');\n",
       "      element.onload = on_load;\n",
       "      element.onerror = on_error;\n",
       "      element.async = false;\n",
       "      element.src = url;\n",
       "      if (url in hashes) {\n",
       "        element.crossOrigin = \"anonymous\";\n",
       "        element.integrity = \"sha384-\" + hashes[url];\n",
       "      }\n",
       "      console.debug(\"Bokeh: injecting script tag for BokehJS library: \", url);\n",
       "      document.head.appendChild(element);\n",
       "    }\n",
       "  };\n",
       "\n",
       "  function inject_raw_css(css) {\n",
       "    const element = document.createElement(\"style\");\n",
       "    element.appendChild(document.createTextNode(css));\n",
       "    document.body.appendChild(element);\n",
       "  }\n",
       "\n",
       "  \n",
       "  var js_urls = [\"https://cdn.bokeh.org/bokeh/release/bokeh-2.0.1.min.js\", \"https://cdn.bokeh.org/bokeh/release/bokeh-widgets-2.0.1.min.js\", \"https://cdn.bokeh.org/bokeh/release/bokeh-tables-2.0.1.min.js\", \"https://cdn.bokeh.org/bokeh/release/bokeh-gl-2.0.1.min.js\"];\n",
       "  var css_urls = [];\n",
       "  \n",
       "\n",
       "  var inline_js = [\n",
       "    function(Bokeh) {\n",
       "      Bokeh.set_log_level(\"info\");\n",
       "    },\n",
       "    function(Bokeh) {\n",
       "    \n",
       "    \n",
       "    }\n",
       "  ];\n",
       "\n",
       "  function run_inline_js() {\n",
       "    \n",
       "    if (root.Bokeh !== undefined || force === true) {\n",
       "      \n",
       "    for (var i = 0; i < inline_js.length; i++) {\n",
       "      inline_js[i].call(root, root.Bokeh);\n",
       "    }\n",
       "    } else if (Date.now() < root._bokeh_timeout) {\n",
       "      setTimeout(run_inline_js, 100);\n",
       "    } else if (!root._bokeh_failed_load) {\n",
       "      console.log(\"Bokeh: BokehJS failed to load within specified timeout.\");\n",
       "      root._bokeh_failed_load = true;\n",
       "    } else if (force !== true) {\n",
       "      var cell = $(document.getElementById(null)).parents('.cell').data().cell;\n",
       "      cell.output_area.append_execute_result(NB_LOAD_WARNING)\n",
       "    }\n",
       "\n",
       "  }\n",
       "\n",
       "  if (root._bokeh_is_loading === 0) {\n",
       "    console.debug(\"Bokeh: BokehJS loaded, going straight to plotting\");\n",
       "    run_inline_js();\n",
       "  } else {\n",
       "    load_libs(css_urls, js_urls, function() {\n",
       "      console.debug(\"Bokeh: BokehJS plotting callback run at\", now());\n",
       "      run_inline_js();\n",
       "    });\n",
       "  }\n",
       "}(window));"
      ],
      "application/vnd.bokehjs_load.v0+json": "\n(function(root) {\n  function now() {\n    return new Date();\n  }\n\n  var force = true;\n\n  if (typeof root._bokeh_onload_callbacks === \"undefined\" || force === true) {\n    root._bokeh_onload_callbacks = [];\n    root._bokeh_is_loading = undefined;\n  }\n\n  \n\n  \n  if (typeof (root._bokeh_timeout) === \"undefined\" || force === true) {\n    root._bokeh_timeout = Date.now() + 5000;\n    root._bokeh_failed_load = false;\n  }\n\n  var NB_LOAD_WARNING = {'data': {'text/html':\n     \"<div style='background-color: #fdd'>\\n\"+\n     \"<p>\\n\"+\n     \"BokehJS does not appear to have successfully loaded. If loading BokehJS from CDN, this \\n\"+\n     \"may be due to a slow or bad network connection. Possible fixes:\\n\"+\n     \"</p>\\n\"+\n     \"<ul>\\n\"+\n     \"<li>re-rerun `output_notebook()` to attempt to load from CDN again, or</li>\\n\"+\n     \"<li>use INLINE resources instead, as so:</li>\\n\"+\n     \"</ul>\\n\"+\n     \"<code>\\n\"+\n     \"from bokeh.resources import INLINE\\n\"+\n     \"output_notebook(resources=INLINE)\\n\"+\n     \"</code>\\n\"+\n     \"</div>\"}};\n\n  function display_loaded() {\n    var el = document.getElementById(null);\n    if (el != null) {\n      el.textContent = \"BokehJS is loading...\";\n    }\n    if (root.Bokeh !== undefined) {\n      if (el != null) {\n        el.textContent = \"BokehJS \" + root.Bokeh.version + \" successfully loaded.\";\n      }\n    } else if (Date.now() < root._bokeh_timeout) {\n      setTimeout(display_loaded, 100)\n    }\n  }\n\n\n  function run_callbacks() {\n    try {\n      root._bokeh_onload_callbacks.forEach(function(callback) {\n        if (callback != null)\n          callback();\n      });\n    } finally {\n      delete root._bokeh_onload_callbacks\n    }\n    console.debug(\"Bokeh: all callbacks have finished\");\n  }\n\n  function load_libs(css_urls, js_urls, callback) {\n    if (css_urls == null) css_urls = [];\n    if (js_urls == null) js_urls = [];\n\n    root._bokeh_onload_callbacks.push(callback);\n    if (root._bokeh_is_loading > 0) {\n      console.debug(\"Bokeh: BokehJS is being loaded, scheduling callback at\", now());\n      return null;\n    }\n    if (js_urls == null || js_urls.length === 0) {\n      run_callbacks();\n      return null;\n    }\n    console.debug(\"Bokeh: BokehJS not loaded, scheduling load and callback at\", now());\n    root._bokeh_is_loading = css_urls.length + js_urls.length;\n\n    function on_load() {\n      root._bokeh_is_loading--;\n      if (root._bokeh_is_loading === 0) {\n        console.debug(\"Bokeh: all BokehJS libraries/stylesheets loaded\");\n        run_callbacks()\n      }\n    }\n\n    function on_error() {\n      console.error(\"failed to load \" + url);\n    }\n\n    for (var i = 0; i < css_urls.length; i++) {\n      var url = css_urls[i];\n      const element = document.createElement(\"link\");\n      element.onload = on_load;\n      element.onerror = on_error;\n      element.rel = \"stylesheet\";\n      element.type = \"text/css\";\n      element.href = url;\n      console.debug(\"Bokeh: injecting link tag for BokehJS stylesheet: \", url);\n      document.body.appendChild(element);\n    }\n\n    const hashes = {\"https://cdn.bokeh.org/bokeh/release/bokeh-2.0.1.min.js\": \"JpP8FXbgAZLkfur7LiK3j9AGBhHNIvF742meBJrjO2ShJDhCG2I1uVvW+0DUtrmc\", \"https://cdn.bokeh.org/bokeh/release/bokeh-widgets-2.0.1.min.js\": \"xZlADit0Q04ISQEdKg2k3L4W9AwQBAuDs9nJL9fM/WwzL1tEU9VPNezOFX0nLEAz\", \"https://cdn.bokeh.org/bokeh/release/bokeh-tables-2.0.1.min.js\": \"4BuPRZkdMKSnj3zoxiNrQ86XgNw0rYmBOxe7nshquXwwcauupgBF2DHLVG1WuZlV\", \"https://cdn.bokeh.org/bokeh/release/bokeh-gl-2.0.1.min.js\": \"Dv1SQ87hmDqK6S5OhBf0bCuwAEvL5QYL0PuR/F1SPVhCS/r/abjkbpKDYL2zeM19\"};\n\n    for (var i = 0; i < js_urls.length; i++) {\n      var url = js_urls[i];\n      var element = document.createElement('script');\n      element.onload = on_load;\n      element.onerror = on_error;\n      element.async = false;\n      element.src = url;\n      if (url in hashes) {\n        element.crossOrigin = \"anonymous\";\n        element.integrity = \"sha384-\" + hashes[url];\n      }\n      console.debug(\"Bokeh: injecting script tag for BokehJS library: \", url);\n      document.head.appendChild(element);\n    }\n  };\n\n  function inject_raw_css(css) {\n    const element = document.createElement(\"style\");\n    element.appendChild(document.createTextNode(css));\n    document.body.appendChild(element);\n  }\n\n  \n  var js_urls = [\"https://cdn.bokeh.org/bokeh/release/bokeh-2.0.1.min.js\", \"https://cdn.bokeh.org/bokeh/release/bokeh-widgets-2.0.1.min.js\", \"https://cdn.bokeh.org/bokeh/release/bokeh-tables-2.0.1.min.js\", \"https://cdn.bokeh.org/bokeh/release/bokeh-gl-2.0.1.min.js\"];\n  var css_urls = [];\n  \n\n  var inline_js = [\n    function(Bokeh) {\n      Bokeh.set_log_level(\"info\");\n    },\n    function(Bokeh) {\n    \n    \n    }\n  ];\n\n  function run_inline_js() {\n    \n    if (root.Bokeh !== undefined || force === true) {\n      \n    for (var i = 0; i < inline_js.length; i++) {\n      inline_js[i].call(root, root.Bokeh);\n    }\n    } else if (Date.now() < root._bokeh_timeout) {\n      setTimeout(run_inline_js, 100);\n    } else if (!root._bokeh_failed_load) {\n      console.log(\"Bokeh: BokehJS failed to load within specified timeout.\");\n      root._bokeh_failed_load = true;\n    } else if (force !== true) {\n      var cell = $(document.getElementById(null)).parents('.cell').data().cell;\n      cell.output_area.append_execute_result(NB_LOAD_WARNING)\n    }\n\n  }\n\n  if (root._bokeh_is_loading === 0) {\n    console.debug(\"Bokeh: BokehJS loaded, going straight to plotting\");\n    run_inline_js();\n  } else {\n    load_libs(css_urls, js_urls, function() {\n      console.debug(\"Bokeh: BokehJS plotting callback run at\", now());\n      run_inline_js();\n    });\n  }\n}(window));"
     },
     "metadata": {},
     "output_type": "display_data"
    }
   ],
   "source": [
    "import cameo\n",
    "import pandas as pd\n",
    "import cobra.io\n",
    "import escher\n",
    "from escher import Builder\n",
    "from cobra import Metabolite,Reaction"
   ]
  },
  {
   "cell_type": "code",
   "execution_count": 2,
   "metadata": {},
   "outputs": [],
   "source": [
    "model = cobra.io.read_sbml_model('../model/g-thermo.xml')"
   ]
  },
  {
   "cell_type": "code",
   "execution_count": 3,
   "metadata": {},
   "outputs": [],
   "source": [
    "model_e_coli = cameo.load_model ('iML1515')"
   ]
  },
  {
   "cell_type": "code",
   "execution_count": 4,
   "metadata": {},
   "outputs": [],
   "source": [
    "model_b_sub = cameo.load_model ('iYO844')"
   ]
  },
  {
   "cell_type": "code",
   "execution_count": 21,
   "metadata": {},
   "outputs": [
    {
     "data": {
      "text/html": [
       "<div>\n",
       "<style scoped>\n",
       "    .dataframe tbody tr th:only-of-type {\n",
       "        vertical-align: middle;\n",
       "    }\n",
       "\n",
       "    .dataframe tbody tr th {\n",
       "        vertical-align: top;\n",
       "    }\n",
       "\n",
       "    .dataframe thead th {\n",
       "        text-align: right;\n",
       "    }\n",
       "</style>\n",
       "<table border=\"1\" class=\"dataframe\">\n",
       "  <thead>\n",
       "    <tr style=\"text-align: right;\">\n",
       "      <th></th>\n",
       "      <th></th>\n",
       "      <th>PERCENT</th>\n",
       "      <th>FLUX</th>\n",
       "      <th>REACTION_STRING</th>\n",
       "    </tr>\n",
       "    <tr>\n",
       "      <th>RXN_STAT</th>\n",
       "      <th>ID</th>\n",
       "      <th></th>\n",
       "      <th></th>\n",
       "      <th></th>\n",
       "    </tr>\n",
       "  </thead>\n",
       "  <tbody>\n",
       "    <tr>\n",
       "      <th rowspan=\"3\" valign=\"top\">PRODUCING</th>\n",
       "      <th>GADPH</th>\n",
       "      <td>65.359281</td>\n",
       "      <td>17.815294</td>\n",
       "      <td>g3p_c + nadp_c + pi_c &lt;=&gt; 13dpg_c + nadph_c</td>\n",
       "    </tr>\n",
       "    <tr>\n",
       "      <th>ICDHyr</th>\n",
       "      <td>32.933477</td>\n",
       "      <td>8.976837</td>\n",
       "      <td>icit_c + nadp_c &lt;=&gt; akg_c + co2_c + nadph_c</td>\n",
       "    </tr>\n",
       "    <tr>\n",
       "      <th>MTHFD</th>\n",
       "      <td>1.707242</td>\n",
       "      <td>0.465351</td>\n",
       "      <td>mlthf_c + nadp_c &lt;=&gt; methf_c + nadph_c</td>\n",
       "    </tr>\n",
       "    <tr>\n",
       "      <th rowspan=\"11\" valign=\"top\">CONSUMING</th>\n",
       "      <th>P5CR</th>\n",
       "      <td>58.944041</td>\n",
       "      <td>16.066661</td>\n",
       "      <td>nadp_c + pro__L_c &lt;-- h_c + nadph_c + pyr5c_c</td>\n",
       "    </tr>\n",
       "    <tr>\n",
       "      <th>GLUSy</th>\n",
       "      <td>18.964368</td>\n",
       "      <td>5.169209</td>\n",
       "      <td>akg_c + gln__L_c + h_c + nadph_c --&gt; 2.0 glu__...</td>\n",
       "    </tr>\n",
       "    <tr>\n",
       "      <th>ASAD</th>\n",
       "      <td>2.600234</td>\n",
       "      <td>0.708758</td>\n",
       "      <td>4pasp_c + nadph_c &lt;=&gt; aspsa_c + nadp_c + pi_c</td>\n",
       "    </tr>\n",
       "    <tr>\n",
       "      <th>KARA1</th>\n",
       "      <td>2.289112</td>\n",
       "      <td>0.623954</td>\n",
       "      <td>23dhmb_c + nadp_c &lt;=&gt; alac__S_c + 2.0 h_c + na...</td>\n",
       "    </tr>\n",
       "    <tr>\n",
       "      <th>HSDy</th>\n",
       "      <td>1.734226</td>\n",
       "      <td>0.472706</td>\n",
       "      <td>aspsa_c + h_c + nadph_c &lt;=&gt; hom__L_c + nadp_c</td>\n",
       "    </tr>\n",
       "    <tr>\n",
       "      <th>SULR</th>\n",
       "      <td>1.572852</td>\n",
       "      <td>0.428720</td>\n",
       "      <td>3.0 h_c + 3.0 nadph_c + so3_c --&gt; 3.0 h2o_c + ...</td>\n",
       "    </tr>\n",
       "    <tr>\n",
       "      <th>ACCR2</th>\n",
       "      <td>1.403486</td>\n",
       "      <td>0.382555</td>\n",
       "      <td>acc2_c + nadph_c --&gt; hacc2_c + nadp_c</td>\n",
       "    </tr>\n",
       "    <tr>\n",
       "      <th>G5SD</th>\n",
       "      <td>0.979035</td>\n",
       "      <td>0.266860</td>\n",
       "      <td>glu5p_c + nadph_c --&gt; glu5sa_c + nadp_c + pi_c</td>\n",
       "    </tr>\n",
       "    <tr>\n",
       "      <th>SHK3Dr</th>\n",
       "      <td>0.961610</td>\n",
       "      <td>0.262111</td>\n",
       "      <td>nadp_c + skm_c &lt;=&gt; 3dhsk_c + h_c + nadph_c</td>\n",
       "    </tr>\n",
       "    <tr>\n",
       "      <th>DHDPRy</th>\n",
       "      <td>0.866008</td>\n",
       "      <td>0.236052</td>\n",
       "      <td>23dhdp_c + h_c + nadph_c --&gt; h2o_c + nadp_c + ...</td>\n",
       "    </tr>\n",
       "    <tr>\n",
       "      <th>KARI_23dhmp</th>\n",
       "      <td>0.772091</td>\n",
       "      <td>0.210453</td>\n",
       "      <td>3hmop_c + 2.0 h_c + nadph_c --&gt; 23dhmp_c + nadp_c</td>\n",
       "    </tr>\n",
       "  </tbody>\n",
       "</table>\n",
       "</div>"
      ],
      "text/plain": [
       "<cobra.core.summary.metabolite_summary.MetaboliteSummary at 0x21823b54208>"
      ]
     },
     "execution_count": 21,
     "metadata": {},
     "output_type": "execute_result"
    }
   ],
   "source": [
    "model.metabolites.nadph_c.summary()"
   ]
  },
  {
   "cell_type": "markdown",
   "metadata": {},
   "source": [
    "The majority of NADPH is made through the GAPDH enzyme. Previously, the model has two reactions that captivate the EC 1.2.1.59 annotation: one with NADH and one with NADPH. Condisering data from Beata's thesis, we decided to remove the NADH enzyme to prevent the redundancy and force the correct co-factor to be used. At the time, we put the enzyme irreversibly, as this step is known to be important for both glycolysis and gluconeogenesis. However, looking into this further, it seems an annotation in our model was missing. In the strain, EC 1.2.1.12 is also present: This is a G3P dehydrogenase that uses NADH. \n",
    "\n",
    "Again this would re-introduce the question of redundancy and possibility of cycles into the model. But, looking into literature research further (e.g. Fillinger et al. 2000 doi: 10.1074/jbc.275.19.14031) we see that the NADH dependent enzyme is critical for glycolysis, where the NADPH dependent enzyme is restricted to gluconeogensis in B. subtilis. As we have no further data or indications of how this functions otherwise in our strain, it would be best to assume a similar physiology to B. subtilis. Therefore, here I will add the EC1.2.1.12 reaction, and fix the bounds of the NADPH reaction too. \n",
    "\n",
    "After that, we will re-evaluate where the models NADPH comes from and if there are more issues that were unidentified. "
   ]
  },
  {
   "cell_type": "code",
   "execution_count": 22,
   "metadata": {},
   "outputs": [],
   "source": [
    "#add EC. 1.2.1.12 reaction\n",
    "model.add_reaction(Reaction(id='GAPD', name = 'glyceraldehyde-3-phosphate dehydrogenase'))"
   ]
  },
  {
   "cell_type": "code",
   "execution_count": 23,
   "metadata": {},
   "outputs": [],
   "source": [
    "model.reactions.GAPD.annotation = model_e_coli.reactions.GAPD.annotation"
   ]
  },
  {
   "cell_type": "code",
   "execution_count": 24,
   "metadata": {},
   "outputs": [],
   "source": [
    "model.reactions.GAPD.annotation['ec-code'] = '1.2.1.12'"
   ]
  },
  {
   "cell_type": "code",
   "execution_count": 25,
   "metadata": {},
   "outputs": [],
   "source": [
    "model.reactions.GAPD.add_metabolites({\n",
    "    model.metabolites.g3p_c:-1,\n",
    "    model.metabolites.nad_c:-1,\n",
    "    model.metabolites.pi_c:-1,\n",
    "    model.metabolites.get_by_id('13dpg_c'):1,\n",
    "    model.metabolites.nadh_c:1\n",
    "})"
   ]
  },
  {
   "cell_type": "code",
   "execution_count": 26,
   "metadata": {},
   "outputs": [],
   "source": [
    "#typo in rct ID\n",
    "model.reactions.GADPH.id = 'GAPDH'"
   ]
  },
  {
   "cell_type": "code",
   "execution_count": 27,
   "metadata": {},
   "outputs": [],
   "source": [
    "#fix bounds of the NADPH reaction to only allow gluconeogenesis\n",
    "model.reactions.GAPDH.bounds = (-1000,0)"
   ]
  },
  {
   "cell_type": "code",
   "execution_count": 28,
   "metadata": {},
   "outputs": [],
   "source": [
    "#save&commit\n",
    "cobra.io.write_sbml_model(model,'../model/g-thermo.xml')"
   ]
  },
  {
   "cell_type": "markdown",
   "metadata": {},
   "source": [
    "Now that we've changed this, we should check the new flux distribution in the map we've made. But first I will modify it to include the new two reactions in the G3P node. "
   ]
  },
  {
   "cell_type": "code",
   "execution_count": 4,
   "metadata": {},
   "outputs": [],
   "source": [
    "solution = model.optimize()"
   ]
  },
  {
   "cell_type": "code",
   "execution_count": 5,
   "metadata": {},
   "outputs": [
    {
     "data": {
      "application/vnd.jupyter.widget-view+json": {
       "model_id": "12602c7f5120405a8ac584427f5ecbe2",
       "version_major": 2,
       "version_minor": 0
      },
      "text/plain": [
       "Builder(reaction_data={'IDPh': 1.7578569544053102, 'CAT': 0.018911036200955408, 'PDHam1hi': 0.0, 'HYDA': 0.0, …"
      ]
     },
     "metadata": {},
     "output_type": "display_data"
    }
   ],
   "source": [
    "Builder(model = model, map_json = '../map/g-thermo-map.json', reaction_data = solution.fluxes.to_dict())"
   ]
  },
  {
   "cell_type": "markdown",
   "metadata": {},
   "source": [
    "After the changes, we see that there is still no flux through the PPP. The majority is made through the ICDHyr reaction. This is similar in the B. subtilis model, which means something is wrong in both. It makes sense to investigate the Isocitrate dehydrogenase step further. After looking into it further, it turns out that only in eukaryotes this is NADH associated. In prokaryotes the ICDHyr reaction uses NADPH. So i have no reason to believe that this would react with NADH in our case.\n",
    "\n",
    "Ben then recommended trying to increase the NADPH demand in our model. To test this, one can synthetically increase the NADPH needed to make biomass. At some point we would expect that the PPP is turned on, as this is the most efficient NADPH producing pathway. However, doing so didn't change the flux through the PPP at all... Which is quite strange and so the problem must lie elsewhere.\n",
    "\n",
    "I've also re-checked the complete PPP and all reactions and reversibilities are correct so this cannot be the cause of the problems. \n",
    "Instead, I spotted another reaction which I thought maybe has a wrong cofactor associated to it: HBCOAOR. This reaction converts 3-hydroxybutanoyl-Coa into acetoacetyl-coa and generates some NADPH in the process. This reaction does carry some flux in the optimization. Just to check, I turned off the reaction by setting its bounds to (0,0), and then when analyzing the FBA, you can see that the PPP now does carry flux. Now I need to figure out why blocking this reaction turns the PPP back on and if it really should be turned off or changed in our model."
   ]
  },
  {
   "cell_type": "code",
   "execution_count": 6,
   "metadata": {},
   "outputs": [
    {
     "data": {
      "text/plain": [
       "0.10155164141945267"
      ]
     },
     "execution_count": 6,
     "metadata": {},
     "output_type": "execute_result"
    }
   ],
   "source": [
    "solution['HBCOAOR']"
   ]
  },
  {
   "cell_type": "code",
   "execution_count": 7,
   "metadata": {},
   "outputs": [
    {
     "data": {
      "text/html": [
       "\n",
       "        <table>\n",
       "            <tr>\n",
       "                <td><strong>Reaction identifier</strong></td><td>HBCOAOR</td>\n",
       "            </tr><tr>\n",
       "                <td><strong>Name</strong></td><td>(S)-3-Hydroxybutanoyl-CoA:NADP+ oxidoreductase</td>\n",
       "            </tr><tr>\n",
       "                <td><strong>Memory address</strong></td>\n",
       "                <td>0x014639cc5048</td>\n",
       "            </tr><tr>\n",
       "                <td><strong>Stoichiometry</strong></td>\n",
       "                <td>\n",
       "                    <p style='text-align:right'>hbcoa_c + nadp_c --> aacoa_c + 4.0 h_c + nadph_c</p>\n",
       "                    <p style='text-align:right'>3-Hydroxybutanoyl-CoA + NADP+ --> Acetoacetyl-CoA + 4.0 H+ + NADPH</p>\n",
       "                </td>\n",
       "            </tr><tr>\n",
       "                <td><strong>GPR</strong></td><td>RTMO04827 or RTMO02612 or RTMO04473 or RTMO01626</td>\n",
       "            </tr><tr>\n",
       "                <td><strong>Lower bound</strong></td><td>0.0</td>\n",
       "            </tr><tr>\n",
       "                <td><strong>Upper bound</strong></td><td>1000.0</td>\n",
       "            </tr>\n",
       "        </table>\n",
       "        "
      ],
      "text/plain": [
       "<Reaction HBCOAOR at 0x14639cc5048>"
      ]
     },
     "execution_count": 7,
     "metadata": {},
     "output_type": "execute_result"
    }
   ],
   "source": [
    "model.reactions.HBCOAOR"
   ]
  },
  {
   "cell_type": "code",
   "execution_count": 80,
   "metadata": {
    "scrolled": true
   },
   "outputs": [],
   "source": [
    "# model.reactions.HBCOAOR.bounds = (0,0)\n",
    "# solution = model.optimize()\n",
    "# Builder(model = model, map_json = '../map/g-thermo-map.json', reaction_data = solution.fluxes.to_dict())"
   ]
  },
  {
   "cell_type": "markdown",
   "metadata": {},
   "source": [
    "Looking into it a bit, I see the issue! There is a cycle through these metabolites that can convert NADH into NADPH. Of course this is not expected to be the case in metabolism. So I will check each reaction seperatly and make sure the reversibility is fixed to prevent this cycling from happening.\n",
    "\n",
    "Overall, the enzyme for the HBCOAOR reaction (EC 1.1.1.57) is generally not so well studied. But in the organisms that it has been investigated in, acetoacetyl-CoA is the substrate, and NADPH is consumed. Also, when looking at the thermodynamics of the reaction, it would be expected that the reaction is favored in the NADPH consumption direction. As this is all the information that we have, it would make sense to assume that the reaction should be fixed in the direction of NADPH consumption. This would resolve the cycle that is forming."
   ]
  },
  {
   "cell_type": "code",
   "execution_count": 127,
   "metadata": {
    "scrolled": true
   },
   "outputs": [],
   "source": [
    "model.reactions.HBCOAOR.bounds = (-1000,0)"
   ]
  },
  {
   "cell_type": "code",
   "execution_count": 133,
   "metadata": {},
   "outputs": [],
   "source": [
    "solution = model.optimize()"
   ]
  },
  {
   "cell_type": "code",
   "execution_count": 134,
   "metadata": {},
   "outputs": [
    {
     "data": {
      "text/plain": [
       "0.7997303205948462"
      ]
     },
     "execution_count": 134,
     "metadata": {},
     "output_type": "execute_result"
    }
   ],
   "source": [
    "solution.objective_value"
   ]
  },
  {
   "cell_type": "code",
   "execution_count": 135,
   "metadata": {},
   "outputs": [
    {
     "data": {
      "application/vnd.jupyter.widget-view+json": {
       "model_id": "2057fb91ee04469dbe56c007f76f8a1a",
       "version_major": 2,
       "version_minor": 0
      },
      "text/plain": [
       "Builder(reaction_data={'IDPh': 1.7576614951303577, 'CAT': 0.018908933448842837, 'PDHam1hi': 0.0, 'HYDA': 0.0, …"
      ]
     },
     "metadata": {},
     "output_type": "display_data"
    }
   ],
   "source": [
    "Builder(model = model, map_json = '../map/g-thermo-map.json', reaction_data = solution.fluxes.to_dict())"
   ]
  },
  {
   "cell_type": "code",
   "execution_count": 12,
   "metadata": {},
   "outputs": [],
   "source": [
    "#save & commit\n",
    "cobra.io.write_sbml_model(model,'../model/g-thermo.xml')"
   ]
  },
  {
   "cell_type": "markdown",
   "metadata": {},
   "source": [
    "Now we've fixed the issue that the oxidative PPP is turned off! However, the flux through this is still very low. This makes me think there may be more cycles like the one I spotted above that can convert NADH into NADPH. So, to check this I will look at all the stoichiometrically balanced cycles that memote predicts. I will make a small script that will check if NADPH is involved in those reactions and print the reactions that are. This should help narrow down reactions where there may be a cycle forming that can generate NADPH. I can then tackle them all seperately."
   ]
  },
  {
   "cell_type": "code",
   "execution_count": 17,
   "metadata": {},
   "outputs": [],
   "source": [
    "#list of stoichiometrically balanced cycles as predicted by memote\n",
    "cycles = [\"IDPh\",\"ATPM\",\"NADDP\",\"GLUSy\",\"ADK1\",\"NMNAT\",\"NDPK2\",\"FADDP\",\"AFAT\",\"NTD7\",\"ADNK1\",\"ADPT\",\"PYK\",\"ME1\",\"OAADC\",\"SERD_L\",\"ACALD\",\"PTAr\",\"ACS\",\"GLU5K\",\"GDH\",\"PUTA3\",\"GLNS\",\"ACGS\",\"GLUR\",\"GALUi\",\"XYLI2\",\"ACKr\",\"ACYP_2\",\"NDPK1\",\"NTP3\",\"PPCK\",\"MDH\",\"PC\",\"ALAD_L\",\"ALAR\",\"UAG2EMA\",\"UAG2E\",\"PYK3\",\"GLYCLTDy\",\"ASNS2\",\"ASNN\",\"GALT\",\"NTD4\",\"CYTDK1\",\"UTCY\",\"CYTDK2\",\"NDPK3\",\"PYK4\",\"PSP_L\",\"SERHL\",\"TDP\",\"TMPK\",\"ENO\",\"PYK2\",\"ORNTA\",\"ACODA\",\"PHEOR\",\"PHETA1\",\"P5CD\",\"ALDD2x\",\"GLYCLTDx\",\"NDPK9\",\"PYK5\",\"G6PDA\",\"F6PCPT\",\"F6PISO\",\"F6PUPT\",\"F6PIPT\",\"PGI\",\"HEX7\",\"PTA2\",\"PAMPT\",\"MMSDH\",\"FTHFLi\",\"FTHFD\",\"GLGC\",\"ITCY\",\"NTD2\",\"URIK1\",\"UTUP\",\"URIK2\",\"URIK3\",\"PRPPS\",\"PPM\",\"UGLT\",\"LLEUDr\",\"LEUTAi\",\"GALKr\",\"ALATA_D\",\"BNOR\",\"BTCOAOR\",\"VALTA\",\"NTD9\",\"GUAPRT\",\"PPAPPT\",\"PRPNTEAT\",\"VALDHr\",\"PGCD\",\"PGM\",\"PUNP1\",\"TMDK1\",\"NTD5\",\"XYLK\",\"NTD3\",\"ADADir\",\"PFK_3\",\"SBP\",\"ATDGDm\",\"AGPOP\",\"PPCOAC\",\"DGNSK\",\"NTD8\",\"HACD1\",\"NTD6\",\"DADNK\",\"DURIK1\",\"NTD1\",\"XPPT\",\"PUNP3\",\"ILEOR\",\"ILETA\",\"ORNTAC\",\"ACOTA\",\"PUNP7\",\"RBK_L1\",\"MANPT\",\"ACGK\",\"ACMANAHY\",\"NTD10\",\"HEX1\",\"MME\",\"DNADDP\",\"NNATr\",\"G5SD\",\"G5SADs\",\"MMTSAOR\",\"MMALLIG\",\"AGPR\",\"ALCD4\",\"ALCD4y\",\"ALDH\",\"PSERT\",\"SALCNPT\",\"PFK\",\"FBP\",\"SALCN6PH\",\"HBCOAOR\",\"HBCOAH\",\"FMNRx\",\"FLDO\",\"NODOx\",\"NODOy\",\"MANNHY\",\"M_6DGHY\",\"STACHY\",\"STACHY2\",\"H2MB4POR\",\"DMPPS\",\"PGMT\",\"2AMACHYD\",\"EAR40x\",\"EAR60y\",\"EAR80x\",\"EAR100x\",\"EAR120x\",\"EAR140x\",\"EAR160x\",\"BTNLIG\",\"BTN5AMPL\",\"ECOAH1\",\"HCO3E\",\"ATPS4r\",\"Kt\",\"Kt2\",\"RU5PHY\",\"XU5PHY\",\"M6PHY\",\"VALt\",\"VALtabc\",\"LEUtabc\",\"LEUt\",\"ILEt\",\"ILEtabc\",\"ILEt2\",\"THRt\",\"THRt2\",\"CYStabc\",\"CYSt\",\"METabc\",\"METt2\",\"ARGtabc\",\"ARGt\",\"ARGt2\",\"HISt\",\"HIStabc\",\"ASPtabc\",\"ASPt\",\"ASPt2\",\"GLUtabc\",\"GLUt\",\"GLNtabc\",\"GLNt\",\"PROt\",\"PROtabc\",\"PROPIRE\",\"EAR60x\",\"EAR40y\",\"EAR80y\",\"EAR100y\",\"EAR120y\",\"EAR140y\",\"EAR160y\",\"GLYBtabc\",\"GLYBt\",\"SALGT\"]\n",
    "#see report '2020-06-08'"
   ]
  },
  {
   "cell_type": "code",
   "execution_count": 19,
   "metadata": {},
   "outputs": [
    {
     "name": "stdout",
     "output_type": "stream",
     "text": [
      "GLUSy\n",
      "GLYCLTDy\n",
      "BTCOAOR\n",
      "G5SD\n",
      "AGPR\n",
      "ALCD4y\n",
      "HBCOAOR\n",
      "FLDO\n",
      "NODOy\n",
      "H2MB4POR\n",
      "EAR60y\n",
      "EAR40y\n",
      "EAR80y\n",
      "EAR100y\n",
      "EAR120y\n",
      "EAR140y\n",
      "EAR160y\n"
     ]
    }
   ],
   "source": [
    "for rct in model.reactions:\n",
    "    if rct.id in cycles:\n",
    "        if model.metabolites.nadph_c in rct.metabolites:\n",
    "            print (rct.id)\n",
    "        else:\n",
    "            continue\n",
    "    else: continue"
   ]
  },
  {
   "cell_type": "markdown",
   "metadata": {},
   "source": [
    "So the reactions above are involved in a stoichiometrically balanced cycle, and contain NADPH. I will go through each to make sure they don't cycle unnecesarily and create NADPH incorrectly.\n",
    "\n",
    "After doing so, I saw that no other cycle is running that can make NADPH. There are some cycles identified here that are actually not a cycle, but originates from the fact that some reactions are shown in the reverse order. For example EAR60y and EAR60x. They are read by memote as a cycle even though the bounds given show that they are not. So therefore we can now assume this issue has been fixed."
   ]
  },
  {
   "cell_type": "code",
   "execution_count": 64,
   "metadata": {},
   "outputs": [
    {
     "data": {
      "text/html": [
       "\n",
       "        <table>\n",
       "            <tr>\n",
       "                <td><strong>Reaction identifier</strong></td><td>EAR60x</td>\n",
       "            </tr><tr>\n",
       "                <td><strong>Name</strong></td><td>hexanoyl-[acp]:NAD+ trans-2-oxidoreductase</td>\n",
       "            </tr><tr>\n",
       "                <td><strong>Memory address</strong></td>\n",
       "                <td>0x014639f98248</td>\n",
       "            </tr><tr>\n",
       "                <td><strong>Stoichiometry</strong></td>\n",
       "                <td>\n",
       "                    <p style='text-align:right'>hexACP_c + nad_c <-- h_c + nadh_c + thex2eACP_c</p>\n",
       "                    <p style='text-align:right'>Hexanoyl-ACP (n-C6:0ACP) + NAD+ <-- H+ + NADH + Trans-Hex-2-enoyl-[acyl-carrier protein]</p>\n",
       "                </td>\n",
       "            </tr><tr>\n",
       "                <td><strong>GPR</strong></td><td></td>\n",
       "            </tr><tr>\n",
       "                <td><strong>Lower bound</strong></td><td>-1000.0</td>\n",
       "            </tr><tr>\n",
       "                <td><strong>Upper bound</strong></td><td>0.0</td>\n",
       "            </tr>\n",
       "        </table>\n",
       "        "
      ],
      "text/plain": [
       "<Reaction EAR60x at 0x14639f98248>"
      ]
     },
     "execution_count": 64,
     "metadata": {},
     "output_type": "execute_result"
    }
   ],
   "source": [
    "model.reactions.EAR60x"
   ]
  },
  {
   "cell_type": "code",
   "execution_count": 62,
   "metadata": {
    "scrolled": true
   },
   "outputs": [
    {
     "data": {
      "text/html": [
       "\n",
       "        <table>\n",
       "            <tr>\n",
       "                <td><strong>Reaction identifier</strong></td><td>EAR60y</td>\n",
       "            </tr><tr>\n",
       "                <td><strong>Name</strong></td><td>hexanoyl-[acp]:NAD+ trans-2-oxidoreductase</td>\n",
       "            </tr><tr>\n",
       "                <td><strong>Memory address</strong></td>\n",
       "                <td>0x014639dc3fc8</td>\n",
       "            </tr><tr>\n",
       "                <td><strong>Stoichiometry</strong></td>\n",
       "                <td>\n",
       "                    <p style='text-align:right'>h_c + nadph_c + thex2eACP_c --> hexACP_c + nadp_c</p>\n",
       "                    <p style='text-align:right'>H+ + NADPH + Trans-Hex-2-enoyl-[acyl-carrier protein] --> Hexanoyl-ACP (n-C6:0ACP) + NADP+</p>\n",
       "                </td>\n",
       "            </tr><tr>\n",
       "                <td><strong>GPR</strong></td><td></td>\n",
       "            </tr><tr>\n",
       "                <td><strong>Lower bound</strong></td><td>0.0</td>\n",
       "            </tr><tr>\n",
       "                <td><strong>Upper bound</strong></td><td>1000.0</td>\n",
       "            </tr>\n",
       "        </table>\n",
       "        "
      ],
      "text/plain": [
       "<Reaction EAR60y at 0x14639dc3fc8>"
      ]
     },
     "execution_count": 62,
     "metadata": {},
     "output_type": "execute_result"
    }
   ],
   "source": [
    "model.reactions.EAR60y"
   ]
  },
  {
   "cell_type": "markdown",
   "metadata": {},
   "source": [
    "So with this, we will assume this issue is now solved, even though the fllux through the oxidative PPP is still quite small. In Tang et al, 30% of the carbon fed goes towards the PPP, though the fluxes don't really add up in the way that they are shown in the paper...\n",
    "It seems that this is because the non-oxidative part still carries flux in the direction towards rup_c instead of away from it.. This warrants some extra investigation still.\n",
    "\n",
    "## Non-oxidative PPP\n",
    "The reason this is going in the reverse direction is due to the minimal NADPH demand in metabolism currently. When we increase the NADPH consumed in the biomass reaction (and NADP formed) you get an increase through the PPP and the right direction as one would expect. So we need to investigate further where there is too little NADPH demand in anabolism. "
   ]
  },
  {
   "cell_type": "markdown",
   "metadata": {},
   "source": [
    "It seems that alanine is made via a reaction one wouldn't expect: SELCYSLY. The seln that is made is reconverted into selcys by reacting with acser. These reactions are normally used for the degradation of selenocysteie compounds not alanine production. \n",
    "\n",
    "I've spotted the problem: the ACSERL reaction is incorrect. This should reflect the EC 2.5.1.47 reaction or R03601, cysteine synthase. Looking into it, I see that Kegg and Brenda have different reactions for this enzyme code. According to brenda, and also the naming of this enzyme step, it should convert O-acetyl-L-serine\t+ hydrogen sulfide = L-cysteine\t+ acetate. In our model, we have the kegg-version of the reaction: where hydrogen selenide is incorporated and selenocysteine is made instead of cysteine. \n",
    "We have the correct EC 2.5.1.47 reaction already in our model as CYSS. After looking into it the ACSERL reaction seems to be incorrectly addded. So I will remove it and check if alanine is then again made as it should be.\n"
   ]
  },
  {
   "cell_type": "code",
   "execution_count": 155,
   "metadata": {
    "scrolled": true
   },
   "outputs": [
    {
     "name": "stderr",
     "output_type": "stream",
     "text": [
      "C:\\Users\\vivmol\\AppData\\Local\\Continuum\\anaconda3\\envs\\g-thermo\\lib\\site-packages\\cobra\\core\\model.py:716: UserWarning:\n",
      "\n",
      "need to pass in a list\n",
      "\n"
     ]
    }
   ],
   "source": [
    "model.remove_reactions(model.reactions.ACSERL)"
   ]
  },
  {
   "cell_type": "markdown",
   "metadata": {},
   "source": [
    "Hm, fixing this reaction shut off the oxidative PPP again...  It removes some of the NADPH requirement, and so the PPP is shut off. so again, we really mostly need to revisit the NADPH demand in the model to be able to fix this issue. \n",
    "\n",
    "__Methionine biosynthesis__\n",
    "I noticed that methionine is currently synthesized through the degradation of SAM, instead of via cysteine as one would expect. Therefore, I looked into this a bit. It turns out that we have the SHSL1, SHSL2 and SHSL4h reactions in the model. All three of these correspond to the annotation EC 2.5.1.48, though they all have different KEGG IDs. \n",
    "SHSL2 has the additional annotation of EC 2.5.1.-. Looking into these reactions more, the SHSL1 reaction is generally the main reaction of this enzyme.\n",
    "\n",
    "I then checked if the other two reactions are not side-reactions of the enzyme or if there is any indication as to why they should be present in the model. \n",
    "About the enzyme the IUBMB states 'A pyridoxal-phosphate protein. Also reacts with hydrogen sulfide and methanethiol as replacing agents, producing homocysteine and methionine, respectively. In the absence of thiol, can also catalyse beta,gamma-elimination to form 2-oxobutanoate, succinate and ammonia.' \n",
    "This means that in the absence of thiol (i.e. reaction SHSL1 and SHSL2), the SHSL4h reaction would be possible. But currently, we have flux through both SHSL2 and SHSL4h, which should not be possible. Considering that cysteine will always be present in the cell, the chance that SHSL4h will carry flux is almost zero. So to mimic this, and prevent it from carrying flux I will fix the bounds of the reaction to (0,0). I will not remove it, as the reaction can be an option, incase someone would need to investigate it.\n",
    "\n",
    "Kanzaki et al. 1985 (https://academic.oup.com/femsle/article/33/1/65/522488 ) did a study of various cystathionine ,/-synthase enzymes from different bacteria and investigated their substrate preference. There they saw that gram positive, aerobic bacteria from the Bacillus genus generally used O-acetyl-L-homoserine as substrate to form cystathionine. (B. subtilis enzyme even exclusively does so) E. coli on the other hand is known (and shown) to predominantly use  O-succinyl-Lhomoserine  as substrate. \n",
    "\n",
    "Auger et al 2002 (https://www.microbiologyresearch.org/docserver/fulltext/micro/148/2/1480507a.pdf?expires=1591795358&id=id&accname=guest&checksum=2A5A2C8AF1ABE005358418AC1F5C373F ) investigate methionine biosynthesis in B subtilis further and saw that the MetI protein has both cystathionine γ-synthase and O-acetylhomoserine thiolyase activities. The Cystathionine y-synthase actvitty proposed here requires O-acetylhomoserine as substrate, in agreemet with the Kanzaki et al. 1985 paper. \n",
    "\n",
    "One issue in our model currently, we do not have the production of the O-acetylhomoserine. This is done via a homoserine O-acetyltransferase enzyme (2.3.1.31). It is annotated in our genome, just not present in the model. So I will add this here.\n",
    "\n",
    "So overall:\n",
    "- remove SHSL4h\n",
    "- remove SHSL2 and SHSL1 reactions\n",
    "- The cystathionine y-synthase with acetylhomoserine is captured in reaction AHSL\n",
    "- the acetylhomoserine thiolase activity is shown in reaction AHHST\n",
    "- Add the homoserine transacetylase reaction (ec 2.3.1.31): to produce acetylhomoserine"
   ]
  },
  {
   "cell_type": "code",
   "execution_count": 4,
   "metadata": {},
   "outputs": [],
   "source": [
    "model.reactions.SHSL4h.bounds = (0,0)"
   ]
  },
  {
   "cell_type": "code",
   "execution_count": 5,
   "metadata": {},
   "outputs": [
    {
     "name": "stderr",
     "output_type": "stream",
     "text": [
      "C:\\Users\\vivmol\\AppData\\Local\\Continuum\\anaconda3\\envs\\g-thermo\\lib\\site-packages\\cobra\\core\\model.py:716: UserWarning:\n",
      "\n",
      "need to pass in a list\n",
      "\n",
      "C:\\Users\\vivmol\\AppData\\Local\\Continuum\\anaconda3\\envs\\g-thermo\\lib\\site-packages\\cobra\\core\\group.py:110: UserWarning:\n",
      "\n",
      "need to pass in a list\n",
      "\n"
     ]
    }
   ],
   "source": [
    "model.remove_reactions(model.reactions.SHSL1)"
   ]
  },
  {
   "cell_type": "code",
   "execution_count": 6,
   "metadata": {},
   "outputs": [],
   "source": [
    "model.remove_reactions(model.reactions.SHSL2)"
   ]
  },
  {
   "cell_type": "code",
   "execution_count": 7,
   "metadata": {},
   "outputs": [],
   "source": [
    "#should be irreversible based on thermodynamics\n",
    "model.reactions.AHHST = (0,1000)"
   ]
  },
  {
   "cell_type": "code",
   "execution_count": 8,
   "metadata": {},
   "outputs": [],
   "source": [
    "#should be irreversible based on thermodyanmics\n",
    "model.reactions.AHSL = (0,1000)"
   ]
  },
  {
   "cell_type": "code",
   "execution_count": 9,
   "metadata": {},
   "outputs": [],
   "source": [
    "#add homoserine transacetylase\n",
    "model.add_reaction(Reaction(id = 'HSERTA', name = 'homoserine O-acetyltransferase'))"
   ]
  },
  {
   "cell_type": "code",
   "execution_count": 10,
   "metadata": {},
   "outputs": [],
   "source": [
    "model.reactions.HSERTA.annotation['sbo'] = 'SBO:0000176'\n",
    "model.reactions.HSERTA.annotation['kegg.reaction'] = 'R01776'\n",
    "model.reactions.HSERTA.annotation['ec-code'] = '2.3.1.31'\n",
    "model.reactions.HSERTA.annotation['rhea'] = '13704'"
   ]
  },
  {
   "cell_type": "code",
   "execution_count": 11,
   "metadata": {},
   "outputs": [
    {
     "name": "stderr",
     "output_type": "stream",
     "text": [
      "C:\\Users\\vivmol\\AppData\\Local\\Continuum\\anaconda3\\envs\\g-thermo\\lib\\site-packages\\cobra\\core\\group.py:93: UserWarning:\n",
      "\n",
      "need to pass in a list\n",
      "\n"
     ]
    }
   ],
   "source": [
    "model.groups.get_by_id('00270 - Cysteine and methionine metabolism').add_members(model.reactions.HSERTA)"
   ]
  },
  {
   "cell_type": "code",
   "execution_count": 12,
   "metadata": {},
   "outputs": [],
   "source": [
    "model.reactions.HSERTA.add_metabolites({\n",
    "    model.metabolites.accoa_c:-1,\n",
    "    model.metabolites.hom__L_c:-1,\n",
    "    model.metabolites.coa_c:1,\n",
    "    model.metabolites.achms_c:1\n",
    "})"
   ]
  },
  {
   "cell_type": "code",
   "execution_count": 13,
   "metadata": {},
   "outputs": [],
   "source": [
    "#save&commit\n",
    "cobra.io.write_sbml_model(model,'../model/g-thermo.xml')"
   ]
  },
  {
   "cell_type": "markdown",
   "metadata": {},
   "source": [
    "Finally I need to modify the map of AA metabolism so that it is correctly shown."
   ]
  },
  {
   "cell_type": "code",
   "execution_count": 78,
   "metadata": {
    "scrolled": true
   },
   "outputs": [
    {
     "data": {
      "application/vnd.jupyter.widget-view+json": {
       "model_id": "98eed51b6f0c441798f6ff070b276a09",
       "version_major": 2,
       "version_minor": 0
      },
      "text/plain": [
       "Builder()"
      ]
     },
     "metadata": {},
     "output_type": "display_data"
    }
   ],
   "source": [
    "Builder(model = model, map_json = '../map/amino-acid-biosynthesis.json')"
   ]
  }
 ],
 "metadata": {
  "kernelspec": {
   "display_name": "Python 3",
   "language": "python",
   "name": "python3"
  },
  "language_info": {
   "codemirror_mode": {
    "name": "ipython",
    "version": 3
   },
   "file_extension": ".py",
   "mimetype": "text/x-python",
   "name": "python",
   "nbconvert_exporter": "python",
   "pygments_lexer": "ipython3",
   "version": "3.7.7"
  }
 },
 "nbformat": 4,
 "nbformat_minor": 4
}
