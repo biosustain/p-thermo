{
 "cells": [
  {
   "cell_type": "markdown",
   "metadata": {},
   "source": [
    "# Introduction\n",
    "In previous work, Martyn has identified that there was an excessive amount of transport reactions in the Matteo's version of the model. He has looked into these reactions by hand and come to the conclusion which should be removed and which should be maintained. He provided this in an excel file, stored in '../databases/Transports allowed to remain_Martyn_Bennett'. \n",
    "Here I will look into this a bit more and remove unnecessary transport reactions from the working model."
   ]
  },
  {
   "cell_type": "code",
   "execution_count": 1,
   "metadata": {},
   "outputs": [
    {
     "data": {
      "application/javascript": [
       "\n",
       "(function(root) {\n",
       "  function now() {\n",
       "    return new Date();\n",
       "  }\n",
       "\n",
       "  var force = true;\n",
       "\n",
       "  if (typeof root._bokeh_onload_callbacks === \"undefined\" || force === true) {\n",
       "    root._bokeh_onload_callbacks = [];\n",
       "    root._bokeh_is_loading = undefined;\n",
       "  }\n",
       "\n",
       "  var JS_MIME_TYPE = 'application/javascript';\n",
       "  var HTML_MIME_TYPE = 'text/html';\n",
       "  var EXEC_MIME_TYPE = 'application/vnd.bokehjs_exec.v0+json';\n",
       "  var CLASS_NAME = 'output_bokeh rendered_html';\n",
       "\n",
       "  /**\n",
       "   * Render data to the DOM node\n",
       "   */\n",
       "  function render(props, node) {\n",
       "    var script = document.createElement(\"script\");\n",
       "    node.appendChild(script);\n",
       "  }\n",
       "\n",
       "  /**\n",
       "   * Handle when an output is cleared or removed\n",
       "   */\n",
       "  function handleClearOutput(event, handle) {\n",
       "    var cell = handle.cell;\n",
       "\n",
       "    var id = cell.output_area._bokeh_element_id;\n",
       "    var server_id = cell.output_area._bokeh_server_id;\n",
       "    // Clean up Bokeh references\n",
       "    if (id != null && id in Bokeh.index) {\n",
       "      Bokeh.index[id].model.document.clear();\n",
       "      delete Bokeh.index[id];\n",
       "    }\n",
       "\n",
       "    if (server_id !== undefined) {\n",
       "      // Clean up Bokeh references\n",
       "      var cmd = \"from bokeh.io.state import curstate; print(curstate().uuid_to_server['\" + server_id + \"'].get_sessions()[0].document.roots[0]._id)\";\n",
       "      cell.notebook.kernel.execute(cmd, {\n",
       "        iopub: {\n",
       "          output: function(msg) {\n",
       "            var id = msg.content.text.trim();\n",
       "            if (id in Bokeh.index) {\n",
       "              Bokeh.index[id].model.document.clear();\n",
       "              delete Bokeh.index[id];\n",
       "            }\n",
       "          }\n",
       "        }\n",
       "      });\n",
       "      // Destroy server and session\n",
       "      var cmd = \"import bokeh.io.notebook as ion; ion.destroy_server('\" + server_id + \"')\";\n",
       "      cell.notebook.kernel.execute(cmd);\n",
       "    }\n",
       "  }\n",
       "\n",
       "  /**\n",
       "   * Handle when a new output is added\n",
       "   */\n",
       "  function handleAddOutput(event, handle) {\n",
       "    var output_area = handle.output_area;\n",
       "    var output = handle.output;\n",
       "\n",
       "    // limit handleAddOutput to display_data with EXEC_MIME_TYPE content only\n",
       "    if ((output.output_type != \"display_data\") || (!output.data.hasOwnProperty(EXEC_MIME_TYPE))) {\n",
       "      return\n",
       "    }\n",
       "\n",
       "    var toinsert = output_area.element.find(\".\" + CLASS_NAME.split(' ')[0]);\n",
       "\n",
       "    if (output.metadata[EXEC_MIME_TYPE][\"id\"] !== undefined) {\n",
       "      toinsert[toinsert.length - 1].firstChild.textContent = output.data[JS_MIME_TYPE];\n",
       "      // store reference to embed id on output_area\n",
       "      output_area._bokeh_element_id = output.metadata[EXEC_MIME_TYPE][\"id\"];\n",
       "    }\n",
       "    if (output.metadata[EXEC_MIME_TYPE][\"server_id\"] !== undefined) {\n",
       "      var bk_div = document.createElement(\"div\");\n",
       "      bk_div.innerHTML = output.data[HTML_MIME_TYPE];\n",
       "      var script_attrs = bk_div.children[0].attributes;\n",
       "      for (var i = 0; i < script_attrs.length; i++) {\n",
       "        toinsert[toinsert.length - 1].firstChild.setAttribute(script_attrs[i].name, script_attrs[i].value);\n",
       "      }\n",
       "      // store reference to server id on output_area\n",
       "      output_area._bokeh_server_id = output.metadata[EXEC_MIME_TYPE][\"server_id\"];\n",
       "    }\n",
       "  }\n",
       "\n",
       "  function register_renderer(events, OutputArea) {\n",
       "\n",
       "    function append_mime(data, metadata, element) {\n",
       "      // create a DOM node to render to\n",
       "      var toinsert = this.create_output_subarea(\n",
       "        metadata,\n",
       "        CLASS_NAME,\n",
       "        EXEC_MIME_TYPE\n",
       "      );\n",
       "      this.keyboard_manager.register_events(toinsert);\n",
       "      // Render to node\n",
       "      var props = {data: data, metadata: metadata[EXEC_MIME_TYPE]};\n",
       "      render(props, toinsert[toinsert.length - 1]);\n",
       "      element.append(toinsert);\n",
       "      return toinsert\n",
       "    }\n",
       "\n",
       "    /* Handle when an output is cleared or removed */\n",
       "    events.on('clear_output.CodeCell', handleClearOutput);\n",
       "    events.on('delete.Cell', handleClearOutput);\n",
       "\n",
       "    /* Handle when a new output is added */\n",
       "    events.on('output_added.OutputArea', handleAddOutput);\n",
       "\n",
       "    /**\n",
       "     * Register the mime type and append_mime function with output_area\n",
       "     */\n",
       "    OutputArea.prototype.register_mime_type(EXEC_MIME_TYPE, append_mime, {\n",
       "      /* Is output safe? */\n",
       "      safe: true,\n",
       "      /* Index of renderer in `output_area.display_order` */\n",
       "      index: 0\n",
       "    });\n",
       "  }\n",
       "\n",
       "  // register the mime type if in Jupyter Notebook environment and previously unregistered\n",
       "  if (root.Jupyter !== undefined) {\n",
       "    var events = require('base/js/events');\n",
       "    var OutputArea = require('notebook/js/outputarea').OutputArea;\n",
       "\n",
       "    if (OutputArea.prototype.mime_types().indexOf(EXEC_MIME_TYPE) == -1) {\n",
       "      register_renderer(events, OutputArea);\n",
       "    }\n",
       "  }\n",
       "\n",
       "  \n",
       "  if (typeof (root._bokeh_timeout) === \"undefined\" || force === true) {\n",
       "    root._bokeh_timeout = Date.now() + 5000;\n",
       "    root._bokeh_failed_load = false;\n",
       "  }\n",
       "\n",
       "  var NB_LOAD_WARNING = {'data': {'text/html':\n",
       "     \"<div style='background-color: #fdd'>\\n\"+\n",
       "     \"<p>\\n\"+\n",
       "     \"BokehJS does not appear to have successfully loaded. If loading BokehJS from CDN, this \\n\"+\n",
       "     \"may be due to a slow or bad network connection. Possible fixes:\\n\"+\n",
       "     \"</p>\\n\"+\n",
       "     \"<ul>\\n\"+\n",
       "     \"<li>re-rerun `output_notebook()` to attempt to load from CDN again, or</li>\\n\"+\n",
       "     \"<li>use INLINE resources instead, as so:</li>\\n\"+\n",
       "     \"</ul>\\n\"+\n",
       "     \"<code>\\n\"+\n",
       "     \"from bokeh.resources import INLINE\\n\"+\n",
       "     \"output_notebook(resources=INLINE)\\n\"+\n",
       "     \"</code>\\n\"+\n",
       "     \"</div>\"}};\n",
       "\n",
       "  function display_loaded() {\n",
       "    var el = document.getElementById(null);\n",
       "    if (el != null) {\n",
       "      el.textContent = \"BokehJS is loading...\";\n",
       "    }\n",
       "    if (root.Bokeh !== undefined) {\n",
       "      if (el != null) {\n",
       "        el.textContent = \"BokehJS \" + root.Bokeh.version + \" successfully loaded.\";\n",
       "      }\n",
       "    } else if (Date.now() < root._bokeh_timeout) {\n",
       "      setTimeout(display_loaded, 100)\n",
       "    }\n",
       "  }\n",
       "\n",
       "\n",
       "  function run_callbacks() {\n",
       "    try {\n",
       "      root._bokeh_onload_callbacks.forEach(function(callback) {\n",
       "        if (callback != null)\n",
       "          callback();\n",
       "      });\n",
       "    } finally {\n",
       "      delete root._bokeh_onload_callbacks\n",
       "    }\n",
       "    console.debug(\"Bokeh: all callbacks have finished\");\n",
       "  }\n",
       "\n",
       "  function load_libs(css_urls, js_urls, callback) {\n",
       "    if (css_urls == null) css_urls = [];\n",
       "    if (js_urls == null) js_urls = [];\n",
       "\n",
       "    root._bokeh_onload_callbacks.push(callback);\n",
       "    if (root._bokeh_is_loading > 0) {\n",
       "      console.debug(\"Bokeh: BokehJS is being loaded, scheduling callback at\", now());\n",
       "      return null;\n",
       "    }\n",
       "    if (js_urls == null || js_urls.length === 0) {\n",
       "      run_callbacks();\n",
       "      return null;\n",
       "    }\n",
       "    console.debug(\"Bokeh: BokehJS not loaded, scheduling load and callback at\", now());\n",
       "    root._bokeh_is_loading = css_urls.length + js_urls.length;\n",
       "\n",
       "    function on_load() {\n",
       "      root._bokeh_is_loading--;\n",
       "      if (root._bokeh_is_loading === 0) {\n",
       "        console.debug(\"Bokeh: all BokehJS libraries/stylesheets loaded\");\n",
       "        run_callbacks()\n",
       "      }\n",
       "    }\n",
       "\n",
       "    function on_error() {\n",
       "      console.error(\"failed to load \" + url);\n",
       "    }\n",
       "\n",
       "    for (var i = 0; i < css_urls.length; i++) {\n",
       "      var url = css_urls[i];\n",
       "      const element = document.createElement(\"link\");\n",
       "      element.onload = on_load;\n",
       "      element.onerror = on_error;\n",
       "      element.rel = \"stylesheet\";\n",
       "      element.type = \"text/css\";\n",
       "      element.href = url;\n",
       "      console.debug(\"Bokeh: injecting link tag for BokehJS stylesheet: \", url);\n",
       "      document.body.appendChild(element);\n",
       "    }\n",
       "\n",
       "    for (var i = 0; i < js_urls.length; i++) {\n",
       "      var url = js_urls[i];\n",
       "      var element = document.createElement('script');\n",
       "      element.onload = on_load;\n",
       "      element.onerror = on_error;\n",
       "      element.async = false;\n",
       "      element.src = url;\n",
       "      console.debug(\"Bokeh: injecting script tag for BokehJS library: \", url);\n",
       "      document.head.appendChild(element);\n",
       "    }\n",
       "  };\n",
       "\n",
       "  function inject_raw_css(css) {\n",
       "    const element = document.createElement(\"style\");\n",
       "    element.appendChild(document.createTextNode(css));\n",
       "    document.body.appendChild(element);\n",
       "  }\n",
       "\n",
       "  var js_urls = [\"https://cdn.pydata.org/bokeh/release/bokeh-1.3.4.min.js\", \"https://cdn.pydata.org/bokeh/release/bokeh-widgets-1.3.4.min.js\", \"https://cdn.pydata.org/bokeh/release/bokeh-tables-1.3.4.min.js\", \"https://cdn.pydata.org/bokeh/release/bokeh-gl-1.3.4.min.js\"];\n",
       "  var css_urls = [];\n",
       "\n",
       "  var inline_js = [\n",
       "    function(Bokeh) {\n",
       "      Bokeh.set_log_level(\"info\");\n",
       "    },\n",
       "    \n",
       "    function(Bokeh) {\n",
       "      \n",
       "    },\n",
       "    function(Bokeh) {} // ensure no trailing comma for IE\n",
       "  ];\n",
       "\n",
       "  function run_inline_js() {\n",
       "    \n",
       "    if ((root.Bokeh !== undefined) || (force === true)) {\n",
       "      for (var i = 0; i < inline_js.length; i++) {\n",
       "        inline_js[i].call(root, root.Bokeh);\n",
       "      }} else if (Date.now() < root._bokeh_timeout) {\n",
       "      setTimeout(run_inline_js, 100);\n",
       "    } else if (!root._bokeh_failed_load) {\n",
       "      console.log(\"Bokeh: BokehJS failed to load within specified timeout.\");\n",
       "      root._bokeh_failed_load = true;\n",
       "    } else if (force !== true) {\n",
       "      var cell = $(document.getElementById(null)).parents('.cell').data().cell;\n",
       "      cell.output_area.append_execute_result(NB_LOAD_WARNING)\n",
       "    }\n",
       "\n",
       "  }\n",
       "\n",
       "  if (root._bokeh_is_loading === 0) {\n",
       "    console.debug(\"Bokeh: BokehJS loaded, going straight to plotting\");\n",
       "    run_inline_js();\n",
       "  } else {\n",
       "    load_libs(css_urls, js_urls, function() {\n",
       "      console.debug(\"Bokeh: BokehJS plotting callback run at\", now());\n",
       "      run_inline_js();\n",
       "    });\n",
       "  }\n",
       "}(window));"
      ],
      "application/vnd.bokehjs_load.v0+json": "\n(function(root) {\n  function now() {\n    return new Date();\n  }\n\n  var force = true;\n\n  if (typeof root._bokeh_onload_callbacks === \"undefined\" || force === true) {\n    root._bokeh_onload_callbacks = [];\n    root._bokeh_is_loading = undefined;\n  }\n\n  \n\n  \n  if (typeof (root._bokeh_timeout) === \"undefined\" || force === true) {\n    root._bokeh_timeout = Date.now() + 5000;\n    root._bokeh_failed_load = false;\n  }\n\n  var NB_LOAD_WARNING = {'data': {'text/html':\n     \"<div style='background-color: #fdd'>\\n\"+\n     \"<p>\\n\"+\n     \"BokehJS does not appear to have successfully loaded. If loading BokehJS from CDN, this \\n\"+\n     \"may be due to a slow or bad network connection. Possible fixes:\\n\"+\n     \"</p>\\n\"+\n     \"<ul>\\n\"+\n     \"<li>re-rerun `output_notebook()` to attempt to load from CDN again, or</li>\\n\"+\n     \"<li>use INLINE resources instead, as so:</li>\\n\"+\n     \"</ul>\\n\"+\n     \"<code>\\n\"+\n     \"from bokeh.resources import INLINE\\n\"+\n     \"output_notebook(resources=INLINE)\\n\"+\n     \"</code>\\n\"+\n     \"</div>\"}};\n\n  function display_loaded() {\n    var el = document.getElementById(null);\n    if (el != null) {\n      el.textContent = \"BokehJS is loading...\";\n    }\n    if (root.Bokeh !== undefined) {\n      if (el != null) {\n        el.textContent = \"BokehJS \" + root.Bokeh.version + \" successfully loaded.\";\n      }\n    } else if (Date.now() < root._bokeh_timeout) {\n      setTimeout(display_loaded, 100)\n    }\n  }\n\n\n  function run_callbacks() {\n    try {\n      root._bokeh_onload_callbacks.forEach(function(callback) {\n        if (callback != null)\n          callback();\n      });\n    } finally {\n      delete root._bokeh_onload_callbacks\n    }\n    console.debug(\"Bokeh: all callbacks have finished\");\n  }\n\n  function load_libs(css_urls, js_urls, callback) {\n    if (css_urls == null) css_urls = [];\n    if (js_urls == null) js_urls = [];\n\n    root._bokeh_onload_callbacks.push(callback);\n    if (root._bokeh_is_loading > 0) {\n      console.debug(\"Bokeh: BokehJS is being loaded, scheduling callback at\", now());\n      return null;\n    }\n    if (js_urls == null || js_urls.length === 0) {\n      run_callbacks();\n      return null;\n    }\n    console.debug(\"Bokeh: BokehJS not loaded, scheduling load and callback at\", now());\n    root._bokeh_is_loading = css_urls.length + js_urls.length;\n\n    function on_load() {\n      root._bokeh_is_loading--;\n      if (root._bokeh_is_loading === 0) {\n        console.debug(\"Bokeh: all BokehJS libraries/stylesheets loaded\");\n        run_callbacks()\n      }\n    }\n\n    function on_error() {\n      console.error(\"failed to load \" + url);\n    }\n\n    for (var i = 0; i < css_urls.length; i++) {\n      var url = css_urls[i];\n      const element = document.createElement(\"link\");\n      element.onload = on_load;\n      element.onerror = on_error;\n      element.rel = \"stylesheet\";\n      element.type = \"text/css\";\n      element.href = url;\n      console.debug(\"Bokeh: injecting link tag for BokehJS stylesheet: \", url);\n      document.body.appendChild(element);\n    }\n\n    for (var i = 0; i < js_urls.length; i++) {\n      var url = js_urls[i];\n      var element = document.createElement('script');\n      element.onload = on_load;\n      element.onerror = on_error;\n      element.async = false;\n      element.src = url;\n      console.debug(\"Bokeh: injecting script tag for BokehJS library: \", url);\n      document.head.appendChild(element);\n    }\n  };\n\n  function inject_raw_css(css) {\n    const element = document.createElement(\"style\");\n    element.appendChild(document.createTextNode(css));\n    document.body.appendChild(element);\n  }\n\n  var js_urls = [\"https://cdn.pydata.org/bokeh/release/bokeh-1.3.4.min.js\", \"https://cdn.pydata.org/bokeh/release/bokeh-widgets-1.3.4.min.js\", \"https://cdn.pydata.org/bokeh/release/bokeh-tables-1.3.4.min.js\", \"https://cdn.pydata.org/bokeh/release/bokeh-gl-1.3.4.min.js\"];\n  var css_urls = [];\n\n  var inline_js = [\n    function(Bokeh) {\n      Bokeh.set_log_level(\"info\");\n    },\n    \n    function(Bokeh) {\n      \n    },\n    function(Bokeh) {} // ensure no trailing comma for IE\n  ];\n\n  function run_inline_js() {\n    \n    if ((root.Bokeh !== undefined) || (force === true)) {\n      for (var i = 0; i < inline_js.length; i++) {\n        inline_js[i].call(root, root.Bokeh);\n      }} else if (Date.now() < root._bokeh_timeout) {\n      setTimeout(run_inline_js, 100);\n    } else if (!root._bokeh_failed_load) {\n      console.log(\"Bokeh: BokehJS failed to load within specified timeout.\");\n      root._bokeh_failed_load = true;\n    } else if (force !== true) {\n      var cell = $(document.getElementById(null)).parents('.cell').data().cell;\n      cell.output_area.append_execute_result(NB_LOAD_WARNING)\n    }\n\n  }\n\n  if (root._bokeh_is_loading === 0) {\n    console.debug(\"Bokeh: BokehJS loaded, going straight to plotting\");\n    run_inline_js();\n  } else {\n    load_libs(css_urls, js_urls, function() {\n      console.debug(\"Bokeh: BokehJS plotting callback run at\", now());\n      run_inline_js();\n    });\n  }\n}(window));"
     },
     "metadata": {},
     "output_type": "display_data"
    }
   ],
   "source": [
    "import cameo\n",
    "import pandas as pd\n",
    "import cobra.io\n",
    "import escher"
   ]
  },
  {
   "cell_type": "code",
   "execution_count": 2,
   "metadata": {},
   "outputs": [],
   "source": [
    "model = cobra.io.read_sbml_model('../model/g-thermo.xml')"
   ]
  },
  {
   "cell_type": "code",
   "execution_count": 3,
   "metadata": {},
   "outputs": [
    {
     "data": {
      "text/plain": [
       "152"
      ]
     },
     "execution_count": 3,
     "metadata": {},
     "output_type": "execute_result"
    }
   ],
   "source": [
    "#generate a list of transport reactions\n",
    "transport =[]\n",
    "for rct in model.reactions:\n",
    "    if rct.id[-1:] in 't':\n",
    "        transport.append(rct)\n",
    "    else:\n",
    "        continue\n",
    "len(transport)"
   ]
  },
  {
   "cell_type": "markdown",
   "metadata": {},
   "source": [
    "So in the model, there are currently 152 transport reactions. I will try to remove all the reactions that Martyn recommended and reflect on their effect on biomass prediction whether they should be removed or not.\n",
    "\n",
    "Again, here we have the problem that the file Martyn provided has rct ID's that are numerical and not BiGG compliant. This makes the script a bit more complex. The transport reactions don't have KEGG Ids so we cannot map the ID via this way. Instead, we will take the information about what metabolite is being transported to find the new metabolite ID and hence the new transport ID."
   ]
  },
  {
   "cell_type": "code",
   "execution_count": 4,
   "metadata": {},
   "outputs": [],
   "source": [
    "matteo = cobra.io.read_sbml_model('../databases/g-thermo-Matteo.xml')"
   ]
  },
  {
   "cell_type": "code",
   "execution_count": 5,
   "metadata": {},
   "outputs": [
    {
     "data": {
      "text/plain": [
       "21"
      ]
     },
     "execution_count": 5,
     "metadata": {},
     "output_type": "execute_result"
    }
   ],
   "source": [
    "#first convert the list of transport reactions to keep from martyns file to the model IDs.\n",
    "transport_keep = ['M_14_e_out','M_29_e_out','M_1754_e_out','M_7_e_out','M_11_e_out','M_71_e_out','M_280_e_out','M_Biomass_e_out','M_154_e_out','M_320_e_out','M_222_e_out','M_31_e_out','M_214_e_out','M_38_e_out','M_204_e_out','M_79_e_out','M_229_e_out','M_21_e_out','M_3200_e_out','M_163_e_out','M_1_e_out']\n",
    "len(transport_keep)"
   ]
  },
  {
   "cell_type": "code",
   "execution_count": 6,
   "metadata": {},
   "outputs": [],
   "source": [
    "#dataframe of all metabolites and kegg IDs in working model\n",
    "#make lists for all metabolite names from the working model\n",
    "model_met_ID = []\n",
    "model_met_name = []\n",
    "model_met_kegg = []\n",
    "for met in model.metabolites:\n",
    "    model_met_ID.append(met.id)\n",
    "    model_met_name.append(met.name)\n",
    "    try: \n",
    "        model_met_kegg.append(met.notes['KEGG'])\n",
    "    except KeyError:\n",
    "        model_met_kegg.append('--')   "
   ]
  },
  {
   "cell_type": "code",
   "execution_count": 7,
   "metadata": {},
   "outputs": [
    {
     "data": {
      "text/html": [
       "<div>\n",
       "<style scoped>\n",
       "    .dataframe tbody tr th:only-of-type {\n",
       "        vertical-align: middle;\n",
       "    }\n",
       "\n",
       "    .dataframe tbody tr th {\n",
       "        vertical-align: top;\n",
       "    }\n",
       "\n",
       "    .dataframe thead th {\n",
       "        text-align: right;\n",
       "    }\n",
       "</style>\n",
       "<table border=\"1\" class=\"dataframe\">\n",
       "  <thead>\n",
       "    <tr style=\"text-align: right;\">\n",
       "      <th></th>\n",
       "      <th>Model ID</th>\n",
       "      <th>Model name</th>\n",
       "      <th>Model Kegg</th>\n",
       "    </tr>\n",
       "  </thead>\n",
       "  <tbody>\n",
       "    <tr>\n",
       "      <th>0</th>\n",
       "      <td>pyridoxal_c</td>\n",
       "      <td>Pyridoxal_C4H5N2O3R2</td>\n",
       "      <td>C00030</td>\n",
       "    </tr>\n",
       "    <tr>\n",
       "      <th>1</th>\n",
       "      <td>pydx5p_c</td>\n",
       "      <td>Pyridoxal_phosphate_C4H5N2O3R2</td>\n",
       "      <td>C00018</td>\n",
       "    </tr>\n",
       "    <tr>\n",
       "      <th>2</th>\n",
       "      <td>co2dam_c</td>\n",
       "      <td>Cob(II)yrinate-a,c-diamide</td>\n",
       "      <td>C06504</td>\n",
       "    </tr>\n",
       "    <tr>\n",
       "      <th>3</th>\n",
       "      <td>adhlam_c</td>\n",
       "      <td>S-Acetyldihydrolipoamide-E</td>\n",
       "      <td>C16255</td>\n",
       "    </tr>\n",
       "    <tr>\n",
       "      <th>4</th>\n",
       "      <td>selmethtrna_c</td>\n",
       "      <td>Selenomethionyl-tRNA(Met)</td>\n",
       "      <td>C05336</td>\n",
       "    </tr>\n",
       "  </tbody>\n",
       "</table>\n",
       "</div>"
      ],
      "text/plain": [
       "        Model ID                      Model name Model Kegg\n",
       "0    pyridoxal_c            Pyridoxal_C4H5N2O3R2     C00030\n",
       "1       pydx5p_c  Pyridoxal_phosphate_C4H5N2O3R2     C00018\n",
       "2       co2dam_c      Cob(II)yrinate-a,c-diamide     C06504\n",
       "3       adhlam_c      S-Acetyldihydrolipoamide-E     C16255\n",
       "4  selmethtrna_c       Selenomethionyl-tRNA(Met)     C05336"
      ]
     },
     "execution_count": 7,
     "metadata": {},
     "output_type": "execute_result"
    }
   ],
   "source": [
    "#make into a dataframe\n",
    "model_met_df = pd.DataFrame({'Model ID' : model_met_ID, 'Model name' : model_met_name, 'Model Kegg':model_met_kegg})\n",
    "model_met_df[0:5]"
   ]
  },
  {
   "cell_type": "code",
   "execution_count": 8,
   "metadata": {},
   "outputs": [
    {
     "name": "stdout",
     "output_type": "stream",
     "text": [
      "Biomass_e\n"
     ]
    }
   ],
   "source": [
    "#make list of metabolites that should be transported\n",
    "transported_mets = []\n",
    "for rct in transport_keep:\n",
    "    met = rct[2:-4]\n",
    "    try: \n",
    "        met_kegg = matteo.metabolites.get_by_id(met).notes['KEGG']\n",
    "        met_id_model = model_met_df.loc[model_met_df['Model Kegg'] == met_kegg,'Model ID'].values[0]\n",
    "        transported_mets.append(met_id_model[:-2])\n",
    "    except KeyError:\n",
    "        print (met)\n",
    "    "
   ]
  },
  {
   "cell_type": "markdown",
   "metadata": {},
   "source": [
    "So we've been able to map all metabolites to the new ID system in the working model. Now I will gather these into a 'should be' transported list."
   ]
  },
  {
   "cell_type": "code",
   "execution_count": 9,
   "metadata": {},
   "outputs": [
    {
     "data": {
      "text/plain": [
       "20"
      ]
     },
     "execution_count": 9,
     "metadata": {},
     "output_type": "execute_result"
    }
   ],
   "source": [
    "transported_mets_rct =[]\n",
    "for met in transported_mets:\n",
    "    rct = met.upper() + 't'\n",
    "    transported_mets_rct.append(rct)\n",
    "len(transported_mets_rct)"
   ]
  },
  {
   "cell_type": "code",
   "execution_count": 10,
   "metadata": {
    "scrolled": true
   },
   "outputs": [
    {
     "name": "stderr",
     "output_type": "stream",
     "text": [
      "C:\\Users\\vivmol\\AppData\\Local\\Continuum\\anaconda3\\envs\\g-thermo\\lib\\site-packages\\cobra\\core\\model.py:716: UserWarning:\n",
      "\n",
      "need to pass in a list\n",
      "\n",
      "C:\\Users\\vivmol\\AppData\\Local\\Continuum\\anaconda3\\envs\\g-thermo\\lib\\site-packages\\cobra\\core\\group.py:110: UserWarning:\n",
      "\n",
      "need to pass in a list\n",
      "\n"
     ]
    },
    {
     "name": "stdout",
     "output_type": "stream",
     "text": [
      "removing CLt: cl_e --> cl_c gives biomass 0.0\n",
      "removing ASN__Lt: asn__L_e --> asn__L_c gives biomass 0.7149572143742057\n",
      "removing PYDX5Pt: pydx5p_c --> pydx5p_e gives biomass 0.7149572143742056\n",
      "removing QH2t: qh2_e --> qh2_c gives biomass 0.0\n",
      "removing GTHRDt: gthrd_e --> gthrd_c gives biomass 0.0\n",
      "removing BIOMASSt: Biomass_c --> Biomass_e gives biomass 0.0\n",
      "removing THMTPt: thmtp_c --> thmtp_e gives biomass 0.5721288617563675\n"
     ]
    }
   ],
   "source": [
    "#now test what happens when we remove all transports except these martyn identified:\n",
    "with model:\n",
    "    for rct in transport:\n",
    "        with model:\n",
    "            if rct.id in transported_mets_rct:\n",
    "                continue\n",
    "            else: \n",
    "                model.remove_reactions(rct)\n",
    "                biomass = model.optimize().objective_value\n",
    "                if biomass > 0.75:\n",
    "                    print ('removing', rct, 'gives biomass', biomass)\n",
    "                elif biomass <0.72: \n",
    "                    print ('removing', rct, 'gives biomass', biomass)\n",
    "            "
   ]
  },
  {
   "cell_type": "markdown",
   "metadata": {},
   "source": [
    "The above analysis shows that removing these reactions will give a decrease in biomass formation when removed as individual transport reactions. Some of these reactions you would not expect should cause a difference. So this is something we should look into further later.\n",
    "\n",
    "I will also check what happens when we remove the reactions cumulatively. (here i will not include the reactions that individually kill biomass already)\n"
   ]
  },
  {
   "cell_type": "code",
   "execution_count": 11,
   "metadata": {},
   "outputs": [],
   "source": [
    "additional_trans = ['CLt', 'ASN__Lt', 'PYDX5Pt', 'QH2t', 'GTHRDt','BIOMASSt','THMTPt']"
   ]
  },
  {
   "cell_type": "code",
   "execution_count": 12,
   "metadata": {},
   "outputs": [
    {
     "data": {
      "text/plain": [
       "27"
      ]
     },
     "execution_count": 12,
     "metadata": {},
     "output_type": "execute_result"
    }
   ],
   "source": [
    "more_transport = transported_mets_rct\n",
    "for rct in additional_trans:\n",
    "    more_transport.append(rct)\n",
    "len(more_transport)"
   ]
  },
  {
   "cell_type": "code",
   "execution_count": 15,
   "metadata": {},
   "outputs": [
    {
     "name": "stdout",
     "output_type": "stream",
     "text": [
      "removing AACOAt: aacoa_c --> aacoa_e gives biomass 0.648639997443846\n",
      "removing CAPRAt: capra_e --> capra_c gives biomass 0.6486399974438469\n",
      "removing GTHOXt: gthox_c --> gthox_e gives biomass 0.6486399974438464\n",
      "removing ACETOLt: acetol_c --> acetol_e gives biomass 0.6486399974438459\n",
      "removing SELMETHTRNAt: selmethtrna_c --> selmethtrna_e gives biomass 0.6486399974438465\n",
      "removing MTHPGLUt: mthpglu_e --> mthpglu_c gives biomass 0.6486399974438465\n",
      "removing M_5FTHFt: 5fthf_c --> 5fthf_e gives biomass 0.6486399974438464\n",
      "removing FTETHPLGt: ftethplg_c --> ftethplg_e gives biomass 0.6486399974438466\n",
      "removing HQNt: hqn_c --> hqn_e gives biomass 0.64863999744366\n",
      "removing CPPPG1t: cpppg1_c --> cpppg1_e gives biomass 0.6486399974438466\n",
      "removing APPLt: appl_e --> appl_c gives biomass 0.6486399974438466\n",
      "removing THRPt: thrp_e --> thrp_c gives biomass 0.6486399974438463\n",
      "removing DLGLUt: glu__DL_c --> dlglu_c gives biomass 0.6486399974438463\n",
      "removing TCYNTt: tcynt_c --> tcynt_e gives biomass 0.6486399974438467\n",
      "removing CBIt: cbi_e --> cbi_c gives biomass 0.6486399974438464\n",
      "removing CYANt: cyan_e --> cyan_c gives biomass 0.6486399974438465\n",
      "removing PYRIDOXALt: pyridoxal_e --> pyridoxal_c gives biomass 0.6486399974438462\n",
      "removing ABMAAGAPCt: abmaagapc_c --> abmaagapc_e gives biomass 0.648639997443846\n",
      "removing DINt: din_e --> din_c gives biomass 0.6486399974438466\n",
      "removing PS_CHOt: ps_cho_c --> ps_cho_e gives biomass 0.6486399974438467\n",
      "removing SLNTt: slnt_e --> slnt_c gives biomass 0.6486399974438467\n",
      "removing DRIBt: drib_c --> drib_e gives biomass 0.6486399974438462\n",
      "removing CATECHOLt: catechol_e --> catechol_c gives biomass 0.648639997443848\n",
      "removing PHE__Dt: phe__D_e --> phe__D_c gives biomass 0.6486399974438467\n",
      "removing GLN__Dt: gln__D_e --> gln__D_c gives biomass 0.6486399974438463\n",
      "removing A4OXOPENTt: a4oxopent_c --> a4oxopent_e gives biomass 0.6486399974438449\n",
      "removing ADPRIBt: adprib_e --> adprib_c gives biomass 0.6486399974438463\n",
      "removing DHGLYt: dhgly_c --> dhgly_e gives biomass 0.648233244063597\n",
      "removing CHLACt: chlac_c --> chlac_e gives biomass 0.6440941127005395\n",
      "removing MERCPLACt: mercplac_e --> mercplac_c gives biomass 0.6440941127005393\n",
      "removing CBL1t: cbl1_c --> cbl1_e gives biomass 0.6440941127005393\n",
      "removing GDPMANNt: gdpmann_c --> gdpmann_e gives biomass 0.6051418272679774\n",
      "removing ADGPPUCt: adgppuc_c --> adgppuc_e gives biomass 0.6051418272679692\n",
      "removing MANt: man_e --> man_c gives biomass 0.6051418272679652\n",
      "removing ACONt: acon_C_c --> acon_e gives biomass 0.6051418272679652\n",
      "removing PMTCOAt: pmtcoa_e --> pmtcoa_c gives biomass 0.6046905759669742\n",
      "removing ARBTt: arbt_e --> arbt_c gives biomass 0.6046905759669733\n",
      "removing SALCNt: salcn_e --> salcn_c gives biomass 0.6046905759669745\n",
      "removing TREt: tre_e --> tre_c gives biomass 0.6046905759669731\n",
      "removing DODECACPt: dodecacp_e --> dodecacp_c gives biomass 0.604690575966973\n",
      "removing M_3OMRSACPt: 3omrsACP_e --> 3omrsACP_c gives biomass 0.6046905759669736\n",
      "removing BUT2EACPt: but2eACP_e --> but2eACP_c gives biomass 0.6046905759669637\n",
      "removing INOSTt: inost_c --> inost_e gives biomass 0.6046905759670513\n",
      "removing G3PCt: g3pc_e --> g3pc_c gives biomass 0.604690575966976\n",
      "removing FORt: for_c --> for_e gives biomass 0.584973052590342\n",
      "removing RNAt: RNA_c --> RNA_e gives biomass 0.584973052590342\n",
      "removing DNAt: dna_c --> dna_e gives biomass 0.584973052590342\n",
      "removing HMGCOAt: hmgcoa_e <=> hmgcoa_c gives biomass 0.5849730525903429\n",
      "removing CSNt: csn_e --> csn_c gives biomass 0.5710737454824798\n",
      "removing GLCN__Dt: glcn__D_e --> glcn__D_c gives biomass 0.5710737454824802\n"
     ]
    }
   ],
   "source": [
    "with model:\n",
    "    for rct in transport:\n",
    "        if rct.id in more_transport:\n",
    "            continue\n",
    "        else: \n",
    "            model.remove_reactions(rct)\n",
    "            biomass = model.optimize().objective_value\n",
    "            if biomass > 0.75 or biomass <0.70: \n",
    "                print ('removing', rct, 'gives biomass', biomass)\n",
    "            else:\n",
    "                continue"
   ]
  },
  {
   "cell_type": "code",
   "execution_count": 14,
   "metadata": {},
   "outputs": [],
   "source": [
    "more_transport.append('NADPt')"
   ]
  },
  {
   "cell_type": "markdown",
   "metadata": {},
   "source": [
    "From each pass, one can see what the first metabolite is that kills biomass formation. This can then be added to the list of transports to keep and then re-run to find the total list of transports to maintain.\n",
    "\n",
    "The only other transport that totally kills biomass is NADPt. This is wierd as normally this should not be supplied to a cell. Keep this in mind for further analysis. \n",
    "\n",
    "with the total list of transports to maintain, we can remove all the others from the actual model."
   ]
  },
  {
   "cell_type": "code",
   "execution_count": 16,
   "metadata": {},
   "outputs": [],
   "source": [
    "additional_trans = ['CLt', 'ASN__Lt', 'PYDX5Pt', 'QH2t', 'GTHRDt','BIOMASSt','THMTPt', 'NADPt']"
   ]
  },
  {
   "cell_type": "code",
   "execution_count": 17,
   "metadata": {},
   "outputs": [
    {
     "data": {
      "text/plain": [
       "36"
      ]
     },
     "execution_count": 17,
     "metadata": {},
     "output_type": "execute_result"
    }
   ],
   "source": [
    "tot_transport = transported_mets_rct\n",
    "for rct in additional_trans:\n",
    "    tot_transport.append(rct)\n",
    "len(tot_transport)"
   ]
  },
  {
   "cell_type": "code",
   "execution_count": 18,
   "metadata": {},
   "outputs": [
    {
     "data": {
      "text/plain": [
       "0.5710737454824805"
      ]
     },
     "execution_count": 18,
     "metadata": {},
     "output_type": "execute_result"
    }
   ],
   "source": [
    "for rct in transport:\n",
    "    if rct.id in tot_transport:\n",
    "        continue\n",
    "    else:\n",
    "        model.remove_reactions(rct)\n",
    "model.optimize().objective_value"
   ]
  },
  {
   "cell_type": "code",
   "execution_count": 19,
   "metadata": {},
   "outputs": [],
   "source": [
    "#save&commit\n",
    "cobra.io.write_sbml_model(model,'../model/g-thermo.xml')"
   ]
  },
  {
   "cell_type": "code",
   "execution_count": null,
   "metadata": {},
   "outputs": [],
   "source": []
  },
  {
   "cell_type": "code",
   "execution_count": 1,
   "metadata": {},
   "outputs": [],
   "source": [
    "# what about other sugars?? e.g. xylose etc. See figure of which sugars geobacillus grows on!"
   ]
  },
  {
   "cell_type": "code",
   "execution_count": null,
   "metadata": {},
   "outputs": [],
   "source": []
  }
 ],
 "metadata": {
  "kernelspec": {
   "display_name": "Python 3",
   "language": "python",
   "name": "python3"
  },
  "language_info": {
   "codemirror_mode": {
    "name": "ipython",
    "version": 3
   },
   "file_extension": ".py",
   "mimetype": "text/x-python",
   "name": "python",
   "nbconvert_exporter": "python",
   "pygments_lexer": "ipython3",
   "version": "3.7.4"
  }
 },
 "nbformat": 4,
 "nbformat_minor": 2
}
