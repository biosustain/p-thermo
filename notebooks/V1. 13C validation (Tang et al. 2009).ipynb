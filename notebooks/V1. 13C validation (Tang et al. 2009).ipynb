{
 "cells": [
  {
   "cell_type": "markdown",
   "metadata": {},
   "source": [
    "# Introduction\n",
    "In this notebook, I will try to validate the model with the 13C data presented in Tang et al. 2009 (DOI 10.1002/bit.22181).\n",
    "\n",
    "To do this, I will fix the internal fluxes to match that measured by the 13C data and from there see how much the exchange fluxes match the measured data. \n",
    "\n",
    "The paper has data about aerobic and microaerobic 13C data. and also have some data about the mixed acid fermentation. Table 2 will provide most of the experimental data to validate against? But these are yields.. I'll just have to make do.\n",
    "\n",
    "Also, oxygen consumption rates aren't really defined.. They are more just defined based on the observed growth rate? so I will need to find a way around this.\n",
    "\n",
    "In the paper, the glucose uptake rate is often set to 5 mmol h-1 g-1 biomass. So I will do the same here to make the values more comparable.\n",
    "\n",
    "N.B.: this is a bit of a different strain! it is the M10EXG strain. "
   ]
  },
  {
   "cell_type": "markdown",
   "metadata": {},
   "source": [
    "To compare the calculated 13C fluxes with our model, I will first summarize them in a data frame. For each reaction defined by the C13-model, i will write the flux (relative to the 100 units shown) and try to map the corresponding flux from our model that it should be set to. "
   ]
  },
  {
   "cell_type": "code",
   "execution_count": 25,
   "metadata": {},
   "outputs": [],
   "source": [
    "import cameo\n",
    "import pandas as pd\n",
    "import cobra.io\n",
    "from escher import Builder\n",
    "import copy\n",
    "from cobra.flux_analysis import flux_variability_analysis\n",
    "from cobra import Metabolite, Reaction"
   ]
  },
  {
   "cell_type": "code",
   "execution_count": 26,
   "metadata": {},
   "outputs": [],
   "source": [
    "model = cobra.io.read_sbml_model('../model/g-thermo.xml')"
   ]
  },
  {
   "cell_type": "markdown",
   "metadata": {},
   "source": [
    "# Aerobic condition\n",
    "I will first look to see if we can validate the aerobic condition that is tested. I will import the data frame from the file made in the 'databases' folder of the repo. Here i coupled the reactions and fluxes shown in the Tang paper to our model."
   ]
  },
  {
   "cell_type": "code",
   "execution_count": 27,
   "metadata": {},
   "outputs": [],
   "source": [
    "#set the glucose consumption to 5 mmol/gCDW/h\n",
    "model.reactions.EX_glc__D_e.bounds = (-5,1000)"
   ]
  },
  {
   "cell_type": "code",
   "execution_count": 28,
   "metadata": {
    "scrolled": false
   },
   "outputs": [
    {
     "data": {
      "text/plain": [
       "0.3275225692669498"
      ]
     },
     "execution_count": 28,
     "metadata": {},
     "output_type": "execute_result"
    }
   ],
   "source": [
    "model.optimize().objective_value"
   ]
  },
  {
   "cell_type": "markdown",
   "metadata": {},
   "source": [
    "Now I need to write a script which will fix the fluxes as defined here and then will see if optimization is possible.\n",
    "Then I will also check that the predicted products are and if this matches the experimental data.\n",
    "\n",
    "When I do this with the exact fluxes determined, I get an infeasible solution. This is because for many of the reactions the standard deviation isn't given, allowing very little flexibility in the model. For the reactions with standard deviation, we will include them as flexibility in the bounds as: mean +-2xstDev.\n",
    "For reactions without any standard deviation, we will add an error of 10%. This isn't ideal but may be necessary."
   ]
  },
  {
   "cell_type": "code",
   "execution_count": 29,
   "metadata": {},
   "outputs": [],
   "source": [
    "df_aer = pd.read_csv('../databases/Tang 2009 fluxes-aerobic.csv')"
   ]
  },
  {
   "cell_type": "code",
   "execution_count": 192,
   "metadata": {},
   "outputs": [],
   "source": [
    "#note: aerobic is the fluxes from the paper, without GLUSy (i.e. the flux to glutamate in the biomass)"
   ]
  },
  {
   "cell_type": "code",
   "execution_count": 193,
   "metadata": {},
   "outputs": [],
   "source": [
    "del df_aer['N.B.: 0 means no info available']"
   ]
  },
  {
   "cell_type": "code",
   "execution_count": 194,
   "metadata": {
    "scrolled": true
   },
   "outputs": [
    {
     "name": "stdout",
     "output_type": "stream",
     "text": [
      "GLC__Dtpts 0.32861626365989793\n",
      "GALUi 0.3286162636599081\n",
      "G6PDH2r 0.3269833815743214\n",
      "PRPPS 0.2902505656145208\n",
      "TKT2 0.2902505656145299\n",
      "TALA 0.2902505656145228\n",
      "TKT1 0.2902505656144517\n",
      "DDPA 0.29025056561478846\n",
      "PGI 0.29025056561478857\n",
      "FBA 0.29025056554757445\n",
      "PGK 0.2902505656145884\n",
      "ENO 0.2902505656145466\n",
      "PGCD 0.29025056561456464\n",
      "GHMT 0.29025056561464996\n"
     ]
    },
    {
     "ename": "Infeasible",
     "evalue": "None (infeasible)",
     "output_type": "error",
     "traceback": [
      "\u001b[1;31m---------------------------------------------------------------------------\u001b[0m",
      "\u001b[1;31mInfeasible\u001b[0m                                Traceback (most recent call last)",
      "\u001b[1;32m<ipython-input-194-b5925e011637>\u001b[0m in \u001b[0;36m<module>\u001b[1;34m\u001b[0m\n\u001b[0;32m      6\u001b[0m     \u001b[0mlb\u001b[0m \u001b[1;33m=\u001b[0m \u001b[0mrow\u001b[0m\u001b[1;33m[\u001b[0m\u001b[1;34m'LB'\u001b[0m\u001b[1;33m]\u001b[0m\u001b[1;33m/\u001b[0m\u001b[1;36m20\u001b[0m \u001b[1;31m#normalize to the 5 mmol glucose that is being supplied\u001b[0m\u001b[1;33m\u001b[0m\u001b[1;33m\u001b[0m\u001b[0m\n\u001b[0;32m      7\u001b[0m     \u001b[0mrct\u001b[0m\u001b[1;33m.\u001b[0m\u001b[0mbounds\u001b[0m \u001b[1;33m=\u001b[0m \u001b[1;33m(\u001b[0m\u001b[0mlb\u001b[0m\u001b[1;33m,\u001b[0m\u001b[0mub\u001b[0m\u001b[1;33m)\u001b[0m\u001b[1;33m\u001b[0m\u001b[1;33m\u001b[0m\u001b[0m\n\u001b[1;32m----> 8\u001b[1;33m     \u001b[0mpfba_solution\u001b[0m \u001b[1;33m=\u001b[0m \u001b[0mcobra\u001b[0m\u001b[1;33m.\u001b[0m\u001b[0mflux_analysis\u001b[0m\u001b[1;33m.\u001b[0m\u001b[0mpfba\u001b[0m\u001b[1;33m(\u001b[0m\u001b[0mmodel_copy\u001b[0m\u001b[1;33m)\u001b[0m\u001b[1;33m\u001b[0m\u001b[1;33m\u001b[0m\u001b[0m\n\u001b[0m\u001b[0;32m      9\u001b[0m     \u001b[0mprint\u001b[0m\u001b[1;33m(\u001b[0m\u001b[0mrct_id\u001b[0m\u001b[1;33m,\u001b[0m\u001b[0mpfba_solution\u001b[0m\u001b[1;33m[\u001b[0m\u001b[1;34m'biomass'\u001b[0m\u001b[1;33m]\u001b[0m\u001b[1;33m)\u001b[0m\u001b[1;33m\u001b[0m\u001b[1;33m\u001b[0m\u001b[0m\n",
      "\u001b[1;32m~\\AppData\\Local\\Continuum\\anaconda3\\envs\\g-thermo\\lib\\site-packages\\cobra\\flux_analysis\\parsimonious.py\u001b[0m in \u001b[0;36mpfba\u001b[1;34m(model, fraction_of_optimum, objective, reactions)\u001b[0m\n\u001b[0;32m     66\u001b[0m     \u001b[1;32mwith\u001b[0m \u001b[0mmodel\u001b[0m \u001b[1;32mas\u001b[0m \u001b[0mm\u001b[0m\u001b[1;33m:\u001b[0m\u001b[1;33m\u001b[0m\u001b[1;33m\u001b[0m\u001b[0m\n\u001b[0;32m     67\u001b[0m         add_pfba(m, objective=objective,\n\u001b[1;32m---> 68\u001b[1;33m                  fraction_of_optimum=fraction_of_optimum)\n\u001b[0m\u001b[0;32m     69\u001b[0m         \u001b[0mm\u001b[0m\u001b[1;33m.\u001b[0m\u001b[0mslim_optimize\u001b[0m\u001b[1;33m(\u001b[0m\u001b[0merror_value\u001b[0m\u001b[1;33m=\u001b[0m\u001b[1;32mNone\u001b[0m\u001b[1;33m)\u001b[0m\u001b[1;33m\u001b[0m\u001b[1;33m\u001b[0m\u001b[0m\n\u001b[0;32m     70\u001b[0m         \u001b[0msolution\u001b[0m \u001b[1;33m=\u001b[0m \u001b[0mget_solution\u001b[0m\u001b[1;33m(\u001b[0m\u001b[0mm\u001b[0m\u001b[1;33m,\u001b[0m \u001b[0mreactions\u001b[0m\u001b[1;33m=\u001b[0m\u001b[0mreactions\u001b[0m\u001b[1;33m)\u001b[0m\u001b[1;33m\u001b[0m\u001b[1;33m\u001b[0m\u001b[0m\n",
      "\u001b[1;32m~\\AppData\\Local\\Continuum\\anaconda3\\envs\\g-thermo\\lib\\site-packages\\cobra\\flux_analysis\\parsimonious.py\u001b[0m in \u001b[0;36madd_pfba\u001b[1;34m(model, objective, fraction_of_optimum)\u001b[0m\n\u001b[0;32m     97\u001b[0m     \u001b[1;32mif\u001b[0m \u001b[0mmodel\u001b[0m\u001b[1;33m.\u001b[0m\u001b[0msolver\u001b[0m\u001b[1;33m.\u001b[0m\u001b[0mobjective\u001b[0m\u001b[1;33m.\u001b[0m\u001b[0mname\u001b[0m \u001b[1;33m==\u001b[0m \u001b[1;34m'_pfba_objective'\u001b[0m\u001b[1;33m:\u001b[0m\u001b[1;33m\u001b[0m\u001b[1;33m\u001b[0m\u001b[0m\n\u001b[0;32m     98\u001b[0m         \u001b[1;32mraise\u001b[0m \u001b[0mValueError\u001b[0m\u001b[1;33m(\u001b[0m\u001b[1;34m'The model already has a pFBA objective.'\u001b[0m\u001b[1;33m)\u001b[0m\u001b[1;33m\u001b[0m\u001b[1;33m\u001b[0m\u001b[0m\n\u001b[1;32m---> 99\u001b[1;33m     \u001b[0msutil\u001b[0m\u001b[1;33m.\u001b[0m\u001b[0mfix_objective_as_constraint\u001b[0m\u001b[1;33m(\u001b[0m\u001b[0mmodel\u001b[0m\u001b[1;33m,\u001b[0m \u001b[0mfraction\u001b[0m\u001b[1;33m=\u001b[0m\u001b[0mfraction_of_optimum\u001b[0m\u001b[1;33m)\u001b[0m\u001b[1;33m\u001b[0m\u001b[1;33m\u001b[0m\u001b[0m\n\u001b[0m\u001b[0;32m    100\u001b[0m     reaction_variables = ((rxn.forward_variable, rxn.reverse_variable)\n\u001b[0;32m    101\u001b[0m                           for rxn in model.reactions)\n",
      "\u001b[1;32m~\\AppData\\Local\\Continuum\\anaconda3\\envs\\g-thermo\\lib\\site-packages\\cobra\\util\\solver.py\u001b[0m in \u001b[0;36mfix_objective_as_constraint\u001b[1;34m(model, fraction, bound, name)\u001b[0m\n\u001b[0;32m    397\u001b[0m         \u001b[0mmodel\u001b[0m\u001b[1;33m.\u001b[0m\u001b[0msolver\u001b[0m\u001b[1;33m.\u001b[0m\u001b[0mremove\u001b[0m\u001b[1;33m(\u001b[0m\u001b[0mfix_objective_name\u001b[0m\u001b[1;33m)\u001b[0m\u001b[1;33m\u001b[0m\u001b[1;33m\u001b[0m\u001b[0m\n\u001b[0;32m    398\u001b[0m     \u001b[1;32mif\u001b[0m \u001b[0mbound\u001b[0m \u001b[1;32mis\u001b[0m \u001b[1;32mNone\u001b[0m\u001b[1;33m:\u001b[0m\u001b[1;33m\u001b[0m\u001b[1;33m\u001b[0m\u001b[0m\n\u001b[1;32m--> 399\u001b[1;33m         \u001b[0mbound\u001b[0m \u001b[1;33m=\u001b[0m \u001b[0mmodel\u001b[0m\u001b[1;33m.\u001b[0m\u001b[0mslim_optimize\u001b[0m\u001b[1;33m(\u001b[0m\u001b[0merror_value\u001b[0m\u001b[1;33m=\u001b[0m\u001b[1;32mNone\u001b[0m\u001b[1;33m)\u001b[0m \u001b[1;33m*\u001b[0m \u001b[0mfraction\u001b[0m\u001b[1;33m\u001b[0m\u001b[1;33m\u001b[0m\u001b[0m\n\u001b[0m\u001b[0;32m    400\u001b[0m     \u001b[1;32mif\u001b[0m \u001b[0mmodel\u001b[0m\u001b[1;33m.\u001b[0m\u001b[0mobjective\u001b[0m\u001b[1;33m.\u001b[0m\u001b[0mdirection\u001b[0m \u001b[1;33m==\u001b[0m \u001b[1;34m'max'\u001b[0m\u001b[1;33m:\u001b[0m\u001b[1;33m\u001b[0m\u001b[1;33m\u001b[0m\u001b[0m\n\u001b[0;32m    401\u001b[0m         \u001b[0mub\u001b[0m\u001b[1;33m,\u001b[0m \u001b[0mlb\u001b[0m \u001b[1;33m=\u001b[0m \u001b[1;32mNone\u001b[0m\u001b[1;33m,\u001b[0m \u001b[0mbound\u001b[0m\u001b[1;33m\u001b[0m\u001b[1;33m\u001b[0m\u001b[0m\n",
      "\u001b[1;32m~\\AppData\\Local\\Continuum\\anaconda3\\envs\\g-thermo\\lib\\site-packages\\cobra\\core\\model.py\u001b[0m in \u001b[0;36mslim_optimize\u001b[1;34m(self, error_value, message)\u001b[0m\n\u001b[0;32m   1053\u001b[0m             \u001b[1;32mreturn\u001b[0m \u001b[0merror_value\u001b[0m\u001b[1;33m\u001b[0m\u001b[1;33m\u001b[0m\u001b[0m\n\u001b[0;32m   1054\u001b[0m         \u001b[1;32melse\u001b[0m\u001b[1;33m:\u001b[0m\u001b[1;33m\u001b[0m\u001b[1;33m\u001b[0m\u001b[0m\n\u001b[1;32m-> 1055\u001b[1;33m             \u001b[0massert_optimal\u001b[0m\u001b[1;33m(\u001b[0m\u001b[0mself\u001b[0m\u001b[1;33m,\u001b[0m \u001b[0mmessage\u001b[0m\u001b[1;33m)\u001b[0m\u001b[1;33m\u001b[0m\u001b[1;33m\u001b[0m\u001b[0m\n\u001b[0m\u001b[0;32m   1056\u001b[0m \u001b[1;33m\u001b[0m\u001b[0m\n\u001b[0;32m   1057\u001b[0m     \u001b[1;32mdef\u001b[0m \u001b[0moptimize\u001b[0m\u001b[1;33m(\u001b[0m\u001b[0mself\u001b[0m\u001b[1;33m,\u001b[0m \u001b[0mobjective_sense\u001b[0m\u001b[1;33m=\u001b[0m\u001b[1;32mNone\u001b[0m\u001b[1;33m,\u001b[0m \u001b[0mraise_error\u001b[0m\u001b[1;33m=\u001b[0m\u001b[1;32mFalse\u001b[0m\u001b[1;33m)\u001b[0m\u001b[1;33m:\u001b[0m\u001b[1;33m\u001b[0m\u001b[1;33m\u001b[0m\u001b[0m\n",
      "\u001b[1;32m~\\AppData\\Local\\Continuum\\anaconda3\\envs\\g-thermo\\lib\\site-packages\\cobra\\util\\solver.py\u001b[0m in \u001b[0;36massert_optimal\u001b[1;34m(model, message)\u001b[0m\n\u001b[0;32m    439\u001b[0m         exception_cls = OPTLANG_TO_EXCEPTIONS_DICT.get(\n\u001b[0;32m    440\u001b[0m             status, OptimizationError)\n\u001b[1;32m--> 441\u001b[1;33m         \u001b[1;32mraise\u001b[0m \u001b[0mexception_cls\u001b[0m\u001b[1;33m(\u001b[0m\u001b[1;34m\"{} ({})\"\u001b[0m\u001b[1;33m.\u001b[0m\u001b[0mformat\u001b[0m\u001b[1;33m(\u001b[0m\u001b[0mmessage\u001b[0m\u001b[1;33m,\u001b[0m \u001b[0mstatus\u001b[0m\u001b[1;33m)\u001b[0m\u001b[1;33m)\u001b[0m\u001b[1;33m\u001b[0m\u001b[1;33m\u001b[0m\u001b[0m\n\u001b[0m\u001b[0;32m    442\u001b[0m \u001b[1;33m\u001b[0m\u001b[0m\n\u001b[0;32m    443\u001b[0m \u001b[1;33m\u001b[0m\u001b[0m\n",
      "\u001b[1;31mInfeasible\u001b[0m: None (infeasible)"
     ]
    }
   ],
   "source": [
    "model_copy = copy.deepcopy(model)\n",
    "for index, row in df_aer.iterrows():\n",
    "    rct_id = row['model_id']\n",
    "    rct = model_copy.reactions.get_by_id(rct_id)\n",
    "    ub = row['UB']/20 #normalize to the 5 mmol glucose that is being supplied\n",
    "    lb = row['LB']/20 #normalize to the 5 mmol glucose that is being supplied\n",
    "    rct.bounds = (lb,ub)\n",
    "    pfba_solution = cobra.flux_analysis.pfba(model_copy)\n",
    "    print(rct_id,pfba_solution['biomass'])\n"
   ]
  },
  {
   "cell_type": "markdown",
   "metadata": {},
   "source": [
    "We can see that the solver errors after the GHMT reaction. So I will fix all the other reactions and then see what is going on in metabolism to explain where this issue comes from.\n",
    "\n"
   ]
  },
  {
   "cell_type": "code",
   "execution_count": 233,
   "metadata": {},
   "outputs": [],
   "source": [
    "model.reactions.GALUi.bounds = (0.045,0.055)\n",
    "model.reactions.G6PDH2r.bounds = (-1.7,-1.3)\n",
    "model.reactions.PRPPS.bounds = (0.18,0.22)\n",
    "model.reactions.TKT2.bounds = (-0.44, -0.36)\n",
    "model.reactions.TALA.bounds = (0.405,0.495)\n",
    "model.reactions.TKT1.bounds = (-0.495,-0.405)\n",
    "model.reactions.DDPA.bounds = (0.09,0.11)\n",
    "model.reactions.PGI.bounds = (-3.795,-3.105)\n",
    "model.reactions.FBA.bounds = (3.87,4.73)\n",
    "model.reactions.PGK.bounds = (-9.35,-8.55)\n",
    "model.reactions.ENO.bounds = (7.605,9.295)\n",
    "model.reactions.PGCD.bounds = (0.45,0.55)\n",
    "model.reactions.GHMT.bounds = (0.315,0.385)\n"
   ]
  },
  {
   "cell_type": "code",
   "execution_count": 234,
   "metadata": {},
   "outputs": [],
   "source": [
    "model.reactions.PDH.bounds = (7.515,9.185)\n",
    "model.reactions.PFL.bounds = (0,0)"
   ]
  },
  {
   "cell_type": "code",
   "execution_count": 235,
   "metadata": {},
   "outputs": [],
   "source": [
    "model.reactions.LDH_L.bounds = (-0.44,-0.36)\n",
    "model.reactions.ALCD2x.bounds = (0,0)\n",
    "model.reactions.ASPTA.bounds = (-0.44,-0.36)\n",
    "model.reactions.CS.bounds = (-3.5,-2.9)\n",
    "model.reactions.ICDHyr.bounds = (1.8,2.2)\n",
    "model.reactions.ICL.bounds = (0.6,1.8)\n",
    "model.reactions.SUCOAS.bounds = (-2.2,-1.2)\n",
    "model.reactions.SUCDi.bounds = (2.61,3.19)\n",
    "model.reactions.FUM.bounds = (2.61,3.19)\n",
    "model.reactions.MDH.bounds = (-4.51,-3.69)\n"
   ]
  },
  {
   "cell_type": "code",
   "execution_count": 236,
   "metadata": {
    "scrolled": true
   },
   "outputs": [
    {
     "data": {
      "text/plain": [
       "0.1796160053852448"
      ]
     },
     "execution_count": 236,
     "metadata": {},
     "output_type": "execute_result"
    }
   ],
   "source": [
    "pfba_solution = cobra.flux_analysis.pfba(model)\n",
    "pfba_solution['biomass']"
   ]
  },
  {
   "cell_type": "code",
   "execution_count": 40,
   "metadata": {},
   "outputs": [],
   "source": [
    "aa =['EX_his__L_e', 'EX_lys__L_e', 'EX_met__L_e', 'EX_phe__L_e', 'EX_thr__L_e', 'EX_trp__L_e', 'EX_asp__L_e', 'EX_asn__L_e', 'EX_ala__L_e', 'EX_arg__L_e','EX_cys__L_e', 'EX_gln__L_e', 'EX_glu__L_e', 'EX_gly_e', 'EX_pro__L_e','EX_ser__L_e', 'EX_tyr__L_e','EX_ile__L_e', 'EX_leu__L_e','EX_val__L_e']"
   ]
  },
  {
   "cell_type": "code",
   "execution_count": 238,
   "metadata": {},
   "outputs": [
    {
     "name": "stdout",
     "output_type": "stream",
     "text": [
      "EX_phe__L_e 0.026745818132085496\n",
      "EX_pro__L_e 0.04599100831919913\n"
     ]
    }
   ],
   "source": [
    "#Are we producing any amino acids???\n",
    "for acid in aa:\n",
    "    if pfba_solution[acid] > 0:\n",
    "        print(acid,pfba_solution[acid])\n",
    "    else: continue\n"
   ]
  },
  {
   "cell_type": "markdown",
   "metadata": {},
   "source": [
    "So, we are producing some proline and phenylalanine, but it is not so much so I think it is oke for now.\n",
    "\n",
    "In this setting I've fit all fluxes except the PSCVT, PPCK and PC reactions. (And GLUSy and PTAr, as we decided).\n",
    "Now I need to figure out what the cause is of why I can't fix these fluxes?\n",
    "\n",
    "First: what are the fluxes in the best fit when all other fluxes are fit?"
   ]
  },
  {
   "cell_type": "code",
   "execution_count": 239,
   "metadata": {},
   "outputs": [
    {
     "name": "stdout",
     "output_type": "stream",
     "text": [
      "PSCVT 0.09\n",
      "PPCK 0.0\n",
      "PC 0.0\n"
     ]
    }
   ],
   "source": [
    "print('PSCVT',pfba_solution['PSCVT'])\n",
    "print('PPCK',pfba_solution['PPCK'])\n",
    "print('PC',pfba_solution['PC'])\n"
   ]
  },
  {
   "cell_type": "code",
   "execution_count": 240,
   "metadata": {},
   "outputs": [],
   "source": [
    "model.reactions.PC.bounds = (0,5.3)\n",
    "model.reactions.PPCK.bounds = (0,6.5)"
   ]
  },
  {
   "cell_type": "markdown",
   "metadata": {},
   "source": [
    "So the only flux that I can't fix is that of PSCVT, which matches the reaction that produces phenylalanine. Maybe it should be fit to a different reaction in the model? \n",
    "\n",
    "It was fit to the PSCVT, which is the first brance to the shikimate pathway. Maybe I should fix it to a different reaction further downstream? When it is fit to PHETA1 it can be solved... this is unexpected but it does seem to work."
   ]
  },
  {
   "cell_type": "code",
   "execution_count": 241,
   "metadata": {},
   "outputs": [],
   "source": [
    "model.reactions.PHETA1.bounds = (-0.22,-0.18)"
   ]
  },
  {
   "cell_type": "code",
   "execution_count": 242,
   "metadata": {},
   "outputs": [
    {
     "data": {
      "text/plain": [
       "0.17961600538522435"
      ]
     },
     "execution_count": 242,
     "metadata": {},
     "output_type": "execute_result"
    }
   ],
   "source": [
    "pfba_solution = cobra.flux_analysis.pfba(model)\n",
    "pfba_solution['biomass']"
   ]
  },
  {
   "cell_type": "code",
   "execution_count": 243,
   "metadata": {
    "scrolled": true
   },
   "outputs": [
    {
     "name": "stdout",
     "output_type": "stream",
     "text": [
      "EX_phe__L_e 0.026745818132092675\n",
      "EX_pro__L_e 0.045991008319333074\n"
     ]
    }
   ],
   "source": [
    "for acid in aa:\n",
    "    if pfba_solution[acid] > 0:\n",
    "        print(acid,pfba_solution[acid])\n",
    "    else: continue"
   ]
  },
  {
   "cell_type": "markdown",
   "metadata": {},
   "source": [
    "When the two changes above are made in the table, it should solve the issue."
   ]
  },
  {
   "cell_type": "code",
   "execution_count": 18,
   "metadata": {},
   "outputs": [],
   "source": [
    "df_aer = pd.read_csv('../databases/Tang 2009 fluxes-aerobic.csv')"
   ]
  },
  {
   "cell_type": "markdown",
   "metadata": {},
   "source": [
    "To be able to fit the glutamate being pulled into biomass, we need to add a reaction to the model. Because the GLUSy reaction that forms glutamate is also used in the formation of glutamine, so fixing that would be incorrect (and infeasible). \n",
    "\n",
    "To do so, I will add a new metabolite that can pull a specific amount from the glutamate pool, and from there go into biomass."
   ]
  },
  {
   "cell_type": "code",
   "execution_count": 30,
   "metadata": {},
   "outputs": [],
   "source": [
    "model_copy = copy.deepcopy(model)"
   ]
  },
  {
   "cell_type": "code",
   "execution_count": 31,
   "metadata": {},
   "outputs": [],
   "source": [
    "#add metabolite\n",
    "model_copy.add_metabolites(Metabolite(id='glu__L_c_biomass'))"
   ]
  },
  {
   "cell_type": "code",
   "execution_count": 32,
   "metadata": {},
   "outputs": [],
   "source": [
    "model_copy.metabolites.glu__L_c_biomass.formula = model_copy.metabolites.glu__L_c.formula"
   ]
  },
  {
   "cell_type": "code",
   "execution_count": 33,
   "metadata": {},
   "outputs": [],
   "source": [
    "#add pulling reaction\n",
    "model_copy.add_reaction(Reaction(id='glu_biomass'))"
   ]
  },
  {
   "cell_type": "code",
   "execution_count": 34,
   "metadata": {},
   "outputs": [],
   "source": [
    "model_copy.reactions.glu_biomass.add_metabolites({\n",
    "    model_copy.metabolites.glu__L_c:-1,\n",
    "    model_copy.metabolites.glu__L_c_biomass:1\n",
    "})"
   ]
  },
  {
   "cell_type": "code",
   "execution_count": 35,
   "metadata": {},
   "outputs": [],
   "source": [
    "#change biomass consumption to the new metabolites\n",
    "model_copy.reactions.biomass.add_metabolites({\n",
    "    model_copy.metabolites.glu__L_c:0.322004464285714,\n",
    "    model_copy.metabolites.glu__L_c_biomass:-0.322004464285714\n",
    "})"
   ]
  },
  {
   "cell_type": "code",
   "execution_count": 36,
   "metadata": {
    "scrolled": true
   },
   "outputs": [
    {
     "data": {
      "text/html": [
       "\n",
       "        <table>\n",
       "            <tr>\n",
       "                <td><strong>Reaction identifier</strong></td><td>glu_sink</td>\n",
       "            </tr><tr>\n",
       "                <td><strong>Name</strong></td><td> sink</td>\n",
       "            </tr><tr>\n",
       "                <td><strong>Memory address</strong></td>\n",
       "                <td>0x02c3e40ba188</td>\n",
       "            </tr><tr>\n",
       "                <td><strong>Stoichiometry</strong></td>\n",
       "                <td>\n",
       "                    <p style='text-align:right'>glu__L_c_biomass <=> </p>\n",
       "                    <p style='text-align:right'> <=> </p>\n",
       "                </td>\n",
       "            </tr><tr>\n",
       "                <td><strong>GPR</strong></td><td></td>\n",
       "            </tr><tr>\n",
       "                <td><strong>Lower bound</strong></td><td>-1000.0</td>\n",
       "            </tr><tr>\n",
       "                <td><strong>Upper bound</strong></td><td>1000.0</td>\n",
       "            </tr>\n",
       "        </table>\n",
       "        "
      ],
      "text/plain": [
       "<Reaction glu_sink at 0x2c3e40ba188>"
      ]
     },
     "execution_count": 36,
     "metadata": {},
     "output_type": "execute_result"
    }
   ],
   "source": [
    "#also need to add the exchange reaction incase the flux doesn't match the defined aa composition in the biomass reaction\n",
    "#it would error otherwise.\n",
    "model_copy.add_boundary(model_copy.metabolites.glu__L_c_biomass,type = 'sink', reaction_id = 'glu_sink')"
   ]
  },
  {
   "cell_type": "code",
   "execution_count": 37,
   "metadata": {
    "scrolled": true
   },
   "outputs": [
    {
     "name": "stdout",
     "output_type": "stream",
     "text": [
      "GLC__Dtpts 0.33334548886819815\n",
      "GALUi 0.33334548886820503\n",
      "G6PDH2r 0.3316891074370969\n",
      "PRPPS 0.2902505656145606\n",
      "TKT2 0.29025056561454443\n",
      "TALA 0.2902505656145458\n",
      "TKT1 0.29025056561459855\n",
      "PHETA1 0.2902505656141614\n",
      "PGI 0.2902505656141613\n",
      "FBA 0.2902505656145251\n",
      "PGK 0.2902505656145146\n",
      "ENO 0.29025056561460155\n",
      "PGCD 0.290250565614308\n",
      "GHMT 0.29025056561459556\n",
      "PPCK 0.29025056561459556\n",
      "PC 0.29025056561459556\n",
      "PDH 0.290250565614577\n",
      "PFL 0.290250565614577\n",
      "LDH_L 0.2902505656145655\n",
      "ALCD2x 0.29025056561459484\n",
      "ASPTA 0.17961600538523256\n",
      "CS 0.17961600538522104\n",
      "ICDHyr 0.17961600538523634\n",
      "ICL 0.17961600538521652\n",
      "SUCOAS 0.17961600538520786\n",
      "SUCDi 0.17961600538519773\n",
      "FUM 0.1796160053851866\n",
      "MDH 0.1796160053852685\n",
      "PTAr 0.17961600538528685\n",
      "glu_biomass 0.17961600538520311\n"
     ]
    }
   ],
   "source": [
    "for index, row in df_aer.iterrows():\n",
    "    rct_id = row['model_id']\n",
    "    rct = model_copy.reactions.get_by_id(rct_id)\n",
    "    ub = row['UB']/20 #normalize to the 5 mmol glucose that is being supplied\n",
    "    lb = row['LB']/20 #normalize to the 5 mmol glucose that is being supplied\n",
    "    rct.bounds = (lb,ub)\n",
    "    pfba_solution = cobra.flux_analysis.pfba(model_copy)\n",
    "    print(rct_id,pfba_solution['biomass'])\n"
   ]
  },
  {
   "cell_type": "markdown",
   "metadata": {},
   "source": [
    "Now to check which amino acids are being made in overflow from the defined fluxes"
   ]
  },
  {
   "cell_type": "code",
   "execution_count": 38,
   "metadata": {},
   "outputs": [
    {
     "data": {
      "text/plain": [
       "0.17961600538520311"
      ]
     },
     "execution_count": 38,
     "metadata": {},
     "output_type": "execute_result"
    }
   ],
   "source": [
    "pfba_solution = cobra.flux_analysis.pfba(model_copy)\n",
    "pfba_solution['biomass']"
   ]
  },
  {
   "cell_type": "code",
   "execution_count": 41,
   "metadata": {
    "scrolled": true
   },
   "outputs": [],
   "source": [
    "for acid in aa:\n",
    "    if pfba_solution[acid] > 0:\n",
    "        print(acid,pfba_solution[acid])\n",
    "    else: continue"
   ]
  },
  {
   "cell_type": "markdown",
   "metadata": {},
   "source": [
    "So we seem to not be producing any amino acids in excess, butwe do have quite a bit of glutamate that is being produced too much.."
   ]
  },
  {
   "cell_type": "code",
   "execution_count": 42,
   "metadata": {},
   "outputs": [
    {
     "data": {
      "text/plain": [
       "0.21216284440879773"
      ]
     },
     "execution_count": 42,
     "metadata": {},
     "output_type": "execute_result"
    }
   ],
   "source": [
    "model_copy.optimize()['glu_sink']"
   ]
  },
  {
   "cell_type": "markdown",
   "metadata": {},
   "source": [
    "Now that the fluxes have been fit, we would want to see what the predicted exchange rates are and then compare this to the published data.\n"
   ]
  },
  {
   "cell_type": "code",
   "execution_count": 43,
   "metadata": {},
   "outputs": [],
   "source": [
    "prod = ['EX_glc__D_e', 'EX_lac__L_e','EX_etoh_e', 'EX_ac_e', 'EX_for_e', 'glu_sink','EX_o2_e']"
   ]
  },
  {
   "cell_type": "code",
   "execution_count": 44,
   "metadata": {
    "scrolled": false
   },
   "outputs": [
    {
     "name": "stdout",
     "output_type": "stream",
     "text": [
      "EX_glc__D_e :   1.0\n",
      "EX_lac__L_e :   -0.07477074060758418\n",
      "EX_etoh_e :   -0.0\n",
      "EX_ac_e :   -0.7724155030819773\n",
      "EX_for_e :   -0.036605789443882666\n",
      "glu_sink :   -0.04406548057182627\n",
      "EX_o2_e :   2.6079921617276867\n"
     ]
    }
   ],
   "source": [
    "for comp in prod:\n",
    "    pfba_solution = cobra.flux_analysis.pfba(model_copy)\n",
    "    print(comp,':  ',pfba_solution[comp]/pfba_solution['EX_glc__D_e'])"
   ]
  },
  {
   "cell_type": "code",
   "execution_count": 45,
   "metadata": {},
   "outputs": [
    {
     "name": "stdout",
     "output_type": "stream",
     "text": [
      "growth rate: 0.1778198453313512\n",
      "             minimum   maximum\n",
      "EX_glc__D_e     -5.0 -4.758416\n",
      "             minimum   maximum\n",
      "EX_lac__L_e     0.36  0.923168\n",
      "           minimum  maximum\n",
      "EX_etoh_e      0.0      0.0\n",
      "          minimum   maximum\n",
      "EX_ac_e  1.052856  4.334929\n",
      "          minimum   maximum\n",
      "EX_for_e      0.0  0.507997\n",
      "           minimum   maximum\n",
      "glu_sink  0.212741  0.272741\n",
      "           minimum    maximum\n",
      "EX_o2_e -15.185555 -11.816017\n"
     ]
    }
   ],
   "source": [
    "with model_copy:\n",
    "    growth = 0.99*model_copy.optimize().objective_value\n",
    "    print('growth rate:',growth)\n",
    "    model_copy2 = copy.deepcopy(model_copy)\n",
    "    model_copy2.reactions.biomass.bounds = (growth,growth) #fix growth rate at 99% of max:\n",
    "    for rct in prod:\n",
    "        print(flux_variability_analysis(model_copy2, rct))"
   ]
  },
  {
   "cell_type": "code",
   "execution_count": 46,
   "metadata": {},
   "outputs": [
    {
     "data": {
      "text/plain": [
       "0.17961600538520311"
      ]
     },
     "execution_count": 46,
     "metadata": {},
     "output_type": "execute_result"
    }
   ],
   "source": [
    "pfba_solution['biomass']"
   ]
  },
  {
   "cell_type": "code",
   "execution_count": 47,
   "metadata": {},
   "outputs": [],
   "source": [
    "#what is the oxygen consumption rate here?"
   ]
  },
  {
   "cell_type": "code",
   "execution_count": 48,
   "metadata": {
    "scrolled": true
   },
   "outputs": [
    {
     "data": {
      "text/plain": [
       "-12.556745734931702"
      ]
     },
     "execution_count": 48,
     "metadata": {},
     "output_type": "execute_result"
    }
   ],
   "source": [
    "pfba_solution = cobra.flux_analysis.pfba(model_copy)\n",
    "pfba_solution['EX_o2_e']"
   ]
  },
  {
   "cell_type": "code",
   "execution_count": 49,
   "metadata": {
    "scrolled": true
   },
   "outputs": [
    {
     "data": {
      "text/html": [
       "<div>\n",
       "<style scoped>\n",
       "    .dataframe tbody tr th:only-of-type {\n",
       "        vertical-align: middle;\n",
       "    }\n",
       "\n",
       "    .dataframe tbody tr th {\n",
       "        vertical-align: top;\n",
       "    }\n",
       "\n",
       "    .dataframe thead th {\n",
       "        text-align: right;\n",
       "    }\n",
       "</style>\n",
       "<table border=\"1\" class=\"dataframe\">\n",
       "  <thead>\n",
       "    <tr style=\"text-align: right;\">\n",
       "      <th></th>\n",
       "      <th>minimum</th>\n",
       "      <th>maximum</th>\n",
       "    </tr>\n",
       "  </thead>\n",
       "  <tbody>\n",
       "    <tr>\n",
       "      <th>EX_o2_e</th>\n",
       "      <td>-15.156511</td>\n",
       "      <td>-11.846128</td>\n",
       "    </tr>\n",
       "  </tbody>\n",
       "</table>\n",
       "</div>"
      ],
      "text/plain": [
       "           minimum    maximum\n",
       "EX_o2_e -15.156511 -11.846128"
      ]
     },
     "execution_count": 49,
     "metadata": {},
     "output_type": "execute_result"
    }
   ],
   "source": [
    "flux_variability_analysis(model_copy, model_copy.reactions.EX_o2_e)"
   ]
  },
  {
   "cell_type": "code",
   "execution_count": 50,
   "metadata": {},
   "outputs": [
    {
     "data": {
      "text/html": [
       "<div>\n",
       "<style scoped>\n",
       "    .dataframe tbody tr th:only-of-type {\n",
       "        vertical-align: middle;\n",
       "    }\n",
       "\n",
       "    .dataframe tbody tr th {\n",
       "        vertical-align: top;\n",
       "    }\n",
       "\n",
       "    .dataframe thead th {\n",
       "        text-align: right;\n",
       "    }\n",
       "</style>\n",
       "<table border=\"1\" class=\"dataframe\">\n",
       "  <thead>\n",
       "    <tr style=\"text-align: right;\">\n",
       "      <th></th>\n",
       "      <th>minimum</th>\n",
       "      <th>maximum</th>\n",
       "    </tr>\n",
       "  </thead>\n",
       "  <tbody>\n",
       "    <tr>\n",
       "      <th>EX_succ_e</th>\n",
       "      <td>0.0</td>\n",
       "      <td>0.506275</td>\n",
       "    </tr>\n",
       "  </tbody>\n",
       "</table>\n",
       "</div>"
      ],
      "text/plain": [
       "           minimum   maximum\n",
       "EX_succ_e      0.0  0.506275"
      ]
     },
     "execution_count": 50,
     "metadata": {},
     "output_type": "execute_result"
    }
   ],
   "source": [
    "#check no succinate production\n",
    "flux_variability_analysis(model_copy2, 'EX_succ_e')"
   ]
  },
  {
   "cell_type": "markdown",
   "metadata": {},
   "source": [
    "## Microaerobic\n",
    "Here an unfortunate thing is that we lack the information about the amount of oxygen that is supplied for the microaerobic experiment. So what i will do is fit the fluxes as they are defined, and then see what oxygen consumption the model predicts. \n"
   ]
  },
  {
   "cell_type": "code",
   "execution_count": 51,
   "metadata": {},
   "outputs": [],
   "source": [
    "#set the glucose consumption to 5 mmol/gCDW/h\n",
    "model.reactions.EX_glc__D_e.bounds = (-5,1000)"
   ]
  },
  {
   "cell_type": "code",
   "execution_count": 52,
   "metadata": {},
   "outputs": [],
   "source": [
    "df_micaer = pd.read_csv('../databases/Tang 2009 fluxes-microaerobic.csv')"
   ]
  },
  {
   "cell_type": "code",
   "execution_count": 53,
   "metadata": {},
   "outputs": [],
   "source": [
    "del df_micaer['N.B.: 0 means no info available']"
   ]
  },
  {
   "cell_type": "code",
   "execution_count": 54,
   "metadata": {},
   "outputs": [],
   "source": [
    "model_copy = copy.deepcopy(model)"
   ]
  },
  {
   "cell_type": "code",
   "execution_count": 55,
   "metadata": {},
   "outputs": [],
   "source": [
    "#add metabolite\n",
    "model_copy.add_metabolites(Metabolite(id='glu__L_c_biomass'))"
   ]
  },
  {
   "cell_type": "code",
   "execution_count": 56,
   "metadata": {},
   "outputs": [],
   "source": [
    "model_copy.metabolites.glu__L_c_biomass.formula = model_copy.metabolites.glu__L_c.formula"
   ]
  },
  {
   "cell_type": "code",
   "execution_count": 57,
   "metadata": {},
   "outputs": [],
   "source": [
    "#add pulling reaction\n",
    "model_copy.add_reaction(Reaction(id='glu_biomass'))"
   ]
  },
  {
   "cell_type": "code",
   "execution_count": 58,
   "metadata": {},
   "outputs": [],
   "source": [
    "model_copy.reactions.glu_biomass.add_metabolites({\n",
    "    model_copy.metabolites.glu__L_c:-1,\n",
    "    model_copy.metabolites.glu__L_c_biomass:1\n",
    "})"
   ]
  },
  {
   "cell_type": "code",
   "execution_count": 59,
   "metadata": {},
   "outputs": [],
   "source": [
    "#change biomass consumption to the new metabolites\n",
    "model_copy.reactions.biomass.add_metabolites({\n",
    "    model_copy.metabolites.glu__L_c:0.322004464285714,\n",
    "    model_copy.metabolites.glu__L_c_biomass:-0.322004464285714\n",
    "})"
   ]
  },
  {
   "cell_type": "code",
   "execution_count": 60,
   "metadata": {
    "scrolled": true
   },
   "outputs": [
    {
     "data": {
      "text/html": [
       "\n",
       "        <table>\n",
       "            <tr>\n",
       "                <td><strong>Reaction identifier</strong></td><td>glu_sink</td>\n",
       "            </tr><tr>\n",
       "                <td><strong>Name</strong></td><td> sink</td>\n",
       "            </tr><tr>\n",
       "                <td><strong>Memory address</strong></td>\n",
       "                <td>0x02c3e0eb8bc8</td>\n",
       "            </tr><tr>\n",
       "                <td><strong>Stoichiometry</strong></td>\n",
       "                <td>\n",
       "                    <p style='text-align:right'>glu__L_c_biomass <=> </p>\n",
       "                    <p style='text-align:right'> <=> </p>\n",
       "                </td>\n",
       "            </tr><tr>\n",
       "                <td><strong>GPR</strong></td><td></td>\n",
       "            </tr><tr>\n",
       "                <td><strong>Lower bound</strong></td><td>-1000.0</td>\n",
       "            </tr><tr>\n",
       "                <td><strong>Upper bound</strong></td><td>1000.0</td>\n",
       "            </tr>\n",
       "        </table>\n",
       "        "
      ],
      "text/plain": [
       "<Reaction glu_sink at 0x2c3e0eb8bc8>"
      ]
     },
     "execution_count": 60,
     "metadata": {},
     "output_type": "execute_result"
    }
   ],
   "source": [
    "#also need to add the exchange reaction incase the flux doesn't match the defined aa composition in the biomass reaction\n",
    "#it would error otherwise.\n",
    "model_copy.add_boundary(model_copy.metabolites.glu__L_c_biomass,type = 'sink', reaction_id = 'glu_sink')"
   ]
  },
  {
   "cell_type": "code",
   "execution_count": 61,
   "metadata": {},
   "outputs": [
    {
     "name": "stdout",
     "output_type": "stream",
     "text": [
      "GLC__Dtpts 0.33334548886819815\n",
      "GALUi 0.33334548886820503\n",
      "G6PDH2r 0.3322624702401776\n",
      "PRPPS 0.14512528280727083\n",
      "TKT2 0.14512528280725986\n",
      "TALA 0.14512528280731227\n",
      "TKT1 0.1451252828072659\n",
      "PHETA1 0.14512528280722953\n",
      "PGI 0.14512528280725792\n",
      "FBA 0.14512528280727846\n",
      "PGK 0.14512528280726963\n",
      "ENO 0.14512528280714834\n",
      "PGCD 0.14512528280728135\n",
      "GHMT 0.1451252828072371\n",
      "PPCK 0.145125282807318\n",
      "PC 0.145125282807258\n",
      "PDH 0.145125282807258\n",
      "PFL 0.14512528280725775\n",
      "LDH_L 0.1451252828073684\n",
      "ALCD2x 0.14512528280725065\n",
      "ASPTA 0.11226000336576793\n",
      "CS 0.11226000336576794\n",
      "ICDHyr 0.11226000336575401\n",
      "ICL 0.1122600033657715\n",
      "SUCOAS 0.11226000336577098\n",
      "SUCDi 0.11226000336577387\n",
      "FUM 0.11226000336577523\n",
      "MDH 0.11226000336575691\n",
      "PTAr 0.11226000336791238\n",
      "glu_biomass 0.11226000336576913\n"
     ]
    }
   ],
   "source": [
    "for index, row in df_micaer.iterrows():\n",
    "    rct_id = row['model_id']\n",
    "    rct = model_copy.reactions.get_by_id(rct_id)\n",
    "    ub = row['UB']/20 #normalize to the 5 mmol glucose that is being supplied\n",
    "    lb = row['LB']/20 #normalize to the 5 mmol glucose that is being supplied\n",
    "    rct.bounds = (lb,ub)\n",
    "    pfba_solution = cobra.flux_analysis.pfba(model_copy)\n",
    "    print(rct_id,pfba_solution['biomass'])"
   ]
  },
  {
   "cell_type": "code",
   "execution_count": 62,
   "metadata": {
    "scrolled": true
   },
   "outputs": [
    {
     "data": {
      "text/plain": [
       "-5.8962789549615255"
      ]
     },
     "execution_count": 62,
     "metadata": {},
     "output_type": "execute_result"
    }
   ],
   "source": [
    "pfba_solution = cobra.flux_analysis.pfba(model_copy)\n",
    "pfba_solution['EX_o2_e']"
   ]
  },
  {
   "cell_type": "code",
   "execution_count": 63,
   "metadata": {},
   "outputs": [
    {
     "data": {
      "text/html": [
       "<div>\n",
       "<style scoped>\n",
       "    .dataframe tbody tr th:only-of-type {\n",
       "        vertical-align: middle;\n",
       "    }\n",
       "\n",
       "    .dataframe tbody tr th {\n",
       "        vertical-align: top;\n",
       "    }\n",
       "\n",
       "    .dataframe thead th {\n",
       "        text-align: right;\n",
       "    }\n",
       "</style>\n",
       "<table border=\"1\" class=\"dataframe\">\n",
       "  <thead>\n",
       "    <tr style=\"text-align: right;\">\n",
       "      <th></th>\n",
       "      <th>minimum</th>\n",
       "      <th>maximum</th>\n",
       "    </tr>\n",
       "  </thead>\n",
       "  <tbody>\n",
       "    <tr>\n",
       "      <th>EX_o2_e</th>\n",
       "      <td>-7.189232</td>\n",
       "      <td>-5.723964</td>\n",
       "    </tr>\n",
       "  </tbody>\n",
       "</table>\n",
       "</div>"
      ],
      "text/plain": [
       "          minimum   maximum\n",
       "EX_o2_e -7.189232 -5.723964"
      ]
     },
     "execution_count": 63,
     "metadata": {},
     "output_type": "execute_result"
    }
   ],
   "source": [
    "flux_variability_analysis(model_copy, model_copy.reactions.EX_o2_e)"
   ]
  },
  {
   "cell_type": "code",
   "execution_count": 64,
   "metadata": {},
   "outputs": [
    {
     "name": "stdout",
     "output_type": "stream",
     "text": [
      "4.80265288377786\n",
      "-0.9429140800607146\n"
     ]
    }
   ],
   "source": [
    "#rati between PFL and PDH?\n",
    "print(pfba_solution['PDH'])\n",
    "print(pfba_solution['PFL'])"
   ]
  },
  {
   "cell_type": "code",
   "execution_count": 65,
   "metadata": {},
   "outputs": [],
   "source": [
    "prod = ['EX_glc__D_e', 'EX_lac__L_e','EX_etoh_e', 'EX_ac_e', 'EX_for_e', 'glu_sink','EX_o2_e']"
   ]
  },
  {
   "cell_type": "code",
   "execution_count": 66,
   "metadata": {
    "scrolled": false
   },
   "outputs": [
    {
     "name": "stdout",
     "output_type": "stream",
     "text": [
      "EX_glc__D_e :   1.0\n",
      "EX_lac__L_e :   -0.6720805600781031\n",
      "EX_etoh_e :   -0.25778432441351895\n",
      "EX_ac_e :   -0.4534973741668363\n",
      "EX_for_e :   -0.21124621345685488\n",
      "glu_sink :   -0.020224157734742145\n",
      "EX_o2_e :   1.2063240372685766\n"
     ]
    }
   ],
   "source": [
    "for comp in prod:\n",
    "    pfba_solution = cobra.flux_analysis.pfba(model_copy)\n",
    "    print(comp,':  ',pfba_solution[comp]/pfba_solution['EX_glc__D_e'])"
   ]
  },
  {
   "cell_type": "code",
   "execution_count": 67,
   "metadata": {
    "scrolled": false
   },
   "outputs": [
    {
     "name": "stdout",
     "output_type": "stream",
     "text": [
      "growth rate: 0.11113740333211163\n",
      "             minimum   maximum\n",
      "EX_glc__D_e     -5.0 -4.885519\n",
      "             minimum   maximum\n",
      "EX_lac__L_e    3.285  4.097161\n",
      "           minimum  maximum\n",
      "EX_etoh_e     1.26     1.54\n",
      "          minimum   maximum\n",
      "EX_ac_e  0.962507  2.888154\n",
      "          minimum   maximum\n",
      "EX_for_e      0.0  2.660788\n",
      "           minimum   maximum\n",
      "glu_sink  0.099213  0.112792\n",
      "          minimum   maximum\n",
      "EX_o2_e -7.203493 -5.656054\n"
     ]
    }
   ],
   "source": [
    "with model_copy:\n",
    "    growth = 0.99*model_copy.optimize().objective_value\n",
    "    print('growth rate:',growth)\n",
    "    model_copy2 = copy.deepcopy(model_copy)\n",
    "    model_copy2.reactions.biomass.bounds = (growth,growth) #fix growth rate at 99% of max:\n",
    "    for rct in prod:\n",
    "        print(flux_variability_analysis(model_copy2, rct))"
   ]
  },
  {
   "cell_type": "code",
   "execution_count": 68,
   "metadata": {},
   "outputs": [
    {
     "data": {
      "text/plain": [
       "0.11226000336576931"
      ]
     },
     "execution_count": 68,
     "metadata": {},
     "output_type": "execute_result"
    }
   ],
   "source": [
    "model_copy.optimize().objective_value"
   ]
  },
  {
   "cell_type": "code",
   "execution_count": 69,
   "metadata": {},
   "outputs": [
    {
     "data": {
      "text/html": [
       "<div>\n",
       "<style scoped>\n",
       "    .dataframe tbody tr th:only-of-type {\n",
       "        vertical-align: middle;\n",
       "    }\n",
       "\n",
       "    .dataframe tbody tr th {\n",
       "        vertical-align: top;\n",
       "    }\n",
       "\n",
       "    .dataframe thead th {\n",
       "        text-align: right;\n",
       "    }\n",
       "</style>\n",
       "<table border=\"1\" class=\"dataframe\">\n",
       "  <thead>\n",
       "    <tr style=\"text-align: right;\">\n",
       "      <th></th>\n",
       "      <th>minimum</th>\n",
       "      <th>maximum</th>\n",
       "    </tr>\n",
       "  </thead>\n",
       "  <tbody>\n",
       "    <tr>\n",
       "      <th>EX_succ_e</th>\n",
       "      <td>0.0</td>\n",
       "      <td>0.153922</td>\n",
       "    </tr>\n",
       "  </tbody>\n",
       "</table>\n",
       "</div>"
      ],
      "text/plain": [
       "           minimum   maximum\n",
       "EX_succ_e      0.0  0.153922"
      ]
     },
     "execution_count": 69,
     "metadata": {},
     "output_type": "execute_result"
    }
   ],
   "source": [
    "#check no succinate production\n",
    "flux_variability_analysis(model_copy2, 'EX_succ_e')"
   ]
  },
  {
   "cell_type": "markdown",
   "metadata": {},
   "source": [
    "## Anaerobic\n",
    "These fluxes were fit based on the data in figure 3. They are much more limited than the other fluxes. Also they measure the fluxes to all the main fermentation products, so this doesn't really mean the model should differ from the measured data.\n",
    "\n",
    "I will fix the oxygen rate to be low so we are sure there is no OxPhos activated (-0.5 mmol/gcdw/h)."
   ]
  },
  {
   "cell_type": "code",
   "execution_count": 3,
   "metadata": {},
   "outputs": [],
   "source": [
    "#set the glucose consumption to 5 mmol/gCDW/h\n",
    "model.reactions.EX_glc__D_e.bounds = (-5,1000)"
   ]
  },
  {
   "cell_type": "code",
   "execution_count": 4,
   "metadata": {},
   "outputs": [],
   "source": [
    "df_anaer = pd.read_csv('../databases/Tang 2009 fluxes-anaerobic.csv')"
   ]
  },
  {
   "cell_type": "code",
   "execution_count": 5,
   "metadata": {},
   "outputs": [],
   "source": [
    "model_copy = copy.deepcopy(model)"
   ]
  },
  {
   "cell_type": "code",
   "execution_count": 7,
   "metadata": {},
   "outputs": [],
   "source": [
    "#make anaerobic\n",
    "model_copy.reactions.EX_o2_e.bounds = (-0.01,0)"
   ]
  },
  {
   "cell_type": "code",
   "execution_count": 8,
   "metadata": {},
   "outputs": [],
   "source": [
    "#add metabolite\n",
    "model_copy.add_metabolites(Metabolite(id='glu__L_c_biomass'))"
   ]
  },
  {
   "cell_type": "code",
   "execution_count": 9,
   "metadata": {},
   "outputs": [],
   "source": [
    "model_copy.metabolites.glu__L_c_biomass.formula = model_copy.metabolites.glu__L_c.formula"
   ]
  },
  {
   "cell_type": "code",
   "execution_count": 10,
   "metadata": {},
   "outputs": [],
   "source": [
    "#add pulling reaction\n",
    "model_copy.add_reaction(Reaction(id='glu_biomass'))"
   ]
  },
  {
   "cell_type": "code",
   "execution_count": 11,
   "metadata": {},
   "outputs": [],
   "source": [
    "model_copy.reactions.glu_biomass.add_metabolites({\n",
    "    model_copy.metabolites.glu__L_c:-1,\n",
    "    model_copy.metabolites.glu__L_c_biomass:1\n",
    "})"
   ]
  },
  {
   "cell_type": "code",
   "execution_count": 12,
   "metadata": {},
   "outputs": [],
   "source": [
    "#change biomass consumption to the new metabolites\n",
    "model_copy.reactions.biomass.add_metabolites({\n",
    "    model_copy.metabolites.glu__L_c:0.322004464285714,\n",
    "    model_copy.metabolites.glu__L_c_biomass:-0.322004464285714\n",
    "})"
   ]
  },
  {
   "cell_type": "code",
   "execution_count": 13,
   "metadata": {
    "scrolled": true
   },
   "outputs": [
    {
     "data": {
      "text/html": [
       "\n",
       "        <table>\n",
       "            <tr>\n",
       "                <td><strong>Reaction identifier</strong></td><td>glu_sink</td>\n",
       "            </tr><tr>\n",
       "                <td><strong>Name</strong></td><td> sink</td>\n",
       "            </tr><tr>\n",
       "                <td><strong>Memory address</strong></td>\n",
       "                <td>0x02c3e0c7ba08</td>\n",
       "            </tr><tr>\n",
       "                <td><strong>Stoichiometry</strong></td>\n",
       "                <td>\n",
       "                    <p style='text-align:right'>glu__L_c_biomass <=> </p>\n",
       "                    <p style='text-align:right'> <=> </p>\n",
       "                </td>\n",
       "            </tr><tr>\n",
       "                <td><strong>GPR</strong></td><td></td>\n",
       "            </tr><tr>\n",
       "                <td><strong>Lower bound</strong></td><td>-1000.0</td>\n",
       "            </tr><tr>\n",
       "                <td><strong>Upper bound</strong></td><td>1000.0</td>\n",
       "            </tr>\n",
       "        </table>\n",
       "        "
      ],
      "text/plain": [
       "<Reaction glu_sink at 0x2c3e0c7ba08>"
      ]
     },
     "execution_count": 13,
     "metadata": {},
     "output_type": "execute_result"
    }
   ],
   "source": [
    "#also need to add the exchange reaction incase the flux doesn't match the defined aa composition in the biomass reaction\n",
    "#it would error otherwise.\n",
    "model_copy.add_boundary(model_copy.metabolites.glu__L_c_biomass,type = 'sink', reaction_id = 'glu_sink')"
   ]
  },
  {
   "cell_type": "code",
   "execution_count": 14,
   "metadata": {},
   "outputs": [
    {
     "name": "stdout",
     "output_type": "stream",
     "text": [
      "PGI 0.05334588870220029\n",
      "G6PDH2r 0.053089938358466676\n",
      "GAPD 0.05289780218293767\n",
      "PFL 0.046899310829507955\n",
      "PDH 0.046899310829507955\n",
      "PTAr 0.046899310829507816\n",
      "ACALD 0.04689931083077083\n",
      "ALCD2x 0.04689931082951051\n",
      "LDH_L 0.04398303247688881\n"
     ]
    }
   ],
   "source": [
    "for index, row in df_anaer.iterrows():\n",
    "    rct_id = row['model_id']\n",
    "    rct = model_copy.reactions.get_by_id(rct_id)\n",
    "    ub = row['UB']/20 #normalize to the 5 mmol glucose that is being supplied\n",
    "    lb = row['LB']/20 #normalize to the 5 mmol glucose that is being supplied\n",
    "    rct.bounds = (lb,ub)\n",
    "    pfba_solution = cobra.flux_analysis.pfba(model_copy)\n",
    "    print(rct_id,pfba_solution['biomass'])"
   ]
  },
  {
   "cell_type": "code",
   "execution_count": 15,
   "metadata": {
    "scrolled": true
   },
   "outputs": [
    {
     "data": {
      "text/plain": [
       "-0.01"
      ]
     },
     "execution_count": 15,
     "metadata": {},
     "output_type": "execute_result"
    }
   ],
   "source": [
    "pfba_solution = cobra.flux_analysis.pfba(model_copy)\n",
    "pfba_solution['EX_o2_e']"
   ]
  },
  {
   "cell_type": "code",
   "execution_count": 16,
   "metadata": {
    "scrolled": true
   },
   "outputs": [
    {
     "data": {
      "text/html": [
       "<div>\n",
       "<style scoped>\n",
       "    .dataframe tbody tr th:only-of-type {\n",
       "        vertical-align: middle;\n",
       "    }\n",
       "\n",
       "    .dataframe tbody tr th {\n",
       "        vertical-align: top;\n",
       "    }\n",
       "\n",
       "    .dataframe thead th {\n",
       "        text-align: right;\n",
       "    }\n",
       "</style>\n",
       "<table border=\"1\" class=\"dataframe\">\n",
       "  <thead>\n",
       "    <tr style=\"text-align: right;\">\n",
       "      <th></th>\n",
       "      <th>minimum</th>\n",
       "      <th>maximum</th>\n",
       "    </tr>\n",
       "  </thead>\n",
       "  <tbody>\n",
       "    <tr>\n",
       "      <th>EX_o2_e</th>\n",
       "      <td>-0.01</td>\n",
       "      <td>-0.01</td>\n",
       "    </tr>\n",
       "  </tbody>\n",
       "</table>\n",
       "</div>"
      ],
      "text/plain": [
       "         minimum  maximum\n",
       "EX_o2_e    -0.01    -0.01"
      ]
     },
     "execution_count": 16,
     "metadata": {},
     "output_type": "execute_result"
    }
   ],
   "source": [
    "flux_variability_analysis(model_copy, model_copy.reactions.EX_o2_e)"
   ]
  },
  {
   "cell_type": "code",
   "execution_count": 17,
   "metadata": {},
   "outputs": [
    {
     "data": {
      "text/plain": [
       "0.04398303247688881"
      ]
     },
     "execution_count": 17,
     "metadata": {},
     "output_type": "execute_result"
    }
   ],
   "source": [
    "pfba_solution['biomass']"
   ]
  },
  {
   "cell_type": "code",
   "execution_count": 20,
   "metadata": {},
   "outputs": [
    {
     "name": "stdout",
     "output_type": "stream",
     "text": [
      "growth rate: 0.04354320215212022\n",
      "             minimum   maximum\n",
      "EX_glc__D_e     -5.0 -4.949913\n",
      "             minimum   maximum\n",
      "EX_lac__L_e     3.85  4.280865\n",
      "            minimum  maximum\n",
      "EX_etoh_e  2.384568      2.6\n",
      "          minimum   maximum\n",
      "EX_ac_e  2.258283  2.613621\n",
      "           minimum   maximum\n",
      "EX_for_e  4.489245  4.936296\n",
      "           minimum   maximum\n",
      "glu_sink -0.014021  0.006176\n",
      "         minimum   maximum\n",
      "EX_o2_e    -0.01 -0.000642\n"
     ]
    }
   ],
   "source": [
    "with model_copy:\n",
    "    growth = 0.99*model_copy.optimize().objective_value\n",
    "    print('growth rate:',growth)\n",
    "    model_copy2 = copy.deepcopy(model_copy)\n",
    "    model_copy2.reactions.biomass.bounds = (growth,growth) #fix growth rate at 99% of max:\n",
    "    for rct in prod:\n",
    "        print(flux_variability_analysis(model_copy2, rct))"
   ]
  },
  {
   "cell_type": "code",
   "execution_count": 24,
   "metadata": {},
   "outputs": [
    {
     "data": {
      "text/html": [
       "<div>\n",
       "<style scoped>\n",
       "    .dataframe tbody tr th:only-of-type {\n",
       "        vertical-align: middle;\n",
       "    }\n",
       "\n",
       "    .dataframe tbody tr th {\n",
       "        vertical-align: top;\n",
       "    }\n",
       "\n",
       "    .dataframe thead th {\n",
       "        text-align: right;\n",
       "    }\n",
       "</style>\n",
       "<table border=\"1\" class=\"dataframe\">\n",
       "  <thead>\n",
       "    <tr style=\"text-align: right;\">\n",
       "      <th></th>\n",
       "      <th>minimum</th>\n",
       "      <th>maximum</th>\n",
       "    </tr>\n",
       "  </thead>\n",
       "  <tbody>\n",
       "    <tr>\n",
       "      <th>EX_succ_e</th>\n",
       "      <td>0.254079</td>\n",
       "      <td>0.713852</td>\n",
       "    </tr>\n",
       "  </tbody>\n",
       "</table>\n",
       "</div>"
      ],
      "text/plain": [
       "            minimum   maximum\n",
       "EX_succ_e  0.254079  0.713852"
      ]
     },
     "execution_count": 24,
     "metadata": {},
     "output_type": "execute_result"
    }
   ],
   "source": [
    "flux_variability_analysis(model_copy2, 'EX_succ_e')"
   ]
  },
  {
   "cell_type": "code",
   "execution_count": null,
   "metadata": {},
   "outputs": [],
   "source": []
  },
  {
   "cell_type": "code",
   "execution_count": null,
   "metadata": {},
   "outputs": [],
   "source": []
  },
  {
   "cell_type": "code",
   "execution_count": null,
   "metadata": {},
   "outputs": [],
   "source": []
  },
  {
   "cell_type": "code",
   "execution_count": null,
   "metadata": {},
   "outputs": [],
   "source": []
  },
  {
   "cell_type": "markdown",
   "metadata": {},
   "source": [
    "Note:\n",
    "- for the micro-aerobic conversion of pyr to acetyl-coa, we need to distinguish PDH from PFL.. for aerobic it is clear it is PDH. For microaerobic, it is hard to discern the exact ratio that one could observe, so i think we should set the bounds to allow the rang of either reaction within the measurement made and from there estimate the ratio of activity between PDH and PFL. \n",
    "\n"
   ]
  },
  {
   "cell_type": "markdown",
   "metadata": {},
   "source": [
    "\n",
    "- maybe i can plot the measured vs simulated fluxes/exchanges or so?\n"
   ]
  },
  {
   "cell_type": "code",
   "execution_count": 300,
   "metadata": {},
   "outputs": [],
   "source": [
    "solution = model_copy.optimize()"
   ]
  },
  {
   "cell_type": "code",
   "execution_count": 301,
   "metadata": {
    "scrolled": false
   },
   "outputs": [
    {
     "data": {
      "application/vnd.jupyter.widget-view+json": {
       "model_id": "8b881d7bf2554b348fe68f98f9198e02",
       "version_major": 2,
       "version_minor": 0
      },
      "text/plain": [
       "Builder(reaction_data={'IDPh': 3.452796984101684, 'CAT': 3.699779753750112e-05, 'PDHam1hi': 0.0, 'HYDA': 0.0, …"
      ]
     },
     "metadata": {},
     "output_type": "display_data"
    }
   ],
   "source": [
    "Builder(model = model_copy, map_json = '../map/g-thermo-map.json', reaction_data = solution.fluxes.to_dict())"
   ]
  },
  {
   "cell_type": "code",
   "execution_count": null,
   "metadata": {},
   "outputs": [],
   "source": []
  }
 ],
 "metadata": {
  "kernelspec": {
   "display_name": "Python 3",
   "language": "python",
   "name": "python3"
  },
  "language_info": {
   "codemirror_mode": {
    "name": "ipython",
    "version": 3
   },
   "file_extension": ".py",
   "mimetype": "text/x-python",
   "name": "python",
   "nbconvert_exporter": "python",
   "pygments_lexer": "ipython3",
   "version": "3.7.7"
  }
 },
 "nbformat": 4,
 "nbformat_minor": 4
}
