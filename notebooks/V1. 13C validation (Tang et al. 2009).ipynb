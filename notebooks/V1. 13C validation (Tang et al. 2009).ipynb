{
 "cells": [
  {
   "cell_type": "markdown",
   "metadata": {},
   "source": [
    "# Introduction\n",
    "In this notebook, I will try to validate the model with the 13C data presented in Tang et al. 2009 (DOI 10.1002/bit.22181).\n",
    "\n",
    "To do this, I will fix the internal fluxes to match that measured by the 13C data and from there see how much the exchange fluxes match the measured data. \n",
    "\n",
    "The paper has data about aerobic and microaerobic 13C data. and also have some data about the mixed acid fermentation. Table 2 will provide most of the experimental data to validate against? But these are yields.. I'll just have to make do.\n",
    "\n",
    "Also, oxygen consumption rates aren't really defined.. They are more just defined based on the observed growth rate? so I will need to find a way around this.\n",
    "\n",
    "In the paper, the glucose uptake rate is often set to 5 mmol h-1 g-1 biomass. So I will do the same here to make the values more comparable.\n",
    "\n",
    "N.B.: this is a bit of a different strain! it is the M10EXG strain. "
   ]
  },
  {
   "cell_type": "markdown",
   "metadata": {},
   "source": [
    "To compare the calculated 13C fluxes with our model, I will first summarize them in a data frame. For each reaction defined by the C13-model, i will write the flux (relative to the 100 units shown) and try to map the corresponding flux from our model that it should be set to. "
   ]
  },
  {
   "cell_type": "code",
   "execution_count": 133,
   "metadata": {},
   "outputs": [],
   "source": [
    "import cameo\n",
    "import pandas as pd\n",
    "import cobra.io\n",
    "from escher import Builder\n",
    "import copy\n",
    "from cobra.flux_analysis import flux_variability_analysis\n",
    "from cobra import Metabolite, Reaction"
   ]
  },
  {
   "cell_type": "code",
   "execution_count": 134,
   "metadata": {},
   "outputs": [],
   "source": [
    "model = cobra.io.read_sbml_model('../model/g-thermo.xml')"
   ]
  },
  {
   "cell_type": "markdown",
   "metadata": {},
   "source": [
    "# Aerobic condition\n",
    "I will first look to see if we can validate the aerobic condition that is tested. I will import the data frame from the file made in the 'databases' folder of the repo. Here i coupled the reactions and fluxes shown in the Tang paper to our model."
   ]
  },
  {
   "cell_type": "code",
   "execution_count": 3,
   "metadata": {},
   "outputs": [],
   "source": [
    "#set the glucose consumption to 5 mmol/gCDW/h\n",
    "model.reactions.EX_glc__D_e.bounds = (-5,1000)"
   ]
  },
  {
   "cell_type": "code",
   "execution_count": 4,
   "metadata": {
    "scrolled": false
   },
   "outputs": [
    {
     "data": {
      "text/plain": [
       "0.32861628193475195"
      ]
     },
     "execution_count": 4,
     "metadata": {},
     "output_type": "execute_result"
    }
   ],
   "source": [
    "model.optimize().objective_value"
   ]
  },
  {
   "cell_type": "markdown",
   "metadata": {},
   "source": [
    "Now I need to write a script which will fix the fluxes as defined here and then will see if optimization is possible.\n",
    "Then I will also check that the predicted products are and if this matches the experimental data.\n",
    "\n",
    "When I do this with the exact fluxes determined, I get an infeasible solution. This is because for many of the reactions the standard deviation isn't given, allowing very little flexibility in the model. For the reactions with standard deviation, we will include them as flexibility in the bounds as: mean +-2xstDev.\n",
    "For reactions without any standard deviation, we will add an error of 10%. This isn't ideal but may be necessary."
   ]
  },
  {
   "cell_type": "code",
   "execution_count": 191,
   "metadata": {},
   "outputs": [],
   "source": [
    "df_aer = pd.read_csv('../databases/Tang 2009 fluxes-aerobic.csv')"
   ]
  },
  {
   "cell_type": "code",
   "execution_count": 192,
   "metadata": {},
   "outputs": [],
   "source": [
    "#note: aerobic is the fluxes from the paper, without GLUSy (i.e. the flux to glutamate in the biomass)"
   ]
  },
  {
   "cell_type": "code",
   "execution_count": 193,
   "metadata": {},
   "outputs": [],
   "source": [
    "del df_aer['N.B.: 0 means no info available']"
   ]
  },
  {
   "cell_type": "code",
   "execution_count": 194,
   "metadata": {
    "scrolled": true
   },
   "outputs": [
    {
     "name": "stdout",
     "output_type": "stream",
     "text": [
      "GLC__Dtpts 0.32861626365989793\n",
      "GALUi 0.3286162636599081\n",
      "G6PDH2r 0.3269833815743214\n",
      "PRPPS 0.2902505656145208\n",
      "TKT2 0.2902505656145299\n",
      "TALA 0.2902505656145228\n",
      "TKT1 0.2902505656144517\n",
      "DDPA 0.29025056561478846\n",
      "PGI 0.29025056561478857\n",
      "FBA 0.29025056554757445\n",
      "PGK 0.2902505656145884\n",
      "ENO 0.2902505656145466\n",
      "PGCD 0.29025056561456464\n",
      "GHMT 0.29025056561464996\n"
     ]
    },
    {
     "ename": "Infeasible",
     "evalue": "None (infeasible)",
     "output_type": "error",
     "traceback": [
      "\u001b[1;31m---------------------------------------------------------------------------\u001b[0m",
      "\u001b[1;31mInfeasible\u001b[0m                                Traceback (most recent call last)",
      "\u001b[1;32m<ipython-input-194-b5925e011637>\u001b[0m in \u001b[0;36m<module>\u001b[1;34m\u001b[0m\n\u001b[0;32m      6\u001b[0m     \u001b[0mlb\u001b[0m \u001b[1;33m=\u001b[0m \u001b[0mrow\u001b[0m\u001b[1;33m[\u001b[0m\u001b[1;34m'LB'\u001b[0m\u001b[1;33m]\u001b[0m\u001b[1;33m/\u001b[0m\u001b[1;36m20\u001b[0m \u001b[1;31m#normalize to the 5 mmol glucose that is being supplied\u001b[0m\u001b[1;33m\u001b[0m\u001b[1;33m\u001b[0m\u001b[0m\n\u001b[0;32m      7\u001b[0m     \u001b[0mrct\u001b[0m\u001b[1;33m.\u001b[0m\u001b[0mbounds\u001b[0m \u001b[1;33m=\u001b[0m \u001b[1;33m(\u001b[0m\u001b[0mlb\u001b[0m\u001b[1;33m,\u001b[0m\u001b[0mub\u001b[0m\u001b[1;33m)\u001b[0m\u001b[1;33m\u001b[0m\u001b[1;33m\u001b[0m\u001b[0m\n\u001b[1;32m----> 8\u001b[1;33m     \u001b[0mpfba_solution\u001b[0m \u001b[1;33m=\u001b[0m \u001b[0mcobra\u001b[0m\u001b[1;33m.\u001b[0m\u001b[0mflux_analysis\u001b[0m\u001b[1;33m.\u001b[0m\u001b[0mpfba\u001b[0m\u001b[1;33m(\u001b[0m\u001b[0mmodel_copy\u001b[0m\u001b[1;33m)\u001b[0m\u001b[1;33m\u001b[0m\u001b[1;33m\u001b[0m\u001b[0m\n\u001b[0m\u001b[0;32m      9\u001b[0m     \u001b[0mprint\u001b[0m\u001b[1;33m(\u001b[0m\u001b[0mrct_id\u001b[0m\u001b[1;33m,\u001b[0m\u001b[0mpfba_solution\u001b[0m\u001b[1;33m[\u001b[0m\u001b[1;34m'biomass'\u001b[0m\u001b[1;33m]\u001b[0m\u001b[1;33m)\u001b[0m\u001b[1;33m\u001b[0m\u001b[1;33m\u001b[0m\u001b[0m\n",
      "\u001b[1;32m~\\AppData\\Local\\Continuum\\anaconda3\\envs\\g-thermo\\lib\\site-packages\\cobra\\flux_analysis\\parsimonious.py\u001b[0m in \u001b[0;36mpfba\u001b[1;34m(model, fraction_of_optimum, objective, reactions)\u001b[0m\n\u001b[0;32m     66\u001b[0m     \u001b[1;32mwith\u001b[0m \u001b[0mmodel\u001b[0m \u001b[1;32mas\u001b[0m \u001b[0mm\u001b[0m\u001b[1;33m:\u001b[0m\u001b[1;33m\u001b[0m\u001b[1;33m\u001b[0m\u001b[0m\n\u001b[0;32m     67\u001b[0m         add_pfba(m, objective=objective,\n\u001b[1;32m---> 68\u001b[1;33m                  fraction_of_optimum=fraction_of_optimum)\n\u001b[0m\u001b[0;32m     69\u001b[0m         \u001b[0mm\u001b[0m\u001b[1;33m.\u001b[0m\u001b[0mslim_optimize\u001b[0m\u001b[1;33m(\u001b[0m\u001b[0merror_value\u001b[0m\u001b[1;33m=\u001b[0m\u001b[1;32mNone\u001b[0m\u001b[1;33m)\u001b[0m\u001b[1;33m\u001b[0m\u001b[1;33m\u001b[0m\u001b[0m\n\u001b[0;32m     70\u001b[0m         \u001b[0msolution\u001b[0m \u001b[1;33m=\u001b[0m \u001b[0mget_solution\u001b[0m\u001b[1;33m(\u001b[0m\u001b[0mm\u001b[0m\u001b[1;33m,\u001b[0m \u001b[0mreactions\u001b[0m\u001b[1;33m=\u001b[0m\u001b[0mreactions\u001b[0m\u001b[1;33m)\u001b[0m\u001b[1;33m\u001b[0m\u001b[1;33m\u001b[0m\u001b[0m\n",
      "\u001b[1;32m~\\AppData\\Local\\Continuum\\anaconda3\\envs\\g-thermo\\lib\\site-packages\\cobra\\flux_analysis\\parsimonious.py\u001b[0m in \u001b[0;36madd_pfba\u001b[1;34m(model, objective, fraction_of_optimum)\u001b[0m\n\u001b[0;32m     97\u001b[0m     \u001b[1;32mif\u001b[0m \u001b[0mmodel\u001b[0m\u001b[1;33m.\u001b[0m\u001b[0msolver\u001b[0m\u001b[1;33m.\u001b[0m\u001b[0mobjective\u001b[0m\u001b[1;33m.\u001b[0m\u001b[0mname\u001b[0m \u001b[1;33m==\u001b[0m \u001b[1;34m'_pfba_objective'\u001b[0m\u001b[1;33m:\u001b[0m\u001b[1;33m\u001b[0m\u001b[1;33m\u001b[0m\u001b[0m\n\u001b[0;32m     98\u001b[0m         \u001b[1;32mraise\u001b[0m \u001b[0mValueError\u001b[0m\u001b[1;33m(\u001b[0m\u001b[1;34m'The model already has a pFBA objective.'\u001b[0m\u001b[1;33m)\u001b[0m\u001b[1;33m\u001b[0m\u001b[1;33m\u001b[0m\u001b[0m\n\u001b[1;32m---> 99\u001b[1;33m     \u001b[0msutil\u001b[0m\u001b[1;33m.\u001b[0m\u001b[0mfix_objective_as_constraint\u001b[0m\u001b[1;33m(\u001b[0m\u001b[0mmodel\u001b[0m\u001b[1;33m,\u001b[0m \u001b[0mfraction\u001b[0m\u001b[1;33m=\u001b[0m\u001b[0mfraction_of_optimum\u001b[0m\u001b[1;33m)\u001b[0m\u001b[1;33m\u001b[0m\u001b[1;33m\u001b[0m\u001b[0m\n\u001b[0m\u001b[0;32m    100\u001b[0m     reaction_variables = ((rxn.forward_variable, rxn.reverse_variable)\n\u001b[0;32m    101\u001b[0m                           for rxn in model.reactions)\n",
      "\u001b[1;32m~\\AppData\\Local\\Continuum\\anaconda3\\envs\\g-thermo\\lib\\site-packages\\cobra\\util\\solver.py\u001b[0m in \u001b[0;36mfix_objective_as_constraint\u001b[1;34m(model, fraction, bound, name)\u001b[0m\n\u001b[0;32m    397\u001b[0m         \u001b[0mmodel\u001b[0m\u001b[1;33m.\u001b[0m\u001b[0msolver\u001b[0m\u001b[1;33m.\u001b[0m\u001b[0mremove\u001b[0m\u001b[1;33m(\u001b[0m\u001b[0mfix_objective_name\u001b[0m\u001b[1;33m)\u001b[0m\u001b[1;33m\u001b[0m\u001b[1;33m\u001b[0m\u001b[0m\n\u001b[0;32m    398\u001b[0m     \u001b[1;32mif\u001b[0m \u001b[0mbound\u001b[0m \u001b[1;32mis\u001b[0m \u001b[1;32mNone\u001b[0m\u001b[1;33m:\u001b[0m\u001b[1;33m\u001b[0m\u001b[1;33m\u001b[0m\u001b[0m\n\u001b[1;32m--> 399\u001b[1;33m         \u001b[0mbound\u001b[0m \u001b[1;33m=\u001b[0m \u001b[0mmodel\u001b[0m\u001b[1;33m.\u001b[0m\u001b[0mslim_optimize\u001b[0m\u001b[1;33m(\u001b[0m\u001b[0merror_value\u001b[0m\u001b[1;33m=\u001b[0m\u001b[1;32mNone\u001b[0m\u001b[1;33m)\u001b[0m \u001b[1;33m*\u001b[0m \u001b[0mfraction\u001b[0m\u001b[1;33m\u001b[0m\u001b[1;33m\u001b[0m\u001b[0m\n\u001b[0m\u001b[0;32m    400\u001b[0m     \u001b[1;32mif\u001b[0m \u001b[0mmodel\u001b[0m\u001b[1;33m.\u001b[0m\u001b[0mobjective\u001b[0m\u001b[1;33m.\u001b[0m\u001b[0mdirection\u001b[0m \u001b[1;33m==\u001b[0m \u001b[1;34m'max'\u001b[0m\u001b[1;33m:\u001b[0m\u001b[1;33m\u001b[0m\u001b[1;33m\u001b[0m\u001b[0m\n\u001b[0;32m    401\u001b[0m         \u001b[0mub\u001b[0m\u001b[1;33m,\u001b[0m \u001b[0mlb\u001b[0m \u001b[1;33m=\u001b[0m \u001b[1;32mNone\u001b[0m\u001b[1;33m,\u001b[0m \u001b[0mbound\u001b[0m\u001b[1;33m\u001b[0m\u001b[1;33m\u001b[0m\u001b[0m\n",
      "\u001b[1;32m~\\AppData\\Local\\Continuum\\anaconda3\\envs\\g-thermo\\lib\\site-packages\\cobra\\core\\model.py\u001b[0m in \u001b[0;36mslim_optimize\u001b[1;34m(self, error_value, message)\u001b[0m\n\u001b[0;32m   1053\u001b[0m             \u001b[1;32mreturn\u001b[0m \u001b[0merror_value\u001b[0m\u001b[1;33m\u001b[0m\u001b[1;33m\u001b[0m\u001b[0m\n\u001b[0;32m   1054\u001b[0m         \u001b[1;32melse\u001b[0m\u001b[1;33m:\u001b[0m\u001b[1;33m\u001b[0m\u001b[1;33m\u001b[0m\u001b[0m\n\u001b[1;32m-> 1055\u001b[1;33m             \u001b[0massert_optimal\u001b[0m\u001b[1;33m(\u001b[0m\u001b[0mself\u001b[0m\u001b[1;33m,\u001b[0m \u001b[0mmessage\u001b[0m\u001b[1;33m)\u001b[0m\u001b[1;33m\u001b[0m\u001b[1;33m\u001b[0m\u001b[0m\n\u001b[0m\u001b[0;32m   1056\u001b[0m \u001b[1;33m\u001b[0m\u001b[0m\n\u001b[0;32m   1057\u001b[0m     \u001b[1;32mdef\u001b[0m \u001b[0moptimize\u001b[0m\u001b[1;33m(\u001b[0m\u001b[0mself\u001b[0m\u001b[1;33m,\u001b[0m \u001b[0mobjective_sense\u001b[0m\u001b[1;33m=\u001b[0m\u001b[1;32mNone\u001b[0m\u001b[1;33m,\u001b[0m \u001b[0mraise_error\u001b[0m\u001b[1;33m=\u001b[0m\u001b[1;32mFalse\u001b[0m\u001b[1;33m)\u001b[0m\u001b[1;33m:\u001b[0m\u001b[1;33m\u001b[0m\u001b[1;33m\u001b[0m\u001b[0m\n",
      "\u001b[1;32m~\\AppData\\Local\\Continuum\\anaconda3\\envs\\g-thermo\\lib\\site-packages\\cobra\\util\\solver.py\u001b[0m in \u001b[0;36massert_optimal\u001b[1;34m(model, message)\u001b[0m\n\u001b[0;32m    439\u001b[0m         exception_cls = OPTLANG_TO_EXCEPTIONS_DICT.get(\n\u001b[0;32m    440\u001b[0m             status, OptimizationError)\n\u001b[1;32m--> 441\u001b[1;33m         \u001b[1;32mraise\u001b[0m \u001b[0mexception_cls\u001b[0m\u001b[1;33m(\u001b[0m\u001b[1;34m\"{} ({})\"\u001b[0m\u001b[1;33m.\u001b[0m\u001b[0mformat\u001b[0m\u001b[1;33m(\u001b[0m\u001b[0mmessage\u001b[0m\u001b[1;33m,\u001b[0m \u001b[0mstatus\u001b[0m\u001b[1;33m)\u001b[0m\u001b[1;33m)\u001b[0m\u001b[1;33m\u001b[0m\u001b[1;33m\u001b[0m\u001b[0m\n\u001b[0m\u001b[0;32m    442\u001b[0m \u001b[1;33m\u001b[0m\u001b[0m\n\u001b[0;32m    443\u001b[0m \u001b[1;33m\u001b[0m\u001b[0m\n",
      "\u001b[1;31mInfeasible\u001b[0m: None (infeasible)"
     ]
    }
   ],
   "source": [
    "model_copy = copy.deepcopy(model)\n",
    "for index, row in df_aer.iterrows():\n",
    "    rct_id = row['model_id']\n",
    "    rct = model_copy.reactions.get_by_id(rct_id)\n",
    "    ub = row['UB']/20 #normalize to the 5 mmol glucose that is being supplied\n",
    "    lb = row['LB']/20 #normalize to the 5 mmol glucose that is being supplied\n",
    "    rct.bounds = (lb,ub)\n",
    "    pfba_solution = cobra.flux_analysis.pfba(model_copy)\n",
    "    print(rct_id,pfba_solution['biomass'])\n"
   ]
  },
  {
   "cell_type": "markdown",
   "metadata": {},
   "source": [
    "We can see that the solver errors after the GHMT reaction. So I will fix all the other reactions and then see what is going on in metabolism to explain where this issue comes from.\n",
    "\n"
   ]
  },
  {
   "cell_type": "code",
   "execution_count": 233,
   "metadata": {},
   "outputs": [],
   "source": [
    "model.reactions.GALUi.bounds = (0.045,0.055)\n",
    "model.reactions.G6PDH2r.bounds = (-1.7,-1.3)\n",
    "model.reactions.PRPPS.bounds = (0.18,0.22)\n",
    "model.reactions.TKT2.bounds = (-0.44, -0.36)\n",
    "model.reactions.TALA.bounds = (0.405,0.495)\n",
    "model.reactions.TKT1.bounds = (-0.495,-0.405)\n",
    "model.reactions.DDPA.bounds = (0.09,0.11)\n",
    "model.reactions.PGI.bounds = (-3.795,-3.105)\n",
    "model.reactions.FBA.bounds = (3.87,4.73)\n",
    "model.reactions.PGK.bounds = (-9.35,-8.55)\n",
    "model.reactions.ENO.bounds = (7.605,9.295)\n",
    "model.reactions.PGCD.bounds = (0.45,0.55)\n",
    "model.reactions.GHMT.bounds = (0.315,0.385)\n"
   ]
  },
  {
   "cell_type": "code",
   "execution_count": 234,
   "metadata": {},
   "outputs": [],
   "source": [
    "model.reactions.PDH.bounds = (7.515,9.185)\n",
    "model.reactions.PFL.bounds = (0,0)"
   ]
  },
  {
   "cell_type": "code",
   "execution_count": 235,
   "metadata": {},
   "outputs": [],
   "source": [
    "model.reactions.LDH_L.bounds = (-0.44,-0.36)\n",
    "model.reactions.ALCD2x.bounds = (0,0)\n",
    "model.reactions.ASPTA.bounds = (-0.44,-0.36)\n",
    "model.reactions.CS.bounds = (-3.5,-2.9)\n",
    "model.reactions.ICDHyr.bounds = (1.8,2.2)\n",
    "model.reactions.ICL.bounds = (0.6,1.8)\n",
    "model.reactions.SUCOAS.bounds = (-2.2,-1.2)\n",
    "model.reactions.SUCDi.bounds = (2.61,3.19)\n",
    "model.reactions.FUM.bounds = (2.61,3.19)\n",
    "model.reactions.MDH.bounds = (-4.51,-3.69)\n"
   ]
  },
  {
   "cell_type": "code",
   "execution_count": 236,
   "metadata": {
    "scrolled": true
   },
   "outputs": [
    {
     "data": {
      "text/plain": [
       "0.1796160053852448"
      ]
     },
     "execution_count": 236,
     "metadata": {},
     "output_type": "execute_result"
    }
   ],
   "source": [
    "pfba_solution = cobra.flux_analysis.pfba(model)\n",
    "pfba_solution['biomass']"
   ]
  },
  {
   "cell_type": "code",
   "execution_count": 60,
   "metadata": {},
   "outputs": [],
   "source": [
    "aa =['EX_his__L_e', 'EX_lys__L_e', 'EX_met__L_e', 'EX_phe__L_e', 'EX_thr__L_e', 'EX_trp__L_e', 'EX_asp__L_e', 'EX_asn__L_e', 'EX_ala__L_e', 'EX_arg__L_e','EX_cys__L_e', 'EX_gln__L_e', 'EX_glu__L_e', 'EX_gly_e', 'EX_pro__L_e','EX_ser__L_e', 'EX_tyr__L_e','EX_ile__L_e', 'EX_leu__L_e','EX_val__L_e']"
   ]
  },
  {
   "cell_type": "code",
   "execution_count": 238,
   "metadata": {},
   "outputs": [
    {
     "name": "stdout",
     "output_type": "stream",
     "text": [
      "EX_phe__L_e 0.026745818132085496\n",
      "EX_pro__L_e 0.04599100831919913\n"
     ]
    }
   ],
   "source": [
    "#Are we producing any amino acids???\n",
    "for acid in aa:\n",
    "    if pfba_solution[acid] > 0:\n",
    "        print(acid,pfba_solution[acid])\n",
    "    else: continue\n"
   ]
  },
  {
   "cell_type": "markdown",
   "metadata": {},
   "source": [
    "So, we are producing some proline and phenylalanine, but it is not so much so I think it is oke for now.\n",
    "\n",
    "In this setting I've fit all fluxes except the PSCVT, PPCK and PC reactions. (And GLUSy and PTAr, as we decided).\n",
    "Now I need to figure out what the cause is of why I can't fix these fluxes?\n",
    "\n",
    "First: what are the fluxes in the best fit when all other fluxes are fit?"
   ]
  },
  {
   "cell_type": "code",
   "execution_count": 239,
   "metadata": {},
   "outputs": [
    {
     "name": "stdout",
     "output_type": "stream",
     "text": [
      "PSCVT 0.09\n",
      "PPCK 0.0\n",
      "PC 0.0\n"
     ]
    }
   ],
   "source": [
    "print('PSCVT',pfba_solution['PSCVT'])\n",
    "print('PPCK',pfba_solution['PPCK'])\n",
    "print('PC',pfba_solution['PC'])\n"
   ]
  },
  {
   "cell_type": "code",
   "execution_count": 240,
   "metadata": {},
   "outputs": [],
   "source": [
    "model.reactions.PC.bounds = (0,5.3)\n",
    "model.reactions.PPCK.bounds = (0,6.5)"
   ]
  },
  {
   "cell_type": "markdown",
   "metadata": {},
   "source": [
    "So the only flux that I can't fix is that of PSCVT, which matches the reaction that produces phenylalanine. Maybe it should be fit to a different reaction in the model? \n",
    "\n",
    "It was fit to the PSCVT, which is the first brance to the shikimate pathway. Maybe I should fix it to a different reaction further downstream? When it is fit to PHETA1 it can be solved... this is unexpected but it does seem to work."
   ]
  },
  {
   "cell_type": "code",
   "execution_count": 241,
   "metadata": {},
   "outputs": [],
   "source": [
    "model.reactions.PHETA1.bounds = (-0.22,-0.18)"
   ]
  },
  {
   "cell_type": "code",
   "execution_count": 242,
   "metadata": {},
   "outputs": [
    {
     "data": {
      "text/plain": [
       "0.17961600538522435"
      ]
     },
     "execution_count": 242,
     "metadata": {},
     "output_type": "execute_result"
    }
   ],
   "source": [
    "pfba_solution = cobra.flux_analysis.pfba(model)\n",
    "pfba_solution['biomass']"
   ]
  },
  {
   "cell_type": "code",
   "execution_count": 243,
   "metadata": {
    "scrolled": true
   },
   "outputs": [
    {
     "name": "stdout",
     "output_type": "stream",
     "text": [
      "EX_phe__L_e 0.026745818132092675\n",
      "EX_pro__L_e 0.045991008319333074\n"
     ]
    }
   ],
   "source": [
    "for acid in aa:\n",
    "    if pfba_solution[acid] > 0:\n",
    "        print(acid,pfba_solution[acid])\n",
    "    else: continue"
   ]
  },
  {
   "cell_type": "markdown",
   "metadata": {},
   "source": [
    "When the two changes above are made in the table, it should solve the issue."
   ]
  },
  {
   "cell_type": "code",
   "execution_count": 135,
   "metadata": {},
   "outputs": [],
   "source": [
    "df_aer = pd.read_csv('../databases/Tang 2009 fluxes-aerobic.csv')"
   ]
  },
  {
   "cell_type": "markdown",
   "metadata": {},
   "source": [
    "To be able to fit the glutamate being pulled into biomass, we need to add a reaction to the model. Because the GLUSy reaction that forms glutamate is also used in the formation of glutamine, so fixing that would be incorrect (and infeasible). \n",
    "\n",
    "To do so, I will add a new metabolite that can pull a specific amount from the glutamate pool, and from there go into biomass."
   ]
  },
  {
   "cell_type": "code",
   "execution_count": 136,
   "metadata": {},
   "outputs": [],
   "source": [
    "model_copy = copy.deepcopy(model)"
   ]
  },
  {
   "cell_type": "code",
   "execution_count": 137,
   "metadata": {},
   "outputs": [],
   "source": [
    "#add metabolite\n",
    "model_copy.add_metabolites(Metabolite(id='glu__L_c_biomass'))"
   ]
  },
  {
   "cell_type": "code",
   "execution_count": 138,
   "metadata": {},
   "outputs": [],
   "source": [
    "model_copy.metabolites.glu__L_c_biomass.formula = model_copy.metabolites.glu__L_c.formula"
   ]
  },
  {
   "cell_type": "code",
   "execution_count": 139,
   "metadata": {},
   "outputs": [],
   "source": [
    "#add pulling reaction\n",
    "model_copy.add_reaction(Reaction(id='glu_biomass'))"
   ]
  },
  {
   "cell_type": "code",
   "execution_count": 140,
   "metadata": {},
   "outputs": [],
   "source": [
    "model_copy.reactions.glu_biomass.add_metabolites({\n",
    "    model_copy.metabolites.glu__L_c:-1,\n",
    "    model_copy.metabolites.glu__L_c_biomass:1\n",
    "})"
   ]
  },
  {
   "cell_type": "code",
   "execution_count": 141,
   "metadata": {},
   "outputs": [],
   "source": [
    "#change biomass consumption to the new metabolites\n",
    "model_copy.reactions.biomass.add_metabolites({\n",
    "    model_copy.metabolites.glu__L_c:0.322004464285714,\n",
    "    model_copy.metabolites.glu__L_c_biomass:-0.322004464285714\n",
    "})"
   ]
  },
  {
   "cell_type": "code",
   "execution_count": 142,
   "metadata": {
    "scrolled": true
   },
   "outputs": [
    {
     "data": {
      "text/html": [
       "\n",
       "        <table>\n",
       "            <tr>\n",
       "                <td><strong>Reaction identifier</strong></td><td>glu_sink</td>\n",
       "            </tr><tr>\n",
       "                <td><strong>Name</strong></td><td> sink</td>\n",
       "            </tr><tr>\n",
       "                <td><strong>Memory address</strong></td>\n",
       "                <td>0x028515ab0108</td>\n",
       "            </tr><tr>\n",
       "                <td><strong>Stoichiometry</strong></td>\n",
       "                <td>\n",
       "                    <p style='text-align:right'>glu__L_c_biomass <=> </p>\n",
       "                    <p style='text-align:right'> <=> </p>\n",
       "                </td>\n",
       "            </tr><tr>\n",
       "                <td><strong>GPR</strong></td><td></td>\n",
       "            </tr><tr>\n",
       "                <td><strong>Lower bound</strong></td><td>-1000.0</td>\n",
       "            </tr><tr>\n",
       "                <td><strong>Upper bound</strong></td><td>1000.0</td>\n",
       "            </tr>\n",
       "        </table>\n",
       "        "
      ],
      "text/plain": [
       "<Reaction glu_sink at 0x28515ab0108>"
      ]
     },
     "execution_count": 142,
     "metadata": {},
     "output_type": "execute_result"
    }
   ],
   "source": [
    "#also need to add the exchange reaction incase the flux doesn't match the defined aa composition in the biomass reaction\n",
    "#it would error otherwise.\n",
    "model_copy.add_boundary(model_copy.metabolites.glu__L_c_biomass,type = 'sink', reaction_id = 'glu_sink')"
   ]
  },
  {
   "cell_type": "code",
   "execution_count": 143,
   "metadata": {
    "scrolled": true
   },
   "outputs": [
    {
     "name": "stdout",
     "output_type": "stream",
     "text": [
      "GLC__Dtpts 0.6645612560348155\n",
      "GALUi 0.6645612560348276\n",
      "G6PDH2r 0.6628986507031949\n",
      "PRPPS 0.2902505656145846\n",
      "TKT2 0.29025056561458296\n",
      "TALA 0.2902505656145725\n",
      "TKT1 0.29025056561455553\n",
      "PHETA1 0.29025056561450047\n",
      "PGI 0.2902505656145693\n",
      "FBA 0.290250565614613\n",
      "PGK 0.29025056561458085\n",
      "ENO 0.2902505656146166\n",
      "PGCD 0.2902505656146604\n",
      "GHMT 0.2902505656145413\n",
      "PPCK 0.2902505656145413\n",
      "PC 0.2902505656145413\n",
      "PDH 0.2902505656145147\n",
      "PFL 0.29025056561451174\n",
      "LDH_L 0.29025056561454715\n",
      "ALCD2x 0.2902505656146235\n",
      "ASPTA 0.17961600538523312\n",
      "CS 0.17961600543260142\n",
      "ICDHyr 0.1796160053852298\n",
      "ICL 0.17961600538521627\n",
      "SUCOAS 0.17961600538523062\n",
      "SUCDi 0.17961600538522118\n",
      "FUM 0.17961600538523945\n",
      "MDH 0.1796160053852237\n",
      "PTAr 0.17961600538520706\n",
      "glu_biomass 0.17961600538518965\n"
     ]
    }
   ],
   "source": [
    "for index, row in df_aer.iterrows():\n",
    "    rct_id = row['model_id']\n",
    "    rct = model_copy.reactions.get_by_id(rct_id)\n",
    "    ub = row['UB']/20 #normalize to the 5 mmol glucose that is being supplied\n",
    "    lb = row['LB']/20 #normalize to the 5 mmol glucose that is being supplied\n",
    "    rct.bounds = (lb,ub)\n",
    "    pfba_solution = cobra.flux_analysis.pfba(model_copy)\n",
    "    print(rct_id,pfba_solution['biomass'])\n"
   ]
  },
  {
   "cell_type": "markdown",
   "metadata": {},
   "source": [
    "Now to check which amino acids are being made in overflow from the defined fluxes"
   ]
  },
  {
   "cell_type": "code",
   "execution_count": 144,
   "metadata": {},
   "outputs": [
    {
     "data": {
      "text/plain": [
       "0.17961600538518965"
      ]
     },
     "execution_count": 144,
     "metadata": {},
     "output_type": "execute_result"
    }
   ],
   "source": [
    "pfba_solution = cobra.flux_analysis.pfba(model_copy)\n",
    "pfba_solution['biomass']"
   ]
  },
  {
   "cell_type": "code",
   "execution_count": 145,
   "metadata": {
    "scrolled": true
   },
   "outputs": [],
   "source": [
    "for acid in aa:\n",
    "    if pfba_solution[acid] > 0:\n",
    "        print(acid,pfba_solution[acid])\n",
    "    else: continue"
   ]
  },
  {
   "cell_type": "markdown",
   "metadata": {},
   "source": [
    "So we seem to not be producing any amino acids in excess, butwe do have quite a bit of glutamate that is being produced too much.."
   ]
  },
  {
   "cell_type": "code",
   "execution_count": 146,
   "metadata": {},
   "outputs": [
    {
     "data": {
      "text/plain": [
       "0.21216284440880212"
      ]
     },
     "execution_count": 146,
     "metadata": {},
     "output_type": "execute_result"
    }
   ],
   "source": [
    "model_copy.optimize()['glu_sink']"
   ]
  },
  {
   "cell_type": "markdown",
   "metadata": {},
   "source": [
    "Now that the fluxes have been fit, we would want to see what the predicted exchange rates are and then compare this to the published data.\n"
   ]
  },
  {
   "cell_type": "code",
   "execution_count": 147,
   "metadata": {},
   "outputs": [],
   "source": [
    "prod = ['EX_glc__D_e', 'EX_lac__L_e','EX_etoh_e', 'EX_ac_e', 'EX_for_e']"
   ]
  },
  {
   "cell_type": "code",
   "execution_count": 148,
   "metadata": {
    "scrolled": false
   },
   "outputs": [
    {
     "name": "stdout",
     "output_type": "stream",
     "text": [
      "EX_glc__D_e :   1.0\n",
      "EX_lac__L_e :   -0.07475398074528825\n",
      "EX_etoh_e :   -0.0\n",
      "EX_ac_e :   -0.7731389661810618\n",
      "EX_for_e :   -0.03659758425579478\n"
     ]
    }
   ],
   "source": [
    "for comp in prod:\n",
    "    pfba_solution = cobra.flux_analysis.pfba(model_copy)\n",
    "    print(comp,':  ',pfba_solution[comp]/pfba_solution['EX_glc__D_e'])"
   ]
  },
  {
   "cell_type": "code",
   "execution_count": 150,
   "metadata": {
    "scrolled": false
   },
   "outputs": [
    {
     "name": "stdout",
     "output_type": "stream",
     "text": [
      "EX_glc__D_e :                 minimum   maximum\n",
      "EX_glc__D_e -7.037492 -4.558571\n",
      "EX_lac__L_e :                minimum   maximum\n",
      "EX_lac__L_e     0.36  3.339142\n",
      "EX_etoh_e :              minimum  maximum\n",
      "EX_etoh_e      0.0      0.0\n",
      "EX_ac_e :            minimum   maximum\n",
      "EX_ac_e      0.0  4.787058\n",
      "EX_for_e :             minimum   maximum\n",
      "EX_for_e      0.0  0.497233\n"
     ]
    }
   ],
   "source": [
    "for comp in prod:\n",
    "    print( comp, ':  ', flux_variability_analysis(model_copy, model_copy.reactions.get_by_id(comp)))"
   ]
  },
  {
   "cell_type": "code",
   "execution_count": 151,
   "metadata": {},
   "outputs": [],
   "source": [
    "#what is the oxygen consumption rate here?"
   ]
  },
  {
   "cell_type": "code",
   "execution_count": 152,
   "metadata": {
    "scrolled": true
   },
   "outputs": [
    {
     "data": {
      "text/plain": [
       "-12.554586813012193"
      ]
     },
     "execution_count": 152,
     "metadata": {},
     "output_type": "execute_result"
    }
   ],
   "source": [
    "pfba_solution = cobra.flux_analysis.pfba(model_copy)\n",
    "pfba_solution['EX_o2_e']"
   ]
  },
  {
   "cell_type": "code",
   "execution_count": 153,
   "metadata": {},
   "outputs": [
    {
     "data": {
      "text/html": [
       "<div>\n",
       "<style scoped>\n",
       "    .dataframe tbody tr th:only-of-type {\n",
       "        vertical-align: middle;\n",
       "    }\n",
       "\n",
       "    .dataframe tbody tr th {\n",
       "        vertical-align: top;\n",
       "    }\n",
       "\n",
       "    .dataframe thead th {\n",
       "        text-align: right;\n",
       "    }\n",
       "</style>\n",
       "<table border=\"1\" class=\"dataframe\">\n",
       "  <thead>\n",
       "    <tr style=\"text-align: right;\">\n",
       "      <th></th>\n",
       "      <th>minimum</th>\n",
       "      <th>maximum</th>\n",
       "    </tr>\n",
       "  </thead>\n",
       "  <tbody>\n",
       "    <tr>\n",
       "      <th>EX_o2_e</th>\n",
       "      <td>-16.18879</td>\n",
       "      <td>-11.060006</td>\n",
       "    </tr>\n",
       "  </tbody>\n",
       "</table>\n",
       "</div>"
      ],
      "text/plain": [
       "          minimum    maximum\n",
       "EX_o2_e -16.18879 -11.060006"
      ]
     },
     "execution_count": 153,
     "metadata": {},
     "output_type": "execute_result"
    }
   ],
   "source": [
    "flux_variability_analysis(model_copy, model_copy.reactions.EX_o2_e)"
   ]
  },
  {
   "cell_type": "markdown",
   "metadata": {},
   "source": [
    "## Microaerobic\n",
    "Here an unfortunate thing is that we lack the information about the amount of oxygen that is supplied for the microaerobic experiment. So what i will do is fit the fluxes as they are defined, and then see what oxygen consumption the model predicts. \n",
    "\n",
    "__Alternatively, I set the oxygen supply to an arbitrarily selected 'micro' aerobic system....__ ??\n"
   ]
  },
  {
   "cell_type": "code",
   "execution_count": 154,
   "metadata": {},
   "outputs": [],
   "source": [
    "#set the glucose consumption to 5 mmol/gCDW/h\n",
    "model.reactions.EX_glc__D_e.bounds = (-5,1000)"
   ]
  },
  {
   "cell_type": "code",
   "execution_count": 155,
   "metadata": {},
   "outputs": [],
   "source": [
    "df_micaer = pd.read_csv('../databases/Tang 2009 fluxes-microaerobic.csv')"
   ]
  },
  {
   "cell_type": "code",
   "execution_count": 157,
   "metadata": {},
   "outputs": [],
   "source": [
    "del df_micaer['N.B.: 0 means no info available']"
   ]
  },
  {
   "cell_type": "code",
   "execution_count": 158,
   "metadata": {},
   "outputs": [],
   "source": [
    "model_copy = copy.deepcopy(model)"
   ]
  },
  {
   "cell_type": "code",
   "execution_count": 159,
   "metadata": {},
   "outputs": [],
   "source": [
    "#add metabolite\n",
    "model_copy.add_metabolites(Metabolite(id='glu__L_c_biomass'))"
   ]
  },
  {
   "cell_type": "code",
   "execution_count": 160,
   "metadata": {},
   "outputs": [],
   "source": [
    "model_copy.metabolites.glu__L_c_biomass.formula = model_copy.metabolites.glu__L_c.formula"
   ]
  },
  {
   "cell_type": "code",
   "execution_count": 161,
   "metadata": {},
   "outputs": [],
   "source": [
    "#add pulling reaction\n",
    "model_copy.add_reaction(Reaction(id='glu_biomass'))"
   ]
  },
  {
   "cell_type": "code",
   "execution_count": 162,
   "metadata": {},
   "outputs": [],
   "source": [
    "model_copy.reactions.glu_biomass.add_metabolites({\n",
    "    model_copy.metabolites.glu__L_c:-1,\n",
    "    model_copy.metabolites.glu__L_c_biomass:1\n",
    "})"
   ]
  },
  {
   "cell_type": "code",
   "execution_count": 163,
   "metadata": {},
   "outputs": [],
   "source": [
    "#change biomass consumption to the new metabolites\n",
    "model_copy.reactions.biomass.add_metabolites({\n",
    "    model_copy.metabolites.glu__L_c:0.322004464285714,\n",
    "    model_copy.metabolites.glu__L_c_biomass:-0.322004464285714\n",
    "})"
   ]
  },
  {
   "cell_type": "code",
   "execution_count": 164,
   "metadata": {
    "scrolled": true
   },
   "outputs": [
    {
     "data": {
      "text/html": [
       "\n",
       "        <table>\n",
       "            <tr>\n",
       "                <td><strong>Reaction identifier</strong></td><td>glu_sink</td>\n",
       "            </tr><tr>\n",
       "                <td><strong>Name</strong></td><td> sink</td>\n",
       "            </tr><tr>\n",
       "                <td><strong>Memory address</strong></td>\n",
       "                <td>0x028511897b48</td>\n",
       "            </tr><tr>\n",
       "                <td><strong>Stoichiometry</strong></td>\n",
       "                <td>\n",
       "                    <p style='text-align:right'>glu__L_c_biomass <=> </p>\n",
       "                    <p style='text-align:right'> <=> </p>\n",
       "                </td>\n",
       "            </tr><tr>\n",
       "                <td><strong>GPR</strong></td><td></td>\n",
       "            </tr><tr>\n",
       "                <td><strong>Lower bound</strong></td><td>-1000.0</td>\n",
       "            </tr><tr>\n",
       "                <td><strong>Upper bound</strong></td><td>1000.0</td>\n",
       "            </tr>\n",
       "        </table>\n",
       "        "
      ],
      "text/plain": [
       "<Reaction glu_sink at 0x28511897b48>"
      ]
     },
     "execution_count": 164,
     "metadata": {},
     "output_type": "execute_result"
    }
   ],
   "source": [
    "#also need to add the exchange reaction incase the flux doesn't match the defined aa composition in the biomass reaction\n",
    "#it would error otherwise.\n",
    "model_copy.add_boundary(model_copy.metabolites.glu__L_c_biomass,type = 'sink', reaction_id = 'glu_sink')"
   ]
  },
  {
   "cell_type": "code",
   "execution_count": 165,
   "metadata": {},
   "outputs": [
    {
     "name": "stdout",
     "output_type": "stream",
     "text": [
      "GLC__Dtpts 0.33447850475472396\n",
      "GALUi 0.33447850475472357\n",
      "G6PDH2r 0.3333918050290294\n",
      "PRPPS 0.14512528280727868\n",
      "TKT2 0.14512528280728132\n",
      "TALA 0.14512528280727893\n",
      "TKT1 0.14512528280726283\n",
      "PHETA1 0.14512528280725479\n",
      "PGI 0.1451252828072909\n",
      "FBA 0.14512528280728706\n",
      "PGK 0.14512528280729364\n",
      "ENO 0.1451252828072815\n",
      "PGCD 0.1451252828072797\n",
      "GHMT 0.14512528280725104\n",
      "PPCK 0.14512528280729642\n",
      "PC 0.1451252828073098\n",
      "PDH 0.1451252828073098\n",
      "PFL 0.1451252828073098\n",
      "LDH_L 0.1451252828072552\n",
      "ALCD2x 0.1451252828072482\n",
      "ASPTA 0.11226000336617314\n",
      "CS 0.11226000336576454\n",
      "ICDHyr 0.1122600033657635\n",
      "ICL 0.11226000336574968\n",
      "SUCOAS 0.11226000336564389\n",
      "SUCDi 0.1122600033657761\n",
      "FUM 0.11226000336579965\n",
      "MDH 0.1122600033657547\n",
      "PTAr 0.11226000336490721\n",
      "glu_biomass 0.11226000336576282\n"
     ]
    }
   ],
   "source": [
    "for index, row in df_micaer.iterrows():\n",
    "    rct_id = row['model_id']\n",
    "    rct = model_copy.reactions.get_by_id(rct_id)\n",
    "    ub = row['UB']/20 #normalize to the 5 mmol glucose that is being supplied\n",
    "    lb = row['LB']/20 #normalize to the 5 mmol glucose that is being supplied\n",
    "    rct.bounds = (lb,ub)\n",
    "    pfba_solution = cobra.flux_analysis.pfba(model_copy)\n",
    "    print(rct_id,pfba_solution['biomass'])"
   ]
  },
  {
   "cell_type": "code",
   "execution_count": 166,
   "metadata": {
    "scrolled": true
   },
   "outputs": [
    {
     "data": {
      "text/plain": [
       "-5.917379540248659"
      ]
     },
     "execution_count": 166,
     "metadata": {},
     "output_type": "execute_result"
    }
   ],
   "source": [
    "pfba_solution = cobra.flux_analysis.pfba(model_copy)\n",
    "pfba_solution['EX_o2_e']"
   ]
  },
  {
   "cell_type": "code",
   "execution_count": 167,
   "metadata": {},
   "outputs": [
    {
     "data": {
      "text/html": [
       "<div>\n",
       "<style scoped>\n",
       "    .dataframe tbody tr th:only-of-type {\n",
       "        vertical-align: middle;\n",
       "    }\n",
       "\n",
       "    .dataframe tbody tr th {\n",
       "        vertical-align: top;\n",
       "    }\n",
       "\n",
       "    .dataframe thead th {\n",
       "        text-align: right;\n",
       "    }\n",
       "</style>\n",
       "<table border=\"1\" class=\"dataframe\">\n",
       "  <thead>\n",
       "    <tr style=\"text-align: right;\">\n",
       "      <th></th>\n",
       "      <th>minimum</th>\n",
       "      <th>maximum</th>\n",
       "    </tr>\n",
       "  </thead>\n",
       "  <tbody>\n",
       "    <tr>\n",
       "      <th>EX_o2_e</th>\n",
       "      <td>-7.189232</td>\n",
       "      <td>-5.646339</td>\n",
       "    </tr>\n",
       "  </tbody>\n",
       "</table>\n",
       "</div>"
      ],
      "text/plain": [
       "          minimum   maximum\n",
       "EX_o2_e -7.189232 -5.646339"
      ]
     },
     "execution_count": 167,
     "metadata": {},
     "output_type": "execute_result"
    }
   ],
   "source": [
    "flux_variability_analysis(model_copy, model_copy.reactions.EX_o2_e)"
   ]
  },
  {
   "cell_type": "code",
   "execution_count": 168,
   "metadata": {},
   "outputs": [
    {
     "name": "stdout",
     "output_type": "stream",
     "text": [
      "5.3253215738744855\n",
      "-0.1770659349476114\n"
     ]
    }
   ],
   "source": [
    "#rati between PFL and PDH?\n",
    "print(pfba_solution['PDH'])\n",
    "print(pfba_solution['PFL'])"
   ]
  },
  {
   "cell_type": "code",
   "execution_count": 169,
   "metadata": {},
   "outputs": [],
   "source": [
    "prod = ['EX_glc__D_e', 'EX_lac__L_e','EX_etoh_e', 'EX_ac_e', 'EX_for_e']"
   ]
  },
  {
   "cell_type": "code",
   "execution_count": 170,
   "metadata": {
    "scrolled": false
   },
   "outputs": [
    {
     "name": "stdout",
     "output_type": "stream",
     "text": [
      "EX_glc__D_e :   1.0\n",
      "EX_lac__L_e :   -0.6834991258430021\n",
      "EX_etoh_e :   -0.2621640482685487\n",
      "EX_ac_e :   -0.454597717646895\n",
      "EX_for_e :   -0.05548776048569796\n"
     ]
    }
   ],
   "source": [
    "for comp in prod:\n",
    "    pfba_solution = cobra.flux_analysis.pfba(model_copy)\n",
    "    print(comp,':  ',pfba_solution[comp]/pfba_solution['EX_glc__D_e'])"
   ]
  },
  {
   "cell_type": "code",
   "execution_count": 171,
   "metadata": {
    "scrolled": true
   },
   "outputs": [
    {
     "name": "stdout",
     "output_type": "stream",
     "text": [
      "EX_glc__D_e :                minimum  maximum\n",
      "EX_glc__D_e     -5.0 -4.75187\n",
      "EX_lac__L_e :                minimum   maximum\n",
      "EX_lac__L_e    3.285  4.057743\n",
      "EX_etoh_e :              minimum  maximum\n",
      "EX_etoh_e     1.26     1.54\n",
      "EX_ac_e :             minimum   maximum\n",
      "EX_ac_e  0.761025  2.870244\n",
      "EX_for_e :             minimum   maximum\n",
      "EX_for_e      0.0  2.491716\n"
     ]
    }
   ],
   "source": [
    "for comp in prod:\n",
    "    print( comp, ':  ', flux_variability_analysis(model_copy, model_copy.reactions.get_by_id(comp)))"
   ]
  },
  {
   "cell_type": "markdown",
   "metadata": {},
   "source": [
    "## Anaerobic\n",
    "These fluxes were fit based on the data in figure 3. They are much more limited than the other fluxes. Also they measure the fluxes to all the main fermentation products, so this doesn't really mean the model should differ from the measured data.\n",
    "\n",
    "I will fix the oxygen rate to be low so we are sure there is no OxPhos activated (-0.5 mmol/gcdw/h)."
   ]
  },
  {
   "cell_type": "code",
   "execution_count": 272,
   "metadata": {},
   "outputs": [],
   "source": [
    "#set the glucose consumption to 5 mmol/gCDW/h\n",
    "model.reactions.EX_glc__D_e.bounds = (-5,1000)"
   ]
  },
  {
   "cell_type": "code",
   "execution_count": 273,
   "metadata": {},
   "outputs": [],
   "source": [
    "df_anaer = pd.read_csv('../databases/Tang 2009 fluxes-anaerobic.csv')"
   ]
  },
  {
   "cell_type": "code",
   "execution_count": 274,
   "metadata": {},
   "outputs": [],
   "source": [
    "model_copy = copy.deepcopy(model)"
   ]
  },
  {
   "cell_type": "code",
   "execution_count": 295,
   "metadata": {},
   "outputs": [],
   "source": [
    "#make anaerobic\n",
    "model_copy.reactions.EX_o2_e.bounds = (-1.5,0)"
   ]
  },
  {
   "cell_type": "code",
   "execution_count": 275,
   "metadata": {},
   "outputs": [],
   "source": [
    "#add metabolite\n",
    "model_copy.add_metabolites(Metabolite(id='glu__L_c_biomass'))"
   ]
  },
  {
   "cell_type": "code",
   "execution_count": 276,
   "metadata": {},
   "outputs": [],
   "source": [
    "model_copy.metabolites.glu__L_c_biomass.formula = model_copy.metabolites.glu__L_c.formula"
   ]
  },
  {
   "cell_type": "code",
   "execution_count": 277,
   "metadata": {},
   "outputs": [],
   "source": [
    "#add pulling reaction\n",
    "model_copy.add_reaction(Reaction(id='glu_biomass'))"
   ]
  },
  {
   "cell_type": "code",
   "execution_count": 278,
   "metadata": {},
   "outputs": [],
   "source": [
    "model_copy.reactions.glu_biomass.add_metabolites({\n",
    "    model_copy.metabolites.glu__L_c:-1,\n",
    "    model_copy.metabolites.glu__L_c_biomass:1\n",
    "})"
   ]
  },
  {
   "cell_type": "code",
   "execution_count": 279,
   "metadata": {},
   "outputs": [],
   "source": [
    "#change biomass consumption to the new metabolites\n",
    "model_copy.reactions.biomass.add_metabolites({\n",
    "    model_copy.metabolites.glu__L_c:0.322004464285714,\n",
    "    model_copy.metabolites.glu__L_c_biomass:-0.322004464285714\n",
    "})"
   ]
  },
  {
   "cell_type": "code",
   "execution_count": 280,
   "metadata": {
    "scrolled": true
   },
   "outputs": [
    {
     "data": {
      "text/html": [
       "\n",
       "        <table>\n",
       "            <tr>\n",
       "                <td><strong>Reaction identifier</strong></td><td>glu_sink</td>\n",
       "            </tr><tr>\n",
       "                <td><strong>Name</strong></td><td> sink</td>\n",
       "            </tr><tr>\n",
       "                <td><strong>Memory address</strong></td>\n",
       "                <td>0x02851a4fe448</td>\n",
       "            </tr><tr>\n",
       "                <td><strong>Stoichiometry</strong></td>\n",
       "                <td>\n",
       "                    <p style='text-align:right'>glu__L_c_biomass <=> </p>\n",
       "                    <p style='text-align:right'> <=> </p>\n",
       "                </td>\n",
       "            </tr><tr>\n",
       "                <td><strong>GPR</strong></td><td></td>\n",
       "            </tr><tr>\n",
       "                <td><strong>Lower bound</strong></td><td>-1000.0</td>\n",
       "            </tr><tr>\n",
       "                <td><strong>Upper bound</strong></td><td>1000.0</td>\n",
       "            </tr>\n",
       "        </table>\n",
       "        "
      ],
      "text/plain": [
       "<Reaction glu_sink at 0x2851a4fe448>"
      ]
     },
     "execution_count": 280,
     "metadata": {},
     "output_type": "execute_result"
    }
   ],
   "source": [
    "#also need to add the exchange reaction incase the flux doesn't match the defined aa composition in the biomass reaction\n",
    "#it would error otherwise.\n",
    "model_copy.add_boundary(model_copy.metabolites.glu__L_c_biomass,type = 'sink', reaction_id = 'glu_sink')"
   ]
  },
  {
   "cell_type": "code",
   "execution_count": 281,
   "metadata": {},
   "outputs": [
    {
     "name": "stdout",
     "output_type": "stream",
     "text": [
      "PGI 0.32293418705301563\n",
      "G6PDH2r 0.2939007671953274\n",
      "GAPD 0.28589207133506167\n",
      "PFL 0.2858920713350569\n",
      "PDH 0.28589207133505856\n",
      "PTAr 0.2732222379248425\n",
      "ACALD 0.25882807649183803\n",
      "ALCD2x 0.21425569331962852\n",
      "LDH_L 0.07615177354497404\n"
     ]
    }
   ],
   "source": [
    "for index, row in df_anaer.iterrows():\n",
    "    rct_id = row['model_id']\n",
    "    rct = model_copy.reactions.get_by_id(rct_id)\n",
    "    ub = row['UB']/20 #normalize to the 5 mmol glucose that is being supplied\n",
    "    lb = row['LB']/20 #normalize to the 5 mmol glucose that is being supplied\n",
    "    rct.bounds = (lb,ub)\n",
    "    pfba_solution = cobra.flux_analysis.pfba(model_copy)\n",
    "    print(rct_id,pfba_solution['biomass'])"
   ]
  },
  {
   "cell_type": "code",
   "execution_count": 296,
   "metadata": {
    "scrolled": true
   },
   "outputs": [
    {
     "data": {
      "text/plain": [
       "-1.5"
      ]
     },
     "execution_count": 296,
     "metadata": {},
     "output_type": "execute_result"
    }
   ],
   "source": [
    "pfba_solution = cobra.flux_analysis.pfba(model_copy)\n",
    "pfba_solution['EX_o2_e']"
   ]
  },
  {
   "cell_type": "code",
   "execution_count": 297,
   "metadata": {
    "scrolled": true
   },
   "outputs": [
    {
     "data": {
      "text/html": [
       "<div>\n",
       "<style scoped>\n",
       "    .dataframe tbody tr th:only-of-type {\n",
       "        vertical-align: middle;\n",
       "    }\n",
       "\n",
       "    .dataframe tbody tr th {\n",
       "        vertical-align: top;\n",
       "    }\n",
       "\n",
       "    .dataframe thead th {\n",
       "        text-align: right;\n",
       "    }\n",
       "</style>\n",
       "<table border=\"1\" class=\"dataframe\">\n",
       "  <thead>\n",
       "    <tr style=\"text-align: right;\">\n",
       "      <th></th>\n",
       "      <th>minimum</th>\n",
       "      <th>maximum</th>\n",
       "    </tr>\n",
       "  </thead>\n",
       "  <tbody>\n",
       "    <tr>\n",
       "      <th>EX_o2_e</th>\n",
       "      <td>-1.5</td>\n",
       "      <td>-1.5</td>\n",
       "    </tr>\n",
       "  </tbody>\n",
       "</table>\n",
       "</div>"
      ],
      "text/plain": [
       "         minimum  maximum\n",
       "EX_o2_e     -1.5     -1.5"
      ]
     },
     "execution_count": 297,
     "metadata": {},
     "output_type": "execute_result"
    }
   ],
   "source": [
    "flux_variability_analysis(model_copy, model_copy.reactions.EX_o2_e)"
   ]
  },
  {
   "cell_type": "code",
   "execution_count": 298,
   "metadata": {},
   "outputs": [
    {
     "data": {
      "text/plain": [
       "0.0015780710435513384"
      ]
     },
     "execution_count": 298,
     "metadata": {},
     "output_type": "execute_result"
    }
   ],
   "source": [
    "pfba_solution['biomass']"
   ]
  },
  {
   "cell_type": "markdown",
   "metadata": {},
   "source": [
    "So the data can fit, but it always requires some oxygen to be able to fuel the OxPhos.. \n",
    "\n",
    "The OxPhos is needed to get rid of the quinone formed in the conversion from succinate to fumarate in the reverse TCA. The succoa made is needed for making a precursor in fatty acid synthesis, so we can't completely get rid of it. \n",
    "\n",
    "But this is strange, as in our anaerobic analysis this reaction isnt a cause of the oxygen requirement. So in the normal model, anaerobically they can find another way to regenerate qh2. Need to look into what this is and why the model doesn't do that here?\n",
    "\n",
    "So it turns out that (without fitted data) the model produces succinate via the SSALy reaction, instead of through the TCA. this circumvents the need to regenerate qh2. Why is this not possible with the fitted data?\n",
    "\n",
    "__Or does this again fit with our argument that the strain cannot grow completely anaerobically? In the experiment there is always a little bit of YE?__"
   ]
  },
  {
   "cell_type": "code",
   "execution_count": 299,
   "metadata": {
    "scrolled": true
   },
   "outputs": [
    {
     "data": {
      "text/html": [
       "<div>\n",
       "<style scoped>\n",
       "    .dataframe tbody tr th:only-of-type {\n",
       "        vertical-align: middle;\n",
       "    }\n",
       "\n",
       "    .dataframe tbody tr th {\n",
       "        vertical-align: top;\n",
       "    }\n",
       "\n",
       "    .dataframe thead th {\n",
       "        text-align: right;\n",
       "    }\n",
       "</style>\n",
       "<table border=\"1\" class=\"dataframe\">\n",
       "  <thead>\n",
       "    <tr style=\"text-align: right;\">\n",
       "      <th></th>\n",
       "      <th></th>\n",
       "      <th>PERCENT</th>\n",
       "      <th>FLUX</th>\n",
       "      <th>REACTION_STRING</th>\n",
       "    </tr>\n",
       "    <tr>\n",
       "      <th>RXN_STAT</th>\n",
       "      <th>ID</th>\n",
       "      <th></th>\n",
       "      <th></th>\n",
       "      <th></th>\n",
       "    </tr>\n",
       "  </thead>\n",
       "  <tbody>\n",
       "    <tr>\n",
       "      <th>PRODUCING</th>\n",
       "      <th>O2t</th>\n",
       "      <td>100.000000</td>\n",
       "      <td>1.500000</td>\n",
       "      <td>o2_e &lt;=&gt; o2_c</td>\n",
       "    </tr>\n",
       "    <tr>\n",
       "      <th>CONSUMING</th>\n",
       "      <th>CYTBO3</th>\n",
       "      <td>99.996075</td>\n",
       "      <td>1.499941</td>\n",
       "      <td>2.5 h_c + 0.5 o2_c + qh2_c --&gt; h2o_c + 2.5 h_e...</td>\n",
       "    </tr>\n",
       "  </tbody>\n",
       "</table>\n",
       "</div>"
      ],
      "text/plain": [
       "<cobra.core.summary.metabolite_summary.MetaboliteSummary at 0x2851ab1b8c8>"
      ]
     },
     "execution_count": 299,
     "metadata": {},
     "output_type": "execute_result"
    }
   ],
   "source": [
    "model_copy.metabolites.o2_c.summary()"
   ]
  },
  {
   "cell_type": "code",
   "execution_count": 322,
   "metadata": {
    "scrolled": false
   },
   "outputs": [],
   "source": [
    "model.reactions.EX_o2_e.bounds = (-0.0005, 0)"
   ]
  },
  {
   "cell_type": "code",
   "execution_count": 323,
   "metadata": {
    "scrolled": true
   },
   "outputs": [
    {
     "data": {
      "text/html": [
       "<div>\n",
       "<style scoped>\n",
       "    .dataframe tbody tr th:only-of-type {\n",
       "        vertical-align: middle;\n",
       "    }\n",
       "\n",
       "    .dataframe tbody tr th {\n",
       "        vertical-align: top;\n",
       "    }\n",
       "\n",
       "    .dataframe thead th {\n",
       "        text-align: right;\n",
       "    }\n",
       "</style>\n",
       "<table border=\"1\" class=\"dataframe\">\n",
       "  <thead>\n",
       "    <tr style=\"text-align: right;\">\n",
       "      <th></th>\n",
       "      <th></th>\n",
       "      <th>PERCENT</th>\n",
       "      <th>FLUX</th>\n",
       "      <th>REACTION_STRING</th>\n",
       "    </tr>\n",
       "    <tr>\n",
       "      <th>RXN_STAT</th>\n",
       "      <th>ID</th>\n",
       "      <th></th>\n",
       "      <th></th>\n",
       "      <th></th>\n",
       "    </tr>\n",
       "  </thead>\n",
       "  <tbody>\n",
       "    <tr>\n",
       "      <th>PRODUCING</th>\n",
       "      <th>AMMQLT</th>\n",
       "      <td>100.0</td>\n",
       "      <td>0.000004</td>\n",
       "      <td>2dmmq_c + amet_c --&gt; ahcys_c + h_c + qh2_c</td>\n",
       "    </tr>\n",
       "    <tr>\n",
       "      <th>CONSUMING</th>\n",
       "      <th>biomass</th>\n",
       "      <td>100.0</td>\n",
       "      <td>0.000004</td>\n",
       "      <td>0.000357142857142857 10fthf_c + 0.000249107142...</td>\n",
       "    </tr>\n",
       "  </tbody>\n",
       "</table>\n",
       "</div>"
      ],
      "text/plain": [
       "<cobra.core.summary.metabolite_summary.MetaboliteSummary at 0x2851b53d848>"
      ]
     },
     "execution_count": 323,
     "metadata": {},
     "output_type": "execute_result"
    }
   ],
   "source": [
    "model.metabolites.qh2_c.summary()"
   ]
  },
  {
   "cell_type": "code",
   "execution_count": 335,
   "metadata": {
    "scrolled": true
   },
   "outputs": [
    {
     "data": {
      "text/html": [
       "<div>\n",
       "<style scoped>\n",
       "    .dataframe tbody tr th:only-of-type {\n",
       "        vertical-align: middle;\n",
       "    }\n",
       "\n",
       "    .dataframe tbody tr th {\n",
       "        vertical-align: top;\n",
       "    }\n",
       "\n",
       "    .dataframe thead th {\n",
       "        text-align: right;\n",
       "    }\n",
       "</style>\n",
       "<table border=\"1\" class=\"dataframe\">\n",
       "  <thead>\n",
       "    <tr style=\"text-align: right;\">\n",
       "      <th></th>\n",
       "      <th></th>\n",
       "      <th>PERCENT</th>\n",
       "      <th>FLUX</th>\n",
       "      <th>REACTION_STRING</th>\n",
       "    </tr>\n",
       "    <tr>\n",
       "      <th>RXN_STAT</th>\n",
       "      <th>ID</th>\n",
       "      <th></th>\n",
       "      <th></th>\n",
       "      <th></th>\n",
       "    </tr>\n",
       "  </thead>\n",
       "  <tbody>\n",
       "    <tr>\n",
       "      <th>PRODUCING</th>\n",
       "      <th>ARGDC</th>\n",
       "      <td>100.0</td>\n",
       "      <td>0.000363</td>\n",
       "      <td>arg__L_c + h_c --&gt; agm_c + co2_c</td>\n",
       "    </tr>\n",
       "    <tr>\n",
       "      <th>CONSUMING</th>\n",
       "      <th>AGMT</th>\n",
       "      <td>100.0</td>\n",
       "      <td>0.000363</td>\n",
       "      <td>agm_c + h2o_c --&gt; ptrc_c + urea_c</td>\n",
       "    </tr>\n",
       "  </tbody>\n",
       "</table>\n",
       "</div>"
      ],
      "text/plain": [
       "<cobra.core.summary.metabolite_summary.MetaboliteSummary at 0x2851b623bc8>"
      ]
     },
     "execution_count": 335,
     "metadata": {},
     "output_type": "execute_result"
    }
   ],
   "source": [
    "model.metabolites.get_by_id('agm_c').summary()"
   ]
  },
  {
   "cell_type": "code",
   "execution_count": 312,
   "metadata": {},
   "outputs": [
    {
     "data": {
      "text/html": [
       "\n",
       "        <table>\n",
       "            <tr>\n",
       "                <td><strong>Reaction identifier</strong></td><td>MMSDH</td>\n",
       "            </tr><tr>\n",
       "                <td><strong>Name</strong></td><td>(S)-Methylmalonate semialdehyde:NAD+ oxidoreductase (CoA-propanoylating)</td>\n",
       "            </tr><tr>\n",
       "                <td><strong>Memory address</strong></td>\n",
       "                <td>0x02851ab16c88</td>\n",
       "            </tr><tr>\n",
       "                <td><strong>Stoichiometry</strong></td>\n",
       "                <td>\n",
       "                    <p style='text-align:right'>coa_c + mmtsa_c + nad_c --> co2_c + nadh_c + ppcoa_c</p>\n",
       "                    <p style='text-align:right'>CoA + (S)-Methylmalonate semialdehyde + NAD+ --> CO2 + NADH + Propanoyl-CoA</p>\n",
       "                </td>\n",
       "            </tr><tr>\n",
       "                <td><strong>GPR</strong></td><td>RTMO01648 or RTMO01382</td>\n",
       "            </tr><tr>\n",
       "                <td><strong>Lower bound</strong></td><td>0.0</td>\n",
       "            </tr><tr>\n",
       "                <td><strong>Upper bound</strong></td><td>1000.0</td>\n",
       "            </tr>\n",
       "        </table>\n",
       "        "
      ],
      "text/plain": [
       "<Reaction MMSDH at 0x2851ab16c88>"
      ]
     },
     "execution_count": 312,
     "metadata": {},
     "output_type": "execute_result"
    }
   ],
   "source": [
    "model_copy.reactions.propACP_c"
   ]
  },
  {
   "cell_type": "code",
   "execution_count": 168,
   "metadata": {},
   "outputs": [
    {
     "name": "stdout",
     "output_type": "stream",
     "text": [
      "5.3253215738744855\n",
      "-0.1770659349476114\n"
     ]
    }
   ],
   "source": [
    "#rati between PFL and PDH?\n",
    "print(pfba_solution['PDH'])\n",
    "print(pfba_solution['PFL'])"
   ]
  },
  {
   "cell_type": "code",
   "execution_count": 169,
   "metadata": {},
   "outputs": [],
   "source": [
    "prod = ['EX_glc__D_e', 'EX_lac__L_e','EX_etoh_e', 'EX_ac_e', 'EX_for_e']"
   ]
  },
  {
   "cell_type": "code",
   "execution_count": 170,
   "metadata": {
    "scrolled": false
   },
   "outputs": [
    {
     "name": "stdout",
     "output_type": "stream",
     "text": [
      "EX_glc__D_e :   1.0\n",
      "EX_lac__L_e :   -0.6834991258430021\n",
      "EX_etoh_e :   -0.2621640482685487\n",
      "EX_ac_e :   -0.454597717646895\n",
      "EX_for_e :   -0.05548776048569796\n"
     ]
    }
   ],
   "source": [
    "for comp in prod:\n",
    "    pfba_solution = cobra.flux_analysis.pfba(model_copy)\n",
    "    print(comp,':  ',pfba_solution[comp]/pfba_solution['EX_glc__D_e'])"
   ]
  },
  {
   "cell_type": "code",
   "execution_count": 171,
   "metadata": {
    "scrolled": true
   },
   "outputs": [
    {
     "name": "stdout",
     "output_type": "stream",
     "text": [
      "EX_glc__D_e :                minimum  maximum\n",
      "EX_glc__D_e     -5.0 -4.75187\n",
      "EX_lac__L_e :                minimum   maximum\n",
      "EX_lac__L_e    3.285  4.057743\n",
      "EX_etoh_e :              minimum  maximum\n",
      "EX_etoh_e     1.26     1.54\n",
      "EX_ac_e :             minimum   maximum\n",
      "EX_ac_e  0.761025  2.870244\n",
      "EX_for_e :             minimum   maximum\n",
      "EX_for_e      0.0  2.491716\n"
     ]
    }
   ],
   "source": [
    "for comp in prod:\n",
    "    print( comp, ':  ', flux_variability_analysis(model_copy, model_copy.reactions.get_by_id(comp)))"
   ]
  },
  {
   "cell_type": "code",
   "execution_count": null,
   "metadata": {},
   "outputs": [],
   "source": []
  },
  {
   "cell_type": "code",
   "execution_count": null,
   "metadata": {},
   "outputs": [],
   "source": []
  },
  {
   "cell_type": "markdown",
   "metadata": {},
   "source": [
    "Note:\n",
    "- for the micro-aerobic conversion of pyr to acetyl-coa, we need to distinguish PDH from PFL.. for aerobic it is clear it is PDH. For microaerobic, it is hard to discern the exact ratio that one could observe, so i think we should set the bounds to allow the rang of either reaction within the measurement made and from there estimate the ratio of activity between PDH and PFL. \n",
    "\n"
   ]
  },
  {
   "cell_type": "markdown",
   "metadata": {},
   "source": [
    "\n",
    "- maybe i can plot the measured vs simulated fluxes/exchanges or so?\n"
   ]
  },
  {
   "cell_type": "code",
   "execution_count": 300,
   "metadata": {},
   "outputs": [],
   "source": [
    "solution = model_copy.optimize()"
   ]
  },
  {
   "cell_type": "code",
   "execution_count": 301,
   "metadata": {
    "scrolled": false
   },
   "outputs": [
    {
     "data": {
      "application/vnd.jupyter.widget-view+json": {
       "model_id": "8b881d7bf2554b348fe68f98f9198e02",
       "version_major": 2,
       "version_minor": 0
      },
      "text/plain": [
       "Builder(reaction_data={'IDPh': 3.452796984101684, 'CAT': 3.699779753750112e-05, 'PDHam1hi': 0.0, 'HYDA': 0.0, …"
      ]
     },
     "metadata": {},
     "output_type": "display_data"
    }
   ],
   "source": [
    "Builder(model = model_copy, map_json = '../map/g-thermo-map.json', reaction_data = solution.fluxes.to_dict())"
   ]
  },
  {
   "cell_type": "code",
   "execution_count": null,
   "metadata": {},
   "outputs": [],
   "source": []
  }
 ],
 "metadata": {
  "kernelspec": {
   "display_name": "Python 3",
   "language": "python",
   "name": "python3"
  },
  "language_info": {
   "codemirror_mode": {
    "name": "ipython",
    "version": 3
   },
   "file_extension": ".py",
   "mimetype": "text/x-python",
   "name": "python",
   "nbconvert_exporter": "python",
   "pygments_lexer": "ipython3",
   "version": "3.7.7"
  }
 },
 "nbformat": 4,
 "nbformat_minor": 4
}
