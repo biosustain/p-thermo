{
 "cells": [
  {
   "cell_type": "markdown",
   "metadata": {},
   "source": [
    "# Introduction\n",
    "In this notebook, I will try to validate the model with the 13C data presented in Tang et al. 2009 (DOI 10.1002/bit.22181).\n",
    "\n",
    "To do this, I will fix the internal fluxes to match that measured by the 13C data and from there see how much the exchange fluxes match the measured data. \n",
    "\n",
    "__The paper has data about aerobic and microaerobic 13C data. and also have some data about the mixed acid fermentation. Table 2 will provide most of the experimental data to validate against? But these aren't really exchange rates? So I'll need to see what to do with this...__\n",
    "\n",
    "__Also, oxygen consumption rates aren't really defined.. They are more just defined based on the observed growth rate? so maybe this becomes my kind of output?__\n",
    "\n",
    "In the paper, the glucose uptake rate is often set to 5 mmol h-1 g-1 biomass. So I will do the same here to make the values more comparable.\n",
    "\n",
    "N.B.: this is a bit of a different strain! it is the M10EXG strain. "
   ]
  },
  {
   "cell_type": "markdown",
   "metadata": {},
   "source": [
    "To compare the calculated 13C fluxes with our model, I will first summarize them in a data frame. For each reaction defined by the C13-model, i will write the flux (relative to the 100 units shown) and try to map the corresponding flux from our model that it should be set to. "
   ]
  },
  {
   "cell_type": "code",
   "execution_count": 187,
   "metadata": {},
   "outputs": [],
   "source": [
    "import cameo\n",
    "import pandas as pd\n",
    "import cobra.io\n",
    "from escher import Builder\n",
    "import copy"
   ]
  },
  {
   "cell_type": "code",
   "execution_count": 230,
   "metadata": {},
   "outputs": [],
   "source": [
    "model = cobra.io.read_sbml_model('../model/g-thermo.xml')"
   ]
  },
  {
   "cell_type": "markdown",
   "metadata": {},
   "source": [
    "### Notes\n",
    "- GLUSy is used to make all ammonia containing compounds, so is a problem as the flux in the paper is only the amount for the glutamine that goes into biomas, so we neglect it.\n",
    "\n",
    "- Also neglect PTAr: this is the measured flux that carries the amount of carbon going to acetate, leucine and fatty acids. As we don't know the distribution between these this can give a problem. So I've neglected that too."
   ]
  },
  {
   "cell_type": "markdown",
   "metadata": {},
   "source": [
    "# Aerobic condition\n",
    "I will first look to see if we can validate the aerobic condition that is tested. I will import the data frame from the file made in the 'databases' folder of the repo. Here i coupled the reactions and fluxes shown in the Tang paper to our model."
   ]
  },
  {
   "cell_type": "code",
   "execution_count": 231,
   "metadata": {},
   "outputs": [],
   "source": [
    "#set the glucose consumption to 5 mmol/gCDW/h\n",
    "model.reactions.EX_glc__D_e.bounds = (-5,1000)"
   ]
  },
  {
   "cell_type": "code",
   "execution_count": 232,
   "metadata": {
    "scrolled": false
   },
   "outputs": [
    {
     "data": {
      "text/plain": [
       "0.32861628193475195"
      ]
     },
     "execution_count": 232,
     "metadata": {},
     "output_type": "execute_result"
    }
   ],
   "source": [
    "model.optimize().objective_value"
   ]
  },
  {
   "cell_type": "markdown",
   "metadata": {},
   "source": [
    "Now I need to write a script which will fix the fluxes as defined here and then will see if optimization is possible.\n",
    "Then I will also check that the predicted products are and if this matches the experimental data.\n",
    "\n",
    "When I do this with the exact fluxes determined, I get an infeasible solution. This is because for many of the reactions the standard deviation isn't given, allowing very little flexibility in the model. For the reactions with standard deviation, we will include them as flexibility in the bounds as: mean +-2xstDev.\n",
    "For reactions without any standard deviation, we will add an error of 10%. This isn't ideal but may be necessary."
   ]
  },
  {
   "cell_type": "code",
   "execution_count": 191,
   "metadata": {},
   "outputs": [],
   "source": [
    "df_aer = pd.read_csv('../databases/Tang 2009 fluxes-aerobic.csv')"
   ]
  },
  {
   "cell_type": "code",
   "execution_count": 192,
   "metadata": {},
   "outputs": [],
   "source": [
    "#note: aerobic is the fluxes from the paper, without GLUSy (i.e. the flux to glutamate in the biomass)"
   ]
  },
  {
   "cell_type": "code",
   "execution_count": 193,
   "metadata": {},
   "outputs": [],
   "source": [
    "del df_aer['N.B.: 0 means no info available']"
   ]
  },
  {
   "cell_type": "code",
   "execution_count": 194,
   "metadata": {
    "scrolled": true
   },
   "outputs": [
    {
     "name": "stdout",
     "output_type": "stream",
     "text": [
      "GLC__Dtpts 0.32861626365989793\n",
      "GALUi 0.3286162636599081\n",
      "G6PDH2r 0.3269833815743214\n",
      "PRPPS 0.2902505656145208\n",
      "TKT2 0.2902505656145299\n",
      "TALA 0.2902505656145228\n",
      "TKT1 0.2902505656144517\n",
      "DDPA 0.29025056561478846\n",
      "PGI 0.29025056561478857\n",
      "FBA 0.29025056554757445\n",
      "PGK 0.2902505656145884\n",
      "ENO 0.2902505656145466\n",
      "PGCD 0.29025056561456464\n",
      "GHMT 0.29025056561464996\n"
     ]
    },
    {
     "ename": "Infeasible",
     "evalue": "None (infeasible)",
     "output_type": "error",
     "traceback": [
      "\u001b[1;31m---------------------------------------------------------------------------\u001b[0m",
      "\u001b[1;31mInfeasible\u001b[0m                                Traceback (most recent call last)",
      "\u001b[1;32m<ipython-input-194-b5925e011637>\u001b[0m in \u001b[0;36m<module>\u001b[1;34m\u001b[0m\n\u001b[0;32m      6\u001b[0m     \u001b[0mlb\u001b[0m \u001b[1;33m=\u001b[0m \u001b[0mrow\u001b[0m\u001b[1;33m[\u001b[0m\u001b[1;34m'LB'\u001b[0m\u001b[1;33m]\u001b[0m\u001b[1;33m/\u001b[0m\u001b[1;36m20\u001b[0m \u001b[1;31m#normalize to the 5 mmol glucose that is being supplied\u001b[0m\u001b[1;33m\u001b[0m\u001b[1;33m\u001b[0m\u001b[0m\n\u001b[0;32m      7\u001b[0m     \u001b[0mrct\u001b[0m\u001b[1;33m.\u001b[0m\u001b[0mbounds\u001b[0m \u001b[1;33m=\u001b[0m \u001b[1;33m(\u001b[0m\u001b[0mlb\u001b[0m\u001b[1;33m,\u001b[0m\u001b[0mub\u001b[0m\u001b[1;33m)\u001b[0m\u001b[1;33m\u001b[0m\u001b[1;33m\u001b[0m\u001b[0m\n\u001b[1;32m----> 8\u001b[1;33m     \u001b[0mpfba_solution\u001b[0m \u001b[1;33m=\u001b[0m \u001b[0mcobra\u001b[0m\u001b[1;33m.\u001b[0m\u001b[0mflux_analysis\u001b[0m\u001b[1;33m.\u001b[0m\u001b[0mpfba\u001b[0m\u001b[1;33m(\u001b[0m\u001b[0mmodel_copy\u001b[0m\u001b[1;33m)\u001b[0m\u001b[1;33m\u001b[0m\u001b[1;33m\u001b[0m\u001b[0m\n\u001b[0m\u001b[0;32m      9\u001b[0m     \u001b[0mprint\u001b[0m\u001b[1;33m(\u001b[0m\u001b[0mrct_id\u001b[0m\u001b[1;33m,\u001b[0m\u001b[0mpfba_solution\u001b[0m\u001b[1;33m[\u001b[0m\u001b[1;34m'biomass'\u001b[0m\u001b[1;33m]\u001b[0m\u001b[1;33m)\u001b[0m\u001b[1;33m\u001b[0m\u001b[1;33m\u001b[0m\u001b[0m\n",
      "\u001b[1;32m~\\AppData\\Local\\Continuum\\anaconda3\\envs\\g-thermo\\lib\\site-packages\\cobra\\flux_analysis\\parsimonious.py\u001b[0m in \u001b[0;36mpfba\u001b[1;34m(model, fraction_of_optimum, objective, reactions)\u001b[0m\n\u001b[0;32m     66\u001b[0m     \u001b[1;32mwith\u001b[0m \u001b[0mmodel\u001b[0m \u001b[1;32mas\u001b[0m \u001b[0mm\u001b[0m\u001b[1;33m:\u001b[0m\u001b[1;33m\u001b[0m\u001b[1;33m\u001b[0m\u001b[0m\n\u001b[0;32m     67\u001b[0m         add_pfba(m, objective=objective,\n\u001b[1;32m---> 68\u001b[1;33m                  fraction_of_optimum=fraction_of_optimum)\n\u001b[0m\u001b[0;32m     69\u001b[0m         \u001b[0mm\u001b[0m\u001b[1;33m.\u001b[0m\u001b[0mslim_optimize\u001b[0m\u001b[1;33m(\u001b[0m\u001b[0merror_value\u001b[0m\u001b[1;33m=\u001b[0m\u001b[1;32mNone\u001b[0m\u001b[1;33m)\u001b[0m\u001b[1;33m\u001b[0m\u001b[1;33m\u001b[0m\u001b[0m\n\u001b[0;32m     70\u001b[0m         \u001b[0msolution\u001b[0m \u001b[1;33m=\u001b[0m \u001b[0mget_solution\u001b[0m\u001b[1;33m(\u001b[0m\u001b[0mm\u001b[0m\u001b[1;33m,\u001b[0m \u001b[0mreactions\u001b[0m\u001b[1;33m=\u001b[0m\u001b[0mreactions\u001b[0m\u001b[1;33m)\u001b[0m\u001b[1;33m\u001b[0m\u001b[1;33m\u001b[0m\u001b[0m\n",
      "\u001b[1;32m~\\AppData\\Local\\Continuum\\anaconda3\\envs\\g-thermo\\lib\\site-packages\\cobra\\flux_analysis\\parsimonious.py\u001b[0m in \u001b[0;36madd_pfba\u001b[1;34m(model, objective, fraction_of_optimum)\u001b[0m\n\u001b[0;32m     97\u001b[0m     \u001b[1;32mif\u001b[0m \u001b[0mmodel\u001b[0m\u001b[1;33m.\u001b[0m\u001b[0msolver\u001b[0m\u001b[1;33m.\u001b[0m\u001b[0mobjective\u001b[0m\u001b[1;33m.\u001b[0m\u001b[0mname\u001b[0m \u001b[1;33m==\u001b[0m \u001b[1;34m'_pfba_objective'\u001b[0m\u001b[1;33m:\u001b[0m\u001b[1;33m\u001b[0m\u001b[1;33m\u001b[0m\u001b[0m\n\u001b[0;32m     98\u001b[0m         \u001b[1;32mraise\u001b[0m \u001b[0mValueError\u001b[0m\u001b[1;33m(\u001b[0m\u001b[1;34m'The model already has a pFBA objective.'\u001b[0m\u001b[1;33m)\u001b[0m\u001b[1;33m\u001b[0m\u001b[1;33m\u001b[0m\u001b[0m\n\u001b[1;32m---> 99\u001b[1;33m     \u001b[0msutil\u001b[0m\u001b[1;33m.\u001b[0m\u001b[0mfix_objective_as_constraint\u001b[0m\u001b[1;33m(\u001b[0m\u001b[0mmodel\u001b[0m\u001b[1;33m,\u001b[0m \u001b[0mfraction\u001b[0m\u001b[1;33m=\u001b[0m\u001b[0mfraction_of_optimum\u001b[0m\u001b[1;33m)\u001b[0m\u001b[1;33m\u001b[0m\u001b[1;33m\u001b[0m\u001b[0m\n\u001b[0m\u001b[0;32m    100\u001b[0m     reaction_variables = ((rxn.forward_variable, rxn.reverse_variable)\n\u001b[0;32m    101\u001b[0m                           for rxn in model.reactions)\n",
      "\u001b[1;32m~\\AppData\\Local\\Continuum\\anaconda3\\envs\\g-thermo\\lib\\site-packages\\cobra\\util\\solver.py\u001b[0m in \u001b[0;36mfix_objective_as_constraint\u001b[1;34m(model, fraction, bound, name)\u001b[0m\n\u001b[0;32m    397\u001b[0m         \u001b[0mmodel\u001b[0m\u001b[1;33m.\u001b[0m\u001b[0msolver\u001b[0m\u001b[1;33m.\u001b[0m\u001b[0mremove\u001b[0m\u001b[1;33m(\u001b[0m\u001b[0mfix_objective_name\u001b[0m\u001b[1;33m)\u001b[0m\u001b[1;33m\u001b[0m\u001b[1;33m\u001b[0m\u001b[0m\n\u001b[0;32m    398\u001b[0m     \u001b[1;32mif\u001b[0m \u001b[0mbound\u001b[0m \u001b[1;32mis\u001b[0m \u001b[1;32mNone\u001b[0m\u001b[1;33m:\u001b[0m\u001b[1;33m\u001b[0m\u001b[1;33m\u001b[0m\u001b[0m\n\u001b[1;32m--> 399\u001b[1;33m         \u001b[0mbound\u001b[0m \u001b[1;33m=\u001b[0m \u001b[0mmodel\u001b[0m\u001b[1;33m.\u001b[0m\u001b[0mslim_optimize\u001b[0m\u001b[1;33m(\u001b[0m\u001b[0merror_value\u001b[0m\u001b[1;33m=\u001b[0m\u001b[1;32mNone\u001b[0m\u001b[1;33m)\u001b[0m \u001b[1;33m*\u001b[0m \u001b[0mfraction\u001b[0m\u001b[1;33m\u001b[0m\u001b[1;33m\u001b[0m\u001b[0m\n\u001b[0m\u001b[0;32m    400\u001b[0m     \u001b[1;32mif\u001b[0m \u001b[0mmodel\u001b[0m\u001b[1;33m.\u001b[0m\u001b[0mobjective\u001b[0m\u001b[1;33m.\u001b[0m\u001b[0mdirection\u001b[0m \u001b[1;33m==\u001b[0m \u001b[1;34m'max'\u001b[0m\u001b[1;33m:\u001b[0m\u001b[1;33m\u001b[0m\u001b[1;33m\u001b[0m\u001b[0m\n\u001b[0;32m    401\u001b[0m         \u001b[0mub\u001b[0m\u001b[1;33m,\u001b[0m \u001b[0mlb\u001b[0m \u001b[1;33m=\u001b[0m \u001b[1;32mNone\u001b[0m\u001b[1;33m,\u001b[0m \u001b[0mbound\u001b[0m\u001b[1;33m\u001b[0m\u001b[1;33m\u001b[0m\u001b[0m\n",
      "\u001b[1;32m~\\AppData\\Local\\Continuum\\anaconda3\\envs\\g-thermo\\lib\\site-packages\\cobra\\core\\model.py\u001b[0m in \u001b[0;36mslim_optimize\u001b[1;34m(self, error_value, message)\u001b[0m\n\u001b[0;32m   1053\u001b[0m             \u001b[1;32mreturn\u001b[0m \u001b[0merror_value\u001b[0m\u001b[1;33m\u001b[0m\u001b[1;33m\u001b[0m\u001b[0m\n\u001b[0;32m   1054\u001b[0m         \u001b[1;32melse\u001b[0m\u001b[1;33m:\u001b[0m\u001b[1;33m\u001b[0m\u001b[1;33m\u001b[0m\u001b[0m\n\u001b[1;32m-> 1055\u001b[1;33m             \u001b[0massert_optimal\u001b[0m\u001b[1;33m(\u001b[0m\u001b[0mself\u001b[0m\u001b[1;33m,\u001b[0m \u001b[0mmessage\u001b[0m\u001b[1;33m)\u001b[0m\u001b[1;33m\u001b[0m\u001b[1;33m\u001b[0m\u001b[0m\n\u001b[0m\u001b[0;32m   1056\u001b[0m \u001b[1;33m\u001b[0m\u001b[0m\n\u001b[0;32m   1057\u001b[0m     \u001b[1;32mdef\u001b[0m \u001b[0moptimize\u001b[0m\u001b[1;33m(\u001b[0m\u001b[0mself\u001b[0m\u001b[1;33m,\u001b[0m \u001b[0mobjective_sense\u001b[0m\u001b[1;33m=\u001b[0m\u001b[1;32mNone\u001b[0m\u001b[1;33m,\u001b[0m \u001b[0mraise_error\u001b[0m\u001b[1;33m=\u001b[0m\u001b[1;32mFalse\u001b[0m\u001b[1;33m)\u001b[0m\u001b[1;33m:\u001b[0m\u001b[1;33m\u001b[0m\u001b[1;33m\u001b[0m\u001b[0m\n",
      "\u001b[1;32m~\\AppData\\Local\\Continuum\\anaconda3\\envs\\g-thermo\\lib\\site-packages\\cobra\\util\\solver.py\u001b[0m in \u001b[0;36massert_optimal\u001b[1;34m(model, message)\u001b[0m\n\u001b[0;32m    439\u001b[0m         exception_cls = OPTLANG_TO_EXCEPTIONS_DICT.get(\n\u001b[0;32m    440\u001b[0m             status, OptimizationError)\n\u001b[1;32m--> 441\u001b[1;33m         \u001b[1;32mraise\u001b[0m \u001b[0mexception_cls\u001b[0m\u001b[1;33m(\u001b[0m\u001b[1;34m\"{} ({})\"\u001b[0m\u001b[1;33m.\u001b[0m\u001b[0mformat\u001b[0m\u001b[1;33m(\u001b[0m\u001b[0mmessage\u001b[0m\u001b[1;33m,\u001b[0m \u001b[0mstatus\u001b[0m\u001b[1;33m)\u001b[0m\u001b[1;33m)\u001b[0m\u001b[1;33m\u001b[0m\u001b[1;33m\u001b[0m\u001b[0m\n\u001b[0m\u001b[0;32m    442\u001b[0m \u001b[1;33m\u001b[0m\u001b[0m\n\u001b[0;32m    443\u001b[0m \u001b[1;33m\u001b[0m\u001b[0m\n",
      "\u001b[1;31mInfeasible\u001b[0m: None (infeasible)"
     ]
    }
   ],
   "source": [
    "model_copy = copy.deepcopy(model)\n",
    "for index, row in df_aer.iterrows():\n",
    "    rct_id = row['model_id']\n",
    "    rct = model_copy.reactions.get_by_id(rct_id)\n",
    "    ub = row['UB']/20 #normalize to the 5 mmol glucose that is being supplied\n",
    "    lb = row['LB']/20 #normalize to the 5 mmol glucose that is being supplied\n",
    "    rct.bounds = (lb,ub)\n",
    "    pfba_solution = cobra.flux_analysis.pfba(model_copy)\n",
    "    print(rct_id,pfba_solution['biomass'])\n"
   ]
  },
  {
   "cell_type": "markdown",
   "metadata": {},
   "source": [
    "We can see that the solver errors after the GHMT reaction. So I will fix all the other reactions and then see what is going on in metabolism to explain where this issue comes from.\n",
    "\n"
   ]
  },
  {
   "cell_type": "code",
   "execution_count": 233,
   "metadata": {},
   "outputs": [],
   "source": [
    "model.reactions.GALUi.bounds = (0.045,0.055)\n",
    "model.reactions.G6PDH2r.bounds = (-1.7,-1.3)\n",
    "model.reactions.PRPPS.bounds = (0.18,0.22)\n",
    "model.reactions.TKT2.bounds = (-0.44, -0.36)\n",
    "model.reactions.TALA.bounds = (0.405,0.495)\n",
    "model.reactions.TKT1.bounds = (-0.495,-0.405)\n",
    "model.reactions.DDPA.bounds = (0.09,0.11)\n",
    "model.reactions.PGI.bounds = (-3.795,-3.105)\n",
    "model.reactions.FBA.bounds = (3.87,4.73)\n",
    "model.reactions.PGK.bounds = (-9.35,-8.55)\n",
    "model.reactions.ENO.bounds = (7.605,9.295)\n",
    "model.reactions.PGCD.bounds = (0.45,0.55)\n",
    "model.reactions.GHMT.bounds = (0.315,0.385)\n"
   ]
  },
  {
   "cell_type": "code",
   "execution_count": 234,
   "metadata": {},
   "outputs": [],
   "source": [
    "model.reactions.PDH.bounds = (7.515,9.185)\n",
    "model.reactions.PFL.bounds = (0,0)"
   ]
  },
  {
   "cell_type": "code",
   "execution_count": 235,
   "metadata": {},
   "outputs": [],
   "source": [
    "model.reactions.LDH_L.bounds = (-0.44,-0.36)\n",
    "model.reactions.ALCD2x.bounds = (0,0)\n",
    "model.reactions.ASPTA.bounds = (-0.44,-0.36)\n",
    "model.reactions.CS.bounds = (-3.5,-2.9)\n",
    "model.reactions.ICDHyr.bounds = (1.8,2.2)\n",
    "model.reactions.ICL.bounds = (0.6,1.8)\n",
    "model.reactions.SUCOAS.bounds = (-2.2,-1.2)\n",
    "model.reactions.SUCDi.bounds = (2.61,3.19)\n",
    "model.reactions.FUM.bounds = (2.61,3.19)\n",
    "model.reactions.MDH.bounds = (-4.51,-3.69)\n"
   ]
  },
  {
   "cell_type": "code",
   "execution_count": 236,
   "metadata": {
    "scrolled": true
   },
   "outputs": [
    {
     "data": {
      "text/plain": [
       "0.1796160053852448"
      ]
     },
     "execution_count": 236,
     "metadata": {},
     "output_type": "execute_result"
    }
   ],
   "source": [
    "pfba_solution = cobra.flux_analysis.pfba(model)\n",
    "pfba_solution['biomass']"
   ]
  },
  {
   "cell_type": "code",
   "execution_count": 237,
   "metadata": {},
   "outputs": [],
   "source": [
    "aa =['EX_his__L_e', 'EX_lys__L_e', 'EX_met__L_e', 'EX_phe__L_e', 'EX_thr__L_e', 'EX_trp__L_e', 'EX_asp__L_e', 'EX_asn__L_e', 'EX_ala__L_e', 'EX_arg__L_e','EX_cys__L_e', 'EX_gln__L_e', 'EX_glu__L_e', 'EX_gly_e', 'EX_pro__L_e','EX_ser__L_e', 'EX_tyr__L_e','EX_ile__L_e', 'EX_leu__L_e','EX_val__L_e']"
   ]
  },
  {
   "cell_type": "code",
   "execution_count": 238,
   "metadata": {},
   "outputs": [
    {
     "name": "stdout",
     "output_type": "stream",
     "text": [
      "EX_phe__L_e 0.026745818132085496\n",
      "EX_pro__L_e 0.04599100831919913\n"
     ]
    }
   ],
   "source": [
    "#Are we producing any amino acids???\n",
    "for acid in aa:\n",
    "    if pfba_solution[acid] > 0:\n",
    "        print(acid,pfba_solution[acid])\n",
    "    else: continue\n"
   ]
  },
  {
   "attachments": {},
   "cell_type": "markdown",
   "metadata": {},
   "source": [
    "So, we are producing some proline and phenylalanine, but it is not so much so I think it is oke for now.\n",
    "\n",
    "In this setting I've fit all fluxes except the PSCVT, PPCK and PC reactions. (And GLUSy and PTAr, as we decided).\n",
    "Now I need to figure out what the cause is of why I can't fix these fluxes?\n",
    "\n",
    "First: what are the fluxes in the best fit when all other fluxes are fit?"
   ]
  },
  {
   "cell_type": "code",
   "execution_count": 239,
   "metadata": {},
   "outputs": [
    {
     "name": "stdout",
     "output_type": "stream",
     "text": [
      "PSCVT 0.09\n",
      "PPCK 0.0\n",
      "PC 0.0\n"
     ]
    }
   ],
   "source": [
    "print('PSCVT',pfba_solution['PSCVT'])\n",
    "print('PPCK',pfba_solution['PPCK'])\n",
    "print('PC',pfba_solution['PC'])\n"
   ]
  },
  {
   "cell_type": "code",
   "execution_count": 240,
   "metadata": {},
   "outputs": [],
   "source": [
    "model.reactions.PC.bounds = (0,5.3)\n",
    "model.reactions.PPCK.bounds = (0,6.5)"
   ]
  },
  {
   "cell_type": "markdown",
   "metadata": {},
   "source": [
    "So the only flux that I can't fix is that of PSCVT, which matches the reaction that produces phenylalanine. Maybe it should be fit to a different reaction in the model? \n",
    "\n",
    "It was fit to the PSCVT, which is the first brance to the shikimate pathway. Maybe I should fix it to a different reaction further downstream? When it is fit to PHETA1 it can be solved... this is unexpected but it does seem to work."
   ]
  },
  {
   "cell_type": "code",
   "execution_count": 241,
   "metadata": {},
   "outputs": [],
   "source": [
    "model.reactions.PHETA1.bounds = (-0.22,-0.18)"
   ]
  },
  {
   "cell_type": "code",
   "execution_count": 242,
   "metadata": {},
   "outputs": [
    {
     "data": {
      "text/plain": [
       "0.17961600538522435"
      ]
     },
     "execution_count": 242,
     "metadata": {},
     "output_type": "execute_result"
    }
   ],
   "source": [
    "pfba_solution = cobra.flux_analysis.pfba(model)\n",
    "pfba_solution['biomass']"
   ]
  },
  {
   "cell_type": "code",
   "execution_count": 243,
   "metadata": {
    "scrolled": true
   },
   "outputs": [
    {
     "name": "stdout",
     "output_type": "stream",
     "text": [
      "EX_phe__L_e 0.026745818132092675\n",
      "EX_pro__L_e 0.045991008319333074\n"
     ]
    }
   ],
   "source": [
    "for acid in aa:\n",
    "    if pfba_solution[acid] > 0:\n",
    "        print(acid,pfba_solution[acid])\n",
    "    else: continue"
   ]
  },
  {
   "cell_type": "markdown",
   "metadata": {},
   "source": [
    "When the two changes above are made in the table, it should solve the issue."
   ]
  },
  {
   "cell_type": "code",
   "execution_count": 217,
   "metadata": {},
   "outputs": [],
   "source": [
    "df_aer = pd.read_csv('../databases/Tang 2009 fluxes-aerobic.csv')"
   ]
  },
  {
   "cell_type": "code",
   "execution_count": 218,
   "metadata": {},
   "outputs": [],
   "source": [
    "#note: aerobic is the fluxes from the paper, without GLUSy (i.e. the flux to glutamate in the biomass)"
   ]
  },
  {
   "cell_type": "code",
   "execution_count": 220,
   "metadata": {
    "scrolled": true
   },
   "outputs": [
    {
     "name": "stdout",
     "output_type": "stream",
     "text": [
      "GLC__Dtpts 0.17961639818529673\n",
      "GALUi 0.17961600538522537\n",
      "G6PDH2r 0.17961600538522537\n",
      "PRPPS 0.17961600538522537\n",
      "TKT2 0.17961600538522537\n",
      "TALA 0.17961600538522537\n",
      "TKT1 0.1796160053852252\n",
      "DDPA 0.1796160053852252\n",
      "PGI 0.1796160053852252\n",
      "FBA 0.1796160053852252\n",
      "PGK 0.1796160053852252\n",
      "ENO 0.17961600538522413\n",
      "PGCD 0.17961600538522413\n",
      "GHMT 0.17961600538522413\n",
      "PHETA1 0.17961600538522413\n",
      "PPCK 0.17961600538522413\n",
      "PC 0.17961600538522413\n",
      "PDH 0.17961600538522568\n",
      "PFL 0.17961600538522568\n",
      "LDH_L 0.17961600538522568\n",
      "ALCD2x 0.17961600538522568\n",
      "ASPTA 0.17961600538522568\n",
      "CS 0.17961600538522568\n",
      "ICDHyr 0.17961600538522568\n",
      "ICL 0.17961600538522568\n",
      "SUCOAS 0.17961600538522568\n",
      "SUCDi 0.17961600538522562\n",
      "FUM 0.17961600538522562\n",
      "MDH 0.17961600538522562\n"
     ]
    }
   ],
   "source": [
    "model_copy = copy.deepcopy(model)\n",
    "for index, row in df_aer.iterrows():\n",
    "    rct_id = row['model_id']\n",
    "    rct = model_copy.reactions.get_by_id(rct_id)\n",
    "    ub = row['UB']/20 #normalize to the 5 mmol glucose that is being supplied\n",
    "    lb = row['LB']/20 #normalize to the 5 mmol glucose that is being supplied\n",
    "    rct.bounds = (lb,ub)\n",
    "    pfba_solution = cobra.flux_analysis.pfba(model_copy)\n",
    "    print(rct_id,pfba_solution['biomass'])\n"
   ]
  },
  {
   "cell_type": "markdown",
   "metadata": {},
   "source": [
    "Now that the fluxes have been fit, we would want to see what the predicted exchange rates are and then compare this to the published data.\n"
   ]
  },
  {
   "cell_type": "code",
   "execution_count": 226,
   "metadata": {},
   "outputs": [],
   "source": [
    "prod = ['EX_glc__D_e', 'EX_lac__L_e','EX_etoh_e', 'EX_ac_e', 'EX_for_e']"
   ]
  },
  {
   "cell_type": "code",
   "execution_count": 228,
   "metadata": {
    "scrolled": false
   },
   "outputs": [
    {
     "name": "stdout",
     "output_type": "stream",
     "text": [
      "EX_glc__D_e :   1.0\n",
      "EX_lac__L_e :   -0.0751844087035775\n",
      "EX_etoh_e :   -0.0\n",
      "EX_ac_e :   -0.03838256641316192\n",
      "EX_for_e :   -0.03680831047146421\n"
     ]
    }
   ],
   "source": [
    "for comp in prod:\n",
    "    pfba_solution = cobra.flux_analysis.pfba(model)\n",
    "    print(comp,':  ',pfba_solution[comp]/pfba_solution['EX_glc__D_e'])"
   ]
  },
  {
   "cell_type": "markdown",
   "metadata": {},
   "source": [
    "## HMM the values are quite different, should i also fix the PTAr reaction?\n",
    "seems to work alright.. so maybe this could be done?\n",
    "then It is quite oke!\n",
    "\n",
    "SO fix this in the excel sheet: so we only neglect GLUSy! "
   ]
  },
  {
   "cell_type": "code",
   "execution_count": 244,
   "metadata": {},
   "outputs": [],
   "source": [
    "model.reactions.PTAr.bounds = (3.555,4.345)"
   ]
  },
  {
   "cell_type": "code",
   "execution_count": 246,
   "metadata": {},
   "outputs": [
    {
     "name": "stdout",
     "output_type": "stream",
     "text": [
      "EX_glc__D_e :   1.0\n",
      "EX_lac__L_e :   -0.07518440870357829\n",
      "EX_etoh_e :   -0.0\n",
      "EX_ac_e :   -0.7794643183170624\n",
      "EX_for_e :   -0.03680831047148083\n"
     ]
    }
   ],
   "source": [
    "for comp in prod:\n",
    "    pfba_solution = cobra.flux_analysis.pfba(model)\n",
    "    print(comp,':  ',pfba_solution[comp]/pfba_solution['EX_glc__D_e'])"
   ]
  },
  {
   "cell_type": "markdown",
   "metadata": {},
   "source": [
    "## Microaerobic\n",
    "Here an unfortunate thing is that we lack the information about the amount of oxygen that is supplied for the microaerobic experiment. So what i will do is fit the fluxes as they are defined, and then see what oxygen consumption the model predicts. \n",
    "\n",
    "__Alternatively, I set the oxygen supply to an arbitrarily selected 'micro' aerobic system....__ ??\n"
   ]
  },
  {
   "cell_type": "code",
   "execution_count": 33,
   "metadata": {},
   "outputs": [],
   "source": [
    "#set the glucose consumption to 5 mmol/gCDW/h\n",
    "model.reactions.EX_glc__D_e.bounds = (-5,1000)"
   ]
  },
  {
   "cell_type": "code",
   "execution_count": 42,
   "metadata": {},
   "outputs": [],
   "source": [
    "df_anaer = pd.read_csv('../../databases/Tang 2009 fluxes-microaerobic.csv')"
   ]
  },
  {
   "cell_type": "code",
   "execution_count": 43,
   "metadata": {},
   "outputs": [],
   "source": [
    "#note: aerobic is the fluxes from the paper, without GLUSy (i.e. the flux to glutamate in the biomass)"
   ]
  },
  {
   "cell_type": "code",
   "execution_count": 44,
   "metadata": {},
   "outputs": [],
   "source": [
    "del df_anaer['N.B.: 0 means no info available']"
   ]
  },
  {
   "cell_type": "code",
   "execution_count": 45,
   "metadata": {},
   "outputs": [
    {
     "name": "stdout",
     "output_type": "stream",
     "text": [
      "GLC__Dtpts 0.328616263659893\n",
      "GALUi 0.32861626365989305\n",
      "G6PDH2r 0.32754860998855234\n",
      "PRPPS 0.1451252828072703\n",
      "TKT2 0.14512528280726988\n",
      "TALA 0.1451252828072707\n",
      "TKT1 0.1451252828072714\n",
      "DDPA 0.14512528280727274\n",
      "PGI 0.14512528280728362\n",
      "FBA 0.14512528280728362\n",
      "PGK 0.14512528280726728\n",
      "ENO 0.14512528280726422\n",
      "PGCD 0.1451252828072635\n",
      "GHMT 0.14512528280726392\n",
      "PSCVT 0.14512528280726392\n",
      "PPCK 0.1451252828072688\n"
     ]
    },
    {
     "name": "stderr",
     "output_type": "stream",
     "text": [
      "C:\\Users\\vivmol\\AppData\\Local\\Continuum\\anaconda3\\envs\\g-thermo\\lib\\site-packages\\cobra\\util\\solver.py:416: UserWarning:\n",
      "\n",
      "solver status is 'infeasible'\n",
      "\n"
     ]
    },
    {
     "name": "stdout",
     "output_type": "stream",
     "text": [
      "PC 0.14512528280726877\n",
      "PDH 0.14512528280726877\n",
      "PFL 0.14512528280727252\n",
      "LDH_L 7.712686799789064e-16\n",
      "ALCD2x -7.61338181953427e-17\n",
      "ASPTA 4.490791884855722e-16\n",
      "CS 5.6744648992952885e-31\n",
      "ACONTa 0.0\n",
      "ICL 0.0\n",
      "SUCOAS 0.0\n",
      "SUCDi 0.0\n",
      "FUM 1.469056239416829e-17\n",
      "MDH 1.469056239416669e-17\n"
     ]
    }
   ],
   "source": [
    "model_copy = copy.deepcopy(model)\n",
    "for index, row in df_anaer.iterrows():\n",
    "    rct_id = row['model_id']\n",
    "    rct = model_copy.reactions.get_by_id(rct_id)\n",
    "    ub = row['UB']/20 #normalize to the 5 mmol glucose that is being supplied\n",
    "    lb = row['LB']/20 #normalize to the 5 mmol glucose that is being supplied\n",
    "    rct.bounds = (lb,ub)\n",
    "    pfba_solution = cobra.flux_analysis.pfba(model_copy)\n",
    "    print(rct_id,pfba_solution['biomass'])"
   ]
  },
  {
   "cell_type": "code",
   "execution_count": 39,
   "metadata": {
    "scrolled": true
   },
   "outputs": [
    {
     "name": "stderr",
     "output_type": "stream",
     "text": [
      "C:\\Users\\vivmol\\AppData\\Local\\Continuum\\anaconda3\\envs\\g-thermo\\lib\\site-packages\\cobra\\util\\solver.py:416: UserWarning:\n",
      "\n",
      "solver status is 'infeasible'\n",
      "\n"
     ]
    },
    {
     "data": {
      "text/html": [
       "<strong><em>infeasible</em> solution</strong>"
      ],
      "text/plain": [
       "<Solution infeasible at 0x1bc56281948>"
      ]
     },
     "execution_count": 39,
     "metadata": {},
     "output_type": "execute_result"
    }
   ],
   "source": [
    "model_copy.optimize()"
   ]
  },
  {
   "cell_type": "code",
   "execution_count": null,
   "metadata": {},
   "outputs": [],
   "source": []
  },
  {
   "cell_type": "markdown",
   "metadata": {},
   "source": [
    "Note:\n",
    "- for the micro-aerobic conversion of pyr to acetyl-coa, we need to distinguish PDH from PFL.. for aerobic it is clear it is PDH. For microaerobic, it is hard to discern the exact ratio that one could observe, so i think we should set the bounds to allow the rang of either reaction within the measurement made and from there estimate the ratio of activity between PDH and PFL. \n",
    "\n"
   ]
  },
  {
   "cell_type": "markdown",
   "metadata": {},
   "source": [
    "\n",
    "- maybe i can plot the measured vs simulated fluxes/exchanges or so?\n"
   ]
  },
  {
   "cell_type": "code",
   "execution_count": null,
   "metadata": {},
   "outputs": [],
   "source": []
  }
 ],
 "metadata": {
  "kernelspec": {
   "display_name": "Python 3",
   "language": "python",
   "name": "python3"
  },
  "language_info": {
   "codemirror_mode": {
    "name": "ipython",
    "version": 3
   },
   "file_extension": ".py",
   "mimetype": "text/x-python",
   "name": "python",
   "nbconvert_exporter": "python",
   "pygments_lexer": "ipython3",
   "version": "3.7.7"
  }
 },
 "nbformat": 4,
 "nbformat_minor": 4
}
