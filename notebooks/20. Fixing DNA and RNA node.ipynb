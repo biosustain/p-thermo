{
 "cells": [
  {
   "cell_type": "markdown",
   "metadata": {},
   "source": [
    "# Introduction\n",
    "I've noticed in the model that there is no glutamine and arginine. Also in the version that was originally sent to me from UBath these metabolites were not present, though Beata did determine their presence in biomass. As in another notebook I saw that glutamate formation is somehow a problem when certain changes are made, I want to check if this is already the case in our model before those changes. \n",
    "\n",
    "1) I will add the glutamine and arginine into the biomass reaction and see what their effect may be on the growth rate. Then I can determine maybe better where the problem lies. \n",
    "\n",
    "2) I will remove this DNA/RNA node (seperately) and see which metabolites become problematic in creating biomass. I've looked into this before after the mentioned changes, but then there are 22 metabolites that are a problem. Hopefully at this stage there are some less and then it helps pinpoint the issues more.\n"
   ]
  },
  {
   "cell_type": "code",
   "execution_count": 2,
   "metadata": {},
   "outputs": [
    {
     "data": {
      "application/javascript": [
       "\n",
       "(function(root) {\n",
       "  function now() {\n",
       "    return new Date();\n",
       "  }\n",
       "\n",
       "  var force = true;\n",
       "\n",
       "  if (typeof root._bokeh_onload_callbacks === \"undefined\" || force === true) {\n",
       "    root._bokeh_onload_callbacks = [];\n",
       "    root._bokeh_is_loading = undefined;\n",
       "  }\n",
       "\n",
       "  var JS_MIME_TYPE = 'application/javascript';\n",
       "  var HTML_MIME_TYPE = 'text/html';\n",
       "  var EXEC_MIME_TYPE = 'application/vnd.bokehjs_exec.v0+json';\n",
       "  var CLASS_NAME = 'output_bokeh rendered_html';\n",
       "\n",
       "  /**\n",
       "   * Render data to the DOM node\n",
       "   */\n",
       "  function render(props, node) {\n",
       "    var script = document.createElement(\"script\");\n",
       "    node.appendChild(script);\n",
       "  }\n",
       "\n",
       "  /**\n",
       "   * Handle when an output is cleared or removed\n",
       "   */\n",
       "  function handleClearOutput(event, handle) {\n",
       "    var cell = handle.cell;\n",
       "\n",
       "    var id = cell.output_area._bokeh_element_id;\n",
       "    var server_id = cell.output_area._bokeh_server_id;\n",
       "    // Clean up Bokeh references\n",
       "    if (id != null && id in Bokeh.index) {\n",
       "      Bokeh.index[id].model.document.clear();\n",
       "      delete Bokeh.index[id];\n",
       "    }\n",
       "\n",
       "    if (server_id !== undefined) {\n",
       "      // Clean up Bokeh references\n",
       "      var cmd = \"from bokeh.io.state import curstate; print(curstate().uuid_to_server['\" + server_id + \"'].get_sessions()[0].document.roots[0]._id)\";\n",
       "      cell.notebook.kernel.execute(cmd, {\n",
       "        iopub: {\n",
       "          output: function(msg) {\n",
       "            var id = msg.content.text.trim();\n",
       "            if (id in Bokeh.index) {\n",
       "              Bokeh.index[id].model.document.clear();\n",
       "              delete Bokeh.index[id];\n",
       "            }\n",
       "          }\n",
       "        }\n",
       "      });\n",
       "      // Destroy server and session\n",
       "      var cmd = \"import bokeh.io.notebook as ion; ion.destroy_server('\" + server_id + \"')\";\n",
       "      cell.notebook.kernel.execute(cmd);\n",
       "    }\n",
       "  }\n",
       "\n",
       "  /**\n",
       "   * Handle when a new output is added\n",
       "   */\n",
       "  function handleAddOutput(event, handle) {\n",
       "    var output_area = handle.output_area;\n",
       "    var output = handle.output;\n",
       "\n",
       "    // limit handleAddOutput to display_data with EXEC_MIME_TYPE content only\n",
       "    if ((output.output_type != \"display_data\") || (!output.data.hasOwnProperty(EXEC_MIME_TYPE))) {\n",
       "      return\n",
       "    }\n",
       "\n",
       "    var toinsert = output_area.element.find(\".\" + CLASS_NAME.split(' ')[0]);\n",
       "\n",
       "    if (output.metadata[EXEC_MIME_TYPE][\"id\"] !== undefined) {\n",
       "      toinsert[toinsert.length - 1].firstChild.textContent = output.data[JS_MIME_TYPE];\n",
       "      // store reference to embed id on output_area\n",
       "      output_area._bokeh_element_id = output.metadata[EXEC_MIME_TYPE][\"id\"];\n",
       "    }\n",
       "    if (output.metadata[EXEC_MIME_TYPE][\"server_id\"] !== undefined) {\n",
       "      var bk_div = document.createElement(\"div\");\n",
       "      bk_div.innerHTML = output.data[HTML_MIME_TYPE];\n",
       "      var script_attrs = bk_div.children[0].attributes;\n",
       "      for (var i = 0; i < script_attrs.length; i++) {\n",
       "        toinsert[toinsert.length - 1].firstChild.setAttribute(script_attrs[i].name, script_attrs[i].value);\n",
       "      }\n",
       "      // store reference to server id on output_area\n",
       "      output_area._bokeh_server_id = output.metadata[EXEC_MIME_TYPE][\"server_id\"];\n",
       "    }\n",
       "  }\n",
       "\n",
       "  function register_renderer(events, OutputArea) {\n",
       "\n",
       "    function append_mime(data, metadata, element) {\n",
       "      // create a DOM node to render to\n",
       "      var toinsert = this.create_output_subarea(\n",
       "        metadata,\n",
       "        CLASS_NAME,\n",
       "        EXEC_MIME_TYPE\n",
       "      );\n",
       "      this.keyboard_manager.register_events(toinsert);\n",
       "      // Render to node\n",
       "      var props = {data: data, metadata: metadata[EXEC_MIME_TYPE]};\n",
       "      render(props, toinsert[toinsert.length - 1]);\n",
       "      element.append(toinsert);\n",
       "      return toinsert\n",
       "    }\n",
       "\n",
       "    /* Handle when an output is cleared or removed */\n",
       "    events.on('clear_output.CodeCell', handleClearOutput);\n",
       "    events.on('delete.Cell', handleClearOutput);\n",
       "\n",
       "    /* Handle when a new output is added */\n",
       "    events.on('output_added.OutputArea', handleAddOutput);\n",
       "\n",
       "    /**\n",
       "     * Register the mime type and append_mime function with output_area\n",
       "     */\n",
       "    OutputArea.prototype.register_mime_type(EXEC_MIME_TYPE, append_mime, {\n",
       "      /* Is output safe? */\n",
       "      safe: true,\n",
       "      /* Index of renderer in `output_area.display_order` */\n",
       "      index: 0\n",
       "    });\n",
       "  }\n",
       "\n",
       "  // register the mime type if in Jupyter Notebook environment and previously unregistered\n",
       "  if (root.Jupyter !== undefined) {\n",
       "    var events = require('base/js/events');\n",
       "    var OutputArea = require('notebook/js/outputarea').OutputArea;\n",
       "\n",
       "    if (OutputArea.prototype.mime_types().indexOf(EXEC_MIME_TYPE) == -1) {\n",
       "      register_renderer(events, OutputArea);\n",
       "    }\n",
       "  }\n",
       "\n",
       "  \n",
       "  if (typeof (root._bokeh_timeout) === \"undefined\" || force === true) {\n",
       "    root._bokeh_timeout = Date.now() + 5000;\n",
       "    root._bokeh_failed_load = false;\n",
       "  }\n",
       "\n",
       "  var NB_LOAD_WARNING = {'data': {'text/html':\n",
       "     \"<div style='background-color: #fdd'>\\n\"+\n",
       "     \"<p>\\n\"+\n",
       "     \"BokehJS does not appear to have successfully loaded. If loading BokehJS from CDN, this \\n\"+\n",
       "     \"may be due to a slow or bad network connection. Possible fixes:\\n\"+\n",
       "     \"</p>\\n\"+\n",
       "     \"<ul>\\n\"+\n",
       "     \"<li>re-rerun `output_notebook()` to attempt to load from CDN again, or</li>\\n\"+\n",
       "     \"<li>use INLINE resources instead, as so:</li>\\n\"+\n",
       "     \"</ul>\\n\"+\n",
       "     \"<code>\\n\"+\n",
       "     \"from bokeh.resources import INLINE\\n\"+\n",
       "     \"output_notebook(resources=INLINE)\\n\"+\n",
       "     \"</code>\\n\"+\n",
       "     \"</div>\"}};\n",
       "\n",
       "  function display_loaded() {\n",
       "    var el = document.getElementById(null);\n",
       "    if (el != null) {\n",
       "      el.textContent = \"BokehJS is loading...\";\n",
       "    }\n",
       "    if (root.Bokeh !== undefined) {\n",
       "      if (el != null) {\n",
       "        el.textContent = \"BokehJS \" + root.Bokeh.version + \" successfully loaded.\";\n",
       "      }\n",
       "    } else if (Date.now() < root._bokeh_timeout) {\n",
       "      setTimeout(display_loaded, 100)\n",
       "    }\n",
       "  }\n",
       "\n",
       "\n",
       "  function run_callbacks() {\n",
       "    try {\n",
       "      root._bokeh_onload_callbacks.forEach(function(callback) {\n",
       "        if (callback != null)\n",
       "          callback();\n",
       "      });\n",
       "    } finally {\n",
       "      delete root._bokeh_onload_callbacks\n",
       "    }\n",
       "    console.debug(\"Bokeh: all callbacks have finished\");\n",
       "  }\n",
       "\n",
       "  function load_libs(css_urls, js_urls, callback) {\n",
       "    if (css_urls == null) css_urls = [];\n",
       "    if (js_urls == null) js_urls = [];\n",
       "\n",
       "    root._bokeh_onload_callbacks.push(callback);\n",
       "    if (root._bokeh_is_loading > 0) {\n",
       "      console.debug(\"Bokeh: BokehJS is being loaded, scheduling callback at\", now());\n",
       "      return null;\n",
       "    }\n",
       "    if (js_urls == null || js_urls.length === 0) {\n",
       "      run_callbacks();\n",
       "      return null;\n",
       "    }\n",
       "    console.debug(\"Bokeh: BokehJS not loaded, scheduling load and callback at\", now());\n",
       "    root._bokeh_is_loading = css_urls.length + js_urls.length;\n",
       "\n",
       "    function on_load() {\n",
       "      root._bokeh_is_loading--;\n",
       "      if (root._bokeh_is_loading === 0) {\n",
       "        console.debug(\"Bokeh: all BokehJS libraries/stylesheets loaded\");\n",
       "        run_callbacks()\n",
       "      }\n",
       "    }\n",
       "\n",
       "    function on_error() {\n",
       "      console.error(\"failed to load \" + url);\n",
       "    }\n",
       "\n",
       "    for (var i = 0; i < css_urls.length; i++) {\n",
       "      var url = css_urls[i];\n",
       "      const element = document.createElement(\"link\");\n",
       "      element.onload = on_load;\n",
       "      element.onerror = on_error;\n",
       "      element.rel = \"stylesheet\";\n",
       "      element.type = \"text/css\";\n",
       "      element.href = url;\n",
       "      console.debug(\"Bokeh: injecting link tag for BokehJS stylesheet: \", url);\n",
       "      document.body.appendChild(element);\n",
       "    }\n",
       "\n",
       "    for (var i = 0; i < js_urls.length; i++) {\n",
       "      var url = js_urls[i];\n",
       "      var element = document.createElement('script');\n",
       "      element.onload = on_load;\n",
       "      element.onerror = on_error;\n",
       "      element.async = false;\n",
       "      element.src = url;\n",
       "      console.debug(\"Bokeh: injecting script tag for BokehJS library: \", url);\n",
       "      document.head.appendChild(element);\n",
       "    }\n",
       "  };\n",
       "\n",
       "  function inject_raw_css(css) {\n",
       "    const element = document.createElement(\"style\");\n",
       "    element.appendChild(document.createTextNode(css));\n",
       "    document.body.appendChild(element);\n",
       "  }\n",
       "\n",
       "  var js_urls = [\"https://cdn.pydata.org/bokeh/release/bokeh-1.3.4.min.js\", \"https://cdn.pydata.org/bokeh/release/bokeh-widgets-1.3.4.min.js\", \"https://cdn.pydata.org/bokeh/release/bokeh-tables-1.3.4.min.js\", \"https://cdn.pydata.org/bokeh/release/bokeh-gl-1.3.4.min.js\"];\n",
       "  var css_urls = [];\n",
       "\n",
       "  var inline_js = [\n",
       "    function(Bokeh) {\n",
       "      Bokeh.set_log_level(\"info\");\n",
       "    },\n",
       "    \n",
       "    function(Bokeh) {\n",
       "      \n",
       "    },\n",
       "    function(Bokeh) {} // ensure no trailing comma for IE\n",
       "  ];\n",
       "\n",
       "  function run_inline_js() {\n",
       "    \n",
       "    if ((root.Bokeh !== undefined) || (force === true)) {\n",
       "      for (var i = 0; i < inline_js.length; i++) {\n",
       "        inline_js[i].call(root, root.Bokeh);\n",
       "      }} else if (Date.now() < root._bokeh_timeout) {\n",
       "      setTimeout(run_inline_js, 100);\n",
       "    } else if (!root._bokeh_failed_load) {\n",
       "      console.log(\"Bokeh: BokehJS failed to load within specified timeout.\");\n",
       "      root._bokeh_failed_load = true;\n",
       "    } else if (force !== true) {\n",
       "      var cell = $(document.getElementById(null)).parents('.cell').data().cell;\n",
       "      cell.output_area.append_execute_result(NB_LOAD_WARNING)\n",
       "    }\n",
       "\n",
       "  }\n",
       "\n",
       "  if (root._bokeh_is_loading === 0) {\n",
       "    console.debug(\"Bokeh: BokehJS loaded, going straight to plotting\");\n",
       "    run_inline_js();\n",
       "  } else {\n",
       "    load_libs(css_urls, js_urls, function() {\n",
       "      console.debug(\"Bokeh: BokehJS plotting callback run at\", now());\n",
       "      run_inline_js();\n",
       "    });\n",
       "  }\n",
       "}(window));"
      ],
      "application/vnd.bokehjs_load.v0+json": "\n(function(root) {\n  function now() {\n    return new Date();\n  }\n\n  var force = true;\n\n  if (typeof root._bokeh_onload_callbacks === \"undefined\" || force === true) {\n    root._bokeh_onload_callbacks = [];\n    root._bokeh_is_loading = undefined;\n  }\n\n  \n\n  \n  if (typeof (root._bokeh_timeout) === \"undefined\" || force === true) {\n    root._bokeh_timeout = Date.now() + 5000;\n    root._bokeh_failed_load = false;\n  }\n\n  var NB_LOAD_WARNING = {'data': {'text/html':\n     \"<div style='background-color: #fdd'>\\n\"+\n     \"<p>\\n\"+\n     \"BokehJS does not appear to have successfully loaded. If loading BokehJS from CDN, this \\n\"+\n     \"may be due to a slow or bad network connection. Possible fixes:\\n\"+\n     \"</p>\\n\"+\n     \"<ul>\\n\"+\n     \"<li>re-rerun `output_notebook()` to attempt to load from CDN again, or</li>\\n\"+\n     \"<li>use INLINE resources instead, as so:</li>\\n\"+\n     \"</ul>\\n\"+\n     \"<code>\\n\"+\n     \"from bokeh.resources import INLINE\\n\"+\n     \"output_notebook(resources=INLINE)\\n\"+\n     \"</code>\\n\"+\n     \"</div>\"}};\n\n  function display_loaded() {\n    var el = document.getElementById(null);\n    if (el != null) {\n      el.textContent = \"BokehJS is loading...\";\n    }\n    if (root.Bokeh !== undefined) {\n      if (el != null) {\n        el.textContent = \"BokehJS \" + root.Bokeh.version + \" successfully loaded.\";\n      }\n    } else if (Date.now() < root._bokeh_timeout) {\n      setTimeout(display_loaded, 100)\n    }\n  }\n\n\n  function run_callbacks() {\n    try {\n      root._bokeh_onload_callbacks.forEach(function(callback) {\n        if (callback != null)\n          callback();\n      });\n    } finally {\n      delete root._bokeh_onload_callbacks\n    }\n    console.debug(\"Bokeh: all callbacks have finished\");\n  }\n\n  function load_libs(css_urls, js_urls, callback) {\n    if (css_urls == null) css_urls = [];\n    if (js_urls == null) js_urls = [];\n\n    root._bokeh_onload_callbacks.push(callback);\n    if (root._bokeh_is_loading > 0) {\n      console.debug(\"Bokeh: BokehJS is being loaded, scheduling callback at\", now());\n      return null;\n    }\n    if (js_urls == null || js_urls.length === 0) {\n      run_callbacks();\n      return null;\n    }\n    console.debug(\"Bokeh: BokehJS not loaded, scheduling load and callback at\", now());\n    root._bokeh_is_loading = css_urls.length + js_urls.length;\n\n    function on_load() {\n      root._bokeh_is_loading--;\n      if (root._bokeh_is_loading === 0) {\n        console.debug(\"Bokeh: all BokehJS libraries/stylesheets loaded\");\n        run_callbacks()\n      }\n    }\n\n    function on_error() {\n      console.error(\"failed to load \" + url);\n    }\n\n    for (var i = 0; i < css_urls.length; i++) {\n      var url = css_urls[i];\n      const element = document.createElement(\"link\");\n      element.onload = on_load;\n      element.onerror = on_error;\n      element.rel = \"stylesheet\";\n      element.type = \"text/css\";\n      element.href = url;\n      console.debug(\"Bokeh: injecting link tag for BokehJS stylesheet: \", url);\n      document.body.appendChild(element);\n    }\n\n    for (var i = 0; i < js_urls.length; i++) {\n      var url = js_urls[i];\n      var element = document.createElement('script');\n      element.onload = on_load;\n      element.onerror = on_error;\n      element.async = false;\n      element.src = url;\n      console.debug(\"Bokeh: injecting script tag for BokehJS library: \", url);\n      document.head.appendChild(element);\n    }\n  };\n\n  function inject_raw_css(css) {\n    const element = document.createElement(\"style\");\n    element.appendChild(document.createTextNode(css));\n    document.body.appendChild(element);\n  }\n\n  var js_urls = [\"https://cdn.pydata.org/bokeh/release/bokeh-1.3.4.min.js\", \"https://cdn.pydata.org/bokeh/release/bokeh-widgets-1.3.4.min.js\", \"https://cdn.pydata.org/bokeh/release/bokeh-tables-1.3.4.min.js\", \"https://cdn.pydata.org/bokeh/release/bokeh-gl-1.3.4.min.js\"];\n  var css_urls = [];\n\n  var inline_js = [\n    function(Bokeh) {\n      Bokeh.set_log_level(\"info\");\n    },\n    \n    function(Bokeh) {\n      \n    },\n    function(Bokeh) {} // ensure no trailing comma for IE\n  ];\n\n  function run_inline_js() {\n    \n    if ((root.Bokeh !== undefined) || (force === true)) {\n      for (var i = 0; i < inline_js.length; i++) {\n        inline_js[i].call(root, root.Bokeh);\n      }} else if (Date.now() < root._bokeh_timeout) {\n      setTimeout(run_inline_js, 100);\n    } else if (!root._bokeh_failed_load) {\n      console.log(\"Bokeh: BokehJS failed to load within specified timeout.\");\n      root._bokeh_failed_load = true;\n    } else if (force !== true) {\n      var cell = $(document.getElementById(null)).parents('.cell').data().cell;\n      cell.output_area.append_execute_result(NB_LOAD_WARNING)\n    }\n\n  }\n\n  if (root._bokeh_is_loading === 0) {\n    console.debug(\"Bokeh: BokehJS loaded, going straight to plotting\");\n    run_inline_js();\n  } else {\n    load_libs(css_urls, js_urls, function() {\n      console.debug(\"Bokeh: BokehJS plotting callback run at\", now());\n      run_inline_js();\n    });\n  }\n}(window));"
     },
     "metadata": {},
     "output_type": "display_data"
    }
   ],
   "source": [
    "import cameo\n",
    "import pandas as pd\n",
    "import cobra.io\n",
    "import escher\n",
    "from escher import Builder\n",
    "from cobra import Reaction"
   ]
  },
  {
   "cell_type": "code",
   "execution_count": 3,
   "metadata": {},
   "outputs": [],
   "source": [
    "model = cobra.io.read_sbml_model('../model/p-thermo.xml')"
   ]
  },
  {
   "cell_type": "code",
   "execution_count": 3,
   "metadata": {},
   "outputs": [],
   "source": [
    "model_e_coli = cameo.load_model('iML1515')"
   ]
  },
  {
   "cell_type": "code",
   "execution_count": 4,
   "metadata": {},
   "outputs": [],
   "source": [
    "model_b_sub = cameo.load_model('iYO844')"
   ]
  },
  {
   "cell_type": "markdown",
   "metadata": {},
   "source": [
    "### Biomass rct\n",
    "here I will add arginine and glutamate in to the biomass reaction and see what it does to the growth rate.*"
   ]
  },
  {
   "cell_type": "code",
   "execution_count": 23,
   "metadata": {},
   "outputs": [
    {
     "data": {
      "text/plain": [
       "9.65918661040208"
      ]
     },
     "execution_count": 23,
     "metadata": {},
     "output_type": "execute_result"
    }
   ],
   "source": [
    "#initially\n",
    "model.optimize().objective_value"
   ]
  },
  {
   "cell_type": "code",
   "execution_count": 24,
   "metadata": {},
   "outputs": [
    {
     "name": "stdout",
     "output_type": "stream",
     "text": [
      "gln addition: 9.690680005039457\n"
     ]
    }
   ],
   "source": [
    "#first just add glutamine\n",
    "with model:\n",
    "    model.reactions.biomass.add_metabolites({model.metabolites.gln__L_c: -0.683})\n",
    "    print ('gln addition:', model.optimize().objective_value)"
   ]
  },
  {
   "cell_type": "code",
   "execution_count": 25,
   "metadata": {},
   "outputs": [
    {
     "name": "stdout",
     "output_type": "stream",
     "text": [
      "arg addition: 9.703975049163983\n"
     ]
    }
   ],
   "source": [
    "#adding just arginine\n",
    "with model:\n",
    "    model.reactions.biomass.add_metabolites({model.metabolites.arg__L_c: -0.194})\n",
    "    print ('arg addition:', model.optimize().objective_value)"
   ]
  },
  {
   "cell_type": "code",
   "execution_count": 26,
   "metadata": {},
   "outputs": [
    {
     "name": "stdout",
     "output_type": "stream",
     "text": [
      "arg and gln addition: 9.734984500301621\n"
     ]
    }
   ],
   "source": [
    "#adding both \n",
    "with model:\n",
    "    model.reactions.biomass.add_metabolites({model.metabolites.arg__L_c: -0.194, model.metabolites.gln__L_c:-0.683})\n",
    "    print ('arg and gln addition:', model.optimize().objective_value)"
   ]
  },
  {
   "cell_type": "markdown",
   "metadata": {},
   "source": [
    "So it seems that the current biomass reation isn't blocked when these metabolites are added, and so the model can produce them in this case."
   ]
  },
  {
   "cell_type": "markdown",
   "metadata": {},
   "source": [
    "so I will re-add them into the biomass reaction here."
   ]
  },
  {
   "cell_type": "code",
   "execution_count": 27,
   "metadata": {},
   "outputs": [
    {
     "name": "stdout",
     "output_type": "stream",
     "text": [
      "arg and gln addition: 9.73498450030162\n"
     ]
    }
   ],
   "source": [
    "model.reactions.biomass.add_metabolites({model.metabolites.arg__L_c: -0.194, model.metabolites.gln__L_c:-0.683})\n",
    "print ('arg and gln addition:', model.optimize().objective_value)"
   ]
  },
  {
   "cell_type": "markdown",
   "metadata": {},
   "source": [
    "I've also previously noticed that the biomass reaction has an strange ADP/ATP inclusion. The reaction produces 104.9856 mmol/gdw/h of ADP and Pi, but doesn't consume that amount of ATP. So I will add that here and see what the effect is. At a later stage we will revisit the whole biomass reaction anyway, and so will just use the coefficient here."
   ]
  },
  {
   "cell_type": "code",
   "execution_count": 28,
   "metadata": {},
   "outputs": [
    {
     "name": "stdout",
     "output_type": "stream",
     "text": [
      "fixing atp: 28.828238948514628\n"
     ]
    }
   ],
   "source": [
    "model.reactions.biomass.add_metabolites({model.metabolites.atp_c: -104.9974})\n",
    "print ('fixing atp:', model.optimize().objective_value)"
   ]
  },
  {
   "cell_type": "markdown",
   "metadata": {},
   "source": [
    "It is very wierd that adding ATP to the biomass reaction increases growth. This indicates that somewhere we are generating huge amounts of ATP. Which is even stranger considering that there is no ATP synthase in the model."
   ]
  },
  {
   "cell_type": "code",
   "execution_count": 29,
   "metadata": {},
   "outputs": [],
   "source": [
    "#save & commit\n",
    "cobra.io.write_sbml_model(model,'../model/p-thermo.xml')"
   ]
  },
  {
   "cell_type": "markdown",
   "metadata": {},
   "source": [
    "## Removing RNA node\n",
    "here I will remove the RNA node and see which biomass components now become problematic in hampering biomass growth. Then later I will do this also for the DNA node and then we can find a plan of how to tackle these issues hopefully . "
   ]
  },
  {
   "cell_type": "code",
   "execution_count": 30,
   "metadata": {},
   "outputs": [
    {
     "data": {
      "text/html": [
       "<div>\n",
       "<style scoped>\n",
       "    .dataframe tbody tr th:only-of-type {\n",
       "        vertical-align: middle;\n",
       "    }\n",
       "\n",
       "    .dataframe tbody tr th {\n",
       "        vertical-align: top;\n",
       "    }\n",
       "\n",
       "    .dataframe thead th {\n",
       "        text-align: right;\n",
       "    }\n",
       "</style>\n",
       "<table border=\"1\" class=\"dataframe\">\n",
       "  <thead>\n",
       "    <tr style=\"text-align: right;\">\n",
       "      <th></th>\n",
       "      <th></th>\n",
       "      <th>PERCENT</th>\n",
       "      <th>FLUX</th>\n",
       "      <th>REACTION_STRING</th>\n",
       "    </tr>\n",
       "    <tr>\n",
       "      <th>RXN_STAT</th>\n",
       "      <th>ID</th>\n",
       "      <th></th>\n",
       "      <th></th>\n",
       "      <th></th>\n",
       "    </tr>\n",
       "  </thead>\n",
       "  <tbody>\n",
       "    <tr>\n",
       "      <th>PRODUCING</th>\n",
       "      <th>ATPNAT</th>\n",
       "      <td>100.000000</td>\n",
       "      <td>73.851191</td>\n",
       "      <td>atp_c &lt;=&gt; RNA_c + ppi_c</td>\n",
       "    </tr>\n",
       "    <tr>\n",
       "      <th rowspan=\"2\" valign=\"top\">CONSUMING</th>\n",
       "      <th>UTPT</th>\n",
       "      <td>60.891174</td>\n",
       "      <td>44.968857</td>\n",
       "      <td>utp_c &lt;=&gt; RNA_c + ppi_c</td>\n",
       "    </tr>\n",
       "    <tr>\n",
       "      <th>PRPUT</th>\n",
       "      <td>39.108826</td>\n",
       "      <td>28.882334</td>\n",
       "      <td>pi_c &lt;=&gt; RNA_c + udp_c</td>\n",
       "    </tr>\n",
       "  </tbody>\n",
       "</table>\n",
       "</div>"
      ],
      "text/plain": [
       "<cobra.core.summary.metabolite_summary.MetaboliteSummary at 0x232777f9688>"
      ]
     },
     "execution_count": 30,
     "metadata": {},
     "output_type": "execute_result"
    }
   ],
   "source": [
    "model.metabolites.RNA_c.summary()"
   ]
  },
  {
   "cell_type": "code",
   "execution_count": 31,
   "metadata": {},
   "outputs": [],
   "source": [
    "remove = model.metabolites.RNA_c.reactions"
   ]
  },
  {
   "cell_type": "code",
   "execution_count": 32,
   "metadata": {},
   "outputs": [
    {
     "name": "stderr",
     "output_type": "stream",
     "text": [
      "C:\\Users\\vivmol\\AppData\\Local\\Continuum\\anaconda3\\envs\\g-thermo\\lib\\site-packages\\cobra\\core\\group.py:110: UserWarning:\n",
      "\n",
      "need to pass in a list\n",
      "\n"
     ]
    }
   ],
   "source": [
    "model.remove_reactions(remove)"
   ]
  },
  {
   "cell_type": "code",
   "execution_count": 33,
   "metadata": {},
   "outputs": [
    {
     "data": {
      "text/plain": [
       "26.4659154348342"
      ]
     },
     "execution_count": 33,
     "metadata": {},
     "output_type": "execute_result"
    }
   ],
   "source": [
    "model.optimize().objective_value"
   ]
  },
  {
   "cell_type": "markdown",
   "metadata": {},
   "source": [
    "Removing RNA doesn't really change anything, now that I've modified the biomass reaction by adding gln, arg and atp back in as they should be. If you consider the reactions that were involved in RNA: it converted ATP to UTP and UDP, indicating there is some kind of ATP surplus. Increasing ATP consumption needed for biomass results in this sink not being crucial anymore and so it can be removed."
   ]
  },
  {
   "cell_type": "markdown",
   "metadata": {},
   "source": [
    "## Removing DNA\n",
    "Similar to the RNA node, I will try to remove the DNA node and see what the effect is on the model. If biomass is totally prevented i will try to figure out what metabolite is causing that blockage.\n",
    "\n",
    "Essentially, this node is just used to convert dgtp to dctp. "
   ]
  },
  {
   "cell_type": "code",
   "execution_count": 34,
   "metadata": {
    "scrolled": true
   },
   "outputs": [
    {
     "data": {
      "text/html": [
       "<div>\n",
       "<style scoped>\n",
       "    .dataframe tbody tr th:only-of-type {\n",
       "        vertical-align: middle;\n",
       "    }\n",
       "\n",
       "    .dataframe tbody tr th {\n",
       "        vertical-align: top;\n",
       "    }\n",
       "\n",
       "    .dataframe thead th {\n",
       "        text-align: right;\n",
       "    }\n",
       "</style>\n",
       "<table border=\"1\" class=\"dataframe\">\n",
       "  <thead>\n",
       "    <tr style=\"text-align: right;\">\n",
       "      <th></th>\n",
       "      <th></th>\n",
       "      <th>PERCENT</th>\n",
       "      <th>FLUX</th>\n",
       "      <th>REACTION_STRING</th>\n",
       "    </tr>\n",
       "    <tr>\n",
       "      <th>RXN_STAT</th>\n",
       "      <th>ID</th>\n",
       "      <th></th>\n",
       "      <th></th>\n",
       "      <th></th>\n",
       "    </tr>\n",
       "  </thead>\n",
       "  <tbody>\n",
       "    <tr>\n",
       "      <th>PRODUCING</th>\n",
       "      <th>DGTPT</th>\n",
       "      <td>100.0</td>\n",
       "      <td>34.436073</td>\n",
       "      <td>dgtp_c &lt;=&gt; dna_c + ppi_c</td>\n",
       "    </tr>\n",
       "    <tr>\n",
       "      <th>CONSUMING</th>\n",
       "      <th>DCTPT</th>\n",
       "      <td>100.0</td>\n",
       "      <td>34.436073</td>\n",
       "      <td>dctp_c &lt;=&gt; dna_c + ppi_c</td>\n",
       "    </tr>\n",
       "  </tbody>\n",
       "</table>\n",
       "</div>"
      ],
      "text/plain": [
       "<cobra.core.summary.metabolite_summary.MetaboliteSummary at 0x2327fb3f188>"
      ]
     },
     "execution_count": 34,
     "metadata": {},
     "output_type": "execute_result"
    }
   ],
   "source": [
    "model.metabolites.dna_c.summary()"
   ]
  },
  {
   "cell_type": "code",
   "execution_count": 35,
   "metadata": {},
   "outputs": [],
   "source": [
    "remove = model.metabolites.dna_c.reactions"
   ]
  },
  {
   "cell_type": "code",
   "execution_count": 36,
   "metadata": {},
   "outputs": [],
   "source": [
    "model.remove_reactions(remove)"
   ]
  },
  {
   "cell_type": "code",
   "execution_count": 37,
   "metadata": {
    "scrolled": true
   },
   "outputs": [
    {
     "data": {
      "text/plain": [
       "2.3976514947827195e-17"
      ]
     },
     "execution_count": 37,
     "metadata": {},
     "output_type": "execute_result"
    }
   ],
   "source": [
    "model.optimize().objective_value"
   ]
  },
  {
   "cell_type": "code",
   "execution_count": 38,
   "metadata": {},
   "outputs": [],
   "source": [
    "#save&commit\n",
    "cobra.io.write_sbml_model(model,'../model/p-thermo.xml')"
   ]
  },
  {
   "cell_type": "markdown",
   "metadata": {},
   "source": [
    "So there are some (or one) metabolite that is blocking the biomass from acculumating here. I will try to figure out which metabolite(s) are the cause of that below. "
   ]
  },
  {
   "cell_type": "code",
   "execution_count": 37,
   "metadata": {},
   "outputs": [],
   "source": [
    "#classify the biomass components\n",
    "rna = ['amp_c', 'gmp_c', 'cmp_c', 'ump_c']\n",
    "dna = ['damp_c', 'dgmp_c', 'dcmp_c', 'dtmp_c']\n",
    "energy = ['adp_c', 'atp_c']\n",
    "aa = ['ser__L_c', 'phe__L_c', 'gly_c', 'ala__L_c', 'val__L_c', 'leu__L_c', 'ile__L_c', 'thr__L_c','tyr__L_c','trp__L_c','cys__L_c','met__L_c', 'lys__L_c', 'arg__L_c', 'his__L_c', 'asp__L_c', 'glu__L_c', 'asn__L_c', 'gln__L_c', 'pro__L_c']\n",
    "cofactors = ['nad_c', 'nadh_c','nadph_c', 'nadp_c', 'fad_c', 'qh2_c']\n",
    "other = ['ptrc_c', 'chor_c', 'thmpp_c', 'ribflv_c', 'fe3_c', 'fe2_c', 'cl_c', 'coa_c', 'succoa_c', 'accoa_c', 'gthrd_c']"
   ]
  },
  {
   "cell_type": "code",
   "execution_count": 40,
   "metadata": {},
   "outputs": [
    {
     "name": "stdout",
     "output_type": "stream",
     "text": [
      "28.67095110108862\n"
     ]
    }
   ],
   "source": [
    "with model:\n",
    "    for met in model.reactions.biomass.metabolites:\n",
    "        if met.id in rna:\n",
    "            coeff = model.reactions.biomass.metabolites[met]\n",
    "            model.reactions.biomass.add_metabolites({met:-coeff})\n",
    "        elif met.id in dna:\n",
    "            coeff = model.reactions.biomass.metabolites[met]\n",
    "            model.reactions.biomass.add_metabolites({met:-coeff})\n",
    "        elif met.id in aa:\n",
    "            coeff = model.reactions.biomass.metabolites[met]\n",
    "            model.reactions.biomass.add_metabolites({met:-coeff}) \n",
    "#         elif met.id in energy:\n",
    "#             coeff = model.reactions.biomass.metabolites[met]\n",
    "#             model.reactions.biomass.add_metabolites({met:-coeff})\n",
    "#         elif met.id in cofactors:\n",
    "#             coeff = model.reactions.biomass.metabolites[met]\n",
    "#             model.reactions.biomass.add_metabolites({met:-coeff}) \n",
    "        elif met.id in other:\n",
    "            coeff = model.reactions.biomass.metabolites[met]\n",
    "            model.reactions.biomass.add_metabolites({met:-coeff})  \n",
    "        else: \n",
    "            continue\n",
    "    solution = model.optimize()\n",
    "    print (solution.objective_value)"
   ]
  },
  {
   "cell_type": "markdown",
   "metadata": {},
   "source": [
    "It seems there is not a single reaction that is preventing biomass from accumulating. It is a combination of metabolites in the RNA, DNA, amino acid and other categories. I will try to figure out exactly which metabolites these are:\n",
    "- RNA: ump and cmp\n",
    "- DNA: dcmp and dtmp\n",
    "- AA: isoleucine, threonine, lysine, arginine, aspartate, asparagine, glutamine, proline(alanine, valine, leucine, tyrosine, tryptophan, doesn't kill but decreases)\n",
    "- other: putrescine\n",
    "\n",
    "A next useful step would be to see what is the common metabolite that causes all of these products to be blocked. To test that, I will add sink reactions for each metabolite one by one and test if that 'saves' biomass accumulation. Personally, I would expect that either supplying or removing dgtp or dctp should solve the problems, as these were invovled in the DNA reaction."
   ]
  },
  {
   "cell_type": "code",
   "execution_count": 41,
   "metadata": {
    "scrolled": true
   },
   "outputs": [
    {
     "name": "stdout",
     "output_type": "stream",
     "text": [
      "test flux: -11.940052751809935\n",
      "test2 flux: -139.1551242655905\n",
      "26.89552368169512\n"
     ]
    }
   ],
   "source": [
    "with model:\n",
    "    model.add_boundary(model.metabolites.dcmp_c, type = 'sink', reaction_id = 'test')\n",
    "    model.add_boundary(model.metabolites.asp__L_c, type = 'sink', reaction_id = 'test2')\n",
    "#     for met in model.reactions.biomass.metabolites:\n",
    "#         if met.id in rna:\n",
    "#             coeff = model.reactions.biomass.metabolites[met]\n",
    "#             model.reactions.biomass.add_metabolites({met:-coeff})\n",
    "#         if met.id in dna:\n",
    "#             coeff = model.reactions.biomass.metabolites[met]\n",
    "#             model.reactions.biomass.add_metabolites({met:-coeff})\n",
    "#         if met.id in aa:\n",
    "#             coeff = model.reactions.biomass.metabolites[met]\n",
    "#             model.reactions.biomass.add_metabolites({met:-coeff}) \n",
    "#         if met.id in other:\n",
    "#             coeff = model.reactions.biomass.metabolites[met]\n",
    "#             model.reactions.biomass.add_metabolites({met:-coeff})  \n",
    "#         else: \n",
    "#             continue\n",
    "    solution = model.optimize()\n",
    "    print ('test flux:', solution['test'])\n",
    "    print ('test2 flux:', solution['test2'])\n",
    "    print (solution.objective_value)"
   ]
  },
  {
   "cell_type": "markdown",
   "metadata": {},
   "source": [
    "Results:\n",
    "- adding dcmp_c: only blockage in amino acids\n",
    "    - dna and rna metabolites become fine\n",
    "    - also putrescince can be made\n",
    "- adding dgtp_c: only block in DNA\n",
    "    - aa, putrescine and RNA are fine\n",
    "- adding glutamine: only block in DNA\n",
    "    - solves block at RNA, putrescine and to some extent also amino acids. \n",
    "- adding aspartate: only block in DNA\n",
    "    - sovles block at RNA, putrescine and amino acids\n",
    "\n",
    "So it seems that there are two nodes of bloackage: 1) adding dctp/dcmp solves the problem in the DNA node, 2) adding some amino acids solves the AA problem. Adding both the dcmp and the glutamine or arginine solves all of the problems.\n",
    "\n",
    "So I need to look into two things: cmp synthesis and amino acid synthesis (Specifically glutamine and arginine) \n",
    "\n",
    "I will need to check these pathways. Though, note that the more metabolites I remove from the biomass equation, the more dcmp is taken up. So there are likely other problems as well that will play in. But solving this problem first would be good, then we can go back to the other changes I've made and see if the majority of these have then been resolved too. \n",
    "    \n"
   ]
  },
  {
   "cell_type": "markdown",
   "metadata": {},
   "source": [
    "## dCMP metabolism"
   ]
  },
  {
   "cell_type": "code",
   "execution_count": 42,
   "metadata": {},
   "outputs": [],
   "source": [
    "model = cobra.io.read_sbml_model('../model/p-thermo.xml')"
   ]
  },
  {
   "cell_type": "code",
   "execution_count": 43,
   "metadata": {},
   "outputs": [
    {
     "name": "stdout",
     "output_type": "stream",
     "text": [
      "dcmp_c flux: -6.890210894860734\n",
      "27.56723845098847\n"
     ]
    }
   ],
   "source": [
    "with model:\n",
    "    model.add_boundary(model.metabolites.dcmp_c, type = 'sink', reaction_id = 'test')\n",
    "    for met in model.reactions.biomass.metabolites:\n",
    "#         if met.id in rna:\n",
    "#             coeff = model.reactions.biomass.metabolites[met]\n",
    "#             model.reactions.biomass.add_metabolites({met:-coeff})\n",
    "#         if met.id in dna:\n",
    "#             coeff = model.reactions.biomass.metabolites[met]\n",
    "#             model.reactions.biomass.add_metabolites({met:-coeff})\n",
    "        if met.id in aa:\n",
    "            coeff = model.reactions.biomass.metabolites[met]\n",
    "            model.reactions.biomass.add_metabolites({met:-coeff}) \n",
    "#         elif met.id in energy:\n",
    "#             coeff = model.reactions.biomass.metabolites[met]\n",
    "#             model.reactions.biomass.add_metabolites({met:-coeff})\n",
    "#         elif met.id in cofactors:\n",
    "#             coeff = model.reactions.biomass.metabolites[met]\n",
    "#             model.reactions.biomass.add_metabolites({met:-coeff}) \n",
    "#         if met.id in other:\n",
    "#             coeff = model.reactions.biomass.metabolites[met]\n",
    "#             model.reactions.biomass.add_metabolites({met:-coeff})  \n",
    "        else: \n",
    "          continue\n",
    "    solution = model.optimize()\n",
    "    print ('dcmp_c flux:', solution['test'])\n",
    "    print (solution.objective_value)"
   ]
  },
  {
   "cell_type": "markdown",
   "metadata": {},
   "source": [
    "Pyrimidines are synthesized from orotate that is coupled to a phosphorylated ribose unit. This results in the formation of UMP, which can be interconverted into CMP, dCMP and dUMP, as well as the other phosphorylated versions of these molecules. Currently to be able to accumulate biomass, our model would need the consumption of dCMP. Therefore, we need to check the pathway that will produce this metabolite. I've previously looked into the individual interconversions of the nucleotides and so for now I will assume these are correct. \n",
    "\n",
    "One thing I haven't looked into yet is this pathway converting asparate and carbamoly-P into orotate and further into UMP. Here I will do so and make changes that are needed.\n",
    "\n",
    "A quick look into the pathway indicates that there are quite some reactions that I previously observed have the wrong directionality defined in them. This prevents de novo UMP synthesis, which is problematic. "
   ]
  },
  {
   "cell_type": "code",
   "execution_count": 44,
   "metadata": {},
   "outputs": [],
   "source": [
    "model.reactions.OMPDC.bounds = (-1000,0)"
   ]
  },
  {
   "cell_type": "markdown",
   "metadata": {},
   "source": [
    "I looked more into the node converting dihydro-orotate into orotate. There I think that the automatic annotation is wrong. There is more indication that the strains DHORD reaction uses  NAD(H) as electron acceptors, instead of fumarate and succinate. Therefore, I will modify this reaction to reflect that. "
   ]
  },
  {
   "cell_type": "code",
   "execution_count": 45,
   "metadata": {},
   "outputs": [],
   "source": [
    "model.reactions.DHORDfum.id = 'DHORD6'"
   ]
  },
  {
   "cell_type": "code",
   "execution_count": 46,
   "metadata": {},
   "outputs": [],
   "source": [
    "model.reactions.DHORD6.bounds = (0,1000)"
   ]
  },
  {
   "cell_type": "code",
   "execution_count": 47,
   "metadata": {},
   "outputs": [],
   "source": [
    "model.reactions.DHORD6.notes = {}\n",
    "model.reactions.DHORD6.annotation = {}"
   ]
  },
  {
   "cell_type": "code",
   "execution_count": 48,
   "metadata": {},
   "outputs": [],
   "source": [
    "model.reactions.DHORD6.annotation['kegg.reaction'] = 'R01869'\n",
    "model.reactions.DHORD6.annotation['sbo'] = 'SBO:0000176'\n",
    "model.reactions.DHORD6.annotation['ec-code'] = 'EC 1.3.1.14'"
   ]
  },
  {
   "cell_type": "code",
   "execution_count": 49,
   "metadata": {},
   "outputs": [],
   "source": [
    "model.reactions.DHORD6.add_metabolites({model.metabolites.fum_c:1, model.metabolites.succ_c:-1, model.metabolites.nad_c:-1, model.metabolites.nadh_c:1, model.metabolites.h_c:1})"
   ]
  },
  {
   "cell_type": "code",
   "execution_count": 50,
   "metadata": {},
   "outputs": [
    {
     "data": {
      "text/html": [
       "\n",
       "        <table>\n",
       "            <tr>\n",
       "                <td><strong>Reaction identifier</strong></td><td>DHORD6</td>\n",
       "            </tr><tr>\n",
       "                <td><strong>Name</strong></td><td>R01867</td>\n",
       "            </tr><tr>\n",
       "                <td><strong>Memory address</strong></td>\n",
       "                <td>0x023278ace188</td>\n",
       "            </tr><tr>\n",
       "                <td><strong>Stoichiometry</strong></td>\n",
       "                <td>\n",
       "                    <p style='text-align:right'>dhor__S_c + nad_c --> h_c + nadh_c + orot_c</p>\n",
       "                    <p style='text-align:right'>(S)-Dihydroorotate + NAD+ --> H+ + NADH + Orotate</p>\n",
       "                </td>\n",
       "            </tr><tr>\n",
       "                <td><strong>GPR</strong></td><td>RTMO04130 or RTMO04129</td>\n",
       "            </tr><tr>\n",
       "                <td><strong>Lower bound</strong></td><td>0</td>\n",
       "            </tr><tr>\n",
       "                <td><strong>Upper bound</strong></td><td>1000</td>\n",
       "            </tr>\n",
       "        </table>\n",
       "        "
      ],
      "text/plain": [
       "<Reaction DHORD6 at 0x23278ace188>"
      ]
     },
     "execution_count": 50,
     "metadata": {},
     "output_type": "execute_result"
    }
   ],
   "source": [
    "model.reactions.DHORD6"
   ]
  },
  {
   "cell_type": "code",
   "execution_count": 51,
   "metadata": {},
   "outputs": [],
   "source": [
    "#improper id\n",
    "model.metabolites.hco3_c.id = 'cbp_c'"
   ]
  },
  {
   "cell_type": "code",
   "execution_count": 52,
   "metadata": {},
   "outputs": [],
   "source": [
    "model.metabolites.cbp_c.name = 'Carbamoyl phosphate'\n",
    "model.metabolites.cbp_c.notes = {}\n",
    "model.metabolites.cbp_c.annotation = model_e_coli.metabolites.cbp_c.annotation"
   ]
  },
  {
   "cell_type": "code",
   "execution_count": 53,
   "metadata": {},
   "outputs": [],
   "source": [
    "model.metabolites.hco3_b_c.id = 'hco3_c'"
   ]
  },
  {
   "cell_type": "code",
   "execution_count": 54,
   "metadata": {},
   "outputs": [],
   "source": [
    "model.reactions.ASPCT.bounds = (-1000,0)"
   ]
  },
  {
   "cell_type": "code",
   "execution_count": 55,
   "metadata": {},
   "outputs": [],
   "source": [
    "model.reactions.OCBT.bounds = (-1000,1000)"
   ]
  },
  {
   "cell_type": "markdown",
   "metadata": {},
   "source": [
    "Now the pathway from carbamoyl-P into orotate and into UMP should be correct. Then the next step is to check how the carbamoyl-P is made. It seems the reactions are correct, except the CBPSam reaction should be changed to match the E. coli CBMKr reaction."
   ]
  },
  {
   "cell_type": "code",
   "execution_count": 56,
   "metadata": {},
   "outputs": [],
   "source": [
    "model.reactions.CBPSam.id = 'CBMKr'"
   ]
  },
  {
   "cell_type": "code",
   "execution_count": 57,
   "metadata": {},
   "outputs": [],
   "source": [
    "model.reactions.CBMKr.add_metabolites({model.metabolites.hco3_c:1, model.metabolites.co2_c:-1, model.metabolites.atp_c:1, model.metabolites.adp_c:-1, model.metabolites.pi_c:-1})"
   ]
  },
  {
   "cell_type": "code",
   "execution_count": 58,
   "metadata": {},
   "outputs": [],
   "source": [
    "model.reactions.CBMKr.bound = (-1000,1000)"
   ]
  },
  {
   "cell_type": "markdown",
   "metadata": {},
   "source": [
    "As a next step, as cbp is made from L-aspartate and L-glutamine, maybe reversing this pathway prevents their production which is the cause of the problem? "
   ]
  },
  {
   "cell_type": "code",
   "execution_count": 59,
   "metadata": {},
   "outputs": [],
   "source": [
    "model.reactions.ASPATh.id = 'ASPTA'"
   ]
  },
  {
   "cell_type": "code",
   "execution_count": 60,
   "metadata": {},
   "outputs": [],
   "source": [
    "#based on thermodynamics\n",
    "model.reactions.ASPO6.bounds = (-1000,0)"
   ]
  },
  {
   "cell_type": "code",
   "execution_count": 61,
   "metadata": {},
   "outputs": [],
   "source": [
    "#should be reversible\n",
    "model.reactions.ASPK.bounds = (-1000,1000)"
   ]
  },
  {
   "cell_type": "code",
   "execution_count": 62,
   "metadata": {
    "scrolled": false
   },
   "outputs": [
    {
     "data": {
      "text/html": [
       "<div>\n",
       "<style scoped>\n",
       "    .dataframe tbody tr th:only-of-type {\n",
       "        vertical-align: middle;\n",
       "    }\n",
       "\n",
       "    .dataframe tbody tr th {\n",
       "        vertical-align: top;\n",
       "    }\n",
       "\n",
       "    .dataframe thead th {\n",
       "        text-align: right;\n",
       "    }\n",
       "</style>\n",
       "<table border=\"1\" class=\"dataframe\">\n",
       "  <thead>\n",
       "    <tr style=\"text-align: right;\">\n",
       "      <th></th>\n",
       "      <th></th>\n",
       "      <th>PERCENT</th>\n",
       "      <th>FLUX</th>\n",
       "      <th>REACTION_STRING</th>\n",
       "    </tr>\n",
       "    <tr>\n",
       "      <th>RXN_STAT</th>\n",
       "      <th>ID</th>\n",
       "      <th></th>\n",
       "      <th></th>\n",
       "      <th></th>\n",
       "    </tr>\n",
       "  </thead>\n",
       "  <tbody>\n",
       "    <tr>\n",
       "      <th>PRODUCING</th>\n",
       "      <th>ASPSALY</th>\n",
       "      <td>100.0</td>\n",
       "      <td>0.043714</td>\n",
       "      <td>aspsa_c + pyr_c --&gt; h2o_c + h_c + l23dhdpico_c</td>\n",
       "    </tr>\n",
       "    <tr>\n",
       "      <th>CONSUMING</th>\n",
       "      <th>L23DHDPICOLY</th>\n",
       "      <td>100.0</td>\n",
       "      <td>0.043714</td>\n",
       "      <td>2.0 h2o_c + h_c + l23dhdpico_c --&gt; aspsa_c + p...</td>\n",
       "    </tr>\n",
       "  </tbody>\n",
       "</table>\n",
       "</div>"
      ],
      "text/plain": [
       "<cobra.core.summary.metabolite_summary.MetaboliteSummary at 0x23278889a48>"
      ]
     },
     "execution_count": 62,
     "metadata": {},
     "output_type": "execute_result"
    }
   ],
   "source": [
    "#around this metabolite there is a cycle going on, but it doesn't really generate anything except water? but there is still some flux missing in the summar\n",
    "model.metabolites.l23dhdpico_c.summary()"
   ]
  },
  {
   "cell_type": "code",
   "execution_count": 63,
   "metadata": {
    "scrolled": true
   },
   "outputs": [
    {
     "name": "stderr",
     "output_type": "stream",
     "text": [
      "C:\\Users\\vivmol\\AppData\\Local\\Continuum\\anaconda3\\envs\\g-thermo\\lib\\site-packages\\cobra\\core\\model.py:716: UserWarning:\n",
      "\n",
      "need to pass in a list\n",
      "\n"
     ]
    }
   ],
   "source": [
    "#the L23DHDPICOLY reaction (R02292) doesn't exist in kegg anymore? I will remove it.\n",
    "model.remove_reactions(model.reactions.L23DHDPICOLY)"
   ]
  },
  {
   "cell_type": "markdown",
   "metadata": {},
   "source": [
    "There seems to also be a cycle at the THDPOR and THDPPOR reactions: which would just convert nadph into nadh. In B. subtilis the  EC 1.17.1.8 reaction is shown to work predominantly with NADP(H) to result in formation of the thdp product. Therefore, I will remove the THDPOR reaction. Also, after looking into it further, the  l23dhdpico_c  metabolite should be renamed to 23dhdp_c. Also the THDPPOR can then be renamed to DHDPRy. Looking further in this pathway there are some other things that can be renamed too. "
   ]
  },
  {
   "cell_type": "code",
   "execution_count": 64,
   "metadata": {},
   "outputs": [],
   "source": [
    "#rename l23dhdpico\n",
    "model.metabolites.l23dhdpico_c.id = '23dhdp_c'"
   ]
  },
  {
   "cell_type": "code",
   "execution_count": 65,
   "metadata": {},
   "outputs": [],
   "source": [
    "model.metabolites.get_by_id('23dhdp_c').notes = {}\n",
    "model.metabolites.get_by_id('23dhdp_c').annotation = model_e_coli.metabolites.get_by_id('23dhdp_c').annotation"
   ]
  },
  {
   "cell_type": "code",
   "execution_count": 66,
   "metadata": {},
   "outputs": [],
   "source": [
    "model.reactions.THDPPOR.id = 'DHDPRy'"
   ]
  },
  {
   "cell_type": "code",
   "execution_count": 67,
   "metadata": {},
   "outputs": [],
   "source": [
    "model.remove_reactions(model.reactions.THDPOR)"
   ]
  },
  {
   "cell_type": "code",
   "execution_count": 68,
   "metadata": {},
   "outputs": [],
   "source": [
    "model.metabolites.nal2a6o_c.id = 'acamoxm_c'"
   ]
  },
  {
   "cell_type": "code",
   "execution_count": 69,
   "metadata": {},
   "outputs": [],
   "source": [
    "model.metabolites.n6all26d_c.id = '26dapime_c'"
   ]
  },
  {
   "cell_type": "code",
   "execution_count": 70,
   "metadata": {},
   "outputs": [],
   "source": [
    "model.reactions.ADAPAT.id = 'APTA1i'"
   ]
  },
  {
   "cell_type": "code",
   "execution_count": 71,
   "metadata": {},
   "outputs": [],
   "source": [
    "model.reactions.DAPDA.id = 'ADPDA'"
   ]
  },
  {
   "cell_type": "markdown",
   "metadata": {},
   "source": [
    "I will now look into glutamine synthesis and see if that is otherwise the problem.\n",
    "If i look into the purine metabolism map, one can see a pathway the converts R1P into IMP, via glutamine. As we know there is also a problem resulting in huge fluxes in the PPP, it may be worth investigating this pathway. \n"
   ]
  },
  {
   "cell_type": "code",
   "execution_count": 72,
   "metadata": {},
   "outputs": [],
   "source": [
    "model.reactions.ICH.id = 'IMPC'"
   ]
  },
  {
   "cell_type": "code",
   "execution_count": 73,
   "metadata": {},
   "outputs": [],
   "source": [
    "model.metabolites.C04051_c.id = '5a4icam_c'"
   ]
  },
  {
   "cell_type": "code",
   "execution_count": 74,
   "metadata": {
    "scrolled": true
   },
   "outputs": [],
   "source": [
    "model.reactions.PRAISh.id = 'PRASCSi'"
   ]
  },
  {
   "cell_type": "code",
   "execution_count": 75,
   "metadata": {},
   "outputs": [],
   "source": [
    "model.reactions.AIRLIG.id = 'AIRC2'"
   ]
  },
  {
   "cell_type": "code",
   "execution_count": 76,
   "metadata": {},
   "outputs": [],
   "source": [
    "#reaction incorrectly present\n",
    "model.remove_reactions(model.reactions.AIZCLY)"
   ]
  },
  {
   "cell_type": "code",
   "execution_count": 77,
   "metadata": {},
   "outputs": [],
   "source": [
    "model.reactions.FPRAMLIG.id = 'PRAIS'"
   ]
  },
  {
   "cell_type": "code",
   "execution_count": 78,
   "metadata": {},
   "outputs": [],
   "source": [
    "model.metabolites.ampm_c.id = '4ampm_c'"
   ]
  },
  {
   "cell_type": "code",
   "execution_count": 79,
   "metadata": {
    "scrolled": true
   },
   "outputs": [],
   "source": [
    "model.reactions.AMETLY.add_metabolites({model.metabolites.dmpp_c:-1, model.metabolites.co_c:1})"
   ]
  },
  {
   "cell_type": "code",
   "execution_count": 80,
   "metadata": {},
   "outputs": [],
   "source": [
    "model.reactions.FGAMALIG.id = 'PRFGS'"
   ]
  },
  {
   "cell_type": "code",
   "execution_count": 81,
   "metadata": {},
   "outputs": [],
   "source": [
    "model.reactions.FPGFTh.id = 'GARFT'"
   ]
  },
  {
   "cell_type": "code",
   "execution_count": 82,
   "metadata": {},
   "outputs": [],
   "source": [
    "model.reactions.GARFT.bounds = (-1000,1000)"
   ]
  },
  {
   "cell_type": "code",
   "execution_count": 83,
   "metadata": {},
   "outputs": [],
   "source": [
    "model.reactions.FGFTh.bounds = (-1000,1000)"
   ]
  },
  {
   "cell_type": "code",
   "execution_count": 84,
   "metadata": {},
   "outputs": [],
   "source": [
    "model.reactions.PPRGL.id = 'PRAGSr'"
   ]
  },
  {
   "cell_type": "code",
   "execution_count": 85,
   "metadata": {},
   "outputs": [],
   "source": [
    "model.reactions.PRAGSr.bounds = (-1000,1000)"
   ]
  },
  {
   "cell_type": "markdown",
   "metadata": {},
   "source": [
    "The pathway stops getting any flux at the point where PRPP and glutamine condense into ribosylamine-5P. So I need to look into the supply and use of both PRPP and L-glutamine."
   ]
  },
  {
   "cell_type": "markdown",
   "metadata": {},
   "source": [
    "__PRPP__"
   ]
  },
  {
   "cell_type": "code",
   "execution_count": 86,
   "metadata": {},
   "outputs": [],
   "source": [
    "model.reactions.R5PPPT.id = 'PRPPS'"
   ]
  },
  {
   "cell_type": "code",
   "execution_count": 87,
   "metadata": {},
   "outputs": [],
   "source": [
    "#based on thermodynamics, this reaction will be made reversible. \n",
    "#is also reversible in e_coli and b_sub models\n",
    "model.reactions.PRPPS.bounds = (-1000,1000)"
   ]
  },
  {
   "cell_type": "code",
   "execution_count": 88,
   "metadata": {},
   "outputs": [],
   "source": [
    "model.reactions.NNDPR.bounds = (-1000,0)"
   ]
  },
  {
   "cell_type": "code",
   "execution_count": 89,
   "metadata": {},
   "outputs": [],
   "source": [
    "model.reactions.ANPRT.bounds = (-1000,0)"
   ]
  },
  {
   "cell_type": "code",
   "execution_count": 90,
   "metadata": {},
   "outputs": [],
   "source": [
    "model.reactions.R1PISO.id = 'PPM'"
   ]
  },
  {
   "cell_type": "code",
   "execution_count": 91,
   "metadata": {},
   "outputs": [],
   "source": [
    "model.metabolites.r1p_c.name = 'Ribose 1-phosphate'"
   ]
  },
  {
   "cell_type": "code",
   "execution_count": 92,
   "metadata": {},
   "outputs": [],
   "source": [
    "#based on thermodynamics, and the E coli model.\n",
    "model.reactions.PYNP1.bounds = (-1000,1000)"
   ]
  },
  {
   "cell_type": "markdown",
   "metadata": {},
   "source": [
    "__Glutamine__ It seems there are quite some glutamine producing and consuming reactions, so this may not be the problem. "
   ]
  },
  {
   "cell_type": "markdown",
   "metadata": {},
   "source": [
    "__thf__\n",
    "Found a somewhat duplicate reaction: THFOR with both NAD(H) and NADP(H) as co-factors. From data on the Geobacillus stearothermophilus enzyme performing this conversion at 60°C, it is used to convert thf to folate. Also this uses NADP(H) as cofactor, which also makes sense from a physiological point of view. So here I will remove the THFOR1 reaction and rename the THFOR2 rct,"
   ]
  },
  {
   "cell_type": "code",
   "execution_count": 93,
   "metadata": {},
   "outputs": [],
   "source": [
    "model.reactions.MOHMT.bounds = (0,1000)"
   ]
  },
  {
   "cell_type": "code",
   "execution_count": 94,
   "metadata": {},
   "outputs": [],
   "source": [
    "model.remove_reactions(model.reactions.THFOR1)"
   ]
  },
  {
   "cell_type": "code",
   "execution_count": 95,
   "metadata": {},
   "outputs": [],
   "source": [
    "model.reactions.THFOR2.id = 'THFOR'"
   ]
  },
  {
   "cell_type": "code",
   "execution_count": 96,
   "metadata": {},
   "outputs": [],
   "source": [
    "#bassed on thermodynamics\n",
    "model.reactions.DHFR2i.bounds = (-1000,0)"
   ]
  },
  {
   "cell_type": "markdown",
   "metadata": {},
   "source": [
    "__10fthf__ also seems fine."
   ]
  },
  {
   "cell_type": "markdown",
   "metadata": {},
   "source": [
    "Now that I have checked these pathways, I will check if anything has changed regarding any metabolites that are still blocked that prevent the biomass accumulation."
   ]
  },
  {
   "cell_type": "code",
   "execution_count": 170,
   "metadata": {},
   "outputs": [
    {
     "name": "stdout",
     "output_type": "stream",
     "text": [
      "test flux: 0.0\n",
      "test2 flux: -1.850371707708594e-17\n",
      "0.0\n"
     ]
    }
   ],
   "source": [
    "with model:\n",
    "    model.add_boundary(model.metabolites.glu__L_c, type = 'sink', reaction_id = 'test')\n",
    "    model.add_boundary(model.metabolites.ump_c, type = 'sink', reaction_id = 'test2')\n",
    "    for met in model.reactions.biomass.metabolites:\n",
    "        if met.id in rna:\n",
    "            coeff = model.reactions.biomass.metabolites[met]\n",
    "            model.reactions.biomass.add_metabolites({met:-coeff})\n",
    "        if met.id in dna:\n",
    "            coeff = model.reactions.biomass.metabolites[met]\n",
    "            model.reactions.biomass.add_metabolites({met:-coeff})\n",
    "        if met.id in aa:\n",
    "            coeff = model.reactions.biomass.metabolites[met]\n",
    "            model.reactions.biomass.add_metabolites({met:-coeff}) \n",
    "        if met.id in other:\n",
    "            coeff = model.reactions.biomass.metabolites[met]\n",
    "            model.reactions.biomass.add_metabolites({met:-coeff})  \n",
    "        if met.id in energy:\n",
    "            coeff = model.reactions.biomass.metabolites[met]\n",
    "            model.reactions.biomass.add_metabolites({met:-coeff})  \n",
    "        if met.id in cofactors:\n",
    "            coeff = model.reactions.biomass.metabolites[met]\n",
    "            model.reactions.biomass.add_metabolites({met:-coeff}) \n",
    "        else: \n",
    "            continue\n",
    "    solution = model.optimize()\n",
    "    print ('test flux:', solution['test'])\n",
    "    print ('test2 flux:', solution['test2'])\n",
    "    print (solution.objective_value)"
   ]
  },
  {
   "cell_type": "markdown",
   "metadata": {},
   "source": [
    "Doing the above changes has changed quite some stuff in the model. Now supplying dcmp and gln no longer rescues the growth: you can also see no flux being taken up to restore growth in any case. Also the model has now become additionally sensitive to some component in the energy, other and cofactors group. \n",
    "\n",
    "- Energy block: Supplying atp to the model solves the problem in the energy category, meaning that somewhere we do not produce enough ATP, though the uptake flux is only very small, so our model can generate quite some atp.\n",
    "- co-factor group: solved with adding fad\n",
    "- amino acid group: solved with adding glutamate, the critical metabolite coupling many amino acids to the TCA, so atleast the interconversions see to be oke. \n",
    "- others: now the model has blocked ptrc, ribflv, coa, accoa and succoa metabolites. \n",
    "    - supplementing with coa solves the accoa and succoa problem\n",
    "    - supplementing with glu__L solves the ptrsc problem\n",
    "    - need to supplement with ribflv\n",
    "- DNA/RNA: still multiple problems now... I assume this comes from the fact that we cannot produce all amino acids, as these are inputs for the nucleotide pathways. but supplementing glu which solves the aa problem doesnt solve this. So I will need to look into this more later. "
   ]
  },
  {
   "cell_type": "code",
   "execution_count": 164,
   "metadata": {},
   "outputs": [],
   "source": [
    "#save and commit, even though it doesn't grow I will keep track of the steps in this branch\n",
    "cobra.io.write_sbml_model(model,'../model/p-thermo.xml')"
   ]
  },
  {
   "cell_type": "markdown",
   "metadata": {},
   "source": [
    "### FAD metabolism\n",
    "Looking at all the FAD reactions in the model, the problem seems to be that most are irreversible to consume FAD. There are not really any options that produce fad, except two which have been left reversible. So I need to check that these reversabilities are correct and if there are other fad producing reactions."
   ]
  },
  {
   "cell_type": "code",
   "execution_count": 300,
   "metadata": {},
   "outputs": [],
   "source": [
    "model = cobra.io.read_sbml_model('../model/p-thermo.xml')"
   ]
  },
  {
   "cell_type": "code",
   "execution_count": 5,
   "metadata": {},
   "outputs": [],
   "source": [
    "#based on thermodynamics this should be the reverse direction\n",
    "# to be careful not to over-constrict i will just make them irreversible, as this is also the approach used in e. coli for these reactions\n",
    "model.reactions.PPCOAOm.bounds = (-1000,1000)"
   ]
  },
  {
   "cell_type": "code",
   "execution_count": 6,
   "metadata": {},
   "outputs": [],
   "source": [
    "#change id and bounds\n",
    "model.reactions.ACOA160OR.id = 'ACOAD7f'"
   ]
  },
  {
   "cell_type": "code",
   "execution_count": 7,
   "metadata": {},
   "outputs": [],
   "source": [
    "model.reactions.ACOAD7f.bounds = (-1000,1000)"
   ]
  },
  {
   "cell_type": "code",
   "execution_count": 8,
   "metadata": {},
   "outputs": [],
   "source": [
    "#rename and change bounds\n",
    "model.reactions.ACOA140OR.id = 'ACOAD6f'"
   ]
  },
  {
   "cell_type": "code",
   "execution_count": 9,
   "metadata": {},
   "outputs": [],
   "source": [
    "model.reactions.ACOAD6f.bounds = (-1000,1000)"
   ]
  },
  {
   "cell_type": "code",
   "execution_count": 10,
   "metadata": {},
   "outputs": [],
   "source": [
    "#along the same rationale as above\n",
    "model.reactions.DECOT.bounds = (-1000,1000)"
   ]
  },
  {
   "cell_type": "code",
   "execution_count": 11,
   "metadata": {},
   "outputs": [],
   "source": [
    "model.reactions.ACOA80OR.id = 'ACOAD3f'"
   ]
  },
  {
   "cell_type": "code",
   "execution_count": 12,
   "metadata": {},
   "outputs": [],
   "source": [
    "model.reactions.ACOAD3f.bounds = (-1000,1000)"
   ]
  },
  {
   "cell_type": "code",
   "execution_count": 13,
   "metadata": {},
   "outputs": [],
   "source": [
    "model.reactions.HEXOT.bounds = (-1000,1000)"
   ]
  },
  {
   "cell_type": "code",
   "execution_count": 14,
   "metadata": {},
   "outputs": [],
   "source": [
    "model.reactions.DMALRED.id = 'MDH4'"
   ]
  },
  {
   "cell_type": "code",
   "execution_count": 15,
   "metadata": {},
   "outputs": [],
   "source": [
    "model.reactions.MDH4.bounds = (0,1000)"
   ]
  },
  {
   "cell_type": "code",
   "execution_count": 16,
   "metadata": {},
   "outputs": [],
   "source": [
    "model.reactions.ACOA40OR.id = 'ACOAD1f'  "
   ]
  },
  {
   "cell_type": "code",
   "execution_count": 17,
   "metadata": {},
   "outputs": [],
   "source": [
    "model.reactions.ACOAD1f.bounds = (-1000,1000)"
   ]
  },
  {
   "cell_type": "code",
   "execution_count": 18,
   "metadata": {},
   "outputs": [],
   "source": [
    "model.reactions.ACOA120OR.id = 'ACOAD5f'"
   ]
  },
  {
   "cell_type": "code",
   "execution_count": 19,
   "metadata": {},
   "outputs": [],
   "source": [
    "model.reactions.ACOAD5f.bounds = (-1000,1000)"
   ]
  },
  {
   "cell_type": "markdown",
   "metadata": {},
   "source": [
    "In B. subtilis, the model contains a different node for the succinate dehydrogenase. The conversion of succinate to fumarate donates electrons to FAD, after which the formed fad passses the electrons on towards a quinone pumping 2 protons into of the cell. This is also similar to what the E. coli model contains: e. coli has transhydrogenases that can interconvert the co-factors. Our strain likely does not contain this, and so the B. subtilis pathway seems to make more sense for our strain too. "
   ]
  },
  {
   "cell_type": "code",
   "execution_count": 20,
   "metadata": {},
   "outputs": [],
   "source": [
    "model.add_reaction(Reaction(id='SUCD5'))"
   ]
  },
  {
   "cell_type": "code",
   "execution_count": 21,
   "metadata": {},
   "outputs": [],
   "source": [
    "model.reactions.SUCD5.name = 'Succinate dehydrogenase'"
   ]
  },
  {
   "cell_type": "code",
   "execution_count": 22,
   "metadata": {},
   "outputs": [],
   "source": [
    "model.reactions.SUCD5.add_metabolites({model.metabolites.fadh2_c:-1, model.metabolites.ubiquin_c: -1, model.metabolites.fad_c:1, model.metabolites.qh2_c: 1, model.metabolites.h_e: -2, model.metabolites.h_c:2})"
   ]
  },
  {
   "cell_type": "markdown",
   "metadata": {},
   "source": [
    "Now that I've gone through all of the FAD containing reactions, let me check if it is still a blocked reaction in our model. "
   ]
  },
  {
   "cell_type": "code",
   "execution_count": 220,
   "metadata": {},
   "outputs": [
    {
     "name": "stdout",
     "output_type": "stream",
     "text": [
      "9.879107229943916\n"
     ]
    }
   ],
   "source": [
    "with model: #test supplementing different metabolites if it removes the block\n",
    "    #model.add_boundary(model.metabolites.dtmp_c, type = 'sink', reaction_id = 'test')\n",
    "#     model.add_boundary(model.metabolites.atp_c, type = 'sink', reaction_id = 'test2')\n",
    "    for met in model.reactions.biomass.metabolites:\n",
    "        if met.id in rna:\n",
    "            coeff = model.reactions.biomass.metabolites[met]\n",
    "            model.reactions.biomass.add_metabolites({met:-coeff})\n",
    "        if met.id in dna:\n",
    "            coeff = model.reactions.biomass.metabolites[met]\n",
    "            model.reactions.biomass.add_metabolites({met:-coeff})\n",
    "        if met.id in aa:\n",
    "            coeff = model.reactions.biomass.metabolites[met]\n",
    "            model.reactions.biomass.add_metabolites({met:-coeff}) \n",
    "        if met.id in other:\n",
    "            coeff = model.reactions.biomass.metabolites[met]\n",
    "            model.reactions.biomass.add_metabolites({met:-coeff})  \n",
    "        if met.id in energy:\n",
    "            coeff = model.reactions.biomass.metabolites[met]\n",
    "            model.reactions.biomass.add_metabolites({met:-coeff})  \n",
    "        if met.id in cofactors:\n",
    "            coeff = model.reactions.biomass.metabolites[met]\n",
    "            model.reactions.biomass.add_metabolites({met:-coeff}) \n",
    "        else: \n",
    "            continue\n",
    "    solution = model.optimize()\n",
    "    #print ('test flux:', solution['test'])\n",
    "#     print ('test2 flux:', solution['test2'])\n",
    "    print (solution.objective_value)"
   ]
  },
  {
   "cell_type": "markdown",
   "metadata": {},
   "source": [
    "Shit, for some reason it still doesn't de-block the reaction. \n",
    "\n",
    "In the version of the model before the nodes were removed, the fad is generated from fmn.\n",
    "When I add fmn and atp, then we do get formation of fad. The only problem is energy here. So it seems we do not produce enough ATP for the formation of FAD. This is something we will re-visit some other time anyway. So for now I will consider the fad production fixed.\n",
    "\n",
    "The other nodes are still blocked even with the addition of energy, so i will move on to the next node now.\n"
   ]
  },
  {
   "cell_type": "code",
   "execution_count": 41,
   "metadata": {},
   "outputs": [],
   "source": [
    "#save & commit\n",
    "cobra.io.write_sbml_model(model,'../model/p-thermo.xml')"
   ]
  },
  {
   "cell_type": "markdown",
   "metadata": {},
   "source": [
    "### Ribflv node\n",
    "Ribflav is made from ru5p mainly. But there is one other metabolite that is consumed in the pathway. When we supply 4r5au externally, we can grow again without needing ribflav. So I will figure out how this is synthesized."
   ]
  },
  {
   "cell_type": "code",
   "execution_count": 72,
   "metadata": {},
   "outputs": [],
   "source": [
    "model.reactions.AUS.id = 'PMDPHT'"
   ]
  },
  {
   "cell_type": "code",
   "execution_count": 76,
   "metadata": {},
   "outputs": [],
   "source": [
    "model.reactions.APRAUR.bounds = (0,1000)"
   ]
  },
  {
   "cell_type": "markdown",
   "metadata": {},
   "source": [
    "The 4rau5 metabolite is formed in a cascade that descends from the degradation of gtp. As the RNA node is also still a problem, once we fix that, the ribflv should also be fixed. So I will leave this for now and move on to the next step."
   ]
  },
  {
   "cell_type": "code",
   "execution_count": 84,
   "metadata": {},
   "outputs": [],
   "source": [
    "#save&commit\n",
    "cobra.io.write_sbml_model(model,'../model/p-thermo.xml')"
   ]
  },
  {
   "cell_type": "markdown",
   "metadata": {},
   "source": [
    "### CoA node\n",
    "\n",
    "Adding atp also solves the problem here. But I will go through the CoA production cascade to make sure it is properly produced anyway. "
   ]
  },
  {
   "cell_type": "code",
   "execution_count": 209,
   "metadata": {},
   "outputs": [],
   "source": [
    "model = cobra.io.read_sbml_model('../model/p-thermo.xml')"
   ]
  },
  {
   "cell_type": "code",
   "execution_count": 210,
   "metadata": {},
   "outputs": [
    {
     "name": "stderr",
     "output_type": "stream",
     "text": [
      "C:\\Users\\vivmol\\AppData\\Local\\Continuum\\anaconda3\\envs\\g-thermo\\lib\\site-packages\\cobra\\core\\model.py:716: UserWarning:\n",
      "\n",
      "need to pass in a list\n",
      "\n",
      "C:\\Users\\vivmol\\AppData\\Local\\Continuum\\anaconda3\\envs\\g-thermo\\lib\\site-packages\\cobra\\core\\group.py:110: UserWarning:\n",
      "\n",
      "need to pass in a list\n",
      "\n"
     ]
    }
   ],
   "source": [
    "model.remove_reactions(model.reactions.APPAT)"
   ]
  },
  {
   "cell_type": "code",
   "execution_count": 211,
   "metadata": {},
   "outputs": [],
   "source": [
    "model.reactions.DPR.bounds = (-1000,0)"
   ]
  },
  {
   "cell_type": "code",
   "execution_count": 212,
   "metadata": {},
   "outputs": [],
   "source": [
    "model.reactions.BCTA_val_h.id = 'VALTA'"
   ]
  },
  {
   "cell_type": "code",
   "execution_count": 213,
   "metadata": {},
   "outputs": [],
   "source": [
    "#duplicate metabolite: remove dhmb_c and its reactions\n",
    "model.remove_reactions(model.reactions.DHMBHL)"
   ]
  },
  {
   "cell_type": "code",
   "execution_count": 214,
   "metadata": {},
   "outputs": [],
   "source": [
    "model.remove_reactions(model.reactions.DHMBISO)"
   ]
  },
  {
   "cell_type": "code",
   "execution_count": 215,
   "metadata": {},
   "outputs": [],
   "source": [
    "model.remove_metabolites(model.metabolites.dhmb_c)"
   ]
  },
  {
   "cell_type": "markdown",
   "metadata": {},
   "source": [
    "After these changes, it shows that we can produce coa. The pathway just requires quite some ATP to make coa, and so it seems this is the bottleneck preventing coa synthesis. If we supply coa, we also prevent the blockage to accoa. But we do still have the succoa node being blocked.. Also supplying atp doesn't solve the succoa problem. So I will just check this here. \n",
    "\n",
    "__Succoa__\n",
    "\n",
    "If I supply akg, then the succoa is no longer blocked. So look into akg production"
   ]
  },
  {
   "cell_type": "code",
   "execution_count": 216,
   "metadata": {},
   "outputs": [],
   "source": [
    "#based on thermodynamics\n",
    "model.reactions.ALDD2x.bounds = (0,1000)"
   ]
  },
  {
   "cell_type": "code",
   "execution_count": 217,
   "metadata": {},
   "outputs": [],
   "source": [
    "model.reactions.MMM2.bounds = (0,1000)"
   ]
  },
  {
   "cell_type": "code",
   "execution_count": 219,
   "metadata": {},
   "outputs": [],
   "source": [
    "model.reactions.ABTA.bounds = (0,1000)"
   ]
  },
  {
   "cell_type": "code",
   "execution_count": 220,
   "metadata": {},
   "outputs": [],
   "source": [
    "model.reactions.BCTA_glu_h.id = 'LEUTAi'"
   ]
  },
  {
   "cell_type": "code",
   "execution_count": 221,
   "metadata": {},
   "outputs": [],
   "source": [
    "model.reactions.ACOTA.bounds = (-1000,1000)"
   ]
  },
  {
   "cell_type": "code",
   "execution_count": 222,
   "metadata": {},
   "outputs": [],
   "source": [
    "model.reactions.ICDHyr.bounds = (-1000,1000)"
   ]
  },
  {
   "cell_type": "code",
   "execution_count": 223,
   "metadata": {},
   "outputs": [],
   "source": [
    "model.reactions.BCTA.id = 'ILETA'"
   ]
  },
  {
   "cell_type": "code",
   "execution_count": 230,
   "metadata": {},
   "outputs": [],
   "source": [
    "model.reactions.AOOA.id = 'HSTPT'"
   ]
  },
  {
   "cell_type": "code",
   "execution_count": 231,
   "metadata": {},
   "outputs": [],
   "source": [
    "model.reactions.PSAT.id = 'PSERT'"
   ]
  },
  {
   "cell_type": "code",
   "execution_count": 232,
   "metadata": {},
   "outputs": [],
   "source": [
    "model.reactions.PSERT.bounds = (0,1000)"
   ]
  },
  {
   "cell_type": "code",
   "execution_count": null,
   "metadata": {},
   "outputs": [],
   "source": [
    "#duplicate metabolites cyst_c  and cyst__L_c and hence some duplicate reactions cycling."
   ]
  },
  {
   "cell_type": "code",
   "execution_count": 254,
   "metadata": {},
   "outputs": [],
   "source": [
    "model.reactions.CBL.id = 'CYSTL'"
   ]
  },
  {
   "cell_type": "code",
   "execution_count": 255,
   "metadata": {},
   "outputs": [
    {
     "name": "stderr",
     "output_type": "stream",
     "text": [
      "C:\\Users\\vivmol\\AppData\\Local\\Continuum\\anaconda3\\envs\\g-thermo\\lib\\site-packages\\cobra\\core\\model.py:716: UserWarning:\n",
      "\n",
      "need to pass in a list\n",
      "\n",
      "C:\\Users\\vivmol\\AppData\\Local\\Continuum\\anaconda3\\envs\\g-thermo\\lib\\site-packages\\cobra\\core\\group.py:110: UserWarning:\n",
      "\n",
      "need to pass in a list\n",
      "\n"
     ]
    }
   ],
   "source": [
    "model.remove_reactions(model.reactions.CYSTHI)"
   ]
  },
  {
   "cell_type": "code",
   "execution_count": 258,
   "metadata": {},
   "outputs": [
    {
     "name": "stderr",
     "output_type": "stream",
     "text": [
      "C:\\Users\\vivmol\\AppData\\Local\\Continuum\\anaconda3\\envs\\g-thermo\\lib\\site-packages\\cobra\\core\\model.py:716: UserWarning:\n",
      "\n",
      "need to pass in a list\n",
      "\n",
      "C:\\Users\\vivmol\\AppData\\Local\\Continuum\\anaconda3\\envs\\g-thermo\\lib\\site-packages\\cobra\\core\\group.py:110: UserWarning:\n",
      "\n",
      "need to pass in a list\n",
      "\n"
     ]
    }
   ],
   "source": [
    "model.remove_reactions(model.reactions.CYSTT)"
   ]
  },
  {
   "cell_type": "code",
   "execution_count": 259,
   "metadata": {},
   "outputs": [],
   "source": [
    "model.remove_metabolites(model.metabolites.cyst_c)"
   ]
  },
  {
   "cell_type": "markdown",
   "metadata": {},
   "source": [
    "In our model we have an oxalosuccinate metabolite currently. This is normally made from isocitrate and then converted further into akg. Therefore this reaction is overall the same as the ICDHyr reaction, and to make sure the flux is properly shown I will remove the two osuc reactions and also the metabolite itself."
   ]
  },
  {
   "cell_type": "code",
   "execution_count": 319,
   "metadata": {},
   "outputs": [
    {
     "name": "stderr",
     "output_type": "stream",
     "text": [
      "C:\\Users\\vivmol\\AppData\\Local\\Continuum\\anaconda3\\envs\\g-thermo\\lib\\site-packages\\cobra\\core\\model.py:716: UserWarning:\n",
      "\n",
      "need to pass in a list\n",
      "\n",
      "C:\\Users\\vivmol\\AppData\\Local\\Continuum\\anaconda3\\envs\\g-thermo\\lib\\site-packages\\cobra\\core\\group.py:110: UserWarning:\n",
      "\n",
      "need to pass in a list\n",
      "\n"
     ]
    }
   ],
   "source": [
    "model.remove_reactions(model.reactions.ISOCITOR)"
   ]
  },
  {
   "cell_type": "code",
   "execution_count": 320,
   "metadata": {},
   "outputs": [
    {
     "name": "stderr",
     "output_type": "stream",
     "text": [
      "C:\\Users\\vivmol\\AppData\\Local\\Continuum\\anaconda3\\envs\\g-thermo\\lib\\site-packages\\cobra\\core\\model.py:716: UserWarning:\n",
      "\n",
      "need to pass in a list\n",
      "\n",
      "C:\\Users\\vivmol\\AppData\\Local\\Continuum\\anaconda3\\envs\\g-thermo\\lib\\site-packages\\cobra\\core\\group.py:110: UserWarning:\n",
      "\n",
      "need to pass in a list\n",
      "\n"
     ]
    }
   ],
   "source": [
    "model.remove_reactions(model.reactions.OAACOLY)"
   ]
  },
  {
   "cell_type": "code",
   "execution_count": 321,
   "metadata": {},
   "outputs": [],
   "source": [
    "model.remove_metabolites(model.metabolites.osuc_c)"
   ]
  },
  {
   "cell_type": "markdown",
   "metadata": {},
   "source": [
    "After these changes, it seems that there is a functional TCA cycle, which is good. But somehow our succoa metabolite is still blocked. \n",
    "\n",
    "It seems there is a carbon source input somehow missing: adding any TCA intermediate, or amino acid solves this problem. Energy itself doesn't seem to be the problem here. I will just make a note of this and move on, as I'm quite confused exactly where this issue comes from but it has to do with carbon input into the TCA cycle i think. "
   ]
  },
  {
   "cell_type": "code",
   "execution_count": 346,
   "metadata": {},
   "outputs": [],
   "source": [
    "#save&commit anyway\n",
    "cobra.io.write_sbml_model(model,'../model/p-thermo.xml')"
   ]
  },
  {
   "cell_type": "markdown",
   "metadata": {},
   "source": [
    "### Putrescine\n",
    "Putrescine comes downstream from proline, so here i just check those pathways to be sure that as long as we have proline we should get putrescine."
   ]
  },
  {
   "cell_type": "code",
   "execution_count": 11,
   "metadata": {},
   "outputs": [],
   "source": [
    "model = cobra.io.read_sbml_model('../model/p-thermo.xml')"
   ]
  },
  {
   "cell_type": "code",
   "execution_count": 12,
   "metadata": {},
   "outputs": [],
   "source": [
    "model.reactions.APAPTm .id = 'SPMS'"
   ]
  },
  {
   "cell_type": "code",
   "execution_count": 13,
   "metadata": {},
   "outputs": [],
   "source": [
    "#PTRCTA is a wrong annotation, it should be R08714 "
   ]
  },
  {
   "cell_type": "code",
   "execution_count": 14,
   "metadata": {},
   "outputs": [],
   "source": [
    "model.reactions.PTRCTA.id = 'PTRCTA2'"
   ]
  },
  {
   "cell_type": "code",
   "execution_count": 15,
   "metadata": {},
   "outputs": [],
   "source": [
    "model.reactions.PTRCTA2.name = 'putrescine:pyruvate aminotransferase'\n",
    "model.reactions.PTRCTA2.notes = {}\n",
    "model.reactions.PTRCTA2.annotation = {}\n",
    "model.reactions.PTRCTA2.annotation['sbo'] = 'SBO:0000176'\n",
    "model.reactions.PTRCTA2.annotation['kegg.reaction'] = 'R08714'\n",
    "model.reactions.PTRCTA2.annotation['ec-code'] = '2.6.1.113'"
   ]
  },
  {
   "cell_type": "code",
   "execution_count": 16,
   "metadata": {},
   "outputs": [],
   "source": [
    "model.reactions.PTRCTA2.add_metabolites({model.metabolites.akg_c:1, model.metabolites.glu__L_c:-1, model.metabolites.pyr_c:-1, model.metabolites.ala__L_c:1})"
   ]
  },
  {
   "cell_type": "code",
   "execution_count": 17,
   "metadata": {},
   "outputs": [],
   "source": [
    "model.reactions.PTRCTA2.bounds = (-1000,1000)"
   ]
  },
  {
   "cell_type": "code",
   "execution_count": 18,
   "metadata": {},
   "outputs": [],
   "source": [
    "model.reactions.G5DHx.id = 'G5SD'"
   ]
  },
  {
   "cell_type": "code",
   "execution_count": 19,
   "metadata": {},
   "outputs": [],
   "source": [
    "model.reactions.G5SADrm.id = 'G5SADs'"
   ]
  },
  {
   "cell_type": "code",
   "execution_count": 20,
   "metadata": {},
   "outputs": [],
   "source": [
    "model.reactions.G5SADs.bounds = (0,1000)"
   ]
  },
  {
   "cell_type": "markdown",
   "metadata": {},
   "source": [
    "Conversion from pyr5c_c to glu__L_c: According to data shown in G. thermodenitirifcans and G. stearothermophilus the cofactor used here is NAD(H). Alos, then the reaction should not be irreversible."
   ]
  },
  {
   "cell_type": "code",
   "execution_count": 21,
   "metadata": {},
   "outputs": [
    {
     "name": "stderr",
     "output_type": "stream",
     "text": [
      "C:\\Users\\vivmol\\AppData\\Local\\Continuum\\anaconda3\\envs\\g-thermo\\lib\\site-packages\\cobra\\core\\model.py:716: UserWarning:\n",
      "\n",
      "need to pass in a list\n",
      "\n",
      "C:\\Users\\vivmol\\AppData\\Local\\Continuum\\anaconda3\\envs\\g-thermo\\lib\\site-packages\\cobra\\core\\group.py:110: UserWarning:\n",
      "\n",
      "need to pass in a list\n",
      "\n"
     ]
    }
   ],
   "source": [
    "model.remove_reactions(model.reactions.PYR5COR)"
   ]
  },
  {
   "cell_type": "code",
   "execution_count": 22,
   "metadata": {},
   "outputs": [],
   "source": [
    "model.reactions.P5CD.bounds = (0,1000)"
   ]
  },
  {
   "cell_type": "code",
   "execution_count": 23,
   "metadata": {},
   "outputs": [],
   "source": [
    "model.remove_reactions(model.reactions.P5CRx)"
   ]
  },
  {
   "cell_type": "code",
   "execution_count": 24,
   "metadata": {},
   "outputs": [],
   "source": [
    "model.reactions.P5CR.bounds = (-1000,0)"
   ]
  },
  {
   "cell_type": "code",
   "execution_count": 25,
   "metadata": {},
   "outputs": [],
   "source": [
    "model.reactions.LPROQOR.bounds = (0,1000)"
   ]
  },
  {
   "cell_type": "markdown",
   "metadata": {},
   "source": [
    "With these changes, putrescine should be connected to proline. This is also a blocked metabolite somewhere upstream and so will be revisited. If we supply proline to the model, now putrescine can be made and that pathway is no longer blocked. "
   ]
  },
  {
   "cell_type": "code",
   "execution_count": 26,
   "metadata": {},
   "outputs": [],
   "source": [
    "#save&commit\n",
    "cobra.io.write_sbml_model(model,'../model/p-thermo.xml')"
   ]
  },
  {
   "cell_type": "markdown",
   "metadata": {},
   "source": [
    "## Amino acid node\n",
    "Maybe before I can really see anything here I should go through each amino acid and check that there are not two seperate versions, and if there are there actually should be. \n",
    "\n",
    "What I will also focus on in this node is the nitrogen incorporation into the molecules. It is known that glutamine and glutamate are the two amino acids that are formed by incorporating ammonia, and they donate the amine group (indirectly) to all other amino acids. Therefore the reactions of other amino acids that assimilate nitrogen into their molecules should be removed, or at least the bounds changed to not assimilate nh3. (see Walker at al. 2016, DOI doi:10.1007/s10295-015-1665-y ) "
   ]
  },
  {
   "cell_type": "code",
   "execution_count": 199,
   "metadata": {},
   "outputs": [],
   "source": [
    "model = cobra.io.read_sbml_model('../model/p-thermo.xml')"
   ]
  },
  {
   "cell_type": "code",
   "execution_count": 200,
   "metadata": {},
   "outputs": [],
   "source": [
    "#other observations\n",
    "model.reactions.RBFSb.bounds = (0,1000)\n",
    "model.reactions.DLDLBT.bounds = (0,1000)"
   ]
  },
  {
   "cell_type": "markdown",
   "metadata": {},
   "source": [
    "__Threonine__"
   ]
  },
  {
   "cell_type": "code",
   "execution_count": 201,
   "metadata": {},
   "outputs": [],
   "source": [
    "model.metabolites.thrp_c.name = 'L-Threonine phosphate'"
   ]
  },
  {
   "cell_type": "markdown",
   "metadata": {},
   "source": [
    "threonine phosphate is used in the formation of vitamin B12. As *P. thermoglucosidasius NCIB11955* is known to be able to produce vitamin B12, together with the fact that there is a putative threonine-protein kinase annotated in the genome means that one could expect this conversion to be present. Therefore I will add this reaction to fill the gap in this pathway,"
   ]
  },
  {
   "cell_type": "code",
   "execution_count": 202,
   "metadata": {},
   "outputs": [],
   "source": [
    "model.add_reaction(Reaction(id='LTHRK'))"
   ]
  },
  {
   "cell_type": "code",
   "execution_count": 203,
   "metadata": {},
   "outputs": [],
   "source": [
    "model.reactions.LTHRK.name = 'L threonine kinase'\n",
    "model.reactions.LTHRK.annotation['kegg.reactions'] = 'R07341'\n",
    "model.reactions.LTHRK.bounds = (0,1000)\n",
    "model.reactions.LTHRK.annotation['sbo'] = 'SBO:0000176'\n",
    "model.reactions.LTHRK.annotation['ec-code'] = '2.7.1.77'"
   ]
  },
  {
   "cell_type": "code",
   "execution_count": 204,
   "metadata": {},
   "outputs": [],
   "source": [
    "model.reactions.LTHRK.add_metabolites({model.metabolites.thr__L_c:-1, model.metabolites.atp_c:-1, model.metabolites.thrp_c:1, model.metabolites.adp_c:1})"
   ]
  },
  {
   "cell_type": "code",
   "execution_count": 205,
   "metadata": {},
   "outputs": [
    {
     "name": "stderr",
     "output_type": "stream",
     "text": [
      "C:\\Users\\vivmol\\AppData\\Local\\Continuum\\anaconda3\\envs\\g-thermo\\lib\\site-packages\\cobra\\core\\model.py:716: UserWarning:\n",
      "\n",
      "need to pass in a list\n",
      "\n",
      "C:\\Users\\vivmol\\AppData\\Local\\Continuum\\anaconda3\\envs\\g-thermo\\lib\\site-packages\\cobra\\core\\group.py:110: UserWarning:\n",
      "\n",
      "need to pass in a list\n",
      "\n"
     ]
    }
   ],
   "source": [
    "#remove reaction\n",
    "model.remove_reactions(model.reactions.HSDx)"
   ]
  },
  {
   "cell_type": "code",
   "execution_count": 206,
   "metadata": {},
   "outputs": [],
   "source": [
    "model.reactions.HSDH.id = 'HSDy'"
   ]
  },
  {
   "cell_type": "code",
   "execution_count": 207,
   "metadata": {},
   "outputs": [],
   "source": [
    "model.reactions.ASPSALY.id = 'DHDPS'"
   ]
  },
  {
   "cell_type": "code",
   "execution_count": 208,
   "metadata": {},
   "outputs": [],
   "source": [
    "model.reactions.DHDPS.bounds = (0,1000)"
   ]
  },
  {
   "cell_type": "code",
   "execution_count": 209,
   "metadata": {},
   "outputs": [],
   "source": [
    "model.reactions.ASAD.bounds = (-1000,1000)"
   ]
  },
  {
   "cell_type": "code",
   "execution_count": 210,
   "metadata": {},
   "outputs": [],
   "source": [
    "#connected to aspartate now"
   ]
  },
  {
   "cell_type": "markdown",
   "metadata": {},
   "source": [
    "__Alanine__\n",
    "There are three alanine versions in the model: L, D (both alpha) and beta. I will check that they should all be in the model and also ensure that the correct reactions are associated to them."
   ]
  },
  {
   "cell_type": "code",
   "execution_count": 211,
   "metadata": {},
   "outputs": [],
   "source": [
    "#only problem of ala__D\n",
    "model.reactions.ALATA_D.bounds = (-1000,1000)"
   ]
  },
  {
   "cell_type": "code",
   "execution_count": 212,
   "metadata": {},
   "outputs": [],
   "source": [
    "#wrong direction\n",
    "model.reactions.ALAD_L.bounds = (-1000,0) "
   ]
  },
  {
   "cell_type": "code",
   "execution_count": 213,
   "metadata": {},
   "outputs": [],
   "source": [
    "model.reactions.LCTST.bounds = (-1000,1000)"
   ]
  },
  {
   "cell_type": "markdown",
   "metadata": {},
   "source": [
    "The B. subtilis genome has been shown to encode an L-alanine transaminase, reflected by the b. sub model reaction ALATA_L. Performing a Blast on this protein gave multiple significant hits. As it seems that our current model doesn't contain the alanine synthesis route known to be functional in B. sub (and E. coli) it should be added. To do so, I will add the ALATA_L reaction."
   ]
  },
  {
   "cell_type": "code",
   "execution_count": 214,
   "metadata": {},
   "outputs": [],
   "source": [
    "model.add_reaction(Reaction(id='ALATA_L'))"
   ]
  },
  {
   "cell_type": "code",
   "execution_count": 215,
   "metadata": {},
   "outputs": [],
   "source": [
    "model.reactions.ALATA_L.name = 'L-alanine transaminase'"
   ]
  },
  {
   "cell_type": "code",
   "execution_count": 216,
   "metadata": {},
   "outputs": [],
   "source": [
    "model.reactions.ALATA_L.annotation= model_e_coli.reactions.ALATA_L.annotation"
   ]
  },
  {
   "cell_type": "code",
   "execution_count": 217,
   "metadata": {},
   "outputs": [],
   "source": [
    "model.reactions.ALATA_L.add_metabolites({model.metabolites.akg_c:-1, model.metabolites.ala__L_c:-1, model.metabolites.glu__L_c:1, model.metabolites.pyr_c:1})"
   ]
  },
  {
   "cell_type": "code",
   "execution_count": 218,
   "metadata": {},
   "outputs": [],
   "source": [
    "model.reactions.ALATA_L.bounds = (-1000,1000)"
   ]
  },
  {
   "cell_type": "code",
   "execution_count": 219,
   "metadata": {},
   "outputs": [],
   "source": [
    "#next look into b-alanine"
   ]
  },
  {
   "cell_type": "code",
   "execution_count": 220,
   "metadata": {},
   "outputs": [],
   "source": [
    "#knowing the physiological role of NADPH as electron donor  in anabolism, it makes m ore sense  that this reaction is in the reverse\n",
    "model.reactions.MALCOAOR.bounds = (-1000,0)"
   ]
  },
  {
   "cell_type": "markdown",
   "metadata": {},
   "source": [
    "I will leave both MMSAD3 and MSAOR for now. They are the same reaction but with other co-factors. As they atleast do not allow a cylce to form exchanging the electrons, then I think it is oke to keep. "
   ]
  },
  {
   "cell_type": "code",
   "execution_count": 221,
   "metadata": {},
   "outputs": [],
   "source": [
    "model.reactions.DURAD.bounds = (-1000,0)"
   ]
  },
  {
   "cell_type": "code",
   "execution_count": 222,
   "metadata": {},
   "outputs": [],
   "source": [
    "#connected to glutamate"
   ]
  },
  {
   "cell_type": "markdown",
   "metadata": {},
   "source": [
    "__Phenylalanine__ In our model we have both D and L version. Both can be made and degraded in the same way from other D or L amino acids, so I will leave them for now. "
   ]
  },
  {
   "cell_type": "code",
   "execution_count": 223,
   "metadata": {},
   "outputs": [],
   "source": [
    "#phe__L_c should only get nitrogen from glutamate, so will prevent that if PHEOR\n",
    "model.reactions.PHEOR.bounds = (0,1000)\n",
    "model.reactions.PHEAOR.bounds = (0,1000)"
   ]
  },
  {
   "cell_type": "code",
   "execution_count": 225,
   "metadata": {
    "scrolled": false
   },
   "outputs": [],
   "source": [
    "#connected to D- or L-glutamate"
   ]
  },
  {
   "cell_type": "code",
   "execution_count": 226,
   "metadata": {},
   "outputs": [],
   "source": [
    "#save& commite\n",
    "cobra.io.write_sbml_model(model,'../model/p-thermo.xml')"
   ]
  },
  {
   "cell_type": "markdown",
   "metadata": {},
   "source": [
    "__Glycine__"
   ]
  },
  {
   "cell_type": "code",
   "execution_count": 345,
   "metadata": {},
   "outputs": [],
   "source": [
    "model = cobra.io.read_sbml_model('../model/p-thermo.xml')"
   ]
  },
  {
   "cell_type": "code",
   "execution_count": 346,
   "metadata": {},
   "outputs": [],
   "source": [
    "#missing a metabolite\n",
    "model.reactions.GHMT.add_metabolites({model.metabolites.thf_c:-1, model.metabolites.h2o_c:2})"
   ]
  },
  {
   "cell_type": "code",
   "execution_count": 347,
   "metadata": {},
   "outputs": [
    {
     "name": "stderr",
     "output_type": "stream",
     "text": [
      "C:\\Users\\vivmol\\AppData\\Local\\Continuum\\anaconda3\\envs\\g-thermo\\lib\\site-packages\\cobra\\core\\model.py:716: UserWarning:\n",
      "\n",
      "need to pass in a list\n",
      "\n",
      "C:\\Users\\vivmol\\AppData\\Local\\Continuum\\anaconda3\\envs\\g-thermo\\lib\\site-packages\\cobra\\core\\group.py:110: UserWarning:\n",
      "\n",
      "need to pass in a list\n",
      "\n"
     ]
    }
   ],
   "source": [
    "#remove GLYO1, causes a cycle making NAHD and oxygen\n",
    "model.remove_reactions(model.reactions.GLYO1)"
   ]
  },
  {
   "cell_type": "code",
   "execution_count": 348,
   "metadata": {},
   "outputs": [],
   "source": [
    "model.reactions.PRAGSr.bounds = (0,1000)"
   ]
  },
  {
   "cell_type": "code",
   "execution_count": 349,
   "metadata": {},
   "outputs": [],
   "source": [
    "#coupled to serine"
   ]
  },
  {
   "cell_type": "markdown",
   "metadata": {},
   "source": [
    "__Serine__"
   ]
  },
  {
   "cell_type": "code",
   "execution_count": 350,
   "metadata": {},
   "outputs": [],
   "source": [
    "model.reactions.SERH.id = 'TRPS1'"
   ]
  },
  {
   "cell_type": "code",
   "execution_count": 351,
   "metadata": {},
   "outputs": [],
   "source": [
    "model.reactions.TRPS1.bounds = (0,1000)"
   ]
  },
  {
   "cell_type": "code",
   "execution_count": 352,
   "metadata": {},
   "outputs": [],
   "source": [
    "model.reactions.PSP.id = 'PSP_L'"
   ]
  },
  {
   "cell_type": "code",
   "execution_count": 353,
   "metadata": {},
   "outputs": [],
   "source": [
    "model.reactions.PGCD.bounds = (0,1000)"
   ]
  },
  {
   "cell_type": "code",
   "execution_count": 354,
   "metadata": {},
   "outputs": [],
   "source": [
    "#coupled to glycerate and glutamate"
   ]
  },
  {
   "cell_type": "markdown",
   "metadata": {},
   "source": [
    "__Valine__"
   ]
  },
  {
   "cell_type": "code",
   "execution_count": 355,
   "metadata": {},
   "outputs": [],
   "source": [
    "#only nitorgen comes from glutamate\n",
    "model.reactions.VALDHr.bounds = (-1000,0)"
   ]
  },
  {
   "cell_type": "markdown",
   "metadata": {},
   "source": [
    "A problem here comes from the formation of acetolactate from pyruvate. The model should use ACLS but instead uses the APL reaction that seems to be wrongly incorporated into the model. Therefore I will remove it here."
   ]
  },
  {
   "cell_type": "code",
   "execution_count": 356,
   "metadata": {},
   "outputs": [],
   "source": [
    "model.remove_reactions(model.reactions.APL)"
   ]
  },
  {
   "cell_type": "code",
   "execution_count": 357,
   "metadata": {},
   "outputs": [],
   "source": [
    "#coupled to pyruvate and glutamate"
   ]
  },
  {
   "cell_type": "code",
   "execution_count": 358,
   "metadata": {},
   "outputs": [],
   "source": [
    "#save&commit\n",
    "cobra.io.write_sbml_model(model,'../model/p-thermo.xml')"
   ]
  },
  {
   "cell_type": "markdown",
   "metadata": {},
   "source": [
    "__Leucine__"
   ]
  },
  {
   "cell_type": "code",
   "execution_count": 467,
   "metadata": {},
   "outputs": [],
   "source": [
    "model = cobra.io.read_sbml_model('../model/p-thermo.xml')"
   ]
  },
  {
   "cell_type": "code",
   "execution_count": 468,
   "metadata": {},
   "outputs": [],
   "source": [
    "model.reactions.LLEUDr.bounds = (0,1000)"
   ]
  },
  {
   "cell_type": "code",
   "execution_count": 469,
   "metadata": {},
   "outputs": [],
   "source": [
    "#CO2 on the wrong side of the reaction\n",
    "model.reactions.OMCDC.add_metabolites({model.metabolites.co2_c:2, model.metabolites.h_c:-1})"
   ]
  },
  {
   "cell_type": "code",
   "execution_count": 470,
   "metadata": {},
   "outputs": [],
   "source": [
    "model.reactions.IPMD.bounds = (0,1000)"
   ]
  },
  {
   "cell_type": "code",
   "execution_count": 471,
   "metadata": {},
   "outputs": [],
   "source": [
    "model.reactions.IMDHT_3c2hmp.id = 'IPPMIa'"
   ]
  },
  {
   "cell_type": "code",
   "execution_count": 472,
   "metadata": {},
   "outputs": [],
   "source": [
    "model.reactions.IMDHT.id = 'IPPMIb'"
   ]
  },
  {
   "cell_type": "code",
   "execution_count": 473,
   "metadata": {},
   "outputs": [],
   "source": [
    "#connected to pyruvate"
   ]
  },
  {
   "cell_type": "markdown",
   "metadata": {},
   "source": [
    "__Isoleucine__"
   ]
  },
  {
   "cell_type": "code",
   "execution_count": 474,
   "metadata": {},
   "outputs": [],
   "source": [
    "model.reactions.ILEOR.bounds = (0,1000)"
   ]
  },
  {
   "cell_type": "code",
   "execution_count": 475,
   "metadata": {},
   "outputs": [],
   "source": [
    "#linked to pyruvate & glutamate"
   ]
  },
  {
   "cell_type": "markdown",
   "metadata": {},
   "source": [
    "__Tyrosine__"
   ]
  },
  {
   "cell_type": "code",
   "execution_count": 476,
   "metadata": {},
   "outputs": [],
   "source": [
    "model.reactions.CHORM.bounds = (0,1000)"
   ]
  },
  {
   "cell_type": "code",
   "execution_count": 477,
   "metadata": {},
   "outputs": [],
   "source": [
    "model.reactions.ADCS.bounds = (0,1000)"
   ]
  },
  {
   "cell_type": "code",
   "execution_count": 478,
   "metadata": {},
   "outputs": [],
   "source": [
    "#i think reaction should not function in this direction, as the nitrogen in themolecules should come from glu/gln. \n",
    "#so Ill change the bounds so this is a degradation reaction.\n",
    "model.reactions.ANS.bounds = (-1000,0)"
   ]
  },
  {
   "cell_type": "code",
   "execution_count": 479,
   "metadata": {},
   "outputs": [],
   "source": [
    "#went through shiki pathway\n",
    "#coupled to glu/gln and e4p and pep."
   ]
  },
  {
   "cell_type": "markdown",
   "metadata": {},
   "source": [
    "__Tryptophan__"
   ]
  },
  {
   "cell_type": "code",
   "execution_count": 480,
   "metadata": {},
   "outputs": [],
   "source": [
    "model.reactions.G3PL.id = 'TRPS3'"
   ]
  },
  {
   "cell_type": "code",
   "execution_count": 481,
   "metadata": {},
   "outputs": [],
   "source": [
    "model.reactions.TRPS3.bounds = (0,1000)"
   ]
  },
  {
   "cell_type": "code",
   "execution_count": 482,
   "metadata": {},
   "outputs": [],
   "source": [
    "model.reactions.ANS.bounds = (0,1000)"
   ]
  },
  {
   "cell_type": "code",
   "execution_count": 483,
   "metadata": {},
   "outputs": [],
   "source": [
    "#again ammonia assimilationg shouldnt be possible like this\n",
    "model.reactions.ANS2.bounds = (-1000,0)"
   ]
  },
  {
   "cell_type": "code",
   "execution_count": 484,
   "metadata": {},
   "outputs": [],
   "source": [
    "#linked to gln and chorismate, whose pathway has been checkd above."
   ]
  },
  {
   "cell_type": "code",
   "execution_count": 485,
   "metadata": {},
   "outputs": [],
   "source": [
    "#save&commit\n",
    "cobra.io.write_sbml_model(model,'../model/p-thermo.xml')"
   ]
  },
  {
   "cell_type": "markdown",
   "metadata": {},
   "source": [
    "__Cysteine__"
   ]
  },
  {
   "cell_type": "code",
   "execution_count": 591,
   "metadata": {},
   "outputs": [],
   "source": [
    "model = cobra.io.read_sbml_model('../model/p-thermo.xml')"
   ]
  },
  {
   "cell_type": "code",
   "execution_count": 592,
   "metadata": {},
   "outputs": [],
   "source": [
    "model.reactions.SAT.id = 'SERAT'"
   ]
  },
  {
   "cell_type": "code",
   "execution_count": 593,
   "metadata": {},
   "outputs": [],
   "source": [
    "#coupled to serine"
   ]
  },
  {
   "cell_type": "markdown",
   "metadata": {},
   "source": [
    "__Methionine__\n"
   ]
  },
  {
   "cell_type": "code",
   "execution_count": 594,
   "metadata": {},
   "outputs": [],
   "source": [
    "model.reactions.MATm.id = 'METAT'"
   ]
  },
  {
   "cell_type": "code",
   "execution_count": 595,
   "metadata": {},
   "outputs": [],
   "source": [
    "model.reactions.METAT.bounds = (-1000,0)"
   ]
  },
  {
   "cell_type": "code",
   "execution_count": 596,
   "metadata": {},
   "outputs": [],
   "source": [
    "model.reactions.MTHFO.bounds =  (-1000,0)\n",
    "model.reactions.MTHFO_nadp.bounds = (-1000,0)"
   ]
  },
  {
   "cell_type": "code",
   "execution_count": 597,
   "metadata": {},
   "outputs": [],
   "source": [
    "#linked to cysteine"
   ]
  },
  {
   "cell_type": "markdown",
   "metadata": {},
   "source": [
    "__Lysine__"
   ]
  },
  {
   "cell_type": "code",
   "execution_count": 598,
   "metadata": {},
   "outputs": [],
   "source": [
    "model.reactions.UAMAGLIG.id = 'UAAGDS'"
   ]
  },
  {
   "cell_type": "code",
   "execution_count": 599,
   "metadata": {},
   "outputs": [],
   "source": [
    "model.metabolites.uaagmd_c.id = 'ugmd_c'"
   ]
  },
  {
   "cell_type": "code",
   "execution_count": 600,
   "metadata": {},
   "outputs": [],
   "source": [
    "model.reactions.ALAALALIG.id = 'UGMDDS'"
   ]
  },
  {
   "cell_type": "code",
   "execution_count": 601,
   "metadata": {},
   "outputs": [],
   "source": [
    "#linked to aspartate"
   ]
  },
  {
   "cell_type": "markdown",
   "metadata": {},
   "source": [
    "__Arginine__"
   ]
  },
  {
   "cell_type": "code",
   "execution_count": 602,
   "metadata": {},
   "outputs": [],
   "source": [
    "model.metabolites.acg5sa_c.name = 'N-Acetyl-L-glutamate 5-semialdehyde'"
   ]
  },
  {
   "cell_type": "code",
   "execution_count": 603,
   "metadata": {},
   "outputs": [],
   "source": [
    "model.reactions.AGGPR.id = 'AGPR'"
   ]
  },
  {
   "cell_type": "code",
   "execution_count": 604,
   "metadata": {},
   "outputs": [],
   "source": [
    "model.reactions.ACGS.bounds = (0,1000)"
   ]
  },
  {
   "cell_type": "code",
   "execution_count": 605,
   "metadata": {},
   "outputs": [],
   "source": [
    "#linked to glutamate"
   ]
  },
  {
   "cell_type": "code",
   "execution_count": 606,
   "metadata": {},
   "outputs": [],
   "source": [
    "#save&commit\n",
    "cobra.io.write_sbml_model(model,'../model/p-thermo.xml')"
   ]
  },
  {
   "cell_type": "markdown",
   "metadata": {},
   "source": [
    "__Histdine__ \n",
    "I found a duplicate of histidine: lhistidi_c. I will remove it and its reactions. Maybe more to be removed here? check the normal pathway first"
   ]
  },
  {
   "cell_type": "code",
   "execution_count": 668,
   "metadata": {},
   "outputs": [],
   "source": [
    "model = cobra.io.read_sbml_model('../model/p-thermo.xml')"
   ]
  },
  {
   "cell_type": "code",
   "execution_count": 669,
   "metadata": {},
   "outputs": [],
   "source": [
    "model.reactions.HDH.id = 'HISTD'"
   ]
  },
  {
   "cell_type": "code",
   "execution_count": 670,
   "metadata": {},
   "outputs": [
    {
     "name": "stderr",
     "output_type": "stream",
     "text": [
      "C:\\Users\\vivmol\\AppData\\Local\\Continuum\\anaconda3\\envs\\g-thermo\\lib\\site-packages\\cobra\\core\\model.py:716: UserWarning:\n",
      "\n",
      "need to pass in a list\n",
      "\n",
      "C:\\Users\\vivmol\\AppData\\Local\\Continuum\\anaconda3\\envs\\g-thermo\\lib\\site-packages\\cobra\\core\\group.py:110: UserWarning:\n",
      "\n",
      "need to pass in a list\n",
      "\n"
     ]
    }
   ],
   "source": [
    "model.remove_reactions(model.reactions.HISOR)"
   ]
  },
  {
   "cell_type": "code",
   "execution_count": 671,
   "metadata": {},
   "outputs": [],
   "source": [
    "model.remove_reactions(model.reactions.HISTIOR)"
   ]
  },
  {
   "cell_type": "code",
   "execution_count": 672,
   "metadata": {},
   "outputs": [],
   "source": [
    "model.remove_metabolites(model.metabolites.lhistidi_c)"
   ]
  },
  {
   "cell_type": "code",
   "execution_count": 673,
   "metadata": {},
   "outputs": [],
   "source": [
    "model.reactions.PRICIh.id = 'PRMICI'"
   ]
  },
  {
   "cell_type": "code",
   "execution_count": 674,
   "metadata": {},
   "outputs": [],
   "source": [
    "model.reactions.PRMICI.bounds = (-1000,1000)"
   ]
  },
  {
   "cell_type": "code",
   "execution_count": 675,
   "metadata": {},
   "outputs": [],
   "source": [
    "model.reactions.PRACHh.id = 'PRAMPC'"
   ]
  },
  {
   "cell_type": "code",
   "execution_count": 676,
   "metadata": {},
   "outputs": [],
   "source": [
    "model.reactions.PRADPh.id = 'PRATPP'"
   ]
  },
  {
   "cell_type": "code",
   "execution_count": 648,
   "metadata": {},
   "outputs": [],
   "source": [
    "#linked to r5p and gln/glu."
   ]
  },
  {
   "cell_type": "markdown",
   "metadata": {},
   "source": [
    "__Aspartate__\n",
    "\n",
    "Everything with aspartate seems fine."
   ]
  },
  {
   "cell_type": "markdown",
   "metadata": {},
   "source": [
    "__Asparagine__ Also seems correct."
   ]
  },
  {
   "cell_type": "markdown",
   "metadata": {},
   "source": [
    "__Proline__\n",
    "already linked to arginine"
   ]
  },
  {
   "cell_type": "code",
   "execution_count": 677,
   "metadata": {},
   "outputs": [],
   "source": [
    "#save&commit\n",
    "cobra.io.write_sbml_model(model,'../model/p-thermo.xml')"
   ]
  },
  {
   "cell_type": "markdown",
   "metadata": {},
   "source": [
    "###  Glutamate and glutamine\n",
    "\n",
    "Here I will first look into the D-versions of these two amino acids to get them sorted. Then afterwards I will look into the L-verions and look into literature about what is known of glutamine and glutamate metabolism in (thermophilic) bacilli. \n",
    "\n",
    "NADPH dependent GDH is used to assimilate nitrogen into a-ketoglutarate, forming glutamate. The NADH dependent GDH is used to catabolize glutamate into a-ketoglutarate when glutamate is carbon and nitrogen source.\n",
    "\n",
    "However currently, both the NADPH and NADH dependent GDH enzymes in our model are reversible. As a result, the model just cycles the fluxes between these two, resulting in the transfer of electrons from NADH to NADPH, which is energetically not so reasonable. Also it will cause us to bias the cofactor balances we have in the cell. Even if we fix the two reactions in the direction they are expected to work, this keeps happening. In most bacteria it has been shown that either the one or the other is present and that they are relatively stringent with co-factor specificity.\n",
    "\n",
    "That being said, I looked more into the GDH enzymes that have been found in bacilli. It seems most bacilli (and shown for one geobacillus) that there is no NADP(H) dependent GDH. Hence the GDH functions to catabolize glutamate into the TCA when needed (as you also mentioned is seen).\n",
    "\n",
    "Instead of assimilating nitrogen via GDH, it seems bacilli use the GOGAT reaction: which transfers a nitrogen from glutamine to a-ketoglutarate to form two glutamate molecules. A glutamate synthase (GS) can convert glutamate into glutamine by incorporating NH4 and using some ATP. (see picture below for a visual)\n",
    "\n",
    "All of that being said, I think the GS/GOGAT assimilation route is more likely to be expected for our strain, with the GDH is being used for glutamate catabolism.\n",
    "\n",
    "\n",
    "Literature: \n",
    "- Commichau 2008, doi:10.1128/JB.00099-08\n",
    "- Khan, Biosci. Biotechnol. Biochem., 69 (10), 1861-1870, 2005\n",
    "- Schmidt, Journal of General Microbiology (1982), 128, 17 13-1 7 18.\n"
   ]
  },
  {
   "cell_type": "markdown",
   "metadata": {},
   "source": [
    "On another note, the further research here has shown that in bacilli it has been postulated that alanine can also be formed by nitrogen assimilation, and so the ALAD reactions should be reversible."
   ]
  },
  {
   "cell_type": "code",
   "execution_count": 5,
   "metadata": {},
   "outputs": [],
   "source": [
    "model = cobra.io.read_sbml_model('../model/p-thermo.xml')"
   ]
  },
  {
   "cell_type": "code",
   "execution_count": 6,
   "metadata": {},
   "outputs": [],
   "source": [
    "model.reactions.ALAD_L.bounds = (-1000,1000)"
   ]
  },
  {
   "cell_type": "markdown",
   "metadata": {},
   "source": [
    "__D-glutamate__ Seems fine\n",
    "\n",
    "__D-glutamine__ This has been incorrectly added to the model. So I will remove this metabolite and the one reaction associated to it."
   ]
  },
  {
   "cell_type": "code",
   "execution_count": 7,
   "metadata": {},
   "outputs": [
    {
     "name": "stderr",
     "output_type": "stream",
     "text": [
      "C:\\Users\\vivmol\\AppData\\Local\\Continuum\\anaconda3\\envs\\g-thermo\\lib\\site-packages\\cobra\\core\\model.py:716: UserWarning:\n",
      "\n",
      "need to pass in a list\n",
      "\n",
      "C:\\Users\\vivmol\\AppData\\Local\\Continuum\\anaconda3\\envs\\g-thermo\\lib\\site-packages\\cobra\\core\\group.py:110: UserWarning:\n",
      "\n",
      "need to pass in a list\n",
      "\n"
     ]
    }
   ],
   "source": [
    "model.remove_reactions(model.reactions.GLNAMHYDRO)"
   ]
  },
  {
   "cell_type": "code",
   "execution_count": 8,
   "metadata": {},
   "outputs": [],
   "source": [
    "model.remove_metabolites(model.metabolites.gln__D_c)"
   ]
  },
  {
   "cell_type": "code",
   "execution_count": 9,
   "metadata": {},
   "outputs": [],
   "source": [
    "#GLUS_nadph  is the GOGAT, or GLUSy in the e. coli model\n",
    "model.reactions.GLUS_nadph.id = 'GLUSy'"
   ]
  },
  {
   "cell_type": "code",
   "execution_count": 10,
   "metadata": {},
   "outputs": [],
   "source": [
    "#GALh is the glutamine synthase\n",
    "model.reactions.GALh.id = 'GLNS'"
   ]
  },
  {
   "cell_type": "code",
   "execution_count": 11,
   "metadata": {},
   "outputs": [],
   "source": [
    "#problematic reaction: GAM. it can just assimilate nitrogen without needing any energy. \n",
    "model.remove_reactions(model.reactions.GAM)"
   ]
  },
  {
   "cell_type": "code",
   "execution_count": 12,
   "metadata": {},
   "outputs": [],
   "source": [
    "model.metabolites.ru5p__D_c.name= 'D-Ribulose 5-phosphate'"
   ]
  },
  {
   "cell_type": "code",
   "execution_count": 13,
   "metadata": {},
   "outputs": [],
   "source": [
    "model.metabolites.pydx5p_c.name = 'Pyridoxal phosphate'"
   ]
  },
  {
   "cell_type": "code",
   "execution_count": 14,
   "metadata": {},
   "outputs": [],
   "source": [
    "#based on thermodynamics\n",
    "model.reactions.PYDXS.boudsn = (0,1000)"
   ]
  },
  {
   "cell_type": "code",
   "execution_count": 15,
   "metadata": {},
   "outputs": [],
   "source": [
    "model.metabolites.glu5sa_c.name = 'L-Glutamate 5-semialdehyde'"
   ]
  },
  {
   "cell_type": "code",
   "execution_count": 16,
   "metadata": {},
   "outputs": [],
   "source": [
    "#based on thermodynamics\n",
    "model.reactions.PUTA3.bounds = (0,1000)"
   ]
  },
  {
   "cell_type": "markdown",
   "metadata": {},
   "source": [
    "Now I will try to build in the glutamate/glutamine pathway as I would expect it to be present, as described above."
   ]
  },
  {
   "cell_type": "code",
   "execution_count": 17,
   "metadata": {},
   "outputs": [],
   "source": [
    "model.remove_reactions(model.reactions.GDH_nadp)"
   ]
  },
  {
   "cell_type": "code",
   "execution_count": 18,
   "metadata": {},
   "outputs": [],
   "source": [
    "model.reactions.GDH.bounds = (0,1000)"
   ]
  },
  {
   "cell_type": "code",
   "execution_count": 19,
   "metadata": {},
   "outputs": [],
   "source": [
    "model.remove_metabolites(model.metabolites.glc__bD_c)"
   ]
  },
  {
   "cell_type": "code",
   "execution_count": 20,
   "metadata": {},
   "outputs": [],
   "source": [
    "#save&commit\n",
    "cobra.io.write_sbml_model(model,'../model/p-thermo.xml')"
   ]
  },
  {
   "cell_type": "markdown",
   "metadata": {},
   "source": [
    "with these changes, and supplying a-ketoglutarate, all amino acids are no longer blocked, which is good. But suppling accoa does not restore the biomass. This again seems to indicate there is something wrong further upstream of the pathways."
   ]
  },
  {
   "cell_type": "markdown",
   "metadata": {},
   "source": [
    "### DNA/RNA node\n",
    "it seems that the synthesis of all nucleotides and deoxy-nucleotides are blocked in the model right now. I need to figure out what upstream metabolite(s) cause these blocks.\n",
    "\n",
    "For the purines, IMP is the common metabolite that is used to form the other purines (A and G). IMP comes from PRPP and Glutamine. I've checked the pathay from these precursors to IMP before. \n",
    "\n",
    "For the pyrimidines (U,T,C) can all be synthesizied from UMP. The UMP is made from glutamine and aspartate. This part of the pathway I have checked also. \n",
    "\n",
    "For some reason I can't find a supplementation that fixes all of the nucleotides: even adding both imp and ump doesnt resolve the problem.\n",
    "So I will look into the purines and pyrimidines seperately to find out what is missing in this synthesis."
   ]
  },
  {
   "cell_type": "markdown",
   "metadata": {},
   "source": [
    "__dAMP from AMP__\n",
    "dADP is made from ADP, using the trdr cofactor. The reason we cannot form dADP here is because the trdrd_c metabolite cannot be regenerated in any reaction we have currently. This is a problem and prevents flux throught the pathway. This is also the cofactor used to generate dgdp, dudp and dcdp too. So if we solve this regeneration then we may have fixed a part of the blockage problem in this pathway. \n",
    "\n",
    "This should allow damp production from atp or imp. This seems to also have solved the dependency for dgmp, as it goes via the same mechanism and co-factor, trdrd_c. "
   ]
  },
  {
   "cell_type": "code",
   "execution_count": 21,
   "metadata": {},
   "outputs": [],
   "source": [
    "model.reactions.TDSRh.id = 'TRDR'"
   ]
  },
  {
   "cell_type": "code",
   "execution_count": 22,
   "metadata": {},
   "outputs": [],
   "source": [
    "model.reactions.TRDR.bounds = (-1000,0)"
   ]
  },
  {
   "cell_type": "markdown",
   "metadata": {},
   "source": [
    "With fixing this cofactor, we have now fixed the blockage in the DNA and RNA pathways. When IMP and UMP are supplied, we can generate all deoxy- and nucleotides. So now I have to figure out where the upstream blockage is. \n",
    "\n",
    "__IMP pathway__ IMP comes from a pathway that starts with pram_c, which is made from glutamine and prpp. Replacing IMP with pram_c kills the production of purines, so there is still something wrong in this pathway.\n",
    "\n",
    "Supplying metabolite 5caiz_c still allows formation of all purines. however one step up the pathway, supplying air_c doesn't rescue growth. So something seems to be the problem in converting air_c into 5caiz_c., i.e. reaction AIRC2. If we supply both hco3 and air, then the purines can be made again. So it seems something is wrong with the bicarbonate supply.\n",
    "\n",
    "Upon inspection, we see that there are only hco3 consuming reactions, no producing reactions possible, explaining the imbalance here. We are missing a reaction that allows co2 to solubilize to hco3 reversibly. This reaction will be added."
   ]
  },
  {
   "cell_type": "code",
   "execution_count": 23,
   "metadata": {},
   "outputs": [],
   "source": [
    "model.add_reaction(Reaction(id='HCO3E'))"
   ]
  },
  {
   "cell_type": "code",
   "execution_count": 24,
   "metadata": {},
   "outputs": [],
   "source": [
    "model.reactions.HCO3E.name = 'HCO3 equilibration reaction'"
   ]
  },
  {
   "cell_type": "code",
   "execution_count": 25,
   "metadata": {},
   "outputs": [],
   "source": [
    "model.reactions.HCO3E.annotation = model_e_coli.reactions.HCO3E.annotation "
   ]
  },
  {
   "cell_type": "code",
   "execution_count": 26,
   "metadata": {},
   "outputs": [],
   "source": [
    "model.reactions.HCO3E.add_metabolites({model.metabolites.co2_c:-1, model.metabolites.h2o_c:-1, model.metabolites.h_c:1, model.metabolites.hco3_c:1})"
   ]
  },
  {
   "cell_type": "code",
   "execution_count": 27,
   "metadata": {},
   "outputs": [],
   "source": [
    "model.reactions.HCO3E.bounds =(-1000,1000)"
   ]
  },
  {
   "cell_type": "markdown",
   "metadata": {},
   "source": [
    "With these changes, we can produce all purines from ribose-5-phosphate, prpp or glutamine. So it seems this blockage has now been resovled!"
   ]
  },
  {
   "cell_type": "markdown",
   "metadata": {},
   "source": [
    "__UMP pathway__\n",
    "For the production of the pyrimidines we now can synthesize them all from UMP, but now need to see where upstream there is a block that prevents the production of the pyrimidines from carbamoyl-phosphate and then arginine and glutamine. \n",
    "\n",
    "After doing the fixes above, we see that the pyrimidines are also no longer blocked and require no supplementation. So it seems that there was a common problem there that has been fixed. \n",
    "This block has then been completely resolved!"
   ]
  },
  {
   "cell_type": "code",
   "execution_count": 28,
   "metadata": {},
   "outputs": [],
   "source": [
    "#save and commit\n",
    "cobra.io.write_sbml_model(model,'../model/p-thermo.xml')"
   ]
  },
  {
   "cell_type": "markdown",
   "metadata": {},
   "source": [
    "# conclusion\n",
    "Initially we saw various causes for the blockes in biomass generation, however after having gone through each category we need to revisit what nodes are still blocked and what could be the reason. After fixing the purine and pyrimidine block for example, we also alleviated the FAD and Ribflv block (cause by blocked atp and gtp respectively). Also the energy is no longer such a problem as we can produce both adp and atp in purine biosynthesis now. \n",
    "\n",
    "Supprisingly, fixing the nucleotides also resolved the 'other' category: the succoa, putrescine and ribflav are no longer an issue. Also now the amino acids are not blocked.\n",
    "\n",
    "Going back to the normal model, just growing on glucose, we get a growth rate of 1.84 which is quite realistic.\n",
    "\n",
    "Of course there are still more issues with the model that need revisiting, but this is already a great start to a more realistic prediction, even with the bounds opened again. \n",
    "\n",
    "\n"
   ]
  },
  {
   "cell_type": "code",
   "execution_count": 144,
   "metadata": {},
   "outputs": [],
   "source": [
    "rna = ['amp_c', 'gmp_c', 'cmp_c', 'ump_c']\n",
    "dna = ['damp_c', 'dgmp_c', 'dcmp_c', 'dtmp_c']\n",
    "purines = ['amp_c', 'gmp_c', 'damp_c', 'dgmp_c']\n",
    "pyrimidines = ['cmp_c', 'ump_c', 'dcmp_c', 'dtmp_c']\n",
    "energy = ['adp_c', 'atp_c']\n",
    "aa = ['ser__L_c', 'phe__L_c', 'gly_c', 'ala__L_c', 'val__L_c', 'leu__L_c', 'ile__L_c', 'thr__L_c','tyr__L_c','trp__L_c','cys__L_c','met__L_c', 'lys__L_c', 'arg__L_c', 'his__L_c', 'asp__L_c', 'glu__L_c', 'asn__L_c', 'gln__L_c', 'pro__L_c']\n",
    "cofactors = ['nad_c', 'nadh_c','nadph_c', 'nadp_c', 'fad_c', 'qh2_c']\n",
    "other = ['ptrc_c', 'chor_c', 'thmpp_c', 'ribflv_c', 'fe3_c', 'fe2_c', 'cl_c', 'coa_c', 'succoa_c', 'accoa_c', 'gthrd_c']"
   ]
  },
  {
   "cell_type": "code",
   "execution_count": 4,
   "metadata": {
    "scrolled": false
   },
   "outputs": [
    {
     "name": "stdout",
     "output_type": "stream",
     "text": [
      "1.840490745188007\n"
     ]
    }
   ],
   "source": [
    "other = ['ptrc_c', 'chor_c', 'thmpp_c', 'ribflv_c', 'fe3_c', 'fe2_c', 'cl_c', 'coa_c', 'succoa_c', 'accoa_c', 'gthrd_c']\n",
    "with model:\n",
    "#     model.add_boundary(model.metabolites.glc__D_c, type = 'sink', reaction_id = 'test')\n",
    "#     model.add_boundary(model.metabolites.r5p_c , type = 'sink', reaction_id = 'test2')\n",
    "#     model.add_boundary(model.metabolites.hco3_c, type = 'sink', reaction_id = 'test3')\n",
    "#     for met in model.reactions.biomass.metabolites:\n",
    "#         if met.id in purines:\n",
    "#             coeff = model.reactions.biomass.metabolites[met]\n",
    "#             model.reactions.biomass.add_metabolites({met:-coeff})\n",
    "#         if met.id in pyrimidines:\n",
    "#             coeff = model.reactions.biomass.metabolites[met]\n",
    "#             model.reactions.biomass.add_metabolites({met:-coeff})\n",
    "#         if met.id in aa:\n",
    "#             coeff = model.reactions.biomass.metabolites[met]\n",
    "#             model.reactions.biomass.add_metabolites({met:-coeff}) \n",
    "#         if met.id in other:\n",
    "#             coeff = model.reactions.biomass.metabolites[met]\n",
    "#             model.reactions.biomass.add_metabolites({met:-coeff})  \n",
    "#         if met.id in energy:\n",
    "#             coeff = model.reactions.biomass.metabolites[met]\n",
    "#             model.reactions.biomass.add_metabolites({met:-coeff})  \n",
    "#         if met.id in cofactors:\n",
    "#             coeff = model.reactions.biomass.metabolites[met]\n",
    "#             model.reactions.biomass.add_metabolites({met:-coeff}) \n",
    "#         else: \n",
    "#             continue\n",
    "    solution = model.optimize()\n",
    "    #print (model.metabolites.glu__D_c.summary())\n",
    "    #print ('test flux:', solution['test'])\n",
    "    #print ('test2 flux:', solution['test2'])\n",
    "    print (solution.objective_value)"
   ]
  },
  {
   "cell_type": "code",
   "execution_count": 5,
   "metadata": {
    "scrolled": true
   },
   "outputs": [
    {
     "data": {
      "application/vnd.jupyter.widget-view+json": {
       "model_id": "0af66c10cc7e4e2ab38ce6083619bd82",
       "version_major": 2,
       "version_minor": 0
      },
      "text/plain": [
       "Builder(reaction_data={'IDPh': 4.154552564511286, 'CAT': 0.0, 'PDHam1hi': 0.0, 'CCP': 0.0, 'HYDA': 0.0, 'MALHY…"
      ]
     },
     "metadata": {},
     "output_type": "display_data"
    }
   ],
   "source": [
    "Builder(model = model, map_json = '../map/p-thermo-map.json', reaction_data = solution.fluxes.to_dict())"
   ]
  },
  {
   "cell_type": "code",
   "execution_count": null,
   "metadata": {},
   "outputs": [],
   "source": []
  }
 ],
 "metadata": {
  "kernelspec": {
   "display_name": "Python 3",
   "language": "python",
   "name": "python3"
  },
  "language_info": {
   "codemirror_mode": {
    "name": "ipython",
    "version": 3
   },
   "file_extension": ".py",
   "mimetype": "text/x-python",
   "name": "python",
   "nbconvert_exporter": "python",
   "pygments_lexer": "ipython3",
   "version": "3.7.9"
  }
 },
 "nbformat": 4,
 "nbformat_minor": 2
}
