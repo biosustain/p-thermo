{
 "cells": [
  {
   "cell_type": "markdown",
   "id": "utility-traffic",
   "metadata": {},
   "source": [
    "# Introduction\n",
    "Here we investigate the theoretical maximum pathway yield of two different butanone production pathways."
   ]
  },
  {
   "cell_type": "code",
   "execution_count": 1,
   "id": "better-transport",
   "metadata": {},
   "outputs": [],
   "source": [
    "import cameo\n",
    "import pandas as pd\n",
    "import cobra.io\n",
    "import escher\n",
    "from escher import Builder\n",
    "from cobra import Metabolite, Reaction\n",
    "import numpy as np\n",
    "from matplotlib import pyplot as plt"
   ]
  },
  {
   "cell_type": "code",
   "execution_count": 2,
   "id": "attached-sword",
   "metadata": {},
   "outputs": [],
   "source": [
    "pth = cobra.io.read_sbml_model('../../model/p-thermo.xml')"
   ]
  },
  {
   "cell_type": "markdown",
   "id": "generic-madison",
   "metadata": {},
   "source": [
    "### Anaerobic production of compounds of interest\n",
    "We saw in the GSMM paper of Mol et al., (2021, https://doi.org/10.1016/j.ymben.2021.03.002) that there are some metabolites the model cannot synthesize anaerobically, though experimental data proves they can. As we do not have enough information to fix this through adding correct pathways in the model, instead we will add these components to the model medium. This also puts the requirement of needing exhcanges and transports for these compounds that I will code in.\n",
    "\n",
    "As we do not have information about the way these metabolites are transported across the membrane, i will add them as passive transport. "
   ]
  },
  {
   "cell_type": "code",
   "execution_count": 3,
   "id": "million-jordan",
   "metadata": {},
   "outputs": [
    {
     "data": {
      "text/plain": [
       "0.12613059342838315"
      ]
     },
     "execution_count": 3,
     "metadata": {},
     "output_type": "execute_result"
    }
   ],
   "source": [
    "#optimize for growth with a little bit of oxygen\n",
    "#to check objective later is the same\n",
    "pth.reactions.EX_o2_e.bounds = (-0.1,1000)\n",
    "pth.optimize().objective_value"
   ]
  },
  {
   "cell_type": "code",
   "execution_count": 4,
   "id": "incorporated-flush",
   "metadata": {},
   "outputs": [],
   "source": [
    "#list of metabolites that need to be taken up\n",
    "mets=['btn','thmpp','sprm','spmd','adocbl','10fthf','fe3','pheme']"
   ]
  },
  {
   "cell_type": "code",
   "execution_count": 5,
   "id": "recent-measure",
   "metadata": {},
   "outputs": [],
   "source": [
    "for met in mets:\n",
    "    #create extracellular metabolite\n",
    "    emet = Metabolite(id=f\"{met}_e\", \n",
    "                      name = f\"extracellular {met}\", \n",
    "                      formula = pth.metabolites.get_by_id( f\"{met}_c\").formula, #copy formula & charge from intracell met\n",
    "                      charge = pth.metabolites.get_by_id( f\"{met}_c\").charge, \n",
    "                      compartment ='e')\n",
    "    pth.add_metabolites(emet)\n",
    "    #create transport reaction\n",
    "    rct = Reaction(id=f\"{met.upper()}t\", name = f\"{met} transport\")\n",
    "    #add intra and extra cellular metabolites\n",
    "    rct.add_metabolites({\n",
    "        pth.metabolites.get_by_id( f\"{met}_c\"):-1,\n",
    "        pth.metabolites.get_by_id( f\"{met}_e\"):1\n",
    "    })\n",
    "    #define transport bounds as irreversible\n",
    "    rct.bounds = (-1000,1000)\n",
    "    #Add transport reaction to the model\n",
    "    pth.add_reaction(rct)\n",
    "    #create exchange for the extracellular metabolite\n",
    "    pth.add_boundary(pth.metabolites.get_by_id(f\"{met}_e\"),\n",
    "                     type='exchange',\n",
    "                     reaction_id = f\"EX_{met}_e\",\n",
    "                     lb = -1, ub= 1000) #set lb to -1 mmol/gcdw/h to have some excess but not endless amounts"
   ]
  },
  {
   "cell_type": "code",
   "execution_count": 6,
   "id": "excessive-mineral",
   "metadata": {},
   "outputs": [],
   "source": [
    "#check the model can grow anaerobically\n",
    "pth.reactions.EX_o2_e.bounds=(0,1000)"
   ]
  },
  {
   "cell_type": "code",
   "execution_count": 7,
   "id": "knowing-indonesia",
   "metadata": {},
   "outputs": [
    {
     "data": {
      "text/plain": [
       "0.12435312325992394"
      ]
     },
     "execution_count": 7,
     "metadata": {},
     "output_type": "execute_result"
    }
   ],
   "source": [
    "pth.optimize().objective_value"
   ]
  },
  {
   "cell_type": "markdown",
   "id": "chicken-numbers",
   "metadata": {},
   "source": [
    "So we have now inserted the acetone pathway, as well as KO'ed the LDH reaction. we slso supplied the different cofactors and allowed their uptake. I will then save this model so we can use it in furhter dFBA. "
   ]
  },
  {
   "cell_type": "code",
   "execution_count": 8,
   "id": "whole-column",
   "metadata": {},
   "outputs": [],
   "source": [
    "cobra.io.write_sbml_model(pth,\"p-thermo_anaerobic.xml\")"
   ]
  },
  {
   "cell_type": "markdown",
   "id": "stainless-confidentiality",
   "metadata": {},
   "source": [
    "## Butanone through 2,3-BDO\n",
    "Find max theoretical butanone production when going through 2,3-butanediol, as shown in DOI: 10.1002/cssc.201300853 and doi:10.1371/journal.pone.0102774"
   ]
  },
  {
   "cell_type": "code",
   "execution_count": 9,
   "id": "distinct-bishop",
   "metadata": {},
   "outputs": [],
   "source": [
    "model = cobra.io.read_sbml_model('p-thermo_anaerobic.xml')"
   ]
  },
  {
   "cell_type": "code",
   "execution_count": 10,
   "id": "emotional-retail",
   "metadata": {},
   "outputs": [],
   "source": [
    "#add the butanone metabolite, both intracellular & extracellular\n",
    "model.add_metabolites(Metabolite(id='buto_c',formula = 'C4H8O', name = 'Butanone', compartment = 'c' ))"
   ]
  },
  {
   "cell_type": "markdown",
   "id": "passive-reaction",
   "metadata": {},
   "source": [
    "The conversion to butanediol is already present in the GSMM. I'll only add the conversion to butanone & export and then find the max yield from pyruvate."
   ]
  },
  {
   "cell_type": "code",
   "execution_count": 11,
   "id": "advanced-corner",
   "metadata": {
    "scrolled": true
   },
   "outputs": [
    {
     "name": "stdout",
     "output_type": "stream",
     "text": [
      "{}\n",
      "(0.0, 1000.0)\n",
      "rr23bdo_c --> buto_c + h2o_c\n"
     ]
    }
   ],
   "source": [
    "#Add DH reaction\n",
    "DH_but = Reaction(\"DH\")\n",
    "DH_but.name = \"Diol dehydratase - butanone forming\"\n",
    "\n",
    "DH_but.add_metabolites({\n",
    "    model.metabolites.buto_c: 1.0,      #butanone\n",
    "    model.metabolites.rr23bdo_c: -1.0,   #butanediol\n",
    "    model.metabolites.h2o_c: 1.0,     #water\n",
    "    \n",
    "})\n",
    "print(DH_but.check_mass_balance())    #ensure correct mass balance\n",
    "print(DH_but.bounds)                  #Ensure correct bounds\n",
    "print(DH_but.reaction)                #Ensure correct reaction"
   ]
  },
  {
   "cell_type": "code",
   "execution_count": 12,
   "id": "strong-smooth",
   "metadata": {},
   "outputs": [],
   "source": [
    "#add all the reactions to the model\n",
    "model.add_reactions([DH_but])"
   ]
  },
  {
   "cell_type": "code",
   "execution_count": 13,
   "id": "steady-brook",
   "metadata": {},
   "outputs": [
    {
     "data": {
      "text/html": [
       "\n",
       "        <table>\n",
       "            <tr>\n",
       "                <td><strong>Reaction identifier</strong></td><td>SK_buto_c</td>\n",
       "            </tr><tr>\n",
       "                <td><strong>Name</strong></td><td>Butanone sink</td>\n",
       "            </tr><tr>\n",
       "                <td><strong>Memory address</strong></td>\n",
       "                <td>0x01bf8391ad90</td>\n",
       "            </tr><tr>\n",
       "                <td><strong>Stoichiometry</strong></td>\n",
       "                <td>\n",
       "                    <p style='text-align:right'>buto_c <=></p>\n",
       "                    <p style='text-align:right'>Butanone <=></p>\n",
       "                </td>\n",
       "            </tr><tr>\n",
       "                <td><strong>GPR</strong></td><td></td>\n",
       "            </tr><tr>\n",
       "                <td><strong>Lower bound</strong></td><td>-1000.0</td>\n",
       "            </tr><tr>\n",
       "                <td><strong>Upper bound</strong></td><td>1000.0</td>\n",
       "            </tr>\n",
       "        </table>\n",
       "        "
      ],
      "text/plain": [
       "<Reaction SK_buto_c at 0x1bf8391ad90>"
      ]
     },
     "execution_count": 13,
     "metadata": {},
     "output_type": "execute_result"
    }
   ],
   "source": [
    "#aad butanone sink\n",
    "model.add_boundary(model.metabolites.get_by_id(\"buto_c\"), type=\"sink\")"
   ]
  },
  {
   "cell_type": "code",
   "execution_count": 14,
   "id": "parental-ceramic",
   "metadata": {},
   "outputs": [
    {
     "data": {
      "text/html": [
       "\n",
       "        <table>\n",
       "            <tr>\n",
       "                <td><strong>Reaction identifier</strong></td><td>SK_pyr_c</td>\n",
       "            </tr><tr>\n",
       "                <td><strong>Name</strong></td><td>Pyruvate sink</td>\n",
       "            </tr><tr>\n",
       "                <td><strong>Memory address</strong></td>\n",
       "                <td>0x01bf83644c70</td>\n",
       "            </tr><tr>\n",
       "                <td><strong>Stoichiometry</strong></td>\n",
       "                <td>\n",
       "                    <p style='text-align:right'>pyr_c <=></p>\n",
       "                    <p style='text-align:right'>Pyruvate <=></p>\n",
       "                </td>\n",
       "            </tr><tr>\n",
       "                <td><strong>GPR</strong></td><td></td>\n",
       "            </tr><tr>\n",
       "                <td><strong>Lower bound</strong></td><td>-1000.0</td>\n",
       "            </tr><tr>\n",
       "                <td><strong>Upper bound</strong></td><td>1000.0</td>\n",
       "            </tr>\n",
       "        </table>\n",
       "        "
      ],
      "text/plain": [
       "<Reaction SK_pyr_c at 0x1bf83644c70>"
      ]
     },
     "execution_count": 14,
     "metadata": {},
     "output_type": "execute_result"
    }
   ],
   "source": [
    "#aad pyr feed\n",
    "model.add_boundary(model.metabolites.get_by_id(\"pyr_c\"), type=\"sink\")"
   ]
  },
  {
   "cell_type": "code",
   "execution_count": 15,
   "id": "intensive-affiliate",
   "metadata": {},
   "outputs": [],
   "source": [
    "#set pyr to 10 mmol/gcdw/h\n",
    "model.reactions.SK_pyr_c.bounds = (-10,1000)"
   ]
  },
  {
   "cell_type": "code",
   "execution_count": 16,
   "id": "fabulous-minister",
   "metadata": {},
   "outputs": [],
   "source": [
    "#aerobic conditions\n",
    "model.reactions.EX_o2_e.bounds =  (-1000,1000)"
   ]
  },
  {
   "cell_type": "code",
   "execution_count": 17,
   "id": "operational-significance",
   "metadata": {},
   "outputs": [],
   "source": [
    "#no glucose\n",
    "model.reactions.EX_glc__D_e.bounds = (0,0)"
   ]
  },
  {
   "cell_type": "code",
   "execution_count": 18,
   "id": "hydraulic-facial",
   "metadata": {},
   "outputs": [],
   "source": [
    "#optimize butanediol production, assuming no biomass production\n",
    "model.objective = model.reactions.SK_buto_c"
   ]
  },
  {
   "cell_type": "code",
   "execution_count": 19,
   "id": "reduced-ordinary",
   "metadata": {},
   "outputs": [],
   "source": [
    "#turn off hydrogen uptake\n",
    "model.reactions.EX_h_e.bounds = (0,1000)"
   ]
  },
  {
   "cell_type": "code",
   "execution_count": 20,
   "id": "sound-cleveland",
   "metadata": {},
   "outputs": [
    {
     "name": "stdout",
     "output_type": "stream",
     "text": [
      "0.3466452961672476\n"
     ]
    }
   ],
   "source": [
    "#max yield\n",
    "print(model.optimize().objective_value/10)"
   ]
  },
  {
   "cell_type": "code",
   "execution_count": 21,
   "id": "written-andrew",
   "metadata": {},
   "outputs": [
    {
     "data": {
      "text/html": [
       "<h3>Objective</h3><p>1.0 SK_buto_c = 3.4664529616724757</p><h4>Uptake</h4><table border=\"1\" class=\"dataframe\">\n",
       "  <thead>\n",
       "    <tr style=\"text-align: right;\">\n",
       "      <th>Metabolite</th>\n",
       "      <th>Reaction</th>\n",
       "      <th>Flux</th>\n",
       "      <th>C-Number</th>\n",
       "      <th>C-Flux</th>\n",
       "    </tr>\n",
       "  </thead>\n",
       "  <tbody>\n",
       "    <tr>\n",
       "      <td>h2o_e</td>\n",
       "      <td>EX_h2o_e</td>\n",
       "      <td>3.866</td>\n",
       "      <td>0</td>\n",
       "      <td>0.00%</td>\n",
       "    </tr>\n",
       "    <tr>\n",
       "      <td>o2_e</td>\n",
       "      <td>EX_o2_e</td>\n",
       "      <td>0.9345</td>\n",
       "      <td>0</td>\n",
       "      <td>0.00%</td>\n",
       "    </tr>\n",
       "    <tr>\n",
       "      <td>pyr_c</td>\n",
       "      <td>SK_pyr_c</td>\n",
       "      <td>10</td>\n",
       "      <td>3</td>\n",
       "      <td>100.00%</td>\n",
       "    </tr>\n",
       "  </tbody>\n",
       "</table><h4>Secretion</h4><table border=\"1\" class=\"dataframe\">\n",
       "  <thead>\n",
       "    <tr style=\"text-align: right;\">\n",
       "      <th>Metabolite</th>\n",
       "      <th>Reaction</th>\n",
       "      <th>Flux</th>\n",
       "      <th>C-Number</th>\n",
       "      <th>C-Flux</th>\n",
       "    </tr>\n",
       "  </thead>\n",
       "  <tbody>\n",
       "    <tr>\n",
       "      <td>co2_e</td>\n",
       "      <td>EX_co2_e</td>\n",
       "      <td>-6.134</td>\n",
       "      <td>1</td>\n",
       "      <td>20.45%</td>\n",
       "    </tr>\n",
       "    <tr>\n",
       "      <td>for_e</td>\n",
       "      <td>EX_for_e</td>\n",
       "      <td>-10</td>\n",
       "      <td>1</td>\n",
       "      <td>33.33%</td>\n",
       "    </tr>\n",
       "    <tr>\n",
       "      <td>buto_c</td>\n",
       "      <td>SK_buto_c</td>\n",
       "      <td>-3.466</td>\n",
       "      <td>4</td>\n",
       "      <td>46.22%</td>\n",
       "    </tr>\n",
       "  </tbody>\n",
       "</table>"
      ],
      "text/plain": [
       "<cobra.summary.model_summary.ModelSummary at 0x1bf837e5520>"
      ]
     },
     "execution_count": 21,
     "metadata": {},
     "output_type": "execute_result"
    }
   ],
   "source": [
    "model.summary()"
   ]
  },
  {
   "cell_type": "code",
   "execution_count": 22,
   "id": "developmental-formation",
   "metadata": {},
   "outputs": [],
   "source": [
    "#try anaerobically\n",
    "model.reactions.EX_o2_e.bounds =  (0,1000)"
   ]
  },
  {
   "cell_type": "code",
   "execution_count": 23,
   "id": "trained-recording",
   "metadata": {},
   "outputs": [
    {
     "data": {
      "text/html": [
       "<h3>Objective</h3><p>1.0 SK_buto_c = 2.6343561643835636</p><h4>Uptake</h4><table border=\"1\" class=\"dataframe\">\n",
       "  <thead>\n",
       "    <tr style=\"text-align: right;\">\n",
       "      <th>Metabolite</th>\n",
       "      <th>Reaction</th>\n",
       "      <th>Flux</th>\n",
       "      <th>C-Number</th>\n",
       "      <th>C-Flux</th>\n",
       "    </tr>\n",
       "  </thead>\n",
       "  <tbody>\n",
       "    <tr>\n",
       "      <td>h2o_e</td>\n",
       "      <td>EX_h2o_e</td>\n",
       "      <td>4.211</td>\n",
       "      <td>0</td>\n",
       "      <td>0.00%</td>\n",
       "    </tr>\n",
       "    <tr>\n",
       "      <td>pyr_c</td>\n",
       "      <td>SK_pyr_c</td>\n",
       "      <td>10</td>\n",
       "      <td>3</td>\n",
       "      <td>100.00%</td>\n",
       "    </tr>\n",
       "  </tbody>\n",
       "</table><h4>Secretion</h4><table border=\"1\" class=\"dataframe\">\n",
       "  <thead>\n",
       "    <tr style=\"text-align: right;\">\n",
       "      <th>Metabolite</th>\n",
       "      <th>Reaction</th>\n",
       "      <th>Flux</th>\n",
       "      <th>C-Number</th>\n",
       "      <th>C-Flux</th>\n",
       "    </tr>\n",
       "  </thead>\n",
       "  <tbody>\n",
       "    <tr>\n",
       "      <td>ac_e</td>\n",
       "      <td>EX_ac_e</td>\n",
       "      <td>-3.674</td>\n",
       "      <td>2</td>\n",
       "      <td>24.49%</td>\n",
       "    </tr>\n",
       "    <tr>\n",
       "      <td>co2_e</td>\n",
       "      <td>EX_co2_e</td>\n",
       "      <td>-5.789</td>\n",
       "      <td>1</td>\n",
       "      <td>19.30%</td>\n",
       "    </tr>\n",
       "    <tr>\n",
       "      <td>for_e</td>\n",
       "      <td>EX_for_e</td>\n",
       "      <td>-6.326</td>\n",
       "      <td>1</td>\n",
       "      <td>21.09%</td>\n",
       "    </tr>\n",
       "    <tr>\n",
       "      <td>buto_c</td>\n",
       "      <td>SK_buto_c</td>\n",
       "      <td>-2.634</td>\n",
       "      <td>4</td>\n",
       "      <td>35.12%</td>\n",
       "    </tr>\n",
       "  </tbody>\n",
       "</table>"
      ],
      "text/plain": [
       "<cobra.summary.model_summary.ModelSummary at 0x1bf83a017f0>"
      ]
     },
     "execution_count": 23,
     "metadata": {},
     "output_type": "execute_result"
    }
   ],
   "source": [
    "model.summary()"
   ]
  },
  {
   "cell_type": "code",
   "execution_count": 24,
   "id": "mysterious-suite",
   "metadata": {},
   "outputs": [
    {
     "name": "stdout",
     "output_type": "stream",
     "text": [
      "0.26343561643835633\n"
     ]
    }
   ],
   "source": [
    "#max yield\n",
    "print(model.optimize().objective_value/10)"
   ]
  },
  {
   "cell_type": "markdown",
   "id": "invisible-celebrity",
   "metadata": {},
   "source": [
    "### ketovaleryl coA pathway\n",
    "The second pathway we investigate if from http://dx.doi.org/10.1128/AEM.03964-15, using propionyl-coA (ppcoa_c) as starting metabolite, which can be produced from pyruvate in the model already. "
   ]
  },
  {
   "cell_type": "code",
   "execution_count": 25,
   "id": "offensive-princeton",
   "metadata": {},
   "outputs": [],
   "source": [
    "model = cobra.io.read_sbml_model('p-thermo_anaerobic.xml')"
   ]
  },
  {
   "cell_type": "code",
   "execution_count": 26,
   "id": "satisfactory-nebraska",
   "metadata": {},
   "outputs": [],
   "source": [
    "#add the butanone metabolite, both intracellular & extracellular\n",
    "model.add_metabolites(Metabolite(id='buto_c',formula = 'C4H8O', name = 'Butanone', compartment = 'c' ))"
   ]
  },
  {
   "cell_type": "code",
   "execution_count": 27,
   "id": "infectious-bread",
   "metadata": {},
   "outputs": [],
   "source": [
    "#add 3-ketovaleryl-CoA\n",
    "model.add_metabolites(Metabolite(id='kvcoa_c',formula = 'C26H38N7O18P3S', charge = -4, name = '3-ketovaleryl-CoA', compartment = 'c' ))"
   ]
  },
  {
   "cell_type": "code",
   "execution_count": 28,
   "id": "resident-pursuit",
   "metadata": {},
   "outputs": [],
   "source": [
    "#add 3-oxopentanoate\n",
    "model.add_metabolites(Metabolite(id='oxop_c',formula = 'C5HO3',charge = -1, name = '3-oxopentanoate', compartment = 'c' ))"
   ]
  },
  {
   "cell_type": "code",
   "execution_count": 29,
   "id": "severe-frame",
   "metadata": {
    "scrolled": true
   },
   "outputs": [
    {
     "name": "stdout",
     "output_type": "stream",
     "text": [
      "{'charge': -4.0, 'H': -4.0}\n",
      "(0.0, 1000.0)\n",
      "accoa_c + 3 h_c + ppcoa_c --> coa_c + kvcoa_c\n"
     ]
    }
   ],
   "source": [
    "#Add reaction to 3-ketovaleryl\n",
    "PHA_B = Reaction(\"PHA_B\")\n",
    "PHA_B.name = \"3-ketovaleryl forming\"\n",
    "\n",
    "PHA_B.add_metabolites({\n",
    "    model.metabolites.ppcoa_c: -1.0,      #propionyl coa\n",
    "    model.metabolites.accoa_c: -1.0,   #acetyl coa\n",
    "    model.metabolites.coa_c: 1.0,     #coa\n",
    "    model.metabolites.kvcoa_c: 1.0,     #3-ketovalerylcoa\n",
    "    model.metabolites.h_c: -3\n",
    "    \n",
    "})\n",
    "print(PHA_B.check_mass_balance())    #ensure correct mass balance\n",
    "print(PHA_B.bounds)                  #Ensure correct bounds\n",
    "print(PHA_B.reaction)                #Ensure correct reaction"
   ]
  },
  {
   "cell_type": "code",
   "execution_count": 30,
   "id": "passing-component",
   "metadata": {},
   "outputs": [
    {
     "name": "stdout",
     "output_type": "stream",
     "text": [
      "{'H': -6.0}\n",
      "(0.0, 1000.0)\n",
      "ac_c + kvcoa_c --> accoa_c + oxop_c\n"
     ]
    }
   ],
   "source": [
    "#Add reaction to 3-oxopentanoate_with acetate\n",
    "ctfAB_ac = Reaction(\"ctfAB_ac\")\n",
    "ctfAB_ac.name = \"3-oxopentanoate forming\"\n",
    "\n",
    "ctfAB_ac.add_metabolites({\n",
    "    model.metabolites.kvcoa_c: -1.0,      #3-ketovalerylcoa\n",
    "    model.metabolites.oxop_c: 1.0,   #3-oxopentanoate\n",
    "    model.metabolites.ac_c: -1.0,     #acetate\n",
    "    model.metabolites.accoa_c: 1.0,     #acetylcoa\n",
    "    \n",
    "})\n",
    "print(ctfAB_ac.check_mass_balance())    #ensure correct mass balance\n",
    "print(ctfAB_ac.bounds)                  #Ensure correct bounds\n",
    "print(ctfAB_ac.reaction)                #Ensure correct reaction"
   ]
  },
  {
   "cell_type": "code",
   "execution_count": 31,
   "id": "injured-marking",
   "metadata": {},
   "outputs": [
    {
     "name": "stdout",
     "output_type": "stream",
     "text": [
      "{'H': -6.0}\n",
      "(0.0, 1000.0)\n",
      "h_c + kvcoa_c + prpnte_c --> oxop_c + ppcoa_c\n"
     ]
    }
   ],
   "source": [
    "#Add reaction to 3-oxopentanoate_with propionate\n",
    "ctfAB_pr = Reaction(\"ctfAB_pr\")\n",
    "ctfAB_pr.name = \"3-oxopentanoate forming\"\n",
    "\n",
    "ctfAB_pr.add_metabolites({\n",
    "    model.metabolites.kvcoa_c: -1.0,      #3-ketovalerylcoa\n",
    "    model.metabolites.oxop_c: 1.0,   #3-oxopentanoate\n",
    "    model.metabolites.prpnte_c: -1.0,     #propionate\n",
    "    model.metabolites.ppcoa_c: 1.0,     #propionylcoa,\n",
    "    model.metabolites.h_c: -1\n",
    "    \n",
    "})\n",
    "print(ctfAB_pr.check_mass_balance())    #ensure correct mass balance\n",
    "print(ctfAB_pr.bounds)                  #Ensure correct bounds\n",
    "print(ctfAB_pr.reaction)                #Ensure correct reaction"
   ]
  },
  {
   "cell_type": "code",
   "execution_count": 32,
   "id": "finished-category",
   "metadata": {},
   "outputs": [
    {
     "name": "stdout",
     "output_type": "stream",
     "text": [
      "{'H': 6.0}\n",
      "(0.0, 1000.0)\n",
      "h_c + oxop_c --> buto_c + co2_c\n"
     ]
    }
   ],
   "source": [
    "#Add reaction to butanone\n",
    "ABC_but = Reaction(\"ABC_but\")\n",
    "ABC_but.name = \"butanone forming\"\n",
    "\n",
    "ABC_but.add_metabolites({\n",
    "    model.metabolites.oxop_c: -1.0,      #3-oxopentanoate\n",
    "    model.metabolites.buto_c: 1.0,   #butanone\n",
    "    model.metabolites.co2_c: 1.0, #CO2\n",
    "    model.metabolites.h_c: -1\n",
    "    \n",
    "})\n",
    "print(ABC_but.check_mass_balance())    #ensure correct mass balance\n",
    "print(ABC_but.bounds)                  #Ensure correct bounds\n",
    "print(ABC_but.reaction)                #Ensure correct reaction"
   ]
  },
  {
   "cell_type": "markdown",
   "id": "loaded-dollar",
   "metadata": {},
   "source": [
    "Note there is a charge discrepancy here, however, we can observe that the two reactions taken together have a net charge balance and so this won't skew the predictions too much for this purpose."
   ]
  },
  {
   "cell_type": "code",
   "execution_count": 33,
   "id": "major-recording",
   "metadata": {},
   "outputs": [],
   "source": [
    "#add all the reactions to the model\n",
    "model.add_reactions([PHA_B, ctfAB_ac,ctfAB_pr,ABC_but])"
   ]
  },
  {
   "cell_type": "code",
   "execution_count": 34,
   "id": "instructional-kansas",
   "metadata": {},
   "outputs": [
    {
     "data": {
      "text/html": [
       "\n",
       "        <table>\n",
       "            <tr>\n",
       "                <td><strong>Reaction identifier</strong></td><td>SK_buto_c</td>\n",
       "            </tr><tr>\n",
       "                <td><strong>Name</strong></td><td>Butanone sink</td>\n",
       "            </tr><tr>\n",
       "                <td><strong>Memory address</strong></td>\n",
       "                <td>0x01bf84301ca0</td>\n",
       "            </tr><tr>\n",
       "                <td><strong>Stoichiometry</strong></td>\n",
       "                <td>\n",
       "                    <p style='text-align:right'>buto_c <=></p>\n",
       "                    <p style='text-align:right'>Butanone <=></p>\n",
       "                </td>\n",
       "            </tr><tr>\n",
       "                <td><strong>GPR</strong></td><td></td>\n",
       "            </tr><tr>\n",
       "                <td><strong>Lower bound</strong></td><td>-1000.0</td>\n",
       "            </tr><tr>\n",
       "                <td><strong>Upper bound</strong></td><td>1000.0</td>\n",
       "            </tr>\n",
       "        </table>\n",
       "        "
      ],
      "text/plain": [
       "<Reaction SK_buto_c at 0x1bf84301ca0>"
      ]
     },
     "execution_count": 34,
     "metadata": {},
     "output_type": "execute_result"
    }
   ],
   "source": [
    "#aad butanone sink\n",
    "model.add_boundary(model.metabolites.get_by_id(\"buto_c\"), type=\"sink\")"
   ]
  },
  {
   "cell_type": "code",
   "execution_count": 35,
   "id": "ongoing-region",
   "metadata": {},
   "outputs": [
    {
     "data": {
      "text/html": [
       "\n",
       "        <table>\n",
       "            <tr>\n",
       "                <td><strong>Reaction identifier</strong></td><td>SK_pyr_c</td>\n",
       "            </tr><tr>\n",
       "                <td><strong>Name</strong></td><td>Pyruvate sink</td>\n",
       "            </tr><tr>\n",
       "                <td><strong>Memory address</strong></td>\n",
       "                <td>0x01bf84301820</td>\n",
       "            </tr><tr>\n",
       "                <td><strong>Stoichiometry</strong></td>\n",
       "                <td>\n",
       "                    <p style='text-align:right'>pyr_c <=></p>\n",
       "                    <p style='text-align:right'>Pyruvate <=></p>\n",
       "                </td>\n",
       "            </tr><tr>\n",
       "                <td><strong>GPR</strong></td><td></td>\n",
       "            </tr><tr>\n",
       "                <td><strong>Lower bound</strong></td><td>-1000.0</td>\n",
       "            </tr><tr>\n",
       "                <td><strong>Upper bound</strong></td><td>1000.0</td>\n",
       "            </tr>\n",
       "        </table>\n",
       "        "
      ],
      "text/plain": [
       "<Reaction SK_pyr_c at 0x1bf84301820>"
      ]
     },
     "execution_count": 35,
     "metadata": {},
     "output_type": "execute_result"
    }
   ],
   "source": [
    "#aad pyr feed\n",
    "model.add_boundary(model.metabolites.get_by_id(\"pyr_c\"), type=\"sink\")"
   ]
  },
  {
   "cell_type": "code",
   "execution_count": 36,
   "id": "compatible-flower",
   "metadata": {},
   "outputs": [],
   "source": [
    "#set pyr to 10 mmol/gcdw/h\n",
    "model.reactions.SK_pyr_c.bounds = (-10,1000)"
   ]
  },
  {
   "cell_type": "code",
   "execution_count": 37,
   "id": "international-frame",
   "metadata": {},
   "outputs": [],
   "source": [
    "#aerobic conditions\n",
    "model.reactions.EX_o2_e.bounds =  (-1000,1000)"
   ]
  },
  {
   "cell_type": "code",
   "execution_count": 38,
   "id": "animated-zimbabwe",
   "metadata": {},
   "outputs": [],
   "source": [
    "#no glucose\n",
    "model.reactions.EX_glc__D_e.bounds = (0,0)"
   ]
  },
  {
   "cell_type": "code",
   "execution_count": 39,
   "id": "fresh-sound",
   "metadata": {},
   "outputs": [],
   "source": [
    "#optimize butanediol production, assuming no biomass production\n",
    "model.objective = model.reactions.SK_buto_c"
   ]
  },
  {
   "cell_type": "code",
   "execution_count": 40,
   "id": "bulgarian-burning",
   "metadata": {},
   "outputs": [],
   "source": [
    "#turn of hydrogen uptake\n",
    "model.reactions.EX_h_e.bounds = (0,1000)"
   ]
  },
  {
   "cell_type": "code",
   "execution_count": 41,
   "id": "included-honduras",
   "metadata": {},
   "outputs": [
    {
     "name": "stdout",
     "output_type": "stream",
     "text": [
      "0.16666666666666669\n"
     ]
    }
   ],
   "source": [
    "#max yield\n",
    "print(model.optimize().objective_value/10)"
   ]
  },
  {
   "cell_type": "code",
   "execution_count": 42,
   "id": "vertical-inclusion",
   "metadata": {},
   "outputs": [],
   "source": [
    "#try anaerobically\n",
    "model.reactions.EX_o2_e.bounds =  (0,1000)"
   ]
  },
  {
   "cell_type": "code",
   "execution_count": 43,
   "id": "severe-struggle",
   "metadata": {},
   "outputs": [
    {
     "data": {
      "text/html": [
       "<h3>Objective</h3><p>1.0 SK_buto_c = 1.5302895086321378</p><h4>Uptake</h4><table border=\"1\" class=\"dataframe\">\n",
       "  <thead>\n",
       "    <tr style=\"text-align: right;\">\n",
       "      <th>Metabolite</th>\n",
       "      <th>Reaction</th>\n",
       "      <th>Flux</th>\n",
       "      <th>C-Number</th>\n",
       "      <th>C-Flux</th>\n",
       "    </tr>\n",
       "  </thead>\n",
       "  <tbody>\n",
       "    <tr>\n",
       "      <td>h2o_e</td>\n",
       "      <td>EX_h2o_e</td>\n",
       "      <td>7.924</td>\n",
       "      <td>0</td>\n",
       "      <td>0.00%</td>\n",
       "    </tr>\n",
       "    <tr>\n",
       "      <td>pyr_c</td>\n",
       "      <td>SK_pyr_c</td>\n",
       "      <td>10</td>\n",
       "      <td>3</td>\n",
       "      <td>100.00%</td>\n",
       "    </tr>\n",
       "  </tbody>\n",
       "</table><h4>Secretion</h4><table border=\"1\" class=\"dataframe\">\n",
       "  <thead>\n",
       "    <tr style=\"text-align: right;\">\n",
       "      <th>Metabolite</th>\n",
       "      <th>Reaction</th>\n",
       "      <th>Flux</th>\n",
       "      <th>C-Number</th>\n",
       "      <th>C-Flux</th>\n",
       "    </tr>\n",
       "  </thead>\n",
       "  <tbody>\n",
       "    <tr>\n",
       "      <td>ac_e</td>\n",
       "      <td>EX_ac_e</td>\n",
       "      <td>-5.682</td>\n",
       "      <td>2</td>\n",
       "      <td>37.88%</td>\n",
       "    </tr>\n",
       "    <tr>\n",
       "      <td>co2_e</td>\n",
       "      <td>EX_co2_e</td>\n",
       "      <td>-2.076</td>\n",
       "      <td>1</td>\n",
       "      <td>6.92%</td>\n",
       "    </tr>\n",
       "    <tr>\n",
       "      <td>for_e</td>\n",
       "      <td>EX_for_e</td>\n",
       "      <td>-10.44</td>\n",
       "      <td>1</td>\n",
       "      <td>34.80%</td>\n",
       "    </tr>\n",
       "    <tr>\n",
       "      <td>buto_c</td>\n",
       "      <td>SK_buto_c</td>\n",
       "      <td>-1.53</td>\n",
       "      <td>4</td>\n",
       "      <td>20.40%</td>\n",
       "    </tr>\n",
       "  </tbody>\n",
       "</table>"
      ],
      "text/plain": [
       "<cobra.summary.model_summary.ModelSummary at 0x1bf83fff130>"
      ]
     },
     "execution_count": 43,
     "metadata": {},
     "output_type": "execute_result"
    }
   ],
   "source": [
    "model.summary()"
   ]
  },
  {
   "cell_type": "code",
   "execution_count": 44,
   "id": "american-preview",
   "metadata": {
    "scrolled": true
   },
   "outputs": [
    {
     "name": "stdout",
     "output_type": "stream",
     "text": [
      "0.15302895086321391\n"
     ]
    }
   ],
   "source": [
    "#max yield\n",
    "print(model.optimize().objective_value/10)"
   ]
  },
  {
   "cell_type": "code",
   "execution_count": null,
   "id": "sublime-cooling",
   "metadata": {},
   "outputs": [],
   "source": []
  }
 ],
 "metadata": {
  "kernelspec": {
   "display_name": "Python 3",
   "language": "python",
   "name": "python3"
  },
  "language_info": {
   "codemirror_mode": {
    "name": "ipython",
    "version": 3
   },
   "file_extension": ".py",
   "mimetype": "text/x-python",
   "name": "python",
   "nbconvert_exporter": "python",
   "pygments_lexer": "ipython3",
   "version": "3.8.5"
  }
 },
 "nbformat": 4,
 "nbformat_minor": 5
}
