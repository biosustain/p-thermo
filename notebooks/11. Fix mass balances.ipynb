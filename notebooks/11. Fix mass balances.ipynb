{
 "cells": [
  {
   "cell_type": "markdown",
   "metadata": {},
   "source": [
    "# Introduction\n",
    "Memote reports quite an extensive list of unbalances reactions. Martyn and I have split the list and will look into them by hand to resolve these issues as much as possible.\n",
    "\n",
    "Here I have 'attached' the file of the total list, and included the split for me and martyn. "
   ]
  },
  {
   "cell_type": "code",
   "execution_count": 1,
   "metadata": {},
   "outputs": [
    {
     "data": {
      "application/javascript": [
       "\n",
       "(function(root) {\n",
       "  function now() {\n",
       "    return new Date();\n",
       "  }\n",
       "\n",
       "  var force = true;\n",
       "\n",
       "  if (typeof root._bokeh_onload_callbacks === \"undefined\" || force === true) {\n",
       "    root._bokeh_onload_callbacks = [];\n",
       "    root._bokeh_is_loading = undefined;\n",
       "  }\n",
       "\n",
       "  var JS_MIME_TYPE = 'application/javascript';\n",
       "  var HTML_MIME_TYPE = 'text/html';\n",
       "  var EXEC_MIME_TYPE = 'application/vnd.bokehjs_exec.v0+json';\n",
       "  var CLASS_NAME = 'output_bokeh rendered_html';\n",
       "\n",
       "  /**\n",
       "   * Render data to the DOM node\n",
       "   */\n",
       "  function render(props, node) {\n",
       "    var script = document.createElement(\"script\");\n",
       "    node.appendChild(script);\n",
       "  }\n",
       "\n",
       "  /**\n",
       "   * Handle when an output is cleared or removed\n",
       "   */\n",
       "  function handleClearOutput(event, handle) {\n",
       "    var cell = handle.cell;\n",
       "\n",
       "    var id = cell.output_area._bokeh_element_id;\n",
       "    var server_id = cell.output_area._bokeh_server_id;\n",
       "    // Clean up Bokeh references\n",
       "    if (id != null && id in Bokeh.index) {\n",
       "      Bokeh.index[id].model.document.clear();\n",
       "      delete Bokeh.index[id];\n",
       "    }\n",
       "\n",
       "    if (server_id !== undefined) {\n",
       "      // Clean up Bokeh references\n",
       "      var cmd = \"from bokeh.io.state import curstate; print(curstate().uuid_to_server['\" + server_id + \"'].get_sessions()[0].document.roots[0]._id)\";\n",
       "      cell.notebook.kernel.execute(cmd, {\n",
       "        iopub: {\n",
       "          output: function(msg) {\n",
       "            var id = msg.content.text.trim();\n",
       "            if (id in Bokeh.index) {\n",
       "              Bokeh.index[id].model.document.clear();\n",
       "              delete Bokeh.index[id];\n",
       "            }\n",
       "          }\n",
       "        }\n",
       "      });\n",
       "      // Destroy server and session\n",
       "      var cmd = \"import bokeh.io.notebook as ion; ion.destroy_server('\" + server_id + \"')\";\n",
       "      cell.notebook.kernel.execute(cmd);\n",
       "    }\n",
       "  }\n",
       "\n",
       "  /**\n",
       "   * Handle when a new output is added\n",
       "   */\n",
       "  function handleAddOutput(event, handle) {\n",
       "    var output_area = handle.output_area;\n",
       "    var output = handle.output;\n",
       "\n",
       "    // limit handleAddOutput to display_data with EXEC_MIME_TYPE content only\n",
       "    if ((output.output_type != \"display_data\") || (!output.data.hasOwnProperty(EXEC_MIME_TYPE))) {\n",
       "      return\n",
       "    }\n",
       "\n",
       "    var toinsert = output_area.element.find(\".\" + CLASS_NAME.split(' ')[0]);\n",
       "\n",
       "    if (output.metadata[EXEC_MIME_TYPE][\"id\"] !== undefined) {\n",
       "      toinsert[toinsert.length - 1].firstChild.textContent = output.data[JS_MIME_TYPE];\n",
       "      // store reference to embed id on output_area\n",
       "      output_area._bokeh_element_id = output.metadata[EXEC_MIME_TYPE][\"id\"];\n",
       "    }\n",
       "    if (output.metadata[EXEC_MIME_TYPE][\"server_id\"] !== undefined) {\n",
       "      var bk_div = document.createElement(\"div\");\n",
       "      bk_div.innerHTML = output.data[HTML_MIME_TYPE];\n",
       "      var script_attrs = bk_div.children[0].attributes;\n",
       "      for (var i = 0; i < script_attrs.length; i++) {\n",
       "        toinsert[toinsert.length - 1].firstChild.setAttribute(script_attrs[i].name, script_attrs[i].value);\n",
       "      }\n",
       "      // store reference to server id on output_area\n",
       "      output_area._bokeh_server_id = output.metadata[EXEC_MIME_TYPE][\"server_id\"];\n",
       "    }\n",
       "  }\n",
       "\n",
       "  function register_renderer(events, OutputArea) {\n",
       "\n",
       "    function append_mime(data, metadata, element) {\n",
       "      // create a DOM node to render to\n",
       "      var toinsert = this.create_output_subarea(\n",
       "        metadata,\n",
       "        CLASS_NAME,\n",
       "        EXEC_MIME_TYPE\n",
       "      );\n",
       "      this.keyboard_manager.register_events(toinsert);\n",
       "      // Render to node\n",
       "      var props = {data: data, metadata: metadata[EXEC_MIME_TYPE]};\n",
       "      render(props, toinsert[toinsert.length - 1]);\n",
       "      element.append(toinsert);\n",
       "      return toinsert\n",
       "    }\n",
       "\n",
       "    /* Handle when an output is cleared or removed */\n",
       "    events.on('clear_output.CodeCell', handleClearOutput);\n",
       "    events.on('delete.Cell', handleClearOutput);\n",
       "\n",
       "    /* Handle when a new output is added */\n",
       "    events.on('output_added.OutputArea', handleAddOutput);\n",
       "\n",
       "    /**\n",
       "     * Register the mime type and append_mime function with output_area\n",
       "     */\n",
       "    OutputArea.prototype.register_mime_type(EXEC_MIME_TYPE, append_mime, {\n",
       "      /* Is output safe? */\n",
       "      safe: true,\n",
       "      /* Index of renderer in `output_area.display_order` */\n",
       "      index: 0\n",
       "    });\n",
       "  }\n",
       "\n",
       "  // register the mime type if in Jupyter Notebook environment and previously unregistered\n",
       "  if (root.Jupyter !== undefined) {\n",
       "    var events = require('base/js/events');\n",
       "    var OutputArea = require('notebook/js/outputarea').OutputArea;\n",
       "\n",
       "    if (OutputArea.prototype.mime_types().indexOf(EXEC_MIME_TYPE) == -1) {\n",
       "      register_renderer(events, OutputArea);\n",
       "    }\n",
       "  }\n",
       "\n",
       "  \n",
       "  if (typeof (root._bokeh_timeout) === \"undefined\" || force === true) {\n",
       "    root._bokeh_timeout = Date.now() + 5000;\n",
       "    root._bokeh_failed_load = false;\n",
       "  }\n",
       "\n",
       "  var NB_LOAD_WARNING = {'data': {'text/html':\n",
       "     \"<div style='background-color: #fdd'>\\n\"+\n",
       "     \"<p>\\n\"+\n",
       "     \"BokehJS does not appear to have successfully loaded. If loading BokehJS from CDN, this \\n\"+\n",
       "     \"may be due to a slow or bad network connection. Possible fixes:\\n\"+\n",
       "     \"</p>\\n\"+\n",
       "     \"<ul>\\n\"+\n",
       "     \"<li>re-rerun `output_notebook()` to attempt to load from CDN again, or</li>\\n\"+\n",
       "     \"<li>use INLINE resources instead, as so:</li>\\n\"+\n",
       "     \"</ul>\\n\"+\n",
       "     \"<code>\\n\"+\n",
       "     \"from bokeh.resources import INLINE\\n\"+\n",
       "     \"output_notebook(resources=INLINE)\\n\"+\n",
       "     \"</code>\\n\"+\n",
       "     \"</div>\"}};\n",
       "\n",
       "  function display_loaded() {\n",
       "    var el = document.getElementById(null);\n",
       "    if (el != null) {\n",
       "      el.textContent = \"BokehJS is loading...\";\n",
       "    }\n",
       "    if (root.Bokeh !== undefined) {\n",
       "      if (el != null) {\n",
       "        el.textContent = \"BokehJS \" + root.Bokeh.version + \" successfully loaded.\";\n",
       "      }\n",
       "    } else if (Date.now() < root._bokeh_timeout) {\n",
       "      setTimeout(display_loaded, 100)\n",
       "    }\n",
       "  }\n",
       "\n",
       "\n",
       "  function run_callbacks() {\n",
       "    try {\n",
       "      root._bokeh_onload_callbacks.forEach(function(callback) {\n",
       "        if (callback != null)\n",
       "          callback();\n",
       "      });\n",
       "    } finally {\n",
       "      delete root._bokeh_onload_callbacks\n",
       "    }\n",
       "    console.debug(\"Bokeh: all callbacks have finished\");\n",
       "  }\n",
       "\n",
       "  function load_libs(css_urls, js_urls, callback) {\n",
       "    if (css_urls == null) css_urls = [];\n",
       "    if (js_urls == null) js_urls = [];\n",
       "\n",
       "    root._bokeh_onload_callbacks.push(callback);\n",
       "    if (root._bokeh_is_loading > 0) {\n",
       "      console.debug(\"Bokeh: BokehJS is being loaded, scheduling callback at\", now());\n",
       "      return null;\n",
       "    }\n",
       "    if (js_urls == null || js_urls.length === 0) {\n",
       "      run_callbacks();\n",
       "      return null;\n",
       "    }\n",
       "    console.debug(\"Bokeh: BokehJS not loaded, scheduling load and callback at\", now());\n",
       "    root._bokeh_is_loading = css_urls.length + js_urls.length;\n",
       "\n",
       "    function on_load() {\n",
       "      root._bokeh_is_loading--;\n",
       "      if (root._bokeh_is_loading === 0) {\n",
       "        console.debug(\"Bokeh: all BokehJS libraries/stylesheets loaded\");\n",
       "        run_callbacks()\n",
       "      }\n",
       "    }\n",
       "\n",
       "    function on_error() {\n",
       "      console.error(\"failed to load \" + url);\n",
       "    }\n",
       "\n",
       "    for (var i = 0; i < css_urls.length; i++) {\n",
       "      var url = css_urls[i];\n",
       "      const element = document.createElement(\"link\");\n",
       "      element.onload = on_load;\n",
       "      element.onerror = on_error;\n",
       "      element.rel = \"stylesheet\";\n",
       "      element.type = \"text/css\";\n",
       "      element.href = url;\n",
       "      console.debug(\"Bokeh: injecting link tag for BokehJS stylesheet: \", url);\n",
       "      document.body.appendChild(element);\n",
       "    }\n",
       "\n",
       "    for (var i = 0; i < js_urls.length; i++) {\n",
       "      var url = js_urls[i];\n",
       "      var element = document.createElement('script');\n",
       "      element.onload = on_load;\n",
       "      element.onerror = on_error;\n",
       "      element.async = false;\n",
       "      element.src = url;\n",
       "      console.debug(\"Bokeh: injecting script tag for BokehJS library: \", url);\n",
       "      document.head.appendChild(element);\n",
       "    }\n",
       "  };\n",
       "\n",
       "  function inject_raw_css(css) {\n",
       "    const element = document.createElement(\"style\");\n",
       "    element.appendChild(document.createTextNode(css));\n",
       "    document.body.appendChild(element);\n",
       "  }\n",
       "\n",
       "  var js_urls = [\"https://cdn.pydata.org/bokeh/release/bokeh-1.3.4.min.js\", \"https://cdn.pydata.org/bokeh/release/bokeh-widgets-1.3.4.min.js\", \"https://cdn.pydata.org/bokeh/release/bokeh-tables-1.3.4.min.js\", \"https://cdn.pydata.org/bokeh/release/bokeh-gl-1.3.4.min.js\"];\n",
       "  var css_urls = [];\n",
       "\n",
       "  var inline_js = [\n",
       "    function(Bokeh) {\n",
       "      Bokeh.set_log_level(\"info\");\n",
       "    },\n",
       "    \n",
       "    function(Bokeh) {\n",
       "      \n",
       "    },\n",
       "    function(Bokeh) {} // ensure no trailing comma for IE\n",
       "  ];\n",
       "\n",
       "  function run_inline_js() {\n",
       "    \n",
       "    if ((root.Bokeh !== undefined) || (force === true)) {\n",
       "      for (var i = 0; i < inline_js.length; i++) {\n",
       "        inline_js[i].call(root, root.Bokeh);\n",
       "      }} else if (Date.now() < root._bokeh_timeout) {\n",
       "      setTimeout(run_inline_js, 100);\n",
       "    } else if (!root._bokeh_failed_load) {\n",
       "      console.log(\"Bokeh: BokehJS failed to load within specified timeout.\");\n",
       "      root._bokeh_failed_load = true;\n",
       "    } else if (force !== true) {\n",
       "      var cell = $(document.getElementById(null)).parents('.cell').data().cell;\n",
       "      cell.output_area.append_execute_result(NB_LOAD_WARNING)\n",
       "    }\n",
       "\n",
       "  }\n",
       "\n",
       "  if (root._bokeh_is_loading === 0) {\n",
       "    console.debug(\"Bokeh: BokehJS loaded, going straight to plotting\");\n",
       "    run_inline_js();\n",
       "  } else {\n",
       "    load_libs(css_urls, js_urls, function() {\n",
       "      console.debug(\"Bokeh: BokehJS plotting callback run at\", now());\n",
       "      run_inline_js();\n",
       "    });\n",
       "  }\n",
       "}(window));"
      ],
      "application/vnd.bokehjs_load.v0+json": "\n(function(root) {\n  function now() {\n    return new Date();\n  }\n\n  var force = true;\n\n  if (typeof root._bokeh_onload_callbacks === \"undefined\" || force === true) {\n    root._bokeh_onload_callbacks = [];\n    root._bokeh_is_loading = undefined;\n  }\n\n  \n\n  \n  if (typeof (root._bokeh_timeout) === \"undefined\" || force === true) {\n    root._bokeh_timeout = Date.now() + 5000;\n    root._bokeh_failed_load = false;\n  }\n\n  var NB_LOAD_WARNING = {'data': {'text/html':\n     \"<div style='background-color: #fdd'>\\n\"+\n     \"<p>\\n\"+\n     \"BokehJS does not appear to have successfully loaded. If loading BokehJS from CDN, this \\n\"+\n     \"may be due to a slow or bad network connection. Possible fixes:\\n\"+\n     \"</p>\\n\"+\n     \"<ul>\\n\"+\n     \"<li>re-rerun `output_notebook()` to attempt to load from CDN again, or</li>\\n\"+\n     \"<li>use INLINE resources instead, as so:</li>\\n\"+\n     \"</ul>\\n\"+\n     \"<code>\\n\"+\n     \"from bokeh.resources import INLINE\\n\"+\n     \"output_notebook(resources=INLINE)\\n\"+\n     \"</code>\\n\"+\n     \"</div>\"}};\n\n  function display_loaded() {\n    var el = document.getElementById(null);\n    if (el != null) {\n      el.textContent = \"BokehJS is loading...\";\n    }\n    if (root.Bokeh !== undefined) {\n      if (el != null) {\n        el.textContent = \"BokehJS \" + root.Bokeh.version + \" successfully loaded.\";\n      }\n    } else if (Date.now() < root._bokeh_timeout) {\n      setTimeout(display_loaded, 100)\n    }\n  }\n\n\n  function run_callbacks() {\n    try {\n      root._bokeh_onload_callbacks.forEach(function(callback) {\n        if (callback != null)\n          callback();\n      });\n    } finally {\n      delete root._bokeh_onload_callbacks\n    }\n    console.debug(\"Bokeh: all callbacks have finished\");\n  }\n\n  function load_libs(css_urls, js_urls, callback) {\n    if (css_urls == null) css_urls = [];\n    if (js_urls == null) js_urls = [];\n\n    root._bokeh_onload_callbacks.push(callback);\n    if (root._bokeh_is_loading > 0) {\n      console.debug(\"Bokeh: BokehJS is being loaded, scheduling callback at\", now());\n      return null;\n    }\n    if (js_urls == null || js_urls.length === 0) {\n      run_callbacks();\n      return null;\n    }\n    console.debug(\"Bokeh: BokehJS not loaded, scheduling load and callback at\", now());\n    root._bokeh_is_loading = css_urls.length + js_urls.length;\n\n    function on_load() {\n      root._bokeh_is_loading--;\n      if (root._bokeh_is_loading === 0) {\n        console.debug(\"Bokeh: all BokehJS libraries/stylesheets loaded\");\n        run_callbacks()\n      }\n    }\n\n    function on_error() {\n      console.error(\"failed to load \" + url);\n    }\n\n    for (var i = 0; i < css_urls.length; i++) {\n      var url = css_urls[i];\n      const element = document.createElement(\"link\");\n      element.onload = on_load;\n      element.onerror = on_error;\n      element.rel = \"stylesheet\";\n      element.type = \"text/css\";\n      element.href = url;\n      console.debug(\"Bokeh: injecting link tag for BokehJS stylesheet: \", url);\n      document.body.appendChild(element);\n    }\n\n    for (var i = 0; i < js_urls.length; i++) {\n      var url = js_urls[i];\n      var element = document.createElement('script');\n      element.onload = on_load;\n      element.onerror = on_error;\n      element.async = false;\n      element.src = url;\n      console.debug(\"Bokeh: injecting script tag for BokehJS library: \", url);\n      document.head.appendChild(element);\n    }\n  };\n\n  function inject_raw_css(css) {\n    const element = document.createElement(\"style\");\n    element.appendChild(document.createTextNode(css));\n    document.body.appendChild(element);\n  }\n\n  var js_urls = [\"https://cdn.pydata.org/bokeh/release/bokeh-1.3.4.min.js\", \"https://cdn.pydata.org/bokeh/release/bokeh-widgets-1.3.4.min.js\", \"https://cdn.pydata.org/bokeh/release/bokeh-tables-1.3.4.min.js\", \"https://cdn.pydata.org/bokeh/release/bokeh-gl-1.3.4.min.js\"];\n  var css_urls = [];\n\n  var inline_js = [\n    function(Bokeh) {\n      Bokeh.set_log_level(\"info\");\n    },\n    \n    function(Bokeh) {\n      \n    },\n    function(Bokeh) {} // ensure no trailing comma for IE\n  ];\n\n  function run_inline_js() {\n    \n    if ((root.Bokeh !== undefined) || (force === true)) {\n      for (var i = 0; i < inline_js.length; i++) {\n        inline_js[i].call(root, root.Bokeh);\n      }} else if (Date.now() < root._bokeh_timeout) {\n      setTimeout(run_inline_js, 100);\n    } else if (!root._bokeh_failed_load) {\n      console.log(\"Bokeh: BokehJS failed to load within specified timeout.\");\n      root._bokeh_failed_load = true;\n    } else if (force !== true) {\n      var cell = $(document.getElementById(null)).parents('.cell').data().cell;\n      cell.output_area.append_execute_result(NB_LOAD_WARNING)\n    }\n\n  }\n\n  if (root._bokeh_is_loading === 0) {\n    console.debug(\"Bokeh: BokehJS loaded, going straight to plotting\");\n    run_inline_js();\n  } else {\n    load_libs(css_urls, js_urls, function() {\n      console.debug(\"Bokeh: BokehJS plotting callback run at\", now());\n      run_inline_js();\n    });\n  }\n}(window));"
     },
     "metadata": {},
     "output_type": "display_data"
    }
   ],
   "source": [
    "import cameo\n",
    "import pandas as pd\n",
    "import cobra.io\n",
    "import escher"
   ]
  },
  {
   "cell_type": "code",
   "execution_count": 2,
   "metadata": {},
   "outputs": [],
   "source": [
    "model = cobra.io.read_sbml_model('../model/g-thermo.xml')"
   ]
  },
  {
   "cell_type": "code",
   "execution_count": 7,
   "metadata": {},
   "outputs": [
    {
     "data": {
      "text/plain": [
       "570"
      ]
     },
     "execution_count": 7,
     "metadata": {},
     "output_type": "execute_result"
    }
   ],
   "source": [
    "unbalanced_rct =[\"23DK5MPPISO\",\"T_cbl1_e\",\"LARGNHYDRO\",\"ADCL\",\"OCBT\",\"PUNP2\",\"PGK\",\"T_trnaglu_e\",\"PYRACTT\",\"MTRI\",\"R_r0082\",\"PBUTT\",\"T_gdpmann_e\",\"DTPCUNPPT\",\"OMCDC\",\"ABUTD\",\"DHQS\",\"T_udpgalur_e\",\"INO1PPHYDRO\",\"T_adgppuc_e\",\"MDRPD\",\"OXGDC\",\"T_pydx5p_e\",\"KARI_23dhmb\",\"NTD3\",\"T_man_e\",\"T_qh2_3\",\"HBCOAOR\",\"IDPh\",\"ACENLAT\",\"T_trp__L_e\",\"HISOR\",\"DHAD1\",\"T_cyan_e\",\"MHTPPT\",\"T_ile__L_e\",\"T_cmp_e\",\"T_adprib_e\",\"SUCRGT\",\"ACM6PH\",\"OCTACPOR\",\"MOD_3mop\",\"ACGK\",\"T_dhgly_e\",\"ALDD2x\",\"AIZCLY\",\"R_UDPGD\",\"T_pyridoxal_e\",\"T_uri_e\",\"T_phe__L_e\",\"T_ump_e\",\"OCTACPAT\",\"MHOBT\",\"R_SSALx\",\"T_chlac_e\",\"2OH3K5MPPISO\",\"T_abmaagapc_e\",\"EN6LYOR\",\"R_SSALy\",\"ALASm\",\"T_rib__D_e\",\"T_din_e\",\"ENCOAT\",\"NNAM\",\"3OAR100\",\"T_mercplac_e\",\"AMBALY\",\"T_octdecacp_e\",\"T_damp_e\",\"MMM2\",\"ACDO\",\"QUINOR\",\"OPALMACPOR\",\"T_hepdp_e\",\"HDEACPT\",\"DATPT\",\"PUNP1\",\"OAADC\",\"T_gmagg_e\",\"3OAR40_1\",\"ADOCBIP\",\"PTAr\",\"HMBS\",\"XU5PGT\",\"T_but_e\",\"T_gal_e\",\"MALS\",\"ACS\",\"4ABUTD\",\"ATPPT\",\"DHFS\",\"DURIPP\",\"T_co2_e\",\"R_SERD_L\",\"DGTPT\",\"S7PTRANSPP\",\"3HAD40_1\",\"DHORTS\",\"T_betaine_e\",\"URAHL\",\"T_amet_e\",\"T_drib_e\",\"GLNAMHYDRO\",\"T_ps_cho_e\",\"PENTOHYDROARA\",\"PCPPTh\",\"HMSD\",\"R_SELCYSTL\",\"UAAAGGLAAP\",\"T_val__L_e\",\"T_M_10fthf_e\",\"IVCOAR\",\"DHBS\",\"ASAD\",\"T_slnt_e\",\"T_catechol_e\",\"QH2NOR\",\"R_r0068\",\"GCCa\",\"ACMUMPT\",\"PDHam1hi\",\"PHSERT\",\"F1PPT\",\"L23DHDPICOLY\",\"MME\",\"GMPS2\",\"T_accoa_e\",\"ILEOR\",\"PSP\",\"T_phe__D_e\",\"T_his__L_e\",\"ATPNAT\",\"T_etoh_e\",\"GLCDPT\",\"TREPT\",\"ACHMSSELCYSL\",\"NTD5\",\"T_pheme_e\",\"PHEOR\",\"T_gln__D_e\",\"G6PI_1\",\"R_SUCHMSSELCYSL\",\"FTHFLIG\",\"MMSAD1\",\"NTD6\",\"BCFASYN3\",\"IPPS\",\"CHLACOR\",\"AGGPR\",\"T_met__L_e\",\"NTD11\",\"R_UPP1S\",\"PRPAT\",\"MALTPT\",\"CCP\",\"T_a4oxopent_e\",\"T_adn_e\",\"APLh\",\"AMYTRANS\",\"ACBIPGT\",\"GMP5N\",\"G5DHx\",\"STARCHGT\",\"T_fe2_e\",\"T_lac__L_e\",\"T_M_C04051_e\",\"ACAS_2ahbut\",\"FICYTCCNOR\",\"T_prpncoa_e\",\"HC01435R\",\"NO2R\",\"T_amp_e\",\"T_bcfa_e\",\"R_UACMAMO\",\"ADOCBLS\",\"AMETDMMQ\",\"T_oh1_e\",\"ABFPT\",\"COOR\",\"T_csn_e\",\"HMCNSADLY\",\"ARGDC\",\"HGBYR\",\"PUNP3\",\"MANPT\",\"T_uamagdgll_e\",\"MENAOR\",\"G6PI2\",\"PPAPPT\",\"T_M_3hmbcoa_e\",\"T_gmp_e\",\"R_TDP\",\"MAN1PT\",\"QH2OR\",\"T_thmtp_e\",\"NT5C\",\"GAMPT\",\"PRPNTEAT\",\"ACDAH\",\"T_dmbzid_e\",\"T_o2_e\",\"PC20M\",\"R_TALA\",\"UAAAGGLAAT\",\"T_mesel_e\",\"PUNP6\",\"T_fum_e\",\"GLU5K\",\"GDH_nadp\",\"T_chor_e\",\"T_nadph_e\",\"R_TKT2\",\"CELLOHYDRO\",\"T_sprm_e\",\"DECOT\",\"XYLANHYDRO\",\"R_UAGCVT\",\"DECACPOR\",\"T_nadp_e\",\"R_SHSL4h\",\"SELMELY\",\"DECACPAT\",\"T_arg__L_e\",\"GAM\",\"DECDPPP\",\"GDH\",\"T_M_2hymeph_e\",\"ADCPS2\",\"2HBO\",\"T_malcoa_e\",\"T_mmal_e\",\"PUTA3\",\"T_hpglu_e\",\"R_SBP\",\"AUS\",\"DHNAOCTD\",\"ACGS\",\"T_decanoylacp_e\",\"T_fol_e\",\"T_dhptd_e\",\"R_THRPD\",\"SELMELIG\",\"FBAf\",\"UAGUDPGPTRANS\",\"AAGAMPT\",\"R_TMDPPK\",\"DALAOX\",\"T_cpppg1_e\",\"GAPD\",\"R05219\",\"MERCPPYRST\",\"COCHL\",\"T_appl_e\",\"NTD8\",\"GAPDH_nadp_hi\",\"T_thrp_e\",\"ACKr\",\"PUNP4\",\"SCUGLUTRA\",\"XYLHYDRO\",\"PC6YM\",\"HEX7\",\"RAFFINHYDRO\",\"R_VALDHr\",\"R_r0097\",\"GTPCI\",\"LARGNOR\",\"T_cobalt2_e\",\"G5SADrm\",\"R_UPPDC1\",\"NNDPR\",\"GLYALDDr\",\"T_nh4_e\",\"NTD10\",\"MOD\",\"T_lac__D_e\",\"KAS14\",\"FDPPH\",\"AHSL\",\"MMTSAOR\",\"MHOPT\",\"G6PDA\",\"LLEUDr\",\"GDTP\",\"T_for_e\",\"MOD_4mop\",\"T_glc__D_e\",\"T_succ_e\",\"MMALLIG\",\"H202OR\",\"T_acmum_e\",\"ALAALALIG\",\"NP1\",\"R_r0775\",\"PFKh\",\"HACD6\",\"DLDLBT\",\"PYNP1\",\"FPRAMLIG\",\"BFBP\",\"AKP1\",\"CYANST\",\"KARI_23dhmp\",\"SAM\",\"R_r0708\",\"T_ser__L_e\",\"R_SELCYSTGL\",\"FGAMALIG\",\"PUNP7\",\"ICDHhr\",\"PENTOHYDROXYL\",\"KARI\",\"T_selmethtrna_e\",\"PRPUT\",\"ALAALAr\",\"THPPGLIG\",\"IG3PS\",\"T_dgmp_e\",\"PRPGT\",\"CTPS1\",\"AMETTRANS\",\"T_dlglu_c\",\"QULNS\",\"T_mthpglu_e\",\"ACLS\",\"ACCOAC\",\"ASNN\",\"ACSERL\",\"PRPCT\",\"FPGFTh\",\"STACHY\",\"METGL\",\"HOPNTAL\",\"T_M_5fthf_e\",\"T_tcynt_e\",\"CYSAT\",\"ADSL2r\",\"T_dcmp_e\",\"ASP1DC\",\"CTPS2\",\"CHORS\",\"NODOx\",\"AHCYSMETTRANS\",\"T_ftethplg_e\",\"GTPT\",\"CBPS\",\"TRE6PHYDRO\",\"T_cbi_e\",\"T_hqn_e\",\"NODOy\",\"CTPT\",\"FGFTh\",\"T_dtmp_e\",\"MALACPAT\",\"SBZCOAHYDRO\",\"ACYSAT\",\"STACHY2\",\"CYSTGL\",\"T_glyc_e\",\"R_r0163\",\"SALCNPT\",\"MMACPAT\",\"GLYOR\",\"CYSTT\",\"T_tre_e\",\"NAMNPP\",\"FOMETRi\",\"T_ura_e\",\"GLUKA\",\"R_SHSL1\",\"HDH\",\"HCYSMT\",\"T_ala__L_e\",\"STARCHHY\",\"ALKP\",\"PPCDC\",\"FTCL\",\"T_dodecacp_e\",\"CYSDS\",\"PPND\",\"CDPDAGPT\",\"T_dad_2_e\",\"T_M_3omrsACP_e\",\"PYRPT\",\"T_asp__L_e\",\"AHSERL\",\"NMNHYD\",\"T_but2eACP_e\",\"GLYO1\",\"GLYOX\",\"NANEURATRANS\",\"FOCYTCCOR\",\"ADSS\",\"ACPh\",\"DHAD2\",\"ACHBS\",\"T_thf_e\",\"PPCOAOm\",\"HEXACPOR\",\"CYSTHI\",\"KARI_3hmoa\",\"COQOR\",\"HEXACPAT\",\"FDH\",\"R_UGE\",\"BCFASYN\",\"T_dtpcudcpp_e\",\"GND\",\"PPBNGS\",\"ARBTPT\",\"MECDPOR\",\"CBL\",\"PRPNTELIG\",\"PPCOAC\",\"T_glc6P_e\",\"M1PD\",\"2AMACHYD\",\"AHHST\",\"T_gam_e\",\"MNLPT\",\"IPDPCT\",\"R_SHSL2\",\"PAMPT\",\"T_nad_e\",\"PUNP5\",\"PSCIT\",\"DTPCUDCPPR\",\"MAN6PI\",\"T_hxan_e\",\"T_M_5mthf_e\",\"ADPGLCGT\",\"PDH\",\"NNDMBRT\",\"GTPCII2\",\"ASAPT\",\"AMYLOSEGT\",\"FBA3\",\"MGSA\",\"ANS\",\"T_nadh_e\",\"T_dcyt_e\",\"DDPA\",\"PYDXS\",\"R_r0120\",\"ME1\",\"T_gthrd_e\",\"AMETLY\",\"R_TAL\",\"ECOAH4\",\"ASPO1\",\"T_thymd_e\",\"BGLUCH\",\"T_aacoa_e\",\"T_coa_e\",\"PPCK\",\"DCTPT\",\"MSAOR\",\"R_TMPPP\",\"NTD7\",\"APAPTm\",\"T_inost_e\",\"CYSS\",\"UTPT\",\"MALTHYDRO\",\"T_capra_e\",\"ATPM\",\"DXPS\",\"T_mlthf_e\",\"SUCHY\",\"DAPDC\",\"PC\",\"T_RNA_e\",\"T_ac_e\",\"T_gthox_e\",\"SUCHY2\",\"DTTPT\",\"MMSAD3\",\"NTD1\",\"T_succcoa_c\",\"T_hmgcoa_e\",\"FRU1PT\",\"T_hemeO_e\",\"STARCHHY2\",\"T_g3pc_e\",\"CS\",\"NADS1\",\"CELLBHY\",\"T_acetol_e\",\"ALAD_L\",\"SMBCOAOR\",\"PC17M\",\"T_dna_e\",\"MYRACPOR\",\"T_hdeacp_e\",\"AACOAT\",\"GLUTRR\",\"R_SEPHCHCS\",\"PGCM\",\"DTPCUNPTRANS\",\"T_acon_e\",\"T_uacmamu_e\",\"GLUTRS\",\"OMPDC\",\"MBTCOAT\",\"T_thm_e\",\"T_asn__L_e\",\"T_pmtcoa_e\",\"DTPCUNPT\",\"HBCOAH\",\"T_14dhncoa_e\",\"GCCb\",\"FOCYTCNOR\",\"NTP3\",\"R_UAMAS\",\"HEPDPP\",\"T_ribflv_e\",\"T_arbt_e\",\"NTD2\",\"ASPCT\",\"T_mmcoa__S_e\",\"T_gly_e\",\"BCFASYN2\",\"R_UPP3MT\",\"PPGPPDP\",\"SELCYSLY\",\"AKGDH\",\"GALISO\",\"T_menqui_e\",\"T_salcn_e\",\"T_ins_e\",\"PPNDH\",\"PPRGL\",\"ACSERT\",\"NTD4\",\"R_UAMAGS\",\"DB4PS\",\"R_THRS\",\"ACYP_2\",\"HISTP\",\"IGPS\",\"T_h_e\",\"T_glcn__D_e\",\"ASPK\",\"ASPSALY\",\"ADCPS1\",\"ARABINANHY\",\"UAMAGDGLLLIG\",\"R_SUCBZL\",\"BUTACPAT\",\"AH6PISO\",\"SCENLAT\",\"T_so3_e\",\"ASPO6\",\"PC11M\",\"ADOCBLTRANS\",\"PRAISh\",\"ADOCBIK\",\"MYOIPPH\",\"UAMAGLIG\",\"RZ5PP\",\"FTHFD\",\"FTETHLGPT\",\"T_cl_e\",\"ECOAH9ir\",\"AIRC3\",\"ASNS2\",\"PRE3AOR\",\"GHMT\",\"PANOPTRANS\",\"T_nac_e\"]\n",
    "len(unbalanced_rct)"
   ]
  },
  {
   "cell_type": "code",
   "execution_count": 8,
   "metadata": {},
   "outputs": [
    {
     "data": {
      "text/plain": [
       "285"
      ]
     },
     "execution_count": 8,
     "metadata": {},
     "output_type": "execute_result"
    }
   ],
   "source": [
    "martyn_reactions = unbalanced_rct[0:285]\n",
    "len(martyn_reactions)"
   ]
  },
  {
   "cell_type": "code",
   "execution_count": 9,
   "metadata": {},
   "outputs": [],
   "source": [
    "vivienne_reactions = unbalanced_rct[286:569]"
   ]
  },
  {
   "cell_type": "code",
   "execution_count": 18,
   "metadata": {},
   "outputs": [],
   "source": [
    "#make a list of all of Viviennes reactions that exlclude transport\n",
    "metabolic_rct_viv = []\n",
    "for rct in model.reactions:\n",
    "    if rct.id in vivienne_reactions:\n",
    "        if rct.id[-1:] in 't':\n",
    "            continue\n",
    "        else: \n",
    "            metabolic_rct_viv.append(rct)\n",
    "    else: continue"
   ]
  },
  {
   "cell_type": "code",
   "execution_count": 19,
   "metadata": {},
   "outputs": [
    {
     "data": {
      "text/plain": [
       "190"
      ]
     },
     "execution_count": 19,
     "metadata": {},
     "output_type": "execute_result"
    }
   ],
   "source": [
    "len(metabolic_rct_viv)"
   ]
  },
  {
   "cell_type": "markdown",
   "metadata": {},
   "source": [
    "So there are 190 metabolic reactions that I need to check.\n",
    "\n",
    "I wil convert this into a list in .csv format so that I can keep track of which reactions I've fixed and which not, and make comments about some of the ones I doubt about.\n",
    "\n",
    "In this section, I will modify 5 reactions at a time, and then save & commit, to prevent too many commits cluttering the system."
   ]
  },
  {
   "cell_type": "code",
   "execution_count": 33,
   "metadata": {},
   "outputs": [],
   "source": [
    "#make lists to export\n",
    "rct_id = []\n",
    "rct_kegg = [] \n",
    "for rct in metabolic_rct_viv:\n",
    "    rct_id.append(rct.id)\n",
    "    rct_kegg.append(rct.name)\n",
    "    "
   ]
  },
  {
   "cell_type": "code",
   "execution_count": 34,
   "metadata": {
    "scrolled": true
   },
   "outputs": [
    {
     "data": {
      "text/html": [
       "<div>\n",
       "<style scoped>\n",
       "    .dataframe tbody tr th:only-of-type {\n",
       "        vertical-align: middle;\n",
       "    }\n",
       "\n",
       "    .dataframe tbody tr th {\n",
       "        vertical-align: top;\n",
       "    }\n",
       "\n",
       "    .dataframe thead th {\n",
       "        text-align: right;\n",
       "    }\n",
       "</style>\n",
       "<table border=\"1\" class=\"dataframe\">\n",
       "  <thead>\n",
       "    <tr style=\"text-align: right;\">\n",
       "      <th></th>\n",
       "      <th>ID</th>\n",
       "      <th>KEGG</th>\n",
       "      <th>Done</th>\n",
       "      <th>Comments</th>\n",
       "    </tr>\n",
       "  </thead>\n",
       "  <tbody>\n",
       "    <tr>\n",
       "      <th>0</th>\n",
       "      <td>PPBNGS</td>\n",
       "      <td>R00036</td>\n",
       "      <td></td>\n",
       "      <td></td>\n",
       "    </tr>\n",
       "    <tr>\n",
       "      <th>1</th>\n",
       "      <td>FOCYTCCOR</td>\n",
       "      <td>R00082</td>\n",
       "      <td></td>\n",
       "      <td></td>\n",
       "    </tr>\n",
       "    <tr>\n",
       "      <th>2</th>\n",
       "      <td>ATPM</td>\n",
       "      <td>R00086</td>\n",
       "      <td></td>\n",
       "      <td></td>\n",
       "    </tr>\n",
       "    <tr>\n",
       "      <th>3</th>\n",
       "      <td>NTD7</td>\n",
       "      <td>R00183</td>\n",
       "      <td></td>\n",
       "      <td></td>\n",
       "    </tr>\n",
       "    <tr>\n",
       "      <th>4</th>\n",
       "      <td>NADS1</td>\n",
       "      <td>R00189</td>\n",
       "      <td></td>\n",
       "      <td></td>\n",
       "    </tr>\n",
       "  </tbody>\n",
       "</table>\n",
       "</div>"
      ],
      "text/plain": [
       "          ID    KEGG Done Comments\n",
       "0     PPBNGS  R00036              \n",
       "1  FOCYTCCOR  R00082              \n",
       "2       ATPM  R00086              \n",
       "3       NTD7  R00183              \n",
       "4      NADS1  R00189              "
      ]
     },
     "execution_count": 34,
     "metadata": {},
     "output_type": "execute_result"
    }
   ],
   "source": [
    "metabolic_rct_viv_df = pd.DataFrame({'ID':rct_id, 'KEGG': rct_kegg, 'Done': ' ' , 'Comments': ' '})\n",
    "metabolic_rct_viv_df[0:5]"
   ]
  },
  {
   "cell_type": "code",
   "execution_count": 36,
   "metadata": {},
   "outputs": [],
   "source": [
    "metabolic_rct_viv_df.to_csv('../databases/Metabolic_rct_viv.csv')"
   ]
  },
  {
   "cell_type": "code",
   "execution_count": 66,
   "metadata": {},
   "outputs": [
    {
     "data": {
      "text/html": [
       "\n",
       "        <table>\n",
       "            <tr>\n",
       "                <td><strong>Reaction identifier</strong></td><td>ME1</td>\n",
       "            </tr><tr>\n",
       "                <td><strong>Name</strong></td><td>R00214</td>\n",
       "            </tr><tr>\n",
       "                <td><strong>Memory address</strong></td>\n",
       "                <td>0x021cb24288c8</td>\n",
       "            </tr><tr>\n",
       "                <td><strong>Stoichiometry</strong></td>\n",
       "                <td>\n",
       "                    <p style='text-align:right'>co2_c + h_c + nadh_c + pyr_c <=> mal__L_c + nad_c</p>\n",
       "                    <p style='text-align:right'>CO2_CO2 + H+_H + NADH_C21H29N7O14P2 + Pyruvate_C3H4O3 <=> (S)-Malate_C4H4O5 + NAD+_C21H28N7O14P2</p>\n",
       "                </td>\n",
       "            </tr><tr>\n",
       "                <td><strong>GPR</strong></td><td>RTMO01831 or RTMO01473</td>\n",
       "            </tr><tr>\n",
       "                <td><strong>Lower bound</strong></td><td>-20.0</td>\n",
       "            </tr><tr>\n",
       "                <td><strong>Upper bound</strong></td><td>20.0</td>\n",
       "            </tr>\n",
       "        </table>\n",
       "        "
      ],
      "text/plain": [
       "<Reaction ME1 at 0x21cb24288c8>"
      ]
     },
     "execution_count": 66,
     "metadata": {},
     "output_type": "execute_result"
    }
   ],
   "source": [
    "rct = model.reactions.ME1\n",
    "\n",
    "rct"
   ]
  },
  {
   "cell_type": "code",
   "execution_count": 67,
   "metadata": {
    "scrolled": true
   },
   "outputs": [
    {
     "name": "stdout",
     "output_type": "stream",
     "text": [
      "CO2_CO2 : CO2\n",
      "NADH_C21H29N7O14P2 : C21H29N7O14P2\n",
      "Pyruvate_C3H4O3 : C3H4O3\n",
      "H+_H : H\n",
      "(S)-Malate_C4H4O5 : C4H4O5\n",
      "NAD+_C21H28N7O14P2 : C21H28N7O14P2\n"
     ]
    }
   ],
   "source": [
    "for met in rct.metabolites:\n",
    "    print (met.name, ':', met.formula)"
   ]
  },
  {
   "cell_type": "code",
   "execution_count": null,
   "metadata": {},
   "outputs": [],
   "source": []
  },
  {
   "cell_type": "code",
   "execution_count": null,
   "metadata": {},
   "outputs": [],
   "source": [
    "#fix formula \n",
    "model.metabolites..formula = ''\n",
    "model.metabolites..name = ''"
   ]
  },
  {
   "cell_type": "code",
   "execution_count": null,
   "metadata": {},
   "outputs": [],
   "source": [
    "#fix formula \n",
    "model.metabolites..formula = ''\n",
    "model.metabolites..name = ''"
   ]
  },
  {
   "cell_type": "code",
   "execution_count": null,
   "metadata": {},
   "outputs": [],
   "source": [
    "#fix formula \n",
    "model.metabolites..formula = ''\n",
    "model.metabolites..name = ''"
   ]
  },
  {
   "cell_type": "code",
   "execution_count": null,
   "metadata": {},
   "outputs": [],
   "source": [
    "#fix formula \n",
    "model.metabolites..formula = ''\n",
    "model.metabolites..name = ''"
   ]
  },
  {
   "cell_type": "code",
   "execution_count": null,
   "metadata": {},
   "outputs": [],
   "source": [
    "#fix formula \n",
    "model.metabolites..formula = ''\n",
    "model.metabolites..name = ''"
   ]
  },
  {
   "cell_type": "code",
   "execution_count": 65,
   "metadata": {},
   "outputs": [],
   "source": [
    "#fix formula nadh_c\n",
    "model.metabolites.nadh_c.formula = 'C21H29N7O14P2'\n",
    "model.metabolites.nadh_c.name = 'NADH_C21H29N7O14P2'"
   ]
  },
  {
   "cell_type": "code",
   "execution_count": 64,
   "metadata": {},
   "outputs": [],
   "source": [
    "#fix formula accoa_c\n",
    "model.metabolites.accoa_c.formula = 'C23H38N7O17P3S'\n",
    "model.metabolites.accoa_c.name = 'Acetyl-CoA_C23H38N7O17P3S'"
   ]
  },
  {
   "cell_type": "code",
   "execution_count": 63,
   "metadata": {},
   "outputs": [],
   "source": [
    "#fix formula coa_c\n",
    "model.metabolites.coa_c.formula = 'C21H36N7O16P3S'\n",
    "model.metabolites.coa_c.name = 'CoA_C21H36N7O16P3S '"
   ]
  },
  {
   "cell_type": "code",
   "execution_count": 62,
   "metadata": {},
   "outputs": [],
   "source": [
    "#fix formula pyr_c\n",
    "model.metabolites.pyr_c.formula = 'C3H4O3'\n",
    "model.metabolites.pyr_c.name = 'Pyruvate_C3H4O3'"
   ]
  },
  {
   "cell_type": "code",
   "execution_count": 57,
   "metadata": {},
   "outputs": [],
   "source": [
    "#fix formula \n",
    "model.metabolites.nad_c.formula = 'C21H28N7O14P2'\n",
    "model.metabolites.nad_c.name = 'NAD+_C21H28N7O14P2'"
   ]
  },
  {
   "cell_type": "code",
   "execution_count": 58,
   "metadata": {},
   "outputs": [],
   "source": [
    "#fix formula \n",
    "model.metabolites.ppi_c.formula = 'H4P2O7'\n",
    "model.metabolites.ppi_c.name = 'Pyrophosphate_H4O7P2'"
   ]
  },
  {
   "cell_type": "code",
   "execution_count": 59,
   "metadata": {},
   "outputs": [],
   "source": [
    "#fix formula dnad_c\n",
    "model.metabolites.dnad_c.formula = 'C21H27N6O15P2'\n",
    "model.metabolites.dnad_c.name = 'Deamino-NAD+_C21H27N6O15P2'"
   ]
  },
  {
   "cell_type": "code",
   "execution_count": 54,
   "metadata": {},
   "outputs": [],
   "source": [
    "#fix formula amp_c\n",
    "model.metabolites.amp_c.formula = 'C10H14N5O7P'\n",
    "model.metabolites.amp_c.name = 'AMP_C10H14N5O7P'"
   ]
  },
  {
   "cell_type": "code",
   "execution_count": 42,
   "metadata": {},
   "outputs": [],
   "source": [
    "#fix formula ppbng_c\n",
    "model.metabolites.ppbng_c.formula = 'C10H14N2O4'\n",
    "model.metabolites.ppbng_c.name = 'Porphobilinogen_C10H14N2O4'"
   ]
  },
  {
   "cell_type": "code",
   "execution_count": 49,
   "metadata": {},
   "outputs": [],
   "source": [
    "#fix formula atp_c\n",
    "model.metabolites.atp_c.formula = 'C10H16N5O13P3'\n",
    "model.metabolites.atp_c.name = 'ATP_C10H16N5O13P3'"
   ]
  },
  {
   "cell_type": "code",
   "execution_count": 48,
   "metadata": {},
   "outputs": [],
   "source": [
    "#fix formula pi_c\n",
    "model.metabolites.pi_c.formula = 'H3PO4'\n",
    "model.metabolites.pi_c.name = 'Orthophosphate_H3PO4'"
   ]
  },
  {
   "cell_type": "code",
   "execution_count": 50,
   "metadata": {},
   "outputs": [],
   "source": [
    "#fix formula adp_c\n",
    "model.metabolites.adp_c.formula = 'C10H15N5O10P2'\n",
    "model.metabolites.adp_c.name = 'ADP_C10H15N5O10P2'"
   ]
  },
  {
   "cell_type": "code",
   "execution_count": null,
   "metadata": {},
   "outputs": [],
   "source": []
  },
  {
   "cell_type": "code",
   "execution_count": null,
   "metadata": {},
   "outputs": [],
   "source": []
  },
  {
   "cell_type": "code",
   "execution_count": null,
   "metadata": {},
   "outputs": [],
   "source": []
  },
  {
   "cell_type": "code",
   "execution_count": null,
   "metadata": {},
   "outputs": [],
   "source": []
  },
  {
   "cell_type": "code",
   "execution_count": null,
   "metadata": {},
   "outputs": [],
   "source": []
  },
  {
   "cell_type": "code",
   "execution_count": null,
   "metadata": {},
   "outputs": [],
   "source": []
  },
  {
   "cell_type": "code",
   "execution_count": null,
   "metadata": {},
   "outputs": [],
   "source": []
  },
  {
   "cell_type": "code",
   "execution_count": null,
   "metadata": {},
   "outputs": [],
   "source": []
  },
  {
   "cell_type": "code",
   "execution_count": null,
   "metadata": {},
   "outputs": [],
   "source": []
  },
  {
   "cell_type": "code",
   "execution_count": 20,
   "metadata": {},
   "outputs": [
    {
     "data": {
      "text/plain": [
       "[<Reaction PPBNGS at 0x21cb23e8f88>,\n",
       " <Reaction FOCYTCCOR at 0x21cb23f2508>,\n",
       " <Reaction ATPM at 0x21cb23f24c8>,\n",
       " <Reaction NTD7 at 0x21cb2417888>,\n",
       " <Reaction NADS1 at 0x21cb2415808>,\n",
       " <Reaction PDH at 0x21cb2424688>,\n",
       " <Reaction ME1 at 0x21cb24288c8>,\n",
       " <Reaction ACLS at 0x21cb242b7c8>,\n",
       " <Reaction ICDHhr at 0x21cb2456a48>,\n",
       " <Reaction H202OR at 0x21cb245c7c8>,\n",
       " <Reaction ACYP_2 at 0x21cb24716c8>,\n",
       " <Reaction NTP3 at 0x21cb2476108>,\n",
       " <Reaction PPGPPDP at 0x21cb247e348>,\n",
       " <Reaction PPCK at 0x21cb24801c8>,\n",
       " <Reaction PC at 0x21cb2483a08>,\n",
       " <Reaction CS at 0x21cb2485708>,\n",
       " <Reaction ASPO1 at 0x21cb248c4c8>,\n",
       " <Reaction GLYOR at 0x21cb2479808>,\n",
       " <Reaction GLYO1 at 0x21cb24942c8>,\n",
       " <Reaction DCTPT at 0x21cb249bb88>,\n",
       " <Reaction DTTPT at 0x21cb249b2c8>,\n",
       " <Reaction ALAD_L at 0x21cb249ba08>,\n",
       " <Reaction GTPCII2 at 0x21cb24b6c48>,\n",
       " <Reaction PRPUT at 0x21cb24c8288>,\n",
       " <Reaction PRPGT at 0x21cb24c6808>,\n",
       " <Reaction PRPCT at 0x21cb24c6fc8>,\n",
       " <Reaction GTPT at 0x21cb24c8c08>,\n",
       " <Reaction CTPT at 0x21cb24cb5c8>,\n",
       " <Reaction UTPT at 0x21cb24d0a08>,\n",
       " <Reaction DAPDC at 0x21cb24d4a08>,\n",
       " <Reaction ASPK at 0x21cb24e59c8>,\n",
       " <Reaction ASPO6 at 0x21cb24e9508>,\n",
       " <Reaction ASNS2 at 0x21cb24e9f88>,\n",
       " <Reaction ASNN at 0x21cb24e9488>,\n",
       " <Reaction ASP1DC at 0x21cb24e9fc8>,\n",
       " <Reaction NTD4 at 0x21cb24fb488>,\n",
       " <Reaction FDH at 0x21cb2500788>,\n",
       " <Reaction CTPS1 at 0x21cb2511108>,\n",
       " <Reaction CTPS2 at 0x21cb251a588>,\n",
       " <Reaction CBPS at 0x21cb2516408>,\n",
       " <Reaction HCYSMT at 0x21cb2533608>,\n",
       " <Reaction AHSERL at 0x21cb2539748>,\n",
       " <Reaction METGL at 0x21cb2537cc8>,\n",
       " <Reaction MMSAD3 at 0x21cb255b6c8>,\n",
       " <Reaction MSAOR at 0x21cb255b7c8>,\n",
       " <Reaction ACCOAC at 0x21cb2582f88>,\n",
       " <Reaction HOPNTAL at 0x21cb25822c8>,\n",
       " <Reaction CYSDS at 0x21cb2591b08>,\n",
       " <Reaction FOCYTCNOR at 0x21cb25aba88>,\n",
       " <Reaction CYSAT at 0x21cb25dd4c8>,\n",
       " <Reaction ACYSAT at 0x21cb25e4548>,\n",
       " <Reaction CYSS at 0x21cb25e18c8>,\n",
       " <Reaction PPCOAOm at 0x21cb25f2708>,\n",
       " <Reaction PRPNTELIG at 0x21cb25f63c8>,\n",
       " <Reaction PAMPT at 0x21cb25fec88>,\n",
       " <Reaction FTHFD at 0x21cb2611b08>,\n",
       " <Reaction GHMT at 0x21cb261b308>,\n",
       " <Reaction PGCM at 0x21cb26215c8>,\n",
       " <Reaction NTD2 at 0x21cb2625908>,\n",
       " <Reaction OMPDC at 0x21cb2628f88>,\n",
       " <Reaction ANS at 0x21cb2638748>,\n",
       " <Reaction CYSTGL at 0x21cb263df08>,\n",
       " <Reaction ALKP at 0x21cb2642508>,\n",
       " <Reaction MGSA at 0x21cb264e048>,\n",
       " <Reaction ADSS at 0x21cb2698248>,\n",
       " <Reaction ALAALAr at 0x21cb269a788>,\n",
       " <Reaction HDH at 0x21cb26a7c48>,\n",
       " <Reaction CYSTHI at 0x21cb26ef4c8>,\n",
       " <Reaction CBL at 0x21cb26efe48>,\n",
       " <Reaction AHHST at 0x21cb26ef488>,\n",
       " <Reaction AACOAT at 0x21cb26ffdc8>,\n",
       " <Reaction PPNDH at 0x21cb270f288>,\n",
       " <Reaction ASPCT at 0x21cb2711348>,\n",
       " <Reaction ACPh at 0x21cb2733108>,\n",
       " <Reaction GND at 0x21cb272efc8>,\n",
       " <Reaction FBA3 at 0x21cb274f808>,\n",
       " <Reaction CHORS at 0x21cb2768e08>,\n",
       " <Reaction NAMNPP at 0x21cb2776a48>,\n",
       " <Reaction PPND at 0x21cb2776b88>,\n",
       " <Reaction GLYOX at 0x21cb2776f88>,\n",
       " <Reaction ARABINANHY at 0x21cb2782d88>,\n",
       " <Reaction GLUKA at 0x21cb2799388>,\n",
       " <Reaction STARCHHY at 0x21cb2799a48>,\n",
       " <Reaction CDPDAGPT at 0x21cb2799348>,\n",
       " <Reaction MAN6PI at 0x21cb279ed88>,\n",
       " <Reaction AMYLOSEGT at 0x21cb279e508>,\n",
       " <Reaction DDPA at 0x21cb279ecc8>,\n",
       " <Reaction PPCOAC at 0x21cb27af948>,\n",
       " <Reaction PUNP5 at 0x21cb27b4388>,\n",
       " <Reaction APAPTm at 0x21cb27bcd48>,\n",
       " <Reaction NTD1 at 0x21cb280fdc8>,\n",
       " <Reaction STARCHHY2 at 0x21cb2817708>,\n",
       " <Reaction NP1 at 0x21cb28410c8>,\n",
       " <Reaction PYNP1 at 0x21cb2845f08>,\n",
       " <Reaction PUNP7 at 0x21cb2849808>,\n",
       " <Reaction FOMETRi at 0x21cb284ed08>,\n",
       " <Reaction FTCL at 0x21cb284e308>,\n",
       " <Reaction PYRPT at 0x21cb28515c8>,\n",
       " <Reaction NMNHYD at 0x21cb285a3c8>,\n",
       " <Reaction ADPGLCGT at 0x21cb286bac8>,\n",
       " <Reaction CYSTT at 0x21cb2874c08>,\n",
       " <Reaction SCENLAT at 0x21cb28835c8>,\n",
       " <Reaction BCFASYN at 0x21cb289cb08>,\n",
       " <Reaction M1PD at 0x21cb28a5408>,\n",
       " <Reaction MNLPT at 0x21cb289cac8>,\n",
       " <Reaction UAMAGLIG at 0x21cb28cd6c8>,\n",
       " <Reaction ASAPT at 0x21cb28d5f48>,\n",
       " <Reaction HISTP at 0x21cb28e1f48>,\n",
       " <Reaction CYANST at 0x21cb2904288>,\n",
       " <Reaction MBTCOAT at 0x21cb2904c88>,\n",
       " <Reaction BCFASYN2 at 0x21cb29085c8>,\n",
       " <Reaction FRU1PT at 0x21cb2926308>,\n",
       " <Reaction PPCDC at 0x21cb2926a88>,\n",
       " <Reaction MMALLIG at 0x21cb2949fc8>,\n",
       " <Reaction PSCIT at 0x21cb295a888>,\n",
       " <Reaction AMETLY at 0x21cb295db08>,\n",
       " <Reaction IGPS at 0x21cb2964948>,\n",
       " <Reaction SELCYSLY at 0x21cb297bf88>,\n",
       " <Reaction ACSERL at 0x21cb297bfc8>,\n",
       " <Reaction SMBCOAOR at 0x21cb29b4488>,\n",
       " <Reaction GLUTRR at 0x21cb29b4148>,\n",
       " <Reaction GCCb at 0x21cb29b97c8>,\n",
       " <Reaction PPRGL at 0x21cb29be148>,\n",
       " <Reaction NNDMBRT at 0x21cb29cb588>,\n",
       " <Reaction ECOAH9ir at 0x21cb29d66c8>,\n",
       " <Reaction FPRAMLIG at 0x21cb29d6ec8>,\n",
       " <Reaction THPPGLIG at 0x21cb29e3448>,\n",
       " <Reaction QULNS at 0x21cb29e39c8>,\n",
       " <Reaction FPGFTh at 0x21cb29e7608>,\n",
       " <Reaction FGFTh at 0x21cb29ee908>,\n",
       " <Reaction SALCNPT at 0x21cb29f83c8>,\n",
       " <Reaction DLDLBT at 0x21cb2a12388>,\n",
       " <Reaction FGAMALIG at 0x21cb2a12b48>,\n",
       " <Reaction DTPCUDCPPR at 0x21cb2a1c6c8>,\n",
       " <Reaction PYDXS at 0x21cb2a20448>,\n",
       " <Reaction IG3PS at 0x21cb2a24bc8>,\n",
       " <Reaction ADSL2r at 0x21cb2a2ab48>,\n",
       " <Reaction PRAISh at 0x21cb2a2e688>,\n",
       " <Reaction RZ5PP at 0x21cb2a2ec08>,\n",
       " <Reaction ALAALALIG at 0x21cb2a378c8>,\n",
       " <Reaction AKP1 at 0x21cb2a3b148>,\n",
       " <Reaction HACD6 at 0x21cb2a43b08>,\n",
       " <Reaction ECOAH4 at 0x21cb2a51308>,\n",
       " <Reaction PFKh at 0x21cb2a69708>,\n",
       " <Reaction BFBP at 0x21cb2a73148>,\n",
       " <Reaction SAM at 0x21cb2a6f808>,\n",
       " <Reaction KARI_23dhmp at 0x21cb2a87ec8>,\n",
       " <Reaction KARI at 0x21cb2a8b5c8>,\n",
       " <Reaction DHAD2 at 0x21cb2a8bd88>,\n",
       " <Reaction KARI_3hmoa at 0x21cb2a8bd48>,\n",
       " <Reaction ARBTPT at 0x21cb2a8fa88>,\n",
       " <Reaction PC17M at 0x21cb2aa7808>,\n",
       " <Reaction PC11M at 0x21cb2aa7d88>,\n",
       " <Reaction PRE3AOR at 0x21cb2aab608>,\n",
       " <Reaction ADOCBIK at 0x21cb2aab5c8>,\n",
       " <Reaction GLUTRS at 0x21cb2acb188>,\n",
       " <Reaction HBCOAH at 0x21cb2acdd48>,\n",
       " <Reaction HEPDPP at 0x21cb2ad7d88>,\n",
       " <Reaction DTPCUNPT at 0x21cb2ae5548>,\n",
       " <Reaction DXPS at 0x21cb2ae9ec8>,\n",
       " <Reaction NODOx at 0x21cb2af5d08>,\n",
       " <Reaction NODOy at 0x21cb2af9f88>,\n",
       " <Reaction BGLUCH at 0x21cb2b02508>,\n",
       " <Reaction SUCHY at 0x21cb2b0a408>,\n",
       " <Reaction SUCHY2 at 0x21cb2b0a888>,\n",
       " <Reaction CELLBHY at 0x21cb2b0a388>,\n",
       " <Reaction STACHY at 0x21cb2b10ac8>,\n",
       " <Reaction STACHY2 at 0x21cb2b10f08>,\n",
       " <Reaction AMETTRANS at 0x21cb2b32048>,\n",
       " <Reaction AHCYSMETTRANS at 0x21cb2b32d08>,\n",
       " <Reaction SBZCOAHYDRO at 0x21cb2b37648>,\n",
       " <Reaction DB4PS at 0x21cb2b41408>,\n",
       " <Reaction ADCPS1 at 0x21cb2b46d48>,\n",
       " <Reaction AIRC3 at 0x21cb2b46d08>,\n",
       " <Reaction AKGDH at 0x21cb2b6fe88>,\n",
       " <Reaction ACHBS at 0x21cb2b95908>,\n",
       " <Reaction COQOR at 0x21cb2b99208>,\n",
       " <Reaction MECDPOR at 0x21cb2b99a88>,\n",
       " <Reaction 2AMACHYD at 0x21cb2b9e108>,\n",
       " <Reaction IPDPCT at 0x21cb2ba3bc8>,\n",
       " <Reaction BUTACPAT at 0x21cb2bc6b48>,\n",
       " <Reaction HEXACPOR at 0x21cb2bcf388>,\n",
       " <Reaction HEXACPAT at 0x21cb2bcfa88>,\n",
       " <Reaction MALACPAT at 0x21cb2beb388>,\n",
       " <Reaction MYRACPOR at 0x21cb2bf1b08>,\n",
       " <Reaction MMACPAT at 0x21cb2bf51c8>,\n",
       " <Reaction GALISO at 0x21cb2c0b888>,\n",
       " <Reaction ACSERT at 0x21cb2c0bf88>,\n",
       " <Reaction ASPSALY at 0x21cb2c0e908>,\n",
       " <Reaction AH6PISO at 0x21cb2c0ba88>]"
      ]
     },
     "execution_count": 20,
     "metadata": {},
     "output_type": "execute_result"
    }
   ],
   "source": [
    "metabolic_rct_viv"
   ]
  },
  {
   "cell_type": "code",
   "execution_count": null,
   "metadata": {},
   "outputs": [],
   "source": []
  },
  {
   "cell_type": "code",
   "execution_count": 22,
   "metadata": {},
   "outputs": [
    {
     "data": {
      "text/plain": [
       "{'SUBSYSTEM': 'X',\n",
       " 'GENE_ASSOCIATION': '( RTMO03624 or RTMO05254 or RTMO04080 or RTMO04824 or RTMO04082 )',\n",
       " 'KEGG ID': 'R00441',\n",
       " 'ENZYME': '2.7.7.6 2.7.7.48',\n",
       " 'NAME': 'GTP:RNA guanylyltransferase (RNA-directed); GTP:RNA guanylyltransferase (DNA-directed);',\n",
       " 'DEFINITION': 'GTP + RNA ⇌ Diphosphate + RNA'}"
      ]
     },
     "execution_count": 22,
     "metadata": {},
     "output_type": "execute_result"
    }
   ],
   "source": [
    "model.reactions.GTPT.notes"
   ]
  },
  {
   "cell_type": "code",
   "execution_count": null,
   "metadata": {},
   "outputs": [],
   "source": [
    "model.metabolites"
   ]
  }
 ],
 "metadata": {
  "kernelspec": {
   "display_name": "Python 3",
   "language": "python",
   "name": "python3"
  },
  "language_info": {
   "codemirror_mode": {
    "name": "ipython",
    "version": 3
   },
   "file_extension": ".py",
   "mimetype": "text/x-python",
   "name": "python",
   "nbconvert_exporter": "python",
   "pygments_lexer": "ipython3",
   "version": "3.7.4"
  }
 },
 "nbformat": 4,
 "nbformat_minor": 2
}
