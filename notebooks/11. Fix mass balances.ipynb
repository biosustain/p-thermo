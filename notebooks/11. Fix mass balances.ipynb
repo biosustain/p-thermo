{
 "cells": [
  {
   "cell_type": "markdown",
   "metadata": {},
   "source": [
    "# Introduction\n",
    "Memote reports quite an extensive list of unbalances reactions. Martyn and I have split the list and will look into them by hand to resolve these issues as much as possible.\n",
    "\n",
    "Here I have 'attached' the file of the total list, and included the split for me and martyn. "
   ]
  },
  {
   "cell_type": "code",
   "execution_count": 1,
   "metadata": {},
   "outputs": [
    {
     "data": {
      "application/javascript": [
       "\n",
       "(function(root) {\n",
       "  function now() {\n",
       "    return new Date();\n",
       "  }\n",
       "\n",
       "  var force = true;\n",
       "\n",
       "  if (typeof root._bokeh_onload_callbacks === \"undefined\" || force === true) {\n",
       "    root._bokeh_onload_callbacks = [];\n",
       "    root._bokeh_is_loading = undefined;\n",
       "  }\n",
       "\n",
       "  var JS_MIME_TYPE = 'application/javascript';\n",
       "  var HTML_MIME_TYPE = 'text/html';\n",
       "  var EXEC_MIME_TYPE = 'application/vnd.bokehjs_exec.v0+json';\n",
       "  var CLASS_NAME = 'output_bokeh rendered_html';\n",
       "\n",
       "  /**\n",
       "   * Render data to the DOM node\n",
       "   */\n",
       "  function render(props, node) {\n",
       "    var script = document.createElement(\"script\");\n",
       "    node.appendChild(script);\n",
       "  }\n",
       "\n",
       "  /**\n",
       "   * Handle when an output is cleared or removed\n",
       "   */\n",
       "  function handleClearOutput(event, handle) {\n",
       "    var cell = handle.cell;\n",
       "\n",
       "    var id = cell.output_area._bokeh_element_id;\n",
       "    var server_id = cell.output_area._bokeh_server_id;\n",
       "    // Clean up Bokeh references\n",
       "    if (id != null && id in Bokeh.index) {\n",
       "      Bokeh.index[id].model.document.clear();\n",
       "      delete Bokeh.index[id];\n",
       "    }\n",
       "\n",
       "    if (server_id !== undefined) {\n",
       "      // Clean up Bokeh references\n",
       "      var cmd = \"from bokeh.io.state import curstate; print(curstate().uuid_to_server['\" + server_id + \"'].get_sessions()[0].document.roots[0]._id)\";\n",
       "      cell.notebook.kernel.execute(cmd, {\n",
       "        iopub: {\n",
       "          output: function(msg) {\n",
       "            var id = msg.content.text.trim();\n",
       "            if (id in Bokeh.index) {\n",
       "              Bokeh.index[id].model.document.clear();\n",
       "              delete Bokeh.index[id];\n",
       "            }\n",
       "          }\n",
       "        }\n",
       "      });\n",
       "      // Destroy server and session\n",
       "      var cmd = \"import bokeh.io.notebook as ion; ion.destroy_server('\" + server_id + \"')\";\n",
       "      cell.notebook.kernel.execute(cmd);\n",
       "    }\n",
       "  }\n",
       "\n",
       "  /**\n",
       "   * Handle when a new output is added\n",
       "   */\n",
       "  function handleAddOutput(event, handle) {\n",
       "    var output_area = handle.output_area;\n",
       "    var output = handle.output;\n",
       "\n",
       "    // limit handleAddOutput to display_data with EXEC_MIME_TYPE content only\n",
       "    if ((output.output_type != \"display_data\") || (!output.data.hasOwnProperty(EXEC_MIME_TYPE))) {\n",
       "      return\n",
       "    }\n",
       "\n",
       "    var toinsert = output_area.element.find(\".\" + CLASS_NAME.split(' ')[0]);\n",
       "\n",
       "    if (output.metadata[EXEC_MIME_TYPE][\"id\"] !== undefined) {\n",
       "      toinsert[toinsert.length - 1].firstChild.textContent = output.data[JS_MIME_TYPE];\n",
       "      // store reference to embed id on output_area\n",
       "      output_area._bokeh_element_id = output.metadata[EXEC_MIME_TYPE][\"id\"];\n",
       "    }\n",
       "    if (output.metadata[EXEC_MIME_TYPE][\"server_id\"] !== undefined) {\n",
       "      var bk_div = document.createElement(\"div\");\n",
       "      bk_div.innerHTML = output.data[HTML_MIME_TYPE];\n",
       "      var script_attrs = bk_div.children[0].attributes;\n",
       "      for (var i = 0; i < script_attrs.length; i++) {\n",
       "        toinsert[toinsert.length - 1].firstChild.setAttribute(script_attrs[i].name, script_attrs[i].value);\n",
       "      }\n",
       "      // store reference to server id on output_area\n",
       "      output_area._bokeh_server_id = output.metadata[EXEC_MIME_TYPE][\"server_id\"];\n",
       "    }\n",
       "  }\n",
       "\n",
       "  function register_renderer(events, OutputArea) {\n",
       "\n",
       "    function append_mime(data, metadata, element) {\n",
       "      // create a DOM node to render to\n",
       "      var toinsert = this.create_output_subarea(\n",
       "        metadata,\n",
       "        CLASS_NAME,\n",
       "        EXEC_MIME_TYPE\n",
       "      );\n",
       "      this.keyboard_manager.register_events(toinsert);\n",
       "      // Render to node\n",
       "      var props = {data: data, metadata: metadata[EXEC_MIME_TYPE]};\n",
       "      render(props, toinsert[toinsert.length - 1]);\n",
       "      element.append(toinsert);\n",
       "      return toinsert\n",
       "    }\n",
       "\n",
       "    /* Handle when an output is cleared or removed */\n",
       "    events.on('clear_output.CodeCell', handleClearOutput);\n",
       "    events.on('delete.Cell', handleClearOutput);\n",
       "\n",
       "    /* Handle when a new output is added */\n",
       "    events.on('output_added.OutputArea', handleAddOutput);\n",
       "\n",
       "    /**\n",
       "     * Register the mime type and append_mime function with output_area\n",
       "     */\n",
       "    OutputArea.prototype.register_mime_type(EXEC_MIME_TYPE, append_mime, {\n",
       "      /* Is output safe? */\n",
       "      safe: true,\n",
       "      /* Index of renderer in `output_area.display_order` */\n",
       "      index: 0\n",
       "    });\n",
       "  }\n",
       "\n",
       "  // register the mime type if in Jupyter Notebook environment and previously unregistered\n",
       "  if (root.Jupyter !== undefined) {\n",
       "    var events = require('base/js/events');\n",
       "    var OutputArea = require('notebook/js/outputarea').OutputArea;\n",
       "\n",
       "    if (OutputArea.prototype.mime_types().indexOf(EXEC_MIME_TYPE) == -1) {\n",
       "      register_renderer(events, OutputArea);\n",
       "    }\n",
       "  }\n",
       "\n",
       "  \n",
       "  if (typeof (root._bokeh_timeout) === \"undefined\" || force === true) {\n",
       "    root._bokeh_timeout = Date.now() + 5000;\n",
       "    root._bokeh_failed_load = false;\n",
       "  }\n",
       "\n",
       "  var NB_LOAD_WARNING = {'data': {'text/html':\n",
       "     \"<div style='background-color: #fdd'>\\n\"+\n",
       "     \"<p>\\n\"+\n",
       "     \"BokehJS does not appear to have successfully loaded. If loading BokehJS from CDN, this \\n\"+\n",
       "     \"may be due to a slow or bad network connection. Possible fixes:\\n\"+\n",
       "     \"</p>\\n\"+\n",
       "     \"<ul>\\n\"+\n",
       "     \"<li>re-rerun `output_notebook()` to attempt to load from CDN again, or</li>\\n\"+\n",
       "     \"<li>use INLINE resources instead, as so:</li>\\n\"+\n",
       "     \"</ul>\\n\"+\n",
       "     \"<code>\\n\"+\n",
       "     \"from bokeh.resources import INLINE\\n\"+\n",
       "     \"output_notebook(resources=INLINE)\\n\"+\n",
       "     \"</code>\\n\"+\n",
       "     \"</div>\"}};\n",
       "\n",
       "  function display_loaded() {\n",
       "    var el = document.getElementById(null);\n",
       "    if (el != null) {\n",
       "      el.textContent = \"BokehJS is loading...\";\n",
       "    }\n",
       "    if (root.Bokeh !== undefined) {\n",
       "      if (el != null) {\n",
       "        el.textContent = \"BokehJS \" + root.Bokeh.version + \" successfully loaded.\";\n",
       "      }\n",
       "    } else if (Date.now() < root._bokeh_timeout) {\n",
       "      setTimeout(display_loaded, 100)\n",
       "    }\n",
       "  }\n",
       "\n",
       "\n",
       "  function run_callbacks() {\n",
       "    try {\n",
       "      root._bokeh_onload_callbacks.forEach(function(callback) {\n",
       "        if (callback != null)\n",
       "          callback();\n",
       "      });\n",
       "    } finally {\n",
       "      delete root._bokeh_onload_callbacks\n",
       "    }\n",
       "    console.debug(\"Bokeh: all callbacks have finished\");\n",
       "  }\n",
       "\n",
       "  function load_libs(css_urls, js_urls, callback) {\n",
       "    if (css_urls == null) css_urls = [];\n",
       "    if (js_urls == null) js_urls = [];\n",
       "\n",
       "    root._bokeh_onload_callbacks.push(callback);\n",
       "    if (root._bokeh_is_loading > 0) {\n",
       "      console.debug(\"Bokeh: BokehJS is being loaded, scheduling callback at\", now());\n",
       "      return null;\n",
       "    }\n",
       "    if (js_urls == null || js_urls.length === 0) {\n",
       "      run_callbacks();\n",
       "      return null;\n",
       "    }\n",
       "    console.debug(\"Bokeh: BokehJS not loaded, scheduling load and callback at\", now());\n",
       "    root._bokeh_is_loading = css_urls.length + js_urls.length;\n",
       "\n",
       "    function on_load() {\n",
       "      root._bokeh_is_loading--;\n",
       "      if (root._bokeh_is_loading === 0) {\n",
       "        console.debug(\"Bokeh: all BokehJS libraries/stylesheets loaded\");\n",
       "        run_callbacks()\n",
       "      }\n",
       "    }\n",
       "\n",
       "    function on_error() {\n",
       "      console.error(\"failed to load \" + url);\n",
       "    }\n",
       "\n",
       "    for (var i = 0; i < css_urls.length; i++) {\n",
       "      var url = css_urls[i];\n",
       "      const element = document.createElement(\"link\");\n",
       "      element.onload = on_load;\n",
       "      element.onerror = on_error;\n",
       "      element.rel = \"stylesheet\";\n",
       "      element.type = \"text/css\";\n",
       "      element.href = url;\n",
       "      console.debug(\"Bokeh: injecting link tag for BokehJS stylesheet: \", url);\n",
       "      document.body.appendChild(element);\n",
       "    }\n",
       "\n",
       "    for (var i = 0; i < js_urls.length; i++) {\n",
       "      var url = js_urls[i];\n",
       "      var element = document.createElement('script');\n",
       "      element.onload = on_load;\n",
       "      element.onerror = on_error;\n",
       "      element.async = false;\n",
       "      element.src = url;\n",
       "      console.debug(\"Bokeh: injecting script tag for BokehJS library: \", url);\n",
       "      document.head.appendChild(element);\n",
       "    }\n",
       "  };\n",
       "\n",
       "  function inject_raw_css(css) {\n",
       "    const element = document.createElement(\"style\");\n",
       "    element.appendChild(document.createTextNode(css));\n",
       "    document.body.appendChild(element);\n",
       "  }\n",
       "\n",
       "  var js_urls = [\"https://cdn.pydata.org/bokeh/release/bokeh-1.3.4.min.js\", \"https://cdn.pydata.org/bokeh/release/bokeh-widgets-1.3.4.min.js\", \"https://cdn.pydata.org/bokeh/release/bokeh-tables-1.3.4.min.js\", \"https://cdn.pydata.org/bokeh/release/bokeh-gl-1.3.4.min.js\"];\n",
       "  var css_urls = [];\n",
       "\n",
       "  var inline_js = [\n",
       "    function(Bokeh) {\n",
       "      Bokeh.set_log_level(\"info\");\n",
       "    },\n",
       "    \n",
       "    function(Bokeh) {\n",
       "      \n",
       "    },\n",
       "    function(Bokeh) {} // ensure no trailing comma for IE\n",
       "  ];\n",
       "\n",
       "  function run_inline_js() {\n",
       "    \n",
       "    if ((root.Bokeh !== undefined) || (force === true)) {\n",
       "      for (var i = 0; i < inline_js.length; i++) {\n",
       "        inline_js[i].call(root, root.Bokeh);\n",
       "      }} else if (Date.now() < root._bokeh_timeout) {\n",
       "      setTimeout(run_inline_js, 100);\n",
       "    } else if (!root._bokeh_failed_load) {\n",
       "      console.log(\"Bokeh: BokehJS failed to load within specified timeout.\");\n",
       "      root._bokeh_failed_load = true;\n",
       "    } else if (force !== true) {\n",
       "      var cell = $(document.getElementById(null)).parents('.cell').data().cell;\n",
       "      cell.output_area.append_execute_result(NB_LOAD_WARNING)\n",
       "    }\n",
       "\n",
       "  }\n",
       "\n",
       "  if (root._bokeh_is_loading === 0) {\n",
       "    console.debug(\"Bokeh: BokehJS loaded, going straight to plotting\");\n",
       "    run_inline_js();\n",
       "  } else {\n",
       "    load_libs(css_urls, js_urls, function() {\n",
       "      console.debug(\"Bokeh: BokehJS plotting callback run at\", now());\n",
       "      run_inline_js();\n",
       "    });\n",
       "  }\n",
       "}(window));"
      ],
      "application/vnd.bokehjs_load.v0+json": "\n(function(root) {\n  function now() {\n    return new Date();\n  }\n\n  var force = true;\n\n  if (typeof root._bokeh_onload_callbacks === \"undefined\" || force === true) {\n    root._bokeh_onload_callbacks = [];\n    root._bokeh_is_loading = undefined;\n  }\n\n  \n\n  \n  if (typeof (root._bokeh_timeout) === \"undefined\" || force === true) {\n    root._bokeh_timeout = Date.now() + 5000;\n    root._bokeh_failed_load = false;\n  }\n\n  var NB_LOAD_WARNING = {'data': {'text/html':\n     \"<div style='background-color: #fdd'>\\n\"+\n     \"<p>\\n\"+\n     \"BokehJS does not appear to have successfully loaded. If loading BokehJS from CDN, this \\n\"+\n     \"may be due to a slow or bad network connection. Possible fixes:\\n\"+\n     \"</p>\\n\"+\n     \"<ul>\\n\"+\n     \"<li>re-rerun `output_notebook()` to attempt to load from CDN again, or</li>\\n\"+\n     \"<li>use INLINE resources instead, as so:</li>\\n\"+\n     \"</ul>\\n\"+\n     \"<code>\\n\"+\n     \"from bokeh.resources import INLINE\\n\"+\n     \"output_notebook(resources=INLINE)\\n\"+\n     \"</code>\\n\"+\n     \"</div>\"}};\n\n  function display_loaded() {\n    var el = document.getElementById(null);\n    if (el != null) {\n      el.textContent = \"BokehJS is loading...\";\n    }\n    if (root.Bokeh !== undefined) {\n      if (el != null) {\n        el.textContent = \"BokehJS \" + root.Bokeh.version + \" successfully loaded.\";\n      }\n    } else if (Date.now() < root._bokeh_timeout) {\n      setTimeout(display_loaded, 100)\n    }\n  }\n\n\n  function run_callbacks() {\n    try {\n      root._bokeh_onload_callbacks.forEach(function(callback) {\n        if (callback != null)\n          callback();\n      });\n    } finally {\n      delete root._bokeh_onload_callbacks\n    }\n    console.debug(\"Bokeh: all callbacks have finished\");\n  }\n\n  function load_libs(css_urls, js_urls, callback) {\n    if (css_urls == null) css_urls = [];\n    if (js_urls == null) js_urls = [];\n\n    root._bokeh_onload_callbacks.push(callback);\n    if (root._bokeh_is_loading > 0) {\n      console.debug(\"Bokeh: BokehJS is being loaded, scheduling callback at\", now());\n      return null;\n    }\n    if (js_urls == null || js_urls.length === 0) {\n      run_callbacks();\n      return null;\n    }\n    console.debug(\"Bokeh: BokehJS not loaded, scheduling load and callback at\", now());\n    root._bokeh_is_loading = css_urls.length + js_urls.length;\n\n    function on_load() {\n      root._bokeh_is_loading--;\n      if (root._bokeh_is_loading === 0) {\n        console.debug(\"Bokeh: all BokehJS libraries/stylesheets loaded\");\n        run_callbacks()\n      }\n    }\n\n    function on_error() {\n      console.error(\"failed to load \" + url);\n    }\n\n    for (var i = 0; i < css_urls.length; i++) {\n      var url = css_urls[i];\n      const element = document.createElement(\"link\");\n      element.onload = on_load;\n      element.onerror = on_error;\n      element.rel = \"stylesheet\";\n      element.type = \"text/css\";\n      element.href = url;\n      console.debug(\"Bokeh: injecting link tag for BokehJS stylesheet: \", url);\n      document.body.appendChild(element);\n    }\n\n    for (var i = 0; i < js_urls.length; i++) {\n      var url = js_urls[i];\n      var element = document.createElement('script');\n      element.onload = on_load;\n      element.onerror = on_error;\n      element.async = false;\n      element.src = url;\n      console.debug(\"Bokeh: injecting script tag for BokehJS library: \", url);\n      document.head.appendChild(element);\n    }\n  };\n\n  function inject_raw_css(css) {\n    const element = document.createElement(\"style\");\n    element.appendChild(document.createTextNode(css));\n    document.body.appendChild(element);\n  }\n\n  var js_urls = [\"https://cdn.pydata.org/bokeh/release/bokeh-1.3.4.min.js\", \"https://cdn.pydata.org/bokeh/release/bokeh-widgets-1.3.4.min.js\", \"https://cdn.pydata.org/bokeh/release/bokeh-tables-1.3.4.min.js\", \"https://cdn.pydata.org/bokeh/release/bokeh-gl-1.3.4.min.js\"];\n  var css_urls = [];\n\n  var inline_js = [\n    function(Bokeh) {\n      Bokeh.set_log_level(\"info\");\n    },\n    \n    function(Bokeh) {\n      \n    },\n    function(Bokeh) {} // ensure no trailing comma for IE\n  ];\n\n  function run_inline_js() {\n    \n    if ((root.Bokeh !== undefined) || (force === true)) {\n      for (var i = 0; i < inline_js.length; i++) {\n        inline_js[i].call(root, root.Bokeh);\n      }} else if (Date.now() < root._bokeh_timeout) {\n      setTimeout(run_inline_js, 100);\n    } else if (!root._bokeh_failed_load) {\n      console.log(\"Bokeh: BokehJS failed to load within specified timeout.\");\n      root._bokeh_failed_load = true;\n    } else if (force !== true) {\n      var cell = $(document.getElementById(null)).parents('.cell').data().cell;\n      cell.output_area.append_execute_result(NB_LOAD_WARNING)\n    }\n\n  }\n\n  if (root._bokeh_is_loading === 0) {\n    console.debug(\"Bokeh: BokehJS loaded, going straight to plotting\");\n    run_inline_js();\n  } else {\n    load_libs(css_urls, js_urls, function() {\n      console.debug(\"Bokeh: BokehJS plotting callback run at\", now());\n      run_inline_js();\n    });\n  }\n}(window));"
     },
     "metadata": {},
     "output_type": "display_data"
    }
   ],
   "source": [
    "import cameo\n",
    "import pandas as pd\n",
    "import cobra.io\n",
    "import escher"
   ]
  },
  {
   "cell_type": "code",
   "execution_count": 2,
   "metadata": {},
   "outputs": [],
   "source": [
    "model = cobra.io.read_sbml_model('../model/g-thermo.xml')"
   ]
  },
  {
   "cell_type": "code",
   "execution_count": 3,
   "metadata": {},
   "outputs": [
    {
     "data": {
      "text/plain": [
       "570"
      ]
     },
     "execution_count": 3,
     "metadata": {},
     "output_type": "execute_result"
    }
   ],
   "source": [
    "unbalanced_rct =[\"23DK5MPPISO\",\"T_cbl1_e\",\"LARGNHYDRO\",\"ADCL\",\"OCBT\",\"PUNP2\",\"PGK\",\"T_trnaglu_e\",\"PYRACTT\",\"MTRI\",\"R_r0082\",\"PBUTT\",\"T_gdpmann_e\",\"DTPCUNPPT\",\"OMCDC\",\"ABUTD\",\"DHQS\",\"T_udpgalur_e\",\"INO1PPHYDRO\",\"T_adgppuc_e\",\"MDRPD\",\"OXGDC\",\"T_pydx5p_e\",\"KARI_23dhmb\",\"NTD3\",\"T_man_e\",\"T_qh2_3\",\"HBCOAOR\",\"IDPh\",\"ACENLAT\",\"T_trp__L_e\",\"HISOR\",\"DHAD1\",\"T_cyan_e\",\"MHTPPT\",\"T_ile__L_e\",\"T_cmp_e\",\"T_adprib_e\",\"SUCRGT\",\"ACM6PH\",\"OCTACPOR\",\"MOD_3mop\",\"ACGK\",\"T_dhgly_e\",\"ALDD2x\",\"AIZCLY\",\"R_UDPGD\",\"T_pyridoxal_e\",\"T_uri_e\",\"T_phe__L_e\",\"T_ump_e\",\"OCTACPAT\",\"MHOBT\",\"R_SSALx\",\"T_chlac_e\",\"2OH3K5MPPISO\",\"T_abmaagapc_e\",\"EN6LYOR\",\"R_SSALy\",\"ALASm\",\"T_rib__D_e\",\"T_din_e\",\"ENCOAT\",\"NNAM\",\"3OAR100\",\"T_mercplac_e\",\"AMBALY\",\"T_octdecacp_e\",\"T_damp_e\",\"MMM2\",\"ACDO\",\"QUINOR\",\"OPALMACPOR\",\"T_hepdp_e\",\"HDEACPT\",\"DATPT\",\"PUNP1\",\"OAADC\",\"T_gmagg_e\",\"3OAR40_1\",\"ADOCBIP\",\"PTAr\",\"HMBS\",\"XU5PGT\",\"T_but_e\",\"T_gal_e\",\"MALS\",\"ACS\",\"4ABUTD\",\"ATPPT\",\"DHFS\",\"DURIPP\",\"T_co2_e\",\"R_SERD_L\",\"DGTPT\",\"S7PTRANSPP\",\"3HAD40_1\",\"DHORTS\",\"T_betaine_e\",\"URAHL\",\"T_amet_e\",\"T_drib_e\",\"GLNAMHYDRO\",\"T_ps_cho_e\",\"PENTOHYDROARA\",\"PCPPTh\",\"HMSD\",\"R_SELCYSTL\",\"UAAAGGLAAP\",\"T_val__L_e\",\"T_M_10fthf_e\",\"IVCOAR\",\"DHBS\",\"ASAD\",\"T_slnt_e\",\"T_catechol_e\",\"QH2NOR\",\"R_r0068\",\"GCCa\",\"ACMUMPT\",\"PDHam1hi\",\"PHSERT\",\"F1PPT\",\"L23DHDPICOLY\",\"MME\",\"GMPS2\",\"T_accoa_e\",\"ILEOR\",\"PSP\",\"T_phe__D_e\",\"T_his__L_e\",\"ATPNAT\",\"T_etoh_e\",\"GLCDPT\",\"TREPT\",\"ACHMSSELCYSL\",\"NTD5\",\"T_pheme_e\",\"PHEOR\",\"T_gln__D_e\",\"G6PI_1\",\"R_SUCHMSSELCYSL\",\"FTHFLIG\",\"MMSAD1\",\"NTD6\",\"BCFASYN3\",\"IPPS\",\"CHLACOR\",\"AGGPR\",\"T_met__L_e\",\"NTD11\",\"R_UPP1S\",\"PRPAT\",\"MALTPT\",\"CCP\",\"T_a4oxopent_e\",\"T_adn_e\",\"APLh\",\"AMYTRANS\",\"ACBIPGT\",\"GMP5N\",\"G5DHx\",\"STARCHGT\",\"T_fe2_e\",\"T_lac__L_e\",\"T_M_C04051_e\",\"ACAS_2ahbut\",\"FICYTCCNOR\",\"T_prpncoa_e\",\"HC01435R\",\"NO2R\",\"T_amp_e\",\"T_bcfa_e\",\"R_UACMAMO\",\"ADOCBLS\",\"AMETDMMQ\",\"T_oh1_e\",\"ABFPT\",\"COOR\",\"T_csn_e\",\"HMCNSADLY\",\"ARGDC\",\"HGBYR\",\"PUNP3\",\"MANPT\",\"T_uamagdgll_e\",\"MENAOR\",\"G6PI2\",\"PPAPPT\",\"T_M_3hmbcoa_e\",\"T_gmp_e\",\"R_TDP\",\"MAN1PT\",\"QH2OR\",\"T_thmtp_e\",\"NT5C\",\"GAMPT\",\"PRPNTEAT\",\"ACDAH\",\"T_dmbzid_e\",\"T_o2_e\",\"PC20M\",\"R_TALA\",\"UAAAGGLAAT\",\"T_mesel_e\",\"PUNP6\",\"T_fum_e\",\"GLU5K\",\"GDH_nadp\",\"T_chor_e\",\"T_nadph_e\",\"R_TKT2\",\"CELLOHYDRO\",\"T_sprm_e\",\"DECOT\",\"XYLANHYDRO\",\"R_UAGCVT\",\"DECACPOR\",\"T_nadp_e\",\"R_SHSL4h\",\"SELMELY\",\"DECACPAT\",\"T_arg__L_e\",\"GAM\",\"DECDPPP\",\"GDH\",\"T_M_2hymeph_e\",\"ADCPS2\",\"2HBO\",\"T_malcoa_e\",\"T_mmal_e\",\"PUTA3\",\"T_hpglu_e\",\"R_SBP\",\"AUS\",\"DHNAOCTD\",\"ACGS\",\"T_decanoylacp_e\",\"T_fol_e\",\"T_dhptd_e\",\"R_THRPD\",\"SELMELIG\",\"FBAf\",\"UAGUDPGPTRANS\",\"AAGAMPT\",\"R_TMDPPK\",\"DALAOX\",\"T_cpppg1_e\",\"GAPD\",\"R05219\",\"MERCPPYRST\",\"COCHL\",\"T_appl_e\",\"NTD8\",\"GAPDH_nadp_hi\",\"T_thrp_e\",\"ACKr\",\"PUNP4\",\"SCUGLUTRA\",\"XYLHYDRO\",\"PC6YM\",\"HEX7\",\"RAFFINHYDRO\",\"R_VALDHr\",\"R_r0097\",\"GTPCI\",\"LARGNOR\",\"T_cobalt2_e\",\"G5SADrm\",\"R_UPPDC1\",\"NNDPR\",\"GLYALDDr\",\"T_nh4_e\",\"NTD10\",\"MOD\",\"T_lac__D_e\",\"KAS14\",\"FDPPH\",\"AHSL\",\"MMTSAOR\",\"MHOPT\",\"G6PDA\",\"LLEUDr\",\"GDTP\",\"T_for_e\",\"MOD_4mop\",\"T_glc__D_e\",\"T_succ_e\",\"MMALLIG\",\"H202OR\",\"T_acmum_e\",\"ALAALALIG\",\"NP1\",\"R_r0775\",\"PFKh\",\"HACD6\",\"DLDLBT\",\"PYNP1\",\"FPRAMLIG\",\"BFBP\",\"AKP1\",\"CYANST\",\"KARI_23dhmp\",\"SAM\",\"R_r0708\",\"T_ser__L_e\",\"R_SELCYSTGL\",\"FGAMALIG\",\"PUNP7\",\"ICDHhr\",\"PENTOHYDROXYL\",\"KARI\",\"T_selmethtrna_e\",\"PRPUT\",\"ALAALAr\",\"THPPGLIG\",\"IG3PS\",\"T_dgmp_e\",\"PRPGT\",\"CTPS1\",\"AMETTRANS\",\"T_dlglu_c\",\"QULNS\",\"T_mthpglu_e\",\"ACLS\",\"ACCOAC\",\"ASNN\",\"ACSERL\",\"PRPCT\",\"FPGFTh\",\"STACHY\",\"METGL\",\"HOPNTAL\",\"T_M_5fthf_e\",\"T_tcynt_e\",\"CYSAT\",\"ADSL2r\",\"T_dcmp_e\",\"ASP1DC\",\"CTPS2\",\"CHORS\",\"NODOx\",\"AHCYSMETTRANS\",\"T_ftethplg_e\",\"GTPT\",\"CBPS\",\"TRE6PHYDRO\",\"T_cbi_e\",\"T_hqn_e\",\"NODOy\",\"CTPT\",\"FGFTh\",\"T_dtmp_e\",\"MALACPAT\",\"SBZCOAHYDRO\",\"ACYSAT\",\"STACHY2\",\"CYSTGL\",\"T_glyc_e\",\"R_r0163\",\"SALCNPT\",\"MMACPAT\",\"GLYOR\",\"CYSTT\",\"T_tre_e\",\"NAMNPP\",\"FOMETRi\",\"T_ura_e\",\"GLUKA\",\"R_SHSL1\",\"HDH\",\"HCYSMT\",\"T_ala__L_e\",\"STARCHHY\",\"ALKP\",\"PPCDC\",\"FTCL\",\"T_dodecacp_e\",\"CYSDS\",\"PPND\",\"CDPDAGPT\",\"T_dad_2_e\",\"T_M_3omrsACP_e\",\"PYRPT\",\"T_asp__L_e\",\"AHSERL\",\"NMNHYD\",\"T_but2eACP_e\",\"GLYO1\",\"GLYOX\",\"NANEURATRANS\",\"FOCYTCCOR\",\"ADSS\",\"ACPh\",\"DHAD2\",\"ACHBS\",\"T_thf_e\",\"PPCOAOm\",\"HEXACPOR\",\"CYSTHI\",\"KARI_3hmoa\",\"COQOR\",\"HEXACPAT\",\"FDH\",\"R_UGE\",\"BCFASYN\",\"T_dtpcudcpp_e\",\"GND\",\"PPBNGS\",\"ARBTPT\",\"MECDPOR\",\"CBL\",\"PRPNTELIG\",\"PPCOAC\",\"T_glc6P_e\",\"M1PD\",\"2AMACHYD\",\"AHHST\",\"T_gam_e\",\"MNLPT\",\"IPDPCT\",\"R_SHSL2\",\"PAMPT\",\"T_nad_e\",\"PUNP5\",\"PSCIT\",\"DTPCUDCPPR\",\"MAN6PI\",\"T_hxan_e\",\"T_M_5mthf_e\",\"ADPGLCGT\",\"PDH\",\"NNDMBRT\",\"GTPCII2\",\"ASAPT\",\"AMYLOSEGT\",\"FBA3\",\"MGSA\",\"ANS\",\"T_nadh_e\",\"T_dcyt_e\",\"DDPA\",\"PYDXS\",\"R_r0120\",\"ME1\",\"T_gthrd_e\",\"AMETLY\",\"R_TAL\",\"ECOAH4\",\"ASPO1\",\"T_thymd_e\",\"BGLUCH\",\"T_aacoa_e\",\"T_coa_e\",\"PPCK\",\"DCTPT\",\"MSAOR\",\"R_TMPPP\",\"NTD7\",\"APAPTm\",\"T_inost_e\",\"CYSS\",\"UTPT\",\"MALTHYDRO\",\"T_capra_e\",\"ATPM\",\"DXPS\",\"T_mlthf_e\",\"SUCHY\",\"DAPDC\",\"PC\",\"T_RNA_e\",\"T_ac_e\",\"T_gthox_e\",\"SUCHY2\",\"DTTPT\",\"MMSAD3\",\"NTD1\",\"T_succcoa_c\",\"T_hmgcoa_e\",\"FRU1PT\",\"T_hemeO_e\",\"STARCHHY2\",\"T_g3pc_e\",\"CS\",\"NADS1\",\"CELLBHY\",\"T_acetol_e\",\"ALAD_L\",\"SMBCOAOR\",\"PC17M\",\"T_dna_e\",\"MYRACPOR\",\"T_hdeacp_e\",\"AACOAT\",\"GLUTRR\",\"R_SEPHCHCS\",\"PGCM\",\"DTPCUNPTRANS\",\"T_acon_e\",\"T_uacmamu_e\",\"GLUTRS\",\"OMPDC\",\"MBTCOAT\",\"T_thm_e\",\"T_asn__L_e\",\"T_pmtcoa_e\",\"DTPCUNPT\",\"HBCOAH\",\"T_14dhncoa_e\",\"GCCb\",\"FOCYTCNOR\",\"NTP3\",\"R_UAMAS\",\"HEPDPP\",\"T_ribflv_e\",\"T_arbt_e\",\"NTD2\",\"ASPCT\",\"T_mmcoa__S_e\",\"T_gly_e\",\"BCFASYN2\",\"R_UPP3MT\",\"PPGPPDP\",\"SELCYSLY\",\"AKGDH\",\"GALISO\",\"T_menqui_e\",\"T_salcn_e\",\"T_ins_e\",\"PPNDH\",\"PPRGL\",\"ACSERT\",\"NTD4\",\"R_UAMAGS\",\"DB4PS\",\"R_THRS\",\"ACYP_2\",\"HISTP\",\"IGPS\",\"T_h_e\",\"T_glcn__D_e\",\"ASPK\",\"ASPSALY\",\"ADCPS1\",\"ARABINANHY\",\"UAMAGDGLLLIG\",\"R_SUCBZL\",\"BUTACPAT\",\"AH6PISO\",\"SCENLAT\",\"T_so3_e\",\"ASPO6\",\"PC11M\",\"ADOCBLTRANS\",\"PRAISh\",\"ADOCBIK\",\"MYOIPPH\",\"UAMAGLIG\",\"RZ5PP\",\"FTHFD\",\"FTETHLGPT\",\"T_cl_e\",\"ECOAH9ir\",\"AIRC3\",\"ASNS2\",\"PRE3AOR\",\"GHMT\",\"PANOPTRANS\",\"T_nac_e\"]\n",
    "len(unbalanced_rct)"
   ]
  },
  {
   "cell_type": "code",
   "execution_count": 4,
   "metadata": {},
   "outputs": [
    {
     "data": {
      "text/plain": [
       "285"
      ]
     },
     "execution_count": 4,
     "metadata": {},
     "output_type": "execute_result"
    }
   ],
   "source": [
    "martyn_reactions = unbalanced_rct[0:285]\n",
    "len(martyn_reactions)"
   ]
  },
  {
   "cell_type": "code",
   "execution_count": 5,
   "metadata": {},
   "outputs": [],
   "source": [
    "vivienne_reactions = unbalanced_rct[286:569]"
   ]
  },
  {
   "cell_type": "code",
   "execution_count": 6,
   "metadata": {},
   "outputs": [],
   "source": [
    "#make a list of all of Viviennes reactions that exlclude transport\n",
    "metabolic_rct_viv = []\n",
    "for rct in model.reactions:\n",
    "    if rct.id in vivienne_reactions:\n",
    "        if rct.id[-1:] in 't':\n",
    "            continue\n",
    "        else: \n",
    "            metabolic_rct_viv.append(rct)\n",
    "    else: continue"
   ]
  },
  {
   "cell_type": "code",
   "execution_count": 7,
   "metadata": {
    "scrolled": true
   },
   "outputs": [
    {
     "data": {
      "text/plain": [
       "190"
      ]
     },
     "execution_count": 7,
     "metadata": {},
     "output_type": "execute_result"
    }
   ],
   "source": [
    "len(metabolic_rct_viv)"
   ]
  },
  {
   "cell_type": "markdown",
   "metadata": {},
   "source": [
    "So there are 190 metabolic reactions that I need to check.\n",
    "\n",
    "I can see from inspecting some of the below reactions that the majority of the imbalance comes from issues with protons. After talking with Ben and Nikolaus Sonnenschein, he mentioned that the best option would be to fix the mass imbalance by leaving the protonation state of each metabolite as it is (at physiological pH) and instead balancing out the reactions by adding protons to the reaction. \n",
    "\n",
    "So to tackle this, I will try to write a script, where for each unbalanced reaction, it will check the balance of hydrogens and correspondingly add H+ to the reaction where needed. If the imbalance comes from something other than the protons, i will store it into a nother list. Later I can run memote and check the two lists again one another to make sure that the reactions are now balanced with hydrogen, and then go further to see what to do with the other reactions.\n"
   ]
  },
  {
   "cell_type": "code",
   "execution_count": 8,
   "metadata": {},
   "outputs": [],
   "source": [
    "#make a list of all unbalanced metabolic reactions\n",
    "metabolic_rct = []\n",
    "for rct in model.reactions:\n",
    "    if rct.id in unbalanced_rct:\n",
    "        if rct.id[-1:] in 't':\n",
    "            continue\n",
    "        else: \n",
    "            metabolic_rct.append(rct)\n",
    "    else: continue"
   ]
  },
  {
   "cell_type": "code",
   "execution_count": 9,
   "metadata": {},
   "outputs": [
    {
     "data": {
      "text/plain": [
       "364"
      ]
     },
     "execution_count": 9,
     "metadata": {},
     "output_type": "execute_result"
    }
   ],
   "source": [
    "len(metabolic_rct)"
   ]
  },
  {
   "cell_type": "code",
   "execution_count": 11,
   "metadata": {},
   "outputs": [
    {
     "name": "stderr",
     "output_type": "stream",
     "text": [
      "C:\\Users\\vivmol\\AppData\\Local\\Continuum\\anaconda3\\envs\\g-thermo\\lib\\site-packages\\cobra\\core\\metabolite.py:89: UserWarning:\n",
      "\n",
      "invalid formula (has parenthesis) in 'C10H18O13P2R2(C5H8O6PR)n'\n",
      "\n",
      "C:\\Users\\vivmol\\AppData\\Local\\Continuum\\anaconda3\\envs\\g-thermo\\lib\\site-packages\\cobra\\core\\metabolite.py:89: UserWarning:\n",
      "\n",
      "invalid formula (has parenthesis) in '(C12H20O10)n'\n",
      "\n",
      "C:\\Users\\vivmol\\AppData\\Local\\Continuum\\anaconda3\\envs\\g-thermo\\lib\\site-packages\\cobra\\core\\metabolite.py:89: UserWarning:\n",
      "\n",
      "invalid formula (has parenthesis) in 'C14H18O4(C5H8)n'\n",
      "\n",
      "C:\\Users\\vivmol\\AppData\\Local\\Continuum\\anaconda3\\envs\\g-thermo\\lib\\site-packages\\cobra\\core\\metabolite.py:89: UserWarning:\n",
      "\n",
      "invalid formula (has parenthesis) in 'C20H30N6O11PSeR(C5H8O6PR)n'\n",
      "\n",
      "C:\\Users\\vivmol\\AppData\\Local\\Continuum\\anaconda3\\envs\\g-thermo\\lib\\site-packages\\cobra\\core\\metabolite.py:89: UserWarning:\n",
      "\n",
      "invalid formula (has parenthesis) in '(C6H10O5)n'\n",
      "\n"
     ]
    }
   ],
   "source": [
    "#calc Number of each element in the metabolite in this reaction\n",
    "C_unbalanced =[]\n",
    "O_unbalanced =[]\n",
    "N_unbalanced =[]\n",
    "P_unbalanced =[]\n",
    "error_formula = []\n",
    "\n",
    "for rct in metabolic_rct:\n",
    "#make one dictionary that contains the information about the total elements involved in each metabolite of the whole reaction\n",
    "    rct_dict = {}\n",
    "    all_H = []\n",
    "    all_C = []\n",
    "    all_O = []\n",
    "    all_N = []\n",
    "    all_P = []\n",
    "    stoich = {}\n",
    "    for met in rct.metabolites.keys():\n",
    "        met_formula = met.elements\n",
    "        if not met.elements:\n",
    "            error_formula.append(met)\n",
    "        else:\n",
    "            try:\n",
    "                H = met_formula['H']\n",
    "            except KeyError:\n",
    "                H = 0\n",
    "            try:\n",
    "                C = met_formula['C']\n",
    "            except KeyError:\n",
    "                C = 0\n",
    "            try: \n",
    "                O = met_formula['O']\n",
    "            except KeyError:\n",
    "                O = 0\n",
    "            try: \n",
    "                N = met_formula['N']\n",
    "            except KeyError:\n",
    "                N = 0\n",
    "            try: \n",
    "                P = met_formula['P']\n",
    "            except KeyError:\n",
    "                P = 0\n",
    "            elements = {f\"H_{met.id}\":H,f\"C_{met.id}\":C, f\"O_{met.id}\":O,f\"N_{met.id}\":N,f\"P_{met.id}\":P}\n",
    "            rct_dict.update(elements)\n",
    "#make a dictionary that has the information about the met.id and stoichiometry\n",
    "        for met in rct.metabolites.keys():\n",
    "            stoichiometry = rct.metabolites.get(met)\n",
    "            stoich[met.id]=stoichiometry\n",
    "        #make a calculation for the final balance of hydrogen for example:\n",
    "    for key in rct_dict:\n",
    "        id_key = stoich[key[2:]]\n",
    "        el = key[:2]\n",
    "        if el in 'H_':\n",
    "            num_H = rct_dict.get(key)\n",
    "            totH_key = num_H * id_key\n",
    "            all_H.append(totH_key)\n",
    "        elif el in 'C_':\n",
    "            num_C = rct_dict.get(key)\n",
    "            totC_key = num_C * id_key\n",
    "            all_C.append(totC_key)\n",
    "        elif el in 'O_':\n",
    "            num_O = rct_dict.get(key)\n",
    "            totO_key = num_O * id_key\n",
    "            all_O.append(totO_key)\n",
    "        elif el in 'N_':\n",
    "            num_N = rct_dict.get(key) \n",
    "            totN_key = num_N * id_key\n",
    "            all_N.append(totN_key)\n",
    "        elif el in 'P_':\n",
    "            num_P = rct_dict.get(key)\n",
    "            totP_key = num_P * id_key\n",
    "            all_P.append(totP_key)\n",
    "        else: \n",
    "            continue\n",
    "#add the number of that element to the list, and sum all parts of the list. this sum should equal 0 or it is unbalanced\n",
    "    balance_H = sum(all_H) \n",
    "    balance_C = sum(all_C)\n",
    "    balance_O = sum(all_O)\n",
    "    balance_N = sum(all_N)\n",
    "    balance_P = sum(all_P)\n",
    "    if balance_H != 0 and balance_C == 0 and balance_O == 0:\n",
    "    #Make a script to balance the reaction with a proton)\n",
    "        add_H = -sum(all_H) #i.e. the stoichiometry of the proton needed to get mass balance\n",
    "        proton = model.metabolites.h_c\n",
    "        rct.add_metabolites({proton:add_H})\n",
    "    if balance_C!= 0:\n",
    "        C_unbalanced.append(rct)\n",
    "    if balance_O != 0:\n",
    "        O_unbalanced.append(rct)\n",
    "    if balance_N != 0:\n",
    "        N_unbalanced.append(rct)\n",
    "    if balance_P != 0:\n",
    "        P_unbalanced.append(rct)\n",
    "   "
   ]
  },
  {
   "cell_type": "code",
   "execution_count": 24,
   "metadata": {
    "scrolled": true
   },
   "outputs": [
    {
     "name": "stdout",
     "output_type": "stream",
     "text": [
      "Number of carbon unbalanced rcts: 71\n",
      "Number of oxygen unbalanced rcts: 89\n",
      "Number of nitrogen unbalanced rcts: 44\n",
      "Number of phosphorous unbalanced rcts: 50\n"
     ]
    }
   ],
   "source": [
    "print('Number of carbon unbalanced rcts:', len(C_unbalanced))\n",
    "print('Number of oxygen unbalanced rcts:', len(O_unbalanced))\n",
    "print('Number of nitrogen unbalanced rcts:', len(N_unbalanced))\n",
    "print('Number of phosphorous unbalanced rcts:', len(P_unbalanced))"
   ]
  },
  {
   "cell_type": "code",
   "execution_count": 30,
   "metadata": {},
   "outputs": [
    {
     "data": {
      "text/plain": [
       "26"
      ]
     },
     "execution_count": 30,
     "metadata": {},
     "output_type": "execute_result"
    }
   ],
   "source": [
    "#Find intersection between all the lists\n",
    "overlay = list(set(C_unbalanced) & set(O_unbalanced) & set(N_unbalanced) & set(P_unbalanced))\n",
    "len(overlay)"
   ]
  },
  {
   "cell_type": "code",
   "execution_count": 53,
   "metadata": {},
   "outputs": [],
   "source": [
    "#above coding made the error_formula list contain duplicate (or more) of reactions, so we need to get rid of these.\n",
    "error_formula_dict = list(dict.fromkeys(error_formula))"
   ]
  },
  {
   "cell_type": "code",
   "execution_count": 54,
   "metadata": {},
   "outputs": [
    {
     "data": {
      "text/plain": [
       "9"
      ]
     },
     "execution_count": 54,
     "metadata": {},
     "output_type": "execute_result"
    }
   ],
   "source": [
    "len(error_formula_dict)"
   ]
  },
  {
   "cell_type": "code",
   "execution_count": 46,
   "metadata": {},
   "outputs": [],
   "source": [
    "#make list of all reactions imbalanced by C, N, O, P or a combination of any\n",
    "total_unbalanced = []\n",
    "for rct in model.reactions:\n",
    "    if rct in C_unbalanced:\n",
    "        total_unbalanced.append(rct)\n",
    "    if rct in O_unbalanced:\n",
    "        if rct in total_unbalanced:\n",
    "            continue\n",
    "        else:\n",
    "            total_unbalanced.append(rct)\n",
    "    if rct in N_unbalanced and not total_unbalanced:\n",
    "        if rct in total_unbalanced:\n",
    "            continue\n",
    "        else:\n",
    "            total_unbalanced.append(rct)\n",
    "    if rct in P_unbalanced and not total_unbalanced:\n",
    "        if rct in total_unbalanced:\n",
    "            continue\n",
    "        else:\n",
    "            total_unbalanced.append(rct)"
   ]
  },
  {
   "cell_type": "code",
   "execution_count": 48,
   "metadata": {
    "scrolled": true
   },
   "outputs": [
    {
     "data": {
      "text/plain": [
       "93"
      ]
     },
     "execution_count": 48,
     "metadata": {},
     "output_type": "execute_result"
    }
   ],
   "source": [
    "len(total_unbalanced)"
   ]
  },
  {
   "cell_type": "markdown",
   "metadata": {},
   "source": [
    "So there are 26 reactions with all the elements unbalanced (overlay), and 9 metabolites which have an error in the formula (error_formula). These 27 may be the cause for the unbalanced reactions. \n",
    "You could fix these 27 formulas and re-run the code with the left over unbalanced reactions to see if this solves a majority of the problems.\n",
    "\n",
    "Overall, there are 93 reactions left with an inbalance from either one or more of the C, N, O and P elements. These will need to be investigated on a case by case basis.\n",
    "\n"
   ]
  },
  {
   "cell_type": "code",
   "execution_count": 49,
   "metadata": {},
   "outputs": [],
   "source": [
    "#save&commit and check in memote if mass balance really improved\n",
    "cobra.io.write_sbml_model(model, '../model/g-thermo.xml')"
   ]
  },
  {
   "cell_type": "markdown",
   "metadata": {},
   "source": [
    "## Fixing metabolites with erroring formula\n",
    "In the dictionary [error_formula_dict] we've stored metabolites that give an error because they contain some parenthesis. Here I will fix those by hand and then re-run the above code to see if this gets rid of some of the imbalanced reactions we identified above.\n",
    "\n",
    "To tackle the errored formulas, I will just go through them one by one here by hand to modify them, as there are only 9.\n",
    "\n",
    "\n",
    "\n",
    "Once that is done, I can send the list of all imbalanced reactions still left to Martyn so that we can divide the tasks of which need to be done by hand. "
   ]
  },
  {
   "cell_type": "code",
   "execution_count": 102,
   "metadata": {},
   "outputs": [],
   "source": [
    "model = cobra.io.read_sbml_model('../model/g-thermo.xml')"
   ]
  },
  {
   "cell_type": "code",
   "execution_count": 111,
   "metadata": {},
   "outputs": [
    {
     "data": {
      "text/html": [
       "\n",
       "        <table>\n",
       "            <tr>\n",
       "                <td><strong>Metabolite identifier</strong></td><td>gmagg_c</td>\n",
       "            </tr><tr>\n",
       "                <td><strong>Name</strong></td><td>[GlcNAc-(1->4)-Mur2Ac(oyl-L-Ala-gamma-D-Glu-L-L...</td>\n",
       "            </tr><tr>\n",
       "                <td><strong>Memory address</strong></td>\n",
       "                <td>0x01dca85ffdc8</td>\n",
       "            </tr><tr>\n",
       "                <td><strong>Formula</strong></td><td></td>\n",
       "            </tr><tr>\n",
       "                <td><strong>Compartment</strong></td><td>c</td>\n",
       "            </tr><tr>\n",
       "                <td><strong>In 1 reaction(s)</strong></td><td>\n",
       "                    UAAAGGLAAT</td>\n",
       "            </tr>\n",
       "        </table>"
      ],
      "text/plain": [
       "<Metabolite gmagg_c at 0x1dca85ffdc8>"
      ]
     },
     "execution_count": 111,
     "metadata": {},
     "output_type": "execute_result"
    }
   ],
   "source": [
    "model.metabolites.gmagg_c       "
   ]
  },
  {
   "cell_type": "code",
   "execution_count": 112,
   "metadata": {},
   "outputs": [
    {
     "data": {
      "text/plain": [
       "{'CHARGE': '0',\n",
       " 'KEGG': 'C11826',\n",
       " 'NAME': '[GlcNAc-(1⇢4)-Mur2Ac(oyl-L-Ala-g-D-Glu-L-Lys-D-Ala-D-Ala)]n+1-diphosphoundecaprenol; [GlcNAc-(1⇢4)-Mur2Ac(oyl-L-Ala-gamma-D-Glu-L-Lys-D-Ala-D-Ala)]n-diphosphoundecaprenol; [GlcNAc-(1⇢4)-Mur2Ac(oyl-L-Ala-g-D-Glu-L-Lys-D-Ala-D-Ala)]n-diphosphoundecaprenol; [GlcNAc-(1⇢4)-Mur2Ac(oyl-L-Ala-gamma-D-Glu-L-Lys-D-Ala-D-Ala)]n+1-diphosphoundecaprenol',\n",
       " 'ChEBI': '37790'}"
      ]
     },
     "execution_count": 112,
     "metadata": {},
     "output_type": "execute_result"
    }
   ],
   "source": [
    "model.metabolites.gmagg_c.notes"
   ]
  },
  {
   "cell_type": "code",
   "execution_count": 105,
   "metadata": {},
   "outputs": [],
   "source": [
    "model.metabolites.RNA_c.formula = 'C15H24O18P3R3'"
   ]
  },
  {
   "cell_type": "code",
   "execution_count": 106,
   "metadata": {},
   "outputs": [],
   "source": [
    "model.metabolites.ubiquin_c.formula = 'C19H26O4R'"
   ]
  },
  {
   "cell_type": "code",
   "execution_count": 107,
   "metadata": {},
   "outputs": [],
   "source": [
    "model.metabolites.edhyl_c.formula = 'C8H16NOS2R'"
   ]
  },
  {
   "cell_type": "code",
   "execution_count": 108,
   "metadata": {},
   "outputs": [],
   "source": [
    "model.metabolites.smbdhlp_c.formula = 'C13H24NO2S2R'"
   ]
  },
  {
   "cell_type": "code",
   "execution_count": 109,
   "metadata": {},
   "outputs": [],
   "source": [
    "model.metabolites.focytB561_c.formula = 'R' \n",
    "#not really ideal, this reaction needs to be checked anyway. will get back to later."
   ]
  },
  {
   "cell_type": "code",
   "execution_count": 110,
   "metadata": {},
   "outputs": [],
   "source": [
    "model.metabolites.selmethtrna_c.formula = 'C25H38N6O17P2SeR2'"
   ]
  },
  {
   "cell_type": "markdown",
   "metadata": {},
   "source": [
    "Note for starch and cellulose it is difficult to properly assign a formula. We will discuss this and come back to fixing them another time. (this is also the case for gmagg_c as it is also a glycan)"
   ]
  },
  {
   "cell_type": "code",
   "execution_count": 100,
   "metadata": {},
   "outputs": [
    {
     "data": {
      "text/html": [
       "\n",
       "        <table>\n",
       "            <tr>\n",
       "                <td><strong>Reaction identifier</strong></td><td>BGLUCH</td>\n",
       "            </tr><tr>\n",
       "                <td><strong>Name</strong></td><td>R06077</td>\n",
       "            </tr><tr>\n",
       "                <td><strong>Memory address</strong></td>\n",
       "                <td>0x01dca6441d48</td>\n",
       "            </tr><tr>\n",
       "                <td><strong>Stoichiometry</strong></td>\n",
       "                <td>\n",
       "                    <p style='text-align:right'>11.0 cellulose_c + oh1_c --> glc__bD_c</p>\n",
       "                    <p style='text-align:right'>11.0 cellulose + Water --> beta-D-Glucose_C6H12O6</p>\n",
       "                </td>\n",
       "            </tr><tr>\n",
       "                <td><strong>GPR</strong></td><td>RTMO01764</td>\n",
       "            </tr><tr>\n",
       "                <td><strong>Lower bound</strong></td><td>0.0</td>\n",
       "            </tr><tr>\n",
       "                <td><strong>Upper bound</strong></td><td>20.0</td>\n",
       "            </tr>\n",
       "        </table>\n",
       "        "
      ],
      "text/plain": [
       "<Reaction BGLUCH at 0x1dca6441d48>"
      ]
     },
     "execution_count": 100,
     "metadata": {},
     "output_type": "execute_result"
    }
   ],
   "source": [
    "model.reactions.BGLUCH"
   ]
  },
  {
   "cell_type": "code",
   "execution_count": 57,
   "metadata": {},
   "outputs": [
    {
     "data": {
      "text/plain": [
       "[<Metabolite RNA_c at 0x1dca0a1c488>,\n",
       " <Metabolite starch_c at 0x1dca39d6088>,\n",
       " <Metabolite ubiquin_c at 0x1dca39c0288>,\n",
       " <Metabolite edhyl_c at 0x1dca0a1c108>,\n",
       " <Metabolite smbdhlp_c at 0x1dca0a16748>,\n",
       " <Metabolite focytB561_c at 0x1dca39dc1c8>,\n",
       " <Metabolite selmethtrna_c at 0x1dca0a16588>,\n",
       " <Metabolite cellulose_c at 0x1dca39bd388>,\n",
       " <Metabolite gmagg_c at 0x1dca39ec088>]"
      ]
     },
     "execution_count": 57,
     "metadata": {},
     "output_type": "execute_result"
    }
   ],
   "source": [
    "error_formula_dict"
   ]
  },
  {
   "cell_type": "code",
   "execution_count": null,
   "metadata": {},
   "outputs": [],
   "source": []
  },
  {
   "cell_type": "code",
   "execution_count": 119,
   "metadata": {},
   "outputs": [
    {
     "name": "stderr",
     "output_type": "stream",
     "text": [
      "C:\\Users\\vivmol\\AppData\\Local\\Continuum\\anaconda3\\envs\\g-thermo\\lib\\site-packages\\cobra\\core\\metabolite.py:89: UserWarning:\n",
      "\n",
      "invalid formula (has parenthesis) in 'C10H18O13P2R2(C5H8O6PR)n'\n",
      "\n",
      "C:\\Users\\vivmol\\AppData\\Local\\Continuum\\anaconda3\\envs\\g-thermo\\lib\\site-packages\\cobra\\core\\metabolite.py:89: UserWarning:\n",
      "\n",
      "invalid formula (has parenthesis) in '(C12H20O10)n'\n",
      "\n",
      "C:\\Users\\vivmol\\AppData\\Local\\Continuum\\anaconda3\\envs\\g-thermo\\lib\\site-packages\\cobra\\core\\metabolite.py:89: UserWarning:\n",
      "\n",
      "invalid formula (has parenthesis) in 'C14H18O4(C5H8)n'\n",
      "\n",
      "C:\\Users\\vivmol\\AppData\\Local\\Continuum\\anaconda3\\envs\\g-thermo\\lib\\site-packages\\cobra\\core\\metabolite.py:89: UserWarning:\n",
      "\n",
      "invalid formula (has parenthesis) in 'C20H30N6O11PSeR(C5H8O6PR)n'\n",
      "\n",
      "C:\\Users\\vivmol\\AppData\\Local\\Continuum\\anaconda3\\envs\\g-thermo\\lib\\site-packages\\cobra\\core\\metabolite.py:89: UserWarning:\n",
      "\n",
      "invalid formula (has parenthesis) in '(C6H10O5)n'\n",
      "\n"
     ]
    }
   ],
   "source": [
    "#calc Number of each element in the metabolite in this reaction\n",
    "C_unbalanced =[]\n",
    "O_unbalanced =[]\n",
    "N_unbalanced =[]\n",
    "P_unbalanced =[]\n",
    "error_formula = []\n",
    "\n",
    "for rct in metabolic_rct:\n",
    "#make one dictionary that contains the information about the total elements involved in each metabolite of the whole reaction\n",
    "    rct_dict = {}\n",
    "    all_H = []\n",
    "    all_C = []\n",
    "    all_O = []\n",
    "    all_N = []\n",
    "    all_P = []\n",
    "    stoich = {}\n",
    "    for met in rct.metabolites.keys():\n",
    "        met_formula = met.elements\n",
    "        if not met.elements:\n",
    "            error_formula.append(met)\n",
    "        else:\n",
    "            try:\n",
    "                H = met_formula['H']\n",
    "            except KeyError:\n",
    "                H = 0\n",
    "            try:\n",
    "                C = met_formula['C']\n",
    "            except KeyError:\n",
    "                C = 0\n",
    "            try: \n",
    "                O = met_formula['O']\n",
    "            except KeyError:\n",
    "                O = 0\n",
    "            try: \n",
    "                N = met_formula['N']\n",
    "            except KeyError:\n",
    "                N = 0\n",
    "            try: \n",
    "                P = met_formula['P']\n",
    "            except KeyError:\n",
    "                P = 0\n",
    "            elements = {f\"H_{met.id}\":H,f\"C_{met.id}\":C, f\"O_{met.id}\":O,f\"N_{met.id}\":N,f\"P_{met.id}\":P}\n",
    "            rct_dict.update(elements)\n",
    "#make a dictionary that has the information about the met.id and stoichiometry\n",
    "        for met in rct.metabolites.keys():\n",
    "            stoichiometry = rct.metabolites.get(met)\n",
    "            stoich[met.id]=stoichiometry"
   ]
  },
  {
   "cell_type": "code",
   "execution_count": 121,
   "metadata": {},
   "outputs": [],
   "source": [
    "#make a calculation for the final balance of hydrogen for example:\n",
    "all_H = []\n",
    "all_C = []\n",
    "all_O = []\n",
    "all_N = []\n",
    "all_P = []\n",
    "for key in rct_dict:\n",
    "    id_key = stoich[key[2:]]\n",
    "    el = key[:2]\n",
    "    if el in 'H_':\n",
    "        num_H = rct_dict.get(key)\n",
    "        totH_key = num_H * id_key\n",
    "        all_H.append(totH_key)\n",
    "    elif el in 'C_':\n",
    "        num_C = rct_dict.get(key)\n",
    "        totC_key = num_C * id_key\n",
    "        all_C.append(totC_key)\n",
    "    elif el in 'O_':\n",
    "        num_O = rct_dict.get(key)\n",
    "        totO_key = num_O * id_key\n",
    "        all_O.append(totO_key)\n",
    "    elif el in 'N_':\n",
    "        num_N = rct_dict.get(key) \n",
    "        totN_key = num_N * id_key\n",
    "        all_N.append(totN_key)\n",
    "    elif el in 'P_':\n",
    "        num_P = rct_dict.get(key)\n",
    "        totP_key = num_P * id_key\n",
    "        all_P.append(totP_key)\n",
    "    else: \n",
    "        continue\n",
    "#add the number of that element to the list, and sum all parts of the list. this sum should equal 0 or it is unbalanced\n",
    "balance_H = sum(all_H) \n",
    "balance_C = sum(all_C)\n",
    "balance_O = sum(all_O)\n",
    "balance_N = sum(all_N)\n",
    "balance_P = sum(all_P)\n",
    "if balance_H != 0 and balance_C == 0 and balance_O == 0:\n",
    "    #Make a script to balance the reaction with a proton)\n",
    "    add_H = -sum(all_H) #i.e. the stoichiometry of the proton needed to get mass balance\n",
    "    proton = model.metabolites.h_c\n",
    "    rct.add_metabolites({proton:add_H})\n",
    "if balance_C!= 0:\n",
    "    C_unbalanced.append(rct)\n",
    "if balance_O != 0:\n",
    "    O_unbalanced.append(rct)\n",
    "if balance_N != 0:\n",
    "    N_unbalanced.append(rct)\n",
    "if balance_P != 0:\n",
    "    P_unbalanced.append(rct)\n",
    "   "
   ]
  },
  {
   "cell_type": "code",
   "execution_count": 77,
   "metadata": {
    "scrolled": true
   },
   "outputs": [
    {
     "data": {
      "text/html": [
       "\n",
       "        <table>\n",
       "            <tr>\n",
       "                <td><strong>Reaction identifier</strong></td><td>PPBNGS</td>\n",
       "            </tr><tr>\n",
       "                <td><strong>Name</strong></td><td>R00036</td>\n",
       "            </tr><tr>\n",
       "                <td><strong>Memory address</strong></td>\n",
       "                <td>0x02252e55ad08</td>\n",
       "            </tr><tr>\n",
       "                <td><strong>Stoichiometry</strong></td>\n",
       "                <td>\n",
       "                    <p style='text-align:right'>2.0 5aop_c --> 2.0 oh1_c + ppbng_c</p>\n",
       "                    <p style='text-align:right'>2.0 5-Aminolevulinate_C5H9NO3 --> 2.0 Water + Porphobilinogen_C10H13N2O4</p>\n",
       "                </td>\n",
       "            </tr><tr>\n",
       "                <td><strong>GPR</strong></td><td>RTMO03022</td>\n",
       "            </tr><tr>\n",
       "                <td><strong>Lower bound</strong></td><td>0.0</td>\n",
       "            </tr><tr>\n",
       "                <td><strong>Upper bound</strong></td><td>20.0</td>\n",
       "            </tr>\n",
       "        </table>\n",
       "        "
      ],
      "text/plain": [
       "<Reaction PPBNGS at 0x2252e55ad08>"
      ]
     },
     "execution_count": 77,
     "metadata": {},
     "output_type": "execute_result"
    }
   ],
   "source": [
    "rct"
   ]
  },
  {
   "cell_type": "code",
   "execution_count": null,
   "metadata": {},
   "outputs": [],
   "source": []
  },
  {
   "cell_type": "code",
   "execution_count": null,
   "metadata": {},
   "outputs": [],
   "source": []
  },
  {
   "cell_type": "code",
   "execution_count": null,
   "metadata": {},
   "outputs": [],
   "source": []
  },
  {
   "cell_type": "code",
   "execution_count": null,
   "metadata": {},
   "outputs": [],
   "source": []
  },
  {
   "cell_type": "code",
   "execution_count": null,
   "metadata": {},
   "outputs": [],
   "source": []
  },
  {
   "cell_type": "markdown",
   "metadata": {},
   "source": [
    "After automatic fix: save and check in memote that mass balance significantly improves.\n",
    "\n",
    "Later: fix and inspect the error_formula metabolites\n",
    "and check all the C, O, N and P unbalanced reactions"
   ]
  },
  {
   "cell_type": "code",
   "execution_count": null,
   "metadata": {},
   "outputs": [],
   "source": []
  }
 ],
 "metadata": {
  "kernelspec": {
   "display_name": "Python 3",
   "language": "python",
   "name": "python3"
  },
  "language_info": {
   "codemirror_mode": {
    "name": "ipython",
    "version": 3
   },
   "file_extension": ".py",
   "mimetype": "text/x-python",
   "name": "python",
   "nbconvert_exporter": "python",
   "pygments_lexer": "ipython3",
   "version": "3.7.4"
  }
 },
 "nbformat": 4,
 "nbformat_minor": 2
}
