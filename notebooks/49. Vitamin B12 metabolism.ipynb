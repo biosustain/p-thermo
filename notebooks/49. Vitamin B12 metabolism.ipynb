{
 "cells": [
  {
   "cell_type": "markdown",
   "metadata": {},
   "source": [
    "# Introduction\n",
    "In notebook 47 I added the vitamin B12 requirement into the biomass reaction. However I noticed that we should revisit the vitamin B12 biosynthesis as it doesnt seem to match comments made about it in the thesis. \n",
    "\n",
    "I opened issue #92 to discuss how to incoporate this into the model. Based on information in the thesis, provided by martyn and found in literature (e.g. Moore et al. 2012, doi:10.1042/BST20120066) we've come to the conclusion that our strain likely uses a hybrid (oxygen-independent) mechanism. The upstream part of the pathway comes from the anaerobic pathway. At the step of precorrin-5, E.C. 4.99.1.3 is used to incorporate the cobalt ion into the molecule. Then the rest of the pathway follows the aerobic part to yield cobyrinate.\n",
    "\n",
    "Here I will make sure that these parts are incorporated properly in the model, and provide some rational for some decisions made with specific steps.\n",
    "\n",
    "I will work top-down, starting from precorrin 2."
   ]
  },
  {
   "cell_type": "code",
   "execution_count": 21,
   "metadata": {},
   "outputs": [],
   "source": [
    "import cameo\n",
    "import pandas as pd\n",
    "import cobra.io\n",
    "import escher\n",
    "from escher import Builder\n",
    "from cobra import Metabolite, Reaction"
   ]
  },
  {
   "cell_type": "code",
   "execution_count": 22,
   "metadata": {},
   "outputs": [],
   "source": [
    "model = cobra.io.read_sbml_model('../model/g-thermo.xml')"
   ]
  },
  {
   "cell_type": "markdown",
   "metadata": {},
   "source": [
    "PC20M: from precorrin 2 (shcl_c) to Precorrin 3A via the CobI protein.\n",
    "\n",
    "The next step should convert precorrin 3A to Precorrin 4. In the classical aerobic pathway, this is done via CobG and CobJ, however it seems these enzymes are not present in our strain. These two enzymes are resposible for the oxygen dependent ring contraction. \n",
    "\n",
    "Alternatively, our strain does have the CbiH enzyme annotated. This is the anaerobic equivalent that causes ring-contraction. It is also hypothesized that the CbiH cannot discriminate between cobalt-factor III and cobalt-precorrin-3. So it may be that the CbiH enzyme in our strain can perform this conversion without the necessity of oxygen. This enzyme is generally understudied and its function not well understood, and so this conversion will be added.\n",
    "\n",
    "At the same time, as checking the PRE3AOR (CobG) and PC17M (CobJ) reactions, they do not seem to be present in our strain. Therefore to prevent them from carrying incorrect flux, they should be removed. \n",
    "\n",
    "Note: with this hypothesis, the structure of the precorrin-4 will be slightly different than would be traditionally considered, so i will name it precorrin4a. just to indicate it is a bit different. This difference gets corrected with the cobalt gets added to the molecule. (i.e. Co-precorrin5A is formed)"
   ]
  },
  {
   "cell_type": "code",
   "execution_count": 23,
   "metadata": {},
   "outputs": [],
   "source": [
    "model.metabolites.pre4_c.id = 'pre4a_c'"
   ]
  },
  {
   "cell_type": "code",
   "execution_count": 24,
   "metadata": {},
   "outputs": [],
   "source": [
    "model.metabolites.pre4a_c.formula = 'C44H52N4O16'"
   ]
  },
  {
   "cell_type": "code",
   "execution_count": 25,
   "metadata": {},
   "outputs": [],
   "source": [
    "model.metabolites.pre4a_c.notes['NOTES'] = 'Slightly different molecule as a result of hybrid pathway'"
   ]
  },
  {
   "cell_type": "code",
   "execution_count": 26,
   "metadata": {},
   "outputs": [],
   "source": [
    "del model.metabolites.pre4a_c.annotation['chebi']\n",
    "del model.metabolites.pre4a_c.annotation['kegg.compound']\n",
    "del model.metabolites.pre4a_c.annotation['metanetx.chemical']"
   ]
  },
  {
   "cell_type": "code",
   "execution_count": 27,
   "metadata": {},
   "outputs": [],
   "source": [
    "#add reaction\n",
    "model.add_reaction(Reaction(id='PRE3MT', name = 'cobalt-factor III methyltransferase'))"
   ]
  },
  {
   "cell_type": "code",
   "execution_count": 28,
   "metadata": {},
   "outputs": [],
   "source": [
    "model.reactions.PRE3MT.annotation['sbo']= 'SBO:0000176'\n",
    "model.reactions.PRE3MT.annotation['kegg.reaction']= 'R11580'\n",
    "model.reactions.PRE3MT.annotation['ec-code']= '2.1.1.272'"
   ]
  },
  {
   "cell_type": "code",
   "execution_count": 29,
   "metadata": {},
   "outputs": [
    {
     "name": "stderr",
     "output_type": "stream",
     "text": [
      "C:\\Users\\vivmol\\AppData\\Local\\Continuum\\anaconda3\\envs\\g-thermo\\lib\\site-packages\\cobra\\core\\group.py:93: UserWarning:\n",
      "\n",
      "need to pass in a list\n",
      "\n"
     ]
    }
   ],
   "source": [
    "model.groups.get_by_id('00860 - Porphyrin and chlorophyll metabolism').add_members(model.reactions.PRE3MT)"
   ]
  },
  {
   "cell_type": "code",
   "execution_count": 30,
   "metadata": {},
   "outputs": [],
   "source": [
    "model.reactions.PRE3MT.add_metabolites({\n",
    "    model.metabolites.amet_c:-1,\n",
    "    model.metabolites.pre3a_c:-1,\n",
    "    model.metabolites.ahcys_c:1,\n",
    "    model.metabolites.pre4a_c:1,\n",
    "    model.metabolites.h_c:1\n",
    "})"
   ]
  },
  {
   "cell_type": "code",
   "execution_count": 31,
   "metadata": {},
   "outputs": [],
   "source": [
    "#remove the two reactions which should not be present"
   ]
  },
  {
   "cell_type": "code",
   "execution_count": 32,
   "metadata": {},
   "outputs": [
    {
     "name": "stderr",
     "output_type": "stream",
     "text": [
      "C:\\Users\\vivmol\\AppData\\Local\\Continuum\\anaconda3\\envs\\g-thermo\\lib\\site-packages\\cobra\\core\\model.py:716: UserWarning:\n",
      "\n",
      "need to pass in a list\n",
      "\n",
      "C:\\Users\\vivmol\\AppData\\Local\\Continuum\\anaconda3\\envs\\g-thermo\\lib\\site-packages\\cobra\\core\\group.py:110: UserWarning:\n",
      "\n",
      "need to pass in a list\n",
      "\n"
     ]
    }
   ],
   "source": [
    "model.remove_reactions(model.reactions.PRE3AOR)"
   ]
  },
  {
   "cell_type": "code",
   "execution_count": 33,
   "metadata": {},
   "outputs": [],
   "source": [
    "model.remove_reactions(model.reactions.PC17M)"
   ]
  },
  {
   "cell_type": "markdown",
   "metadata": {},
   "source": [
    "Now that we have made the slightly modified precorrin4'A', this can be converted into precorrin 5, via the cobM enzyme. Here again, due to the ring cyclization in the precorrin 4'A', I'll change the precorrin 5 metabolite to precorrin5'A' aswell, and add a note to this metabolite so people are aware.\n",
    "\n",
    "The reaction is the PC11M reaction, which is still correct and can be left as is."
   ]
  },
  {
   "cell_type": "code",
   "execution_count": 34,
   "metadata": {},
   "outputs": [],
   "source": [
    "model.metabolites.pre5_c.id = 'pre5a_c'"
   ]
  },
  {
   "cell_type": "code",
   "execution_count": 35,
   "metadata": {},
   "outputs": [],
   "source": [
    "model.metabolites.pre5a_c.notes['NOTES'] =  'Slightly different molecule as a result of hybrid pathway'"
   ]
  },
  {
   "cell_type": "code",
   "execution_count": 36,
   "metadata": {},
   "outputs": [],
   "source": [
    "del model.metabolites.pre5a_c.annotation['chebi']\n",
    "del model.metabolites.pre5a_c.annotation['kegg.compound']\n",
    "del model.metabolites.pre5a_c.annotation['metanetx.chemical']"
   ]
  },
  {
   "cell_type": "code",
   "execution_count": 37,
   "metadata": {},
   "outputs": [],
   "source": [
    "model.metabolites.pre5a_c.formula = ' C45H54N4O16'"
   ]
  },
  {
   "cell_type": "markdown",
   "metadata": {},
   "source": [
    "We've now finished the 'aerobic' branch, and so I will commit this into the repo before continuing here."
   ]
  },
  {
   "cell_type": "code",
   "execution_count": 40,
   "metadata": {},
   "outputs": [],
   "source": [
    "#save&commit\n",
    "cobra.io.write_sbml_model(model,'../model/g-thermo.xml')"
   ]
  },
  {
   "cell_type": "markdown",
   "metadata": {},
   "source": [
    "The next step in the proposed hybrid pathway would be the integration of cobalt into the molecule. Beata proposes that this happens in the similar fashion as in S. enterica: with a sirohydrochlorin cobaltochelatase (EC 4.99.1.3) that can also convert the precorrin-5A. This would convert the Precorrin5'A' into cobalt-precorrin5A. \n",
    "\n",
    "I will add this reaction into the model.\n",
    "\n",
    "Also, in the model currently, the reaction carries by CobF is present. However, there is no gene annotation for CobF. To prevent the normal aerobic pathway from running, I will remove the P6AS reaction that is catalyzed by CobF from the model too."
   ]
  },
  {
   "cell_type": "code",
   "execution_count": 50,
   "metadata": {},
   "outputs": [],
   "source": [
    "model = cobra.io.read_sbml_model('../model/g-thermo.xml')"
   ]
  },
  {
   "cell_type": "code",
   "execution_count": 51,
   "metadata": {},
   "outputs": [],
   "source": [
    "#add co-precorrin 5 metabolite\n",
    "model.add_metabolites(Metabolite(id='copre5_c', name = 'Cobalt-precorrin 5', compartment = 'c', charge = 0, formula = 'C45H52CoN4O16'))"
   ]
  },
  {
   "cell_type": "code",
   "execution_count": 52,
   "metadata": {},
   "outputs": [],
   "source": [
    "model.metabolites.copre5_c.annotation['sbo']='SBO:0000247'\n",
    "model.metabolites.copre5_c.annotation['kegg.compound']='C16242'\n",
    "model.metabolites.copre5_c.annotation['chebi']='CHEBI:52488'"
   ]
  },
  {
   "cell_type": "code",
   "execution_count": 53,
   "metadata": {},
   "outputs": [],
   "source": [
    "#add reaction\n",
    "model.add_reaction(Reaction(id='SHCLCC', name = 'sirohydrochlorin cobaltochelatase'))"
   ]
  },
  {
   "cell_type": "code",
   "execution_count": 54,
   "metadata": {},
   "outputs": [],
   "source": [
    "model.reactions.SHCLCC.annotation['sbo']= 'SBO:0000176'\n",
    "model.reactions.SHCLCC.annotation['ec-code']= '4.99.1.3'"
   ]
  },
  {
   "cell_type": "code",
   "execution_count": 55,
   "metadata": {},
   "outputs": [
    {
     "name": "stderr",
     "output_type": "stream",
     "text": [
      "C:\\Users\\vivmol\\AppData\\Local\\Continuum\\anaconda3\\envs\\g-thermo\\lib\\site-packages\\cobra\\core\\group.py:93: UserWarning:\n",
      "\n",
      "need to pass in a list\n",
      "\n"
     ]
    }
   ],
   "source": [
    "model.groups.get_by_id('00860 - Porphyrin and chlorophyll metabolism').add_members(model.reactions.SHCLCC)"
   ]
  },
  {
   "cell_type": "code",
   "execution_count": 56,
   "metadata": {},
   "outputs": [],
   "source": [
    "model.reactions.SHCLCC.bounds = (-1000,1000)"
   ]
  },
  {
   "cell_type": "code",
   "execution_count": 57,
   "metadata": {},
   "outputs": [],
   "source": [
    "model.reactions.SHCLCC.add_metabolites({\n",
    "    model.metabolites.pre5a_c:-1,\n",
    "    model.metabolites.cobalt2_c:-1,\n",
    "    model.metabolites.copre5_c:1,\n",
    "    model.metabolites.h_c:2\n",
    "})"
   ]
  },
  {
   "cell_type": "code",
   "execution_count": 58,
   "metadata": {
    "scrolled": true
   },
   "outputs": [
    {
     "data": {
      "text/plain": [
       "{}"
      ]
     },
     "execution_count": 58,
     "metadata": {},
     "output_type": "execute_result"
    }
   ],
   "source": [
    "model.reactions.SHCLCC.check_mass_balance()"
   ]
  },
  {
   "cell_type": "code",
   "execution_count": 59,
   "metadata": {},
   "outputs": [
    {
     "name": "stderr",
     "output_type": "stream",
     "text": [
      "C:\\Users\\vivmol\\AppData\\Local\\Continuum\\anaconda3\\envs\\g-thermo\\lib\\site-packages\\cobra\\core\\model.py:716: UserWarning:\n",
      "\n",
      "need to pass in a list\n",
      "\n",
      "C:\\Users\\vivmol\\AppData\\Local\\Continuum\\anaconda3\\envs\\g-thermo\\lib\\site-packages\\cobra\\core\\group.py:110: UserWarning:\n",
      "\n",
      "need to pass in a list\n",
      "\n"
     ]
    }
   ],
   "source": [
    "model.remove_reactions(model.reactions.P6AS)"
   ]
  },
  {
   "cell_type": "code",
   "execution_count": 60,
   "metadata": {},
   "outputs": [],
   "source": [
    "#save and commit\n",
    "cobra.io.write_sbml_model(model,'../model/g-thermo.xml')"
   ]
  },
  {
   "cell_type": "markdown",
   "metadata": {},
   "source": [
    "Now I've dealt with the upstream part of the hybrid pathway, and the cobalt insertion. The next step is to then finish the anaerobic part of the pathway down until cobyrinate-a,c-diamide."
   ]
  },
  {
   "cell_type": "code",
   "execution_count": null,
   "metadata": {},
   "outputs": [],
   "source": []
  },
  {
   "cell_type": "code",
   "execution_count": null,
   "metadata": {},
   "outputs": [],
   "source": []
  },
  {
   "cell_type": "code",
   "execution_count": null,
   "metadata": {},
   "outputs": [],
   "source": []
  },
  {
   "cell_type": "markdown",
   "metadata": {},
   "source": [
    "#need to check that the model actually uses this pathway\n",
    "so delete steps from the pathways that are not annotated and or used! \n",
    "    \n",
    "- e.g. delete cobF as it isnt annotated to prevent complete aerobic pathway\n",
    "remove CbiT and CbiE"
   ]
  }
 ],
 "metadata": {
  "kernelspec": {
   "display_name": "Python 3",
   "language": "python",
   "name": "python3"
  },
  "language_info": {
   "codemirror_mode": {
    "name": "ipython",
    "version": 3
   },
   "file_extension": ".py",
   "mimetype": "text/x-python",
   "name": "python",
   "nbconvert_exporter": "python",
   "pygments_lexer": "ipython3",
   "version": "3.7.7"
  }
 },
 "nbformat": 4,
 "nbformat_minor": 4
}
