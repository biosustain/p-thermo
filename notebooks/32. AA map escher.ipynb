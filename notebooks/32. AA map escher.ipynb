{
 "cells": [
  {
   "cell_type": "markdown",
   "metadata": {},
   "source": [
    "# Introduction\n",
    "Previously, I made an escher map to visualize central carbon metabolism of our strain. Here I will make the map from scratch. The only available maps are for amino acid degradation, not biosynthesis so will not be of much use to us. I will try to make the map so that each amino acid is coupled to a metabolite that is in the core-map we have generated previously.\n"
   ]
  },
  {
   "cell_type": "code",
   "execution_count": 1,
   "metadata": {},
   "outputs": [
    {
     "data": {
      "application/javascript": [
       "\n",
       "(function(root) {\n",
       "  function now() {\n",
       "    return new Date();\n",
       "  }\n",
       "\n",
       "  var force = true;\n",
       "\n",
       "  if (typeof root._bokeh_onload_callbacks === \"undefined\" || force === true) {\n",
       "    root._bokeh_onload_callbacks = [];\n",
       "    root._bokeh_is_loading = undefined;\n",
       "  }\n",
       "\n",
       "  var JS_MIME_TYPE = 'application/javascript';\n",
       "  var HTML_MIME_TYPE = 'text/html';\n",
       "  var EXEC_MIME_TYPE = 'application/vnd.bokehjs_exec.v0+json';\n",
       "  var CLASS_NAME = 'output_bokeh rendered_html';\n",
       "\n",
       "  /**\n",
       "   * Render data to the DOM node\n",
       "   */\n",
       "  function render(props, node) {\n",
       "    var script = document.createElement(\"script\");\n",
       "    node.appendChild(script);\n",
       "  }\n",
       "\n",
       "  /**\n",
       "   * Handle when an output is cleared or removed\n",
       "   */\n",
       "  function handleClearOutput(event, handle) {\n",
       "    var cell = handle.cell;\n",
       "\n",
       "    var id = cell.output_area._bokeh_element_id;\n",
       "    var server_id = cell.output_area._bokeh_server_id;\n",
       "    // Clean up Bokeh references\n",
       "    if (id != null && id in Bokeh.index) {\n",
       "      Bokeh.index[id].model.document.clear();\n",
       "      delete Bokeh.index[id];\n",
       "    }\n",
       "\n",
       "    if (server_id !== undefined) {\n",
       "      // Clean up Bokeh references\n",
       "      var cmd = \"from bokeh.io.state import curstate; print(curstate().uuid_to_server['\" + server_id + \"'].get_sessions()[0].document.roots[0]._id)\";\n",
       "      cell.notebook.kernel.execute(cmd, {\n",
       "        iopub: {\n",
       "          output: function(msg) {\n",
       "            var id = msg.content.text.trim();\n",
       "            if (id in Bokeh.index) {\n",
       "              Bokeh.index[id].model.document.clear();\n",
       "              delete Bokeh.index[id];\n",
       "            }\n",
       "          }\n",
       "        }\n",
       "      });\n",
       "      // Destroy server and session\n",
       "      var cmd = \"import bokeh.io.notebook as ion; ion.destroy_server('\" + server_id + \"')\";\n",
       "      cell.notebook.kernel.execute(cmd);\n",
       "    }\n",
       "  }\n",
       "\n",
       "  /**\n",
       "   * Handle when a new output is added\n",
       "   */\n",
       "  function handleAddOutput(event, handle) {\n",
       "    var output_area = handle.output_area;\n",
       "    var output = handle.output;\n",
       "\n",
       "    // limit handleAddOutput to display_data with EXEC_MIME_TYPE content only\n",
       "    if ((output.output_type != \"display_data\") || (!output.data.hasOwnProperty(EXEC_MIME_TYPE))) {\n",
       "      return\n",
       "    }\n",
       "\n",
       "    var toinsert = output_area.element.find(\".\" + CLASS_NAME.split(' ')[0]);\n",
       "\n",
       "    if (output.metadata[EXEC_MIME_TYPE][\"id\"] !== undefined) {\n",
       "      toinsert[toinsert.length - 1].firstChild.textContent = output.data[JS_MIME_TYPE];\n",
       "      // store reference to embed id on output_area\n",
       "      output_area._bokeh_element_id = output.metadata[EXEC_MIME_TYPE][\"id\"];\n",
       "    }\n",
       "    if (output.metadata[EXEC_MIME_TYPE][\"server_id\"] !== undefined) {\n",
       "      var bk_div = document.createElement(\"div\");\n",
       "      bk_div.innerHTML = output.data[HTML_MIME_TYPE];\n",
       "      var script_attrs = bk_div.children[0].attributes;\n",
       "      for (var i = 0; i < script_attrs.length; i++) {\n",
       "        toinsert[toinsert.length - 1].firstChild.setAttribute(script_attrs[i].name, script_attrs[i].value);\n",
       "        toinsert[toinsert.length - 1].firstChild.textContent = bk_div.children[0].textContent\n",
       "      }\n",
       "      // store reference to server id on output_area\n",
       "      output_area._bokeh_server_id = output.metadata[EXEC_MIME_TYPE][\"server_id\"];\n",
       "    }\n",
       "  }\n",
       "\n",
       "  function register_renderer(events, OutputArea) {\n",
       "\n",
       "    function append_mime(data, metadata, element) {\n",
       "      // create a DOM node to render to\n",
       "      var toinsert = this.create_output_subarea(\n",
       "        metadata,\n",
       "        CLASS_NAME,\n",
       "        EXEC_MIME_TYPE\n",
       "      );\n",
       "      this.keyboard_manager.register_events(toinsert);\n",
       "      // Render to node\n",
       "      var props = {data: data, metadata: metadata[EXEC_MIME_TYPE]};\n",
       "      render(props, toinsert[toinsert.length - 1]);\n",
       "      element.append(toinsert);\n",
       "      return toinsert\n",
       "    }\n",
       "\n",
       "    /* Handle when an output is cleared or removed */\n",
       "    events.on('clear_output.CodeCell', handleClearOutput);\n",
       "    events.on('delete.Cell', handleClearOutput);\n",
       "\n",
       "    /* Handle when a new output is added */\n",
       "    events.on('output_added.OutputArea', handleAddOutput);\n",
       "\n",
       "    /**\n",
       "     * Register the mime type and append_mime function with output_area\n",
       "     */\n",
       "    OutputArea.prototype.register_mime_type(EXEC_MIME_TYPE, append_mime, {\n",
       "      /* Is output safe? */\n",
       "      safe: true,\n",
       "      /* Index of renderer in `output_area.display_order` */\n",
       "      index: 0\n",
       "    });\n",
       "  }\n",
       "\n",
       "  // register the mime type if in Jupyter Notebook environment and previously unregistered\n",
       "  if (root.Jupyter !== undefined) {\n",
       "    var events = require('base/js/events');\n",
       "    var OutputArea = require('notebook/js/outputarea').OutputArea;\n",
       "\n",
       "    if (OutputArea.prototype.mime_types().indexOf(EXEC_MIME_TYPE) == -1) {\n",
       "      register_renderer(events, OutputArea);\n",
       "    }\n",
       "  }\n",
       "\n",
       "  \n",
       "  if (typeof (root._bokeh_timeout) === \"undefined\" || force === true) {\n",
       "    root._bokeh_timeout = Date.now() + 5000;\n",
       "    root._bokeh_failed_load = false;\n",
       "  }\n",
       "\n",
       "  var NB_LOAD_WARNING = {'data': {'text/html':\n",
       "     \"<div style='background-color: #fdd'>\\n\"+\n",
       "     \"<p>\\n\"+\n",
       "     \"BokehJS does not appear to have successfully loaded. If loading BokehJS from CDN, this \\n\"+\n",
       "     \"may be due to a slow or bad network connection. Possible fixes:\\n\"+\n",
       "     \"</p>\\n\"+\n",
       "     \"<ul>\\n\"+\n",
       "     \"<li>re-rerun `output_notebook()` to attempt to load from CDN again, or</li>\\n\"+\n",
       "     \"<li>use INLINE resources instead, as so:</li>\\n\"+\n",
       "     \"</ul>\\n\"+\n",
       "     \"<code>\\n\"+\n",
       "     \"from bokeh.resources import INLINE\\n\"+\n",
       "     \"output_notebook(resources=INLINE)\\n\"+\n",
       "     \"</code>\\n\"+\n",
       "     \"</div>\"}};\n",
       "\n",
       "  function display_loaded() {\n",
       "    var el = document.getElementById(null);\n",
       "    if (el != null) {\n",
       "      el.textContent = \"BokehJS is loading...\";\n",
       "    }\n",
       "    if (root.Bokeh !== undefined) {\n",
       "      if (el != null) {\n",
       "        el.textContent = \"BokehJS \" + root.Bokeh.version + \" successfully loaded.\";\n",
       "      }\n",
       "    } else if (Date.now() < root._bokeh_timeout) {\n",
       "      setTimeout(display_loaded, 100)\n",
       "    }\n",
       "  }\n",
       "\n",
       "\n",
       "  function run_callbacks() {\n",
       "    try {\n",
       "      root._bokeh_onload_callbacks.forEach(function(callback) {\n",
       "        if (callback != null)\n",
       "          callback();\n",
       "      });\n",
       "    } finally {\n",
       "      delete root._bokeh_onload_callbacks\n",
       "    }\n",
       "    console.debug(\"Bokeh: all callbacks have finished\");\n",
       "  }\n",
       "\n",
       "  function load_libs(css_urls, js_urls, callback) {\n",
       "    if (css_urls == null) css_urls = [];\n",
       "    if (js_urls == null) js_urls = [];\n",
       "\n",
       "    root._bokeh_onload_callbacks.push(callback);\n",
       "    if (root._bokeh_is_loading > 0) {\n",
       "      console.debug(\"Bokeh: BokehJS is being loaded, scheduling callback at\", now());\n",
       "      return null;\n",
       "    }\n",
       "    if (js_urls == null || js_urls.length === 0) {\n",
       "      run_callbacks();\n",
       "      return null;\n",
       "    }\n",
       "    console.debug(\"Bokeh: BokehJS not loaded, scheduling load and callback at\", now());\n",
       "    root._bokeh_is_loading = css_urls.length + js_urls.length;\n",
       "\n",
       "    function on_load() {\n",
       "      root._bokeh_is_loading--;\n",
       "      if (root._bokeh_is_loading === 0) {\n",
       "        console.debug(\"Bokeh: all BokehJS libraries/stylesheets loaded\");\n",
       "        run_callbacks()\n",
       "      }\n",
       "    }\n",
       "\n",
       "    function on_error() {\n",
       "      console.error(\"failed to load \" + url);\n",
       "    }\n",
       "\n",
       "    for (var i = 0; i < css_urls.length; i++) {\n",
       "      var url = css_urls[i];\n",
       "      const element = document.createElement(\"link\");\n",
       "      element.onload = on_load;\n",
       "      element.onerror = on_error;\n",
       "      element.rel = \"stylesheet\";\n",
       "      element.type = \"text/css\";\n",
       "      element.href = url;\n",
       "      console.debug(\"Bokeh: injecting link tag for BokehJS stylesheet: \", url);\n",
       "      document.body.appendChild(element);\n",
       "    }\n",
       "\n",
       "    const hashes = {\"https://cdn.bokeh.org/bokeh/release/bokeh-2.0.1.min.js\": \"JpP8FXbgAZLkfur7LiK3j9AGBhHNIvF742meBJrjO2ShJDhCG2I1uVvW+0DUtrmc\", \"https://cdn.bokeh.org/bokeh/release/bokeh-widgets-2.0.1.min.js\": \"xZlADit0Q04ISQEdKg2k3L4W9AwQBAuDs9nJL9fM/WwzL1tEU9VPNezOFX0nLEAz\", \"https://cdn.bokeh.org/bokeh/release/bokeh-tables-2.0.1.min.js\": \"4BuPRZkdMKSnj3zoxiNrQ86XgNw0rYmBOxe7nshquXwwcauupgBF2DHLVG1WuZlV\", \"https://cdn.bokeh.org/bokeh/release/bokeh-gl-2.0.1.min.js\": \"Dv1SQ87hmDqK6S5OhBf0bCuwAEvL5QYL0PuR/F1SPVhCS/r/abjkbpKDYL2zeM19\"};\n",
       "\n",
       "    for (var i = 0; i < js_urls.length; i++) {\n",
       "      var url = js_urls[i];\n",
       "      var element = document.createElement('script');\n",
       "      element.onload = on_load;\n",
       "      element.onerror = on_error;\n",
       "      element.async = false;\n",
       "      element.src = url;\n",
       "      if (url in hashes) {\n",
       "        element.crossOrigin = \"anonymous\";\n",
       "        element.integrity = \"sha384-\" + hashes[url];\n",
       "      }\n",
       "      console.debug(\"Bokeh: injecting script tag for BokehJS library: \", url);\n",
       "      document.head.appendChild(element);\n",
       "    }\n",
       "  };\n",
       "\n",
       "  function inject_raw_css(css) {\n",
       "    const element = document.createElement(\"style\");\n",
       "    element.appendChild(document.createTextNode(css));\n",
       "    document.body.appendChild(element);\n",
       "  }\n",
       "\n",
       "  \n",
       "  var js_urls = [\"https://cdn.bokeh.org/bokeh/release/bokeh-2.0.1.min.js\", \"https://cdn.bokeh.org/bokeh/release/bokeh-widgets-2.0.1.min.js\", \"https://cdn.bokeh.org/bokeh/release/bokeh-tables-2.0.1.min.js\", \"https://cdn.bokeh.org/bokeh/release/bokeh-gl-2.0.1.min.js\"];\n",
       "  var css_urls = [];\n",
       "  \n",
       "\n",
       "  var inline_js = [\n",
       "    function(Bokeh) {\n",
       "      Bokeh.set_log_level(\"info\");\n",
       "    },\n",
       "    function(Bokeh) {\n",
       "    \n",
       "    \n",
       "    }\n",
       "  ];\n",
       "\n",
       "  function run_inline_js() {\n",
       "    \n",
       "    if (root.Bokeh !== undefined || force === true) {\n",
       "      \n",
       "    for (var i = 0; i < inline_js.length; i++) {\n",
       "      inline_js[i].call(root, root.Bokeh);\n",
       "    }\n",
       "    } else if (Date.now() < root._bokeh_timeout) {\n",
       "      setTimeout(run_inline_js, 100);\n",
       "    } else if (!root._bokeh_failed_load) {\n",
       "      console.log(\"Bokeh: BokehJS failed to load within specified timeout.\");\n",
       "      root._bokeh_failed_load = true;\n",
       "    } else if (force !== true) {\n",
       "      var cell = $(document.getElementById(null)).parents('.cell').data().cell;\n",
       "      cell.output_area.append_execute_result(NB_LOAD_WARNING)\n",
       "    }\n",
       "\n",
       "  }\n",
       "\n",
       "  if (root._bokeh_is_loading === 0) {\n",
       "    console.debug(\"Bokeh: BokehJS loaded, going straight to plotting\");\n",
       "    run_inline_js();\n",
       "  } else {\n",
       "    load_libs(css_urls, js_urls, function() {\n",
       "      console.debug(\"Bokeh: BokehJS plotting callback run at\", now());\n",
       "      run_inline_js();\n",
       "    });\n",
       "  }\n",
       "}(window));"
      ],
      "application/vnd.bokehjs_load.v0+json": "\n(function(root) {\n  function now() {\n    return new Date();\n  }\n\n  var force = true;\n\n  if (typeof root._bokeh_onload_callbacks === \"undefined\" || force === true) {\n    root._bokeh_onload_callbacks = [];\n    root._bokeh_is_loading = undefined;\n  }\n\n  \n\n  \n  if (typeof (root._bokeh_timeout) === \"undefined\" || force === true) {\n    root._bokeh_timeout = Date.now() + 5000;\n    root._bokeh_failed_load = false;\n  }\n\n  var NB_LOAD_WARNING = {'data': {'text/html':\n     \"<div style='background-color: #fdd'>\\n\"+\n     \"<p>\\n\"+\n     \"BokehJS does not appear to have successfully loaded. If loading BokehJS from CDN, this \\n\"+\n     \"may be due to a slow or bad network connection. Possible fixes:\\n\"+\n     \"</p>\\n\"+\n     \"<ul>\\n\"+\n     \"<li>re-rerun `output_notebook()` to attempt to load from CDN again, or</li>\\n\"+\n     \"<li>use INLINE resources instead, as so:</li>\\n\"+\n     \"</ul>\\n\"+\n     \"<code>\\n\"+\n     \"from bokeh.resources import INLINE\\n\"+\n     \"output_notebook(resources=INLINE)\\n\"+\n     \"</code>\\n\"+\n     \"</div>\"}};\n\n  function display_loaded() {\n    var el = document.getElementById(null);\n    if (el != null) {\n      el.textContent = \"BokehJS is loading...\";\n    }\n    if (root.Bokeh !== undefined) {\n      if (el != null) {\n        el.textContent = \"BokehJS \" + root.Bokeh.version + \" successfully loaded.\";\n      }\n    } else if (Date.now() < root._bokeh_timeout) {\n      setTimeout(display_loaded, 100)\n    }\n  }\n\n\n  function run_callbacks() {\n    try {\n      root._bokeh_onload_callbacks.forEach(function(callback) {\n        if (callback != null)\n          callback();\n      });\n    } finally {\n      delete root._bokeh_onload_callbacks\n    }\n    console.debug(\"Bokeh: all callbacks have finished\");\n  }\n\n  function load_libs(css_urls, js_urls, callback) {\n    if (css_urls == null) css_urls = [];\n    if (js_urls == null) js_urls = [];\n\n    root._bokeh_onload_callbacks.push(callback);\n    if (root._bokeh_is_loading > 0) {\n      console.debug(\"Bokeh: BokehJS is being loaded, scheduling callback at\", now());\n      return null;\n    }\n    if (js_urls == null || js_urls.length === 0) {\n      run_callbacks();\n      return null;\n    }\n    console.debug(\"Bokeh: BokehJS not loaded, scheduling load and callback at\", now());\n    root._bokeh_is_loading = css_urls.length + js_urls.length;\n\n    function on_load() {\n      root._bokeh_is_loading--;\n      if (root._bokeh_is_loading === 0) {\n        console.debug(\"Bokeh: all BokehJS libraries/stylesheets loaded\");\n        run_callbacks()\n      }\n    }\n\n    function on_error() {\n      console.error(\"failed to load \" + url);\n    }\n\n    for (var i = 0; i < css_urls.length; i++) {\n      var url = css_urls[i];\n      const element = document.createElement(\"link\");\n      element.onload = on_load;\n      element.onerror = on_error;\n      element.rel = \"stylesheet\";\n      element.type = \"text/css\";\n      element.href = url;\n      console.debug(\"Bokeh: injecting link tag for BokehJS stylesheet: \", url);\n      document.body.appendChild(element);\n    }\n\n    const hashes = {\"https://cdn.bokeh.org/bokeh/release/bokeh-2.0.1.min.js\": \"JpP8FXbgAZLkfur7LiK3j9AGBhHNIvF742meBJrjO2ShJDhCG2I1uVvW+0DUtrmc\", \"https://cdn.bokeh.org/bokeh/release/bokeh-widgets-2.0.1.min.js\": \"xZlADit0Q04ISQEdKg2k3L4W9AwQBAuDs9nJL9fM/WwzL1tEU9VPNezOFX0nLEAz\", \"https://cdn.bokeh.org/bokeh/release/bokeh-tables-2.0.1.min.js\": \"4BuPRZkdMKSnj3zoxiNrQ86XgNw0rYmBOxe7nshquXwwcauupgBF2DHLVG1WuZlV\", \"https://cdn.bokeh.org/bokeh/release/bokeh-gl-2.0.1.min.js\": \"Dv1SQ87hmDqK6S5OhBf0bCuwAEvL5QYL0PuR/F1SPVhCS/r/abjkbpKDYL2zeM19\"};\n\n    for (var i = 0; i < js_urls.length; i++) {\n      var url = js_urls[i];\n      var element = document.createElement('script');\n      element.onload = on_load;\n      element.onerror = on_error;\n      element.async = false;\n      element.src = url;\n      if (url in hashes) {\n        element.crossOrigin = \"anonymous\";\n        element.integrity = \"sha384-\" + hashes[url];\n      }\n      console.debug(\"Bokeh: injecting script tag for BokehJS library: \", url);\n      document.head.appendChild(element);\n    }\n  };\n\n  function inject_raw_css(css) {\n    const element = document.createElement(\"style\");\n    element.appendChild(document.createTextNode(css));\n    document.body.appendChild(element);\n  }\n\n  \n  var js_urls = [\"https://cdn.bokeh.org/bokeh/release/bokeh-2.0.1.min.js\", \"https://cdn.bokeh.org/bokeh/release/bokeh-widgets-2.0.1.min.js\", \"https://cdn.bokeh.org/bokeh/release/bokeh-tables-2.0.1.min.js\", \"https://cdn.bokeh.org/bokeh/release/bokeh-gl-2.0.1.min.js\"];\n  var css_urls = [];\n  \n\n  var inline_js = [\n    function(Bokeh) {\n      Bokeh.set_log_level(\"info\");\n    },\n    function(Bokeh) {\n    \n    \n    }\n  ];\n\n  function run_inline_js() {\n    \n    if (root.Bokeh !== undefined || force === true) {\n      \n    for (var i = 0; i < inline_js.length; i++) {\n      inline_js[i].call(root, root.Bokeh);\n    }\n    } else if (Date.now() < root._bokeh_timeout) {\n      setTimeout(run_inline_js, 100);\n    } else if (!root._bokeh_failed_load) {\n      console.log(\"Bokeh: BokehJS failed to load within specified timeout.\");\n      root._bokeh_failed_load = true;\n    } else if (force !== true) {\n      var cell = $(document.getElementById(null)).parents('.cell').data().cell;\n      cell.output_area.append_execute_result(NB_LOAD_WARNING)\n    }\n\n  }\n\n  if (root._bokeh_is_loading === 0) {\n    console.debug(\"Bokeh: BokehJS loaded, going straight to plotting\");\n    run_inline_js();\n  } else {\n    load_libs(css_urls, js_urls, function() {\n      console.debug(\"Bokeh: BokehJS plotting callback run at\", now());\n      run_inline_js();\n    });\n  }\n}(window));"
     },
     "metadata": {},
     "output_type": "display_data"
    }
   ],
   "source": [
    "import cameo\n",
    "import pandas as pd\n",
    "import cobra.io\n",
    "import escher\n",
    "from escher import Builder\n",
    "from cobra import Reaction, Metabolite"
   ]
  },
  {
   "cell_type": "code",
   "execution_count": 2,
   "metadata": {},
   "outputs": [],
   "source": [
    "model = cobra.io.read_sbml_model('../model/p-thermo.xml')"
   ]
  },
  {
   "cell_type": "code",
   "execution_count": 3,
   "metadata": {},
   "outputs": [],
   "source": [
    "model_e_coli = cameo.load_model('iML1515')"
   ]
  },
  {
   "cell_type": "code",
   "execution_count": 4,
   "metadata": {},
   "outputs": [],
   "source": [
    "model_b_sub = cameo.load_model('iYO844')"
   ]
  },
  {
   "cell_type": "code",
   "execution_count": 5,
   "metadata": {},
   "outputs": [],
   "source": [
    "solution = model.optimize()"
   ]
  },
  {
   "cell_type": "code",
   "execution_count": 6,
   "metadata": {},
   "outputs": [
    {
     "data": {
      "application/vnd.jupyter.widget-view+json": {
       "model_id": "2f0766ce03f24d2aaa50893ff7476a01",
       "version_major": 2,
       "version_minor": 0
      },
      "text/plain": [
       "Builder(reaction_data={'IDPh': 4.461457437274267, 'CAT': 0.05343860478337801, 'PDHam1hi': 0.0, 'CCP': 0.0, 'HY…"
      ]
     },
     "metadata": {},
     "output_type": "display_data"
    }
   ],
   "source": [
    "Builder(model=model, map_json = '../map/amino-acid-biosynthesis.json', reaction_data = solution.fluxes.to_dict())"
   ]
  },
  {
   "cell_type": "markdown",
   "metadata": {},
   "source": [
    "In making the map, I saw cysteine is produced in a strange way that I would not expect. Here I will make the changes needed to fix this. In our model, cysteine is made through the cgly_c metabolite. cgly is made from gthrd which is imported. \n",
    "Still I cannot remove the gthrd from the medium: we still do not get growht. So maybe this has to do with the cystein biosynthesis route. I should check it again here. "
   ]
  },
  {
   "cell_type": "code",
   "execution_count": 8,
   "metadata": {},
   "outputs": [],
   "source": [
    "model.metabolites.gthrd_c.name = 'Reduced glutathione'"
   ]
  },
  {
   "cell_type": "markdown",
   "metadata": {},
   "source": [
    "LCYSTLY is the first setp of a reaction pathway that combines with AMBALY to give the same reaction as CYSTGL. Therefore I will remove the LCYSTLY and AMBALY reactions.\n",
    "Same goes for LMETLY. "
   ]
  },
  {
   "cell_type": "code",
   "execution_count": 9,
   "metadata": {},
   "outputs": [
    {
     "name": "stderr",
     "output_type": "stream",
     "text": [
      "C:\\Users\\vivmol\\AppData\\Local\\Continuum\\anaconda3\\envs\\g-thermo\\lib\\site-packages\\cobra\\core\\model.py:716: UserWarning:\n",
      "\n",
      "need to pass in a list\n",
      "\n",
      "C:\\Users\\vivmol\\AppData\\Local\\Continuum\\anaconda3\\envs\\g-thermo\\lib\\site-packages\\cobra\\core\\group.py:110: UserWarning:\n",
      "\n",
      "need to pass in a list\n",
      "\n"
     ]
    }
   ],
   "source": [
    "model.remove_reactions(model.reactions.LCYSTLY)"
   ]
  },
  {
   "cell_type": "code",
   "execution_count": 10,
   "metadata": {},
   "outputs": [],
   "source": [
    "model.remove_reactions(model.reactions.LMETLY)"
   ]
  },
  {
   "cell_type": "code",
   "execution_count": 11,
   "metadata": {},
   "outputs": [],
   "source": [
    "model.remove_reactions(model.reactions.AMBALY)"
   ]
  },
  {
   "cell_type": "code",
   "execution_count": 12,
   "metadata": {},
   "outputs": [],
   "source": [
    "model.reactions.GLYOX.bounds = (-1000,0)"
   ]
  },
  {
   "cell_type": "code",
   "execution_count": 13,
   "metadata": {},
   "outputs": [],
   "source": [
    "model.reactions.GTHPe.id = 'GTHPi'"
   ]
  },
  {
   "cell_type": "code",
   "execution_count": 14,
   "metadata": {},
   "outputs": [],
   "source": [
    "model.reactions.GGTAe2.bounds = (0,1000)"
   ]
  },
  {
   "cell_type": "code",
   "execution_count": 15,
   "metadata": {},
   "outputs": [],
   "source": [
    "model.reactions.GLYOX_1.id = 'LGTHL'"
   ]
  },
  {
   "cell_type": "code",
   "execution_count": 16,
   "metadata": {},
   "outputs": [],
   "source": [
    "model.reactions.LGTHL.bounds = (-1000,0)"
   ]
  },
  {
   "cell_type": "code",
   "execution_count": 17,
   "metadata": {},
   "outputs": [],
   "source": [
    "model.reactions.LALDPOR.id = 'LALDO2x'"
   ]
  },
  {
   "cell_type": "code",
   "execution_count": 18,
   "metadata": {},
   "outputs": [],
   "source": [
    "model.reactions.LALDO2x.bounds = (-1000,0)"
   ]
  },
  {
   "cell_type": "code",
   "execution_count": 19,
   "metadata": {},
   "outputs": [],
   "source": [
    "model.reactions.LALDO2x.add_metabolites({model.metabolites.nad_c:1, model.metabolites.nadh_c:-1, model.metabolites.h_c:1})"
   ]
  },
  {
   "cell_type": "code",
   "execution_count": 20,
   "metadata": {},
   "outputs": [],
   "source": [
    "model.reactions.ACSERT.bounds = (0,1000)"
   ]
  },
  {
   "cell_type": "markdown",
   "metadata": {},
   "source": [
    "I can't seem to figure out what the cause is of this strange gthrd pathway being used and why I cant remove it. I will now use the same approach as in notebook 20 to find out what biomass metabolite becomes blocked when i remove the gthrd exchange from the model. I would expect cysteine, as this is the direct was cysteine is being made. \n",
    "\n",
    "Turns out the cause is a combiantion of coa, succoa, accoa, gthrd, cysteine and methionine.\n",
    "\n",
    "To fix the cysteine and methionine problem, suppling h2s solves the problem. So first I will look into how this is supplied and consumed."
   ]
  },
  {
   "cell_type": "code",
   "execution_count": 21,
   "metadata": {},
   "outputs": [],
   "source": [
    "rna = ['amp_c', 'gmp_c', 'cmp_c', 'ump_c']\n",
    "dna = ['damp_c', 'dgmp_c', 'dcmp_c', 'dtmp_c']\n",
    "purines = ['amp_c', 'gmp_c', 'damp_c', 'dgmp_c']\n",
    "pyrimidines = ['cmp_c', 'ump_c', 'dcmp_c', 'dtmp_c']\n",
    "energy = ['adp_c', 'atp_c']\n",
    "aa = ['ser__L_c', 'phe__L_c', 'gly_c', 'ala__L_c', 'val__L_c', 'leu__L_c', 'ile__L_c', 'thr__L_c','tyr__L_c','trp__L_c','cys__L_c','met__L_c', 'lys__L_c', 'arg__L_c', 'his__L_c', 'asp__L_c', 'glu__L_c', 'asn__L_c', 'gln__L_c', 'pro__L_c']\n",
    "cofactors = ['nad_c', 'nadh_c','nadph_c', 'nadp_c', 'fad_c', 'qh2_c']\n",
    "other = ['ptrc_c', 'chor_c', 'thmpp_c', 'ribflv_c', 'fe3_c', 'fe2_c', 'cl_c', 'coa_c', 'succoa_c', 'accoa_c', 'gthrd_c']"
   ]
  },
  {
   "cell_type": "code",
   "execution_count": 22,
   "metadata": {},
   "outputs": [
    {
     "name": "stdout",
     "output_type": "stream",
     "text": [
      "1.780908984682483\n"
     ]
    }
   ],
   "source": [
    "other = ['', '', '', '', '', '', '', 'coa_c', 'succoa_c', 'accoa_c', 'gthrd_c']\n",
    "aa = ['', '', '', '', '', '', '', '','','','cys__L_c','met__L_c', '', '', '', '', '', '', '', '']\n",
    "with model:\n",
    "    model.reactions.EX_gthrd_e.bounds = (0,0) #blocking exchange kills biomass\n",
    "    model.add_boundary(model.metabolites.h2s_c, type = 'sink', reaction_id = 'test')\n",
    "    for met in model.reactions.biomass.metabolites:\n",
    "        if met.id in aa:\n",
    "            coeff = model.reactions.biomass.metabolites[met]\n",
    "            model.reactions.biomass.add_metabolites({met:-coeff}) \n",
    "        if met.id in other:\n",
    "            coeff = model.reactions.biomass.metabolites[met]\n",
    "            model.reactions.biomass.add_metabolites({met:-coeff})  \n",
    "        else: \n",
    "            continue\n",
    "    solution = model.optimize()\n",
    "    #print (model.metabolites.glu__D_c.summary())\n",
    "    #print ('test flux:', solution['test'])\n",
    "    #print ('test2 flux:', solution['test2'])\n",
    "    \n",
    "    print (solution.objective_value)"
   ]
  },
  {
   "cell_type": "markdown",
   "metadata": {},
   "source": [
    "__H2S__\n",
    "SO4 is added to the medium in real experiments, so we need to ensure this can properly be interconverted. It seems we are really missing some sulfur metabolism. Also we dont even have the sulfate metabolite. I will add those reactions in now."
   ]
  },
  {
   "cell_type": "code",
   "execution_count": 23,
   "metadata": {},
   "outputs": [],
   "source": [
    "model.reactions.SULR.bounds = (0,1000)"
   ]
  },
  {
   "cell_type": "code",
   "execution_count": 24,
   "metadata": {},
   "outputs": [],
   "source": [
    "#sulfate metabolite and exchange \n",
    "model.add_metabolites(Metabolite(id='so4_e'))\n",
    "model.add_metabolites(Metabolite(id='so4_c'))"
   ]
  },
  {
   "cell_type": "code",
   "execution_count": 25,
   "metadata": {},
   "outputs": [],
   "source": [
    "model.metabolites.so4_c. name = 'Sulfate'\n",
    "model.metabolites.so4_c.charge = -2\n",
    "model.metabolites.so4_c.formula = 'O4S'\n",
    "model.metabolites.so4_c.compartment = 'c'\n",
    "model.metabolites.so4_c.annotation = model_e_coli.metabolites.so4_c.annotation"
   ]
  },
  {
   "cell_type": "code",
   "execution_count": 26,
   "metadata": {},
   "outputs": [],
   "source": [
    "model.metabolites.so4_e. name = 'Sulfate'\n",
    "model.metabolites.so4_e.charge = -2\n",
    "model.metabolites.so4_e.formula = 'O4S'\n",
    "model.metabolites.so4_e.compartment = 'e'\n",
    "model.metabolites.so4_e.annotation = model_e_coli.metabolites.so4_e.annotation"
   ]
  },
  {
   "cell_type": "code",
   "execution_count": 27,
   "metadata": {},
   "outputs": [
    {
     "data": {
      "text/html": [
       "\n",
       "        <table>\n",
       "            <tr>\n",
       "                <td><strong>Reaction identifier</strong></td><td>EX_so4_e</td>\n",
       "            </tr><tr>\n",
       "                <td><strong>Name</strong></td><td>Sulfate exchange</td>\n",
       "            </tr><tr>\n",
       "                <td><strong>Memory address</strong></td>\n",
       "                <td>0x028a91f391c8</td>\n",
       "            </tr><tr>\n",
       "                <td><strong>Stoichiometry</strong></td>\n",
       "                <td>\n",
       "                    <p style='text-align:right'>so4_e <=> </p>\n",
       "                    <p style='text-align:right'>Sulfate <=> </p>\n",
       "                </td>\n",
       "            </tr><tr>\n",
       "                <td><strong>GPR</strong></td><td></td>\n",
       "            </tr><tr>\n",
       "                <td><strong>Lower bound</strong></td><td>-1000</td>\n",
       "            </tr><tr>\n",
       "                <td><strong>Upper bound</strong></td><td>1000</td>\n",
       "            </tr>\n",
       "        </table>\n",
       "        "
      ],
      "text/plain": [
       "<Reaction EX_so4_e at 0x28a91f391c8>"
      ]
     },
     "execution_count": 27,
     "metadata": {},
     "output_type": "execute_result"
    }
   ],
   "source": [
    "model.add_boundary(model.metabolites.so4_e,type = 'exchange', reaction_id = 'EX_so4_e', lb = -1000, ub = 1000)"
   ]
  },
  {
   "cell_type": "code",
   "execution_count": 28,
   "metadata": {},
   "outputs": [],
   "source": [
    "#add transport, proton symport\n",
    "model.add_reaction(Reaction(id='SO4t'))"
   ]
  },
  {
   "cell_type": "code",
   "execution_count": 29,
   "metadata": {},
   "outputs": [],
   "source": [
    "model.reactions.SO4t.name = 'Sulfate transport via proton symport'\n",
    "model.reactions.SO4t.annotation['sbo'] = 'SBO:0000185'\n",
    "model.reactions.SO4t.bounds = (0,1000)"
   ]
  },
  {
   "cell_type": "code",
   "execution_count": 30,
   "metadata": {},
   "outputs": [],
   "source": [
    "model.reactions.SO4t.add_metabolites({\n",
    "    model.metabolites.h_e:-1, \n",
    "    model.metabolites.so4_e:-1,\n",
    "    model.metabolites.h_c:1, \n",
    "    model.metabolites.so4_c:1,\n",
    "})"
   ]
  },
  {
   "cell_type": "markdown",
   "metadata": {},
   "source": [
    "Next, I have to add the pathway encoded by EC 1.8.4.8, EC 2.7.1.25 and EC 2.7.7.4, as these are all annotated in the genome. They contain the assimilatory sulfate reduction pathway. "
   ]
  },
  {
   "cell_type": "code",
   "execution_count": 31,
   "metadata": {},
   "outputs": [],
   "source": [
    "#step 1: EC2.7.7.4\n",
    "model.add_reaction(Reaction(id='SADT'))"
   ]
  },
  {
   "cell_type": "code",
   "execution_count": 32,
   "metadata": {},
   "outputs": [],
   "source": [
    "#need to add the  Adenosine 5'-phosphosulfate metabolite first\n",
    "model.add_metabolites(Metabolite(id='aps_c'))"
   ]
  },
  {
   "cell_type": "code",
   "execution_count": 33,
   "metadata": {},
   "outputs": [],
   "source": [
    "model.metabolites.aps_c. name = 'Adenosine 5-phosphosulfate'\n",
    "model.metabolites.aps_c.charge = -2\n",
    "model.metabolites.aps_c.formula = 'C10H12N5O10PS'\n",
    "model.metabolites.aps_c.compartment = 'c'\n",
    "model.metabolites.aps_c.annotation = model_e_coli.metabolites.aps_c.annotation"
   ]
  },
  {
   "cell_type": "code",
   "execution_count": 34,
   "metadata": {},
   "outputs": [],
   "source": [
    "model.reactions.SADT.name = 'Sulfate adenylyltransferase'\n",
    "model.reactions.SADT.annotation = model_b_sub.reactions.SADT.annotation\n",
    "model.reactions.SADT.bounds = (0,1000)"
   ]
  },
  {
   "cell_type": "code",
   "execution_count": 35,
   "metadata": {},
   "outputs": [],
   "source": [
    "model.reactions.SADT.add_metabolites({\n",
    "    model.metabolites.atp_c:-1, model.metabolites.h_c: -1, model.metabolites.so4_c:-1,\n",
    "    model.metabolites.aps_c:1, model.metabolites.ppi_c: 1\n",
    "})"
   ]
  },
  {
   "cell_type": "code",
   "execution_count": 36,
   "metadata": {},
   "outputs": [],
   "source": [
    "#step 2 add EC 2.7.1.25 and paps metabolite"
   ]
  },
  {
   "cell_type": "code",
   "execution_count": 37,
   "metadata": {},
   "outputs": [],
   "source": [
    "model.add_metabolites(Metabolite(id='paps_c'))"
   ]
  },
  {
   "cell_type": "code",
   "execution_count": 38,
   "metadata": {},
   "outputs": [],
   "source": [
    "model.metabolites.paps_c. name = '3-Phosphoadenylyl sulfate'\n",
    "model.metabolites.paps_c.charge = -4\n",
    "model.metabolites.paps_c.formula = 'C10H11N5O13P2S'\n",
    "model.metabolites.paps_c.compartment = 'c'\n",
    "model.metabolites.paps_c.annotation = model_e_coli.metabolites.paps_c.annotation"
   ]
  },
  {
   "cell_type": "code",
   "execution_count": 39,
   "metadata": {},
   "outputs": [],
   "source": [
    "model.add_reaction(Reaction(id='ADSK'))"
   ]
  },
  {
   "cell_type": "code",
   "execution_count": 40,
   "metadata": {},
   "outputs": [],
   "source": [
    "model.reactions.ADSK.name = 'Adenylyl-sulfate kinase'\n",
    "model.reactions.ADSK.annotation = model_e_coli.reactions.ADSK.annotation\n",
    "model.reactions.ADSK.bounds = (0,1000)"
   ]
  },
  {
   "cell_type": "code",
   "execution_count": 41,
   "metadata": {},
   "outputs": [],
   "source": [
    "model.reactions.ADSK.add_metabolites({\n",
    "    model.metabolites.aps_c:-1, model.metabolites.atp_c:-1,\n",
    "    model.metabolites.adp_c:1, model.metabolites.h_c:1, model.metabolites.paps_c:1\n",
    "})"
   ]
  },
  {
   "cell_type": "code",
   "execution_count": 42,
   "metadata": {},
   "outputs": [],
   "source": [
    "#step 3: add ec 1.8.4.8 and pap metabolite"
   ]
  },
  {
   "cell_type": "code",
   "execution_count": 43,
   "metadata": {},
   "outputs": [],
   "source": [
    "model.add_metabolites(Metabolite(id='pap_c'))"
   ]
  },
  {
   "cell_type": "code",
   "execution_count": 44,
   "metadata": {},
   "outputs": [],
   "source": [
    "model.metabolites.pap_c. name = 'Adenosine 3,5-bisphosphate'\n",
    "model.metabolites.pap_c.charge = -4\n",
    "model.metabolites.pap_c.formula = 'C10H11N5O10P2'\n",
    "model.metabolites.pap_c.compartment = 'c'\n",
    "model.metabolites.pap_c.annotation = model_e_coli.metabolites.pap_c.annotation"
   ]
  },
  {
   "cell_type": "code",
   "execution_count": 45,
   "metadata": {},
   "outputs": [],
   "source": [
    "model.add_reaction(Reaction(id='PAPSR'))"
   ]
  },
  {
   "cell_type": "code",
   "execution_count": 46,
   "metadata": {},
   "outputs": [],
   "source": [
    "model.reactions.PAPSR.name = 'Phosphoadenylyl-sulfate reductase (thioredoxin)'\n",
    "model.reactions.PAPSR.annotation = model_e_coli.reactions.PAPSR.annotation\n",
    "model.reactions.PAPSR.bounds = (0,1000)"
   ]
  },
  {
   "cell_type": "code",
   "execution_count": 47,
   "metadata": {},
   "outputs": [],
   "source": [
    "model.reactions.PAPSR.add_metabolites({\n",
    "    model.metabolites.paps_c:-1, model.metabolites.trdrd_c: -1, \n",
    "    model.metabolites.h_c: 2, model.metabolites.pap_c:1, model.metabolites.so3_c:1, model.metabolites.trdox_c:1\n",
    "})"
   ]
  },
  {
   "cell_type": "code",
   "execution_count": 48,
   "metadata": {},
   "outputs": [],
   "source": [
    "#need to add hydrolysis of pap to amp\n",
    "model.add_reaction(Reaction(id='BPNT'))"
   ]
  },
  {
   "cell_type": "code",
   "execution_count": 49,
   "metadata": {},
   "outputs": [],
   "source": [
    "model.reactions.BPNT.name = '3,5-bisphosphate nucleotidase'\n",
    "model.reactions.BPNT.annotation = model_e_coli.reactions.BPNT.annotation\n",
    "model.reactions.BPNT.bounds = (0,1000)"
   ]
  },
  {
   "cell_type": "code",
   "execution_count": 50,
   "metadata": {},
   "outputs": [],
   "source": [
    "model.reactions.BPNT.add_metabolites({\n",
    "    model.metabolites.h2o_c:-1, model.metabolites.pap_c:-1,\n",
    "    model.metabolites.amp_c:1, model.metabolites.pi_c:1\n",
    "})"
   ]
  },
  {
   "cell_type": "markdown",
   "metadata": {},
   "source": [
    "Fixing the sulfate assimilation pathway solved the cysteine and methionine pathways when we remove the gthrd exchange. It also fixes the problem with the coa, succoa and accoa. The only blocked metabolite now is the gthrd metabolite. \n",
    "\n",
    "I need to look into its biosynthesis pathway to ensure this is possible and then the problem should be resolved."
   ]
  },
  {
   "cell_type": "code",
   "execution_count": 51,
   "metadata": {},
   "outputs": [],
   "source": [
    "#save & commit the above\n",
    "cobra.io.write_sbml_model(model,'../model/p-thermo.xml')"
   ]
  },
  {
   "cell_type": "markdown",
   "metadata": {},
   "source": [
    "# Gthrd biosynthesis\n",
    "We've fixed the sulfate assimilation pathway, resolving the issues with cysteine and methionine. However the gthrd is still not biosynthesized as it should be. This is a problem and currentlly killing biomass, so needs to be fixed.\n",
    "\n",
    "Only reaction that can produce gthrdis the LGTHL reaction. But this is in a cycle with the GLYOX reaction, just interconvertin gthrd with lgt__S_c. \n",
    "\n",
    "Generally, glutathione is produced and metabolized in the glutathione cycle. the GGTAe2 reaction in the model covers the breakdown of glutathione into glutamate. However the reactions converting the glutamte into y-hlutmyl-cysteine and further into glutathione are not present. I will check this in the genome if there is reason to beleive they should be present.\n",
    "\n",
    "I can't find any reason to believe the complete cycle should be present. it seems that the Gamma-glutamyl transferase will likely only hydrolyse glutathione, due to some publications. (doi:10.1016/j.biochi.2010.01.021 and doi.org/10.1155/2014/216270). Also I do not really see why it is part of the biomass reaction, so this will be revisited after we look into that."
   ]
  },
  {
   "cell_type": "code",
   "execution_count": null,
   "metadata": {},
   "outputs": [],
   "source": []
  },
  {
   "cell_type": "code",
   "execution_count": null,
   "metadata": {},
   "outputs": [],
   "source": []
  },
  {
   "cell_type": "code",
   "execution_count": 14,
   "metadata": {},
   "outputs": [
    {
     "name": "stdout",
     "output_type": "stream",
     "text": [
      "1.6430375759493985\n"
     ]
    }
   ],
   "source": [
    "other = ['', '', '', '', '', '', '', '', '', '', 'gthrd_c']\n",
    "with model:\n",
    "    model.reactions.EX_gthrd_e.bounds = (0,0) #blocking exchange kills biomass\n",
    "#     model.add_boundary(model.metabolites.h2s_c, type = 'sink', reaction_id = 'test')\n",
    "    for met in model.reactions.biomass.metabolites:\n",
    "#         if met.id in aa:\n",
    "#             coeff = model.reactions.biomass.metabolites[met]\n",
    "#             model.reactions.biomass.add_metabolites({met:-coeff}) \n",
    "        if met.id in other:\n",
    "            coeff = model.reactions.biomass.metabolites[met]\n",
    "            model.reactions.biomass.add_metabolites({met:-coeff})  \n",
    "        else: \n",
    "            continue\n",
    "    solution = model.optimize()\n",
    "    #print (model.metabolites.glu__D_c.summary())\n",
    "    #print ('test flux:', solution['test'])\n",
    "    #print ('test2 flux:', solution['test2'])\n",
    "    \n",
    "    print (solution.objective_value)"
   ]
  },
  {
   "cell_type": "markdown",
   "metadata": {},
   "source": [
    "# Valine pathway\n",
    "We expect valine to be produced via the two KARI reactions, that are incluced in the map currently. However, there is no flux through these reactions. here I will inspect why this is to be sure this is correct. Turns out this is because there is the KARA1 reaction too, which performs the same conversion, just without the inbetwen step of 3hmoa_c. As the net reaction is the same, and this could cause a cycle I will remove the two KARI reactions. This will also make the model more BiGG compliant which is useful for later purposes.\n",
    "\n",
    "Then, I will adapt the reaction in the AA synthesis map. "
   ]
  },
  {
   "cell_type": "code",
   "execution_count": 54,
   "metadata": {},
   "outputs": [],
   "source": [
    "model.remove_reactions(model.reactions.KARI_23dhmb)"
   ]
  },
  {
   "cell_type": "code",
   "execution_count": 55,
   "metadata": {},
   "outputs": [],
   "source": [
    "model.remove_reactions(model.reactions.KARI_3hmoa)"
   ]
  },
  {
   "cell_type": "code",
   "execution_count": 56,
   "metadata": {},
   "outputs": [],
   "source": [
    "model.remove_metabolites(model.metabolites.get_by_id('3hmoa_c'))"
   ]
  },
  {
   "cell_type": "code",
   "execution_count": 57,
   "metadata": {},
   "outputs": [],
   "source": [
    "#save&commit\n",
    "cobra.io.write_sbml_model(model,'../model/p-thermo.xml')"
   ]
  },
  {
   "cell_type": "markdown",
   "metadata": {},
   "source": [
    "# asn pathway\n",
    "Also, asparagine is not being produced as one would expect. So here I will check how it is being synthesized curerntly to determine what should be fixed.\n",
    "\n",
    "Asn is made via the ASNS2 reaction, which can assimilate ammonia. There is indication that the asparagine synthase enzyme in E. coli and B. subtilis can assimilate ammonium. Therefore I will leave this reaction in the model, and just adapt it in the map. "
   ]
  },
  {
   "cell_type": "code",
   "execution_count": 52,
   "metadata": {},
   "outputs": [],
   "source": [
    "model = cobra.io.read_sbml_model('../model/p-thermo.xml')"
   ]
  },
  {
   "cell_type": "code",
   "execution_count": 53,
   "metadata": {},
   "outputs": [
    {
     "data": {
      "text/plain": [
       "{<Metabolite h2o_c at 0x28a90008408>: -104.9974,\n",
       " <Metabolite qh2_c at 0x28a9001b9c8>: -0.029903042,\n",
       " <Metabolite coa_c at 0x28a900b8288>: -0.029903042,\n",
       " <Metabolite leu__L_c at 0x28a8ffdb048>: -0.36865919,\n",
       " <Metabolite ptrc_c at 0x28a8fff6488>: -0.029903042,\n",
       " <Metabolite his__L_c at 0x28a90003408>: -0.08256969,\n",
       " <Metabolite gmp_c at 0x28a942abcc8>: -0.145952,\n",
       " <Metabolite pro__L_c at 0x28a9429a608>: -0.17668818,\n",
       " <Metabolite asn__L_c at 0x28a942956c8>: -0.42971812,\n",
       " <Metabolite fad_c at 0x28a935d5f08>: -0.029903042,\n",
       " <Metabolite val__L_c at 0x28a935d5348>: -0.39907943,\n",
       " <Metabolite thr__L_c at 0x28a935cec88>: -0.2851532,\n",
       " <Metabolite phe__L_c at 0x28a935bdc88>: -0.15396106,\n",
       " <Metabolite succoa_c at 0x28a935ba608>: -0.029903042,\n",
       " <Metabolite fe2_c at 0x28a935bac48>: -0.029903042,\n",
       " <Metabolite fe3_c at 0x28a935c0688>: -0.029903042,\n",
       " <Metabolite amp_c at 0x28a9440a788>: -0.113187265,\n",
       " <Metabolite dcmp_c at 0x28a93acf508>: -0.023333636,\n",
       " <Metabolite atp_c at 0x28a93acfd48>: -105.027303042,\n",
       " <Metabolite chor_c at 0x28a93ab8dc8>: -0.029903042,\n",
       " <Metabolite ribflv_c at 0x28a94123f48>: -0.029903042,\n",
       " <Metabolite accoa_c at 0x28a94118b88>: -0.029903042,\n",
       " <Metabolite glu__L_c at 0x28a942ec848>: -0.109910287,\n",
       " <Metabolite damp_c at 0x28a936aa288>: -0.029903042,\n",
       " <Metabolite dgmp_c at 0x28a94316e48>: -0.023333636,\n",
       " <Metabolite dtmp_c at 0x28a936848c8>: -0.029903042,\n",
       " <Metabolite ile__L_c at 0x28a93b2fa48>: -0.2894275,\n",
       " <Metabolite nad_c at 0x28a93b17a48>: -0.029903042,\n",
       " <Metabolite gly_c at 0x28a93cb8508>: -0.43255958,\n",
       " <Metabolite ala__L_c at 0x28a93fb0b88>: -0.54554044,\n",
       " <Metabolite nadh_c at 0x28a93cee3c8>: -0.029903042,\n",
       " <Metabolite cl_c at 0x28a93be8988>: -0.029903042,\n",
       " <Metabolite lys__L_c at 0x28a93be26c8>: -0.336492138,\n",
       " <Metabolite asp__L_c at 0x28a93bc5bc8>: -0.23547196,\n",
       " <Metabolite gthrd_c at 0x28a93bbb648>: -0.029903042,\n",
       " <Metabolite nadph_c at 0x28a93b8cb48>: -0.029903042,\n",
       " <Metabolite cmp_c at 0x28a93b8d388>: -0.079997015,\n",
       " <Metabolite arg__L_c at 0x28a93b4e4c8>: -0.194,\n",
       " <Metabolite gln__L_c at 0x28a93b30548>: -0.683,\n",
       " <Metabolite ser__L_c at 0x28a939e6388>: -0.19218254,\n",
       " <Metabolite nadp_c at 0x28a939e0e48>: -0.029903042,\n",
       " <Metabolite thmpp_c at 0x28a939dea08>: -0.029903042,\n",
       " <Metabolite met__L_c at 0x28a939c8448>: -0.09015617,\n",
       " <Metabolite trp__L_c at 0x28a939b41c8>: -0.10888199,\n",
       " <Metabolite tyr__L_c at 0x28a938a08c8>: -0.176105203,\n",
       " <Metabolite cys__L_c at 0x28a9443b108>: -0.11444242,\n",
       " <Metabolite ump_c at 0x28a943bfc48>: -0.0868052716,\n",
       " <Metabolite h_c at 0x28a9396b088>: 104.9974,\n",
       " <Metabolite adp_c at 0x28a93871148>: 104.9974,\n",
       " <Metabolite pi_c at 0x28a943ec588>: 104.9856,\n",
       " <Metabolite Biomass_c at 0x28a94393088>: 1.0}"
      ]
     },
     "execution_count": 53,
     "metadata": {},
     "output_type": "execute_result"
    }
   ],
   "source": [
    "model.reactions.biomass.metabolites"
   ]
  },
  {
   "cell_type": "code",
   "execution_count": null,
   "metadata": {},
   "outputs": [],
   "source": []
  }
 ],
 "metadata": {
  "kernelspec": {
   "display_name": "Python 3",
   "language": "python",
   "name": "python3"
  },
  "language_info": {
   "codemirror_mode": {
    "name": "ipython",
    "version": 3
   },
   "file_extension": ".py",
   "mimetype": "text/x-python",
   "name": "python",
   "nbconvert_exporter": "python",
   "pygments_lexer": "ipython3",
   "version": "3.7.9"
  }
 },
 "nbformat": 4,
 "nbformat_minor": 2
}
