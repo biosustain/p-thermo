{
 "cells": [
  {
   "cell_type": "markdown",
   "metadata": {},
   "source": [
    "# Introduction\n",
    "I've noticed that the biomass reaction in the model doesn't match what is present in Beata's thesis. Tables 4.1, 4.2, 4.3, 4.4, 4.5 and 4.6 cover results of experimental determination of the biomass components. The biomass reaction should encompass all of these metabolites. I have noticed that quite some metabolites are missing, or that the coefficients do not exactly match the presented data. So here I will try to make the reaction match the data presented. I will go per category, and after adding each missing metabolite check biomass formation is still possible. If not, I will try to find out the root cause and tackle that problem. \n",
    "\n",
    "All the way at the end, when the model is mass and stoiciometrically balanced we can fit the GAM to the data presented in the thesis; for now I will leave it as it is. "
   ]
  },
  {
   "cell_type": "code",
   "execution_count": 1,
   "metadata": {},
   "outputs": [
    {
     "data": {
      "application/javascript": [
       "\n",
       "(function(root) {\n",
       "  function now() {\n",
       "    return new Date();\n",
       "  }\n",
       "\n",
       "  var force = true;\n",
       "\n",
       "  if (typeof root._bokeh_onload_callbacks === \"undefined\" || force === true) {\n",
       "    root._bokeh_onload_callbacks = [];\n",
       "    root._bokeh_is_loading = undefined;\n",
       "  }\n",
       "\n",
       "  var JS_MIME_TYPE = 'application/javascript';\n",
       "  var HTML_MIME_TYPE = 'text/html';\n",
       "  var EXEC_MIME_TYPE = 'application/vnd.bokehjs_exec.v0+json';\n",
       "  var CLASS_NAME = 'output_bokeh rendered_html';\n",
       "\n",
       "  /**\n",
       "   * Render data to the DOM node\n",
       "   */\n",
       "  function render(props, node) {\n",
       "    var script = document.createElement(\"script\");\n",
       "    node.appendChild(script);\n",
       "  }\n",
       "\n",
       "  /**\n",
       "   * Handle when an output is cleared or removed\n",
       "   */\n",
       "  function handleClearOutput(event, handle) {\n",
       "    var cell = handle.cell;\n",
       "\n",
       "    var id = cell.output_area._bokeh_element_id;\n",
       "    var server_id = cell.output_area._bokeh_server_id;\n",
       "    // Clean up Bokeh references\n",
       "    if (id != null && id in Bokeh.index) {\n",
       "      Bokeh.index[id].model.document.clear();\n",
       "      delete Bokeh.index[id];\n",
       "    }\n",
       "\n",
       "    if (server_id !== undefined) {\n",
       "      // Clean up Bokeh references\n",
       "      var cmd = \"from bokeh.io.state import curstate; print(curstate().uuid_to_server['\" + server_id + \"'].get_sessions()[0].document.roots[0]._id)\";\n",
       "      cell.notebook.kernel.execute(cmd, {\n",
       "        iopub: {\n",
       "          output: function(msg) {\n",
       "            var id = msg.content.text.trim();\n",
       "            if (id in Bokeh.index) {\n",
       "              Bokeh.index[id].model.document.clear();\n",
       "              delete Bokeh.index[id];\n",
       "            }\n",
       "          }\n",
       "        }\n",
       "      });\n",
       "      // Destroy server and session\n",
       "      var cmd = \"import bokeh.io.notebook as ion; ion.destroy_server('\" + server_id + \"')\";\n",
       "      cell.notebook.kernel.execute(cmd);\n",
       "    }\n",
       "  }\n",
       "\n",
       "  /**\n",
       "   * Handle when a new output is added\n",
       "   */\n",
       "  function handleAddOutput(event, handle) {\n",
       "    var output_area = handle.output_area;\n",
       "    var output = handle.output;\n",
       "\n",
       "    // limit handleAddOutput to display_data with EXEC_MIME_TYPE content only\n",
       "    if ((output.output_type != \"display_data\") || (!output.data.hasOwnProperty(EXEC_MIME_TYPE))) {\n",
       "      return\n",
       "    }\n",
       "\n",
       "    var toinsert = output_area.element.find(\".\" + CLASS_NAME.split(' ')[0]);\n",
       "\n",
       "    if (output.metadata[EXEC_MIME_TYPE][\"id\"] !== undefined) {\n",
       "      toinsert[toinsert.length - 1].firstChild.textContent = output.data[JS_MIME_TYPE];\n",
       "      // store reference to embed id on output_area\n",
       "      output_area._bokeh_element_id = output.metadata[EXEC_MIME_TYPE][\"id\"];\n",
       "    }\n",
       "    if (output.metadata[EXEC_MIME_TYPE][\"server_id\"] !== undefined) {\n",
       "      var bk_div = document.createElement(\"div\");\n",
       "      bk_div.innerHTML = output.data[HTML_MIME_TYPE];\n",
       "      var script_attrs = bk_div.children[0].attributes;\n",
       "      for (var i = 0; i < script_attrs.length; i++) {\n",
       "        toinsert[toinsert.length - 1].firstChild.setAttribute(script_attrs[i].name, script_attrs[i].value);\n",
       "        toinsert[toinsert.length - 1].firstChild.textContent = bk_div.children[0].textContent\n",
       "      }\n",
       "      // store reference to server id on output_area\n",
       "      output_area._bokeh_server_id = output.metadata[EXEC_MIME_TYPE][\"server_id\"];\n",
       "    }\n",
       "  }\n",
       "\n",
       "  function register_renderer(events, OutputArea) {\n",
       "\n",
       "    function append_mime(data, metadata, element) {\n",
       "      // create a DOM node to render to\n",
       "      var toinsert = this.create_output_subarea(\n",
       "        metadata,\n",
       "        CLASS_NAME,\n",
       "        EXEC_MIME_TYPE\n",
       "      );\n",
       "      this.keyboard_manager.register_events(toinsert);\n",
       "      // Render to node\n",
       "      var props = {data: data, metadata: metadata[EXEC_MIME_TYPE]};\n",
       "      render(props, toinsert[toinsert.length - 1]);\n",
       "      element.append(toinsert);\n",
       "      return toinsert\n",
       "    }\n",
       "\n",
       "    /* Handle when an output is cleared or removed */\n",
       "    events.on('clear_output.CodeCell', handleClearOutput);\n",
       "    events.on('delete.Cell', handleClearOutput);\n",
       "\n",
       "    /* Handle when a new output is added */\n",
       "    events.on('output_added.OutputArea', handleAddOutput);\n",
       "\n",
       "    /**\n",
       "     * Register the mime type and append_mime function with output_area\n",
       "     */\n",
       "    OutputArea.prototype.register_mime_type(EXEC_MIME_TYPE, append_mime, {\n",
       "      /* Is output safe? */\n",
       "      safe: true,\n",
       "      /* Index of renderer in `output_area.display_order` */\n",
       "      index: 0\n",
       "    });\n",
       "  }\n",
       "\n",
       "  // register the mime type if in Jupyter Notebook environment and previously unregistered\n",
       "  if (root.Jupyter !== undefined) {\n",
       "    var events = require('base/js/events');\n",
       "    var OutputArea = require('notebook/js/outputarea').OutputArea;\n",
       "\n",
       "    if (OutputArea.prototype.mime_types().indexOf(EXEC_MIME_TYPE) == -1) {\n",
       "      register_renderer(events, OutputArea);\n",
       "    }\n",
       "  }\n",
       "\n",
       "  \n",
       "  if (typeof (root._bokeh_timeout) === \"undefined\" || force === true) {\n",
       "    root._bokeh_timeout = Date.now() + 5000;\n",
       "    root._bokeh_failed_load = false;\n",
       "  }\n",
       "\n",
       "  var NB_LOAD_WARNING = {'data': {'text/html':\n",
       "     \"<div style='background-color: #fdd'>\\n\"+\n",
       "     \"<p>\\n\"+\n",
       "     \"BokehJS does not appear to have successfully loaded. If loading BokehJS from CDN, this \\n\"+\n",
       "     \"may be due to a slow or bad network connection. Possible fixes:\\n\"+\n",
       "     \"</p>\\n\"+\n",
       "     \"<ul>\\n\"+\n",
       "     \"<li>re-rerun `output_notebook()` to attempt to load from CDN again, or</li>\\n\"+\n",
       "     \"<li>use INLINE resources instead, as so:</li>\\n\"+\n",
       "     \"</ul>\\n\"+\n",
       "     \"<code>\\n\"+\n",
       "     \"from bokeh.resources import INLINE\\n\"+\n",
       "     \"output_notebook(resources=INLINE)\\n\"+\n",
       "     \"</code>\\n\"+\n",
       "     \"</div>\"}};\n",
       "\n",
       "  function display_loaded() {\n",
       "    var el = document.getElementById(null);\n",
       "    if (el != null) {\n",
       "      el.textContent = \"BokehJS is loading...\";\n",
       "    }\n",
       "    if (root.Bokeh !== undefined) {\n",
       "      if (el != null) {\n",
       "        el.textContent = \"BokehJS \" + root.Bokeh.version + \" successfully loaded.\";\n",
       "      }\n",
       "    } else if (Date.now() < root._bokeh_timeout) {\n",
       "      setTimeout(display_loaded, 100)\n",
       "    }\n",
       "  }\n",
       "\n",
       "\n",
       "  function run_callbacks() {\n",
       "    try {\n",
       "      root._bokeh_onload_callbacks.forEach(function(callback) {\n",
       "        if (callback != null)\n",
       "          callback();\n",
       "      });\n",
       "    } finally {\n",
       "      delete root._bokeh_onload_callbacks\n",
       "    }\n",
       "    console.debug(\"Bokeh: all callbacks have finished\");\n",
       "  }\n",
       "\n",
       "  function load_libs(css_urls, js_urls, callback) {\n",
       "    if (css_urls == null) css_urls = [];\n",
       "    if (js_urls == null) js_urls = [];\n",
       "\n",
       "    root._bokeh_onload_callbacks.push(callback);\n",
       "    if (root._bokeh_is_loading > 0) {\n",
       "      console.debug(\"Bokeh: BokehJS is being loaded, scheduling callback at\", now());\n",
       "      return null;\n",
       "    }\n",
       "    if (js_urls == null || js_urls.length === 0) {\n",
       "      run_callbacks();\n",
       "      return null;\n",
       "    }\n",
       "    console.debug(\"Bokeh: BokehJS not loaded, scheduling load and callback at\", now());\n",
       "    root._bokeh_is_loading = css_urls.length + js_urls.length;\n",
       "\n",
       "    function on_load() {\n",
       "      root._bokeh_is_loading--;\n",
       "      if (root._bokeh_is_loading === 0) {\n",
       "        console.debug(\"Bokeh: all BokehJS libraries/stylesheets loaded\");\n",
       "        run_callbacks()\n",
       "      }\n",
       "    }\n",
       "\n",
       "    function on_error() {\n",
       "      console.error(\"failed to load \" + url);\n",
       "    }\n",
       "\n",
       "    for (var i = 0; i < css_urls.length; i++) {\n",
       "      var url = css_urls[i];\n",
       "      const element = document.createElement(\"link\");\n",
       "      element.onload = on_load;\n",
       "      element.onerror = on_error;\n",
       "      element.rel = \"stylesheet\";\n",
       "      element.type = \"text/css\";\n",
       "      element.href = url;\n",
       "      console.debug(\"Bokeh: injecting link tag for BokehJS stylesheet: \", url);\n",
       "      document.body.appendChild(element);\n",
       "    }\n",
       "\n",
       "    const hashes = {\"https://cdn.bokeh.org/bokeh/release/bokeh-2.0.1.min.js\": \"JpP8FXbgAZLkfur7LiK3j9AGBhHNIvF742meBJrjO2ShJDhCG2I1uVvW+0DUtrmc\", \"https://cdn.bokeh.org/bokeh/release/bokeh-widgets-2.0.1.min.js\": \"xZlADit0Q04ISQEdKg2k3L4W9AwQBAuDs9nJL9fM/WwzL1tEU9VPNezOFX0nLEAz\", \"https://cdn.bokeh.org/bokeh/release/bokeh-tables-2.0.1.min.js\": \"4BuPRZkdMKSnj3zoxiNrQ86XgNw0rYmBOxe7nshquXwwcauupgBF2DHLVG1WuZlV\", \"https://cdn.bokeh.org/bokeh/release/bokeh-gl-2.0.1.min.js\": \"Dv1SQ87hmDqK6S5OhBf0bCuwAEvL5QYL0PuR/F1SPVhCS/r/abjkbpKDYL2zeM19\"};\n",
       "\n",
       "    for (var i = 0; i < js_urls.length; i++) {\n",
       "      var url = js_urls[i];\n",
       "      var element = document.createElement('script');\n",
       "      element.onload = on_load;\n",
       "      element.onerror = on_error;\n",
       "      element.async = false;\n",
       "      element.src = url;\n",
       "      if (url in hashes) {\n",
       "        element.crossOrigin = \"anonymous\";\n",
       "        element.integrity = \"sha384-\" + hashes[url];\n",
       "      }\n",
       "      console.debug(\"Bokeh: injecting script tag for BokehJS library: \", url);\n",
       "      document.head.appendChild(element);\n",
       "    }\n",
       "  };\n",
       "\n",
       "  function inject_raw_css(css) {\n",
       "    const element = document.createElement(\"style\");\n",
       "    element.appendChild(document.createTextNode(css));\n",
       "    document.body.appendChild(element);\n",
       "  }\n",
       "\n",
       "  \n",
       "  var js_urls = [\"https://cdn.bokeh.org/bokeh/release/bokeh-2.0.1.min.js\", \"https://cdn.bokeh.org/bokeh/release/bokeh-widgets-2.0.1.min.js\", \"https://cdn.bokeh.org/bokeh/release/bokeh-tables-2.0.1.min.js\", \"https://cdn.bokeh.org/bokeh/release/bokeh-gl-2.0.1.min.js\"];\n",
       "  var css_urls = [];\n",
       "  \n",
       "\n",
       "  var inline_js = [\n",
       "    function(Bokeh) {\n",
       "      Bokeh.set_log_level(\"info\");\n",
       "    },\n",
       "    function(Bokeh) {\n",
       "    \n",
       "    \n",
       "    }\n",
       "  ];\n",
       "\n",
       "  function run_inline_js() {\n",
       "    \n",
       "    if (root.Bokeh !== undefined || force === true) {\n",
       "      \n",
       "    for (var i = 0; i < inline_js.length; i++) {\n",
       "      inline_js[i].call(root, root.Bokeh);\n",
       "    }\n",
       "    } else if (Date.now() < root._bokeh_timeout) {\n",
       "      setTimeout(run_inline_js, 100);\n",
       "    } else if (!root._bokeh_failed_load) {\n",
       "      console.log(\"Bokeh: BokehJS failed to load within specified timeout.\");\n",
       "      root._bokeh_failed_load = true;\n",
       "    } else if (force !== true) {\n",
       "      var cell = $(document.getElementById(null)).parents('.cell').data().cell;\n",
       "      cell.output_area.append_execute_result(NB_LOAD_WARNING)\n",
       "    }\n",
       "\n",
       "  }\n",
       "\n",
       "  if (root._bokeh_is_loading === 0) {\n",
       "    console.debug(\"Bokeh: BokehJS loaded, going straight to plotting\");\n",
       "    run_inline_js();\n",
       "  } else {\n",
       "    load_libs(css_urls, js_urls, function() {\n",
       "      console.debug(\"Bokeh: BokehJS plotting callback run at\", now());\n",
       "      run_inline_js();\n",
       "    });\n",
       "  }\n",
       "}(window));"
      ],
      "application/vnd.bokehjs_load.v0+json": "\n(function(root) {\n  function now() {\n    return new Date();\n  }\n\n  var force = true;\n\n  if (typeof root._bokeh_onload_callbacks === \"undefined\" || force === true) {\n    root._bokeh_onload_callbacks = [];\n    root._bokeh_is_loading = undefined;\n  }\n\n  \n\n  \n  if (typeof (root._bokeh_timeout) === \"undefined\" || force === true) {\n    root._bokeh_timeout = Date.now() + 5000;\n    root._bokeh_failed_load = false;\n  }\n\n  var NB_LOAD_WARNING = {'data': {'text/html':\n     \"<div style='background-color: #fdd'>\\n\"+\n     \"<p>\\n\"+\n     \"BokehJS does not appear to have successfully loaded. If loading BokehJS from CDN, this \\n\"+\n     \"may be due to a slow or bad network connection. Possible fixes:\\n\"+\n     \"</p>\\n\"+\n     \"<ul>\\n\"+\n     \"<li>re-rerun `output_notebook()` to attempt to load from CDN again, or</li>\\n\"+\n     \"<li>use INLINE resources instead, as so:</li>\\n\"+\n     \"</ul>\\n\"+\n     \"<code>\\n\"+\n     \"from bokeh.resources import INLINE\\n\"+\n     \"output_notebook(resources=INLINE)\\n\"+\n     \"</code>\\n\"+\n     \"</div>\"}};\n\n  function display_loaded() {\n    var el = document.getElementById(null);\n    if (el != null) {\n      el.textContent = \"BokehJS is loading...\";\n    }\n    if (root.Bokeh !== undefined) {\n      if (el != null) {\n        el.textContent = \"BokehJS \" + root.Bokeh.version + \" successfully loaded.\";\n      }\n    } else if (Date.now() < root._bokeh_timeout) {\n      setTimeout(display_loaded, 100)\n    }\n  }\n\n\n  function run_callbacks() {\n    try {\n      root._bokeh_onload_callbacks.forEach(function(callback) {\n        if (callback != null)\n          callback();\n      });\n    } finally {\n      delete root._bokeh_onload_callbacks\n    }\n    console.debug(\"Bokeh: all callbacks have finished\");\n  }\n\n  function load_libs(css_urls, js_urls, callback) {\n    if (css_urls == null) css_urls = [];\n    if (js_urls == null) js_urls = [];\n\n    root._bokeh_onload_callbacks.push(callback);\n    if (root._bokeh_is_loading > 0) {\n      console.debug(\"Bokeh: BokehJS is being loaded, scheduling callback at\", now());\n      return null;\n    }\n    if (js_urls == null || js_urls.length === 0) {\n      run_callbacks();\n      return null;\n    }\n    console.debug(\"Bokeh: BokehJS not loaded, scheduling load and callback at\", now());\n    root._bokeh_is_loading = css_urls.length + js_urls.length;\n\n    function on_load() {\n      root._bokeh_is_loading--;\n      if (root._bokeh_is_loading === 0) {\n        console.debug(\"Bokeh: all BokehJS libraries/stylesheets loaded\");\n        run_callbacks()\n      }\n    }\n\n    function on_error() {\n      console.error(\"failed to load \" + url);\n    }\n\n    for (var i = 0; i < css_urls.length; i++) {\n      var url = css_urls[i];\n      const element = document.createElement(\"link\");\n      element.onload = on_load;\n      element.onerror = on_error;\n      element.rel = \"stylesheet\";\n      element.type = \"text/css\";\n      element.href = url;\n      console.debug(\"Bokeh: injecting link tag for BokehJS stylesheet: \", url);\n      document.body.appendChild(element);\n    }\n\n    const hashes = {\"https://cdn.bokeh.org/bokeh/release/bokeh-2.0.1.min.js\": \"JpP8FXbgAZLkfur7LiK3j9AGBhHNIvF742meBJrjO2ShJDhCG2I1uVvW+0DUtrmc\", \"https://cdn.bokeh.org/bokeh/release/bokeh-widgets-2.0.1.min.js\": \"xZlADit0Q04ISQEdKg2k3L4W9AwQBAuDs9nJL9fM/WwzL1tEU9VPNezOFX0nLEAz\", \"https://cdn.bokeh.org/bokeh/release/bokeh-tables-2.0.1.min.js\": \"4BuPRZkdMKSnj3zoxiNrQ86XgNw0rYmBOxe7nshquXwwcauupgBF2DHLVG1WuZlV\", \"https://cdn.bokeh.org/bokeh/release/bokeh-gl-2.0.1.min.js\": \"Dv1SQ87hmDqK6S5OhBf0bCuwAEvL5QYL0PuR/F1SPVhCS/r/abjkbpKDYL2zeM19\"};\n\n    for (var i = 0; i < js_urls.length; i++) {\n      var url = js_urls[i];\n      var element = document.createElement('script');\n      element.onload = on_load;\n      element.onerror = on_error;\n      element.async = false;\n      element.src = url;\n      if (url in hashes) {\n        element.crossOrigin = \"anonymous\";\n        element.integrity = \"sha384-\" + hashes[url];\n      }\n      console.debug(\"Bokeh: injecting script tag for BokehJS library: \", url);\n      document.head.appendChild(element);\n    }\n  };\n\n  function inject_raw_css(css) {\n    const element = document.createElement(\"style\");\n    element.appendChild(document.createTextNode(css));\n    document.body.appendChild(element);\n  }\n\n  \n  var js_urls = [\"https://cdn.bokeh.org/bokeh/release/bokeh-2.0.1.min.js\", \"https://cdn.bokeh.org/bokeh/release/bokeh-widgets-2.0.1.min.js\", \"https://cdn.bokeh.org/bokeh/release/bokeh-tables-2.0.1.min.js\", \"https://cdn.bokeh.org/bokeh/release/bokeh-gl-2.0.1.min.js\"];\n  var css_urls = [];\n  \n\n  var inline_js = [\n    function(Bokeh) {\n      Bokeh.set_log_level(\"info\");\n    },\n    function(Bokeh) {\n    \n    \n    }\n  ];\n\n  function run_inline_js() {\n    \n    if (root.Bokeh !== undefined || force === true) {\n      \n    for (var i = 0; i < inline_js.length; i++) {\n      inline_js[i].call(root, root.Bokeh);\n    }\n    } else if (Date.now() < root._bokeh_timeout) {\n      setTimeout(run_inline_js, 100);\n    } else if (!root._bokeh_failed_load) {\n      console.log(\"Bokeh: BokehJS failed to load within specified timeout.\");\n      root._bokeh_failed_load = true;\n    } else if (force !== true) {\n      var cell = $(document.getElementById(null)).parents('.cell').data().cell;\n      cell.output_area.append_execute_result(NB_LOAD_WARNING)\n    }\n\n  }\n\n  if (root._bokeh_is_loading === 0) {\n    console.debug(\"Bokeh: BokehJS loaded, going straight to plotting\");\n    run_inline_js();\n  } else {\n    load_libs(css_urls, js_urls, function() {\n      console.debug(\"Bokeh: BokehJS plotting callback run at\", now());\n      run_inline_js();\n    });\n  }\n}(window));"
     },
     "metadata": {},
     "output_type": "display_data"
    }
   ],
   "source": [
    "import cameo\n",
    "import pandas as pd\n",
    "import cobra.io\n",
    "import escher\n",
    "from escher import Builder\n",
    "from cobra import Metabolite, Reaction"
   ]
  },
  {
   "cell_type": "code",
   "execution_count": 2,
   "metadata": {},
   "outputs": [],
   "source": [
    "model = cobra.io.read_sbml_model('../model/g-thermo.xml')"
   ]
  },
  {
   "cell_type": "code",
   "execution_count": 3,
   "metadata": {},
   "outputs": [],
   "source": [
    "model_e_coli = cameo.load_model ('iML1515')"
   ]
  },
  {
   "cell_type": "code",
   "execution_count": 4,
   "metadata": {},
   "outputs": [],
   "source": [
    "model_b_sub = cameo.load_model ('iYO844')"
   ]
  },
  {
   "cell_type": "code",
   "execution_count": 5,
   "metadata": {},
   "outputs": [],
   "source": [
    "#available at: https://github.com/SysBioChalmers/yeast-GEM/blob/master/ModelFiles/xml/yeastGEM.xml\n",
    "model_yeast = cobra.io.read_sbml_model('../../Databases/yeastGEM.xml')"
   ]
  },
  {
   "cell_type": "code",
   "execution_count": 5,
   "metadata": {},
   "outputs": [
    {
     "data": {
      "text/plain": [
       "1.832381290856115"
      ]
     },
     "execution_count": 5,
     "metadata": {},
     "output_type": "execute_result"
    }
   ],
   "source": [
    "model.optimize().objective_value"
   ]
  },
  {
   "cell_type": "markdown",
   "metadata": {},
   "source": [
    "## Ions (table 4.1)\n",
    "Table 4.1 shows the determination of the following ions: K, Mg, Fe3+, Ca, phosphate and diphosphate. Note that the units of the metabolites added should be mmol/gdcw. \n",
    "\n",
    "Our reaction currently has the ions: fe3, fe2 and cl. I don't know why or where they were added, but I will remove them. Here I will try to stringently match the data presented.\n",
    "\n",
    "Note: phosphate is also formed from the hydrolysis of ATP, so this number will need to change when the GAM is estimated. "
   ]
  },
  {
   "cell_type": "code",
   "execution_count": 12,
   "metadata": {},
   "outputs": [],
   "source": [
    "#Potassium\n",
    "model.reactions.biomass.add_metabolites({\n",
    "    model.metabolites.k_c: -0.7082\n",
    "})"
   ]
  },
  {
   "cell_type": "code",
   "execution_count": 13,
   "metadata": {},
   "outputs": [
    {
     "data": {
      "text/html": [
       "\n",
       "        <table>\n",
       "            <tr>\n",
       "                <td><strong>Reaction identifier</strong></td><td>EX_k_e</td>\n",
       "            </tr><tr>\n",
       "                <td><strong>Name</strong></td><td>Potassium exchange</td>\n",
       "            </tr><tr>\n",
       "                <td><strong>Memory address</strong></td>\n",
       "                <td>0x020e4230d708</td>\n",
       "            </tr><tr>\n",
       "                <td><strong>Stoichiometry</strong></td>\n",
       "                <td>\n",
       "                    <p style='text-align:right'>k_e <=> </p>\n",
       "                    <p style='text-align:right'>Potassium <=> </p>\n",
       "                </td>\n",
       "            </tr><tr>\n",
       "                <td><strong>GPR</strong></td><td></td>\n",
       "            </tr><tr>\n",
       "                <td><strong>Lower bound</strong></td><td>-1000</td>\n",
       "            </tr><tr>\n",
       "                <td><strong>Upper bound</strong></td><td>1000</td>\n",
       "            </tr>\n",
       "        </table>\n",
       "        "
      ],
      "text/plain": [
       "<Reaction EX_k_e at 0x20e4230d708>"
      ]
     },
     "execution_count": 13,
     "metadata": {},
     "output_type": "execute_result"
    }
   ],
   "source": [
    "#we also supply potassium in the minimal medium, so add the exchange\n",
    "model.add_boundary(model.metabolites.k_e, type= 'exchange',reaction_id = 'EX_k_e',lb = -1000, ub = 1000)"
   ]
  },
  {
   "cell_type": "code",
   "execution_count": 14,
   "metadata": {},
   "outputs": [],
   "source": [
    "#magnesium needs to be added to the model first\n",
    "model.add_metabolites(Metabolite(id='mg2_c'))\n",
    "model.add_metabolites(Metabolite(id='mg2_e'))"
   ]
  },
  {
   "cell_type": "code",
   "execution_count": 15,
   "metadata": {},
   "outputs": [],
   "source": [
    "model.metabolites.mg2_c.name = 'Magnesium'\n",
    "model.metabolites.mg2_c.compartment= 'c'\n",
    "model.metabolites.mg2_c.formula = 'Mg'\n",
    "model.metabolites.mg2_c.annotation = model_e_coli.metabolites.mg2_c.annotation\n",
    "model.metabolites.mg2_c.charge = 2"
   ]
  },
  {
   "cell_type": "code",
   "execution_count": 16,
   "metadata": {},
   "outputs": [],
   "source": [
    "model.metabolites.mg2_e.name = 'Magnesium'\n",
    "model.metabolites.mg2_e.compartment= 'e'\n",
    "model.metabolites.mg2_e.formula = 'Mg'\n",
    "model.metabolites.mg2_e.annotation = model_e_coli.metabolites.mg2_c.annotation\n",
    "model.metabolites.mg2_e.charge = 2"
   ]
  },
  {
   "cell_type": "code",
   "execution_count": 17,
   "metadata": {},
   "outputs": [],
   "source": [
    "#the mg channel has been found in geobacillus, so will add passive transport.\n",
    "model.add_reaction(Reaction(id='MG2t'))"
   ]
  },
  {
   "cell_type": "code",
   "execution_count": 18,
   "metadata": {},
   "outputs": [],
   "source": [
    "model.reactions.MG2t.name = 'Magnesium transport via channel'\n",
    "model.reactions.MG2t.annotation['sbo'] = 'SBO:0000185'\n",
    "model.reactions.MG2t.bounds = (-1000,1000)"
   ]
  },
  {
   "cell_type": "code",
   "execution_count": 19,
   "metadata": {},
   "outputs": [],
   "source": [
    "model.reactions.MG2t.add_metabolites({model.metabolites.mg2_c: -1, model.metabolites.mg2_e: 1})"
   ]
  },
  {
   "cell_type": "code",
   "execution_count": 20,
   "metadata": {},
   "outputs": [
    {
     "data": {
      "text/html": [
       "\n",
       "        <table>\n",
       "            <tr>\n",
       "                <td><strong>Reaction identifier</strong></td><td>EX_mg2_e</td>\n",
       "            </tr><tr>\n",
       "                <td><strong>Name</strong></td><td>Magnesium exchange</td>\n",
       "            </tr><tr>\n",
       "                <td><strong>Memory address</strong></td>\n",
       "                <td>0x020e424a9588</td>\n",
       "            </tr><tr>\n",
       "                <td><strong>Stoichiometry</strong></td>\n",
       "                <td>\n",
       "                    <p style='text-align:right'>mg2_e <=> </p>\n",
       "                    <p style='text-align:right'>Magnesium <=> </p>\n",
       "                </td>\n",
       "            </tr><tr>\n",
       "                <td><strong>GPR</strong></td><td></td>\n",
       "            </tr><tr>\n",
       "                <td><strong>Lower bound</strong></td><td>-1000</td>\n",
       "            </tr><tr>\n",
       "                <td><strong>Upper bound</strong></td><td>1000</td>\n",
       "            </tr>\n",
       "        </table>\n",
       "        "
      ],
      "text/plain": [
       "<Reaction EX_mg2_e at 0x20e424a9588>"
      ]
     },
     "execution_count": 20,
     "metadata": {},
     "output_type": "execute_result"
    }
   ],
   "source": [
    "#add exchange\n",
    "model.add_boundary(model.metabolites.mg2_e, type= 'exchange',reaction_id = 'EX_mg2_e',lb = -1000, ub = 1000)"
   ]
  },
  {
   "cell_type": "code",
   "execution_count": 21,
   "metadata": {},
   "outputs": [],
   "source": [
    "#add mg to biomass\n",
    "model.reactions.biomass.add_metabolites({\n",
    "    model.metabolites.mg2_c: -0.098\n",
    "})"
   ]
  },
  {
   "cell_type": "code",
   "execution_count": 22,
   "metadata": {},
   "outputs": [],
   "source": [
    "#Fe3+ is already in the model, just need to change unit\n",
    "model.reactions.biomass.add_metabolites({\n",
    "    model.metabolites.fe3_c:-0.0041\n",
    "})"
   ]
  },
  {
   "cell_type": "code",
   "execution_count": 23,
   "metadata": {},
   "outputs": [],
   "source": [
    "#calcium needs to be added to the model first\n",
    "model.add_metabolites(Metabolite(id='ca2_c'))\n",
    "model.add_metabolites(Metabolite(id='ca2_e'))"
   ]
  },
  {
   "cell_type": "code",
   "execution_count": 24,
   "metadata": {},
   "outputs": [],
   "source": [
    "model.metabolites.ca2_c.name = 'Calcium'\n",
    "model.metabolites.ca2_c.compartment= 'c'\n",
    "model.metabolites.ca2_c.formula = 'Ca'\n",
    "model.metabolites.ca2_c.annotation = model_e_coli.metabolites.ca2_c.annotation\n",
    "model.metabolites.ca2_c.charge = 2"
   ]
  },
  {
   "cell_type": "code",
   "execution_count": 25,
   "metadata": {},
   "outputs": [],
   "source": [
    "model.metabolites.ca2_e.name = 'Calcium'\n",
    "model.metabolites.ca2_e.compartment= 'e'\n",
    "model.metabolites.ca2_e.formula = 'Ca'\n",
    "model.metabolites.ca2_e.annotation = model_e_coli.metabolites.ca2_e.annotation\n",
    "model.metabolites.ca2_e.charge = 2"
   ]
  },
  {
   "cell_type": "code",
   "execution_count": 26,
   "metadata": {},
   "outputs": [],
   "source": [
    "#there is a calcium antiporter annotated in the genome\n",
    "model.add_reaction(Reaction(id='CA2t'))"
   ]
  },
  {
   "cell_type": "code",
   "execution_count": 27,
   "metadata": {},
   "outputs": [],
   "source": [
    "model.reactions.CA2t.name = 'Transport of calcium via antiport'\n",
    "model.reactions.CA2t.annotation['sbo'] = 'SBO:0000185'\n",
    "model.reactions.CA2t.bounds = (-1000,1000)"
   ]
  },
  {
   "cell_type": "code",
   "execution_count": 28,
   "metadata": {},
   "outputs": [],
   "source": [
    "model.reactions.CA2t.add_metabolites({model.metabolites.ca2_c: -1, model.metabolites.ca2_e:1, model.metabolites.h_e: -1, model.metabolites.h_c:1})"
   ]
  },
  {
   "cell_type": "code",
   "execution_count": 29,
   "metadata": {},
   "outputs": [
    {
     "data": {
      "text/html": [
       "\n",
       "        <table>\n",
       "            <tr>\n",
       "                <td><strong>Reaction identifier</strong></td><td>EX_ca2_e</td>\n",
       "            </tr><tr>\n",
       "                <td><strong>Name</strong></td><td>Calcium exchange</td>\n",
       "            </tr><tr>\n",
       "                <td><strong>Memory address</strong></td>\n",
       "                <td>0x020e42170b08</td>\n",
       "            </tr><tr>\n",
       "                <td><strong>Stoichiometry</strong></td>\n",
       "                <td>\n",
       "                    <p style='text-align:right'>ca2_e <=> </p>\n",
       "                    <p style='text-align:right'>Calcium <=> </p>\n",
       "                </td>\n",
       "            </tr><tr>\n",
       "                <td><strong>GPR</strong></td><td></td>\n",
       "            </tr><tr>\n",
       "                <td><strong>Lower bound</strong></td><td>-1000</td>\n",
       "            </tr><tr>\n",
       "                <td><strong>Upper bound</strong></td><td>1000</td>\n",
       "            </tr>\n",
       "        </table>\n",
       "        "
      ],
      "text/plain": [
       "<Reaction EX_ca2_e at 0x20e42170b08>"
      ]
     },
     "execution_count": 29,
     "metadata": {},
     "output_type": "execute_result"
    }
   ],
   "source": [
    "#add exchange\n",
    "model.add_boundary(model.metabolites.ca2_e, type= 'exchange',reaction_id = 'EX_ca2_e',lb = -1000, ub = 1000)"
   ]
  },
  {
   "cell_type": "code",
   "execution_count": 30,
   "metadata": {},
   "outputs": [],
   "source": [
    "#add ca to biomass\n",
    "model.reactions.biomass.add_metabolites({\n",
    "    model.metabolites.ca2_c: -0.00315\n",
    "})"
   ]
  },
  {
   "cell_type": "markdown",
   "metadata": {},
   "source": [
    "__phosphate__ is orginally in the biomass reaction already: 104.9856 (coupled to the amount of ATP required for growth. \n",
    "As a substrate that is consumed, phosphate only needs 0,0173 mmol/gCDW. This will play only a small difference on the total reaction. I will not change this yet, but this should be modified when we fit the GAM. "
   ]
  },
  {
   "cell_type": "code",
   "execution_count": 31,
   "metadata": {},
   "outputs": [],
   "source": [
    "#diphosphate\n",
    "model.reactions.biomass.add_metabolites({model.metabolites.ppi_c:-0.0012})"
   ]
  },
  {
   "cell_type": "code",
   "execution_count": 32,
   "metadata": {},
   "outputs": [],
   "source": [
    "#remove fe2 and cl from the biomass reaction\n",
    "model.reactions.biomass.add_metabolites({model.metabolites.fe2_c:0.029903042, model.metabolites.cl_c:0.029903042})"
   ]
  },
  {
   "cell_type": "code",
   "execution_count": 33,
   "metadata": {},
   "outputs": [],
   "source": [
    "#save & commit\n",
    "cobra.io.write_sbml_model(model,'../model/g-thermo.xml')"
   ]
  },
  {
   "cell_type": "code",
   "execution_count": 34,
   "metadata": {},
   "outputs": [
    {
     "data": {
      "text/plain": [
       "1.7870624929522956"
      ]
     },
     "execution_count": 34,
     "metadata": {},
     "output_type": "execute_result"
    }
   ],
   "source": [
    "model.optimize().objective_value"
   ]
  },
  {
   "cell_type": "markdown",
   "metadata": {},
   "source": [
    "## Amino acids (table 4.2)\n",
    "I've already ensured all amino acids are present in the model. However, the coefficients associated to a majority of them do not fit what is included in table 4.2, so I will modify those where necessary to match the table."
   ]
  },
  {
   "cell_type": "code",
   "execution_count": 35,
   "metadata": {},
   "outputs": [],
   "source": [
    "model.reactions.biomass.add_metabolites({\n",
    "    model.metabolites.gly_c:-0.02407042, \n",
    "    model.metabolites.ala__L_c:-0.0303495, \n",
    "    model.metabolites.val__L_c:-0.02220057, \n",
    "    model.metabolites.leu__L_c:-0.02051081, \n",
    "    model.metabolites.ile__L_c:-0.0161025,\n",
    "    model.metabolites.ser__L_c:-0.01068746,\n",
    "    model.metabolites.thr__L_c:-0.0158668,\n",
    "    model.metabolites.phe__L_c:-0.00856894,\n",
    "    model.metabolites.tyr__L_c:0.060075203,\n",
    "    model.metabolites.trp__L_c:-0.00605801,\n",
    "    model.metabolites.cys__L_c:-0.00636758,\n",
    "    model.metabolites.met__L_c:-0.00301383,\n",
    "    model.metabolites.lys__L_c:-0.018717862,\n",
    "    model.metabolites.arg__L_c:-0.01105,\n",
    "    model.metabolites.his__L_c:-0.00459031,\n",
    "    model.metabolites.asp__L_c:-0.01310304,\n",
    "    model.metabolites.glu__L_c:-0.250734713,\n",
    "    model.metabolites.pro__L_c: -0.00983182,\n",
    "    model.metabolites.gln__L_c:0.322355,\n",
    "    model.metabolites.asn__L_c:0.18114312\n",
    "})\n"
   ]
  },
  {
   "cell_type": "code",
   "execution_count": 36,
   "metadata": {},
   "outputs": [],
   "source": [
    "#save&commit\n",
    "cobra.io.write_sbml_model(model,'../model/g-thermo.xml')"
   ]
  },
  {
   "cell_type": "code",
   "execution_count": 37,
   "metadata": {},
   "outputs": [
    {
     "data": {
      "text/plain": [
       "1.8146393014541327"
      ]
     },
     "execution_count": 37,
     "metadata": {},
     "output_type": "execute_result"
    }
   ],
   "source": [
    "model.optimize().objective_value"
   ]
  },
  {
   "cell_type": "markdown",
   "metadata": {},
   "source": [
    "## DNA & RNA (table 4.3)\n",
    "Here table 4.3 estimates values around 0.2-0.3 per nucleotide, or even 8 mmol/gcdw for UMP and CMP. This is a factor 10 higher than the information about the DNA in figure 4.6. This makes it hard to decide which value to use, though for DNA I would expect values near 0.02 mmol/gCDW, and for RNA around 0.15 mm/gDCW.\n",
    "\n",
    "As the data is hard to really interpret and the outcome of it seems strange. E.g. From the DNA distribution in fig 4.6 we would have 75.4% GC content in the strain, but in the genome we know this should be around 43% (allowing some experimental error). \n",
    "\n",
    "Niko mentioned that we could alternatively estimate the DNA and RNA composition by knowing the GC-content of the genome and the total amounts of DNA and RNA in our bacteria. So instead I will estimate the values from this.\n",
    "\n",
    "GC-content: approx 43.4 mol%\n",
    "total DNA (1%) i.e. 1g DNA / 100 gDCW\n",
    "total RNA (16% of biomass) i.e. 16 g / 100 gDCQ\n",
    "\n",
    "From this data, together with the MW of each (d)NMP we can estimate the mmol/gDCW of each nucleotide present. see '../databases/Biomass_rct.xlsx' for the calculations and desired final values.\n",
    "\n",
    "I will correct the values in the model here."
   ]
  },
  {
   "cell_type": "code",
   "execution_count": 39,
   "metadata": {},
   "outputs": [],
   "source": [
    "model=cobra.io.read_sbml_model('../model/g-thermo.xml')"
   ]
  },
  {
   "cell_type": "code",
   "execution_count": 40,
   "metadata": {},
   "outputs": [],
   "source": [
    "model.reactions.biomass.add_metabolites({\n",
    "    model.metabolites.damp_c:0.021231612,\n",
    "    model.metabolites.dcmp_c: 0.016684519,\n",
    "    model.metabolites.dtmp_c: 0.021231612,\n",
    "    model.metabolites.dgmp_c: 0.016684519,\n",
    "    model.metabolites.amp_c:-0.020399789,\n",
    "    model.metabolites.gmp_c: 0.043519524,\n",
    "    model.metabolites.cmp_c:-0.022435461,\n",
    "    model.metabolites.ump_c:-0.046781783,\n",
    "})"
   ]
  },
  {
   "cell_type": "code",
   "execution_count": 43,
   "metadata": {},
   "outputs": [],
   "source": [
    "#save&commit\n",
    "cobra.io.write_sbml_model(model,'../model/g-thermo.xml')"
   ]
  },
  {
   "cell_type": "markdown",
   "metadata": {},
   "source": [
    "## Carbohydrates\n",
    "Beata's thesis identifies that 10% of DCW is composed of carbohydrates. One would also expect these to be present in the biomass. In the thesis, the data shows the carbohydrate component as split into basic sugars which is convenient from a modelling perspective. It may influence the energy requirement but this will be fit in the GAM anyway."
   ]
  },
  {
   "cell_type": "code",
   "execution_count": 89,
   "metadata": {},
   "outputs": [],
   "source": [
    "model = cobra.io.read_sbml_model('../model/g-thermo.xml')"
   ]
  },
  {
   "cell_type": "code",
   "execution_count": 90,
   "metadata": {},
   "outputs": [],
   "source": [
    "model.reactions.biomass.add_metabolites({\n",
    "    model.metabolites.arab__L_c: -0.045625,\n",
    "    model.metabolites.gal_c:-0.212236,\n",
    "    model.metabolites.glc__D_c:-0.010725,\n",
    "    model.metabolites.xyl__D_c: -0.204370,\n",
    "    model.metabolites.man_c:-0.006411,\n",
    "    model.metabolites.fru_c:-0.117367\n",
    "})"
   ]
  },
  {
   "cell_type": "markdown",
   "metadata": {},
   "source": [
    "Adding the carbohydrates kills the biomass accumulation: so somehow we cannot produce one (or more) of the carbohydrates. \n",
    "\n",
    "The problematic carbohydrates are: arabinose, galactose, xylose and mannose. Here I will go through their biosynthesis one by one to ensure they can be made and fix this issue.\n",
    "\n",
    "__Arabinose__ \n",
    "in the model, the arabinose can be made from ribulose. However ribulose cannot be made, so I will fix this. This is because the RBK_L1 reaction is irreversible as it consumes ATP. The options we have hear are either to make this reaction reversible and risk it results in the formation of ATP. Or we add a hydrolysis reaction that hydrolysis the Ru5p__L to rbl, which is used for biomass. \n",
    "\n",
    "I think this second option is better. We prevent extensive arabinose production for ATP production purposes in this way. Also the different in ATP requirement for the arabinose needed in growth will be captured in the fitted GAM anyway. The hydrolysis reaction will also be irreversible. By both being irreversible it will prevent a cycle as ATP consumption is coupled to one reaction."
   ]
  },
  {
   "cell_type": "code",
   "execution_count": 91,
   "metadata": {},
   "outputs": [],
   "source": [
    "model.add_reaction(Reaction(id='RU5PHY'))"
   ]
  },
  {
   "cell_type": "code",
   "execution_count": 92,
   "metadata": {},
   "outputs": [],
   "source": [
    "model.reactions.RU5PHY.name = 'Hydrolysis of L-Ribulose-5-phosphate'\n",
    "model.reactions.RU5PHY.notes['NOTES'] = 'Added reaction to allow biomass formation. ATP is captured in GAM'\n",
    "model.reactions.RU5PHY.annotation['sbo'] = 'SBO:0000176'"
   ]
  },
  {
   "cell_type": "code",
   "execution_count": 93,
   "metadata": {},
   "outputs": [],
   "source": [
    "model.reactions.RU5PHY.add_metabolites({\n",
    "    model.metabolites.ru5p__L_c: -1,\n",
    "    model.metabolites.rbl__L_c: 1, \n",
    "    model.metabolites.h2o_c: -1,\n",
    "    model.metabolites.pi_c:1,\n",
    "    model.metabolites.h_c: 1\n",
    "})"
   ]
  },
  {
   "cell_type": "markdown",
   "metadata": {},
   "source": [
    "__Galactose__ Here the problem is the conversion from gal1p to galatose, captured in the GALKr reaction. In E. coli this reaction is reversible, even though it is associated with atp. Based on thermodynamic prediction, this reaction can be reversible still. of course SLP is possible, we just need to be sure that there is not a surplus of energy created by this reaction. As galactose is not exported out of the cell, I doubt this would not happen and so we will make the reaction reversible again. "
   ]
  },
  {
   "cell_type": "code",
   "execution_count": 94,
   "metadata": {},
   "outputs": [],
   "source": [
    "model.reactions.GALKr.bounds=(-1000,1000)"
   ]
  },
  {
   "cell_type": "code",
   "execution_count": 95,
   "metadata": {},
   "outputs": [],
   "source": [
    "model.reactions.MELIBHY.id = 'GALS3'"
   ]
  },
  {
   "cell_type": "markdown",
   "metadata": {},
   "source": [
    "__Xylose__ Here again the problem is the formation of xylulose from xylulose-5-phosphate. here based on thermodynamics I would not expect a reversible reaction. So instead, we again will add a hydrolysis of xu5p__D_c reaction to allow biomass consumption. Again the possible difference in ATP needed to make biomass will be reflected in the biomass GAM and so is not an issue here."
   ]
  },
  {
   "cell_type": "code",
   "execution_count": 96,
   "metadata": {},
   "outputs": [],
   "source": [
    "model.add_reaction(Reaction(id='XU5PHY'))"
   ]
  },
  {
   "cell_type": "code",
   "execution_count": 97,
   "metadata": {},
   "outputs": [],
   "source": [
    "model.reactions.XU5PHY.name = 'Hydrolysis of L-Xylulose-5-phosphate'\n",
    "model.reactions.XU5PHY.notes['NOTES'] = 'Added reaction to allow biomass formation. ATP is captured in GAM'\n",
    "model.reactions.XU5PHY.annotation['sbo'] = 'SBO:0000176'"
   ]
  },
  {
   "cell_type": "code",
   "execution_count": 98,
   "metadata": {},
   "outputs": [],
   "source": [
    "model.reactions.XU5PHY.add_metabolites({\n",
    "    model.metabolites.xu5p__D_c: -1,\n",
    "    model.metabolites.xylu__D_c: 1, \n",
    "    model.metabolites.h2o_c: -1,\n",
    "    model.metabolites.pi_c:1,\n",
    "    model.metabolites.h_c: 1\n",
    "})"
   ]
  },
  {
   "cell_type": "markdown",
   "metadata": {},
   "source": [
    "__Mannose__ Here we are again missing a reaction that can convert the mannose-6-phosphate back into mannose. The reaction going to man6p is still mass imbalanced and will be fixed later. Based on the fix for that, it is unreasonable to expect a reverse reaction here, and so I will add a hydrolysis reaction again. (Note: same is done in the E. coli model here.)\n"
   ]
  },
  {
   "cell_type": "code",
   "execution_count": 99,
   "metadata": {},
   "outputs": [],
   "source": [
    "model.add_reaction(Reaction(id='M6PHY'))"
   ]
  },
  {
   "cell_type": "code",
   "execution_count": 100,
   "metadata": {},
   "outputs": [],
   "source": [
    "model.reactions.M6PHY.name = 'Hydrolysis of Mannose-6-phosphate'\n",
    "model.reactions.M6PHY.notes['NOTES'] = 'Added reaction to allow biomass formation. ATP is captured in GAM'\n",
    "model.reactions.M6PHY.annotation['sbo'] = 'SBO:0000176'"
   ]
  },
  {
   "cell_type": "code",
   "execution_count": 101,
   "metadata": {},
   "outputs": [],
   "source": [
    "model.reactions.M6PHY.add_metabolites({\n",
    "    model.metabolites.man6p_c: -1,\n",
    "    model.metabolites.man_c: 1, \n",
    "    model.metabolites.h2o_c: -1,\n",
    "    model.metabolites.pi_c:1,\n",
    "    model.metabolites.h_c: 1\n",
    "})"
   ]
  },
  {
   "cell_type": "code",
   "execution_count": 102,
   "metadata": {},
   "outputs": [
    {
     "data": {
      "text/plain": [
       "{}"
      ]
     },
     "execution_count": 102,
     "metadata": {},
     "output_type": "execute_result"
    }
   ],
   "source": [
    "model.reactions.M6PHY.check_mass_balance()"
   ]
  },
  {
   "cell_type": "code",
   "execution_count": 105,
   "metadata": {},
   "outputs": [],
   "source": [
    "#save&commit\n",
    "cobra.io.write_sbml_model(model,'../model/g-thermo.xml')"
   ]
  },
  {
   "cell_type": "markdown",
   "metadata": {},
   "source": [
    "# Lipids\n",
    "To include the lipids in the biomass equation, we need to do a significant amount of additional work. We need to first decide which approach we will use to capture lipid metabolism and then update the model to account for the production of all components we need for that approach. Therefore this is a much larger issue in itself, and so will be tackled in another notebook."
   ]
  },
  {
   "cell_type": "markdown",
   "metadata": {},
   "source": [
    "# Cofactors\n",
    "According to Beata's thesis, there should also be NAD, NADP and NADPH included in the model, as well as quinol. For these cofactors there are experimental values available and so this should be adapted in the biomass reaction.\n",
    "\n",
    "In the model currently, we also have ribflv, coA and fad present. It could be expected that these are required in the formation of biomass. However their stoichiometric coefficients are very high. After meeting with Ben, we discussed a way to get more realistic coefficients for these components: looking into the yeast, e. coli and b. sub models for the values they have and using those as quidelines. Of course, ideally one would have experimental data on this, however this is unavailable, so we can approach it like this. As these numbers are very small and play only a slight role in biomass formation, slight deviations will not show a huge effect and so it is oke to include it like this.\n",
    "\n",
    "Please se '../databases/Biomass_rct.xlsx' for a summary of the values used for all cofactors.\n",
    "For NADH, FAD, ribflav and CoA I will use the values of the e. coli model. There is still quite some variance that is observed bbetween the e. coli and yeast model. But the values are often of similar magnitude. As our organism is a bacteria, I will use the e. coli values. \n"
   ]
  },
  {
   "cell_type": "code",
   "execution_count": 8,
   "metadata": {},
   "outputs": [],
   "source": [
    "model = cobra.io.read_sbml_model('../model/g-thermo.xml')"
   ]
  },
  {
   "cell_type": "code",
   "execution_count": 7,
   "metadata": {},
   "outputs": [],
   "source": [
    "model.reactions.biomass.add_metabolites({\n",
    "    model.metabolites.nad_c: 0.013703042,\n",
    "    model.metabolites.nadh_c: -0.000045,\n",
    "    model.metabolites.nadp_c: 0.025203042,\n",
    "    model.metabolites.nadph_c: 0.026903042,\n",
    "    model.metabolites.fad_c: 0.029680042,\n",
    "    model.metabolites.qh2_c: 0.029603042,\n",
    "    model.metabolites.ribflv_c: 0.029680042,\n",
    "    model.metabolites.coa_c: 0.029735042\n",
    "})"
   ]
  },
  {
   "cell_type": "code",
   "execution_count": 146,
   "metadata": {},
   "outputs": [],
   "source": [
    "#save&commit\n",
    "cobra.io.write_sbml_model(model,'../model/g-thermo.xml')"
   ]
  },
  {
   "cell_type": "markdown",
   "metadata": {},
   "source": [
    "# Other\n",
    "Aside from the above categories, there are also some other metabolites that should be added or looked into. In Beata's thesis there is data about 10-Formyltetrahydrofolate presence that is currently lacking in the biomass reaction. Here i will add this back in.\n",
    "\n",
    "Also for the accoa_c, succoa_c, chor_c, thmpp_c, gthrd_c and ptrc_c metabolites I will check the stoichiometry that is associated to them by comparing it to the other models that are present and adapt them accordingly as they seem way too high for our model currently. \n",
    "\n",
    "Again, here I will use the E. coli data as a guide, as those numbers seem more realistic than what has been added into our model."
   ]
  },
  {
   "cell_type": "code",
   "execution_count": 9,
   "metadata": {},
   "outputs": [],
   "source": [
    "model=cobra.io.read_sbml_model('../model/g-thermo.xml')"
   ]
  },
  {
   "cell_type": "code",
   "execution_count": 10,
   "metadata": {},
   "outputs": [],
   "source": [
    "model.reactions.biomass.add_metabolites({\n",
    "    model.metabolites.get_by_id('10fthf_c'): -0.0004,\n",
    "    model.metabolites.accoa_c:0.029624042,\n",
    "    model.metabolites.chor_c:0.029680042,\n",
    "    model.metabolites.gthrd_c:0.029680042,\n",
    "    model.metabolites.ptrc_c: -0.003366958,\n",
    "    model.metabolites.succoa_c:0.03,\n",
    "    model.metabolites.thmpp_c:0.030126042\n",
    "})"
   ]
  },
  {
   "cell_type": "code",
   "execution_count": 11,
   "metadata": {},
   "outputs": [],
   "source": [
    "#save&commit\n",
    "cobra.io.write_sbml_model(model,'../model/g-thermo.xml')"
   ]
  },
  {
   "cell_type": "markdown",
   "metadata": {},
   "source": [
    "By adding 10fthf_c, the model no longer grows. So now I will check how to resolve this bloackage here. If you supply folate to the model, it grows again so the issue lies somewhere in the folate biosynthesis pathway.\n",
    "\n",
    "Folate can be made from chorismate or GTP. Supplying either of these doesn't rescue biomass production and so we need to go through both pathways completely to make sure they are correct."
   ]
  },
  {
   "cell_type": "markdown",
   "metadata": {},
   "source": [
    "Aside from some reactions that are reverisible that shouldn't be, the part leading to 4-aminobenzoate seems to be correct. So it seems it must be further upstream of the 6hmhpt_c metabolite.\n",
    "\n",
    "Also the pathway from GTP Seems to be correct, so there must be some co-factor or side meetabolite that is the issue blocking this pathway."
   ]
  },
  {
   "cell_type": "code",
   "execution_count": 246,
   "metadata": {},
   "outputs": [],
   "source": [
    "model.reactions.DHFR.bounds = (-1000,0)"
   ]
  },
  {
   "cell_type": "code",
   "execution_count": 247,
   "metadata": {},
   "outputs": [],
   "source": [
    "model.reactions.HMHPTMT.bounds = (0,1000)"
   ]
  },
  {
   "cell_type": "markdown",
   "metadata": {},
   "source": [
    "Problem is the conversion to form 6hmhpt_c, as supplying dhnpt_c doesnt rescue biomass formation. In the DHNPA2r reaction, the only other involved metabolite is glycoaldehyde. So possibly this cannot be converted sufficiently and so blocks the pathway. Adding the removal of glycoalehyde restores biomass so this is the issue we face currently.\n",
    "I will check the glycoaldehyde consumption here."
   ]
  },
  {
   "cell_type": "code",
   "execution_count": 248,
   "metadata": {},
   "outputs": [],
   "source": [
    "#seems to miss the GCALDD reaction\n",
    "model.add_reaction(Reaction(id='GCALDD'))"
   ]
  },
  {
   "cell_type": "code",
   "execution_count": 249,
   "metadata": {},
   "outputs": [],
   "source": [
    "model.reactions.GCALDD.name = 'Glycolaldehyde dehydrogenase'\n",
    "model.reactions.GCALDD.annotation = model_e_coli.reactions.GCALDD.annotation"
   ]
  },
  {
   "cell_type": "code",
   "execution_count": 250,
   "metadata": {},
   "outputs": [],
   "source": [
    "model.reactions.GCALDD.add_metabolites({\n",
    "    model.metabolites.gcald_c:-1,\n",
    "    model.metabolites.h2o_c: -1,\n",
    "    model.metabolites.nad_c:-1, \n",
    "    model.metabolites.glyclt_c:1,\n",
    "    model.metabolites.h_c: 2,\n",
    "    model.metabolites.nadh_c:1\n",
    "})"
   ]
  },
  {
   "cell_type": "code",
   "execution_count": 296,
   "metadata": {},
   "outputs": [
    {
     "name": "stderr",
     "output_type": "stream",
     "text": [
      "C:\\Users\\vivmol\\AppData\\Local\\Continuum\\anaconda3\\envs\\g-thermo\\lib\\site-packages\\cobra\\core\\model.py:716: UserWarning:\n",
      "\n",
      "need to pass in a list\n",
      "\n",
      "C:\\Users\\vivmol\\AppData\\Local\\Continuum\\anaconda3\\envs\\g-thermo\\lib\\site-packages\\cobra\\core\\group.py:110: UserWarning:\n",
      "\n",
      "need to pass in a list\n",
      "\n"
     ]
    }
   ],
   "source": [
    "#GLYCLTDx and GLYCNOR are duplicate reactions\n",
    "model.remove_reactions(model.reactions.GLYCNOR)"
   ]
  },
  {
   "cell_type": "code",
   "execution_count": null,
   "metadata": {},
   "outputs": [],
   "source": [
    "#problem is: glx can only be converted back into glyclt."
   ]
  },
  {
   "cell_type": "code",
   "execution_count": 301,
   "metadata": {},
   "outputs": [],
   "source": [
    "#MALS in the glyoxylate cycle is in the wrong direction!\n",
    "model.reactions.MALS.bounds=(-1000,0)"
   ]
  },
  {
   "cell_type": "markdown",
   "metadata": {},
   "source": [
    "The Bacillus genome encodes a Glyoxalate carboligase. A tBlastn search shows that there is a significant hit in our strain. For that reason, it can be expected that this enzyme is also present in our strain.  Hence I will add the reaction here."
   ]
  },
  {
   "cell_type": "code",
   "execution_count": 320,
   "metadata": {},
   "outputs": [],
   "source": [
    "model.add_reaction(Reaction(id='GLXCBL'))"
   ]
  },
  {
   "cell_type": "code",
   "execution_count": 321,
   "metadata": {},
   "outputs": [],
   "source": [
    "model.reactions.GLXCBL.name= 'Glyoxalate carboligase'\n",
    "model.reactions.GLXCBL.annotation = model_b_sub.reactions.GLXCBL.annotation"
   ]
  },
  {
   "cell_type": "code",
   "execution_count": 323,
   "metadata": {},
   "outputs": [],
   "source": [
    "model.reactions.GLXCBL.add_metabolites({\n",
    "    model.metabolites.glx_c: -2,\n",
    "    model.metabolites.h_c: -1,\n",
    "    model.metabolites.hop_c:1,\n",
    "    model.metabolites.co2_c:1\n",
    "})"
   ]
  },
  {
   "cell_type": "code",
   "execution_count": null,
   "metadata": {},
   "outputs": [],
   "source": [
    "#save&commit\n",
    "cobra.io.write_sbml_model(model,'../model/g-thermo.xml')"
   ]
  },
  {
   "cell_type": "markdown",
   "metadata": {},
   "source": [
    "## Lipids\n",
    "According to table 4.4 in Beata's thesis, there are three lipids that are the main contributors to the biomass composition: phosphatidylglycerol, diphosphatidylglycerol and phosphatidylethanolamine. \n",
    "\n",
    "here I will need to check the biosynthetic pathway for these lipids to complete them or modify them. (large part are in martyns)"
   ]
  },
  {
   "cell_type": "markdown",
   "metadata": {},
   "source": [
    "\n",
    "\n",
    "## Fatty acids\n",
    "same goes for FA as for lipids\n",
    "\n",
    "\n",
    "## table 4.6: some others\n",
    "check these? \n",
    "\n",
    "## Fig 4.6:\n",
    "arabinose, galactose etc."
   ]
  },
  {
   "cell_type": "code",
   "execution_count": 105,
   "metadata": {
    "scrolled": false
   },
   "outputs": [
    {
     "data": {
      "text/html": [
       "<strong><em>Optimal</em> solution with objective value 1.815</strong><br><div>\n",
       "<style scoped>\n",
       "    .dataframe tbody tr th:only-of-type {\n",
       "        vertical-align: middle;\n",
       "    }\n",
       "\n",
       "    .dataframe tbody tr th {\n",
       "        vertical-align: top;\n",
       "    }\n",
       "\n",
       "    .dataframe thead th {\n",
       "        text-align: right;\n",
       "    }\n",
       "</style>\n",
       "<table border=\"1\" class=\"dataframe\">\n",
       "  <thead>\n",
       "    <tr style=\"text-align: right;\">\n",
       "      <th></th>\n",
       "      <th>fluxes</th>\n",
       "      <th>reduced_costs</th>\n",
       "    </tr>\n",
       "  </thead>\n",
       "  <tbody>\n",
       "    <tr>\n",
       "      <th>IDPh</th>\n",
       "      <td>4.247121</td>\n",
       "      <td>0.000000</td>\n",
       "    </tr>\n",
       "    <tr>\n",
       "      <th>CAT</th>\n",
       "      <td>0.054263</td>\n",
       "      <td>0.000000</td>\n",
       "    </tr>\n",
       "    <tr>\n",
       "      <th>PDHam1hi</th>\n",
       "      <td>0.000000</td>\n",
       "      <td>-0.060488</td>\n",
       "    </tr>\n",
       "    <tr>\n",
       "      <th>CCP</th>\n",
       "      <td>0.000000</td>\n",
       "      <td>0.000000</td>\n",
       "    </tr>\n",
       "    <tr>\n",
       "      <th>HYDA</th>\n",
       "      <td>0.000000</td>\n",
       "      <td>0.000000</td>\n",
       "    </tr>\n",
       "    <tr>\n",
       "      <th>...</th>\n",
       "      <td>...</td>\n",
       "      <td>...</td>\n",
       "    </tr>\n",
       "    <tr>\n",
       "      <th>EX_k_e</th>\n",
       "      <td>-1.285128</td>\n",
       "      <td>-0.000000</td>\n",
       "    </tr>\n",
       "    <tr>\n",
       "      <th>MG2t</th>\n",
       "      <td>-0.177835</td>\n",
       "      <td>0.000000</td>\n",
       "    </tr>\n",
       "    <tr>\n",
       "      <th>EX_mg2_e</th>\n",
       "      <td>-0.177835</td>\n",
       "      <td>-0.000000</td>\n",
       "    </tr>\n",
       "    <tr>\n",
       "      <th>CA2t</th>\n",
       "      <td>-0.005716</td>\n",
       "      <td>-0.000000</td>\n",
       "    </tr>\n",
       "    <tr>\n",
       "      <th>EX_ca2_e</th>\n",
       "      <td>-0.005716</td>\n",
       "      <td>-0.000000</td>\n",
       "    </tr>\n",
       "  </tbody>\n",
       "</table>\n",
       "<p>916 rows × 2 columns</p>\n",
       "</div>"
      ],
      "text/plain": [
       "<Solution 1.815 at 0x2a08404c888>"
      ]
     },
     "execution_count": 105,
     "metadata": {},
     "output_type": "execute_result"
    }
   ],
   "source": [
    "model.optimize()"
   ]
  },
  {
   "cell_type": "code",
   "execution_count": 6,
   "metadata": {
    "scrolled": true
   },
   "outputs": [
    {
     "data": {
      "text/plain": [
       "{<Metabolite accoa_c at 0x1da29abaa08>: -0.029903042,\n",
       " <Metabolite coa_c at 0x1da29a3c088>: -0.029903042,\n",
       " <Metabolite nadph_c at 0x1da29b355c8>: -0.029903042,\n",
       " <Metabolite nadp_c at 0x1da2ab296c8>: -0.029903042,\n",
       " <Metabolite fad_c at 0x1da29a8b688>: -0.029903042,\n",
       " <Metabolite qh2_c at 0x1da29a03048>: -0.029903042,\n",
       " <Metabolite atp_c at 0x1da29aac2c8>: -105.027303042,\n",
       " <Metabolite succoa_c at 0x1da29a95048>: -0.029903042,\n",
       " <Metabolite gln__L_c at 0x1da2ab24248>: -0.360645,\n",
       " <Metabolite arg__L_c at 0x1da2ab1a048>: -0.20505,\n",
       " <Metabolite gly_c at 0x1da29afd3c8>: -0.45663,\n",
       " <Metabolite ile__L_c at 0x1da29ae3288>: -0.30553,\n",
       " <Metabolite asp__L_c at 0x1da29b24488>: -0.248575,\n",
       " <Metabolite his__L_c at 0x1da29a63148>: -0.08716,\n",
       " <Metabolite pro__L_c at 0x1da29a73748>: -0.18652,\n",
       " <Metabolite trp__L_c at 0x1da2ab36b48>: -0.11494,\n",
       " <Metabolite ala__L_c at 0x1da29b06448>: -0.57588994,\n",
       " <Metabolite leu__L_c at 0x1da29a59548>: -0.38917,\n",
       " <Metabolite cys__L_c at 0x1da2ab611c8>: -0.12081,\n",
       " <Metabolite met__L_c at 0x1da2ab31208>: -0.09317,\n",
       " <Metabolite val__L_c at 0x1da29a8b6c8>: -0.42128,\n",
       " <Metabolite glu__L_c at 0x1da29abd448>: -0.360645,\n",
       " <Metabolite tyr__L_c at 0x1da2ab40208>: -0.11603,\n",
       " <Metabolite lys__L_c at 0x1da29b1e288>: -0.35521,\n",
       " <Metabolite asn__L_c at 0x1da29a75708>: -0.248575,\n",
       " <Metabolite thr__L_c at 0x1da29a90748>: -0.30102,\n",
       " <Metabolite phe__L_c at 0x1da29a951c8>: -0.16253,\n",
       " <Metabolite ser__L_c at 0x1da2ab27508>: -0.20287,\n",
       " <Metabolite damp_c at 0x1da29ad7648>: -0.029903042,\n",
       " <Metabolite dgmp_c at 0x1da29adb108>: -0.023333636,\n",
       " <Metabolite dcmp_c at 0x1da29aac448>: -0.023333636,\n",
       " <Metabolite dtmp_c at 0x1da29adb308>: -0.029903042,\n",
       " <Metabolite chor_c at 0x1da29ab1088>: -0.029903042,\n",
       " <Metabolite thmpp_c at 0x1da2ab2ab88>: -0.029903042,\n",
       " <Metabolite fe3_c at 0x1da29a97bc8>: -0.034003042,\n",
       " <Metabolite gthrd_c at 0x1da29b29848>: -0.029903042,\n",
       " <Metabolite ptrc_c at 0x1da29a632c8>: -0.029903042,\n",
       " <Metabolite ribflv_c at 0x1da29ab4508>: -0.029903042,\n",
       " <Metabolite ump_c at 0x1da2ab73288>: -0.0868052716,\n",
       " <Metabolite cmp_c at 0x1da29b37088>: -0.079997015,\n",
       " <Metabolite gmp_c at 0x1da29a6f408>: -0.145952,\n",
       " <Metabolite amp_c at 0x1da29aa2908>: -0.113187265,\n",
       " <Metabolite nadh_c at 0x1da29b16248>: -0.029903042,\n",
       " <Metabolite nad_c at 0x1da29ae5b88>: -0.029903042,\n",
       " <Metabolite h2o_c at 0x1da29a015c8>: -104.9974,\n",
       " <Metabolite k_c at 0x1da2abb9588>: -0.7082,\n",
       " <Metabolite mg2_c at 0x1da2abb9688>: -0.098,\n",
       " <Metabolite ca2_c at 0x1da2abbd388>: -0.00315,\n",
       " <Metabolite ppi_c at 0x1da29a6f808>: -0.0012,\n",
       " <Metabolite Biomass_c at 0x1da2ab840c8>: 1.0,\n",
       " <Metabolite pi_c at 0x1da2ab650c8>: 104.9856,\n",
       " <Metabolite adp_c at 0x1da2ab4e288>: 104.9974,\n",
       " <Metabolite h_c at 0x1da2ab39dc8>: 104.9974}"
      ]
     },
     "execution_count": 6,
     "metadata": {},
     "output_type": "execute_result"
    }
   ],
   "source": [
    "model.reactions.biomass.metabolites"
   ]
  },
  {
   "cell_type": "markdown",
   "metadata": {},
   "source": [
    "## to do\n",
    "note metabolites to look at later, or that did not fall in these tables (cross off which I have done)\n",
    "'accoa_c', 'atp_c', 'succoa_c', 'chor_c', thmpp_c', , 'gthrd_c', 'ptrc_c', ' h2o_c', 'pi_c', 'adp_c', 'h_c'\n",
    "\n",
    "Still do:\n",
    "- pi_c: need 0.0173 mmol/gdcw for accumulation, need to correct with GAM. \n",
    "\n",
    "\n",
    "what about carbohydrates??"
   ]
  },
  {
   "cell_type": "code",
   "execution_count": 14,
   "metadata": {},
   "outputs": [
    {
     "name": "stdout",
     "output_type": "stream",
     "text": [
      "-104.9974\n",
      "-0.029903042\n",
      "-0.029903042\n",
      "-0.36865919\n",
      "-0.029903042\n",
      "-0.08256969\n",
      "-0.145952\n",
      "-0.17668818\n",
      "-0.42971812\n",
      "-0.029903042\n",
      "-0.39907943\n",
      "-0.2851532\n",
      "-0.15396106\n",
      "-0.029903042\n",
      "-0.029903042\n",
      "-0.029903042\n",
      "-0.113187265\n",
      "-0.023333636\n",
      "-105.027303042\n",
      "-0.029903042\n",
      "-0.029903042\n",
      "-0.029903042\n",
      "-0.109910287\n",
      "-0.029903042\n",
      "-0.023333636\n",
      "-0.029903042\n",
      "-0.2894275\n",
      "-0.029903042\n",
      "-0.43255958\n",
      "-0.54554044\n",
      "-0.029903042\n",
      "-0.029903042\n",
      "-0.336492138\n",
      "-0.23547196\n",
      "-0.029903042\n",
      "-0.029903042\n",
      "-0.079997015\n",
      "-0.194\n",
      "-0.683\n",
      "-0.19218254\n",
      "-0.029903042\n",
      "-0.029903042\n",
      "-0.09015617\n",
      "-0.10888199\n",
      "-0.176105203\n",
      "-0.11444242\n",
      "-0.0868052716\n",
      "104.9974\n",
      "104.9974\n",
      "104.9856\n",
      "1.0\n"
     ]
    }
   ],
   "source": [
    "for met in model.reactions.biomass.metabolites:\n",
    "    print(model.reactions.biomass.metabolites.get(met))"
   ]
  },
  {
   "cell_type": "code",
   "execution_count": 10,
   "metadata": {},
   "outputs": [
    {
     "data": {
      "text/html": [
       "\n",
       "        <table>\n",
       "            <tr>\n",
       "                <td><strong>Metabolite identifier</strong></td><td>Biomass_c</td>\n",
       "            </tr><tr>\n",
       "                <td><strong>Name</strong></td><td>1-(5'-Phosphoribosyl)-5-formamido-4-imidazoleca...</td>\n",
       "            </tr><tr>\n",
       "                <td><strong>Memory address</strong></td>\n",
       "                <td>0x01bd9569e408</td>\n",
       "            </tr><tr>\n",
       "                <td><strong>Formula</strong></td><td>C10H14N4O9P</td>\n",
       "            </tr><tr>\n",
       "                <td><strong>Compartment</strong></td><td>c</td>\n",
       "            </tr><tr>\n",
       "                <td><strong>In 2 reaction(s)</strong></td><td>\n",
       "                    biomass, BIOMASSt</td>\n",
       "            </tr>\n",
       "        </table>"
      ],
      "text/plain": [
       "<Metabolite Biomass_c at 0x1bd9569e408>"
      ]
     },
     "execution_count": 10,
     "metadata": {},
     "output_type": "execute_result"
    }
   ],
   "source": [
    "met"
   ]
  },
  {
   "cell_type": "code",
   "execution_count": 6,
   "metadata": {},
   "outputs": [
    {
     "data": {
      "text/plain": [
       "{<Metabolite 10fthf_c at 0x20e3b0427c8>: -0.000367,\n",
       " <Metabolite adp_c at 0x20e3b065d08>: 104.997414,\n",
       " <Metabolite ala__L_c at 0x20e3b064a48>: -0.266902,\n",
       " <Metabolite amp_c at 0x20e3b04dd88>: -0.00467,\n",
       " <Metabolite arg__L_c at 0x20e3b0658c8>: -0.193021,\n",
       " <Metabolite asn__L_c at 0x20e3b065fc8>: -0.147987,\n",
       " <Metabolite asp__L_c at 0x20e3b0640c8>: -0.148014,\n",
       " <Metabolite atp_c at 0x20e3b064348>: -105.053483,\n",
       " <Metabolite ca2_c at 0x20e3b064dc8>: -0.003205,\n",
       " <Metabolite cdlp_BS_c at 0x20e3b06b388>: -5e-06,\n",
       " <Metabolite cdp_c at 0x20e3b06b488>: -0.000251,\n",
       " <Metabolite cmp_c at 0x20e3b063548>: -0.001042,\n",
       " <Metabolite ctp_c at 0x20e3b064a88>: -0.038902,\n",
       " <Metabolite cys__L_c at 0x20e3b064d88>: -0.05699,\n",
       " <Metabolite d12dg_BS_c at 0x20e3b06b508>: -0.00011,\n",
       " <Metabolite datp_c at 0x20e3b06b848>: -0.022982,\n",
       " <Metabolite dctp_c at 0x20e3b06bf48>: -0.01738,\n",
       " <Metabolite dgtp_c at 0x20e3b0637c8>: -0.017398,\n",
       " <Metabolite dttp_c at 0x20e3b044dc8>: -0.022899,\n",
       " <Metabolite fe3_c at 0x20e3b063588>: -0.00345,\n",
       " <Metabolite gdp_c at 0x20e3b04cf88>: -0.00018,\n",
       " <Metabolite gln__L_c at 0x20e3b063f08>: -0.260335,\n",
       " <Metabolite glu__L_c at 0x20e3b044448>: -0.260378,\n",
       " <Metabolite gly_c at 0x20e3b044a88>: -0.408288,\n",
       " <Metabolite gmp_c at 0x20e3b04cd08>: -0.000503,\n",
       " <Metabolite gtca1_45_BS_c at 0x20e3b047088>: -0.003624,\n",
       " <Metabolite gtca2_45_BS_c at 0x20e3b047108>: -0.002347,\n",
       " <Metabolite gtca3_45_BS_c at 0x20e3b047188>: -0.001819,\n",
       " <Metabolite gtp_c at 0x20e3b047348>: -0.062667,\n",
       " <Metabolite h2o_c at 0x20e3b0477c8>: -105.0,\n",
       " <Metabolite h_c at 0x20e3b0479c8>: 105.0,\n",
       " <Metabolite his__L_c at 0x20e3b040648>: -0.081739,\n",
       " <Metabolite ile__L_c at 0x20e3b047cc8>: -0.269905,\n",
       " <Metabolite k_c at 0x20e3b040808>: -0.706312,\n",
       " <Metabolite leu__L_c at 0x20e3b040e88>: -0.346445,\n",
       " <Metabolite lipo1_24_BS_c at 0x20e3b040fc8>: -7e-06,\n",
       " <Metabolite lipo2_24_BS_c at 0x20e3af450c8>: -6e-06,\n",
       " <Metabolite lipo3_24_BS_c at 0x20e3af45188>: -1.8e-05,\n",
       " <Metabolite lipo4_24_BS_c at 0x20e3af45248>: -1.5e-05,\n",
       " <Metabolite lys__L_c at 0x20e3af45488>: -0.323093,\n",
       " <Metabolite lysylpgly_BS_c at 0x20e3af45688>: -2.2e-05,\n",
       " <Metabolite m12dg_BS_c at 0x20e3af45708>: -8.6e-05,\n",
       " <Metabolite met__L_c at 0x20e3b047288>: -0.113326,\n",
       " <Metabolite mg2_c at 0x20e3b047b88>: -0.101714,\n",
       " <Metabolite mql7_c at 0x20e3b040b08>: -0.000266,\n",
       " <Metabolite nad_c at 0x20e3af45288>: -0.016164,\n",
       " <Metabolite nadp_c at 0x20e3af45408>: -0.000934,\n",
       " <Metabolite nadph_c at 0x20e3af45548>: -0.000216,\n",
       " <Metabolite peptido_BS_c at 0x20e3af75308>: -0.101817,\n",
       " <Metabolite pgly_BS_c at 0x20e3af75408>: -0.000176,\n",
       " <Metabolite phe__L_c at 0x20e3af754c8>: -0.175939,\n",
       " <Metabolite pi_c at 0x20e3b040b48>: 104.985613,\n",
       " <Metabolite ppi_c at 0x20e3af45608>: -0.000918,\n",
       " <Metabolite pro__L_c at 0x20e3af45e88>: -0.160642,\n",
       " <Metabolite psetha_BS_c at 0x20e3af5f6c8>: -0.00056,\n",
       " <Metabolite ser__L_c at 0x20e3af78ac8>: -0.216213,\n",
       " <Metabolite t12dg_BS_c at 0x20e3af78948>: -6.6e-05,\n",
       " <Metabolite tcam_BS_c at 0x20e3af6f048>: -0.003112,\n",
       " <Metabolite thr__L_c at 0x20e3af6f448>: -0.186317,\n",
       " <Metabolite trp__L_c at 0x20e3af6f9c8>: -0.054336,\n",
       " <Metabolite tyr__L_c at 0x20e3af6fb08>: -0.110824,\n",
       " <Metabolite utp_c at 0x20e3af78908>: -0.041501,\n",
       " <Metabolite val__L_c at 0x20e3af78988>: -0.306734}"
      ]
     },
     "execution_count": 6,
     "metadata": {},
     "output_type": "execute_result"
    }
   ],
   "source": [
    "model_b_sub.reactions.BIOMASS_BS_10.metabolites"
   ]
  },
  {
   "cell_type": "code",
   "execution_count": 5,
   "metadata": {},
   "outputs": [
    {
     "data": {
      "text/plain": [
       "{<Metabolite 10fthf_c at 0x20e3ac32148>: -0.000223,\n",
       " <Metabolite 2fe2s_c at 0x20e3900f588>: -2.6e-05,\n",
       " <Metabolite 2ohph_c at 0x20e39013648>: -0.000223,\n",
       " <Metabolite 4fe4s_c at 0x20e3901a348>: -0.00026,\n",
       " <Metabolite adp_c at 0x20e38fd7888>: 75.37723,\n",
       " <Metabolite ala__L_c at 0x20e38ffe088>: -0.513689,\n",
       " <Metabolite amet_c at 0x20e38fde9c8>: -0.000223,\n",
       " <Metabolite arg__L_c at 0x20e38fd0888>: -0.295792,\n",
       " <Metabolite asn__L_c at 0x20e3901e388>: -0.241055,\n",
       " <Metabolite asp__L_c at 0x20e38fd0c88>: -0.241055,\n",
       " <Metabolite atp_c at 0x20e38fe2748>: -75.55223,\n",
       " <Metabolite btn_c at 0x20e3900fd48>: -2e-06,\n",
       " <Metabolite ca2_c at 0x20e39001d48>: -0.005205,\n",
       " <Metabolite cl_c at 0x20e390080c8>: -0.005205,\n",
       " <Metabolite coa_c at 0x20e3901e308>: -0.000576,\n",
       " <Metabolite cobalt2_c at 0x20e38fecd88>: -2.5e-05,\n",
       " <Metabolite ctp_c at 0x20e3ac3d6c8>: -0.133508,\n",
       " <Metabolite cu2_c at 0x20e38ffe8c8>: -0.000709,\n",
       " <Metabolite cys__L_c at 0x20e38fde648>: -0.09158,\n",
       " <Metabolite datp_c at 0x20e38ff0f08>: -0.026166,\n",
       " <Metabolite dctp_c at 0x20e38fe9508>: -0.027017,\n",
       " <Metabolite dgtp_c at 0x20e39025b08>: -0.027017,\n",
       " <Metabolite dttp_c at 0x20e38fe59c8>: -0.026166,\n",
       " <Metabolite fad_c at 0x20e39025b88>: -0.000223,\n",
       " <Metabolite fe2_c at 0x20e38ff09c8>: -0.006715,\n",
       " <Metabolite fe3_c at 0x20e38ffac88>: -0.007808,\n",
       " <Metabolite gln__L_c at 0x20e38ff7548>: -0.26316,\n",
       " <Metabolite glu__L_c at 0x20e38ff3208>: -0.26316,\n",
       " <Metabolite gly_c at 0x20e39001e88>: -0.612638,\n",
       " <Metabolite gtp_c at 0x20e3900fa88>: -0.215096,\n",
       " <Metabolite h2o_c at 0x20e390019c8>: -70.028756,\n",
       " <Metabolite h_c at 0x20e3ac36c88>: 75.37723,\n",
       " <Metabolite his__L_c at 0x20e3900f548>: -0.094738,\n",
       " <Metabolite ile__L_c at 0x20e38ff3408>: -0.290529,\n",
       " <Metabolite k_c at 0x20e38ff0808>: -0.195193,\n",
       " <Metabolite kdo2lipid4_e at 0x20e39001748>: -0.019456,\n",
       " <Metabolite leu__L_c at 0x20e3901e648>: -0.450531,\n",
       " <Metabolite lys__L_c at 0x20e38fe2408>: -0.343161,\n",
       " <Metabolite met__L_c at 0x20e38fd7c88>: -0.153686,\n",
       " <Metabolite mg2_c at 0x20e38fd7488>: -0.008675,\n",
       " <Metabolite mlthf_c at 0x20e38ffe388>: -0.000223,\n",
       " <Metabolite mn2_c at 0x20e3ac396c8>: -0.000691,\n",
       " <Metabolite mobd_c at 0x20e39013f48>: -7e-06,\n",
       " <Metabolite murein5px4p_p at 0x20e39008c08>: -0.013894,\n",
       " <Metabolite nad_c at 0x20e38fd4988>: -0.001831,\n",
       " <Metabolite nadp_c at 0x20e38ff30c8>: -0.000447,\n",
       " <Metabolite nh4_c at 0x20e38fdb408>: -0.013013,\n",
       " <Metabolite ni2_c at 0x20e3ac39548>: -0.000323,\n",
       " <Metabolite pe160_p at 0x20e38fe5a88>: -0.063814,\n",
       " <Metabolite pe161_p at 0x20e3900f148>: -0.075214,\n",
       " <Metabolite phe__L_c at 0x20e38ffe208>: -0.185265,\n",
       " <Metabolite pheme_c at 0x20e39013448>: -0.000223,\n",
       " <Metabolite pi_c at 0x20e38fdb988>: 75.37323,\n",
       " <Metabolite ppi_c at 0x20e38ff3088>: 0.773903,\n",
       " <Metabolite pro__L_c at 0x20e39013e48>: -0.221055,\n",
       " <Metabolite pydx5p_c at 0x20e3ac322c8>: -0.000223,\n",
       " <Metabolite ribflv_c at 0x20e3900f648>: -0.000223,\n",
       " <Metabolite ser__L_c at 0x20e3ac3d0c8>: -0.215792,\n",
       " <Metabolite sheme_c at 0x20e3ac39bc8>: -0.000223,\n",
       " <Metabolite so4_c at 0x20e3900f708>: -0.004338,\n",
       " <Metabolite succoa_c at 0x20e390286c8>: -9.8e-05,\n",
       " <Metabolite thf_c at 0x20e38fe2ac8>: -0.000223,\n",
       " <Metabolite thmpp_c at 0x20e3ac39288>: -0.000223,\n",
       " <Metabolite thr__L_c at 0x20e3ac32ac8>: -0.253687,\n",
       " <Metabolite trp__L_c at 0x20e38fe2288>: -0.056843,\n",
       " <Metabolite tyr__L_c at 0x20e38fde588>: -0.137896,\n",
       " <Metabolite udcpdp_c at 0x20e39001548>: -5.5e-05,\n",
       " <Metabolite utp_c at 0x20e38fecdc8>: -0.144104,\n",
       " <Metabolite val__L_c at 0x20e39013e08>: -0.423162,\n",
       " <Metabolite zn2_c at 0x20e38fdbfc8>: -0.000341}"
      ]
     },
     "execution_count": 5,
     "metadata": {},
     "output_type": "execute_result"
    }
   ],
   "source": [
    "model_e_coli.reactions.BIOMASS_Ec_iML1515_core_75p37M.metabolites"
   ]
  },
  {
   "cell_type": "code",
   "execution_count": 15,
   "metadata": {},
   "outputs": [
    {
     "data": {
      "text/html": [
       "\n",
       "        <table>\n",
       "            <tr>\n",
       "                <td><strong>Metabolite identifier</strong></td><td>qh2_c</td>\n",
       "            </tr><tr>\n",
       "                <td><strong>Name</strong></td><td>Ubiquinol</td>\n",
       "            </tr><tr>\n",
       "                <td><strong>Memory address</strong></td>\n",
       "                <td>0x01bd95513588</td>\n",
       "            </tr><tr>\n",
       "                <td><strong>Formula</strong></td><td>C19H28O4R</td>\n",
       "            </tr><tr>\n",
       "                <td><strong>Compartment</strong></td><td>c</td>\n",
       "            </tr><tr>\n",
       "                <td><strong>In 10 reaction(s)</strong></td><td>\n",
       "                    SUCDi, COQOR, MDH2, NADHDH, CYTBO3, biomass, SUCD5, QH2t, QH2NOR, LPROQOR</td>\n",
       "            </tr>\n",
       "        </table>"
      ],
      "text/plain": [
       "<Metabolite qh2_c at 0x1bd95513588>"
      ]
     },
     "execution_count": 15,
     "metadata": {},
     "output_type": "execute_result"
    }
   ],
   "source": [
    "model.metabolites.qh2_c"
   ]
  },
  {
   "cell_type": "markdown",
   "metadata": {},
   "source": [
    "Later (when mass balance and lipids are done) we will go through deadend metabolites and see which should also be added into the reaction: e.g. vitamins. "
   ]
  },
  {
   "cell_type": "code",
   "execution_count": null,
   "metadata": {},
   "outputs": [],
   "source": []
  }
 ],
 "metadata": {
  "kernelspec": {
   "display_name": "Python 3",
   "language": "python",
   "name": "python3"
  },
  "language_info": {
   "codemirror_mode": {
    "name": "ipython",
    "version": 3
   },
   "file_extension": ".py",
   "mimetype": "text/x-python",
   "name": "python",
   "nbconvert_exporter": "python",
   "pygments_lexer": "ipython3",
   "version": "3.7.7"
  }
 },
 "nbformat": 4,
 "nbformat_minor": 2
}
