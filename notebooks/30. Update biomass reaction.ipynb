{
 "cells": [
  {
   "cell_type": "markdown",
   "metadata": {},
   "source": [
    "# Introduction\n",
    "I've noticed that the biomass reaction in the model doesn't match what is present in Beata's thesis. Tables 4.1, 4.2, 4.3, 4.4, 4.5 and 4.6 cover results of experimental determination of the biomass components. The biomass reaction should encompass all of these metabolites. I have noticed that quite some metabolites are missing, or that the coefficients do not exactly match the presented data. So here I will try to make the reaction match the data presented. I will go per category, and after adding each missing metabolite check biomass formation is still possible. If not, I will try to find out the root cause and tackle that problem. \n",
    "\n",
    "All the way at the end, when the model is mass and stoiciometrically balanced we can fit the GAM to the data presented in the thesis; for now I will leave it as it is. "
   ]
  },
  {
   "cell_type": "code",
   "execution_count": 5,
   "metadata": {},
   "outputs": [],
   "source": [
    "import cameo\n",
    "import pandas as pd\n",
    "import cobra.io\n",
    "import escher\n",
    "from escher import Builder\n",
    "from cobra import Metabolite, Reaction"
   ]
  },
  {
   "cell_type": "code",
   "execution_count": 6,
   "metadata": {},
   "outputs": [],
   "source": [
    "model = cobra.io.read_sbml_model('../model/g-thermo.xml')"
   ]
  },
  {
   "cell_type": "code",
   "execution_count": 7,
   "metadata": {},
   "outputs": [],
   "source": [
    "model_e_coli = cameo.load_model ('iML1515')"
   ]
  },
  {
   "cell_type": "code",
   "execution_count": 8,
   "metadata": {},
   "outputs": [],
   "source": [
    "model_b_sub = cameo.load_model ('iYO844')"
   ]
  },
  {
   "cell_type": "code",
   "execution_count": 5,
   "metadata": {},
   "outputs": [],
   "source": [
    "#available at: https://github.com/SysBioChalmers/yeast-GEM/blob/master/ModelFiles/xml/yeastGEM.xml\n",
    "model_yeast = cobra.io.read_sbml_model('../../Databases/yeastGEM.xml')"
   ]
  },
  {
   "cell_type": "code",
   "execution_count": 6,
   "metadata": {},
   "outputs": [
    {
     "data": {
      "text/plain": [
       "1.8130259343813175"
      ]
     },
     "execution_count": 6,
     "metadata": {},
     "output_type": "execute_result"
    }
   ],
   "source": [
    "model.optimize().objective_value"
   ]
  },
  {
   "cell_type": "markdown",
   "metadata": {},
   "source": [
    "## Ions (table 4.1)\n",
    "Table 4.1 shows the determination of the following ions: K, Mg, Fe3+, Ca, phosphate and diphosphate. Note that the units of the metabolites added should be mmol/gdcw. \n",
    "\n",
    "Our reaction currently has the ions: fe3, fe2 and cl. I don't know why or where they were added, but I will remove them. Here I will try to stringently match the data presented.\n",
    "\n",
    "Note: phosphate is also formed from the hydrolysis of ATP, so this number will need to change when the GAM is estimated. "
   ]
  },
  {
   "cell_type": "code",
   "execution_count": 12,
   "metadata": {},
   "outputs": [],
   "source": [
    "#Potassium\n",
    "model.reactions.biomass.add_metabolites({\n",
    "    model.metabolites.k_c: -0.7082\n",
    "})"
   ]
  },
  {
   "cell_type": "code",
   "execution_count": 13,
   "metadata": {},
   "outputs": [
    {
     "data": {
      "text/html": [
       "\n",
       "        <table>\n",
       "            <tr>\n",
       "                <td><strong>Reaction identifier</strong></td><td>EX_k_e</td>\n",
       "            </tr><tr>\n",
       "                <td><strong>Name</strong></td><td>Potassium exchange</td>\n",
       "            </tr><tr>\n",
       "                <td><strong>Memory address</strong></td>\n",
       "                <td>0x020e4230d708</td>\n",
       "            </tr><tr>\n",
       "                <td><strong>Stoichiometry</strong></td>\n",
       "                <td>\n",
       "                    <p style='text-align:right'>k_e <=> </p>\n",
       "                    <p style='text-align:right'>Potassium <=> </p>\n",
       "                </td>\n",
       "            </tr><tr>\n",
       "                <td><strong>GPR</strong></td><td></td>\n",
       "            </tr><tr>\n",
       "                <td><strong>Lower bound</strong></td><td>-1000</td>\n",
       "            </tr><tr>\n",
       "                <td><strong>Upper bound</strong></td><td>1000</td>\n",
       "            </tr>\n",
       "        </table>\n",
       "        "
      ],
      "text/plain": [
       "<Reaction EX_k_e at 0x20e4230d708>"
      ]
     },
     "execution_count": 13,
     "metadata": {},
     "output_type": "execute_result"
    }
   ],
   "source": [
    "#we also supply potassium in the minimal medium, so add the exchange\n",
    "model.add_boundary(model.metabolites.k_e, type= 'exchange',reaction_id = 'EX_k_e',lb = -1000, ub = 1000)"
   ]
  },
  {
   "cell_type": "code",
   "execution_count": 14,
   "metadata": {},
   "outputs": [],
   "source": [
    "#magnesium needs to be added to the model first\n",
    "model.add_metabolites(Metabolite(id='mg2_c'))\n",
    "model.add_metabolites(Metabolite(id='mg2_e'))"
   ]
  },
  {
   "cell_type": "code",
   "execution_count": 15,
   "metadata": {},
   "outputs": [],
   "source": [
    "model.metabolites.mg2_c.name = 'Magnesium'\n",
    "model.metabolites.mg2_c.compartment= 'c'\n",
    "model.metabolites.mg2_c.formula = 'Mg'\n",
    "model.metabolites.mg2_c.annotation = model_e_coli.metabolites.mg2_c.annotation\n",
    "model.metabolites.mg2_c.charge = 2"
   ]
  },
  {
   "cell_type": "code",
   "execution_count": 16,
   "metadata": {},
   "outputs": [],
   "source": [
    "model.metabolites.mg2_e.name = 'Magnesium'\n",
    "model.metabolites.mg2_e.compartment= 'e'\n",
    "model.metabolites.mg2_e.formula = 'Mg'\n",
    "model.metabolites.mg2_e.annotation = model_e_coli.metabolites.mg2_c.annotation\n",
    "model.metabolites.mg2_e.charge = 2"
   ]
  },
  {
   "cell_type": "code",
   "execution_count": 17,
   "metadata": {},
   "outputs": [],
   "source": [
    "#the mg channel has been found in geobacillus, so will add passive transport.\n",
    "model.add_reaction(Reaction(id='MG2t'))"
   ]
  },
  {
   "cell_type": "code",
   "execution_count": 18,
   "metadata": {},
   "outputs": [],
   "source": [
    "model.reactions.MG2t.name = 'Magnesium transport via channel'\n",
    "model.reactions.MG2t.annotation['sbo'] = 'SBO:0000185'\n",
    "model.reactions.MG2t.bounds = (-1000,1000)"
   ]
  },
  {
   "cell_type": "code",
   "execution_count": 19,
   "metadata": {},
   "outputs": [],
   "source": [
    "model.reactions.MG2t.add_metabolites({model.metabolites.mg2_c: -1, model.metabolites.mg2_e: 1})"
   ]
  },
  {
   "cell_type": "code",
   "execution_count": 20,
   "metadata": {},
   "outputs": [
    {
     "data": {
      "text/html": [
       "\n",
       "        <table>\n",
       "            <tr>\n",
       "                <td><strong>Reaction identifier</strong></td><td>EX_mg2_e</td>\n",
       "            </tr><tr>\n",
       "                <td><strong>Name</strong></td><td>Magnesium exchange</td>\n",
       "            </tr><tr>\n",
       "                <td><strong>Memory address</strong></td>\n",
       "                <td>0x020e424a9588</td>\n",
       "            </tr><tr>\n",
       "                <td><strong>Stoichiometry</strong></td>\n",
       "                <td>\n",
       "                    <p style='text-align:right'>mg2_e <=> </p>\n",
       "                    <p style='text-align:right'>Magnesium <=> </p>\n",
       "                </td>\n",
       "            </tr><tr>\n",
       "                <td><strong>GPR</strong></td><td></td>\n",
       "            </tr><tr>\n",
       "                <td><strong>Lower bound</strong></td><td>-1000</td>\n",
       "            </tr><tr>\n",
       "                <td><strong>Upper bound</strong></td><td>1000</td>\n",
       "            </tr>\n",
       "        </table>\n",
       "        "
      ],
      "text/plain": [
       "<Reaction EX_mg2_e at 0x20e424a9588>"
      ]
     },
     "execution_count": 20,
     "metadata": {},
     "output_type": "execute_result"
    }
   ],
   "source": [
    "#add exchange\n",
    "model.add_boundary(model.metabolites.mg2_e, type= 'exchange',reaction_id = 'EX_mg2_e',lb = -1000, ub = 1000)"
   ]
  },
  {
   "cell_type": "code",
   "execution_count": 21,
   "metadata": {},
   "outputs": [],
   "source": [
    "#add mg to biomass\n",
    "model.reactions.biomass.add_metabolites({\n",
    "    model.metabolites.mg2_c: -0.098\n",
    "})"
   ]
  },
  {
   "cell_type": "code",
   "execution_count": 22,
   "metadata": {},
   "outputs": [],
   "source": [
    "#Fe3+ is already in the model, just need to change unit\n",
    "model.reactions.biomass.add_metabolites({\n",
    "    model.metabolites.fe3_c:-0.0041\n",
    "})"
   ]
  },
  {
   "cell_type": "code",
   "execution_count": 23,
   "metadata": {},
   "outputs": [],
   "source": [
    "#calcium needs to be added to the model first\n",
    "model.add_metabolites(Metabolite(id='ca2_c'))\n",
    "model.add_metabolites(Metabolite(id='ca2_e'))"
   ]
  },
  {
   "cell_type": "code",
   "execution_count": 24,
   "metadata": {},
   "outputs": [],
   "source": [
    "model.metabolites.ca2_c.name = 'Calcium'\n",
    "model.metabolites.ca2_c.compartment= 'c'\n",
    "model.metabolites.ca2_c.formula = 'Ca'\n",
    "model.metabolites.ca2_c.annotation = model_e_coli.metabolites.ca2_c.annotation\n",
    "model.metabolites.ca2_c.charge = 2"
   ]
  },
  {
   "cell_type": "code",
   "execution_count": 25,
   "metadata": {},
   "outputs": [],
   "source": [
    "model.metabolites.ca2_e.name = 'Calcium'\n",
    "model.metabolites.ca2_e.compartment= 'e'\n",
    "model.metabolites.ca2_e.formula = 'Ca'\n",
    "model.metabolites.ca2_e.annotation = model_e_coli.metabolites.ca2_e.annotation\n",
    "model.metabolites.ca2_e.charge = 2"
   ]
  },
  {
   "cell_type": "code",
   "execution_count": 26,
   "metadata": {},
   "outputs": [],
   "source": [
    "#there is a calcium antiporter annotated in the genome\n",
    "model.add_reaction(Reaction(id='CA2t'))"
   ]
  },
  {
   "cell_type": "code",
   "execution_count": 27,
   "metadata": {},
   "outputs": [],
   "source": [
    "model.reactions.CA2t.name = 'Transport of calcium via antiport'\n",
    "model.reactions.CA2t.annotation['sbo'] = 'SBO:0000185'\n",
    "model.reactions.CA2t.bounds = (-1000,1000)"
   ]
  },
  {
   "cell_type": "code",
   "execution_count": 28,
   "metadata": {},
   "outputs": [],
   "source": [
    "model.reactions.CA2t.add_metabolites({model.metabolites.ca2_c: -1, model.metabolites.ca2_e:1, model.metabolites.h_e: -1, model.metabolites.h_c:1})"
   ]
  },
  {
   "cell_type": "code",
   "execution_count": 29,
   "metadata": {},
   "outputs": [
    {
     "data": {
      "text/html": [
       "\n",
       "        <table>\n",
       "            <tr>\n",
       "                <td><strong>Reaction identifier</strong></td><td>EX_ca2_e</td>\n",
       "            </tr><tr>\n",
       "                <td><strong>Name</strong></td><td>Calcium exchange</td>\n",
       "            </tr><tr>\n",
       "                <td><strong>Memory address</strong></td>\n",
       "                <td>0x020e42170b08</td>\n",
       "            </tr><tr>\n",
       "                <td><strong>Stoichiometry</strong></td>\n",
       "                <td>\n",
       "                    <p style='text-align:right'>ca2_e <=> </p>\n",
       "                    <p style='text-align:right'>Calcium <=> </p>\n",
       "                </td>\n",
       "            </tr><tr>\n",
       "                <td><strong>GPR</strong></td><td></td>\n",
       "            </tr><tr>\n",
       "                <td><strong>Lower bound</strong></td><td>-1000</td>\n",
       "            </tr><tr>\n",
       "                <td><strong>Upper bound</strong></td><td>1000</td>\n",
       "            </tr>\n",
       "        </table>\n",
       "        "
      ],
      "text/plain": [
       "<Reaction EX_ca2_e at 0x20e42170b08>"
      ]
     },
     "execution_count": 29,
     "metadata": {},
     "output_type": "execute_result"
    }
   ],
   "source": [
    "#add exchange\n",
    "model.add_boundary(model.metabolites.ca2_e, type= 'exchange',reaction_id = 'EX_ca2_e',lb = -1000, ub = 1000)"
   ]
  },
  {
   "cell_type": "code",
   "execution_count": 30,
   "metadata": {},
   "outputs": [],
   "source": [
    "#add ca to biomass\n",
    "model.reactions.biomass.add_metabolites({\n",
    "    model.metabolites.ca2_c: -0.00315\n",
    "})"
   ]
  },
  {
   "cell_type": "markdown",
   "metadata": {},
   "source": [
    "__phosphate__ is orginally in the biomass reaction already: 104.9856 (coupled to the amount of ATP required for growth. \n",
    "As a substrate that is consumed, phosphate only needs 0,0173 mmol/gCDW. This will play only a small difference on the total reaction. I will not change this yet, but this should be modified when we fit the GAM. "
   ]
  },
  {
   "cell_type": "code",
   "execution_count": 31,
   "metadata": {},
   "outputs": [],
   "source": [
    "#diphosphate\n",
    "model.reactions.biomass.add_metabolites({model.metabolites.ppi_c:-0.0012})"
   ]
  },
  {
   "cell_type": "code",
   "execution_count": 32,
   "metadata": {},
   "outputs": [],
   "source": [
    "#remove fe2 and cl from the biomass reaction\n",
    "model.reactions.biomass.add_metabolites({model.metabolites.fe2_c:0.029903042, model.metabolites.cl_c:0.029903042})"
   ]
  },
  {
   "cell_type": "code",
   "execution_count": 33,
   "metadata": {},
   "outputs": [],
   "source": [
    "#save & commit\n",
    "cobra.io.write_sbml_model(model,'../model/g-thermo.xml')"
   ]
  },
  {
   "cell_type": "code",
   "execution_count": 34,
   "metadata": {},
   "outputs": [
    {
     "data": {
      "text/plain": [
       "1.7870624929522956"
      ]
     },
     "execution_count": 34,
     "metadata": {},
     "output_type": "execute_result"
    }
   ],
   "source": [
    "model.optimize().objective_value"
   ]
  },
  {
   "cell_type": "markdown",
   "metadata": {},
   "source": [
    "## Amino acids (table 4.2)\n",
    "I've already ensured all amino acids are present in the model. However, the coefficients associated to a majority of them do not fit what is included in table 4.2, so I will modify those where necessary to match the table."
   ]
  },
  {
   "cell_type": "code",
   "execution_count": 35,
   "metadata": {},
   "outputs": [],
   "source": [
    "model.reactions.biomass.add_metabolites({\n",
    "    model.metabolites.gly_c:-0.02407042, \n",
    "    model.metabolites.ala__L_c:-0.0303495, \n",
    "    model.metabolites.val__L_c:-0.02220057, \n",
    "    model.metabolites.leu__L_c:-0.02051081, \n",
    "    model.metabolites.ile__L_c:-0.0161025,\n",
    "    model.metabolites.ser__L_c:-0.01068746,\n",
    "    model.metabolites.thr__L_c:-0.0158668,\n",
    "    model.metabolites.phe__L_c:-0.00856894,\n",
    "    model.metabolites.tyr__L_c:0.060075203,\n",
    "    model.metabolites.trp__L_c:-0.00605801,\n",
    "    model.metabolites.cys__L_c:-0.00636758,\n",
    "    model.metabolites.met__L_c:-0.00301383,\n",
    "    model.metabolites.lys__L_c:-0.018717862,\n",
    "    model.metabolites.arg__L_c:-0.01105,\n",
    "    model.metabolites.his__L_c:-0.00459031,\n",
    "    model.metabolites.asp__L_c:-0.01310304,\n",
    "    model.metabolites.glu__L_c:-0.250734713,\n",
    "    model.metabolites.pro__L_c: -0.00983182,\n",
    "    model.metabolites.gln__L_c:0.322355,\n",
    "    model.metabolites.asn__L_c:0.18114312\n",
    "})\n"
   ]
  },
  {
   "cell_type": "code",
   "execution_count": 36,
   "metadata": {},
   "outputs": [],
   "source": [
    "#save&commit\n",
    "cobra.io.write_sbml_model(model,'../model/g-thermo.xml')"
   ]
  },
  {
   "cell_type": "code",
   "execution_count": 37,
   "metadata": {},
   "outputs": [
    {
     "data": {
      "text/plain": [
       "1.8146393014541327"
      ]
     },
     "execution_count": 37,
     "metadata": {},
     "output_type": "execute_result"
    }
   ],
   "source": [
    "model.optimize().objective_value"
   ]
  },
  {
   "cell_type": "markdown",
   "metadata": {},
   "source": [
    "## DNA & RNA (table 4.3)\n",
    "Here table 4.3 estimates values around 0.2-0.3 per nucleotide, or even 8 mmol/gcdw for UMP and CMP. This is a factor 10 higher than the information about the DNA in figure 4.6. This makes it hard to decide which value to use, though for DNA I would expect values near 0.02 mmol/gCDW, and for RNA around 0.15 mm/gDCW.\n",
    "\n",
    "As the data is hard to really interpret and the outcome of it seems strange. E.g. From the DNA distribution in fig 4.6 we would have 75.4% GC content in the strain, but in the genome we know this should be around 43% (allowing some experimental error). \n",
    "\n",
    "Niko mentioned that we could alternatively estimate the DNA and RNA composition by knowing the GC-content of the genome and the total amounts of DNA and RNA in our bacteria. So instead I will estimate the values from this.\n",
    "\n",
    "GC-content: approx 43.4 mol%\n",
    "total DNA (1%) i.e. 1g DNA / 100 gDCW\n",
    "total RNA (16% of biomass) i.e. 16 g / 100 gDCQ\n",
    "\n",
    "From this data, together with the MW of each (d)NMP we can estimate the mmol/gDCW of each nucleotide present. see '../databases/Biomass_rct.xlsx' for the calculations and desired final values.\n",
    "\n",
    "I will correct the values in the model here."
   ]
  },
  {
   "cell_type": "code",
   "execution_count": 39,
   "metadata": {},
   "outputs": [],
   "source": [
    "model=cobra.io.read_sbml_model('../model/g-thermo.xml')"
   ]
  },
  {
   "cell_type": "code",
   "execution_count": 40,
   "metadata": {},
   "outputs": [],
   "source": [
    "model.reactions.biomass.add_metabolites({\n",
    "    model.metabolites.damp_c:0.021231612,\n",
    "    model.metabolites.dcmp_c: 0.016684519,\n",
    "    model.metabolites.dtmp_c: 0.021231612,\n",
    "    model.metabolites.dgmp_c: 0.016684519,\n",
    "    model.metabolites.amp_c:-0.020399789,\n",
    "    model.metabolites.gmp_c: 0.043519524,\n",
    "    model.metabolites.cmp_c:-0.022435461,\n",
    "    model.metabolites.ump_c:-0.046781783,\n",
    "})"
   ]
  },
  {
   "cell_type": "code",
   "execution_count": 43,
   "metadata": {},
   "outputs": [],
   "source": [
    "#save&commit\n",
    "cobra.io.write_sbml_model(model,'../model/g-thermo.xml')"
   ]
  },
  {
   "cell_type": "markdown",
   "metadata": {},
   "source": [
    "## Carbohydrates\n",
    "Beata's thesis identifies that 10% of DCW is composed of carbohydrates. One would also expect these to be present in the biomass. In the thesis, the data shows the carbohydrate component as split into basic sugars which is convenient from a modelling perspective. It may influence the energy requirement but this will be fit in the GAM anyway."
   ]
  },
  {
   "cell_type": "code",
   "execution_count": 89,
   "metadata": {},
   "outputs": [],
   "source": [
    "model = cobra.io.read_sbml_model('../model/g-thermo.xml')"
   ]
  },
  {
   "cell_type": "code",
   "execution_count": 90,
   "metadata": {},
   "outputs": [],
   "source": [
    "model.reactions.biomass.add_metabolites({\n",
    "    model.metabolites.arab__L_c: -0.045625,\n",
    "    model.metabolites.gal_c:-0.212236,\n",
    "    model.metabolites.glc__D_c:-0.010725,\n",
    "    model.metabolites.xyl__D_c: -0.204370,\n",
    "    model.metabolites.man_c:-0.006411,\n",
    "    model.metabolites.fru_c:-0.117367\n",
    "})"
   ]
  },
  {
   "cell_type": "markdown",
   "metadata": {},
   "source": [
    "Adding the carbohydrates kills the biomass accumulation: so somehow we cannot produce one (or more) of the carbohydrates. \n",
    "\n",
    "The problematic carbohydrates are: arabinose, galactose, xylose and mannose. Here I will go through their biosynthesis one by one to ensure they can be made and fix this issue.\n",
    "\n",
    "__Arabinose__ \n",
    "in the model, the arabinose can be made from ribulose. However ribulose cannot be made, so I will fix this. This is because the RBK_L1 reaction is irreversible as it consumes ATP. The options we have hear are either to make this reaction reversible and risk it results in the formation of ATP. Or we add a hydrolysis reaction that hydrolysis the Ru5p__L to rbl, which is used for biomass. \n",
    "\n",
    "I think this second option is better. We prevent extensive arabinose production for ATP production purposes in this way. Also the different in ATP requirement for the arabinose needed in growth will be captured in the fitted GAM anyway. The hydrolysis reaction will also be irreversible. By both being irreversible it will prevent a cycle as ATP consumption is coupled to one reaction."
   ]
  },
  {
   "cell_type": "code",
   "execution_count": 91,
   "metadata": {},
   "outputs": [],
   "source": [
    "model.add_reaction(Reaction(id='RU5PHY'))"
   ]
  },
  {
   "cell_type": "code",
   "execution_count": 92,
   "metadata": {},
   "outputs": [],
   "source": [
    "model.reactions.RU5PHY.name = 'Hydrolysis of L-Ribulose-5-phosphate'\n",
    "model.reactions.RU5PHY.notes['NOTES'] = 'Added reaction to allow biomass formation. ATP is captured in GAM'\n",
    "model.reactions.RU5PHY.annotation['sbo'] = 'SBO:0000176'"
   ]
  },
  {
   "cell_type": "code",
   "execution_count": 93,
   "metadata": {},
   "outputs": [],
   "source": [
    "model.reactions.RU5PHY.add_metabolites({\n",
    "    model.metabolites.ru5p__L_c: -1,\n",
    "    model.metabolites.rbl__L_c: 1, \n",
    "    model.metabolites.h2o_c: -1,\n",
    "    model.metabolites.pi_c:1,\n",
    "    model.metabolites.h_c: 1\n",
    "})"
   ]
  },
  {
   "cell_type": "markdown",
   "metadata": {},
   "source": [
    "__Galactose__ Here the problem is the conversion from gal1p to galatose, captured in the GALKr reaction. In E. coli this reaction is reversible, even though it is associated with atp. Based on thermodynamic prediction, this reaction can be reversible still. of course SLP is possible, we just need to be sure that there is not a surplus of energy created by this reaction. As galactose is not exported out of the cell, I doubt this would not happen and so we will make the reaction reversible again. "
   ]
  },
  {
   "cell_type": "code",
   "execution_count": 94,
   "metadata": {},
   "outputs": [],
   "source": [
    "model.reactions.GALKr.bounds=(-1000,1000)"
   ]
  },
  {
   "cell_type": "code",
   "execution_count": 95,
   "metadata": {},
   "outputs": [],
   "source": [
    "model.reactions.MELIBHY.id = 'GALS3'"
   ]
  },
  {
   "cell_type": "markdown",
   "metadata": {},
   "source": [
    "__Xylose__ Here again the problem is the formation of xylulose from xylulose-5-phosphate. here based on thermodynamics I would not expect a reversible reaction. So instead, we again will add a hydrolysis of xu5p__D_c reaction to allow biomass consumption. Again the possible difference in ATP needed to make biomass will be reflected in the biomass GAM and so is not an issue here."
   ]
  },
  {
   "cell_type": "code",
   "execution_count": 96,
   "metadata": {},
   "outputs": [],
   "source": [
    "model.add_reaction(Reaction(id='XU5PHY'))"
   ]
  },
  {
   "cell_type": "code",
   "execution_count": 97,
   "metadata": {},
   "outputs": [],
   "source": [
    "model.reactions.XU5PHY.name = 'Hydrolysis of L-Xylulose-5-phosphate'\n",
    "model.reactions.XU5PHY.notes['NOTES'] = 'Added reaction to allow biomass formation. ATP is captured in GAM'\n",
    "model.reactions.XU5PHY.annotation['sbo'] = 'SBO:0000176'"
   ]
  },
  {
   "cell_type": "code",
   "execution_count": 98,
   "metadata": {},
   "outputs": [],
   "source": [
    "model.reactions.XU5PHY.add_metabolites({\n",
    "    model.metabolites.xu5p__D_c: -1,\n",
    "    model.metabolites.xylu__D_c: 1, \n",
    "    model.metabolites.h2o_c: -1,\n",
    "    model.metabolites.pi_c:1,\n",
    "    model.metabolites.h_c: 1\n",
    "})"
   ]
  },
  {
   "cell_type": "markdown",
   "metadata": {},
   "source": [
    "__Mannose__ Here we are again missing a reaction that can convert the mannose-6-phosphate back into mannose. The reaction going to man6p is still mass imbalanced and will be fixed later. Based on the fix for that, it is unreasonable to expect a reverse reaction here, and so I will add a hydrolysis reaction again. (Note: same is done in the E. coli model here.)\n"
   ]
  },
  {
   "cell_type": "code",
   "execution_count": 99,
   "metadata": {},
   "outputs": [],
   "source": [
    "model.add_reaction(Reaction(id='M6PHY'))"
   ]
  },
  {
   "cell_type": "code",
   "execution_count": 100,
   "metadata": {},
   "outputs": [],
   "source": [
    "model.reactions.M6PHY.name = 'Hydrolysis of Mannose-6-phosphate'\n",
    "model.reactions.M6PHY.notes['NOTES'] = 'Added reaction to allow biomass formation. ATP is captured in GAM'\n",
    "model.reactions.M6PHY.annotation['sbo'] = 'SBO:0000176'"
   ]
  },
  {
   "cell_type": "code",
   "execution_count": 101,
   "metadata": {},
   "outputs": [],
   "source": [
    "model.reactions.M6PHY.add_metabolites({\n",
    "    model.metabolites.man6p_c: -1,\n",
    "    model.metabolites.man_c: 1, \n",
    "    model.metabolites.h2o_c: -1,\n",
    "    model.metabolites.pi_c:1,\n",
    "    model.metabolites.h_c: 1\n",
    "})"
   ]
  },
  {
   "cell_type": "code",
   "execution_count": 102,
   "metadata": {},
   "outputs": [
    {
     "data": {
      "text/plain": [
       "{}"
      ]
     },
     "execution_count": 102,
     "metadata": {},
     "output_type": "execute_result"
    }
   ],
   "source": [
    "model.reactions.M6PHY.check_mass_balance()"
   ]
  },
  {
   "cell_type": "code",
   "execution_count": 105,
   "metadata": {},
   "outputs": [],
   "source": [
    "#save&commit\n",
    "cobra.io.write_sbml_model(model,'../model/g-thermo.xml')"
   ]
  },
  {
   "cell_type": "markdown",
   "metadata": {},
   "source": [
    "# Lipids\n",
    "To include the lipids in the biomass equation, we need to do a significant amount of additional work. We need to first decide which approach we will use to capture lipid metabolism and then update the model to account for the production of all components we need for that approach. Therefore this is a much larger issue in itself, and so will be tackled in another notebook."
   ]
  },
  {
   "cell_type": "markdown",
   "metadata": {},
   "source": [
    "# Cofactors\n",
    "According to Beata's thesis, there should also be NAD, NADP and NADPH included in the model, as well as quinol. For these cofactors there are experimental values available and so this should be adapted in the biomass reaction.\n",
    "\n",
    "In the model currently, we also have ribflv, coA and fad present. It could be expected that these are required in the formation of biomass. However their stoichiometric coefficients are very high. After meeting with Ben, we discussed a way to get more realistic coefficients for these components: looking into the yeast, e. coli and b. sub models for the values they have and using those as quidelines. Of course, ideally one would have experimental data on this, however this is unavailable, so we can approach it like this. As these numbers are very small and play only a slight role in biomass formation, slight deviations will not show a huge effect and so it is oke to include it like this.\n",
    "\n",
    "Please se '../databases/Biomass_rct.xlsx' for a summary of the values used for all cofactors.\n",
    "For NADH, FAD, ribflav and CoA I will use the values of the e. coli model. There is still quite some variance that is observed bbetween the e. coli and yeast model. But the values are often of similar magnitude. As our organism is a bacteria, I will use the e. coli values. \n"
   ]
  },
  {
   "cell_type": "code",
   "execution_count": 8,
   "metadata": {},
   "outputs": [],
   "source": [
    "model = cobra.io.read_sbml_model('../model/g-thermo.xml')"
   ]
  },
  {
   "cell_type": "code",
   "execution_count": 7,
   "metadata": {},
   "outputs": [],
   "source": [
    "model.reactions.biomass.add_metabolites({\n",
    "    model.metabolites.nad_c: 0.013703042,\n",
    "    model.metabolites.nadh_c: -0.000045,\n",
    "    model.metabolites.nadp_c: 0.025203042,\n",
    "    model.metabolites.nadph_c: 0.026903042,\n",
    "    model.metabolites.fad_c: 0.029680042,\n",
    "    model.metabolites.qh2_c: 0.029603042,\n",
    "    model.metabolites.ribflv_c: 0.029680042,\n",
    "    model.metabolites.coa_c: 0.029735042\n",
    "})"
   ]
  },
  {
   "cell_type": "code",
   "execution_count": 146,
   "metadata": {},
   "outputs": [],
   "source": [
    "#save&commit\n",
    "cobra.io.write_sbml_model(model,'../model/g-thermo.xml')"
   ]
  },
  {
   "cell_type": "markdown",
   "metadata": {},
   "source": [
    "# Other\n",
    "Aside from the above categories, there are also some other metabolites that should be added or looked into. In Beata's thesis there is data about 10-Formyltetrahydrofolate presence that is currently lacking in the biomass reaction. Here i will add this back in.\n",
    "\n",
    "Also for the accoa_c, succoa_c, chor_c, thmpp_c, gthrd_c and ptrc_c metabolites I will check the stoichiometry that is associated to them by comparing it to the other models that are present and adapt them accordingly as they seem way too high for our model currently. \n",
    "\n",
    "Again, here I will use the E. coli data as a guide, as those numbers seem more realistic than what has been added into our model."
   ]
  },
  {
   "cell_type": "code",
   "execution_count": 12,
   "metadata": {},
   "outputs": [],
   "source": [
    "model=cobra.io.read_sbml_model('../model/g-thermo.xml')"
   ]
  },
  {
   "cell_type": "code",
   "execution_count": 10,
   "metadata": {},
   "outputs": [],
   "source": [
    "model.reactions.biomass.add_metabolites({\n",
    "    model.metabolites.get_by_id('10fthf_c'): -0.0004,\n",
    "    model.metabolites.accoa_c:0.029624042,\n",
    "    model.metabolites.chor_c:0.029680042,\n",
    "    model.metabolites.gthrd_c:0.029680042,\n",
    "    model.metabolites.ptrc_c: -0.003366958,\n",
    "    model.metabolites.succoa_c:0.03,\n",
    "    model.metabolites.thmpp_c:0.030126042\n",
    "})"
   ]
  },
  {
   "cell_type": "code",
   "execution_count": 11,
   "metadata": {},
   "outputs": [],
   "source": [
    "#save&commit\n",
    "cobra.io.write_sbml_model(model,'../model/g-thermo.xml')"
   ]
  },
  {
   "cell_type": "markdown",
   "metadata": {},
   "source": [
    "By adding 10fthf_c, the model no longer grows. So now I will check how to resolve this bloackage here. If you supply folate to the model, it grows again so the issue lies somewhere in the folate biosynthesis pathway.\n",
    "\n",
    "Folate can be made from chorismate or GTP. Supplying either of these doesn't rescue biomass production and so we need to go through both pathways completely to make sure they are correct."
   ]
  },
  {
   "cell_type": "markdown",
   "metadata": {},
   "source": [
    "Aside from some reactions that are reverisible that shouldn't be, the part leading to 4-aminobenzoate seems to be correct. So it seems it must be further upstream of the 6hmhpt_c metabolite.\n",
    "\n",
    "Also the pathway from GTP Seems to be correct, so there must be some co-factor or side meetabolite that is the issue blocking this pathway."
   ]
  },
  {
   "cell_type": "code",
   "execution_count": 14,
   "metadata": {},
   "outputs": [],
   "source": [
    "model.reactions.DHFR.bounds = (-1000,0)"
   ]
  },
  {
   "cell_type": "code",
   "execution_count": 15,
   "metadata": {},
   "outputs": [],
   "source": [
    "model.reactions.HMHPTMT.bounds = (0,1000)"
   ]
  },
  {
   "cell_type": "markdown",
   "metadata": {},
   "source": [
    "Problem is the conversion to form 6hmhpt_c, as supplying dhnpt_c doesnt rescue biomass formation. In the DHNPA2r reaction, the only other involved metabolite is glycoaldehyde. So possibly this cannot be converted sufficiently and so blocks the pathway. Adding the removal of glycoalehyde restores biomass so this is the issue we face currently.\n",
    "I will check the glycoaldehyde consumption here."
   ]
  },
  {
   "cell_type": "code",
   "execution_count": 16,
   "metadata": {},
   "outputs": [],
   "source": [
    "#seems to miss the GCALDD reaction\n",
    "model.add_reaction(Reaction(id='GCALDD'))"
   ]
  },
  {
   "cell_type": "code",
   "execution_count": 17,
   "metadata": {},
   "outputs": [],
   "source": [
    "model.reactions.GCALDD.name = 'Glycolaldehyde dehydrogenase'\n",
    "model.reactions.GCALDD.annotation = model_e_coli.reactions.GCALDD.annotation"
   ]
  },
  {
   "cell_type": "code",
   "execution_count": 18,
   "metadata": {},
   "outputs": [],
   "source": [
    "model.reactions.GCALDD.add_metabolites({\n",
    "    model.metabolites.gcald_c:-1,\n",
    "    model.metabolites.h2o_c: -1,\n",
    "    model.metabolites.nad_c:-1, \n",
    "    model.metabolites.glyclt_c:1,\n",
    "    model.metabolites.h_c: 2,\n",
    "    model.metabolites.nadh_c:1\n",
    "})"
   ]
  },
  {
   "cell_type": "code",
   "execution_count": 19,
   "metadata": {},
   "outputs": [
    {
     "name": "stderr",
     "output_type": "stream",
     "text": [
      "C:\\Users\\vivmol\\AppData\\Local\\Continuum\\anaconda3\\envs\\g-thermo\\lib\\site-packages\\cobra\\core\\model.py:716: UserWarning:\n",
      "\n",
      "need to pass in a list\n",
      "\n",
      "C:\\Users\\vivmol\\AppData\\Local\\Continuum\\anaconda3\\envs\\g-thermo\\lib\\site-packages\\cobra\\core\\group.py:110: UserWarning:\n",
      "\n",
      "need to pass in a list\n",
      "\n"
     ]
    }
   ],
   "source": [
    "#GLYCLTDx and GLYCNOR are duplicate reactions\n",
    "model.remove_reactions(model.reactions.GLYCNOR)"
   ]
  },
  {
   "cell_type": "code",
   "execution_count": 20,
   "metadata": {},
   "outputs": [],
   "source": [
    "#problem is: glx can only be converted back into glyclt."
   ]
  },
  {
   "cell_type": "code",
   "execution_count": 21,
   "metadata": {},
   "outputs": [],
   "source": [
    "#MALS in the glyoxylate cycle is in the wrong direction!\n",
    "model.reactions.MALS.bounds=(-1000,0)"
   ]
  },
  {
   "cell_type": "markdown",
   "metadata": {},
   "source": [
    "The Bacillus genome encodes a Glyoxalate carboligase. A tBlastn search shows that there is a significant hit in our strain. For that reason, it can be expected that this enzyme is also present in our strain.  Hence I will add the reaction here."
   ]
  },
  {
   "cell_type": "code",
   "execution_count": 22,
   "metadata": {},
   "outputs": [],
   "source": [
    "model.add_reaction(Reaction(id='GLXCBL'))"
   ]
  },
  {
   "cell_type": "code",
   "execution_count": 23,
   "metadata": {},
   "outputs": [],
   "source": [
    "model.reactions.GLXCBL.name= 'Glyoxalate carboligase'\n",
    "model.reactions.GLXCBL.annotation = model_b_sub.reactions.GLXCBL.annotation"
   ]
  },
  {
   "cell_type": "code",
   "execution_count": 24,
   "metadata": {},
   "outputs": [],
   "source": [
    "model.reactions.GLXCBL.add_metabolites({\n",
    "    model.metabolites.glx_c: -2,\n",
    "    model.metabolites.h_c: -1,\n",
    "    model.metabolites.hop_c:1,\n",
    "    model.metabolites.co2_c:1\n",
    "})"
   ]
  },
  {
   "cell_type": "code",
   "execution_count": 25,
   "metadata": {},
   "outputs": [],
   "source": [
    "#save&commit\n",
    "cobra.io.write_sbml_model(model,'../model/g-thermo.xml')"
   ]
  },
  {
   "cell_type": "markdown",
   "metadata": {},
   "source": [
    "# Fix Succo and thmpp\n",
    "Ben spotted that our succoa and thmpp metabolites ended up with positive coefficients, which they should not have. So here I will quickly fix this."
   ]
  },
  {
   "cell_type": "code",
   "execution_count": 12,
   "metadata": {},
   "outputs": [],
   "source": [
    "model = cobra.io.read_sbml_model('../model/g-thermo.xml')"
   ]
  },
  {
   "cell_type": "code",
   "execution_count": 13,
   "metadata": {},
   "outputs": [],
   "source": [
    "model.reactions.biomass.add_metabolites({\n",
    "    model.metabolites.succoa_c: -1.95E-04,\n",
    "    model.metabolites.thmpp_c:-0.000446\n",
    "})"
   ]
  },
  {
   "cell_type": "code",
   "execution_count": 14,
   "metadata": {},
   "outputs": [],
   "source": [
    "#save&commit\n",
    "cobra.io.write_sbml_model(model,'../model/g-thermo.xml')"
   ]
  },
  {
   "cell_type": "markdown",
   "metadata": {},
   "source": [
    "# Carbohydrates\n",
    "So apparently I miss understood Ben; in the biomass reaction it is best to include the UDP-bound variant of the carbohydrates where that makes sense. This is because adding the carbohydrates in itself can lead to gluconeogenesis being triggered in the model to meetbiomass requirements.Also, for example for glycogen, it is known that this is made by assembling UDP-glucose, not free glucose. Then the energy accounting for polymerization is better and more correctly captured. (i.e. add the activated sugars)\n",
    "\n",
    "Note: with this, we will leave the stoichiometry the same. because the data as a weight percentage was determined based on just the glucose, not UDP-glucose. so I will not modify these values. As UDP will be released later this will correct for the additional mass that is brought into the reaction. \n",
    "\n",
    "In general, the synthesis of the activated sugars comes from a pyrophosphorylase, that takes the NTP and reacts with the sugar-1-phosphate to give the the NDP-sugar moeity that is used for the polymers. So according to this I will add these variants into the biomass reaction.\n",
    "\n",
    "So what to do with each carb:\n",
    "- glucose: becomes UDP-glucose, from g1p. \n",
    "- Galactose: from UDP-gal, from gal1p or udpg\n",
    "- Arabinose: from UDP-arabinose via ara1p and udp-xylose\n",
    "- xylose: from UDP-xylose via xylose-1-phosphate, or from UDP arabinose or UDPglucoronate (udpglcur_c)\n",
    "- mannose: polymer is mannan. make from mannose-1-phosphate to GDP-mannose and then consume GDP mannose.\n",
    "\n",
    "- fructose: polymer is inulin. the genes for the production of inulin seem to be missing. So for fructose I will just leave fructose in the reaction, as per bens recommendation.\n"
   ]
  },
  {
   "cell_type": "code",
   "execution_count": 9,
   "metadata": {},
   "outputs": [],
   "source": [
    "model = cobra.io.read_sbml_model('../model/g-thermo.xml')"
   ]
  },
  {
   "cell_type": "code",
   "execution_count": 10,
   "metadata": {},
   "outputs": [],
   "source": [
    "#for UDP-arbinose, add UDP-arabinose metabolite and synthesis\n",
    "model.add_metabolites(Metabolite(id='udparab_c', name = 'UDP-L-arabinose', compartment = 'c', charge = 0, formula = 'C14H22N2O16P2'))"
   ]
  },
  {
   "cell_type": "code",
   "execution_count": 11,
   "metadata": {},
   "outputs": [],
   "source": [
    "model.metabolites.udparab_c.annotation['kegg.compound'] = 'C00935'\n",
    "model.metabolites.udparab_c.annotation['chebi'] = 'CHEBI:17983'\n",
    "model.metabolites.udparab_c.annotation['metanetx.chemical'] = 'MNXM5976' "
   ]
  },
  {
   "cell_type": "code",
   "execution_count": 12,
   "metadata": {},
   "outputs": [],
   "source": [
    "#add arabinose-1-phosphate\n",
    "model.add_metabolites(Metabolite(id='ara1p_c', name = 'beta-L-Arabinose 1-phosphate', compartment = 'c', charge = 0, formula = 'C5H11O8P'))"
   ]
  },
  {
   "cell_type": "code",
   "execution_count": 13,
   "metadata": {},
   "outputs": [],
   "source": [
    "model.metabolites.ara1p_c.annotation['kegg.compound'] = 'C03906'\n",
    "model.metabolites.ara1p_c.annotation['chebi'] = 'CHEBI:15807'"
   ]
  },
  {
   "cell_type": "code",
   "execution_count": 14,
   "metadata": {},
   "outputs": [],
   "source": [
    "#add reaction from ara1p to udparab\n",
    "model.add_reaction(Reaction(id='ARAAT', name = 'UDP-sugar pyrophosphorylase '))"
   ]
  },
  {
   "cell_type": "code",
   "execution_count": 15,
   "metadata": {},
   "outputs": [],
   "source": [
    "model.reactions.ARAAT.annotation['kegg.reaction'] = 'R08845'\n",
    "model.reactions.ARAAT.annotation['ec-code'] = '2.7.7.64'\n",
    "model.reactions.ARAAT.annotation['sbo'] = 'SBO:0000176'"
   ]
  },
  {
   "cell_type": "code",
   "execution_count": 16,
   "metadata": {},
   "outputs": [
    {
     "name": "stderr",
     "output_type": "stream",
     "text": [
      "C:\\Users\\vivmol\\AppData\\Local\\Continuum\\anaconda3\\envs\\g-thermo\\lib\\site-packages\\cobra\\core\\group.py:93: UserWarning:\n",
      "\n",
      "need to pass in a list\n",
      "\n"
     ]
    }
   ],
   "source": [
    "model.groups.get_by_id('00520 - Amino sugar and nucleotide sugar metabolism').add_members(model.reactions.ARAAT)"
   ]
  },
  {
   "cell_type": "code",
   "execution_count": 17,
   "metadata": {},
   "outputs": [],
   "source": [
    "model.reactions.ARAAT.add_metabolites({\n",
    "    model.metabolites.utp_c:-1,\n",
    "    model.metabolites.ara1p_c:-1,\n",
    "    model.metabolites.ppi_c:1,\n",
    "    model.metabolites.udparab_c:1\n",
    "})"
   ]
  },
  {
   "cell_type": "code",
   "execution_count": 18,
   "metadata": {},
   "outputs": [],
   "source": [
    "#add reaction from arabinose to ara1p\n",
    "model.add_reaction(Reaction(id='ARAK', name = 'L-arabinokinase'))"
   ]
  },
  {
   "cell_type": "code",
   "execution_count": 19,
   "metadata": {},
   "outputs": [],
   "source": [
    "model.reactions.ARAK.annotation['sbo'] = 'SBO:0000176'\n",
    "model.reactions.ARAK.annotation['kegg.reaction'] = 'R01754'\n",
    "model.reactions.ARAK.annotation['ec-code'] = '2.7.1.46'"
   ]
  },
  {
   "cell_type": "code",
   "execution_count": 20,
   "metadata": {},
   "outputs": [],
   "source": [
    "model.groups.get_by_id('00520 - Amino sugar and nucleotide sugar metabolism').add_members(model.reactions.ARAK)"
   ]
  },
  {
   "cell_type": "code",
   "execution_count": 21,
   "metadata": {},
   "outputs": [],
   "source": [
    "model.reactions.ARAK.add_metabolites({\n",
    "    model.metabolites.arab__L_c:-1,\n",
    "    model.metabolites.atp_c:-1,\n",
    "    model.metabolites.ara1p_c:1,\n",
    "    model.metabolites.adp_c:1,\n",
    "    model.metabolites.h_c:-1\n",
    "})"
   ]
  },
  {
   "cell_type": "code",
   "execution_count": 22,
   "metadata": {},
   "outputs": [],
   "source": [
    "#add udp-xylose met \n",
    "model.add_metabolites(Metabolite(id='udpxyl_c', name='UDP-D-xylose', compartment ='c', formula ='C14H22N2O16P2', charge=0 ))"
   ]
  },
  {
   "cell_type": "code",
   "execution_count": 23,
   "metadata": {},
   "outputs": [],
   "source": [
    "model.metabolites.udpxyl_c.annotation['kegg.compound'] = 'C00190'\n",
    "model.metabolites.udpxyl_c.annotation['chebi'] = 'CHEBI:16082'"
   ]
  },
  {
   "cell_type": "code",
   "execution_count": 24,
   "metadata": {},
   "outputs": [],
   "source": [
    "#add conversion from UDP-arabinose to UDP.xylose\n",
    "model.add_reaction(Reaction(id='XYLAT', name = 'UDP-arabinose 4-epimerase'))"
   ]
  },
  {
   "cell_type": "code",
   "execution_count": 25,
   "metadata": {},
   "outputs": [],
   "source": [
    "model.reactions.XYLAT.bounds = (-1000,1000)\n",
    "model.reactions.XYLAT.annotation['sbo'] = 'SBO:0000176'\n",
    "model.reactions.XYLAT.annotation['ec-code'] = '5.1.3.5'\n",
    "model.reactions.XYLAT.annotation['kegg.reaction'] = 'R01473'"
   ]
  },
  {
   "cell_type": "code",
   "execution_count": 26,
   "metadata": {},
   "outputs": [],
   "source": [
    "model.groups.get_by_id('00520 - Amino sugar and nucleotide sugar metabolism').add_members(model.reactions.XYLAT)"
   ]
  },
  {
   "cell_type": "code",
   "execution_count": 27,
   "metadata": {},
   "outputs": [],
   "source": [
    "model.reactions.XYLAT.add_metabolites({\n",
    "    model.metabolites.udparab_c:-1,\n",
    "    model.metabolites.udpxyl_c:1\n",
    "})"
   ]
  },
  {
   "cell_type": "code",
   "execution_count": 28,
   "metadata": {},
   "outputs": [],
   "source": [
    "#add conversion of xylUDP from UDP-glucuronate.\n",
    "model.add_reaction(Reaction(id='UDPGDC', name = 'UDP-glucuronate decarboxylase'))"
   ]
  },
  {
   "cell_type": "code",
   "execution_count": 29,
   "metadata": {},
   "outputs": [],
   "source": [
    "model.reactions.UDPGDC.bounds = (0,1000)\n",
    "model.reactions.UDPGDC.annotation['sbo'] = 'SBO:0000176'\n",
    "model.reactions.UDPGDC.annotation['ec-code'] = '4.1.1.35'\n",
    "model.reactions.UDPGDC.annotation['kegg.reaction'] = 'R01384'"
   ]
  },
  {
   "cell_type": "code",
   "execution_count": 30,
   "metadata": {},
   "outputs": [],
   "source": [
    "model.groups.get_by_id('00520 - Amino sugar and nucleotide sugar metabolism').add_members(model.reactions.UDPGDC)"
   ]
  },
  {
   "cell_type": "code",
   "execution_count": 31,
   "metadata": {},
   "outputs": [],
   "source": [
    "model.reactions.UDPGDC.add_metabolites({\n",
    "    model.metabolites.udpglcur_c:-1,\n",
    "    model.metabolites.udpxyl_c:1,\n",
    "    model.metabolites.co2_c:1,\n",
    "    model.metabolites.h_c:-3\n",
    "})"
   ]
  },
  {
   "cell_type": "code",
   "execution_count": 32,
   "metadata": {},
   "outputs": [
    {
     "data": {
      "text/plain": [
       "{}"
      ]
     },
     "execution_count": 32,
     "metadata": {},
     "output_type": "execute_result"
    }
   ],
   "source": [
    "model.reactions.UDPGDC.check_mass_balance()"
   ]
  },
  {
   "cell_type": "code",
   "execution_count": 33,
   "metadata": {},
   "outputs": [],
   "source": [
    "#conversion of udpglcur from udpg is already present.\n",
    "#model.reactions.UDPGD"
   ]
  },
  {
   "cell_type": "code",
   "execution_count": 31,
   "metadata": {},
   "outputs": [],
   "source": [
    "#GDP-mannose from man1p: raction MAN1PT\n",
    "#man1P is coupled to carbon metabolism."
   ]
  },
  {
   "cell_type": "code",
   "execution_count": 35,
   "metadata": {},
   "outputs": [],
   "source": [
    "#remove all carbohydrates metabolites from biomass rct\n",
    "model.reactions.biomass.add_metabolites({\n",
    "    model.metabolites.arab__L_c: 0.045625,\n",
    "    model.metabolites.gal_c:0.212236,\n",
    "    model.metabolites.glc__D_c:0.010725,\n",
    "    model.metabolites.xyl__D_c:0.204370,\n",
    "    model.metabolites.man_c:0.006411\n",
    "})"
   ]
  },
  {
   "cell_type": "code",
   "execution_count": 36,
   "metadata": {},
   "outputs": [],
   "source": [
    "#add udp/gdp-variant of carbohydrates and expell the udp/gdp too\n",
    "model.reactions.biomass.add_metabolites({\n",
    "    model.metabolites.udparab_c: -0.045625,\n",
    "    model.metabolites.udpgal_c:-0.212236,\n",
    "    model.metabolites.udpg_c: -0.010725,\n",
    "    model.metabolites.udpxyl_c: -0.204370,\n",
    "    model.metabolites.gdpmann_c: -0.006411,\n",
    "    model.metabolites.udp_c:0.472956, #releasing the UDP, from the total of the above UDP related metabolites\n",
    "    model.metabolites.gdp_c: 0.006411 #releasing the GDP \n",
    "})"
   ]
  },
  {
   "cell_type": "code",
   "execution_count": 42,
   "metadata": {},
   "outputs": [],
   "source": [
    "#save&commit\n",
    "cobra.io.write_sbml_model(model,'../model/g-thermo.xml')"
   ]
  },
  {
   "cell_type": "markdown",
   "metadata": {},
   "source": [
    "Also Ben was curious what the current g/gCDW total of our biomass reaction was. So here i will write the script that can calculate that for us."
   ]
  },
  {
   "cell_type": "code",
   "execution_count": 38,
   "metadata": {},
   "outputs": [
    {
     "name": "stdout",
     "output_type": "stream",
     "text": [
      "qh2_c\n"
     ]
    },
    {
     "name": "stderr",
     "output_type": "stream",
     "text": [
      "C:\\Users\\vivmol\\AppData\\Local\\Continuum\\anaconda3\\envs\\g-thermo\\lib\\site-packages\\cobra\\core\\metabolite.py:130: UserWarning:\n",
      "\n",
      "The element 'R' does not appear in the periodic table\n",
      "\n"
     ]
    }
   ],
   "source": [
    "#check total g/gdcw biomass\n",
    "biomass_g_g = []\n",
    "for met in model.reactions.biomass.metabolites:\n",
    "    stoich = model.reactions.biomass.metabolites.get(met) #get stoichiometry in mmol/gcdw\n",
    "    if stoich == 1 :#ignore the biomass part, but need to include the ADP/Pi/UDP that is also made here\n",
    "        continue\n",
    "    else:\n",
    "        mw = met.formula_weight # get molecular weight of metabolite in g/mol\n",
    "        try:\n",
    "            weight_fraction = (mw/1000)*stoich #the g/gcdw of this metabolite\n",
    "            biomass_g_g.append(weight_fraction)\n",
    "        except TypeError: #for the met with R in it, just ignore\n",
    "            print(met.id)"
   ]
  },
  {
   "cell_type": "code",
   "execution_count": 39,
   "metadata": {},
   "outputs": [
    {
     "data": {
      "text/plain": [
       "1.0273777668041792"
      ]
     },
     "execution_count": 39,
     "metadata": {},
     "output_type": "execute_result"
    }
   ],
   "source": [
    "#to find total g/gcdw of all mets, sum up this list\n",
    "abs(sum(biomass_g_g))"
   ]
  }
 ],
 "metadata": {
  "kernelspec": {
   "display_name": "Python 3",
   "language": "python",
   "name": "python3"
  },
  "language_info": {
   "codemirror_mode": {
    "name": "ipython",
    "version": 3
   },
   "file_extension": ".py",
   "mimetype": "text/x-python",
   "name": "python",
   "nbconvert_exporter": "python",
   "pygments_lexer": "ipython3",
   "version": "3.7.7"
  }
 },
 "nbformat": 4,
 "nbformat_minor": 2
}
