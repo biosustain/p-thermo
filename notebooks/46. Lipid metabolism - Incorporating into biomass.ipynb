{
 "cells": [
  {
   "cell_type": "markdown",
   "metadata": {},
   "source": [
    "# Introduction\n",
    "In notebook 42 and 45 I made sure that every Fatty acid chain needed was produced in our model. Now, as we will apply the restrictive approach to our model, I will combine them all into a generic acyl-chain that reflects the distribution identified i Tang et al. (2009). The generic acyl chain will then need to have a chemical formula that matches the distribution given so that we maintain mass balance.\n",
    "\n",
    "Finally, this chain will be attached to the phospholipid heads, and these metabolites modified so that mass balance is achieved.\n",
    "\n",
    "Finally, we will add the fatty acid requirement to biomass. __How much??__ Stick to 7% g/g? "
   ]
  },
  {
   "cell_type": "code",
   "execution_count": 69,
   "metadata": {},
   "outputs": [],
   "source": [
    "import cameo\n",
    "import pandas as pd\n",
    "import cobra.io\n",
    "from cobra import Reaction, Metabolite"
   ]
  },
  {
   "cell_type": "code",
   "execution_count": 70,
   "metadata": {},
   "outputs": [],
   "source": [
    "model_e_coli = cameo.load_model('iML1515')"
   ]
  },
  {
   "cell_type": "code",
   "execution_count": 71,
   "metadata": {},
   "outputs": [],
   "source": [
    "model = cobra.io.read_sbml_model('../../model/g-thermo.xml')"
   ]
  },
  {
   "cell_type": "code",
   "execution_count": 72,
   "metadata": {},
   "outputs": [],
   "source": [
    "#add general Acyl-ACP reaction\n",
    "model.add_metabolites(Metabolite(id='acylACP_c', name = 'Generic Acyl-ACP fatty acid', compartment = 'c', charge = -1, formula = 'C27.07H51.14O8N2PRS'))"
   ]
  },
  {
   "cell_type": "markdown",
   "metadata": {},
   "source": [
    "Note: the chemical formula of the generic acyl ACP is calculated by considering the chemical formula of each individual FA, and weighing it with the stoichiometry that the data provides."
   ]
  },
  {
   "cell_type": "code",
   "execution_count": 73,
   "metadata": {},
   "outputs": [],
   "source": [
    "#add reaction forming generic Acyl-ACP\n",
    "model.add_reaction(Reaction(id='ACYLACP', name = 'Pseudoreaction to create general acyl-ACP chain'))"
   ]
  },
  {
   "cell_type": "code",
   "execution_count": 74,
   "metadata": {},
   "outputs": [],
   "source": [
    "model.reactions.ACYLACP.annotation['sbo'] = 'SBO:0000631'"
   ]
  },
  {
   "cell_type": "code",
   "execution_count": 75,
   "metadata": {},
   "outputs": [],
   "source": [
    "model.reactions.ACYLACP.add_metabolites({\n",
    "    model.metabolites.get_by_id('2mtridecACP_c'):-0.004,\n",
    "    model.metabolites.myrsACP_c:-0.025,\n",
    "    model.metabolites.get_by_id('3mtdecACP_c'):-0.096,\n",
    "    model.metabolites.get_by_id('2mtdecACP_c'):-0.006,\n",
    "    model.metabolites.get_by_id('pdecACP_c'):-0.027,\n",
    "    model.metabolites.get_by_id('2mpdecACP_c'): -0.279,\n",
    "    model.metabolites.get_by_id('palmACP_c'): -0.347,\n",
    "    model.metabolites.get_by_id('3mhdecACP_c'): -0.114,\n",
    "    model.metabolites.get_by_id('2mhdecACP_c'): -0.037,\n",
    "    model.metabolites.hdecACP_c:-0.024,\n",
    "    model.metabolites.ocdcaACP_c:-0.041,\n",
    "    model.metabolites.acylACP_c:1\n",
    "})"
   ]
  },
  {
   "cell_type": "code",
   "execution_count": 76,
   "metadata": {},
   "outputs": [
    {
     "name": "stderr",
     "output_type": "stream",
     "text": [
      "C:\\Users\\vivmol\\AppData\\Local\\Continuum\\anaconda3\\envs\\g-thermo\\lib\\site-packages\\cobra\\core\\metabolite.py:104: UserWarning:\n",
      "\n",
      "27.07 is not an integer (in formula C27.07H51.14O8N2PRS)\n",
      "\n",
      "C:\\Users\\vivmol\\AppData\\Local\\Continuum\\anaconda3\\envs\\g-thermo\\lib\\site-packages\\cobra\\core\\metabolite.py:104: UserWarning:\n",
      "\n",
      "51.14 is not an integer (in formula C27.07H51.14O8N2PRS)\n",
      "\n"
     ]
    },
    {
     "data": {
      "text/plain": [
       "{'C': -3.552713678800501e-15}"
      ]
     },
     "execution_count": 76,
     "metadata": {},
     "output_type": "execute_result"
    }
   ],
   "source": [
    "model.reactions.ACYLACP.check_mass_balance()"
   ]
  },
  {
   "cell_type": "markdown",
   "metadata": {},
   "source": [
    "Note, here we don't have complete mass balance because to define the generic acyl-ACP (and acyl-CoA) we need to have decimals in the chemical formula. But, as the imbalance here is sooo small it is oke and we will continue on with it."
   ]
  },
  {
   "cell_type": "code",
   "execution_count": 77,
   "metadata": {},
   "outputs": [],
   "source": [
    "#save&commit\n",
    "cobra.io.write_sbml_model(model,'../../model/g-thermo.xml')"
   ]
  },
  {
   "cell_type": "markdown",
   "metadata": {},
   "source": [
    "### acylcoa_c  should be the acyl-acp chemical formula but then add C10H12N5O9P2 to the chemical formula and remove the R"
   ]
  },
  {
   "cell_type": "code",
   "execution_count": 41,
   "metadata": {},
   "outputs": [],
   "source": [
    "#convert the acylACP to acyl-CoA metabolite.\n",
    "#add acyl-CoA metabolite first\n",
    "model.add_metabolites(Metabolite(id='acylcoa_c', name = 'Generic Acyl-CoA', compartment = 'c', charge = -3, formula = 'C37.07H63.14O17N7P3S'))"
   ]
  },
  {
   "cell_type": "code",
   "execution_count": 44,
   "metadata": {},
   "outputs": [],
   "source": [
    "model.metabolites.acylcoa_c.annotation['sbo'] = 'SBO:0000247'"
   ]
  },
  {
   "cell_type": "code",
   "execution_count": 47,
   "metadata": {},
   "outputs": [],
   "source": [
    "#add reaction to convert the two\n",
    "model.add_reaction(Reaction(id='ACYAC', name= 'CoA:[acyl-carrier-protein] transferase'))"
   ]
  },
  {
   "cell_type": "code",
   "execution_count": 49,
   "metadata": {},
   "outputs": [],
   "source": [
    "model.reactions.ACYAC.bounds = (-1000,1000)"
   ]
  },
  {
   "cell_type": "code",
   "execution_count": null,
   "metadata": {},
   "outputs": [],
   "source": [
    "model.reactions.ACYAC.add_metabolites({\n",
    "    model.metabolites.ACP_c:-1,\n",
    "    model.metabolites.acylcoa_c:-1,\n",
    "    model.metabolites.coa_c:1,\n",
    "    model.metabolites.acylACP_c:1,\n",
    "    model.metabolites.h_c:1\n",
    "})"
   ]
  },
  {
   "cell_type": "code",
   "execution_count": null,
   "metadata": {},
   "outputs": [],
   "source": [
    "model.reactions.ACYAC.check_mass_balance()"
   ]
  },
  {
   "cell_type": "markdown",
   "metadata": {},
   "source": [
    "When we have the generic acyl-coa molecule made, we can the incorporate it into the glycerolipid heads and ensure the three lipids we need for the biomass reaction can be made. \n",
    "\n",
    "The acyl-Coa chains are incorporated into the sn-glycerol-3-phosphate molecule, in two steps to give a 1,2-diacyl-glycerol-3-phosphate. this can then react further into the three glycerolipids we need: Phosphatidylglycerol, Diphosphatidylglycerol and Phosphatidylethanolamine. \n",
    "\n",
    "To incorporate the chains, we just need to change the chemical formula of certain metabolites and change some reactions to accomodate the generic acyl-chains."
   ]
  },
  {
   "cell_type": "code",
   "execution_count": 61,
   "metadata": {},
   "outputs": [
    {
     "data": {
      "text/html": [
       "\n",
       "        <table>\n",
       "            <tr>\n",
       "                <td><strong>Reaction identifier</strong></td><td>ACCOAACT</td>\n",
       "            </tr><tr>\n",
       "                <td><strong>Name</strong></td><td>acyl-CoA:sn-glycerol-3-phosphate 1-O-acyltransferase</td>\n",
       "            </tr><tr>\n",
       "                <td><strong>Memory address</strong></td>\n",
       "                <td>0x028591d70a88</td>\n",
       "            </tr><tr>\n",
       "                <td><strong>Stoichiometry</strong></td>\n",
       "                <td>\n",
       "                    <p style='text-align:right'>acoa_c + glyc3p_c <=> aglyc3p_c + coa_c</p>\n",
       "                    <p style='text-align:right'>Acyl coenzyme A + sn-Glycerol <=> 1-Acyl-sn-glycerol 3-phosphate + CoA</p>\n",
       "                </td>\n",
       "            </tr><tr>\n",
       "                <td><strong>GPR</strong></td><td></td>\n",
       "            </tr><tr>\n",
       "                <td><strong>Lower bound</strong></td><td>-1000.0</td>\n",
       "            </tr><tr>\n",
       "                <td><strong>Upper bound</strong></td><td>1000.0</td>\n",
       "            </tr>\n",
       "        </table>\n",
       "        "
      ],
      "text/plain": [
       "<Reaction ACCOAACT at 0x28591d70a88>"
      ]
     },
     "execution_count": 61,
     "metadata": {},
     "output_type": "execute_result"
    }
   ],
   "source": [
    "#start in reaction ACCOAACT: change the acoa to the generic acylcoa_c met I made\n",
    "model.reactions.ACCOAACT.add_metabolites({\n",
    "    model.metabolites.acoa_c:1,\n",
    "    model.metabolites.acylcoa_c:-1\n",
    "})"
   ]
  },
  {
   "cell_type": "code",
   "execution_count": null,
   "metadata": {},
   "outputs": [],
   "source": [
    "#change formula of aglyc3p_c\n",
    "model.metabolites.aglyc3p_c.formula = "
   ]
  },
  {
   "cell_type": "markdown",
   "metadata": {},
   "source": [
    "chemical formula should lose C21H32N7O16P3S to give plain acyl chain.\n",
    "then add up the sn-glycerol to the chem formula to givve the formula of aglyc3p."
   ]
  },
  {
   "cell_type": "code",
   "execution_count": null,
   "metadata": {},
   "outputs": [],
   "source": [
    "#check mass balance\n",
    "model.reactions.ACCOAACT.check_mass_balance()"
   ]
  },
  {
   "cell_type": "code",
   "execution_count": 62,
   "metadata": {
    "scrolled": false
   },
   "outputs": [
    {
     "data": {
      "text/html": [
       "\n",
       "        <table>\n",
       "            <tr>\n",
       "                <td><strong>Reaction identifier</strong></td><td>ACCOATT</td>\n",
       "            </tr><tr>\n",
       "                <td><strong>Name</strong></td><td>acyl-CoA:1-acyl-sn-glycerol-3-phosphate 2-O-acyltransferase</td>\n",
       "            </tr><tr>\n",
       "                <td><strong>Memory address</strong></td>\n",
       "                <td>0x028591d74308</td>\n",
       "            </tr><tr>\n",
       "                <td><strong>Stoichiometry</strong></td>\n",
       "                <td>\n",
       "                    <p style='text-align:right'>acoa_c + aglyc3p_c <=> coa_c + pa_c</p>\n",
       "                    <p style='text-align:right'>Acyl coenzyme A + 1-Acyl-sn-glycerol 3-phosphate <=> CoA + Phosphatidate</p>\n",
       "                </td>\n",
       "            </tr><tr>\n",
       "                <td><strong>GPR</strong></td><td></td>\n",
       "            </tr><tr>\n",
       "                <td><strong>Lower bound</strong></td><td>-1000.0</td>\n",
       "            </tr><tr>\n",
       "                <td><strong>Upper bound</strong></td><td>1000.0</td>\n",
       "            </tr>\n",
       "        </table>\n",
       "        "
      ],
      "text/plain": [
       "<Reaction ACCOATT at 0x28591d74308>"
      ]
     },
     "execution_count": 62,
     "metadata": {},
     "output_type": "execute_result"
    }
   ],
   "source": [
    "#do the same for the ACCOATT reaction\n",
    "model.reactions.ACCOATT.add_metabolites({\n",
    "    model.metabolites.acoa_c:1,\n",
    "    model.metabolites.acylcoa_c:-1\n",
    "})"
   ]
  },
  {
   "cell_type": "code",
   "execution_count": null,
   "metadata": {},
   "outputs": [],
   "source": [
    "#change formula of pa_c\n",
    "model.metabolites.pa_c.formula = "
   ]
  },
  {
   "cell_type": "markdown",
   "metadata": {},
   "source": [
    "Here you just add the acylcoa_c formula - coa (C21H32N7O16P3S) to the formula of aglyc3p. to give pa_c formula."
   ]
  },
  {
   "cell_type": "code",
   "execution_count": null,
   "metadata": {},
   "outputs": [],
   "source": [
    "#check mass balance\n",
    "model.reactions.ACCOATT.check_mass_balance()"
   ]
  },
  {
   "cell_type": "code",
   "execution_count": null,
   "metadata": {},
   "outputs": [],
   "source": [
    "#then change the cdpdag_c  chemical formula accordingly\n",
    "model.metabolites.cdpdag_c.formula = "
   ]
  },
  {
   "cell_type": "markdown",
   "metadata": {},
   "source": [
    "to pa_c you add the chemical formula of CDP, and then subtract that of the ppi. "
   ]
  },
  {
   "cell_type": "code",
   "execution_count": null,
   "metadata": {},
   "outputs": [],
   "source": [
    "#then continue like this through until all lipids have been made"
   ]
  },
  {
   "cell_type": "code",
   "execution_count": null,
   "metadata": {},
   "outputs": [],
   "source": []
  },
  {
   "cell_type": "code",
   "execution_count": 65,
   "metadata": {},
   "outputs": [
    {
     "data": {
      "text/html": [
       "<div>\n",
       "<style scoped>\n",
       "    .dataframe tbody tr th:only-of-type {\n",
       "        vertical-align: middle;\n",
       "    }\n",
       "\n",
       "    .dataframe tbody tr th {\n",
       "        vertical-align: top;\n",
       "    }\n",
       "\n",
       "    .dataframe thead th {\n",
       "        text-align: right;\n",
       "    }\n",
       "</style>\n",
       "<table border=\"1\" class=\"dataframe\">\n",
       "  <thead>\n",
       "    <tr style=\"text-align: right;\">\n",
       "      <th></th>\n",
       "      <th></th>\n",
       "      <th>PERCENT</th>\n",
       "      <th>FLUX</th>\n",
       "      <th>REACTION_STRING</th>\n",
       "    </tr>\n",
       "    <tr>\n",
       "      <th>RXN_STAT</th>\n",
       "      <th>ID</th>\n",
       "      <th></th>\n",
       "      <th></th>\n",
       "      <th></th>\n",
       "    </tr>\n",
       "  </thead>\n",
       "  <tbody>\n",
       "    <tr>\n",
       "      <th rowspan=\"2\" valign=\"top\">PRODUCING</th>\n",
       "      <th>ACCOATT</th>\n",
       "      <td>NaN</td>\n",
       "      <td>0.0</td>\n",
       "      <td>acoa_c + aglyc3p_c &lt;=&gt; coa_c + pa_c</td>\n",
       "    </tr>\n",
       "    <tr>\n",
       "      <th>CTPPCT</th>\n",
       "      <td>NaN</td>\n",
       "      <td>0.0</td>\n",
       "      <td>ctp_c + pa_c &lt;=&gt; cdpdag_c + h_c + ppi_c</td>\n",
       "    </tr>\n",
       "  </tbody>\n",
       "</table>\n",
       "</div>"
      ],
      "text/plain": [
       "<cobra.core.summary.metabolite_summary.MetaboliteSummary at 0x28595ca2248>"
      ]
     },
     "execution_count": 65,
     "metadata": {},
     "output_type": "execute_result"
    }
   ],
   "source": [
    "model.metabolites.pa_c.summary()"
   ]
  },
  {
   "cell_type": "code",
   "execution_count": null,
   "metadata": {},
   "outputs": [],
   "source": [
    "#remove acoa_c metabolite to prevent duplicate generic acyl chains being present\n",
    "model.remove_metabolites(model.metabolites.acoa_c)"
   ]
  },
  {
   "cell_type": "code",
   "execution_count": null,
   "metadata": {},
   "outputs": [],
   "source": []
  },
  {
   "cell_type": "markdown",
   "metadata": {},
   "source": [
    "To do:\n",
    "\n",
    "    - convert to general acyl-COA\n",
    "    - incorporate this into the glycerol-molecules\n",
    "    - add to biomass rct"
   ]
  },
  {
   "cell_type": "code",
   "execution_count": null,
   "metadata": {},
   "outputs": [],
   "source": []
  }
 ],
 "metadata": {
  "kernelspec": {
   "display_name": "Python 3",
   "language": "python",
   "name": "python3"
  },
  "language_info": {
   "codemirror_mode": {
    "name": "ipython",
    "version": 3
   },
   "file_extension": ".py",
   "mimetype": "text/x-python",
   "name": "python",
   "nbconvert_exporter": "python",
   "pygments_lexer": "ipython3",
   "version": "3.7.7"
  }
 },
 "nbformat": 4,
 "nbformat_minor": 4
}
