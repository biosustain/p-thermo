{
 "cells": [
  {
   "cell_type": "markdown",
   "metadata": {},
   "source": [
    "# Introduction\n",
    "In notebook 42 and 45 I made sure that every Fatty acid chain needed was produced in our model. Now, as we will apply the restrictive approach to our model, I will combine them all into a generic acyl-chain that reflects the distribution identified i Tang et al. (2009). The generic acyl chain will then need to have a chemical formula that matches the distribution given so that we maintain mass balance.\n",
    "\n",
    "Finally, this chain will be attached to the phospholipid heads, and these metabolites modified so that mass balance is achieved.\n",
    "\n",
    "Finally, we will add the fatty acid requirement to biomass. __How much??__ Stick to 7% g/g? "
   ]
  },
  {
   "cell_type": "code",
   "execution_count": 110,
   "metadata": {},
   "outputs": [],
   "source": [
    "import cameo\n",
    "import pandas as pd\n",
    "import cobra.io\n",
    "from cobra import Reaction, Metabolite"
   ]
  },
  {
   "cell_type": "code",
   "execution_count": 102,
   "metadata": {},
   "outputs": [],
   "source": [
    "model_e_coli = cameo.load_model('iML1515')"
   ]
  },
  {
   "cell_type": "code",
   "execution_count": 111,
   "metadata": {},
   "outputs": [],
   "source": [
    "model = cobra.io.read_sbml_model('../model/g-thermo.xml')"
   ]
  },
  {
   "cell_type": "code",
   "execution_count": 72,
   "metadata": {},
   "outputs": [],
   "source": [
    "#add general Acyl-ACP reaction\n",
    "model.add_metabolites(Metabolite(id='acylACP_c', name = 'Generic Acyl-ACP fatty acid', compartment = 'c', charge = -1, formula = 'C27.07H51.14O8N2PRS'))"
   ]
  },
  {
   "cell_type": "code",
   "execution_count": 114,
   "metadata": {},
   "outputs": [],
   "source": [
    "model.metabolites.acylACP_c.annotation['sbo'] = 'SBO:0000247'"
   ]
  },
  {
   "cell_type": "markdown",
   "metadata": {},
   "source": [
    "Note: the chemical formula of the generic acyl ACP is calculated by considering the chemical formula of each individual FA, and weighing it with the stoichiometry that the data provides."
   ]
  },
  {
   "cell_type": "code",
   "execution_count": 73,
   "metadata": {},
   "outputs": [],
   "source": [
    "#add reaction forming generic Acyl-ACP\n",
    "model.add_reaction(Reaction(id='ACYLACP', name = 'Pseudoreaction to create general acyl-ACP chain'))"
   ]
  },
  {
   "cell_type": "code",
   "execution_count": 74,
   "metadata": {},
   "outputs": [],
   "source": [
    "model.reactions.ACYLACP.annotation['sbo'] = 'SBO:0000631'"
   ]
  },
  {
   "cell_type": "code",
   "execution_count": 75,
   "metadata": {},
   "outputs": [],
   "source": [
    "model.reactions.ACYLACP.add_metabolites({\n",
    "    model.metabolites.get_by_id('2mtridecACP_c'):-0.004,\n",
    "    model.metabolites.myrsACP_c:-0.025,\n",
    "    model.metabolites.get_by_id('3mtdecACP_c'):-0.096,\n",
    "    model.metabolites.get_by_id('2mtdecACP_c'):-0.006,\n",
    "    model.metabolites.get_by_id('pdecACP_c'):-0.027,\n",
    "    model.metabolites.get_by_id('2mpdecACP_c'): -0.279,\n",
    "    model.metabolites.get_by_id('palmACP_c'): -0.347,\n",
    "    model.metabolites.get_by_id('3mhdecACP_c'): -0.114,\n",
    "    model.metabolites.get_by_id('2mhdecACP_c'): -0.037,\n",
    "    model.metabolites.hdecACP_c:-0.024,\n",
    "    model.metabolites.ocdcaACP_c:-0.041,\n",
    "    model.metabolites.acylACP_c:1\n",
    "})"
   ]
  },
  {
   "cell_type": "code",
   "execution_count": 76,
   "metadata": {},
   "outputs": [
    {
     "name": "stderr",
     "output_type": "stream",
     "text": [
      "C:\\Users\\vivmol\\AppData\\Local\\Continuum\\anaconda3\\envs\\g-thermo\\lib\\site-packages\\cobra\\core\\metabolite.py:104: UserWarning:\n",
      "\n",
      "27.07 is not an integer (in formula C27.07H51.14O8N2PRS)\n",
      "\n",
      "C:\\Users\\vivmol\\AppData\\Local\\Continuum\\anaconda3\\envs\\g-thermo\\lib\\site-packages\\cobra\\core\\metabolite.py:104: UserWarning:\n",
      "\n",
      "51.14 is not an integer (in formula C27.07H51.14O8N2PRS)\n",
      "\n"
     ]
    },
    {
     "data": {
      "text/plain": [
       "{'C': -3.552713678800501e-15}"
      ]
     },
     "execution_count": 76,
     "metadata": {},
     "output_type": "execute_result"
    }
   ],
   "source": [
    "model.reactions.ACYLACP.check_mass_balance()"
   ]
  },
  {
   "cell_type": "markdown",
   "metadata": {},
   "source": [
    "Note, here we don't have complete mass balance because to define the generic acyl-ACP (and acyl-CoA) we need to have decimals in the chemical formula. But, as the imbalance here is sooo small it is oke and we will continue on with it."
   ]
  },
  {
   "cell_type": "code",
   "execution_count": 115,
   "metadata": {},
   "outputs": [],
   "source": [
    "#save&commit\n",
    "cobra.io.write_sbml_model(model,'../model/g-thermo.xml')"
   ]
  },
  {
   "cell_type": "code",
   "execution_count": 3,
   "metadata": {},
   "outputs": [],
   "source": [
    "#convert the acylACP to acyl-CoA metabolite.\n",
    "#add acyl-CoA metabolite first\n",
    "model.add_metabolites(Metabolite(id='acylcoa_c', name = 'Generic Acyl-CoA', compartment = 'c', charge = -3, formula = 'C37.07H63.14O17N7P3S'))"
   ]
  },
  {
   "cell_type": "code",
   "execution_count": 4,
   "metadata": {},
   "outputs": [],
   "source": [
    "model.metabolites.acylcoa_c.annotation['sbo'] = 'SBO:0000247'"
   ]
  },
  {
   "cell_type": "code",
   "execution_count": 5,
   "metadata": {},
   "outputs": [],
   "source": [
    "#add reaction to convert the two\n",
    "model.add_reaction(Reaction(id='ACYAC', name= 'CoA:[acyl-carrier-protein] transferase'))"
   ]
  },
  {
   "cell_type": "code",
   "execution_count": 6,
   "metadata": {},
   "outputs": [],
   "source": [
    "model.reactions.ACYAC.bounds = (-1000,1000)"
   ]
  },
  {
   "cell_type": "code",
   "execution_count": 7,
   "metadata": {},
   "outputs": [],
   "source": [
    "model.reactions.ACYAC.add_metabolites({\n",
    "    model.metabolites.ACP_c:-1,\n",
    "    model.metabolites.acylcoa_c:-1,\n",
    "    model.metabolites.coa_c:1,\n",
    "    model.metabolites.acylACP_c:1,\n",
    "    model.metabolites.h_c:1\n",
    "})"
   ]
  },
  {
   "cell_type": "code",
   "execution_count": 8,
   "metadata": {},
   "outputs": [
    {
     "name": "stderr",
     "output_type": "stream",
     "text": [
      "C:\\Users\\vivmol\\AppData\\Local\\Continuum\\anaconda3\\envs\\g-thermo\\lib\\site-packages\\cobra\\core\\metabolite.py:104: UserWarning:\n",
      "\n",
      "37.07 is not an integer (in formula C37.07H63.14O17N7P3S)\n",
      "\n",
      "C:\\Users\\vivmol\\AppData\\Local\\Continuum\\anaconda3\\envs\\g-thermo\\lib\\site-packages\\cobra\\core\\metabolite.py:104: UserWarning:\n",
      "\n",
      "63.14 is not an integer (in formula C37.07H63.14O17N7P3S)\n",
      "\n",
      "C:\\Users\\vivmol\\AppData\\Local\\Continuum\\anaconda3\\envs\\g-thermo\\lib\\site-packages\\cobra\\core\\metabolite.py:104: UserWarning:\n",
      "\n",
      "27.07 is not an integer (in formula C27.07H51.14O8N2PRS)\n",
      "\n",
      "C:\\Users\\vivmol\\AppData\\Local\\Continuum\\anaconda3\\envs\\g-thermo\\lib\\site-packages\\cobra\\core\\metabolite.py:104: UserWarning:\n",
      "\n",
      "51.14 is not an integer (in formula C27.07H51.14O8N2PRS)\n",
      "\n"
     ]
    },
    {
     "data": {
      "text/plain": [
       "{}"
      ]
     },
     "execution_count": 8,
     "metadata": {},
     "output_type": "execute_result"
    }
   ],
   "source": [
    "model.reactions.ACYAC.check_mass_balance()"
   ]
  },
  {
   "cell_type": "code",
   "execution_count": 112,
   "metadata": {},
   "outputs": [],
   "source": [
    "#remove acoa_c metabolite, a generic acyl-coa that was present in the model.\n",
    "model.remove_metabolites(model.metabolites.acoa_c)"
   ]
  },
  {
   "cell_type": "code",
   "execution_count": 113,
   "metadata": {},
   "outputs": [],
   "source": [
    "#save&commit\n",
    "cobra.io.write_sbml_model(model,'../model/g-thermo.xml')"
   ]
  },
  {
   "cell_type": "markdown",
   "metadata": {},
   "source": [
    "When we have the generic acyl-coa molecule made, we can the incorporate it into the glycerolipid heads and ensure the three lipids we need for the biomass reaction can be made. \n",
    "\n",
    "The acyl-Coa chains are incorporated into the sn-glycerol-3-phosphate molecule, in two steps to give a 1,2-diacyl-glycerol-3-phosphate. this can then react further into the three glycerolipids we need: Phosphatidylglycerol, Diphosphatidylglycerol and Phosphatidylethanolamine. \n",
    "\n",
    "To incorporate the chains, we just need to change the chemical formula of certain metabolites and change some reactions to accomodate the generic acyl-chains."
   ]
  },
  {
   "cell_type": "code",
   "execution_count": 60,
   "metadata": {},
   "outputs": [],
   "source": [
    "#start in reaction ACCOAACT: change the acoa to the generic acylcoa_c met I made\n",
    "model.reactions.ACCOAACT.add_metabolites({\n",
    "    model.metabolites.acoa_c:1,\n",
    "    model.metabolites.acylcoa_c:-1\n",
    "})"
   ]
  },
  {
   "cell_type": "code",
   "execution_count": 61,
   "metadata": {},
   "outputs": [],
   "source": [
    "#change formula of aglyc3p_c\n",
    "model.metabolites.aglyc3p_c.formula = 'C19.07H38.14O7P'"
   ]
  },
  {
   "cell_type": "code",
   "execution_count": 62,
   "metadata": {},
   "outputs": [
    {
     "name": "stderr",
     "output_type": "stream",
     "text": [
      "C:\\Users\\vivmol\\AppData\\Local\\Continuum\\anaconda3\\envs\\g-thermo\\lib\\site-packages\\cobra\\core\\metabolite.py:104: UserWarning:\n",
      "\n",
      "19.07 is not an integer (in formula C19.07H38.14O7P)\n",
      "\n",
      "C:\\Users\\vivmol\\AppData\\Local\\Continuum\\anaconda3\\envs\\g-thermo\\lib\\site-packages\\cobra\\core\\metabolite.py:104: UserWarning:\n",
      "\n",
      "38.14 is not an integer (in formula C19.07H38.14O7P)\n",
      "\n",
      "C:\\Users\\vivmol\\AppData\\Local\\Continuum\\anaconda3\\envs\\g-thermo\\lib\\site-packages\\cobra\\core\\metabolite.py:104: UserWarning:\n",
      "\n",
      "37.07 is not an integer (in formula C37.07H63.14O17N7P3S)\n",
      "\n",
      "C:\\Users\\vivmol\\AppData\\Local\\Continuum\\anaconda3\\envs\\g-thermo\\lib\\site-packages\\cobra\\core\\metabolite.py:104: UserWarning:\n",
      "\n",
      "63.14 is not an integer (in formula C37.07H63.14O17N7P3S)\n",
      "\n"
     ]
    },
    {
     "data": {
      "text/plain": [
       "{}"
      ]
     },
     "execution_count": 62,
     "metadata": {},
     "output_type": "execute_result"
    }
   ],
   "source": [
    "#check mass balance\n",
    "model.reactions.ACCOAACT.check_mass_balance()"
   ]
  },
  {
   "cell_type": "code",
   "execution_count": 63,
   "metadata": {
    "scrolled": false
   },
   "outputs": [],
   "source": [
    "#do the same for the ACCOATT reaction\n",
    "model.reactions.ACCOATT.add_metabolites({\n",
    "    model.metabolites.acoa_c:1,\n",
    "    model.metabolites.acylcoa_c:-1\n",
    "})"
   ]
  },
  {
   "cell_type": "code",
   "execution_count": 64,
   "metadata": {},
   "outputs": [],
   "source": [
    "#change formula of pa_c\n",
    "model.metabolites.pa_c.formula = 'C35.14H69.28O8P'"
   ]
  },
  {
   "cell_type": "code",
   "execution_count": 65,
   "metadata": {},
   "outputs": [
    {
     "name": "stderr",
     "output_type": "stream",
     "text": [
      "C:\\Users\\vivmol\\AppData\\Local\\Continuum\\anaconda3\\envs\\g-thermo\\lib\\site-packages\\cobra\\core\\metabolite.py:104: UserWarning:\n",
      "\n",
      "35.14 is not an integer (in formula C35.14H69.28O8P)\n",
      "\n",
      "C:\\Users\\vivmol\\AppData\\Local\\Continuum\\anaconda3\\envs\\g-thermo\\lib\\site-packages\\cobra\\core\\metabolite.py:104: UserWarning:\n",
      "\n",
      "69.28 is not an integer (in formula C35.14H69.28O8P)\n",
      "\n"
     ]
    },
    {
     "data": {
      "text/plain": [
       "{}"
      ]
     },
     "execution_count": 65,
     "metadata": {},
     "output_type": "execute_result"
    }
   ],
   "source": [
    "#check mass balance\n",
    "model.reactions.ACCOATT.check_mass_balance()"
   ]
  },
  {
   "cell_type": "code",
   "execution_count": 66,
   "metadata": {},
   "outputs": [],
   "source": [
    "#then change the cdpdag_c  chemical formula accordingly\n",
    "model.metabolites.cdpdag_c.formula = 'C44.14H79.28N3O15P2'"
   ]
  },
  {
   "cell_type": "code",
   "execution_count": 67,
   "metadata": {
    "scrolled": true
   },
   "outputs": [
    {
     "name": "stderr",
     "output_type": "stream",
     "text": [
      "C:\\Users\\vivmol\\AppData\\Local\\Continuum\\anaconda3\\envs\\g-thermo\\lib\\site-packages\\cobra\\core\\metabolite.py:104: UserWarning:\n",
      "\n",
      "44.14 is not an integer (in formula C44.14H79.28N3O15P2)\n",
      "\n",
      "C:\\Users\\vivmol\\AppData\\Local\\Continuum\\anaconda3\\envs\\g-thermo\\lib\\site-packages\\cobra\\core\\metabolite.py:104: UserWarning:\n",
      "\n",
      "79.28 is not an integer (in formula C44.14H79.28N3O15P2)\n",
      "\n"
     ]
    },
    {
     "data": {
      "text/plain": [
       "{}"
      ]
     },
     "execution_count": 67,
     "metadata": {},
     "output_type": "execute_result"
    }
   ],
   "source": [
    "model.reactions.CTPPCT.check_mass_balance()"
   ]
  },
  {
   "cell_type": "code",
   "execution_count": 68,
   "metadata": {},
   "outputs": [],
   "source": [
    "#onto phosphatidyl glycerol, via pgp_c\n",
    "model.metabolites.pgp_c.formula = 'C38.14H76.28O13P2'"
   ]
  },
  {
   "cell_type": "code",
   "execution_count": 69,
   "metadata": {},
   "outputs": [
    {
     "name": "stderr",
     "output_type": "stream",
     "text": [
      "C:\\Users\\vivmol\\AppData\\Local\\Continuum\\anaconda3\\envs\\g-thermo\\lib\\site-packages\\cobra\\core\\metabolite.py:104: UserWarning:\n",
      "\n",
      "38.14 is not an integer (in formula C38.14H76.28O13P2)\n",
      "\n",
      "C:\\Users\\vivmol\\AppData\\Local\\Continuum\\anaconda3\\envs\\g-thermo\\lib\\site-packages\\cobra\\core\\metabolite.py:104: UserWarning:\n",
      "\n",
      "76.28 is not an integer (in formula C38.14H76.28O13P2)\n",
      "\n"
     ]
    },
    {
     "data": {
      "text/plain": [
       "{}"
      ]
     },
     "execution_count": 69,
     "metadata": {},
     "output_type": "execute_result"
    }
   ],
   "source": [
    "model.reactions.CDPPT.check_mass_balance()"
   ]
  },
  {
   "cell_type": "code",
   "execution_count": 70,
   "metadata": {},
   "outputs": [],
   "source": [
    "#then onto the pg_c (phosphatidyl glycerol)\n",
    "model.metabolites.pg_c.formula = 'C38.14H75.28O10P'"
   ]
  },
  {
   "cell_type": "code",
   "execution_count": 71,
   "metadata": {},
   "outputs": [
    {
     "name": "stderr",
     "output_type": "stream",
     "text": [
      "C:\\Users\\vivmol\\AppData\\Local\\Continuum\\anaconda3\\envs\\g-thermo\\lib\\site-packages\\cobra\\core\\metabolite.py:104: UserWarning:\n",
      "\n",
      "38.14 is not an integer (in formula C38.14H75.28O10P)\n",
      "\n",
      "C:\\Users\\vivmol\\AppData\\Local\\Continuum\\anaconda3\\envs\\g-thermo\\lib\\site-packages\\cobra\\core\\metabolite.py:104: UserWarning:\n",
      "\n",
      "75.28 is not an integer (in formula C38.14H75.28O10P)\n",
      "\n"
     ]
    },
    {
     "data": {
      "text/plain": [
       "{}"
      ]
     },
     "execution_count": 71,
     "metadata": {},
     "output_type": "execute_result"
    }
   ],
   "source": [
    "model.reactions.PGP.check_mass_balance()"
   ]
  },
  {
   "cell_type": "code",
   "execution_count": 72,
   "metadata": {},
   "outputs": [],
   "source": [
    "#save&commit\n",
    "cobra.io.write_sbml_model(model,'../model/g-thermo.xml')"
   ]
  },
  {
   "cell_type": "code",
   "execution_count": 78,
   "metadata": {},
   "outputs": [],
   "source": [
    "#now onto cardiolipin\n",
    "model.metabolites.clpn_c.formula = 'C73.28H142.56O17P2'"
   ]
  },
  {
   "cell_type": "code",
   "execution_count": 79,
   "metadata": {
    "scrolled": true
   },
   "outputs": [
    {
     "name": "stderr",
     "output_type": "stream",
     "text": [
      "C:\\Users\\vivmol\\AppData\\Local\\Continuum\\anaconda3\\envs\\g-thermo\\lib\\site-packages\\cobra\\core\\metabolite.py:104: UserWarning:\n",
      "\n",
      "38.14 is not an integer (in formula C38.14H75.28O10P)\n",
      "\n",
      "C:\\Users\\vivmol\\AppData\\Local\\Continuum\\anaconda3\\envs\\g-thermo\\lib\\site-packages\\cobra\\core\\metabolite.py:104: UserWarning:\n",
      "\n",
      "75.28 is not an integer (in formula C38.14H75.28O10P)\n",
      "\n",
      "C:\\Users\\vivmol\\AppData\\Local\\Continuum\\anaconda3\\envs\\g-thermo\\lib\\site-packages\\cobra\\core\\metabolite.py:104: UserWarning:\n",
      "\n",
      "73.28 is not an integer (in formula C73.28H142.56O17P2)\n",
      "\n",
      "C:\\Users\\vivmol\\AppData\\Local\\Continuum\\anaconda3\\envs\\g-thermo\\lib\\site-packages\\cobra\\core\\metabolite.py:104: UserWarning:\n",
      "\n",
      "142.56 is not an integer (in formula C73.28H142.56O17P2)\n",
      "\n"
     ]
    },
    {
     "data": {
      "text/plain": [
       "{}"
      ]
     },
     "execution_count": 79,
     "metadata": {},
     "output_type": "execute_result"
    }
   ],
   "source": [
    "model.reactions.CLPNS.check_mass_balance()"
   ]
  },
  {
   "cell_type": "code",
   "execution_count": 80,
   "metadata": {},
   "outputs": [],
   "source": [
    "#save&commit\n",
    "cobra.io.write_sbml_model(model,'../model/g-thermo.xml')"
   ]
  },
  {
   "cell_type": "code",
   "execution_count": 87,
   "metadata": {},
   "outputs": [],
   "source": [
    "#then now make sure phosphatidylethanolamin can be made properly, through ps_c\n",
    "model.metabolites.ps_c.formula = 'C38.14H74.28NO10P'"
   ]
  },
  {
   "cell_type": "code",
   "execution_count": 88,
   "metadata": {},
   "outputs": [
    {
     "name": "stderr",
     "output_type": "stream",
     "text": [
      "C:\\Users\\vivmol\\AppData\\Local\\Continuum\\anaconda3\\envs\\g-thermo\\lib\\site-packages\\cobra\\core\\metabolite.py:104: UserWarning:\n",
      "\n",
      "44.14 is not an integer (in formula C44.14H79.28N3O15P2)\n",
      "\n",
      "C:\\Users\\vivmol\\AppData\\Local\\Continuum\\anaconda3\\envs\\g-thermo\\lib\\site-packages\\cobra\\core\\metabolite.py:104: UserWarning:\n",
      "\n",
      "79.28 is not an integer (in formula C44.14H79.28N3O15P2)\n",
      "\n",
      "C:\\Users\\vivmol\\AppData\\Local\\Continuum\\anaconda3\\envs\\g-thermo\\lib\\site-packages\\cobra\\core\\metabolite.py:104: UserWarning:\n",
      "\n",
      "38.14 is not an integer (in formula C38.14H74.28NO10P)\n",
      "\n",
      "C:\\Users\\vivmol\\AppData\\Local\\Continuum\\anaconda3\\envs\\g-thermo\\lib\\site-packages\\cobra\\core\\metabolite.py:104: UserWarning:\n",
      "\n",
      "74.28 is not an integer (in formula C38.14H74.28NO10P)\n",
      "\n"
     ]
    },
    {
     "data": {
      "text/plain": [
       "{}"
      ]
     },
     "execution_count": 88,
     "metadata": {},
     "output_type": "execute_result"
    }
   ],
   "source": [
    "model.reactions.CDPDAGPT.check_mass_balance()"
   ]
  },
  {
   "cell_type": "code",
   "execution_count": 91,
   "metadata": {},
   "outputs": [],
   "source": [
    "model.metabolites.pe_c.formula = 'C37.14H74.28NO8P'"
   ]
  },
  {
   "cell_type": "code",
   "execution_count": 92,
   "metadata": {},
   "outputs": [
    {
     "name": "stderr",
     "output_type": "stream",
     "text": [
      "C:\\Users\\vivmol\\AppData\\Local\\Continuum\\anaconda3\\envs\\g-thermo\\lib\\site-packages\\cobra\\core\\metabolite.py:104: UserWarning:\n",
      "\n",
      "38.14 is not an integer (in formula C38.14H74.28NO10P)\n",
      "\n",
      "C:\\Users\\vivmol\\AppData\\Local\\Continuum\\anaconda3\\envs\\g-thermo\\lib\\site-packages\\cobra\\core\\metabolite.py:104: UserWarning:\n",
      "\n",
      "74.28 is not an integer (in formula C38.14H74.28NO10P)\n",
      "\n",
      "C:\\Users\\vivmol\\AppData\\Local\\Continuum\\anaconda3\\envs\\g-thermo\\lib\\site-packages\\cobra\\core\\metabolite.py:104: UserWarning:\n",
      "\n",
      "37.14 is not an integer (in formula C37.14H74.28NO8P)\n",
      "\n",
      "C:\\Users\\vivmol\\AppData\\Local\\Continuum\\anaconda3\\envs\\g-thermo\\lib\\site-packages\\cobra\\core\\metabolite.py:104: UserWarning:\n",
      "\n",
      "74.28 is not an integer (in formula C37.14H74.28NO8P)\n",
      "\n"
     ]
    },
    {
     "data": {
      "text/plain": [
       "{}"
      ]
     },
     "execution_count": 92,
     "metadata": {},
     "output_type": "execute_result"
    }
   ],
   "source": [
    "model.reactions.PSD.check_mass_balance()"
   ]
  },
  {
   "cell_type": "code",
   "execution_count": 93,
   "metadata": {},
   "outputs": [],
   "source": [
    "#save&commit\n",
    "cobra.io.write_sbml_model(model,'../model/g-thermo.xml')"
   ]
  },
  {
   "cell_type": "markdown",
   "metadata": {},
   "source": [
    "Now that we have made all the generic lipids that we need, we can go ahead and add them to our biomass reaction. We know we have 9% (in g/g) of lipids in our biomass, and we know the distribution of the lipids as 25/50/25 (in g/g) for pg, clpn and pe respectively. With this we can calculate the mmol/gCDW to add as a stoichiometry to our model.\n",
    "\n",
    "This leads to the following stoichiometries:\n",
    "- pg_c: 0.031037\n",
    "- clpn_c: 0.033142\n",
    "- pe_c: 0.032424"
   ]
  },
  {
   "cell_type": "code",
   "execution_count": 104,
   "metadata": {},
   "outputs": [],
   "source": [
    "#add these metabolites to biomass\n",
    "model.reactions.biomass.add_metabolites({\n",
    "    model.metabolites.pg_c:-0.031037,\n",
    "    model.metabolites.clpn_c:-0.033142,\n",
    "    model.metabolites.pe_c:-0.032424\n",
    "})"
   ]
  },
  {
   "cell_type": "markdown",
   "metadata": {},
   "source": [
    "Check to see the effect on the growth. You can see the growth rate decreases a bit to 0.700, but this is oke and would be somewhat expected. "
   ]
  },
  {
   "cell_type": "code",
   "execution_count": 105,
   "metadata": {},
   "outputs": [
    {
     "data": {
      "text/html": [
       "<strong><em>Optimal</em> solution with objective value 0.700</strong><br><div>\n",
       "<style scoped>\n",
       "    .dataframe tbody tr th:only-of-type {\n",
       "        vertical-align: middle;\n",
       "    }\n",
       "\n",
       "    .dataframe tbody tr th {\n",
       "        vertical-align: top;\n",
       "    }\n",
       "\n",
       "    .dataframe thead th {\n",
       "        text-align: right;\n",
       "    }\n",
       "</style>\n",
       "<table border=\"1\" class=\"dataframe\">\n",
       "  <thead>\n",
       "    <tr style=\"text-align: right;\">\n",
       "      <th></th>\n",
       "      <th>fluxes</th>\n",
       "      <th>reduced_costs</th>\n",
       "    </tr>\n",
       "  </thead>\n",
       "  <tbody>\n",
       "    <tr>\n",
       "      <th>IDPh</th>\n",
       "      <td>1.727336e+00</td>\n",
       "      <td>0.000000e+00</td>\n",
       "    </tr>\n",
       "    <tr>\n",
       "      <th>CAT</th>\n",
       "      <td>1.829815e-02</td>\n",
       "      <td>0.000000e+00</td>\n",
       "    </tr>\n",
       "    <tr>\n",
       "      <th>PDHam1hi</th>\n",
       "      <td>0.000000e+00</td>\n",
       "      <td>5.551115e-17</td>\n",
       "    </tr>\n",
       "    <tr>\n",
       "      <th>HYDA</th>\n",
       "      <td>0.000000e+00</td>\n",
       "      <td>-0.000000e+00</td>\n",
       "    </tr>\n",
       "    <tr>\n",
       "      <th>MALHYDRO</th>\n",
       "      <td>-6.938894e-18</td>\n",
       "      <td>0.000000e+00</td>\n",
       "    </tr>\n",
       "    <tr>\n",
       "      <th>...</th>\n",
       "      <td>...</td>\n",
       "      <td>...</td>\n",
       "    </tr>\n",
       "    <tr>\n",
       "      <th>3HMAD160</th>\n",
       "      <td>5.066520e-02</td>\n",
       "      <td>0.000000e+00</td>\n",
       "    </tr>\n",
       "    <tr>\n",
       "      <th>EMAR160x</th>\n",
       "      <td>0.000000e+00</td>\n",
       "      <td>-7.378930e-03</td>\n",
       "    </tr>\n",
       "    <tr>\n",
       "      <th>EMAR160y</th>\n",
       "      <td>5.066520e-02</td>\n",
       "      <td>-3.365364e-16</td>\n",
       "    </tr>\n",
       "    <tr>\n",
       "      <th>ACYLACP</th>\n",
       "      <td>1.815957e-01</td>\n",
       "      <td>-1.799776e-17</td>\n",
       "    </tr>\n",
       "    <tr>\n",
       "      <th>ACYAC</th>\n",
       "      <td>-1.815957e-01</td>\n",
       "      <td>5.551115e-17</td>\n",
       "    </tr>\n",
       "  </tbody>\n",
       "</table>\n",
       "<p>1127 rows × 2 columns</p>\n",
       "</div>"
      ],
      "text/plain": [
       "<Solution 0.700 at 0x19b7ab59fc8>"
      ]
     },
     "execution_count": 105,
     "metadata": {},
     "output_type": "execute_result"
    }
   ],
   "source": [
    "model.optimize()"
   ]
  },
  {
   "cell_type": "code",
   "execution_count": 106,
   "metadata": {},
   "outputs": [],
   "source": [
    "#save&commit\n",
    "cobra.io.write_sbml_model(model,'../model/g-thermo.xml')"
   ]
  },
  {
   "cell_type": "markdown",
   "metadata": {},
   "source": [
    "Finally, I want to check what the total biomass reaction adds up to. I.e. all metabolites together should not add up to more than 1 g/gcdw. \n",
    "Note: we still need to add bacillithiol to this, but this will not be a huge effect."
   ]
  },
  {
   "cell_type": "code",
   "execution_count": 107,
   "metadata": {
    "scrolled": false
   },
   "outputs": [
    {
     "name": "stderr",
     "output_type": "stream",
     "text": [
      "C:\\Users\\vivmol\\AppData\\Local\\Continuum\\anaconda3\\envs\\g-thermo\\lib\\site-packages\\cobra\\core\\metabolite.py:104: UserWarning:\n",
      "\n",
      "38.14 is not an integer (in formula C38.14H75.28O10P)\n",
      "\n",
      "C:\\Users\\vivmol\\AppData\\Local\\Continuum\\anaconda3\\envs\\g-thermo\\lib\\site-packages\\cobra\\core\\metabolite.py:104: UserWarning:\n",
      "\n",
      "75.28 is not an integer (in formula C38.14H75.28O10P)\n",
      "\n",
      "C:\\Users\\vivmol\\AppData\\Local\\Continuum\\anaconda3\\envs\\g-thermo\\lib\\site-packages\\cobra\\core\\metabolite.py:104: UserWarning:\n",
      "\n",
      "73.28 is not an integer (in formula C73.28H142.56O17P2)\n",
      "\n",
      "C:\\Users\\vivmol\\AppData\\Local\\Continuum\\anaconda3\\envs\\g-thermo\\lib\\site-packages\\cobra\\core\\metabolite.py:104: UserWarning:\n",
      "\n",
      "142.56 is not an integer (in formula C73.28H142.56O17P2)\n",
      "\n",
      "C:\\Users\\vivmol\\AppData\\Local\\Continuum\\anaconda3\\envs\\g-thermo\\lib\\site-packages\\cobra\\core\\metabolite.py:104: UserWarning:\n",
      "\n",
      "37.14 is not an integer (in formula C37.14H74.28NO8P)\n",
      "\n",
      "C:\\Users\\vivmol\\AppData\\Local\\Continuum\\anaconda3\\envs\\g-thermo\\lib\\site-packages\\cobra\\core\\metabolite.py:104: UserWarning:\n",
      "\n",
      "74.28 is not an integer (in formula C37.14H74.28NO8P)\n",
      "\n"
     ]
    }
   ],
   "source": [
    "#check total g/gdcw biomass\n",
    "biomass_g_g = []\n",
    "for met in model.reactions.biomass.metabolites:\n",
    "    stoich = model.reactions.biomass.metabolites.get(met) #get stoichiometry in mmol/gcdw\n",
    "    if stoich == 1 :#ignore the biomass part, but need to include the ADP/Pi/UDP that is also made here\n",
    "        continue\n",
    "    else:\n",
    "        mw = met.formula_weight # get molecular weight of metabolite in g/mol\n",
    "        try:\n",
    "            weight_fraction = (mw/1000)*stoich #the g/gcdw of this metabolite\n",
    "            biomass_g_g.append(weight_fraction)\n",
    "        except TypeError: #for the met with R in it, just ignore\n",
    "            print(met.id)"
   ]
  },
  {
   "cell_type": "code",
   "execution_count": 108,
   "metadata": {
    "scrolled": false
   },
   "outputs": [
    {
     "data": {
      "text/plain": [
       "1.117769768901451"
      ]
     },
     "execution_count": 108,
     "metadata": {},
     "output_type": "execute_result"
    }
   ],
   "source": [
    "#to find total g/gcdw of all mets, sum up this list\n",
    "abs(sum(biomass_g_g))"
   ]
  },
  {
   "cell_type": "code",
   "execution_count": null,
   "metadata": {},
   "outputs": [],
   "source": []
  }
 ],
 "metadata": {
  "kernelspec": {
   "display_name": "Python 3",
   "language": "python",
   "name": "python3"
  },
  "language_info": {
   "codemirror_mode": {
    "name": "ipython",
    "version": 3
   },
   "file_extension": ".py",
   "mimetype": "text/x-python",
   "name": "python",
   "nbconvert_exporter": "python",
   "pygments_lexer": "ipython3",
   "version": "3.7.7"
  }
 },
 "nbformat": 4,
 "nbformat_minor": 4
}
