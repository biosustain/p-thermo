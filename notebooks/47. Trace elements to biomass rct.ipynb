{
 "cells": [
  {
   "cell_type": "markdown",
   "metadata": {},
   "source": [
    "# Introduction\n",
    "We recently had a meeting where we discussed which metabolites should be added to the biomass reaction as we know they are critical for certain steps in metabolism. In this notebook, I will try to add them to the biomass reaction and check their biosynthesis is complete. To get an indication of the stoichiometry to use, I will try to find experimental data for measurements of the presence of these compounds.\n",
    "\n",
    "List of metabolites to add to biomass reaction:\n",
    "- Coenzyme B12\n",
    "- Biotin\n",
    "- sperimine and spermidine\n",
    "- Heme"
   ]
  },
  {
   "cell_type": "code",
   "execution_count": 1,
   "metadata": {},
   "outputs": [
    {
     "data": {
      "application/javascript": [
       "\n",
       "(function(root) {\n",
       "  function now() {\n",
       "    return new Date();\n",
       "  }\n",
       "\n",
       "  var force = true;\n",
       "\n",
       "  if (typeof root._bokeh_onload_callbacks === \"undefined\" || force === true) {\n",
       "    root._bokeh_onload_callbacks = [];\n",
       "    root._bokeh_is_loading = undefined;\n",
       "  }\n",
       "\n",
       "  var JS_MIME_TYPE = 'application/javascript';\n",
       "  var HTML_MIME_TYPE = 'text/html';\n",
       "  var EXEC_MIME_TYPE = 'application/vnd.bokehjs_exec.v0+json';\n",
       "  var CLASS_NAME = 'output_bokeh rendered_html';\n",
       "\n",
       "  /**\n",
       "   * Render data to the DOM node\n",
       "   */\n",
       "  function render(props, node) {\n",
       "    var script = document.createElement(\"script\");\n",
       "    node.appendChild(script);\n",
       "  }\n",
       "\n",
       "  /**\n",
       "   * Handle when an output is cleared or removed\n",
       "   */\n",
       "  function handleClearOutput(event, handle) {\n",
       "    var cell = handle.cell;\n",
       "\n",
       "    var id = cell.output_area._bokeh_element_id;\n",
       "    var server_id = cell.output_area._bokeh_server_id;\n",
       "    // Clean up Bokeh references\n",
       "    if (id != null && id in Bokeh.index) {\n",
       "      Bokeh.index[id].model.document.clear();\n",
       "      delete Bokeh.index[id];\n",
       "    }\n",
       "\n",
       "    if (server_id !== undefined) {\n",
       "      // Clean up Bokeh references\n",
       "      var cmd = \"from bokeh.io.state import curstate; print(curstate().uuid_to_server['\" + server_id + \"'].get_sessions()[0].document.roots[0]._id)\";\n",
       "      cell.notebook.kernel.execute(cmd, {\n",
       "        iopub: {\n",
       "          output: function(msg) {\n",
       "            var id = msg.content.text.trim();\n",
       "            if (id in Bokeh.index) {\n",
       "              Bokeh.index[id].model.document.clear();\n",
       "              delete Bokeh.index[id];\n",
       "            }\n",
       "          }\n",
       "        }\n",
       "      });\n",
       "      // Destroy server and session\n",
       "      var cmd = \"import bokeh.io.notebook as ion; ion.destroy_server('\" + server_id + \"')\";\n",
       "      cell.notebook.kernel.execute(cmd);\n",
       "    }\n",
       "  }\n",
       "\n",
       "  /**\n",
       "   * Handle when a new output is added\n",
       "   */\n",
       "  function handleAddOutput(event, handle) {\n",
       "    var output_area = handle.output_area;\n",
       "    var output = handle.output;\n",
       "\n",
       "    // limit handleAddOutput to display_data with EXEC_MIME_TYPE content only\n",
       "    if ((output.output_type != \"display_data\") || (!output.data.hasOwnProperty(EXEC_MIME_TYPE))) {\n",
       "      return\n",
       "    }\n",
       "\n",
       "    var toinsert = output_area.element.find(\".\" + CLASS_NAME.split(' ')[0]);\n",
       "\n",
       "    if (output.metadata[EXEC_MIME_TYPE][\"id\"] !== undefined) {\n",
       "      toinsert[toinsert.length - 1].firstChild.textContent = output.data[JS_MIME_TYPE];\n",
       "      // store reference to embed id on output_area\n",
       "      output_area._bokeh_element_id = output.metadata[EXEC_MIME_TYPE][\"id\"];\n",
       "    }\n",
       "    if (output.metadata[EXEC_MIME_TYPE][\"server_id\"] !== undefined) {\n",
       "      var bk_div = document.createElement(\"div\");\n",
       "      bk_div.innerHTML = output.data[HTML_MIME_TYPE];\n",
       "      var script_attrs = bk_div.children[0].attributes;\n",
       "      for (var i = 0; i < script_attrs.length; i++) {\n",
       "        toinsert[toinsert.length - 1].firstChild.setAttribute(script_attrs[i].name, script_attrs[i].value);\n",
       "        toinsert[toinsert.length - 1].firstChild.textContent = bk_div.children[0].textContent\n",
       "      }\n",
       "      // store reference to server id on output_area\n",
       "      output_area._bokeh_server_id = output.metadata[EXEC_MIME_TYPE][\"server_id\"];\n",
       "    }\n",
       "  }\n",
       "\n",
       "  function register_renderer(events, OutputArea) {\n",
       "\n",
       "    function append_mime(data, metadata, element) {\n",
       "      // create a DOM node to render to\n",
       "      var toinsert = this.create_output_subarea(\n",
       "        metadata,\n",
       "        CLASS_NAME,\n",
       "        EXEC_MIME_TYPE\n",
       "      );\n",
       "      this.keyboard_manager.register_events(toinsert);\n",
       "      // Render to node\n",
       "      var props = {data: data, metadata: metadata[EXEC_MIME_TYPE]};\n",
       "      render(props, toinsert[toinsert.length - 1]);\n",
       "      element.append(toinsert);\n",
       "      return toinsert\n",
       "    }\n",
       "\n",
       "    /* Handle when an output is cleared or removed */\n",
       "    events.on('clear_output.CodeCell', handleClearOutput);\n",
       "    events.on('delete.Cell', handleClearOutput);\n",
       "\n",
       "    /* Handle when a new output is added */\n",
       "    events.on('output_added.OutputArea', handleAddOutput);\n",
       "\n",
       "    /**\n",
       "     * Register the mime type and append_mime function with output_area\n",
       "     */\n",
       "    OutputArea.prototype.register_mime_type(EXEC_MIME_TYPE, append_mime, {\n",
       "      /* Is output safe? */\n",
       "      safe: true,\n",
       "      /* Index of renderer in `output_area.display_order` */\n",
       "      index: 0\n",
       "    });\n",
       "  }\n",
       "\n",
       "  // register the mime type if in Jupyter Notebook environment and previously unregistered\n",
       "  if (root.Jupyter !== undefined) {\n",
       "    var events = require('base/js/events');\n",
       "    var OutputArea = require('notebook/js/outputarea').OutputArea;\n",
       "\n",
       "    if (OutputArea.prototype.mime_types().indexOf(EXEC_MIME_TYPE) == -1) {\n",
       "      register_renderer(events, OutputArea);\n",
       "    }\n",
       "  }\n",
       "\n",
       "  \n",
       "  if (typeof (root._bokeh_timeout) === \"undefined\" || force === true) {\n",
       "    root._bokeh_timeout = Date.now() + 5000;\n",
       "    root._bokeh_failed_load = false;\n",
       "  }\n",
       "\n",
       "  var NB_LOAD_WARNING = {'data': {'text/html':\n",
       "     \"<div style='background-color: #fdd'>\\n\"+\n",
       "     \"<p>\\n\"+\n",
       "     \"BokehJS does not appear to have successfully loaded. If loading BokehJS from CDN, this \\n\"+\n",
       "     \"may be due to a slow or bad network connection. Possible fixes:\\n\"+\n",
       "     \"</p>\\n\"+\n",
       "     \"<ul>\\n\"+\n",
       "     \"<li>re-rerun `output_notebook()` to attempt to load from CDN again, or</li>\\n\"+\n",
       "     \"<li>use INLINE resources instead, as so:</li>\\n\"+\n",
       "     \"</ul>\\n\"+\n",
       "     \"<code>\\n\"+\n",
       "     \"from bokeh.resources import INLINE\\n\"+\n",
       "     \"output_notebook(resources=INLINE)\\n\"+\n",
       "     \"</code>\\n\"+\n",
       "     \"</div>\"}};\n",
       "\n",
       "  function display_loaded() {\n",
       "    var el = document.getElementById(null);\n",
       "    if (el != null) {\n",
       "      el.textContent = \"BokehJS is loading...\";\n",
       "    }\n",
       "    if (root.Bokeh !== undefined) {\n",
       "      if (el != null) {\n",
       "        el.textContent = \"BokehJS \" + root.Bokeh.version + \" successfully loaded.\";\n",
       "      }\n",
       "    } else if (Date.now() < root._bokeh_timeout) {\n",
       "      setTimeout(display_loaded, 100)\n",
       "    }\n",
       "  }\n",
       "\n",
       "\n",
       "  function run_callbacks() {\n",
       "    try {\n",
       "      root._bokeh_onload_callbacks.forEach(function(callback) {\n",
       "        if (callback != null)\n",
       "          callback();\n",
       "      });\n",
       "    } finally {\n",
       "      delete root._bokeh_onload_callbacks\n",
       "    }\n",
       "    console.debug(\"Bokeh: all callbacks have finished\");\n",
       "  }\n",
       "\n",
       "  function load_libs(css_urls, js_urls, callback) {\n",
       "    if (css_urls == null) css_urls = [];\n",
       "    if (js_urls == null) js_urls = [];\n",
       "\n",
       "    root._bokeh_onload_callbacks.push(callback);\n",
       "    if (root._bokeh_is_loading > 0) {\n",
       "      console.debug(\"Bokeh: BokehJS is being loaded, scheduling callback at\", now());\n",
       "      return null;\n",
       "    }\n",
       "    if (js_urls == null || js_urls.length === 0) {\n",
       "      run_callbacks();\n",
       "      return null;\n",
       "    }\n",
       "    console.debug(\"Bokeh: BokehJS not loaded, scheduling load and callback at\", now());\n",
       "    root._bokeh_is_loading = css_urls.length + js_urls.length;\n",
       "\n",
       "    function on_load() {\n",
       "      root._bokeh_is_loading--;\n",
       "      if (root._bokeh_is_loading === 0) {\n",
       "        console.debug(\"Bokeh: all BokehJS libraries/stylesheets loaded\");\n",
       "        run_callbacks()\n",
       "      }\n",
       "    }\n",
       "\n",
       "    function on_error() {\n",
       "      console.error(\"failed to load \" + url);\n",
       "    }\n",
       "\n",
       "    for (var i = 0; i < css_urls.length; i++) {\n",
       "      var url = css_urls[i];\n",
       "      const element = document.createElement(\"link\");\n",
       "      element.onload = on_load;\n",
       "      element.onerror = on_error;\n",
       "      element.rel = \"stylesheet\";\n",
       "      element.type = \"text/css\";\n",
       "      element.href = url;\n",
       "      console.debug(\"Bokeh: injecting link tag for BokehJS stylesheet: \", url);\n",
       "      document.body.appendChild(element);\n",
       "    }\n",
       "\n",
       "    const hashes = {\"https://cdn.bokeh.org/bokeh/release/bokeh-2.0.1.min.js\": \"JpP8FXbgAZLkfur7LiK3j9AGBhHNIvF742meBJrjO2ShJDhCG2I1uVvW+0DUtrmc\", \"https://cdn.bokeh.org/bokeh/release/bokeh-widgets-2.0.1.min.js\": \"xZlADit0Q04ISQEdKg2k3L4W9AwQBAuDs9nJL9fM/WwzL1tEU9VPNezOFX0nLEAz\", \"https://cdn.bokeh.org/bokeh/release/bokeh-tables-2.0.1.min.js\": \"4BuPRZkdMKSnj3zoxiNrQ86XgNw0rYmBOxe7nshquXwwcauupgBF2DHLVG1WuZlV\", \"https://cdn.bokeh.org/bokeh/release/bokeh-gl-2.0.1.min.js\": \"Dv1SQ87hmDqK6S5OhBf0bCuwAEvL5QYL0PuR/F1SPVhCS/r/abjkbpKDYL2zeM19\"};\n",
       "\n",
       "    for (var i = 0; i < js_urls.length; i++) {\n",
       "      var url = js_urls[i];\n",
       "      var element = document.createElement('script');\n",
       "      element.onload = on_load;\n",
       "      element.onerror = on_error;\n",
       "      element.async = false;\n",
       "      element.src = url;\n",
       "      if (url in hashes) {\n",
       "        element.crossOrigin = \"anonymous\";\n",
       "        element.integrity = \"sha384-\" + hashes[url];\n",
       "      }\n",
       "      console.debug(\"Bokeh: injecting script tag for BokehJS library: \", url);\n",
       "      document.head.appendChild(element);\n",
       "    }\n",
       "  };\n",
       "\n",
       "  function inject_raw_css(css) {\n",
       "    const element = document.createElement(\"style\");\n",
       "    element.appendChild(document.createTextNode(css));\n",
       "    document.body.appendChild(element);\n",
       "  }\n",
       "\n",
       "  \n",
       "  var js_urls = [\"https://cdn.bokeh.org/bokeh/release/bokeh-2.0.1.min.js\", \"https://cdn.bokeh.org/bokeh/release/bokeh-widgets-2.0.1.min.js\", \"https://cdn.bokeh.org/bokeh/release/bokeh-tables-2.0.1.min.js\", \"https://cdn.bokeh.org/bokeh/release/bokeh-gl-2.0.1.min.js\"];\n",
       "  var css_urls = [];\n",
       "  \n",
       "\n",
       "  var inline_js = [\n",
       "    function(Bokeh) {\n",
       "      Bokeh.set_log_level(\"info\");\n",
       "    },\n",
       "    function(Bokeh) {\n",
       "    \n",
       "    \n",
       "    }\n",
       "  ];\n",
       "\n",
       "  function run_inline_js() {\n",
       "    \n",
       "    if (root.Bokeh !== undefined || force === true) {\n",
       "      \n",
       "    for (var i = 0; i < inline_js.length; i++) {\n",
       "      inline_js[i].call(root, root.Bokeh);\n",
       "    }\n",
       "    } else if (Date.now() < root._bokeh_timeout) {\n",
       "      setTimeout(run_inline_js, 100);\n",
       "    } else if (!root._bokeh_failed_load) {\n",
       "      console.log(\"Bokeh: BokehJS failed to load within specified timeout.\");\n",
       "      root._bokeh_failed_load = true;\n",
       "    } else if (force !== true) {\n",
       "      var cell = $(document.getElementById(null)).parents('.cell').data().cell;\n",
       "      cell.output_area.append_execute_result(NB_LOAD_WARNING)\n",
       "    }\n",
       "\n",
       "  }\n",
       "\n",
       "  if (root._bokeh_is_loading === 0) {\n",
       "    console.debug(\"Bokeh: BokehJS loaded, going straight to plotting\");\n",
       "    run_inline_js();\n",
       "  } else {\n",
       "    load_libs(css_urls, js_urls, function() {\n",
       "      console.debug(\"Bokeh: BokehJS plotting callback run at\", now());\n",
       "      run_inline_js();\n",
       "    });\n",
       "  }\n",
       "}(window));"
      ],
      "application/vnd.bokehjs_load.v0+json": "\n(function(root) {\n  function now() {\n    return new Date();\n  }\n\n  var force = true;\n\n  if (typeof root._bokeh_onload_callbacks === \"undefined\" || force === true) {\n    root._bokeh_onload_callbacks = [];\n    root._bokeh_is_loading = undefined;\n  }\n\n  \n\n  \n  if (typeof (root._bokeh_timeout) === \"undefined\" || force === true) {\n    root._bokeh_timeout = Date.now() + 5000;\n    root._bokeh_failed_load = false;\n  }\n\n  var NB_LOAD_WARNING = {'data': {'text/html':\n     \"<div style='background-color: #fdd'>\\n\"+\n     \"<p>\\n\"+\n     \"BokehJS does not appear to have successfully loaded. If loading BokehJS from CDN, this \\n\"+\n     \"may be due to a slow or bad network connection. Possible fixes:\\n\"+\n     \"</p>\\n\"+\n     \"<ul>\\n\"+\n     \"<li>re-rerun `output_notebook()` to attempt to load from CDN again, or</li>\\n\"+\n     \"<li>use INLINE resources instead, as so:</li>\\n\"+\n     \"</ul>\\n\"+\n     \"<code>\\n\"+\n     \"from bokeh.resources import INLINE\\n\"+\n     \"output_notebook(resources=INLINE)\\n\"+\n     \"</code>\\n\"+\n     \"</div>\"}};\n\n  function display_loaded() {\n    var el = document.getElementById(null);\n    if (el != null) {\n      el.textContent = \"BokehJS is loading...\";\n    }\n    if (root.Bokeh !== undefined) {\n      if (el != null) {\n        el.textContent = \"BokehJS \" + root.Bokeh.version + \" successfully loaded.\";\n      }\n    } else if (Date.now() < root._bokeh_timeout) {\n      setTimeout(display_loaded, 100)\n    }\n  }\n\n\n  function run_callbacks() {\n    try {\n      root._bokeh_onload_callbacks.forEach(function(callback) {\n        if (callback != null)\n          callback();\n      });\n    } finally {\n      delete root._bokeh_onload_callbacks\n    }\n    console.debug(\"Bokeh: all callbacks have finished\");\n  }\n\n  function load_libs(css_urls, js_urls, callback) {\n    if (css_urls == null) css_urls = [];\n    if (js_urls == null) js_urls = [];\n\n    root._bokeh_onload_callbacks.push(callback);\n    if (root._bokeh_is_loading > 0) {\n      console.debug(\"Bokeh: BokehJS is being loaded, scheduling callback at\", now());\n      return null;\n    }\n    if (js_urls == null || js_urls.length === 0) {\n      run_callbacks();\n      return null;\n    }\n    console.debug(\"Bokeh: BokehJS not loaded, scheduling load and callback at\", now());\n    root._bokeh_is_loading = css_urls.length + js_urls.length;\n\n    function on_load() {\n      root._bokeh_is_loading--;\n      if (root._bokeh_is_loading === 0) {\n        console.debug(\"Bokeh: all BokehJS libraries/stylesheets loaded\");\n        run_callbacks()\n      }\n    }\n\n    function on_error() {\n      console.error(\"failed to load \" + url);\n    }\n\n    for (var i = 0; i < css_urls.length; i++) {\n      var url = css_urls[i];\n      const element = document.createElement(\"link\");\n      element.onload = on_load;\n      element.onerror = on_error;\n      element.rel = \"stylesheet\";\n      element.type = \"text/css\";\n      element.href = url;\n      console.debug(\"Bokeh: injecting link tag for BokehJS stylesheet: \", url);\n      document.body.appendChild(element);\n    }\n\n    const hashes = {\"https://cdn.bokeh.org/bokeh/release/bokeh-2.0.1.min.js\": \"JpP8FXbgAZLkfur7LiK3j9AGBhHNIvF742meBJrjO2ShJDhCG2I1uVvW+0DUtrmc\", \"https://cdn.bokeh.org/bokeh/release/bokeh-widgets-2.0.1.min.js\": \"xZlADit0Q04ISQEdKg2k3L4W9AwQBAuDs9nJL9fM/WwzL1tEU9VPNezOFX0nLEAz\", \"https://cdn.bokeh.org/bokeh/release/bokeh-tables-2.0.1.min.js\": \"4BuPRZkdMKSnj3zoxiNrQ86XgNw0rYmBOxe7nshquXwwcauupgBF2DHLVG1WuZlV\", \"https://cdn.bokeh.org/bokeh/release/bokeh-gl-2.0.1.min.js\": \"Dv1SQ87hmDqK6S5OhBf0bCuwAEvL5QYL0PuR/F1SPVhCS/r/abjkbpKDYL2zeM19\"};\n\n    for (var i = 0; i < js_urls.length; i++) {\n      var url = js_urls[i];\n      var element = document.createElement('script');\n      element.onload = on_load;\n      element.onerror = on_error;\n      element.async = false;\n      element.src = url;\n      if (url in hashes) {\n        element.crossOrigin = \"anonymous\";\n        element.integrity = \"sha384-\" + hashes[url];\n      }\n      console.debug(\"Bokeh: injecting script tag for BokehJS library: \", url);\n      document.head.appendChild(element);\n    }\n  };\n\n  function inject_raw_css(css) {\n    const element = document.createElement(\"style\");\n    element.appendChild(document.createTextNode(css));\n    document.body.appendChild(element);\n  }\n\n  \n  var js_urls = [\"https://cdn.bokeh.org/bokeh/release/bokeh-2.0.1.min.js\", \"https://cdn.bokeh.org/bokeh/release/bokeh-widgets-2.0.1.min.js\", \"https://cdn.bokeh.org/bokeh/release/bokeh-tables-2.0.1.min.js\", \"https://cdn.bokeh.org/bokeh/release/bokeh-gl-2.0.1.min.js\"];\n  var css_urls = [];\n  \n\n  var inline_js = [\n    function(Bokeh) {\n      Bokeh.set_log_level(\"info\");\n    },\n    function(Bokeh) {\n    \n    \n    }\n  ];\n\n  function run_inline_js() {\n    \n    if (root.Bokeh !== undefined || force === true) {\n      \n    for (var i = 0; i < inline_js.length; i++) {\n      inline_js[i].call(root, root.Bokeh);\n    }\n    } else if (Date.now() < root._bokeh_timeout) {\n      setTimeout(run_inline_js, 100);\n    } else if (!root._bokeh_failed_load) {\n      console.log(\"Bokeh: BokehJS failed to load within specified timeout.\");\n      root._bokeh_failed_load = true;\n    } else if (force !== true) {\n      var cell = $(document.getElementById(null)).parents('.cell').data().cell;\n      cell.output_area.append_execute_result(NB_LOAD_WARNING)\n    }\n\n  }\n\n  if (root._bokeh_is_loading === 0) {\n    console.debug(\"Bokeh: BokehJS loaded, going straight to plotting\");\n    run_inline_js();\n  } else {\n    load_libs(css_urls, js_urls, function() {\n      console.debug(\"Bokeh: BokehJS plotting callback run at\", now());\n      run_inline_js();\n    });\n  }\n}(window));"
     },
     "metadata": {},
     "output_type": "display_data"
    }
   ],
   "source": [
    "import cameo\n",
    "import pandas as pd\n",
    "import cobra.io\n",
    "import escher\n",
    "from escher import Builder\n",
    "from cobra import Metabolite, Reaction"
   ]
  },
  {
   "cell_type": "code",
   "execution_count": 3,
   "metadata": {},
   "outputs": [],
   "source": [
    "model = cobra.io.read_sbml_model('../model/g-thermo.xml')"
   ]
  },
  {
   "cell_type": "code",
   "execution_count": 5,
   "metadata": {},
   "outputs": [],
   "source": [
    "model_e_coli = cameo.load_model ('iML1515')"
   ]
  },
  {
   "cell_type": "code",
   "execution_count": 5,
   "metadata": {},
   "outputs": [],
   "source": [
    "model_b_sub = cameo.load_model('iYO844')"
   ]
  },
  {
   "cell_type": "markdown",
   "metadata": {},
   "source": [
    "## Biotin\n",
    "We know that Biotin is a critical cofactor for our strain. Therefore here I will check how to add biotin to the strain and then make sure the biosynthetic pathway is functional as it should be. \n",
    "\n",
    "E. coli has biotin present at a stoichiomerty of -2e-06 mmol/gCDW. It is missing in the bacillus biomass equation. As I cannot find any experimental data about the amount in bacillus or geobacillus, we will use the amount of the E. coli model as an estimate. It is also so small that it will not constitute a huge change of fluxed so this should be alright."
   ]
  },
  {
   "cell_type": "code",
   "execution_count": 5,
   "metadata": {},
   "outputs": [],
   "source": [
    "model = cobra.io.read_sbml_model('../model/g-thermo.xml')"
   ]
  },
  {
   "cell_type": "code",
   "execution_count": 6,
   "metadata": {},
   "outputs": [],
   "source": [
    "model.reactions.biomass.add_metabolites({\n",
    "    model.metabolites.btn_c:-2e-6\n",
    "})"
   ]
  },
  {
   "cell_type": "markdown",
   "metadata": {},
   "source": [
    "Again, adding biotin kills biomass accumulation, so I need to check where this problem comes from and fix it. Right now, biotin is only associated to biotin5-amp. not to its biosynthesis, so I have to add this probably. It also seems a lot of the metabolites are missing. The biotin biosynthesis pathway is annotated in our strain, so should be added.\n",
    "\n",
    "Note: I will work from biotin back up.\n",
    "\n",
    "BTNS: this reaction incorporates a sulfur into the dethiobiotin. It is a bit unclear where exactly the sulfur comes from. the B. subtilis model circumvents this by just adding an elemental sulfur (s_c) into the reaction, but this is a dead end reaction so not a feasible solution. In E. coli it has been shown and in literature further hypothesized that the sulphur comes from one Fe2S2 cluster that is sacrificed. As we have no indication of how this may go otherwise, this will be applied here. \n",
    "the Fe2S1 cluster must then also be recycled. "
   ]
  },
  {
   "cell_type": "code",
   "execution_count": 7,
   "metadata": {},
   "outputs": [],
   "source": [
    "#first step converting dethiobiotin to biotin, using SAM\n",
    "#add dethiobiotin met first\n",
    "model.add_metabolites(Metabolite(id='dtbt_c', name = 'Dethiobiotin', compartment= 'c', formula = 'C10H17N2O3', charge = -1))"
   ]
  },
  {
   "cell_type": "code",
   "execution_count": 8,
   "metadata": {},
   "outputs": [],
   "source": [
    "model.metabolites.dtbt_c.annotation = model_b_sub.metabolites.dtbt_c.annotation"
   ]
  },
  {
   "cell_type": "code",
   "execution_count": 9,
   "metadata": {},
   "outputs": [],
   "source": [
    "#add 2fe2s_c metabolite\n",
    "model.add_metabolites(Metabolite(id= '2fe2s_c', name = '[2Fe-2S] iron-sulfur cluster', charge = 2 , compartment = 'c', formula = 'S2Fe2' ))"
   ]
  },
  {
   "cell_type": "code",
   "execution_count": 10,
   "metadata": {},
   "outputs": [],
   "source": [
    "model.metabolites.get_by_id('2fe2s_c').annotation = model_e_coli.metabolites.get_by_id('2fe2s_c').annotation"
   ]
  },
  {
   "cell_type": "code",
   "execution_count": 11,
   "metadata": {},
   "outputs": [],
   "source": [
    "#add 2fe1s_c metabolite\n",
    "model.add_metabolites(Metabolite(id= '2fe1s_c', name = '[2Fe-2S] desulfurated iron-sulfur cluster', charge = 2 , compartment = 'c', formula = 'SFe2' ))"
   ]
  },
  {
   "cell_type": "code",
   "execution_count": 12,
   "metadata": {
    "scrolled": true
   },
   "outputs": [],
   "source": [
    "model.metabolites.get_by_id('2fe1s_c').annotation = model_e_coli.metabolites.get_by_id('2fe1s_c').annotation"
   ]
  },
  {
   "cell_type": "code",
   "execution_count": 13,
   "metadata": {},
   "outputs": [],
   "source": [
    "#add reaction \n",
    "model.add_reaction(Reaction(id='BTS5', name = 'biotin synthase'))"
   ]
  },
  {
   "cell_type": "code",
   "execution_count": 14,
   "metadata": {},
   "outputs": [],
   "source": [
    "model.reactions.BTS5.annotation['kegg.reaction']='R01078'\n",
    "model.reactions.BTS5.annotation['ec-code']='2.8.1.6'\n",
    "model.reactions.BTS5.annotation['sbo']='SBO:0000176'"
   ]
  },
  {
   "cell_type": "code",
   "execution_count": 15,
   "metadata": {},
   "outputs": [
    {
     "name": "stderr",
     "output_type": "stream",
     "text": [
      "C:\\Users\\vivmol\\AppData\\Local\\Continuum\\anaconda3\\envs\\g-thermo\\lib\\site-packages\\cobra\\core\\group.py:93: UserWarning:\n",
      "\n",
      "need to pass in a list\n",
      "\n"
     ]
    }
   ],
   "source": [
    "model.groups.get_by_id('00780 - Biotin metabolism').add_members(model.reactions.BTS5)"
   ]
  },
  {
   "cell_type": "code",
   "execution_count": 16,
   "metadata": {},
   "outputs": [],
   "source": [
    "model.reactions.BTS5.add_metabolites({\n",
    "    model.metabolites.btn_c:1,\n",
    "    model.metabolites.met__L_c:1,\n",
    "    model.metabolites.dad_5_c:1,\n",
    "    model.metabolites.dtbt_c:-1,\n",
    "    model.metabolites.amet_c:-1,\n",
    "    model.metabolites.get_by_id('2fe2s_c'):-1,\n",
    "    model.metabolites.get_by_id('2fe1s_c'):1,\n",
    "    model.metabolites.h_c:1\n",
    "})"
   ]
  },
  {
   "cell_type": "code",
   "execution_count": 17,
   "metadata": {},
   "outputs": [],
   "source": [
    "model.reactions.BTS5.gene_reaction_rule = 'BioB'"
   ]
  },
  {
   "cell_type": "code",
   "execution_count": 18,
   "metadata": {
    "scrolled": true
   },
   "outputs": [
    {
     "data": {
      "text/plain": [
       "{}"
      ]
     },
     "execution_count": 18,
     "metadata": {},
     "output_type": "execute_result"
    }
   ],
   "source": [
    "model.reactions.BTS5.check_mass_balance()"
   ]
  },
  {
   "cell_type": "markdown",
   "metadata": {},
   "source": [
    "We also need to be sure the 2fe2s_c can be regenerated. In E. coli this is done via the I2FE2SR reaction, which is the general sulfur donor. In our model, we have this encoded as [Enzyme]-S-sulfanylcysteine (enzscys) which can be regenerated through reaction with a cysteine. So here, I will include regenerate of the 2fe2s metabolite via a reaction with the enzscys metabolite. (the [Enzyme]-S-sulfanylcysteine metabolite is also the sulfur donor in thiamine biosynthesis in our strain and model)"
   ]
  },
  {
   "cell_type": "code",
   "execution_count": 19,
   "metadata": {},
   "outputs": [],
   "source": [
    "model.add_reaction(Reaction(id='I2FE2SR', name = '[2Fe-2S] regeneration'))"
   ]
  },
  {
   "cell_type": "code",
   "execution_count": 20,
   "metadata": {},
   "outputs": [],
   "source": [
    "model.reactions.I2FE2SR.annotation['metanetx.reaction'] = 'MNXR100766'\n",
    "model.reactions.I2FE2SR.annotation['sbo']='SBO:0000176'"
   ]
  },
  {
   "cell_type": "code",
   "execution_count": 21,
   "metadata": {},
   "outputs": [],
   "source": [
    "model.groups.get_by_id('00780 - Biotin metabolism').add_members(model.reactions.I2FE2SR)"
   ]
  },
  {
   "cell_type": "code",
   "execution_count": 22,
   "metadata": {},
   "outputs": [],
   "source": [
    "model.reactions.I2FE2SR.add_metabolites({\n",
    "    model.metabolites.get_by_id('2fe1s_c'):-1,\n",
    "    model.metabolites.get_by_id('2fe2s_c'):1,\n",
    "    model.metabolites.enzscys_c:-1,\n",
    "    model.metabolites.enzcys_c:1\n",
    "})"
   ]
  },
  {
   "cell_type": "markdown",
   "metadata": {},
   "source": [
    "Now that dethiobiotin can be made, we need to work through the rest of the upstream part."
   ]
  },
  {
   "cell_type": "code",
   "execution_count": 23,
   "metadata": {},
   "outputs": [],
   "source": [
    "#add 7,8-Diaminononanoate met\n",
    "model.add_metabolites(Metabolite(id='dann_c', name = '7,8-Diaminononanoate', compartment = 'c', formula = 'C9H21N2O2', charge = 1))"
   ]
  },
  {
   "cell_type": "code",
   "execution_count": 24,
   "metadata": {},
   "outputs": [],
   "source": [
    "model.metabolites.dann_c.annotation = model_e_coli.metabolites.dann_c.annotation"
   ]
  },
  {
   "cell_type": "code",
   "execution_count": 25,
   "metadata": {},
   "outputs": [],
   "source": [
    "#add reaction DBTS\n",
    "model.add_reaction(Reaction(id='DBTS', name = 'Dethiobiotin synthase'))"
   ]
  },
  {
   "cell_type": "code",
   "execution_count": 26,
   "metadata": {},
   "outputs": [],
   "source": [
    "model.reactions.DBTS.annotation = model_e_coli.reactions.DBTS.annotation"
   ]
  },
  {
   "cell_type": "code",
   "execution_count": 27,
   "metadata": {},
   "outputs": [],
   "source": [
    "model.groups.get_by_id('00780 - Biotin metabolism').add_members(model.reactions.DBTS)"
   ]
  },
  {
   "cell_type": "code",
   "execution_count": 28,
   "metadata": {},
   "outputs": [],
   "source": [
    "model.reactions.DBTS.gene_reaction_rule = 'BioD'"
   ]
  },
  {
   "cell_type": "code",
   "execution_count": 29,
   "metadata": {},
   "outputs": [],
   "source": [
    "model.reactions.DBTS.add_metabolites({\n",
    "    model.metabolites.atp_c:-1,\n",
    "    model.metabolites.dann_c:-1,\n",
    "    model.metabolites.co2_c:-1,\n",
    "    model.metabolites.adp_c:1,\n",
    "    model.metabolites.pi_c:1,\n",
    "    model.metabolites.dtbt_c:1,\n",
    "    model.metabolites.h_c:3\n",
    "})"
   ]
  },
  {
   "cell_type": "code",
   "execution_count": 30,
   "metadata": {},
   "outputs": [],
   "source": [
    "#add next step from 8-amino-7-oxopentanoate\n",
    "#add metabolite\n",
    "model.add_metabolites(Metabolite(id='8aonn_c', name = '8-Amino-7-oxononanoate', compartment = 'c', charge = 0, formula = 'C9H17NO3'))"
   ]
  },
  {
   "cell_type": "code",
   "execution_count": 31,
   "metadata": {},
   "outputs": [],
   "source": [
    "model.metabolites.get_by_id('8aonn_c').annotation = model_e_coli.metabolites.get_by_id('8aonn_c').annotation"
   ]
  },
  {
   "cell_type": "code",
   "execution_count": 32,
   "metadata": {},
   "outputs": [],
   "source": [
    "#add amob_c metabolite, a byproduct in the reaction\n",
    "model.add_metabolites(Metabolite(id='amob_c', name = 'S-Adenosyl-4-methylthio-2-oxobutanoate', compartment = 'c', formula = 'C15H19N5O6S', charge = 0))"
   ]
  },
  {
   "cell_type": "code",
   "execution_count": 33,
   "metadata": {},
   "outputs": [],
   "source": [
    "model.metabolites.amob_c.annotation = model_e_coli.metabolites.amob_c.annotation"
   ]
  },
  {
   "cell_type": "code",
   "execution_count": 34,
   "metadata": {},
   "outputs": [],
   "source": [
    "#add reactions AMAOTr\n",
    "model.add_reaction(Reaction(id='AMAOTr', name = 'Adenosylmethionine-8-amino-7-oxononanoate transaminase'))"
   ]
  },
  {
   "cell_type": "code",
   "execution_count": 35,
   "metadata": {},
   "outputs": [],
   "source": [
    "model.reactions.AMAOTr.annotation = model_e_coli.reactions.AMAOTr.annotation"
   ]
  },
  {
   "cell_type": "code",
   "execution_count": 36,
   "metadata": {},
   "outputs": [],
   "source": [
    "model.groups.get_by_id('00780 - Biotin metabolism').add_members(model.reactions.AMAOTr)"
   ]
  },
  {
   "cell_type": "code",
   "execution_count": 37,
   "metadata": {},
   "outputs": [],
   "source": [
    "model.reactions.AMAOTr.gene_reaction_rule = 'BioD'"
   ]
  },
  {
   "cell_type": "code",
   "execution_count": 38,
   "metadata": {},
   "outputs": [],
   "source": [
    "model.reactions.AMAOTr.add_metabolites({\n",
    "    model.metabolites.get_by_id('8aonn_c'):-1,\n",
    "    model.metabolites.amet_c:-1,\n",
    "    model.metabolites.dann_c:1,\n",
    "    model.metabolites.amob_c:1\n",
    "})"
   ]
  },
  {
   "cell_type": "code",
   "execution_count": 39,
   "metadata": {
    "scrolled": true
   },
   "outputs": [
    {
     "data": {
      "text/html": [
       "\n",
       "        <table>\n",
       "            <tr>\n",
       "                <td><strong>Reaction identifier</strong></td><td>DM_amob_c</td>\n",
       "            </tr><tr>\n",
       "                <td><strong>Name</strong></td><td>S-Adenosyl-4-methylthio-2-oxobutanoate sink</td>\n",
       "            </tr><tr>\n",
       "                <td><strong>Memory address</strong></td>\n",
       "                <td>0x014ff445f308</td>\n",
       "            </tr><tr>\n",
       "                <td><strong>Stoichiometry</strong></td>\n",
       "                <td>\n",
       "                    <p style='text-align:right'>amob_c --> </p>\n",
       "                    <p style='text-align:right'>S-Adenosyl-4-methylthio-2-oxobutanoate --> </p>\n",
       "                </td>\n",
       "            </tr><tr>\n",
       "                <td><strong>GPR</strong></td><td></td>\n",
       "            </tr><tr>\n",
       "                <td><strong>Lower bound</strong></td><td>0</td>\n",
       "            </tr><tr>\n",
       "                <td><strong>Upper bound</strong></td><td>1000</td>\n",
       "            </tr>\n",
       "        </table>\n",
       "        "
      ],
      "text/plain": [
       "<Reaction DM_amob_c at 0x14ff445f308>"
      ]
     },
     "execution_count": 39,
     "metadata": {},
     "output_type": "execute_result"
    }
   ],
   "source": [
    "#here I need to add a sink for the little bit on amob_c that is formed, as there is no other indication as to what happens with this metabolite.\n",
    "model.add_boundary(model.metabolites.amob_c, type = 'sink', reaction_id = 'DM_amob_c', lb = 0, ub = 1000, sbo_term = 'SBO:0000628')"
   ]
  },
  {
   "cell_type": "markdown",
   "metadata": {},
   "source": [
    "The 8-Amino-7-oxononanoate is made from pimeloyl-ACP or pimeloyl-Coa. I need to check where this pimeloyl-ACP/CoA met is and where it comes from. Manandhar et al. (2017,  doi:10.1111/mmi.13648 ) have shown that this comes from pimelate, via the BioW enzyme in B. subtilis. \n",
    "The same article argues that the pimelate-Coa is produced via pimeloyl-ACP. Then BioI is a cytochrome P450 which can convert a long chain acyl-carrier protein into the desired pimeloyl-ACP. Blasting the B. sub BioI against our strains genome gives a significant hit. As we have no other indication how it may go in our strain, this is the best bet we have.\n",
    "\n",
    "So I will add the conversion from pimeloyl-Coa to the 8aonn_c metabolite. And create pimeloyl synthesis through the pimeloyl-ACP and this from a long-chain fatty acid."
   ]
  },
  {
   "cell_type": "code",
   "execution_count": 40,
   "metadata": {},
   "outputs": [],
   "source": [
    "#Add pimeloyl-Coa met\n",
    "model.add_metabolites(Metabolite(id='pimcoa_c', name = 'Pimeloyl-CoA', compartment = 'c', formula = 'C28H46N7O19P3S', charge = 0))"
   ]
  },
  {
   "cell_type": "code",
   "execution_count": 41,
   "metadata": {},
   "outputs": [],
   "source": [
    "model.metabolites.pimcoa_c.annotation['kegg.compound'] = 'C01063'\n",
    "model.metabolites.pimcoa_c.annotation['chebi'] = 'CHEBI:15504'\n",
    "model.metabolites.pimcoa_c.annotation['sbo'] = 'SBO:0000247'"
   ]
  },
  {
   "cell_type": "code",
   "execution_count": 42,
   "metadata": {},
   "outputs": [],
   "source": [
    "#add AOXSr reaction\n",
    "model.add_reaction(Reaction(id='AOXSr', name= '8-amino-7-oxononanoate synthase'))"
   ]
  },
  {
   "cell_type": "code",
   "execution_count": 43,
   "metadata": {},
   "outputs": [],
   "source": [
    "model.reactions.AOXSr.annotation['sbo']= 'SBO:0000176'\n",
    "model.reactions.AOXSr.annotation['kegg.reaction']='R03210'\n",
    "model.reactions.AOXSr.annotation['ec-code']= '2.3.1.47'"
   ]
  },
  {
   "cell_type": "code",
   "execution_count": 44,
   "metadata": {},
   "outputs": [],
   "source": [
    "model.groups.get_by_id('00780 - Biotin metabolism').add_members(model.reactions.AOXSr)"
   ]
  },
  {
   "cell_type": "code",
   "execution_count": 45,
   "metadata": {},
   "outputs": [],
   "source": [
    "model.reactions.AOXSr.add_metabolites({\n",
    "    model.metabolites.ala__L_c:-1,\n",
    "    model.metabolites.pimcoa_c:-1,\n",
    "    model.metabolites.get_by_id('8aonn_c'):1,\n",
    "    model.metabolites.coa_c:1,\n",
    "    model.metabolites.co2_c:1,\n",
    "    model.metabolites.h_c:4\n",
    "})"
   ]
  },
  {
   "cell_type": "code",
   "execution_count": 46,
   "metadata": {},
   "outputs": [],
   "source": [
    "#add pimeloyl-ACP met\n",
    "model.add_metabolites(Metabolite(id='pimACP_c', name = 'Pimeloyl-[acyl-carrier protein]', compartment = 'c', formula = 'C18H31N2O10PRS', charge = -1))"
   ]
  },
  {
   "cell_type": "code",
   "execution_count": 47,
   "metadata": {},
   "outputs": [],
   "source": [
    "model.metabolites.pimACP_c.annotation = model_e_coli.metabolites.pimACP_c.annotation"
   ]
  },
  {
   "cell_type": "code",
   "execution_count": 48,
   "metadata": {},
   "outputs": [],
   "source": [
    "#add Coa to ACP change\n",
    "model.add_reaction(Reaction(id='PMEACP', name = 'Pimelate-Coa:ACP transferase'))"
   ]
  },
  {
   "cell_type": "code",
   "execution_count": 49,
   "metadata": {},
   "outputs": [],
   "source": [
    "model.reactions.PMEACP.annotation['sbo'] = 'SBO:0000176'"
   ]
  },
  {
   "cell_type": "code",
   "execution_count": 50,
   "metadata": {},
   "outputs": [],
   "source": [
    "model.groups.get_by_id('00780 - Biotin metabolism').add_members(model.reactions.PMEACP)"
   ]
  },
  {
   "cell_type": "code",
   "execution_count": 51,
   "metadata": {},
   "outputs": [],
   "source": [
    "model.reactions.PMEACP.add_metabolites({\n",
    "    model.metabolites.pimcoa_c:-1,\n",
    "    model.metabolites.ACP_c:-1,\n",
    "    model.metabolites.pimACP_c:1,\n",
    "    model.metabolites.coa_c:1,\n",
    "    model.metabolites.h_c:4\n",
    "})"
   ]
  },
  {
   "cell_type": "code",
   "execution_count": 52,
   "metadata": {},
   "outputs": [],
   "source": [
    "model.reactions.PMEACP.bounds = (-1000,1000)"
   ]
  },
  {
   "cell_type": "markdown",
   "metadata": {},
   "source": [
    "Stok and De Voss (2000, doi:10.1006/abbi.2000.2067) have shown that the B. subtilis BioI has predominant preference for C16-fatty acid chains. So we will use this to assume the pimeloyl-ACP is made from the cleavage of the C16-ACP metabolite. This would result in the formation of nonanal: an aldehyde aóften used in essential oils. One reason why the resulting aldehydes that have been formed from this reaction are poorly studied is because they are hard to measure. They are often volatile or are oxidized to the corresponding acid. FOr that reason, as we would have no clear indication what happens with the Nonanal, i will add a sink reaction for it. Again, this is only very small amounts of carbon we would loose.But this is better than adding incorrect pathways here."
   ]
  },
  {
   "cell_type": "code",
   "execution_count": 53,
   "metadata": {},
   "outputs": [],
   "source": [
    "#add nonanal metabolite\n",
    "model.add_metabolites(Metabolite(id='nonal_c', name = 'Nonanal', compartment = 'c', charge = 0, formula = 'C9H18O'))"
   ]
  },
  {
   "cell_type": "code",
   "execution_count": 54,
   "metadata": {},
   "outputs": [],
   "source": [
    "model.metabolites.nonal_c.annotation = model_b_sub.metabolites.nonal_c.annotation"
   ]
  },
  {
   "cell_type": "code",
   "execution_count": 55,
   "metadata": {},
   "outputs": [],
   "source": [
    "#add reaction\n",
    "model.add_reaction(Reaction(id='PMES', name = 'pimeloyl-[acyl-carrier protein] synthase'))"
   ]
  },
  {
   "cell_type": "code",
   "execution_count": 56,
   "metadata": {},
   "outputs": [],
   "source": [
    "model.reactions.PMES.annotation['sbo']= 'SBO:0000176'\n",
    "model.reactions.PMES.annotation['ec-code']= '1.14.14.46'\n",
    "model.reactions.PMES.annotation['kegg.reaction']= 'R10123'"
   ]
  },
  {
   "cell_type": "code",
   "execution_count": 57,
   "metadata": {},
   "outputs": [],
   "source": [
    "model.groups.get_by_id('00780 - Biotin metabolism').add_members(model.reactions.PMES)"
   ]
  },
  {
   "cell_type": "code",
   "execution_count": 58,
   "metadata": {},
   "outputs": [],
   "source": [
    "model.reactions.PMES.add_metabolites({\n",
    "    model.metabolites.palmACP_c:-1,\n",
    "    model.metabolites.fmnh2_c:-2,\n",
    "    model.metabolites.o2_c:-3,\n",
    "    model.metabolites.pimACP_c:1,\n",
    "    model.metabolites.nonal_c:1,\n",
    "    model.metabolites.fmn_c:2,\n",
    "    model.metabolites.h2o_c:3\n",
    "})"
   ]
  },
  {
   "cell_type": "markdown",
   "metadata": {},
   "source": [
    "Finally, need to add the nonanal sink."
   ]
  },
  {
   "cell_type": "code",
   "execution_count": 59,
   "metadata": {},
   "outputs": [
    {
     "data": {
      "text/html": [
       "\n",
       "        <table>\n",
       "            <tr>\n",
       "                <td><strong>Reaction identifier</strong></td><td>DM_nonal_c</td>\n",
       "            </tr><tr>\n",
       "                <td><strong>Name</strong></td><td>Nonanal sink</td>\n",
       "            </tr><tr>\n",
       "                <td><strong>Memory address</strong></td>\n",
       "                <td>0x014ff44ed188</td>\n",
       "            </tr><tr>\n",
       "                <td><strong>Stoichiometry</strong></td>\n",
       "                <td>\n",
       "                    <p style='text-align:right'>nonal_c --> </p>\n",
       "                    <p style='text-align:right'>Nonanal --> </p>\n",
       "                </td>\n",
       "            </tr><tr>\n",
       "                <td><strong>GPR</strong></td><td></td>\n",
       "            </tr><tr>\n",
       "                <td><strong>Lower bound</strong></td><td>0</td>\n",
       "            </tr><tr>\n",
       "                <td><strong>Upper bound</strong></td><td>1000</td>\n",
       "            </tr>\n",
       "        </table>\n",
       "        "
      ],
      "text/plain": [
       "<Reaction DM_nonal_c at 0x14ff44ed188>"
      ]
     },
     "execution_count": 59,
     "metadata": {},
     "output_type": "execute_result"
    }
   ],
   "source": [
    "model.add_boundary(model.metabolites.nonal_c, type = 'sink', reaction_id = 'DM_nonal_c', lb = 0, ub = 1000, sbo_term = 'SBO:0000628')"
   ]
  },
  {
   "cell_type": "markdown",
   "metadata": {},
   "source": [
    "Now the ability to grow has been restored, due to the complete Biotin pathway. Though, note two demands had to be added here."
   ]
  },
  {
   "cell_type": "code",
   "execution_count": 60,
   "metadata": {},
   "outputs": [],
   "source": [
    "#save&commit\n",
    "cobra.io.write_sbml_model(model,'../model/g-thermo.xml')"
   ]
  },
  {
   "cell_type": "markdown",
   "metadata": {},
   "source": [
    "## Vitamin B12\n",
    "'Coenzyme B12 is involved in methylmalonylCoA mutase and methionine synthase. I am not sure how critical the former is but methionine synthase is essential on a minimal medium. So a small amount of B12 is needed.' Argument from David.\n",
    "\n",
    "So considering that, vitamin B12 should be added into the biomass reaction. E. coli has the adobcbl present with a stoichiometry of -0.000223 mmol/gCDW. This could be a good baseline to use as estimate."
   ]
  },
  {
   "cell_type": "code",
   "execution_count": 5,
   "metadata": {},
   "outputs": [],
   "source": [
    "#add vitB12 to biomass, see if it still grows to check biosynthesis pathway\n",
    "model.reactions.biomass.add_metabolites({\n",
    "    model.metabolites.adocbl_c:-0.000223\n",
    "})"
   ]
  },
  {
   "cell_type": "markdown",
   "metadata": {},
   "source": [
    "Adding the vitB12 kills biomass accumulation, so now we have to figure out where in the pathway this breaks. "
   ]
  },
  {
   "cell_type": "code",
   "execution_count": 6,
   "metadata": {},
   "outputs": [
    {
     "name": "stdout",
     "output_type": "stream",
     "text": [
      "0.6996423935419391\n"
     ]
    }
   ],
   "source": [
    "with model:\n",
    "    model.add_boundary(model.metabolites.rdmbzi_c, type = 'sink', lb = -1000, ub = 1000, reaction_id = 'test')\n",
    "    print (model.optimize().objective_value)\n",
    "    "
   ]
  },
  {
   "cell_type": "markdown",
   "metadata": {},
   "source": [
    "Already we see that the step from agdpcbi_c into adocbl_c causes an issue. Supplying rdmbzi_c causes the problem, so likely something prevents this metabolite from being made that blocks this whole pathway. supplying dmbzid_c also alows growth, so it must be somewhere in the synthesis of this that the issue arises. This metabolite can be made from FMNH2. It seems this reaction may be missing. So I need to check the presence of EC 1.13.11.79 in our strain.\n",
    "\n",
    "The presence of this enzyme has been confirmed only in Propionibacterium freudenreichii. running a blast with this enzyme showed that there is a significant hit in the genome of our organism. This together with the experimental evidence that the strain can grow aerobically without the addition of VitB12 highloights that this enzyme should likely be present. So I will add it here.\n",
    "\n",
    "This reaction creates a side product: dialurate. I've tried to find out what happens with this metabolite in metabolism, but cannot find any indication in literature what would happen. Therefore, I will have to add a demand reaction here. This gap can later be filled when more knowledge is acquired.\n",
    "\n",
    "Note: this enzyme is oxygen dependent and so can be an issue when growing anaerobically. "
   ]
  },
  {
   "cell_type": "code",
   "execution_count": 7,
   "metadata": {},
   "outputs": [],
   "source": [
    "#add dialurate metabolite\n",
    "model.add_metabolites(Metabolite(id='diur_c', name = 'dialurate', compartment = 'c', charge = -1, formula = 'C4H3N2O4'))"
   ]
  },
  {
   "cell_type": "code",
   "execution_count": 8,
   "metadata": {},
   "outputs": [],
   "source": [
    "model.metabolites.diur_c.annotation['sbo'] = 'SBO:0000247'\n",
    "model.metabolites.diur_c.annotation['chebi'] = 'CHEBI:140629'"
   ]
  },
  {
   "cell_type": "code",
   "execution_count": 9,
   "metadata": {},
   "outputs": [],
   "source": [
    "#add reaction\n",
    "model.add_reaction(Reaction(id = 'BLUB', name = '5,6-dimethylbenzimidazole synthase'))"
   ]
  },
  {
   "cell_type": "code",
   "execution_count": 10,
   "metadata": {},
   "outputs": [],
   "source": [
    "model.reactions.BLUB.annotation['sbo'] = 'SBO:0000176'\n",
    "model.reactions.BLUB.annotation['ec-code'] = '1.13.11.79'\n",
    "model.reactions.BLUB.annotation['kegg.reaction'] = 'R09083'"
   ]
  },
  {
   "cell_type": "code",
   "execution_count": 11,
   "metadata": {},
   "outputs": [],
   "source": [
    "model.reactions.BLUB.add_metabolites({\n",
    "    model.metabolites.fmnh2_c:-1,\n",
    "    model.metabolites.o2_c:-1,\n",
    "    model.metabolites.dmbzid_c:1,\n",
    "    model.metabolites.e4p_c:1,\n",
    "    model.metabolites.diur_c:1,\n",
    "    model.metabolites.h_c:1\n",
    "})"
   ]
  },
  {
   "cell_type": "code",
   "execution_count": 12,
   "metadata": {},
   "outputs": [
    {
     "data": {
      "text/html": [
       "\n",
       "        <table>\n",
       "            <tr>\n",
       "                <td><strong>Reaction identifier</strong></td><td>DM_diur_c</td>\n",
       "            </tr><tr>\n",
       "                <td><strong>Name</strong></td><td>dialurate sink</td>\n",
       "            </tr><tr>\n",
       "                <td><strong>Memory address</strong></td>\n",
       "                <td>0x015b8f07e7c8</td>\n",
       "            </tr><tr>\n",
       "                <td><strong>Stoichiometry</strong></td>\n",
       "                <td>\n",
       "                    <p style='text-align:right'>diur_c --> </p>\n",
       "                    <p style='text-align:right'>dialurate --> </p>\n",
       "                </td>\n",
       "            </tr><tr>\n",
       "                <td><strong>GPR</strong></td><td></td>\n",
       "            </tr><tr>\n",
       "                <td><strong>Lower bound</strong></td><td>0</td>\n",
       "            </tr><tr>\n",
       "                <td><strong>Upper bound</strong></td><td>1000</td>\n",
       "            </tr>\n",
       "        </table>\n",
       "        "
      ],
      "text/plain": [
       "<Reaction DM_diur_c at 0x15b8f07e7c8>"
      ]
     },
     "execution_count": 12,
     "metadata": {},
     "output_type": "execute_result"
    }
   ],
   "source": [
    "#add demand for dialurate\n",
    "model.add_boundary(model.metabolites.diur_c, type = 'sink', reaction_id = 'DM_diur_c', lb = 0, ub = 1000, sbo_term = 'SBO:0000628')"
   ]
  },
  {
   "cell_type": "code",
   "execution_count": 13,
   "metadata": {},
   "outputs": [
    {
     "data": {
      "text/html": [
       "<div>\n",
       "<style scoped>\n",
       "    .dataframe tbody tr th:only-of-type {\n",
       "        vertical-align: middle;\n",
       "    }\n",
       "\n",
       "    .dataframe tbody tr th {\n",
       "        vertical-align: top;\n",
       "    }\n",
       "\n",
       "    .dataframe thead th {\n",
       "        text-align: right;\n",
       "    }\n",
       "</style>\n",
       "<table border=\"1\" class=\"dataframe\">\n",
       "  <thead>\n",
       "    <tr style=\"text-align: right;\">\n",
       "      <th></th>\n",
       "      <th></th>\n",
       "      <th>PERCENT</th>\n",
       "      <th>FLUX</th>\n",
       "      <th>REACTION_STRING</th>\n",
       "    </tr>\n",
       "    <tr>\n",
       "      <th>RXN_STAT</th>\n",
       "      <th>ID</th>\n",
       "      <th></th>\n",
       "      <th></th>\n",
       "      <th></th>\n",
       "    </tr>\n",
       "  </thead>\n",
       "  <tbody>\n",
       "    <tr>\n",
       "      <th>PRODUCING</th>\n",
       "      <th>BLUB</th>\n",
       "      <td>100.0</td>\n",
       "      <td>0.000156</td>\n",
       "      <td>fmnh2_c + o2_c --&gt; diur_c + dmbzid_c + e4p_c +...</td>\n",
       "    </tr>\n",
       "    <tr>\n",
       "      <th>CONSUMING</th>\n",
       "      <th>DM_diur_c</th>\n",
       "      <td>100.0</td>\n",
       "      <td>0.000156</td>\n",
       "      <td>diur_c --&gt;</td>\n",
       "    </tr>\n",
       "  </tbody>\n",
       "</table>\n",
       "</div>"
      ],
      "text/plain": [
       "<cobra.core.summary.metabolite_summary.MetaboliteSummary at 0x15b8f08b4c8>"
      ]
     },
     "execution_count": 13,
     "metadata": {},
     "output_type": "execute_result"
    }
   ],
   "source": [
    "#check demand carries very little flux\n",
    "model.metabolites.diur_c.summary()"
   ]
  },
  {
   "cell_type": "markdown",
   "metadata": {},
   "source": [
    "With fixing this issue, we now have restored growth when the VitB12 requirement is in the biomass reaction. Doing this should also have unblocked the whole vitamin B12 biosythesis pathway, which should decrease the % of blocked reactions by a few % to 14%. See memote report '../reports/2020-05-18-c67aa07.html.\n"
   ]
  },
  {
   "cell_type": "code",
   "execution_count": 14,
   "metadata": {},
   "outputs": [],
   "source": [
    "#save&commit\n",
    "cobra.io.write_sbml_model(model,'../model/g-thermo.xml')"
   ]
  },
  {
   "cell_type": "markdown",
   "metadata": {},
   "source": [
    "Here we add the vitamin B12 requirement to the biomass reaction. However, I've also noticed that we should revist the complete VitB12 metabolism, as this is currently going through the aerobic pathway. Beata mentions something about this in her thesis. So I will make sure to look into this in another notebook."
   ]
  },
  {
   "cell_type": "markdown",
   "metadata": {},
   "source": [
    "## Spermine (sprm_c) and spermidine (spmd_c)\n",
    "Geobacilli ensure RNA and DNA stability in high temperatures through use of protamines, spermidines, spermines, tRNA methyltransferase and spermidine synthase. Therefore we need to add the spermidine and spermine into the biomass equation, as these are two crucial factors involved in the thermophili of the genus. \n",
    "\n",
    "__Stoichiometry__\n",
    "A paper by Maheswar et al. (2004, doi:10.1111/j.1365-2672.2004.02395.x ) haslooked into the distribution of putrescince, spermine and spermidine in Geobacillus thermoleovorans over cultivation time and also at different temperatures. Here we see that The aboslute levels of the compounds really change at different tempertures and between growth vs. sporulation.\n",
    "From a physiological point of view, it makes sense to estimate the stoichiometries in our model based on data of growing strains at 60°C. From the paper, we can then estimate the stoichiometeries to be:\n",
    "- spermine: 2.8 umol/gCDW = -0.0028 mmol/gCDW\n",
    "- spermidine: 1.2 umol/gCDW = -0.0012 mmol/gCDW\n",
    "- putrescine: 6.0 umol/gCDW = -0.006 mmol/gCDW\n",
    "\n",
    "Previously, we estimated putrescine levels from the e. coli model. This lead to a coefficient of -0.03327 mmol/gCDW. This is quite a bit higher than what the data shows, so this should be changed.\n",
    "In E. coli the spermidine is also present in the biomass reaction at a stoichiometry of -0.006744 mmol/gCDW. This is in the same range as the data we have found, so I will use the ratios found in the paper. "
   ]
  },
  {
   "cell_type": "code",
   "execution_count": 6,
   "metadata": {},
   "outputs": [],
   "source": [
    "model.reactions.biomass.add_metabolites({\n",
    "    model.metabolites.sprm_c: -0.0028,\n",
    "    model.metabolites.spmd_c: -0.0012,\n",
    "    model.metabolites.ptrc_c: 0.02727\n",
    "})"
   ]
  },
  {
   "cell_type": "code",
   "execution_count": 7,
   "metadata": {
    "scrolled": true
   },
   "outputs": [
    {
     "data": {
      "text/plain": [
       "0.7005524280322071"
      ]
     },
     "execution_count": 7,
     "metadata": {},
     "output_type": "execute_result"
    }
   ],
   "source": [
    "model.optimize().objective_value"
   ]
  },
  {
   "cell_type": "markdown",
   "metadata": {},
   "source": [
    "The model still grows fine, so this would indicate that the biosyntheis pathways here are all complete. Then we can save & commit and move on to the next element to add."
   ]
  },
  {
   "cell_type": "code",
   "execution_count": 8,
   "metadata": {},
   "outputs": [],
   "source": [
    "cobra.io.write_sbml_model(model,'../model/g-thermo.xml')"
   ]
  },
  {
   "cell_type": "markdown",
   "metadata": {},
   "source": [
    "## Heme\n",
    " porphyrins are critical co-factors in many reactions, leading us to believe that this should be a biomass requirement. Specifically, heme should be included in the biomass demand. The E. coli model has three different hemes (hemeO, protoheme, and siroheme) present in the biomass reaction, each at the same stoichiometry: -0.000223. Our strain has all the genes annotated that are necessary for the production of these compounds, so it may make sense to add the three different heme types into our biomass equation.\n",
    " \n",
    "hemeO and pheme can be added to the biomass reaction without any issue. But siroheme is currently not present in the model. So i will add this metabolite and check the pathway to it here.\n",
    "\n",
    "Note: good, extensive review on heme biosynthesis in prokaryotes:Dailey et al., 2017 (. https://doi.org/10.1128/MMBR.00048-16 )"
   ]
  },
  {
   "cell_type": "code",
   "execution_count": 2,
   "metadata": {},
   "outputs": [],
   "source": [
    "model = cobra.io.read_sbml_model('../model/g-thermo.xml')"
   ]
  },
  {
   "cell_type": "code",
   "execution_count": 3,
   "metadata": {},
   "outputs": [],
   "source": [
    "#add sheme metabolite\n",
    "model.add_metabolites(Metabolite(id= 'sheme_c', name = 'Siroheme', compartment = 'c', formula = 'C42H36FeN4O16', charge = -8))"
   ]
  },
  {
   "cell_type": "code",
   "execution_count": 6,
   "metadata": {},
   "outputs": [],
   "source": [
    "model.metabolites.sheme_c.annotation = model_e_coli.metabolites.sheme_c.annotation"
   ]
  },
  {
   "cell_type": "code",
   "execution_count": 7,
   "metadata": {},
   "outputs": [],
   "source": [
    "model.reactions.biomass.add_metabolites({\n",
    "    model.metabolites.hemeO_c: -0.000223,\n",
    "    model.metabolites.pheme_c: -0.000223,\n",
    "    model.metabolites.sheme_c: -0.000223\n",
    "})"
   ]
  },
  {
   "cell_type": "markdown",
   "metadata": {},
   "source": [
    "sheme should connect through Sirohydrochlorin, a metabolite also used in the anaerobic pathway of vitamin B12 synthesis."
   ]
  },
  {
   "cell_type": "code",
   "execution_count": 8,
   "metadata": {},
   "outputs": [],
   "source": [
    "#add sirohydrochlorin met\n",
    "model.add_metabolites(Metabolite(id='scl_c', name = 'Sirohydrochlorin', compartment = 'c', formula ='C42H39N4O16', charge = -7))  "
   ]
  },
  {
   "cell_type": "code",
   "execution_count": 9,
   "metadata": {},
   "outputs": [],
   "source": [
    "model.metabolites.scl_c.annotation = model_e_coli.metabolites.scl_c.annotation"
   ]
  },
  {
   "cell_type": "code",
   "execution_count": 10,
   "metadata": {},
   "outputs": [],
   "source": [
    "#add reaction from scl to sheme\n",
    "model.add_reaction(Reaction(id='SHCHF', name = 'Sirohydrochlorin ferrochelatase'))"
   ]
  },
  {
   "cell_type": "code",
   "execution_count": 11,
   "metadata": {},
   "outputs": [],
   "source": [
    "model.reactions.SHCHF.annotation = model_e_coli.reactions.SHCHF.annotation"
   ]
  },
  {
   "cell_type": "code",
   "execution_count": 12,
   "metadata": {},
   "outputs": [
    {
     "name": "stderr",
     "output_type": "stream",
     "text": [
      "C:\\Users\\vivmol\\AppData\\Local\\Continuum\\anaconda3\\envs\\g-thermo\\lib\\site-packages\\cobra\\core\\group.py:93: UserWarning:\n",
      "\n",
      "need to pass in a list\n",
      "\n"
     ]
    }
   ],
   "source": [
    "model.groups.get_by_id('00860 - Porphyrin and chlorophyll metabolism').add_members(model.reactions.SHCHF)"
   ]
  },
  {
   "cell_type": "code",
   "execution_count": 13,
   "metadata": {},
   "outputs": [],
   "source": [
    "model.reactions.SHCHF.add_metabolites({\n",
    "    model.metabolites.fe2_c :-1,\n",
    "    model.metabolites.scl_c:-1,\n",
    "    model.metabolites.h_c:3,\n",
    "    model.metabolites.sheme_c:1\n",
    "})"
   ]
  },
  {
   "cell_type": "code",
   "execution_count": 14,
   "metadata": {},
   "outputs": [],
   "source": [
    "#add reaction to scl from precorrin2\n",
    "model.add_reaction(Reaction(id='SHCHD2', name = 'Sirohydrochlorin dehydrogenase (NAD)'))"
   ]
  },
  {
   "cell_type": "code",
   "execution_count": 15,
   "metadata": {},
   "outputs": [],
   "source": [
    "model.reactions.SHCHD2.annotation = model_e_coli.reactions.SHCHD2.annotation"
   ]
  },
  {
   "cell_type": "code",
   "execution_count": 16,
   "metadata": {},
   "outputs": [],
   "source": [
    "model.groups.get_by_id('00860 - Porphyrin and chlorophyll metabolism').add_members(model.reactions.SHCHD2)"
   ]
  },
  {
   "cell_type": "code",
   "execution_count": 17,
   "metadata": {},
   "outputs": [],
   "source": [
    "model.reactions.SHCHD2.add_metabolites({\n",
    "    model.metabolites.shcl_c:-1,\n",
    "    model.metabolites.nad_c:-1,\n",
    "    model.metabolites.scl_c:1,\n",
    "    model.metabolites.nadh_c:1\n",
    "})"
   ]
  },
  {
   "cell_type": "code",
   "execution_count": 18,
   "metadata": {},
   "outputs": [
    {
     "data": {
      "text/plain": [
       "0.7002547478325231"
      ]
     },
     "execution_count": 18,
     "metadata": {},
     "output_type": "execute_result"
    }
   ],
   "source": [
    "model.optimize().objective_value"
   ]
  },
  {
   "cell_type": "markdown",
   "metadata": {},
   "source": [
    "Now we've fixed the biosynthesis and our model can grow again. "
   ]
  },
  {
   "cell_type": "code",
   "execution_count": 19,
   "metadata": {},
   "outputs": [],
   "source": [
    "cobra.io.write_sbml_model(model,'../model/g-thermo.xml')"
   ]
  },
  {
   "cell_type": "code",
   "execution_count": null,
   "metadata": {},
   "outputs": [],
   "source": []
  }
 ],
 "metadata": {
  "kernelspec": {
   "display_name": "Python 3",
   "language": "python",
   "name": "python3"
  },
  "language_info": {
   "codemirror_mode": {
    "name": "ipython",
    "version": 3
   },
   "file_extension": ".py",
   "mimetype": "text/x-python",
   "name": "python",
   "nbconvert_exporter": "python",
   "pygments_lexer": "ipython3",
   "version": "3.7.7"
  }
 },
 "nbformat": 4,
 "nbformat_minor": 4
}
