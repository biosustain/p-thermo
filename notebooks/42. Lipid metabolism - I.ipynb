{
 "cells": [
  {
   "cell_type": "markdown",
   "metadata": {},
   "source": [
    "# Introduction\n",
    "We need to properly include lipid metabolism in the model. For this we will use the restrictive approach, where we need to ensure that we can produce the three lipid heads mentioned in beata's thesis. Then we need to generate a 'general'-acylcoa molecule that reflects the distribution of fatty acids found in te Tang et al. 2009 paper. We can then combine these two into the three 'average' glycerolipids and then include these into the biomass reaction.\n",
    "\n",
    "For the branch chain fatty acids, we need to find some data that can specify in our strain what distribution of branches fatty acids we have. For now, in this notebook I will focus on first getting the phopholipid heads in place, then make sure the production of our 'general' acylcoa is correct and combine them together into our three lipids that can be added into biomass."
   ]
  },
  {
   "cell_type": "code",
   "execution_count": 1,
   "metadata": {},
   "outputs": [
    {
     "data": {
      "application/javascript": [
       "\n",
       "(function(root) {\n",
       "  function now() {\n",
       "    return new Date();\n",
       "  }\n",
       "\n",
       "  var force = true;\n",
       "\n",
       "  if (typeof root._bokeh_onload_callbacks === \"undefined\" || force === true) {\n",
       "    root._bokeh_onload_callbacks = [];\n",
       "    root._bokeh_is_loading = undefined;\n",
       "  }\n",
       "\n",
       "  var JS_MIME_TYPE = 'application/javascript';\n",
       "  var HTML_MIME_TYPE = 'text/html';\n",
       "  var EXEC_MIME_TYPE = 'application/vnd.bokehjs_exec.v0+json';\n",
       "  var CLASS_NAME = 'output_bokeh rendered_html';\n",
       "\n",
       "  /**\n",
       "   * Render data to the DOM node\n",
       "   */\n",
       "  function render(props, node) {\n",
       "    var script = document.createElement(\"script\");\n",
       "    node.appendChild(script);\n",
       "  }\n",
       "\n",
       "  /**\n",
       "   * Handle when an output is cleared or removed\n",
       "   */\n",
       "  function handleClearOutput(event, handle) {\n",
       "    var cell = handle.cell;\n",
       "\n",
       "    var id = cell.output_area._bokeh_element_id;\n",
       "    var server_id = cell.output_area._bokeh_server_id;\n",
       "    // Clean up Bokeh references\n",
       "    if (id != null && id in Bokeh.index) {\n",
       "      Bokeh.index[id].model.document.clear();\n",
       "      delete Bokeh.index[id];\n",
       "    }\n",
       "\n",
       "    if (server_id !== undefined) {\n",
       "      // Clean up Bokeh references\n",
       "      var cmd = \"from bokeh.io.state import curstate; print(curstate().uuid_to_server['\" + server_id + \"'].get_sessions()[0].document.roots[0]._id)\";\n",
       "      cell.notebook.kernel.execute(cmd, {\n",
       "        iopub: {\n",
       "          output: function(msg) {\n",
       "            var id = msg.content.text.trim();\n",
       "            if (id in Bokeh.index) {\n",
       "              Bokeh.index[id].model.document.clear();\n",
       "              delete Bokeh.index[id];\n",
       "            }\n",
       "          }\n",
       "        }\n",
       "      });\n",
       "      // Destroy server and session\n",
       "      var cmd = \"import bokeh.io.notebook as ion; ion.destroy_server('\" + server_id + \"')\";\n",
       "      cell.notebook.kernel.execute(cmd);\n",
       "    }\n",
       "  }\n",
       "\n",
       "  /**\n",
       "   * Handle when a new output is added\n",
       "   */\n",
       "  function handleAddOutput(event, handle) {\n",
       "    var output_area = handle.output_area;\n",
       "    var output = handle.output;\n",
       "\n",
       "    // limit handleAddOutput to display_data with EXEC_MIME_TYPE content only\n",
       "    if ((output.output_type != \"display_data\") || (!output.data.hasOwnProperty(EXEC_MIME_TYPE))) {\n",
       "      return\n",
       "    }\n",
       "\n",
       "    var toinsert = output_area.element.find(\".\" + CLASS_NAME.split(' ')[0]);\n",
       "\n",
       "    if (output.metadata[EXEC_MIME_TYPE][\"id\"] !== undefined) {\n",
       "      toinsert[toinsert.length - 1].firstChild.textContent = output.data[JS_MIME_TYPE];\n",
       "      // store reference to embed id on output_area\n",
       "      output_area._bokeh_element_id = output.metadata[EXEC_MIME_TYPE][\"id\"];\n",
       "    }\n",
       "    if (output.metadata[EXEC_MIME_TYPE][\"server_id\"] !== undefined) {\n",
       "      var bk_div = document.createElement(\"div\");\n",
       "      bk_div.innerHTML = output.data[HTML_MIME_TYPE];\n",
       "      var script_attrs = bk_div.children[0].attributes;\n",
       "      for (var i = 0; i < script_attrs.length; i++) {\n",
       "        toinsert[toinsert.length - 1].firstChild.setAttribute(script_attrs[i].name, script_attrs[i].value);\n",
       "        toinsert[toinsert.length - 1].firstChild.textContent = bk_div.children[0].textContent\n",
       "      }\n",
       "      // store reference to server id on output_area\n",
       "      output_area._bokeh_server_id = output.metadata[EXEC_MIME_TYPE][\"server_id\"];\n",
       "    }\n",
       "  }\n",
       "\n",
       "  function register_renderer(events, OutputArea) {\n",
       "\n",
       "    function append_mime(data, metadata, element) {\n",
       "      // create a DOM node to render to\n",
       "      var toinsert = this.create_output_subarea(\n",
       "        metadata,\n",
       "        CLASS_NAME,\n",
       "        EXEC_MIME_TYPE\n",
       "      );\n",
       "      this.keyboard_manager.register_events(toinsert);\n",
       "      // Render to node\n",
       "      var props = {data: data, metadata: metadata[EXEC_MIME_TYPE]};\n",
       "      render(props, toinsert[toinsert.length - 1]);\n",
       "      element.append(toinsert);\n",
       "      return toinsert\n",
       "    }\n",
       "\n",
       "    /* Handle when an output is cleared or removed */\n",
       "    events.on('clear_output.CodeCell', handleClearOutput);\n",
       "    events.on('delete.Cell', handleClearOutput);\n",
       "\n",
       "    /* Handle when a new output is added */\n",
       "    events.on('output_added.OutputArea', handleAddOutput);\n",
       "\n",
       "    /**\n",
       "     * Register the mime type and append_mime function with output_area\n",
       "     */\n",
       "    OutputArea.prototype.register_mime_type(EXEC_MIME_TYPE, append_mime, {\n",
       "      /* Is output safe? */\n",
       "      safe: true,\n",
       "      /* Index of renderer in `output_area.display_order` */\n",
       "      index: 0\n",
       "    });\n",
       "  }\n",
       "\n",
       "  // register the mime type if in Jupyter Notebook environment and previously unregistered\n",
       "  if (root.Jupyter !== undefined) {\n",
       "    var events = require('base/js/events');\n",
       "    var OutputArea = require('notebook/js/outputarea').OutputArea;\n",
       "\n",
       "    if (OutputArea.prototype.mime_types().indexOf(EXEC_MIME_TYPE) == -1) {\n",
       "      register_renderer(events, OutputArea);\n",
       "    }\n",
       "  }\n",
       "\n",
       "  \n",
       "  if (typeof (root._bokeh_timeout) === \"undefined\" || force === true) {\n",
       "    root._bokeh_timeout = Date.now() + 5000;\n",
       "    root._bokeh_failed_load = false;\n",
       "  }\n",
       "\n",
       "  var NB_LOAD_WARNING = {'data': {'text/html':\n",
       "     \"<div style='background-color: #fdd'>\\n\"+\n",
       "     \"<p>\\n\"+\n",
       "     \"BokehJS does not appear to have successfully loaded. If loading BokehJS from CDN, this \\n\"+\n",
       "     \"may be due to a slow or bad network connection. Possible fixes:\\n\"+\n",
       "     \"</p>\\n\"+\n",
       "     \"<ul>\\n\"+\n",
       "     \"<li>re-rerun `output_notebook()` to attempt to load from CDN again, or</li>\\n\"+\n",
       "     \"<li>use INLINE resources instead, as so:</li>\\n\"+\n",
       "     \"</ul>\\n\"+\n",
       "     \"<code>\\n\"+\n",
       "     \"from bokeh.resources import INLINE\\n\"+\n",
       "     \"output_notebook(resources=INLINE)\\n\"+\n",
       "     \"</code>\\n\"+\n",
       "     \"</div>\"}};\n",
       "\n",
       "  function display_loaded() {\n",
       "    var el = document.getElementById(null);\n",
       "    if (el != null) {\n",
       "      el.textContent = \"BokehJS is loading...\";\n",
       "    }\n",
       "    if (root.Bokeh !== undefined) {\n",
       "      if (el != null) {\n",
       "        el.textContent = \"BokehJS \" + root.Bokeh.version + \" successfully loaded.\";\n",
       "      }\n",
       "    } else if (Date.now() < root._bokeh_timeout) {\n",
       "      setTimeout(display_loaded, 100)\n",
       "    }\n",
       "  }\n",
       "\n",
       "\n",
       "  function run_callbacks() {\n",
       "    try {\n",
       "      root._bokeh_onload_callbacks.forEach(function(callback) {\n",
       "        if (callback != null)\n",
       "          callback();\n",
       "      });\n",
       "    } finally {\n",
       "      delete root._bokeh_onload_callbacks\n",
       "    }\n",
       "    console.debug(\"Bokeh: all callbacks have finished\");\n",
       "  }\n",
       "\n",
       "  function load_libs(css_urls, js_urls, callback) {\n",
       "    if (css_urls == null) css_urls = [];\n",
       "    if (js_urls == null) js_urls = [];\n",
       "\n",
       "    root._bokeh_onload_callbacks.push(callback);\n",
       "    if (root._bokeh_is_loading > 0) {\n",
       "      console.debug(\"Bokeh: BokehJS is being loaded, scheduling callback at\", now());\n",
       "      return null;\n",
       "    }\n",
       "    if (js_urls == null || js_urls.length === 0) {\n",
       "      run_callbacks();\n",
       "      return null;\n",
       "    }\n",
       "    console.debug(\"Bokeh: BokehJS not loaded, scheduling load and callback at\", now());\n",
       "    root._bokeh_is_loading = css_urls.length + js_urls.length;\n",
       "\n",
       "    function on_load() {\n",
       "      root._bokeh_is_loading--;\n",
       "      if (root._bokeh_is_loading === 0) {\n",
       "        console.debug(\"Bokeh: all BokehJS libraries/stylesheets loaded\");\n",
       "        run_callbacks()\n",
       "      }\n",
       "    }\n",
       "\n",
       "    function on_error() {\n",
       "      console.error(\"failed to load \" + url);\n",
       "    }\n",
       "\n",
       "    for (var i = 0; i < css_urls.length; i++) {\n",
       "      var url = css_urls[i];\n",
       "      const element = document.createElement(\"link\");\n",
       "      element.onload = on_load;\n",
       "      element.onerror = on_error;\n",
       "      element.rel = \"stylesheet\";\n",
       "      element.type = \"text/css\";\n",
       "      element.href = url;\n",
       "      console.debug(\"Bokeh: injecting link tag for BokehJS stylesheet: \", url);\n",
       "      document.body.appendChild(element);\n",
       "    }\n",
       "\n",
       "    const hashes = {\"https://cdn.bokeh.org/bokeh/release/bokeh-2.0.1.min.js\": \"JpP8FXbgAZLkfur7LiK3j9AGBhHNIvF742meBJrjO2ShJDhCG2I1uVvW+0DUtrmc\", \"https://cdn.bokeh.org/bokeh/release/bokeh-widgets-2.0.1.min.js\": \"xZlADit0Q04ISQEdKg2k3L4W9AwQBAuDs9nJL9fM/WwzL1tEU9VPNezOFX0nLEAz\", \"https://cdn.bokeh.org/bokeh/release/bokeh-tables-2.0.1.min.js\": \"4BuPRZkdMKSnj3zoxiNrQ86XgNw0rYmBOxe7nshquXwwcauupgBF2DHLVG1WuZlV\", \"https://cdn.bokeh.org/bokeh/release/bokeh-gl-2.0.1.min.js\": \"Dv1SQ87hmDqK6S5OhBf0bCuwAEvL5QYL0PuR/F1SPVhCS/r/abjkbpKDYL2zeM19\"};\n",
       "\n",
       "    for (var i = 0; i < js_urls.length; i++) {\n",
       "      var url = js_urls[i];\n",
       "      var element = document.createElement('script');\n",
       "      element.onload = on_load;\n",
       "      element.onerror = on_error;\n",
       "      element.async = false;\n",
       "      element.src = url;\n",
       "      if (url in hashes) {\n",
       "        element.crossOrigin = \"anonymous\";\n",
       "        element.integrity = \"sha384-\" + hashes[url];\n",
       "      }\n",
       "      console.debug(\"Bokeh: injecting script tag for BokehJS library: \", url);\n",
       "      document.head.appendChild(element);\n",
       "    }\n",
       "  };\n",
       "\n",
       "  function inject_raw_css(css) {\n",
       "    const element = document.createElement(\"style\");\n",
       "    element.appendChild(document.createTextNode(css));\n",
       "    document.body.appendChild(element);\n",
       "  }\n",
       "\n",
       "  \n",
       "  var js_urls = [\"https://cdn.bokeh.org/bokeh/release/bokeh-2.0.1.min.js\", \"https://cdn.bokeh.org/bokeh/release/bokeh-widgets-2.0.1.min.js\", \"https://cdn.bokeh.org/bokeh/release/bokeh-tables-2.0.1.min.js\", \"https://cdn.bokeh.org/bokeh/release/bokeh-gl-2.0.1.min.js\"];\n",
       "  var css_urls = [];\n",
       "  \n",
       "\n",
       "  var inline_js = [\n",
       "    function(Bokeh) {\n",
       "      Bokeh.set_log_level(\"info\");\n",
       "    },\n",
       "    function(Bokeh) {\n",
       "    \n",
       "    \n",
       "    }\n",
       "  ];\n",
       "\n",
       "  function run_inline_js() {\n",
       "    \n",
       "    if (root.Bokeh !== undefined || force === true) {\n",
       "      \n",
       "    for (var i = 0; i < inline_js.length; i++) {\n",
       "      inline_js[i].call(root, root.Bokeh);\n",
       "    }\n",
       "    } else if (Date.now() < root._bokeh_timeout) {\n",
       "      setTimeout(run_inline_js, 100);\n",
       "    } else if (!root._bokeh_failed_load) {\n",
       "      console.log(\"Bokeh: BokehJS failed to load within specified timeout.\");\n",
       "      root._bokeh_failed_load = true;\n",
       "    } else if (force !== true) {\n",
       "      var cell = $(document.getElementById(null)).parents('.cell').data().cell;\n",
       "      cell.output_area.append_execute_result(NB_LOAD_WARNING)\n",
       "    }\n",
       "\n",
       "  }\n",
       "\n",
       "  if (root._bokeh_is_loading === 0) {\n",
       "    console.debug(\"Bokeh: BokehJS loaded, going straight to plotting\");\n",
       "    run_inline_js();\n",
       "  } else {\n",
       "    load_libs(css_urls, js_urls, function() {\n",
       "      console.debug(\"Bokeh: BokehJS plotting callback run at\", now());\n",
       "      run_inline_js();\n",
       "    });\n",
       "  }\n",
       "}(window));"
      ],
      "application/vnd.bokehjs_load.v0+json": "\n(function(root) {\n  function now() {\n    return new Date();\n  }\n\n  var force = true;\n\n  if (typeof root._bokeh_onload_callbacks === \"undefined\" || force === true) {\n    root._bokeh_onload_callbacks = [];\n    root._bokeh_is_loading = undefined;\n  }\n\n  \n\n  \n  if (typeof (root._bokeh_timeout) === \"undefined\" || force === true) {\n    root._bokeh_timeout = Date.now() + 5000;\n    root._bokeh_failed_load = false;\n  }\n\n  var NB_LOAD_WARNING = {'data': {'text/html':\n     \"<div style='background-color: #fdd'>\\n\"+\n     \"<p>\\n\"+\n     \"BokehJS does not appear to have successfully loaded. If loading BokehJS from CDN, this \\n\"+\n     \"may be due to a slow or bad network connection. Possible fixes:\\n\"+\n     \"</p>\\n\"+\n     \"<ul>\\n\"+\n     \"<li>re-rerun `output_notebook()` to attempt to load from CDN again, or</li>\\n\"+\n     \"<li>use INLINE resources instead, as so:</li>\\n\"+\n     \"</ul>\\n\"+\n     \"<code>\\n\"+\n     \"from bokeh.resources import INLINE\\n\"+\n     \"output_notebook(resources=INLINE)\\n\"+\n     \"</code>\\n\"+\n     \"</div>\"}};\n\n  function display_loaded() {\n    var el = document.getElementById(null);\n    if (el != null) {\n      el.textContent = \"BokehJS is loading...\";\n    }\n    if (root.Bokeh !== undefined) {\n      if (el != null) {\n        el.textContent = \"BokehJS \" + root.Bokeh.version + \" successfully loaded.\";\n      }\n    } else if (Date.now() < root._bokeh_timeout) {\n      setTimeout(display_loaded, 100)\n    }\n  }\n\n\n  function run_callbacks() {\n    try {\n      root._bokeh_onload_callbacks.forEach(function(callback) {\n        if (callback != null)\n          callback();\n      });\n    } finally {\n      delete root._bokeh_onload_callbacks\n    }\n    console.debug(\"Bokeh: all callbacks have finished\");\n  }\n\n  function load_libs(css_urls, js_urls, callback) {\n    if (css_urls == null) css_urls = [];\n    if (js_urls == null) js_urls = [];\n\n    root._bokeh_onload_callbacks.push(callback);\n    if (root._bokeh_is_loading > 0) {\n      console.debug(\"Bokeh: BokehJS is being loaded, scheduling callback at\", now());\n      return null;\n    }\n    if (js_urls == null || js_urls.length === 0) {\n      run_callbacks();\n      return null;\n    }\n    console.debug(\"Bokeh: BokehJS not loaded, scheduling load and callback at\", now());\n    root._bokeh_is_loading = css_urls.length + js_urls.length;\n\n    function on_load() {\n      root._bokeh_is_loading--;\n      if (root._bokeh_is_loading === 0) {\n        console.debug(\"Bokeh: all BokehJS libraries/stylesheets loaded\");\n        run_callbacks()\n      }\n    }\n\n    function on_error() {\n      console.error(\"failed to load \" + url);\n    }\n\n    for (var i = 0; i < css_urls.length; i++) {\n      var url = css_urls[i];\n      const element = document.createElement(\"link\");\n      element.onload = on_load;\n      element.onerror = on_error;\n      element.rel = \"stylesheet\";\n      element.type = \"text/css\";\n      element.href = url;\n      console.debug(\"Bokeh: injecting link tag for BokehJS stylesheet: \", url);\n      document.body.appendChild(element);\n    }\n\n    const hashes = {\"https://cdn.bokeh.org/bokeh/release/bokeh-2.0.1.min.js\": \"JpP8FXbgAZLkfur7LiK3j9AGBhHNIvF742meBJrjO2ShJDhCG2I1uVvW+0DUtrmc\", \"https://cdn.bokeh.org/bokeh/release/bokeh-widgets-2.0.1.min.js\": \"xZlADit0Q04ISQEdKg2k3L4W9AwQBAuDs9nJL9fM/WwzL1tEU9VPNezOFX0nLEAz\", \"https://cdn.bokeh.org/bokeh/release/bokeh-tables-2.0.1.min.js\": \"4BuPRZkdMKSnj3zoxiNrQ86XgNw0rYmBOxe7nshquXwwcauupgBF2DHLVG1WuZlV\", \"https://cdn.bokeh.org/bokeh/release/bokeh-gl-2.0.1.min.js\": \"Dv1SQ87hmDqK6S5OhBf0bCuwAEvL5QYL0PuR/F1SPVhCS/r/abjkbpKDYL2zeM19\"};\n\n    for (var i = 0; i < js_urls.length; i++) {\n      var url = js_urls[i];\n      var element = document.createElement('script');\n      element.onload = on_load;\n      element.onerror = on_error;\n      element.async = false;\n      element.src = url;\n      if (url in hashes) {\n        element.crossOrigin = \"anonymous\";\n        element.integrity = \"sha384-\" + hashes[url];\n      }\n      console.debug(\"Bokeh: injecting script tag for BokehJS library: \", url);\n      document.head.appendChild(element);\n    }\n  };\n\n  function inject_raw_css(css) {\n    const element = document.createElement(\"style\");\n    element.appendChild(document.createTextNode(css));\n    document.body.appendChild(element);\n  }\n\n  \n  var js_urls = [\"https://cdn.bokeh.org/bokeh/release/bokeh-2.0.1.min.js\", \"https://cdn.bokeh.org/bokeh/release/bokeh-widgets-2.0.1.min.js\", \"https://cdn.bokeh.org/bokeh/release/bokeh-tables-2.0.1.min.js\", \"https://cdn.bokeh.org/bokeh/release/bokeh-gl-2.0.1.min.js\"];\n  var css_urls = [];\n  \n\n  var inline_js = [\n    function(Bokeh) {\n      Bokeh.set_log_level(\"info\");\n    },\n    function(Bokeh) {\n    \n    \n    }\n  ];\n\n  function run_inline_js() {\n    \n    if (root.Bokeh !== undefined || force === true) {\n      \n    for (var i = 0; i < inline_js.length; i++) {\n      inline_js[i].call(root, root.Bokeh);\n    }\n    } else if (Date.now() < root._bokeh_timeout) {\n      setTimeout(run_inline_js, 100);\n    } else if (!root._bokeh_failed_load) {\n      console.log(\"Bokeh: BokehJS failed to load within specified timeout.\");\n      root._bokeh_failed_load = true;\n    } else if (force !== true) {\n      var cell = $(document.getElementById(null)).parents('.cell').data().cell;\n      cell.output_area.append_execute_result(NB_LOAD_WARNING)\n    }\n\n  }\n\n  if (root._bokeh_is_loading === 0) {\n    console.debug(\"Bokeh: BokehJS loaded, going straight to plotting\");\n    run_inline_js();\n  } else {\n    load_libs(css_urls, js_urls, function() {\n      console.debug(\"Bokeh: BokehJS plotting callback run at\", now());\n      run_inline_js();\n    });\n  }\n}(window));"
     },
     "metadata": {},
     "output_type": "display_data"
    }
   ],
   "source": [
    "import cameo\n",
    "import pandas as pd\n",
    "import cobra.io\n",
    "from cobra import Reaction, Metabolite"
   ]
  },
  {
   "cell_type": "code",
   "execution_count": 2,
   "metadata": {},
   "outputs": [],
   "source": [
    "model = cobra.io.read_sbml_model('../../model/g-thermo.xml')"
   ]
  },
  {
   "cell_type": "code",
   "execution_count": 3,
   "metadata": {},
   "outputs": [],
   "source": [
    "model_e_coli = cameo.load_model('iML1515')"
   ]
  },
  {
   "cell_type": "markdown",
   "metadata": {},
   "source": [
    "## Glycerolipid heads\n",
    "Here, from Beata's thesis we have data on the three main types of lipids present in our strain: phosphatidylglycerol, diphosphatidylglycerol and phosphatidyl ethanolamine. Here I will check that all three of these can be synthesized properly.\n",
    "\n",
    "Note: Here I will make sure the metabolites and pathways are present. Probably, at a later time point when the generic acyl-tail has been defined we will need to revist the chemical formulas of the metabolites here to capture the different lipid types.\n",
    "\n",
    "__Phosphatidyl glycerol__\n",
    "can be made in a two step process from CDP-diacylglycerol which is present in out model as cdpdag_c."
   ]
  },
  {
   "cell_type": "code",
   "execution_count": 4,
   "metadata": {},
   "outputs": [],
   "source": [
    "#first add the phosphatidylglycerol metabolite\n",
    "model.add_metabolites(Metabolite(id='pg_c', name = 'Phosphatidylglycerol', compartment = 'c', formula = 'C8H13O10PR2', charge = 0))"
   ]
  },
  {
   "cell_type": "code",
   "execution_count": 5,
   "metadata": {},
   "outputs": [],
   "source": [
    "model.metabolites.pg_c.annotation['kegg.compound'] = 'C00344'\n",
    "model.metabolites.pg_c.annotation['sbo'] = 'SBO:0000247'\n",
    "model.metabolites.pg_c.annotation['chebi'] = 'CHEBI:17517'"
   ]
  },
  {
   "cell_type": "code",
   "execution_count": 6,
   "metadata": {},
   "outputs": [],
   "source": [
    "#add phosphatidylglycerophosphate metabolite\n",
    "model.add_metabolites(Metabolite(id='pgp_c', name = 'Phosphatidylglycerophosphate', compartment = 'c', formula = 'C8H14O13P2R2', charge = 0))"
   ]
  },
  {
   "cell_type": "code",
   "execution_count": 7,
   "metadata": {},
   "outputs": [],
   "source": [
    "model.metabolites.pgp_c.annotation['kegg.compound'] = 'C03892'\n",
    "model.metabolites.pgp_c.annotation['sbo'] = 'SBO:0000247'\n",
    "model.metabolites.pgp_c.annotation['chebi'] = 'CHEBI:37393'"
   ]
  },
  {
   "cell_type": "code",
   "execution_count": 8,
   "metadata": {},
   "outputs": [],
   "source": [
    "#add reaction from pgp to pg\n",
    "model.add_reaction(Reaction(id='PGP', name = 'Phosphatidylglycerophosphate phosphohydrolase'))"
   ]
  },
  {
   "cell_type": "code",
   "execution_count": 9,
   "metadata": {},
   "outputs": [],
   "source": [
    "model.reactions.PGP.annotation['kegg.reaction'] = 'R02029'\n",
    "model.reactions.PGP.annotation['sbo'] = 'SBO:0000176'\n",
    "model.reactions.PGP.annotation['ec-code'] = '3.1.3.27'"
   ]
  },
  {
   "cell_type": "code",
   "execution_count": 10,
   "metadata": {},
   "outputs": [],
   "source": [
    "model.reactions.PGP.add_metabolites({\n",
    "    model.metabolites.pgp_c:-1,\n",
    "    model.metabolites.h2o_c:-1,\n",
    "    model.metabolites.pg_c:1,\n",
    "    model.metabolites.pi_c:1,\n",
    "    model.metabolites.h_c: 2\n",
    "})"
   ]
  },
  {
   "cell_type": "code",
   "execution_count": 11,
   "metadata": {},
   "outputs": [],
   "source": [
    "#add reaction converting CDP-diacyl glycerol to pgp_c\n",
    "model.add_reaction(Reaction(id='CDPPT', name = 'glycerophosphate phosphatidyltransferase;'))"
   ]
  },
  {
   "cell_type": "code",
   "execution_count": 12,
   "metadata": {},
   "outputs": [],
   "source": [
    "model.reactions.CDPPT.annotation['kegg.reaction'] = 'R01801'\n",
    "model.reactions.CDPPT.annotation['sbo'] = 'SBO:0000176'\n",
    "model.reactions.CDPPT.annotation['ec-code'] = '2.7.8.5'"
   ]
  },
  {
   "cell_type": "code",
   "execution_count": 13,
   "metadata": {},
   "outputs": [],
   "source": [
    "model.reactions.CDPPT.add_metabolites({\n",
    "    model.metabolites.cdpdag_c:-1,\n",
    "    model.metabolites.glyc3p_c:-1,\n",
    "    model.metabolites.cmp_c:1,\n",
    "    model.metabolites.pgp_c:1,\n",
    "    model.metabolites.h_c:-3\n",
    "})"
   ]
  },
  {
   "cell_type": "code",
   "execution_count": 14,
   "metadata": {},
   "outputs": [],
   "source": [
    "model.metabolites.pa_EC_c.id = 'pa_c'"
   ]
  },
  {
   "cell_type": "markdown",
   "metadata": {},
   "source": [
    "So now, conversion of cdpdag_c to pg_c is possible. But just to be sure, I will go further back and check cdpdag_c can be synthesized. It seems that this is linked to central metabolism and so I will leave it for now. "
   ]
  },
  {
   "cell_type": "code",
   "execution_count": 16,
   "metadata": {},
   "outputs": [],
   "source": [
    "#save&commit\n",
    "cobra.io.write_sbml_model(model,'../../model/g-thermo.xml')"
   ]
  },
  {
   "cell_type": "markdown",
   "metadata": {},
   "source": [
    "__phosphatidyl ethanolamine__ should be made in two steps from CDP-dag too (via phosphatidyl-serine). Phosphatidyl serine can currently be made from CDPDAGPT reaction, from serine and cdpdag, which is correct. We just need to add the conversion from ps to phosphatidyl-ethanolamine. We also need to add the phosphoethanolamine metabolite . "
   ]
  },
  {
   "cell_type": "code",
   "execution_count": 33,
   "metadata": {},
   "outputs": [],
   "source": [
    "model.metabolites.ps_cho_c.id = 'ps_c'"
   ]
  },
  {
   "cell_type": "code",
   "execution_count": 34,
   "metadata": {},
   "outputs": [],
   "source": [
    "#add phosphoethanolamine metabolite\n",
    "model.add_metabolites(Metabolite(id='pe_c', name = 'Phosphatidylethanolamine', compartment = 'c', formula = 'C7H12NO8PR2', charge = 0))"
   ]
  },
  {
   "cell_type": "code",
   "execution_count": 35,
   "metadata": {},
   "outputs": [],
   "source": [
    "model.metabolites.pe_c.annotation['kegg.compound'] = 'C00350'\n",
    "model.metabolites.pe_c.annotation['sbo'] = 'SBO:0000247'\n",
    "model.metabolites.pe_c.annotation['chebi'] = 'CHEBI:16038'"
   ]
  },
  {
   "cell_type": "code",
   "execution_count": 36,
   "metadata": {},
   "outputs": [],
   "source": [
    "#add production of phosphoethanolamine\n",
    "model.add_reaction(Reaction(id='PSD', name = 'phosphatidylserine decarboxylase'))"
   ]
  },
  {
   "cell_type": "code",
   "execution_count": 37,
   "metadata": {},
   "outputs": [],
   "source": [
    "model.reactions.PSD.annotation['kegg.reaction'] = 'R02055'\n",
    "model.reactions.PSD.annotation['sbo'] = 'SBO:0000176'\n",
    "model.reactions.PSD.annotation['ec-code'] = '4.1.1.65'"
   ]
  },
  {
   "cell_type": "code",
   "execution_count": 41,
   "metadata": {},
   "outputs": [],
   "source": [
    "model.reactions.PSD.add_metabolites({\n",
    "    model.metabolites.ps_c:-1,\n",
    "    model.metabolites.pe_c:1,\n",
    "    model.metabolites.co2_c:1\n",
    "})"
   ]
  },
  {
   "cell_type": "code",
   "execution_count": 43,
   "metadata": {},
   "outputs": [],
   "source": [
    "#save&commit\n",
    "cobra.io.write_sbml_model(model,'../model/g-thermo.xml')"
   ]
  },
  {
   "cell_type": "markdown",
   "metadata": {},
   "source": [
    "__Diphosphatidylglycerol__ (AKA Cardiolipin) can be synthesized from phosphatidyl-glycerol. I will need to add the cardiolipin metabolite and conversion to it here.\n"
   ]
  },
  {
   "cell_type": "code",
   "execution_count": 44,
   "metadata": {},
   "outputs": [],
   "source": [
    "#add cardiolipin metabolite\n",
    "model.add_metabolites(Metabolite(id='clpn_c', name ='Cardiolipin', compartment = 'c', formula = 'C13H18O17P2R4', charge = 0))"
   ]
  },
  {
   "cell_type": "code",
   "execution_count": 45,
   "metadata": {},
   "outputs": [],
   "source": [
    "model.metabolites.clpn_c.notes['NOTES'] = 'Cardiolipin; Diphosphatidylglycerol; 1,3-Bis(1,2-diacyl-sn-glycero-3-phospho)-sn-glycerol'"
   ]
  },
  {
   "cell_type": "code",
   "execution_count": 46,
   "metadata": {},
   "outputs": [],
   "source": [
    "model.metabolites.clpn_c.annotation['kegg.compound'] = 'C05980'\n",
    "model.metabolites.clpn_c.annotation['sbo'] = 'SBO:0000247'\n",
    "model.metabolites.clpn_c.annotation['chebi'] = 'CHEBI:28494'"
   ]
  },
  {
   "cell_type": "code",
   "execution_count": 47,
   "metadata": {},
   "outputs": [],
   "source": [
    "#add reaction\n",
    "model.add_reaction(Reaction(id='CLPNS', name = 'Cardiolipin synthase'))"
   ]
  },
  {
   "cell_type": "code",
   "execution_count": 48,
   "metadata": {},
   "outputs": [],
   "source": [
    "model.reactions.CLPNS.annotation['kegg.reaction'] = 'R07390'\n",
    "model.reactions.CLPNS.annotation['sbo'] = 'SBO:0000176'\n",
    "model.reactions.CLPNS.annotation['ec-code'] = '2.7.8.-'"
   ]
  },
  {
   "cell_type": "code",
   "execution_count": 49,
   "metadata": {},
   "outputs": [],
   "source": [
    "model.reactions.CLPNS.add_metabolites({\n",
    "    model.metabolites.pg_c:-2,\n",
    "    model.metabolites.clpn_c:1,\n",
    "    model.metabolites.glyc_c:1\n",
    "})"
   ]
  },
  {
   "cell_type": "code",
   "execution_count": 50,
   "metadata": {},
   "outputs": [],
   "source": [
    "reactions = [model.reactions.PGP, model.reactions.CDPPT, model.reactions.PSD, model.reactions.CLPNS]"
   ]
  },
  {
   "cell_type": "code",
   "execution_count": 51,
   "metadata": {},
   "outputs": [],
   "source": [
    "model.groups.get_by_id('00564 - Glycerophospholipid metabolism').add_members(reactions)"
   ]
  },
  {
   "cell_type": "code",
   "execution_count": 53,
   "metadata": {},
   "outputs": [],
   "source": [
    "#save&commit\n",
    "cobra.io.write_sbml_model(model,'../model/g-thermo.xml')"
   ]
  },
  {
   "cell_type": "markdown",
   "metadata": {},
   "source": [
    "## Acyl-CoA Tails\n",
    "Now that the heads are in place, we need to make sure that each Acyl-CoA tail that has been detected in our data set can be made. From these different tail, we will then combine them with a specific data-defined stoichiometry into a general acyl-coa tail which will be used and combined with the different glycerolipid heads. \n",
    "\n",
    "So here I will go through the list of (branched) fatty acids in the supplementary data of Tang et al. 2009 and ensure their production.\n",
    "All the tails we need to produce: 14:0 ISO, 14:0, 15:0 ISO,15:0 ANTEISO,15:0, 16:0 ISO, 16:0, 17:0 ISO,17:0 ANTEISO, 17:0, 18:4 w3c, 18:0           \n",
    "\n",
    "First I will make sure that we can correctly produce Acyl-ACP and Malonyl-ACP which are needed to start the saturated unbranched fatty acid biosynthesis. \n",
    "\n",
    "Before I continue it is very important how we define these metabolites for mass balance. __The ACP-Chain WILL BE INDICATED AS C11H20N2O7PRS__. So all carbon chains should be added from the sulfur onwards. "
   ]
  },
  {
   "cell_type": "markdown",
   "metadata": {},
   "source": [
    "__Acyl-ACP__ Seems to be fine, except a duplicate reaction"
   ]
  },
  {
   "cell_type": "code",
   "execution_count": 54,
   "metadata": {},
   "outputs": [
    {
     "name": "stderr",
     "output_type": "stream",
     "text": [
      "C:\\Users\\vivmol\\AppData\\Local\\Continuum\\anaconda3\\envs\\g-thermo\\lib\\site-packages\\cobra\\core\\model.py:716: UserWarning:\n",
      "\n",
      "need to pass in a list\n",
      "\n",
      "C:\\Users\\vivmol\\AppData\\Local\\Continuum\\anaconda3\\envs\\g-thermo\\lib\\site-packages\\cobra\\core\\group.py:110: UserWarning:\n",
      "\n",
      "need to pass in a list\n",
      "\n"
     ]
    }
   ],
   "source": [
    "#AMACT and KAS14 are duplicate reactions\n",
    "model.remove_reactions(model.reactions.AMACT)"
   ]
  },
  {
   "cell_type": "markdown",
   "metadata": {},
   "source": [
    "__Malonyl-ACP__ both malcoa and malACP seem to be produced fine. \n",
    "\n",
    "### Even carbon saturated, unbranched Fatty Acids\n",
    "Here, we first go to the production of butyryl-ACP through hexanoyl-ACP, and from there every 'cycle' add a C2 moeity (Malonyl-ACP) to the growing chain, all the way up to the final nC18:0 that we need. "
   ]
  },
  {
   "cell_type": "code",
   "execution_count": 126,
   "metadata": {},
   "outputs": [
    {
     "ename": "AttributeError",
     "evalue": "DictList has no attribute or entry butacp_c",
     "output_type": "error",
     "traceback": [
      "\u001b[1;31m---------------------------------------------------------------------------\u001b[0m",
      "\u001b[1;31mKeyError\u001b[0m                                  Traceback (most recent call last)",
      "\u001b[1;32m~\\AppData\\Local\\Continuum\\anaconda3\\envs\\g-thermo\\lib\\site-packages\\cobra\\core\\dictlist.py\u001b[0m in \u001b[0;36m__getattr__\u001b[1;34m(self, attr)\u001b[0m\n\u001b[0;32m    450\u001b[0m         \u001b[1;32mtry\u001b[0m\u001b[1;33m:\u001b[0m\u001b[1;33m\u001b[0m\u001b[1;33m\u001b[0m\u001b[0m\n\u001b[1;32m--> 451\u001b[1;33m             \u001b[1;32mreturn\u001b[0m \u001b[0mDictList\u001b[0m\u001b[1;33m.\u001b[0m\u001b[0mget_by_id\u001b[0m\u001b[1;33m(\u001b[0m\u001b[0mself\u001b[0m\u001b[1;33m,\u001b[0m \u001b[0mattr\u001b[0m\u001b[1;33m)\u001b[0m\u001b[1;33m\u001b[0m\u001b[1;33m\u001b[0m\u001b[0m\n\u001b[0m\u001b[0;32m    452\u001b[0m         \u001b[1;32mexcept\u001b[0m \u001b[0mKeyError\u001b[0m\u001b[1;33m:\u001b[0m\u001b[1;33m\u001b[0m\u001b[1;33m\u001b[0m\u001b[0m\n",
      "\u001b[1;32m~\\AppData\\Local\\Continuum\\anaconda3\\envs\\g-thermo\\lib\\site-packages\\cobra\\core\\dictlist.py\u001b[0m in \u001b[0;36mget_by_id\u001b[1;34m(self, id)\u001b[0m\n\u001b[0;32m     57\u001b[0m         \u001b[1;34m\"\"\"return the element with a matching id\"\"\"\u001b[0m\u001b[1;33m\u001b[0m\u001b[1;33m\u001b[0m\u001b[0m\n\u001b[1;32m---> 58\u001b[1;33m         \u001b[1;32mreturn\u001b[0m \u001b[0mlist\u001b[0m\u001b[1;33m.\u001b[0m\u001b[0m__getitem__\u001b[0m\u001b[1;33m(\u001b[0m\u001b[0mself\u001b[0m\u001b[1;33m,\u001b[0m \u001b[0mself\u001b[0m\u001b[1;33m.\u001b[0m\u001b[0m_dict\u001b[0m\u001b[1;33m[\u001b[0m\u001b[0mid\u001b[0m\u001b[1;33m]\u001b[0m\u001b[1;33m)\u001b[0m\u001b[1;33m\u001b[0m\u001b[1;33m\u001b[0m\u001b[0m\n\u001b[0m\u001b[0;32m     59\u001b[0m \u001b[1;33m\u001b[0m\u001b[0m\n",
      "\u001b[1;31mKeyError\u001b[0m: 'butacp_c'",
      "\nDuring handling of the above exception, another exception occurred:\n",
      "\u001b[1;31mAttributeError\u001b[0m                            Traceback (most recent call last)",
      "\u001b[1;32m<ipython-input-126-af6527b4bc50>\u001b[0m in \u001b[0;36m<module>\u001b[1;34m\u001b[0m\n\u001b[1;32m----> 1\u001b[1;33m \u001b[0mmodel\u001b[0m\u001b[1;33m.\u001b[0m\u001b[0mmetabolites\u001b[0m\u001b[1;33m.\u001b[0m\u001b[0mbutacp_c\u001b[0m\u001b[1;33m.\u001b[0m\u001b[0mid\u001b[0m \u001b[1;33m=\u001b[0m \u001b[1;34m'butACP_c'\u001b[0m\u001b[1;33m\u001b[0m\u001b[1;33m\u001b[0m\u001b[0m\n\u001b[0m",
      "\u001b[1;32m~\\AppData\\Local\\Continuum\\anaconda3\\envs\\g-thermo\\lib\\site-packages\\cobra\\core\\dictlist.py\u001b[0m in \u001b[0;36m__getattr__\u001b[1;34m(self, attr)\u001b[0m\n\u001b[0;32m    452\u001b[0m         \u001b[1;32mexcept\u001b[0m \u001b[0mKeyError\u001b[0m\u001b[1;33m:\u001b[0m\u001b[1;33m\u001b[0m\u001b[1;33m\u001b[0m\u001b[0m\n\u001b[0;32m    453\u001b[0m             raise AttributeError(\"DictList has no attribute or entry %s\" %\n\u001b[1;32m--> 454\u001b[1;33m                                  attr)\n\u001b[0m\u001b[0;32m    455\u001b[0m \u001b[1;33m\u001b[0m\u001b[0m\n\u001b[0;32m    456\u001b[0m     \u001b[1;32mdef\u001b[0m \u001b[0m__dir__\u001b[0m\u001b[1;33m(\u001b[0m\u001b[0mself\u001b[0m\u001b[1;33m)\u001b[0m\u001b[1;33m:\u001b[0m\u001b[1;33m\u001b[0m\u001b[1;33m\u001b[0m\u001b[0m\n",
      "\u001b[1;31mAttributeError\u001b[0m: DictList has no attribute or entry butacp_c"
     ]
    }
   ],
   "source": [
    "model.metabolites.butacp_c.id = 'butACP_c'"
   ]
  },
  {
   "cell_type": "code",
   "execution_count": 127,
   "metadata": {},
   "outputs": [
    {
     "ename": "AttributeError",
     "evalue": "DictList has no attribute or entry BUTACPAT",
     "output_type": "error",
     "traceback": [
      "\u001b[1;31m---------------------------------------------------------------------------\u001b[0m",
      "\u001b[1;31mKeyError\u001b[0m                                  Traceback (most recent call last)",
      "\u001b[1;32m~\\AppData\\Local\\Continuum\\anaconda3\\envs\\g-thermo\\lib\\site-packages\\cobra\\core\\dictlist.py\u001b[0m in \u001b[0;36m__getattr__\u001b[1;34m(self, attr)\u001b[0m\n\u001b[0;32m    450\u001b[0m         \u001b[1;32mtry\u001b[0m\u001b[1;33m:\u001b[0m\u001b[1;33m\u001b[0m\u001b[1;33m\u001b[0m\u001b[0m\n\u001b[1;32m--> 451\u001b[1;33m             \u001b[1;32mreturn\u001b[0m \u001b[0mDictList\u001b[0m\u001b[1;33m.\u001b[0m\u001b[0mget_by_id\u001b[0m\u001b[1;33m(\u001b[0m\u001b[0mself\u001b[0m\u001b[1;33m,\u001b[0m \u001b[0mattr\u001b[0m\u001b[1;33m)\u001b[0m\u001b[1;33m\u001b[0m\u001b[1;33m\u001b[0m\u001b[0m\n\u001b[0m\u001b[0;32m    452\u001b[0m         \u001b[1;32mexcept\u001b[0m \u001b[0mKeyError\u001b[0m\u001b[1;33m:\u001b[0m\u001b[1;33m\u001b[0m\u001b[1;33m\u001b[0m\u001b[0m\n",
      "\u001b[1;32m~\\AppData\\Local\\Continuum\\anaconda3\\envs\\g-thermo\\lib\\site-packages\\cobra\\core\\dictlist.py\u001b[0m in \u001b[0;36mget_by_id\u001b[1;34m(self, id)\u001b[0m\n\u001b[0;32m     57\u001b[0m         \u001b[1;34m\"\"\"return the element with a matching id\"\"\"\u001b[0m\u001b[1;33m\u001b[0m\u001b[1;33m\u001b[0m\u001b[0m\n\u001b[1;32m---> 58\u001b[1;33m         \u001b[1;32mreturn\u001b[0m \u001b[0mlist\u001b[0m\u001b[1;33m.\u001b[0m\u001b[0m__getitem__\u001b[0m\u001b[1;33m(\u001b[0m\u001b[0mself\u001b[0m\u001b[1;33m,\u001b[0m \u001b[0mself\u001b[0m\u001b[1;33m.\u001b[0m\u001b[0m_dict\u001b[0m\u001b[1;33m[\u001b[0m\u001b[0mid\u001b[0m\u001b[1;33m]\u001b[0m\u001b[1;33m)\u001b[0m\u001b[1;33m\u001b[0m\u001b[1;33m\u001b[0m\u001b[0m\n\u001b[0m\u001b[0;32m     59\u001b[0m \u001b[1;33m\u001b[0m\u001b[0m\n",
      "\u001b[1;31mKeyError\u001b[0m: 'BUTACPAT'",
      "\nDuring handling of the above exception, another exception occurred:\n",
      "\u001b[1;31mAttributeError\u001b[0m                            Traceback (most recent call last)",
      "\u001b[1;32m<ipython-input-127-0d293117300d>\u001b[0m in \u001b[0;36m<module>\u001b[1;34m\u001b[0m\n\u001b[1;32m----> 1\u001b[1;33m \u001b[0mmodel\u001b[0m\u001b[1;33m.\u001b[0m\u001b[0mreactions\u001b[0m\u001b[1;33m.\u001b[0m\u001b[0mBUTACPAT\u001b[0m\u001b[1;33m.\u001b[0m\u001b[0mid\u001b[0m \u001b[1;33m=\u001b[0m \u001b[1;34m'3OAS60'\u001b[0m\u001b[1;33m\u001b[0m\u001b[1;33m\u001b[0m\u001b[0m\n\u001b[0m",
      "\u001b[1;32m~\\AppData\\Local\\Continuum\\anaconda3\\envs\\g-thermo\\lib\\site-packages\\cobra\\core\\dictlist.py\u001b[0m in \u001b[0;36m__getattr__\u001b[1;34m(self, attr)\u001b[0m\n\u001b[0;32m    452\u001b[0m         \u001b[1;32mexcept\u001b[0m \u001b[0mKeyError\u001b[0m\u001b[1;33m:\u001b[0m\u001b[1;33m\u001b[0m\u001b[1;33m\u001b[0m\u001b[0m\n\u001b[0;32m    453\u001b[0m             raise AttributeError(\"DictList has no attribute or entry %s\" %\n\u001b[1;32m--> 454\u001b[1;33m                                  attr)\n\u001b[0m\u001b[0;32m    455\u001b[0m \u001b[1;33m\u001b[0m\u001b[0m\n\u001b[0;32m    456\u001b[0m     \u001b[1;32mdef\u001b[0m \u001b[0m__dir__\u001b[0m\u001b[1;33m(\u001b[0m\u001b[0mself\u001b[0m\u001b[1;33m)\u001b[0m\u001b[1;33m:\u001b[0m\u001b[1;33m\u001b[0m\u001b[1;33m\u001b[0m\u001b[0m\n",
      "\u001b[1;31mAttributeError\u001b[0m: DictList has no attribute or entry BUTACPAT"
     ]
    }
   ],
   "source": [
    "model.reactions.BUTACPAT.id = '3OAS60'"
   ]
  },
  {
   "cell_type": "code",
   "execution_count": 40,
   "metadata": {},
   "outputs": [],
   "source": [
    "model.reactions.BUTACPOR.id = 'EAR40x'"
   ]
  },
  {
   "cell_type": "code",
   "execution_count": 41,
   "metadata": {},
   "outputs": [],
   "source": [
    "model.reactions.EAR40x.bounds = (-1000,0)"
   ]
  },
  {
   "cell_type": "code",
   "execution_count": 42,
   "metadata": {},
   "outputs": [],
   "source": [
    "# Add reaction with NADPH here too\n",
    "model.add_reaction(Reaction(id='EAR40y', name = 'Enoyl-[acyl-carrier-protein] reductase (NADPH) (n-C4:0)'))"
   ]
  },
  {
   "cell_type": "code",
   "execution_count": 43,
   "metadata": {},
   "outputs": [],
   "source": [
    "model.reactions.EAR40y.annotation = model_e_coli.reactions.EAR40y.annotation"
   ]
  },
  {
   "cell_type": "code",
   "execution_count": 44,
   "metadata": {},
   "outputs": [],
   "source": [
    "model.reactions.EAR40y.add_metabolites({\n",
    "    model.metabolites.but2eACP_c: -1,\n",
    "    model.metabolites.h_c:-1,\n",
    "    model.metabolites.nadph_c:-1,\n",
    "    model.metabolites.butACP_c:1,\n",
    "    model.metabolites.nadp_c:1\n",
    "})"
   ]
  },
  {
   "cell_type": "code",
   "execution_count": 45,
   "metadata": {},
   "outputs": [],
   "source": [
    "model.reactions.get_by_id('3HAD40_1').bounds = (0,1000)"
   ]
  },
  {
   "cell_type": "code",
   "execution_count": 46,
   "metadata": {},
   "outputs": [],
   "source": [
    "#add conversion from 3hbutACP to actACP"
   ]
  },
  {
   "cell_type": "code",
   "execution_count": 47,
   "metadata": {},
   "outputs": [],
   "source": [
    "model.add_reaction(Reaction(id='3OAR40_1', name ='3-oxoacyl-[acyl-carrier-protein] reductase (n-C4:0)'))"
   ]
  },
  {
   "cell_type": "code",
   "execution_count": 48,
   "metadata": {},
   "outputs": [],
   "source": [
    "model.reactions.get_by_id('3OAR40_1').annotation['sbo'] = 'SBO:0000176'\n",
    "model.reactions.get_by_id('3OAR40_1').annotation['kegg.reaction'] = 'R02767'\n",
    "model.reactions.get_by_id('3OAR40_1').annotation['ec-code'] = '1.1.1.100'"
   ]
  },
  {
   "cell_type": "code",
   "execution_count": 49,
   "metadata": {},
   "outputs": [],
   "source": [
    "model.reactions.get_by_id('3OAR40_1').add_metabolites({\n",
    "    model.metabolites.get_by_id('3hbutACP_c'): 1,\n",
    "    model.metabolites.actACP_c:-1,\n",
    "    model.metabolites.nadph_c:-1,\n",
    "    model.metabolites.nadp_c:1,\n",
    "    model.metabolites.h_c:-1\n",
    "})"
   ]
  },
  {
   "cell_type": "code",
   "execution_count": 50,
   "metadata": {},
   "outputs": [],
   "source": [
    "model.metabolites.get_by_id('3hbutACP_c').formula = 'C15H27N2O9PRS'"
   ]
  },
  {
   "cell_type": "code",
   "execution_count": 51,
   "metadata": {},
   "outputs": [],
   "source": [
    "#missing KAS 15 reaction\n",
    "model.add_reaction(Reaction(id='KAS15', name = 'Beta-ketoacyl-ACP synthase (2)'))"
   ]
  },
  {
   "cell_type": "code",
   "execution_count": 52,
   "metadata": {},
   "outputs": [],
   "source": [
    "model.reactions.KAS15.annotation = model_e_coli.reactions.KAS15.annotation"
   ]
  },
  {
   "cell_type": "code",
   "execution_count": 53,
   "metadata": {},
   "outputs": [],
   "source": [
    "model.reactions.KAS15.add_metabolites({\n",
    "    model.metabolites.accoa_c:-1,\n",
    "    model.metabolites.h_c:-1,\n",
    "    model.metabolites.malACP_c:-1,\n",
    "    model.metabolites.actACP_c:1,\n",
    "    model.metabolites.co2_c:1, \n",
    "    model.metabolites.coa_c:1\n",
    "})"
   ]
  },
  {
   "cell_type": "code",
   "execution_count": 54,
   "metadata": {},
   "outputs": [],
   "source": [
    "#Synthesis up to butyryl-ACP\n",
    "#save&commit\n",
    "cobra.io.write_sbml_model(model,'../model/g-thermo.xml')"
   ]
  },
  {
   "cell_type": "markdown",
   "metadata": {},
   "source": [
    "now move to C6:0 (hexanoyl-ACP)"
   ]
  },
  {
   "cell_type": "code",
   "execution_count": 55,
   "metadata": {},
   "outputs": [],
   "source": [
    "#wrong ID\n",
    "model.reactions.HACPOR.id = 'EAR60x'"
   ]
  },
  {
   "cell_type": "code",
   "execution_count": 56,
   "metadata": {},
   "outputs": [],
   "source": [
    "model.reactions.EAR60x.bounds = (-1000,0)"
   ]
  },
  {
   "cell_type": "code",
   "execution_count": 57,
   "metadata": {},
   "outputs": [],
   "source": [
    "#finished up to hexanoyl-ACP\n",
    "#save&commit\n",
    "cobra.io.write_sbml_model(model,'../model/g-thermo.xml')"
   ]
  },
  {
   "cell_type": "markdown",
   "metadata": {},
   "source": [
    "now onto octanoyl-ACP"
   ]
  },
  {
   "cell_type": "code",
   "execution_count": 58,
   "metadata": {},
   "outputs": [],
   "source": [
    "model.reactions.HEXACPAT.id = '3OAS80'"
   ]
  },
  {
   "cell_type": "code",
   "execution_count": 59,
   "metadata": {},
   "outputs": [],
   "source": [
    "model.reactions.get_by_id('3HAD80').bounds = (0,1000)"
   ]
  },
  {
   "cell_type": "code",
   "execution_count": 60,
   "metadata": {},
   "outputs": [],
   "source": [
    "model.reactions.OCTACPOR.id = 'EAR80x'"
   ]
  },
  {
   "cell_type": "code",
   "execution_count": 61,
   "metadata": {},
   "outputs": [],
   "source": [
    "model.reactions.EAR80x.bounds = (-1000,0)"
   ]
  },
  {
   "cell_type": "code",
   "execution_count": 62,
   "metadata": {},
   "outputs": [],
   "source": [
    "model.metabolites.octacp_c.id = 'ocACP_c'"
   ]
  },
  {
   "cell_type": "code",
   "execution_count": 63,
   "metadata": {},
   "outputs": [],
   "source": [
    "# add EAR80y reaction\n",
    "model.add_reaction(Reaction(id='EAR80y', name = 'Enoyl-[acyl-carrier-protein] reductase (NADPH) (n-C8:0)'))"
   ]
  },
  {
   "cell_type": "code",
   "execution_count": 64,
   "metadata": {},
   "outputs": [],
   "source": [
    "model.reactions.EAR80y.annotation = model_e_coli.reactions.EAR80y.annotation"
   ]
  },
  {
   "cell_type": "code",
   "execution_count": 65,
   "metadata": {},
   "outputs": [],
   "source": [
    "model.reactions.EAR80y.add_metabolites({\n",
    "    model.metabolites.h_c:-1,\n",
    "    model.metabolites.nadph_c:-1,\n",
    "    model.metabolites.toct2eACP_c:-1,\n",
    "    model.metabolites.nadp_c:1,\n",
    "    model.metabolites.ocACP_c:1\n",
    "})"
   ]
  },
  {
   "cell_type": "code",
   "execution_count": 66,
   "metadata": {},
   "outputs": [],
   "source": [
    "#finished up to octanoyl-ACP\n",
    "#save&commit\n",
    "cobra.io.write_sbml_model(model,'../model/g-thermo.xml')"
   ]
  },
  {
   "cell_type": "markdown",
   "metadata": {},
   "source": [
    "Now on to C10:0."
   ]
  },
  {
   "cell_type": "code",
   "execution_count": 67,
   "metadata": {},
   "outputs": [],
   "source": [
    "model.reactions.OCTACPAT.id = '3OAS100'"
   ]
  },
  {
   "cell_type": "code",
   "execution_count": 68,
   "metadata": {},
   "outputs": [],
   "source": [
    "model.reactions.get_by_id('3HAD100').bounds = (0,1000)"
   ]
  },
  {
   "cell_type": "code",
   "execution_count": 69,
   "metadata": {},
   "outputs": [],
   "source": [
    "model.reactions.DECACPOR.id = 'EAR100x'"
   ]
  },
  {
   "cell_type": "code",
   "execution_count": 70,
   "metadata": {},
   "outputs": [],
   "source": [
    "model.reactions.EAR100x.bounds = (-1000,0)"
   ]
  },
  {
   "cell_type": "code",
   "execution_count": 71,
   "metadata": {},
   "outputs": [],
   "source": [
    "#add EAR100y\n",
    "model.add_reaction(Reaction(id='EAR100y', name = 'Enoyl-[acyl-carrier-protein] reductase (NADPH) (n-C10:0)'))"
   ]
  },
  {
   "cell_type": "code",
   "execution_count": 72,
   "metadata": {},
   "outputs": [],
   "source": [
    "model.reactions.EAR100y.annotation = model_e_coli.reactions.EAR100y.annotation"
   ]
  },
  {
   "cell_type": "code",
   "execution_count": 73,
   "metadata": {},
   "outputs": [],
   "source": [
    "model.reactions.EAR100y.add_metabolites({\n",
    "    model.metabolites.h_c:-1,\n",
    "    model.metabolites.nadph_c:-1,\n",
    "    model.metabolites.tdec2eACP_c:-1,\n",
    "    model.metabolites.nadp_c:1,\n",
    "    model.metabolites.decanoylacp_c:1\n",
    "})"
   ]
  },
  {
   "cell_type": "code",
   "execution_count": 74,
   "metadata": {},
   "outputs": [],
   "source": [
    "model.metabolites.decanoylacp_c.id = 'dcaACP_c'"
   ]
  },
  {
   "cell_type": "code",
   "execution_count": 75,
   "metadata": {},
   "outputs": [],
   "source": [
    "model.reactions.EAR100y.bounds = (0,1000)"
   ]
  },
  {
   "cell_type": "code",
   "execution_count": 76,
   "metadata": {},
   "outputs": [],
   "source": [
    "#finished up to C10:0\n",
    "#save&commit\n",
    "cobra.io.write_sbml_model(model,'../model/g-thermo.xml')"
   ]
  },
  {
   "cell_type": "markdown",
   "metadata": {},
   "source": [
    "Onto C12:0"
   ]
  },
  {
   "cell_type": "code",
   "execution_count": 77,
   "metadata": {},
   "outputs": [],
   "source": [
    "model.reactions.DECACPAT.id = '3OAS120'"
   ]
  },
  {
   "cell_type": "code",
   "execution_count": 78,
   "metadata": {},
   "outputs": [],
   "source": [
    "model.reactions.get_by_id('3OAS120').bounds = (0,1000)"
   ]
  },
  {
   "cell_type": "code",
   "execution_count": 79,
   "metadata": {},
   "outputs": [],
   "source": [
    "model.reactions.DDECACPOR.id = 'EAR120x'"
   ]
  },
  {
   "cell_type": "code",
   "execution_count": 80,
   "metadata": {},
   "outputs": [],
   "source": [
    "model.reactions.EAR120x.bounds = (-1000,0)"
   ]
  },
  {
   "cell_type": "code",
   "execution_count": 81,
   "metadata": {},
   "outputs": [],
   "source": [
    "#add EAR120y reaction\n",
    "model.add_reaction(Reaction(id='EAR120y', name = 'Enoyl-[acyl-carrier-protein] reductase (NADPH) (n-C12:0)'))"
   ]
  },
  {
   "cell_type": "code",
   "execution_count": 82,
   "metadata": {},
   "outputs": [],
   "source": [
    "model.reactions.EAR120y.annotation = model_e_coli.reactions.EAR120y.annotation"
   ]
  },
  {
   "cell_type": "code",
   "execution_count": 83,
   "metadata": {},
   "outputs": [],
   "source": [
    "model.metabolites.dodecacp_c.id = 'ddcaACP_c'"
   ]
  },
  {
   "cell_type": "code",
   "execution_count": 84,
   "metadata": {},
   "outputs": [],
   "source": [
    "model.reactions.EAR120y.add_metabolites({\n",
    "    model.metabolites.h_c:-1,\n",
    "    model.metabolites.nadph_c:-1,\n",
    "    model.metabolites.tddec2eACP_c:-1,\n",
    "    model.metabolites.nadp_c:1,\n",
    "    model.metabolites.ddcaACP_c :1\n",
    "})"
   ]
  },
  {
   "cell_type": "code",
   "execution_count": 85,
   "metadata": {},
   "outputs": [],
   "source": [
    "model.reactions.EAR120y.bounds = (0,1000)"
   ]
  },
  {
   "cell_type": "code",
   "execution_count": 86,
   "metadata": {},
   "outputs": [],
   "source": [
    "#finished up to C12:0\n",
    "#save& commit\n",
    "cobra.io.write_sbml_model(model,'../../model/g-thermo.xml')"
   ]
  },
  {
   "cell_type": "markdown",
   "metadata": {},
   "source": [
    "Now onto C14:0"
   ]
  },
  {
   "cell_type": "code",
   "execution_count": 87,
   "metadata": {},
   "outputs": [],
   "source": [
    "model.reactions.MALACPAT.id = '3OAS140'"
   ]
  },
  {
   "cell_type": "code",
   "execution_count": 88,
   "metadata": {},
   "outputs": [],
   "source": [
    "model.reactions.get_by_id('3HAD140').bounds = (0,1000)"
   ]
  },
  {
   "cell_type": "code",
   "execution_count": 89,
   "metadata": {},
   "outputs": [],
   "source": [
    "model.reactions.MYRACPOR.id = 'EAR140x'"
   ]
  },
  {
   "cell_type": "code",
   "execution_count": 90,
   "metadata": {},
   "outputs": [],
   "source": [
    "model.reactions.EAR140x.bounds = (-1000,0)"
   ]
  },
  {
   "cell_type": "code",
   "execution_count": 91,
   "metadata": {},
   "outputs": [],
   "source": [
    "#add EAR140y reaction\n",
    "model.add_reaction(Reaction(id='EAR140y', name = 'Enoyl-[acyl-carrier-protein] reductase (NADPH) (n-C14:0)'))"
   ]
  },
  {
   "cell_type": "code",
   "execution_count": 92,
   "metadata": {},
   "outputs": [],
   "source": [
    "model.reactions.EAR140y.annotation = model_e_coli.reactions.EAR140y.annotation"
   ]
  },
  {
   "cell_type": "code",
   "execution_count": 93,
   "metadata": {},
   "outputs": [],
   "source": [
    "model.reactions.EAR140y.bounds = (0,1000)"
   ]
  },
  {
   "cell_type": "code",
   "execution_count": 94,
   "metadata": {},
   "outputs": [],
   "source": [
    "model.reactions.EAR140y.add_metabolites({\n",
    "    model.metabolites.h_c:-1,\n",
    "    model.metabolites.nadph_c:-1,\n",
    "    model.metabolites.tmrs2eACP_c:-1,\n",
    "    model.metabolites.myrsACP_c:1,\n",
    "    model.metabolites.nadp_c:1\n",
    "})"
   ]
  },
  {
   "cell_type": "code",
   "execution_count": 95,
   "metadata": {},
   "outputs": [],
   "source": [
    "model.metabolites.myrsACP_c.name = 'Tetradecanoyl-[acp]'"
   ]
  },
  {
   "cell_type": "code",
   "execution_count": 96,
   "metadata": {},
   "outputs": [],
   "source": [
    "#finished up to C14:0, \n",
    "#save&commit\n",
    "cobra.io.write_sbml_model(model,'../../model/g-thermo.xml')"
   ]
  },
  {
   "cell_type": "markdown",
   "metadata": {},
   "source": [
    "Now onto C16:0"
   ]
  },
  {
   "cell_type": "code",
   "execution_count": 97,
   "metadata": {},
   "outputs": [],
   "source": [
    "model.reactions.MMACPAT.id = '3OAS160'"
   ]
  },
  {
   "cell_type": "code",
   "execution_count": 98,
   "metadata": {
    "scrolled": true
   },
   "outputs": [],
   "source": [
    "model.metabolites.get_by_id('3oxhdacp_c').id = '3opalmACP_c'"
   ]
  },
  {
   "cell_type": "code",
   "execution_count": 99,
   "metadata": {},
   "outputs": [],
   "source": [
    "model.reactions.get_by_id('3HAD160').bounds = (0,1000)"
   ]
  },
  {
   "cell_type": "code",
   "execution_count": 100,
   "metadata": {},
   "outputs": [],
   "source": [
    "model.reactions.OPALMACPOR.id = 'EAR160x'"
   ]
  },
  {
   "cell_type": "code",
   "execution_count": 101,
   "metadata": {},
   "outputs": [],
   "source": [
    "model.reactions.EAR160x.bounds = (-1000,0)"
   ]
  },
  {
   "cell_type": "code",
   "execution_count": 102,
   "metadata": {},
   "outputs": [],
   "source": [
    "model.metabolites.hdeacp_c.id = 'palmACP_c'"
   ]
  },
  {
   "cell_type": "code",
   "execution_count": 103,
   "metadata": {},
   "outputs": [],
   "source": [
    "#add EAR160y\n",
    "model.add_reaction(Reaction(id='EAR160y', name = 'Enoyl-[acyl-carrier-protein] reductase (NADPH) (n-C16:0)'))"
   ]
  },
  {
   "cell_type": "code",
   "execution_count": 104,
   "metadata": {},
   "outputs": [],
   "source": [
    "model.reactions.EAR160y.annotation = model_e_coli.reactions.EAR160y.annotation"
   ]
  },
  {
   "cell_type": "code",
   "execution_count": 105,
   "metadata": {},
   "outputs": [],
   "source": [
    "model.reactions.EAR160y.add_metabolites({\n",
    "    model.metabolites.h_c:-1,\n",
    "    model.metabolites.nadph_c:-1,\n",
    "    model.metabolites.tpalm2eACP_c:-1,\n",
    "    model.metabolites.nadp_c:1,\n",
    "    model.metabolites.palmACP_c:1\n",
    "})"
   ]
  },
  {
   "cell_type": "code",
   "execution_count": 106,
   "metadata": {},
   "outputs": [],
   "source": [
    "#finished until c16:0\n",
    "cobra.io.write_sbml_model(model,'../../model/g-thermo.xml')"
   ]
  },
  {
   "cell_type": "markdown",
   "metadata": {},
   "source": [
    "Now onto C18:0"
   ]
  },
  {
   "cell_type": "code",
   "execution_count": 107,
   "metadata": {},
   "outputs": [],
   "source": [
    "model.reactions.HDEACPT.id = '3OAS180'"
   ]
  },
  {
   "cell_type": "code",
   "execution_count": 108,
   "metadata": {},
   "outputs": [],
   "source": [
    "model.reactions.OXSTACPOR.id = '3OAR180'"
   ]
  },
  {
   "cell_type": "code",
   "execution_count": 109,
   "metadata": {},
   "outputs": [],
   "source": [
    "model.reactions.get_by_id('3HAD180').bounds = (0,1000)"
   ]
  },
  {
   "cell_type": "code",
   "execution_count": 110,
   "metadata": {},
   "outputs": [],
   "source": [
    "model.reactions.TOCTDACPOR.id = 'EAR180x'"
   ]
  },
  {
   "cell_type": "code",
   "execution_count": 111,
   "metadata": {},
   "outputs": [],
   "source": [
    "model.reactions.EAR180x.bounds = (0,1000)"
   ]
  },
  {
   "cell_type": "code",
   "execution_count": 112,
   "metadata": {},
   "outputs": [],
   "source": [
    "#add EAR180y\n",
    "model.add_reaction(Reaction(id='EAR180y', name = 'Enoyl-[acyl-carrier-protein] reductase (NADPH) (n-C18:0)'))"
   ]
  },
  {
   "cell_type": "code",
   "execution_count": 113,
   "metadata": {},
   "outputs": [],
   "source": [
    "model.reactions.EAR180y.annotation = model_e_coli.reactions.EAR180y.annotation"
   ]
  },
  {
   "cell_type": "code",
   "execution_count": 114,
   "metadata": {},
   "outputs": [],
   "source": [
    "model.reactions.EAR180y.add_metabolites({\n",
    "    model.metabolites.h_c:-1,\n",
    "    model.metabolites.nadph_c:-1,\n",
    "    model.metabolites.toctd2eACP_c:-1,\n",
    "    model.metabolites.nadp_c:1,\n",
    "    model.metabolites.ocdcaACP_c:1\n",
    "})"
   ]
  },
  {
   "cell_type": "code",
   "execution_count": 115,
   "metadata": {},
   "outputs": [],
   "source": [
    "model.reactions.EAR180y.gene_reaction_rule = model.reactions.EAR180x.gene_reaction_rule"
   ]
  },
  {
   "cell_type": "code",
   "execution_count": 116,
   "metadata": {},
   "outputs": [],
   "source": [
    "model.reactions.EAR160y.gene_reaction_rule = model.reactions.EAR160x.gene_reaction_rule\n",
    "model.reactions.EAR140y.gene_reaction_rule = model.reactions.EAR140x.gene_reaction_rule\n",
    "model.reactions.EAR120y.gene_reaction_rule = model.reactions.EAR120x.gene_reaction_rule\n",
    "model.reactions.EAR100y.gene_reaction_rule = model.reactions.EAR100x.gene_reaction_rule\n",
    "model.reactions.EAR80y.gene_reaction_rule = model.reactions.EAR80x.gene_reaction_rule\n",
    "model.reactions.EAR60y.gene_reaction_rule = model.reactions.EAR60x.gene_reaction_rule\n",
    "model.reactions.EAR40y.gene_reaction_rule = model.reactions.EAR40x.gene_reaction_rule"
   ]
  },
  {
   "cell_type": "code",
   "execution_count": 117,
   "metadata": {},
   "outputs": [],
   "source": [
    "#finished up to C18:0\n",
    "cobra.io.write_sbml_model(model,'../../model/g-thermo.xml')"
   ]
  },
  {
   "cell_type": "markdown",
   "metadata": {},
   "source": [
    "Now I've finished making sure the pathway for the generation of the saturated, unbranched fatty acids is correct. Next I will tackle the unbranched, uneven carbon length fatty acids. \n",
    "\n",
    "### Unbranched, saturated odd-carbon fatty acids\n",
    "\n",
    "These are made in the same way as the Even-chain saturated FAs, but the first molecule of the process is propionyl-CoA (C3) instead of acetyl-CoA (C2). So here I will go all the way from the C3 to the C17:0 pathway. \n",
    "So here, I will add all the steps in the pathway similarly to the even chain fatty acids."
   ]
  },
  {
   "cell_type": "code",
   "execution_count": 118,
   "metadata": {},
   "outputs": [],
   "source": [
    "model = cobra.io.read_sbml_model('../../model/g-thermo.xml')"
   ]
  },
  {
   "cell_type": "code",
   "execution_count": 128,
   "metadata": {},
   "outputs": [],
   "source": [
    "#first need to form propionyl-ACP from prorionyl-Coa, similar to the MCOATA reaction\n",
    "#first add propionyl-ACP met\n",
    "model.add_metabolites(Metabolite(id='propACP_c', name = 'Propionyl-ACP', charge =-1, compartment = 'c', formula = 'C14H25N2O8PRS'))"
   ]
  },
  {
   "cell_type": "code",
   "execution_count": 129,
   "metadata": {
    "scrolled": true
   },
   "outputs": [],
   "source": [
    "model.metabolites.propACP_c.annotation['sbo'] = 'SBO:0000247'"
   ]
  },
  {
   "cell_type": "code",
   "execution_count": 130,
   "metadata": {},
   "outputs": [
    {
     "name": "stderr",
     "output_type": "stream",
     "text": [
      "Ignoring reaction 'PCOATA' since it already exists.\n"
     ]
    }
   ],
   "source": [
    "#add reaction\n",
    "model.add_reaction(Reaction(id='PCOATA', name = 'Propanyl-CoA:[acyl-carrier-protein] S-malonyltransferase'))"
   ]
  },
  {
   "cell_type": "code",
   "execution_count": 131,
   "metadata": {},
   "outputs": [],
   "source": [
    "model.reactions.PCOATA.annotation['sbo'] = 'SBO:0000176'"
   ]
  },
  {
   "cell_type": "code",
   "execution_count": 132,
   "metadata": {},
   "outputs": [],
   "source": [
    "model.reactions.PCOATA.add_metabolites({\n",
    "    model.metabolites.ppcoa_c:-1,\n",
    "    model.metabolites.ACP_c:-1,\n",
    "    model.metabolites.propACP_c:1,\n",
    "    model.metabolites.coa_c:1,\n",
    "    model.metabolites.h_c:1\n",
    "})"
   ]
  },
  {
   "cell_type": "code",
   "execution_count": 133,
   "metadata": {},
   "outputs": [],
   "source": [
    "model.reactions.PCOATA.bounds = (-1000,1000)"
   ]
  },
  {
   "cell_type": "code",
   "execution_count": 134,
   "metadata": {},
   "outputs": [],
   "source": [
    "#add condenstation of prop-ACP with malonyl ACP to 3-oxopentanoyl-ACP\n",
    "#add metabolite\n",
    "model.add_metabolites(Metabolite(id='3opentACP_c', name = '3-oxopentanoyl-ACP', compartment = 'c', charge =-1, formula = 'C16H27O9N2PRS'))"
   ]
  },
  {
   "cell_type": "code",
   "execution_count": 135,
   "metadata": {},
   "outputs": [],
   "source": [
    "model.metabolites.get_by_id('3opentACP_c').annotation['sbo'] = 'SBO:0000176'"
   ]
  },
  {
   "cell_type": "code",
   "execution_count": 136,
   "metadata": {},
   "outputs": [],
   "source": [
    "#add reaction\n",
    "model.add_reaction(Reaction(id='3OAS50', name = '3-oxopentanoyl-[acyl-carrier-protein] synthase (n-C5:0)'))"
   ]
  },
  {
   "cell_type": "code",
   "execution_count": 137,
   "metadata": {},
   "outputs": [],
   "source": [
    "model.reactions.get_by_id('3OAS50').annotation['sbo'] = 'SBO:0000176'"
   ]
  },
  {
   "cell_type": "code",
   "execution_count": 138,
   "metadata": {},
   "outputs": [],
   "source": [
    "#assume GPR is the same FAget_by_id('3OAS50')synthase: RTMO12345\n",
    "model.reactions.get_by_id('3OAS50').gene_reaction_rule = 'RTMO12345'"
   ]
  },
  {
   "cell_type": "code",
   "execution_count": 139,
   "metadata": {},
   "outputs": [],
   "source": [
    "model.reactions.get_by_id('3OAS50').add_metabolites({\n",
    "    model.metabolites.malACP_c:-1,\n",
    "    model.metabolites.propACP_c:-1,\n",
    "    model.metabolites.ACP_c:1,\n",
    "    model.metabolites.co2_c:1,\n",
    "    model.metabolites.get_by_id('3opentACP_c'):1,\n",
    "    model.metabolites.h_c:-1\n",
    "})"
   ]
  },
  {
   "cell_type": "code",
   "execution_count": 148,
   "metadata": {},
   "outputs": [],
   "source": [
    "#next add reaction with NADPH\n",
    "#first add 3-Hydroxypentanoyl-[acp] met\n",
    "model.add_metabolites(Metabolite(id='3hpentACP_c', name = '3-Hydroxypentanoyl-[acp]', compartment = 'c', charge = -1, formula = 'C16H29O9N2PRS'))"
   ]
  },
  {
   "cell_type": "code",
   "execution_count": 149,
   "metadata": {},
   "outputs": [],
   "source": [
    "model.metabolites.get_by_id('3hpentACP_c').annotation['sbo'] = 'SBO:0000247'"
   ]
  },
  {
   "cell_type": "code",
   "execution_count": 158,
   "metadata": {},
   "outputs": [],
   "source": [
    "#add reaction\n",
    "model.add_reaction(Reaction(id='3OAR50', name = ' 3-oxoacyl-[acyl-carrier-protein] reductase (n-C5:0)'))"
   ]
  },
  {
   "cell_type": "code",
   "execution_count": 159,
   "metadata": {},
   "outputs": [],
   "source": [
    "model.reactions.get_by_id('3OAR50').annotation['sbo'] = 'SBO:0000176'"
   ]
  },
  {
   "cell_type": "code",
   "execution_count": 160,
   "metadata": {},
   "outputs": [],
   "source": [
    "#assume GPR is the same FAget_by_id('3OAS50')synthase: RTMO12345\n",
    "model.reactions.get_by_id('3OAR50').gene_reaction_rule = 'RTMO12345'"
   ]
  },
  {
   "cell_type": "code",
   "execution_count": 161,
   "metadata": {},
   "outputs": [],
   "source": [
    "model.reactions.get_by_id('3OAR50').add_metabolites({\n",
    "    model.metabolites.get_by_id('3opentACP_c'):-1,\n",
    "    model.metabolites.nadph_c:-1,\n",
    "    model.metabolites.nadp_c:1,\n",
    "    model.metabolites.get_by_id('3hpentACP_c'):1,\n",
    "    model.metabolites.h_c:-1\n",
    "})"
   ]
  },
  {
   "cell_type": "code",
   "execution_count": 165,
   "metadata": {},
   "outputs": [],
   "source": [
    "#next add the tpent2eACP_c metabolite\n",
    "model.add_metabolites(Metabolite(id='tpent2eACP_c', name = 'Trans-Pent-2-enoyl-[acyl-carrier protein]', compartment = 'c', charge = -1, formula = 'C16H27O8N2PRS'))"
   ]
  },
  {
   "cell_type": "code",
   "execution_count": 166,
   "metadata": {},
   "outputs": [],
   "source": [
    "model.metabolites.get_by_id('tpent2eACP_c').annotation['sbo'] = 'SBO:0000247'"
   ]
  },
  {
   "cell_type": "code",
   "execution_count": 169,
   "metadata": {},
   "outputs": [],
   "source": [
    "#add reaction\n",
    "model.add_reaction(Reaction(id='3HAD50', name = '3-hydroxyacyl-[acyl-carrier-protein] dehydratase (n-C5:0)'))"
   ]
  },
  {
   "cell_type": "code",
   "execution_count": 170,
   "metadata": {},
   "outputs": [],
   "source": [
    "model.reactions.get_by_id('3HAD50').annotation['sbo'] = 'SBO:0000176'"
   ]
  },
  {
   "cell_type": "code",
   "execution_count": 171,
   "metadata": {},
   "outputs": [],
   "source": [
    "#assume GPR is the same FAget_by_id('3OAS50')synthase: RTMO12345\n",
    "model.reactions.get_by_id('3HAD50').gene_reaction_rule = 'RTMO12345'"
   ]
  },
  {
   "cell_type": "code",
   "execution_count": 172,
   "metadata": {},
   "outputs": [],
   "source": [
    "model.reactions.get_by_id('3HAD50').add_metabolites({\n",
    "    model.metabolites.get_by_id('3hpentACP_c'):-1,\n",
    "    model.metabolites.h2o_c:1,\n",
    "    model.metabolites.tpent2eACP_c:1\n",
    "})"
   ]
  },
  {
   "cell_type": "code",
   "execution_count": null,
   "metadata": {},
   "outputs": [],
   "source": [
    "#last step here is thhe conversion to C7:0\n",
    "#ass both NADPH and NADH reactions or just one? "
   ]
  },
  {
   "cell_type": "code",
   "execution_count": null,
   "metadata": {},
   "outputs": [],
   "source": []
  },
  {
   "cell_type": "code",
   "execution_count": null,
   "metadata": {},
   "outputs": [],
   "source": []
  },
  {
   "cell_type": "markdown",
   "metadata": {},
   "source": [
    "Once I've finished this one cycle, save & commit\n",
    "then I can copy this one complete cycle and just clowly go through it and fix it every time. \n",
    "As the unbrnahc chain synthesis is not in kegg, i will not include it in the group."
   ]
  },
  {
   "cell_type": "code",
   "execution_count": 163,
   "metadata": {},
   "outputs": [
    {
     "data": {
      "text/html": [
       "\n",
       "        <table>\n",
       "            <tr>\n",
       "                <td><strong>Metabolite identifier</strong></td><td>3hpentACP_c</td>\n",
       "            </tr><tr>\n",
       "                <td><strong>Name</strong></td><td>3-Hydroxypentanoyl-[acp]</td>\n",
       "            </tr><tr>\n",
       "                <td><strong>Memory address</strong></td>\n",
       "                <td>0x0220df4dc308</td>\n",
       "            </tr><tr>\n",
       "                <td><strong>Formula</strong></td><td>C16H29O9N2PRS</td>\n",
       "            </tr><tr>\n",
       "                <td><strong>Compartment</strong></td><td>c</td>\n",
       "            </tr><tr>\n",
       "                <td><strong>In 1 reaction(s)</strong></td><td>\n",
       "                    3OAR50</td>\n",
       "            </tr>\n",
       "        </table>"
      ],
      "text/plain": [
       "<Metabolite 3hpentACP_c at 0x220df4dc308>"
      ]
     },
     "execution_count": 163,
     "metadata": {},
     "output_type": "execute_result"
    }
   ],
   "source": [
    "model.metabolites.get_by_id('3hpentACP_c')"
   ]
  },
  {
   "cell_type": "code",
   "execution_count": null,
   "metadata": {},
   "outputs": [],
   "source": []
  },
  {
   "cell_type": "markdown",
   "metadata": {},
   "source": [
    "For each cycle: add 4 reactions:\n",
    "1) 3OASXX: Addition of amalonyl-ACP to the growing ACP-chain. Adding a C2OH2 to the chain to give the 3oXXACP_c metabolite\n",
    "\n",
    "2) 3OARXX: reducing double bond with NADPH addition (REVERSIBLE). Just adds H2 to the metabolite to give 3hXXXACP_c metabolite\n",
    "    - name: 3-oxoacyl-[acyl-carrier-protein] reductase (n-CX:0)\n",
    "    - charge: no change\n",
    "\n",
    "3) 3HADXX: removed H2O (irreversible) from the met to give tXX2eACP_c metabolite\n",
    "    - name : 3-hydroxyacyl-[acyl-carrier-protein] dehydratase (n-CX:0)\n",
    "\n",
    "\n",
    "4) EARXXx and EARXXy: met reacts with NAD(P)H to give the Cn+2-ACP metabolite that can then enter the next cycle again.\n",
    "\n",
    "Do this all the way up until C17:0. \n",
    "\n",
    "https://en.wikipedia.org/wiki/List_of_saturated_fatty_acids \n",
    "https://en.wikipedia.org/wiki/Fatty_acid_synthesis#/media/File:Saturated_Fatty_Acid_Synthesis.svg"
   ]
  },
  {
   "cell_type": "code",
   "execution_count": 167,
   "metadata": {},
   "outputs": [
    {
     "data": {
      "text/html": [
       "<div>\n",
       "<style scoped>\n",
       "    .dataframe tbody tr th:only-of-type {\n",
       "        vertical-align: middle;\n",
       "    }\n",
       "\n",
       "    .dataframe tbody tr th {\n",
       "        vertical-align: top;\n",
       "    }\n",
       "\n",
       "    .dataframe thead th {\n",
       "        text-align: right;\n",
       "    }\n",
       "</style>\n",
       "<table border=\"1\" class=\"dataframe\">\n",
       "  <thead>\n",
       "    <tr style=\"text-align: right;\">\n",
       "      <th></th>\n",
       "      <th></th>\n",
       "      <th>PERCENT</th>\n",
       "      <th>FLUX</th>\n",
       "      <th>REACTION_STRING</th>\n",
       "    </tr>\n",
       "    <tr>\n",
       "      <th>RXN_STAT</th>\n",
       "      <th>ID</th>\n",
       "      <th></th>\n",
       "      <th></th>\n",
       "      <th></th>\n",
       "    </tr>\n",
       "  </thead>\n",
       "  <tbody>\n",
       "    <tr>\n",
       "      <th rowspan=\"3\" valign=\"top\">PRODUCING</th>\n",
       "      <th>3HAD60</th>\n",
       "      <td>NaN</td>\n",
       "      <td>0.0</td>\n",
       "      <td>3hhexACP_c --&gt; h2o_c + thex2eACP_c</td>\n",
       "    </tr>\n",
       "    <tr>\n",
       "      <th>EAR60x</th>\n",
       "      <td>NaN</td>\n",
       "      <td>0.0</td>\n",
       "      <td>hexacp_c + nad_c &lt;-- h_c + nadh_c + thex2eACP_c</td>\n",
       "    </tr>\n",
       "    <tr>\n",
       "      <th>EAR60y</th>\n",
       "      <td>NaN</td>\n",
       "      <td>0.0</td>\n",
       "      <td>hexacp_c + nadp_c &lt;-- h_c + nadph_c + thex2eACP_c</td>\n",
       "    </tr>\n",
       "  </tbody>\n",
       "</table>\n",
       "</div>"
      ],
      "text/plain": [
       "<cobra.core.summary.metabolite_summary.MetaboliteSummary at 0x220e72ac108>"
      ]
     },
     "execution_count": 167,
     "metadata": {},
     "output_type": "execute_result"
    }
   ],
   "source": [
    "model.metabolites.thex2eACP_c.summary()"
   ]
  },
  {
   "cell_type": "code",
   "execution_count": 168,
   "metadata": {},
   "outputs": [
    {
     "data": {
      "text/html": [
       "\n",
       "        <table>\n",
       "            <tr>\n",
       "                <td><strong>Reaction identifier</strong></td><td>3HAD60</td>\n",
       "            </tr><tr>\n",
       "                <td><strong>Name</strong></td><td>3-hydroxyacyl-[acyl-carrier-protein] dehydratase (n-C6:0)</td>\n",
       "            </tr><tr>\n",
       "                <td><strong>Memory address</strong></td>\n",
       "                <td>0x0220d9d40fc8</td>\n",
       "            </tr><tr>\n",
       "                <td><strong>Stoichiometry</strong></td>\n",
       "                <td>\n",
       "                    <p style='text-align:right'>3hhexACP_c --> h2o_c + thex2eACP_c</p>\n",
       "                    <p style='text-align:right'>(R)-3-Hydroxyhexanoyl-[acyl-carrier protein] --> H2O H2O + Trans-Hex-2-enoyl-[acyl-carrier protein]</p>\n",
       "                </td>\n",
       "            </tr><tr>\n",
       "                <td><strong>GPR</strong></td><td>b0954 or b0180</td>\n",
       "            </tr><tr>\n",
       "                <td><strong>Lower bound</strong></td><td>0.0</td>\n",
       "            </tr><tr>\n",
       "                <td><strong>Upper bound</strong></td><td>1000.0</td>\n",
       "            </tr>\n",
       "        </table>\n",
       "        "
      ],
      "text/plain": [
       "<Reaction 3HAD60 at 0x220d9d40fc8>"
      ]
     },
     "execution_count": 168,
     "metadata": {},
     "output_type": "execute_result"
    }
   ],
   "source": [
    "model_e_coli.reactions.get_by_id('3HAD60')"
   ]
  },
  {
   "cell_type": "code",
   "execution_count": 326,
   "metadata": {},
   "outputs": [
    {
     "data": {
      "text/html": [
       "\n",
       "        <table>\n",
       "            <tr>\n",
       "                <td><strong>Metabolite identifier</strong></td><td>propACP_c</td>\n",
       "            </tr><tr>\n",
       "                <td><strong>Name</strong></td><td>Propionyl-ACP</td>\n",
       "            </tr><tr>\n",
       "                <td><strong>Memory address</strong></td>\n",
       "                <td>0x0260a1466448</td>\n",
       "            </tr><tr>\n",
       "                <td><strong>Formula</strong></td><td>C14H25N2O8PRS</td>\n",
       "            </tr><tr>\n",
       "                <td><strong>Compartment</strong></td><td>c</td>\n",
       "            </tr><tr>\n",
       "                <td><strong>In 2 reaction(s)</strong></td><td>\n",
       "                    3OAS50, PCOATA</td>\n",
       "            </tr>\n",
       "        </table>"
      ],
      "text/plain": [
       "<Metabolite propACP_c at 0x260a1466448>"
      ]
     },
     "execution_count": 326,
     "metadata": {},
     "output_type": "execute_result"
    }
   ],
   "source": [
    "model.metabolites.propACP_c"
   ]
  },
  {
   "cell_type": "code",
   "execution_count": 157,
   "metadata": {},
   "outputs": [
    {
     "data": {
      "text/html": [
       "\n",
       "        <table>\n",
       "            <tr>\n",
       "                <td><strong>Reaction identifier</strong></td><td>3OAR60</td>\n",
       "            </tr><tr>\n",
       "                <td><strong>Name</strong></td><td>(3R)-3-Hydroxyhexanoyl-[acyl-carrier-protein]:NADP+ oxidoreductase</td>\n",
       "            </tr><tr>\n",
       "                <td><strong>Memory address</strong></td>\n",
       "                <td>0x0220df8821c8</td>\n",
       "            </tr><tr>\n",
       "                <td><strong>Stoichiometry</strong></td>\n",
       "                <td>\n",
       "                    <p style='text-align:right'>3hhexACP_c + nadp_c <=> 3ohexACP_c + h_c + nadph_c</p>\n",
       "                    <p style='text-align:right'>3-Hydroxyhexanoyl-[acp] + NADP+ <=> 3-Oxohexanoyl-[acp] + H+ + NADPH</p>\n",
       "                </td>\n",
       "            </tr><tr>\n",
       "                <td><strong>GPR</strong></td><td>RTMO12345</td>\n",
       "            </tr><tr>\n",
       "                <td><strong>Lower bound</strong></td><td>-1000.0</td>\n",
       "            </tr><tr>\n",
       "                <td><strong>Upper bound</strong></td><td>1000.0</td>\n",
       "            </tr>\n",
       "        </table>\n",
       "        "
      ],
      "text/plain": [
       "<Reaction 3OAR60 at 0x220df8821c8>"
      ]
     },
     "execution_count": 157,
     "metadata": {},
     "output_type": "execute_result"
    }
   ],
   "source": [
    "model.reactions.get_by_id('3OAR60')"
   ]
  },
  {
   "cell_type": "code",
   "execution_count": 245,
   "metadata": {},
   "outputs": [
    {
     "data": {
      "text/html": [
       "<div>\n",
       "<style scoped>\n",
       "    .dataframe tbody tr th:only-of-type {\n",
       "        vertical-align: middle;\n",
       "    }\n",
       "\n",
       "    .dataframe tbody tr th {\n",
       "        vertical-align: top;\n",
       "    }\n",
       "\n",
       "    .dataframe thead th {\n",
       "        text-align: right;\n",
       "    }\n",
       "</style>\n",
       "<table border=\"1\" class=\"dataframe\">\n",
       "  <thead>\n",
       "    <tr style=\"text-align: right;\">\n",
       "      <th></th>\n",
       "      <th></th>\n",
       "      <th>PERCENT</th>\n",
       "      <th>FLUX</th>\n",
       "      <th>REACTION_STRING</th>\n",
       "    </tr>\n",
       "    <tr>\n",
       "      <th>RXN_STAT</th>\n",
       "      <th>ID</th>\n",
       "      <th></th>\n",
       "      <th></th>\n",
       "      <th></th>\n",
       "    </tr>\n",
       "  </thead>\n",
       "  <tbody>\n",
       "    <tr>\n",
       "      <th rowspan=\"8\" valign=\"top\">PRODUCING</th>\n",
       "      <th>ACACT10m</th>\n",
       "      <td>NaN</td>\n",
       "      <td>0.0</td>\n",
       "      <td>2maacoa_c + coa_c --&gt; accoa_c + ppcoa_c</td>\n",
       "    </tr>\n",
       "    <tr>\n",
       "      <th>MMSAD1</th>\n",
       "      <td>NaN</td>\n",
       "      <td>0.0</td>\n",
       "      <td>2mop_c + coa_c + h_c + nad_c --&gt; co2_c + nadh_...</td>\n",
       "    </tr>\n",
       "    <tr>\n",
       "      <th>MMSDH</th>\n",
       "      <td>NaN</td>\n",
       "      <td>0.0</td>\n",
       "      <td>coa_c + mmtsa_c + nad_c --&gt; co2_c + nadh_c + p...</td>\n",
       "    </tr>\n",
       "    <tr>\n",
       "      <th>OBTFL</th>\n",
       "      <td>NaN</td>\n",
       "      <td>0.0</td>\n",
       "      <td>2obut_c + coa_c + h_c --&gt; for_c + ppcoa_c</td>\n",
       "    </tr>\n",
       "    <tr>\n",
       "      <th>PAMPT</th>\n",
       "      <td>NaN</td>\n",
       "      <td>0.0</td>\n",
       "      <td>coa_c + pamp_c --&gt; amp_c + h_c + ppcoa_c</td>\n",
       "    </tr>\n",
       "    <tr>\n",
       "      <th>PPCOAC</th>\n",
       "      <td>NaN</td>\n",
       "      <td>0.0</td>\n",
       "      <td>atp_c + hco3_c + ppcoa_c --&gt; adp_c + h_c + mmc...</td>\n",
       "    </tr>\n",
       "    <tr>\n",
       "      <th>PPCOAOm</th>\n",
       "      <td>NaN</td>\n",
       "      <td>0.0</td>\n",
       "      <td>fad_c + 3.0 h_c + ppcoa_c &lt;=&gt; fadh2_c + prpncoa_c</td>\n",
       "    </tr>\n",
       "    <tr>\n",
       "      <th>PTA2</th>\n",
       "      <td>NaN</td>\n",
       "      <td>0.0</td>\n",
       "      <td>pi_c + ppcoa_c --&gt; coa_c + ppap_c</td>\n",
       "    </tr>\n",
       "  </tbody>\n",
       "</table>\n",
       "</div>"
      ],
      "text/plain": [
       "<cobra.core.summary.metabolite_summary.MetaboliteSummary at 0x260aa4043c8>"
      ]
     },
     "execution_count": 245,
     "metadata": {},
     "output_type": "execute_result"
    }
   ],
   "source": [
    "model.metabolites.ppcoa_c.summary()"
   ]
  },
  {
   "cell_type": "code",
   "execution_count": 288,
   "metadata": {},
   "outputs": [
    {
     "data": {
      "text/html": [
       "<div>\n",
       "<style scoped>\n",
       "    .dataframe tbody tr th:only-of-type {\n",
       "        vertical-align: middle;\n",
       "    }\n",
       "\n",
       "    .dataframe tbody tr th {\n",
       "        vertical-align: top;\n",
       "    }\n",
       "\n",
       "    .dataframe thead th {\n",
       "        text-align: right;\n",
       "    }\n",
       "</style>\n",
       "<table border=\"1\" class=\"dataframe\">\n",
       "  <thead>\n",
       "    <tr style=\"text-align: right;\">\n",
       "      <th></th>\n",
       "      <th></th>\n",
       "      <th>PERCENT</th>\n",
       "      <th>FLUX</th>\n",
       "      <th>REACTION_STRING</th>\n",
       "    </tr>\n",
       "    <tr>\n",
       "      <th>RXN_STAT</th>\n",
       "      <th>ID</th>\n",
       "      <th></th>\n",
       "      <th></th>\n",
       "      <th></th>\n",
       "    </tr>\n",
       "  </thead>\n",
       "  <tbody>\n",
       "    <tr>\n",
       "      <th>PRODUCING</th>\n",
       "      <th>MCOATA</th>\n",
       "      <td>100.00000</td>\n",
       "      <td>0.068255</td>\n",
       "      <td>ACP_c + malcoa_c &lt;=&gt; coa_c + malACP_c</td>\n",
       "    </tr>\n",
       "    <tr>\n",
       "      <th>CONSUMING</th>\n",
       "      <th>3OAS140</th>\n",
       "      <td>99.99486</td>\n",
       "      <td>0.068251</td>\n",
       "      <td>ddcaACP_c + h_c + malACP_c --&gt; 3omrsACP_c + AC...</td>\n",
       "    </tr>\n",
       "  </tbody>\n",
       "</table>\n",
       "</div>"
      ],
      "text/plain": [
       "<cobra.core.summary.metabolite_summary.MetaboliteSummary at 0x260abadb088>"
      ]
     },
     "execution_count": 288,
     "metadata": {},
     "output_type": "execute_result"
    }
   ],
   "source": [
    "model_e_coli.metabolites.malACP_c.summary()"
   ]
  },
  {
   "cell_type": "code",
   "execution_count": 253,
   "metadata": {},
   "outputs": [
    {
     "data": {
      "text/html": [
       "\n",
       "        <table>\n",
       "            <tr>\n",
       "                <td><strong>Reaction identifier</strong></td><td>EAR80x</td>\n",
       "            </tr><tr>\n",
       "                <td><strong>Name</strong></td><td>octanoyl-[acp]:NAD+ trans-2-oxidoreductase</td>\n",
       "            </tr><tr>\n",
       "                <td><strong>Memory address</strong></td>\n",
       "                <td>0x0260a8cb4e88</td>\n",
       "            </tr><tr>\n",
       "                <td><strong>Stoichiometry</strong></td>\n",
       "                <td>\n",
       "                    <p style='text-align:right'>nad_c + ocACP_c <-- h_c + nadh_c + toct2eACP_c</p>\n",
       "                    <p style='text-align:right'>NAD+ + Octanoyl-[acp] <-- H+ + NADH + trans-Oct-2-enoyl-[acp]</p>\n",
       "                </td>\n",
       "            </tr><tr>\n",
       "                <td><strong>GPR</strong></td><td>RTMO12345</td>\n",
       "            </tr><tr>\n",
       "                <td><strong>Lower bound</strong></td><td>-1000</td>\n",
       "            </tr><tr>\n",
       "                <td><strong>Upper bound</strong></td><td>0</td>\n",
       "            </tr>\n",
       "        </table>\n",
       "        "
      ],
      "text/plain": [
       "<Reaction EAR80x at 0x260a8cb4e88>"
      ]
     },
     "execution_count": 253,
     "metadata": {},
     "output_type": "execute_result"
    }
   ],
   "source": [
    "model.reactions.EAR80x"
   ]
  },
  {
   "cell_type": "code",
   "execution_count": null,
   "metadata": {},
   "outputs": [],
   "source": [
    "RTMO12345"
   ]
  },
  {
   "cell_type": "code",
   "execution_count": null,
   "metadata": {},
   "outputs": [],
   "source": []
  },
  {
   "cell_type": "code",
   "execution_count": null,
   "metadata": {},
   "outputs": [],
   "source": []
  },
  {
   "cell_type": "code",
   "execution_count": null,
   "metadata": {},
   "outputs": [],
   "source": []
  },
  {
   "cell_type": "code",
   "execution_count": null,
   "metadata": {},
   "outputs": [],
   "source": []
  },
  {
   "cell_type": "markdown",
   "metadata": {},
   "source": []
  },
  {
   "cell_type": "code",
   "execution_count": null,
   "metadata": {},
   "outputs": [],
   "source": [
    "#add all new reactions to the fatty acid biosynthesis group\n",
    "reactions = [model.reactions.EAR160y, model.reactions.EAR180y,model.reactions.EAR140y, model.reactions.EAR120y, model.reactions.EAR40y,model.reactions.EAR80y, model.reactions.get_by_id('3OAR40_1'), model.reactions.KAS15, model.reactions.EAR100y]"
   ]
  },
  {
   "cell_type": "code",
   "execution_count": null,
   "metadata": {},
   "outputs": [],
   "source": [
    "#check all mass balances later again!! as this ACP stuff is an issue."
   ]
  },
  {
   "cell_type": "markdown",
   "metadata": {},
   "source": [
    "Go through the pahway for C14, C16 and C18. Then check mass balance is still fine. Then remove them from the 'todo' list above. Save & commit and push so ben can take a look.\n",
    "Wait what is said in the question i raised about the EAR reactions\n",
    "\n",
    "\n",
    "\n",
    "then work on the un-even saturated unbranched chains. "
   ]
  },
  {
   "cell_type": "markdown",
   "metadata": {},
   "source": [
    "15:0 ISO\n",
    "15:0 ANTEISO\n",
    "15:0\n",
    "16:0 ISO\n",
    "17:0 ISO\n",
    "17:0 ANTEISO\n",
    "17:0\n",
    "18:4 w3c\n",
    "\n",
    "Done:\n",
    "- 14:0 : met myrsACP_c\n",
    "- 16:0: met palACP_c\n",
    "- 18:0: met ocdcaACP_c"
   ]
  },
  {
   "cell_type": "code",
   "execution_count": null,
   "metadata": {},
   "outputs": [],
   "source": []
  }
 ],
 "metadata": {
  "kernelspec": {
   "display_name": "Python 3",
   "language": "python",
   "name": "python3"
  },
  "language_info": {
   "codemirror_mode": {
    "name": "ipython",
    "version": 3
   },
   "file_extension": ".py",
   "mimetype": "text/x-python",
   "name": "python",
   "nbconvert_exporter": "python",
   "pygments_lexer": "ipython3",
   "version": "3.7.7"
  }
 },
 "nbformat": 4,
 "nbformat_minor": 4
}
