{
 "cells": [
  {
   "cell_type": "markdown",
   "metadata": {},
   "source": [
    "# Introduction\n",
    "We need to properly include lipid metabolism in the model. For this we will use the restrictive approach, where we need to ensure that we can produce the three lipid heads mentioned in beata's thesis. Then we need to generate a 'general'-acylcoa molecule that reflects the distribution of fatty acids found in te Tang et al. 2009 paper. We can then combine these two into the three 'average' glycerolipids and then include these into the biomass reaction.\n",
    "\n",
    "For the branch chain fatty acids, we need to find some data that can specify in our strain what distribution of branches fatty acids we have. For now, in this notebook I will focus on first getting the phospholipid heads in place, then make sure the production of our 'general' acylcoa is correct and combine them together into our three lipids that can be added into biomass.\n",
    "\n",
    "In this notebook I will tackle the unbranched fatty acids, and the anteiso-fatty acids that we need in the model. i will make a second notebook for the iso-fatty acids to prevent this one from getting way too long. "
   ]
  },
  {
   "cell_type": "code",
   "execution_count": 2,
   "metadata": {},
   "outputs": [
    {
     "data": {
      "application/javascript": [
       "\n",
       "(function(root) {\n",
       "  function now() {\n",
       "    return new Date();\n",
       "  }\n",
       "\n",
       "  var force = true;\n",
       "\n",
       "  if (typeof root._bokeh_onload_callbacks === \"undefined\" || force === true) {\n",
       "    root._bokeh_onload_callbacks = [];\n",
       "    root._bokeh_is_loading = undefined;\n",
       "  }\n",
       "\n",
       "  var JS_MIME_TYPE = 'application/javascript';\n",
       "  var HTML_MIME_TYPE = 'text/html';\n",
       "  var EXEC_MIME_TYPE = 'application/vnd.bokehjs_exec.v0+json';\n",
       "  var CLASS_NAME = 'output_bokeh rendered_html';\n",
       "\n",
       "  /**\n",
       "   * Render data to the DOM node\n",
       "   */\n",
       "  function render(props, node) {\n",
       "    var script = document.createElement(\"script\");\n",
       "    node.appendChild(script);\n",
       "  }\n",
       "\n",
       "  /**\n",
       "   * Handle when an output is cleared or removed\n",
       "   */\n",
       "  function handleClearOutput(event, handle) {\n",
       "    var cell = handle.cell;\n",
       "\n",
       "    var id = cell.output_area._bokeh_element_id;\n",
       "    var server_id = cell.output_area._bokeh_server_id;\n",
       "    // Clean up Bokeh references\n",
       "    if (id != null && id in Bokeh.index) {\n",
       "      Bokeh.index[id].model.document.clear();\n",
       "      delete Bokeh.index[id];\n",
       "    }\n",
       "\n",
       "    if (server_id !== undefined) {\n",
       "      // Clean up Bokeh references\n",
       "      var cmd = \"from bokeh.io.state import curstate; print(curstate().uuid_to_server['\" + server_id + \"'].get_sessions()[0].document.roots[0]._id)\";\n",
       "      cell.notebook.kernel.execute(cmd, {\n",
       "        iopub: {\n",
       "          output: function(msg) {\n",
       "            var id = msg.content.text.trim();\n",
       "            if (id in Bokeh.index) {\n",
       "              Bokeh.index[id].model.document.clear();\n",
       "              delete Bokeh.index[id];\n",
       "            }\n",
       "          }\n",
       "        }\n",
       "      });\n",
       "      // Destroy server and session\n",
       "      var cmd = \"import bokeh.io.notebook as ion; ion.destroy_server('\" + server_id + \"')\";\n",
       "      cell.notebook.kernel.execute(cmd);\n",
       "    }\n",
       "  }\n",
       "\n",
       "  /**\n",
       "   * Handle when a new output is added\n",
       "   */\n",
       "  function handleAddOutput(event, handle) {\n",
       "    var output_area = handle.output_area;\n",
       "    var output = handle.output;\n",
       "\n",
       "    // limit handleAddOutput to display_data with EXEC_MIME_TYPE content only\n",
       "    if ((output.output_type != \"display_data\") || (!output.data.hasOwnProperty(EXEC_MIME_TYPE))) {\n",
       "      return\n",
       "    }\n",
       "\n",
       "    var toinsert = output_area.element.find(\".\" + CLASS_NAME.split(' ')[0]);\n",
       "\n",
       "    if (output.metadata[EXEC_MIME_TYPE][\"id\"] !== undefined) {\n",
       "      toinsert[toinsert.length - 1].firstChild.textContent = output.data[JS_MIME_TYPE];\n",
       "      // store reference to embed id on output_area\n",
       "      output_area._bokeh_element_id = output.metadata[EXEC_MIME_TYPE][\"id\"];\n",
       "    }\n",
       "    if (output.metadata[EXEC_MIME_TYPE][\"server_id\"] !== undefined) {\n",
       "      var bk_div = document.createElement(\"div\");\n",
       "      bk_div.innerHTML = output.data[HTML_MIME_TYPE];\n",
       "      var script_attrs = bk_div.children[0].attributes;\n",
       "      for (var i = 0; i < script_attrs.length; i++) {\n",
       "        toinsert[toinsert.length - 1].firstChild.setAttribute(script_attrs[i].name, script_attrs[i].value);\n",
       "        toinsert[toinsert.length - 1].firstChild.textContent = bk_div.children[0].textContent\n",
       "      }\n",
       "      // store reference to server id on output_area\n",
       "      output_area._bokeh_server_id = output.metadata[EXEC_MIME_TYPE][\"server_id\"];\n",
       "    }\n",
       "  }\n",
       "\n",
       "  function register_renderer(events, OutputArea) {\n",
       "\n",
       "    function append_mime(data, metadata, element) {\n",
       "      // create a DOM node to render to\n",
       "      var toinsert = this.create_output_subarea(\n",
       "        metadata,\n",
       "        CLASS_NAME,\n",
       "        EXEC_MIME_TYPE\n",
       "      );\n",
       "      this.keyboard_manager.register_events(toinsert);\n",
       "      // Render to node\n",
       "      var props = {data: data, metadata: metadata[EXEC_MIME_TYPE]};\n",
       "      render(props, toinsert[toinsert.length - 1]);\n",
       "      element.append(toinsert);\n",
       "      return toinsert\n",
       "    }\n",
       "\n",
       "    /* Handle when an output is cleared or removed */\n",
       "    events.on('clear_output.CodeCell', handleClearOutput);\n",
       "    events.on('delete.Cell', handleClearOutput);\n",
       "\n",
       "    /* Handle when a new output is added */\n",
       "    events.on('output_added.OutputArea', handleAddOutput);\n",
       "\n",
       "    /**\n",
       "     * Register the mime type and append_mime function with output_area\n",
       "     */\n",
       "    OutputArea.prototype.register_mime_type(EXEC_MIME_TYPE, append_mime, {\n",
       "      /* Is output safe? */\n",
       "      safe: true,\n",
       "      /* Index of renderer in `output_area.display_order` */\n",
       "      index: 0\n",
       "    });\n",
       "  }\n",
       "\n",
       "  // register the mime type if in Jupyter Notebook environment and previously unregistered\n",
       "  if (root.Jupyter !== undefined) {\n",
       "    var events = require('base/js/events');\n",
       "    var OutputArea = require('notebook/js/outputarea').OutputArea;\n",
       "\n",
       "    if (OutputArea.prototype.mime_types().indexOf(EXEC_MIME_TYPE) == -1) {\n",
       "      register_renderer(events, OutputArea);\n",
       "    }\n",
       "  }\n",
       "\n",
       "  \n",
       "  if (typeof (root._bokeh_timeout) === \"undefined\" || force === true) {\n",
       "    root._bokeh_timeout = Date.now() + 5000;\n",
       "    root._bokeh_failed_load = false;\n",
       "  }\n",
       "\n",
       "  var NB_LOAD_WARNING = {'data': {'text/html':\n",
       "     \"<div style='background-color: #fdd'>\\n\"+\n",
       "     \"<p>\\n\"+\n",
       "     \"BokehJS does not appear to have successfully loaded. If loading BokehJS from CDN, this \\n\"+\n",
       "     \"may be due to a slow or bad network connection. Possible fixes:\\n\"+\n",
       "     \"</p>\\n\"+\n",
       "     \"<ul>\\n\"+\n",
       "     \"<li>re-rerun `output_notebook()` to attempt to load from CDN again, or</li>\\n\"+\n",
       "     \"<li>use INLINE resources instead, as so:</li>\\n\"+\n",
       "     \"</ul>\\n\"+\n",
       "     \"<code>\\n\"+\n",
       "     \"from bokeh.resources import INLINE\\n\"+\n",
       "     \"output_notebook(resources=INLINE)\\n\"+\n",
       "     \"</code>\\n\"+\n",
       "     \"</div>\"}};\n",
       "\n",
       "  function display_loaded() {\n",
       "    var el = document.getElementById(null);\n",
       "    if (el != null) {\n",
       "      el.textContent = \"BokehJS is loading...\";\n",
       "    }\n",
       "    if (root.Bokeh !== undefined) {\n",
       "      if (el != null) {\n",
       "        el.textContent = \"BokehJS \" + root.Bokeh.version + \" successfully loaded.\";\n",
       "      }\n",
       "    } else if (Date.now() < root._bokeh_timeout) {\n",
       "      setTimeout(display_loaded, 100)\n",
       "    }\n",
       "  }\n",
       "\n",
       "\n",
       "  function run_callbacks() {\n",
       "    try {\n",
       "      root._bokeh_onload_callbacks.forEach(function(callback) {\n",
       "        if (callback != null)\n",
       "          callback();\n",
       "      });\n",
       "    } finally {\n",
       "      delete root._bokeh_onload_callbacks\n",
       "    }\n",
       "    console.debug(\"Bokeh: all callbacks have finished\");\n",
       "  }\n",
       "\n",
       "  function load_libs(css_urls, js_urls, callback) {\n",
       "    if (css_urls == null) css_urls = [];\n",
       "    if (js_urls == null) js_urls = [];\n",
       "\n",
       "    root._bokeh_onload_callbacks.push(callback);\n",
       "    if (root._bokeh_is_loading > 0) {\n",
       "      console.debug(\"Bokeh: BokehJS is being loaded, scheduling callback at\", now());\n",
       "      return null;\n",
       "    }\n",
       "    if (js_urls == null || js_urls.length === 0) {\n",
       "      run_callbacks();\n",
       "      return null;\n",
       "    }\n",
       "    console.debug(\"Bokeh: BokehJS not loaded, scheduling load and callback at\", now());\n",
       "    root._bokeh_is_loading = css_urls.length + js_urls.length;\n",
       "\n",
       "    function on_load() {\n",
       "      root._bokeh_is_loading--;\n",
       "      if (root._bokeh_is_loading === 0) {\n",
       "        console.debug(\"Bokeh: all BokehJS libraries/stylesheets loaded\");\n",
       "        run_callbacks()\n",
       "      }\n",
       "    }\n",
       "\n",
       "    function on_error() {\n",
       "      console.error(\"failed to load \" + url);\n",
       "    }\n",
       "\n",
       "    for (var i = 0; i < css_urls.length; i++) {\n",
       "      var url = css_urls[i];\n",
       "      const element = document.createElement(\"link\");\n",
       "      element.onload = on_load;\n",
       "      element.onerror = on_error;\n",
       "      element.rel = \"stylesheet\";\n",
       "      element.type = \"text/css\";\n",
       "      element.href = url;\n",
       "      console.debug(\"Bokeh: injecting link tag for BokehJS stylesheet: \", url);\n",
       "      document.body.appendChild(element);\n",
       "    }\n",
       "\n",
       "    const hashes = {\"https://cdn.bokeh.org/bokeh/release/bokeh-2.0.1.min.js\": \"JpP8FXbgAZLkfur7LiK3j9AGBhHNIvF742meBJrjO2ShJDhCG2I1uVvW+0DUtrmc\", \"https://cdn.bokeh.org/bokeh/release/bokeh-widgets-2.0.1.min.js\": \"xZlADit0Q04ISQEdKg2k3L4W9AwQBAuDs9nJL9fM/WwzL1tEU9VPNezOFX0nLEAz\", \"https://cdn.bokeh.org/bokeh/release/bokeh-tables-2.0.1.min.js\": \"4BuPRZkdMKSnj3zoxiNrQ86XgNw0rYmBOxe7nshquXwwcauupgBF2DHLVG1WuZlV\", \"https://cdn.bokeh.org/bokeh/release/bokeh-gl-2.0.1.min.js\": \"Dv1SQ87hmDqK6S5OhBf0bCuwAEvL5QYL0PuR/F1SPVhCS/r/abjkbpKDYL2zeM19\"};\n",
       "\n",
       "    for (var i = 0; i < js_urls.length; i++) {\n",
       "      var url = js_urls[i];\n",
       "      var element = document.createElement('script');\n",
       "      element.onload = on_load;\n",
       "      element.onerror = on_error;\n",
       "      element.async = false;\n",
       "      element.src = url;\n",
       "      if (url in hashes) {\n",
       "        element.crossOrigin = \"anonymous\";\n",
       "        element.integrity = \"sha384-\" + hashes[url];\n",
       "      }\n",
       "      console.debug(\"Bokeh: injecting script tag for BokehJS library: \", url);\n",
       "      document.head.appendChild(element);\n",
       "    }\n",
       "  };\n",
       "\n",
       "  function inject_raw_css(css) {\n",
       "    const element = document.createElement(\"style\");\n",
       "    element.appendChild(document.createTextNode(css));\n",
       "    document.body.appendChild(element);\n",
       "  }\n",
       "\n",
       "  \n",
       "  var js_urls = [\"https://cdn.bokeh.org/bokeh/release/bokeh-2.0.1.min.js\", \"https://cdn.bokeh.org/bokeh/release/bokeh-widgets-2.0.1.min.js\", \"https://cdn.bokeh.org/bokeh/release/bokeh-tables-2.0.1.min.js\", \"https://cdn.bokeh.org/bokeh/release/bokeh-gl-2.0.1.min.js\"];\n",
       "  var css_urls = [];\n",
       "  \n",
       "\n",
       "  var inline_js = [\n",
       "    function(Bokeh) {\n",
       "      Bokeh.set_log_level(\"info\");\n",
       "    },\n",
       "    function(Bokeh) {\n",
       "    \n",
       "    \n",
       "    }\n",
       "  ];\n",
       "\n",
       "  function run_inline_js() {\n",
       "    \n",
       "    if (root.Bokeh !== undefined || force === true) {\n",
       "      \n",
       "    for (var i = 0; i < inline_js.length; i++) {\n",
       "      inline_js[i].call(root, root.Bokeh);\n",
       "    }\n",
       "    } else if (Date.now() < root._bokeh_timeout) {\n",
       "      setTimeout(run_inline_js, 100);\n",
       "    } else if (!root._bokeh_failed_load) {\n",
       "      console.log(\"Bokeh: BokehJS failed to load within specified timeout.\");\n",
       "      root._bokeh_failed_load = true;\n",
       "    } else if (force !== true) {\n",
       "      var cell = $(document.getElementById(null)).parents('.cell').data().cell;\n",
       "      cell.output_area.append_execute_result(NB_LOAD_WARNING)\n",
       "    }\n",
       "\n",
       "  }\n",
       "\n",
       "  if (root._bokeh_is_loading === 0) {\n",
       "    console.debug(\"Bokeh: BokehJS loaded, going straight to plotting\");\n",
       "    run_inline_js();\n",
       "  } else {\n",
       "    load_libs(css_urls, js_urls, function() {\n",
       "      console.debug(\"Bokeh: BokehJS plotting callback run at\", now());\n",
       "      run_inline_js();\n",
       "    });\n",
       "  }\n",
       "}(window));"
      ],
      "application/vnd.bokehjs_load.v0+json": "\n(function(root) {\n  function now() {\n    return new Date();\n  }\n\n  var force = true;\n\n  if (typeof root._bokeh_onload_callbacks === \"undefined\" || force === true) {\n    root._bokeh_onload_callbacks = [];\n    root._bokeh_is_loading = undefined;\n  }\n\n  \n\n  \n  if (typeof (root._bokeh_timeout) === \"undefined\" || force === true) {\n    root._bokeh_timeout = Date.now() + 5000;\n    root._bokeh_failed_load = false;\n  }\n\n  var NB_LOAD_WARNING = {'data': {'text/html':\n     \"<div style='background-color: #fdd'>\\n\"+\n     \"<p>\\n\"+\n     \"BokehJS does not appear to have successfully loaded. If loading BokehJS from CDN, this \\n\"+\n     \"may be due to a slow or bad network connection. Possible fixes:\\n\"+\n     \"</p>\\n\"+\n     \"<ul>\\n\"+\n     \"<li>re-rerun `output_notebook()` to attempt to load from CDN again, or</li>\\n\"+\n     \"<li>use INLINE resources instead, as so:</li>\\n\"+\n     \"</ul>\\n\"+\n     \"<code>\\n\"+\n     \"from bokeh.resources import INLINE\\n\"+\n     \"output_notebook(resources=INLINE)\\n\"+\n     \"</code>\\n\"+\n     \"</div>\"}};\n\n  function display_loaded() {\n    var el = document.getElementById(null);\n    if (el != null) {\n      el.textContent = \"BokehJS is loading...\";\n    }\n    if (root.Bokeh !== undefined) {\n      if (el != null) {\n        el.textContent = \"BokehJS \" + root.Bokeh.version + \" successfully loaded.\";\n      }\n    } else if (Date.now() < root._bokeh_timeout) {\n      setTimeout(display_loaded, 100)\n    }\n  }\n\n\n  function run_callbacks() {\n    try {\n      root._bokeh_onload_callbacks.forEach(function(callback) {\n        if (callback != null)\n          callback();\n      });\n    } finally {\n      delete root._bokeh_onload_callbacks\n    }\n    console.debug(\"Bokeh: all callbacks have finished\");\n  }\n\n  function load_libs(css_urls, js_urls, callback) {\n    if (css_urls == null) css_urls = [];\n    if (js_urls == null) js_urls = [];\n\n    root._bokeh_onload_callbacks.push(callback);\n    if (root._bokeh_is_loading > 0) {\n      console.debug(\"Bokeh: BokehJS is being loaded, scheduling callback at\", now());\n      return null;\n    }\n    if (js_urls == null || js_urls.length === 0) {\n      run_callbacks();\n      return null;\n    }\n    console.debug(\"Bokeh: BokehJS not loaded, scheduling load and callback at\", now());\n    root._bokeh_is_loading = css_urls.length + js_urls.length;\n\n    function on_load() {\n      root._bokeh_is_loading--;\n      if (root._bokeh_is_loading === 0) {\n        console.debug(\"Bokeh: all BokehJS libraries/stylesheets loaded\");\n        run_callbacks()\n      }\n    }\n\n    function on_error() {\n      console.error(\"failed to load \" + url);\n    }\n\n    for (var i = 0; i < css_urls.length; i++) {\n      var url = css_urls[i];\n      const element = document.createElement(\"link\");\n      element.onload = on_load;\n      element.onerror = on_error;\n      element.rel = \"stylesheet\";\n      element.type = \"text/css\";\n      element.href = url;\n      console.debug(\"Bokeh: injecting link tag for BokehJS stylesheet: \", url);\n      document.body.appendChild(element);\n    }\n\n    const hashes = {\"https://cdn.bokeh.org/bokeh/release/bokeh-2.0.1.min.js\": \"JpP8FXbgAZLkfur7LiK3j9AGBhHNIvF742meBJrjO2ShJDhCG2I1uVvW+0DUtrmc\", \"https://cdn.bokeh.org/bokeh/release/bokeh-widgets-2.0.1.min.js\": \"xZlADit0Q04ISQEdKg2k3L4W9AwQBAuDs9nJL9fM/WwzL1tEU9VPNezOFX0nLEAz\", \"https://cdn.bokeh.org/bokeh/release/bokeh-tables-2.0.1.min.js\": \"4BuPRZkdMKSnj3zoxiNrQ86XgNw0rYmBOxe7nshquXwwcauupgBF2DHLVG1WuZlV\", \"https://cdn.bokeh.org/bokeh/release/bokeh-gl-2.0.1.min.js\": \"Dv1SQ87hmDqK6S5OhBf0bCuwAEvL5QYL0PuR/F1SPVhCS/r/abjkbpKDYL2zeM19\"};\n\n    for (var i = 0; i < js_urls.length; i++) {\n      var url = js_urls[i];\n      var element = document.createElement('script');\n      element.onload = on_load;\n      element.onerror = on_error;\n      element.async = false;\n      element.src = url;\n      if (url in hashes) {\n        element.crossOrigin = \"anonymous\";\n        element.integrity = \"sha384-\" + hashes[url];\n      }\n      console.debug(\"Bokeh: injecting script tag for BokehJS library: \", url);\n      document.head.appendChild(element);\n    }\n  };\n\n  function inject_raw_css(css) {\n    const element = document.createElement(\"style\");\n    element.appendChild(document.createTextNode(css));\n    document.body.appendChild(element);\n  }\n\n  \n  var js_urls = [\"https://cdn.bokeh.org/bokeh/release/bokeh-2.0.1.min.js\", \"https://cdn.bokeh.org/bokeh/release/bokeh-widgets-2.0.1.min.js\", \"https://cdn.bokeh.org/bokeh/release/bokeh-tables-2.0.1.min.js\", \"https://cdn.bokeh.org/bokeh/release/bokeh-gl-2.0.1.min.js\"];\n  var css_urls = [];\n  \n\n  var inline_js = [\n    function(Bokeh) {\n      Bokeh.set_log_level(\"info\");\n    },\n    function(Bokeh) {\n    \n    \n    }\n  ];\n\n  function run_inline_js() {\n    \n    if (root.Bokeh !== undefined || force === true) {\n      \n    for (var i = 0; i < inline_js.length; i++) {\n      inline_js[i].call(root, root.Bokeh);\n    }\n    } else if (Date.now() < root._bokeh_timeout) {\n      setTimeout(run_inline_js, 100);\n    } else if (!root._bokeh_failed_load) {\n      console.log(\"Bokeh: BokehJS failed to load within specified timeout.\");\n      root._bokeh_failed_load = true;\n    } else if (force !== true) {\n      var cell = $(document.getElementById(null)).parents('.cell').data().cell;\n      cell.output_area.append_execute_result(NB_LOAD_WARNING)\n    }\n\n  }\n\n  if (root._bokeh_is_loading === 0) {\n    console.debug(\"Bokeh: BokehJS loaded, going straight to plotting\");\n    run_inline_js();\n  } else {\n    load_libs(css_urls, js_urls, function() {\n      console.debug(\"Bokeh: BokehJS plotting callback run at\", now());\n      run_inline_js();\n    });\n  }\n}(window));"
     },
     "metadata": {},
     "output_type": "display_data"
    }
   ],
   "source": [
    "import cameo\n",
    "import pandas as pd\n",
    "import cobra.io\n",
    "from cobra import Reaction, Metabolite"
   ]
  },
  {
   "cell_type": "code",
   "execution_count": 3,
   "metadata": {},
   "outputs": [],
   "source": [
    "model = cobra.io.read_sbml_model('../model/g-thermo.xml')"
   ]
  },
  {
   "cell_type": "code",
   "execution_count": 3,
   "metadata": {},
   "outputs": [],
   "source": [
    "model_e_coli = cameo.load_model('iML1515')"
   ]
  },
  {
   "cell_type": "code",
   "execution_count": 4,
   "metadata": {},
   "outputs": [],
   "source": [
    "model_b_sub = cameo.load_model('iYO844')"
   ]
  },
  {
   "cell_type": "markdown",
   "metadata": {},
   "source": [
    "## Glycerolipid heads\n",
    "Here, from Beata's thesis we have data on the three main types of lipids present in our strain: phosphatidylglycerol, diphosphatidylglycerol and phosphatidyl ethanolamine. Here I will check that all three of these can be synthesized properly.\n",
    "\n",
    "Note: Here I will make sure the metabolites and pathways are present. Probably, at a later time point when the generic acyl-tail has been defined we will need to revist the chemical formulas of the metabolites here to capture the different lipid types.\n",
    "\n",
    "__Phosphatidyl glycerol__\n",
    "can be made in a two step process from CDP-diacylglycerol which is present in out model as cdpdag_c."
   ]
  },
  {
   "cell_type": "code",
   "execution_count": 4,
   "metadata": {},
   "outputs": [],
   "source": [
    "#first add the phosphatidylglycerol metabolite\n",
    "model.add_metabolites(Metabolite(id='pg_c', name = 'Phosphatidylglycerol', compartment = 'c', formula = 'C8H13O10PR2', charge = 0))"
   ]
  },
  {
   "cell_type": "code",
   "execution_count": 5,
   "metadata": {},
   "outputs": [],
   "source": [
    "model.metabolites.pg_c.annotation['kegg.compound'] = 'C00344'\n",
    "model.metabolites.pg_c.annotation['sbo'] = 'SBO:0000247'\n",
    "model.metabolites.pg_c.annotation['chebi'] = 'CHEBI:17517'"
   ]
  },
  {
   "cell_type": "code",
   "execution_count": 6,
   "metadata": {},
   "outputs": [],
   "source": [
    "#add phosphatidylglycerophosphate metabolite\n",
    "model.add_metabolites(Metabolite(id='pgp_c', name = 'Phosphatidylglycerophosphate', compartment = 'c', formula = 'C8H14O13P2R2', charge = 0))"
   ]
  },
  {
   "cell_type": "code",
   "execution_count": 7,
   "metadata": {},
   "outputs": [],
   "source": [
    "model.metabolites.pgp_c.annotation['kegg.compound'] = 'C03892'\n",
    "model.metabolites.pgp_c.annotation['sbo'] = 'SBO:0000247'\n",
    "model.metabolites.pgp_c.annotation['chebi'] = 'CHEBI:37393'"
   ]
  },
  {
   "cell_type": "code",
   "execution_count": 8,
   "metadata": {},
   "outputs": [],
   "source": [
    "#add reaction from pgp to pg\n",
    "model.add_reaction(Reaction(id='PGP', name = 'Phosphatidylglycerophosphate phosphohydrolase'))"
   ]
  },
  {
   "cell_type": "code",
   "execution_count": 9,
   "metadata": {},
   "outputs": [],
   "source": [
    "model.reactions.PGP.annotation['kegg.reaction'] = 'R02029'\n",
    "model.reactions.PGP.annotation['sbo'] = 'SBO:0000176'\n",
    "model.reactions.PGP.annotation['ec-code'] = '3.1.3.27'"
   ]
  },
  {
   "cell_type": "code",
   "execution_count": 10,
   "metadata": {},
   "outputs": [],
   "source": [
    "model.reactions.PGP.add_metabolites({\n",
    "    model.metabolites.pgp_c:-1,\n",
    "    model.metabolites.h2o_c:-1,\n",
    "    model.metabolites.pg_c:1,\n",
    "    model.metabolites.pi_c:1,\n",
    "    model.metabolites.h_c: 2\n",
    "})"
   ]
  },
  {
   "cell_type": "code",
   "execution_count": 11,
   "metadata": {},
   "outputs": [],
   "source": [
    "#add reaction converting CDP-diacyl glycerol to pgp_c\n",
    "model.add_reaction(Reaction(id='CDPPT', name = 'glycerophosphate phosphatidyltransferase;'))"
   ]
  },
  {
   "cell_type": "code",
   "execution_count": 12,
   "metadata": {},
   "outputs": [],
   "source": [
    "model.reactions.CDPPT.annotation['kegg.reaction'] = 'R01801'\n",
    "model.reactions.CDPPT.annotation['sbo'] = 'SBO:0000176'\n",
    "model.reactions.CDPPT.annotation['ec-code'] = '2.7.8.5'"
   ]
  },
  {
   "cell_type": "code",
   "execution_count": 13,
   "metadata": {},
   "outputs": [],
   "source": [
    "model.reactions.CDPPT.add_metabolites({\n",
    "    model.metabolites.cdpdag_c:-1,\n",
    "    model.metabolites.glyc3p_c:-1,\n",
    "    model.metabolites.cmp_c:1,\n",
    "    model.metabolites.pgp_c:1,\n",
    "    model.metabolites.h_c:-3\n",
    "})"
   ]
  },
  {
   "cell_type": "code",
   "execution_count": 14,
   "metadata": {},
   "outputs": [],
   "source": [
    "model.metabolites.pa_EC_c.id = 'pa_c'"
   ]
  },
  {
   "cell_type": "markdown",
   "metadata": {},
   "source": [
    "So now, conversion of cdpdag_c to pg_c is possible. But just to be sure, I will go further back and check cdpdag_c can be synthesized. It seems that this is linked to central metabolism and so I will leave it for now. "
   ]
  },
  {
   "cell_type": "code",
   "execution_count": 16,
   "metadata": {},
   "outputs": [],
   "source": [
    "#save&commit\n",
    "cobra.io.write_sbml_model(model,'../model/g-thermo.xml')"
   ]
  },
  {
   "cell_type": "markdown",
   "metadata": {},
   "source": [
    "__phosphatidyl ethanolamine__ should be made in two steps from CDP-dag too (via phosphatidyl-serine). Phosphatidyl serine can currently be made from CDPDAGPT reaction, from serine and cdpdag, which is correct. We just need to add the conversion from ps to phosphatidyl-ethanolamine. We also need to add the phosphoethanolamine metabolite . "
   ]
  },
  {
   "cell_type": "code",
   "execution_count": 7,
   "metadata": {},
   "outputs": [],
   "source": [
    "model.metabolites.ps_cho_c.id = 'ps_c'"
   ]
  },
  {
   "cell_type": "code",
   "execution_count": 8,
   "metadata": {},
   "outputs": [],
   "source": [
    "#add phosphoethanolamine metabolite\n",
    "model.add_metabolites(Metabolite(id='pe_c', name = 'Phosphatidylethanolamine', compartment = 'c', formula = 'C7H12NO8PR2', charge = 0))"
   ]
  },
  {
   "cell_type": "code",
   "execution_count": 9,
   "metadata": {},
   "outputs": [],
   "source": [
    "model.metabolites.pe_c.annotation['kegg.compound'] = 'C00350'\n",
    "model.metabolites.pe_c.annotation['sbo'] = 'SBO:0000247'\n",
    "model.metabolites.pe_c.annotation['chebi'] = 'CHEBI:16038'"
   ]
  },
  {
   "cell_type": "code",
   "execution_count": 10,
   "metadata": {},
   "outputs": [],
   "source": [
    "#add production of phosphoethanolamine\n",
    "model.add_reaction(Reaction(id='PSD', name = 'phosphatidylserine decarboxylase'))"
   ]
  },
  {
   "cell_type": "code",
   "execution_count": 11,
   "metadata": {},
   "outputs": [],
   "source": [
    "model.reactions.PSD.annotation['kegg.reaction'] = 'R02055'\n",
    "model.reactions.PSD.annotation['sbo'] = 'SBO:0000176'\n",
    "model.reactions.PSD.annotation['ec-code'] = '4.1.1.65'"
   ]
  },
  {
   "cell_type": "code",
   "execution_count": 12,
   "metadata": {},
   "outputs": [],
   "source": [
    "model.reactions.PSD.add_metabolites({\n",
    "    model.metabolites.ps_c:-1,\n",
    "    model.metabolites.pe_c:1,\n",
    "    model.metabolites.co2_c:1\n",
    "})"
   ]
  },
  {
   "cell_type": "code",
   "execution_count": 13,
   "metadata": {},
   "outputs": [],
   "source": [
    "#save&commit\n",
    "cobra.io.write_sbml_model(model,'../model/g-thermo.xml')"
   ]
  },
  {
   "cell_type": "markdown",
   "metadata": {},
   "source": [
    "__Diphosphatidylglycerol__ (AKA Cardiolipin) can be synthesized from phosphatidyl-glycerol. I will need to add the cardiolipin metabolite and conversion to it here.\n"
   ]
  },
  {
   "cell_type": "code",
   "execution_count": 14,
   "metadata": {},
   "outputs": [],
   "source": [
    "#add cardiolipin metabolite\n",
    "model.add_metabolites(Metabolite(id='clpn_c', name ='Cardiolipin', compartment = 'c', formula = 'C13H18O17P2R4', charge = 0))"
   ]
  },
  {
   "cell_type": "code",
   "execution_count": 15,
   "metadata": {},
   "outputs": [],
   "source": [
    "model.metabolites.clpn_c.notes['NOTES'] = 'Cardiolipin; Diphosphatidylglycerol; 1,3-Bis(1,2-diacyl-sn-glycero-3-phospho)-sn-glycerol'"
   ]
  },
  {
   "cell_type": "code",
   "execution_count": 16,
   "metadata": {},
   "outputs": [],
   "source": [
    "model.metabolites.clpn_c.annotation['kegg.compound'] = 'C05980'\n",
    "model.metabolites.clpn_c.annotation['sbo'] = 'SBO:0000247'\n",
    "model.metabolites.clpn_c.annotation['chebi'] = 'CHEBI:28494'"
   ]
  },
  {
   "cell_type": "code",
   "execution_count": 17,
   "metadata": {},
   "outputs": [],
   "source": [
    "#add reaction\n",
    "model.add_reaction(Reaction(id='CLPNS', name = 'Cardiolipin synthase'))"
   ]
  },
  {
   "cell_type": "code",
   "execution_count": 18,
   "metadata": {},
   "outputs": [],
   "source": [
    "model.reactions.CLPNS.annotation['kegg.reaction'] = 'R07390'\n",
    "model.reactions.CLPNS.annotation['sbo'] = 'SBO:0000176'\n",
    "model.reactions.CLPNS.annotation['ec-code'] = '2.7.8.-'"
   ]
  },
  {
   "cell_type": "code",
   "execution_count": 19,
   "metadata": {},
   "outputs": [],
   "source": [
    "model.reactions.CLPNS.add_metabolites({\n",
    "    model.metabolites.pg_c:-2,\n",
    "    model.metabolites.clpn_c:1,\n",
    "    model.metabolites.glyc_c:1\n",
    "})"
   ]
  },
  {
   "cell_type": "code",
   "execution_count": 20,
   "metadata": {},
   "outputs": [],
   "source": [
    "reactions = [model.reactions.PGP, model.reactions.CDPPT, model.reactions.PSD, model.reactions.CLPNS]"
   ]
  },
  {
   "cell_type": "code",
   "execution_count": 21,
   "metadata": {},
   "outputs": [],
   "source": [
    "model.groups.get_by_id('00564 - Glycerophospholipid metabolism').add_members(reactions)"
   ]
  },
  {
   "cell_type": "code",
   "execution_count": 22,
   "metadata": {},
   "outputs": [],
   "source": [
    "#save&commit\n",
    "cobra.io.write_sbml_model(model,'../model/g-thermo.xml')"
   ]
  },
  {
   "cell_type": "markdown",
   "metadata": {},
   "source": [
    "## Acyl-CoA Tails\n",
    "Now that the heads are in place, we need to make sure that each Acyl-CoA tail that has been detected in our data set can be made. From these different tail, we will then combine them with a specific data-defined stoichiometry into a general acyl-coa tail which will be used and combined with the different glycerolipid heads. \n",
    "\n",
    "So here I will go through the list of (branched) fatty acids in the supplementary data of Tang et al. 2009 and ensure their production.\n",
    "All the tails we need to produce: 14:0 ISO, 14:0, 15:0 ISO,15:0 ANTEISO,15:0, 16:0 ISO, 16:0, 17:0 ISO,17:0 ANTEISO, 17:0, 18:4 w3c, 18:0           \n",
    "\n",
    "First I will make sure that we can correctly produce Acyl-ACP and Malonyl-ACP which are needed to start the saturated unbranched fatty acid biosynthesis. \n",
    "\n",
    "Before I continue it is very important how we define these metabolites for mass balance. __The ACP-Chain WILL BE INDICATED AS C11H20N2O7PRS__. So all carbon chains should be added from the sulfur onwards. \n",
    "\n",
    "Note: After looking into our strains genome and data on similar species, we decided to include both the NADPH and NADH reductase in the last step of the elongation cycle. But to prevent the model from then just cylcing between the cofactors we need to restrict the reaction of this step to the required product. As no fatty acid metabolism is included in the model, this isn't such a problem. "
   ]
  },
  {
   "cell_type": "markdown",
   "metadata": {},
   "source": [
    "__Acyl-ACP__ Seems to be fine, except a duplicate reaction"
   ]
  },
  {
   "cell_type": "code",
   "execution_count": 5,
   "metadata": {},
   "outputs": [
    {
     "name": "stderr",
     "output_type": "stream",
     "text": [
      "C:\\Users\\vivmol\\AppData\\Local\\Continuum\\anaconda3\\envs\\g-thermo\\lib\\site-packages\\cobra\\core\\model.py:716: UserWarning:\n",
      "\n",
      "need to pass in a list\n",
      "\n",
      "C:\\Users\\vivmol\\AppData\\Local\\Continuum\\anaconda3\\envs\\g-thermo\\lib\\site-packages\\cobra\\core\\group.py:110: UserWarning:\n",
      "\n",
      "need to pass in a list\n",
      "\n"
     ]
    }
   ],
   "source": [
    "#AMACT and KAS14 are duplicate reactions\n",
    "model.remove_reactions(model.reactions.AMACT)"
   ]
  },
  {
   "cell_type": "markdown",
   "metadata": {},
   "source": [
    "__Malonyl-ACP__ both malcoa and malACP seem to be produced fine. \n",
    "\n",
    "### Even carbon saturated, unbranched Fatty Acids\n",
    "Here, we first go to the production of butyryl-ACP through hexanoyl-ACP, and from there every 'cycle' add a C2 moeity (Malonyl-ACP) to the growing chain, all the way up to the final nC18:0 that we need. "
   ]
  },
  {
   "cell_type": "code",
   "execution_count": 6,
   "metadata": {},
   "outputs": [],
   "source": [
    "model.metabolites.butacp_c.id = 'butACP_c'"
   ]
  },
  {
   "cell_type": "code",
   "execution_count": 7,
   "metadata": {},
   "outputs": [],
   "source": [
    "model.reactions.BUTACPAT.id = '3OAS60'"
   ]
  },
  {
   "cell_type": "code",
   "execution_count": 8,
   "metadata": {},
   "outputs": [],
   "source": [
    "model.reactions.BUTACPOR.id = 'EAR40x'"
   ]
  },
  {
   "cell_type": "code",
   "execution_count": 9,
   "metadata": {},
   "outputs": [],
   "source": [
    "model.reactions.EAR40x.bounds = (-1000,0)"
   ]
  },
  {
   "cell_type": "code",
   "execution_count": 10,
   "metadata": {},
   "outputs": [],
   "source": [
    "# Add reaction with NADPH here too\n",
    "model.add_reaction(Reaction(id='EAR40y', name = 'Enoyl-[acyl-carrier-protein] reductase (NADPH) (n-C4:0)'))"
   ]
  },
  {
   "cell_type": "code",
   "execution_count": 11,
   "metadata": {},
   "outputs": [],
   "source": [
    "model.reactions.EAR40y.annotation = model_e_coli.reactions.EAR40y.annotation"
   ]
  },
  {
   "cell_type": "code",
   "execution_count": 12,
   "metadata": {},
   "outputs": [],
   "source": [
    "model.reactions.EAR40y.add_metabolites({\n",
    "    model.metabolites.but2eACP_c: -1,\n",
    "    model.metabolites.h_c:-1,\n",
    "    model.metabolites.nadph_c:-1,\n",
    "    model.metabolites.butACP_c:1,\n",
    "    model.metabolites.nadp_c:1\n",
    "})"
   ]
  },
  {
   "cell_type": "code",
   "execution_count": 13,
   "metadata": {},
   "outputs": [],
   "source": [
    "model.reactions.get_by_id('3HAD40_1').bounds = (0,1000)"
   ]
  },
  {
   "cell_type": "code",
   "execution_count": 14,
   "metadata": {},
   "outputs": [],
   "source": [
    "#add conversion from 3hbutACP to actACP"
   ]
  },
  {
   "cell_type": "code",
   "execution_count": 15,
   "metadata": {},
   "outputs": [],
   "source": [
    "model.add_reaction(Reaction(id='3OAR40_1', name ='3-oxoacyl-[acyl-carrier-protein] reductase (n-C4:0)'))"
   ]
  },
  {
   "cell_type": "code",
   "execution_count": 16,
   "metadata": {},
   "outputs": [],
   "source": [
    "model.reactions.get_by_id('3OAR40_1').annotation['sbo'] = 'SBO:0000176'\n",
    "model.reactions.get_by_id('3OAR40_1').annotation['kegg.reaction'] = 'R02767'\n",
    "model.reactions.get_by_id('3OAR40_1').annotation['ec-code'] = '1.1.1.100'"
   ]
  },
  {
   "cell_type": "code",
   "execution_count": 17,
   "metadata": {},
   "outputs": [],
   "source": [
    "model.reactions.get_by_id('3OAR40_1').add_metabolites({\n",
    "    model.metabolites.get_by_id('3hbutACP_c'): 1,\n",
    "    model.metabolites.actACP_c:-1,\n",
    "    model.metabolites.nadph_c:-1,\n",
    "    model.metabolites.nadp_c:1,\n",
    "    model.metabolites.h_c:-1\n",
    "})"
   ]
  },
  {
   "cell_type": "code",
   "execution_count": 18,
   "metadata": {},
   "outputs": [],
   "source": [
    "model.metabolites.get_by_id('3hbutACP_c').formula = 'C15H27N2O9PRS'"
   ]
  },
  {
   "cell_type": "code",
   "execution_count": 19,
   "metadata": {},
   "outputs": [],
   "source": [
    "#missing KAS 15 reaction\n",
    "model.add_reaction(Reaction(id='KAS15', name = 'Beta-ketoacyl-ACP synthase (2)'))"
   ]
  },
  {
   "cell_type": "code",
   "execution_count": 20,
   "metadata": {},
   "outputs": [],
   "source": [
    "model.reactions.KAS15.annotation = model_e_coli.reactions.KAS15.annotation"
   ]
  },
  {
   "cell_type": "code",
   "execution_count": 21,
   "metadata": {},
   "outputs": [],
   "source": [
    "model.reactions.KAS15.add_metabolites({\n",
    "    model.metabolites.accoa_c:-1,\n",
    "    model.metabolites.h_c:-1,\n",
    "    model.metabolites.malACP_c:-1,\n",
    "    model.metabolites.actACP_c:1,\n",
    "    model.metabolites.co2_c:1, \n",
    "    model.metabolites.coa_c:1\n",
    "})"
   ]
  },
  {
   "cell_type": "code",
   "execution_count": 22,
   "metadata": {},
   "outputs": [],
   "source": [
    "#Synthesis up to butyryl-ACP\n",
    "#save&commit\n",
    "cobra.io.write_sbml_model(model,'../model/g-thermo.xml')"
   ]
  },
  {
   "cell_type": "markdown",
   "metadata": {},
   "source": [
    "now move to C6:0 (hexanoyl-ACP)"
   ]
  },
  {
   "cell_type": "code",
   "execution_count": 23,
   "metadata": {
    "scrolled": false
   },
   "outputs": [],
   "source": [
    "model.metabolites.hexacp_c.id = 'hexACP_c'"
   ]
  },
  {
   "cell_type": "code",
   "execution_count": 24,
   "metadata": {
    "scrolled": true
   },
   "outputs": [],
   "source": [
    "model.metabolites.hexACP_c.name  = 'Hexanoyl-ACP (n-C6:0ACP)'"
   ]
  },
  {
   "cell_type": "code",
   "execution_count": 25,
   "metadata": {},
   "outputs": [],
   "source": [
    "#wrong ID\n",
    "model.reactions.HACPOR.id = 'EAR60x'"
   ]
  },
  {
   "cell_type": "code",
   "execution_count": 26,
   "metadata": {},
   "outputs": [],
   "source": [
    "model.reactions.EAR60x.bounds = (-1000,0)"
   ]
  },
  {
   "cell_type": "code",
   "execution_count": 27,
   "metadata": {},
   "outputs": [],
   "source": [
    "#finished up to hexanoyl-ACP\n",
    "#save&commit\n",
    "cobra.io.write_sbml_model(model,'../model/g-thermo.xml')"
   ]
  },
  {
   "cell_type": "markdown",
   "metadata": {},
   "source": [
    "now onto octanoyl-ACP"
   ]
  },
  {
   "cell_type": "code",
   "execution_count": 28,
   "metadata": {},
   "outputs": [],
   "source": [
    "model.reactions.HEXACPAT.id = '3OAS80'"
   ]
  },
  {
   "cell_type": "code",
   "execution_count": 29,
   "metadata": {},
   "outputs": [],
   "source": [
    "model.reactions.get_by_id('3HAD80').bounds = (0,1000)"
   ]
  },
  {
   "cell_type": "code",
   "execution_count": 30,
   "metadata": {},
   "outputs": [],
   "source": [
    "model.reactions.OCTACPOR.id = 'EAR80x'"
   ]
  },
  {
   "cell_type": "code",
   "execution_count": 31,
   "metadata": {},
   "outputs": [],
   "source": [
    "model.reactions.EAR80x.bounds = (-1000,0)"
   ]
  },
  {
   "cell_type": "code",
   "execution_count": 32,
   "metadata": {},
   "outputs": [],
   "source": [
    "model.metabolites.octacp_c.id = 'ocACP_c'"
   ]
  },
  {
   "cell_type": "code",
   "execution_count": 33,
   "metadata": {},
   "outputs": [],
   "source": [
    "# add EAR80y reaction\n",
    "model.add_reaction(Reaction(id='EAR80y', name = 'Enoyl-[acyl-carrier-protein] reductase (NADPH) (n-C8:0)'))"
   ]
  },
  {
   "cell_type": "code",
   "execution_count": 34,
   "metadata": {},
   "outputs": [],
   "source": [
    "model.reactions.EAR80y.annotation = model_e_coli.reactions.EAR80y.annotation"
   ]
  },
  {
   "cell_type": "code",
   "execution_count": 35,
   "metadata": {},
   "outputs": [],
   "source": [
    "model.reactions.EAR80y.add_metabolites({\n",
    "    model.metabolites.h_c:-1,\n",
    "    model.metabolites.nadph_c:-1,\n",
    "    model.metabolites.toct2eACP_c:-1,\n",
    "    model.metabolites.nadp_c:1,\n",
    "    model.metabolites.ocACP_c:1\n",
    "})"
   ]
  },
  {
   "cell_type": "code",
   "execution_count": 36,
   "metadata": {},
   "outputs": [],
   "source": [
    "#finished up to octanoyl-ACP\n",
    "#save&commit\n",
    "cobra.io.write_sbml_model(model,'../model/g-thermo.xml')"
   ]
  },
  {
   "cell_type": "markdown",
   "metadata": {},
   "source": [
    "Now on to C10:0."
   ]
  },
  {
   "cell_type": "code",
   "execution_count": 37,
   "metadata": {},
   "outputs": [],
   "source": [
    "model.reactions.OCTACPAT.id = '3OAS100'"
   ]
  },
  {
   "cell_type": "code",
   "execution_count": 38,
   "metadata": {},
   "outputs": [],
   "source": [
    "model.reactions.get_by_id('3HAD100').bounds = (0,1000)"
   ]
  },
  {
   "cell_type": "code",
   "execution_count": 39,
   "metadata": {},
   "outputs": [],
   "source": [
    "model.reactions.DECACPOR.id = 'EAR100x'"
   ]
  },
  {
   "cell_type": "code",
   "execution_count": 40,
   "metadata": {},
   "outputs": [],
   "source": [
    "model.reactions.EAR100x.bounds = (-1000,0)"
   ]
  },
  {
   "cell_type": "code",
   "execution_count": 41,
   "metadata": {},
   "outputs": [],
   "source": [
    "#add EAR100y\n",
    "model.add_reaction(Reaction(id='EAR100y', name = 'Enoyl-[acyl-carrier-protein] reductase (NADPH) (n-C10:0)'))"
   ]
  },
  {
   "cell_type": "code",
   "execution_count": 42,
   "metadata": {},
   "outputs": [],
   "source": [
    "model.reactions.EAR100y.annotation = model_e_coli.reactions.EAR100y.annotation"
   ]
  },
  {
   "cell_type": "code",
   "execution_count": 43,
   "metadata": {},
   "outputs": [],
   "source": [
    "model.reactions.EAR100y.add_metabolites({\n",
    "    model.metabolites.h_c:-1,\n",
    "    model.metabolites.nadph_c:-1,\n",
    "    model.metabolites.tdec2eACP_c:-1,\n",
    "    model.metabolites.nadp_c:1,\n",
    "    model.metabolites.decanoylacp_c:1\n",
    "})"
   ]
  },
  {
   "cell_type": "code",
   "execution_count": 44,
   "metadata": {},
   "outputs": [],
   "source": [
    "model.metabolites.decanoylacp_c.id = 'dcaACP_c'"
   ]
  },
  {
   "cell_type": "code",
   "execution_count": 45,
   "metadata": {},
   "outputs": [],
   "source": [
    "model.reactions.EAR100y.bounds = (0,1000)"
   ]
  },
  {
   "cell_type": "code",
   "execution_count": 46,
   "metadata": {},
   "outputs": [],
   "source": [
    "#finished up to C10:0\n",
    "#save&commit\n",
    "cobra.io.write_sbml_model(model,'../model/g-thermo.xml')"
   ]
  },
  {
   "cell_type": "markdown",
   "metadata": {},
   "source": [
    "Onto C12:0"
   ]
  },
  {
   "cell_type": "code",
   "execution_count": 47,
   "metadata": {},
   "outputs": [],
   "source": [
    "model.reactions.DECACPAT.id = '3OAS120'"
   ]
  },
  {
   "cell_type": "code",
   "execution_count": 48,
   "metadata": {},
   "outputs": [],
   "source": [
    "model.reactions.get_by_id('3OAS120').bounds = (0,1000)"
   ]
  },
  {
   "cell_type": "code",
   "execution_count": 49,
   "metadata": {},
   "outputs": [],
   "source": [
    "model.reactions.DDECACPOR.id = 'EAR120x'"
   ]
  },
  {
   "cell_type": "code",
   "execution_count": 50,
   "metadata": {},
   "outputs": [],
   "source": [
    "model.reactions.EAR120x.bounds = (-1000,0)"
   ]
  },
  {
   "cell_type": "code",
   "execution_count": 51,
   "metadata": {},
   "outputs": [],
   "source": [
    "#add EAR120y reaction\n",
    "model.add_reaction(Reaction(id='EAR120y', name = 'Enoyl-[acyl-carrier-protein] reductase (NADPH) (n-C12:0)'))"
   ]
  },
  {
   "cell_type": "code",
   "execution_count": 52,
   "metadata": {},
   "outputs": [],
   "source": [
    "model.reactions.EAR120y.annotation = model_e_coli.reactions.EAR120y.annotation"
   ]
  },
  {
   "cell_type": "code",
   "execution_count": 53,
   "metadata": {},
   "outputs": [],
   "source": [
    "model.metabolites.dodecacp_c.id = 'ddcaACP_c'"
   ]
  },
  {
   "cell_type": "code",
   "execution_count": 54,
   "metadata": {},
   "outputs": [],
   "source": [
    "model.reactions.EAR120y.add_metabolites({\n",
    "    model.metabolites.h_c:-1,\n",
    "    model.metabolites.nadph_c:-1,\n",
    "    model.metabolites.tddec2eACP_c:-1,\n",
    "    model.metabolites.nadp_c:1,\n",
    "    model.metabolites.ddcaACP_c :1\n",
    "})"
   ]
  },
  {
   "cell_type": "code",
   "execution_count": 55,
   "metadata": {},
   "outputs": [],
   "source": [
    "model.reactions.EAR120y.bounds = (0,1000)"
   ]
  },
  {
   "cell_type": "code",
   "execution_count": 56,
   "metadata": {},
   "outputs": [],
   "source": [
    "#finished up to C12:0\n",
    "#save& commit\n",
    "cobra.io.write_sbml_model(model,'../model/g-thermo.xml')"
   ]
  },
  {
   "cell_type": "markdown",
   "metadata": {},
   "source": [
    "Now onto C14:0"
   ]
  },
  {
   "cell_type": "code",
   "execution_count": 57,
   "metadata": {},
   "outputs": [],
   "source": [
    "model.reactions.MALACPAT.id = '3OAS140'"
   ]
  },
  {
   "cell_type": "code",
   "execution_count": 58,
   "metadata": {},
   "outputs": [],
   "source": [
    "model.reactions.get_by_id('3HAD140').bounds = (0,1000)"
   ]
  },
  {
   "cell_type": "code",
   "execution_count": 59,
   "metadata": {},
   "outputs": [],
   "source": [
    "model.reactions.MYRACPOR.id = 'EAR140x'"
   ]
  },
  {
   "cell_type": "code",
   "execution_count": 60,
   "metadata": {},
   "outputs": [],
   "source": [
    "model.reactions.EAR140x.bounds = (-1000,0)"
   ]
  },
  {
   "cell_type": "code",
   "execution_count": 61,
   "metadata": {},
   "outputs": [],
   "source": [
    "#add EAR140y reaction\n",
    "model.add_reaction(Reaction(id='EAR140y', name = 'Enoyl-[acyl-carrier-protein] reductase (NADPH) (n-C14:0)'))"
   ]
  },
  {
   "cell_type": "code",
   "execution_count": 62,
   "metadata": {},
   "outputs": [],
   "source": [
    "model.reactions.EAR140y.annotation = model_e_coli.reactions.EAR140y.annotation"
   ]
  },
  {
   "cell_type": "code",
   "execution_count": 63,
   "metadata": {},
   "outputs": [],
   "source": [
    "model.reactions.EAR140y.bounds = (0,1000)"
   ]
  },
  {
   "cell_type": "code",
   "execution_count": 64,
   "metadata": {},
   "outputs": [],
   "source": [
    "model.reactions.EAR140y.add_metabolites({\n",
    "    model.metabolites.h_c:-1,\n",
    "    model.metabolites.nadph_c:-1,\n",
    "    model.metabolites.tmrs2eACP_c:-1,\n",
    "    model.metabolites.myrsACP_c:1,\n",
    "    model.metabolites.nadp_c:1\n",
    "})"
   ]
  },
  {
   "cell_type": "code",
   "execution_count": 65,
   "metadata": {},
   "outputs": [],
   "source": [
    "model.metabolites.myrsACP_c.name = 'Tetradecanoyl-[acp]'"
   ]
  },
  {
   "cell_type": "code",
   "execution_count": 66,
   "metadata": {},
   "outputs": [],
   "source": [
    "#finished up to C14:0, \n",
    "#save&commit\n",
    "cobra.io.write_sbml_model(model,'../model/g-thermo.xml')"
   ]
  },
  {
   "cell_type": "markdown",
   "metadata": {},
   "source": [
    "Now onto C16:0"
   ]
  },
  {
   "cell_type": "code",
   "execution_count": 67,
   "metadata": {},
   "outputs": [],
   "source": [
    "model.reactions.MMACPAT.id = '3OAS160'"
   ]
  },
  {
   "cell_type": "code",
   "execution_count": 68,
   "metadata": {
    "scrolled": true
   },
   "outputs": [],
   "source": [
    "model.metabolites.get_by_id('3oxhdacp_c').id = '3opalmACP_c'"
   ]
  },
  {
   "cell_type": "code",
   "execution_count": 69,
   "metadata": {},
   "outputs": [],
   "source": [
    "model.reactions.get_by_id('3HAD160').bounds = (0,1000)"
   ]
  },
  {
   "cell_type": "code",
   "execution_count": 70,
   "metadata": {},
   "outputs": [],
   "source": [
    "model.reactions.OPALMACPOR.id = 'EAR160x'"
   ]
  },
  {
   "cell_type": "code",
   "execution_count": 71,
   "metadata": {},
   "outputs": [],
   "source": [
    "model.reactions.EAR160x.bounds = (-1000,0)"
   ]
  },
  {
   "cell_type": "code",
   "execution_count": 72,
   "metadata": {},
   "outputs": [],
   "source": [
    "model.metabolites.hdeacp_c.id = 'palmACP_c'"
   ]
  },
  {
   "cell_type": "code",
   "execution_count": 73,
   "metadata": {},
   "outputs": [],
   "source": [
    "#add EAR160y\n",
    "model.add_reaction(Reaction(id='EAR160y', name = 'Enoyl-[acyl-carrier-protein] reductase (NADPH) (n-C16:0)'))"
   ]
  },
  {
   "cell_type": "code",
   "execution_count": 74,
   "metadata": {},
   "outputs": [],
   "source": [
    "model.reactions.EAR160y.annotation = model_e_coli.reactions.EAR160y.annotation"
   ]
  },
  {
   "cell_type": "code",
   "execution_count": 75,
   "metadata": {},
   "outputs": [],
   "source": [
    "model.reactions.EAR160y.add_metabolites({\n",
    "    model.metabolites.h_c:-1,\n",
    "    model.metabolites.nadph_c:-1,\n",
    "    model.metabolites.tpalm2eACP_c:-1,\n",
    "    model.metabolites.nadp_c:1,\n",
    "    model.metabolites.palmACP_c:1\n",
    "})"
   ]
  },
  {
   "cell_type": "code",
   "execution_count": 76,
   "metadata": {},
   "outputs": [],
   "source": [
    "#finished until c16:0\n",
    "cobra.io.write_sbml_model(model,'../model/g-thermo.xml')"
   ]
  },
  {
   "cell_type": "markdown",
   "metadata": {},
   "source": [
    "Now onto C18:0"
   ]
  },
  {
   "cell_type": "code",
   "execution_count": 77,
   "metadata": {},
   "outputs": [],
   "source": [
    "model.reactions.HDEACPT.id = '3OAS180'"
   ]
  },
  {
   "cell_type": "code",
   "execution_count": 78,
   "metadata": {},
   "outputs": [],
   "source": [
    "model.reactions.OXSTACPOR.id = '3OAR180'"
   ]
  },
  {
   "cell_type": "code",
   "execution_count": 79,
   "metadata": {},
   "outputs": [],
   "source": [
    "model.reactions.get_by_id('3HAD180').bounds = (0,1000)"
   ]
  },
  {
   "cell_type": "code",
   "execution_count": 80,
   "metadata": {},
   "outputs": [],
   "source": [
    "model.reactions.TOCTDACPOR.id = 'EAR180x'"
   ]
  },
  {
   "cell_type": "code",
   "execution_count": 81,
   "metadata": {},
   "outputs": [],
   "source": [
    "model.reactions.EAR180x.bounds = (0,1000)"
   ]
  },
  {
   "cell_type": "code",
   "execution_count": 82,
   "metadata": {},
   "outputs": [],
   "source": [
    "#add EAR180y\n",
    "model.add_reaction(Reaction(id='EAR180y', name = 'Enoyl-[acyl-carrier-protein] reductase (NADPH) (n-C18:0)'))"
   ]
  },
  {
   "cell_type": "code",
   "execution_count": 83,
   "metadata": {},
   "outputs": [],
   "source": [
    "model.reactions.EAR180y.annotation = model_e_coli.reactions.EAR180y.annotation"
   ]
  },
  {
   "cell_type": "code",
   "execution_count": 84,
   "metadata": {},
   "outputs": [],
   "source": [
    "model.reactions.EAR180y.add_metabolites({\n",
    "    model.metabolites.h_c:-1,\n",
    "    model.metabolites.nadph_c:-1,\n",
    "    model.metabolites.toctd2eACP_c:-1,\n",
    "    model.metabolites.nadp_c:1,\n",
    "    model.metabolites.ocdcaACP_c:1\n",
    "})"
   ]
  },
  {
   "cell_type": "code",
   "execution_count": 85,
   "metadata": {},
   "outputs": [],
   "source": [
    "model.reactions.EAR180y.gene_reaction_rule = model.reactions.EAR180x.gene_reaction_rule"
   ]
  },
  {
   "cell_type": "code",
   "execution_count": 86,
   "metadata": {},
   "outputs": [],
   "source": [
    "model.reactions.EAR160y.gene_reaction_rule = model.reactions.EAR160x.gene_reaction_rule\n",
    "model.reactions.EAR140y.gene_reaction_rule = model.reactions.EAR140x.gene_reaction_rule\n",
    "model.reactions.EAR120y.gene_reaction_rule = model.reactions.EAR120x.gene_reaction_rule\n",
    "model.reactions.EAR100y.gene_reaction_rule = model.reactions.EAR100x.gene_reaction_rule\n",
    "model.reactions.EAR80y.gene_reaction_rule = model.reactions.EAR80x.gene_reaction_rule\n",
    "model.reactions.EAR60y.gene_reaction_rule = model.reactions.EAR60x.gene_reaction_rule\n",
    "model.reactions.EAR40y.gene_reaction_rule = model.reactions.EAR40x.gene_reaction_rule"
   ]
  },
  {
   "cell_type": "code",
   "execution_count": 87,
   "metadata": {},
   "outputs": [],
   "source": [
    "#add all new reactions to the fatty acid biosynthesis group\n",
    "reactions = [model.reactions.EAR160y, model.reactions.EAR180y,model.reactions.EAR140y, model.reactions.EAR120y, model.reactions.EAR40y,model.reactions.EAR80y, model.reactions.get_by_id('3OAR40_1'), model.reactions.KAS15, model.reactions.EAR100y]"
   ]
  },
  {
   "cell_type": "code",
   "execution_count": 88,
   "metadata": {
    "scrolled": true
   },
   "outputs": [],
   "source": [
    "model.groups.get_by_id('00062 - Fatty acid elongation').add_members(reactions)"
   ]
  },
  {
   "cell_type": "code",
   "execution_count": 89,
   "metadata": {},
   "outputs": [],
   "source": [
    "#finished up to C18:0\n",
    "cobra.io.write_sbml_model(model,'../model/g-thermo.xml')"
   ]
  },
  {
   "cell_type": "markdown",
   "metadata": {},
   "source": [
    "Now I've finished making sure the pathway for the generation of the saturated, unbranched fatty acids is correct. Next I will tackle the unbranched, uneven carbon length fatty acids. \n",
    "\n",
    "### Unbranched, saturated odd-carbon fatty acids\n",
    "\n",
    "These are made in the same way as the Even-chain saturated FAs, but the first molecule of the process is propionyl-CoA (C3) instead of acetyl-CoA (C2). So here I will go all the way from the C3 to the C17:0 pathway. \n",
    "So here, I will add all the steps in the pathway similarly to the even chain fatty acids.\n",
    "\n",
    "Note: here I will not add these reactions to a group, as the groups we've used are defined by KEGG. These RCTs are not in kegg, and so i dont want to have confusion here and so will just not have them in the groups."
   ]
  },
  {
   "cell_type": "code",
   "execution_count": 90,
   "metadata": {},
   "outputs": [],
   "source": [
    "model = cobra.io.read_sbml_model('../model/g-thermo.xml')"
   ]
  },
  {
   "cell_type": "code",
   "execution_count": 91,
   "metadata": {},
   "outputs": [],
   "source": [
    "#first need to form propionyl-ACP from prorionyl-Coa, similar to the MCOATA reaction\n",
    "#first add propionyl-ACP met\n",
    "model.add_metabolites(Metabolite(id='propACP_c', name = 'Propionyl-ACP', charge =-1, compartment = 'c', formula = 'C14H25N2O8PRS'))"
   ]
  },
  {
   "cell_type": "code",
   "execution_count": 92,
   "metadata": {
    "scrolled": true
   },
   "outputs": [],
   "source": [
    "model.metabolites.propACP_c.annotation['sbo'] = 'SBO:0000247'"
   ]
  },
  {
   "cell_type": "code",
   "execution_count": 93,
   "metadata": {},
   "outputs": [],
   "source": [
    "#add reaction\n",
    "model.add_reaction(Reaction(id='PCOATA', name = 'Propanyl-CoA:[acyl-carrier-protein] S-malonyltransferase'))"
   ]
  },
  {
   "cell_type": "code",
   "execution_count": 94,
   "metadata": {},
   "outputs": [],
   "source": [
    "model.reactions.PCOATA.annotation['sbo'] = 'SBO:0000176'"
   ]
  },
  {
   "cell_type": "code",
   "execution_count": 95,
   "metadata": {},
   "outputs": [],
   "source": [
    "model.reactions.PCOATA.add_metabolites({\n",
    "    model.metabolites.ppcoa_c:-1,\n",
    "    model.metabolites.ACP_c:-1,\n",
    "    model.metabolites.propACP_c:1,\n",
    "    model.metabolites.coa_c:1,\n",
    "    model.metabolites.h_c:1\n",
    "})"
   ]
  },
  {
   "cell_type": "code",
   "execution_count": 96,
   "metadata": {},
   "outputs": [],
   "source": [
    "model.reactions.PCOATA.bounds = (-1000,1000)"
   ]
  },
  {
   "cell_type": "code",
   "execution_count": 97,
   "metadata": {},
   "outputs": [],
   "source": [
    "#add condenstation of prop-ACP with malonyl ACP to 3-oxopentanoyl-ACP\n",
    "#add metabolite\n",
    "model.add_metabolites(Metabolite(id='3opentACP_c', name = '3-oxopentanoyl-ACP', compartment = 'c', charge =-1, formula = 'C16H27O9N2PRS'))"
   ]
  },
  {
   "cell_type": "code",
   "execution_count": 98,
   "metadata": {},
   "outputs": [],
   "source": [
    "model.metabolites.get_by_id('3opentACP_c').annotation['sbo'] = 'SBO:0000176'"
   ]
  },
  {
   "cell_type": "code",
   "execution_count": 99,
   "metadata": {},
   "outputs": [],
   "source": [
    "#add reaction\n",
    "model.add_reaction(Reaction(id='3OAS50', name = '3-oxopentanoyl-[acyl-carrier-protein] synthase (n-C5:0)'))"
   ]
  },
  {
   "cell_type": "code",
   "execution_count": 100,
   "metadata": {},
   "outputs": [],
   "source": [
    "model.reactions.get_by_id('3OAS50').annotation['sbo'] = 'SBO:0000176'"
   ]
  },
  {
   "cell_type": "code",
   "execution_count": 101,
   "metadata": {},
   "outputs": [],
   "source": [
    "#assume GPR is the same FAget_by_id('3OAS50')synthase: RTMO12345\n",
    "model.reactions.get_by_id('3OAS50').gene_reaction_rule = 'RTMO12345'"
   ]
  },
  {
   "cell_type": "code",
   "execution_count": 102,
   "metadata": {},
   "outputs": [],
   "source": [
    "model.reactions.get_by_id('3OAS50').add_metabolites({\n",
    "    model.metabolites.malACP_c:-1,\n",
    "    model.metabolites.propACP_c:-1,\n",
    "    model.metabolites.ACP_c:1,\n",
    "    model.metabolites.co2_c:1,\n",
    "    model.metabolites.get_by_id('3opentACP_c'):1,\n",
    "    model.metabolites.h_c:-1\n",
    "})"
   ]
  },
  {
   "cell_type": "code",
   "execution_count": 103,
   "metadata": {},
   "outputs": [],
   "source": [
    "#next add reaction with NADPH\n",
    "#first add 3-Hydroxypentanoyl-[acp] met\n",
    "model.add_metabolites(Metabolite(id='3hpentACP_c', name = '3-Hydroxypentanoyl-[acp]', compartment = 'c', charge = -1, formula = 'C16H29O9N2PRS'))"
   ]
  },
  {
   "cell_type": "code",
   "execution_count": 104,
   "metadata": {},
   "outputs": [],
   "source": [
    "model.metabolites.get_by_id('3hpentACP_c').annotation['sbo'] = 'SBO:0000247'"
   ]
  },
  {
   "cell_type": "code",
   "execution_count": 105,
   "metadata": {},
   "outputs": [],
   "source": [
    "#add reaction\n",
    "model.add_reaction(Reaction(id='3OAR50', name = ' 3-oxoacyl-[acyl-carrier-protein] reductase (n-C5:0)'))"
   ]
  },
  {
   "cell_type": "code",
   "execution_count": 106,
   "metadata": {},
   "outputs": [],
   "source": [
    "model.reactions.get_by_id('3OAR50').annotation['sbo'] = 'SBO:0000176'"
   ]
  },
  {
   "cell_type": "code",
   "execution_count": 107,
   "metadata": {},
   "outputs": [],
   "source": [
    "#assume GPR is the same FAget_by_id('3OAS50')synthase: RTMO12345\n",
    "model.reactions.get_by_id('3OAR50').gene_reaction_rule = 'RTMO12345'"
   ]
  },
  {
   "cell_type": "code",
   "execution_count": 108,
   "metadata": {},
   "outputs": [],
   "source": [
    "model.reactions.get_by_id('3OAR50').add_metabolites({\n",
    "    model.metabolites.get_by_id('3opentACP_c'):-1,\n",
    "    model.metabolites.nadph_c:-1,\n",
    "    model.metabolites.nadp_c:1,\n",
    "    model.metabolites.get_by_id('3hpentACP_c'):1,\n",
    "    model.metabolites.h_c:-1\n",
    "})"
   ]
  },
  {
   "cell_type": "code",
   "execution_count": 109,
   "metadata": {},
   "outputs": [],
   "source": [
    "#next add the tpent2eACP_c metabolite\n",
    "model.add_metabolites(Metabolite(id='tpent2eACP_c', name = 'Trans-Pent-2-enoyl-[acyl-carrier protein]', compartment = 'c', charge = -1, formula = 'C16H27O8N2PRS'))"
   ]
  },
  {
   "cell_type": "code",
   "execution_count": 110,
   "metadata": {},
   "outputs": [],
   "source": [
    "model.metabolites.get_by_id('tpent2eACP_c').annotation['sbo'] = 'SBO:0000247'"
   ]
  },
  {
   "cell_type": "code",
   "execution_count": 111,
   "metadata": {},
   "outputs": [],
   "source": [
    "#add reaction\n",
    "model.add_reaction(Reaction(id='3HAD50', name = '3-hydroxyacyl-[acyl-carrier-protein] dehydratase (n-C5:0)'))"
   ]
  },
  {
   "cell_type": "code",
   "execution_count": 112,
   "metadata": {},
   "outputs": [],
   "source": [
    "model.reactions.get_by_id('3HAD50').annotation['sbo'] = 'SBO:0000176'"
   ]
  },
  {
   "cell_type": "code",
   "execution_count": 113,
   "metadata": {},
   "outputs": [],
   "source": [
    "#assume GPR is the same FAget_by_id('3OAS50')synthase: RTMO12345\n",
    "model.reactions.get_by_id('3HAD50').gene_reaction_rule = 'RTMO12345'"
   ]
  },
  {
   "cell_type": "code",
   "execution_count": 114,
   "metadata": {},
   "outputs": [],
   "source": [
    "model.reactions.get_by_id('3HAD50').add_metabolites({\n",
    "    model.metabolites.get_by_id('3hpentACP_c'):-1,\n",
    "    model.metabolites.h2o_c:1,\n",
    "    model.metabolites.tpent2eACP_c:1\n",
    "})"
   ]
  },
  {
   "cell_type": "code",
   "execution_count": 115,
   "metadata": {},
   "outputs": [],
   "source": [
    "#last step: convert to Heptanoyl-ACP which can start the next cycle again\n",
    "#add both with NADH and NADPH.\n",
    "#first add the heptanoyl-ACP metabolite\n",
    "model.add_metabolites(Metabolite(id='pentACP_c', name = 'pentanoyl-ACP(n-C5:0ACP)', compartment = 'c', charge = -1, formula = 'C16H29O8N2PRS' ))"
   ]
  },
  {
   "cell_type": "code",
   "execution_count": 116,
   "metadata": {},
   "outputs": [],
   "source": [
    "model.metabolites.pentACP_c.annotation['sbo'] = 'SBO:0000247'"
   ]
  },
  {
   "cell_type": "code",
   "execution_count": 117,
   "metadata": {},
   "outputs": [],
   "source": [
    "#add reaction with NADH: EAR50x\n",
    "model.add_reaction(Reaction(id='EAR50x', name = 'pentanoyl-[acp]:NAD+ trans-2-oxidoreductase'))"
   ]
  },
  {
   "cell_type": "code",
   "execution_count": 118,
   "metadata": {},
   "outputs": [],
   "source": [
    "model.reactions.EAR50x.annotation['sbo'] = 'SBO:0000176'"
   ]
  },
  {
   "cell_type": "code",
   "execution_count": 119,
   "metadata": {},
   "outputs": [],
   "source": [
    "#assume GPR is the same FAget_by_id('3OAS50')synthase: RTMO12345\n",
    "model.reactions.EAR50x.gene_reaction_rule = 'RTMO12345'"
   ]
  },
  {
   "cell_type": "code",
   "execution_count": 120,
   "metadata": {},
   "outputs": [],
   "source": [
    "model.reactions.EAR50x.add_metabolites({\n",
    "    model.metabolites.tpent2eACP_c:-1,\n",
    "    model.metabolites.nadh_c:-1,\n",
    "    model.metabolites.nad_c:1,\n",
    "    model.metabolites.pentACP_c:1,\n",
    "    model.metabolites.h_c:-1\n",
    "})"
   ]
  },
  {
   "cell_type": "code",
   "execution_count": 121,
   "metadata": {},
   "outputs": [],
   "source": [
    "#add reaction with NADH: EAR50Y\n",
    "model.add_reaction(Reaction(id='EAR50y', name = 'pentanoyl-[acp]:NADp+ trans-2-oxidoreductase'))"
   ]
  },
  {
   "cell_type": "code",
   "execution_count": 122,
   "metadata": {},
   "outputs": [],
   "source": [
    "model.reactions.EAR50y.annotation['sbo'] = 'SBO:0000176'"
   ]
  },
  {
   "cell_type": "code",
   "execution_count": 123,
   "metadata": {},
   "outputs": [],
   "source": [
    "#assume GPR is the same FAget_by_id('3OAS50')synthase: RTMO12345\n",
    "model.reactions.EAR50y.gene_reaction_rule = 'RTMO12345'"
   ]
  },
  {
   "cell_type": "code",
   "execution_count": 124,
   "metadata": {},
   "outputs": [],
   "source": [
    "model.reactions.EAR50y.add_metabolites({\n",
    "    model.metabolites.tpent2eACP_c:-1,\n",
    "    model.metabolites.nadph_c:-1,\n",
    "    model.metabolites.nadp_c:1,\n",
    "    model.metabolites.pentACP_c:1,\n",
    "    model.metabolites.h_c:-1\n",
    "})"
   ]
  },
  {
   "cell_type": "code",
   "execution_count": 125,
   "metadata": {},
   "outputs": [],
   "source": [
    "#save&commit\n",
    "cobra.io.write_sbml_model(model,'../model/g-thermo.xml')"
   ]
  },
  {
   "cell_type": "markdown",
   "metadata": {},
   "source": [
    "Now I finished the cycle until nC5:0. I will save and commit, and add this cycle multiple times until we get all the way to C17:0."
   ]
  },
  {
   "cell_type": "code",
   "execution_count": 126,
   "metadata": {},
   "outputs": [],
   "source": [
    "#add condenstation of pent-ACP with malonyl ACP to 3-oxoheptanoyl-ACP\n",
    "#add metabolite\n",
    "model.add_metabolites(Metabolite(id='3oheptACP_c', name = '3-oxoheptanoyl-ACP', compartment = 'c', charge =-1, formula = 'C18H31O9N2PRS'))"
   ]
  },
  {
   "cell_type": "code",
   "execution_count": 127,
   "metadata": {},
   "outputs": [],
   "source": [
    "model.metabolites.get_by_id('3oheptACP_c').annotation['sbo'] = 'SBO:0000176'"
   ]
  },
  {
   "cell_type": "code",
   "execution_count": 128,
   "metadata": {},
   "outputs": [],
   "source": [
    "#add reaction\n",
    "model.add_reaction(Reaction(id='3OAS70', name = '3-oxoheptanoyl-[acyl-carrier-protein] synthase (n-C7:0)'))"
   ]
  },
  {
   "cell_type": "code",
   "execution_count": 129,
   "metadata": {},
   "outputs": [],
   "source": [
    "model.reactions.get_by_id('3OAS70').annotation['sbo'] = 'SBO:0000176'"
   ]
  },
  {
   "cell_type": "code",
   "execution_count": 130,
   "metadata": {},
   "outputs": [],
   "source": [
    "#assume GPR is the same FAget_by_id('3OAS50')synthase: RTMO12345\n",
    "model.reactions.get_by_id('3OAS70').gene_reaction_rule = 'RTMO12345'"
   ]
  },
  {
   "cell_type": "code",
   "execution_count": 131,
   "metadata": {},
   "outputs": [],
   "source": [
    "model.reactions.get_by_id('3OAS70').add_metabolites({\n",
    "    model.metabolites.malACP_c:-1,\n",
    "    model.metabolites.pentACP_c:-1,\n",
    "    model.metabolites.ACP_c:1,\n",
    "    model.metabolites.co2_c:1,\n",
    "    model.metabolites.get_by_id('3oheptACP_c'):1,\n",
    "    model.metabolites.h_c:-1\n",
    "})"
   ]
  },
  {
   "cell_type": "code",
   "execution_count": 132,
   "metadata": {},
   "outputs": [],
   "source": [
    "#next add reaction with NADPH\n",
    "#first add 3-Hydroxypentanoyl-[acp] met\n",
    "model.add_metabolites(Metabolite(id='3hheptACP_c', name = '3-Hydroxyheptanoyl-[acp]', compartment = 'c', charge = -1, formula = 'C18H33O9N2PRS'))"
   ]
  },
  {
   "cell_type": "code",
   "execution_count": 133,
   "metadata": {},
   "outputs": [],
   "source": [
    "model.metabolites.get_by_id('3hheptACP_c').annotation['sbo'] = 'SBO:0000247'"
   ]
  },
  {
   "cell_type": "code",
   "execution_count": 134,
   "metadata": {},
   "outputs": [],
   "source": [
    "#add reaction\n",
    "model.add_reaction(Reaction(id='3OAR70', name = ' 3-oxoacyl-[acyl-carrier-protein] reductase (n-C7:0)'))"
   ]
  },
  {
   "cell_type": "code",
   "execution_count": 135,
   "metadata": {},
   "outputs": [],
   "source": [
    "model.reactions.get_by_id('3OAR70').annotation['sbo'] = 'SBO:0000176'"
   ]
  },
  {
   "cell_type": "code",
   "execution_count": 136,
   "metadata": {},
   "outputs": [],
   "source": [
    "#assume GPR is the same FAget_by_id('3OAS70')synthase: RTMO12345\n",
    "model.reactions.get_by_id('3OAR70').gene_reaction_rule = 'RTMO12345'"
   ]
  },
  {
   "cell_type": "code",
   "execution_count": 137,
   "metadata": {},
   "outputs": [],
   "source": [
    "model.reactions.get_by_id('3OAR70').add_metabolites({\n",
    "    model.metabolites.get_by_id('3oheptACP_c'):-1,\n",
    "    model.metabolites.nadph_c:-1,\n",
    "    model.metabolites.nadp_c:1,\n",
    "    model.metabolites.get_by_id('3hheptACP_c'):1,\n",
    "    model.metabolites.h_c:-1\n",
    "})"
   ]
  },
  {
   "cell_type": "code",
   "execution_count": 138,
   "metadata": {},
   "outputs": [],
   "source": [
    "#next add the tpent2eACP_c metabolite\n",
    "model.add_metabolites(Metabolite(id='thept2eACP_c', name = 'Trans-Hept-2-enoyl-[acyl-carrier protein]', compartment = 'c', charge = -1, formula = 'C18H31O8N2PRS'))"
   ]
  },
  {
   "cell_type": "code",
   "execution_count": 139,
   "metadata": {},
   "outputs": [],
   "source": [
    "model.metabolites.get_by_id('thept2eACP_c').annotation['sbo'] = 'SBO:0000247'"
   ]
  },
  {
   "cell_type": "code",
   "execution_count": 140,
   "metadata": {},
   "outputs": [],
   "source": [
    "#add reaction\n",
    "model.add_reaction(Reaction(id='3HAD70', name = '3-hydroxyacyl-[acyl-carrier-protein] dehydratase (n-C7:0)'))"
   ]
  },
  {
   "cell_type": "code",
   "execution_count": 141,
   "metadata": {},
   "outputs": [],
   "source": [
    "model.reactions.get_by_id('3HAD70').annotation['sbo'] = 'SBO:0000176'"
   ]
  },
  {
   "cell_type": "code",
   "execution_count": 142,
   "metadata": {},
   "outputs": [],
   "source": [
    "#assume GPR is the same FAget_by_id('3OAS50')synthase: RTMO12345\n",
    "model.reactions.get_by_id('3HAD70').gene_reaction_rule = 'RTMO12345'"
   ]
  },
  {
   "cell_type": "code",
   "execution_count": 143,
   "metadata": {},
   "outputs": [],
   "source": [
    "model.reactions.get_by_id('3HAD70').add_metabolites({\n",
    "    model.metabolites.get_by_id('3hheptACP_c'):-1,\n",
    "    model.metabolites.h2o_c:1,\n",
    "    model.metabolites.thept2eACP_c:1\n",
    "})"
   ]
  },
  {
   "cell_type": "code",
   "execution_count": 144,
   "metadata": {},
   "outputs": [],
   "source": [
    "#last step: convert to Heptanoyl-ACP which can start the next cycle again\n",
    "#add both with NADH and NADPH.\n",
    "#first add the heptanoyl-ACP metabolite\n",
    "model.add_metabolites(Metabolite(id='heptACP_c', name = 'heptanoyl-ACP(n-C7:0ACP)', compartment = 'c', charge = -1, formula = 'C18H33O8N2PRS' ))"
   ]
  },
  {
   "cell_type": "code",
   "execution_count": 145,
   "metadata": {},
   "outputs": [],
   "source": [
    "model.metabolites.heptACP_c.annotation['sbo'] = 'SBO:0000247'"
   ]
  },
  {
   "cell_type": "code",
   "execution_count": 146,
   "metadata": {},
   "outputs": [],
   "source": [
    "#add reaction with NADH\n",
    "model.add_reaction(Reaction(id='EAR70x', name = 'heptanoyl-[acp]:NAD+ trans-2-oxidoreductase'))"
   ]
  },
  {
   "cell_type": "code",
   "execution_count": 147,
   "metadata": {},
   "outputs": [],
   "source": [
    "model.reactions.EAR70x.annotation['sbo'] = 'SBO:0000176'"
   ]
  },
  {
   "cell_type": "code",
   "execution_count": 148,
   "metadata": {},
   "outputs": [],
   "source": [
    "#assume GPR is the same FAget_by_id('3OAS50')synthase: RTMO12345\n",
    "model.reactions.EAR70x.gene_reaction_rule = 'RTMO12345'"
   ]
  },
  {
   "cell_type": "code",
   "execution_count": 149,
   "metadata": {},
   "outputs": [],
   "source": [
    "model.reactions.EAR70x.add_metabolites({\n",
    "    model.metabolites.thept2eACP_c:-1,\n",
    "    model.metabolites.nadh_c:-1,\n",
    "    model.metabolites.nad_c:1,\n",
    "    model.metabolites.heptACP_c:1,\n",
    "    model.metabolites.h_c:-1\n",
    "})"
   ]
  },
  {
   "cell_type": "code",
   "execution_count": 150,
   "metadata": {},
   "outputs": [],
   "source": [
    "#add reaction with NADH\n",
    "model.add_reaction(Reaction(id='EAR70y', name = 'heptanoyl-[acp]:NADP+ trans-2-oxidoreductase'))"
   ]
  },
  {
   "cell_type": "code",
   "execution_count": 151,
   "metadata": {},
   "outputs": [],
   "source": [
    "model.reactions.EAR70y.annotation['sbo'] = 'SBO:0000176'"
   ]
  },
  {
   "cell_type": "code",
   "execution_count": 152,
   "metadata": {},
   "outputs": [],
   "source": [
    "#assume GPR is the same FAget_by_id('3OAS70')synthase: RTMO12345\n",
    "model.reactions.EAR70y.gene_reaction_rule = 'RTMO12345'"
   ]
  },
  {
   "cell_type": "code",
   "execution_count": 153,
   "metadata": {},
   "outputs": [],
   "source": [
    "model.reactions.EAR70y.add_metabolites({\n",
    "    model.metabolites.thept2eACP_c:-1,\n",
    "    model.metabolites.nadph_c:-1,\n",
    "    model.metabolites.nadp_c:1,\n",
    "    model.metabolites.heptACP_c:1,\n",
    "    model.metabolites.h_c:-1\n",
    "})"
   ]
  },
  {
   "cell_type": "code",
   "execution_count": 154,
   "metadata": {},
   "outputs": [],
   "source": [
    "#save&commit\n",
    "cobra.io.write_sbml_model(model,'../model/g-thermo.xml')"
   ]
  },
  {
   "cell_type": "markdown",
   "metadata": {},
   "source": [
    "Finished up to n-C7:0. Now onto n-C9:0."
   ]
  },
  {
   "cell_type": "code",
   "execution_count": null,
   "metadata": {},
   "outputs": [],
   "source": [
    "model = cobra.io.read_sbml_model('../model/g-thermo.xml')"
   ]
  },
  {
   "cell_type": "code",
   "execution_count": 6,
   "metadata": {},
   "outputs": [],
   "source": [
    "#add condenstation of hept-ACP with malonyl ACP to 3-oxononanoyl-ACP\n",
    "#add metabolite\n",
    "model.add_metabolites(Metabolite(id='3ononACP_c', name = '3-oxononanoyl-ACP', compartment = 'c', charge =-1, formula = 'C20H35O9N2PRS'))"
   ]
  },
  {
   "cell_type": "code",
   "execution_count": 7,
   "metadata": {},
   "outputs": [],
   "source": [
    "model.metabolites.get_by_id('3ononACP_c').annotation['sbo'] = 'SBO:0000176'"
   ]
  },
  {
   "cell_type": "code",
   "execution_count": 9,
   "metadata": {},
   "outputs": [],
   "source": [
    "#add reaction\n",
    "model.add_reaction(Reaction(id='3OAS90', name = '3-oxononanoyl-[acyl-carrier-protein] synthase (n-C9:0)'))"
   ]
  },
  {
   "cell_type": "code",
   "execution_count": 10,
   "metadata": {},
   "outputs": [],
   "source": [
    "model.reactions.get_by_id('3OAS90').annotation['sbo'] = 'SBO:0000176'"
   ]
  },
  {
   "cell_type": "code",
   "execution_count": 11,
   "metadata": {},
   "outputs": [],
   "source": [
    "#assume GPR is the same FAget_by_id('3OAS50')synthase: RTMO12345\n",
    "model.reactions.get_by_id('3OAS90').gene_reaction_rule = 'RTMO12345'"
   ]
  },
  {
   "cell_type": "code",
   "execution_count": 12,
   "metadata": {},
   "outputs": [],
   "source": [
    "model.reactions.get_by_id('3OAS90').add_metabolites({\n",
    "    model.metabolites.malACP_c:-1,\n",
    "    model.metabolites.heptACP_c:-1,\n",
    "    model.metabolites.ACP_c:1,\n",
    "    model.metabolites.co2_c:1,\n",
    "    model.metabolites.get_by_id('3ononACP_c'):1,\n",
    "    model.metabolites.h_c:-1\n",
    "})"
   ]
  },
  {
   "cell_type": "code",
   "execution_count": 13,
   "metadata": {},
   "outputs": [],
   "source": [
    "#next add reaction with NADPH\n",
    "#first add 3-Hydroxynonanoyl-[acp] met\n",
    "model.add_metabolites(Metabolite(id='3hnonACP_c', name = '3-Hydroxynonanoyl-[acp]', compartment = 'c', charge = -1, formula = 'C20H37O9N2PRS'))"
   ]
  },
  {
   "cell_type": "code",
   "execution_count": 14,
   "metadata": {},
   "outputs": [],
   "source": [
    "model.metabolites.get_by_id('3hnonACP_c').annotation['sbo'] = 'SBO:0000247'"
   ]
  },
  {
   "cell_type": "code",
   "execution_count": 15,
   "metadata": {},
   "outputs": [],
   "source": [
    "#add reaction\n",
    "model.add_reaction(Reaction(id='3OAR90', name = ' 3-oxoacyl-[acyl-carrier-protein] reductase (n-C9:0)'))"
   ]
  },
  {
   "cell_type": "code",
   "execution_count": 16,
   "metadata": {},
   "outputs": [],
   "source": [
    "model.reactions.get_by_id('3OAR90').annotation['sbo'] = 'SBO:0000176'"
   ]
  },
  {
   "cell_type": "code",
   "execution_count": 17,
   "metadata": {},
   "outputs": [],
   "source": [
    "#assume GPR is the same FA synthase, as done in the whole model: RTMO12345\n",
    "model.reactions.get_by_id('3OAR90').gene_reaction_rule = 'RTMO12345'"
   ]
  },
  {
   "cell_type": "code",
   "execution_count": 18,
   "metadata": {},
   "outputs": [],
   "source": [
    "model.reactions.get_by_id('3OAR90').add_metabolites({\n",
    "    model.metabolites.get_by_id('3ononACP_c'):-1,\n",
    "    model.metabolites.nadph_c:-1,\n",
    "    model.metabolites.nadp_c:1,\n",
    "    model.metabolites.get_by_id('3hnonACP_c'):1,\n",
    "    model.metabolites.h_c:-1\n",
    "})"
   ]
  },
  {
   "cell_type": "code",
   "execution_count": 19,
   "metadata": {},
   "outputs": [],
   "source": [
    "#next add the tpent2eACP_c metabolite\n",
    "model.add_metabolites(Metabolite(id='tnon2eACP_c', name = 'Trans-Non-2-enoyl-[acyl-carrier protein]', compartment = 'c', charge = -1, formula = 'C20H35O8N2PRS'))"
   ]
  },
  {
   "cell_type": "code",
   "execution_count": 20,
   "metadata": {},
   "outputs": [],
   "source": [
    "model.metabolites.get_by_id('tnon2eACP_c').annotation['sbo'] = 'SBO:0000247'"
   ]
  },
  {
   "cell_type": "code",
   "execution_count": 21,
   "metadata": {},
   "outputs": [],
   "source": [
    "#add reaction\n",
    "model.add_reaction(Reaction(id='3HAD90', name = '3-hydroxyacyl-[acyl-carrier-protein] dehydratase (n-C9:0)'))"
   ]
  },
  {
   "cell_type": "code",
   "execution_count": 22,
   "metadata": {},
   "outputs": [],
   "source": [
    "model.reactions.get_by_id('3HAD90').annotation['sbo'] = 'SBO:0000176'"
   ]
  },
  {
   "cell_type": "code",
   "execution_count": 23,
   "metadata": {},
   "outputs": [],
   "source": [
    "#assume GPR is the same FA synthase: RTMO12345\n",
    "model.reactions.get_by_id('3HAD90').gene_reaction_rule = 'RTMO12345'"
   ]
  },
  {
   "cell_type": "code",
   "execution_count": 24,
   "metadata": {},
   "outputs": [],
   "source": [
    "model.reactions.get_by_id('3HAD90').add_metabolites({\n",
    "    model.metabolites.get_by_id('3hnonACP_c'):-1,\n",
    "    model.metabolites.h2o_c:1,\n",
    "    model.metabolites.tnon2eACP_c:1\n",
    "})"
   ]
  },
  {
   "cell_type": "code",
   "execution_count": 25,
   "metadata": {},
   "outputs": [],
   "source": [
    "#add both with NADH and NADPH.\n",
    "#first add the nonanoyl-ACP metabolite\n",
    "model.add_metabolites(Metabolite(id='nonACP_c', name = 'nonanoyl-ACP(n-C9:0ACP)', compartment = 'c', charge = -1, formula = 'C20H37O8N2PRS' ))"
   ]
  },
  {
   "cell_type": "code",
   "execution_count": 26,
   "metadata": {},
   "outputs": [],
   "source": [
    "model.metabolites.nonACP_c.annotation['sbo'] = 'SBO:0000247'"
   ]
  },
  {
   "cell_type": "code",
   "execution_count": 27,
   "metadata": {},
   "outputs": [],
   "source": [
    "#add reaction with NADH\n",
    "model.add_reaction(Reaction(id='EAR90x', name = 'nonanoyl-[acp]:NAD+ trans-2-oxidoreductase'))"
   ]
  },
  {
   "cell_type": "code",
   "execution_count": 28,
   "metadata": {},
   "outputs": [],
   "source": [
    "model.reactions.EAR90x.annotation['sbo'] = 'SBO:0000176'"
   ]
  },
  {
   "cell_type": "code",
   "execution_count": 29,
   "metadata": {},
   "outputs": [],
   "source": [
    "#assume GPR is the same FAget_by_id('3OAS50')synthase: RTMO12345\n",
    "model.reactions.EAR90x.gene_reaction_rule = 'RTMO12345'"
   ]
  },
  {
   "cell_type": "code",
   "execution_count": 30,
   "metadata": {},
   "outputs": [],
   "source": [
    "model.reactions.EAR90x.add_metabolites({\n",
    "    model.metabolites.tnon2eACP_c:-1,\n",
    "    model.metabolites.nadh_c:-1,\n",
    "    model.metabolites.nad_c:1,\n",
    "    model.metabolites.nonACP_c:1,\n",
    "    model.metabolites.h_c:-1\n",
    "})"
   ]
  },
  {
   "cell_type": "code",
   "execution_count": 31,
   "metadata": {},
   "outputs": [],
   "source": [
    "#add reaction with NADH\n",
    "model.add_reaction(Reaction(id='EAR90y', name = 'nonanoyl-[acp]:NADP+ trans-2-oxidoreductase'))"
   ]
  },
  {
   "cell_type": "code",
   "execution_count": 32,
   "metadata": {},
   "outputs": [],
   "source": [
    "model.reactions.EAR90y.annotation['sbo'] = 'SBO:0000176'"
   ]
  },
  {
   "cell_type": "code",
   "execution_count": 33,
   "metadata": {},
   "outputs": [],
   "source": [
    "#assume GPR is the same FAget_by_id('3OAS70')synthase: RTMO12345\n",
    "model.reactions.EAR90y.gene_reaction_rule = 'RTMO12345'"
   ]
  },
  {
   "cell_type": "code",
   "execution_count": 34,
   "metadata": {},
   "outputs": [],
   "source": [
    "model.reactions.EAR90y.add_metabolites({\n",
    "    model.metabolites.tnon2eACP_c:-1,\n",
    "    model.metabolites.nadph_c:-1,\n",
    "    model.metabolites.nadp_c:1,\n",
    "    model.metabolites.nonACP_c:1,\n",
    "    model.metabolites.h_c:-1\n",
    "})"
   ]
  },
  {
   "cell_type": "code",
   "execution_count": 35,
   "metadata": {},
   "outputs": [],
   "source": [
    "#save&commit\n",
    "cobra.io.write_sbml_model(model,'../model/g-thermo.xml')"
   ]
  },
  {
   "cell_type": "markdown",
   "metadata": {},
   "source": [
    "Finished up to nC9:0. Now onto nC11:0."
   ]
  },
  {
   "cell_type": "code",
   "execution_count": 36,
   "metadata": {},
   "outputs": [],
   "source": [
    "#add condenstation of non-ACP with malonyl ACP to 3-oxoundecanoyl-ACP\n",
    "#add metabolite\n",
    "model.add_metabolites(Metabolite(id='3oudecACP_c', name = '3-oxoundecanoyl-ACP', compartment = 'c', charge =-1, formula = 'C22H39O9N2PRS'))"
   ]
  },
  {
   "cell_type": "code",
   "execution_count": 37,
   "metadata": {},
   "outputs": [],
   "source": [
    "model.metabolites.get_by_id('3oudecACP_c').annotation['sbo'] = 'SBO:0000176'"
   ]
  },
  {
   "cell_type": "code",
   "execution_count": 38,
   "metadata": {},
   "outputs": [],
   "source": [
    "#add reaction\n",
    "model.add_reaction(Reaction(id='3OAS110', name = '3-oxoundecanoyl-[acyl-carrier-protein] synthase (n-C11:0)'))"
   ]
  },
  {
   "cell_type": "code",
   "execution_count": 39,
   "metadata": {},
   "outputs": [],
   "source": [
    "model.reactions.get_by_id('3OAS110').annotation['sbo'] = 'SBO:0000176'"
   ]
  },
  {
   "cell_type": "code",
   "execution_count": 40,
   "metadata": {},
   "outputs": [],
   "source": [
    "#assume GPR is the same FAget_by_id('3OAS50')synthase: RTMO12345\n",
    "model.reactions.get_by_id('3OAS110').gene_reaction_rule = 'RTMO12345'"
   ]
  },
  {
   "cell_type": "code",
   "execution_count": 41,
   "metadata": {},
   "outputs": [],
   "source": [
    "model.reactions.get_by_id('3OAS110').add_metabolites({\n",
    "    model.metabolites.malACP_c:-1,\n",
    "    model.metabolites.nonACP_c:-1,\n",
    "    model.metabolites.ACP_c:1,\n",
    "    model.metabolites.co2_c:1,\n",
    "    model.metabolites.get_by_id('3oudecACP_c'):1,\n",
    "    model.metabolites.h_c:-1\n",
    "})"
   ]
  },
  {
   "cell_type": "code",
   "execution_count": 42,
   "metadata": {},
   "outputs": [],
   "source": [
    "#next add reaction with NADPH\n",
    "#first add 3-Hydroxyundecanoyl-[acp] met\n",
    "model.add_metabolites(Metabolite(id='3hudecACP_c', name = '3-Hydroxyundecanoyl-[acp]', compartment = 'c', charge = -1, formula = 'C22H41O9N2PRS'))"
   ]
  },
  {
   "cell_type": "code",
   "execution_count": 43,
   "metadata": {},
   "outputs": [],
   "source": [
    "model.metabolites.get_by_id('3hudecACP_c').annotation['sbo'] = 'SBO:0000247'"
   ]
  },
  {
   "cell_type": "code",
   "execution_count": 44,
   "metadata": {},
   "outputs": [],
   "source": [
    "#add reaction\n",
    "model.add_reaction(Reaction(id='3OAR110', name = ' 3-oxoacyl-[acyl-carrier-protein] reductase (n-C11:0)'))"
   ]
  },
  {
   "cell_type": "code",
   "execution_count": 45,
   "metadata": {},
   "outputs": [],
   "source": [
    "model.reactions.get_by_id('3OAR110').annotation['sbo'] = 'SBO:0000176'"
   ]
  },
  {
   "cell_type": "code",
   "execution_count": 46,
   "metadata": {},
   "outputs": [],
   "source": [
    "#assume GPR is the same FA synthase, as done in the whole model: RTMO12345\n",
    "model.reactions.get_by_id('3OAR110').gene_reaction_rule = 'RTMO12345'"
   ]
  },
  {
   "cell_type": "code",
   "execution_count": 47,
   "metadata": {},
   "outputs": [],
   "source": [
    "model.reactions.get_by_id('3OAR110').add_metabolites({\n",
    "    model.metabolites.get_by_id('3oudecACP_c'):-1,\n",
    "    model.metabolites.nadph_c:-1,\n",
    "    model.metabolites.nadp_c:1,\n",
    "    model.metabolites.get_by_id('3hudecACP_c'):1,\n",
    "    model.metabolites.h_c:-1\n",
    "})"
   ]
  },
  {
   "cell_type": "code",
   "execution_count": 48,
   "metadata": {},
   "outputs": [],
   "source": [
    "#next add the tpent2eACP_c metabolite\n",
    "model.add_metabolites(Metabolite(id='tudec2eACP_c', name = 'Trans-Undec-2-enoyl-[acyl-carrier protein]', compartment = 'c', charge = -1, formula = 'C22H39O8N2PRS'))"
   ]
  },
  {
   "cell_type": "code",
   "execution_count": 49,
   "metadata": {},
   "outputs": [],
   "source": [
    "model.metabolites.get_by_id('tudec2eACP_c').annotation['sbo'] = 'SBO:0000247'"
   ]
  },
  {
   "cell_type": "code",
   "execution_count": 50,
   "metadata": {},
   "outputs": [],
   "source": [
    "#add reaction\n",
    "model.add_reaction(Reaction(id='3HAD110', name = '3-hydroxyacyl-[acyl-carrier-protein] dehydratase (n-C11:0)'))"
   ]
  },
  {
   "cell_type": "code",
   "execution_count": 51,
   "metadata": {},
   "outputs": [],
   "source": [
    "model.reactions.get_by_id('3HAD110').annotation['sbo'] = 'SBO:0000176'"
   ]
  },
  {
   "cell_type": "code",
   "execution_count": 52,
   "metadata": {},
   "outputs": [],
   "source": [
    "#assume GPR is the same FA synthase: RTMO12345\n",
    "model.reactions.get_by_id('3HAD110').gene_reaction_rule = 'RTMO12345'"
   ]
  },
  {
   "cell_type": "code",
   "execution_count": 53,
   "metadata": {},
   "outputs": [],
   "source": [
    "model.reactions.get_by_id('3HAD110').add_metabolites({\n",
    "    model.metabolites.get_by_id('3hudecACP_c'):-1,\n",
    "    model.metabolites.h2o_c:1,\n",
    "    model.metabolites.tudec2eACP_c:1\n",
    "})"
   ]
  },
  {
   "cell_type": "code",
   "execution_count": 54,
   "metadata": {},
   "outputs": [],
   "source": [
    "#add both with NADH and NADPH.\n",
    "#first add the undecanoyl-ACP metabolite\n",
    "model.add_metabolites(Metabolite(id='udecACP_c', name = 'Undecanoyl-ACP(n-C11:0ACP)', compartment = 'c', charge = -1, formula = 'C22H41O8N2PRS' ))"
   ]
  },
  {
   "cell_type": "code",
   "execution_count": 55,
   "metadata": {},
   "outputs": [],
   "source": [
    "model.metabolites.udecACP_c.annotation['sbo'] = 'SBO:0000247'"
   ]
  },
  {
   "cell_type": "code",
   "execution_count": 56,
   "metadata": {},
   "outputs": [],
   "source": [
    "#add reaction with NADH\n",
    "model.add_reaction(Reaction(id='EAR110x', name = 'Undecanoyl-[acp]:NAD+ trans-2-oxidoreductase'))"
   ]
  },
  {
   "cell_type": "code",
   "execution_count": 57,
   "metadata": {},
   "outputs": [],
   "source": [
    "model.reactions.EAR110x.annotation['sbo'] = 'SBO:0000176'"
   ]
  },
  {
   "cell_type": "code",
   "execution_count": 58,
   "metadata": {},
   "outputs": [],
   "source": [
    "#assume GPR is the same FAget_by_id('3OAS50')synthase: RTMO12345\n",
    "model.reactions.EAR110x.gene_reaction_rule = 'RTMO12345'"
   ]
  },
  {
   "cell_type": "code",
   "execution_count": 59,
   "metadata": {},
   "outputs": [],
   "source": [
    "model.reactions.EAR110x.add_metabolites({\n",
    "    model.metabolites.tudec2eACP_c:-1,\n",
    "    model.metabolites.nadh_c:-1,\n",
    "    model.metabolites.nad_c:1,\n",
    "    model.metabolites.udecACP_c:1,\n",
    "    model.metabolites.h_c:-1\n",
    "})"
   ]
  },
  {
   "cell_type": "code",
   "execution_count": 60,
   "metadata": {},
   "outputs": [],
   "source": [
    "#add reaction with NADH\n",
    "model.add_reaction(Reaction(id='EAR110y', name = 'Undecanoyl-[acp]:NADP+ trans-2-oxidoreductase'))"
   ]
  },
  {
   "cell_type": "code",
   "execution_count": 61,
   "metadata": {},
   "outputs": [],
   "source": [
    "model.reactions.EAR110y.annotation['sbo'] = 'SBO:0000176'"
   ]
  },
  {
   "cell_type": "code",
   "execution_count": 62,
   "metadata": {},
   "outputs": [],
   "source": [
    "#assume GPR is the same FAget_by_id('3OAS70')synthase: RTMO12345\n",
    "model.reactions.EAR110y.gene_reaction_rule = 'RTMO12345'"
   ]
  },
  {
   "cell_type": "code",
   "execution_count": 63,
   "metadata": {},
   "outputs": [],
   "source": [
    "model.reactions.EAR110y.add_metabolites({\n",
    "    model.metabolites.tudec2eACP_c:-1,\n",
    "    model.metabolites.nadph_c:-1,\n",
    "    model.metabolites.nadp_c:1,\n",
    "    model.metabolites.udecACP_c:1,\n",
    "    model.metabolites.h_c:-1\n",
    "})"
   ]
  },
  {
   "cell_type": "code",
   "execution_count": 64,
   "metadata": {},
   "outputs": [],
   "source": [
    "#save&commit\n",
    "cobra.io.write_sbml_model(model,'../model/g-thermo.xml')"
   ]
  },
  {
   "cell_type": "markdown",
   "metadata": {},
   "source": [
    "Now finished up to C11:0, move onto C13:0."
   ]
  },
  {
   "cell_type": "code",
   "execution_count": 65,
   "metadata": {},
   "outputs": [],
   "source": [
    "#add condenstation of non-ACP with malonyl ACP to 3-oxoundecanoyl-ACP\n",
    "#add metabolite\n",
    "model.add_metabolites(Metabolite(id='3otdecACP_c', name = '3-oxotridecanoyl-ACP', compartment = 'c', charge =-1, formula = 'C24H43O9N2PRS'))"
   ]
  },
  {
   "cell_type": "code",
   "execution_count": 66,
   "metadata": {},
   "outputs": [],
   "source": [
    "model.metabolites.get_by_id('3otdecACP_c').annotation['sbo'] = 'SBO:0000176'"
   ]
  },
  {
   "cell_type": "code",
   "execution_count": 67,
   "metadata": {},
   "outputs": [],
   "source": [
    "#add reaction\n",
    "model.add_reaction(Reaction(id='3OAS130', name = '3-oxotridecanoyl-[acyl-carrier-protein] synthase (n-C13:0)'))"
   ]
  },
  {
   "cell_type": "code",
   "execution_count": 68,
   "metadata": {},
   "outputs": [],
   "source": [
    "model.reactions.get_by_id('3OAS130').annotation['sbo'] = 'SBO:0000176'"
   ]
  },
  {
   "cell_type": "code",
   "execution_count": 69,
   "metadata": {},
   "outputs": [],
   "source": [
    "#assume GPR is the same FAget_by_id('3OAS50')synthase: RTMO12345\n",
    "model.reactions.get_by_id('3OAS130').gene_reaction_rule = 'RTMO12345'"
   ]
  },
  {
   "cell_type": "code",
   "execution_count": 70,
   "metadata": {},
   "outputs": [],
   "source": [
    "model.reactions.get_by_id('3OAS130').add_metabolites({\n",
    "    model.metabolites.malACP_c:-1,\n",
    "    model.metabolites.udecACP_c:-1,\n",
    "    model.metabolites.ACP_c:1,\n",
    "    model.metabolites.co2_c:1,\n",
    "    model.metabolites.get_by_id('3otdecACP_c'):1,\n",
    "    model.metabolites.h_c:-1\n",
    "})"
   ]
  },
  {
   "cell_type": "code",
   "execution_count": 71,
   "metadata": {},
   "outputs": [],
   "source": [
    "#next add reaction with NADPH\n",
    "#first add 3-Hydroxytridecanoyl-[acp] met\n",
    "model.add_metabolites(Metabolite(id='3htdecACP_c', name = '3-Hydroxytridecanoyl-[acp]', compartment = 'c', charge = -1, formula = 'C24H45O9N2PRS'))"
   ]
  },
  {
   "cell_type": "code",
   "execution_count": 72,
   "metadata": {},
   "outputs": [],
   "source": [
    "model.metabolites.get_by_id('3htdecACP_c').annotation['sbo'] = 'SBO:0000247'"
   ]
  },
  {
   "cell_type": "code",
   "execution_count": 73,
   "metadata": {},
   "outputs": [],
   "source": [
    "#add reaction\n",
    "model.add_reaction(Reaction(id='3OAR130', name = ' 3-oxoacyl-[acyl-carrier-protein] reductase (n-C13:0)'))"
   ]
  },
  {
   "cell_type": "code",
   "execution_count": 74,
   "metadata": {},
   "outputs": [],
   "source": [
    "model.reactions.get_by_id('3OAR130').annotation['sbo'] = 'SBO:0000176'"
   ]
  },
  {
   "cell_type": "code",
   "execution_count": 75,
   "metadata": {},
   "outputs": [],
   "source": [
    "#assume GPR is the same FA synthase, as done in the whole model: RTMO12345\n",
    "model.reactions.get_by_id('3OAR130').gene_reaction_rule = 'RTMO12345'"
   ]
  },
  {
   "cell_type": "code",
   "execution_count": 76,
   "metadata": {},
   "outputs": [],
   "source": [
    "model.reactions.get_by_id('3OAR130').add_metabolites({\n",
    "    model.metabolites.get_by_id('3otdecACP_c'):-1,\n",
    "    model.metabolites.nadph_c:-1,\n",
    "    model.metabolites.nadp_c:1,\n",
    "    model.metabolites.get_by_id('3htdecACP_c'):1,\n",
    "    model.metabolites.h_c:-1\n",
    "})"
   ]
  },
  {
   "cell_type": "code",
   "execution_count": 77,
   "metadata": {},
   "outputs": [],
   "source": [
    "#next add the tpent2eACP_c metabolite\n",
    "model.add_metabolites(Metabolite(id='ttdec2eACP_c', name = 'Trans-Tridec-2-enoyl-[acyl-carrier protein]', compartment = 'c', charge = -1, formula = 'C24H43O8N2PRS'))"
   ]
  },
  {
   "cell_type": "code",
   "execution_count": 78,
   "metadata": {},
   "outputs": [],
   "source": [
    "model.metabolites.get_by_id('ttdec2eACP_c').annotation['sbo'] = 'SBO:0000247'"
   ]
  },
  {
   "cell_type": "code",
   "execution_count": 79,
   "metadata": {},
   "outputs": [],
   "source": [
    "#add reaction\n",
    "model.add_reaction(Reaction(id='3HAD130', name = '3-hydroxyacyl-[acyl-carrier-protein] dehydratase (n-C13:0)'))"
   ]
  },
  {
   "cell_type": "code",
   "execution_count": 80,
   "metadata": {},
   "outputs": [],
   "source": [
    "model.reactions.get_by_id('3HAD130').annotation['sbo'] = 'SBO:0000176'"
   ]
  },
  {
   "cell_type": "code",
   "execution_count": 81,
   "metadata": {},
   "outputs": [],
   "source": [
    "#assume GPR is the same FA synthase: RTMO12345\n",
    "model.reactions.get_by_id('3HAD130').gene_reaction_rule = 'RTMO12345'"
   ]
  },
  {
   "cell_type": "code",
   "execution_count": 82,
   "metadata": {},
   "outputs": [],
   "source": [
    "model.reactions.get_by_id('3HAD130').add_metabolites({\n",
    "    model.metabolites.get_by_id('3htdecACP_c'):-1,\n",
    "    model.metabolites.h2o_c:1,\n",
    "    model.metabolites.ttdec2eACP_c:1\n",
    "})"
   ]
  },
  {
   "cell_type": "code",
   "execution_count": 83,
   "metadata": {},
   "outputs": [],
   "source": [
    "#add the last reaction both with NADH and NADPH.\n",
    "#first add the tridecanoyl-ACP metabolite\n",
    "model.add_metabolites(Metabolite(id='tdecACP_c', name = 'Tridecanoyl-ACP(n-C13:0ACP)', compartment = 'c', charge = -1, formula = 'C24H45O8N2PRS' ))"
   ]
  },
  {
   "cell_type": "code",
   "execution_count": 84,
   "metadata": {},
   "outputs": [],
   "source": [
    "model.metabolites.tdecACP_c.annotation['sbo'] = 'SBO:0000247'"
   ]
  },
  {
   "cell_type": "code",
   "execution_count": 85,
   "metadata": {},
   "outputs": [],
   "source": [
    "#add reaction with NADH\n",
    "model.add_reaction(Reaction(id='EAR130x', name = 'Tridecanoyl-[acp]:NAD+ trans-2-oxidoreductase'))"
   ]
  },
  {
   "cell_type": "code",
   "execution_count": 86,
   "metadata": {},
   "outputs": [],
   "source": [
    "model.reactions.EAR130x.annotation['sbo'] = 'SBO:0000176'"
   ]
  },
  {
   "cell_type": "code",
   "execution_count": 87,
   "metadata": {},
   "outputs": [],
   "source": [
    "#assume GPR is the same FAget_by_id('3OAS50')synthase: RTMO12345\n",
    "model.reactions.EAR130x.gene_reaction_rule = 'RTMO12345'"
   ]
  },
  {
   "cell_type": "code",
   "execution_count": 88,
   "metadata": {},
   "outputs": [],
   "source": [
    "model.reactions.EAR130x.add_metabolites({\n",
    "    model.metabolites.ttdec2eACP_c:-1,\n",
    "    model.metabolites.nadh_c:-1,\n",
    "    model.metabolites.nad_c:1,\n",
    "    model.metabolites.tdecACP_c:1,\n",
    "    model.metabolites.h_c:-1\n",
    "})"
   ]
  },
  {
   "cell_type": "code",
   "execution_count": 89,
   "metadata": {},
   "outputs": [],
   "source": [
    "#add reaction with NADH\n",
    "model.add_reaction(Reaction(id='EAR130y', name = 'Tridecanoyl-[acp]:NADP+ trans-2-oxidoreductase'))"
   ]
  },
  {
   "cell_type": "code",
   "execution_count": 90,
   "metadata": {},
   "outputs": [],
   "source": [
    "model.reactions.EAR130y.annotation['sbo'] = 'SBO:0000176'"
   ]
  },
  {
   "cell_type": "code",
   "execution_count": 91,
   "metadata": {},
   "outputs": [],
   "source": [
    "#assume GPR is the same FAsynthase: RTMO12345\n",
    "model.reactions.EAR130y.gene_reaction_rule = 'RTMO12345'"
   ]
  },
  {
   "cell_type": "code",
   "execution_count": 92,
   "metadata": {},
   "outputs": [],
   "source": [
    "model.reactions.EAR130y.add_metabolites({\n",
    "    model.metabolites.ttdec2eACP_c:-1,\n",
    "    model.metabolites.nadph_c:-1,\n",
    "    model.metabolites.nadp_c:1,\n",
    "    model.metabolites.tdecACP_c:1,\n",
    "    model.metabolites.h_c:-1\n",
    "})"
   ]
  },
  {
   "cell_type": "code",
   "execution_count": 93,
   "metadata": {},
   "outputs": [],
   "source": [
    "#save&commit\n",
    "cobra.io.write_sbml_model(model,'../model/g-thermo.xml')"
   ]
  },
  {
   "cell_type": "markdown",
   "metadata": {},
   "source": [
    "Finished up to C13:0, now onto C15:0."
   ]
  },
  {
   "cell_type": "code",
   "execution_count": 94,
   "metadata": {},
   "outputs": [],
   "source": [
    "#add condenstation of non-ACP with malonyl ACP to 3-oxopentadecnoyl-ACP\n",
    "#add metabolite\n",
    "model.add_metabolites(Metabolite(id='3opdecACP_c', name = '3-oxopentadecanoyl-ACP', compartment = 'c', charge =-1, formula = 'C26H47O9N2PRS'))"
   ]
  },
  {
   "cell_type": "code",
   "execution_count": 95,
   "metadata": {},
   "outputs": [],
   "source": [
    "model.metabolites.get_by_id('3opdecACP_c').annotation['sbo'] = 'SBO:0000176'"
   ]
  },
  {
   "cell_type": "code",
   "execution_count": 96,
   "metadata": {},
   "outputs": [],
   "source": [
    "#add reaction\n",
    "model.add_reaction(Reaction(id='3OAS150', name = '3-oxopentadecanoyl-[acyl-carrier-protein] synthase (n-C15:0)'))"
   ]
  },
  {
   "cell_type": "code",
   "execution_count": 97,
   "metadata": {},
   "outputs": [],
   "source": [
    "model.reactions.get_by_id('3OAS150').annotation['sbo'] = 'SBO:0000176'"
   ]
  },
  {
   "cell_type": "code",
   "execution_count": 98,
   "metadata": {},
   "outputs": [],
   "source": [
    "#assume GPR is the same FAget_by_id('3OAS50')synthase: RTMO12345\n",
    "model.reactions.get_by_id('3OAS150').gene_reaction_rule = 'RTMO12345'"
   ]
  },
  {
   "cell_type": "code",
   "execution_count": 99,
   "metadata": {},
   "outputs": [],
   "source": [
    "model.reactions.get_by_id('3OAS150').add_metabolites({\n",
    "    model.metabolites.malACP_c:-1,\n",
    "    model.metabolites.tdecACP_c:-1,\n",
    "    model.metabolites.ACP_c:1,\n",
    "    model.metabolites.co2_c:1,\n",
    "    model.metabolites.get_by_id('3opdecACP_c'):1,\n",
    "    model.metabolites.h_c:-1\n",
    "})"
   ]
  },
  {
   "cell_type": "code",
   "execution_count": 100,
   "metadata": {},
   "outputs": [],
   "source": [
    "#next add reaction with NADPH\n",
    "#first add 3-Hydroxypentadecanoyl-[acp] met\n",
    "model.add_metabolites(Metabolite(id='3hpdecACP_c', name = '3-Hydroxypentadecanoyl-[acp]', compartment = 'c', charge = -1, formula = 'C26H49O9N2PRS'))"
   ]
  },
  {
   "cell_type": "code",
   "execution_count": 101,
   "metadata": {},
   "outputs": [],
   "source": [
    "model.metabolites.get_by_id('3hpdecACP_c').annotation['sbo'] = 'SBO:0000247'"
   ]
  },
  {
   "cell_type": "code",
   "execution_count": 102,
   "metadata": {},
   "outputs": [],
   "source": [
    "#add reaction\n",
    "model.add_reaction(Reaction(id='3OAR150', name = ' 3-oxoacyl-[acyl-carrier-protein] reductase (n-C15:0)'))"
   ]
  },
  {
   "cell_type": "code",
   "execution_count": 103,
   "metadata": {},
   "outputs": [],
   "source": [
    "model.reactions.get_by_id('3OAR150').annotation['sbo'] = 'SBO:0000176'"
   ]
  },
  {
   "cell_type": "code",
   "execution_count": 104,
   "metadata": {},
   "outputs": [],
   "source": [
    "#assume GPR is the same FA synthase, as done in the whole model: RTMO12345\n",
    "model.reactions.get_by_id('3OAR150').gene_reaction_rule = 'RTMO12345'"
   ]
  },
  {
   "cell_type": "code",
   "execution_count": 105,
   "metadata": {},
   "outputs": [],
   "source": [
    "model.reactions.get_by_id('3OAR150').add_metabolites({\n",
    "    model.metabolites.get_by_id('3opdecACP_c'):-1,\n",
    "    model.metabolites.nadph_c:-1,\n",
    "    model.metabolites.nadp_c:1,\n",
    "    model.metabolites.get_by_id('3hpdecACP_c'):1,\n",
    "    model.metabolites.h_c:-1\n",
    "})"
   ]
  },
  {
   "cell_type": "code",
   "execution_count": 106,
   "metadata": {},
   "outputs": [],
   "source": [
    "#next add the next metabolite\n",
    "model.add_metabolites(Metabolite(id='tpdec2eACP_c', name = 'Trans-Pentadec-2-enoyl-[acyl-carrier protein]', compartment = 'c', charge = -1, formula = 'C26H47O8N2PRS'))"
   ]
  },
  {
   "cell_type": "code",
   "execution_count": 107,
   "metadata": {},
   "outputs": [],
   "source": [
    "model.metabolites.get_by_id('tpdec2eACP_c').annotation['sbo'] = 'SBO:0000247'"
   ]
  },
  {
   "cell_type": "code",
   "execution_count": 108,
   "metadata": {},
   "outputs": [],
   "source": [
    "#add reaction\n",
    "model.add_reaction(Reaction(id='3HAD150', name = '3-hydroxyacyl-[acyl-carrier-protein] dehydratase (n-C15:0)'))"
   ]
  },
  {
   "cell_type": "code",
   "execution_count": 109,
   "metadata": {},
   "outputs": [],
   "source": [
    "model.reactions.get_by_id('3HAD150').annotation['sbo'] = 'SBO:0000176'"
   ]
  },
  {
   "cell_type": "code",
   "execution_count": 110,
   "metadata": {},
   "outputs": [],
   "source": [
    "#assume GPR is the same FA synthase: RTMO12345\n",
    "model.reactions.get_by_id('3HAD150').gene_reaction_rule = 'RTMO12345'"
   ]
  },
  {
   "cell_type": "code",
   "execution_count": 111,
   "metadata": {},
   "outputs": [],
   "source": [
    "model.reactions.get_by_id('3HAD150').add_metabolites({\n",
    "    model.metabolites.get_by_id('3hpdecACP_c'):-1,\n",
    "    model.metabolites.h2o_c:1,\n",
    "    model.metabolites.tpdec2eACP_c:1\n",
    "})"
   ]
  },
  {
   "cell_type": "code",
   "execution_count": 112,
   "metadata": {},
   "outputs": [],
   "source": [
    "#add the last reaction both with NADH and NADPH.\n",
    "#first add the pentadecanoyl-ACP metabolite\n",
    "model.add_metabolites(Metabolite(id='pdecACP_c', name = 'Pentadecanoyl-ACP(n-C15:0ACP)', compartment = 'c', charge = -1, formula = 'C26H49O8N2PRS' ))"
   ]
  },
  {
   "cell_type": "code",
   "execution_count": 113,
   "metadata": {},
   "outputs": [],
   "source": [
    "model.metabolites.pdecACP_c.annotation['sbo'] = 'SBO:0000247'"
   ]
  },
  {
   "cell_type": "code",
   "execution_count": 114,
   "metadata": {},
   "outputs": [],
   "source": [
    "#add reaction with NADH\n",
    "model.add_reaction(Reaction(id='EAR150x', name = 'Pentadecanoyl-[acp]:NAD+ trans-2-oxidoreductase'))"
   ]
  },
  {
   "cell_type": "code",
   "execution_count": 115,
   "metadata": {},
   "outputs": [],
   "source": [
    "model.reactions.EAR150x.annotation['sbo'] = 'SBO:0000176'"
   ]
  },
  {
   "cell_type": "code",
   "execution_count": 116,
   "metadata": {},
   "outputs": [],
   "source": [
    "#assume GPR is the same FA synthase: RTMO12345\n",
    "model.reactions.EAR150x.gene_reaction_rule = 'RTMO12345'"
   ]
  },
  {
   "cell_type": "code",
   "execution_count": 117,
   "metadata": {},
   "outputs": [],
   "source": [
    "model.reactions.EAR150x.add_metabolites({\n",
    "    model.metabolites.tpdec2eACP_c:-1,\n",
    "    model.metabolites.nadh_c:-1,\n",
    "    model.metabolites.nad_c:1,\n",
    "    model.metabolites.pdecACP_c:1,\n",
    "    model.metabolites.h_c:-1\n",
    "})"
   ]
  },
  {
   "cell_type": "code",
   "execution_count": 118,
   "metadata": {},
   "outputs": [],
   "source": [
    "#add reaction with NADH\n",
    "model.add_reaction(Reaction(id='EAR150y', name = 'Pentadecanoyl-[acp]:NADP+ trans-2-oxidoreductase'))"
   ]
  },
  {
   "cell_type": "code",
   "execution_count": 119,
   "metadata": {},
   "outputs": [],
   "source": [
    "model.reactions.EAR150y.annotation['sbo'] = 'SBO:0000176'"
   ]
  },
  {
   "cell_type": "code",
   "execution_count": 120,
   "metadata": {},
   "outputs": [],
   "source": [
    "#assume GPR is the same FAsynthase: RTMO12345\n",
    "model.reactions.EAR150y.gene_reaction_rule = 'RTMO12345'"
   ]
  },
  {
   "cell_type": "code",
   "execution_count": 121,
   "metadata": {},
   "outputs": [],
   "source": [
    "model.reactions.EAR150y.add_metabolites({\n",
    "    model.metabolites.tpdec2eACP_c:-1,\n",
    "    model.metabolites.nadph_c:-1,\n",
    "    model.metabolites.nadp_c:1,\n",
    "    model.metabolites.pdecACP_c:1,\n",
    "    model.metabolites.h_c:-1\n",
    "})"
   ]
  },
  {
   "cell_type": "code",
   "execution_count": 122,
   "metadata": {},
   "outputs": [],
   "source": [
    "#save&commit\n",
    "cobra.io.write_sbml_model(model,'../model/g-thermo.xml')"
   ]
  },
  {
   "cell_type": "markdown",
   "metadata": {},
   "source": [
    "Finished to nC15:0, now onto C17:0. "
   ]
  },
  {
   "cell_type": "code",
   "execution_count": 123,
   "metadata": {},
   "outputs": [],
   "source": [
    "#add condenstation of non-ACP with malonyl ACP to 3-oxoheptadecnoyl-ACP\n",
    "#add metabolite\n",
    "model.add_metabolites(Metabolite(id='3ohdecACP_c', name = '3-oxoheptadecnoyl-ACP', compartment = 'c', charge =-1, formula = 'C28H51O9N2PRS'))"
   ]
  },
  {
   "cell_type": "code",
   "execution_count": 124,
   "metadata": {},
   "outputs": [],
   "source": [
    "model.metabolites.get_by_id('3ohdecACP_c').annotation['sbo'] = 'SBO:0000176'"
   ]
  },
  {
   "cell_type": "code",
   "execution_count": 125,
   "metadata": {},
   "outputs": [],
   "source": [
    "#add reaction\n",
    "model.add_reaction(Reaction(id='3OAS170', name = '3-oxoheptadecanoyl-[acyl-carrier-protein] synthase (n-C17:0)'))"
   ]
  },
  {
   "cell_type": "code",
   "execution_count": 126,
   "metadata": {},
   "outputs": [],
   "source": [
    "model.reactions.get_by_id('3OAS170').annotation['sbo'] = 'SBO:0000176'"
   ]
  },
  {
   "cell_type": "code",
   "execution_count": 127,
   "metadata": {},
   "outputs": [],
   "source": [
    "#assume GPR is the same FA synthase: RTMO12345\n",
    "model.reactions.get_by_id('3OAS170').gene_reaction_rule = 'RTMO12345'"
   ]
  },
  {
   "cell_type": "code",
   "execution_count": 128,
   "metadata": {},
   "outputs": [],
   "source": [
    "model.reactions.get_by_id('3OAS170').add_metabolites({\n",
    "    model.metabolites.malACP_c:-1,\n",
    "    model.metabolites.pdecACP_c:-1,\n",
    "    model.metabolites.ACP_c:1,\n",
    "    model.metabolites.co2_c:1,\n",
    "    model.metabolites.get_by_id('3ohdecACP_c'):1,\n",
    "    model.metabolites.h_c:-1\n",
    "})"
   ]
  },
  {
   "cell_type": "code",
   "execution_count": 129,
   "metadata": {},
   "outputs": [],
   "source": [
    "#next add reaction with NADPH\n",
    "#first add 3-Hydroxyheptadecanoyl-[acp] met\n",
    "model.add_metabolites(Metabolite(id='3hhdecACP_c', name = '3-Hydroxyheptadecanoyl-[acp]', compartment = 'c', charge = -1, formula = 'C28H53O9N2PRS'))"
   ]
  },
  {
   "cell_type": "code",
   "execution_count": 130,
   "metadata": {},
   "outputs": [],
   "source": [
    "model.metabolites.get_by_id('3hhdecACP_c').annotation['sbo'] = 'SBO:0000247'"
   ]
  },
  {
   "cell_type": "code",
   "execution_count": 131,
   "metadata": {},
   "outputs": [],
   "source": [
    "#add reaction\n",
    "model.add_reaction(Reaction(id='3OAR170', name = ' 3-oxoacyl-[acyl-carrier-protein] reductase (n-C17:0)'))"
   ]
  },
  {
   "cell_type": "code",
   "execution_count": 132,
   "metadata": {},
   "outputs": [],
   "source": [
    "model.reactions.get_by_id('3OAR170').annotation['sbo'] = 'SBO:0000176'"
   ]
  },
  {
   "cell_type": "code",
   "execution_count": 133,
   "metadata": {},
   "outputs": [],
   "source": [
    "#assume GPR is the same FA synthase, as done in the whole model: RTMO12345\n",
    "model.reactions.get_by_id('3OAR170').gene_reaction_rule = 'RTMO12345'"
   ]
  },
  {
   "cell_type": "code",
   "execution_count": 134,
   "metadata": {},
   "outputs": [],
   "source": [
    "model.reactions.get_by_id('3OAR170').add_metabolites({\n",
    "    model.metabolites.get_by_id('3ohdecACP_c'):-1,\n",
    "    model.metabolites.nadph_c:-1,\n",
    "    model.metabolites.nadp_c:1,\n",
    "    model.metabolites.get_by_id('3hhdecACP_c'):1,\n",
    "    model.metabolites.h_c:-1\n",
    "})"
   ]
  },
  {
   "cell_type": "code",
   "execution_count": 135,
   "metadata": {},
   "outputs": [],
   "source": [
    "#next add the next metabolite\n",
    "model.add_metabolites(Metabolite(id='thdec2eACP_c', name = 'Trans-Heptadec-2-enoyl-[acyl-carrier protein]', compartment = 'c', charge = -1, formula = 'C28H51O8N2PRS'))"
   ]
  },
  {
   "cell_type": "code",
   "execution_count": 136,
   "metadata": {},
   "outputs": [],
   "source": [
    "model.metabolites.get_by_id('thdec2eACP_c').annotation['sbo'] = 'SBO:0000247'"
   ]
  },
  {
   "cell_type": "code",
   "execution_count": 137,
   "metadata": {},
   "outputs": [],
   "source": [
    "#add reaction\n",
    "model.add_reaction(Reaction(id='3HAD170', name = '3-hydroxyacyl-[acyl-carrier-protein] dehydratase (n-C17:0)'))"
   ]
  },
  {
   "cell_type": "code",
   "execution_count": 138,
   "metadata": {},
   "outputs": [],
   "source": [
    "model.reactions.get_by_id('3HAD170').annotation['sbo'] = 'SBO:0000176'"
   ]
  },
  {
   "cell_type": "code",
   "execution_count": 139,
   "metadata": {},
   "outputs": [],
   "source": [
    "#assume GPR is the same FA synthase: RTMO12345\n",
    "model.reactions.get_by_id('3HAD170').gene_reaction_rule = 'RTMO12345'"
   ]
  },
  {
   "cell_type": "code",
   "execution_count": 140,
   "metadata": {},
   "outputs": [],
   "source": [
    "model.reactions.get_by_id('3HAD170').add_metabolites({\n",
    "    model.metabolites.get_by_id('3hhdecACP_c'):-1,\n",
    "    model.metabolites.h2o_c:1,\n",
    "    model.metabolites.thdec2eACP_c:1\n",
    "})"
   ]
  },
  {
   "cell_type": "code",
   "execution_count": 141,
   "metadata": {},
   "outputs": [],
   "source": [
    "#add the last reaction both with NADH and NADPH.\n",
    "#first add the heptadecanoyl-ACP metabolite\n",
    "model.add_metabolites(Metabolite(id='hdecACP_c', name = 'Heptadecanoyl-ACP(n-C17:0ACP)', compartment = 'c', charge = -1, formula = 'C28H53O8N2PRS' ))"
   ]
  },
  {
   "cell_type": "code",
   "execution_count": 142,
   "metadata": {},
   "outputs": [],
   "source": [
    "model.metabolites.hdecACP_c.annotation['sbo'] = 'SBO:0000247'"
   ]
  },
  {
   "cell_type": "code",
   "execution_count": 143,
   "metadata": {},
   "outputs": [],
   "source": [
    "#add reaction with NADH\n",
    "model.add_reaction(Reaction(id='EAR170x', name = 'Heptadecanoyl-[acp]:NAD+ trans-2-oxidoreductase'))"
   ]
  },
  {
   "cell_type": "code",
   "execution_count": 144,
   "metadata": {},
   "outputs": [],
   "source": [
    "model.reactions.EAR170x.annotation['sbo'] = 'SBO:0000176'"
   ]
  },
  {
   "cell_type": "code",
   "execution_count": 145,
   "metadata": {},
   "outputs": [],
   "source": [
    "#assume GPR is the same FA synthase: RTMO12345\n",
    "model.reactions.EAR170x.gene_reaction_rule = 'RTMO12345'"
   ]
  },
  {
   "cell_type": "code",
   "execution_count": 146,
   "metadata": {},
   "outputs": [],
   "source": [
    "model.reactions.EAR170x.add_metabolites({\n",
    "    model.metabolites.thdec2eACP_c:-1,\n",
    "    model.metabolites.nadh_c:-1,\n",
    "    model.metabolites.nad_c:1,\n",
    "    model.metabolites.hdecACP_c:1,\n",
    "    model.metabolites.h_c:-1\n",
    "})"
   ]
  },
  {
   "cell_type": "code",
   "execution_count": 147,
   "metadata": {},
   "outputs": [],
   "source": [
    "#add reaction with NADH\n",
    "model.add_reaction(Reaction(id='EAR170y', name = 'Heptadecanoyl-[acp]:NADP+ trans-2-oxidoreductase'))"
   ]
  },
  {
   "cell_type": "code",
   "execution_count": 148,
   "metadata": {},
   "outputs": [],
   "source": [
    "model.reactions.EAR170y.annotation['sbo'] = 'SBO:0000176'"
   ]
  },
  {
   "cell_type": "code",
   "execution_count": 149,
   "metadata": {},
   "outputs": [],
   "source": [
    "#assume GPR is the same FAsynthase: RTMO12345\n",
    "model.reactions.EAR170y.gene_reaction_rule = 'RTMO12345'"
   ]
  },
  {
   "cell_type": "code",
   "execution_count": 150,
   "metadata": {},
   "outputs": [],
   "source": [
    "model.reactions.EAR170y.add_metabolites({\n",
    "    model.metabolites.thdec2eACP_c:-1,\n",
    "    model.metabolites.nadph_c:-1,\n",
    "    model.metabolites.nadp_c:1,\n",
    "    model.metabolites.hdecACP_c:1,\n",
    "    model.metabolites.h_c:-1\n",
    "})"
   ]
  },
  {
   "cell_type": "code",
   "execution_count": 151,
   "metadata": {},
   "outputs": [],
   "source": [
    "#save&commit\n",
    "cobra.io.write_sbml_model(model,'../model/g-thermo.xml')"
   ]
  },
  {
   "cell_type": "markdown",
   "metadata": {},
   "source": [
    "Now i finished the saturated, unbranched odd chain fatty acids!"
   ]
  },
  {
   "cell_type": "markdown",
   "metadata": {},
   "source": [
    "## Branched chain, saturated fatty acids\n",
    "We also have branched chain, saturated fatty acids in the model. Branched chain fatty acids are made by the same fatty acid synthase complex, but have different primer molecules. Even chain Iso- FAs come from a leucine, where odd chain length iso-fatty acids come from a valine molecule.\n",
    "Anteiso saturated fatty acids come from isoleucine. \n",
    "\n",
    "Here I will have to go simiarly to the way we did for the odd-numbered fatty acids through the whole production chain.\n",
    "\n",
    "### Ante-iso odd numbered carbon FAs\n",
    "The FAs we need to make here are ante-C15:0 and ante-C17:0. These consists of a C14 and C16 backbone with a single branch at the anteiso position. They are made from Isoleucine, through 2-methylbutyryl-Coa. This then enters the fatty acid synthase cycle all the way until the final products.\n",
    "\n",
    "Note: ante-C15:0 is also known as 12-methyltetradecanoic acid (CHEBI:39251).\n",
    "\n",
    "Our model already has the (S)-2-Methylbutanoyl-CoA metabolite (s2mbcoa_c) that enters the elongation by the fatty acid synthase. So I will just check it is properly synthesized from isoleucine. I see that the 3mop_c metabolite can be made from isoleucine, but we cannot convert the 3mop_c into the s2mbcoa_c metabolite. To do so, I will add the OIVD3 reaction."
   ]
  },
  {
   "cell_type": "code",
   "execution_count": 152,
   "metadata": {},
   "outputs": [],
   "source": [
    "model = cobra.io.read_sbml_model('../model/g-thermo.xml')"
   ]
  },
  {
   "cell_type": "code",
   "execution_count": 5,
   "metadata": {},
   "outputs": [],
   "source": [
    "#add reaction to make primer s2bmcoa_c\n",
    "model.add_reaction(Reaction(id='OIVD3', name = '2-oxoisovalerate dehydrogenase (acylating; 3-methyl-2-oxopentanoate)'))"
   ]
  },
  {
   "cell_type": "code",
   "execution_count": 6,
   "metadata": {},
   "outputs": [],
   "source": [
    "model.reactions.OIVD3.annotation = model_b_sub.reactions.OIVD3.annotation"
   ]
  },
  {
   "cell_type": "code",
   "execution_count": 7,
   "metadata": {},
   "outputs": [],
   "source": [
    "model.reactions.OIVD3.add_metabolites({\n",
    "    model.metabolites.get_by_id('3mop_c'):-1,\n",
    "    model.metabolites.coa_c:-1,\n",
    "    model.metabolites.nad_c:-1,\n",
    "    model.metabolites.s2mbcoa_c:1,\n",
    "    model.metabolites.co2_c:1,\n",
    "    model.metabolites.nadh_c:1,\n",
    "    model.metabolites.h_c:-4\n",
    "})"
   ]
  },
  {
   "cell_type": "markdown",
   "metadata": {},
   "source": [
    "Next we need to convert the s2mbcoa_c into s2mbACP_c to start the reactions here."
   ]
  },
  {
   "cell_type": "code",
   "execution_count": 8,
   "metadata": {},
   "outputs": [],
   "source": [
    "#add metabolite\n",
    "model.add_metabolites(Metabolite(id='s2mbACP_c', name = '2-methylbutanoyl-ACP', charge = -1, compartment = 'c', formula = 'C16H29N2O8PRS'))"
   ]
  },
  {
   "cell_type": "code",
   "execution_count": 9,
   "metadata": {},
   "outputs": [],
   "source": [
    "model.metabolites.s2mbACP_c.annotation['sbo'] = 'SBO:0000176'\n",
    "model.metabolites.s2mbACP_c.annotation['kegg.compound'] = 'C21129'"
   ]
  },
  {
   "cell_type": "code",
   "execution_count": 10,
   "metadata": {},
   "outputs": [],
   "source": [
    "#add ACP transfer reaction\n",
    "model.add_reaction(Reaction(id='2MBATA', name = 'CoA:[acyl-carrier-protein] S-acetyltransferase'))"
   ]
  },
  {
   "cell_type": "code",
   "execution_count": 11,
   "metadata": {},
   "outputs": [],
   "source": [
    "model.reactions.get_by_id('2MBATA').annotation['sbo'] = 'SBO:0000176'"
   ]
  },
  {
   "cell_type": "code",
   "execution_count": 12,
   "metadata": {},
   "outputs": [],
   "source": [
    "model.reactions.get_by_id('2MBATA').add_metabolites({\n",
    "    model.metabolites.s2mbACP_c:1,\n",
    "    model.metabolites.s2mbcoa_c:-1,\n",
    "    model.metabolites.ACP_c:-1,\n",
    "    model.metabolites.coa_c:1,\n",
    "    model.metabolites.h_c:4\n",
    "})"
   ]
  },
  {
   "cell_type": "markdown",
   "metadata": {},
   "source": [
    "Now that we have the primer ready, we can start going through the cycles until it forms the anteiso-C17:0 metabolite. \n",
    "first fo from anteiso-C5:0 to anteiso-C7:0."
   ]
  },
  {
   "cell_type": "code",
   "execution_count": 13,
   "metadata": {},
   "outputs": [],
   "source": [
    "#add condenstation of s2bmcoa-ACP with malonyl ACP to 3-oxomnoyl-ACP\n",
    "#add metabolite\n",
    "model.add_metabolites(Metabolite(id='3o2mhACP_c', name = '3-oxo2methylhexanoyl-ACP', compartment = 'c', charge =-1, formula = 'C18H31N2O9PRS'))"
   ]
  },
  {
   "cell_type": "code",
   "execution_count": 14,
   "metadata": {},
   "outputs": [],
   "source": [
    "model.metabolites.get_by_id('3o2mhACP_c').annotation['sbo'] = 'SBO:0000176'"
   ]
  },
  {
   "cell_type": "code",
   "execution_count": 15,
   "metadata": {},
   "outputs": [],
   "source": [
    "#add reaction\n",
    "model.add_reaction(Reaction(id='3OMAS70', name = '3-oxo2methylhexanoyl-[acyl-carrier-protein] synthase (anteiso-C7:0)'))"
   ]
  },
  {
   "cell_type": "code",
   "execution_count": 16,
   "metadata": {},
   "outputs": [],
   "source": [
    "model.reactions.get_by_id('3OMAS70').annotation['sbo'] = 'SBO:0000176'"
   ]
  },
  {
   "cell_type": "code",
   "execution_count": 17,
   "metadata": {},
   "outputs": [],
   "source": [
    "#assume GPR is the same FA synthase: RTMO12345\n",
    "model.reactions.get_by_id('3OMAS70').gene_reaction_rule = 'RTMO12345'"
   ]
  },
  {
   "cell_type": "code",
   "execution_count": 18,
   "metadata": {},
   "outputs": [],
   "source": [
    "model.reactions.get_by_id('3OMAS70').add_metabolites({\n",
    "    model.metabolites.malACP_c:-1,\n",
    "    model.metabolites.s2mbACP_c:-1,\n",
    "    model.metabolites.ACP_c:1,\n",
    "    model.metabolites.co2_c:1,\n",
    "    model.metabolites.get_by_id('3o2mhACP_c'):1,\n",
    "    model.metabolites.h_c:-1\n",
    "})"
   ]
  },
  {
   "cell_type": "code",
   "execution_count": 19,
   "metadata": {},
   "outputs": [],
   "source": [
    "#next add reaction with NADPH\n",
    "#first add 3-Hydroxy-2-methylheptanoyl-[acp] met\n",
    "model.add_metabolites(Metabolite(id='3h2mhACP_c', name = '3-Hydroxy-2-methylhexanoyl-[acp]', compartment = 'c', charge = -1, formula = 'C18H33N2O9PRS'))"
   ]
  },
  {
   "cell_type": "code",
   "execution_count": 20,
   "metadata": {},
   "outputs": [],
   "source": [
    "model.metabolites.get_by_id('3h2mhACP_c').annotation['sbo'] = 'SBO:0000247'"
   ]
  },
  {
   "cell_type": "code",
   "execution_count": 21,
   "metadata": {},
   "outputs": [],
   "source": [
    "#add reaction\n",
    "model.add_reaction(Reaction(id='3OMAR70', name = ' 3-oxo-methyl-acyl-[acyl-carrier-protein] reductase (anteiso-C7:0)'))"
   ]
  },
  {
   "cell_type": "code",
   "execution_count": 22,
   "metadata": {},
   "outputs": [],
   "source": [
    "model.reactions.get_by_id('3OMAR70').annotation['sbo'] = 'SBO:0000176'"
   ]
  },
  {
   "cell_type": "code",
   "execution_count": 23,
   "metadata": {},
   "outputs": [],
   "source": [
    "#assume GPR is the same FA synthase: RTMO12345\n",
    "model.reactions.get_by_id('3OMAR70').gene_reaction_rule = 'RTMO12345'"
   ]
  },
  {
   "cell_type": "code",
   "execution_count": 24,
   "metadata": {},
   "outputs": [],
   "source": [
    "model.reactions.get_by_id('3OMAR70').add_metabolites({\n",
    "    model.metabolites.get_by_id('3o2mhACP_c'):-1,\n",
    "    model.metabolites.nadph_c:-1,\n",
    "    model.metabolites.nadp_c:1,\n",
    "    model.metabolites.get_by_id('3h2mhACP_c'):1,\n",
    "    model.metabolites.h_c:-1\n",
    "})"
   ]
  },
  {
   "cell_type": "code",
   "execution_count": 25,
   "metadata": {},
   "outputs": [],
   "source": [
    "#next add the t2mh2eACP_c metabolite\n",
    "model.add_metabolites(Metabolite(id='t2mh2eACP_c', name = 'Trans-2-methylhex-2-enoyl-[acyl-carrier protein]', compartment = 'c', charge = -1, formula = 'C18H31N2O8PRS'))"
   ]
  },
  {
   "cell_type": "code",
   "execution_count": 26,
   "metadata": {},
   "outputs": [],
   "source": [
    "model.metabolites.get_by_id('t2mh2eACP_c').annotation['sbo'] = 'SBO:0000247'"
   ]
  },
  {
   "cell_type": "code",
   "execution_count": 27,
   "metadata": {},
   "outputs": [],
   "source": [
    "#add reaction\n",
    "model.add_reaction(Reaction(id='3HMAD70', name = '3-hydroxy-methylacyl-[acyl-carrier-protein] dehydratase (anteiso-C7:0)'))"
   ]
  },
  {
   "cell_type": "code",
   "execution_count": 28,
   "metadata": {},
   "outputs": [],
   "source": [
    "model.reactions.get_by_id('3HMAD70').annotation['sbo'] = 'SBO:0000176'"
   ]
  },
  {
   "cell_type": "code",
   "execution_count": 29,
   "metadata": {},
   "outputs": [],
   "source": [
    "#assume GPR is the same FA synthase: RTMO12345\n",
    "model.reactions.get_by_id('3HMAD70').gene_reaction_rule = 'RTMO12345'"
   ]
  },
  {
   "cell_type": "code",
   "execution_count": 30,
   "metadata": {},
   "outputs": [],
   "source": [
    "model.reactions.get_by_id('3HMAD70').add_metabolites({\n",
    "    model.metabolites.get_by_id('3h2mhACP_c'):-1,\n",
    "    model.metabolites.h2o_c:1,\n",
    "    model.metabolites.t2mh2eACP_c:1\n",
    "})"
   ]
  },
  {
   "cell_type": "code",
   "execution_count": 31,
   "metadata": {},
   "outputs": [],
   "source": [
    "#last step: convert to 2-methylheptanoyl-ACP which can start the next cycle again\n",
    "#add both with NADH and NADPH.\n",
    "#first add the 2-methylhexanoyl-ACP metabolite\n",
    "model.add_metabolites(Metabolite(id='2mhexACP_c', name = '2methyl-hexanoyl-ACP(anteiso-C7:0ACP)', compartment = 'c', charge = -1, formula = 'C18H33N2O8PRS' ))"
   ]
  },
  {
   "cell_type": "code",
   "execution_count": 32,
   "metadata": {},
   "outputs": [],
   "source": [
    "model.metabolites.get_by_id('2mhexACP_c').annotation['sbo'] = 'SBO:0000247'"
   ]
  },
  {
   "cell_type": "code",
   "execution_count": 33,
   "metadata": {},
   "outputs": [],
   "source": [
    "#add reaction with NADH: EMAR70x\n",
    "model.add_reaction(Reaction(id='EMAR70x', name = '2-Methyl-Hexanoyl-[acp]:NAD+ trans-2-oxidoreductase'))"
   ]
  },
  {
   "cell_type": "code",
   "execution_count": 34,
   "metadata": {},
   "outputs": [],
   "source": [
    "model.reactions.EMAR70x.annotation['sbo'] = 'SBO:0000176'"
   ]
  },
  {
   "cell_type": "code",
   "execution_count": 35,
   "metadata": {},
   "outputs": [],
   "source": [
    "#assume GPR is the same FA synthase: RTMO12345\n",
    "model.reactions.EMAR70x.gene_reaction_rule = 'RTMO12345'"
   ]
  },
  {
   "cell_type": "code",
   "execution_count": 36,
   "metadata": {},
   "outputs": [],
   "source": [
    "model.reactions.EMAR70x.add_metabolites({\n",
    "    model.metabolites.t2mh2eACP_c:-1,\n",
    "    model.metabolites.nadh_c:-1,\n",
    "    model.metabolites.nad_c:1,\n",
    "    model.metabolites.get_by_id('2mhexACP_c'):1,\n",
    "    model.metabolites.h_c:-1\n",
    "})"
   ]
  },
  {
   "cell_type": "code",
   "execution_count": 37,
   "metadata": {},
   "outputs": [],
   "source": [
    "#add reaction with NADH: EMAR70y\n",
    "model.add_reaction(Reaction(id='EMAR70y', name = '2-Methyl-Hexanoyl-[acp]:NADp+ trans-2-oxidoreductase'))"
   ]
  },
  {
   "cell_type": "code",
   "execution_count": 38,
   "metadata": {},
   "outputs": [],
   "source": [
    "model.reactions.EMAR70y.annotation['sbo'] = 'SBO:0000176'"
   ]
  },
  {
   "cell_type": "code",
   "execution_count": 39,
   "metadata": {},
   "outputs": [],
   "source": [
    "#assume GPR is the same FA synthase: RTMO12345\n",
    "model.reactions.EMAR70y.gene_reaction_rule = 'RTMO12345'"
   ]
  },
  {
   "cell_type": "code",
   "execution_count": 40,
   "metadata": {},
   "outputs": [],
   "source": [
    "model.reactions.EMAR70y.add_metabolites({\n",
    "    model.metabolites.t2mh2eACP_c:-1,\n",
    "    model.metabolites.nadph_c:-1,\n",
    "    model.metabolites.nadp_c:1,\n",
    "    model.metabolites.get_by_id('2mhexACP_c'):1,\n",
    "    model.metabolites.h_c:-1\n",
    "})"
   ]
  },
  {
   "cell_type": "code",
   "execution_count": 41,
   "metadata": {},
   "outputs": [],
   "source": [
    "#save&commit\n",
    "cobra.io.write_sbml_model(model,'../model/g-thermo.xml')"
   ]
  },
  {
   "cell_type": "markdown",
   "metadata": {},
   "source": [
    "Finished up to anteiso-C7:0 now. Now move onto the next cycle making anteiso-C9:0. "
   ]
  },
  {
   "cell_type": "code",
   "execution_count": 42,
   "metadata": {},
   "outputs": [],
   "source": [
    "#add condenstation of 2mhexACP with malonyl ACP to 3-oxomethyl-octanoyl-ACP\n",
    "#add metabolite\n",
    "model.add_metabolites(Metabolite(id='3o2moACP_c', name = '3-oxo2methyloctanoyl-ACP', compartment = 'c', charge =-1, formula = 'C20H35N2O9PRS'))"
   ]
  },
  {
   "cell_type": "code",
   "execution_count": 43,
   "metadata": {},
   "outputs": [],
   "source": [
    "model.metabolites.get_by_id('3o2moACP_c').annotation['sbo'] = 'SBO:0000176'"
   ]
  },
  {
   "cell_type": "code",
   "execution_count": 44,
   "metadata": {},
   "outputs": [],
   "source": [
    "#add reaction\n",
    "model.add_reaction(Reaction(id='3OMAS90', name = '3-oxo2methyloctanoyl-[acyl-carrier-protein] synthase (anteiso-C9:0)'))"
   ]
  },
  {
   "cell_type": "code",
   "execution_count": 45,
   "metadata": {},
   "outputs": [],
   "source": [
    "model.reactions.get_by_id('3OMAS90').annotation['sbo'] = 'SBO:0000176'"
   ]
  },
  {
   "cell_type": "code",
   "execution_count": 46,
   "metadata": {},
   "outputs": [],
   "source": [
    "#assume GPR is the same FA synthase: RTMO12345\n",
    "model.reactions.get_by_id('3OMAS90').gene_reaction_rule = 'RTMO12345'"
   ]
  },
  {
   "cell_type": "code",
   "execution_count": 47,
   "metadata": {},
   "outputs": [],
   "source": [
    "model.reactions.get_by_id('3OMAS90').add_metabolites({\n",
    "    model.metabolites.malACP_c:-1,\n",
    "    model.metabolites.get_by_id('2mhexACP_c'):-1,\n",
    "    model.metabolites.ACP_c:1,\n",
    "    model.metabolites.co2_c:1,\n",
    "    model.metabolites.get_by_id('3o2moACP_c'):1,\n",
    "    model.metabolites.h_c:-1\n",
    "})"
   ]
  },
  {
   "cell_type": "code",
   "execution_count": 48,
   "metadata": {},
   "outputs": [],
   "source": [
    "#next add reaction with NADPH\n",
    "#first add 3-Hydroxy-2-methyloctanoyl-[acp] met\n",
    "model.add_metabolites(Metabolite(id='3h2moACP_c', name = '3-Hydroxy-2-methyloctanoyl-[acp]', compartment = 'c', charge = -1, formula = 'C20H37N2O9PRS'))"
   ]
  },
  {
   "cell_type": "code",
   "execution_count": 49,
   "metadata": {},
   "outputs": [],
   "source": [
    "model.metabolites.get_by_id('3h2moACP_c').annotation['sbo'] = 'SBO:0000247'"
   ]
  },
  {
   "cell_type": "code",
   "execution_count": 50,
   "metadata": {},
   "outputs": [],
   "source": [
    "#add reaction\n",
    "model.add_reaction(Reaction(id='3OMAR90', name = ' 3-oxo-methyl-acyl-[acyl-carrier-protein] reductase (anteiso-C9:0)'))"
   ]
  },
  {
   "cell_type": "code",
   "execution_count": 51,
   "metadata": {},
   "outputs": [],
   "source": [
    "model.reactions.get_by_id('3OMAR90').annotation['sbo'] = 'SBO:0000176'"
   ]
  },
  {
   "cell_type": "code",
   "execution_count": 52,
   "metadata": {},
   "outputs": [],
   "source": [
    "#assume GPR is the same FA synthase: RTMO12345\n",
    "model.reactions.get_by_id('3OMAR90').gene_reaction_rule = 'RTMO12345'"
   ]
  },
  {
   "cell_type": "code",
   "execution_count": 53,
   "metadata": {},
   "outputs": [],
   "source": [
    "model.reactions.get_by_id('3OMAR90').add_metabolites({\n",
    "    model.metabolites.get_by_id('3o2moACP_c'):-1,\n",
    "    model.metabolites.nadph_c:-1,\n",
    "    model.metabolites.nadp_c:1,\n",
    "    model.metabolites.get_by_id('3h2moACP_c'):1,\n",
    "    model.metabolites.h_c:-1\n",
    "})"
   ]
  },
  {
   "cell_type": "code",
   "execution_count": 54,
   "metadata": {},
   "outputs": [],
   "source": [
    "#next add the t2mh2eACP_c metabolite\n",
    "model.add_metabolites(Metabolite(id='t2mo2eACP_c', name = 'Trans-2-methyloct-2-enoyl-[acyl-carrier protein]', compartment = 'c', charge = -1, formula = 'C20H35N2O8PRS'))"
   ]
  },
  {
   "cell_type": "code",
   "execution_count": 55,
   "metadata": {},
   "outputs": [],
   "source": [
    "model.metabolites.get_by_id('t2mo2eACP_c').annotation['sbo'] = 'SBO:0000247'"
   ]
  },
  {
   "cell_type": "code",
   "execution_count": 56,
   "metadata": {},
   "outputs": [],
   "source": [
    "#add reaction\n",
    "model.add_reaction(Reaction(id='3HMAD90', name = '3-hydroxy-methylacyl-[acyl-carrier-protein] dehydratase (anteiso-C9:0)'))"
   ]
  },
  {
   "cell_type": "code",
   "execution_count": 57,
   "metadata": {},
   "outputs": [],
   "source": [
    "model.reactions.get_by_id('3HMAD90').annotation['sbo'] = 'SBO:0000176'"
   ]
  },
  {
   "cell_type": "code",
   "execution_count": 58,
   "metadata": {},
   "outputs": [],
   "source": [
    "#assume GPR is the same FA synthase: RTMO12345\n",
    "model.reactions.get_by_id('3HMAD90').gene_reaction_rule = 'RTMO12345'"
   ]
  },
  {
   "cell_type": "code",
   "execution_count": 59,
   "metadata": {},
   "outputs": [],
   "source": [
    "model.reactions.get_by_id('3HMAD90').add_metabolites({\n",
    "    model.metabolites.get_by_id('3h2moACP_c'):-1,\n",
    "    model.metabolites.h2o_c:1,\n",
    "    model.metabolites.t2mo2eACP_c:1\n",
    "})"
   ]
  },
  {
   "cell_type": "code",
   "execution_count": 60,
   "metadata": {},
   "outputs": [],
   "source": [
    "#last step: convert to 2-methyloctanoyl-ACP which can start the next cycle again\n",
    "#add both with NADH and NADPH.\n",
    "#first add the 2-methyloctanoyl-ACP metabolite\n",
    "model.add_metabolites(Metabolite(id='2moctACP_c', name = '2methyl-octanoyl-ACP(anteiso-C9:0ACP)', compartment = 'c', charge = -1, formula = 'C20H37N2O8PRS' ))"
   ]
  },
  {
   "cell_type": "code",
   "execution_count": 61,
   "metadata": {},
   "outputs": [],
   "source": [
    "model.metabolites.get_by_id('2moctACP_c').annotation['sbo'] = 'SBO:0000247'"
   ]
  },
  {
   "cell_type": "code",
   "execution_count": 62,
   "metadata": {},
   "outputs": [],
   "source": [
    "#add reaction with NADH: EMAR90x\n",
    "model.add_reaction(Reaction(id='EMAR90x', name = '2-Methyl-Octanoyl-[acp]:NAD+ trans-2-oxidoreductase'))"
   ]
  },
  {
   "cell_type": "code",
   "execution_count": 63,
   "metadata": {},
   "outputs": [],
   "source": [
    "model.reactions.EMAR90x.annotation['sbo'] = 'SBO:0000176'"
   ]
  },
  {
   "cell_type": "code",
   "execution_count": 64,
   "metadata": {},
   "outputs": [],
   "source": [
    "#assume GPR is the same FA synthase: RTMO12345\n",
    "model.reactions.EMAR90x.gene_reaction_rule = 'RTMO12345'"
   ]
  },
  {
   "cell_type": "code",
   "execution_count": 65,
   "metadata": {},
   "outputs": [],
   "source": [
    "model.reactions.EMAR90x.add_metabolites({\n",
    "    model.metabolites.t2mo2eACP_c:-1,\n",
    "    model.metabolites.nadh_c:-1,\n",
    "    model.metabolites.nad_c:1,\n",
    "    model.metabolites.get_by_id('2moctACP_c'):1,\n",
    "    model.metabolites.h_c:-1\n",
    "})"
   ]
  },
  {
   "cell_type": "code",
   "execution_count": 66,
   "metadata": {},
   "outputs": [],
   "source": [
    "#add reaction with NADH: EMAR90y\n",
    "model.add_reaction(Reaction(id='EMAR90y', name = '2-Methyl-Octanoyl-[acp]:NADp+ trans-2-oxidoreductase'))"
   ]
  },
  {
   "cell_type": "code",
   "execution_count": 67,
   "metadata": {},
   "outputs": [],
   "source": [
    "model.reactions.EMAR90y.annotation['sbo'] = 'SBO:0000176'"
   ]
  },
  {
   "cell_type": "code",
   "execution_count": 68,
   "metadata": {},
   "outputs": [],
   "source": [
    "#assume GPR is the same FA synthase: RTMO12345\n",
    "model.reactions.EMAR90y.gene_reaction_rule = 'RTMO12345'"
   ]
  },
  {
   "cell_type": "code",
   "execution_count": 69,
   "metadata": {},
   "outputs": [],
   "source": [
    "model.reactions.EMAR90y.add_metabolites({\n",
    "    model.metabolites.t2mo2eACP_c:-1,\n",
    "    model.metabolites.nadph_c:-1,\n",
    "    model.metabolites.nadp_c:1,\n",
    "    model.metabolites.get_by_id('2moctACP_c'):1,\n",
    "    model.metabolites.h_c:-1\n",
    "})"
   ]
  },
  {
   "cell_type": "code",
   "execution_count": 70,
   "metadata": {},
   "outputs": [],
   "source": [
    "#save&commit\n",
    "cobra.io.write_sbml_model(model,'../model/g-thermo.xml')"
   ]
  },
  {
   "cell_type": "markdown",
   "metadata": {},
   "source": [
    "Finished up at anteiso-C9:0. Now onto anteiso-C11:0. "
   ]
  },
  {
   "cell_type": "code",
   "execution_count": 73,
   "metadata": {},
   "outputs": [],
   "source": [
    "#add condenstation of 2moctACP with malonyl ACP to 3-oxomethyl-decanoyl-ACP\n",
    "#add metabolite\n",
    "model.add_metabolites(Metabolite(id='3o2mdACP_c', name = '3-oxo2methyldecanoyl-ACP', compartment = 'c', charge =-1, formula = 'C22H39N2O9PRS'))"
   ]
  },
  {
   "cell_type": "code",
   "execution_count": 74,
   "metadata": {},
   "outputs": [],
   "source": [
    "model.metabolites.get_by_id('3o2mdACP_c').annotation['sbo'] = 'SBO:0000176'"
   ]
  },
  {
   "cell_type": "code",
   "execution_count": 75,
   "metadata": {},
   "outputs": [],
   "source": [
    "#add reaction\n",
    "model.add_reaction(Reaction(id='3OMAS110', name = '3-oxo2methyldecanoyl-[acyl-carrier-protein] synthase (anteiso-C11:0)'))"
   ]
  },
  {
   "cell_type": "code",
   "execution_count": 76,
   "metadata": {},
   "outputs": [],
   "source": [
    "model.reactions.get_by_id('3OMAS110').annotation['sbo'] = 'SBO:0000176'"
   ]
  },
  {
   "cell_type": "code",
   "execution_count": 77,
   "metadata": {},
   "outputs": [],
   "source": [
    "#assume GPR is the same FA synthase: RTMO12345\n",
    "model.reactions.get_by_id('3OMAS110').gene_reaction_rule = 'RTMO12345'"
   ]
  },
  {
   "cell_type": "code",
   "execution_count": 78,
   "metadata": {},
   "outputs": [],
   "source": [
    "model.reactions.get_by_id('3OMAS110').add_metabolites({\n",
    "    model.metabolites.malACP_c:-1,\n",
    "    model.metabolites.get_by_id('2moctACP_c'):-1,\n",
    "    model.metabolites.ACP_c:1,\n",
    "    model.metabolites.co2_c:1,\n",
    "    model.metabolites.get_by_id('3o2mdACP_c'):1,\n",
    "    model.metabolites.h_c:-1\n",
    "})"
   ]
  },
  {
   "cell_type": "code",
   "execution_count": 79,
   "metadata": {},
   "outputs": [],
   "source": [
    "#next add reaction with NADPH\n",
    "#first add 3-Hydroxy-2-methyldecanoyl-[acp] met\n",
    "model.add_metabolites(Metabolite(id='3h2mdACP_c', name = '3-Hydroxy-2-methyldecanoyl-[acp]', compartment = 'c', charge = -1, formula = 'C22H41N2O9PRS'))"
   ]
  },
  {
   "cell_type": "code",
   "execution_count": 80,
   "metadata": {},
   "outputs": [],
   "source": [
    "model.metabolites.get_by_id('3h2mdACP_c').annotation['sbo'] = 'SBO:0000247'"
   ]
  },
  {
   "cell_type": "code",
   "execution_count": 81,
   "metadata": {},
   "outputs": [],
   "source": [
    "#add reaction\n",
    "model.add_reaction(Reaction(id='3OMAR110', name = ' 3-oxo-methyl-acyl-[acyl-carrier-protein] reductase (anteiso-C11:0)'))"
   ]
  },
  {
   "cell_type": "code",
   "execution_count": 82,
   "metadata": {},
   "outputs": [],
   "source": [
    "model.reactions.get_by_id('3OMAR110').annotation['sbo'] = 'SBO:0000176'"
   ]
  },
  {
   "cell_type": "code",
   "execution_count": 83,
   "metadata": {},
   "outputs": [],
   "source": [
    "#assume GPR is the same FA synthase: RTMO12345\n",
    "model.reactions.get_by_id('3OMAR110').gene_reaction_rule = 'RTMO12345'"
   ]
  },
  {
   "cell_type": "code",
   "execution_count": 84,
   "metadata": {},
   "outputs": [],
   "source": [
    "model.reactions.get_by_id('3OMAR110').add_metabolites({\n",
    "    model.metabolites.get_by_id('3o2mdACP_c'):-1,\n",
    "    model.metabolites.nadph_c:-1,\n",
    "    model.metabolites.nadp_c:1,\n",
    "    model.metabolites.get_by_id('3h2mdACP_c'):1,\n",
    "    model.metabolites.h_c:-1\n",
    "})"
   ]
  },
  {
   "cell_type": "code",
   "execution_count": 85,
   "metadata": {},
   "outputs": [],
   "source": [
    "#next add the t2md2eACP_c metabolite\n",
    "model.add_metabolites(Metabolite(id='t2md2eACP_c', name = 'Trans-2-methyldec-2-enoyl-[acyl-carrier protein]', compartment = 'c', charge = -1, formula = 'C22H39N2O8PRS'))"
   ]
  },
  {
   "cell_type": "code",
   "execution_count": 86,
   "metadata": {},
   "outputs": [],
   "source": [
    "model.metabolites.get_by_id('t2md2eACP_c').annotation['sbo'] = 'SBO:0000247'"
   ]
  },
  {
   "cell_type": "code",
   "execution_count": 87,
   "metadata": {},
   "outputs": [],
   "source": [
    "#add reaction\n",
    "model.add_reaction(Reaction(id='3HMAD110', name = '3-hydroxy-methylacyl-[acyl-carrier-protein] dehydratase (anteiso-C11:0)'))"
   ]
  },
  {
   "cell_type": "code",
   "execution_count": 88,
   "metadata": {},
   "outputs": [],
   "source": [
    "model.reactions.get_by_id('3HMAD110').annotation['sbo'] = 'SBO:0000176'"
   ]
  },
  {
   "cell_type": "code",
   "execution_count": 89,
   "metadata": {},
   "outputs": [],
   "source": [
    "#assume GPR is the same FA synthase: RTMO12345\n",
    "model.reactions.get_by_id('3HMAD110').gene_reaction_rule = 'RTMO12345'"
   ]
  },
  {
   "cell_type": "code",
   "execution_count": 90,
   "metadata": {},
   "outputs": [],
   "source": [
    "model.reactions.get_by_id('3HMAD110').add_metabolites({\n",
    "    model.metabolites.get_by_id('3h2mdACP_c'):-1,\n",
    "    model.metabolites.h2o_c:1,\n",
    "    model.metabolites.t2md2eACP_c:1\n",
    "})"
   ]
  },
  {
   "cell_type": "code",
   "execution_count": 91,
   "metadata": {},
   "outputs": [],
   "source": [
    "#last step: convert to 2-methyldecanoyl-ACP which can start the next cycle again\n",
    "#add both with NADH and NADPH.\n",
    "#first add the 2-methyldecanoyl-ACP metabolite\n",
    "model.add_metabolites(Metabolite(id='2mdecACP_c', name = '2methyl-decanoyl-ACP(anteiso-C11:0ACP)', compartment = 'c', charge = -1, formula = 'C22H41N2O8PRS' ))"
   ]
  },
  {
   "cell_type": "code",
   "execution_count": 92,
   "metadata": {},
   "outputs": [],
   "source": [
    "model.metabolites.get_by_id('2mdecACP_c').annotation['sbo'] = 'SBO:0000247'"
   ]
  },
  {
   "cell_type": "code",
   "execution_count": 93,
   "metadata": {},
   "outputs": [],
   "source": [
    "#add reaction with NADH: EMAR90x\n",
    "model.add_reaction(Reaction(id='EMAR110x', name = '2-Methyl-Decanoyl-[acp]:NAD+ trans-2-oxidoreductase'))"
   ]
  },
  {
   "cell_type": "code",
   "execution_count": 94,
   "metadata": {},
   "outputs": [],
   "source": [
    "model.reactions.EMAR110x.annotation['sbo'] = 'SBO:0000176'"
   ]
  },
  {
   "cell_type": "code",
   "execution_count": 95,
   "metadata": {},
   "outputs": [],
   "source": [
    "#assume GPR is the same FA synthase: RTMO12345\n",
    "model.reactions.EMAR110x.gene_reaction_rule = 'RTMO12345'"
   ]
  },
  {
   "cell_type": "code",
   "execution_count": 96,
   "metadata": {},
   "outputs": [],
   "source": [
    "model.reactions.EMAR110x.add_metabolites({\n",
    "    model.metabolites.t2md2eACP_c:-1,\n",
    "    model.metabolites.nadh_c:-1,\n",
    "    model.metabolites.nad_c:1,\n",
    "    model.metabolites.get_by_id('2mdecACP_c'):1,\n",
    "    model.metabolites.h_c:-1\n",
    "})"
   ]
  },
  {
   "cell_type": "code",
   "execution_count": 97,
   "metadata": {
    "scrolled": true
   },
   "outputs": [
    {
     "data": {
      "text/plain": [
       "{}"
      ]
     },
     "execution_count": 97,
     "metadata": {},
     "output_type": "execute_result"
    }
   ],
   "source": [
    "model.reactions.EMAR110x.check_mass_balance()"
   ]
  },
  {
   "cell_type": "code",
   "execution_count": 98,
   "metadata": {},
   "outputs": [],
   "source": [
    "#add reaction with NADH: EMAR110y\n",
    "model.add_reaction(Reaction(id='EMAR110y', name = '2-Methyl-Decanoyl-[acp]:NADp+ trans-2-oxidoreductase'))"
   ]
  },
  {
   "cell_type": "code",
   "execution_count": 99,
   "metadata": {},
   "outputs": [],
   "source": [
    "model.reactions.EMAR110y.annotation['sbo'] = 'SBO:0000176'"
   ]
  },
  {
   "cell_type": "code",
   "execution_count": 100,
   "metadata": {},
   "outputs": [],
   "source": [
    "#assume GPR is the same FA synthase: RTMO12345\n",
    "model.reactions.EMAR110y.gene_reaction_rule = 'RTMO12345'"
   ]
  },
  {
   "cell_type": "code",
   "execution_count": 101,
   "metadata": {},
   "outputs": [],
   "source": [
    "model.reactions.EMAR110y.add_metabolites({\n",
    "    model.metabolites.t2md2eACP_c:-1,\n",
    "    model.metabolites.nadph_c:-1,\n",
    "    model.metabolites.nadp_c:1,\n",
    "    model.metabolites.get_by_id('2mdecACP_c'):1,\n",
    "    model.metabolites.h_c:-1\n",
    "})"
   ]
  },
  {
   "cell_type": "code",
   "execution_count": 102,
   "metadata": {},
   "outputs": [],
   "source": [
    "#save&commit\n",
    "cobra.io.write_sbml_model(model,'../model/g-thermo.xml')"
   ]
  },
  {
   "cell_type": "markdown",
   "metadata": {},
   "source": [
    "Finished up to anteiso-C11:0. Now onto ante-iso-C13:0."
   ]
  },
  {
   "cell_type": "code",
   "execution_count": 103,
   "metadata": {},
   "outputs": [],
   "source": [
    "#add condenstation of 2mdecACP with malonyl ACP to 3-oxomethyl-dodecanoyl-ACP\n",
    "#add metabolite\n",
    "model.add_metabolites(Metabolite(id='3o2mddACP_c', name = '3-oxo2methyldodecanoyl-ACP', compartment = 'c', charge =-1, formula = 'C24H43N2O9PRS'))"
   ]
  },
  {
   "cell_type": "code",
   "execution_count": 104,
   "metadata": {},
   "outputs": [],
   "source": [
    "model.metabolites.get_by_id('3o2mddACP_c').annotation['sbo'] = 'SBO:0000176'"
   ]
  },
  {
   "cell_type": "code",
   "execution_count": 105,
   "metadata": {},
   "outputs": [],
   "source": [
    "#add reaction\n",
    "model.add_reaction(Reaction(id='3OMAS130', name = '3-oxo2methyldodecanoyl-[acyl-carrier-protein] synthase (anteiso-C13:0)'))"
   ]
  },
  {
   "cell_type": "code",
   "execution_count": 106,
   "metadata": {},
   "outputs": [],
   "source": [
    "model.reactions.get_by_id('3OMAS130').annotation['sbo'] = 'SBO:0000176'"
   ]
  },
  {
   "cell_type": "code",
   "execution_count": 107,
   "metadata": {},
   "outputs": [],
   "source": [
    "#assume GPR is the same FA synthase: RTMO12345\n",
    "model.reactions.get_by_id('3OMAS130').gene_reaction_rule = 'RTMO12345'"
   ]
  },
  {
   "cell_type": "code",
   "execution_count": 108,
   "metadata": {},
   "outputs": [],
   "source": [
    "model.reactions.get_by_id('3OMAS130').add_metabolites({\n",
    "    model.metabolites.malACP_c:-1,\n",
    "    model.metabolites.get_by_id('2mdecACP_c'):-1,\n",
    "    model.metabolites.ACP_c:1,\n",
    "    model.metabolites.co2_c:1,\n",
    "    model.metabolites.get_by_id('3o2mddACP_c'):1,\n",
    "    model.metabolites.h_c:-1\n",
    "})"
   ]
  },
  {
   "cell_type": "code",
   "execution_count": 109,
   "metadata": {},
   "outputs": [],
   "source": [
    "#next add reaction with NADPH\n",
    "#first add 3-Hydroxy-2-methyldodecanoyl-[acp] met\n",
    "model.add_metabolites(Metabolite(id='3h2mddACP_c', name = '3-Hydroxy-2-methyldodecanoyl-[acp]', compartment = 'c', charge = -1, formula = 'C24H45N2O9PRS'))"
   ]
  },
  {
   "cell_type": "code",
   "execution_count": 110,
   "metadata": {},
   "outputs": [],
   "source": [
    "model.metabolites.get_by_id('3h2mddACP_c').annotation['sbo'] = 'SBO:0000247'"
   ]
  },
  {
   "cell_type": "code",
   "execution_count": 111,
   "metadata": {},
   "outputs": [],
   "source": [
    "#add reaction\n",
    "model.add_reaction(Reaction(id='3OMAR130', name = ' 3-oxo-methyl-acyl-[acyl-carrier-protein] reductase (anteiso-C13:0)'))"
   ]
  },
  {
   "cell_type": "code",
   "execution_count": 112,
   "metadata": {},
   "outputs": [],
   "source": [
    "model.reactions.get_by_id('3OMAR130').annotation['sbo'] = 'SBO:0000176'"
   ]
  },
  {
   "cell_type": "code",
   "execution_count": 113,
   "metadata": {},
   "outputs": [],
   "source": [
    "#assume GPR is the same FA synthase: RTMO12345\n",
    "model.reactions.get_by_id('3OMAR130').gene_reaction_rule = 'RTMO12345'"
   ]
  },
  {
   "cell_type": "code",
   "execution_count": 114,
   "metadata": {},
   "outputs": [],
   "source": [
    "model.reactions.get_by_id('3OMAR130').add_metabolites({\n",
    "    model.metabolites.get_by_id('3o2mddACP_c'):-1,\n",
    "    model.metabolites.nadph_c:-1,\n",
    "    model.metabolites.nadp_c:1,\n",
    "    model.metabolites.get_by_id('3h2mddACP_c'):1,\n",
    "    model.metabolites.h_c:-1\n",
    "})"
   ]
  },
  {
   "cell_type": "code",
   "execution_count": 115,
   "metadata": {},
   "outputs": [],
   "source": [
    "#next add the t2md2eACP_c metabolite\n",
    "model.add_metabolites(Metabolite(id='t2mdd2eACP_c', name = 'Trans-2-methyldodec-2-enoyl-[acyl-carrier protein]', compartment = 'c', charge = -1, formula = 'C24H43N2O8PRS'))"
   ]
  },
  {
   "cell_type": "code",
   "execution_count": 116,
   "metadata": {},
   "outputs": [],
   "source": [
    "model.metabolites.get_by_id('t2mdd2eACP_c').annotation['sbo'] = 'SBO:0000247'"
   ]
  },
  {
   "cell_type": "code",
   "execution_count": 122,
   "metadata": {},
   "outputs": [
    {
     "name": "stderr",
     "output_type": "stream",
     "text": [
      "Ignoring reaction '3HMAD130' since it already exists.\n"
     ]
    }
   ],
   "source": [
    "#add reaction\n",
    "model.add_reaction(Reaction(id='3HMAD130', name = '3-hydroxy-methylacyl-[acyl-carrier-protein] dehydratase (anteiso-C13:0)'))"
   ]
  },
  {
   "cell_type": "code",
   "execution_count": 118,
   "metadata": {},
   "outputs": [],
   "source": [
    "model.reactions.get_by_id('3HMAD130').annotation['sbo'] = 'SBO:0000176'"
   ]
  },
  {
   "cell_type": "code",
   "execution_count": 119,
   "metadata": {},
   "outputs": [],
   "source": [
    "#assume GPR is the same FA synthase: RTMO12345\n",
    "model.reactions.get_by_id('3HMAD130').gene_reaction_rule = 'RTMO12345'"
   ]
  },
  {
   "cell_type": "code",
   "execution_count": 120,
   "metadata": {},
   "outputs": [],
   "source": [
    "model.reactions.get_by_id('3HMAD130').add_metabolites({\n",
    "    model.metabolites.get_by_id('3h2mddACP_c'):-1,\n",
    "    model.metabolites.h2o_c:1,\n",
    "    model.metabolites.t2mdd2eACP_c:1\n",
    "})"
   ]
  },
  {
   "cell_type": "code",
   "execution_count": 121,
   "metadata": {},
   "outputs": [],
   "source": [
    "#last step: convert to 2-methyldodecanoyl-ACP which can start the next cycle again\n",
    "#add both with NADH and NADPH.\n",
    "#first add the 2-methyldodecanoyl-ACP metabolite\n",
    "model.add_metabolites(Metabolite(id='2mddecACP_c', name = '2methyl-dodecanoyl-ACP(anteiso-C13:0ACP)', compartment = 'c', charge = -1, formula = 'C24H45N2O8PRS' ))"
   ]
  },
  {
   "cell_type": "code",
   "execution_count": 123,
   "metadata": {},
   "outputs": [],
   "source": [
    "model.metabolites.get_by_id('2mddecACP_c').annotation['sbo'] = 'SBO:0000247'"
   ]
  },
  {
   "cell_type": "code",
   "execution_count": 124,
   "metadata": {},
   "outputs": [],
   "source": [
    "#add reaction with NADH: EMAR1300x\n",
    "model.add_reaction(Reaction(id='EMAR130x', name = '2-Methyl-Dodecanoyl-[acp]:NAD+ trans-2-oxidoreductase'))"
   ]
  },
  {
   "cell_type": "code",
   "execution_count": 125,
   "metadata": {},
   "outputs": [],
   "source": [
    "model.reactions.EMAR130x.annotation['sbo'] = 'SBO:0000176'"
   ]
  },
  {
   "cell_type": "code",
   "execution_count": 126,
   "metadata": {},
   "outputs": [],
   "source": [
    "#assume GPR is the same FA synthase: RTMO12345\n",
    "model.reactions.EMAR130x.gene_reaction_rule = 'RTMO12345'"
   ]
  },
  {
   "cell_type": "code",
   "execution_count": 127,
   "metadata": {},
   "outputs": [],
   "source": [
    "model.reactions.EMAR130x.add_metabolites({\n",
    "    model.metabolites.t2mdd2eACP_c:-1,\n",
    "    model.metabolites.nadh_c:-1,\n",
    "    model.metabolites.nad_c:1,\n",
    "    model.metabolites.get_by_id('2mddecACP_c'):1,\n",
    "    model.metabolites.h_c:-1\n",
    "})"
   ]
  },
  {
   "cell_type": "code",
   "execution_count": 128,
   "metadata": {},
   "outputs": [],
   "source": [
    "#add reaction with NADH: EMAR130y\n",
    "model.add_reaction(Reaction(id='EMAR130y', name = '2-Methyl-Dodecanoyl-[acp]:NADp+ trans-2-oxidoreductase'))"
   ]
  },
  {
   "cell_type": "code",
   "execution_count": 129,
   "metadata": {},
   "outputs": [],
   "source": [
    "model.reactions.EMAR130y.annotation['sbo'] = 'SBO:0000176'"
   ]
  },
  {
   "cell_type": "code",
   "execution_count": 130,
   "metadata": {},
   "outputs": [],
   "source": [
    "#assume GPR is the same FA synthase: RTMO12345\n",
    "model.reactions.EMAR130y.gene_reaction_rule = 'RTMO12345'"
   ]
  },
  {
   "cell_type": "code",
   "execution_count": 131,
   "metadata": {},
   "outputs": [],
   "source": [
    "model.reactions.EMAR130y.add_metabolites({\n",
    "    model.metabolites.t2mdd2eACP_c:-1,\n",
    "    model.metabolites.nadph_c:-1,\n",
    "    model.metabolites.nadp_c:1,\n",
    "    model.metabolites.get_by_id('2mddecACP_c'):1,\n",
    "    model.metabolites.h_c:-1\n",
    "})"
   ]
  },
  {
   "cell_type": "code",
   "execution_count": 132,
   "metadata": {},
   "outputs": [],
   "source": [
    "#save&commit\n",
    "cobra.io.write_sbml_model(model,'../model/g-thermo.xml')"
   ]
  },
  {
   "cell_type": "markdown",
   "metadata": {},
   "source": [
    "Now finished until anteiso-C13:0. Moving onto anteiso-C15:0."
   ]
  },
  {
   "cell_type": "code",
   "execution_count": 133,
   "metadata": {},
   "outputs": [],
   "source": [
    "#add condenstation of 2mddecACP with malonyl ACP to 3-oxomethyl-tetradecanoyl-ACP\n",
    "#add metabolite\n",
    "model.add_metabolites(Metabolite(id='3o2mtdACP_c', name = '3-oxo2methyltetradecanoyl-ACP', compartment = 'c', charge =-1, formula = 'C26H47N2O9PRS'))"
   ]
  },
  {
   "cell_type": "code",
   "execution_count": 134,
   "metadata": {},
   "outputs": [],
   "source": [
    "model.metabolites.get_by_id('3o2mtdACP_c').annotation['sbo'] = 'SBO:0000176'"
   ]
  },
  {
   "cell_type": "code",
   "execution_count": 135,
   "metadata": {},
   "outputs": [],
   "source": [
    "#add reaction\n",
    "model.add_reaction(Reaction(id='3OMAS150', name = '3-oxo2methyltetradecanoyl-[acyl-carrier-protein] synthase (anteiso-C15:0)'))"
   ]
  },
  {
   "cell_type": "code",
   "execution_count": 136,
   "metadata": {},
   "outputs": [],
   "source": [
    "model.reactions.get_by_id('3OMAS150').annotation['sbo'] = 'SBO:0000176'"
   ]
  },
  {
   "cell_type": "code",
   "execution_count": 137,
   "metadata": {},
   "outputs": [],
   "source": [
    "#assume GPR is the same FA synthase: RTMO12345\n",
    "model.reactions.get_by_id('3OMAS150').gene_reaction_rule = 'RTMO12345'"
   ]
  },
  {
   "cell_type": "code",
   "execution_count": 138,
   "metadata": {},
   "outputs": [],
   "source": [
    "model.reactions.get_by_id('3OMAS150').add_metabolites({\n",
    "    model.metabolites.malACP_c:-1,\n",
    "    model.metabolites.get_by_id('2mddecACP_c'):-1,\n",
    "    model.metabolites.ACP_c:1,\n",
    "    model.metabolites.co2_c:1,\n",
    "    model.metabolites.get_by_id('3o2mtdACP_c'):1,\n",
    "    model.metabolites.h_c:-1\n",
    "})"
   ]
  },
  {
   "cell_type": "code",
   "execution_count": 139,
   "metadata": {},
   "outputs": [],
   "source": [
    "#next add reaction with NADPH\n",
    "#first add 3-Hydroxy-2-methyltetradecanoyl-[acp] met\n",
    "model.add_metabolites(Metabolite(id='3h2mtdACP_c', name = '3-Hydroxy-2-methyltetradecanoyl-[acp]', compartment = 'c', charge = -1, formula = 'C26H49N2O9PRS'))"
   ]
  },
  {
   "cell_type": "code",
   "execution_count": 140,
   "metadata": {},
   "outputs": [],
   "source": [
    "model.metabolites.get_by_id('3h2mtdACP_c').annotation['sbo'] = 'SBO:0000247'"
   ]
  },
  {
   "cell_type": "code",
   "execution_count": 141,
   "metadata": {},
   "outputs": [],
   "source": [
    "#add reaction\n",
    "model.add_reaction(Reaction(id='3OMAR150', name = ' 3-oxo-methyl-acyl-[acyl-carrier-protein] reductase (anteiso-C15:0)'))"
   ]
  },
  {
   "cell_type": "code",
   "execution_count": 142,
   "metadata": {},
   "outputs": [],
   "source": [
    "model.reactions.get_by_id('3OMAR150').annotation['sbo'] = 'SBO:0000176'"
   ]
  },
  {
   "cell_type": "code",
   "execution_count": 143,
   "metadata": {},
   "outputs": [],
   "source": [
    "#assume GPR is the same FA synthase: RTMO12345\n",
    "model.reactions.get_by_id('3OMAR150').gene_reaction_rule = 'RTMO12345'"
   ]
  },
  {
   "cell_type": "code",
   "execution_count": 144,
   "metadata": {},
   "outputs": [],
   "source": [
    "model.reactions.get_by_id('3OMAR150').add_metabolites({\n",
    "    model.metabolites.get_by_id('3o2mtdACP_c'):-1,\n",
    "    model.metabolites.nadph_c:-1,\n",
    "    model.metabolites.nadp_c:1,\n",
    "    model.metabolites.get_by_id('3h2mtdACP_c'):1,\n",
    "    model.metabolites.h_c:-1\n",
    "})"
   ]
  },
  {
   "cell_type": "code",
   "execution_count": 145,
   "metadata": {},
   "outputs": [],
   "source": [
    "#next add the t2mtd2eACP_c metabolite\n",
    "model.add_metabolites(Metabolite(id='t2mtd2eACP_c', name = 'Trans-2-methyltetradec-2-enoyl-[acyl-carrier protein]', compartment = 'c', charge = -1, formula = 'C26H47N2O8PRS'))"
   ]
  },
  {
   "cell_type": "code",
   "execution_count": 146,
   "metadata": {},
   "outputs": [],
   "source": [
    "model.metabolites.get_by_id('t2mtd2eACP_c').annotation['sbo'] = 'SBO:0000247'"
   ]
  },
  {
   "cell_type": "code",
   "execution_count": 147,
   "metadata": {},
   "outputs": [],
   "source": [
    "#add reaction\n",
    "model.add_reaction(Reaction(id='3HMAD150', name = '3-hydroxy-methylacyl-[acyl-carrier-protein] dehydratase (anteiso-C15:0)'))"
   ]
  },
  {
   "cell_type": "code",
   "execution_count": 148,
   "metadata": {},
   "outputs": [],
   "source": [
    "model.reactions.get_by_id('3HMAD150').annotation['sbo'] = 'SBO:0000176'"
   ]
  },
  {
   "cell_type": "code",
   "execution_count": 149,
   "metadata": {},
   "outputs": [],
   "source": [
    "#assume GPR is the same FA synthase: RTMO12345\n",
    "model.reactions.get_by_id('3HMAD150').gene_reaction_rule = 'RTMO12345'"
   ]
  },
  {
   "cell_type": "code",
   "execution_count": 150,
   "metadata": {},
   "outputs": [],
   "source": [
    "model.reactions.get_by_id('3HMAD150').add_metabolites({\n",
    "    model.metabolites.get_by_id('3h2mtdACP_c'):-1,\n",
    "    model.metabolites.h2o_c:1,\n",
    "    model.metabolites.t2mtd2eACP_c:1\n",
    "})"
   ]
  },
  {
   "cell_type": "code",
   "execution_count": 151,
   "metadata": {},
   "outputs": [],
   "source": [
    "#last step: convert to 2-methyltetradecanoyl-ACP which can start the next cycle again\n",
    "#add both with NADH and NADPH.\n",
    "#first add the 2-methyltetradecanoyl-ACP metabolite\n",
    "model.add_metabolites(Metabolite(id='2mtdecACP_c', name = '2methyl-tetradecanoyl-ACP(anteiso-C15:0ACP)', compartment = 'c', charge = -1, formula = 'C26H49N2O8PRS' ))"
   ]
  },
  {
   "cell_type": "code",
   "execution_count": 152,
   "metadata": {},
   "outputs": [],
   "source": [
    "model.metabolites.get_by_id('2mtdecACP_c').annotation['sbo'] = 'SBO:0000247'\n",
    "model.metabolites.get_by_id('2mtdecACP_c').annotation['chebi'] ='CHEBI:39251'"
   ]
  },
  {
   "cell_type": "code",
   "execution_count": 153,
   "metadata": {},
   "outputs": [],
   "source": [
    "#add reaction with NADH: EMAR1300x\n",
    "model.add_reaction(Reaction(id='EMAR150x', name = '2-Methyl-Tetradecanoyl-[acp]:NAD+ trans-2-oxidoreductase'))"
   ]
  },
  {
   "cell_type": "code",
   "execution_count": 154,
   "metadata": {},
   "outputs": [],
   "source": [
    "model.reactions.EMAR150x.annotation['sbo'] = 'SBO:0000176'"
   ]
  },
  {
   "cell_type": "code",
   "execution_count": 155,
   "metadata": {},
   "outputs": [],
   "source": [
    "#assume GPR is the same FA synthase: RTMO12345\n",
    "model.reactions.EMAR150x.gene_reaction_rule = 'RTMO12345'"
   ]
  },
  {
   "cell_type": "code",
   "execution_count": 156,
   "metadata": {},
   "outputs": [],
   "source": [
    "model.reactions.EMAR150x.add_metabolites({\n",
    "    model.metabolites.t2mtd2eACP_c:-1,\n",
    "    model.metabolites.nadh_c:-1,\n",
    "    model.metabolites.nad_c:1,\n",
    "    model.metabolites.get_by_id('2mtdecACP_c'):1,\n",
    "    model.metabolites.h_c:-1\n",
    "})"
   ]
  },
  {
   "cell_type": "code",
   "execution_count": 157,
   "metadata": {},
   "outputs": [],
   "source": [
    "#add reaction with NADH: EMAR150y\n",
    "model.add_reaction(Reaction(id='EMAR150y', name = '2-Methyl-Tetradecanoyl-[acp]:NADp+ trans-2-oxidoreductase'))"
   ]
  },
  {
   "cell_type": "code",
   "execution_count": 158,
   "metadata": {},
   "outputs": [],
   "source": [
    "model.reactions.EMAR150y.annotation['sbo'] = 'SBO:0000176'"
   ]
  },
  {
   "cell_type": "code",
   "execution_count": 159,
   "metadata": {},
   "outputs": [],
   "source": [
    "#assume GPR is the same FA synthase: RTMO12345\n",
    "model.reactions.EMAR150y.gene_reaction_rule = 'RTMO12345'"
   ]
  },
  {
   "cell_type": "code",
   "execution_count": 160,
   "metadata": {},
   "outputs": [],
   "source": [
    "model.reactions.EMAR150y.add_metabolites({\n",
    "    model.metabolites.t2mtd2eACP_c:-1,\n",
    "    model.metabolites.nadph_c:-1,\n",
    "    model.metabolites.nadp_c:1,\n",
    "    model.metabolites.get_by_id('2mtdecACP_c'):1,\n",
    "    model.metabolites.h_c:-1\n",
    "})"
   ]
  },
  {
   "cell_type": "code",
   "execution_count": 161,
   "metadata": {},
   "outputs": [],
   "source": [
    "#save&commit\n",
    "cobra.io.write_sbml_model(model,'../model/g-thermo.xml')"
   ]
  },
  {
   "cell_type": "markdown",
   "metadata": {},
   "source": [
    "Finished until anteiso-C15:0. Now onto the last anteiso-C17:0. "
   ]
  },
  {
   "cell_type": "code",
   "execution_count": 162,
   "metadata": {},
   "outputs": [],
   "source": [
    "#add condenstation of 2mtdecACP with malonyl ACP to 3-oxomethyl-hexadecanoyl-ACP\n",
    "#add metabolite\n",
    "model.add_metabolites(Metabolite(id='3o2mhdACP_c', name = '3-oxo2methylhexadecanoyl-ACP', compartment = 'c', charge =-1, formula = 'C28H51N2O9PRS'))"
   ]
  },
  {
   "cell_type": "code",
   "execution_count": 163,
   "metadata": {},
   "outputs": [],
   "source": [
    "model.metabolites.get_by_id('3o2mhdACP_c').annotation['sbo'] = 'SBO:0000176'"
   ]
  },
  {
   "cell_type": "code",
   "execution_count": 164,
   "metadata": {},
   "outputs": [],
   "source": [
    "#add reaction\n",
    "model.add_reaction(Reaction(id='3OMAS170', name = '3-oxo2methylhexadecanoyl-[acyl-carrier-protein] synthase (anteiso-C17:0)'))"
   ]
  },
  {
   "cell_type": "code",
   "execution_count": 165,
   "metadata": {},
   "outputs": [],
   "source": [
    "model.reactions.get_by_id('3OMAS170').annotation['sbo'] = 'SBO:0000176'"
   ]
  },
  {
   "cell_type": "code",
   "execution_count": 166,
   "metadata": {},
   "outputs": [],
   "source": [
    "#assume GPR is the same FA synthase: RTMO12345\n",
    "model.reactions.get_by_id('3OMAS170').gene_reaction_rule = 'RTMO12345'"
   ]
  },
  {
   "cell_type": "code",
   "execution_count": 167,
   "metadata": {},
   "outputs": [],
   "source": [
    "model.reactions.get_by_id('3OMAS170').add_metabolites({\n",
    "    model.metabolites.malACP_c:-1,\n",
    "    model.metabolites.get_by_id('2mtdecACP_c'):-1,\n",
    "    model.metabolites.ACP_c:1,\n",
    "    model.metabolites.co2_c:1,\n",
    "    model.metabolites.get_by_id('3o2mhdACP_c'):1,\n",
    "    model.metabolites.h_c:-1\n",
    "})"
   ]
  },
  {
   "cell_type": "code",
   "execution_count": 168,
   "metadata": {},
   "outputs": [],
   "source": [
    "#next add reaction with NADPH\n",
    "#first add 3-Hydroxy-2-methylhexadecanoyl-[acp] met\n",
    "model.add_metabolites(Metabolite(id='3h2mhdACP_c', name = '3-Hydroxy-2-methylhexadecanoyl-[acp]', compartment = 'c', charge = -1, formula = 'C28H53N2O9PRS'))"
   ]
  },
  {
   "cell_type": "code",
   "execution_count": 169,
   "metadata": {},
   "outputs": [],
   "source": [
    "model.metabolites.get_by_id('3h2mhdACP_c').annotation['sbo'] = 'SBO:0000247'"
   ]
  },
  {
   "cell_type": "code",
   "execution_count": 170,
   "metadata": {},
   "outputs": [],
   "source": [
    "#add reaction\n",
    "model.add_reaction(Reaction(id='3OMAR170', name = ' 3-oxo-methyl-acyl-[acyl-carrier-protein] reductase (anteiso-C17:0)'))"
   ]
  },
  {
   "cell_type": "code",
   "execution_count": 171,
   "metadata": {},
   "outputs": [],
   "source": [
    "model.reactions.get_by_id('3OMAR170').annotation['sbo'] = 'SBO:0000176'"
   ]
  },
  {
   "cell_type": "code",
   "execution_count": 172,
   "metadata": {},
   "outputs": [],
   "source": [
    "#assume GPR is the same FA synthase: RTMO12345\n",
    "model.reactions.get_by_id('3OMAR170').gene_reaction_rule = 'RTMO12345'"
   ]
  },
  {
   "cell_type": "code",
   "execution_count": 173,
   "metadata": {},
   "outputs": [],
   "source": [
    "model.reactions.get_by_id('3OMAR170').add_metabolites({\n",
    "    model.metabolites.get_by_id('3o2mhdACP_c'):-1,\n",
    "    model.metabolites.nadph_c:-1,\n",
    "    model.metabolites.nadp_c:1,\n",
    "    model.metabolites.get_by_id('3h2mhdACP_c'):1,\n",
    "    model.metabolites.h_c:-1\n",
    "})"
   ]
  },
  {
   "cell_type": "code",
   "execution_count": 174,
   "metadata": {},
   "outputs": [],
   "source": [
    "#next add the t2mhd2eACP_c metabolite\n",
    "model.add_metabolites(Metabolite(id='t2mhd2eACP_c', name = 'Trans-2-methylhexadec-2-enoyl-[acyl-carrier protein]', compartment = 'c', charge = -1, formula = 'C28H51N2O8PRS'))"
   ]
  },
  {
   "cell_type": "code",
   "execution_count": 175,
   "metadata": {},
   "outputs": [],
   "source": [
    "model.metabolites.get_by_id('t2mhd2eACP_c').annotation['sbo'] = 'SBO:0000247'"
   ]
  },
  {
   "cell_type": "code",
   "execution_count": 176,
   "metadata": {},
   "outputs": [],
   "source": [
    "#add reaction\n",
    "model.add_reaction(Reaction(id='3HMAD170', name = '3-hydroxy-methylacyl-[acyl-carrier-protein] dehydratase (anteiso-C17:0)'))"
   ]
  },
  {
   "cell_type": "code",
   "execution_count": 177,
   "metadata": {},
   "outputs": [],
   "source": [
    "model.reactions.get_by_id('3HMAD170').annotation['sbo'] = 'SBO:0000176'"
   ]
  },
  {
   "cell_type": "code",
   "execution_count": 178,
   "metadata": {},
   "outputs": [],
   "source": [
    "#assume GPR is the same FA synthase: RTMO12345\n",
    "model.reactions.get_by_id('3HMAD170').gene_reaction_rule = 'RTMO12345'"
   ]
  },
  {
   "cell_type": "code",
   "execution_count": 179,
   "metadata": {},
   "outputs": [],
   "source": [
    "model.reactions.get_by_id('3HMAD170').add_metabolites({\n",
    "    model.metabolites.get_by_id('3h2mhdACP_c'):-1,\n",
    "    model.metabolites.h2o_c:1,\n",
    "    model.metabolites.t2mhd2eACP_c:1\n",
    "})"
   ]
  },
  {
   "cell_type": "code",
   "execution_count": 180,
   "metadata": {},
   "outputs": [],
   "source": [
    "#last step: convert to 2-methylhexadecanoyl-ACP \n",
    "#add both with NADH and NADPH.\n",
    "#first add the 2-methylhexadecanoyl-ACP metabolite\n",
    "model.add_metabolites(Metabolite(id='2mhdecACP_c', name = '2methyl-hexadecanoyl-ACP(anteiso-C17:0ACP)', compartment = 'c', charge = -1, formula = 'C28H53N2O8PRS' ))"
   ]
  },
  {
   "cell_type": "code",
   "execution_count": 181,
   "metadata": {},
   "outputs": [],
   "source": [
    "model.metabolites.get_by_id('2mhdecACP_c').annotation['sbo'] = 'SBO:0000247'"
   ]
  },
  {
   "cell_type": "code",
   "execution_count": 182,
   "metadata": {},
   "outputs": [],
   "source": [
    "#add reaction with NADH: EMAR170x\n",
    "model.add_reaction(Reaction(id='EMAR170x', name = '2-Methyl-Hexadecanoyl-[acp]:NAD+ trans-2-oxidoreductase'))"
   ]
  },
  {
   "cell_type": "code",
   "execution_count": 183,
   "metadata": {},
   "outputs": [],
   "source": [
    "model.reactions.EMAR170x.annotation['sbo'] = 'SBO:0000176'"
   ]
  },
  {
   "cell_type": "code",
   "execution_count": 184,
   "metadata": {},
   "outputs": [],
   "source": [
    "#assume GPR is the same FA synthase: RTMO12345\n",
    "model.reactions.EMAR170x.gene_reaction_rule = 'RTMO12345'"
   ]
  },
  {
   "cell_type": "code",
   "execution_count": 185,
   "metadata": {},
   "outputs": [],
   "source": [
    "model.reactions.EMAR170x.add_metabolites({\n",
    "    model.metabolites.t2mhd2eACP_c:-1,\n",
    "    model.metabolites.nadh_c:-1,\n",
    "    model.metabolites.nad_c:1,\n",
    "    model.metabolites.get_by_id('2mhdecACP_c'):1,\n",
    "    model.metabolites.h_c:-1\n",
    "})"
   ]
  },
  {
   "cell_type": "code",
   "execution_count": 186,
   "metadata": {},
   "outputs": [],
   "source": [
    "#add reaction with NADH: EMAR170y\n",
    "model.add_reaction(Reaction(id='EMAR170y', name = '2-Methyl-Hexadecanoyl-[acp]:NADp+ trans-2-oxidoreductase'))"
   ]
  },
  {
   "cell_type": "code",
   "execution_count": 187,
   "metadata": {},
   "outputs": [],
   "source": [
    "model.reactions.EMAR170y.annotation['sbo'] = 'SBO:0000176'"
   ]
  },
  {
   "cell_type": "code",
   "execution_count": 188,
   "metadata": {},
   "outputs": [],
   "source": [
    "#assume GPR is the same FA synthase: RTMO12345\n",
    "model.reactions.EMAR170y.gene_reaction_rule = 'RTMO12345'"
   ]
  },
  {
   "cell_type": "code",
   "execution_count": 189,
   "metadata": {},
   "outputs": [],
   "source": [
    "model.reactions.EMAR170y.add_metabolites({\n",
    "    model.metabolites.t2mhd2eACP_c:-1,\n",
    "    model.metabolites.nadph_c:-1,\n",
    "    model.metabolites.nadp_c:1,\n",
    "    model.metabolites.get_by_id('2mhdecACP_c'):1,\n",
    "    model.metabolites.h_c:-1\n",
    "})"
   ]
  },
  {
   "cell_type": "code",
   "execution_count": 190,
   "metadata": {},
   "outputs": [],
   "source": [
    "#save&commit\n",
    "cobra.io.write_sbml_model(model,'../model/g-thermo.xml')"
   ]
  },
  {
   "cell_type": "markdown",
   "metadata": {},
   "source": [
    "In this notebook I ensure the production of:\n",
    "- 14:0 : met myrsACP_c\n",
    "- 16:0: met palACP_c\n",
    "- 18:0: met ocdcaACP_c\n",
    "- 15:0: met pdecACP_c\n",
    "- 17:0: met hdecACP_c\n",
    "- anteiso-C15:0: met 2mtdecACP_c\n",
    "- anteiso-C17:0: met 2mhdecACP_c\n",
    "\n",
    "Notebook 45. Lipid metabolism -II will continue with the ones that we have left to do. "
   ]
  },
  {
   "cell_type": "code",
   "execution_count": 4,
   "metadata": {},
   "outputs": [
    {
     "data": {
      "text/html": [
       "<strong><em>Optimal</em> solution with objective value 0.757</strong><br><div>\n",
       "<style scoped>\n",
       "    .dataframe tbody tr th:only-of-type {\n",
       "        vertical-align: middle;\n",
       "    }\n",
       "\n",
       "    .dataframe tbody tr th {\n",
       "        vertical-align: top;\n",
       "    }\n",
       "\n",
       "    .dataframe thead th {\n",
       "        text-align: right;\n",
       "    }\n",
       "</style>\n",
       "<table border=\"1\" class=\"dataframe\">\n",
       "  <thead>\n",
       "    <tr style=\"text-align: right;\">\n",
       "      <th></th>\n",
       "      <th>fluxes</th>\n",
       "      <th>reduced_costs</th>\n",
       "    </tr>\n",
       "  </thead>\n",
       "  <tbody>\n",
       "    <tr>\n",
       "      <th>IDPh</th>\n",
       "      <td>1.770060</td>\n",
       "      <td>0.000000e+00</td>\n",
       "    </tr>\n",
       "    <tr>\n",
       "      <th>CAT</th>\n",
       "      <td>0.019791</td>\n",
       "      <td>0.000000e+00</td>\n",
       "    </tr>\n",
       "    <tr>\n",
       "      <th>PDHam1hi</th>\n",
       "      <td>0.000000</td>\n",
       "      <td>5.464379e-17</td>\n",
       "    </tr>\n",
       "    <tr>\n",
       "      <th>HYDA</th>\n",
       "      <td>0.000000</td>\n",
       "      <td>-0.000000e+00</td>\n",
       "    </tr>\n",
       "    <tr>\n",
       "      <th>MALHYDRO</th>\n",
       "      <td>0.000000</td>\n",
       "      <td>0.000000e+00</td>\n",
       "    </tr>\n",
       "    <tr>\n",
       "      <th>...</th>\n",
       "      <td>...</td>\n",
       "      <td>...</td>\n",
       "    </tr>\n",
       "    <tr>\n",
       "      <th>3OMAS170</th>\n",
       "      <td>0.000000</td>\n",
       "      <td>-5.700687e-02</td>\n",
       "    </tr>\n",
       "    <tr>\n",
       "      <th>3OMAR170</th>\n",
       "      <td>0.000000</td>\n",
       "      <td>-5.700687e-03</td>\n",
       "    </tr>\n",
       "    <tr>\n",
       "      <th>3HMAD170</th>\n",
       "      <td>0.000000</td>\n",
       "      <td>0.000000e+00</td>\n",
       "    </tr>\n",
       "    <tr>\n",
       "      <th>EMAR170x</th>\n",
       "      <td>0.000000</td>\n",
       "      <td>-1.368165e-02</td>\n",
       "    </tr>\n",
       "    <tr>\n",
       "      <th>EMAR170y</th>\n",
       "      <td>0.000000</td>\n",
       "      <td>-5.700687e-03</td>\n",
       "    </tr>\n",
       "  </tbody>\n",
       "</table>\n",
       "<p>1063 rows × 2 columns</p>\n",
       "</div>"
      ],
      "text/plain": [
       "<Solution 0.757 at 0x2afb88132c8>"
      ]
     },
     "execution_count": 4,
     "metadata": {},
     "output_type": "execute_result"
    }
   ],
   "source": [
    "model.optimize()"
   ]
  },
  {
   "cell_type": "code",
   "execution_count": null,
   "metadata": {},
   "outputs": [],
   "source": []
  }
 ],
 "metadata": {
  "kernelspec": {
   "display_name": "Python 3",
   "language": "python",
   "name": "python3"
  },
  "language_info": {
   "codemirror_mode": {
    "name": "ipython",
    "version": 3
   },
   "file_extension": ".py",
   "mimetype": "text/x-python",
   "name": "python",
   "nbconvert_exporter": "python",
   "pygments_lexer": "ipython3",
   "version": "3.7.7"
  }
 },
 "nbformat": 4,
 "nbformat_minor": 4
}
