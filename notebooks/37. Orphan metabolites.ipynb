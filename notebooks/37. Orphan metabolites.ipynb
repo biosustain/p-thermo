{
 "cells": [
  {
   "cell_type": "markdown",
   "metadata": {},
   "source": [
    "# Introduction\n",
    "Memote shows us a list of orphan metabolites: that are consumed by not produced. There are only 37 metabolites that fall in this category. Here I will go through this list and re-evaluate if and how they can be connected to central metabolism. In principle having some orphan metabolites is not a problem, as they can come from knowledge gaps. But, they do contribute to blocked reactions. Ideally we should get no more than 5-10% blocked reactions. So checking and alleviating some of the orphan metabolites may also help improve the % of blocked reactions. \n",
    "\n",
    "A second way to improve % of blocked reactions is by looking at the dead-end metabolites and evaluating if the end of the pathways should be added into biomass or if transport out of the cell should be allowed. But this is something we will look into later in another notebook, when the lipid biosynthesis is fixed and we have mass balance."
   ]
  },
  {
   "cell_type": "code",
   "execution_count": 1,
   "metadata": {},
   "outputs": [
    {
     "data": {
      "application/javascript": [
       "\n",
       "(function(root) {\n",
       "  function now() {\n",
       "    return new Date();\n",
       "  }\n",
       "\n",
       "  var force = true;\n",
       "\n",
       "  if (typeof root._bokeh_onload_callbacks === \"undefined\" || force === true) {\n",
       "    root._bokeh_onload_callbacks = [];\n",
       "    root._bokeh_is_loading = undefined;\n",
       "  }\n",
       "\n",
       "  var JS_MIME_TYPE = 'application/javascript';\n",
       "  var HTML_MIME_TYPE = 'text/html';\n",
       "  var EXEC_MIME_TYPE = 'application/vnd.bokehjs_exec.v0+json';\n",
       "  var CLASS_NAME = 'output_bokeh rendered_html';\n",
       "\n",
       "  /**\n",
       "   * Render data to the DOM node\n",
       "   */\n",
       "  function render(props, node) {\n",
       "    var script = document.createElement(\"script\");\n",
       "    node.appendChild(script);\n",
       "  }\n",
       "\n",
       "  /**\n",
       "   * Handle when an output is cleared or removed\n",
       "   */\n",
       "  function handleClearOutput(event, handle) {\n",
       "    var cell = handle.cell;\n",
       "\n",
       "    var id = cell.output_area._bokeh_element_id;\n",
       "    var server_id = cell.output_area._bokeh_server_id;\n",
       "    // Clean up Bokeh references\n",
       "    if (id != null && id in Bokeh.index) {\n",
       "      Bokeh.index[id].model.document.clear();\n",
       "      delete Bokeh.index[id];\n",
       "    }\n",
       "\n",
       "    if (server_id !== undefined) {\n",
       "      // Clean up Bokeh references\n",
       "      var cmd = \"from bokeh.io.state import curstate; print(curstate().uuid_to_server['\" + server_id + \"'].get_sessions()[0].document.roots[0]._id)\";\n",
       "      cell.notebook.kernel.execute(cmd, {\n",
       "        iopub: {\n",
       "          output: function(msg) {\n",
       "            var id = msg.content.text.trim();\n",
       "            if (id in Bokeh.index) {\n",
       "              Bokeh.index[id].model.document.clear();\n",
       "              delete Bokeh.index[id];\n",
       "            }\n",
       "          }\n",
       "        }\n",
       "      });\n",
       "      // Destroy server and session\n",
       "      var cmd = \"import bokeh.io.notebook as ion; ion.destroy_server('\" + server_id + \"')\";\n",
       "      cell.notebook.kernel.execute(cmd);\n",
       "    }\n",
       "  }\n",
       "\n",
       "  /**\n",
       "   * Handle when a new output is added\n",
       "   */\n",
       "  function handleAddOutput(event, handle) {\n",
       "    var output_area = handle.output_area;\n",
       "    var output = handle.output;\n",
       "\n",
       "    // limit handleAddOutput to display_data with EXEC_MIME_TYPE content only\n",
       "    if ((output.output_type != \"display_data\") || (!output.data.hasOwnProperty(EXEC_MIME_TYPE))) {\n",
       "      return\n",
       "    }\n",
       "\n",
       "    var toinsert = output_area.element.find(\".\" + CLASS_NAME.split(' ')[0]);\n",
       "\n",
       "    if (output.metadata[EXEC_MIME_TYPE][\"id\"] !== undefined) {\n",
       "      toinsert[toinsert.length - 1].firstChild.textContent = output.data[JS_MIME_TYPE];\n",
       "      // store reference to embed id on output_area\n",
       "      output_area._bokeh_element_id = output.metadata[EXEC_MIME_TYPE][\"id\"];\n",
       "    }\n",
       "    if (output.metadata[EXEC_MIME_TYPE][\"server_id\"] !== undefined) {\n",
       "      var bk_div = document.createElement(\"div\");\n",
       "      bk_div.innerHTML = output.data[HTML_MIME_TYPE];\n",
       "      var script_attrs = bk_div.children[0].attributes;\n",
       "      for (var i = 0; i < script_attrs.length; i++) {\n",
       "        toinsert[toinsert.length - 1].firstChild.setAttribute(script_attrs[i].name, script_attrs[i].value);\n",
       "        toinsert[toinsert.length - 1].firstChild.textContent = bk_div.children[0].textContent\n",
       "      }\n",
       "      // store reference to server id on output_area\n",
       "      output_area._bokeh_server_id = output.metadata[EXEC_MIME_TYPE][\"server_id\"];\n",
       "    }\n",
       "  }\n",
       "\n",
       "  function register_renderer(events, OutputArea) {\n",
       "\n",
       "    function append_mime(data, metadata, element) {\n",
       "      // create a DOM node to render to\n",
       "      var toinsert = this.create_output_subarea(\n",
       "        metadata,\n",
       "        CLASS_NAME,\n",
       "        EXEC_MIME_TYPE\n",
       "      );\n",
       "      this.keyboard_manager.register_events(toinsert);\n",
       "      // Render to node\n",
       "      var props = {data: data, metadata: metadata[EXEC_MIME_TYPE]};\n",
       "      render(props, toinsert[toinsert.length - 1]);\n",
       "      element.append(toinsert);\n",
       "      return toinsert\n",
       "    }\n",
       "\n",
       "    /* Handle when an output is cleared or removed */\n",
       "    events.on('clear_output.CodeCell', handleClearOutput);\n",
       "    events.on('delete.Cell', handleClearOutput);\n",
       "\n",
       "    /* Handle when a new output is added */\n",
       "    events.on('output_added.OutputArea', handleAddOutput);\n",
       "\n",
       "    /**\n",
       "     * Register the mime type and append_mime function with output_area\n",
       "     */\n",
       "    OutputArea.prototype.register_mime_type(EXEC_MIME_TYPE, append_mime, {\n",
       "      /* Is output safe? */\n",
       "      safe: true,\n",
       "      /* Index of renderer in `output_area.display_order` */\n",
       "      index: 0\n",
       "    });\n",
       "  }\n",
       "\n",
       "  // register the mime type if in Jupyter Notebook environment and previously unregistered\n",
       "  if (root.Jupyter !== undefined) {\n",
       "    var events = require('base/js/events');\n",
       "    var OutputArea = require('notebook/js/outputarea').OutputArea;\n",
       "\n",
       "    if (OutputArea.prototype.mime_types().indexOf(EXEC_MIME_TYPE) == -1) {\n",
       "      register_renderer(events, OutputArea);\n",
       "    }\n",
       "  }\n",
       "\n",
       "  \n",
       "  if (typeof (root._bokeh_timeout) === \"undefined\" || force === true) {\n",
       "    root._bokeh_timeout = Date.now() + 5000;\n",
       "    root._bokeh_failed_load = false;\n",
       "  }\n",
       "\n",
       "  var NB_LOAD_WARNING = {'data': {'text/html':\n",
       "     \"<div style='background-color: #fdd'>\\n\"+\n",
       "     \"<p>\\n\"+\n",
       "     \"BokehJS does not appear to have successfully loaded. If loading BokehJS from CDN, this \\n\"+\n",
       "     \"may be due to a slow or bad network connection. Possible fixes:\\n\"+\n",
       "     \"</p>\\n\"+\n",
       "     \"<ul>\\n\"+\n",
       "     \"<li>re-rerun `output_notebook()` to attempt to load from CDN again, or</li>\\n\"+\n",
       "     \"<li>use INLINE resources instead, as so:</li>\\n\"+\n",
       "     \"</ul>\\n\"+\n",
       "     \"<code>\\n\"+\n",
       "     \"from bokeh.resources import INLINE\\n\"+\n",
       "     \"output_notebook(resources=INLINE)\\n\"+\n",
       "     \"</code>\\n\"+\n",
       "     \"</div>\"}};\n",
       "\n",
       "  function display_loaded() {\n",
       "    var el = document.getElementById(null);\n",
       "    if (el != null) {\n",
       "      el.textContent = \"BokehJS is loading...\";\n",
       "    }\n",
       "    if (root.Bokeh !== undefined) {\n",
       "      if (el != null) {\n",
       "        el.textContent = \"BokehJS \" + root.Bokeh.version + \" successfully loaded.\";\n",
       "      }\n",
       "    } else if (Date.now() < root._bokeh_timeout) {\n",
       "      setTimeout(display_loaded, 100)\n",
       "    }\n",
       "  }\n",
       "\n",
       "\n",
       "  function run_callbacks() {\n",
       "    try {\n",
       "      root._bokeh_onload_callbacks.forEach(function(callback) {\n",
       "        if (callback != null)\n",
       "          callback();\n",
       "      });\n",
       "    } finally {\n",
       "      delete root._bokeh_onload_callbacks\n",
       "    }\n",
       "    console.debug(\"Bokeh: all callbacks have finished\");\n",
       "  }\n",
       "\n",
       "  function load_libs(css_urls, js_urls, callback) {\n",
       "    if (css_urls == null) css_urls = [];\n",
       "    if (js_urls == null) js_urls = [];\n",
       "\n",
       "    root._bokeh_onload_callbacks.push(callback);\n",
       "    if (root._bokeh_is_loading > 0) {\n",
       "      console.debug(\"Bokeh: BokehJS is being loaded, scheduling callback at\", now());\n",
       "      return null;\n",
       "    }\n",
       "    if (js_urls == null || js_urls.length === 0) {\n",
       "      run_callbacks();\n",
       "      return null;\n",
       "    }\n",
       "    console.debug(\"Bokeh: BokehJS not loaded, scheduling load and callback at\", now());\n",
       "    root._bokeh_is_loading = css_urls.length + js_urls.length;\n",
       "\n",
       "    function on_load() {\n",
       "      root._bokeh_is_loading--;\n",
       "      if (root._bokeh_is_loading === 0) {\n",
       "        console.debug(\"Bokeh: all BokehJS libraries/stylesheets loaded\");\n",
       "        run_callbacks()\n",
       "      }\n",
       "    }\n",
       "\n",
       "    function on_error() {\n",
       "      console.error(\"failed to load \" + url);\n",
       "    }\n",
       "\n",
       "    for (var i = 0; i < css_urls.length; i++) {\n",
       "      var url = css_urls[i];\n",
       "      const element = document.createElement(\"link\");\n",
       "      element.onload = on_load;\n",
       "      element.onerror = on_error;\n",
       "      element.rel = \"stylesheet\";\n",
       "      element.type = \"text/css\";\n",
       "      element.href = url;\n",
       "      console.debug(\"Bokeh: injecting link tag for BokehJS stylesheet: \", url);\n",
       "      document.body.appendChild(element);\n",
       "    }\n",
       "\n",
       "    const hashes = {\"https://cdn.bokeh.org/bokeh/release/bokeh-2.0.1.min.js\": \"JpP8FXbgAZLkfur7LiK3j9AGBhHNIvF742meBJrjO2ShJDhCG2I1uVvW+0DUtrmc\", \"https://cdn.bokeh.org/bokeh/release/bokeh-widgets-2.0.1.min.js\": \"xZlADit0Q04ISQEdKg2k3L4W9AwQBAuDs9nJL9fM/WwzL1tEU9VPNezOFX0nLEAz\", \"https://cdn.bokeh.org/bokeh/release/bokeh-tables-2.0.1.min.js\": \"4BuPRZkdMKSnj3zoxiNrQ86XgNw0rYmBOxe7nshquXwwcauupgBF2DHLVG1WuZlV\", \"https://cdn.bokeh.org/bokeh/release/bokeh-gl-2.0.1.min.js\": \"Dv1SQ87hmDqK6S5OhBf0bCuwAEvL5QYL0PuR/F1SPVhCS/r/abjkbpKDYL2zeM19\"};\n",
       "\n",
       "    for (var i = 0; i < js_urls.length; i++) {\n",
       "      var url = js_urls[i];\n",
       "      var element = document.createElement('script');\n",
       "      element.onload = on_load;\n",
       "      element.onerror = on_error;\n",
       "      element.async = false;\n",
       "      element.src = url;\n",
       "      if (url in hashes) {\n",
       "        element.crossOrigin = \"anonymous\";\n",
       "        element.integrity = \"sha384-\" + hashes[url];\n",
       "      }\n",
       "      console.debug(\"Bokeh: injecting script tag for BokehJS library: \", url);\n",
       "      document.head.appendChild(element);\n",
       "    }\n",
       "  };\n",
       "\n",
       "  function inject_raw_css(css) {\n",
       "    const element = document.createElement(\"style\");\n",
       "    element.appendChild(document.createTextNode(css));\n",
       "    document.body.appendChild(element);\n",
       "  }\n",
       "\n",
       "  \n",
       "  var js_urls = [\"https://cdn.bokeh.org/bokeh/release/bokeh-2.0.1.min.js\", \"https://cdn.bokeh.org/bokeh/release/bokeh-widgets-2.0.1.min.js\", \"https://cdn.bokeh.org/bokeh/release/bokeh-tables-2.0.1.min.js\", \"https://cdn.bokeh.org/bokeh/release/bokeh-gl-2.0.1.min.js\"];\n",
       "  var css_urls = [];\n",
       "  \n",
       "\n",
       "  var inline_js = [\n",
       "    function(Bokeh) {\n",
       "      Bokeh.set_log_level(\"info\");\n",
       "    },\n",
       "    function(Bokeh) {\n",
       "    \n",
       "    \n",
       "    }\n",
       "  ];\n",
       "\n",
       "  function run_inline_js() {\n",
       "    \n",
       "    if (root.Bokeh !== undefined || force === true) {\n",
       "      \n",
       "    for (var i = 0; i < inline_js.length; i++) {\n",
       "      inline_js[i].call(root, root.Bokeh);\n",
       "    }\n",
       "    } else if (Date.now() < root._bokeh_timeout) {\n",
       "      setTimeout(run_inline_js, 100);\n",
       "    } else if (!root._bokeh_failed_load) {\n",
       "      console.log(\"Bokeh: BokehJS failed to load within specified timeout.\");\n",
       "      root._bokeh_failed_load = true;\n",
       "    } else if (force !== true) {\n",
       "      var cell = $(document.getElementById(null)).parents('.cell').data().cell;\n",
       "      cell.output_area.append_execute_result(NB_LOAD_WARNING)\n",
       "    }\n",
       "\n",
       "  }\n",
       "\n",
       "  if (root._bokeh_is_loading === 0) {\n",
       "    console.debug(\"Bokeh: BokehJS loaded, going straight to plotting\");\n",
       "    run_inline_js();\n",
       "  } else {\n",
       "    load_libs(css_urls, js_urls, function() {\n",
       "      console.debug(\"Bokeh: BokehJS plotting callback run at\", now());\n",
       "      run_inline_js();\n",
       "    });\n",
       "  }\n",
       "}(window));"
      ],
      "application/vnd.bokehjs_load.v0+json": "\n(function(root) {\n  function now() {\n    return new Date();\n  }\n\n  var force = true;\n\n  if (typeof root._bokeh_onload_callbacks === \"undefined\" || force === true) {\n    root._bokeh_onload_callbacks = [];\n    root._bokeh_is_loading = undefined;\n  }\n\n  \n\n  \n  if (typeof (root._bokeh_timeout) === \"undefined\" || force === true) {\n    root._bokeh_timeout = Date.now() + 5000;\n    root._bokeh_failed_load = false;\n  }\n\n  var NB_LOAD_WARNING = {'data': {'text/html':\n     \"<div style='background-color: #fdd'>\\n\"+\n     \"<p>\\n\"+\n     \"BokehJS does not appear to have successfully loaded. If loading BokehJS from CDN, this \\n\"+\n     \"may be due to a slow or bad network connection. Possible fixes:\\n\"+\n     \"</p>\\n\"+\n     \"<ul>\\n\"+\n     \"<li>re-rerun `output_notebook()` to attempt to load from CDN again, or</li>\\n\"+\n     \"<li>use INLINE resources instead, as so:</li>\\n\"+\n     \"</ul>\\n\"+\n     \"<code>\\n\"+\n     \"from bokeh.resources import INLINE\\n\"+\n     \"output_notebook(resources=INLINE)\\n\"+\n     \"</code>\\n\"+\n     \"</div>\"}};\n\n  function display_loaded() {\n    var el = document.getElementById(null);\n    if (el != null) {\n      el.textContent = \"BokehJS is loading...\";\n    }\n    if (root.Bokeh !== undefined) {\n      if (el != null) {\n        el.textContent = \"BokehJS \" + root.Bokeh.version + \" successfully loaded.\";\n      }\n    } else if (Date.now() < root._bokeh_timeout) {\n      setTimeout(display_loaded, 100)\n    }\n  }\n\n\n  function run_callbacks() {\n    try {\n      root._bokeh_onload_callbacks.forEach(function(callback) {\n        if (callback != null)\n          callback();\n      });\n    } finally {\n      delete root._bokeh_onload_callbacks\n    }\n    console.debug(\"Bokeh: all callbacks have finished\");\n  }\n\n  function load_libs(css_urls, js_urls, callback) {\n    if (css_urls == null) css_urls = [];\n    if (js_urls == null) js_urls = [];\n\n    root._bokeh_onload_callbacks.push(callback);\n    if (root._bokeh_is_loading > 0) {\n      console.debug(\"Bokeh: BokehJS is being loaded, scheduling callback at\", now());\n      return null;\n    }\n    if (js_urls == null || js_urls.length === 0) {\n      run_callbacks();\n      return null;\n    }\n    console.debug(\"Bokeh: BokehJS not loaded, scheduling load and callback at\", now());\n    root._bokeh_is_loading = css_urls.length + js_urls.length;\n\n    function on_load() {\n      root._bokeh_is_loading--;\n      if (root._bokeh_is_loading === 0) {\n        console.debug(\"Bokeh: all BokehJS libraries/stylesheets loaded\");\n        run_callbacks()\n      }\n    }\n\n    function on_error() {\n      console.error(\"failed to load \" + url);\n    }\n\n    for (var i = 0; i < css_urls.length; i++) {\n      var url = css_urls[i];\n      const element = document.createElement(\"link\");\n      element.onload = on_load;\n      element.onerror = on_error;\n      element.rel = \"stylesheet\";\n      element.type = \"text/css\";\n      element.href = url;\n      console.debug(\"Bokeh: injecting link tag for BokehJS stylesheet: \", url);\n      document.body.appendChild(element);\n    }\n\n    const hashes = {\"https://cdn.bokeh.org/bokeh/release/bokeh-2.0.1.min.js\": \"JpP8FXbgAZLkfur7LiK3j9AGBhHNIvF742meBJrjO2ShJDhCG2I1uVvW+0DUtrmc\", \"https://cdn.bokeh.org/bokeh/release/bokeh-widgets-2.0.1.min.js\": \"xZlADit0Q04ISQEdKg2k3L4W9AwQBAuDs9nJL9fM/WwzL1tEU9VPNezOFX0nLEAz\", \"https://cdn.bokeh.org/bokeh/release/bokeh-tables-2.0.1.min.js\": \"4BuPRZkdMKSnj3zoxiNrQ86XgNw0rYmBOxe7nshquXwwcauupgBF2DHLVG1WuZlV\", \"https://cdn.bokeh.org/bokeh/release/bokeh-gl-2.0.1.min.js\": \"Dv1SQ87hmDqK6S5OhBf0bCuwAEvL5QYL0PuR/F1SPVhCS/r/abjkbpKDYL2zeM19\"};\n\n    for (var i = 0; i < js_urls.length; i++) {\n      var url = js_urls[i];\n      var element = document.createElement('script');\n      element.onload = on_load;\n      element.onerror = on_error;\n      element.async = false;\n      element.src = url;\n      if (url in hashes) {\n        element.crossOrigin = \"anonymous\";\n        element.integrity = \"sha384-\" + hashes[url];\n      }\n      console.debug(\"Bokeh: injecting script tag for BokehJS library: \", url);\n      document.head.appendChild(element);\n    }\n  };\n\n  function inject_raw_css(css) {\n    const element = document.createElement(\"style\");\n    element.appendChild(document.createTextNode(css));\n    document.body.appendChild(element);\n  }\n\n  \n  var js_urls = [\"https://cdn.bokeh.org/bokeh/release/bokeh-2.0.1.min.js\", \"https://cdn.bokeh.org/bokeh/release/bokeh-widgets-2.0.1.min.js\", \"https://cdn.bokeh.org/bokeh/release/bokeh-tables-2.0.1.min.js\", \"https://cdn.bokeh.org/bokeh/release/bokeh-gl-2.0.1.min.js\"];\n  var css_urls = [];\n  \n\n  var inline_js = [\n    function(Bokeh) {\n      Bokeh.set_log_level(\"info\");\n    },\n    function(Bokeh) {\n    \n    \n    }\n  ];\n\n  function run_inline_js() {\n    \n    if (root.Bokeh !== undefined || force === true) {\n      \n    for (var i = 0; i < inline_js.length; i++) {\n      inline_js[i].call(root, root.Bokeh);\n    }\n    } else if (Date.now() < root._bokeh_timeout) {\n      setTimeout(run_inline_js, 100);\n    } else if (!root._bokeh_failed_load) {\n      console.log(\"Bokeh: BokehJS failed to load within specified timeout.\");\n      root._bokeh_failed_load = true;\n    } else if (force !== true) {\n      var cell = $(document.getElementById(null)).parents('.cell').data().cell;\n      cell.output_area.append_execute_result(NB_LOAD_WARNING)\n    }\n\n  }\n\n  if (root._bokeh_is_loading === 0) {\n    console.debug(\"Bokeh: BokehJS loaded, going straight to plotting\");\n    run_inline_js();\n  } else {\n    load_libs(css_urls, js_urls, function() {\n      console.debug(\"Bokeh: BokehJS plotting callback run at\", now());\n      run_inline_js();\n    });\n  }\n}(window));"
     },
     "metadata": {},
     "output_type": "display_data"
    }
   ],
   "source": [
    "import cameo\n",
    "import pandas as pd\n",
    "import cobra.io\n",
    "import escher\n",
    "from escher import Builder\n",
    "from cobra import Metabolite, Reaction"
   ]
  },
  {
   "cell_type": "code",
   "execution_count": 46,
   "metadata": {},
   "outputs": [],
   "source": [
    "model = cobra.io.read_sbml_model('../model/g-thermo.xml')"
   ]
  },
  {
   "cell_type": "code",
   "execution_count": 4,
   "metadata": {},
   "outputs": [],
   "source": [
    "model_e_coli = cameo.load_model('iML1515')"
   ]
  },
  {
   "cell_type": "code",
   "execution_count": 5,
   "metadata": {},
   "outputs": [],
   "source": [
    "model_b_sub = cameo.load_model('iYO844')"
   ]
  },
  {
   "cell_type": "code",
   "execution_count": 47,
   "metadata": {},
   "outputs": [],
   "source": [
    "#pyridoxal is a unconnected met in the master branch\n",
    "model.remove_metabolites(model.metabolites.pyridoxal_c)"
   ]
  },
  {
   "cell_type": "code",
   "execution_count": 48,
   "metadata": {},
   "outputs": [],
   "source": [
    "#butanoate: add transport out of the cell\n",
    "model.reactions.BUTPT.id = 'BUTKr'"
   ]
  },
  {
   "cell_type": "code",
   "execution_count": 49,
   "metadata": {},
   "outputs": [],
   "source": [
    "model.reactions.BUTKr.bounds = (-1000,1000)"
   ]
  },
  {
   "cell_type": "code",
   "execution_count": 50,
   "metadata": {},
   "outputs": [],
   "source": [
    "#wrong direction\n",
    "model.reactions.ACOAD1f.bounds = (-1000,0)"
   ]
  },
  {
   "cell_type": "code",
   "execution_count": 51,
   "metadata": {},
   "outputs": [],
   "source": [
    "model.reactions.ACACT2.bounds = (-1000,1000)"
   ]
  },
  {
   "cell_type": "code",
   "execution_count": 52,
   "metadata": {},
   "outputs": [],
   "source": [
    "model.reactions.BTCOAOR.bounds = (-1000,1000)"
   ]
  },
  {
   "cell_type": "code",
   "execution_count": 53,
   "metadata": {},
   "outputs": [],
   "source": [
    "#add  transport & exchange of but_c as proton symport\n",
    "model.add_reaction(Reaction(id='BUTt', name = 'Transport of butanoate'))"
   ]
  },
  {
   "cell_type": "code",
   "execution_count": 54,
   "metadata": {},
   "outputs": [],
   "source": [
    "model.reactions.BUTt.annotation['sbo'] = 'SBO:0000185'\n",
    "model.reactions.BUTt.annotation['metanetx.reaction'] = 'MNXR96353'\n",
    "model.reactions.BUTt.bounds = (-1000,1000)"
   ]
  },
  {
   "cell_type": "code",
   "execution_count": 55,
   "metadata": {},
   "outputs": [],
   "source": [
    "model.groups.get_by_id('02000 - Passive transport').add_members(model.reactions.BUTt)"
   ]
  },
  {
   "cell_type": "code",
   "execution_count": 56,
   "metadata": {},
   "outputs": [],
   "source": [
    "#add but_e met\n",
    "model.add_metabolites(Metabolite(id='but_e',name = 'Butanoate', charge = 0, compartment = 'e'))"
   ]
  },
  {
   "cell_type": "code",
   "execution_count": 63,
   "metadata": {},
   "outputs": [],
   "source": [
    "model.metabolites.but_e.formula = 'C4H8O2'\n",
    "model.metabolites.but_e.annotation = model.metabolites.but_c.annotation"
   ]
  },
  {
   "cell_type": "code",
   "execution_count": 58,
   "metadata": {},
   "outputs": [],
   "source": [
    "model.reactions.BUTt.add_metabolites({\n",
    "    model.metabolites.but_e:-1,\n",
    "    model.metabolites.but_c:1,\n",
    "    model.metabolites.h_e: -1,\n",
    "    model.metabolites.h_c:1\n",
    "})"
   ]
  },
  {
   "cell_type": "code",
   "execution_count": 59,
   "metadata": {
    "scrolled": true
   },
   "outputs": [
    {
     "data": {
      "text/html": [
       "\n",
       "        <table>\n",
       "            <tr>\n",
       "                <td><strong>Reaction identifier</strong></td><td>EX_but_e</td>\n",
       "            </tr><tr>\n",
       "                <td><strong>Name</strong></td><td>Butanoate exchange</td>\n",
       "            </tr><tr>\n",
       "                <td><strong>Memory address</strong></td>\n",
       "                <td>0x0202c67150c8</td>\n",
       "            </tr><tr>\n",
       "                <td><strong>Stoichiometry</strong></td>\n",
       "                <td>\n",
       "                    <p style='text-align:right'>but_e --> </p>\n",
       "                    <p style='text-align:right'>Butanoate --> </p>\n",
       "                </td>\n",
       "            </tr><tr>\n",
       "                <td><strong>GPR</strong></td><td></td>\n",
       "            </tr><tr>\n",
       "                <td><strong>Lower bound</strong></td><td>0</td>\n",
       "            </tr><tr>\n",
       "                <td><strong>Upper bound</strong></td><td>1000</td>\n",
       "            </tr>\n",
       "        </table>\n",
       "        "
      ],
      "text/plain": [
       "<Reaction EX_but_e at 0x202c67150c8>"
      ]
     },
     "execution_count": 59,
     "metadata": {},
     "output_type": "execute_result"
    }
   ],
   "source": [
    "#add exchange\n",
    "model.add_boundary(model.metabolites.but_e,type = 'exchange', reaction_id = 'EX_but_e', lb = 0, ub = 1000, sbo_term = 'SBO:0000627')"
   ]
  },
  {
   "cell_type": "code",
   "execution_count": 60,
   "metadata": {},
   "outputs": [],
   "source": [
    "model.groups.get_by_id('00000 - Exchange reactions').add_members(model.reactions.EX_but_e)"
   ]
  },
  {
   "cell_type": "code",
   "execution_count": 64,
   "metadata": {},
   "outputs": [],
   "source": [
    "#save&commit\n",
    "cobra.io.write_sbml_model(model,'../model/g-thermo.xml')"
   ]
  },
  {
   "cell_type": "markdown",
   "metadata": {},
   "source": [
    "__Cyanide metabolism__\n",
    "Various bacilli have been shown to be able to biodegrade cyanide in the environment. Our organism also has quite some of these genes annotated. However, there is no cyanide uptake and the thiocyanate produced cannot be further converted in the current model.  It is unclear if this is really present in our specific strain, so this is a knowlede gap. Also it is not really important in general metabolism as long as cyanide is not supplied, and so this will be left as it is. "
   ]
  },
  {
   "cell_type": "code",
   "execution_count": 35,
   "metadata": {},
   "outputs": [],
   "source": [
    "#MERCPPYROR in the wrong direction\n",
    "model.reactions.MERCPPYROR.bounds = (-1000,0)"
   ]
  },
  {
   "cell_type": "markdown",
   "metadata": {},
   "source": [
    "mercplac is the end product of a pathway. As we don't expect it to be used in biomass it should be transported out\n"
   ]
  },
  {
   "cell_type": "code",
   "execution_count": 36,
   "metadata": {},
   "outputs": [],
   "source": [
    "#add mercplac_e met\n",
    "model.add_metabolites(Metabolite(id='mercplac_e',name = '3-Mercaptolactate', charge = 0, compartment = 'e'))"
   ]
  },
  {
   "cell_type": "code",
   "execution_count": 37,
   "metadata": {},
   "outputs": [],
   "source": [
    "model.metabolites.mercplac_e.formula = 'C3H6O3S'\n",
    "model.metabolites.mercplac_e.annotation = model.metabolites.mercplac_c.annotation"
   ]
  },
  {
   "cell_type": "code",
   "execution_count": 38,
   "metadata": {},
   "outputs": [],
   "source": [
    "#add  transport & exchange of mercplac_e as proton symport (similar to normal lactate transport)\n",
    "model.add_reaction(Reaction(id='MERCPLACt', name = 'Transport of 3-Mercaptolactate'))"
   ]
  },
  {
   "cell_type": "code",
   "execution_count": 39,
   "metadata": {},
   "outputs": [],
   "source": [
    "model.reactions.MERCPLACt.annotation['sbo'] = 'SBO:0000185'\n",
    "model.reactions.MERCPLACt.bounds = (-1000,1000)"
   ]
  },
  {
   "cell_type": "code",
   "execution_count": 40,
   "metadata": {},
   "outputs": [],
   "source": [
    "model.groups.get_by_id('02000 - Passive transport').add_members(model.reactions.MERCPLACt)"
   ]
  },
  {
   "cell_type": "code",
   "execution_count": 41,
   "metadata": {},
   "outputs": [],
   "source": [
    "model.reactions.MERCPLACt.add_metabolites({\n",
    "    model.metabolites.mercplac_c:1,\n",
    "    model.metabolites.mercplac_e:-1,\n",
    "    model.metabolites.h_c: 1,\n",
    "    model.metabolites.h_e:-1\n",
    "})"
   ]
  },
  {
   "cell_type": "code",
   "execution_count": 42,
   "metadata": {},
   "outputs": [
    {
     "data": {
      "text/html": [
       "\n",
       "        <table>\n",
       "            <tr>\n",
       "                <td><strong>Reaction identifier</strong></td><td>EX_mercplac_e</td>\n",
       "            </tr><tr>\n",
       "                <td><strong>Name</strong></td><td>3-Mercaptolactate exchange</td>\n",
       "            </tr><tr>\n",
       "                <td><strong>Memory address</strong></td>\n",
       "                <td>0x0202c59a5cc8</td>\n",
       "            </tr><tr>\n",
       "                <td><strong>Stoichiometry</strong></td>\n",
       "                <td>\n",
       "                    <p style='text-align:right'>mercplac_e --> </p>\n",
       "                    <p style='text-align:right'>3-Mercaptolactate --> </p>\n",
       "                </td>\n",
       "            </tr><tr>\n",
       "                <td><strong>GPR</strong></td><td></td>\n",
       "            </tr><tr>\n",
       "                <td><strong>Lower bound</strong></td><td>0</td>\n",
       "            </tr><tr>\n",
       "                <td><strong>Upper bound</strong></td><td>1000</td>\n",
       "            </tr>\n",
       "        </table>\n",
       "        "
      ],
      "text/plain": [
       "<Reaction EX_mercplac_e at 0x202c59a5cc8>"
      ]
     },
     "execution_count": 42,
     "metadata": {},
     "output_type": "execute_result"
    }
   ],
   "source": [
    "#add exchange\n",
    "model.add_boundary(model.metabolites.mercplac_e,type = 'exchange', reaction_id = 'EX_mercplac_e', lb = 0, ub = 1000, sbo_term = 'SBO:0000627')"
   ]
  },
  {
   "cell_type": "code",
   "execution_count": 43,
   "metadata": {},
   "outputs": [],
   "source": [
    "model.groups.get_by_id('00000 - Exchange reactions').add_members(model.reactions.EX_mercplac_e)"
   ]
  },
  {
   "cell_type": "code",
   "execution_count": 45,
   "metadata": {},
   "outputs": [],
   "source": [
    "#save&commit\n",
    "cobra.io.write_sbml_model(model,'../model/g-thermo.xml')"
   ]
  },
  {
   "cell_type": "markdown",
   "metadata": {},
   "source": [
    "acmum: this is a kind of modified sugar that can be taken up by our strain via PTA (has the PTS transporter annotated). Therefore, to captivate this, I will remove the ACMUMPT reaction and add a transport reaction. To do so I will need to make acmum extracellular and also add the exchange that would allow one to supply it to the medium if necessary."
   ]
  },
  {
   "cell_type": "code",
   "execution_count": 65,
   "metadata": {},
   "outputs": [],
   "source": [
    "model = cobra.io.read_sbml_model('../model/g-thermo.xml')"
   ]
  },
  {
   "cell_type": "code",
   "execution_count": 66,
   "metadata": {},
   "outputs": [],
   "source": [
    "model.metabolites.acmum_c.id = 'acmum_e'"
   ]
  },
  {
   "cell_type": "code",
   "execution_count": 67,
   "metadata": {},
   "outputs": [],
   "source": [
    "model.metabolites.acmum_e.compartment = 'e'"
   ]
  },
  {
   "cell_type": "code",
   "execution_count": 68,
   "metadata": {},
   "outputs": [
    {
     "name": "stderr",
     "output_type": "stream",
     "text": [
      "C:\\Users\\vivmol\\AppData\\Local\\Continuum\\anaconda3\\envs\\g-thermo\\lib\\site-packages\\cobra\\core\\model.py:716: UserWarning:\n",
      "\n",
      "need to pass in a list\n",
      "\n",
      "C:\\Users\\vivmol\\AppData\\Local\\Continuum\\anaconda3\\envs\\g-thermo\\lib\\site-packages\\cobra\\core\\group.py:110: UserWarning:\n",
      "\n",
      "need to pass in a list\n",
      "\n"
     ]
    }
   ],
   "source": [
    "model.remove_reactions(model.reactions.ACMUMPT)"
   ]
  },
  {
   "cell_type": "code",
   "execution_count": 69,
   "metadata": {},
   "outputs": [],
   "source": [
    "model.add_reaction(Reaction(id='ACMUMtpts', name = 'Tansport of acmum via PTS'))"
   ]
  },
  {
   "cell_type": "code",
   "execution_count": 70,
   "metadata": {},
   "outputs": [
    {
     "name": "stderr",
     "output_type": "stream",
     "text": [
      "C:\\Users\\vivmol\\AppData\\Local\\Continuum\\anaconda3\\envs\\g-thermo\\lib\\site-packages\\cobra\\core\\group.py:93: UserWarning:\n",
      "\n",
      "need to pass in a list\n",
      "\n"
     ]
    }
   ],
   "source": [
    "model.groups.get_by_id('02060 - Phosphotransferase system (PTS)').add_members(model.reactions.ACMUMtpts)"
   ]
  },
  {
   "cell_type": "code",
   "execution_count": 71,
   "metadata": {},
   "outputs": [],
   "source": [
    "model.reactions.ACMUMtpts.annotation['sbo'] = 'SBO:0000655'"
   ]
  },
  {
   "cell_type": "code",
   "execution_count": 72,
   "metadata": {},
   "outputs": [],
   "source": [
    "model.reactions.ACMUMtpts.add_metabolites({\n",
    "    model.metabolites.acmum_e:-1,\n",
    "    model.metabolites.acmum6p_c:1,\n",
    "    model.metabolites.pep_c:-1,\n",
    "    model.metabolites.pyr_c:1,\n",
    "    model.metabolites.h_c: 1\n",
    "})"
   ]
  },
  {
   "cell_type": "code",
   "execution_count": 73,
   "metadata": {},
   "outputs": [
    {
     "data": {
      "text/html": [
       "\n",
       "        <table>\n",
       "            <tr>\n",
       "                <td><strong>Reaction identifier</strong></td><td>EX_acmum_e</td>\n",
       "            </tr><tr>\n",
       "                <td><strong>Name</strong></td><td>N-Acetylmuramate exchange</td>\n",
       "            </tr><tr>\n",
       "                <td><strong>Memory address</strong></td>\n",
       "                <td>0x0202ced59288</td>\n",
       "            </tr><tr>\n",
       "                <td><strong>Stoichiometry</strong></td>\n",
       "                <td>\n",
       "                    <p style='text-align:right'>acmum_e --> </p>\n",
       "                    <p style='text-align:right'>N-Acetylmuramate --> </p>\n",
       "                </td>\n",
       "            </tr><tr>\n",
       "                <td><strong>GPR</strong></td><td></td>\n",
       "            </tr><tr>\n",
       "                <td><strong>Lower bound</strong></td><td>0</td>\n",
       "            </tr><tr>\n",
       "                <td><strong>Upper bound</strong></td><td>1000</td>\n",
       "            </tr>\n",
       "        </table>\n",
       "        "
      ],
      "text/plain": [
       "<Reaction EX_acmum_e at 0x202ced59288>"
      ]
     },
     "execution_count": 73,
     "metadata": {},
     "output_type": "execute_result"
    }
   ],
   "source": [
    "#add exchange\n",
    "model.add_boundary(model.metabolites.acmum_e,type = 'exchange', reaction_id = 'EX_acmum_e', lb = 0, ub = 1000, sbo_term = 'SBO:0000627')"
   ]
  },
  {
   "cell_type": "code",
   "execution_count": 74,
   "metadata": {},
   "outputs": [],
   "source": [
    "model.groups.get_by_id('00000 - Exchange reactions').add_members(model.reactions.EX_acmum_e)"
   ]
  },
  {
   "cell_type": "code",
   "execution_count": 75,
   "metadata": {},
   "outputs": [],
   "source": [
    "#save&commit\n",
    "cobra.io.write_sbml_model(model,'../model/g-thermo.xml')"
   ]
  },
  {
   "cell_type": "markdown",
   "metadata": {},
   "source": [
    "Cellulose: need to add cellulose exchange rct, as this prevents allowing modification to grow the model on cellulose. I will put it in one direction for now, so that it is not incorporated into the default medium.\n",
    "\n",
    "Also, i will modify the BGLUCH and CELLOHYDRO reactions to take place outside of the cell. Then the monomers that are formed are taken up according to the system they already had present. \n",
    "For this I need to modify the cellulose metabolite to be extracellular."
   ]
  },
  {
   "cell_type": "code",
   "execution_count": 76,
   "metadata": {},
   "outputs": [],
   "source": [
    "model.metabolites.cellulose_c.id = 'cellulose_e'"
   ]
  },
  {
   "cell_type": "code",
   "execution_count": 77,
   "metadata": {},
   "outputs": [],
   "source": [
    "model.metabolites.cellulose_e.compartment = 'e'"
   ]
  },
  {
   "cell_type": "code",
   "execution_count": 78,
   "metadata": {},
   "outputs": [],
   "source": [
    "model.reactions.BGLUCH.add_metabolites({\n",
    "    model.metabolites.h2o_c:2,\n",
    "    model.metabolites.glc__D_c: -2,\n",
    "    model.metabolites.h2o_e:-2,\n",
    "    model.metabolites.glc__D_e:2\n",
    "})"
   ]
  },
  {
   "cell_type": "code",
   "execution_count": 79,
   "metadata": {},
   "outputs": [],
   "source": [
    "model.reactions.CELLOHYDRO.add_metabolites({\n",
    "    model.metabolites.h2o_c:1,\n",
    "    model.metabolites.cellb_c:-1,\n",
    "    model.metabolites.h2o_e:-1,\n",
    "    model.metabolites.cellb_e:1\n",
    "})"
   ]
  },
  {
   "cell_type": "code",
   "execution_count": 80,
   "metadata": {},
   "outputs": [
    {
     "data": {
      "text/html": [
       "\n",
       "        <table>\n",
       "            <tr>\n",
       "                <td><strong>Reaction identifier</strong></td><td>EX_cellulose_e</td>\n",
       "            </tr><tr>\n",
       "                <td><strong>Name</strong></td><td>cellulose exchange</td>\n",
       "            </tr><tr>\n",
       "                <td><strong>Memory address</strong></td>\n",
       "                <td>0x0202ce9dc248</td>\n",
       "            </tr><tr>\n",
       "                <td><strong>Stoichiometry</strong></td>\n",
       "                <td>\n",
       "                    <p style='text-align:right'>cellulose_e --> </p>\n",
       "                    <p style='text-align:right'>cellulose --> </p>\n",
       "                </td>\n",
       "            </tr><tr>\n",
       "                <td><strong>GPR</strong></td><td></td>\n",
       "            </tr><tr>\n",
       "                <td><strong>Lower bound</strong></td><td>0</td>\n",
       "            </tr><tr>\n",
       "                <td><strong>Upper bound</strong></td><td>1000</td>\n",
       "            </tr>\n",
       "        </table>\n",
       "        "
      ],
      "text/plain": [
       "<Reaction EX_cellulose_e at 0x202ce9dc248>"
      ]
     },
     "execution_count": 80,
     "metadata": {},
     "output_type": "execute_result"
    }
   ],
   "source": [
    "#add exchange\n",
    "model.add_boundary(model.metabolites.cellulose_e,type = 'exchange', reaction_id = 'EX_cellulose_e', lb = 0, ub = 1000, sbo_term = 'SBO:0000627')"
   ]
  },
  {
   "cell_type": "code",
   "execution_count": 81,
   "metadata": {},
   "outputs": [],
   "source": [
    "model.groups.get_by_id('00000 - Exchange reactions').add_members(model.reactions.EX_cellulose_e)"
   ]
  },
  {
   "cell_type": "code",
   "execution_count": 82,
   "metadata": {},
   "outputs": [],
   "source": [
    "#save&commit\n",
    "cobra.io.write_sbml_model(model,'../model/g-thermo.xml')"
   ]
  },
  {
   "cell_type": "markdown",
   "metadata": {},
   "source": [
    "Selenite (slnt_c): this can be made from selenate, as the protein for that conversion seems to be present, after doing a Blast. Selenate, if used, is taken up from the environment. So here I will add transport and exchange again."
   ]
  },
  {
   "cell_type": "code",
   "execution_count": 83,
   "metadata": {},
   "outputs": [],
   "source": [
    "#add selenate in both _c and _e\n",
    "model.add_metabolites(Metabolite(id='sel_c', name = 'Selenate', compartment = 'c'))"
   ]
  },
  {
   "cell_type": "code",
   "execution_count": 84,
   "metadata": {},
   "outputs": [],
   "source": [
    "model.metabolites.sel_c.charge = -2\n",
    "model.metabolites.sel_c.formula = 'O4Se'\n",
    "model.metabolites.sel_c.annotation = model_e_coli.metabolites.sel_c.annotation"
   ]
  },
  {
   "cell_type": "code",
   "execution_count": 85,
   "metadata": {},
   "outputs": [],
   "source": [
    "model.add_metabolites(Metabolite(id='sel_e', name = 'Selenate', compartment = 'e'))"
   ]
  },
  {
   "cell_type": "code",
   "execution_count": 86,
   "metadata": {},
   "outputs": [],
   "source": [
    "model.metabolites.sel_e.charge = -2\n",
    "model.metabolites.sel_e.formula = 'O4Se'\n",
    "model.metabolites.sel_e.annotation = model_e_coli.metabolites.sel_e.annotation"
   ]
  },
  {
   "cell_type": "code",
   "execution_count": 87,
   "metadata": {},
   "outputs": [],
   "source": [
    "#add conversion to selenate\n",
    "model.add_reaction(Reaction(id='SELR', name = 'Selenate reductase'))"
   ]
  },
  {
   "cell_type": "code",
   "execution_count": 88,
   "metadata": {},
   "outputs": [],
   "source": [
    "model.reactions.SELR.annotation = model_e_coli.reactions.SELR.annotation"
   ]
  },
  {
   "cell_type": "code",
   "execution_count": 89,
   "metadata": {},
   "outputs": [],
   "source": [
    "model.reactions.SELR.add_metabolites({\n",
    "    model.metabolites.sel_c: -1,\n",
    "    model.metabolites.qh2_c:-1, \n",
    "    model.metabolites.h2o_c: 1,\n",
    "    model.metabolites.slnt_c: 1,\n",
    "    model.metabolites.ubiquin_c:1\n",
    "})"
   ]
  },
  {
   "cell_type": "code",
   "execution_count": 90,
   "metadata": {},
   "outputs": [],
   "source": [
    "model.metabolites.slnt_c.charge =-2"
   ]
  },
  {
   "cell_type": "code",
   "execution_count": 91,
   "metadata": {},
   "outputs": [],
   "source": [
    "#in most organisms selenate is known to be transported with an ABC permease, and so I will add an atp coupled transporter here. "
   ]
  },
  {
   "cell_type": "code",
   "execution_count": 92,
   "metadata": {},
   "outputs": [],
   "source": [
    "#add sel_c transport\n",
    "model.add_reaction(Reaction(id='SELtabc', name = 'Transport of Selenate via ABC transport'))"
   ]
  },
  {
   "cell_type": "code",
   "execution_count": 93,
   "metadata": {},
   "outputs": [],
   "source": [
    "model.groups.get_by_id('02010 - ABC transporters').add_members(model.reactions.SELtabc)"
   ]
  },
  {
   "cell_type": "code",
   "execution_count": 94,
   "metadata": {},
   "outputs": [],
   "source": [
    "model.reactions.SELtabc.annotation['sbo'] = 'SBO:0000185'"
   ]
  },
  {
   "cell_type": "code",
   "execution_count": 95,
   "metadata": {},
   "outputs": [],
   "source": [
    "model.reactions.SELtabc.add_metabolites({\n",
    "    model.metabolites.sel_e:-1,\n",
    "    model.metabolites.atp_c: -1,\n",
    "    model.metabolites.h2o_c: -1,\n",
    "    model.metabolites.adp_c: 1,\n",
    "    model.metabolites.h_c:1,\n",
    "    model.metabolites.pi_c: 1,\n",
    "    model.metabolites.sel_c:1\n",
    "})"
   ]
  },
  {
   "cell_type": "code",
   "execution_count": 96,
   "metadata": {},
   "outputs": [
    {
     "data": {
      "text/html": [
       "\n",
       "        <table>\n",
       "            <tr>\n",
       "                <td><strong>Reaction identifier</strong></td><td>EX_sel_e</td>\n",
       "            </tr><tr>\n",
       "                <td><strong>Name</strong></td><td>Selenate exchange</td>\n",
       "            </tr><tr>\n",
       "                <td><strong>Memory address</strong></td>\n",
       "                <td>0x0202ce9a4788</td>\n",
       "            </tr><tr>\n",
       "                <td><strong>Stoichiometry</strong></td>\n",
       "                <td>\n",
       "                    <p style='text-align:right'>sel_e --> </p>\n",
       "                    <p style='text-align:right'>Selenate --> </p>\n",
       "                </td>\n",
       "            </tr><tr>\n",
       "                <td><strong>GPR</strong></td><td></td>\n",
       "            </tr><tr>\n",
       "                <td><strong>Lower bound</strong></td><td>0</td>\n",
       "            </tr><tr>\n",
       "                <td><strong>Upper bound</strong></td><td>1000</td>\n",
       "            </tr>\n",
       "        </table>\n",
       "        "
      ],
      "text/plain": [
       "<Reaction EX_sel_e at 0x202ce9a4788>"
      ]
     },
     "execution_count": 96,
     "metadata": {},
     "output_type": "execute_result"
    }
   ],
   "source": [
    "#add exchange\n",
    "model.add_boundary(model.metabolites.sel_e,type = 'exchange', reaction_id = 'EX_sel_e', lb = 0, ub = 1000, sbo_term = 'SBO:0000627')"
   ]
  },
  {
   "cell_type": "code",
   "execution_count": 97,
   "metadata": {},
   "outputs": [],
   "source": [
    "model.groups.get_by_id('00000 - Exchange reactions').add_members(model.reactions.EX_sel_e)"
   ]
  },
  {
   "cell_type": "code",
   "execution_count": 98,
   "metadata": {},
   "outputs": [],
   "source": [
    "#save&commit\n",
    "cobra.io.write_sbml_model(model,'../model/g-thermo.xml')"
   ]
  },
  {
   "cell_type": "markdown",
   "metadata": {},
   "source": [
    "xylu__L_c: some organisms convert L-xylulose into xylitol, with an L-xylulose reductase. But in bacilli this has not been identified yet. So we will leave this part, as it is just a knowledge gap for now."
   ]
  },
  {
   "cell_type": "code",
   "execution_count": 99,
   "metadata": {},
   "outputs": [],
   "source": [
    "#just a wrong ID was spotted\n",
    "model.metabolites.xu1p__D_c.id = 'xu1p__L_c'"
   ]
  },
  {
   "cell_type": "markdown",
   "metadata": {},
   "source": [
    "appl_c: Plays a role in vitamin B12 synthesis. This we will possibly revisit later anyway, so for now I will just leave it.\n",
    "\n",
    "cbi (cobinamide): is also involved in the same pathway as appl_c so  I will leave it for now."
   ]
  },
  {
   "cell_type": "markdown",
   "metadata": {},
   "source": [
    "epm_c: This is epimelibiose, and it can be degraded but not used as a substrate. So here I will add the transport and exchange. It is generally similar to melibiose, so I will add a proton symport transport here too."
   ]
  },
  {
   "cell_type": "code",
   "execution_count": 100,
   "metadata": {},
   "outputs": [],
   "source": [
    "model = cobra.io.read_sbml_model('../model/g-thermo.xml')"
   ]
  },
  {
   "cell_type": "code",
   "execution_count": 101,
   "metadata": {},
   "outputs": [],
   "source": [
    "model.add_metabolites(Metabolite(id='epm_e', name = 'Epimelibiose', compartment = 'e', formula = 'C12H22O11', charge = 0))"
   ]
  },
  {
   "cell_type": "code",
   "execution_count": 102,
   "metadata": {},
   "outputs": [],
   "source": [
    "model.metabolites.epm_e.annotation = model.metabolites.epm_c.annotation"
   ]
  },
  {
   "cell_type": "code",
   "execution_count": 103,
   "metadata": {},
   "outputs": [],
   "source": [
    "model.add_reaction(Reaction(id='EPMt', name ='Transport of Epimellibiose via proton symport'))"
   ]
  },
  {
   "cell_type": "code",
   "execution_count": 104,
   "metadata": {},
   "outputs": [],
   "source": [
    "model.groups.get_by_id('02000 - Passive transport').add_members(model.reactions.EPMt)"
   ]
  },
  {
   "cell_type": "code",
   "execution_count": 105,
   "metadata": {},
   "outputs": [],
   "source": [
    "model.reactions.EPMt.annotation['sbo'] = 'SBO:0000185'\n",
    "model.reactions.EPMt.bounds = (-1000,1000)"
   ]
  },
  {
   "cell_type": "code",
   "execution_count": 106,
   "metadata": {},
   "outputs": [],
   "source": [
    "model.reactions.EPMt.add_metabolites({\n",
    "    model.metabolites.epm_e:-1, \n",
    "    model.metabolites.epm_c: 1,\n",
    "    model.metabolites.h_e:-1,\n",
    "    model.metabolites.h_c:1\n",
    "})"
   ]
  },
  {
   "cell_type": "code",
   "execution_count": 107,
   "metadata": {},
   "outputs": [
    {
     "data": {
      "text/html": [
       "\n",
       "        <table>\n",
       "            <tr>\n",
       "                <td><strong>Reaction identifier</strong></td><td>EX_epm_e</td>\n",
       "            </tr><tr>\n",
       "                <td><strong>Name</strong></td><td>Epimelibiose exchange</td>\n",
       "            </tr><tr>\n",
       "                <td><strong>Memory address</strong></td>\n",
       "                <td>0x0202d0522148</td>\n",
       "            </tr><tr>\n",
       "                <td><strong>Stoichiometry</strong></td>\n",
       "                <td>\n",
       "                    <p style='text-align:right'>epm_e --> </p>\n",
       "                    <p style='text-align:right'>Epimelibiose --> </p>\n",
       "                </td>\n",
       "            </tr><tr>\n",
       "                <td><strong>GPR</strong></td><td></td>\n",
       "            </tr><tr>\n",
       "                <td><strong>Lower bound</strong></td><td>0</td>\n",
       "            </tr><tr>\n",
       "                <td><strong>Upper bound</strong></td><td>1000</td>\n",
       "            </tr>\n",
       "        </table>\n",
       "        "
      ],
      "text/plain": [
       "<Reaction EX_epm_e at 0x202d0522148>"
      ]
     },
     "execution_count": 107,
     "metadata": {},
     "output_type": "execute_result"
    }
   ],
   "source": [
    "#add demand\n",
    "model.add_boundary(model.metabolites.epm_e,type = 'exchange', reaction_id = 'EX_epm_e', lb = 0, ub = 1000, sbo_term = 'SBO:0000627')"
   ]
  },
  {
   "cell_type": "code",
   "execution_count": 108,
   "metadata": {},
   "outputs": [],
   "source": [
    "model.groups.get_by_id('00000 - Exchange reactions').add_members(model.reactions.EX_epm_e)"
   ]
  },
  {
   "cell_type": "code",
   "execution_count": 109,
   "metadata": {},
   "outputs": [],
   "source": [
    "#save&commit\n",
    "cobra.io.write_sbml_model(model,'../model/g-thermo.xml')"
   ]
  },
  {
   "cell_type": "markdown",
   "metadata": {},
   "source": [
    "methylseac_c: This is part of the selenocompound metabolism pathway. Here selenocysteine is converted into selenomethionine and further into methyl-selenol. Methyl-selenic-acid (methylseac_c) can also be converted into methyl-selenol. All of these enzymes are present. \n",
    "\n",
    "So: \n",
    "- I will check that all of the enzymes of this pathway are properly in the model. \n",
    "- Then I will add export and demand of methyl-selenol. \n",
    "- Then also add the import & demand of methylseac, as from a physiological point of view this would be correct."
   ]
  },
  {
   "cell_type": "code",
   "execution_count": 87,
   "metadata": {
    "scrolled": true
   },
   "outputs": [],
   "source": [
    "#hydrolysis so makes sense to be irreversible\n",
    "model.reactions.SELMELY.bounds = (0,1000)"
   ]
  },
  {
   "cell_type": "code",
   "execution_count": 88,
   "metadata": {},
   "outputs": [],
   "source": [
    "#Add methylselenol extracellular\n",
    "model.add_metabolites(Metabolite(id='mesel_e', name = 'Methaneselenol', compartment = 'e', formula = 'CH4Se', charge =0))"
   ]
  },
  {
   "cell_type": "code",
   "execution_count": 89,
   "metadata": {},
   "outputs": [],
   "source": [
    "model.metabolites.mesel_e.annotation = model.metabolites.mesel_c.annotation"
   ]
  },
  {
   "cell_type": "code",
   "execution_count": 90,
   "metadata": {},
   "outputs": [],
   "source": [
    "#add transport rct\n",
    "model.add_reaction(Reaction(id='MESELt', name = 'Transport of Methaneselenol', lower_bound = -1000, upper_bound = 1000))"
   ]
  },
  {
   "cell_type": "code",
   "execution_count": 91,
   "metadata": {},
   "outputs": [],
   "source": [
    "model.reactions.MESELt.annotation['sbo'] = 'SBO:0000185'"
   ]
  },
  {
   "cell_type": "code",
   "execution_count": 92,
   "metadata": {},
   "outputs": [],
   "source": [
    "model.groups.get_by_id('02000 - Passive transport').add_members(model.reactions.MESELt)"
   ]
  },
  {
   "cell_type": "code",
   "execution_count": 93,
   "metadata": {},
   "outputs": [],
   "source": [
    "model.reactions.MESELt.add_metabolites({\n",
    "    model.metabolites.mesel_e:-1,\n",
    "    model.metabolites.h_e:-1,\n",
    "    model.metabolites.mesel_c:1,\n",
    "    model.metabolites.h_c:1\n",
    "})"
   ]
  },
  {
   "cell_type": "code",
   "execution_count": 94,
   "metadata": {},
   "outputs": [
    {
     "data": {
      "text/html": [
       "\n",
       "        <table>\n",
       "            <tr>\n",
       "                <td><strong>Reaction identifier</strong></td><td>EX_mesel_e</td>\n",
       "            </tr><tr>\n",
       "                <td><strong>Name</strong></td><td>Methaneselenol exchange</td>\n",
       "            </tr><tr>\n",
       "                <td><strong>Memory address</strong></td>\n",
       "                <td>0x01f8cc7eb408</td>\n",
       "            </tr><tr>\n",
       "                <td><strong>Stoichiometry</strong></td>\n",
       "                <td>\n",
       "                    <p style='text-align:right'>mesel_e --> </p>\n",
       "                    <p style='text-align:right'>Methaneselenol --> </p>\n",
       "                </td>\n",
       "            </tr><tr>\n",
       "                <td><strong>GPR</strong></td><td></td>\n",
       "            </tr><tr>\n",
       "                <td><strong>Lower bound</strong></td><td>0</td>\n",
       "            </tr><tr>\n",
       "                <td><strong>Upper bound</strong></td><td>1000</td>\n",
       "            </tr>\n",
       "        </table>\n",
       "        "
      ],
      "text/plain": [
       "<Reaction EX_mesel_e at 0x1f8cc7eb408>"
      ]
     },
     "execution_count": 94,
     "metadata": {},
     "output_type": "execute_result"
    }
   ],
   "source": [
    "#add demand\n",
    "model.add_boundary(model.metabolites.mesel_e,type = 'exchange', reaction_id = 'EX_mesel_e', lb = 0, ub = 1000, sbo_term = 'SBO:0000627')"
   ]
  },
  {
   "cell_type": "code",
   "execution_count": 95,
   "metadata": {},
   "outputs": [],
   "source": [
    "model.groups.get_by_id('00000 - Exchange reactions').add_members(model.reactions.EX_mesel_e)"
   ]
  },
  {
   "cell_type": "code",
   "execution_count": 96,
   "metadata": {},
   "outputs": [],
   "source": [
    "#add extracellular methylseac\n",
    "model.add_metabolites(Metabolite(id='methylseac_e', name = 'Methylselenic acid', compartment = 'e', formula = 'CH4O2Se', charge =0 ))"
   ]
  },
  {
   "cell_type": "code",
   "execution_count": 97,
   "metadata": {},
   "outputs": [],
   "source": [
    "model.metabolites.methylseac_e.annotation = model.metabolites.methylseac_c.annotation"
   ]
  },
  {
   "cell_type": "code",
   "execution_count": 98,
   "metadata": {},
   "outputs": [],
   "source": [
    "#methylseac import and exchange\n",
    "model.add_reaction(Reaction(id='METHYLSEACt', name = 'Transport of Methylselenic acid',lower_bound = -1000, upper_bound = 1000))"
   ]
  },
  {
   "cell_type": "code",
   "execution_count": 99,
   "metadata": {},
   "outputs": [],
   "source": [
    "model.reactions.METHYLSEACt.annotation['sbo'] = 'SBO:0000185'"
   ]
  },
  {
   "cell_type": "code",
   "execution_count": 100,
   "metadata": {},
   "outputs": [],
   "source": [
    "model.groups.get_by_id('02000 - Passive transport').add_members(model.reactions.METHYLSEACt)"
   ]
  },
  {
   "cell_type": "code",
   "execution_count": 101,
   "metadata": {},
   "outputs": [],
   "source": [
    "#add passive, proton symport as this is an acid it is to be expected\n",
    "model.reactions.METHYLSEACt.add_metabolites({\n",
    "    model.metabolites.methylseac_e:-1,\n",
    "    model.metabolites.h_e:-1,\n",
    "    model.metabolites.methylseac_c:1,\n",
    "    model.metabolites.h_c:1\n",
    "})"
   ]
  },
  {
   "cell_type": "code",
   "execution_count": 102,
   "metadata": {},
   "outputs": [
    {
     "data": {
      "text/html": [
       "\n",
       "        <table>\n",
       "            <tr>\n",
       "                <td><strong>Reaction identifier</strong></td><td>EX_methylseac_e</td>\n",
       "            </tr><tr>\n",
       "                <td><strong>Name</strong></td><td>Methylselenic acid exchange</td>\n",
       "            </tr><tr>\n",
       "                <td><strong>Memory address</strong></td>\n",
       "                <td>0x01f8cc805108</td>\n",
       "            </tr><tr>\n",
       "                <td><strong>Stoichiometry</strong></td>\n",
       "                <td>\n",
       "                    <p style='text-align:right'>methylseac_e --> </p>\n",
       "                    <p style='text-align:right'>Methylselenic acid --> </p>\n",
       "                </td>\n",
       "            </tr><tr>\n",
       "                <td><strong>GPR</strong></td><td></td>\n",
       "            </tr><tr>\n",
       "                <td><strong>Lower bound</strong></td><td>0</td>\n",
       "            </tr><tr>\n",
       "                <td><strong>Upper bound</strong></td><td>1000</td>\n",
       "            </tr>\n",
       "        </table>\n",
       "        "
      ],
      "text/plain": [
       "<Reaction EX_methylseac_e at 0x1f8cc805108>"
      ]
     },
     "execution_count": 102,
     "metadata": {},
     "output_type": "execute_result"
    }
   ],
   "source": [
    "#add demand\n",
    "#fixed as export for now to prevent it being in the default medium\n",
    "model.add_boundary(model.metabolites.methylseac_e,type = 'exchange', reaction_id = 'EX_methylseac_e', lb = 0, ub = 1000, sbo_term = 'SBO:0000627')"
   ]
  },
  {
   "cell_type": "code",
   "execution_count": 103,
   "metadata": {},
   "outputs": [],
   "source": [
    "model.groups.get_by_id('00000 - Exchange reactions').add_members(model.reactions.EX_methylseac_e)"
   ]
  },
  {
   "cell_type": "code",
   "execution_count": 104,
   "metadata": {},
   "outputs": [],
   "source": [
    "#save&commit\n",
    "cobra.io.write_sbml_model(model,'../model/g-thermo.xml')"
   ]
  },
  {
   "cell_type": "markdown",
   "metadata": {},
   "source": [
    "mnl_c: mannitol. Normally, this is taken up through the PTS system and phosphorylated in doing so. Therefore there is not really a production of mannitol anywhere, unless at some point some complex sugar can be broken down into this. Therefore I will just leave this.\n",
    "\n",
    "isomaltose: is similar to maltose in that it has two glucose subunits. Maltose is taken up in an ABC transporter, so we could expect the same for isomaltose (as just the bond between the glucose subunits is different). I will add the transport and exchange here."
   ]
  },
  {
   "cell_type": "code",
   "execution_count": 105,
   "metadata": {},
   "outputs": [],
   "source": [
    "#add isomalt_e\n",
    "model.add_metabolites(Metabolite(id='isomal_e', name = 'Isomaltose', compartment = 'e', formula = 'C12H22O11', charge = 0))"
   ]
  },
  {
   "cell_type": "code",
   "execution_count": 106,
   "metadata": {},
   "outputs": [],
   "source": [
    "model.metabolites.isomal_e.annotation = model.metabolites.isomal_c.annotation"
   ]
  },
  {
   "cell_type": "code",
   "execution_count": 107,
   "metadata": {},
   "outputs": [],
   "source": [
    "#add transport rct\n",
    "model.add_reaction(Reaction(id='ISOMALtabc', name = 'Transport of Isomaltose via ABC transports',lower_bound = 0, upper_bound = 1000))"
   ]
  },
  {
   "cell_type": "code",
   "execution_count": 108,
   "metadata": {},
   "outputs": [],
   "source": [
    "model.groups.get_by_id('02010 - ABC transporters').add_members(model.reactions.ISOMALtabc)"
   ]
  },
  {
   "cell_type": "code",
   "execution_count": 109,
   "metadata": {},
   "outputs": [],
   "source": [
    "model.reactions.ISOMALtabc.annotation['sbo'] = 'SBO:0000185'"
   ]
  },
  {
   "cell_type": "code",
   "execution_count": 110,
   "metadata": {},
   "outputs": [],
   "source": [
    "model.reactions.ISOMALtabc.add_metabolites({\n",
    "    model.metabolites.isomal_e:-1, \n",
    "    model.metabolites.atp_c:-1,\n",
    "    model.metabolites.isomal_c:1,\n",
    "    model.metabolites.h2o_c:-1,\n",
    "    model.metabolites.adp_c:1,\n",
    "    model.metabolites.pi_c:1,\n",
    "    model.metabolites.h_c:1\n",
    "})"
   ]
  },
  {
   "cell_type": "code",
   "execution_count": 111,
   "metadata": {},
   "outputs": [
    {
     "data": {
      "text/html": [
       "\n",
       "        <table>\n",
       "            <tr>\n",
       "                <td><strong>Reaction identifier</strong></td><td>EX_isomal_e</td>\n",
       "            </tr><tr>\n",
       "                <td><strong>Name</strong></td><td>Isomaltose exchange</td>\n",
       "            </tr><tr>\n",
       "                <td><strong>Memory address</strong></td>\n",
       "                <td>0x01f8cc7a7988</td>\n",
       "            </tr><tr>\n",
       "                <td><strong>Stoichiometry</strong></td>\n",
       "                <td>\n",
       "                    <p style='text-align:right'>isomal_e --> </p>\n",
       "                    <p style='text-align:right'>Isomaltose --> </p>\n",
       "                </td>\n",
       "            </tr><tr>\n",
       "                <td><strong>GPR</strong></td><td></td>\n",
       "            </tr><tr>\n",
       "                <td><strong>Lower bound</strong></td><td>0</td>\n",
       "            </tr><tr>\n",
       "                <td><strong>Upper bound</strong></td><td>1000</td>\n",
       "            </tr>\n",
       "        </table>\n",
       "        "
      ],
      "text/plain": [
       "<Reaction EX_isomal_e at 0x1f8cc7a7988>"
      ]
     },
     "execution_count": 111,
     "metadata": {},
     "output_type": "execute_result"
    }
   ],
   "source": [
    "#add demand\n",
    "#fixed as export for now to prevent it being in the default medium\n",
    "model.add_boundary(model.metabolites.isomal_e,type = 'exchange', reaction_id = 'EX_isomal_e', lb = 0, ub = 1000, sbo_term = 'SBO:0000627')"
   ]
  },
  {
   "cell_type": "code",
   "execution_count": 112,
   "metadata": {},
   "outputs": [],
   "source": [
    "model.groups.get_by_id('00000 - Exchange reactions').add_members(model.reactions.EX_isomal_e)"
   ]
  },
  {
   "cell_type": "code",
   "execution_count": 113,
   "metadata": {},
   "outputs": [],
   "source": [
    "#save&commit\n",
    "cobra.io.write_sbml_model(model,'../model/g-thermo.xml')"
   ]
  },
  {
   "cell_type": "markdown",
   "metadata": {},
   "source": [
    "tol_c: Toluene degradation is not something really observed in our strain. We have a small part of the pathway now encoded in the model. I will leave it for now, as we don't know its function. It is unconnected anyway, so doesnt matter so much. It can always be connected when more knowledge is available about this. \n",
    "\n",
    "tre_c: similar to mnl. Trehalose is normally taken up through PTS converting it into tre6p. So nothing really happens with the tre_c metabolite here, which is oke. If a more complex metabolite becomes added that can be hydrolyzed intracellularly to trehalose, this reaction becomes active again.\n",
    "\n",
    "sucr_c: same as for tre_c and mnl, as sucr_e is transported with the PTS system.\n",
    "\n",
    "gam_C: same as the other sugar. it is taken up by PTS, so only gam6p is really used. I will leave it incase some other sugar substrates are ever added that result in this.\n",
    "\n",
    "arbt_c: same as other sugars. taken up with PTS normally and so this is for now a dead end. will eave.\n",
    "\n",
    "Salcn_c: ditto.\n",
    "\n",
    "acetone: it is not a product naturall made or consumed by our strain. Also the only reaction it is associated to seems wrong. so here I will remove the reaction but leave the metabolite for now."
   ]
  },
  {
   "cell_type": "code",
   "execution_count": 114,
   "metadata": {},
   "outputs": [
    {
     "name": "stderr",
     "output_type": "stream",
     "text": [
      "C:\\Users\\vivmol\\AppData\\Local\\Continuum\\anaconda3\\envs\\g-thermo\\lib\\site-packages\\cobra\\core\\model.py:716: UserWarning:\n",
      "\n",
      "need to pass in a list\n",
      "\n"
     ]
    }
   ],
   "source": [
    "model.remove_reactions(model.reactions.ACTCO2L)"
   ]
  },
  {
   "cell_type": "code",
   "execution_count": 115,
   "metadata": {},
   "outputs": [],
   "source": [
    "#save&commit\n",
    "cobra.io.write_sbml_model(model,'../model/g-thermo.xml')"
   ]
  },
  {
   "cell_type": "markdown",
   "metadata": {},
   "source": [
    "Catechol: \n",
    "geobacillus species seem to be able to degrade catechol, and all genes needed to do so are present in our strain. I've checked and the degradation pathway seems correctly present. However, there is no reason to believe that catechol is taken up from the environment. there is also no indication of what our strain would degrade into catechol, so I will leave this. \n",
    "\n",
    "\n",
    "2hbut_c: involved in lipid biosynthesis, so I will ignore it for now as this will be revisited later anyway.\n",
    "\n",
    "choline: the annotation here is wrong, as well as the ID. Here we are missing reactions that both form and consume the product of the reaction this is involved in. Choline is involved in the glycerophospholipid metabolism. We will revisit lipis metabolism anyway so I will leave that for now. Also the choline is converted into betaine aldehyde, and this into betaine. The second step conversion is missing (R02565 EC:1.2.1.8), but there is no real indication what happens with betaine. It seems to function as an osmolyte,so one could expect its presence in biomass or it is exported. I will have to check this with the other first. \n",
    "\n",
    "So for now, I will just add the convertion of betaine aldehyde into betaine as we have genetic evidence it should be included."
   ]
  },
  {
   "cell_type": "code",
   "execution_count": 116,
   "metadata": {},
   "outputs": [],
   "source": [
    "model.metabolites.choline_c.id = 'chol_c'"
   ]
  },
  {
   "cell_type": "code",
   "execution_count": 117,
   "metadata": {},
   "outputs": [],
   "source": [
    "model.metabolites.chol_c.annotation = model_e_coli.metabolites.chol_c.annotation"
   ]
  },
  {
   "cell_type": "code",
   "execution_count": 118,
   "metadata": {},
   "outputs": [],
   "source": [
    "model.metabolites.betald_c.name = 'Betaine aldehyde'"
   ]
  },
  {
   "cell_type": "code",
   "execution_count": 119,
   "metadata": {},
   "outputs": [],
   "source": [
    "#add the betaine met\n",
    "model.add_metabolites(Metabolite(id='glyb_c', name = 'Glycine betaine', compartment = 'c' , formula = 'C5H11NO2' , charge = 0))"
   ]
  },
  {
   "cell_type": "code",
   "execution_count": 120,
   "metadata": {},
   "outputs": [],
   "source": [
    "model.metabolites.glyb_c.annotation = model_e_coli.metabolites.glyb_c.annotation"
   ]
  },
  {
   "cell_type": "code",
   "execution_count": 121,
   "metadata": {},
   "outputs": [
    {
     "name": "stderr",
     "output_type": "stream",
     "text": [
      "C:\\Users\\vivmol\\AppData\\Local\\Continuum\\anaconda3\\envs\\g-thermo\\lib\\site-packages\\cobra\\core\\group.py:110: UserWarning:\n",
      "\n",
      "need to pass in a list\n",
      "\n"
     ]
    }
   ],
   "source": [
    "#remove BETALDOR as you have duplicate co-factors and NADH seems correct\n",
    "model.remove_reactions(model.reactions.BETALDOR)"
   ]
  },
  {
   "cell_type": "code",
   "execution_count": 122,
   "metadata": {},
   "outputs": [],
   "source": [
    "#add reaction with NADH\n",
    "model.add_reaction(Reaction(id='BETALDHx', name = 'Betaine-aldehyde dehydrogenase'))"
   ]
  },
  {
   "cell_type": "code",
   "execution_count": 123,
   "metadata": {},
   "outputs": [],
   "source": [
    "model.reactions.BETALDHx.annotation = model_e_coli.reactions.BETALDHx.annotation"
   ]
  },
  {
   "cell_type": "code",
   "execution_count": 124,
   "metadata": {},
   "outputs": [],
   "source": [
    "model.reactions.BETALDHx.add_metabolites({\n",
    "    model.metabolites.betald_c:-1,\n",
    "    model.metabolites.h2o_c:-1,\n",
    "    model.metabolites.nad_c:-1,\n",
    "    model.metabolites.glyb_c:1,\n",
    "    model.metabolites.h_c:2,\n",
    "    model.metabolites.nadh_c:1\n",
    "})"
   ]
  },
  {
   "cell_type": "code",
   "execution_count": 125,
   "metadata": {},
   "outputs": [],
   "source": [
    "model.groups.get_by_id('00260 - Glycine, serine and threonine metabolism').add_members(model.reactions.BETALDHx)"
   ]
  },
  {
   "cell_type": "code",
   "execution_count": 126,
   "metadata": {},
   "outputs": [],
   "source": [
    "#add reaction with NADPH\n",
    "model.add_reaction(Reaction(id='BETALDHy', name = 'Betaine-aldehyde dehydrogenase'))"
   ]
  },
  {
   "cell_type": "code",
   "execution_count": 127,
   "metadata": {},
   "outputs": [],
   "source": [
    "model.reactions.BETALDHy.annotation = model_e_coli.reactions.BETALDHy.annotation"
   ]
  },
  {
   "cell_type": "code",
   "execution_count": 128,
   "metadata": {},
   "outputs": [],
   "source": [
    "model.reactions.BETALDHx.add_metabolites({\n",
    "    model.metabolites.betald_c:-1,\n",
    "    model.metabolites.h2o_c:-1,\n",
    "    model.metabolites.nadp_c:-1,\n",
    "    model.metabolites.glyb_c:1,\n",
    "    model.metabolites.h_c:2,\n",
    "    model.metabolites.nadph_c:1\n",
    "})"
   ]
  },
  {
   "cell_type": "code",
   "execution_count": 129,
   "metadata": {},
   "outputs": [],
   "source": [
    "model.groups.get_by_id('00260 - Glycine, serine and threonine metabolism').add_members(model.reactions.BETALDHy)"
   ]
  },
  {
   "cell_type": "code",
   "execution_count": 130,
   "metadata": {},
   "outputs": [],
   "source": [
    "#save&commit\n",
    "cobra.io.write_sbml_model(model,'../model/g-thermo.xml')"
   ]
  },
  {
   "cell_type": "markdown",
   "metadata": {},
   "source": [
    "3omrsACP_c: involved in fatty acid biosynthesis, which will be re-evaluated so this can be ignored for now.\n",
    "\n",
    "phser_c: this metabolite only has one reaction in kegg, the one we have it associated to in the model.but because this metabolite cannot be made, this whole pathway will always be blocked. So this needs further investigation. the phser_c metabolite encodes O-phosphorylhomoserine, but we also have a O-Phospho-L-homoserine metabolite present. Looking into this, it shows they are the exact same. (the phom_c can be made from phosphorylating hom__L_c as we would expect). So changing the PHSERT reaction and removing the phser_c metabolit should solve this problem."
   ]
  },
  {
   "cell_type": "code",
   "execution_count": 131,
   "metadata": {},
   "outputs": [],
   "source": [
    "model=cobra.io.read_sbml_model('../model/g-thermo.xml')"
   ]
  },
  {
   "cell_type": "code",
   "execution_count": 132,
   "metadata": {},
   "outputs": [],
   "source": [
    "model.reactions.PHSERT.add_metabolites({\n",
    "    model.metabolites.phser_c:1,\n",
    "    model.metabolites.phom_c:-1,\n",
    "    model.metabolites.h_c:-1\n",
    "})"
   ]
  },
  {
   "cell_type": "code",
   "execution_count": 133,
   "metadata": {},
   "outputs": [],
   "source": [
    "#remove phser_c met\n",
    "model.remove_metabolites(model.metabolites.phser_c)"
   ]
  },
  {
   "cell_type": "code",
   "execution_count": 134,
   "metadata": {},
   "outputs": [],
   "source": [
    "#save&commit\n",
    "cobra.io.write_sbml_model(model,'../model/g-thermo.xml')"
   ]
  },
  {
   "cell_type": "markdown",
   "metadata": {},
   "source": [
    "adprib_c: Here we miss a reaction that allows adp-ribose production. Looking into BRENDA; B. subtilis has an NAD+ glycohydrolase (EC 3.2.2.5) that converts NAD into adp-ribose (https://doi.org/10.1016/0076-6879(80)66451-9). There is a significant hit gound in the geobacillus genome, so I will add this reaction here. "
   ]
  },
  {
   "cell_type": "code",
   "execution_count": 135,
   "metadata": {},
   "outputs": [],
   "source": [
    "model.add_reaction(Reaction(id='NADN', name = 'NAD nucleosidase'))"
   ]
  },
  {
   "cell_type": "code",
   "execution_count": 136,
   "metadata": {},
   "outputs": [],
   "source": [
    "model.reactions.NADN.annotation = model_e_coli.reactions.NADN.annotation"
   ]
  },
  {
   "cell_type": "code",
   "execution_count": 137,
   "metadata": {
    "scrolled": false
   },
   "outputs": [],
   "source": [
    "model.groups.get_by_id('00760 - Nicotinate and nicotinamide metabolism').add_members(model.reactions.NADN)"
   ]
  },
  {
   "cell_type": "code",
   "execution_count": 138,
   "metadata": {},
   "outputs": [],
   "source": [
    "model.reactions.NADN.add_metabolites({\n",
    "    model.metabolites.h2o_c:-1,\n",
    "    model.metabolites.nad_c:-1,\n",
    "    model.metabolites.adprib_c:1,\n",
    "    model.metabolites.h_c:1,\n",
    "    model.metabolites.ncam_c:1\n",
    "})"
   ]
  },
  {
   "cell_type": "code",
   "execution_count": 139,
   "metadata": {},
   "outputs": [],
   "source": [
    "#save&commit\n",
    "cobra.io.write_sbml_model(model,'../model/g-thermo.xml')"
   ]
  },
  {
   "cell_type": "markdown",
   "metadata": {},
   "source": [
    "dmbzid_c: this can be made from the fmn2. a bacilli (Bacillus thiaminolyticus) has a confirmed BluB protein that can perform this conversion (doi: 10.1371/journal.pone.0055708). A blast of this again our strain genome gives a significant hit and so it would be reasonable to add this reaction here.\n",
    "One problem is that no one knows what the exact products of this reaction is. Therefore, I will not add an incorrect reaction and so here I will do nothing.\n",
    "\n",
    "mthpglu: a metabolite with only two reactions associated to it in kegg. So I will just leave it as we don't really know what this functions as. "
   ]
  },
  {
   "cell_type": "code",
   "execution_count": 140,
   "metadata": {},
   "outputs": [],
   "source": [
    "model=cobra.io.read_sbml_model('../model/g-thermo.xml')"
   ]
  },
  {
   "cell_type": "code",
   "execution_count": 141,
   "metadata": {},
   "outputs": [],
   "source": [
    "model.metabolites.mthpglu_c.id = 'mhpglu_c'"
   ]
  },
  {
   "cell_type": "markdown",
   "metadata": {},
   "source": [
    "focytB561: This is only involved in one reaction. If i look at Brenda for the anaerobic carbon-monoxide dehydrogenase reaction, it involved ferridoxin instead of ferricytochrome. Therefore I will change this reaction, making it correct and then in doing so also remove the focytB561_c and fcytb5612_c metabolites."
   ]
  },
  {
   "cell_type": "code",
   "execution_count": 142,
   "metadata": {},
   "outputs": [],
   "source": [
    "model.reactions.COOR.name = 'anaerobic carbon-monoxide dehydrogenase'"
   ]
  },
  {
   "cell_type": "code",
   "execution_count": 143,
   "metadata": {},
   "outputs": [],
   "source": [
    "model.reactions.COOR.add_metabolites({\n",
    "    model.metabolites.focytB561_c:2,\n",
    "    model.metabolites.fcytb5612_c:-2,\n",
    "    model.metabolites.fdxox_c:-1, \n",
    "    model.metabolites.fdxrd_c:1\n",
    "})"
   ]
  },
  {
   "cell_type": "code",
   "execution_count": 144,
   "metadata": {},
   "outputs": [],
   "source": [
    "model.remove_metabolites(model.metabolites.fcytb5612_c)"
   ]
  },
  {
   "cell_type": "code",
   "execution_count": 145,
   "metadata": {},
   "outputs": [],
   "source": [
    "model.remove_metabolites(model.metabolites.focytB561_c)"
   ]
  },
  {
   "cell_type": "code",
   "execution_count": 146,
   "metadata": {},
   "outputs": [],
   "source": [
    "#commit&save\n",
    "cobra.io.write_sbml_model(model,'../model/g-thermo.xml')"
   ]
  },
  {
   "cell_type": "markdown",
   "metadata": {},
   "source": [
    "uaaagglaa_c: plays a role in peptidoglycan biosynthesis. But as this is not really going anywhere in our model right now, so I will just leave it."
   ]
  },
  {
   "cell_type": "code",
   "execution_count": 148,
   "metadata": {},
   "outputs": [],
   "source": [
    "solution = model.optimize()"
   ]
  },
  {
   "cell_type": "code",
   "execution_count": 149,
   "metadata": {},
   "outputs": [
    {
     "name": "stdout",
     "output_type": "stream",
     "text": [
      "EX_cl_e  :  0.0\n",
      "EX_nh4_e  :  1000.0\n",
      "EX_glc__D_e  :  -10.0\n",
      "EX_thm_e  :  -0.004368523850940792\n",
      "EX_fe2_e  :  -0.666112555971032\n",
      "EX_h2o_e  :  -1000.0\n",
      "EX_o2_e  :  -580.993575100424\n",
      "EX_co2_e  :  969.9184045028275\n",
      "EX_h_e  :  199.26083020079756\n",
      "EX_cobalt2_e  :  0.0\n",
      "EX_rib__D_e  :  0.0\n",
      "EX_glyc_e  :  0.0\n",
      "EX_asn__L_e  :  0.0\n",
      "EX_pydx5p_e  :  0.0\n",
      "EX_qh2_e  :  -0.005876937916013958\n",
      "EX_gthrd_e  :  -396.0130106545433\n",
      "EX_nadp_e  :  -0.1508414065121455\n",
      "EX_Biomass_e  :  19.589793053545975\n",
      "EX_gal_e  :  0.0\n",
      "EX_etoh_e  :  0.0\n",
      "EX_man_e  :  0.0\n",
      "EX_arbt_e  :  0.0\n",
      "EX_salcn_e  :  0.0\n",
      "EX_tre_e  :  0.0\n",
      "EX_ac_e  :  591.7300487168175\n",
      "EX_succ_e  :  0.0\n",
      "EX_lac__D_e  :  0.0\n",
      "EX_lac__L_e  :  0.0\n",
      "EX_thmtp_e  :  0.0\n",
      "EX_fru_e  :  0.0\n",
      "EX_arab__L_e  :  0.0\n",
      "EX_xyl__D_e  :  0.0\n",
      "EX_mnl_e  :  0.0\n",
      "EX_cellb_e  :  0.0\n",
      "EX_sucr_e  :  0.0\n",
      "EX_sbt__D_e  :  0.0\n",
      "EX_acgam_e  :  0.0\n",
      "EX_malt_e  :  0.0\n",
      "EX_rmn_e  :  0.0\n",
      "EX_melib_e  :  0.0\n",
      "EX_gtbi_e  :  0.0\n",
      "EX_tura_e  :  0.0\n",
      "EX_kdg2_e  :  0.0\n",
      "EX_dglcn5_e  :  0.0\n",
      "EX_mdgp_e  :  0.0\n",
      "EX_tag__D_e  :  0.0\n",
      "EX_amylose_e  :  0.0\n",
      "EX_pyr_e  :  0.0\n",
      "EX_pi_e  :  582.9235815069078\n",
      "EX_so4_e  :  0.0\n",
      "EX_k_e  :  -13.87349144052126\n",
      "EX_mg2_e  :  -1.9197997192475056\n",
      "EX_ca2_e  :  -0.06170784811866982\n",
      "EX_but_e  :  0.0\n",
      "EX_mercplac_e  :  391.8061409531091\n",
      "EX_acmum_e  :  0.0\n",
      "EX_cellulose_e  :  0.0\n",
      "EX_sel_e  :  0.0\n",
      "EX_epm_e  :  0.0\n",
      "EX_mesel_e  :  0.0\n",
      "EX_methylseac_e  :  0.0\n",
      "EX_isomal_e  :  0.0\n"
     ]
    }
   ],
   "source": [
    "for rct in model.exchanges:\n",
    "    flux = solution[rct.id]\n",
    "    print (rct.id,' : ', flux)"
   ]
  }
 ],
 "metadata": {
  "kernelspec": {
   "display_name": "Python 3",
   "language": "python",
   "name": "python3"
  },
  "language_info": {
   "codemirror_mode": {
    "name": "ipython",
    "version": 3
   },
   "file_extension": ".py",
   "mimetype": "text/x-python",
   "name": "python",
   "nbconvert_exporter": "python",
   "pygments_lexer": "ipython3",
   "version": "3.7.7"
  }
 },
 "nbformat": 4,
 "nbformat_minor": 4
}
