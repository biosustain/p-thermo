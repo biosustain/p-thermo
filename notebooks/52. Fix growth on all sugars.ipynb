{
 "cells": [
  {
   "cell_type": "markdown",
   "metadata": {},
   "source": [
    "# Introduction\n",
    "Martyn has tried to model the growth of the model when grown on different sugars. We saw growth as expected for all sugars except arbutin, rhamnose, and salicin. We know experimentally the strain should grow on these sugars. So here I'll look into why the model doesn't grow on these sugars and try to fix it."
   ]
  },
  {
   "cell_type": "code",
   "execution_count": 39,
   "metadata": {},
   "outputs": [],
   "source": [
    "import cameo\n",
    "import pandas as pd\n",
    "import cobra.io\n",
    "from cobra import Reaction"
   ]
  },
  {
   "cell_type": "code",
   "execution_count": 65,
   "metadata": {},
   "outputs": [],
   "source": [
    "model = cobra.io.read_sbml_model('../../model/g-thermo.xml')"
   ]
  },
  {
   "cell_type": "markdown",
   "metadata": {},
   "source": [
    "## Rhamnose\n",
    "In the rhamnose metabolism, the problem that prevents flux through the pathway is that in reaction RMPA L-Lactaldehyde is formed. This is currently a dead end and so this needs to be fixed to allow metabolism of rhamnose. I'll look into how this metabolite should be converted and linked to general metabolism. \n",
    "\n",
    "Nice paper talking about rhamnose degradation in various bacteria: https://www.ncbi.nlm.nih.gov/pmc/articles/PMC3870299/pdf/fmicb-04-00407.pdf\n",
    "\n",
    "Here they show and confirm that B. subtilis has a bifunctional RhaEW protein, which can catalyze the L-rhamnulose-phosphate aldolase reaction as wel as be a lactaldehyde dehydrogenase. This protein is encoded by the yuxG gene in B. subtilis. Running a tBLASTn with the protein sequence, we find a significant hit in our strain. \n",
    "\n",
    "So the likely presence of this enzyme would mean that the lactaldehyde can be converted into lactate. Therefore I will add this reaction into the model.\n"
   ]
  },
  {
   "cell_type": "code",
   "execution_count": 67,
   "metadata": {},
   "outputs": [],
   "source": [
    "#add reaction\n",
    "model.add_reaction(Reaction(id='LALDDH', name = 'Llactaldehyde dehydrogenase'))"
   ]
  },
  {
   "cell_type": "code",
   "execution_count": 68,
   "metadata": {},
   "outputs": [],
   "source": [
    "model.reactions.LALDDH.annotation['sbo'] = 'SBO:0000176'\n",
    "model.reactions.LALDDH.annotation['rhea'] = '14280'\n",
    "model.reactions.LALDDH.annotation['kegg.reaction'] = 'R01446'\n",
    "model.reactions.LALDDH.annotation['ec-code'] = '1.2.1.22'"
   ]
  },
  {
   "cell_type": "code",
   "execution_count": 75,
   "metadata": {},
   "outputs": [],
   "source": [
    "model.reactions.LALDDH.bounds = (0,1000)"
   ]
  },
  {
   "cell_type": "code",
   "execution_count": 70,
   "metadata": {},
   "outputs": [],
   "source": [
    "model.reactions.LALDDH.add_metabolites({\n",
    "    model.metabolites.lald__L_c:-1,\n",
    "    model.metabolites.nad_c:-1,\n",
    "    model.metabolites.h2o_c:-1,\n",
    "    model.metabolites.lac__L_c:1,\n",
    "    model.metabolites.nadh_c:1,\n",
    "    model.metabolites.h_c:2\n",
    "})"
   ]
  },
  {
   "cell_type": "code",
   "execution_count": 71,
   "metadata": {},
   "outputs": [],
   "source": [
    "model.reactions.LALDDH.gene_reaction_rule='yuxG'"
   ]
  },
  {
   "cell_type": "markdown",
   "metadata": {},
   "source": [
    "Now the problem that our strain can't grow exclusively on rhamnose is fixed. we can save & commit"
   ]
  },
  {
   "cell_type": "code",
   "execution_count": null,
   "metadata": {},
   "outputs": [],
   "source": [
    "cobra.io.write_sbml_model(model,'../model/g-thermo.xml')"
   ]
  },
  {
   "cell_type": "markdown",
   "metadata": {},
   "source": [
    "# Salicin (salcn)\n",
    "Our organism should grow on salicin, but current our model doesn't. I'll investigate what the problem is here and try to fix it in the correct way so our model can grow on this sugar. \n",
    "\n",
    "The salicin is taken up by PTS and can then the salicin-6-phosphate can be converted into g6p and 2hymeph_c. The 2hymeph_c then reacts with udpg to give salicin again. The problem here is that to be able to reconvert the 2hymeph, youi need the glucose that is formed when the 2hymeph is formed, so in the end there is no sugar avaiable for growth. This is ofcourse not correct and so will be investigated and fixed.\n",
    "\n",
    "the 2hymeph is a phenol. Verious geobacillus species have been shown to be able to degrade phenols (see https://doi.org/10.1016/bs.aambs.2015.03.001 and doi:10.1016/j.jprot.2011.10.035 and http://production.datastore.cvt.dk/filestore?oid=5490af28bde7fcd94f4f839b&targetid=539ef0440370e0c1720065d8). \n",
    "\n",
    "Thermophilic bacilli have been shown to generally use the meta-pathway for cleaving the aromatic ring. This consists of hydroxylation of the aromatic to catechol, followed by ring cleavage by the catechol-2,3-dioxygenase and then a final oxidation or hydrolysis. So it would be most expected that this pathway is present in our strain too, if it can grow on salicin. I will go through each step of the pathway and ensure the enzymes are present before adding them. \n",
    "This pathway has been shown to be active on various substituted phenols and so i would expect that it works for the substiruted phenols we have in our strain too. \n",
    "\n",
    "The first enzyme of the proposed pathway, phenol hydrozylase (PheA) has been confirmed in G. thermodenitrificans. Also both subunits of the enzyme are annotated in our strain. This reaction catalyzes the conversion of the phenol into the correspnoding catechol by adding a -OH group.\n",
    "\n",
    "The next step in the degradation is the catechol 2,3 dioxygenase. This enzyme is also annotated in our strain. Finally, our strain has a hydrolase annotated, as well as the following downstream steps that are involved in converting catechol into the final acetyl-Coa. \n",
    "\n",
    "All this taken together points to the likelihood that this pathway is responsible for the metabolism of the phenols that are produced when the salicin (or other sugars) are metabolized. Especially considering the evidence that this pathway works on a wide rande of substituted phenols. I will therefore make sure this is implemented into our model correctly.\n"
   ]
  },
  {
   "cell_type": "code",
   "execution_count": 13,
   "metadata": {},
   "outputs": [],
   "source": [
    "model.metabolites.get_by_id('2hymeph_c').name = 'Salicyl alcohol'"
   ]
  },
  {
   "cell_type": "code",
   "execution_count": 8,
   "metadata": {},
   "outputs": [
    {
     "data": {
      "text/plain": [
       "{'sbo': 'SBO:0000176',\n",
       " 'ec-code': '3.2.1.86',\n",
       " 'kegg.reaction': 'R05134',\n",
       " 'metanetx.reaction': 'MNXR109345',\n",
       " 'rhea': '33127'}"
      ]
     },
     "execution_count": 8,
     "metadata": {},
     "output_type": "execute_result"
    }
   ],
   "source": [
    "model.reactions.SALCN6PH.annotation"
   ]
  },
  {
   "cell_type": "code",
   "execution_count": 15,
   "metadata": {},
   "outputs": [
    {
     "data": {
      "text/plain": [
       "{'sbo': 'SBO:0000247',\n",
       " 'chebi': 'CHEBI:16464',\n",
       " 'kegg.compound': 'C02323',\n",
       " 'metanetx.chemical': 'MNXM1855'}"
      ]
     },
     "execution_count": 15,
     "metadata": {},
     "output_type": "execute_result"
    }
   ],
   "source": [
    "model.metabolites.get_by_id('2hymeph_c').annotation"
   ]
  },
  {
   "cell_type": "markdown",
   "metadata": {},
   "source": [
    "## Arbutin\n",
    "First I'll dig into arbutin metabolism.\n",
    "\n",
    "Uptake into the cell is possible, via the pts system. The only following steps is via AB6PGH into G6P. This reaction produces benzenediol (hqn_c). This is a dead end metabolite and so thats why this pathway can never carry flux and our model can't grow on arbutin. \n",
    "\n"
   ]
  },
  {
   "cell_type": "code",
   "execution_count": 15,
   "metadata": {},
   "outputs": [
    {
     "name": "stdout",
     "output_type": "stream",
     "text": [
      "-0.008875098013070872\n"
     ]
    },
    {
     "name": "stderr",
     "output_type": "stream",
     "text": [
      "C:\\Users\\vivmol\\AppData\\Local\\Continuum\\anaconda3\\envs\\g-thermo\\lib\\site-packages\\cobra\\util\\solver.py:416: UserWarning:\n",
      "\n",
      "solver status is 'infeasible'\n",
      "\n"
     ]
    }
   ],
   "source": [
    "#check that the model can then grow\n",
    "with model:\n",
    "    model.reactions.EX_glc__D_e.bounds = (0,0)\n",
    "    model.reactions.EX_arbt_e.bounds = (-10,0)\n",
    "    print (model.optimize().objective_value)"
   ]
  },
  {
   "cell_type": "code",
   "execution_count": null,
   "metadata": {},
   "outputs": [],
   "source": []
  },
  {
   "cell_type": "code",
   "execution_count": 21,
   "metadata": {},
   "outputs": [
    {
     "data": {
      "text/html": [
       "\n",
       "        <table>\n",
       "            <tr>\n",
       "                <td><strong>Reaction identifier</strong></td><td>AB6PGH</td>\n",
       "            </tr><tr>\n",
       "                <td><strong>Name</strong></td><td>Arbutin 6-phosphate glucohydrolase</td>\n",
       "            </tr><tr>\n",
       "                <td><strong>Memory address</strong></td>\n",
       "                <td>0x028762c46bc8</td>\n",
       "            </tr><tr>\n",
       "                <td><strong>Stoichiometry</strong></td>\n",
       "                <td>\n",
       "                    <p style='text-align:right'>arbt6p_c + h2o_c + h_c --> g6p_c + hqn_c</p>\n",
       "                    <p style='text-align:right'>Arbutin 6-phosphate + Water + H+ --> Glucose 6-phosphate + p-Benzenediol</p>\n",
       "                </td>\n",
       "            </tr><tr>\n",
       "                <td><strong>GPR</strong></td><td>RTMO03636 or RTMO02650</td>\n",
       "            </tr><tr>\n",
       "                <td><strong>Lower bound</strong></td><td>0.0</td>\n",
       "            </tr><tr>\n",
       "                <td><strong>Upper bound</strong></td><td>1000.0</td>\n",
       "            </tr>\n",
       "        </table>\n",
       "        "
      ],
      "text/plain": [
       "<Reaction AB6PGH at 0x28762c46bc8>"
      ]
     },
     "execution_count": 21,
     "metadata": {},
     "output_type": "execute_result"
    }
   ],
   "source": [
    "model.reactions.AB6PGH"
   ]
  },
  {
   "cell_type": "code",
   "execution_count": 22,
   "metadata": {},
   "outputs": [
    {
     "data": {
      "text/plain": [
       "{'sbo': 'SBO:0000176',\n",
       " 'ec-code': '3.2.1.86',\n",
       " 'kegg.reaction': 'R05133',\n",
       " 'metanetx.reaction': 'MNXR109344',\n",
       " 'rhea': '28510'}"
      ]
     },
     "execution_count": 22,
     "metadata": {},
     "output_type": "execute_result"
    }
   ],
   "source": [
    "model.reactions.AB6PGH.annotation"
   ]
  }
 ],
 "metadata": {
  "kernelspec": {
   "display_name": "Python 3",
   "language": "python",
   "name": "python3"
  },
  "language_info": {
   "codemirror_mode": {
    "name": "ipython",
    "version": 3
   },
   "file_extension": ".py",
   "mimetype": "text/x-python",
   "name": "python",
   "nbconvert_exporter": "python",
   "pygments_lexer": "ipython3",
   "version": "3.7.7"
  }
 },
 "nbformat": 4,
 "nbformat_minor": 4
}
