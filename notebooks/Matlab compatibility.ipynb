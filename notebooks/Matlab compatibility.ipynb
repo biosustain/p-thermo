{
 "cells": [
  {
   "cell_type": "markdown",
   "metadata": {},
   "source": [
    "# Compatibility between Python and Matlab\n",
    "\n",
    "Trying to make the g-thermo model compatible between different versions of COBRA ([cobrapy](https://github.com/opencobra/cobrapy) and [cobratoolbox](https://github.com/opencobra/cobratoolbox)).\n",
    "\n",
    "Benjamín J. Sánchez, 2020-04-07\n",
    "\n",
    "## 1. Sort annotations\n",
    "\n",
    "The first noteworthy difference between the two different standards is that cobrapy will always respect the order of annotations in each reaction and stored them like that, whereas cobratoolbox will pre-sort them. This is something that could be improved in the `write_sbml_model` function of cobrapy (as the order doesn't matter anyways), so we will fix that in [this branch](https://github.com/BenjaSanchez/cobrapy/tree/refactor/sort-sbml) of my cobrapy's fork. Now we can just read/write the model to confirm that everything is from now on sorted:"
   ]
  },
  {
   "cell_type": "code",
   "execution_count": 1,
   "metadata": {},
   "outputs": [
    {
     "name": "stdout",
     "output_type": "stream",
     "text": [
      "sbo\n",
      "kegg.reaction\n",
      "metanetx.reaction\n",
      "rhea\n",
      "ec-code\n"
     ]
    }
   ],
   "source": [
    "# Before:\n",
    "import cobra\n",
    "model = cobra.io.read_sbml_model(\"../model/g-thermo.xml\")\n",
    "for annotation in model.reactions[0].annotation:\n",
    "    print(annotation)\n",
    "cobra.io.write_sbml_model(model,\"../model/g-thermo.xml\")"
   ]
  },
  {
   "cell_type": "code",
   "execution_count": 2,
   "metadata": {},
   "outputs": [
    {
     "name": "stdout",
     "output_type": "stream",
     "text": [
      "sbo\n",
      "ec-code\n",
      "kegg.reaction\n",
      "metanetx.reaction\n",
      "rhea\n"
     ]
    }
   ],
   "source": [
    "# After:\n",
    "model = cobra.io.read_sbml_model(\"../model/g-thermo.xml\")\n",
    "for annotation in model.reactions[0].annotation:\n",
    "    print(annotation)"
   ]
  },
  {
   "cell_type": "markdown",
   "metadata": {},
   "source": [
    "Without counting SBO (which is a separate SBML object), we see that all annotations are now alphabetically ordered.\n",
    "\n",
    "## 2. Redundant reaction fields\n",
    "\n",
    "Let's take a look at the reaction notes:"
   ]
  },
  {
   "cell_type": "code",
   "execution_count": 3,
   "metadata": {},
   "outputs": [
    {
     "name": "stdout",
     "output_type": "stream",
     "text": [
      "{'SUBSYSTEM': 'X', 'GENE_ASSOCIATION': '( RTMO00131 or RTMO05104 )', 'KEGG ID': 'R00004', 'ENZYME': '3.6.1.1', 'NAME': 'diphosphate phosphohydrolase; pyrophosphate phosphohydrolase', 'DEFINITION': 'Diphosphate + H2O ⇌ 2 Orthophosphate'}\n"
     ]
    }
   ],
   "source": [
    "model = cobra.io.read_sbml_model(\"../model/g-thermo.xml\")\n",
    "print(model.reactions[0].notes)"
   ]
  },
  {
   "cell_type": "markdown",
   "metadata": {},
   "source": [
    "Both the `SUBSYSTEM` and `GENE_ASSOCIATION` fields are already included in the model (as `groups` and `reaction.gene_reaction_rule` fields, respectively), so we can remove them (as cobratoolbox removes them by default):"
   ]
  },
  {
   "cell_type": "code",
   "execution_count": 4,
   "metadata": {},
   "outputs": [],
   "source": [
    "for reaction in model.reactions:\n",
    "    reaction.notes.pop(\"SUBSYSTEM\", None)\n",
    "    reaction.notes.pop(\"GENE_ASSOCIATION\", None)\n",
    "cobra.io.write_sbml_model(model,\"../model/g-thermo.xml\")"
   ]
  },
  {
   "cell_type": "markdown",
   "metadata": {},
   "source": [
    "## 3. Missing SBO terms\n",
    "\n",
    "When exporting, cobratoolbox complains that some SBO terms are missing for reactions, let's add those:"
   ]
  },
  {
   "cell_type": "code",
   "execution_count": 5,
   "metadata": {},
   "outputs": [
    {
     "name": "stdout",
     "output_type": "stream",
     "text": [
      "CMTEPISO: CMTEPISO: cmtdepp_c <=> cthzp_c\n",
      "DXYL5PTST: DXYL5PTST: dhgly_c + dxyl5p_c + h_c + tcscp_c <=> cmtdepp_c + 2.0 h2o_c + scpgg_c\n",
      "LCTST: LCTST: cys__L_c + enzcys_c <=> ala__L_c + enzscys_c\n",
      "ATPTAT: ATPTAT: atp_c + h_c + scpgg_c <=> ascp_c + ppi_c\n",
      "LPROQOR: LPROQOR: pro__L_c + ubiquin_c --> pyr5c_c + qh2_c\n",
      "BTNLIG: BTNLIG: atp_c + btn_c + h_c --> b5amp_c + ppi_c\n",
      "BTN5AMPL: BTN5AMPL: b5amp_c + h2o_c <=> amp_c + btn_c + 2.0 h_c\n",
      "MDH2: MDH2: mal__L_c + ubiquin_c --> oaa_c + qh2_c\n",
      "OBO2OR: OBO2OR: 2obut_c + 2.0 h_c + o2_c + pi_c --> co2_c + h2o2_c + ppap_c\n",
      "LALDPOR: LALDPOR: lald__L_c + 2.0 nad_c <=> mthgxl_c + 2.0 nadh_c\n",
      "PHEAOR: PHEAOR: h2o_c + phe__D_c --> 2.0 h_c + nh4_c + phpyr_c\n",
      "PYRLLOR: PYRLLOR: h_c + lpam_c + pyr_c --> adhlam_c + co2_c\n",
      "MOX: MOX: mal__L_c + o2_c --> h2o2_c + oaa_c\n",
      "TRPS3: TRPS3: 3ig3p_c --> g3p_c + indole_c\n",
      "PGL: PGL: 6pgl_c + h2o_c --> 6pgc_c\n",
      "MAHMPDC: MAHMPDC: 2mahmp_c + cthzp_c --> co2_c + h_c + ppi_c + thmmp_c\n",
      "GSPMDS: GSPMDS: atp_c + gthrd_c + spmd_c --> adp_c + gtspmd_c + h_c + pi_c\n",
      "OOR3r: OOR3r: akg_c + coa_c + 2.0 fdxox_c --> co2_c + 2.0 fdxrd_c + h_c + succoa_c\n",
      "SUCOAACTr: SUCOAACTr: ac_c + succoa_c <=> accoa_c + succ_c\n",
      "ACCOAACT: ACCOAACT: acoa_c + glyc3p_c <=> aglyc3p_c + coa_c\n",
      "ACCOATT: ACCOATT: acoa_c + aglyc3p_c <=> coa_c + pa_EC_c\n",
      "CTPPCT: CTPPCT: ctp_c + 5.0 h_c + pa_EC_c <=> cdpdag_c + ppi_c\n",
      "GLYCNOR: GLYCNOR: glyclt_c + nad_c <-- glx_c + h_c + nadh_c\n",
      "B23DONOR: B23DONOR: nad_c + rr23bdo_c <=> actn__R_c + h_c + nadh_c\n",
      "ACTD: ACTD: actn__R_c + nad_c <=> diact_c + h_c + nadh_c\n",
      "ACTNAT: ACTNAT: actn_c + coa_c + nad_c <=> acald_c + accoa_c + h_c + nadh_c\n",
      "ACEDIA: ACEDIA: alac__S_c <=> co2_c + diact_c + h_c + hacc_c\n",
      "HPI: HPI: hpyr_c <=> hop_c\n",
      "HOXPRm: HOXPRm: glyc__R_c + nad_c <=> h_c + hop_c + nadh_c\n",
      "ACOAD1: ACOAD1: btcoa_c + nad_c <=> b2coa_c + h_c + nadh_c\n",
      "ECOAH1: ECOAH1: 3hbcoa_c <=> b2coa_c + h2o_c\n",
      "ACTCO2L: ACTCO2L: acetone_c + atp_c + co2_c + 2.0 h2o_c --> acac_c + amp_c + 3.0 h_c + 2.0 pi_c\n",
      "GLC__Dtpts: GLC__Dtpts: glc__D_e + pep_c --> g6p_c + pyr_c\n",
      "FRUtpts: FRUtpts: fru_e + pep_c --> f6p_c + h_c + pyr_c\n",
      "ARAB__Ltabc: ARAB__Ltabc: arab__L_e + atp_c + h2o_c --> adp_c + arab__L_c + h_c + pi_c\n",
      "XYL__Dtabc: XYL__Dtabc: atp_c + h2o_c + xyl__D_e --> adp_c + h_c + pi_c + xyl__D_c\n",
      "GALtabc: GALtabc: atp_c + gal_e + h2o_c --> adp_c + gal_c + h_c + pi_c\n",
      "MNLtpts: MNLtpts: mnl_e + pep_c --> mnl1p_c + pyr_c\n",
      "CELLBtpts: CELLBtpts: cellb_e + pep_c --> cellb6p_c + pyr_c\n",
      "SUCRtpts: SUCRtpts: pep_c + sucr_e --> h_c + pyr_c + suc6p_c\n",
      "GLYCt: GLYCt: glyc_e <=> glyc_c\n",
      "RIB__Dtabc: RIB__Dtabc: atp_c + h2o_c + rib__D_e --> adp_c + h_c + pi_c + rib__D_c\n",
      "MANtpts: MANtpts: man_e + pep_c --> man6p_c + pyr_c\n",
      "SBTtpts: SBTtpts: pep_c + sbt__D_e --> h_c + pyr_c + sbt6p_c\n",
      "ACGAMtpts: ACGAMtpts: acgam_e + pep_c --> acgam6p_c + pyr_c\n",
      "ARBTtpts: ARBTtpts: arbt_e + pep_c --> arbt6p_c + h_c + pyr_c\n",
      "SALCNtpts: SALCNtpts: pep_c + salcn_e --> pyr_c + salcn6p_c\n",
      "MALTtabc: MALTtabc: atp_c + h2o_c + malt_e --> adp_c + h_c + malt_c + pi_c\n",
      "MALTtpts: MALTtpts: malt_e + pep_c --> malt6p_c + pyr_c\n",
      "TREtpts: TREtpts: pep_c + tre_e --> pyr_c + tre6p_c\n",
      "RMNt: RMNt: h_e + rmn_e --> h_c + rmn_c\n",
      "MELIBt: MELIBt: h_e + melib_e --> h_c + melib_c\n",
      "GTBIt: GTBIt: gtbi_e <=> gtbi_c\n",
      "GTBIHY: GTBIHY: gtbi_c + h2o_c --> 2.0 glc__D_c\n",
      "TURAt: TURAt: tura_e --> tura_c\n",
      "TURAHY: TURAHY: h2o_c + tura_c --> fru_c + glc__D_c\n",
      "KDG2t: KDG2t: kdg2_e --> kdg2_c\n",
      "KDG2R: KDG2R: glcn__D_c + nadp_c <=> h_c + kdg2_c + nadph_c\n",
      "DGLCN5t: DGLCN5t: dglcn5_e --> dglcn5_c\n",
      "DGLCN5R: DGLCN5R: dglcn5_c + h_c + nadph_c --> glcn__D_c + nadp_c\n",
      "MDGPt: MDGPt: mdgp_e --> mdgp_c\n",
      "BGAL: BGAL: h2o_c + mdgp_c --> glc__D_c + meoh_c\n",
      "ALCD1: ALCD1: meoh_c + nad_c <=> fald_c + h_c + nadh_c\n",
      "TAGtpts: TAGtpts: pep_c + tag__D_e --> h_c + pyr_c + tag1p__D_c\n",
      "TAG1PK: TAG1PK: atp_c + h_c + tag1p__D_c --> adp_c + tagdp__D_c\n",
      "TGBPA: TGBPA: tagdp__D_c <=> dhap_c + g3p_c\n",
      "AMYt: AMYt: amylose_e --> amylose_c\n",
      "PYRt: PYRt: h_e + pyr_e <=> h_c + pyr_c\n",
      "FORt: FORt: for_e + h_e <=> for_c + h_c\n",
      "PIt: PIt: h_e + pi_e <=> h_c + pi_c\n",
      "SUCD5: SUCD5: fadh2_c + 2.0 h_e + ubiquin_c --> fad_c + 2.0 h_c + qh2_c\n",
      "Kt: Kt: h_e + k_c --> h_c + k_e\n",
      "Kt2: Kt2: k_e <=> k_c\n",
      "NADHDH: NADHDH: 4.5 h_c + nadh_c + ubiquin_c --> 3.5 h_e + nad_c + qh2_c\n",
      "CYTBO3: CYTBO3: 2.5 h_c + 0.5 o2_c + qh2_c --> h2o_c + 2.5 h_e + ubiquin_c\n"
     ]
    }
   ],
   "source": [
    "model = cobra.io.read_sbml_model(\"../model/g-thermo.xml\")\n",
    "for reaction in model.reactions:\n",
    "    if \"sbo\" not in reaction.annotation:\n",
    "        print(f\"{reaction.id}: {reaction}\")"
   ]
  },
  {
   "cell_type": "markdown",
   "metadata": {},
   "source": [
    "They will be split into 3 groups:\n",
    "* SBO:0000185 (translocation reaction): All reactions ending in either `t` or `t2`.\n",
    "* SBO:0000655 (transport reaction): All reactions ending in either `tpts` or `tabc`.\n",
    "* SBO:0000176 (biochemical reaction): All the rest."
   ]
  },
  {
   "cell_type": "code",
   "execution_count": 6,
   "metadata": {},
   "outputs": [],
   "source": [
    "for reaction in model.reactions:\n",
    "    if \"sbo\" not in reaction.annotation:\n",
    "        if reaction.id.endswith(\"t\") or reaction.id.endswith(\"t2\"):\n",
    "            reaction.annotation[\"sbo\"] = \"SBO:0000185\"\n",
    "        elif reaction.id.endswith(\"tpts\") or reaction.id.endswith(\"tabc\"):\n",
    "            reaction.annotation[\"sbo\"] = \"SBO:0000655\"\n",
    "        else:\n",
    "            reaction.annotation[\"sbo\"] = \"SBO:0000176\"\n",
    "cobra.io.write_sbml_model(model,\"../model/g-thermo.xml\")"
   ]
  },
  {
   "cell_type": "markdown",
   "metadata": {},
   "source": [
    "## 4. Sort groups and group members\n",
    "\n",
    "Another difference that can be improved on the cobrapy's side is sorting the groups & the members within each group, the former alphabetically and the latter respecting the reaction order. We'll modify that as well in the writing function of cobrapy and test if it worked:"
   ]
  },
  {
   "cell_type": "code",
   "execution_count": 1,
   "metadata": {},
   "outputs": [
    {
     "name": "stdout",
     "output_type": "stream",
     "text": [
      "X\n",
      "00770\n",
      "Central Carbon Metabolism\n",
      "00290\n",
      "00280\n",
      "_C\n",
      "00010\n",
      "00280, 00290\n",
      "00030\n",
      "Pyrimidine metabolism\n",
      "240\n",
      "Fatty Acid Biosynthesis\n",
      "Butanoate Metabolism\n",
      "NGAM reaction\n",
      "S_\n",
      " \n",
      "HIBDm: 3hmp_c + nad_c <=> 2mop_c + h_c + nadh_c\n",
      "SHSL1: cys__L_c + suchms_c --> cyst__L_c + h_c + succ_c\n",
      "ACCOAC: accoa_c + atp_c + hco3_c --> adp_c + malcoa_c + pi_c\n",
      "PC6AR: h_c + nadph_c + pre6a_c --> nadp_c + pre6b_c\n",
      "ACOAD4f: dcacoa_c + fad_c + 3.0 h_c <=> dc2coa_c + fadh2_c\n",
      "NTD3: dcmp_c + h2o_c --> dcyt_c + h_c + pi_c\n",
      "UPPDC1: 4.0 co2_c + cpppg3_c <-- 4.0 h_c + uppg3_c\n",
      "DTPCNOPPCT: dtpcnopp_c + ipdp_c --> decdp_c + h_c + ppi_c\n",
      "GLYCLTDx: glyclt_c + nad_c <-- glx_c + h_c + nadh_c\n",
      "CELLBHY: cellb_c + h2o_c --> 2.0 glc__D_c\n"
     ]
    }
   ],
   "source": [
    "# Before:\n",
    "import cobra\n",
    "model = cobra.io.read_sbml_model(\"../model/g-thermo.xml\")\n",
    "for group in model.groups:\n",
    "    print(group)\n",
    "print(\" \")\n",
    "for member in model.groups.get_by_id(\"X\").members[0:10]:\n",
    "    print(member)\n",
    "cobra.io.write_sbml_model(model,\"../model/g-thermo.xml\")"
   ]
  },
  {
   "cell_type": "code",
   "execution_count": 2,
   "metadata": {},
   "outputs": [
    {
     "name": "stdout",
     "output_type": "stream",
     "text": [
      "00010\n",
      "00030\n",
      "00280\n",
      "00280, 00290\n",
      "00290\n",
      "00770\n",
      "240\n",
      "Butanoate Metabolism\n",
      "Central Carbon Metabolism\n",
      "Fatty Acid Biosynthesis\n",
      "NGAM reaction\n",
      "Pyrimidine metabolism\n",
      "S_\n",
      "X\n",
      "_C\n",
      " \n",
      "IDPh: h2o_c + ppi_c --> h_c + 2.0 pi_c\n",
      "CAT: 2.0 h2o2_c --> 2.0 h2o_c + o2_c\n",
      "CCP: 2.0 focytCB_c + h2o2_c + 2.0 h_c <=> 2.0 focytCA_c + 2.0 h2o_c\n",
      "HYDA: 2.0 fdxrd_c + 2.0 h_c <=> 2.0 fdxox_c + h2_c\n",
      "MALHYDRO: h2o_c + malt_c --> 2.0 glc__D_c\n",
      "PPBNGS: 2.0 5aop_c --> 2.0 h2o_c + h_c + ppbng_c\n",
      "RBFSb: 2.0 dmlz_c --> 4r5au_c + ribflv_c\n",
      "FERO: 4.0 fe2_c + 4.0 h_c + o2_c --> 4.0 fe3_c + 2.0 h2o_c\n",
      "FOCYCTCOR: 4.0 focytCB_c + 4.0 h_c + o2_c --> 4.0 focytCA_c + 2.0 h2o_c\n",
      "FOCYTCCOR: 4.0 focytcc553_c + o2_c --> 4.0 ficytcc553_c + 2.0 h2o_c\n"
     ]
    }
   ],
   "source": [
    "# After:\n",
    "model = cobra.io.read_sbml_model(\"../model/g-thermo.xml\")\n",
    "for group in model.groups:\n",
    "    print(group)\n",
    "print(\" \")\n",
    "for member in model.groups.get_by_id(\"X\").members[0:10]:\n",
    "    print(member)"
   ]
  },
  {
   "cell_type": "code",
   "execution_count": null,
   "metadata": {},
   "outputs": [],
   "source": []
  }
 ],
 "metadata": {
  "kernelspec": {
   "display_name": "Python 3",
   "language": "python",
   "name": "python3"
  },
  "language_info": {
   "codemirror_mode": {
    "name": "ipython",
    "version": 3
   },
   "file_extension": ".py",
   "mimetype": "text/x-python",
   "name": "python",
   "nbconvert_exporter": "python",
   "pygments_lexer": "ipython3",
   "version": "3.7.5"
  }
 },
 "nbformat": 4,
 "nbformat_minor": 4
}
