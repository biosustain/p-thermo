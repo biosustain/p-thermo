{
 "cells": [
  {
   "cell_type": "markdown",
   "metadata": {},
   "source": [
    "# Compatibility between Python and Matlab\n",
    "\n",
    "Trying to make the g-thermo model compatible between different versions of COBRA ([cobrapy](https://github.com/opencobra/cobrapy) and [cobratoolbox](https://github.com/opencobra/cobratoolbox)).\n",
    "\n",
    "Benjamín J. Sánchez, 2020-04-07\n",
    "\n",
    "## 1. Order of annotations\n",
    "\n",
    "The first noteworthy difference between the two different standards is that cobrapy will always respect the order of annotations in each reaction and stored them like that, whereas cobratoolbox will pre-sort them. This is something that could be improved in the `write_sbml_model` function of cobrapy (as the order doesn't matter anyways), so we will fix that in [this branch](https://github.com/BenjaSanchez/cobrapy/tree/fix/sort-annotations) of my cobrapy's fork. Now we can just read/write the model to confirm that everything is from now on sorted:"
   ]
  },
  {
   "cell_type": "code",
   "execution_count": 1,
   "metadata": {},
   "outputs": [
    {
     "name": "stdout",
     "output_type": "stream",
     "text": [
      "sbo\n",
      "kegg.reaction\n",
      "metanetx.reaction\n",
      "rhea\n",
      "ec-code\n"
     ]
    }
   ],
   "source": [
    "# Before:\n",
    "import cobra\n",
    "model = cobra.io.read_sbml_model(\"../model/g-thermo.xml\")\n",
    "for annotation in model.reactions[0].annotation:\n",
    "    print(annotation)\n",
    "cobra.io.write_sbml_model(model,\"../model/g-thermo.xml\")"
   ]
  },
  {
   "cell_type": "code",
   "execution_count": 2,
   "metadata": {},
   "outputs": [
    {
     "name": "stdout",
     "output_type": "stream",
     "text": [
      "sbo\n",
      "ec-code\n",
      "kegg.reaction\n",
      "metanetx.reaction\n",
      "rhea\n"
     ]
    }
   ],
   "source": [
    "# After:\n",
    "model = cobra.io.read_sbml_model(\"../model/g-thermo.xml\")\n",
    "for annotation in model.reactions[0].annotation:\n",
    "    print(annotation)"
   ]
  },
  {
   "cell_type": "markdown",
   "metadata": {},
   "source": [
    "Without counting SBO (which is a separate SBML object), we see that all annotations are now alphabetically ordered."
   ]
  },
  {
   "cell_type": "code",
   "execution_count": null,
   "metadata": {},
   "outputs": [],
   "source": []
  }
 ],
 "metadata": {
  "kernelspec": {
   "display_name": "Python 3",
   "language": "python",
   "name": "python3"
  },
  "language_info": {
   "codemirror_mode": {
    "name": "ipython",
    "version": 3
   },
   "file_extension": ".py",
   "mimetype": "text/x-python",
   "name": "python",
   "nbconvert_exporter": "python",
   "pygments_lexer": "ipython3",
   "version": "3.7.5"
  }
 },
 "nbformat": 4,
 "nbformat_minor": 4
}
