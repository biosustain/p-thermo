{
 "cells": [
  {
   "cell_type": "markdown",
   "metadata": {},
   "source": [
    "# Introduction\n",
    "As a final step in fixing the biomass reaction, we will need to re-fit the growth associated maintanence (GAM) in the reaction to capture the amount of energy needed for the production of biomass. Beata originally already did this in her thesis, but as we've changed the biomass reaction quite a bit in the mean time we need to fit this again.\n",
    "\n",
    "To do so, we will use the chemostat data presented in her thesis in figure 4.5. With this data we can minimize the error of the linear regression to estimate the best possible GAM that captures our data and model."
   ]
  },
  {
   "cell_type": "code",
   "execution_count": 33,
   "metadata": {},
   "outputs": [],
   "source": [
    "import cameo\n",
    "import pandas as pd\n",
    "import cobra.io\n",
    "import escher"
   ]
  },
  {
   "cell_type": "code",
   "execution_count": 34,
   "metadata": {},
   "outputs": [],
   "source": [
    "model = cobra.io.read_sbml_model('../../model/g-thermo.xml')"
   ]
  },
  {
   "cell_type": "markdown",
   "metadata": {},
   "source": [
    "## NGAM\n",
    "Before we fit the GAM, we need to make sure the NGAM is still correct, as we've changed quite a bit in the model since we did this last time. Based on Beata's thesis, we know the intercept of figure 4.5, i.e. the amount of glucose consumed when the cell is not growing. This is then the sugar that is converted into energy which is used for maintanence. \n",
    "\n",
    "To estimate the NGAM, we will fix the glucose consumption rate to that measured at a growth rate of 0. We will then block biomass formation. We can set the objective of the model to maximize ATP maintenance. The flux through the ATPM reaction then should become the lower bound of this reaction as it represents the NGAM. "
   ]
  },
  {
   "cell_type": "code",
   "execution_count": 3,
   "metadata": {},
   "outputs": [
    {
     "name": "stdout",
     "output_type": "stream",
     "text": [
      "<Solution 3.141 at 0x1b02260ba48>\n"
     ]
    }
   ],
   "source": [
    "with model:\n",
    "    model.reactions.EX_glc__D_e.bounds = (-0.1551,0) #0.1551 mmol glucose/gCDW/h is consumed at a growth rate of 0\n",
    "    model.reactions.biomass.bounds = (0,0)\n",
    "    model.reactions.ATPM.bounds = (0,1000) #remove the original estimated NGAM that was given\n",
    "    model.objective = 'ATPM'\n",
    "    print(model.optimize())"
   ]
  },
  {
   "cell_type": "markdown",
   "metadata": {},
   "source": [
    "so the non-growth associated maintenance should be fixed at 3.141 mmolATP/gCDW/h. This will be set by fixing the lower bounds of the ATPM reaction to this flux t oforce this flux through, regardless of the growth rate."
   ]
  },
  {
   "cell_type": "code",
   "execution_count": 4,
   "metadata": {
    "scrolled": true
   },
   "outputs": [],
   "source": [
    "model.reactions.ATPM.bounds = (3.141, 1000)"
   ]
  },
  {
   "cell_type": "code",
   "execution_count": 5,
   "metadata": {},
   "outputs": [],
   "source": [
    "#save&commit\n",
    "cobra.io.write_sbml_model(model,'../../model/g-thermo.xml')"
   ]
  },
  {
   "cell_type": "markdown",
   "metadata": {},
   "source": [
    "## GAM\n",
    "Now that we had fixed and fit the NGAM, we can move forward and fit the GAM to the model. \n",
    "\n",
    "For now I had to estimate the data from the image in Beata's thesis... This is not ideal. Martyn would look to see if he could find anything in the lab when they are allowed back in. "
   ]
  },
  {
   "cell_type": "code",
   "execution_count": 8,
   "metadata": {
    "scrolled": true
   },
   "outputs": [],
   "source": [
    "#import data\n",
    "df = pd.read_csv('../../databases/Growth data.csv', sep = ';')\n",
    "#should be in the long format"
   ]
  },
  {
   "cell_type": "code",
   "execution_count": 9,
   "metadata": {},
   "outputs": [],
   "source": [
    "del df['Unnamed: 6']"
   ]
  },
  {
   "cell_type": "code",
   "execution_count": 10,
   "metadata": {},
   "outputs": [],
   "source": [
    "del df['1 mm']\n",
    "del df['corresponds to']\n",
    "del df['0.074074074']\n",
    "del df['mmol/gcdw/h']"
   ]
  },
  {
   "cell_type": "code",
   "execution_count": 11,
   "metadata": {},
   "outputs": [
    {
     "data": {
      "text/html": [
       "<div>\n",
       "<style scoped>\n",
       "    .dataframe tbody tr th:only-of-type {\n",
       "        vertical-align: middle;\n",
       "    }\n",
       "\n",
       "    .dataframe tbody tr th {\n",
       "        vertical-align: top;\n",
       "    }\n",
       "\n",
       "    .dataframe thead th {\n",
       "        text-align: right;\n",
       "    }\n",
       "</style>\n",
       "<table border=\"1\" class=\"dataframe\">\n",
       "  <thead>\n",
       "    <tr style=\"text-align: right;\">\n",
       "      <th></th>\n",
       "      <th>Growth rate</th>\n",
       "      <th>Glucose_consumption_1</th>\n",
       "      <th>Glucose_consumption_2</th>\n",
       "      <th>Glucose_consumption_3</th>\n",
       "      <th>Mean_glucose_consumption</th>\n",
       "      <th>st_dev</th>\n",
       "    </tr>\n",
       "  </thead>\n",
       "  <tbody>\n",
       "    <tr>\n",
       "      <th>0</th>\n",
       "      <td>0.05</td>\n",
       "      <td>1.000000</td>\n",
       "      <td>1.148148</td>\n",
       "      <td>1.259259</td>\n",
       "      <td>1.135802</td>\n",
       "      <td>0.130070</td>\n",
       "    </tr>\n",
       "    <tr>\n",
       "      <th>1</th>\n",
       "      <td>0.10</td>\n",
       "      <td>1.703704</td>\n",
       "      <td>1.851852</td>\n",
       "      <td>2.014815</td>\n",
       "      <td>1.856790</td>\n",
       "      <td>0.155614</td>\n",
       "    </tr>\n",
       "    <tr>\n",
       "      <th>2</th>\n",
       "      <td>0.20</td>\n",
       "      <td>3.000000</td>\n",
       "      <td>3.111111</td>\n",
       "      <td>3.200000</td>\n",
       "      <td>3.103704</td>\n",
       "      <td>0.100206</td>\n",
       "    </tr>\n",
       "    <tr>\n",
       "      <th>3</th>\n",
       "      <td>0.40</td>\n",
       "      <td>5.925926</td>\n",
       "      <td>6.814815</td>\n",
       "      <td>7.962963</td>\n",
       "      <td>6.901235</td>\n",
       "      <td>1.021265</td>\n",
       "    </tr>\n",
       "  </tbody>\n",
       "</table>\n",
       "</div>"
      ],
      "text/plain": [
       "   Growth rate  Glucose_consumption_1  Glucose_consumption_2  \\\n",
       "0         0.05               1.000000               1.148148   \n",
       "1         0.10               1.703704               1.851852   \n",
       "2         0.20               3.000000               3.111111   \n",
       "3         0.40               5.925926               6.814815   \n",
       "\n",
       "   Glucose_consumption_3  Mean_glucose_consumption    st_dev  \n",
       "0               1.259259                  1.135802  0.130070  \n",
       "1               2.014815                  1.856790  0.155614  \n",
       "2               3.200000                  3.103704  0.100206  \n",
       "3               7.962963                  6.901235  1.021265  "
      ]
     },
     "execution_count": 11,
     "metadata": {},
     "output_type": "execute_result"
    }
   ],
   "source": [
    "df"
   ]
  },
  {
   "cell_type": "code",
   "execution_count": 37,
   "metadata": {},
   "outputs": [],
   "source": [
    "#add a function that will fit the gam\n",
    "#GAM_list = list of GAMS to test, e.g. from 10 to 100 with an interval of 1. This will be changed with each iteration\n",
    "#df = Data frame with each condition and the mean and stdev measured glucose consumption rates\n",
    "def iteration(model, GAM_list, df):\n",
    "    R_list = []\n",
    "    for GAM in GAM_list:\n",
    "        model_copy = copy(model) \n",
    "        model_copy.reactions.biomass.add_metabolites({\n",
    "            model_copy.metabolites.atp_c: -GAM,\n",
    "            model_copy.metabolites.adp_c: GAM,\n",
    "            model_copy.metabolites.pi_c:GAM,\n",
    "            model_copy.metabolites.h2o_c: -GAM,\n",
    "            model_copy.metabolites.h_c: GAM}) \n",
    "        R = []\n",
    "        for index,row in df.iterrows():\n",
    "            fx_biomass = row['Growth rate']    #here call the condition set by the data frame in the above\n",
    "            model_copy.reactions.biomass.bounds = (fx_biomass,fx_biomass)\n",
    "            model_copy.reactions.biomass.objective_coefficient = 0 #remove biomass objective\n",
    "            model_copy.reactions.EX_glc__D_e.objective_coefficient = 1 #minimize the Glucose uptake as objective\n",
    "            vG = model_copy.optimize().objective_value #predictied glucose consumption to get the fixed growth rate for this GAM\n",
    "            meanEXP = row['Mean_glucose_consumption'] #mean measured glucose consumption rate for this growth rate \n",
    "            stdEXP = row['st_dev']#stdev at this growth rate\n",
    "            R.append(abs(vG - meanEXP)/stdEXP) #calculate how far the predicted vG differs from the measured and store it in a list\n",
    "        R_list.append(sum(R))\n",
    "    #find the minimum from the list of GAMs tried\n",
    "    smallest_R = min(R_list)\n",
    "    #then find the GAM that associates to the smallest R\n",
    "    find_index = R_list.index(smallest_R)\n",
    "    best_GAM = GAM_list[find_index]\n",
    "    return print(best_GAM, R_list)"
   ]
  },
  {
   "cell_type": "code",
   "execution_count": 38,
   "metadata": {},
   "outputs": [],
   "source": [
    "#first remove the GAM from the model biomass reaction to start with a clean slate\n",
    "model.reactions.biomass.add_metabolites({\n",
    "    model.metabolites.atp_c: 104.9974,\n",
    "    model.metabolites.adp_c: -104.9974,\n",
    "    model.metabolites.pi_c:-104.9974,\n",
    "    model.metabolites.h2o_c: 104.9974,\n",
    "    model.metabolites.h_c: -104.9974\n",
    "})"
   ]
  },
  {
   "cell_type": "code",
   "execution_count": 39,
   "metadata": {},
   "outputs": [],
   "source": [
    "#Allow any glucose uptake\n",
    "model.reactions.EX_glc__D_e.bounds = (-1000,0)"
   ]
  },
  {
   "cell_type": "code",
   "execution_count": 40,
   "metadata": {},
   "outputs": [],
   "source": [
    "#1st iteration, going from 10 to 150, in intervals of 10\n",
    "GAM_list = list(range(10,151,10))"
   ]
  },
  {
   "cell_type": "code",
   "execution_count": 41,
   "metadata": {
    "scrolled": false
   },
   "outputs": [
    {
     "name": "stdout",
     "output_type": "stream",
     "text": [
      "10 [88.9105103451747, 92.20964351619276, 97.16436267622984, 103.81121955183708, 112.24216662863662, 122.35947638235238, 134.16300442835472, 147.65275076664352, 162.82871539721754, 179.6908983200775, 198.23929953522205, 218.473919042655, 240.3947568423735, 264.00181293437737, 289.29508731866764]\n"
     ]
    }
   ],
   "source": [
    "iteration(model, GAM_list, df)"
   ]
  },
  {
   "cell_type": "code",
   "execution_count": 28,
   "metadata": {},
   "outputs": [],
   "source": [
    "#still get cumulative GAM in the model..."
   ]
  },
  {
   "cell_type": "code",
   "execution_count": 42,
   "metadata": {
    "scrolled": true
   },
   "outputs": [
    {
     "data": {
      "text/plain": [
       "{<Metabolite pydx5p_c at 0x1c67c394b48>: -0.000199107142857143,\n",
       " <Metabolite adocbl_c at 0x1c67cc01208>: -0.000199107142857143,\n",
       " <Metabolite qh2_c at 0x1c67cc79788>: -0.000267857142857145,\n",
       " <Metabolite fru_c at 0x1c67cc8b488>: -0.104791964285714,\n",
       " <Metabolite gdpmann_c at 0x1c67cc8b208>: -0.00572410714285714,\n",
       " <Metabolite coa_c at 0x1c67be2a0c8>: -0.000150000000000001,\n",
       " <Metabolite leu__L_c at 0x1c67cb53688>: -0.347473214285714,\n",
       " <Metabolite ptrc_c at 0x1c67cb1ff88>: -0.00535714285714286,\n",
       " <Metabolite his__L_c at 0x1c67cb1a188>: -0.0778214285714286,\n",
       " <Metabolite gmp_c at 0x1c67cae6248>: -0.0914575678571428,\n",
       " <Metabolite ppi_c at 0x1c67cae1708>: -0.00107142857142857,\n",
       " <Metabolite pro__L_c at 0x1c67cacda88>: -0.166535714285714,\n",
       " <Metabolite asn__L_c at 0x1c67cac00c8>: -0.221941964285714,\n",
       " <Metabolite fad_c at 0x1c67ca68708>: -0.000199107142857144,\n",
       " <Metabolite val__L_c at 0x1c67ca658c8>: -0.376142857142857,\n",
       " <Metabolite thr__L_c at 0x1c67ca4fc08>: -0.268767857142857,\n",
       " <Metabolite phe__L_c at 0x1c67ca3f608>: -0.145116071428571,\n",
       " <Metabolite succoa_c at 0x1c67ca39c08>: -8.7537500000002e-05,\n",
       " <Metabolite fe3_c at 0x1c67ca34708>: -0.0303598589285714,\n",
       " <Metabolite hemeO_c at 0x1c67ca26188>: -0.000199107142857143,\n",
       " <Metabolite amet_c at 0x1c67ca1be88>: -0.000199107142857143,\n",
       " <Metabolite amp_c at 0x1c67c9fc788>: -0.119274155357143,\n",
       " <Metabolite 10fthf_c at 0x1c67c9e8ac8>: -0.000357142857142857,\n",
       " <Metabolite dcmp_c at 0x1c67c9d6a08>: -0.00593671160714286,\n",
       " <Metabolite atp_c at 0x1c67c9d6a88>: -1200.0299030420001,\n",
       " <Metabolite chor_c at 0x1c67c9ba388>: -0.000199107142857144,\n",
       " <Metabolite ribflv_c at 0x1c67c9a72c8>: -0.000199107142857144,\n",
       " <Metabolite accoa_c at 0x1c67c98e988>: -0.000249107142857144,\n",
       " <Metabolite glu__L_c at 0x1c67c978d08>: -0.322004464285714,\n",
       " <Metabolite spmd_c at 0x1c67c9418c8>: -0.00107142857142857,\n",
       " <Metabolite damp_c at 0x1c67c8fbfc8>: -0.00774234821428571,\n",
       " <Metabolite udpg_c at 0x1c67c8f5048>: -0.00957589285714286,\n",
       " <Metabolite dgmp_c at 0x1c67c8eaf88>: -0.00593671160714286,\n",
       " <Metabolite dtmp_c at 0x1c67c8e5708>: -0.00774234821428571,\n",
       " <Metabolite ile__L_c at 0x1c67c8c5108>: -0.272794642857143,\n",
       " <Metabolite nad_c at 0x1c67c8bc508>: -0.0144642857142857,\n",
       " <Metabolite pheme_c at 0x1c67c8b8b88>: -0.000199107142857143,\n",
       " <Metabolite gly_c at 0x1c67c849f48>: -0.407705357142857,\n",
       " <Metabolite ala__L_c at 0x1c67c821bc8>: -0.514187446428571,\n",
       " <Metabolite nadh_c at 0x1c67c7f2a88>: -0.0267393232142857,\n",
       " <Metabolite sprm_c at 0x1c67c7c9c08>: -0.0025,\n",
       " <Metabolite lys__L_c at 0x1c67c7c9b88>: -0.317151785714286,\n",
       " <Metabolite asp__L_c at 0x1c67c7b0708>: -0.221941964285714,\n",
       " <Metabolite udpgal_c at 0x1c67c78af88>: -0.189496428571429,\n",
       " <Metabolite nadph_c at 0x1c67c763348>: -0.00267857142857143,\n",
       " <Metabolite cmp_c at 0x1c67c75da08>: -0.0914575678571428,\n",
       " <Metabolite fmn_c at 0x1c67c724388>: -0.000199107142857143,\n",
       " <Metabolite arg__L_c at 0x1c67c71c788>: -0.183080357142857,\n",
       " <Metabolite gln__L_c at 0x1c67c701cc8>: -0.322004464285714,\n",
       " <Metabolite ser__L_c at 0x1c67c6f29c8>: -0.181133928571429,\n",
       " <Metabolite nadp_c at 0x1c67c6f0948>: -0.00419642857142857,\n",
       " <Metabolite thmpp_c at 0x1c67c6e3b48>: -0.000199107142857145,\n",
       " <Metabolite met__L_c at 0x1c67c6d1108>: -0.0831875,\n",
       " <Metabolite trp__L_c at 0x1c67c6b5188>: -0.102625,\n",
       " <Metabolite tyr__L_c at 0x1c67c6928c8>: -0.103598214285714,\n",
       " <Metabolite cys__L_c at 0x1c67c636048>: -0.107866071428571,\n",
       " <Metabolite ump_c at 0x1c67c6169c8>: -0.119274155892857,\n",
       " <Metabolite btn_c at 0x1c67c5ba488>: -1.78571428571429e-06,\n",
       " <Metabolite k_c at 0x1c67c5925c8>: -0.632321428571429,\n",
       " <Metabolite mg2_c at 0x1c67c5837c8>: -0.0875,\n",
       " <Metabolite ca2_c at 0x1c67c5803c8>: -0.0028125,\n",
       " <Metabolite udparab_c at 0x1c67c57a4c8>: -0.0407366071428571,\n",
       " <Metabolite udpxyl_c at 0x1c67c577c48>: -0.182473214285714,\n",
       " <Metabolite bacthiolbsh_c at 0x1c67c5275c8>: -6.23441071428571e-05,\n",
       " <Metabolite bacthiolbssb_c at 0x1c67c527a88>: -1.55892857142857e-07,\n",
       " <Metabolite pg_c at 0x1c67c527848>: -0.0277116071428571,\n",
       " <Metabolite pe_c at 0x1c67c5277c8>: -0.02895,\n",
       " <Metabolite clpn_c at 0x1c67c527688>: -0.0295910714285714,\n",
       " <Metabolite sheme_c at 0x1c67c4fcd88>: -0.000199107142857143,\n",
       " <Metabolite udp_c at 0x1c67ca92608>: 0.422282142857143,\n",
       " <Metabolite gdp_c at 0x1c67c878c08>: 0.00572410714285714,\n",
       " <Metabolite pi_c at 0x1c67c62f5c8>: 1199.9882,\n",
       " <Metabolite Biomass_c at 0x1c67c5f7288>: 1.0,\n",
       " <Metabolite adp_c at 0x1c67c664048>: 1200,\n",
       " <Metabolite h2o_c at 0x1c67cc6d808>: -1200,\n",
       " <Metabolite h_c at 0x1c67c6a83c8>: 1200}"
      ]
     },
     "execution_count": 42,
     "metadata": {},
     "output_type": "execute_result"
    }
   ],
   "source": [
    "model.reactions.biomass.metabolites"
   ]
  },
  {
   "cell_type": "code",
   "execution_count": null,
   "metadata": {},
   "outputs": [],
   "source": []
  },
  {
   "cell_type": "code",
   "execution_count": null,
   "metadata": {},
   "outputs": [],
   "source": []
  },
  {
   "cell_type": "code",
   "execution_count": null,
   "metadata": {},
   "outputs": [],
   "source": [
    "R_best = iteration(model, 10...100)\n",
    "R_best = iteration(model, R_best-10...1...R_best+10)\n",
    "R_best = iteration(model, R_best-1...0.1...R_best+1)"
   ]
  },
  {
   "cell_type": "markdown",
   "metadata": {},
   "source": [
    "need chemostate data:\n",
    "dilution rate vs consumption rates\n",
    "\n",
    "if we make more changes o the model: when/if to refit?"
   ]
  }
 ],
 "metadata": {
  "kernelspec": {
   "display_name": "Python 3",
   "language": "python",
   "name": "python3"
  },
  "language_info": {
   "codemirror_mode": {
    "name": "ipython",
    "version": 3
   },
   "file_extension": ".py",
   "mimetype": "text/x-python",
   "name": "python",
   "nbconvert_exporter": "python",
   "pygments_lexer": "ipython3",
   "version": "3.7.7"
  }
 },
 "nbformat": 4,
 "nbformat_minor": 4
}
