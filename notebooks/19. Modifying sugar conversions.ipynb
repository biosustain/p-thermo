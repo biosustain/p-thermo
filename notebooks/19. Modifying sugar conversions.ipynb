{
 "cells": [
  {
   "cell_type": "markdown",
   "metadata": {},
   "source": [
    "# Introduction\n",
    "From previous work, I have noticed that especially in the sugars there are quite some 'duplicate' sugars. E.g. f6p_k_c and f6p_B_c. The problem with this is that there are then also different reactions for the different metabolites, and then visualization of what is really happening in the model becomes difficult. Also, one can then have duplicate fluxes that do not connect properly to the rest of the model. Also because of this, the reactions and metabolites have been given BiGG compliant IDs, but not exactly as they should be and so this should be fixed. \n",
    "\n",
    "So in this notebook, I will take a look at these conversions. Specifically in glycolysis and the TCA it would be good to be able to observe the changes of flux distributions when we modify medium, make KO etc. "
   ]
  },
  {
   "cell_type": "code",
   "execution_count": 1,
   "metadata": {},
   "outputs": [
    {
     "data": {
      "application/javascript": [
       "\n",
       "(function(root) {\n",
       "  function now() {\n",
       "    return new Date();\n",
       "  }\n",
       "\n",
       "  var force = true;\n",
       "\n",
       "  if (typeof root._bokeh_onload_callbacks === \"undefined\" || force === true) {\n",
       "    root._bokeh_onload_callbacks = [];\n",
       "    root._bokeh_is_loading = undefined;\n",
       "  }\n",
       "\n",
       "  var JS_MIME_TYPE = 'application/javascript';\n",
       "  var HTML_MIME_TYPE = 'text/html';\n",
       "  var EXEC_MIME_TYPE = 'application/vnd.bokehjs_exec.v0+json';\n",
       "  var CLASS_NAME = 'output_bokeh rendered_html';\n",
       "\n",
       "  /**\n",
       "   * Render data to the DOM node\n",
       "   */\n",
       "  function render(props, node) {\n",
       "    var script = document.createElement(\"script\");\n",
       "    node.appendChild(script);\n",
       "  }\n",
       "\n",
       "  /**\n",
       "   * Handle when an output is cleared or removed\n",
       "   */\n",
       "  function handleClearOutput(event, handle) {\n",
       "    var cell = handle.cell;\n",
       "\n",
       "    var id = cell.output_area._bokeh_element_id;\n",
       "    var server_id = cell.output_area._bokeh_server_id;\n",
       "    // Clean up Bokeh references\n",
       "    if (id != null && id in Bokeh.index) {\n",
       "      Bokeh.index[id].model.document.clear();\n",
       "      delete Bokeh.index[id];\n",
       "    }\n",
       "\n",
       "    if (server_id !== undefined) {\n",
       "      // Clean up Bokeh references\n",
       "      var cmd = \"from bokeh.io.state import curstate; print(curstate().uuid_to_server['\" + server_id + \"'].get_sessions()[0].document.roots[0]._id)\";\n",
       "      cell.notebook.kernel.execute(cmd, {\n",
       "        iopub: {\n",
       "          output: function(msg) {\n",
       "            var id = msg.content.text.trim();\n",
       "            if (id in Bokeh.index) {\n",
       "              Bokeh.index[id].model.document.clear();\n",
       "              delete Bokeh.index[id];\n",
       "            }\n",
       "          }\n",
       "        }\n",
       "      });\n",
       "      // Destroy server and session\n",
       "      var cmd = \"import bokeh.io.notebook as ion; ion.destroy_server('\" + server_id + \"')\";\n",
       "      cell.notebook.kernel.execute(cmd);\n",
       "    }\n",
       "  }\n",
       "\n",
       "  /**\n",
       "   * Handle when a new output is added\n",
       "   */\n",
       "  function handleAddOutput(event, handle) {\n",
       "    var output_area = handle.output_area;\n",
       "    var output = handle.output;\n",
       "\n",
       "    // limit handleAddOutput to display_data with EXEC_MIME_TYPE content only\n",
       "    if ((output.output_type != \"display_data\") || (!output.data.hasOwnProperty(EXEC_MIME_TYPE))) {\n",
       "      return\n",
       "    }\n",
       "\n",
       "    var toinsert = output_area.element.find(\".\" + CLASS_NAME.split(' ')[0]);\n",
       "\n",
       "    if (output.metadata[EXEC_MIME_TYPE][\"id\"] !== undefined) {\n",
       "      toinsert[toinsert.length - 1].firstChild.textContent = output.data[JS_MIME_TYPE];\n",
       "      // store reference to embed id on output_area\n",
       "      output_area._bokeh_element_id = output.metadata[EXEC_MIME_TYPE][\"id\"];\n",
       "    }\n",
       "    if (output.metadata[EXEC_MIME_TYPE][\"server_id\"] !== undefined) {\n",
       "      var bk_div = document.createElement(\"div\");\n",
       "      bk_div.innerHTML = output.data[HTML_MIME_TYPE];\n",
       "      var script_attrs = bk_div.children[0].attributes;\n",
       "      for (var i = 0; i < script_attrs.length; i++) {\n",
       "        toinsert[toinsert.length - 1].firstChild.setAttribute(script_attrs[i].name, script_attrs[i].value);\n",
       "      }\n",
       "      // store reference to server id on output_area\n",
       "      output_area._bokeh_server_id = output.metadata[EXEC_MIME_TYPE][\"server_id\"];\n",
       "    }\n",
       "  }\n",
       "\n",
       "  function register_renderer(events, OutputArea) {\n",
       "\n",
       "    function append_mime(data, metadata, element) {\n",
       "      // create a DOM node to render to\n",
       "      var toinsert = this.create_output_subarea(\n",
       "        metadata,\n",
       "        CLASS_NAME,\n",
       "        EXEC_MIME_TYPE\n",
       "      );\n",
       "      this.keyboard_manager.register_events(toinsert);\n",
       "      // Render to node\n",
       "      var props = {data: data, metadata: metadata[EXEC_MIME_TYPE]};\n",
       "      render(props, toinsert[toinsert.length - 1]);\n",
       "      element.append(toinsert);\n",
       "      return toinsert\n",
       "    }\n",
       "\n",
       "    /* Handle when an output is cleared or removed */\n",
       "    events.on('clear_output.CodeCell', handleClearOutput);\n",
       "    events.on('delete.Cell', handleClearOutput);\n",
       "\n",
       "    /* Handle when a new output is added */\n",
       "    events.on('output_added.OutputArea', handleAddOutput);\n",
       "\n",
       "    /**\n",
       "     * Register the mime type and append_mime function with output_area\n",
       "     */\n",
       "    OutputArea.prototype.register_mime_type(EXEC_MIME_TYPE, append_mime, {\n",
       "      /* Is output safe? */\n",
       "      safe: true,\n",
       "      /* Index of renderer in `output_area.display_order` */\n",
       "      index: 0\n",
       "    });\n",
       "  }\n",
       "\n",
       "  // register the mime type if in Jupyter Notebook environment and previously unregistered\n",
       "  if (root.Jupyter !== undefined) {\n",
       "    var events = require('base/js/events');\n",
       "    var OutputArea = require('notebook/js/outputarea').OutputArea;\n",
       "\n",
       "    if (OutputArea.prototype.mime_types().indexOf(EXEC_MIME_TYPE) == -1) {\n",
       "      register_renderer(events, OutputArea);\n",
       "    }\n",
       "  }\n",
       "\n",
       "  \n",
       "  if (typeof (root._bokeh_timeout) === \"undefined\" || force === true) {\n",
       "    root._bokeh_timeout = Date.now() + 5000;\n",
       "    root._bokeh_failed_load = false;\n",
       "  }\n",
       "\n",
       "  var NB_LOAD_WARNING = {'data': {'text/html':\n",
       "     \"<div style='background-color: #fdd'>\\n\"+\n",
       "     \"<p>\\n\"+\n",
       "     \"BokehJS does not appear to have successfully loaded. If loading BokehJS from CDN, this \\n\"+\n",
       "     \"may be due to a slow or bad network connection. Possible fixes:\\n\"+\n",
       "     \"</p>\\n\"+\n",
       "     \"<ul>\\n\"+\n",
       "     \"<li>re-rerun `output_notebook()` to attempt to load from CDN again, or</li>\\n\"+\n",
       "     \"<li>use INLINE resources instead, as so:</li>\\n\"+\n",
       "     \"</ul>\\n\"+\n",
       "     \"<code>\\n\"+\n",
       "     \"from bokeh.resources import INLINE\\n\"+\n",
       "     \"output_notebook(resources=INLINE)\\n\"+\n",
       "     \"</code>\\n\"+\n",
       "     \"</div>\"}};\n",
       "\n",
       "  function display_loaded() {\n",
       "    var el = document.getElementById(null);\n",
       "    if (el != null) {\n",
       "      el.textContent = \"BokehJS is loading...\";\n",
       "    }\n",
       "    if (root.Bokeh !== undefined) {\n",
       "      if (el != null) {\n",
       "        el.textContent = \"BokehJS \" + root.Bokeh.version + \" successfully loaded.\";\n",
       "      }\n",
       "    } else if (Date.now() < root._bokeh_timeout) {\n",
       "      setTimeout(display_loaded, 100)\n",
       "    }\n",
       "  }\n",
       "\n",
       "\n",
       "  function run_callbacks() {\n",
       "    try {\n",
       "      root._bokeh_onload_callbacks.forEach(function(callback) {\n",
       "        if (callback != null)\n",
       "          callback();\n",
       "      });\n",
       "    } finally {\n",
       "      delete root._bokeh_onload_callbacks\n",
       "    }\n",
       "    console.debug(\"Bokeh: all callbacks have finished\");\n",
       "  }\n",
       "\n",
       "  function load_libs(css_urls, js_urls, callback) {\n",
       "    if (css_urls == null) css_urls = [];\n",
       "    if (js_urls == null) js_urls = [];\n",
       "\n",
       "    root._bokeh_onload_callbacks.push(callback);\n",
       "    if (root._bokeh_is_loading > 0) {\n",
       "      console.debug(\"Bokeh: BokehJS is being loaded, scheduling callback at\", now());\n",
       "      return null;\n",
       "    }\n",
       "    if (js_urls == null || js_urls.length === 0) {\n",
       "      run_callbacks();\n",
       "      return null;\n",
       "    }\n",
       "    console.debug(\"Bokeh: BokehJS not loaded, scheduling load and callback at\", now());\n",
       "    root._bokeh_is_loading = css_urls.length + js_urls.length;\n",
       "\n",
       "    function on_load() {\n",
       "      root._bokeh_is_loading--;\n",
       "      if (root._bokeh_is_loading === 0) {\n",
       "        console.debug(\"Bokeh: all BokehJS libraries/stylesheets loaded\");\n",
       "        run_callbacks()\n",
       "      }\n",
       "    }\n",
       "\n",
       "    function on_error() {\n",
       "      console.error(\"failed to load \" + url);\n",
       "    }\n",
       "\n",
       "    for (var i = 0; i < css_urls.length; i++) {\n",
       "      var url = css_urls[i];\n",
       "      const element = document.createElement(\"link\");\n",
       "      element.onload = on_load;\n",
       "      element.onerror = on_error;\n",
       "      element.rel = \"stylesheet\";\n",
       "      element.type = \"text/css\";\n",
       "      element.href = url;\n",
       "      console.debug(\"Bokeh: injecting link tag for BokehJS stylesheet: \", url);\n",
       "      document.body.appendChild(element);\n",
       "    }\n",
       "\n",
       "    for (var i = 0; i < js_urls.length; i++) {\n",
       "      var url = js_urls[i];\n",
       "      var element = document.createElement('script');\n",
       "      element.onload = on_load;\n",
       "      element.onerror = on_error;\n",
       "      element.async = false;\n",
       "      element.src = url;\n",
       "      console.debug(\"Bokeh: injecting script tag for BokehJS library: \", url);\n",
       "      document.head.appendChild(element);\n",
       "    }\n",
       "  };\n",
       "\n",
       "  function inject_raw_css(css) {\n",
       "    const element = document.createElement(\"style\");\n",
       "    element.appendChild(document.createTextNode(css));\n",
       "    document.body.appendChild(element);\n",
       "  }\n",
       "\n",
       "  var js_urls = [\"https://cdn.pydata.org/bokeh/release/bokeh-1.3.4.min.js\", \"https://cdn.pydata.org/bokeh/release/bokeh-widgets-1.3.4.min.js\", \"https://cdn.pydata.org/bokeh/release/bokeh-tables-1.3.4.min.js\", \"https://cdn.pydata.org/bokeh/release/bokeh-gl-1.3.4.min.js\"];\n",
       "  var css_urls = [];\n",
       "\n",
       "  var inline_js = [\n",
       "    function(Bokeh) {\n",
       "      Bokeh.set_log_level(\"info\");\n",
       "    },\n",
       "    \n",
       "    function(Bokeh) {\n",
       "      \n",
       "    },\n",
       "    function(Bokeh) {} // ensure no trailing comma for IE\n",
       "  ];\n",
       "\n",
       "  function run_inline_js() {\n",
       "    \n",
       "    if ((root.Bokeh !== undefined) || (force === true)) {\n",
       "      for (var i = 0; i < inline_js.length; i++) {\n",
       "        inline_js[i].call(root, root.Bokeh);\n",
       "      }} else if (Date.now() < root._bokeh_timeout) {\n",
       "      setTimeout(run_inline_js, 100);\n",
       "    } else if (!root._bokeh_failed_load) {\n",
       "      console.log(\"Bokeh: BokehJS failed to load within specified timeout.\");\n",
       "      root._bokeh_failed_load = true;\n",
       "    } else if (force !== true) {\n",
       "      var cell = $(document.getElementById(null)).parents('.cell').data().cell;\n",
       "      cell.output_area.append_execute_result(NB_LOAD_WARNING)\n",
       "    }\n",
       "\n",
       "  }\n",
       "\n",
       "  if (root._bokeh_is_loading === 0) {\n",
       "    console.debug(\"Bokeh: BokehJS loaded, going straight to plotting\");\n",
       "    run_inline_js();\n",
       "  } else {\n",
       "    load_libs(css_urls, js_urls, function() {\n",
       "      console.debug(\"Bokeh: BokehJS plotting callback run at\", now());\n",
       "      run_inline_js();\n",
       "    });\n",
       "  }\n",
       "}(window));"
      ],
      "application/vnd.bokehjs_load.v0+json": "\n(function(root) {\n  function now() {\n    return new Date();\n  }\n\n  var force = true;\n\n  if (typeof root._bokeh_onload_callbacks === \"undefined\" || force === true) {\n    root._bokeh_onload_callbacks = [];\n    root._bokeh_is_loading = undefined;\n  }\n\n  \n\n  \n  if (typeof (root._bokeh_timeout) === \"undefined\" || force === true) {\n    root._bokeh_timeout = Date.now() + 5000;\n    root._bokeh_failed_load = false;\n  }\n\n  var NB_LOAD_WARNING = {'data': {'text/html':\n     \"<div style='background-color: #fdd'>\\n\"+\n     \"<p>\\n\"+\n     \"BokehJS does not appear to have successfully loaded. If loading BokehJS from CDN, this \\n\"+\n     \"may be due to a slow or bad network connection. Possible fixes:\\n\"+\n     \"</p>\\n\"+\n     \"<ul>\\n\"+\n     \"<li>re-rerun `output_notebook()` to attempt to load from CDN again, or</li>\\n\"+\n     \"<li>use INLINE resources instead, as so:</li>\\n\"+\n     \"</ul>\\n\"+\n     \"<code>\\n\"+\n     \"from bokeh.resources import INLINE\\n\"+\n     \"output_notebook(resources=INLINE)\\n\"+\n     \"</code>\\n\"+\n     \"</div>\"}};\n\n  function display_loaded() {\n    var el = document.getElementById(null);\n    if (el != null) {\n      el.textContent = \"BokehJS is loading...\";\n    }\n    if (root.Bokeh !== undefined) {\n      if (el != null) {\n        el.textContent = \"BokehJS \" + root.Bokeh.version + \" successfully loaded.\";\n      }\n    } else if (Date.now() < root._bokeh_timeout) {\n      setTimeout(display_loaded, 100)\n    }\n  }\n\n\n  function run_callbacks() {\n    try {\n      root._bokeh_onload_callbacks.forEach(function(callback) {\n        if (callback != null)\n          callback();\n      });\n    } finally {\n      delete root._bokeh_onload_callbacks\n    }\n    console.debug(\"Bokeh: all callbacks have finished\");\n  }\n\n  function load_libs(css_urls, js_urls, callback) {\n    if (css_urls == null) css_urls = [];\n    if (js_urls == null) js_urls = [];\n\n    root._bokeh_onload_callbacks.push(callback);\n    if (root._bokeh_is_loading > 0) {\n      console.debug(\"Bokeh: BokehJS is being loaded, scheduling callback at\", now());\n      return null;\n    }\n    if (js_urls == null || js_urls.length === 0) {\n      run_callbacks();\n      return null;\n    }\n    console.debug(\"Bokeh: BokehJS not loaded, scheduling load and callback at\", now());\n    root._bokeh_is_loading = css_urls.length + js_urls.length;\n\n    function on_load() {\n      root._bokeh_is_loading--;\n      if (root._bokeh_is_loading === 0) {\n        console.debug(\"Bokeh: all BokehJS libraries/stylesheets loaded\");\n        run_callbacks()\n      }\n    }\n\n    function on_error() {\n      console.error(\"failed to load \" + url);\n    }\n\n    for (var i = 0; i < css_urls.length; i++) {\n      var url = css_urls[i];\n      const element = document.createElement(\"link\");\n      element.onload = on_load;\n      element.onerror = on_error;\n      element.rel = \"stylesheet\";\n      element.type = \"text/css\";\n      element.href = url;\n      console.debug(\"Bokeh: injecting link tag for BokehJS stylesheet: \", url);\n      document.body.appendChild(element);\n    }\n\n    for (var i = 0; i < js_urls.length; i++) {\n      var url = js_urls[i];\n      var element = document.createElement('script');\n      element.onload = on_load;\n      element.onerror = on_error;\n      element.async = false;\n      element.src = url;\n      console.debug(\"Bokeh: injecting script tag for BokehJS library: \", url);\n      document.head.appendChild(element);\n    }\n  };\n\n  function inject_raw_css(css) {\n    const element = document.createElement(\"style\");\n    element.appendChild(document.createTextNode(css));\n    document.body.appendChild(element);\n  }\n\n  var js_urls = [\"https://cdn.pydata.org/bokeh/release/bokeh-1.3.4.min.js\", \"https://cdn.pydata.org/bokeh/release/bokeh-widgets-1.3.4.min.js\", \"https://cdn.pydata.org/bokeh/release/bokeh-tables-1.3.4.min.js\", \"https://cdn.pydata.org/bokeh/release/bokeh-gl-1.3.4.min.js\"];\n  var css_urls = [];\n\n  var inline_js = [\n    function(Bokeh) {\n      Bokeh.set_log_level(\"info\");\n    },\n    \n    function(Bokeh) {\n      \n    },\n    function(Bokeh) {} // ensure no trailing comma for IE\n  ];\n\n  function run_inline_js() {\n    \n    if ((root.Bokeh !== undefined) || (force === true)) {\n      for (var i = 0; i < inline_js.length; i++) {\n        inline_js[i].call(root, root.Bokeh);\n      }} else if (Date.now() < root._bokeh_timeout) {\n      setTimeout(run_inline_js, 100);\n    } else if (!root._bokeh_failed_load) {\n      console.log(\"Bokeh: BokehJS failed to load within specified timeout.\");\n      root._bokeh_failed_load = true;\n    } else if (force !== true) {\n      var cell = $(document.getElementById(null)).parents('.cell').data().cell;\n      cell.output_area.append_execute_result(NB_LOAD_WARNING)\n    }\n\n  }\n\n  if (root._bokeh_is_loading === 0) {\n    console.debug(\"Bokeh: BokehJS loaded, going straight to plotting\");\n    run_inline_js();\n  } else {\n    load_libs(css_urls, js_urls, function() {\n      console.debug(\"Bokeh: BokehJS plotting callback run at\", now());\n      run_inline_js();\n    });\n  }\n}(window));"
     },
     "metadata": {},
     "output_type": "display_data"
    }
   ],
   "source": [
    "import cameo\n",
    "import pandas as pd\n",
    "import cobra.io\n",
    "import escher"
   ]
  },
  {
   "cell_type": "code",
   "execution_count": 3,
   "metadata": {},
   "outputs": [],
   "source": [
    "model = cobra.io.read_sbml_model('../model/g-thermo.xml')"
   ]
  },
  {
   "cell_type": "code",
   "execution_count": 4,
   "metadata": {},
   "outputs": [],
   "source": [
    "model_e_coli = cameo.load_model('iML1515')"
   ]
  },
  {
   "cell_type": "code",
   "execution_count": 5,
   "metadata": {},
   "outputs": [],
   "source": [
    "solution = model.optimize()"
   ]
  },
  {
   "cell_type": "code",
   "execution_count": 6,
   "metadata": {
    "scrolled": true
   },
   "outputs": [
    {
     "name": "stdout",
     "output_type": "stream",
     "text": [
      "Downloading Map from https://escher.github.io/1-0-0/6/maps/Escherichia%20coli/e_coli_core.Core%20metabolism.json\n"
     ]
    },
    {
     "data": {
      "application/vnd.jupyter.widget-view+json": {
       "model_id": "805d432b1f28454fabfbf291c4ced929",
       "version_major": 2,
       "version_minor": 0
      },
      "text/plain": [
       "Builder(reaction_data={'IDPh': 1.0165234238192156, 'PYRACTT': 0.0, 'CAT': 0.0, 'PDHam1hi': 0.0, 'CCP': 0.0, 'H…"
      ]
     },
     "metadata": {},
     "output_type": "display_data"
    }
   ],
   "source": [
    "escher.Builder('e_coli_core.Core metabolism', reaction_data=solution.fluxes.to_dict())"
   ]
  },
  {
   "cell_type": "code",
   "execution_count": 7,
   "metadata": {},
   "outputs": [],
   "source": [
    "model.metabolites.f1p_c.name = 'D-Fructose 1-phosphate'"
   ]
  },
  {
   "cell_type": "markdown",
   "metadata": {},
   "source": [
    "For examle in the above map, you can see that there are quite some improper labels/reactions defined. Even though this is mapped to an E. coli model, EMP, PPP and TCA is quite conserved, and so it would make sense to modify the reactions and sugar IDs to match that of the skeleton provided in this map. This has been shown and verified in literature (e.g. Tang et al. 2009 DOI 10.1002/bit.22181 and Cripps et al. 2009 doi:10.1016/j.ymben.2009.08.005) These papers will be used as a quideline, together with bioinformatic and other literature research about certain reactions.\n",
    "\n",
    "When deciding whether or not and how to combine the different metabolites/reactions, one should keep in mind the physiological relevance of having seperate sugars or not. \n",
    "E.g. P. thermoglucosidasius can grow on both starch and cellulose. The only difference between the two is the alpha vs beta d-glucose monomers. If both are consumed and metabolized, than maybe they can be summarized into just D-glucose.\n",
    "\n",
    "__Approach__:\n",
    "\n",
    "1) Glycolysis: start from glucose and move the way down through glycolysis until pyruvate\n",
    "\n",
    "2) PPP: go through the pentose phosphate pathway and make sure there are no duplicates here.\n",
    "\n",
    "3) TCA: go through this cycle finally to make sure it is complete."
   ]
  },
  {
   "cell_type": "markdown",
   "metadata": {},
   "source": [
    "__Glucose__: Right now, there are three different types of glucose: glc__D_c, glc__aD_c and glc__bD_c, but there is only transport and exchange for glc__D_c. The main difference between the alpha and beta types is due to the different polysaccharides and their breakdown. For example, starch hydrolysis leads to alpha-D-Glucose, where cellulose hydrolysis leads to b-D-glucose. *P. thermoglucosidasius* can grow on both, and so maybe for modelling purposes it is safe enough to 'lump' the two types together into just D-glucose. Also as the downstream pathways are the same for the different cugar types. It would grealy simplify the model and model analysis to do so, without really losing a lot of the physiology of the organism.\n",
    "\n",
    "Also there is already a reaction in the model (GLCEPI) that just interconverts the a and b type, so it makes sense to just merge them all. "
   ]
  },
  {
   "cell_type": "code",
   "execution_count": 8,
   "metadata": {},
   "outputs": [],
   "source": [
    "# reaction GLCDPT should be fixed to include ATP and mane changed to HEX1 to be more bigg compliant\n",
    "model.reactions.GLCDPT.id = 'HEX1'"
   ]
  },
  {
   "cell_type": "code",
   "execution_count": 9,
   "metadata": {},
   "outputs": [],
   "source": [
    "model.reactions.HEX1.add_metabolites({model.metabolites.atp_c:-1, model.metabolites.adp_c:1, model.metabolites.g6p_c:1, model.metabolites.g6p_A_c:-1, model.metabolites.h_c:1})"
   ]
  },
  {
   "cell_type": "code",
   "execution_count": 10,
   "metadata": {},
   "outputs": [],
   "source": [
    "model.reactions.HEX1.name = 'Hexokinase (D-glucose:ATP)'"
   ]
  },
  {
   "cell_type": "code",
   "execution_count": 11,
   "metadata": {},
   "outputs": [
    {
     "name": "stderr",
     "output_type": "stream",
     "text": [
      "C:\\Users\\vivmol\\AppData\\Local\\Continuum\\anaconda3\\envs\\g-thermo\\lib\\site-packages\\cobra\\core\\model.py:716: UserWarning:\n",
      "\n",
      "need to pass in a list\n",
      "\n",
      "C:\\Users\\vivmol\\AppData\\Local\\Continuum\\anaconda3\\envs\\g-thermo\\lib\\site-packages\\cobra\\core\\group.py:110: UserWarning:\n",
      "\n",
      "need to pass in a list\n",
      "\n"
     ]
    }
   ],
   "source": [
    "#remove the GLCEPI rct. it is now not needed anymore\n",
    "model.remove_reactions(model.reactions.GLCEPI)"
   ]
  },
  {
   "cell_type": "code",
   "execution_count": 12,
   "metadata": {},
   "outputs": [],
   "source": [
    "#GLCAPT can also be removed, as it will be the same as HEX1 when we get rid of the alpha and beta.\n",
    "model.remove_reactions(model.reactions.GLCAPT)"
   ]
  },
  {
   "cell_type": "code",
   "execution_count": 13,
   "metadata": {},
   "outputs": [],
   "source": [
    "#GLCISO also becomes unneccesary (same as XYLI2)\n",
    "model.remove_reactions(model.reactions.GLCISO)"
   ]
  },
  {
   "cell_type": "code",
   "execution_count": 14,
   "metadata": {},
   "outputs": [],
   "source": [
    "#GLUKA can be removed, becomes the same as HEX1\n",
    "model.remove_reactions(model.reactions.GLUKA)"
   ]
  },
  {
   "cell_type": "markdown",
   "metadata": {},
   "source": [
    "For the rest of the reactions still associated to glc__aD_c or glc__bD_c, i can just change the reactions to include glc__D_c instead and the issue at the glucose node should be resolved.\n",
    "Then finally, I can remove glc__aD_c and glc__bD_c metabolites."
   ]
  },
  {
   "cell_type": "code",
   "execution_count": 15,
   "metadata": {},
   "outputs": [],
   "source": [
    "for rct in model.metabolites.glc__aD_c.reactions:\n",
    "    glc = model.metabolites.glc__D_c\n",
    "    for met in rct.metabolites:\n",
    "        if met.id in ['glc__aD_c']:\n",
    "            glc_a = met\n",
    "            stoich = rct.metabolites[model.metabolites.get_by_id(met.id)]\n",
    "        else: continue\n",
    "    rct.add_metabolites({glc:stoich, glc_a:-stoich})"
   ]
  },
  {
   "cell_type": "code",
   "execution_count": 16,
   "metadata": {},
   "outputs": [],
   "source": [
    "for rct in model.metabolites.glc__bD_c.reactions:\n",
    "    glc = model.metabolites.glc__D_c\n",
    "    for met in rct.metabolites:\n",
    "        if met.id in ['glc__bD_c']:\n",
    "            glc_b = met\n",
    "            stoich = rct.metabolites[model.metabolites.get_by_id(met.id)]\n",
    "        else: continue\n",
    "    rct.add_metabolites({glc:stoich, glc_b:-stoich})"
   ]
  },
  {
   "cell_type": "code",
   "execution_count": 17,
   "metadata": {},
   "outputs": [],
   "source": [
    "model.remove_metabolites(model.metabolites.glc__aD_c, model.metabolites.glc__bD_c)"
   ]
  },
  {
   "cell_type": "code",
   "execution_count": 18,
   "metadata": {},
   "outputs": [],
   "source": [
    "#save&commit\n",
    "cobra.io.write_sbml_model(model,'../model/g-thermo.xml')"
   ]
  },
  {
   "cell_type": "markdown",
   "metadata": {},
   "source": [
    "__Glucose-6-phosphate__: there are three g6p metabolites currently in the model: g6p_c, g6p_A_c and g6p_B_c. These should also be merged into just the g6p_c metabolite.\n",
    "I'll also check all the reactions associated to these metabolites to make sure we do not create faulty or duplicate reactions.\n",
    "\n",
    "We need to make sure there is the PGI reaction and the G6PDH2r reaction too. "
   ]
  },
  {
   "cell_type": "code",
   "execution_count": 18,
   "metadata": {},
   "outputs": [],
   "source": [
    "model.metabolites.g6p_c.name = 'Glucose 6-phosphate'"
   ]
  },
  {
   "cell_type": "code",
   "execution_count": 19,
   "metadata": {
    "scrolled": true
   },
   "outputs": [],
   "source": [
    "model.reactions.G6PDH2er.id = 'G6PDH2r'"
   ]
  },
  {
   "cell_type": "code",
   "execution_count": 20,
   "metadata": {},
   "outputs": [],
   "source": [
    "#remove PGCM, as it becomes the same as PGMT. \n",
    "#also, PGMT should be reversible.\n",
    "model.remove_reactions(model.reactions.PGCM)"
   ]
  },
  {
   "cell_type": "code",
   "execution_count": 21,
   "metadata": {},
   "outputs": [],
   "source": [
    "model.reactions.PGMT.bounds = (-1000,1000)"
   ]
  },
  {
   "cell_type": "code",
   "execution_count": 22,
   "metadata": {},
   "outputs": [],
   "source": [
    "#G6PI_1 remove: it interchanges the A and B form\n",
    "model.remove_reactions(model.reactions.G6PI_1)"
   ]
  },
  {
   "cell_type": "code",
   "execution_count": 23,
   "metadata": {},
   "outputs": [],
   "source": [
    "#rename G6PISO to PGI\n",
    "model.reactions.G6PISO.id = 'PGI'"
   ]
  },
  {
   "cell_type": "code",
   "execution_count": 24,
   "metadata": {},
   "outputs": [],
   "source": [
    "#remove PGIA, same as PGI\n",
    "model.remove_reactions(model.reactions.PGIA)"
   ]
  },
  {
   "cell_type": "code",
   "execution_count": 25,
   "metadata": {},
   "outputs": [],
   "source": [
    "#remove G6PI2, same as PGI\n",
    "model.remove_reactions(model.reactions.G6PI2)\n"
   ]
  },
  {
   "cell_type": "code",
   "execution_count": 26,
   "metadata": {},
   "outputs": [],
   "source": [
    "# remove G6PBDH as it will be the same as G6PDH2r\n",
    "model.remove_reactions(model.reactions.G6PBDH)"
   ]
  },
  {
   "cell_type": "code",
   "execution_count": 27,
   "metadata": {},
   "outputs": [],
   "source": [
    "#ARBT6PH should be renamed AB6PGH, and then the metabolite changed later.\n",
    "model.reactions.ARBT6PH.id = 'AB6PGH'"
   ]
  },
  {
   "cell_type": "code",
   "execution_count": 28,
   "metadata": {},
   "outputs": [],
   "source": [
    "#for the reactions left, just change metabolites\n",
    "for rct in model.metabolites.g6p_A_c.reactions:\n",
    "    g6p = model.metabolites.g6p_c\n",
    "    for met in rct.metabolites:\n",
    "        if met.id in ['g6p_A_c']:\n",
    "            g6p_a = met\n",
    "            stoich = rct.metabolites[model.metabolites.get_by_id(met.id)]\n",
    "        else: continue\n",
    "    rct.add_metabolites({g6p:stoich, g6p_a:-stoich})\n"
   ]
  },
  {
   "cell_type": "code",
   "execution_count": 29,
   "metadata": {},
   "outputs": [],
   "source": [
    "for rct in model.metabolites.g6p_B_c.reactions:\n",
    "    g6p = model.metabolites.g6p_c\n",
    "    for met in rct.metabolites:\n",
    "        if met.id in ['g6p_B_c']:\n",
    "            g6p_b = met\n",
    "            stoich = rct.metabolites[model.metabolites.get_by_id(met.id)]\n",
    "        else: continue\n",
    "    rct.add_metabolites({g6p:stoich, g6p_b:-stoich})"
   ]
  },
  {
   "cell_type": "code",
   "execution_count": 30,
   "metadata": {},
   "outputs": [],
   "source": [
    "model.remove_metabolites(model.metabolites.g6p_A_c, model.metabolites.g6p_B_c)"
   ]
  },
  {
   "cell_type": "code",
   "execution_count": 31,
   "metadata": {},
   "outputs": [],
   "source": [
    "model.metabolites.salcn6p_c.name = 'Salicin 6-phosphate'"
   ]
  },
  {
   "cell_type": "code",
   "execution_count": 32,
   "metadata": {},
   "outputs": [],
   "source": [
    "#save&commit\n",
    "cobra.io.write_sbml_model(model,'../model/g-thermo.xml')"
   ]
  },
  {
   "cell_type": "markdown",
   "metadata": {},
   "source": [
    "__Fructose-6-phosphate__: our model currently has two fructose-5-phosphate molecules: f6p_k_c and f6p_B_c. Here f6p_k_c is the metabolite we would want to keep, but I will remane it at just f6p_c, to be more bigg compliant.\n"
   ]
  },
  {
   "cell_type": "code",
   "execution_count": 33,
   "metadata": {},
   "outputs": [],
   "source": [
    "model.metabolites.f6p_k_c.id = 'f6p_c'"
   ]
  },
  {
   "cell_type": "code",
   "execution_count": 34,
   "metadata": {},
   "outputs": [],
   "source": [
    "model.metabolites.f6p_c.name = 'D-Fructose 6-phosphate'"
   ]
  },
  {
   "cell_type": "code",
   "execution_count": 35,
   "metadata": {},
   "outputs": [],
   "source": [
    "#remane PFKh  to PFK\n",
    "model.reactions.PFKh.id = 'PFK'"
   ]
  },
  {
   "cell_type": "code",
   "execution_count": 36,
   "metadata": {},
   "outputs": [],
   "source": [
    "#remove S7PG3PT as it is the same as TALA\n",
    "model.remove_reactions(model.reactions.S7PG3PT)"
   ]
  },
  {
   "cell_type": "code",
   "execution_count": 37,
   "metadata": {
    "scrolled": true
   },
   "outputs": [],
   "source": [
    "#remove MANISO, it is the same as MAN6PI\n",
    "model.remove_reactions(model.reactions.MANISO)"
   ]
  },
  {
   "cell_type": "code",
   "execution_count": 38,
   "metadata": {},
   "outputs": [],
   "source": [
    "#remove MNLOR, becomes same as M1PD\n",
    "model.remove_reactions(model.reactions.MNLOR)"
   ]
  },
  {
   "cell_type": "code",
   "execution_count": 39,
   "metadata": {},
   "outputs": [],
   "source": [
    "model.metabolites.fru_c.name = 'D-Fructose'"
   ]
  },
  {
   "cell_type": "code",
   "execution_count": 40,
   "metadata": {},
   "outputs": [],
   "source": [
    "#remove FRUPT, same as HEX7\n",
    "model.remove_reactions(model.reactions.FRUPT)"
   ]
  },
  {
   "cell_type": "code",
   "execution_count": 41,
   "metadata": {},
   "outputs": [],
   "source": [
    "#rename BFBP to FBP to be more BiGG compliant\n",
    "model.reactions.BFBP.id = 'FBP'"
   ]
  },
  {
   "cell_type": "code",
   "execution_count": 42,
   "metadata": {},
   "outputs": [],
   "source": [
    "# remove AH6PISO, same as AH6PI\n",
    "model.remove_reactions(model.reactions.AH6PISO)"
   ]
  },
  {
   "cell_type": "code",
   "execution_count": 43,
   "metadata": {},
   "outputs": [],
   "source": [
    "#remove FDPPH, will be same as FBP\n",
    "model.remove_reactions(model.reactions.FDPPH)"
   ]
  },
  {
   "cell_type": "code",
   "execution_count": 44,
   "metadata": {},
   "outputs": [],
   "source": [
    "#remove F6PPT, same as PFK\n",
    "model.remove_reactions(model.reactions.F6PPT)"
   ]
  },
  {
   "cell_type": "code",
   "execution_count": 45,
   "metadata": {},
   "outputs": [],
   "source": [
    "#remove F6PGT, same as TKT2\n",
    "model.remove_reactions(model.reactions.F6PGT)"
   ]
  },
  {
   "cell_type": "code",
   "execution_count": 46,
   "metadata": {},
   "outputs": [],
   "source": [
    "#replace f6p_B_c with f6p_c in the leftover reactions\n",
    "for rct in model.metabolites.f6p_B_c.reactions:\n",
    "    corr_met = model.metabolites.f6p_c\n",
    "    for met in rct.metabolites:\n",
    "        if met.id in ['f6p_B_c']:\n",
    "            wrong_met = met\n",
    "            stoich = rct.metabolites[model.metabolites.get_by_id(met.id)]\n",
    "        else: continue\n",
    "    rct.add_metabolites({corr_met:stoich, wrong_met:-stoich})"
   ]
  },
  {
   "cell_type": "code",
   "execution_count": 47,
   "metadata": {},
   "outputs": [],
   "source": [
    "model.remove_metabolites(model.metabolites.f6p_B_c)"
   ]
  },
  {
   "cell_type": "markdown",
   "metadata": {},
   "source": [
    "Comment: for the conversion of f6p to fructose-1,6-bisphosphate, there are several reactions possible, with either ATP, UTP, GTP, etc. Now it uses UTP, because this metabolite can be made 'for free' in the model now. Though should it not be ATP? \n",
    "For now I will mimic this by turning the reactions with the other nucleotide phosphates to bounds of 0. As ATP is the energy unit, it makes more sense to include this here. "
   ]
  },
  {
   "cell_type": "code",
   "execution_count": 48,
   "metadata": {},
   "outputs": [],
   "source": [
    "model.reactions.F6PUPT.bounds = (0,0)\n",
    "model.reactions.F6PCPT.bounds = (0,0)\n",
    "model.reactions.F6PIPT.bounds = (0,0)"
   ]
  },
  {
   "cell_type": "code",
   "execution_count": 49,
   "metadata": {},
   "outputs": [],
   "source": [
    "#save&commit\n",
    "cobra.io.write_sbml_model(model,'../model/g-thermo.xml')"
   ]
  },
  {
   "cell_type": "markdown",
   "metadata": {},
   "source": [
    "__Fructose-1,6-bisphosphate__: we have two metabolites in the model currently: fdp_c and fdp_B_c. We will merge them together into just fdp_c. "
   ]
  },
  {
   "cell_type": "code",
   "execution_count": 51,
   "metadata": {},
   "outputs": [],
   "source": [
    "#remove FBAf, it is the same as FBA.\n",
    "model.remove_reactions(model.reactions.FBAf)"
   ]
  },
  {
   "cell_type": "code",
   "execution_count": 52,
   "metadata": {},
   "outputs": [],
   "source": [
    "model.reactions.F1PPT.id = 'FRUK'"
   ]
  },
  {
   "cell_type": "code",
   "execution_count": 53,
   "metadata": {},
   "outputs": [],
   "source": [
    "#merge the fdp_B_c metabolite to fdp_c\n",
    "for rct in model.metabolites.fdp_B_c.reactions:\n",
    "    corr_met = model.metabolites.fdp_c\n",
    "    for met in rct.metabolites:\n",
    "        if met.id in ['fdp_B_c']:\n",
    "            wrong_met = met\n",
    "            stoich = rct.metabolites[model.metabolites.get_by_id(met.id)]\n",
    "        else: continue\n",
    "    rct.add_metabolites({corr_met:stoich, wrong_met:-stoich})"
   ]
  },
  {
   "cell_type": "code",
   "execution_count": 54,
   "metadata": {},
   "outputs": [],
   "source": [
    "#remove fdp_B_c metabolite\n",
    "model.remove_metabolites(model.metabolites.fdp_B_c)"
   ]
  },
  {
   "cell_type": "code",
   "execution_count": 55,
   "metadata": {},
   "outputs": [],
   "source": [
    "#save&commit\n",
    "cobra.io.write_sbml_model(model,'../model/g-thermo.xml')"
   ]
  },
  {
   "cell_type": "markdown",
   "metadata": {},
   "source": [
    "__D-glyceraldehyde & Glyceronephosphate__ Initially, there seem to be only one G3P and DHAP metabolite in the model. This is also to be expected as they are not known to have various steroisomers. I've checked their flux balancing though to see if there are any strange things appearing. Then I found reaction FBA2, which contains glyald_c, which turns out to also be g3p. So this metabolite should be merged with g3p_c. \n",
    "\n",
    "for DHAP, we see the ALKP reaction which is phosphorylating dha into dhap. This is thermodynamically very unfeasible, and looking into it more shows that the reaction should be in the reverse. so these bounds are changed.\n",
    "\n",
    "Also, because so many of the bounds are restricted to 20, the model decides to produce fructose1phosphate from the DHAP instead of g3p and moving down glycolysis. But the bounds should be modified anyway, this will be done in another notebook. I can change them all by hand, but that doesn't make so much sens."
   ]
  },
  {
   "cell_type": "code",
   "execution_count": 56,
   "metadata": {},
   "outputs": [],
   "source": [
    "#merge the glyald_c metabolite to g3p_c\n",
    "for rct in model.metabolites.glyald_c.reactions:\n",
    "    corr_met = model.metabolites.g3p_c\n",
    "    for met in rct.metabolites:\n",
    "        if met.id in ['glyald_c']:\n",
    "            wrong_met = met\n",
    "            stoich = rct.metabolites[model.metabolites.get_by_id(met.id)]\n",
    "        else: continue\n",
    "    rct.add_metabolites({corr_met:stoich, wrong_met:-stoich})"
   ]
  },
  {
   "cell_type": "code",
   "execution_count": 57,
   "metadata": {},
   "outputs": [],
   "source": [
    "model.reactions.ALKP.bounds=(-1000,0)"
   ]
  },
  {
   "cell_type": "code",
   "execution_count": 58,
   "metadata": {},
   "outputs": [],
   "source": [
    "#save&commit\n",
    "cobra.io.write_sbml_model(model,'../model/g-thermo.xml')"
   ]
  },
  {
   "cell_type": "markdown",
   "metadata": {},
   "source": [
    "__3-Phospho-D-glyceroyl__: Here we only have the metabolite 13dpg_c. Here one consideration is the GAPD(H) reactions. We know from Beata's thesis that the *P. thermoglucosidasius* NCIB11955 uses an NADP(H) dependent GAPD, which has some side affinity for NAD(H). I will discuss this reaction and then decide how to process it. "
   ]
  },
  {
   "cell_type": "code",
   "execution_count": 59,
   "metadata": {},
   "outputs": [],
   "source": [
    "model.reactions.S7PG3PGT.id = 'TKT1'"
   ]
  },
  {
   "cell_type": "markdown",
   "metadata": {},
   "source": [
    "__3-phosphoglycerate__ This is metabolite 3pg_c. The ACPh reaction and PGK are very similar. except ACPh works with water and free phosphate, where PGK includes ATP and ADP. PGK is the reaction one would expect. Additionally I cannot find any evidence for the ACPh conversion and for it to be expected here. Therefor I will remove it here. "
   ]
  },
  {
   "cell_type": "code",
   "execution_count": 60,
   "metadata": {
    "scrolled": true
   },
   "outputs": [],
   "source": [
    "#this reaction should not be reversible\n",
    "model.reactions.GLYCK.bounds = (0,1000)"
   ]
  },
  {
   "cell_type": "code",
   "execution_count": 61,
   "metadata": {
    "scrolled": true
   },
   "outputs": [],
   "source": [
    "model.remove_reactions(model.reactions.ACPh)"
   ]
  },
  {
   "cell_type": "code",
   "execution_count": 63,
   "metadata": {},
   "outputs": [],
   "source": [
    "#save&commit\n",
    "cobra.io.write_sbml_model(model,'../model/g-thermo.xml')"
   ]
  },
  {
   "cell_type": "markdown",
   "metadata": {},
   "source": [
    "__2-phosphoglycerate__ : This metabolite seems completely correct, along with all reactions associated to it. "
   ]
  },
  {
   "cell_type": "markdown",
   "metadata": {},
   "source": [
    "__Phosphoenolpyruvate__ (pep_c) At first glance it seems the only issue here is renaming of the PSCIT rct to PSCVT. Also it seems that our strain does not contain a phosphoenolpyruvate carboxylase. "
   ]
  },
  {
   "cell_type": "code",
   "execution_count": 64,
   "metadata": {
    "scrolled": true
   },
   "outputs": [],
   "source": [
    "#PSCIT should be renamed PSCVT\n",
    "model.reactions.PSCIT.id = 'PSCVT'"
   ]
  },
  {
   "cell_type": "markdown",
   "metadata": {},
   "source": [
    "__Pyruvate__\n",
    "Probably remove PYRPT rct, but should be resolved from Martyn's mass balancing. \n",
    "\n",
    "Lactate dehydrogenase: *P. thermoglucosidasius* NCIB 11955 has been shown to produce L-lactate instead of D-lactate at >99% optical purity (Tang 2009). So I will not change this reaction to match the standard BiGG map used.\n",
    "\n",
    "ME2: doesn't seem to be present in the strain at all. Also Tang and Cripps do not report it. \n",
    "\n",
    "Hard to really spot anything wrong here right now. "
   ]
  },
  {
   "cell_type": "markdown",
   "metadata": {},
   "source": [
    "__Ethanol__: currently in the map we do not have matching IDs for the conversion of acetaldehyde to ethanol. So I will check this."
   ]
  },
  {
   "cell_type": "code",
   "execution_count": 65,
   "metadata": {
    "scrolled": true
   },
   "outputs": [],
   "source": [
    "model.reactions.ALCD2ir.id = 'ALCD2x'"
   ]
  },
  {
   "cell_type": "code",
   "execution_count": 66,
   "metadata": {},
   "outputs": [],
   "source": [
    "model.reactions.ALCD2x.name = 'Alcohol dehydrogenase (ethanol)'"
   ]
  },
  {
   "cell_type": "code",
   "execution_count": 67,
   "metadata": {},
   "outputs": [],
   "source": [
    "#save&commit\n",
    "cobra.io.write_sbml_model(model,'../model/g-thermo.xml')"
   ]
  },
  {
   "cell_type": "markdown",
   "metadata": {},
   "source": [
    "## TCA cycle\n",
    "It seems the TCA cycle is not really complete when trying to visualize the model. So I'll go through the cycle to check if there have been mismatched ID's that prevent the visualization of the full cycle. "
   ]
  },
  {
   "cell_type": "code",
   "execution_count": 68,
   "metadata": {},
   "outputs": [],
   "source": [
    "#Succinate to fumarate should be renamed (QUINOR to SUCDi) \n",
    "# also to the reaction i will add the quinone/quinol pair of our model to catch the change in redox.\n",
    "#then also change the reversability of the reaction\n",
    "model.reactions.QUINOR.add_metabolites({model.metabolites.qh2_c:-1, model.metabolites.ubiquin_c:1, model.metabolites.h_c:2})"
   ]
  },
  {
   "cell_type": "code",
   "execution_count": 69,
   "metadata": {},
   "outputs": [],
   "source": [
    "model.reactions.QUINOR.id = 'SUCDi'"
   ]
  },
  {
   "cell_type": "code",
   "execution_count": 70,
   "metadata": {},
   "outputs": [],
   "source": [
    "model.reactions.SUCDi.bounds = (0,1000)"
   ]
  },
  {
   "cell_type": "code",
   "execution_count": 71,
   "metadata": {},
   "outputs": [],
   "source": [
    "#search for SUCOAS\n",
    "model.reactions.SUCLm.id = 'SUCOAS'"
   ]
  },
  {
   "cell_type": "code",
   "execution_count": 72,
   "metadata": {},
   "outputs": [],
   "source": [
    "model.metabolites.HC01434_c.id = 'osuc_c'"
   ]
  },
  {
   "cell_type": "code",
   "execution_count": 73,
   "metadata": {},
   "outputs": [],
   "source": [
    "#search for ICDHyr\n",
    "model.reactions.ICDHhr.id = 'ICDHyr'"
   ]
  },
  {
   "cell_type": "code",
   "execution_count": 74,
   "metadata": {},
   "outputs": [],
   "source": [
    "#remove ACONT, as ACONTa and ACONTb are present already\n",
    "model.remove_reactions(model.reactions.ACONT)"
   ]
  },
  {
   "cell_type": "markdown",
   "metadata": {},
   "source": [
    "__Oxoglutarate__: the thesis of Charlotte Ward (2015, https://doi.org/10.25560/25514), looks into flux distribution of the TCA. She mentions that 'the genome contains both an oxoglutarate dehydrogenase complex (OGDC) and an oxoglutarate synthase (EC 1.2.7.3). Unlike the OGDC, the latter does not require NAD+ as a cofactor and does not rely upon the dihydrolipoamide dehydrogenase subunit (EC. 1.8.1.4) of the pyruvate dehydrogenase complex and instead mediates electron transport using a ferredoxin.'\n",
    "So here I will just check this is correctly maintained in the model. The AKGDH is the oxoglutarate dehydrogenase complex, and so is properly present in the model. "
   ]
  },
  {
   "cell_type": "code",
   "execution_count": 75,
   "metadata": {},
   "outputs": [],
   "source": [
    "#the oxoglutarate synthase is currently names AKGOR. I will rename it  OOR3r to be more BiGG compliant, though it is not such a frequent reaction.\n",
    "model.reactions.AKGOR.id = 'OOR3r'"
   ]
  },
  {
   "cell_type": "code",
   "execution_count": 76,
   "metadata": {},
   "outputs": [],
   "source": [
    "#what is this reactions?\n",
    "model.reactions.R_SUCOAACTr.id = 'SUCOAACTr'"
   ]
  },
  {
   "cell_type": "markdown",
   "metadata": {},
   "source": [
    "__Lactate__\n",
    "From experimental data, *P. thermoglucosidasius* NCIB11955 produced at >99% optical purity, L-lactate. There is still a D-lactate metabolite in our model. So I wanted to check exactly what reactions that is still involved in, and decide if it should be removed or not. According to genome annotation these reactions should be present. I cannot really find an indication as to why the counterpart reaction with L-lactate would or would not be possible, so I will leave them for now. "
   ]
  },
  {
   "cell_type": "code",
   "execution_count": 77,
   "metadata": {
    "scrolled": true
   },
   "outputs": [
    {
     "data": {
      "text/html": [
       "<div>\n",
       "<style scoped>\n",
       "    .dataframe tbody tr th:only-of-type {\n",
       "        vertical-align: middle;\n",
       "    }\n",
       "\n",
       "    .dataframe tbody tr th {\n",
       "        vertical-align: top;\n",
       "    }\n",
       "\n",
       "    .dataframe thead th {\n",
       "        text-align: right;\n",
       "    }\n",
       "</style>\n",
       "<table border=\"1\" class=\"dataframe\">\n",
       "  <thead>\n",
       "    <tr style=\"text-align: right;\">\n",
       "      <th></th>\n",
       "      <th></th>\n",
       "      <th>PERCENT</th>\n",
       "      <th>FLUX</th>\n",
       "      <th>REACTION_STRING</th>\n",
       "    </tr>\n",
       "    <tr>\n",
       "      <th>RXN_STAT</th>\n",
       "      <th>ID</th>\n",
       "      <th></th>\n",
       "      <th></th>\n",
       "      <th></th>\n",
       "    </tr>\n",
       "  </thead>\n",
       "  <tbody>\n",
       "    <tr>\n",
       "      <th rowspan=\"3\" valign=\"top\">PRODUCING</th>\n",
       "      <th>ACM6PH</th>\n",
       "      <td>NaN</td>\n",
       "      <td>0.0</td>\n",
       "      <td>acmum6p_c + h2o_c &lt;=&gt; acgam6p_c + 2.0 h_c + la...</td>\n",
       "    </tr>\n",
       "    <tr>\n",
       "      <th>GLYOX</th>\n",
       "      <td>NaN</td>\n",
       "      <td>0.0</td>\n",
       "      <td>gthrd_c + h_c + lac__D_c --&gt; h2o_c + lgt__S_c</td>\n",
       "    </tr>\n",
       "    <tr>\n",
       "      <th>LAC__Dt</th>\n",
       "      <td>NaN</td>\n",
       "      <td>0.0</td>\n",
       "      <td>lac__D_c --&gt; lac__D_e</td>\n",
       "    </tr>\n",
       "  </tbody>\n",
       "</table>\n",
       "</div>"
      ],
      "text/plain": [
       "<cobra.core.summary.metabolite_summary.MetaboliteSummary at 0x17baf993208>"
      ]
     },
     "execution_count": 77,
     "metadata": {},
     "output_type": "execute_result"
    }
   ],
   "source": [
    "model.metabolites.lac__D_c.summary()"
   ]
  },
  {
   "cell_type": "code",
   "execution_count": 78,
   "metadata": {},
   "outputs": [],
   "source": [
    "#save&commit\n",
    "cobra.io.write_sbml_model(model,'../model/g-thermo.xml')"
   ]
  },
  {
   "cell_type": "markdown",
   "metadata": {},
   "source": [
    "## PPP\n",
    "Now I will look into the PPP pathways, though most have likely already been fixed through fixing the initial sugar problems above. \n",
    "\n",
    "__6-phosphogluconolactonase (EC 3.1.1.31).__\n",
    "\n",
    "This enzyme is not annotated in the *P. thermoglucosidasius* NCIB11955 genome. Also various data shows that this enzyme really is not present. It is generally accepted (from thermodynamic and in vitro data) that the conversion performed by this enzyme can happen spontaenously at sufficient flux at the high temperatures that this organism grows at. Without this reaction, the pentose phosphate pathway cannot run, and previous C13 labelling experiment shave shown that the other reactions do carry flux and so must mean this conversion occurs. \n",
    "\n",
    "So, the model contains a spontaneous version of this reaction. I will modify the reaction ID to match the map, and then also add a clear note in the reaction name to make users aware that it is spontaneous.\n"
   ]
  },
  {
   "cell_type": "code",
   "execution_count": 183,
   "metadata": {},
   "outputs": [],
   "source": [
    "model.reactions.PGLHY.id = 'PGL'"
   ]
  },
  {
   "cell_type": "code",
   "execution_count": 185,
   "metadata": {},
   "outputs": [],
   "source": [
    "model.reactions.PGL.name = 'Spontaneous 6-Phospho-D-glucono-1,5-lactone lactonohydrolase'"
   ]
  },
  {
   "cell_type": "markdown",
   "metadata": {},
   "source": [
    "Aside from this, it seems the PPP is correctly annotated and functional. So for now i will not modify it any further."
   ]
  },
  {
   "cell_type": "markdown",
   "metadata": {},
   "source": [
    "__GAPDH__\n",
    "Beata's thesis has shown that *P. thermoglucosidasius* NCIB11955 has a NADPH dependent Glyceraldehyde-3-phosphate dehydrogenase. The enzyme has some promiscuious activity for NADH, though the catalytic activity of the enzyme with NADPH is about 30 fold higher in vivo (Table 3.1). Currently the model has both versions of the reaction inside. However, there is no way to distinguish this higher catalytic efficiency for the model.\n",
    "\n",
    "After discussion with Niko Sonnenschein, as the ratio of efficiency is so different, it makes sense that the vast majority of the flux will work with NADPH as co-factor. Therefore, to prevent the model from picking the NADH dependent reaction due to balancing preferences, I will remove it from the model, per his recommendation. \n",
    "\n",
    "Ofcourse this is not ideal, but comes closer to re-capitulating the real biology than the current way the model is kept."
   ]
  },
  {
   "cell_type": "code",
   "execution_count": 84,
   "metadata": {},
   "outputs": [
    {
     "name": "stderr",
     "output_type": "stream",
     "text": [
      "C:\\Users\\vivmol\\AppData\\Local\\Continuum\\anaconda3\\envs\\g-thermo\\lib\\site-packages\\cobra\\core\\model.py:716: UserWarning:\n",
      "\n",
      "need to pass in a list\n",
      "\n",
      "C:\\Users\\vivmol\\AppData\\Local\\Continuum\\anaconda3\\envs\\g-thermo\\lib\\site-packages\\cobra\\core\\group.py:110: UserWarning:\n",
      "\n",
      "need to pass in a list\n",
      "\n"
     ]
    }
   ],
   "source": [
    "model.remove_reactions(model.reactions.GAPD)"
   ]
  },
  {
   "cell_type": "code",
   "execution_count": 87,
   "metadata": {},
   "outputs": [],
   "source": [
    "model.reactions.GAPDH_nadp_hi.id = 'GADPH'"
   ]
  },
  {
   "cell_type": "code",
   "execution_count": 90,
   "metadata": {},
   "outputs": [],
   "source": [
    "#save&commit\n",
    "cobra.io.write_sbml_model(model,'../model/g-thermo.xml')"
   ]
  },
  {
   "cell_type": "markdown",
   "metadata": {},
   "source": [
    "__GAPDH__\n",
    "Beata's thesis shows that the 3-phosphoglyceraldehyde dehydrogenase found in *P. thermoglucosidasius* NCIB11955 has a NADP(H) dependent GADPH, where many organisms have a NAD(H) dependent version of the enzyme. In vitro enzyme assays show that the enzyme hasa a 30 fold higher catalytic efficiency with NADP(H) than NAD(H) (See table 3.1 of the thesis). So the enzyme can in theory work with both NAD and NADP.\n",
    "\n",
    "In the model, there are currently two reactions: one per co-factor used. However, the model cannot distinguish between this different efficiency between the reactions and so will just chose one of the two, depending on what suites the stoichiometry of the model better. (This is a general drawback of stoichiometric models.) This of course does not reflect physiology very well. \n",
    "\n",
    "After discussion with Niko, he recommended to remove the NADH dependent reaction. As the ratio between the two appears to be quite high, the majority of the flux will probably be carried through the NADP(H) dependent reaction. To mimic the model closer to physiology, removing the NADH reaction would achieve that. Ofcourse this is not perfect, but for this problem currently the best solution in the model. "
   ]
  },
  {
   "cell_type": "code",
   "execution_count": 6,
   "metadata": {
    "scrolled": true
   },
   "outputs": [
    {
     "name": "stderr",
     "output_type": "stream",
     "text": [
      "C:\\Users\\vivmol\\AppData\\Local\\Continuum\\anaconda3\\envs\\g-thermo\\lib\\site-packages\\cobra\\core\\model.py:716: UserWarning:\n",
      "\n",
      "need to pass in a list\n",
      "\n",
      "C:\\Users\\vivmol\\AppData\\Local\\Continuum\\anaconda3\\envs\\g-thermo\\lib\\site-packages\\cobra\\core\\group.py:110: UserWarning:\n",
      "\n",
      "need to pass in a list\n",
      "\n"
     ]
    }
   ],
   "source": [
    "model.remove_reactions(model.reactions.GAPD)"
   ]
  },
  {
   "cell_type": "code",
   "execution_count": 7,
   "metadata": {},
   "outputs": [],
   "source": [
    "model.reactions.GAPDH_nadp_hi.id = 'GAPDH'"
   ]
  },
  {
   "cell_type": "code",
   "execution_count": null,
   "metadata": {},
   "outputs": [],
   "source": [
    "#save & commit\n",
    "cobra.io.write_sbml_model(model,'../model/g-thermo.xml')"
   ]
  },
  {
   "cell_type": "code",
   "execution_count": 89,
   "metadata": {
    "scrolled": true
   },
   "outputs": [
    {
     "data": {
      "text/plain": [
       "0.5171233345023867"
      ]
     },
     "execution_count": 89,
     "metadata": {},
     "output_type": "execute_result"
    }
   ],
   "source": [
    "solution = model.optimize()\n",
    "solution.objective_value"
   ]
  },
  {
   "cell_type": "code",
   "execution_count": 86,
   "metadata": {},
   "outputs": [
    {
     "name": "stdout",
     "output_type": "stream",
     "text": [
      "Downloading Map from https://escher.github.io/1-0-0/6/maps/Escherichia%20coli/e_coli_core.Core%20metabolism.json\n"
     ]
    },
    {
     "data": {
      "application/vnd.jupyter.widget-view+json": {
       "model_id": "6fc49d655e6b4488ad1ba9849a267ef6",
       "version_major": 2,
       "version_minor": 0
      },
      "text/plain": [
       "Builder(reaction_data={'IDPh': 9.611769293410603, 'PYRACTT': 0.0, 'CAT': 0.0, 'PDHam1hi': 0.0, 'CCP': -0.00773…"
      ]
     },
     "metadata": {},
     "output_type": "display_data"
    }
   ],
   "source": [
    "escher.Builder('e_coli_core.Core metabolism', reaction_data=solution.fluxes.to_dict())"
   ]
  }
 ],
 "metadata": {
  "kernelspec": {
   "display_name": "Python 3",
   "language": "python",
   "name": "python3"
  },
  "language_info": {
   "codemirror_mode": {
    "name": "ipython",
    "version": 3
   },
   "file_extension": ".py",
   "mimetype": "text/x-python",
   "name": "python",
   "nbconvert_exporter": "python",
   "pygments_lexer": "ipython3",
   "version": "3.7.4"
  }
 },
 "nbformat": 4,
 "nbformat_minor": 2
}
