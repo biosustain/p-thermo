{
 "cells": [
  {
   "cell_type": "code",
   "execution_count": null,
   "metadata": {},
   "outputs": [],
   "source": []
  },
  {
   "cell_type": "code",
   "execution_count": 2,
   "metadata": {},
   "outputs": [],
   "source": [
    "import cameo\n",
    "import pandas as pd\n",
    "import cobra.io\n",
    "import escher"
   ]
  },
  {
   "cell_type": "code",
   "execution_count": 3,
   "metadata": {},
   "outputs": [],
   "source": [
    "model = cobra.io.read_sbml_model('../../model/g-thermo.xml')"
   ]
  },
  {
   "cell_type": "code",
   "execution_count": 31,
   "metadata": {},
   "outputs": [],
   "source": [
    "model_e_coli = cameo.load_model('iML1515')"
   ]
  },
  {
   "cell_type": "code",
   "execution_count": 32,
   "metadata": {},
   "outputs": [
    {
     "ename": "AttributeError",
     "evalue": "DictList has no attribute or entry RNA",
     "output_type": "error",
     "traceback": [
      "\u001b[1;31m---------------------------------------------------------------------------\u001b[0m",
      "\u001b[1;31mKeyError\u001b[0m                                  Traceback (most recent call last)",
      "\u001b[1;32m~\\AppData\\Local\\Continuum\\anaconda3\\envs\\g-thermo\\lib\\site-packages\\cobra\\core\\dictlist.py\u001b[0m in \u001b[0;36m__getattr__\u001b[1;34m(self, attr)\u001b[0m\n\u001b[0;32m    450\u001b[0m         \u001b[1;32mtry\u001b[0m\u001b[1;33m:\u001b[0m\u001b[1;33m\u001b[0m\u001b[1;33m\u001b[0m\u001b[0m\n\u001b[1;32m--> 451\u001b[1;33m             \u001b[1;32mreturn\u001b[0m \u001b[0mDictList\u001b[0m\u001b[1;33m.\u001b[0m\u001b[0mget_by_id\u001b[0m\u001b[1;33m(\u001b[0m\u001b[0mself\u001b[0m\u001b[1;33m,\u001b[0m \u001b[0mattr\u001b[0m\u001b[1;33m)\u001b[0m\u001b[1;33m\u001b[0m\u001b[1;33m\u001b[0m\u001b[0m\n\u001b[0m\u001b[0;32m    452\u001b[0m         \u001b[1;32mexcept\u001b[0m \u001b[0mKeyError\u001b[0m\u001b[1;33m:\u001b[0m\u001b[1;33m\u001b[0m\u001b[1;33m\u001b[0m\u001b[0m\n",
      "\u001b[1;32m~\\AppData\\Local\\Continuum\\anaconda3\\envs\\g-thermo\\lib\\site-packages\\cobra\\core\\dictlist.py\u001b[0m in \u001b[0;36mget_by_id\u001b[1;34m(self, id)\u001b[0m\n\u001b[0;32m     57\u001b[0m         \u001b[1;34m\"\"\"return the element with a matching id\"\"\"\u001b[0m\u001b[1;33m\u001b[0m\u001b[1;33m\u001b[0m\u001b[0m\n\u001b[1;32m---> 58\u001b[1;33m         \u001b[1;32mreturn\u001b[0m \u001b[0mlist\u001b[0m\u001b[1;33m.\u001b[0m\u001b[0m__getitem__\u001b[0m\u001b[1;33m(\u001b[0m\u001b[0mself\u001b[0m\u001b[1;33m,\u001b[0m \u001b[0mself\u001b[0m\u001b[1;33m.\u001b[0m\u001b[0m_dict\u001b[0m\u001b[1;33m[\u001b[0m\u001b[0mid\u001b[0m\u001b[1;33m]\u001b[0m\u001b[1;33m)\u001b[0m\u001b[1;33m\u001b[0m\u001b[1;33m\u001b[0m\u001b[0m\n\u001b[0m\u001b[0;32m     59\u001b[0m \u001b[1;33m\u001b[0m\u001b[0m\n",
      "\u001b[1;31mKeyError\u001b[0m: 'RNA'",
      "\nDuring handling of the above exception, another exception occurred:\n",
      "\u001b[1;31mAttributeError\u001b[0m                            Traceback (most recent call last)",
      "\u001b[1;32m<ipython-input-32-903467f6b261>\u001b[0m in \u001b[0;36m<module>\u001b[1;34m\u001b[0m\n\u001b[1;32m----> 1\u001b[1;33m \u001b[0mmodel_e_coli\u001b[0m\u001b[1;33m.\u001b[0m\u001b[0mreactions\u001b[0m\u001b[1;33m.\u001b[0m\u001b[0mRNA\u001b[0m\u001b[1;33m\u001b[0m\u001b[1;33m\u001b[0m\u001b[0m\n\u001b[0m",
      "\u001b[1;32m~\\AppData\\Local\\Continuum\\anaconda3\\envs\\g-thermo\\lib\\site-packages\\cobra\\core\\dictlist.py\u001b[0m in \u001b[0;36m__getattr__\u001b[1;34m(self, attr)\u001b[0m\n\u001b[0;32m    452\u001b[0m         \u001b[1;32mexcept\u001b[0m \u001b[0mKeyError\u001b[0m\u001b[1;33m:\u001b[0m\u001b[1;33m\u001b[0m\u001b[1;33m\u001b[0m\u001b[0m\n\u001b[0;32m    453\u001b[0m             raise AttributeError(\"DictList has no attribute or entry %s\" %\n\u001b[1;32m--> 454\u001b[1;33m                                  attr)\n\u001b[0m\u001b[0;32m    455\u001b[0m \u001b[1;33m\u001b[0m\u001b[0m\n\u001b[0;32m    456\u001b[0m     \u001b[1;32mdef\u001b[0m \u001b[0m__dir__\u001b[0m\u001b[1;33m(\u001b[0m\u001b[0mself\u001b[0m\u001b[1;33m)\u001b[0m\u001b[1;33m:\u001b[0m\u001b[1;33m\u001b[0m\u001b[1;33m\u001b[0m\u001b[0m\n",
      "\u001b[1;31mAttributeError\u001b[0m: DictList has no attribute or entry RNA"
     ]
    }
   ],
   "source": [
    "model_e_coli.reactions.RNA"
   ]
  },
  {
   "cell_type": "code",
   "execution_count": 34,
   "metadata": {},
   "outputs": [
    {
     "data": {
      "text/plain": [
       "{<Metabolite ser__L_c at 0x19d61ec2288>: -0.19218254,\n",
       " <Metabolite phe__L_c at 0x19d61b42bc8>: -0.15396106,\n",
       " <Metabolite thr__L_c at 0x19d61b2f6c8>: -0.2851532,\n",
       " <Metabolite asn__L_c at 0x19d61ab9288>: -0.42971812,\n",
       " <Metabolite lys__L_c at 0x19d61dbd908>: -0.336492138,\n",
       " <Metabolite tyr__L_c at 0x19d61f39088>: -0.176105203,\n",
       " <Metabolite glu__L_c at 0x19d61c00248>: -0.109910287,\n",
       " <Metabolite val__L_c at 0x19d61b1b748>: -0.39907943,\n",
       " <Metabolite met__L_c at 0x19d61eed608>: -0.09015617,\n",
       " <Metabolite cys__L_c at 0x19d61fc5888>: -0.11444242,\n",
       " <Metabolite leu__L_c at 0x19d61a2d748>: -0.36865919,\n",
       " <Metabolite ala__L_c at 0x19d61d5a108>: -0.54554044,\n",
       " <Metabolite trp__L_c at 0x19d61f0d7c8>: -0.10888199,\n",
       " <Metabolite pro__L_c at 0x19d61aaa3c8>: -0.17668818,\n",
       " <Metabolite his__L_c at 0x19d61a5fb48>: -0.08256969,\n",
       " <Metabolite asp__L_c at 0x19d61dde988>: -0.23547196,\n",
       " <Metabolite ile__L_c at 0x19d61cb23c8>: -0.2894275,\n",
       " <Metabolite gly_c at 0x19d61d2c908>: -0.43255958,\n",
       " <Metabolite amp_c at 0x19d61b88548>: -0.113187265,\n",
       " <Metabolite gmp_c at 0x19d61a91088>: -0.145952,\n",
       " <Metabolite cmp_c at 0x19d61e394c8>: -0.079997015,\n",
       " <Metabolite ump_c at 0x19d62015408>: -0.0868052716,\n",
       " <Metabolite damp_c at 0x19d61c7b108>: -0.029903042,\n",
       " <Metabolite dgmp_c at 0x19d61c8c588>: -0.023333636,\n",
       " <Metabolite dcmp_c at 0x19d61baa048>: -0.023333636,\n",
       " <Metabolite dtmp_c at 0x19d61c8eb88>: -0.029903042,\n",
       " <Metabolite ptrc_c at 0x19d61a5aa48>: -0.029903042,\n",
       " <Metabolite nad_c at 0x19d61cbe588>: -0.029903042,\n",
       " <Metabolite nadh_c at 0x19d61d97288>: -0.029903042,\n",
       " <Metabolite nadph_c at 0x19d61e35108>: -0.029903042,\n",
       " <Metabolite nadp_c at 0x19d61ec5388>: -0.029903042,\n",
       " <Metabolite chor_c at 0x19d61bbe048>: -0.029903042,\n",
       " <Metabolite thmpp_c at 0x19d61ecdc08>: -0.029903042,\n",
       " <Metabolite ribflv_c at 0x19d61bd19c8>: -0.029903042,\n",
       " <Metabolite fad_c at 0x19d61b16548>: -0.029903042,\n",
       " <Metabolite fe3_c at 0x19d61b4ecc8>: -0.029903042,\n",
       " <Metabolite fe2_c at 0x19d61b4e708>: -0.029903042,\n",
       " <Metabolite cl_c at 0x19d61da9688>: -0.029903042,\n",
       " <Metabolite atp_c at 0x19d61baa788>: -0.029903042,\n",
       " <Metabolite coa_c at 0x19d619af208>: -0.029903042,\n",
       " <Metabolite qh2_c at 0x19d618e7348>: -0.029903042,\n",
       " <Metabolite succoa_c at 0x19d61b45b08>: -0.029903042,\n",
       " <Metabolite accoa_c at 0x19d61bedd08>: -0.029903042,\n",
       " <Metabolite gthrd_c at 0x19d61df5e48>: -0.029903042,\n",
       " <Metabolite Biomass_c at 0x19d62058508>: 1.0,\n",
       " <Metabolite adp_c at 0x19d61f77b88>: 104.9974,\n",
       " <Metabolite pi_c at 0x19d61fd9448>: 104.9856}"
      ]
     },
     "execution_count": 34,
     "metadata": {},
     "output_type": "execute_result"
    }
   ],
   "source": [
    "model.reactions.biomass.metabolites"
   ]
  },
  {
   "cell_type": "code",
   "execution_count": 5,
   "metadata": {},
   "outputs": [],
   "source": [
    "solution = model.optimize()"
   ]
  },
  {
   "cell_type": "code",
   "execution_count": 6,
   "metadata": {},
   "outputs": [
    {
     "name": "stdout",
     "output_type": "stream",
     "text": [
      "Downloading Map from https://escher.github.io/1-0-0/6/maps/Escherichia%20coli/e_coli_core.Core%20metabolism.json\n"
     ]
    },
    {
     "data": {
      "application/vnd.jupyter.widget-view+json": {
       "model_id": "27604a3d0345476ab927e419c912ff8f",
       "version_major": 2,
       "version_minor": 0
      },
      "text/plain": [
       "Builder(reaction_data={'IDPh': 0.0, 'PYRACTT': 0.0, 'CAT': 0.0, 'PDHam1hi': 0.0, 'CCP': -0.005731079537424577,…"
      ]
     },
     "metadata": {},
     "output_type": "display_data"
    }
   ],
   "source": [
    "escher.Builder('e_coli_core.Core metabolism', reaction_data=solution.fluxes.to_dict())"
   ]
  },
  {
   "cell_type": "code",
   "execution_count": null,
   "metadata": {},
   "outputs": [],
   "source": []
  }
 ],
 "metadata": {
  "kernelspec": {
   "display_name": "Python 3",
   "language": "python",
   "name": "python3"
  },
  "language_info": {
   "codemirror_mode": {
    "name": "ipython",
    "version": 3
   },
   "file_extension": ".py",
   "mimetype": "text/x-python",
   "name": "python",
   "nbconvert_exporter": "python",
   "pygments_lexer": "ipython3",
   "version": "3.7.4"
  }
 },
 "nbformat": 4,
 "nbformat_minor": 2
}
