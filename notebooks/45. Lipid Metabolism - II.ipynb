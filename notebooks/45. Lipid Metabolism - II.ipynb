{
 "cells": [
  {
   "cell_type": "markdown",
   "metadata": {},
   "source": [
    "# Introduction\n",
    "in notebook '42. Lipid metabolism-I' we tackled the production of the first few fatty acids that are needed. To prevent that notebook from becoming too large, here I will include the biosynthesis of the last fatty acid chains that our model needs to make. \n",
    "\n",
    "Here I will ensure the Iso FAs can be made, both even and uneven. \n"
   ]
  },
  {
   "cell_type": "code",
   "execution_count": 1,
   "metadata": {},
   "outputs": [
    {
     "data": {
      "application/javascript": [
       "\n",
       "(function(root) {\n",
       "  function now() {\n",
       "    return new Date();\n",
       "  }\n",
       "\n",
       "  var force = true;\n",
       "\n",
       "  if (typeof root._bokeh_onload_callbacks === \"undefined\" || force === true) {\n",
       "    root._bokeh_onload_callbacks = [];\n",
       "    root._bokeh_is_loading = undefined;\n",
       "  }\n",
       "\n",
       "  var JS_MIME_TYPE = 'application/javascript';\n",
       "  var HTML_MIME_TYPE = 'text/html';\n",
       "  var EXEC_MIME_TYPE = 'application/vnd.bokehjs_exec.v0+json';\n",
       "  var CLASS_NAME = 'output_bokeh rendered_html';\n",
       "\n",
       "  /**\n",
       "   * Render data to the DOM node\n",
       "   */\n",
       "  function render(props, node) {\n",
       "    var script = document.createElement(\"script\");\n",
       "    node.appendChild(script);\n",
       "  }\n",
       "\n",
       "  /**\n",
       "   * Handle when an output is cleared or removed\n",
       "   */\n",
       "  function handleClearOutput(event, handle) {\n",
       "    var cell = handle.cell;\n",
       "\n",
       "    var id = cell.output_area._bokeh_element_id;\n",
       "    var server_id = cell.output_area._bokeh_server_id;\n",
       "    // Clean up Bokeh references\n",
       "    if (id != null && id in Bokeh.index) {\n",
       "      Bokeh.index[id].model.document.clear();\n",
       "      delete Bokeh.index[id];\n",
       "    }\n",
       "\n",
       "    if (server_id !== undefined) {\n",
       "      // Clean up Bokeh references\n",
       "      var cmd = \"from bokeh.io.state import curstate; print(curstate().uuid_to_server['\" + server_id + \"'].get_sessions()[0].document.roots[0]._id)\";\n",
       "      cell.notebook.kernel.execute(cmd, {\n",
       "        iopub: {\n",
       "          output: function(msg) {\n",
       "            var id = msg.content.text.trim();\n",
       "            if (id in Bokeh.index) {\n",
       "              Bokeh.index[id].model.document.clear();\n",
       "              delete Bokeh.index[id];\n",
       "            }\n",
       "          }\n",
       "        }\n",
       "      });\n",
       "      // Destroy server and session\n",
       "      var cmd = \"import bokeh.io.notebook as ion; ion.destroy_server('\" + server_id + \"')\";\n",
       "      cell.notebook.kernel.execute(cmd);\n",
       "    }\n",
       "  }\n",
       "\n",
       "  /**\n",
       "   * Handle when a new output is added\n",
       "   */\n",
       "  function handleAddOutput(event, handle) {\n",
       "    var output_area = handle.output_area;\n",
       "    var output = handle.output;\n",
       "\n",
       "    // limit handleAddOutput to display_data with EXEC_MIME_TYPE content only\n",
       "    if ((output.output_type != \"display_data\") || (!output.data.hasOwnProperty(EXEC_MIME_TYPE))) {\n",
       "      return\n",
       "    }\n",
       "\n",
       "    var toinsert = output_area.element.find(\".\" + CLASS_NAME.split(' ')[0]);\n",
       "\n",
       "    if (output.metadata[EXEC_MIME_TYPE][\"id\"] !== undefined) {\n",
       "      toinsert[toinsert.length - 1].firstChild.textContent = output.data[JS_MIME_TYPE];\n",
       "      // store reference to embed id on output_area\n",
       "      output_area._bokeh_element_id = output.metadata[EXEC_MIME_TYPE][\"id\"];\n",
       "    }\n",
       "    if (output.metadata[EXEC_MIME_TYPE][\"server_id\"] !== undefined) {\n",
       "      var bk_div = document.createElement(\"div\");\n",
       "      bk_div.innerHTML = output.data[HTML_MIME_TYPE];\n",
       "      var script_attrs = bk_div.children[0].attributes;\n",
       "      for (var i = 0; i < script_attrs.length; i++) {\n",
       "        toinsert[toinsert.length - 1].firstChild.setAttribute(script_attrs[i].name, script_attrs[i].value);\n",
       "        toinsert[toinsert.length - 1].firstChild.textContent = bk_div.children[0].textContent\n",
       "      }\n",
       "      // store reference to server id on output_area\n",
       "      output_area._bokeh_server_id = output.metadata[EXEC_MIME_TYPE][\"server_id\"];\n",
       "    }\n",
       "  }\n",
       "\n",
       "  function register_renderer(events, OutputArea) {\n",
       "\n",
       "    function append_mime(data, metadata, element) {\n",
       "      // create a DOM node to render to\n",
       "      var toinsert = this.create_output_subarea(\n",
       "        metadata,\n",
       "        CLASS_NAME,\n",
       "        EXEC_MIME_TYPE\n",
       "      );\n",
       "      this.keyboard_manager.register_events(toinsert);\n",
       "      // Render to node\n",
       "      var props = {data: data, metadata: metadata[EXEC_MIME_TYPE]};\n",
       "      render(props, toinsert[toinsert.length - 1]);\n",
       "      element.append(toinsert);\n",
       "      return toinsert\n",
       "    }\n",
       "\n",
       "    /* Handle when an output is cleared or removed */\n",
       "    events.on('clear_output.CodeCell', handleClearOutput);\n",
       "    events.on('delete.Cell', handleClearOutput);\n",
       "\n",
       "    /* Handle when a new output is added */\n",
       "    events.on('output_added.OutputArea', handleAddOutput);\n",
       "\n",
       "    /**\n",
       "     * Register the mime type and append_mime function with output_area\n",
       "     */\n",
       "    OutputArea.prototype.register_mime_type(EXEC_MIME_TYPE, append_mime, {\n",
       "      /* Is output safe? */\n",
       "      safe: true,\n",
       "      /* Index of renderer in `output_area.display_order` */\n",
       "      index: 0\n",
       "    });\n",
       "  }\n",
       "\n",
       "  // register the mime type if in Jupyter Notebook environment and previously unregistered\n",
       "  if (root.Jupyter !== undefined) {\n",
       "    var events = require('base/js/events');\n",
       "    var OutputArea = require('notebook/js/outputarea').OutputArea;\n",
       "\n",
       "    if (OutputArea.prototype.mime_types().indexOf(EXEC_MIME_TYPE) == -1) {\n",
       "      register_renderer(events, OutputArea);\n",
       "    }\n",
       "  }\n",
       "\n",
       "  \n",
       "  if (typeof (root._bokeh_timeout) === \"undefined\" || force === true) {\n",
       "    root._bokeh_timeout = Date.now() + 5000;\n",
       "    root._bokeh_failed_load = false;\n",
       "  }\n",
       "\n",
       "  var NB_LOAD_WARNING = {'data': {'text/html':\n",
       "     \"<div style='background-color: #fdd'>\\n\"+\n",
       "     \"<p>\\n\"+\n",
       "     \"BokehJS does not appear to have successfully loaded. If loading BokehJS from CDN, this \\n\"+\n",
       "     \"may be due to a slow or bad network connection. Possible fixes:\\n\"+\n",
       "     \"</p>\\n\"+\n",
       "     \"<ul>\\n\"+\n",
       "     \"<li>re-rerun `output_notebook()` to attempt to load from CDN again, or</li>\\n\"+\n",
       "     \"<li>use INLINE resources instead, as so:</li>\\n\"+\n",
       "     \"</ul>\\n\"+\n",
       "     \"<code>\\n\"+\n",
       "     \"from bokeh.resources import INLINE\\n\"+\n",
       "     \"output_notebook(resources=INLINE)\\n\"+\n",
       "     \"</code>\\n\"+\n",
       "     \"</div>\"}};\n",
       "\n",
       "  function display_loaded() {\n",
       "    var el = document.getElementById(null);\n",
       "    if (el != null) {\n",
       "      el.textContent = \"BokehJS is loading...\";\n",
       "    }\n",
       "    if (root.Bokeh !== undefined) {\n",
       "      if (el != null) {\n",
       "        el.textContent = \"BokehJS \" + root.Bokeh.version + \" successfully loaded.\";\n",
       "      }\n",
       "    } else if (Date.now() < root._bokeh_timeout) {\n",
       "      setTimeout(display_loaded, 100)\n",
       "    }\n",
       "  }\n",
       "\n",
       "\n",
       "  function run_callbacks() {\n",
       "    try {\n",
       "      root._bokeh_onload_callbacks.forEach(function(callback) {\n",
       "        if (callback != null)\n",
       "          callback();\n",
       "      });\n",
       "    } finally {\n",
       "      delete root._bokeh_onload_callbacks\n",
       "    }\n",
       "    console.debug(\"Bokeh: all callbacks have finished\");\n",
       "  }\n",
       "\n",
       "  function load_libs(css_urls, js_urls, callback) {\n",
       "    if (css_urls == null) css_urls = [];\n",
       "    if (js_urls == null) js_urls = [];\n",
       "\n",
       "    root._bokeh_onload_callbacks.push(callback);\n",
       "    if (root._bokeh_is_loading > 0) {\n",
       "      console.debug(\"Bokeh: BokehJS is being loaded, scheduling callback at\", now());\n",
       "      return null;\n",
       "    }\n",
       "    if (js_urls == null || js_urls.length === 0) {\n",
       "      run_callbacks();\n",
       "      return null;\n",
       "    }\n",
       "    console.debug(\"Bokeh: BokehJS not loaded, scheduling load and callback at\", now());\n",
       "    root._bokeh_is_loading = css_urls.length + js_urls.length;\n",
       "\n",
       "    function on_load() {\n",
       "      root._bokeh_is_loading--;\n",
       "      if (root._bokeh_is_loading === 0) {\n",
       "        console.debug(\"Bokeh: all BokehJS libraries/stylesheets loaded\");\n",
       "        run_callbacks()\n",
       "      }\n",
       "    }\n",
       "\n",
       "    function on_error() {\n",
       "      console.error(\"failed to load \" + url);\n",
       "    }\n",
       "\n",
       "    for (var i = 0; i < css_urls.length; i++) {\n",
       "      var url = css_urls[i];\n",
       "      const element = document.createElement(\"link\");\n",
       "      element.onload = on_load;\n",
       "      element.onerror = on_error;\n",
       "      element.rel = \"stylesheet\";\n",
       "      element.type = \"text/css\";\n",
       "      element.href = url;\n",
       "      console.debug(\"Bokeh: injecting link tag for BokehJS stylesheet: \", url);\n",
       "      document.body.appendChild(element);\n",
       "    }\n",
       "\n",
       "    const hashes = {\"https://cdn.bokeh.org/bokeh/release/bokeh-2.0.1.min.js\": \"JpP8FXbgAZLkfur7LiK3j9AGBhHNIvF742meBJrjO2ShJDhCG2I1uVvW+0DUtrmc\", \"https://cdn.bokeh.org/bokeh/release/bokeh-widgets-2.0.1.min.js\": \"xZlADit0Q04ISQEdKg2k3L4W9AwQBAuDs9nJL9fM/WwzL1tEU9VPNezOFX0nLEAz\", \"https://cdn.bokeh.org/bokeh/release/bokeh-tables-2.0.1.min.js\": \"4BuPRZkdMKSnj3zoxiNrQ86XgNw0rYmBOxe7nshquXwwcauupgBF2DHLVG1WuZlV\", \"https://cdn.bokeh.org/bokeh/release/bokeh-gl-2.0.1.min.js\": \"Dv1SQ87hmDqK6S5OhBf0bCuwAEvL5QYL0PuR/F1SPVhCS/r/abjkbpKDYL2zeM19\"};\n",
       "\n",
       "    for (var i = 0; i < js_urls.length; i++) {\n",
       "      var url = js_urls[i];\n",
       "      var element = document.createElement('script');\n",
       "      element.onload = on_load;\n",
       "      element.onerror = on_error;\n",
       "      element.async = false;\n",
       "      element.src = url;\n",
       "      if (url in hashes) {\n",
       "        element.crossOrigin = \"anonymous\";\n",
       "        element.integrity = \"sha384-\" + hashes[url];\n",
       "      }\n",
       "      console.debug(\"Bokeh: injecting script tag for BokehJS library: \", url);\n",
       "      document.head.appendChild(element);\n",
       "    }\n",
       "  };\n",
       "\n",
       "  function inject_raw_css(css) {\n",
       "    const element = document.createElement(\"style\");\n",
       "    element.appendChild(document.createTextNode(css));\n",
       "    document.body.appendChild(element);\n",
       "  }\n",
       "\n",
       "  \n",
       "  var js_urls = [\"https://cdn.bokeh.org/bokeh/release/bokeh-2.0.1.min.js\", \"https://cdn.bokeh.org/bokeh/release/bokeh-widgets-2.0.1.min.js\", \"https://cdn.bokeh.org/bokeh/release/bokeh-tables-2.0.1.min.js\", \"https://cdn.bokeh.org/bokeh/release/bokeh-gl-2.0.1.min.js\"];\n",
       "  var css_urls = [];\n",
       "  \n",
       "\n",
       "  var inline_js = [\n",
       "    function(Bokeh) {\n",
       "      Bokeh.set_log_level(\"info\");\n",
       "    },\n",
       "    function(Bokeh) {\n",
       "    \n",
       "    \n",
       "    }\n",
       "  ];\n",
       "\n",
       "  function run_inline_js() {\n",
       "    \n",
       "    if (root.Bokeh !== undefined || force === true) {\n",
       "      \n",
       "    for (var i = 0; i < inline_js.length; i++) {\n",
       "      inline_js[i].call(root, root.Bokeh);\n",
       "    }\n",
       "    } else if (Date.now() < root._bokeh_timeout) {\n",
       "      setTimeout(run_inline_js, 100);\n",
       "    } else if (!root._bokeh_failed_load) {\n",
       "      console.log(\"Bokeh: BokehJS failed to load within specified timeout.\");\n",
       "      root._bokeh_failed_load = true;\n",
       "    } else if (force !== true) {\n",
       "      var cell = $(document.getElementById(null)).parents('.cell').data().cell;\n",
       "      cell.output_area.append_execute_result(NB_LOAD_WARNING)\n",
       "    }\n",
       "\n",
       "  }\n",
       "\n",
       "  if (root._bokeh_is_loading === 0) {\n",
       "    console.debug(\"Bokeh: BokehJS loaded, going straight to plotting\");\n",
       "    run_inline_js();\n",
       "  } else {\n",
       "    load_libs(css_urls, js_urls, function() {\n",
       "      console.debug(\"Bokeh: BokehJS plotting callback run at\", now());\n",
       "      run_inline_js();\n",
       "    });\n",
       "  }\n",
       "}(window));"
      ],
      "application/vnd.bokehjs_load.v0+json": "\n(function(root) {\n  function now() {\n    return new Date();\n  }\n\n  var force = true;\n\n  if (typeof root._bokeh_onload_callbacks === \"undefined\" || force === true) {\n    root._bokeh_onload_callbacks = [];\n    root._bokeh_is_loading = undefined;\n  }\n\n  \n\n  \n  if (typeof (root._bokeh_timeout) === \"undefined\" || force === true) {\n    root._bokeh_timeout = Date.now() + 5000;\n    root._bokeh_failed_load = false;\n  }\n\n  var NB_LOAD_WARNING = {'data': {'text/html':\n     \"<div style='background-color: #fdd'>\\n\"+\n     \"<p>\\n\"+\n     \"BokehJS does not appear to have successfully loaded. If loading BokehJS from CDN, this \\n\"+\n     \"may be due to a slow or bad network connection. Possible fixes:\\n\"+\n     \"</p>\\n\"+\n     \"<ul>\\n\"+\n     \"<li>re-rerun `output_notebook()` to attempt to load from CDN again, or</li>\\n\"+\n     \"<li>use INLINE resources instead, as so:</li>\\n\"+\n     \"</ul>\\n\"+\n     \"<code>\\n\"+\n     \"from bokeh.resources import INLINE\\n\"+\n     \"output_notebook(resources=INLINE)\\n\"+\n     \"</code>\\n\"+\n     \"</div>\"}};\n\n  function display_loaded() {\n    var el = document.getElementById(null);\n    if (el != null) {\n      el.textContent = \"BokehJS is loading...\";\n    }\n    if (root.Bokeh !== undefined) {\n      if (el != null) {\n        el.textContent = \"BokehJS \" + root.Bokeh.version + \" successfully loaded.\";\n      }\n    } else if (Date.now() < root._bokeh_timeout) {\n      setTimeout(display_loaded, 100)\n    }\n  }\n\n\n  function run_callbacks() {\n    try {\n      root._bokeh_onload_callbacks.forEach(function(callback) {\n        if (callback != null)\n          callback();\n      });\n    } finally {\n      delete root._bokeh_onload_callbacks\n    }\n    console.debug(\"Bokeh: all callbacks have finished\");\n  }\n\n  function load_libs(css_urls, js_urls, callback) {\n    if (css_urls == null) css_urls = [];\n    if (js_urls == null) js_urls = [];\n\n    root._bokeh_onload_callbacks.push(callback);\n    if (root._bokeh_is_loading > 0) {\n      console.debug(\"Bokeh: BokehJS is being loaded, scheduling callback at\", now());\n      return null;\n    }\n    if (js_urls == null || js_urls.length === 0) {\n      run_callbacks();\n      return null;\n    }\n    console.debug(\"Bokeh: BokehJS not loaded, scheduling load and callback at\", now());\n    root._bokeh_is_loading = css_urls.length + js_urls.length;\n\n    function on_load() {\n      root._bokeh_is_loading--;\n      if (root._bokeh_is_loading === 0) {\n        console.debug(\"Bokeh: all BokehJS libraries/stylesheets loaded\");\n        run_callbacks()\n      }\n    }\n\n    function on_error() {\n      console.error(\"failed to load \" + url);\n    }\n\n    for (var i = 0; i < css_urls.length; i++) {\n      var url = css_urls[i];\n      const element = document.createElement(\"link\");\n      element.onload = on_load;\n      element.onerror = on_error;\n      element.rel = \"stylesheet\";\n      element.type = \"text/css\";\n      element.href = url;\n      console.debug(\"Bokeh: injecting link tag for BokehJS stylesheet: \", url);\n      document.body.appendChild(element);\n    }\n\n    const hashes = {\"https://cdn.bokeh.org/bokeh/release/bokeh-2.0.1.min.js\": \"JpP8FXbgAZLkfur7LiK3j9AGBhHNIvF742meBJrjO2ShJDhCG2I1uVvW+0DUtrmc\", \"https://cdn.bokeh.org/bokeh/release/bokeh-widgets-2.0.1.min.js\": \"xZlADit0Q04ISQEdKg2k3L4W9AwQBAuDs9nJL9fM/WwzL1tEU9VPNezOFX0nLEAz\", \"https://cdn.bokeh.org/bokeh/release/bokeh-tables-2.0.1.min.js\": \"4BuPRZkdMKSnj3zoxiNrQ86XgNw0rYmBOxe7nshquXwwcauupgBF2DHLVG1WuZlV\", \"https://cdn.bokeh.org/bokeh/release/bokeh-gl-2.0.1.min.js\": \"Dv1SQ87hmDqK6S5OhBf0bCuwAEvL5QYL0PuR/F1SPVhCS/r/abjkbpKDYL2zeM19\"};\n\n    for (var i = 0; i < js_urls.length; i++) {\n      var url = js_urls[i];\n      var element = document.createElement('script');\n      element.onload = on_load;\n      element.onerror = on_error;\n      element.async = false;\n      element.src = url;\n      if (url in hashes) {\n        element.crossOrigin = \"anonymous\";\n        element.integrity = \"sha384-\" + hashes[url];\n      }\n      console.debug(\"Bokeh: injecting script tag for BokehJS library: \", url);\n      document.head.appendChild(element);\n    }\n  };\n\n  function inject_raw_css(css) {\n    const element = document.createElement(\"style\");\n    element.appendChild(document.createTextNode(css));\n    document.body.appendChild(element);\n  }\n\n  \n  var js_urls = [\"https://cdn.bokeh.org/bokeh/release/bokeh-2.0.1.min.js\", \"https://cdn.bokeh.org/bokeh/release/bokeh-widgets-2.0.1.min.js\", \"https://cdn.bokeh.org/bokeh/release/bokeh-tables-2.0.1.min.js\", \"https://cdn.bokeh.org/bokeh/release/bokeh-gl-2.0.1.min.js\"];\n  var css_urls = [];\n  \n\n  var inline_js = [\n    function(Bokeh) {\n      Bokeh.set_log_level(\"info\");\n    },\n    function(Bokeh) {\n    \n    \n    }\n  ];\n\n  function run_inline_js() {\n    \n    if (root.Bokeh !== undefined || force === true) {\n      \n    for (var i = 0; i < inline_js.length; i++) {\n      inline_js[i].call(root, root.Bokeh);\n    }\n    } else if (Date.now() < root._bokeh_timeout) {\n      setTimeout(run_inline_js, 100);\n    } else if (!root._bokeh_failed_load) {\n      console.log(\"Bokeh: BokehJS failed to load within specified timeout.\");\n      root._bokeh_failed_load = true;\n    } else if (force !== true) {\n      var cell = $(document.getElementById(null)).parents('.cell').data().cell;\n      cell.output_area.append_execute_result(NB_LOAD_WARNING)\n    }\n\n  }\n\n  if (root._bokeh_is_loading === 0) {\n    console.debug(\"Bokeh: BokehJS loaded, going straight to plotting\");\n    run_inline_js();\n  } else {\n    load_libs(css_urls, js_urls, function() {\n      console.debug(\"Bokeh: BokehJS plotting callback run at\", now());\n      run_inline_js();\n    });\n  }\n}(window));"
     },
     "metadata": {},
     "output_type": "display_data"
    }
   ],
   "source": [
    "import cameo\n",
    "import pandas as pd\n",
    "import cobra.io\n",
    "from cobra import Reaction, Metabolite"
   ]
  },
  {
   "cell_type": "code",
   "execution_count": 4,
   "metadata": {},
   "outputs": [],
   "source": [
    "model = cobra.io.read_sbml_model('../model/g-thermo.xml')"
   ]
  },
  {
   "cell_type": "code",
   "execution_count": 5,
   "metadata": {},
   "outputs": [],
   "source": [
    "model_e_coli = cameo.load_model('iML1515')"
   ]
  },
  {
   "cell_type": "code",
   "execution_count": 6,
   "metadata": {},
   "outputs": [],
   "source": [
    "model_b_sub = cameo.load_model('iYO844')"
   ]
  },
  {
   "cell_type": "markdown",
   "metadata": {},
   "source": [
    "### Iso-Branched, even chained fatty acids\n",
    "In this category, we need to ensure the production of iso-C15:0 and isoC17:0 fatty acids (i.e. the main chain is even length). In general, the even chain iso fatty acids are made from leucine that is converted into a primer molecule that can then go through the cycles of elongation until the final chain length is achieved. \n",
    "\n",
    "The leucine is converted into 3-Methylbutanoyl-CoA (aka Isovaleryl-CoA, Kegg ID C02939). Checking in the model, we already have this metaboltite: ivcoa_c. I will check it is properly converted from leucine first. Leucine should be converted into 4mop_c and then into the ivcoa_c metabolite. The conversion of 4mop_c into ivcoa_c is correctly present, the conversion of leucine into 4mop_c is also there. So now I need to add a reaction that converts ivcoa_c into ivACP, which can then enter the cycles of elongation.\n"
   ]
  },
  {
   "cell_type": "code",
   "execution_count": 7,
   "metadata": {},
   "outputs": [],
   "source": [
    "#add ivACP_c meta,bolite\n",
    "model.add_metabolites(Metabolite(id='ivACP_c', name = '3-Methylbutanoyl-ACP', compartment= 'c', formula = 'C16H29N2O8PRS', charge = -1))"
   ]
  },
  {
   "cell_type": "code",
   "execution_count": 8,
   "metadata": {},
   "outputs": [],
   "source": [
    "model.metabolites.ivACP_c.annotation['sbo'] = 'SBO:0000176'"
   ]
  },
  {
   "cell_type": "code",
   "execution_count": 9,
   "metadata": {},
   "outputs": [],
   "source": [
    "#then add conversion of ivcoa into ivACP"
   ]
  },
  {
   "cell_type": "code",
   "execution_count": 10,
   "metadata": {},
   "outputs": [],
   "source": [
    "model.add_reaction(Reaction(id='IVCOATA', name = '3-methylbutyryl-CoA:[acyl-carrier-protein] transferase'))"
   ]
  },
  {
   "cell_type": "code",
   "execution_count": 11,
   "metadata": {},
   "outputs": [],
   "source": [
    "model.reactions.IVCOATA.annotation['sbo'] = 'SBO:0000176'"
   ]
  },
  {
   "cell_type": "code",
   "execution_count": 12,
   "metadata": {},
   "outputs": [],
   "source": [
    "model.reactions.IVCOATA.add_metabolites({\n",
    "    model.metabolites.ACP_c:-1,\n",
    "    model.metabolites.ivcoa_c:-1,\n",
    "    model.metabolites.coa_c:1,\n",
    "    model.metabolites.ivACP_c:1,\n",
    "    model.metabolites.h_c:1\n",
    "})"
   ]
  },
  {
   "cell_type": "code",
   "execution_count": 13,
   "metadata": {},
   "outputs": [],
   "source": [
    "model.reactions.IVCOATA.bounds = (-1000,1000)"
   ]
  },
  {
   "cell_type": "code",
   "execution_count": 14,
   "metadata": {},
   "outputs": [],
   "source": [
    "cobra.io.write_sbml_model(model,'../model/g-thermo.xml')"
   ]
  },
  {
   "cell_type": "markdown",
   "metadata": {},
   "source": [
    "Now that the primer molecule is ready, we can start the elongation process with malonyl-ACP to iso-C6:0."
   ]
  },
  {
   "cell_type": "code",
   "execution_count": 15,
   "metadata": {},
   "outputs": [],
   "source": [
    "#add condenstation of s3bmcoa-ACP with malonyl ACP to 3-oxo3mnoyl-ACP\n",
    "#add metabolite\n",
    "model.add_metabolites(Metabolite(id='3o3mhACP_c', name = '3-oxo3methylhexanoyl-ACP', compartment = 'c', charge =-1, formula = 'C18H31N2O9PRS'))"
   ]
  },
  {
   "cell_type": "code",
   "execution_count": 16,
   "metadata": {},
   "outputs": [],
   "source": [
    "model.metabolites.get_by_id('3o3mhACP_c').annotation['sbo'] = 'SBO:0000176'"
   ]
  },
  {
   "cell_type": "code",
   "execution_count": 17,
   "metadata": {},
   "outputs": [],
   "source": [
    "#add reaction\n",
    "model.add_reaction(Reaction(id='3O3MAS70', name = '3-oxo3methylhexanoyl-[acyl-carrier-protein] synthase (iso-C7:0)'))"
   ]
  },
  {
   "cell_type": "code",
   "execution_count": 18,
   "metadata": {},
   "outputs": [],
   "source": [
    "model.reactions.get_by_id('3O3MAS70').annotation['sbo'] = 'SBO:0000176'"
   ]
  },
  {
   "cell_type": "code",
   "execution_count": 19,
   "metadata": {},
   "outputs": [],
   "source": [
    "#assume GPR is the same FA synthase: RTMO12345\n",
    "model.reactions.get_by_id('3O3MAS70').gene_reaction_rule = 'RTMO12345'"
   ]
  },
  {
   "cell_type": "code",
   "execution_count": 20,
   "metadata": {},
   "outputs": [],
   "source": [
    "model.reactions.get_by_id('3O3MAS70').add_metabolites({\n",
    "    model.metabolites.malACP_c:-1,\n",
    "    model.metabolites.ivACP_c:-1,\n",
    "    model.metabolites.ACP_c:1,\n",
    "    model.metabolites.co2_c:1,\n",
    "    model.metabolites.get_by_id('3o3mhACP_c'):1,\n",
    "    model.metabolites.h_c:-1\n",
    "})"
   ]
  },
  {
   "cell_type": "code",
   "execution_count": 21,
   "metadata": {},
   "outputs": [],
   "source": [
    "#next add reaction with NADPH\n",
    "#first add 3-Hydroxy-3-methylheptanoyl-[acp] met\n",
    "model.add_metabolites(Metabolite(id='3h3mhACP_c', name = '3-Hydroxy-3-methylhexanoyl-[acp]', compartment = 'c', charge = -1, formula = 'C18H33N2O9PRS'))"
   ]
  },
  {
   "cell_type": "code",
   "execution_count": 22,
   "metadata": {},
   "outputs": [],
   "source": [
    "model.metabolites.get_by_id('3h3mhACP_c').annotation['sbo'] = 'SBO:0000247'"
   ]
  },
  {
   "cell_type": "code",
   "execution_count": 23,
   "metadata": {},
   "outputs": [],
   "source": [
    "#add reaction\n",
    "model.add_reaction(Reaction(id='3O3MAR70', name = ' 3-oxo-3-methyl-acyl-[acyl-carrier-protein] reductase (iso-C7:0)'))"
   ]
  },
  {
   "cell_type": "code",
   "execution_count": 24,
   "metadata": {},
   "outputs": [],
   "source": [
    "model.reactions.get_by_id('3O3MAR70').annotation['sbo'] = 'SBO:0000176'"
   ]
  },
  {
   "cell_type": "code",
   "execution_count": 25,
   "metadata": {},
   "outputs": [],
   "source": [
    "#assume GPR is the same FA synthase: RTMO12345\n",
    "model.reactions.get_by_id('3O3MAR70').gene_reaction_rule = 'RTMO12345'"
   ]
  },
  {
   "cell_type": "code",
   "execution_count": 26,
   "metadata": {},
   "outputs": [],
   "source": [
    "model.reactions.get_by_id('3O3MAR70').add_metabolites({\n",
    "    model.metabolites.get_by_id('3o3mhACP_c'):-1,\n",
    "    model.metabolites.nadph_c:-1,\n",
    "    model.metabolites.nadp_c:1,\n",
    "    model.metabolites.get_by_id('3h3mhACP_c'):1,\n",
    "    model.metabolites.h_c:-1\n",
    "})"
   ]
  },
  {
   "cell_type": "code",
   "execution_count": 27,
   "metadata": {},
   "outputs": [],
   "source": [
    "#next add the t3mh2eACP_c metabolite\n",
    "model.add_metabolites(Metabolite(id='t3mh2eACP_c', name = 'Trans-3-methylhex-2-enoyl-[acyl-carrier protein]', compartment = 'c', charge = -1, formula = 'C18H31N2O8PRS'))"
   ]
  },
  {
   "cell_type": "code",
   "execution_count": 28,
   "metadata": {},
   "outputs": [],
   "source": [
    "model.metabolites.get_by_id('t3mh2eACP_c').annotation['sbo'] = 'SBO:0000247'"
   ]
  },
  {
   "cell_type": "code",
   "execution_count": 29,
   "metadata": {},
   "outputs": [],
   "source": [
    "#add reaction\n",
    "model.add_reaction(Reaction(id='3H3MAD70', name = '3-hydroxy-3-methylacyl-[acyl-carrier-protein] dehydratase (iso-C7:0)'))"
   ]
  },
  {
   "cell_type": "code",
   "execution_count": 30,
   "metadata": {},
   "outputs": [],
   "source": [
    "model.reactions.get_by_id('3H3MAD70').annotation['sbo'] = 'SBO:0000176'"
   ]
  },
  {
   "cell_type": "code",
   "execution_count": 31,
   "metadata": {},
   "outputs": [],
   "source": [
    "#assume GPR is the same FA synthase: RTMO12345\n",
    "model.reactions.get_by_id('3H3MAD70').gene_reaction_rule = 'RTMO12345'"
   ]
  },
  {
   "cell_type": "code",
   "execution_count": 32,
   "metadata": {},
   "outputs": [],
   "source": [
    "model.reactions.get_by_id('3H3MAD70').add_metabolites({\n",
    "    model.metabolites.get_by_id('3h3mhACP_c'):-1,\n",
    "    model.metabolites.h2o_c:1,\n",
    "    model.metabolites.t3mh2eACP_c:1\n",
    "})"
   ]
  },
  {
   "cell_type": "code",
   "execution_count": 33,
   "metadata": {},
   "outputs": [],
   "source": [
    "#last step: convert to 3-methylhexanoyl-ACP which can start the next cycle again\n",
    "#add both with NADH and NADPH.\n",
    "#first add the 3-methylhexanoyl-ACP metabolite\n",
    "model.add_metabolites(Metabolite(id='3mhexACP_c', name = '3-methyl-hexanoyl-ACP(iso-C7:0ACP)', compartment = 'c', charge = -1, formula = 'C18H33N2O8PRS' ))"
   ]
  },
  {
   "cell_type": "code",
   "execution_count": 34,
   "metadata": {},
   "outputs": [],
   "source": [
    "model.metabolites.get_by_id('3mhexACP_c').annotation['sbo'] = 'SBO:0000247'"
   ]
  },
  {
   "cell_type": "code",
   "execution_count": 35,
   "metadata": {},
   "outputs": [],
   "source": [
    "#add reaction with NADH: E3MAR70x\n",
    "model.add_reaction(Reaction(id='E3MAR70x', name = '3-Methyl-Hexanoyl-[acp]:NAD+ trans-2-oxidoreductase'))"
   ]
  },
  {
   "cell_type": "code",
   "execution_count": 36,
   "metadata": {},
   "outputs": [],
   "source": [
    "model.reactions.E3MAR70x.annotation['sbo'] = 'SBO:0000176'"
   ]
  },
  {
   "cell_type": "code",
   "execution_count": 37,
   "metadata": {},
   "outputs": [],
   "source": [
    "#assume GPR is the same FA synthase: RTMO12345\n",
    "model.reactions.E3MAR70x.gene_reaction_rule = 'RTMO12345'"
   ]
  },
  {
   "cell_type": "code",
   "execution_count": 38,
   "metadata": {},
   "outputs": [],
   "source": [
    "model.reactions.E3MAR70x.add_metabolites({\n",
    "    model.metabolites.t3mh2eACP_c:-1,\n",
    "    model.metabolites.nadh_c:-1,\n",
    "    model.metabolites.nad_c:1,\n",
    "    model.metabolites.get_by_id('3mhexACP_c'):1,\n",
    "    model.metabolites.h_c:-1\n",
    "})"
   ]
  },
  {
   "cell_type": "code",
   "execution_count": 39,
   "metadata": {},
   "outputs": [],
   "source": [
    "#add reaction with NADH: E3MAR70y\n",
    "model.add_reaction(Reaction(id='E3MAR70y', name = '3-Methyl-Hexanoyl-[acp]:NADp+ trans-2-oxidoreductase'))"
   ]
  },
  {
   "cell_type": "code",
   "execution_count": 40,
   "metadata": {},
   "outputs": [],
   "source": [
    "model.reactions.E3MAR70y.annotation['sbo'] = 'SBO:0000176'"
   ]
  },
  {
   "cell_type": "code",
   "execution_count": 41,
   "metadata": {},
   "outputs": [],
   "source": [
    "#assume GPR is the same FA synthase: RTMO12345\n",
    "model.reactions.E3MAR70y.gene_reaction_rule = 'RTMO12345'"
   ]
  },
  {
   "cell_type": "code",
   "execution_count": 42,
   "metadata": {},
   "outputs": [],
   "source": [
    "model.reactions.E3MAR70y.add_metabolites({\n",
    "    model.metabolites.t3mh2eACP_c:-1,\n",
    "    model.metabolites.nadph_c:-1,\n",
    "    model.metabolites.nadp_c:1,\n",
    "    model.metabolites.get_by_id('3mhexACP_c'):1,\n",
    "    model.metabolites.h_c:-1\n",
    "})"
   ]
  },
  {
   "cell_type": "code",
   "execution_count": 43,
   "metadata": {},
   "outputs": [],
   "source": [
    "#save&commit\n",
    "cobra.io.write_sbml_model(model,'../model/g-thermo.xml')"
   ]
  },
  {
   "cell_type": "markdown",
   "metadata": {},
   "source": [
    "Finished to iso-C7:0. Now onto iso-C9:0. "
   ]
  },
  {
   "cell_type": "code",
   "execution_count": 44,
   "metadata": {},
   "outputs": [],
   "source": [
    "#add condenstation of 3mhexACP with malonyl ACP to 3-oxo-3methyl-octanoyl-ACP\n",
    "#add metabolite\n",
    "model.add_metabolites(Metabolite(id='3o3moACP_c', name = '3-oxo3methyloctanoyl-ACP', compartment = 'c', charge =-1, formula = 'C20H35N2O9PRS'))"
   ]
  },
  {
   "cell_type": "code",
   "execution_count": 45,
   "metadata": {},
   "outputs": [],
   "source": [
    "model.metabolites.get_by_id('3o3moACP_c').annotation['sbo'] = 'SBO:0000176'"
   ]
  },
  {
   "cell_type": "code",
   "execution_count": 46,
   "metadata": {},
   "outputs": [],
   "source": [
    "#add reaction\n",
    "model.add_reaction(Reaction(id='3O3MAS90', name = '3-oxo3methyloctanoyl-[acyl-carrier-protein] synthase (iso-C9:0)'))"
   ]
  },
  {
   "cell_type": "code",
   "execution_count": 47,
   "metadata": {},
   "outputs": [],
   "source": [
    "model.reactions.get_by_id('3O3MAS90').annotation['sbo'] = 'SBO:0000176'"
   ]
  },
  {
   "cell_type": "code",
   "execution_count": 48,
   "metadata": {},
   "outputs": [],
   "source": [
    "#assume GPR is the same FA synthase: RTMO12345\n",
    "model.reactions.get_by_id('3O3MAS90').gene_reaction_rule = 'RTMO12345'"
   ]
  },
  {
   "cell_type": "code",
   "execution_count": 49,
   "metadata": {},
   "outputs": [],
   "source": [
    "model.reactions.get_by_id('3O3MAS90').add_metabolites({\n",
    "    model.metabolites.malACP_c:-1,\n",
    "    model.metabolites.get_by_id('3mhexACP_c'):-1,\n",
    "    model.metabolites.ACP_c:1,\n",
    "    model.metabolites.co2_c:1,\n",
    "    model.metabolites.get_by_id('3o3moACP_c'):1,\n",
    "    model.metabolites.h_c:-1\n",
    "})"
   ]
  },
  {
   "cell_type": "code",
   "execution_count": 50,
   "metadata": {},
   "outputs": [],
   "source": [
    "#next add reaction with NADPH\n",
    "#first add 3-Hydroxy-3-methyloctanoyl-[acp] met\n",
    "model.add_metabolites(Metabolite(id='3h3moACP_c', name = '3-Hydroxy-3-methyloctanoyl-[acp]', compartment = 'c', charge = -1, formula = 'C20H37N2O9PRS'))"
   ]
  },
  {
   "cell_type": "code",
   "execution_count": 51,
   "metadata": {},
   "outputs": [],
   "source": [
    "model.metabolites.get_by_id('3h3moACP_c').annotation['sbo'] = 'SBO:0000247'"
   ]
  },
  {
   "cell_type": "code",
   "execution_count": 52,
   "metadata": {},
   "outputs": [],
   "source": [
    "#add reaction\n",
    "model.add_reaction(Reaction(id='3O3MAR90', name = ' 3-oxo-3-methyl-acyl-[acyl-carrier-protein] reductase (iso-C9:0)'))"
   ]
  },
  {
   "cell_type": "code",
   "execution_count": 53,
   "metadata": {},
   "outputs": [],
   "source": [
    "model.reactions.get_by_id('3O3MAR90').annotation['sbo'] = 'SBO:0000176'"
   ]
  },
  {
   "cell_type": "code",
   "execution_count": 54,
   "metadata": {},
   "outputs": [],
   "source": [
    "#assume GPR is the same FA synthase: RTMO12345\n",
    "model.reactions.get_by_id('3O3MAR90').gene_reaction_rule = 'RTMO12345'"
   ]
  },
  {
   "cell_type": "code",
   "execution_count": 55,
   "metadata": {},
   "outputs": [],
   "source": [
    "model.reactions.get_by_id('3O3MAR90').add_metabolites({\n",
    "    model.metabolites.get_by_id('3o3moACP_c'):-1,\n",
    "    model.metabolites.nadph_c:-1,\n",
    "    model.metabolites.nadp_c:1,\n",
    "    model.metabolites.get_by_id('3h3moACP_c'):1,\n",
    "    model.metabolites.h_c:-1\n",
    "})"
   ]
  },
  {
   "cell_type": "code",
   "execution_count": 56,
   "metadata": {},
   "outputs": [],
   "source": [
    "#next add the t3mh2eACP_c metabolite\n",
    "model.add_metabolites(Metabolite(id='t3mo2eACP_c', name = 'Trans-3-methyloct-2-enoyl-[acyl-carrier protein]', compartment = 'c', charge = -1, formula = 'C20H35N2O8PRS'))"
   ]
  },
  {
   "cell_type": "code",
   "execution_count": 57,
   "metadata": {},
   "outputs": [],
   "source": [
    "model.metabolites.get_by_id('t3mo2eACP_c').annotation['sbo'] = 'SBO:0000247'"
   ]
  },
  {
   "cell_type": "code",
   "execution_count": 58,
   "metadata": {},
   "outputs": [],
   "source": [
    "#add reaction\n",
    "model.add_reaction(Reaction(id='3H3MAD90', name = '3-hydroxy-3-methylacyl-[acyl-carrier-protein] dehydratase (iso-C9:0)'))"
   ]
  },
  {
   "cell_type": "code",
   "execution_count": 59,
   "metadata": {},
   "outputs": [],
   "source": [
    "model.reactions.get_by_id('3H3MAD90').annotation['sbo'] = 'SBO:0000176'"
   ]
  },
  {
   "cell_type": "code",
   "execution_count": 60,
   "metadata": {},
   "outputs": [],
   "source": [
    "#assume GPR is the same FA synthase: RTMO12345\n",
    "model.reactions.get_by_id('3H3MAD90').gene_reaction_rule = 'RTMO12345'"
   ]
  },
  {
   "cell_type": "code",
   "execution_count": 61,
   "metadata": {},
   "outputs": [],
   "source": [
    "model.reactions.get_by_id('3H3MAD90').add_metabolites({\n",
    "    model.metabolites.get_by_id('3h3moACP_c'):-1,\n",
    "    model.metabolites.h2o_c:1,\n",
    "    model.metabolites.t3mo2eACP_c:1\n",
    "})"
   ]
  },
  {
   "cell_type": "code",
   "execution_count": 62,
   "metadata": {},
   "outputs": [],
   "source": [
    "#last step: convert to 3-methyloctanoyl-ACP which can start the next cycle again\n",
    "#add both with NADH and NADPH.\n",
    "#first add the 3-methyloctanoyl-ACP metabolite\n",
    "model.add_metabolites(Metabolite(id='3moctACP_c', name = '3-methyl-octanoyl-ACP(iso-C9:0ACP)', compartment = 'c', charge = -1, formula = 'C20H37N2O8PRS' ))"
   ]
  },
  {
   "cell_type": "code",
   "execution_count": 63,
   "metadata": {},
   "outputs": [],
   "source": [
    "model.metabolites.get_by_id('3moctACP_c').annotation['sbo'] = 'SBO:0000247'"
   ]
  },
  {
   "cell_type": "code",
   "execution_count": 64,
   "metadata": {},
   "outputs": [],
   "source": [
    "#add reaction with NADH: EMAR90x\n",
    "model.add_reaction(Reaction(id='E3MAR90x', name = '3-Methyl-Octanoyl-[acp]:NAD+ trans-2-oxidoreductase'))"
   ]
  },
  {
   "cell_type": "code",
   "execution_count": 65,
   "metadata": {},
   "outputs": [],
   "source": [
    "model.reactions.E3MAR90x.annotation['sbo'] = 'SBO:0000176'"
   ]
  },
  {
   "cell_type": "code",
   "execution_count": 66,
   "metadata": {},
   "outputs": [],
   "source": [
    "#assume GPR is the same FA synthase: RTMO12345\n",
    "model.reactions.E3MAR90x.gene_reaction_rule = 'RTMO12345'"
   ]
  },
  {
   "cell_type": "code",
   "execution_count": 67,
   "metadata": {},
   "outputs": [],
   "source": [
    "model.reactions.E3MAR90x.add_metabolites({\n",
    "    model.metabolites.t3mo2eACP_c:-1,\n",
    "    model.metabolites.nadh_c:-1,\n",
    "    model.metabolites.nad_c:1,\n",
    "    model.metabolites.get_by_id('3moctACP_c'):1,\n",
    "    model.metabolites.h_c:-1\n",
    "})"
   ]
  },
  {
   "cell_type": "code",
   "execution_count": 68,
   "metadata": {},
   "outputs": [],
   "source": [
    "#add reaction with NADH: E3MAR90y\n",
    "model.add_reaction(Reaction(id='E3MAR90y', name = '3-Methyl-Octanoyl-[acp]:NADp+ trans-2-oxidoreductase'))"
   ]
  },
  {
   "cell_type": "code",
   "execution_count": 69,
   "metadata": {},
   "outputs": [],
   "source": [
    "model.reactions.E3MAR90y.annotation['sbo'] = 'SBO:0000176'"
   ]
  },
  {
   "cell_type": "code",
   "execution_count": 70,
   "metadata": {},
   "outputs": [],
   "source": [
    "#assume GPR is the same FA synthase: RTMO12345\n",
    "model.reactions.E3MAR90y.gene_reaction_rule = 'RTMO12345'"
   ]
  },
  {
   "cell_type": "code",
   "execution_count": 71,
   "metadata": {},
   "outputs": [],
   "source": [
    "model.reactions.E3MAR90y.add_metabolites({\n",
    "    model.metabolites.t3mo2eACP_c:-1,\n",
    "    model.metabolites.nadph_c:-1,\n",
    "    model.metabolites.nadp_c:1,\n",
    "    model.metabolites.get_by_id('3moctACP_c'):1,\n",
    "    model.metabolites.h_c:-1\n",
    "})"
   ]
  },
  {
   "cell_type": "code",
   "execution_count": 72,
   "metadata": {},
   "outputs": [],
   "source": [
    "#save&commit\n",
    "cobra.io.write_sbml_model(model,'../model/g-thermo.xml')"
   ]
  },
  {
   "cell_type": "markdown",
   "metadata": {},
   "source": [
    "Finished to iso-C9:0, now onto iso-C11:0."
   ]
  },
  {
   "cell_type": "code",
   "execution_count": 73,
   "metadata": {},
   "outputs": [],
   "source": [
    "#add condenstation of 3moctACP with malonyl ACP to 3-oxo-3-methyl-decanoyl-ACP\n",
    "#add metabolite\n",
    "model.add_metabolites(Metabolite(id='3o3mdACP_c', name = '3-oxo3methyldecanoyl-ACP', compartment = 'c', charge =-1, formula = 'C22H39N2O9PRS'))"
   ]
  },
  {
   "cell_type": "code",
   "execution_count": 74,
   "metadata": {},
   "outputs": [],
   "source": [
    "model.metabolites.get_by_id('3o3mdACP_c').annotation['sbo'] = 'SBO:0000176'"
   ]
  },
  {
   "cell_type": "code",
   "execution_count": 75,
   "metadata": {},
   "outputs": [],
   "source": [
    "#add reaction\n",
    "model.add_reaction(Reaction(id='3O3MAS110', name = '3-oxo3methyldecanoyl-[acyl-carrier-protein] synthase (iso-C11:0)'))"
   ]
  },
  {
   "cell_type": "code",
   "execution_count": 76,
   "metadata": {},
   "outputs": [],
   "source": [
    "model.reactions.get_by_id('3O3MAS110').annotation['sbo'] = 'SBO:0000176'"
   ]
  },
  {
   "cell_type": "code",
   "execution_count": 77,
   "metadata": {},
   "outputs": [],
   "source": [
    "#assume GPR is the same FA synthase: RTMO12345\n",
    "model.reactions.get_by_id('3O3MAS110').gene_reaction_rule = 'RTMO12345'"
   ]
  },
  {
   "cell_type": "code",
   "execution_count": 78,
   "metadata": {},
   "outputs": [],
   "source": [
    "model.reactions.get_by_id('3O3MAS110').add_metabolites({\n",
    "    model.metabolites.malACP_c:-1,\n",
    "    model.metabolites.get_by_id('3moctACP_c'):-1,\n",
    "    model.metabolites.ACP_c:1,\n",
    "    model.metabolites.co2_c:1,\n",
    "    model.metabolites.get_by_id('3o3mdACP_c'):1,\n",
    "    model.metabolites.h_c:-1\n",
    "})"
   ]
  },
  {
   "cell_type": "code",
   "execution_count": 79,
   "metadata": {},
   "outputs": [],
   "source": [
    "#next add reaction with NADPH\n",
    "#first add 3-Hydroxy-3-methyldecanoyl-[acp] met\n",
    "model.add_metabolites(Metabolite(id='3h3mdACP_c', name = '3-Hydroxy-3-methyldecanoyl-[acp]', compartment = 'c', charge = -1, formula = 'C22H41N2O9PRS'))"
   ]
  },
  {
   "cell_type": "code",
   "execution_count": 80,
   "metadata": {},
   "outputs": [],
   "source": [
    "model.metabolites.get_by_id('3h3mdACP_c').annotation['sbo'] = 'SBO:0000247'"
   ]
  },
  {
   "cell_type": "code",
   "execution_count": 81,
   "metadata": {},
   "outputs": [],
   "source": [
    "#add reaction\n",
    "model.add_reaction(Reaction(id='3O3MAR110', name = ' 3-oxo-3-methyl-acyl-[acyl-carrier-protein] reductase (iso-C11:0)'))"
   ]
  },
  {
   "cell_type": "code",
   "execution_count": 82,
   "metadata": {},
   "outputs": [],
   "source": [
    "model.reactions.get_by_id('3O3MAR110').annotation['sbo'] = 'SBO:0000176'"
   ]
  },
  {
   "cell_type": "code",
   "execution_count": 83,
   "metadata": {},
   "outputs": [],
   "source": [
    "#assume GPR is the same FA synthase: RTMO12345\n",
    "model.reactions.get_by_id('3O3MAR110').gene_reaction_rule = 'RTMO12345'"
   ]
  },
  {
   "cell_type": "code",
   "execution_count": 84,
   "metadata": {},
   "outputs": [],
   "source": [
    "model.reactions.get_by_id('3O3MAR110').add_metabolites({\n",
    "    model.metabolites.get_by_id('3o3mdACP_c'):-1,\n",
    "    model.metabolites.nadph_c:-1,\n",
    "    model.metabolites.nadp_c:1,\n",
    "    model.metabolites.get_by_id('3h3mdACP_c'):1,\n",
    "    model.metabolites.h_c:-1\n",
    "})"
   ]
  },
  {
   "cell_type": "code",
   "execution_count": 85,
   "metadata": {},
   "outputs": [],
   "source": [
    "#next add the t3md2eACP_c metabolite\n",
    "model.add_metabolites(Metabolite(id='t3md2eACP_c', name = 'Trans-3-methyldec-2-enoyl-[acyl-carrier protein]', compartment = 'c', charge = -1, formula = 'C22H39N2O8PRS'))"
   ]
  },
  {
   "cell_type": "code",
   "execution_count": 86,
   "metadata": {},
   "outputs": [],
   "source": [
    "model.metabolites.get_by_id('t3md2eACP_c').annotation['sbo'] = 'SBO:0000247'"
   ]
  },
  {
   "cell_type": "code",
   "execution_count": 87,
   "metadata": {},
   "outputs": [],
   "source": [
    "#add reaction\n",
    "model.add_reaction(Reaction(id='3H3MAD110', name = '3-hydroxy-3-methylacyl-[acyl-carrier-protein] dehydratase (iso-C11:0)'))"
   ]
  },
  {
   "cell_type": "code",
   "execution_count": 88,
   "metadata": {},
   "outputs": [],
   "source": [
    "model.reactions.get_by_id('3H3MAD110').annotation['sbo'] = 'SBO:0000176'"
   ]
  },
  {
   "cell_type": "code",
   "execution_count": 89,
   "metadata": {},
   "outputs": [],
   "source": [
    "#assume GPR is the same FA synthase: RTMO12345\n",
    "model.reactions.get_by_id('3H3MAD110').gene_reaction_rule = 'RTMO12345'"
   ]
  },
  {
   "cell_type": "code",
   "execution_count": 90,
   "metadata": {},
   "outputs": [],
   "source": [
    "model.reactions.get_by_id('3H3MAD110').add_metabolites({\n",
    "    model.metabolites.get_by_id('3h3mdACP_c'):-1,\n",
    "    model.metabolites.h2o_c:1,\n",
    "    model.metabolites.t3md2eACP_c:1\n",
    "})"
   ]
  },
  {
   "cell_type": "code",
   "execution_count": 91,
   "metadata": {},
   "outputs": [],
   "source": [
    "#last step: convert to 3-methyldecanoyl-ACP which can start the next cycle again\n",
    "#add both with NADH and NADPH.\n",
    "#first add the 3-methyldecanoyl-ACP metabolite\n",
    "model.add_metabolites(Metabolite(id='3mdecACP_c', name = '3-methyl-decanoyl-ACP(iso-C11:0ACP)', compartment = 'c', charge = -1, formula = 'C22H41N2O8PRS' ))"
   ]
  },
  {
   "cell_type": "code",
   "execution_count": 92,
   "metadata": {},
   "outputs": [],
   "source": [
    "model.metabolites.get_by_id('3mdecACP_c').annotation['sbo'] = 'SBO:0000247'"
   ]
  },
  {
   "cell_type": "code",
   "execution_count": 93,
   "metadata": {},
   "outputs": [],
   "source": [
    "#add reaction with NADH: E3MAR90x\n",
    "model.add_reaction(Reaction(id='E3MAR110x', name = '3-Methyl-Decanoyl-[acp]:NAD+ trans-2-oxidoreductase'))"
   ]
  },
  {
   "cell_type": "code",
   "execution_count": 94,
   "metadata": {},
   "outputs": [],
   "source": [
    "model.reactions.E3MAR110x.annotation['sbo'] = 'SBO:0000176'"
   ]
  },
  {
   "cell_type": "code",
   "execution_count": 95,
   "metadata": {},
   "outputs": [],
   "source": [
    "#assume GPR is the same FA synthase: RTMO12345\n",
    "model.reactions.E3MAR110x.gene_reaction_rule = 'RTMO12345'"
   ]
  },
  {
   "cell_type": "code",
   "execution_count": 96,
   "metadata": {},
   "outputs": [],
   "source": [
    "model.reactions.E3MAR110x.add_metabolites({\n",
    "    model.metabolites.t3md2eACP_c:-1,\n",
    "    model.metabolites.nadh_c:-1,\n",
    "    model.metabolites.nad_c:1,\n",
    "    model.metabolites.get_by_id('3mdecACP_c'):1,\n",
    "    model.metabolites.h_c:-1\n",
    "})"
   ]
  },
  {
   "cell_type": "code",
   "execution_count": 97,
   "metadata": {
    "scrolled": true
   },
   "outputs": [
    {
     "data": {
      "text/plain": [
       "{}"
      ]
     },
     "execution_count": 97,
     "metadata": {},
     "output_type": "execute_result"
    }
   ],
   "source": [
    "model.reactions.E3MAR110x.check_mass_balance()"
   ]
  },
  {
   "cell_type": "code",
   "execution_count": 98,
   "metadata": {},
   "outputs": [],
   "source": [
    "#add reaction with NADH: E3MAR110y\n",
    "model.add_reaction(Reaction(id='E3MAR110y', name = '3-Methyl-Decanoyl-[acp]:NADp+ trans-2-oxidoreductase'))"
   ]
  },
  {
   "cell_type": "code",
   "execution_count": 99,
   "metadata": {},
   "outputs": [],
   "source": [
    "model.reactions.E3MAR110y.annotation['sbo'] = 'SBO:0000176'"
   ]
  },
  {
   "cell_type": "code",
   "execution_count": 100,
   "metadata": {},
   "outputs": [],
   "source": [
    "#assume GPR is the same FA synthase: RTMO12345\n",
    "model.reactions.E3MAR110y.gene_reaction_rule = 'RTMO12345'"
   ]
  },
  {
   "cell_type": "code",
   "execution_count": 101,
   "metadata": {},
   "outputs": [],
   "source": [
    "model.reactions.E3MAR110y.add_metabolites({\n",
    "    model.metabolites.t3md2eACP_c:-1,\n",
    "    model.metabolites.nadph_c:-1,\n",
    "    model.metabolites.nadp_c:1,\n",
    "    model.metabolites.get_by_id('3mdecACP_c'):1,\n",
    "    model.metabolites.h_c:-1\n",
    "})"
   ]
  },
  {
   "cell_type": "code",
   "execution_count": 102,
   "metadata": {},
   "outputs": [],
   "source": [
    "#save&commit\n",
    "cobra.io.write_sbml_model(model,'../model/g-thermo.xml')"
   ]
  },
  {
   "cell_type": "markdown",
   "metadata": {},
   "source": [
    "Finished to isoC11:0. Now onto isoC13:0."
   ]
  },
  {
   "cell_type": "code",
   "execution_count": 103,
   "metadata": {},
   "outputs": [],
   "source": [
    "#add condenstation of 3mdecACP with malonyl ACP to 3-oxo-3-methyl-dodecanoyl-ACP\n",
    "#add metabolite\n",
    "model.add_metabolites(Metabolite(id='3o3mddACP_c', name = '3-oxo3methyldodecanoyl-ACP', compartment = 'c', charge =-1, formula = 'C24H43N2O9PRS'))"
   ]
  },
  {
   "cell_type": "code",
   "execution_count": 104,
   "metadata": {},
   "outputs": [],
   "source": [
    "model.metabolites.get_by_id('3o3mddACP_c').annotation['sbo'] = 'SBO:0000176'"
   ]
  },
  {
   "cell_type": "code",
   "execution_count": 105,
   "metadata": {},
   "outputs": [],
   "source": [
    "#add reaction\n",
    "model.add_reaction(Reaction(id='3O3MAS130', name = '3-oxo3methyldodecanoyl-[acyl-carrier-protein] synthase (iso-C13:0)'))"
   ]
  },
  {
   "cell_type": "code",
   "execution_count": 106,
   "metadata": {},
   "outputs": [],
   "source": [
    "model.reactions.get_by_id('3O3MAS130').annotation['sbo'] = 'SBO:0000176'"
   ]
  },
  {
   "cell_type": "code",
   "execution_count": 107,
   "metadata": {},
   "outputs": [],
   "source": [
    "#assume GPR is the same FA synthase: RTMO12345\n",
    "model.reactions.get_by_id('3O3MAS130').gene_reaction_rule = 'RTMO12345'"
   ]
  },
  {
   "cell_type": "code",
   "execution_count": 108,
   "metadata": {},
   "outputs": [],
   "source": [
    "model.reactions.get_by_id('3O3MAS130').add_metabolites({\n",
    "    model.metabolites.malACP_c:-1,\n",
    "    model.metabolites.get_by_id('3mdecACP_c'):-1,\n",
    "    model.metabolites.ACP_c:1,\n",
    "    model.metabolites.co2_c:1,\n",
    "    model.metabolites.get_by_id('3o3mddACP_c'):1,\n",
    "    model.metabolites.h_c:-1\n",
    "})"
   ]
  },
  {
   "cell_type": "code",
   "execution_count": 109,
   "metadata": {},
   "outputs": [],
   "source": [
    "#next add reaction with NADPH\n",
    "#first add 3-Hydroxy-3-methyldodecanoyl-[acp] met\n",
    "model.add_metabolites(Metabolite(id='3h3mddACP_c', name = '3-Hydroxy-3-methyldodecanoyl-[acp]', compartment = 'c', charge = -1, formula = 'C24H45N2O9PRS'))"
   ]
  },
  {
   "cell_type": "code",
   "execution_count": 110,
   "metadata": {},
   "outputs": [],
   "source": [
    "model.metabolites.get_by_id('3h3mddACP_c').annotation['sbo'] = 'SBO:0000247'"
   ]
  },
  {
   "cell_type": "code",
   "execution_count": 111,
   "metadata": {},
   "outputs": [],
   "source": [
    "#add reaction\n",
    "model.add_reaction(Reaction(id='3O3MAR130', name = ' 3-oxo-3-methyl-acyl-[acyl-carrier-protein] reductase (iso-C13:0)'))"
   ]
  },
  {
   "cell_type": "code",
   "execution_count": 112,
   "metadata": {},
   "outputs": [],
   "source": [
    "model.reactions.get_by_id('3O3MAR130').annotation['sbo'] = 'SBO:0000176'"
   ]
  },
  {
   "cell_type": "code",
   "execution_count": 113,
   "metadata": {},
   "outputs": [],
   "source": [
    "#assume GPR is the same FA synthase: RTMO12345\n",
    "model.reactions.get_by_id('3O3MAR130').gene_reaction_rule = 'RTMO12345'"
   ]
  },
  {
   "cell_type": "code",
   "execution_count": 114,
   "metadata": {},
   "outputs": [],
   "source": [
    "model.reactions.get_by_id('3O3MAR130').add_metabolites({\n",
    "    model.metabolites.get_by_id('3o3mddACP_c'):-1,\n",
    "    model.metabolites.nadph_c:-1,\n",
    "    model.metabolites.nadp_c:1,\n",
    "    model.metabolites.get_by_id('3h3mddACP_c'):1,\n",
    "    model.metabolites.h_c:-1\n",
    "})"
   ]
  },
  {
   "cell_type": "code",
   "execution_count": 115,
   "metadata": {},
   "outputs": [],
   "source": [
    "#next add the t3md2eACP_c metabolite\n",
    "model.add_metabolites(Metabolite(id='t3mdd2eACP_c', name = 'Trans-3-methyldodec-2-enoyl-[acyl-carrier protein]', compartment = 'c', charge = -1, formula = 'C24H43N2O8PRS'))"
   ]
  },
  {
   "cell_type": "code",
   "execution_count": 116,
   "metadata": {},
   "outputs": [],
   "source": [
    "model.metabolites.get_by_id('t3mdd2eACP_c').annotation['sbo'] = 'SBO:0000247'"
   ]
  },
  {
   "cell_type": "code",
   "execution_count": 117,
   "metadata": {},
   "outputs": [],
   "source": [
    "#add reaction\n",
    "model.add_reaction(Reaction(id='3H3MAD130', name = '3-hydroxy-3-methylacyl-[acyl-carrier-protein] dehydratase (iso-C13:0)'))"
   ]
  },
  {
   "cell_type": "code",
   "execution_count": 118,
   "metadata": {},
   "outputs": [],
   "source": [
    "model.reactions.get_by_id('3H3MAD130').annotation['sbo'] = 'SBO:0000176'"
   ]
  },
  {
   "cell_type": "code",
   "execution_count": 119,
   "metadata": {},
   "outputs": [],
   "source": [
    "#assume GPR is the same FA synthase: RTMO12345\n",
    "model.reactions.get_by_id('3H3MAD130').gene_reaction_rule = 'RTMO12345'"
   ]
  },
  {
   "cell_type": "code",
   "execution_count": 120,
   "metadata": {},
   "outputs": [],
   "source": [
    "model.reactions.get_by_id('3H3MAD130').add_metabolites({\n",
    "    model.metabolites.get_by_id('3h3mddACP_c'):-1,\n",
    "    model.metabolites.h2o_c:1,\n",
    "    model.metabolites.t3mdd2eACP_c:1\n",
    "})"
   ]
  },
  {
   "cell_type": "code",
   "execution_count": 121,
   "metadata": {},
   "outputs": [],
   "source": [
    "#last step: convert to 3-methyldodecanoyl-ACP which can start the next cycle again\n",
    "#add both with NADH and NADPH.\n",
    "#first add the 3-methyldodecanoyl-ACP metabolite\n",
    "model.add_metabolites(Metabolite(id='3mddecACP_c', name = '3-methyl-dodecanoyl-ACP(iso-C13:0ACP)', compartment = 'c', charge = -1, formula = 'C24H45N2O8PRS' ))"
   ]
  },
  {
   "cell_type": "code",
   "execution_count": 122,
   "metadata": {},
   "outputs": [],
   "source": [
    "model.metabolites.get_by_id('3mddecACP_c').annotation['sbo'] = 'SBO:0000247'"
   ]
  },
  {
   "cell_type": "code",
   "execution_count": 123,
   "metadata": {},
   "outputs": [],
   "source": [
    "#add reaction with NADH: E3MAR1300x\n",
    "model.add_reaction(Reaction(id='E3MAR130x', name = '3-Methyl-Dodecanoyl-[acp]:NAD+ trans-2-oxidoreductase'))"
   ]
  },
  {
   "cell_type": "code",
   "execution_count": 124,
   "metadata": {},
   "outputs": [],
   "source": [
    "model.reactions.E3MAR130x.annotation['sbo'] = 'SBO:0000176'"
   ]
  },
  {
   "cell_type": "code",
   "execution_count": 125,
   "metadata": {},
   "outputs": [],
   "source": [
    "#assume GPR is the same FA synthase: RTMO12345\n",
    "model.reactions.E3MAR130x.gene_reaction_rule = 'RTMO12345'"
   ]
  },
  {
   "cell_type": "code",
   "execution_count": 126,
   "metadata": {},
   "outputs": [],
   "source": [
    "model.reactions.E3MAR130x.add_metabolites({\n",
    "    model.metabolites.t3mdd2eACP_c:-1,\n",
    "    model.metabolites.nadh_c:-1,\n",
    "    model.metabolites.nad_c:1,\n",
    "    model.metabolites.get_by_id('3mddecACP_c'):1,\n",
    "    model.metabolites.h_c:-1\n",
    "})"
   ]
  },
  {
   "cell_type": "code",
   "execution_count": 127,
   "metadata": {},
   "outputs": [],
   "source": [
    "#add reaction with NADH: E3MAR130y\n",
    "model.add_reaction(Reaction(id='E3MAR130y', name = '3-Methyl-Dodecanoyl-[acp]:NADp+ trans-2-oxidoreductase'))"
   ]
  },
  {
   "cell_type": "code",
   "execution_count": 128,
   "metadata": {},
   "outputs": [],
   "source": [
    "model.reactions.E3MAR130y.annotation['sbo'] = 'SBO:0000176'"
   ]
  },
  {
   "cell_type": "code",
   "execution_count": 129,
   "metadata": {},
   "outputs": [],
   "source": [
    "#assume GPR is the same FA synthase: RTMO12345\n",
    "model.reactions.E3MAR130y.gene_reaction_rule = 'RTMO12345'"
   ]
  },
  {
   "cell_type": "code",
   "execution_count": 130,
   "metadata": {},
   "outputs": [],
   "source": [
    "model.reactions.E3MAR130y.add_metabolites({\n",
    "    model.metabolites.t3mdd2eACP_c:-1,\n",
    "    model.metabolites.nadph_c:-1,\n",
    "    model.metabolites.nadp_c:1,\n",
    "    model.metabolites.get_by_id('3mddecACP_c'):1,\n",
    "    model.metabolites.h_c:-1\n",
    "})"
   ]
  },
  {
   "cell_type": "code",
   "execution_count": 131,
   "metadata": {},
   "outputs": [],
   "source": [
    "#save&commit\n",
    "cobra.io.write_sbml_model(model,'../model/g-thermo.xml')"
   ]
  },
  {
   "cell_type": "markdown",
   "metadata": {},
   "source": [
    "Finished up to iso-C13:0. Now onto isoC15:0."
   ]
  },
  {
   "cell_type": "code",
   "execution_count": 132,
   "metadata": {},
   "outputs": [],
   "source": [
    "#add condenstation of 3mddecACP with malonyl ACP to 3-oxo-3-methyl-tetradecanoyl-ACP\n",
    "#add metabolite\n",
    "model.add_metabolites(Metabolite(id='3o3mtdACP_c', name = '3-oxo3methyltetradecanoyl-ACP', compartment = 'c', charge =-1, formula = 'C26H47N2O9PRS'))"
   ]
  },
  {
   "cell_type": "code",
   "execution_count": 133,
   "metadata": {},
   "outputs": [],
   "source": [
    "model.metabolites.get_by_id('3o3mtdACP_c').annotation['sbo'] = 'SBO:0000176'"
   ]
  },
  {
   "cell_type": "code",
   "execution_count": 134,
   "metadata": {},
   "outputs": [],
   "source": [
    "#add reaction\n",
    "model.add_reaction(Reaction(id='3O3MAS150', name = '3-oxo3methyltetradecanoyl-[acyl-carrier-protein] synthase (iso-C15:0)'))"
   ]
  },
  {
   "cell_type": "code",
   "execution_count": 135,
   "metadata": {},
   "outputs": [],
   "source": [
    "model.reactions.get_by_id('3O3MAS150').annotation['sbo'] = 'SBO:0000176'"
   ]
  },
  {
   "cell_type": "code",
   "execution_count": 136,
   "metadata": {},
   "outputs": [],
   "source": [
    "#assume GPR is the same FA synthase: RTMO12345\n",
    "model.reactions.get_by_id('3O3MAS150').gene_reaction_rule = 'RTMO12345'"
   ]
  },
  {
   "cell_type": "code",
   "execution_count": 137,
   "metadata": {},
   "outputs": [],
   "source": [
    "model.reactions.get_by_id('3O3MAS150').add_metabolites({\n",
    "    model.metabolites.malACP_c:-1,\n",
    "    model.metabolites.get_by_id('3mddecACP_c'):-1,\n",
    "    model.metabolites.ACP_c:1,\n",
    "    model.metabolites.co2_c:1,\n",
    "    model.metabolites.get_by_id('3o3mtdACP_c'):1,\n",
    "    model.metabolites.h_c:-1\n",
    "})"
   ]
  },
  {
   "cell_type": "code",
   "execution_count": 138,
   "metadata": {},
   "outputs": [],
   "source": [
    "#next add reaction with NADPH\n",
    "#first add 3-Hydroxy-3-methyltetradecanoyl-[acp] met\n",
    "model.add_metabolites(Metabolite(id='3h3mtdACP_c', name = '3-Hydroxy-3-methyltetradecanoyl-[acp]', compartment = 'c', charge = -1, formula = 'C26H49N2O9PRS'))"
   ]
  },
  {
   "cell_type": "code",
   "execution_count": 139,
   "metadata": {},
   "outputs": [],
   "source": [
    "model.metabolites.get_by_id('3h3mtdACP_c').annotation['sbo'] = 'SBO:0000247'"
   ]
  },
  {
   "cell_type": "code",
   "execution_count": 140,
   "metadata": {},
   "outputs": [],
   "source": [
    "#add reaction\n",
    "model.add_reaction(Reaction(id='3O3MAR150', name = ' 3-oxo-3-methyl-acyl-[acyl-carrier-protein] reductase (iso-C15:0)'))"
   ]
  },
  {
   "cell_type": "code",
   "execution_count": 141,
   "metadata": {},
   "outputs": [],
   "source": [
    "model.reactions.get_by_id('3O3MAR150').annotation['sbo'] = 'SBO:0000176'"
   ]
  },
  {
   "cell_type": "code",
   "execution_count": 142,
   "metadata": {},
   "outputs": [],
   "source": [
    "#assume GPR is the same FA synthase: RTMO12345\n",
    "model.reactions.get_by_id('3O3MAR150').gene_reaction_rule = 'RTMO12345'"
   ]
  },
  {
   "cell_type": "code",
   "execution_count": 143,
   "metadata": {},
   "outputs": [],
   "source": [
    "model.reactions.get_by_id('3O3MAR150').add_metabolites({\n",
    "    model.metabolites.get_by_id('3o3mtdACP_c'):-1,\n",
    "    model.metabolites.nadph_c:-1,\n",
    "    model.metabolites.nadp_c:1,\n",
    "    model.metabolites.get_by_id('3h3mtdACP_c'):1,\n",
    "    model.metabolites.h_c:-1\n",
    "})"
   ]
  },
  {
   "cell_type": "code",
   "execution_count": 144,
   "metadata": {},
   "outputs": [],
   "source": [
    "#next add the t3mtd2eACP_c metabolite\n",
    "model.add_metabolites(Metabolite(id='t3mtd2eACP_c', name = 'Trans-3-methyltetradec-2-enoyl-[acyl-carrier protein]', compartment = 'c', charge = -1, formula = 'C26H47N2O8PRS'))"
   ]
  },
  {
   "cell_type": "code",
   "execution_count": 145,
   "metadata": {},
   "outputs": [],
   "source": [
    "model.metabolites.get_by_id('t3mtd2eACP_c').annotation['sbo'] = 'SBO:0000247'"
   ]
  },
  {
   "cell_type": "code",
   "execution_count": 146,
   "metadata": {},
   "outputs": [],
   "source": [
    "#add reaction\n",
    "model.add_reaction(Reaction(id='3H3MAD150', name = '3-hydroxy-3-methylacyl-[acyl-carrier-protein] dehydratase (iso-C15:0)'))"
   ]
  },
  {
   "cell_type": "code",
   "execution_count": 147,
   "metadata": {},
   "outputs": [],
   "source": [
    "model.reactions.get_by_id('3H3MAD150').annotation['sbo'] = 'SBO:0000176'"
   ]
  },
  {
   "cell_type": "code",
   "execution_count": 148,
   "metadata": {},
   "outputs": [],
   "source": [
    "#assume GPR is the same FA synthase: RTMO12345\n",
    "model.reactions.get_by_id('3H3MAD150').gene_reaction_rule = 'RTMO12345'"
   ]
  },
  {
   "cell_type": "code",
   "execution_count": 149,
   "metadata": {},
   "outputs": [],
   "source": [
    "model.reactions.get_by_id('3H3MAD150').add_metabolites({\n",
    "    model.metabolites.get_by_id('3h3mtdACP_c'):-1,\n",
    "    model.metabolites.h2o_c:1,\n",
    "    model.metabolites.t3mtd2eACP_c:1\n",
    "})"
   ]
  },
  {
   "cell_type": "code",
   "execution_count": 150,
   "metadata": {},
   "outputs": [],
   "source": [
    "#last step: convert to 3-methyltetradecanoyl-ACP which can start the next cycle again\n",
    "#add both with NADH and NADPH.\n",
    "#first add the 3-methyltetradecanoyl-ACP metabolite\n",
    "model.add_metabolites(Metabolite(id='3mtdecACP_c', name = '3-methyl-tetradecanoyl-ACP(iso-C15:0ACP)', compartment = 'c', charge = -1, formula = 'C26H49N2O8PRS' ))"
   ]
  },
  {
   "cell_type": "code",
   "execution_count": 151,
   "metadata": {},
   "outputs": [],
   "source": [
    "model.metabolites.get_by_id('3mtdecACP_c').annotation['sbo'] = 'SBO:0000247'"
   ]
  },
  {
   "cell_type": "code",
   "execution_count": 152,
   "metadata": {},
   "outputs": [],
   "source": [
    "#add reaction with NADH: E3MAR1300x\n",
    "model.add_reaction(Reaction(id='E3MAR150x', name = '3-Methyl-Tetradecanoyl-[acp]:NAD+ trans-2-oxidoreductase'))"
   ]
  },
  {
   "cell_type": "code",
   "execution_count": 153,
   "metadata": {},
   "outputs": [],
   "source": [
    "model.reactions.E3MAR150x.annotation['sbo'] = 'SBO:0000176'"
   ]
  },
  {
   "cell_type": "code",
   "execution_count": 154,
   "metadata": {},
   "outputs": [],
   "source": [
    "#assume GPR is the same FA synthase: RTMO12345\n",
    "model.reactions.E3MAR150x.gene_reaction_rule = 'RTMO12345'"
   ]
  },
  {
   "cell_type": "code",
   "execution_count": 155,
   "metadata": {},
   "outputs": [],
   "source": [
    "model.reactions.E3MAR150x.add_metabolites({\n",
    "    model.metabolites.t3mtd2eACP_c:-1,\n",
    "    model.metabolites.nadh_c:-1,\n",
    "    model.metabolites.nad_c:1,\n",
    "    model.metabolites.get_by_id('3mtdecACP_c'):1,\n",
    "    model.metabolites.h_c:-1\n",
    "})"
   ]
  },
  {
   "cell_type": "code",
   "execution_count": 156,
   "metadata": {},
   "outputs": [],
   "source": [
    "#add reaction with NADH: E3MAR150y\n",
    "model.add_reaction(Reaction(id='E3MAR150y', name = '3-Methyl-Tetradecanoyl-[acp]:NADp+ trans-2-oxidoreductase'))"
   ]
  },
  {
   "cell_type": "code",
   "execution_count": 157,
   "metadata": {},
   "outputs": [],
   "source": [
    "model.reactions.E3MAR150y.annotation['sbo'] = 'SBO:0000176'"
   ]
  },
  {
   "cell_type": "code",
   "execution_count": 158,
   "metadata": {},
   "outputs": [],
   "source": [
    "#assume GPR is the same FA synthase: RTMO12345\n",
    "model.reactions.E3MAR150y.gene_reaction_rule = 'RTMO12345'"
   ]
  },
  {
   "cell_type": "code",
   "execution_count": 159,
   "metadata": {},
   "outputs": [],
   "source": [
    "model.reactions.E3MAR150y.add_metabolites({\n",
    "    model.metabolites.t3mtd2eACP_c:-1,\n",
    "    model.metabolites.nadph_c:-1,\n",
    "    model.metabolites.nadp_c:1,\n",
    "    model.metabolites.get_by_id('3mtdecACP_c'):1,\n",
    "    model.metabolites.h_c:-1\n",
    "})"
   ]
  },
  {
   "cell_type": "code",
   "execution_count": 160,
   "metadata": {},
   "outputs": [],
   "source": [
    "#save&commit\n",
    "cobra.io.write_sbml_model(model,'../model/g-thermo.xml')"
   ]
  },
  {
   "cell_type": "markdown",
   "metadata": {},
   "source": [
    "Finished to iso-C15:0. Now onto the last, iso-C17:0."
   ]
  },
  {
   "cell_type": "code",
   "execution_count": 161,
   "metadata": {},
   "outputs": [],
   "source": [
    "#add condenstation of 3mtdecACP with malonyl ACP to 3-oxo-3-methyl-hexadecanoyl-ACP\n",
    "#add metabolite\n",
    "model.add_metabolites(Metabolite(id='3o3mhdACP_c', name = '3-oxo3methylhexadecanoyl-ACP', compartment = 'c', charge =-1, formula = 'C28H51N2O9PRS'))"
   ]
  },
  {
   "cell_type": "code",
   "execution_count": 162,
   "metadata": {},
   "outputs": [],
   "source": [
    "model.metabolites.get_by_id('3o3mhdACP_c').annotation['sbo'] = 'SBO:0000176'"
   ]
  },
  {
   "cell_type": "code",
   "execution_count": 163,
   "metadata": {},
   "outputs": [],
   "source": [
    "#add reaction\n",
    "model.add_reaction(Reaction(id='3O3MAS170', name = '3-oxo3methylhexadecanoyl-[acyl-carrier-protein] synthase (iso-C17:0)'))"
   ]
  },
  {
   "cell_type": "code",
   "execution_count": 164,
   "metadata": {},
   "outputs": [],
   "source": [
    "model.reactions.get_by_id('3O3MAS170').annotation['sbo'] = 'SBO:0000176'"
   ]
  },
  {
   "cell_type": "code",
   "execution_count": 165,
   "metadata": {},
   "outputs": [],
   "source": [
    "#assume GPR is the same FA synthase: RTMO12345\n",
    "model.reactions.get_by_id('3O3MAS170').gene_reaction_rule = 'RTMO12345'"
   ]
  },
  {
   "cell_type": "code",
   "execution_count": 166,
   "metadata": {},
   "outputs": [],
   "source": [
    "model.reactions.get_by_id('3O3MAS170').add_metabolites({\n",
    "    model.metabolites.malACP_c:-1,\n",
    "    model.metabolites.get_by_id('3mtdecACP_c'):-1,\n",
    "    model.metabolites.ACP_c:1,\n",
    "    model.metabolites.co2_c:1,\n",
    "    model.metabolites.get_by_id('3o3mhdACP_c'):1,\n",
    "    model.metabolites.h_c:-1\n",
    "})"
   ]
  },
  {
   "cell_type": "code",
   "execution_count": 167,
   "metadata": {},
   "outputs": [],
   "source": [
    "#next add reaction with NADPH\n",
    "#first add 3-Hydroxy-3-methylhexadecanoyl-[acp] met\n",
    "model.add_metabolites(Metabolite(id='3h3mhdACP_c', name = '3-Hydroxy-3-methylhexadecanoyl-[acp]', compartment = 'c', charge = -1, formula = 'C28H53N2O9PRS'))"
   ]
  },
  {
   "cell_type": "code",
   "execution_count": 168,
   "metadata": {},
   "outputs": [],
   "source": [
    "model.metabolites.get_by_id('3h3mhdACP_c').annotation['sbo'] = 'SBO:0000247'"
   ]
  },
  {
   "cell_type": "code",
   "execution_count": 169,
   "metadata": {},
   "outputs": [],
   "source": [
    "#add reaction\n",
    "model.add_reaction(Reaction(id='3O3MAR170', name = ' 3-oxo-3-methyl-acyl-[acyl-carrier-protein] reductase (iso-C17:0)'))"
   ]
  },
  {
   "cell_type": "code",
   "execution_count": 170,
   "metadata": {},
   "outputs": [],
   "source": [
    "model.reactions.get_by_id('3O3MAR170').annotation['sbo'] = 'SBO:0000176'"
   ]
  },
  {
   "cell_type": "code",
   "execution_count": 171,
   "metadata": {},
   "outputs": [],
   "source": [
    "#assume GPR is the same FA synthase: RTMO12345\n",
    "model.reactions.get_by_id('3O3MAR170').gene_reaction_rule = 'RTMO12345'"
   ]
  },
  {
   "cell_type": "code",
   "execution_count": 172,
   "metadata": {},
   "outputs": [],
   "source": [
    "model.reactions.get_by_id('3O3MAR170').add_metabolites({\n",
    "    model.metabolites.get_by_id('3o3mhdACP_c'):-1,\n",
    "    model.metabolites.nadph_c:-1,\n",
    "    model.metabolites.nadp_c:1,\n",
    "    model.metabolites.get_by_id('3h3mhdACP_c'):1,\n",
    "    model.metabolites.h_c:-1\n",
    "})"
   ]
  },
  {
   "cell_type": "code",
   "execution_count": 173,
   "metadata": {},
   "outputs": [],
   "source": [
    "#next add the t2mhd2eACP_c metabolite\n",
    "model.add_metabolites(Metabolite(id='t3mhd2eACP_c', name = 'Trans-3-methylhexadec-2-enoyl-[acyl-carrier protein]', compartment = 'c', charge = -1, formula = 'C28H51N2O8PRS'))"
   ]
  },
  {
   "cell_type": "code",
   "execution_count": 174,
   "metadata": {},
   "outputs": [],
   "source": [
    "model.metabolites.get_by_id('t3mhd2eACP_c').annotation['sbo'] = 'SBO:0000247'"
   ]
  },
  {
   "cell_type": "code",
   "execution_count": 175,
   "metadata": {},
   "outputs": [],
   "source": [
    "#add reaction\n",
    "model.add_reaction(Reaction(id='3H3MAD170', name = '3-hydroxy-3-methylacyl-[acyl-carrier-protein] dehydratase (iso-C17:0)'))"
   ]
  },
  {
   "cell_type": "code",
   "execution_count": 176,
   "metadata": {},
   "outputs": [],
   "source": [
    "model.reactions.get_by_id('3H3MAD170').annotation['sbo'] = 'SBO:0000176'"
   ]
  },
  {
   "cell_type": "code",
   "execution_count": 177,
   "metadata": {},
   "outputs": [],
   "source": [
    "#assume GPR is the same FA synthase: RTMO12345\n",
    "model.reactions.get_by_id('3H3MAD170').gene_reaction_rule = 'RTMO12345'"
   ]
  },
  {
   "cell_type": "code",
   "execution_count": 178,
   "metadata": {},
   "outputs": [],
   "source": [
    "model.reactions.get_by_id('3H3MAD170').add_metabolites({\n",
    "    model.metabolites.get_by_id('3h3mhdACP_c'):-1,\n",
    "    model.metabolites.h2o_c:1,\n",
    "    model.metabolites.t3mhd2eACP_c:1\n",
    "})"
   ]
  },
  {
   "cell_type": "code",
   "execution_count": 179,
   "metadata": {},
   "outputs": [],
   "source": [
    "#last step: convert to 3-methylhexadecanoyl-ACP \n",
    "#add both with NADH and NADPH.\n",
    "#first add the 3-methylhexadecanoyl-ACP metabolite\n",
    "model.add_metabolites(Metabolite(id='3mhdecACP_c', name = '3-methyl-hexadecanoyl-ACP(iso-C17:0ACP)', compartment = 'c', charge = -1, formula = 'C28H53N2O8PRS' ))"
   ]
  },
  {
   "cell_type": "code",
   "execution_count": 180,
   "metadata": {},
   "outputs": [],
   "source": [
    "model.metabolites.get_by_id('3mhdecACP_c').annotation['sbo'] = 'SBO:0000247'"
   ]
  },
  {
   "cell_type": "code",
   "execution_count": 181,
   "metadata": {},
   "outputs": [],
   "source": [
    "#add reaction with NADH: E3MAR170x\n",
    "model.add_reaction(Reaction(id='E3MAR170x', name = '3-Methyl-Hexadecanoyl-[acp]:NAD+ trans-2-oxidoreductase'))"
   ]
  },
  {
   "cell_type": "code",
   "execution_count": 182,
   "metadata": {},
   "outputs": [],
   "source": [
    "model.reactions.E3MAR170x.annotation['sbo'] = 'SBO:0000176'"
   ]
  },
  {
   "cell_type": "code",
   "execution_count": 183,
   "metadata": {},
   "outputs": [],
   "source": [
    "#assume GPR is the same FA synthase: RTMO12345\n",
    "model.reactions.E3MAR170x.gene_reaction_rule = 'RTMO12345'"
   ]
  },
  {
   "cell_type": "code",
   "execution_count": 184,
   "metadata": {},
   "outputs": [],
   "source": [
    "model.reactions.E3MAR170x.add_metabolites({\n",
    "    model.metabolites.t3mhd2eACP_c:-1,\n",
    "    model.metabolites.nadh_c:-1,\n",
    "    model.metabolites.nad_c:1,\n",
    "    model.metabolites.get_by_id('3mhdecACP_c'):1,\n",
    "    model.metabolites.h_c:-1\n",
    "})"
   ]
  },
  {
   "cell_type": "code",
   "execution_count": 185,
   "metadata": {},
   "outputs": [],
   "source": [
    "#add reaction with NADH: E3MAR170y\n",
    "model.add_reaction(Reaction(id='E3MAR170y', name = '3-Methyl-Hexadecanoyl-[acp]:NADp+ trans-2-oxidoreductase'))"
   ]
  },
  {
   "cell_type": "code",
   "execution_count": 186,
   "metadata": {},
   "outputs": [],
   "source": [
    "model.reactions.E3MAR170y.annotation['sbo'] = 'SBO:0000176'"
   ]
  },
  {
   "cell_type": "code",
   "execution_count": 187,
   "metadata": {},
   "outputs": [],
   "source": [
    "#assume GPR is the same FA synthase: RTMO12345\n",
    "model.reactions.E3MAR170y.gene_reaction_rule = 'RTMO12345'"
   ]
  },
  {
   "cell_type": "code",
   "execution_count": 188,
   "metadata": {},
   "outputs": [],
   "source": [
    "model.reactions.E3MAR170y.add_metabolites({\n",
    "    model.metabolites.t3mhd2eACP_c:-1,\n",
    "    model.metabolites.nadph_c:-1,\n",
    "    model.metabolites.nadp_c:1,\n",
    "    model.metabolites.get_by_id('3mhdecACP_c'):1,\n",
    "    model.metabolites.h_c:-1\n",
    "})"
   ]
  },
  {
   "cell_type": "code",
   "execution_count": 189,
   "metadata": {},
   "outputs": [],
   "source": [
    "#save&commit\n",
    "cobra.io.write_sbml_model(model,'../model/g-thermo.xml')"
   ]
  },
  {
   "cell_type": "markdown",
   "metadata": {},
   "source": [
    "Finished until iso-C17:0.\n",
    "Just check the model prediction is still oke."
   ]
  },
  {
   "cell_type": "code",
   "execution_count": 190,
   "metadata": {},
   "outputs": [
    {
     "data": {
      "text/html": [
       "<strong><em>Optimal</em> solution with objective value 0.757</strong><br><div>\n",
       "<style scoped>\n",
       "    .dataframe tbody tr th:only-of-type {\n",
       "        vertical-align: middle;\n",
       "    }\n",
       "\n",
       "    .dataframe tbody tr th {\n",
       "        vertical-align: top;\n",
       "    }\n",
       "\n",
       "    .dataframe thead th {\n",
       "        text-align: right;\n",
       "    }\n",
       "</style>\n",
       "<table border=\"1\" class=\"dataframe\">\n",
       "  <thead>\n",
       "    <tr style=\"text-align: right;\">\n",
       "      <th></th>\n",
       "      <th>fluxes</th>\n",
       "      <th>reduced_costs</th>\n",
       "    </tr>\n",
       "  </thead>\n",
       "  <tbody>\n",
       "    <tr>\n",
       "      <th>IDPh</th>\n",
       "      <td>1.770060</td>\n",
       "      <td>0.000000</td>\n",
       "    </tr>\n",
       "    <tr>\n",
       "      <th>CAT</th>\n",
       "      <td>0.019791</td>\n",
       "      <td>0.000000</td>\n",
       "    </tr>\n",
       "    <tr>\n",
       "      <th>PDHam1hi</th>\n",
       "      <td>0.000000</td>\n",
       "      <td>0.000000</td>\n",
       "    </tr>\n",
       "    <tr>\n",
       "      <th>HYDA</th>\n",
       "      <td>0.000000</td>\n",
       "      <td>-0.000000</td>\n",
       "    </tr>\n",
       "    <tr>\n",
       "      <th>MALHYDRO</th>\n",
       "      <td>0.000000</td>\n",
       "      <td>0.000000</td>\n",
       "    </tr>\n",
       "    <tr>\n",
       "      <th>...</th>\n",
       "      <td>...</td>\n",
       "      <td>...</td>\n",
       "    </tr>\n",
       "    <tr>\n",
       "      <th>3O3MAS170</th>\n",
       "      <td>0.000000</td>\n",
       "      <td>-0.057007</td>\n",
       "    </tr>\n",
       "    <tr>\n",
       "      <th>3O3MAR170</th>\n",
       "      <td>0.000000</td>\n",
       "      <td>-0.005701</td>\n",
       "    </tr>\n",
       "    <tr>\n",
       "      <th>3H3MAD170</th>\n",
       "      <td>0.000000</td>\n",
       "      <td>0.000000</td>\n",
       "    </tr>\n",
       "    <tr>\n",
       "      <th>E3MAR170x</th>\n",
       "      <td>0.000000</td>\n",
       "      <td>-0.013682</td>\n",
       "    </tr>\n",
       "    <tr>\n",
       "      <th>E3MAR170y</th>\n",
       "      <td>0.000000</td>\n",
       "      <td>-0.005701</td>\n",
       "    </tr>\n",
       "  </tbody>\n",
       "</table>\n",
       "<p>1094 rows × 2 columns</p>\n",
       "</div>"
      ],
      "text/plain": [
       "<Solution 0.757 at 0x16cc9b36848>"
      ]
     },
     "execution_count": 190,
     "metadata": {},
     "output_type": "execute_result"
    }
   ],
   "source": [
    "model.optimize()"
   ]
  },
  {
   "cell_type": "markdown",
   "metadata": {},
   "source": [
    "## Iso-Branched, odd chained fatty acids¶\n",
    "In this category, we need to ensure the production of iso-C14:0 and iso-C16:0 fatty acids (i.e. the main chain is odd length). In general, the odd chain iso fatty acids are made from valine that is converted into a primer molecule that can then go through the cycles of elongation until the final chain length is achieved.\n",
    "\n",
    "In the case here, the valine is converted into isobutryl-coa, which gets bound to an ACP and can start cycles of elongation. the ibcoa_c metabolite is already present. I will check it is properly made from valine, and than make its conversion into ibACP_c, before the elongation cycles start. Seems the conversion from Valine is possible and correct, and so I will just add the conversion of ibcoa_c into ibACP_c. And from there start the elongation cycles."
   ]
  },
  {
   "cell_type": "code",
   "execution_count": 189,
   "metadata": {},
   "outputs": [],
   "source": [
    "#add ibACP_c meta,bolite\n",
    "model.add_metabolites(Metabolite(id='ibACP_c', name = '2-Methylpropanoyl-ACP', compartment= 'c', formula = 'C15H27N2O8PRS', charge = -1))"
   ]
  },
  {
   "cell_type": "code",
   "execution_count": 190,
   "metadata": {},
   "outputs": [],
   "source": [
    "model.metabolites.ibACP_c.annotation['sbo'] = 'SBO:0000176'"
   ]
  },
  {
   "cell_type": "code",
   "execution_count": 191,
   "metadata": {},
   "outputs": [],
   "source": [
    "#then add conversion of ibcoa into ibACP"
   ]
  },
  {
   "cell_type": "code",
   "execution_count": 192,
   "metadata": {},
   "outputs": [
    {
     "name": "stderr",
     "output_type": "stream",
     "text": [
      "Ignoring reaction 'IBCOATA' since it already exists.\n"
     ]
    }
   ],
   "source": [
    "model.add_reaction(Reaction(id='IBCOATA', name = 'isobutyryl-CoA:[acyl-carrier-protein] transferase'))"
   ]
  },
  {
   "cell_type": "code",
   "execution_count": 193,
   "metadata": {},
   "outputs": [],
   "source": [
    "model.reactions.IBCOATA.annotation['sbo'] = 'SBO:0000176'"
   ]
  },
  {
   "cell_type": "code",
   "execution_count": 194,
   "metadata": {},
   "outputs": [],
   "source": [
    "model.reactions.IBCOATA.add_metabolites({\n",
    "    model.metabolites.ACP_c:-1,\n",
    "    model.metabolites.ibcoa_c:-1,\n",
    "    model.metabolites.coa_c:1,\n",
    "    model.metabolites.ibACP_c:1,\n",
    "    model.metabolites.h_c:1\n",
    "})"
   ]
  },
  {
   "cell_type": "code",
   "execution_count": 195,
   "metadata": {},
   "outputs": [],
   "source": [
    "model.reactions.IBCOATA.bounds = (-1000,1000)"
   ]
  },
  {
   "cell_type": "code",
   "execution_count": 196,
   "metadata": {},
   "outputs": [],
   "source": [
    "cobra.io.write_sbml_model(model,'../model/g-thermo.xml')"
   ]
  },
  {
   "cell_type": "markdown",
   "metadata": {},
   "source": [
    "Finished the primer molecule, now it can condense with Malonyl-CoA to give iso-C6:0. "
   ]
  },
  {
   "cell_type": "code",
   "execution_count": 197,
   "metadata": {},
   "outputs": [],
   "source": [
    "#add condenstation of 2-methyl-prop-ACP with malonyl ACP to 3-oxo-2-methyl pentanoyl-ACP\n",
    "#add metabolite\n",
    "model.add_metabolites(Metabolite(id='3o2mpentACP_c', name = '3-oxo-2-methylpentanoyl-ACP', compartment = 'c', charge =-1, formula = 'C17H29O9N2PRS'))"
   ]
  },
  {
   "cell_type": "code",
   "execution_count": 198,
   "metadata": {},
   "outputs": [],
   "source": [
    "model.metabolites.get_by_id('3o2mpentACP_c').annotation['sbo'] = 'SBO:0000176'"
   ]
  },
  {
   "cell_type": "code",
   "execution_count": 199,
   "metadata": {},
   "outputs": [],
   "source": [
    "#add reaction\n",
    "model.add_reaction(Reaction(id='3OMAS60', name = '3-oxo-2-Methylpentanoyl-[acyl-carrier-protein] synthase (iso-C6:0)'))"
   ]
  },
  {
   "cell_type": "code",
   "execution_count": 200,
   "metadata": {},
   "outputs": [],
   "source": [
    "model.reactions.get_by_id('3OMAS60').annotation['sbo'] = 'SBO:0000176'"
   ]
  },
  {
   "cell_type": "code",
   "execution_count": 201,
   "metadata": {},
   "outputs": [],
   "source": [
    "#assume GPR is the same FA synthase: RTMO12345\n",
    "model.reactions.get_by_id('3OMAS60').gene_reaction_rule = 'RTMO12345'"
   ]
  },
  {
   "cell_type": "code",
   "execution_count": 202,
   "metadata": {},
   "outputs": [],
   "source": [
    "model.reactions.get_by_id('3OMAS60').add_metabolites({\n",
    "    model.metabolites.malACP_c:-1,\n",
    "    model.metabolites.ibACP_c:-1,\n",
    "    model.metabolites.ACP_c:1,\n",
    "    model.metabolites.co2_c:1,\n",
    "    model.metabolites.get_by_id('3o2mpentACP_c'):1,\n",
    "    model.metabolites.h_c:-1\n",
    "})"
   ]
  },
  {
   "cell_type": "code",
   "execution_count": 203,
   "metadata": {},
   "outputs": [],
   "source": [
    "#next add reaction with NADPH\n",
    "#first add 3-Hydroxy-2-methylpentanoyl-[acp] met\n",
    "model.add_metabolites(Metabolite(id='3h2mpentACP_c', name = '3-Hydroxy-2-methylpentanoyl-[acp]', compartment = 'c', charge = -1, formula = 'C17H31O9N2PRS'))"
   ]
  },
  {
   "cell_type": "code",
   "execution_count": 204,
   "metadata": {},
   "outputs": [],
   "source": [
    "model.metabolites.get_by_id('3h2mpentACP_c').annotation['sbo'] = 'SBO:0000247'"
   ]
  },
  {
   "cell_type": "code",
   "execution_count": 205,
   "metadata": {},
   "outputs": [],
   "source": [
    "#add reaction\n",
    "model.add_reaction(Reaction(id='3OMAR60', name = ' 3-oxo-2-methylacyl-[acyl-carrier-protein] reductase (iso-C6:0)'))"
   ]
  },
  {
   "cell_type": "code",
   "execution_count": 206,
   "metadata": {},
   "outputs": [],
   "source": [
    "model.reactions.get_by_id('3OMAR60').annotation['sbo'] = 'SBO:0000176'"
   ]
  },
  {
   "cell_type": "code",
   "execution_count": 207,
   "metadata": {},
   "outputs": [],
   "source": [
    "#assume GPR is the same FAsynthase: RTMO12345\n",
    "model.reactions.get_by_id('3OMAR60').gene_reaction_rule = 'RTMO12345'"
   ]
  },
  {
   "cell_type": "code",
   "execution_count": 208,
   "metadata": {},
   "outputs": [],
   "source": [
    "model.reactions.get_by_id('3OMAR60').add_metabolites({\n",
    "    model.metabolites.get_by_id('3o2mpentACP_c'):-1,\n",
    "    model.metabolites.nadph_c:-1,\n",
    "    model.metabolites.nadp_c:1,\n",
    "    model.metabolites.get_by_id('3h2mpentACP_c'):1,\n",
    "    model.metabolites.h_c:-1\n",
    "})"
   ]
  },
  {
   "cell_type": "code",
   "execution_count": 209,
   "metadata": {},
   "outputs": [],
   "source": [
    "#next add the tpent2eACP_c metabolite\n",
    "model.add_metabolites(Metabolite(id='t2mpent2eACP_c', name = 'Trans-2-methyl-Pent-2-enoyl-[acyl-carrier protein]', compartment = 'c', charge = -1, formula = 'C17H29O8N2PRS'))"
   ]
  },
  {
   "cell_type": "code",
   "execution_count": 210,
   "metadata": {},
   "outputs": [],
   "source": [
    "model.metabolites.get_by_id('t2mpent2eACP_c').annotation['sbo'] = 'SBO:0000247'"
   ]
  },
  {
   "cell_type": "code",
   "execution_count": 211,
   "metadata": {},
   "outputs": [],
   "source": [
    "#add reaction\n",
    "model.add_reaction(Reaction(id='3HMAD60', name = '3-hydroxy-2-methyl-acyl-[acyl-carrier-protein] dehydratase (iso-C6:0)'))"
   ]
  },
  {
   "cell_type": "code",
   "execution_count": 212,
   "metadata": {},
   "outputs": [],
   "source": [
    "model.reactions.get_by_id('3HMAD60').annotation['sbo'] = 'SBO:0000176'"
   ]
  },
  {
   "cell_type": "code",
   "execution_count": 213,
   "metadata": {},
   "outputs": [],
   "source": [
    "#assume GPR is the same FA synthase: RTMO12345\n",
    "model.reactions.get_by_id('3HMAD60').gene_reaction_rule = 'RTMO12345'"
   ]
  },
  {
   "cell_type": "code",
   "execution_count": 214,
   "metadata": {},
   "outputs": [],
   "source": [
    "model.reactions.get_by_id('3HMAD60').add_metabolites({\n",
    "    model.metabolites.get_by_id('3h2mpentACP_c'):-1,\n",
    "    model.metabolites.h2o_c:1,\n",
    "    model.metabolites.t2mpent2eACP_c:1\n",
    "})"
   ]
  },
  {
   "cell_type": "code",
   "execution_count": 215,
   "metadata": {},
   "outputs": [],
   "source": [
    "#last step: convert to 2-methyl-pentanoyl-ACP which can start the next cycle again\n",
    "#add both with NADH and NADPH.\n",
    "#first add the 2-methyl-pentanoyl-ACP metabolite\n",
    "model.add_metabolites(Metabolite(id='2mpentACP_c', name = '2-methyl-pentanoyl-ACP(iso-C65:0ACP)', compartment = 'c', charge = -1, formula = 'C17H31O8N2PRS' ))"
   ]
  },
  {
   "cell_type": "code",
   "execution_count": 216,
   "metadata": {},
   "outputs": [],
   "source": [
    "model.metabolites.get_by_id('2mpentACP_c').annotation['sbo'] = 'SBO:0000247'"
   ]
  },
  {
   "cell_type": "code",
   "execution_count": 217,
   "metadata": {},
   "outputs": [],
   "source": [
    "#add reaction with NADH: EMAR60x\n",
    "model.add_reaction(Reaction(id='EMAR60x', name = '2-methyl-pentanoyl-[acp]:NAD+ trans-2-oxidoreductase'))"
   ]
  },
  {
   "cell_type": "code",
   "execution_count": 218,
   "metadata": {},
   "outputs": [],
   "source": [
    "model.reactions.EMAR60x.annotation['sbo'] = 'SBO:0000176'"
   ]
  },
  {
   "cell_type": "code",
   "execution_count": 219,
   "metadata": {},
   "outputs": [],
   "source": [
    "#assume GPR is the same FA synthase: RTMO12345\n",
    "model.reactions.EMAR60x.gene_reaction_rule = 'RTMO12345'"
   ]
  },
  {
   "cell_type": "code",
   "execution_count": 220,
   "metadata": {},
   "outputs": [],
   "source": [
    "model.reactions.EMAR60x.add_metabolites({\n",
    "    model.metabolites.t2mpent2eACP_c:-1,\n",
    "    model.metabolites.nadh_c:-1,\n",
    "    model.metabolites.nad_c:1,\n",
    "    model.metabolites.get_by_id('2mpentACP_c'):1,\n",
    "    model.metabolites.h_c:-1\n",
    "})"
   ]
  },
  {
   "cell_type": "code",
   "execution_count": 221,
   "metadata": {},
   "outputs": [],
   "source": [
    "#add reaction with NADH: EMAR60Y\n",
    "model.add_reaction(Reaction(id='EMAR60y', name = '2-methyl-pentanoyl-[acp]:NADp+ trans-2-oxidoreductase'))"
   ]
  },
  {
   "cell_type": "code",
   "execution_count": 222,
   "metadata": {},
   "outputs": [],
   "source": [
    "model.reactions.EMAR60y.annotation['sbo'] = 'SBO:0000176'"
   ]
  },
  {
   "cell_type": "code",
   "execution_count": 223,
   "metadata": {},
   "outputs": [],
   "source": [
    "#assume GPR is the same FAsynthase: RTMO12345\n",
    "model.reactions.EMAR60y.gene_reaction_rule = 'RTMO12345'"
   ]
  },
  {
   "cell_type": "code",
   "execution_count": 224,
   "metadata": {},
   "outputs": [],
   "source": [
    "model.reactions.EMAR60y.add_metabolites({\n",
    "    model.metabolites.t2mpent2eACP_c:-1,\n",
    "    model.metabolites.nadph_c:-1,\n",
    "    model.metabolites.nadp_c:1,\n",
    "    model.metabolites.get_by_id('2mpentACP_c'):1,\n",
    "    model.metabolites.h_c:-1\n",
    "})"
   ]
  },
  {
   "cell_type": "code",
   "execution_count": 225,
   "metadata": {},
   "outputs": [],
   "source": [
    "#save&commit\n",
    "cobra.io.write_sbml_model(model,'../model/g-thermo.xml')"
   ]
  },
  {
   "cell_type": "markdown",
   "metadata": {},
   "source": [
    "finished to iso-C:60. now onto iso-c8:0."
   ]
  },
  {
   "cell_type": "code",
   "execution_count": 226,
   "metadata": {},
   "outputs": [],
   "source": [
    "model = cobra.io.read_sbml_model('../model/g-thermo.xml')"
   ]
  },
  {
   "cell_type": "code",
   "execution_count": 227,
   "metadata": {},
   "outputs": [],
   "source": [
    "#add condenstation of 2mpent-ACP with malonyl ACP to 3-oxo-2-methyl-heptanoyl-ACP\n",
    "#add metabolite\n",
    "model.add_metabolites(Metabolite(id='3o2mheptACP_c', name = '3-oxo-2-methylheptanoyl-ACP', compartment = 'c', charge =-1, formula = 'C19H33O9N2PRS'))"
   ]
  },
  {
   "cell_type": "code",
   "execution_count": 228,
   "metadata": {},
   "outputs": [],
   "source": [
    "model.metabolites.get_by_id('3o2mheptACP_c').annotation['sbo'] = 'SBO:0000176'"
   ]
  },
  {
   "cell_type": "code",
   "execution_count": 229,
   "metadata": {},
   "outputs": [
    {
     "name": "stderr",
     "output_type": "stream",
     "text": [
      "Ignoring reaction '3OMAS80' since it already exists.\n"
     ]
    }
   ],
   "source": [
    "#add reaction\n",
    "model.add_reaction(Reaction(id='3OMAS80', name = '3-oxo-2-methylheptanoyl-[acyl-carrier-protein] synthase (iso-C8:0)'))"
   ]
  },
  {
   "cell_type": "code",
   "execution_count": 230,
   "metadata": {},
   "outputs": [],
   "source": [
    "model.reactions.get_by_id('3OMAS80').annotation['sbo'] = 'SBO:0000176'"
   ]
  },
  {
   "cell_type": "code",
   "execution_count": 231,
   "metadata": {},
   "outputs": [],
   "source": [
    "#assume GPR is the same FAget_by_id('3OAS50')synthase: RTMO12345\n",
    "model.reactions.get_by_id('3OMAS80').gene_reaction_rule = 'RTMO12345'"
   ]
  },
  {
   "cell_type": "code",
   "execution_count": 232,
   "metadata": {},
   "outputs": [],
   "source": [
    "model.reactions.get_by_id('3OMAS80').add_metabolites({\n",
    "    model.metabolites.malACP_c:-1,\n",
    "    model.metabolites.get_by_id('2mpentACP_c'):-1,\n",
    "    model.metabolites.ACP_c:1,\n",
    "    model.metabolites.co2_c:1,\n",
    "    model.metabolites.get_by_id('3o2mheptACP_c'):1,\n",
    "    model.metabolites.h_c:-1\n",
    "})"
   ]
  },
  {
   "cell_type": "code",
   "execution_count": 233,
   "metadata": {},
   "outputs": [],
   "source": [
    "#next add reaction with NADPH\n",
    "#first add 3-Hydroxy-2-methylheptanoyl-[acp] met\n",
    "model.add_metabolites(Metabolite(id='3h2mheptACP_c', name = '3-Hydroxy-2-methyl-heptanoyl-[acp]', compartment = 'c', charge = -1, formula = 'C19H35O9N2PRS'))"
   ]
  },
  {
   "cell_type": "code",
   "execution_count": 234,
   "metadata": {},
   "outputs": [],
   "source": [
    "model.metabolites.get_by_id('3h2mheptACP_c').annotation['sbo'] = 'SBO:0000247'"
   ]
  },
  {
   "cell_type": "code",
   "execution_count": 235,
   "metadata": {},
   "outputs": [],
   "source": [
    "#add reaction\n",
    "model.add_reaction(Reaction(id='3OMAR80', name = ' 3-oxoacyl-[acyl-carrier-protein] reductase (iso-C8:0)'))"
   ]
  },
  {
   "cell_type": "code",
   "execution_count": 236,
   "metadata": {},
   "outputs": [],
   "source": [
    "model.reactions.get_by_id('3OMAR80').annotation['sbo'] = 'SBO:0000176'"
   ]
  },
  {
   "cell_type": "code",
   "execution_count": 237,
   "metadata": {},
   "outputs": [],
   "source": [
    "#assume GPR is the same FAget_by_id('3OAS70')synthase: RTMO12345\n",
    "model.reactions.get_by_id('3OMAR80').gene_reaction_rule = 'RTMO12345'"
   ]
  },
  {
   "cell_type": "code",
   "execution_count": 238,
   "metadata": {},
   "outputs": [],
   "source": [
    "model.reactions.get_by_id('3OMAR80').add_metabolites({\n",
    "    model.metabolites.get_by_id('3o2mheptACP_c'):-1,\n",
    "    model.metabolites.nadph_c:-1,\n",
    "    model.metabolites.nadp_c:1,\n",
    "    model.metabolites.get_by_id('3h2mheptACP_c'):1,\n",
    "    model.metabolites.h_c:-1\n",
    "})"
   ]
  },
  {
   "cell_type": "code",
   "execution_count": 239,
   "metadata": {},
   "outputs": [],
   "source": [
    "#next add the tpent2eACP_c metabolite\n",
    "model.add_metabolites(Metabolite(id='t2mhept2eACP_c', name = 'Trans-2-methyl-Hept-2-enoyl-[acyl-carrier protein]', compartment = 'c', charge = -1, formula = 'C19H33O8N2PRS'))"
   ]
  },
  {
   "cell_type": "code",
   "execution_count": 240,
   "metadata": {},
   "outputs": [],
   "source": [
    "model.metabolites.get_by_id('t2mhept2eACP_c').annotation['sbo'] = 'SBO:0000247'"
   ]
  },
  {
   "cell_type": "code",
   "execution_count": 241,
   "metadata": {},
   "outputs": [],
   "source": [
    "#add reaction\n",
    "model.add_reaction(Reaction(id='3HMAD80', name = '3-hydroxyacyl-[acyl-carrier-protein] dehydratase (iso-C8:0)'))"
   ]
  },
  {
   "cell_type": "code",
   "execution_count": 242,
   "metadata": {},
   "outputs": [],
   "source": [
    "model.reactions.get_by_id('3HMAD80').annotation['sbo'] = 'SBO:0000176'"
   ]
  },
  {
   "cell_type": "code",
   "execution_count": 243,
   "metadata": {},
   "outputs": [],
   "source": [
    "#assume GPR is the same FA synthase: RTMO12345\n",
    "model.reactions.get_by_id('3HMAD80').gene_reaction_rule = 'RTMO12345'"
   ]
  },
  {
   "cell_type": "code",
   "execution_count": 244,
   "metadata": {},
   "outputs": [],
   "source": [
    "model.reactions.get_by_id('3HMAD80').add_metabolites({\n",
    "    model.metabolites.get_by_id('3h2mheptACP_c'):-1,\n",
    "    model.metabolites.h2o_c:1,\n",
    "    model.metabolites.t2mhept2eACP_c:1\n",
    "})"
   ]
  },
  {
   "cell_type": "code",
   "execution_count": 245,
   "metadata": {},
   "outputs": [],
   "source": [
    "#last step: convert to 2-methyl-Heptanoyl-ACP which can start the next cycle again\n",
    "#add both with NADH and NADPH.\n",
    "#first add the 2-methyl-heptanoyl-ACP metabolite\n",
    "model.add_metabolites(Metabolite(id='2mheptACP_c', name = '2-methyl-heptanoyl-ACP(iso-C8:0ACP)', compartment = 'c', charge = -1, formula = 'C19H35O8N2PRS' ))"
   ]
  },
  {
   "cell_type": "code",
   "execution_count": 246,
   "metadata": {},
   "outputs": [],
   "source": [
    "model.metabolites.get_by_id('2mheptACP_c').annotation['sbo'] = 'SBO:0000247'"
   ]
  },
  {
   "cell_type": "code",
   "execution_count": 247,
   "metadata": {},
   "outputs": [],
   "source": [
    "#add reaction with NADH\n",
    "model.add_reaction(Reaction(id='EMAR80x', name = '2-methyl-heptanoyl-[acp]:NAD+ trans-2-oxidoreductase'))"
   ]
  },
  {
   "cell_type": "code",
   "execution_count": 248,
   "metadata": {},
   "outputs": [],
   "source": [
    "model.reactions.EMAR80x.annotation['sbo'] = 'SBO:0000176'"
   ]
  },
  {
   "cell_type": "code",
   "execution_count": 249,
   "metadata": {},
   "outputs": [],
   "source": [
    "#assume GPR is the same FA synthase: RTMO12345\n",
    "model.reactions.EMAR80x.gene_reaction_rule = 'RTMO12345'"
   ]
  },
  {
   "cell_type": "code",
   "execution_count": 250,
   "metadata": {},
   "outputs": [],
   "source": [
    "model.reactions.EMAR80x.add_metabolites({\n",
    "    model.metabolites.t2mhept2eACP_c:-1,\n",
    "    model.metabolites.nadh_c:-1,\n",
    "    model.metabolites.nad_c:1,\n",
    "    model.metabolites.get_by_id('2mheptACP_c'):1,\n",
    "    model.metabolites.h_c:-1\n",
    "})"
   ]
  },
  {
   "cell_type": "code",
   "execution_count": 251,
   "metadata": {},
   "outputs": [],
   "source": [
    "#add reaction with NADH\n",
    "model.add_reaction(Reaction(id='EMAR80y', name = '2-methyl-heptanoyl-[acp]:NADP+ trans-2-oxidoreductase'))"
   ]
  },
  {
   "cell_type": "code",
   "execution_count": 252,
   "metadata": {},
   "outputs": [],
   "source": [
    "model.reactions.EMAR80y.annotation['sbo'] = 'SBO:0000176'"
   ]
  },
  {
   "cell_type": "code",
   "execution_count": 253,
   "metadata": {},
   "outputs": [],
   "source": [
    "#assume GPR is the same FA synthase: RTMO12345\n",
    "model.reactions.EMAR80y.gene_reaction_rule = 'RTMO12345'"
   ]
  },
  {
   "cell_type": "code",
   "execution_count": 254,
   "metadata": {},
   "outputs": [],
   "source": [
    "model.reactions.EMAR80y.add_metabolites({\n",
    "    model.metabolites.t2mhept2eACP_c:-1,\n",
    "    model.metabolites.nadph_c:-1,\n",
    "    model.metabolites.nadp_c:1,\n",
    "    model.metabolites.get_by_id('2mheptACP_c'):1,\n",
    "    model.metabolites.h_c:-1\n",
    "})"
   ]
  },
  {
   "cell_type": "code",
   "execution_count": 255,
   "metadata": {},
   "outputs": [],
   "source": [
    "#save&commit\n",
    "cobra.io.write_sbml_model(model,'../model/g-thermo.xml')"
   ]
  },
  {
   "cell_type": "markdown",
   "metadata": {},
   "source": [
    "Finished until iso-C8:0. Now onto iso-C10:0."
   ]
  },
  {
   "cell_type": "code",
   "execution_count": 256,
   "metadata": {},
   "outputs": [],
   "source": [
    "#add condenstation of 2mhept-ACP with malonyl ACP to 3-oxo-2-methyl-nonanoyl-ACP\n",
    "#add metabolite\n",
    "model.add_metabolites(Metabolite(id='3o2mnonACP_c', name = '3-oxo-2-methyl-nonanoyl-ACP', compartment = 'c', charge =-1, formula = 'C21H37O9N2PRS'))"
   ]
  },
  {
   "cell_type": "code",
   "execution_count": 257,
   "metadata": {},
   "outputs": [],
   "source": [
    "model.metabolites.get_by_id('3o2mnonACP_c').annotation['sbo'] = 'SBO:0000176'"
   ]
  },
  {
   "cell_type": "code",
   "execution_count": 258,
   "metadata": {},
   "outputs": [],
   "source": [
    "#add reaction\n",
    "model.add_reaction(Reaction(id='3OMAS100', name = '3-oxo-2-methyl-nonanoyl-[acyl-carrier-protein] synthase (iso-C10:0)'))"
   ]
  },
  {
   "cell_type": "code",
   "execution_count": 259,
   "metadata": {},
   "outputs": [],
   "source": [
    "model.reactions.get_by_id('3OMAS100').annotation['sbo'] = 'SBO:0000176'"
   ]
  },
  {
   "cell_type": "code",
   "execution_count": 260,
   "metadata": {},
   "outputs": [],
   "source": [
    "#assume GPR is the same FA synthase: RTMO12345\n",
    "model.reactions.get_by_id('3OMAS100').gene_reaction_rule = 'RTMO12345'"
   ]
  },
  {
   "cell_type": "code",
   "execution_count": 261,
   "metadata": {},
   "outputs": [],
   "source": [
    "model.reactions.get_by_id('3OMAS100').add_metabolites({\n",
    "    model.metabolites.malACP_c:-1,\n",
    "    model.metabolites.get_by_id('2mheptACP_c'):-1,\n",
    "    model.metabolites.ACP_c:1,\n",
    "    model.metabolites.co2_c:1,\n",
    "    model.metabolites.get_by_id('3o2mnonACP_c'):1,\n",
    "    model.metabolites.h_c:-1\n",
    "})"
   ]
  },
  {
   "cell_type": "code",
   "execution_count": 262,
   "metadata": {},
   "outputs": [],
   "source": [
    "#next add reaction with NADPH\n",
    "#first add 3-Hydroxy-2-methyl-nonanoyl-[acp] met\n",
    "model.add_metabolites(Metabolite(id='3h2mnonACP_c', name = '3-Hydroxy-2-methyl-nonanoyl-[acp]', compartment = 'c', charge = -1, formula = 'C21H39O9N2PRS'))"
   ]
  },
  {
   "cell_type": "code",
   "execution_count": 263,
   "metadata": {},
   "outputs": [],
   "source": [
    "model.metabolites.get_by_id('3h2mnonACP_c').annotation['sbo'] = 'SBO:0000247'"
   ]
  },
  {
   "cell_type": "code",
   "execution_count": 264,
   "metadata": {},
   "outputs": [],
   "source": [
    "#add reaction\n",
    "model.add_reaction(Reaction(id='3OMAR100', name = ' 3-oxoacyl-[acyl-carrier-protein] reductase (iso-C10:0)'))"
   ]
  },
  {
   "cell_type": "code",
   "execution_count": 265,
   "metadata": {},
   "outputs": [],
   "source": [
    "model.reactions.get_by_id('3OMAR100').annotation['sbo'] = 'SBO:0000176'"
   ]
  },
  {
   "cell_type": "code",
   "execution_count": 266,
   "metadata": {},
   "outputs": [],
   "source": [
    "#assume GPR is the same FA synthase, as done in the whole model: RTMO12345\n",
    "model.reactions.get_by_id('3OMAR100').gene_reaction_rule = 'RTMO12345'"
   ]
  },
  {
   "cell_type": "code",
   "execution_count": 267,
   "metadata": {},
   "outputs": [],
   "source": [
    "model.reactions.get_by_id('3OMAR100').add_metabolites({\n",
    "    model.metabolites.get_by_id('3o2mnonACP_c'):-1,\n",
    "    model.metabolites.nadph_c:-1,\n",
    "    model.metabolites.nadp_c:1,\n",
    "    model.metabolites.get_by_id('3h2mnonACP_c'):1,\n",
    "    model.metabolites.h_c:-1\n",
    "})"
   ]
  },
  {
   "cell_type": "code",
   "execution_count": 268,
   "metadata": {},
   "outputs": [],
   "source": [
    "#next add the t2mpent2eACP_c metabolite\n",
    "model.add_metabolites(Metabolite(id='t2mnon2eACP_c', name = 'Trans-2-methyl-Non-2-enoyl-[acyl-carrier protein]', compartment = 'c', charge = -1, formula = 'C21H37O8N2PRS'))"
   ]
  },
  {
   "cell_type": "code",
   "execution_count": 269,
   "metadata": {},
   "outputs": [],
   "source": [
    "model.metabolites.get_by_id('t2mnon2eACP_c').annotation['sbo'] = 'SBO:0000247'"
   ]
  },
  {
   "cell_type": "code",
   "execution_count": 270,
   "metadata": {},
   "outputs": [],
   "source": [
    "#add reaction\n",
    "model.add_reaction(Reaction(id='3HMAD100', name = '3-hydroxyacyl-[acyl-carrier-protein] dehydratase (iso-C10:0)'))"
   ]
  },
  {
   "cell_type": "code",
   "execution_count": 271,
   "metadata": {},
   "outputs": [],
   "source": [
    "model.reactions.get_by_id('3HMAD100').annotation['sbo'] = 'SBO:0000176'"
   ]
  },
  {
   "cell_type": "code",
   "execution_count": 272,
   "metadata": {},
   "outputs": [],
   "source": [
    "#assume GPR is the same FA synthase: RTMO12345\n",
    "model.reactions.get_by_id('3HMAD100').gene_reaction_rule = 'RTMO12345'"
   ]
  },
  {
   "cell_type": "code",
   "execution_count": 273,
   "metadata": {},
   "outputs": [],
   "source": [
    "model.reactions.get_by_id('3HMAD100').add_metabolites({\n",
    "    model.metabolites.get_by_id('3h2mnonACP_c'):-1,\n",
    "    model.metabolites.h2o_c:1,\n",
    "    model.metabolites.t2mnon2eACP_c:1\n",
    "})"
   ]
  },
  {
   "cell_type": "code",
   "execution_count": 274,
   "metadata": {},
   "outputs": [],
   "source": [
    "#add both with NADH and NADPH.\n",
    "#first add the 2-methyl-nonanoyl-ACP metabolite\n",
    "model.add_metabolites(Metabolite(id='2mnonACP_c', name = '2-methyl-nonanoyl-ACP(iso-C10:0ACP)', compartment = 'c', charge = -1, formula = 'C21H39O8N2PRS' ))"
   ]
  },
  {
   "cell_type": "code",
   "execution_count": 275,
   "metadata": {},
   "outputs": [],
   "source": [
    "model.metabolites.get_by_id('2mnonACP_c').annotation['sbo'] = 'SBO:0000247'"
   ]
  },
  {
   "cell_type": "code",
   "execution_count": 276,
   "metadata": {},
   "outputs": [],
   "source": [
    "#add reaction with NADH\n",
    "model.add_reaction(Reaction(id='EMAR100x', name = '2-methylnonanoyl-[acp]:NAD+ trans-2-oxidoreductase'))"
   ]
  },
  {
   "cell_type": "code",
   "execution_count": 277,
   "metadata": {},
   "outputs": [],
   "source": [
    "model.reactions.EMAR100x.annotation['sbo'] = 'SBO:0000176'"
   ]
  },
  {
   "cell_type": "code",
   "execution_count": 278,
   "metadata": {},
   "outputs": [],
   "source": [
    "#assume GPR is the same FA synthase: RTMO12345\n",
    "model.reactions.EMAR100x.gene_reaction_rule = 'RTMO12345'"
   ]
  },
  {
   "cell_type": "code",
   "execution_count": 279,
   "metadata": {},
   "outputs": [],
   "source": [
    "model.reactions.EMAR100x.add_metabolites({\n",
    "    model.metabolites.t2mnon2eACP_c:-1,\n",
    "    model.metabolites.nadh_c:-1,\n",
    "    model.metabolites.nad_c:1,\n",
    "    model.metabolites.get_by_id('2mnonACP_c'):1,\n",
    "    model.metabolites.h_c:-1\n",
    "})"
   ]
  },
  {
   "cell_type": "code",
   "execution_count": 280,
   "metadata": {},
   "outputs": [],
   "source": [
    "#add reaction with NADH\n",
    "model.add_reaction(Reaction(id='EMAR100y', name = '2-methyl-nonanoyl-[acp]:NADP+ trans-2-oxidoreductase'))"
   ]
  },
  {
   "cell_type": "code",
   "execution_count": 281,
   "metadata": {},
   "outputs": [],
   "source": [
    "model.reactions.EMAR100y.annotation['sbo'] = 'SBO:0000176'"
   ]
  },
  {
   "cell_type": "code",
   "execution_count": 282,
   "metadata": {},
   "outputs": [],
   "source": [
    "#assume GPR is the same FA synthase: RTMO12345\n",
    "model.reactions.EMAR100y.gene_reaction_rule = 'RTMO12345'"
   ]
  },
  {
   "cell_type": "code",
   "execution_count": 283,
   "metadata": {},
   "outputs": [],
   "source": [
    "model.reactions.EMAR100y.add_metabolites({\n",
    "    model.metabolites.t2mnon2eACP_c:-1,\n",
    "    model.metabolites.nadph_c:-1,\n",
    "    model.metabolites.nadp_c:1,\n",
    "    model.metabolites.get_by_id('2mnonACP_c'):1,\n",
    "    model.metabolites.h_c:-1\n",
    "})"
   ]
  },
  {
   "cell_type": "code",
   "execution_count": 284,
   "metadata": {},
   "outputs": [],
   "source": [
    "#save&commit\n",
    "cobra.io.write_sbml_model(model,'../model/g-thermo.xml')"
   ]
  },
  {
   "cell_type": "markdown",
   "metadata": {},
   "source": [
    "Finished until iso-C10:0, now move onto iso -C12:0. "
   ]
  },
  {
   "cell_type": "code",
   "execution_count": 285,
   "metadata": {},
   "outputs": [],
   "source": [
    "#add condenstation of 2-methyl-non-ACP with malonyl ACP to 3-oxo2-methyl-undecanoyl-ACP\n",
    "#add metabolite\n",
    "model.add_metabolites(Metabolite(id='3o2mudecACP_c', name = '3-oxo-2-methyl-undecanoyl-ACP', compartment = 'c', charge =-1, formula = 'C23H41O9N2PRS'))"
   ]
  },
  {
   "cell_type": "code",
   "execution_count": 286,
   "metadata": {},
   "outputs": [],
   "source": [
    "model.metabolites.get_by_id('3o2mudecACP_c').annotation['sbo'] = 'SBO:0000176'"
   ]
  },
  {
   "cell_type": "code",
   "execution_count": 287,
   "metadata": {},
   "outputs": [],
   "source": [
    "#add reaction\n",
    "model.add_reaction(Reaction(id='3OMAS120', name = '3-oxo-2-methyl-undecanoyl-[acyl-carrier-protein] synthase (iso-C12:0)'))"
   ]
  },
  {
   "cell_type": "code",
   "execution_count": 288,
   "metadata": {},
   "outputs": [],
   "source": [
    "model.reactions.get_by_id('3OMAS120').annotation['sbo'] = 'SBO:0000176'"
   ]
  },
  {
   "cell_type": "code",
   "execution_count": 289,
   "metadata": {},
   "outputs": [],
   "source": [
    "#assume GPR is the same FA synthase: RTMO12345\n",
    "model.reactions.get_by_id('3OMAS120').gene_reaction_rule = 'RTMO12345'"
   ]
  },
  {
   "cell_type": "code",
   "execution_count": 290,
   "metadata": {},
   "outputs": [],
   "source": [
    "model.reactions.get_by_id('3OMAS120').add_metabolites({\n",
    "    model.metabolites.malACP_c:-1,\n",
    "    model.metabolites.get_by_id('2mnonACP_c'):-1,\n",
    "    model.metabolites.ACP_c:1,\n",
    "    model.metabolites.co2_c:1,\n",
    "    model.metabolites.get_by_id('3o2mudecACP_c'):1,\n",
    "    model.metabolites.h_c:-1\n",
    "})"
   ]
  },
  {
   "cell_type": "code",
   "execution_count": 317,
   "metadata": {},
   "outputs": [],
   "source": [
    "#next add reaction with NADPH\n",
    "#first add 3-Hydroxy-2-methyl-undecanoyl-[acp] met\n",
    "model.add_metabolites(Metabolite(id='3h2mudecACP_c', name = '3-Hydroxy-2-methyl-undecanoyl-[acp]', compartment = 'c', charge = -1, formula = 'C23H43O9N2PRS'))"
   ]
  },
  {
   "cell_type": "code",
   "execution_count": 318,
   "metadata": {},
   "outputs": [],
   "source": [
    "model.metabolites.get_by_id('3h2mudecACP_c').annotation['sbo'] = 'SBO:0000247'"
   ]
  },
  {
   "cell_type": "code",
   "execution_count": 319,
   "metadata": {},
   "outputs": [],
   "source": [
    "#add reaction\n",
    "model.add_reaction(Reaction(id='3OMAR120', name = ' 3-oxoacyl-[acyl-carrier-protein] reductase (iso-C12:0)'))"
   ]
  },
  {
   "cell_type": "code",
   "execution_count": 320,
   "metadata": {},
   "outputs": [],
   "source": [
    "model.reactions.get_by_id('3OMAR120').annotation['sbo'] = 'SBO:0000176'"
   ]
  },
  {
   "cell_type": "code",
   "execution_count": 321,
   "metadata": {},
   "outputs": [],
   "source": [
    "#assume GPR is the same FA synthase, as done in the whole model: RTMO12345\n",
    "model.reactions.get_by_id('3OMAR120').gene_reaction_rule = 'RTMO12345'"
   ]
  },
  {
   "cell_type": "code",
   "execution_count": 322,
   "metadata": {},
   "outputs": [],
   "source": [
    "model.reactions.get_by_id('3OMAR120').add_metabolites({\n",
    "    model.metabolites.get_by_id('3o2mudecACP_c'):-1,\n",
    "    model.metabolites.nadph_c:-1,\n",
    "    model.metabolites.nadp_c:1,\n",
    "    model.metabolites.get_by_id('3h2mudecACP_c'):1,\n",
    "    model.metabolites.h_c:-1\n",
    "})"
   ]
  },
  {
   "cell_type": "code",
   "execution_count": 323,
   "metadata": {},
   "outputs": [],
   "source": [
    "#next add the t2mudec2eACP_c metabolite\n",
    "model.add_metabolites(Metabolite(id='t2mudec2eACP_c', name = 'Trans-2-methyl-Undec-2-enoyl-[acyl-carrier protein]', compartment = 'c', charge = -1, formula = 'C23H41O8N2PRS'))"
   ]
  },
  {
   "cell_type": "code",
   "execution_count": 324,
   "metadata": {},
   "outputs": [],
   "source": [
    "model.metabolites.get_by_id('t2mudec2eACP_c').annotation['sbo'] = 'SBO:0000247'"
   ]
  },
  {
   "cell_type": "code",
   "execution_count": 325,
   "metadata": {},
   "outputs": [],
   "source": [
    "#add reaction\n",
    "model.add_reaction(Reaction(id='3HMAD120', name = '3-hydroxyacyl-[acyl-carrier-protein] dehydratase (iso-C12:0)'))"
   ]
  },
  {
   "cell_type": "code",
   "execution_count": 326,
   "metadata": {},
   "outputs": [],
   "source": [
    "model.reactions.get_by_id('3HMAD120').annotation['sbo'] = 'SBO:0000176'"
   ]
  },
  {
   "cell_type": "code",
   "execution_count": 301,
   "metadata": {},
   "outputs": [],
   "source": [
    "#assume GPR is the same FA synthase: RTMO12345\n",
    "model.reactions.get_by_id('3HMAD120').gene_reaction_rule = 'RTMO12345'"
   ]
  },
  {
   "cell_type": "code",
   "execution_count": 327,
   "metadata": {},
   "outputs": [],
   "source": [
    "model.reactions.get_by_id('3HMAD120').add_metabolites({\n",
    "    model.metabolites.get_by_id('3h2mudecACP_c'):-1,\n",
    "    model.metabolites.h2o_c:1,\n",
    "    model.metabolites.t2mudec2eACP_c:1\n",
    "})"
   ]
  },
  {
   "cell_type": "code",
   "execution_count": 328,
   "metadata": {},
   "outputs": [],
   "source": [
    "#add both with NADH and NADPH.\n",
    "#first add the 2-methylundecanoyl-ACP metabolite\n",
    "model.add_metabolites(Metabolite(id='2mudecACP_c', name = '2-Methyl-Undecanoyl-ACP(iso-C12:0ACP)', compartment = 'c', charge = -1, formula = 'C23H43O8N2PRS' ))"
   ]
  },
  {
   "cell_type": "code",
   "execution_count": 329,
   "metadata": {},
   "outputs": [],
   "source": [
    "model.metabolites.get_by_id('2mudecACP_c').annotation['sbo'] = 'SBO:0000247'"
   ]
  },
  {
   "cell_type": "code",
   "execution_count": 330,
   "metadata": {},
   "outputs": [],
   "source": [
    "#add reaction with NADH\n",
    "model.add_reaction(Reaction(id='EMAR120x', name = '2-methyl-Undecanoyl-[acp]:NAD+ trans-2-oxidoreductase'))"
   ]
  },
  {
   "cell_type": "code",
   "execution_count": 331,
   "metadata": {},
   "outputs": [],
   "source": [
    "model.reactions.EMAR120x.annotation['sbo'] = 'SBO:0000176'"
   ]
  },
  {
   "cell_type": "code",
   "execution_count": 332,
   "metadata": {},
   "outputs": [],
   "source": [
    "#assume GPR is the same FAsynthase: RTMO12345\n",
    "model.reactions.EMAR120x.gene_reaction_rule = 'RTMO12345'"
   ]
  },
  {
   "cell_type": "code",
   "execution_count": 333,
   "metadata": {},
   "outputs": [],
   "source": [
    "model.reactions.EMAR120x.add_metabolites({\n",
    "    model.metabolites.t2mudec2eACP_c:-1,\n",
    "    model.metabolites.nadh_c:-1,\n",
    "    model.metabolites.nad_c:1,\n",
    "    model.metabolites.get_by_id('2mudecACP_c'):1,\n",
    "    model.metabolites.h_c:-1\n",
    "})"
   ]
  },
  {
   "cell_type": "code",
   "execution_count": 334,
   "metadata": {},
   "outputs": [],
   "source": [
    "#add reaction with NADH\n",
    "model.add_reaction(Reaction(id='EMAR120y', name = '2-Methyl-Undecanoyl-[acp]:NADP+ trans-2-oxidoreductase'))"
   ]
  },
  {
   "cell_type": "code",
   "execution_count": 335,
   "metadata": {},
   "outputs": [],
   "source": [
    "model.reactions.EMAR120y.annotation['sbo'] = 'SBO:0000176'"
   ]
  },
  {
   "cell_type": "code",
   "execution_count": 336,
   "metadata": {},
   "outputs": [],
   "source": [
    "#assume GPR is the same FA synthase: RTMO12345\n",
    "model.reactions.EMAR120y.gene_reaction_rule = 'RTMO12345'"
   ]
  },
  {
   "cell_type": "code",
   "execution_count": 338,
   "metadata": {},
   "outputs": [],
   "source": [
    "model.reactions.EMAR120y.add_metabolites({\n",
    "    model.metabolites.t2mudec2eACP_c:-1,\n",
    "    model.metabolites.nadph_c:-1,\n",
    "    model.metabolites.nadp_c:1,\n",
    "    model.metabolites.get_by_id('2mudecACP_c'):1,\n",
    "    model.metabolites.h_c:-1\n",
    "})"
   ]
  },
  {
   "cell_type": "code",
   "execution_count": 313,
   "metadata": {},
   "outputs": [],
   "source": [
    "#save&commit\n",
    "cobra.io.write_sbml_model(model,'../model/g-thermo.xml')"
   ]
  },
  {
   "cell_type": "markdown",
   "metadata": {},
   "source": [
    "Finished to isoC12:0, now onto isoC14:0. "
   ]
  },
  {
   "cell_type": "code",
   "execution_count": 339,
   "metadata": {},
   "outputs": [],
   "source": [
    "#add condenstation of 2mnon-ACP with malonyl ACP to 3-oxo-2-methyltridecanoyl-ACP\n",
    "#add metabolite\n",
    "model.add_metabolites(Metabolite(id='3o2mtridecACP_c', name = '3-oxo-2-methyltridecanoyl-ACP', compartment = 'c', charge =-1, formula = 'C25H45O9N2PRS'))"
   ]
  },
  {
   "cell_type": "code",
   "execution_count": 340,
   "metadata": {},
   "outputs": [],
   "source": [
    "model.metabolites.get_by_id('3o2mtridecACP_c').annotation['sbo'] = 'SBO:0000176'"
   ]
  },
  {
   "cell_type": "code",
   "execution_count": 341,
   "metadata": {},
   "outputs": [],
   "source": [
    "#add reaction\n",
    "model.add_reaction(Reaction(id='3OMAS140', name = '3-oxo-2-methyl-tridecanoyl-[acyl-carrier-protein] synthase (iso-C15:0)'))"
   ]
  },
  {
   "cell_type": "code",
   "execution_count": 342,
   "metadata": {},
   "outputs": [],
   "source": [
    "model.reactions.get_by_id('3OMAS140').annotation['sbo'] = 'SBO:0000176'"
   ]
  },
  {
   "cell_type": "code",
   "execution_count": 343,
   "metadata": {},
   "outputs": [],
   "source": [
    "#assume GPR is the same FA synthase: RTMO12345\n",
    "model.reactions.get_by_id('3OMAS140').gene_reaction_rule = 'RTMO12345'"
   ]
  },
  {
   "cell_type": "code",
   "execution_count": 345,
   "metadata": {},
   "outputs": [],
   "source": [
    "model.reactions.get_by_id('3OMAS140').add_metabolites({\n",
    "    model.metabolites.malACP_c:-1,\n",
    "    model.metabolites.get_by_id('2mudecACP_c'):-1,\n",
    "    model.metabolites.ACP_c:1,\n",
    "    model.metabolites.co2_c:1,\n",
    "    model.metabolites.get_by_id('3o2mtridecACP_c'):1,\n",
    "    model.metabolites.h_c:-1\n",
    "})"
   ]
  },
  {
   "cell_type": "code",
   "execution_count": 346,
   "metadata": {},
   "outputs": [],
   "source": [
    "#next add reaction with NADPH\n",
    "#first add 3-Hydroxy-2-methyl-tridecanoyl-[acp] met\n",
    "model.add_metabolites(Metabolite(id='3h2mtridecACP_c', name = '3-Hydroxy-2-methyl-tridecanoyl-[acp]', compartment = 'c', charge = -1, formula = 'C25H47O9N2PRS'))"
   ]
  },
  {
   "cell_type": "code",
   "execution_count": 347,
   "metadata": {},
   "outputs": [],
   "source": [
    "model.metabolites.get_by_id('3h2mtridecACP_c').annotation['sbo'] = 'SBO:0000247'"
   ]
  },
  {
   "cell_type": "code",
   "execution_count": 348,
   "metadata": {},
   "outputs": [],
   "source": [
    "#add reaction\n",
    "model.add_reaction(Reaction(id='3OMAR140', name = ' 3-oxoacyl-[acyl-carrier-protein] reductase (iso-C14:0)'))"
   ]
  },
  {
   "cell_type": "code",
   "execution_count": 349,
   "metadata": {},
   "outputs": [],
   "source": [
    "model.reactions.get_by_id('3OMAR140').annotation['sbo'] = 'SBO:0000176'"
   ]
  },
  {
   "cell_type": "code",
   "execution_count": 350,
   "metadata": {},
   "outputs": [],
   "source": [
    "#assume GPR is the same FA synthase, as done in the whole model: RTMO12345\n",
    "model.reactions.get_by_id('3OMAR140').gene_reaction_rule = 'RTMO12345'"
   ]
  },
  {
   "cell_type": "code",
   "execution_count": 351,
   "metadata": {},
   "outputs": [],
   "source": [
    "model.reactions.get_by_id('3OMAR140').add_metabolites({\n",
    "    model.metabolites.get_by_id('3o2mtridecACP_c'):-1,\n",
    "    model.metabolites.nadph_c:-1,\n",
    "    model.metabolites.nadp_c:1,\n",
    "    model.metabolites.get_by_id('3h2mtridecACP_c'):1,\n",
    "    model.metabolites.h_c:-1\n",
    "})"
   ]
  },
  {
   "cell_type": "code",
   "execution_count": 353,
   "metadata": {},
   "outputs": [],
   "source": [
    "#next add the 2mtpent2eACP_c metabolite\n",
    "model.add_metabolites(Metabolite(id='t2mtridec2eACP_c', name = 'Trans-2-methyl-Tridec-2-enoyl-[acyl-carrier protein]', compartment = 'c', charge = -1, formula = 'C25H45O8N2PRS'))"
   ]
  },
  {
   "cell_type": "code",
   "execution_count": 354,
   "metadata": {},
   "outputs": [],
   "source": [
    "model.metabolites.get_by_id('t2mtridec2eACP_c').annotation['sbo'] = 'SBO:0000247'"
   ]
  },
  {
   "cell_type": "code",
   "execution_count": 355,
   "metadata": {},
   "outputs": [],
   "source": [
    "#add reaction\n",
    "model.add_reaction(Reaction(id='3HMAD140', name = '3-hydroxyacyl-[acyl-carrier-protein] dehydratase (iso-C14:0)'))"
   ]
  },
  {
   "cell_type": "code",
   "execution_count": 356,
   "metadata": {},
   "outputs": [],
   "source": [
    "model.reactions.get_by_id('3HMAD140').annotation['sbo'] = 'SBO:0000176'"
   ]
  },
  {
   "cell_type": "code",
   "execution_count": 357,
   "metadata": {},
   "outputs": [],
   "source": [
    "#assume GPR is the same FA synthase: RTMO12345\n",
    "model.reactions.get_by_id('3HMAD140').gene_reaction_rule = 'RTMO12345'"
   ]
  },
  {
   "cell_type": "code",
   "execution_count": 358,
   "metadata": {},
   "outputs": [],
   "source": [
    "model.reactions.get_by_id('3HMAD140').add_metabolites({\n",
    "    model.metabolites.get_by_id('3h2mtridecACP_c'):-1,\n",
    "    model.metabolites.h2o_c:1,\n",
    "    model.metabolites.t2mtridec2eACP_c:1\n",
    "})"
   ]
  },
  {
   "cell_type": "code",
   "execution_count": 359,
   "metadata": {},
   "outputs": [],
   "source": [
    "#add the last reaction both with NADH and NADPH.\n",
    "#first add the 2-methyl-tridecanoyl-ACP metabolite\n",
    "model.add_metabolites(Metabolite(id='2mtridecACP_c', name = '2-methyl-Tridecanoyl-ACP(iso-C14:0ACP)', compartment = 'c', charge = -1, formula = 'C25H47O8N2PRS' ))"
   ]
  },
  {
   "cell_type": "code",
   "execution_count": 360,
   "metadata": {},
   "outputs": [],
   "source": [
    "model.metabolites.get_by_id('2mtridecACP_c').annotation['sbo'] = 'SBO:0000247'"
   ]
  },
  {
   "cell_type": "code",
   "execution_count": 361,
   "metadata": {},
   "outputs": [],
   "source": [
    "#add reaction with NADH\n",
    "model.add_reaction(Reaction(id='EMAR140x', name = '2-methyl-Tridecanoyl-[acp]:NAD+ trans-2-oxidoreductase'))"
   ]
  },
  {
   "cell_type": "code",
   "execution_count": 362,
   "metadata": {},
   "outputs": [],
   "source": [
    "model.reactions.EMAR140x.annotation['sbo'] = 'SBO:0000176'"
   ]
  },
  {
   "cell_type": "code",
   "execution_count": 363,
   "metadata": {},
   "outputs": [],
   "source": [
    "#assume GPR is the same FA synthase: RTMO12345\n",
    "model.reactions.EMAR140x.gene_reaction_rule = 'RTMO12345'"
   ]
  },
  {
   "cell_type": "code",
   "execution_count": 364,
   "metadata": {},
   "outputs": [],
   "source": [
    "model.reactions.EMAR140x.add_metabolites({\n",
    "    model.metabolites.t2mtridec2eACP_c:-1,\n",
    "    model.metabolites.nadh_c:-1,\n",
    "    model.metabolites.nad_c:1,\n",
    "    model.metabolites.get_by_id('2mtridecACP_c'):1,\n",
    "    model.metabolites.h_c:-1\n",
    "})"
   ]
  },
  {
   "cell_type": "code",
   "execution_count": 365,
   "metadata": {},
   "outputs": [],
   "source": [
    "#add reaction with NADH\n",
    "model.add_reaction(Reaction(id='EMAR140y', name = '2-Methyl-Tridecanoyl-[acp]:NADP+ trans-2-oxidoreductase'))"
   ]
  },
  {
   "cell_type": "code",
   "execution_count": 366,
   "metadata": {},
   "outputs": [],
   "source": [
    "model.reactions.EMAR140y.annotation['sbo'] = 'SBO:0000176'"
   ]
  },
  {
   "cell_type": "code",
   "execution_count": 367,
   "metadata": {},
   "outputs": [],
   "source": [
    "#assume GPR is the same FAsynthase: RTMO12345\n",
    "model.reactions.EMAR140y.gene_reaction_rule = 'RTMO12345'"
   ]
  },
  {
   "cell_type": "code",
   "execution_count": 369,
   "metadata": {},
   "outputs": [],
   "source": [
    "model.reactions.EMAR140y.add_metabolites({\n",
    "    model.metabolites.t2mtridec2eACP_c:-1,\n",
    "    model.metabolites.nadph_c:-1,\n",
    "    model.metabolites.nadp_c:1,\n",
    "    model.metabolites.get_by_id('2mtridecACP_c'):1,\n",
    "    model.metabolites.h_c:-1\n",
    "})"
   ]
  },
  {
   "cell_type": "code",
   "execution_count": 93,
   "metadata": {},
   "outputs": [],
   "source": [
    "#save&commit\n",
    "cobra.io.write_sbml_model(model,'../model/g-thermo.xml')"
   ]
  },
  {
   "cell_type": "markdown",
   "metadata": {},
   "source": [
    "finished up to isoC14:0, now move onto the final iso C16:0 fatty acid."
   ]
  },
  {
   "cell_type": "code",
   "execution_count": 370,
   "metadata": {},
   "outputs": [],
   "source": [
    "#add condenstation of 2mtridec-ACP with malonyl ACP to 3-oxo-2-methylpentadecanoyl-ACP\n",
    "#add metabolite\n",
    "model.add_metabolites(Metabolite(id='3o2mpdecACP_c', name = '3-oxo-2-methyl-pentadecanoyl-ACP', compartment = 'c', charge =-1, formula = 'C27H49O9N2PRS'))"
   ]
  },
  {
   "cell_type": "code",
   "execution_count": 371,
   "metadata": {},
   "outputs": [],
   "source": [
    "model.metabolites.get_by_id('3o2mpdecACP_c').annotation['sbo'] = 'SBO:0000176'"
   ]
  },
  {
   "cell_type": "code",
   "execution_count": 372,
   "metadata": {},
   "outputs": [],
   "source": [
    "#add reaction\n",
    "model.add_reaction(Reaction(id='3OMAS160', name = '3-oxo-2-methyl-pentadecanoyl-[acyl-carrier-protein] synthase (iso-C16:0)'))"
   ]
  },
  {
   "cell_type": "code",
   "execution_count": 373,
   "metadata": {},
   "outputs": [],
   "source": [
    "model.reactions.get_by_id('3OMAS160').annotation['sbo'] = 'SBO:0000176'"
   ]
  },
  {
   "cell_type": "code",
   "execution_count": 374,
   "metadata": {},
   "outputs": [],
   "source": [
    "#assume GPR is the same FA synthase: RTMO12345\n",
    "model.reactions.get_by_id('3OMAS160').gene_reaction_rule = 'RTMO12345'"
   ]
  },
  {
   "cell_type": "code",
   "execution_count": 376,
   "metadata": {},
   "outputs": [],
   "source": [
    "model.reactions.get_by_id('3OMAS160').add_metabolites({\n",
    "    model.metabolites.malACP_c:-1,\n",
    "    model.metabolites.get_by_id('2mtridecACP_c'):-1,\n",
    "    model.metabolites.ACP_c:1,\n",
    "    model.metabolites.co2_c:1,\n",
    "    model.metabolites.get_by_id('3o2mpdecACP_c'):1,\n",
    "    model.metabolites.h_c:-1\n",
    "})"
   ]
  },
  {
   "cell_type": "code",
   "execution_count": 377,
   "metadata": {},
   "outputs": [],
   "source": [
    "#next add reaction with NADPH\n",
    "#first add 3-Hydroxy-2-methyl-pentadecanoyl-[acp] met\n",
    "model.add_metabolites(Metabolite(id='3h2mpdecACP_c', name = '3-Hydroxy-2-methyl-pentadecanoyl-[acp]', compartment = 'c', charge = -1, formula = 'C27H51O9N2PRS'))"
   ]
  },
  {
   "cell_type": "code",
   "execution_count": 378,
   "metadata": {},
   "outputs": [],
   "source": [
    "model.metabolites.get_by_id('3h2mpdecACP_c').annotation['sbo'] = 'SBO:0000247'"
   ]
  },
  {
   "cell_type": "code",
   "execution_count": 379,
   "metadata": {},
   "outputs": [],
   "source": [
    "#add reaction\n",
    "model.add_reaction(Reaction(id='3OMAR160', name = ' 3-oxoacyl-[acyl-carrier-protein] reductase (iso-C16:0)'))"
   ]
  },
  {
   "cell_type": "code",
   "execution_count": 380,
   "metadata": {},
   "outputs": [],
   "source": [
    "model.reactions.get_by_id('3OMAR160').annotation['sbo'] = 'SBO:0000176'"
   ]
  },
  {
   "cell_type": "code",
   "execution_count": 381,
   "metadata": {},
   "outputs": [],
   "source": [
    "#assume GPR is the same FA synthase, as done in the whole model: RTMO12345\n",
    "model.reactions.get_by_id('3OMAR160').gene_reaction_rule = 'RTMO12345'"
   ]
  },
  {
   "cell_type": "code",
   "execution_count": 382,
   "metadata": {},
   "outputs": [],
   "source": [
    "model.reactions.get_by_id('3OMAR160').add_metabolites({\n",
    "    model.metabolites.get_by_id('3o2mpdecACP_c'):-1,\n",
    "    model.metabolites.nadph_c:-1,\n",
    "    model.metabolites.nadp_c:1,\n",
    "    model.metabolites.get_by_id('3h2mpdecACP_c'):1,\n",
    "    model.metabolites.h_c:-1\n",
    "})"
   ]
  },
  {
   "cell_type": "code",
   "execution_count": 383,
   "metadata": {},
   "outputs": [],
   "source": [
    "#next add the next metabolite\n",
    "model.add_metabolites(Metabolite(id='t2mpdec2eACP_c', name = 'Trans-2-methyl-Pentadec-2-enoyl-[acyl-carrier protein]', compartment = 'c', charge = -1, formula = 'C27H49O8N2PRS'))"
   ]
  },
  {
   "cell_type": "code",
   "execution_count": 384,
   "metadata": {},
   "outputs": [],
   "source": [
    "model.metabolites.get_by_id('t2mpdec2eACP_c').annotation['sbo'] = 'SBO:0000247'"
   ]
  },
  {
   "cell_type": "code",
   "execution_count": 385,
   "metadata": {},
   "outputs": [],
   "source": [
    "#add reaction\n",
    "model.add_reaction(Reaction(id='3HMAD160', name = '3-hydroxy-methyl-acyl-[acyl-carrier-protein] dehydratase (iso-C16:0)'))"
   ]
  },
  {
   "cell_type": "code",
   "execution_count": 386,
   "metadata": {},
   "outputs": [],
   "source": [
    "model.reactions.get_by_id('3HMAD160').annotation['sbo'] = 'SBO:0000176'"
   ]
  },
  {
   "cell_type": "code",
   "execution_count": 387,
   "metadata": {},
   "outputs": [],
   "source": [
    "#assume GPR is the same FA synthase: RTMO12345\n",
    "model.reactions.get_by_id('3HMAD160').gene_reaction_rule = 'RTMO12345'"
   ]
  },
  {
   "cell_type": "code",
   "execution_count": 388,
   "metadata": {},
   "outputs": [],
   "source": [
    "model.reactions.get_by_id('3HMAD160').add_metabolites({\n",
    "    model.metabolites.get_by_id('3h2mpdecACP_c'):-1,\n",
    "    model.metabolites.h2o_c:1,\n",
    "    model.metabolites.t2mpdec2eACP_c:1\n",
    "})"
   ]
  },
  {
   "cell_type": "code",
   "execution_count": 389,
   "metadata": {},
   "outputs": [],
   "source": [
    "#add the last reaction both with NADH and NADPH.\n",
    "#first add the 2-methyl-pentadecanoyl-ACP metabolite\n",
    "model.add_metabolites(Metabolite(id='2mpdecACP_c', name = '2-Methyl-Pentadecanoyl-ACP(iso-C16:0ACP)', compartment = 'c', charge = -1, formula = 'C27H51O8N2PRS' ))"
   ]
  },
  {
   "cell_type": "code",
   "execution_count": 390,
   "metadata": {},
   "outputs": [],
   "source": [
    "model.metabolites.get_by_id('2mpdecACP_c').annotation['sbo'] = 'SBO:0000247'"
   ]
  },
  {
   "cell_type": "code",
   "execution_count": 391,
   "metadata": {},
   "outputs": [],
   "source": [
    "#add reaction with NADH\n",
    "model.add_reaction(Reaction(id='EMAR160x', name = '2-methyl-Pentadecanoyl-[acp]:NAD+ trans-2-oxidoreductase'))"
   ]
  },
  {
   "cell_type": "code",
   "execution_count": 392,
   "metadata": {},
   "outputs": [],
   "source": [
    "model.reactions.EMAR160x.annotation['sbo'] = 'SBO:0000176'"
   ]
  },
  {
   "cell_type": "code",
   "execution_count": 393,
   "metadata": {},
   "outputs": [],
   "source": [
    "#assume GPR is the same FA synthase: RTMO12345\n",
    "model.reactions.EMAR160x.gene_reaction_rule = 'RTMO12345'"
   ]
  },
  {
   "cell_type": "code",
   "execution_count": 394,
   "metadata": {},
   "outputs": [],
   "source": [
    "model.reactions.EMAR160x.add_metabolites({\n",
    "    model.metabolites.t2mpdec2eACP_c:-1,\n",
    "    model.metabolites.nadh_c:-1,\n",
    "    model.metabolites.nad_c:1,\n",
    "    model.metabolites.get_by_id('2mpdecACP_c'):1,\n",
    "    model.metabolites.h_c:-1\n",
    "})"
   ]
  },
  {
   "cell_type": "code",
   "execution_count": 395,
   "metadata": {},
   "outputs": [],
   "source": [
    "#add reaction with NADH\n",
    "model.add_reaction(Reaction(id='EMAR160y', name = '2-Methyl-Pentadecanoyl-[acp]:NADP+ trans-2-oxidoreductase'))"
   ]
  },
  {
   "cell_type": "code",
   "execution_count": 396,
   "metadata": {},
   "outputs": [],
   "source": [
    "model.reactions.EMAR160y.annotation['sbo'] = 'SBO:0000176'"
   ]
  },
  {
   "cell_type": "code",
   "execution_count": 397,
   "metadata": {},
   "outputs": [],
   "source": [
    "#assume GPR is the same FAsynthase: RTMO12345\n",
    "model.reactions.EMAR160y.gene_reaction_rule = 'RTMO12345'"
   ]
  },
  {
   "cell_type": "code",
   "execution_count": 398,
   "metadata": {},
   "outputs": [],
   "source": [
    "model.reactions.EMAR160y.add_metabolites({\n",
    "    model.metabolites.t2mpdec2eACP_c:-1,\n",
    "    model.metabolites.nadph_c:-1,\n",
    "    model.metabolites.nadp_c:1,\n",
    "    model.metabolites.get_by_id('2mpdecACP_c'):1,\n",
    "    model.metabolites.h_c:-1\n",
    "})"
   ]
  },
  {
   "cell_type": "code",
   "execution_count": 122,
   "metadata": {},
   "outputs": [],
   "source": [
    "#save&commit\n",
    "cobra.io.write_sbml_model(model,'../model/g-thermo.xml')"
   ]
  },
  {
   "cell_type": "markdown",
   "metadata": {},
   "source": [
    "finished:\n",
    "    - isoC15:0: met 3mtdecACP_c\n",
    "    - isoC17:0: met 3mhdecACP_c\n",
    "    - iso C14:0: met 2mtridecACP_c\n",
    "    - iso C16:0: met 2mpdecACP_c"
   ]
  },
  {
   "cell_type": "code",
   "execution_count": 399,
   "metadata": {},
   "outputs": [
    {
     "data": {
      "text/html": [
       "<strong><em>Optimal</em> solution with objective value 0.757</strong><br><div>\n",
       "<style scoped>\n",
       "    .dataframe tbody tr th:only-of-type {\n",
       "        vertical-align: middle;\n",
       "    }\n",
       "\n",
       "    .dataframe tbody tr th {\n",
       "        vertical-align: top;\n",
       "    }\n",
       "\n",
       "    .dataframe thead th {\n",
       "        text-align: right;\n",
       "    }\n",
       "</style>\n",
       "<table border=\"1\" class=\"dataframe\">\n",
       "  <thead>\n",
       "    <tr style=\"text-align: right;\">\n",
       "      <th></th>\n",
       "      <th>fluxes</th>\n",
       "      <th>reduced_costs</th>\n",
       "    </tr>\n",
       "  </thead>\n",
       "  <tbody>\n",
       "    <tr>\n",
       "      <th>IDPh</th>\n",
       "      <td>1.770060e+00</td>\n",
       "      <td>0.000000e+00</td>\n",
       "    </tr>\n",
       "    <tr>\n",
       "      <th>CAT</th>\n",
       "      <td>1.979106e-02</td>\n",
       "      <td>0.000000e+00</td>\n",
       "    </tr>\n",
       "    <tr>\n",
       "      <th>PDHam1hi</th>\n",
       "      <td>0.000000e+00</td>\n",
       "      <td>2.775558e-17</td>\n",
       "    </tr>\n",
       "    <tr>\n",
       "      <th>HYDA</th>\n",
       "      <td>0.000000e+00</td>\n",
       "      <td>-0.000000e+00</td>\n",
       "    </tr>\n",
       "    <tr>\n",
       "      <th>MALHYDRO</th>\n",
       "      <td>8.881784e-16</td>\n",
       "      <td>0.000000e+00</td>\n",
       "    </tr>\n",
       "    <tr>\n",
       "      <th>...</th>\n",
       "      <td>...</td>\n",
       "      <td>...</td>\n",
       "    </tr>\n",
       "    <tr>\n",
       "      <th>3OMAS160</th>\n",
       "      <td>0.000000e+00</td>\n",
       "      <td>-5.700687e-02</td>\n",
       "    </tr>\n",
       "    <tr>\n",
       "      <th>3OMAR160</th>\n",
       "      <td>0.000000e+00</td>\n",
       "      <td>-5.700687e-03</td>\n",
       "    </tr>\n",
       "    <tr>\n",
       "      <th>3HMAD160</th>\n",
       "      <td>0.000000e+00</td>\n",
       "      <td>0.000000e+00</td>\n",
       "    </tr>\n",
       "    <tr>\n",
       "      <th>EMAR160x</th>\n",
       "      <td>0.000000e+00</td>\n",
       "      <td>-1.368165e-02</td>\n",
       "    </tr>\n",
       "    <tr>\n",
       "      <th>EMAR160y</th>\n",
       "      <td>0.000000e+00</td>\n",
       "      <td>-5.700687e-03</td>\n",
       "    </tr>\n",
       "  </tbody>\n",
       "</table>\n",
       "<p>1125 rows × 2 columns</p>\n",
       "</div>"
      ],
      "text/plain": [
       "<Solution 0.757 at 0x1b5b9def9c8>"
      ]
     },
     "execution_count": 399,
     "metadata": {},
     "output_type": "execute_result"
    }
   ],
   "source": [
    "#check no change in simulation\n",
    "model.optimize()"
   ]
  },
  {
   "cell_type": "code",
   "execution_count": null,
   "metadata": {},
   "outputs": [],
   "source": []
  }
 ],
 "metadata": {
  "kernelspec": {
   "display_name": "Python 3",
   "language": "python",
   "name": "python3"
  },
  "language_info": {
   "codemirror_mode": {
    "name": "ipython",
    "version": 3
   },
   "file_extension": ".py",
   "mimetype": "text/x-python",
   "name": "python",
   "nbconvert_exporter": "python",
   "pygments_lexer": "ipython3",
   "version": "3.7.7"
  }
 },
 "nbformat": 4,
 "nbformat_minor": 4
}
