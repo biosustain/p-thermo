{
 "cells": [
  {
   "cell_type": "markdown",
   "metadata": {},
   "source": [
    "# Introduction\n",
    "In Issue 100, we discuss going about adding gene ID information to the reactions we have in the model. Currently, GPRs are stored based on the original annotation. But since we've added more reactions that we have evidence that should be there we need to ensure consistancy along the model. \n",
    "\n",
    "So to do so, we will make all GPRs fit the RTMO0XXX format we have currently. Then for each gene associated to a reaction, I will add the KEGG ID to the gene annotation so that it can be found back in the published p. thermoglucosidasius genome in KEGG. Finally, in some cases we will add the refseq_name annotation which can contain the gene name if we want."
   ]
  },
  {
   "cell_type": "code",
   "execution_count": 12,
   "metadata": {},
   "outputs": [],
   "source": [
    "import cameo\n",
    "import pandas as pd\n",
    "import cobra.io\n",
    "import escher"
   ]
  },
  {
   "cell_type": "code",
   "execution_count": 19,
   "metadata": {},
   "outputs": [],
   "source": [
    "model = cobra.io.read_sbml_model('../model/p-thermo.xml')"
   ]
  },
  {
   "cell_type": "code",
   "execution_count": 10,
   "metadata": {},
   "outputs": [],
   "source": [
    "model_e_coli = cameo.load_model('iML1515')"
   ]
  },
  {
   "cell_type": "markdown",
   "metadata": {},
   "source": [
    "First, I will make sure that all the genes in the model are compliant with the RTMOXXXXX system given in the original system. To do so, I will add one to the highest number of the current genes (RTMO05952). I will do so by first filtering for the genes without a gene name.\n",
    "\n",
    "Then, for the genes where there was the gene name encoded as gene, I will move that to the gene.annotation['refseq_name'] field.\n",
    "\n",
    "N.B.: for the NADKX genes, they should get the same gene annotation as the NADK reaction as they are side reactions of the same enzyme. I will just fix that by hand"
   ]
  },
  {
   "cell_type": "code",
   "execution_count": 4,
   "metadata": {},
   "outputs": [],
   "source": [
    "model.reactions.NADK1.gene_reaction_rule = 'RTMO02237 or RTMO03852'\n",
    "model.reactions.NADK2.gene_reaction_rule = 'RTMO02237 or RTMO03852'\n",
    "model.reactions.NADK3.gene_reaction_rule = 'RTMO02237 or RTMO03852'\n",
    "model.reactions.NADK4.gene_reaction_rule = 'RTMO02237 or RTMO03852'\n",
    "model.reactions.NADK5.gene_reaction_rule = 'RTMO02237 or RTMO03852'"
   ]
  },
  {
   "cell_type": "code",
   "execution_count": 5,
   "metadata": {},
   "outputs": [],
   "source": [
    "#save&commit\n",
    "cobra.io.write_sbml_model(model,'../model/p-thermo.xml')"
   ]
  },
  {
   "cell_type": "code",
   "execution_count": 67,
   "metadata": {
    "scrolled": true
   },
   "outputs": [],
   "source": [
    "#give all genes without a gene name \n",
    "for rct in model.reactions:\n",
    "    #first filter for reactions without a gene\n",
    "    if not rct.gene_reaction_rule: #reactions without GPR\n",
    "        #filter out for exchange reactions\n",
    "        if rct.id[0:2] in 'EX':\n",
    "            continue\n",
    "        else:\n",
    "            #find newest highest gene number\n",
    "            genes =[]\n",
    "            for gene in model.genes:\n",
    "                if gene.id[0:4] in 'RTMO': #just find the RTMO genes\n",
    "                    genes.append(gene.id[4:]) #add just the numbers\n",
    "            genes.sort(reverse = True) #sort with the highest up top\n",
    "            highest = int(genes[2]) #skip the FA synthase, as this one has a bit of a different numbering\n",
    "            new = highest + 1\n",
    "            rct.gene_reaction_rule = f\"RTMO0{highest+1}\" \n",
    "    elif rct.gene_reaction_rule[0:4] in 'RTMO': #these are fine, just leave them\n",
    "        continue\n",
    "    else: #these are the ones with 'letter' names\n",
    "        #here I need to store the original name, add the RTMO system and then move the old name\n",
    "        old_name = rct.gene_reaction_rule #store name\n",
    "        #then give it a new RTMOXXXXX name, same as above\n",
    "        genes =[]\n",
    "        for gene in model.genes:\n",
    "            if gene.id[0:4] in 'RTMO': #just find the RTMO genes\n",
    "                genes.append(gene.id[4:]) #add just the numbers\n",
    "        genes.sort(reverse = True) #sort with the highest up top\n",
    "        highest = int(genes[2]) #skip the FA synthase, as this one has a bit of a different numbering\n",
    "        new = highest + 1\n",
    "        rct.gene_reaction_rule = f\"RTMO0{highest+1}\" \n",
    "        #then add the old name as an annotation to the gene\n",
    "        new_gene = rct.gene_reaction_rule\n",
    "        model.genes.get_by_id(new_gene).name = old_name\n",
    "        continue"
   ]
  },
  {
   "cell_type": "code",
   "execution_count": 6,
   "metadata": {},
   "outputs": [],
   "source": [
    "#save&commit\n",
    "cobra.io.write_sbml_model(model,'../model/p-thermo.xml')"
   ]
  },
  {
   "cell_type": "markdown",
   "metadata": {},
   "source": [
    "In doing the above, I observed that our model has some genes that are not associated to any reactions. Here I will observe them and remove them."
   ]
  },
  {
   "cell_type": "code",
   "execution_count": 3,
   "metadata": {
    "scrolled": true
   },
   "outputs": [],
   "source": [
    "genes_remove = []\n",
    "for gene in model.genes:\n",
    "    if len(gene.reactions) == 0:\n",
    "        genes_remove.append(gene)\n",
    "    else: \n",
    "        continue"
   ]
  },
  {
   "cell_type": "code",
   "execution_count": 4,
   "metadata": {
    "scrolled": true
   },
   "outputs": [
    {
     "data": {
      "text/plain": [
       "111"
      ]
     },
     "execution_count": 4,
     "metadata": {},
     "output_type": "execute_result"
    }
   ],
   "source": [
    "len(genes_remove)"
   ]
  },
  {
   "cell_type": "code",
   "execution_count": 5,
   "metadata": {},
   "outputs": [],
   "source": [
    "#remove genes with no reaction\n",
    "for gene in genes_remove:\n",
    "    model.genes.remove(gene)"
   ]
  },
  {
   "cell_type": "code",
   "execution_count": 6,
   "metadata": {},
   "outputs": [],
   "source": [
    "#save & commit\n",
    "cobra.io.write_sbml_model(model,'../model/p-thermo.xml')"
   ]
  },
  {
   "cell_type": "markdown",
   "metadata": {},
   "source": [
    "Now that we've maintained consitancy with the RTMO genes, it would be nice to have a bit more information associated to them. For that, I will first try to map the EC-code given to each reaction to the KEGG gene ID associated with it, allowing an easier identification of what the RTMO number means.\n",
    "\n",
    "To do so, I will use this database: http://rest.kegg.jp/link/ptl/enzyme which links each annotation in the kegg genome to an enzyme. The kegg genome that is found will be added to that genes annotation as kegg.genes."
   ]
  },
  {
   "cell_type": "code",
   "execution_count": 3,
   "metadata": {},
   "outputs": [],
   "source": [
    "#import the data\n",
    "df_kegg_genes = pd.read_csv('http://rest.kegg.jp/link/ptl/enzyme', header=None, sep = '\\t')"
   ]
  },
  {
   "cell_type": "code",
   "execution_count": 4,
   "metadata": {},
   "outputs": [],
   "source": [
    "#need to change headers\n",
    "df_kegg_genes.columns = ['EC', 'Gene']"
   ]
  },
  {
   "cell_type": "code",
   "execution_count": 5,
   "metadata": {},
   "outputs": [],
   "source": [
    "#need to get rid of the 'ec:' and 'ptl:' parts\n",
    "df_kegg_genes['EC'] = df_kegg_genes['EC'].str.replace(r'ec:', '')"
   ]
  },
  {
   "cell_type": "code",
   "execution_count": 6,
   "metadata": {},
   "outputs": [],
   "source": [
    "no_anno = []\n",
    "diff_ec = []\n",
    "no_kegg = []\n",
    "for gene in model.genes:\n",
    "    gene.annotation['kegg.genes'] =[]\n",
    "    try:\n",
    "        ec = list(gene.reactions)[0].annotation['ec-code']#lift the ec-codes from the first reaction \n",
    "        if len(str(ec)) > 11: #this is when there are two or more ec codes:\n",
    "            first = list(gene.reactions)[0].annotation['ec-code'][0]\n",
    "        elif len(str(ec)) <= 11: #this is when there is just one ec code:\n",
    "            first = list(gene.reactions)[0].annotation['ec-code']\n",
    "        try: \n",
    "            second = list(gene.reactions)[1].annotation['ec-code']\n",
    "            if first in second: #i.e. the reactions have the same ec code\n",
    "                try:\n",
    "                    kegg_gene = df_kegg_genes.loc[df_kegg_genes[\"EC\"] == first]\n",
    "                    for index, row in kegg_gene.iterrows(): #for each gene found, it should be added\n",
    "                        anno = row['Gene'] #find the KEGG gene for that ec-code\n",
    "                        gene.annotation['kegg.genes'] = gene.annotation['kegg.genes'] + [anno]\n",
    "                except IndexError:\n",
    "                    no_kegg.append(gene.id) #when the e.c. code doesnt have a matching kegg gene\n",
    "            else: #if the two recations have different ec-codes\n",
    "                diff_ec.append(gene.id)\n",
    "        except IndexError: #i.e. if there is no second reaction for that gene\n",
    "            try: #try to map the first ec-code that is there\n",
    "                kegg_gene = df_kegg_genes.loc[df_kegg_genes[\"EC\"] == first]\n",
    "                for index, row in kegg_gene.iterrows(): #for each gene found, it should be added\n",
    "                        anno = row['Gene'] #find the KEGG gene for that ec-code\n",
    "                        gene.annotation['kegg.genes'] = gene.annotation['kegg.genes'] + [anno]\n",
    "            except IndexError:#when the first e.c. code doesnt have a matching kegg gene\n",
    "                #try the second e.c. code\n",
    "                ec2= list(gene.reactions)[0].annotation['ec-code']\n",
    "                if len(str(ec2)) > 11: #this is when there are two or more ec codes:\n",
    "                    second_ec = list(gene.reactions)[0].annotation['ec-code'][1]\n",
    "                elif len(str(ec)) <= 11: #this is when there is just one ec code:\n",
    "                    continue #has been covered by the code above\n",
    "                try:\n",
    "                    kegg_gene = df_kegg_genes.loc[df_kegg_genes[\"EC\"] == second_ec]\n",
    "                    for index, row in kegg_gene.iterrows(): #for each gene found, it should be added\n",
    "                        anno = row['Gene'] #find the KEGG gene for that ec-code\n",
    "                        gene.annotation['kegg.genes'] = gene.annotation['kegg.genes'] + [anno]\n",
    "                except IndexError:\n",
    "                    no_kegg.append(gene.id) #when the first and second e.c. code doesnt have a matching kegg gene\n",
    "    except KeyError: # there is no ec-code in the first reaction, so try the second\n",
    "        no_anno.append(gene.id)        "
   ]
  },
  {
   "cell_type": "code",
   "execution_count": 10,
   "metadata": {},
   "outputs": [],
   "source": [
    "#save&commit\n",
    "cobra.io.write_sbml_model(model,'../model/p-thermo.xml')"
   ]
  },
  {
   "cell_type": "markdown",
   "metadata": {},
   "source": [
    "Now we have three lists: \n",
    "- diff_ec (109 genes): these have reactions with different ec-codes. here I will need to check through all the reactions from the gene and append all of the kegg.genes to each other so that we have the multiple kegg.genes for the gene in our model.\n",
    "\n",
    "\n",
    "- no_kegg (0): So there are no genes with one reaction that has a non-matching Kegg ID.\n",
    "\n",
    "\n",
    "- no_anno (145 genes): the first reaction of this gene has no ec-code and so we can't match a Kegg gene to the gene. Here I will go through all the genes. IF they encode a transport I will ignore them (as these don't have a kegg annotation?) and then see which ones remain and may need more checking.\n",
    " "
   ]
  },
  {
   "cell_type": "markdown",
   "metadata": {},
   "source": [
    "__Fix diff_ec__\n",
    "Here I will write the script that should fix some of the genes that fall in the diff_ec list to decrease the number of genes that didn't have an annotation associated to them."
   ]
  },
  {
   "cell_type": "code",
   "execution_count": 19,
   "metadata": {},
   "outputs": [],
   "source": [
    "for gene in model.genes:\n",
    "    if gene.id in diff_ec: #just get the ones we had an issue with\n",
    "        tot_anno = []\n",
    "        for rct in gene.reactions: #iterate through all the reactions of this gene\n",
    "            ec_codes = rct.annotation['ec-code']  \n",
    "            if len(str(ec_codes)) <= 11: #this is when there is just one ec code:\n",
    "                ec = rct.annotation['ec-code']\n",
    "                try:\n",
    "                    kegg_gene = df_kegg_genes.loc[df_kegg_genes[\"EC\"] == ec]\n",
    "                    for index, row in kegg_gene.iterrows(): #for each gene found, it should be added\n",
    "                        anno = row['Gene'] #find the KEGG gene for that ec-code\n",
    "                        tot_anno.append(anno)\n",
    "                except IndexError:\n",
    "                    continue\n",
    "            elif len(str(ec_codes)) > 11: #this is when there is more than one ec code:\n",
    "                for ec in ec_codes:\n",
    "                    try:\n",
    "                        kegg_gene = df_kegg_genes.loc[df_kegg_genes[\"EC\"] == ec]\n",
    "                        for index, row in kegg_gene.iterrows(): #for each gene found, it should be added\n",
    "                            anno = row['Gene'] #find the KEGG gene for that ec-code\n",
    "                            tot_anno.append(anno)\n",
    "                    except IndexError:\n",
    "                        continue\n",
    "        gene.annotation['kegg.genes'] = tot_anno\n",
    "    else:\n",
    "        continue"
   ]
  },
  {
   "cell_type": "code",
   "execution_count": 20,
   "metadata": {},
   "outputs": [],
   "source": [
    "cobra.io.write_sbml_model(model,'../model/p-thermo.xml')"
   ]
  },
  {
   "cell_type": "markdown",
   "metadata": {},
   "source": [
    "Now I added the KeGG ID to the reactions that were missing one because the first reaction didn't have a matching E.C. code. We've now gone from 425 unannotated genes to 319. \n",
    "\n",
    "Finally I will check what is wrong with the genes in no_anno to try to fix those too. Some of these genes are associated to transport reactions, which do not necessarily come with a gene annotation in Kegg. "
   ]
  },
  {
   "cell_type": "code",
   "execution_count": 11,
   "metadata": {},
   "outputs": [],
   "source": [
    "for gene in model.genes:\n",
    "    if gene.id in no_anno:\n",
    "        if len(gene.reactions) == 1:#when they only have one reaction, check if it is a transport\n",
    "            rct_id = list(gene.reactions)[0].id\n",
    "            if rct_id[-1:] in 't': #remove transport reactions from this list\n",
    "                no_anno.remove(gene.id)\n",
    "            elif rct_id[-3:] in 'abc':\n",
    "                no_anno.remove(gene.id)\n",
    "            elif rct_id[-3:] in 'pts':\n",
    "                no_anno.remove(gene.id)\n",
    "            else:\n",
    "                continue\n",
    "        else: #keep genes with two reactions, then we can check them later\n",
    "            continue"
   ]
  },
  {
   "cell_type": "markdown",
   "metadata": {},
   "source": [
    "So there are only 49 genes which are not transport genes that don't have a Kegg ID associated to them. I will look into them a bit more to try to figure out a solution."
   ]
  },
  {
   "cell_type": "code",
   "execution_count": 12,
   "metadata": {
    "scrolled": true
   },
   "outputs": [
    {
     "data": {
      "text/plain": [
       "49"
      ]
     },
     "execution_count": 12,
     "metadata": {},
     "output_type": "execute_result"
    }
   ],
   "source": [
    "len(no_anno)"
   ]
  },
  {
   "cell_type": "markdown",
   "metadata": {},
   "source": [
    "In some cases, it seems that the first reaction doesn't have an ec-code, but the second one does. So similar to wht i did for the diff_ec list, that code should solve the issue for some of these reactions here too."
   ]
  },
  {
   "cell_type": "code",
   "execution_count": 13,
   "metadata": {},
   "outputs": [],
   "source": [
    "for gene in model.genes:\n",
    "    if gene.id in no_anno: #just get the ones we had an issue with\n",
    "        tot_anno = []\n",
    "        for rct in gene.reactions: #iterate through all the reactions of this gene\n",
    "            try: \n",
    "                ec_codes = rct.annotation['ec-code']  \n",
    "                if len(str(ec_codes)) <= 11: #this is when there is just one ec code:\n",
    "                    ec = rct.annotation['ec-code']\n",
    "                    try:\n",
    "                        kegg_gene = df_kegg_genes.loc[df_kegg_genes[\"EC\"] == ec]\n",
    "                        for index, row in kegg_gene.iterrows(): #for each gene found, it should be added\n",
    "                            anno = row['Gene'] #find the KEGG gene for that ec-code\n",
    "                            tot_anno.append(anno)\n",
    "                    except IndexError:\n",
    "                        continue\n",
    "                elif len(str(ec_codes)) > 11: #this is when there is more than one ec code:\n",
    "                    for ec in ec_codes:\n",
    "                        try:\n",
    "                            kegg_gene = df_kegg_genes.loc[df_kegg_genes[\"EC\"] == ec]\n",
    "                            for index, row in kegg_gene.iterrows(): #for each gene found, it should be added\n",
    "                                anno = row['Gene'] #find the KEGG gene for that ec-code\n",
    "                                tot_anno.append(anno)\n",
    "                        except IndexError:\n",
    "                            continue\n",
    "            \n",
    "            except KeyError:\n",
    "                continue\n",
    "                #print(gene.id)\n",
    "        gene.annotation['kegg.genes'] = tot_anno\n",
    "    else:\n",
    "        continue"
   ]
  },
  {
   "cell_type": "markdown",
   "metadata": {},
   "source": [
    "This only solved the issue for 2 genes... It is something but worth looking into the other ones left more. \n",
    "\n",
    "RTMO12345 appears often: but looking into it, it actually has the kegg.genes associated to it.... so something is wrong with this no_anno list. I should clean it and get rid of anything that actually does have a kegg.gene annotation in it."
   ]
  },
  {
   "cell_type": "code",
   "execution_count": 14,
   "metadata": {},
   "outputs": [],
   "source": [
    "for gene in model.genes:\n",
    "    if gene.id in no_anno:\n",
    "        if len(gene.annotation['kegg.genes']) > 0:#when the gene already has an annotation\n",
    "            no_anno.remove(gene.id) #remove it from the list\n",
    "        else:\n",
    "            continue\n",
    "    else: \n",
    "        continue"
   ]
  },
  {
   "cell_type": "markdown",
   "metadata": {},
   "source": [
    "This again only removed two genes from the list. These are all reactions that don't have an ec-code in their annotation and so won't be mapped to the Kegg_IDs like this. \n",
    "\n",
    "However, there are still many unannotated genes: 299. around 100 of those we know won't be annotated as they are transports, and so there are still about 200 that are unannotated without a logical explanation in my eyes. I will take a look at this a bit more, to see if I can get those annotated further. "
   ]
  },
  {
   "cell_type": "code",
   "execution_count": 27,
   "metadata": {
    "scrolled": true
   },
   "outputs": [
    {
     "data": {
      "text/plain": [
       "299"
      ]
     },
     "execution_count": 27,
     "metadata": {},
     "output_type": "execute_result"
    }
   ],
   "source": [
    "unannotated =[]\n",
    "for genes in model.genes:\n",
    "    if not len(genes.annotation['kegg.genes']):\n",
    "        unannotated.append(genes.id)\n",
    "    else:\n",
    "        continue\n",
    "len(unannotated)"
   ]
  },
  {
   "cell_type": "code",
   "execution_count": 30,
   "metadata": {},
   "outputs": [],
   "source": [
    "#remove transport reactions from unannotated\n",
    "for gene in model.genes:\n",
    "    if gene.id in unannotated:\n",
    "        if len(gene.reactions) == 1:#when they only have one reaction, check if it is a transport\n",
    "            rct_id = list(gene.reactions)[0].id\n",
    "            if rct_id[-1:] in 't': #remove transport reactions from this list\n",
    "                unannotated.remove(gene.id)\n",
    "            elif rct_id[-3:] in 'abc':\n",
    "                unannotated.remove(gene.id)\n",
    "            elif rct_id[-3:] in 'pts':\n",
    "                unannotated.remove(gene.id)\n",
    "            else:\n",
    "                continue\n",
    "        else: #keep genes with two reactions, then we can check them later\n",
    "            continue"
   ]
  },
  {
   "cell_type": "markdown",
   "metadata": {},
   "source": [
    "some of these genes have a reaction, e.g. CAT which has a first ec-code that doesn't match, but a second ec-code that does. So here, I think I can fix this by modifying and running some code i wrote earlier."
   ]
  },
  {
   "cell_type": "code",
   "execution_count": 46,
   "metadata": {},
   "outputs": [],
   "source": [
    "for gene in model.genes:\n",
    "    if gene.id in unannotated: #just get the ones we had an issue with\n",
    "        tot_anno = []\n",
    "        for rct in gene.reactions: #iterate through all the reactions of this gene\n",
    "            try: \n",
    "                ec_codes = rct.annotation['ec-code']  \n",
    "                if len(str(ec_codes)) <= 11: #this is when there is just one ec code:\n",
    "                    ec = rct.annotation['ec-code']\n",
    "                    try:\n",
    "                        kegg_gene = df_kegg_genes.loc[df_kegg_genes[\"EC\"] == ec]\n",
    "                        for index, row in kegg_gene.iterrows(): #for each gene found, it should be added\n",
    "                            anno = row['Gene'] #find the KEGG gene for that ec-code\n",
    "                            tot_anno.append(anno)\n",
    "                    except IndexError:\n",
    "                        continue\n",
    "                elif len(str(ec_codes)) > 11: #this is when there is more than one ec code:\n",
    "                    for ec in ec_codes:\n",
    "                        try:\n",
    "                            kegg_gene = df_kegg_genes.loc[df_kegg_genes[\"EC\"] == ec]\n",
    "                            for index, row in kegg_gene.iterrows(): #for each gene found, it should be added\n",
    "                                anno = row['Gene'] #find the KEGG gene for that ec-code\n",
    "                                tot_anno.append(anno)\n",
    "                        except IndexError:\n",
    "                            continue\n",
    "            except KeyError:\n",
    "                continue\n",
    "            gene.annotation['kegg.genes'] = tot_anno\n",
    "    else:\n",
    "        continue"
   ]
  },
  {
   "cell_type": "code",
   "execution_count": 47,
   "metadata": {
    "scrolled": true
   },
   "outputs": [
    {
     "data": {
      "text/plain": [
       "218"
      ]
     },
     "execution_count": 47,
     "metadata": {},
     "output_type": "execute_result"
    }
   ],
   "source": [
    "unannotated =[]\n",
    "for genes in model.genes:\n",
    "    if not len(genes.annotation['kegg.genes']):\n",
    "        unannotated.append(genes.id)\n",
    "    else:\n",
    "        continue\n",
    "len(unannotated)"
   ]
  },
  {
   "cell_type": "code",
   "execution_count": 48,
   "metadata": {},
   "outputs": [],
   "source": [
    "#remove transport reactions from unannotated\n",
    "for gene in model.genes:\n",
    "    if gene.id in unannotated:\n",
    "        if len(gene.reactions) == 1:#when they only have one reaction, check if it is a transport\n",
    "            rct_id = list(gene.reactions)[0].id\n",
    "            if rct_id[-1:] in 't': #remove transport reactions from this list\n",
    "                unannotated.remove(gene.id)\n",
    "            elif rct_id[-3:] in 'abc':\n",
    "                unannotated.remove(gene.id)\n",
    "            elif rct_id[-3:] in 'pts':\n",
    "                unannotated.remove(gene.id)\n",
    "            else:\n",
    "                continue\n",
    "        else: #keep genes with two reactions, then we can check them later\n",
    "            continue"
   ]
  },
  {
   "cell_type": "code",
   "execution_count": 49,
   "metadata": {},
   "outputs": [
    {
     "data": {
      "text/plain": [
       "120"
      ]
     },
     "execution_count": 49,
     "metadata": {},
     "output_type": "execute_result"
    }
   ],
   "source": [
    "len(unannotated)"
   ]
  },
  {
   "cell_type": "markdown",
   "metadata": {},
   "source": [
    "So now we only have 120 genes without the kegg_id annotation. Looking into these more, this is because their reactions either dont have an ec-code, or the ec-code they have doesn't give a match in the dataframe. So these I will just leave."
   ]
  },
  {
   "cell_type": "code",
   "execution_count": 58,
   "metadata": {},
   "outputs": [],
   "source": [
    "#save&commit\n",
    "cobra.io.write_sbml_model(model,'../model/p-thermo.xml')"
   ]
  },
  {
   "cell_type": "markdown",
   "metadata": {},
   "source": [
    "Another thing i noticed, is that the newly added genes didnt get an SBO number added to them, where they should be. So I will just do that now."
   ]
  },
  {
   "cell_type": "code",
   "execution_count": 73,
   "metadata": {},
   "outputs": [],
   "source": [
    "for gene in model.genes:\n",
    "    if int(gene.id[-4:]) > 5952: #i.e. all the newly added genes\n",
    "        gene.annotation['sbo'] = 'SBO:0000243'\n",
    "    else:\n",
    "        continue"
   ]
  },
  {
   "cell_type": "code",
   "execution_count": 74,
   "metadata": {},
   "outputs": [],
   "source": [
    "#save&commit\n",
    "cobra.io.write_sbml_model(model,'../model/p-thermo.xml')"
   ]
  },
  {
   "cell_type": "markdown",
   "metadata": {},
   "source": [
    "By using the kegg database, we could now also add the uniprot IDs to each of the genes in our model to provide extra information as well. I will add that into the annotation field ['uniprot'] Also in the same manner, we can add the ncbi_proteinid information into the model in the annotation field ['ncbigi']. I will do that now.\n",
    "\n",
    "To do these two things, I will use these following databases:\n",
    "- http://rest.kegg.jp/conv/uniprot/ptl \n",
    "\n",
    "- http://rest.kegg.jp/conv/ncbi-proteinid/ptl"
   ]
  },
  {
   "cell_type": "code",
   "execution_count": 3,
   "metadata": {},
   "outputs": [],
   "source": [
    "#import data for uniprot\n",
    "df_uniprot = pd.read_csv('http://rest.kegg.jp/conv/uniprot/ptl', header=None, sep = '\\t')"
   ]
  },
  {
   "cell_type": "code",
   "execution_count": 4,
   "metadata": {},
   "outputs": [],
   "source": [
    "#need to change headers\n",
    "df_uniprot.columns = ['Gene', 'UniprotID']"
   ]
  },
  {
   "cell_type": "code",
   "execution_count": 5,
   "metadata": {},
   "outputs": [],
   "source": [
    "#need to get rid of the 'up:' and 'ptl:' parts\n",
    "df_uniprot['Gene'] = df_uniprot['Gene'].str.replace(r'ptl:', '')"
   ]
  },
  {
   "cell_type": "code",
   "execution_count": 6,
   "metadata": {},
   "outputs": [],
   "source": [
    "df_uniprot['UniprotID'] = df_uniprot['UniprotID'].str.replace(r'up:', '')"
   ]
  },
  {
   "cell_type": "code",
   "execution_count": 27,
   "metadata": {},
   "outputs": [],
   "source": [
    "no_anno_uni = []\n",
    "\n",
    "for gene in model.genes:\n",
    "    try: #try to lift the genes annotation\n",
    "        tot_anno = []\n",
    "        kegg = gene.annotation['kegg.genes']\n",
    "        if type(kegg) == str: #i.e. there is only one gene annotation\n",
    "            uni_id = df_uniprot.loc[df_uniprot[\"Gene\"] == kegg]\n",
    "            for index, row in uni_id.iterrows(): #for each uniprot ID found, it should be added\n",
    "                    prot_id = row['UniprotID'] #collec tthe uniprot ID\n",
    "                    tot_anno.append(prot_id)\n",
    "        elif type(kegg) == list: #i.e. if there are multiple kegg gene IDs, we need the uniprot ID for each\n",
    "            for anno in kegg: #go through each gene annotation\n",
    "                uni_id = df_uniprot.loc[df_uniprot[\"Gene\"] == anno]\n",
    "                for index, row in uni_id.iterrows(): #for each uniprot ID found, it should be added\n",
    "                    prot_id = row['UniprotID'] #collec tthe uniprot ID\n",
    "                    tot_anno.append(prot_id)\n",
    "        gene.annotation['uniprot'] = tot_anno\n",
    "    except KeyError: #if they dont have the kegg.genes annotation they will be added here\n",
    "        no_anno_uni.append(gene.id)"
   ]
  },
  {
   "cell_type": "code",
   "execution_count": 28,
   "metadata": {
    "scrolled": true
   },
   "outputs": [
    {
     "data": {
      "text/plain": [
       "218"
      ]
     },
     "execution_count": 28,
     "metadata": {},
     "output_type": "execute_result"
    }
   ],
   "source": [
    "len(no_anno_uni) #len should be 218, which it is!"
   ]
  },
  {
   "cell_type": "code",
   "execution_count": 29,
   "metadata": {},
   "outputs": [],
   "source": [
    "#save&commit\n",
    "cobra.io.write_sbml_model(model,'../model/p-thermo.xml')"
   ]
  },
  {
   "cell_type": "markdown",
   "metadata": {},
   "source": [
    "As for the uniprot IDs, I will do the same for the ncbi-protein IDs."
   ]
  },
  {
   "cell_type": "code",
   "execution_count": 3,
   "metadata": {},
   "outputs": [],
   "source": [
    "#import data for uniprot\n",
    "df_ncbi = pd.read_csv('http://rest.kegg.jp/conv/ncbi-proteinid/ptl', header=None, sep = '\\t')"
   ]
  },
  {
   "cell_type": "code",
   "execution_count": 4,
   "metadata": {},
   "outputs": [],
   "source": [
    "#need to change headers\n",
    "df_ncbi.columns = ['Gene', 'NCBIprotID']"
   ]
  },
  {
   "cell_type": "code",
   "execution_count": 5,
   "metadata": {},
   "outputs": [],
   "source": [
    "#need to get rid of the 'ncbi-proteinid:' and 'ptl:' parts\n",
    "df_ncbi['Gene'] = df_ncbi['Gene'].str.replace(r'ptl:', '')"
   ]
  },
  {
   "cell_type": "code",
   "execution_count": 6,
   "metadata": {},
   "outputs": [],
   "source": [
    "df_ncbi['NCBIprotID'] = df_ncbi['NCBIprotID'].str.replace(r'ncbi-proteinid:', '')"
   ]
  },
  {
   "cell_type": "code",
   "execution_count": 7,
   "metadata": {},
   "outputs": [],
   "source": [
    "no_anno_ncbi = []\n",
    "for gene in model.genes:\n",
    "    try: #try to lift the genes annotation\n",
    "        tot_anno = []\n",
    "        kegg = gene.annotation['kegg.genes']\n",
    "        if type(kegg) == str: #i.e. there is only one gene annotation\n",
    "            ncbi_id = df_ncbi.loc[df_ncbi[\"Gene\"] == kegg]\n",
    "            for index, row in ncbi_id.iterrows(): #for each uniprot ID found, it should be added\n",
    "                    prot_id = row['NCBIprotID'] #collec tthe uniprot ID\n",
    "                    tot_anno.append(prot_id)\n",
    "        elif type(kegg) == list: #i.e. if there are multiple kegg gene IDs, we need the uniprot ID for each\n",
    "            for anno in kegg: #go through each gene annotation\n",
    "                ncbi_id = df_ncbi.loc[df_ncbi[\"Gene\"] == anno]\n",
    "                for index, row in ncbi_id.iterrows(): #for each uniprot ID found, it should be added\n",
    "                    prot_id = row['NCBIprotID'] #collec tthe uniprot ID\n",
    "                    tot_anno.append(prot_id)\n",
    "        gene.annotation['ncbigi'] = tot_anno\n",
    "    except KeyError: #if they dont have the kegg.genes annotation they will be added here\n",
    "        no_anno_ncbi.append(gene.id)"
   ]
  },
  {
   "cell_type": "code",
   "execution_count": 8,
   "metadata": {},
   "outputs": [
    {
     "data": {
      "text/plain": [
       "218"
      ]
     },
     "execution_count": 8,
     "metadata": {},
     "output_type": "execute_result"
    }
   ],
   "source": [
    "len(no_anno_ncbi) #len should be 218, which it is!"
   ]
  },
  {
   "cell_type": "code",
   "execution_count": 10,
   "metadata": {},
   "outputs": [],
   "source": [
    "#save&commit\n",
    "cobra.io.write_sbml_model(model,'../model/p-thermo.xml')"
   ]
  },
  {
   "cell_type": "markdown",
   "metadata": {},
   "source": [
    "After the changes done here, I will re-run memote to check that the annotations of the genes have improved. I will attach the report as '../reports/2020-07-02-517b016.html' We can see that the quality of the annotations of the genes has improve to 46%. It is still not great, but also not crucial to stick a lot of energy into improving this further.\n",
    "\n",
    "N.B.: you can see mass balance is no longer 100%, this is an issue, this is from some metabolites that lost their formula. I will add them in now."
   ]
  },
  {
   "cell_type": "code",
   "execution_count": 5,
   "metadata": {},
   "outputs": [],
   "source": [
    "model.metabolites.ps_c.formula = 'C38.14H74.28NO10P'\n",
    "model.metabolites.pa_c.formula = 'C35.14H69.28O8P'\n",
    "model.metabolites.cdpdag_c.formula = 'C44.14H79.28N3O15P2'\n",
    "model.metabolites.aglyc3p_c.formula = 'C19.07H38.14O7P'\n",
    "model.metabolites.pg_c.formula = 'C38.14H75.28O10P'\n",
    "model.metabolites.pgp_c.formula = 'C38.14H76.28O13P2'\n",
    "model.metabolites.pe_c.formula = 'C37.14H74.28NO8P'\n",
    "model.metabolites.clpn_c.formula = 'C73.28H142.56O17P2'\n",
    "model.metabolites.acylACP_c.formula = 'C27.07H51.14O8N2PRS'\n",
    "model.metabolites.acylcoa_c.formula = 'C37.07H63.14O17N7P3S'"
   ]
  },
  {
   "cell_type": "code",
   "execution_count": 20,
   "metadata": {},
   "outputs": [],
   "source": [
    "#delete the formulas which have been shifted to the notes field\n",
    "del model.metabolites.ps_c.notes['FORMULA']\n",
    "del model.metabolites.pa_c.notes['FORMULA']\n",
    "del model.metabolites.cdpdag_c.notes['FORMULA']\n",
    "del model.metabolites.aglyc3p_c.notes['FORMULA']\n",
    "del model.metabolites.pg_c.notes['FORMULA']\n",
    "del model.metabolites.pgp_c.notes['FORMULA']\n",
    "del model.metabolites.pe_c.notes['FORMULA']\n",
    "del model.metabolites.clpn_c.notes['FORMULA']\n",
    "del model.metabolites.acylACP_c.notes['FORMULA']\n",
    "del model.metabolites.acylcoa_c.notes['FORMULA']"
   ]
  },
  {
   "cell_type": "code",
   "execution_count": 21,
   "metadata": {},
   "outputs": [],
   "source": [
    "#save&commit\n",
    "cobra.io.write_sbml_model(model,'../model/p-thermo.xml')"
   ]
  },
  {
   "cell_type": "markdown",
   "metadata": {},
   "source": [
    "Now we have mass balance fixed again, and I've uploaded a new memote report: '../reports/2020-07-02-29b13d9.html'"
   ]
  },
  {
   "cell_type": "markdown",
   "metadata": {},
   "source": [
    "Correcting issues Ben spotted: \n",
    "- The KEGG ids that you got from http://rest.kegg.jp/link/ptl/enzyme are incomplete in the model: they are missing the ptl: prefix. This creates problems when generating the annotation fields: you can check by looking at the links in the .xml. For instance https://identifiers.org/kegg.genes/AOT13_15820 does not work, but https://identifiers.org/kegg.genes/ptl:AOT13_15820 seems to work well.\n",
    "-  The ncbigi field does not exist in https://registry.identifiers.org/registry maybe you were referring to ncbiprotein? Same problem as before: check https://identifiers.org/ncbigi/ALF11189 Vs. https://identifiers.org/ncbiprotein/ALF11189.\n",
    "\n",
    "To fix this, I will revert the previous commits, fix the above code and then re-run it so that this time it is correct."
   ]
  },
  {
   "cell_type": "code",
   "execution_count": 3,
   "metadata": {},
   "outputs": [],
   "source": [
    "for gene in model.genes:\n",
    "    new_ids = []\n",
    "    try:\n",
    "        old_id = gene.annotation['kegg.genes']\n",
    "        if type(old_id) == str:\n",
    "            new_id = f\"ptl:{old_id}\"\n",
    "            new_ids.append(new_id)\n",
    "        elif type(old_id) == list:\n",
    "            for gene_id in old_id:\n",
    "                new_id = f\"ptl:{gene_id}\"\n",
    "                new_ids.append(new_id)\n",
    "        gene.annotation['kegg.genes'] = new_ids        \n",
    "    except KeyError:\n",
    "        continue"
   ]
  },
  {
   "cell_type": "code",
   "execution_count": 5,
   "metadata": {},
   "outputs": [],
   "source": [
    "#save&commit\n",
    "cobra.io.write_sbml_model(model,'../model/p-thermo.xml')"
   ]
  },
  {
   "cell_type": "markdown",
   "metadata": {},
   "source": [
    "Now I'll fix the protein IDs"
   ]
  },
  {
   "cell_type": "code",
   "execution_count": 6,
   "metadata": {},
   "outputs": [],
   "source": [
    "for gene in model.genes:\n",
    "    try:\n",
    "        anno = gene.annotation['ncbigi']\n",
    "        gene.annotation['ncbiprotein'] = anno\n",
    "        del gene.annotation['ncbigi']\n",
    "    except KeyError:\n",
    "        continue"
   ]
  },
  {
   "cell_type": "code",
   "execution_count": 9,
   "metadata": {},
   "outputs": [],
   "source": [
    "#save&commit\n",
    "cobra.io.write_sbml_model(model,'../model/p-thermo.xml')"
   ]
  },
  {
   "cell_type": "code",
   "execution_count": null,
   "metadata": {},
   "outputs": [],
   "source": []
  }
 ],
 "metadata": {
  "kernelspec": {
   "display_name": "Python 3",
   "language": "python",
   "name": "python3"
  },
  "language_info": {
   "codemirror_mode": {
    "name": "ipython",
    "version": 3
   },
   "file_extension": ".py",
   "mimetype": "text/x-python",
   "name": "python",
   "nbconvert_exporter": "python",
   "pygments_lexer": "ipython3",
   "version": "3.7.9"
  }
 },
 "nbformat": 4,
 "nbformat_minor": 4
}
