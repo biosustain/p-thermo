{
 "cells": [
  {
   "cell_type": "markdown",
   "metadata": {},
   "source": [
    "# Introduction\n",
    "Previously, we've noticed that there is quite some redundant information in the notes and annotations field. Generally, it is more accepted to have the information stored in the annotations. \n",
    "Therefore in this model, I will move the information that is also stored in annotations to this field. Overall the notes section should then be empty (except for some comments)"
   ]
  },
  {
   "cell_type": "code",
   "execution_count": 1,
   "metadata": {},
   "outputs": [
    {
     "data": {
      "application/javascript": [
       "\n",
       "(function(root) {\n",
       "  function now() {\n",
       "    return new Date();\n",
       "  }\n",
       "\n",
       "  var force = true;\n",
       "\n",
       "  if (typeof root._bokeh_onload_callbacks === \"undefined\" || force === true) {\n",
       "    root._bokeh_onload_callbacks = [];\n",
       "    root._bokeh_is_loading = undefined;\n",
       "  }\n",
       "\n",
       "  var JS_MIME_TYPE = 'application/javascript';\n",
       "  var HTML_MIME_TYPE = 'text/html';\n",
       "  var EXEC_MIME_TYPE = 'application/vnd.bokehjs_exec.v0+json';\n",
       "  var CLASS_NAME = 'output_bokeh rendered_html';\n",
       "\n",
       "  /**\n",
       "   * Render data to the DOM node\n",
       "   */\n",
       "  function render(props, node) {\n",
       "    var script = document.createElement(\"script\");\n",
       "    node.appendChild(script);\n",
       "  }\n",
       "\n",
       "  /**\n",
       "   * Handle when an output is cleared or removed\n",
       "   */\n",
       "  function handleClearOutput(event, handle) {\n",
       "    var cell = handle.cell;\n",
       "\n",
       "    var id = cell.output_area._bokeh_element_id;\n",
       "    var server_id = cell.output_area._bokeh_server_id;\n",
       "    // Clean up Bokeh references\n",
       "    if (id != null && id in Bokeh.index) {\n",
       "      Bokeh.index[id].model.document.clear();\n",
       "      delete Bokeh.index[id];\n",
       "    }\n",
       "\n",
       "    if (server_id !== undefined) {\n",
       "      // Clean up Bokeh references\n",
       "      var cmd = \"from bokeh.io.state import curstate; print(curstate().uuid_to_server['\" + server_id + \"'].get_sessions()[0].document.roots[0]._id)\";\n",
       "      cell.notebook.kernel.execute(cmd, {\n",
       "        iopub: {\n",
       "          output: function(msg) {\n",
       "            var id = msg.content.text.trim();\n",
       "            if (id in Bokeh.index) {\n",
       "              Bokeh.index[id].model.document.clear();\n",
       "              delete Bokeh.index[id];\n",
       "            }\n",
       "          }\n",
       "        }\n",
       "      });\n",
       "      // Destroy server and session\n",
       "      var cmd = \"import bokeh.io.notebook as ion; ion.destroy_server('\" + server_id + \"')\";\n",
       "      cell.notebook.kernel.execute(cmd);\n",
       "    }\n",
       "  }\n",
       "\n",
       "  /**\n",
       "   * Handle when a new output is added\n",
       "   */\n",
       "  function handleAddOutput(event, handle) {\n",
       "    var output_area = handle.output_area;\n",
       "    var output = handle.output;\n",
       "\n",
       "    // limit handleAddOutput to display_data with EXEC_MIME_TYPE content only\n",
       "    if ((output.output_type != \"display_data\") || (!output.data.hasOwnProperty(EXEC_MIME_TYPE))) {\n",
       "      return\n",
       "    }\n",
       "\n",
       "    var toinsert = output_area.element.find(\".\" + CLASS_NAME.split(' ')[0]);\n",
       "\n",
       "    if (output.metadata[EXEC_MIME_TYPE][\"id\"] !== undefined) {\n",
       "      toinsert[toinsert.length - 1].firstChild.textContent = output.data[JS_MIME_TYPE];\n",
       "      // store reference to embed id on output_area\n",
       "      output_area._bokeh_element_id = output.metadata[EXEC_MIME_TYPE][\"id\"];\n",
       "    }\n",
       "    if (output.metadata[EXEC_MIME_TYPE][\"server_id\"] !== undefined) {\n",
       "      var bk_div = document.createElement(\"div\");\n",
       "      bk_div.innerHTML = output.data[HTML_MIME_TYPE];\n",
       "      var script_attrs = bk_div.children[0].attributes;\n",
       "      for (var i = 0; i < script_attrs.length; i++) {\n",
       "        toinsert[toinsert.length - 1].firstChild.setAttribute(script_attrs[i].name, script_attrs[i].value);\n",
       "        toinsert[toinsert.length - 1].firstChild.textContent = bk_div.children[0].textContent\n",
       "      }\n",
       "      // store reference to server id on output_area\n",
       "      output_area._bokeh_server_id = output.metadata[EXEC_MIME_TYPE][\"server_id\"];\n",
       "    }\n",
       "  }\n",
       "\n",
       "  function register_renderer(events, OutputArea) {\n",
       "\n",
       "    function append_mime(data, metadata, element) {\n",
       "      // create a DOM node to render to\n",
       "      var toinsert = this.create_output_subarea(\n",
       "        metadata,\n",
       "        CLASS_NAME,\n",
       "        EXEC_MIME_TYPE\n",
       "      );\n",
       "      this.keyboard_manager.register_events(toinsert);\n",
       "      // Render to node\n",
       "      var props = {data: data, metadata: metadata[EXEC_MIME_TYPE]};\n",
       "      render(props, toinsert[toinsert.length - 1]);\n",
       "      element.append(toinsert);\n",
       "      return toinsert\n",
       "    }\n",
       "\n",
       "    /* Handle when an output is cleared or removed */\n",
       "    events.on('clear_output.CodeCell', handleClearOutput);\n",
       "    events.on('delete.Cell', handleClearOutput);\n",
       "\n",
       "    /* Handle when a new output is added */\n",
       "    events.on('output_added.OutputArea', handleAddOutput);\n",
       "\n",
       "    /**\n",
       "     * Register the mime type and append_mime function with output_area\n",
       "     */\n",
       "    OutputArea.prototype.register_mime_type(EXEC_MIME_TYPE, append_mime, {\n",
       "      /* Is output safe? */\n",
       "      safe: true,\n",
       "      /* Index of renderer in `output_area.display_order` */\n",
       "      index: 0\n",
       "    });\n",
       "  }\n",
       "\n",
       "  // register the mime type if in Jupyter Notebook environment and previously unregistered\n",
       "  if (root.Jupyter !== undefined) {\n",
       "    var events = require('base/js/events');\n",
       "    var OutputArea = require('notebook/js/outputarea').OutputArea;\n",
       "\n",
       "    if (OutputArea.prototype.mime_types().indexOf(EXEC_MIME_TYPE) == -1) {\n",
       "      register_renderer(events, OutputArea);\n",
       "    }\n",
       "  }\n",
       "\n",
       "  \n",
       "  if (typeof (root._bokeh_timeout) === \"undefined\" || force === true) {\n",
       "    root._bokeh_timeout = Date.now() + 5000;\n",
       "    root._bokeh_failed_load = false;\n",
       "  }\n",
       "\n",
       "  var NB_LOAD_WARNING = {'data': {'text/html':\n",
       "     \"<div style='background-color: #fdd'>\\n\"+\n",
       "     \"<p>\\n\"+\n",
       "     \"BokehJS does not appear to have successfully loaded. If loading BokehJS from CDN, this \\n\"+\n",
       "     \"may be due to a slow or bad network connection. Possible fixes:\\n\"+\n",
       "     \"</p>\\n\"+\n",
       "     \"<ul>\\n\"+\n",
       "     \"<li>re-rerun `output_notebook()` to attempt to load from CDN again, or</li>\\n\"+\n",
       "     \"<li>use INLINE resources instead, as so:</li>\\n\"+\n",
       "     \"</ul>\\n\"+\n",
       "     \"<code>\\n\"+\n",
       "     \"from bokeh.resources import INLINE\\n\"+\n",
       "     \"output_notebook(resources=INLINE)\\n\"+\n",
       "     \"</code>\\n\"+\n",
       "     \"</div>\"}};\n",
       "\n",
       "  function display_loaded() {\n",
       "    var el = document.getElementById(null);\n",
       "    if (el != null) {\n",
       "      el.textContent = \"BokehJS is loading...\";\n",
       "    }\n",
       "    if (root.Bokeh !== undefined) {\n",
       "      if (el != null) {\n",
       "        el.textContent = \"BokehJS \" + root.Bokeh.version + \" successfully loaded.\";\n",
       "      }\n",
       "    } else if (Date.now() < root._bokeh_timeout) {\n",
       "      setTimeout(display_loaded, 100)\n",
       "    }\n",
       "  }\n",
       "\n",
       "\n",
       "  function run_callbacks() {\n",
       "    try {\n",
       "      root._bokeh_onload_callbacks.forEach(function(callback) {\n",
       "        if (callback != null)\n",
       "          callback();\n",
       "      });\n",
       "    } finally {\n",
       "      delete root._bokeh_onload_callbacks\n",
       "    }\n",
       "    console.debug(\"Bokeh: all callbacks have finished\");\n",
       "  }\n",
       "\n",
       "  function load_libs(css_urls, js_urls, callback) {\n",
       "    if (css_urls == null) css_urls = [];\n",
       "    if (js_urls == null) js_urls = [];\n",
       "\n",
       "    root._bokeh_onload_callbacks.push(callback);\n",
       "    if (root._bokeh_is_loading > 0) {\n",
       "      console.debug(\"Bokeh: BokehJS is being loaded, scheduling callback at\", now());\n",
       "      return null;\n",
       "    }\n",
       "    if (js_urls == null || js_urls.length === 0) {\n",
       "      run_callbacks();\n",
       "      return null;\n",
       "    }\n",
       "    console.debug(\"Bokeh: BokehJS not loaded, scheduling load and callback at\", now());\n",
       "    root._bokeh_is_loading = css_urls.length + js_urls.length;\n",
       "\n",
       "    function on_load() {\n",
       "      root._bokeh_is_loading--;\n",
       "      if (root._bokeh_is_loading === 0) {\n",
       "        console.debug(\"Bokeh: all BokehJS libraries/stylesheets loaded\");\n",
       "        run_callbacks()\n",
       "      }\n",
       "    }\n",
       "\n",
       "    function on_error() {\n",
       "      console.error(\"failed to load \" + url);\n",
       "    }\n",
       "\n",
       "    for (var i = 0; i < css_urls.length; i++) {\n",
       "      var url = css_urls[i];\n",
       "      const element = document.createElement(\"link\");\n",
       "      element.onload = on_load;\n",
       "      element.onerror = on_error;\n",
       "      element.rel = \"stylesheet\";\n",
       "      element.type = \"text/css\";\n",
       "      element.href = url;\n",
       "      console.debug(\"Bokeh: injecting link tag for BokehJS stylesheet: \", url);\n",
       "      document.body.appendChild(element);\n",
       "    }\n",
       "\n",
       "    const hashes = {\"https://cdn.bokeh.org/bokeh/release/bokeh-2.0.1.min.js\": \"JpP8FXbgAZLkfur7LiK3j9AGBhHNIvF742meBJrjO2ShJDhCG2I1uVvW+0DUtrmc\", \"https://cdn.bokeh.org/bokeh/release/bokeh-widgets-2.0.1.min.js\": \"xZlADit0Q04ISQEdKg2k3L4W9AwQBAuDs9nJL9fM/WwzL1tEU9VPNezOFX0nLEAz\", \"https://cdn.bokeh.org/bokeh/release/bokeh-tables-2.0.1.min.js\": \"4BuPRZkdMKSnj3zoxiNrQ86XgNw0rYmBOxe7nshquXwwcauupgBF2DHLVG1WuZlV\", \"https://cdn.bokeh.org/bokeh/release/bokeh-gl-2.0.1.min.js\": \"Dv1SQ87hmDqK6S5OhBf0bCuwAEvL5QYL0PuR/F1SPVhCS/r/abjkbpKDYL2zeM19\"};\n",
       "\n",
       "    for (var i = 0; i < js_urls.length; i++) {\n",
       "      var url = js_urls[i];\n",
       "      var element = document.createElement('script');\n",
       "      element.onload = on_load;\n",
       "      element.onerror = on_error;\n",
       "      element.async = false;\n",
       "      element.src = url;\n",
       "      if (url in hashes) {\n",
       "        element.crossOrigin = \"anonymous\";\n",
       "        element.integrity = \"sha384-\" + hashes[url];\n",
       "      }\n",
       "      console.debug(\"Bokeh: injecting script tag for BokehJS library: \", url);\n",
       "      document.head.appendChild(element);\n",
       "    }\n",
       "  };\n",
       "\n",
       "  function inject_raw_css(css) {\n",
       "    const element = document.createElement(\"style\");\n",
       "    element.appendChild(document.createTextNode(css));\n",
       "    document.body.appendChild(element);\n",
       "  }\n",
       "\n",
       "  \n",
       "  var js_urls = [\"https://cdn.bokeh.org/bokeh/release/bokeh-2.0.1.min.js\", \"https://cdn.bokeh.org/bokeh/release/bokeh-widgets-2.0.1.min.js\", \"https://cdn.bokeh.org/bokeh/release/bokeh-tables-2.0.1.min.js\", \"https://cdn.bokeh.org/bokeh/release/bokeh-gl-2.0.1.min.js\"];\n",
       "  var css_urls = [];\n",
       "  \n",
       "\n",
       "  var inline_js = [\n",
       "    function(Bokeh) {\n",
       "      Bokeh.set_log_level(\"info\");\n",
       "    },\n",
       "    function(Bokeh) {\n",
       "    \n",
       "    \n",
       "    }\n",
       "  ];\n",
       "\n",
       "  function run_inline_js() {\n",
       "    \n",
       "    if (root.Bokeh !== undefined || force === true) {\n",
       "      \n",
       "    for (var i = 0; i < inline_js.length; i++) {\n",
       "      inline_js[i].call(root, root.Bokeh);\n",
       "    }\n",
       "    } else if (Date.now() < root._bokeh_timeout) {\n",
       "      setTimeout(run_inline_js, 100);\n",
       "    } else if (!root._bokeh_failed_load) {\n",
       "      console.log(\"Bokeh: BokehJS failed to load within specified timeout.\");\n",
       "      root._bokeh_failed_load = true;\n",
       "    } else if (force !== true) {\n",
       "      var cell = $(document.getElementById(null)).parents('.cell').data().cell;\n",
       "      cell.output_area.append_execute_result(NB_LOAD_WARNING)\n",
       "    }\n",
       "\n",
       "  }\n",
       "\n",
       "  if (root._bokeh_is_loading === 0) {\n",
       "    console.debug(\"Bokeh: BokehJS loaded, going straight to plotting\");\n",
       "    run_inline_js();\n",
       "  } else {\n",
       "    load_libs(css_urls, js_urls, function() {\n",
       "      console.debug(\"Bokeh: BokehJS plotting callback run at\", now());\n",
       "      run_inline_js();\n",
       "    });\n",
       "  }\n",
       "}(window));"
      ],
      "application/vnd.bokehjs_load.v0+json": "\n(function(root) {\n  function now() {\n    return new Date();\n  }\n\n  var force = true;\n\n  if (typeof root._bokeh_onload_callbacks === \"undefined\" || force === true) {\n    root._bokeh_onload_callbacks = [];\n    root._bokeh_is_loading = undefined;\n  }\n\n  \n\n  \n  if (typeof (root._bokeh_timeout) === \"undefined\" || force === true) {\n    root._bokeh_timeout = Date.now() + 5000;\n    root._bokeh_failed_load = false;\n  }\n\n  var NB_LOAD_WARNING = {'data': {'text/html':\n     \"<div style='background-color: #fdd'>\\n\"+\n     \"<p>\\n\"+\n     \"BokehJS does not appear to have successfully loaded. If loading BokehJS from CDN, this \\n\"+\n     \"may be due to a slow or bad network connection. Possible fixes:\\n\"+\n     \"</p>\\n\"+\n     \"<ul>\\n\"+\n     \"<li>re-rerun `output_notebook()` to attempt to load from CDN again, or</li>\\n\"+\n     \"<li>use INLINE resources instead, as so:</li>\\n\"+\n     \"</ul>\\n\"+\n     \"<code>\\n\"+\n     \"from bokeh.resources import INLINE\\n\"+\n     \"output_notebook(resources=INLINE)\\n\"+\n     \"</code>\\n\"+\n     \"</div>\"}};\n\n  function display_loaded() {\n    var el = document.getElementById(null);\n    if (el != null) {\n      el.textContent = \"BokehJS is loading...\";\n    }\n    if (root.Bokeh !== undefined) {\n      if (el != null) {\n        el.textContent = \"BokehJS \" + root.Bokeh.version + \" successfully loaded.\";\n      }\n    } else if (Date.now() < root._bokeh_timeout) {\n      setTimeout(display_loaded, 100)\n    }\n  }\n\n\n  function run_callbacks() {\n    try {\n      root._bokeh_onload_callbacks.forEach(function(callback) {\n        if (callback != null)\n          callback();\n      });\n    } finally {\n      delete root._bokeh_onload_callbacks\n    }\n    console.debug(\"Bokeh: all callbacks have finished\");\n  }\n\n  function load_libs(css_urls, js_urls, callback) {\n    if (css_urls == null) css_urls = [];\n    if (js_urls == null) js_urls = [];\n\n    root._bokeh_onload_callbacks.push(callback);\n    if (root._bokeh_is_loading > 0) {\n      console.debug(\"Bokeh: BokehJS is being loaded, scheduling callback at\", now());\n      return null;\n    }\n    if (js_urls == null || js_urls.length === 0) {\n      run_callbacks();\n      return null;\n    }\n    console.debug(\"Bokeh: BokehJS not loaded, scheduling load and callback at\", now());\n    root._bokeh_is_loading = css_urls.length + js_urls.length;\n\n    function on_load() {\n      root._bokeh_is_loading--;\n      if (root._bokeh_is_loading === 0) {\n        console.debug(\"Bokeh: all BokehJS libraries/stylesheets loaded\");\n        run_callbacks()\n      }\n    }\n\n    function on_error() {\n      console.error(\"failed to load \" + url);\n    }\n\n    for (var i = 0; i < css_urls.length; i++) {\n      var url = css_urls[i];\n      const element = document.createElement(\"link\");\n      element.onload = on_load;\n      element.onerror = on_error;\n      element.rel = \"stylesheet\";\n      element.type = \"text/css\";\n      element.href = url;\n      console.debug(\"Bokeh: injecting link tag for BokehJS stylesheet: \", url);\n      document.body.appendChild(element);\n    }\n\n    const hashes = {\"https://cdn.bokeh.org/bokeh/release/bokeh-2.0.1.min.js\": \"JpP8FXbgAZLkfur7LiK3j9AGBhHNIvF742meBJrjO2ShJDhCG2I1uVvW+0DUtrmc\", \"https://cdn.bokeh.org/bokeh/release/bokeh-widgets-2.0.1.min.js\": \"xZlADit0Q04ISQEdKg2k3L4W9AwQBAuDs9nJL9fM/WwzL1tEU9VPNezOFX0nLEAz\", \"https://cdn.bokeh.org/bokeh/release/bokeh-tables-2.0.1.min.js\": \"4BuPRZkdMKSnj3zoxiNrQ86XgNw0rYmBOxe7nshquXwwcauupgBF2DHLVG1WuZlV\", \"https://cdn.bokeh.org/bokeh/release/bokeh-gl-2.0.1.min.js\": \"Dv1SQ87hmDqK6S5OhBf0bCuwAEvL5QYL0PuR/F1SPVhCS/r/abjkbpKDYL2zeM19\"};\n\n    for (var i = 0; i < js_urls.length; i++) {\n      var url = js_urls[i];\n      var element = document.createElement('script');\n      element.onload = on_load;\n      element.onerror = on_error;\n      element.async = false;\n      element.src = url;\n      if (url in hashes) {\n        element.crossOrigin = \"anonymous\";\n        element.integrity = \"sha384-\" + hashes[url];\n      }\n      console.debug(\"Bokeh: injecting script tag for BokehJS library: \", url);\n      document.head.appendChild(element);\n    }\n  };\n\n  function inject_raw_css(css) {\n    const element = document.createElement(\"style\");\n    element.appendChild(document.createTextNode(css));\n    document.body.appendChild(element);\n  }\n\n  \n  var js_urls = [\"https://cdn.bokeh.org/bokeh/release/bokeh-2.0.1.min.js\", \"https://cdn.bokeh.org/bokeh/release/bokeh-widgets-2.0.1.min.js\", \"https://cdn.bokeh.org/bokeh/release/bokeh-tables-2.0.1.min.js\", \"https://cdn.bokeh.org/bokeh/release/bokeh-gl-2.0.1.min.js\"];\n  var css_urls = [];\n  \n\n  var inline_js = [\n    function(Bokeh) {\n      Bokeh.set_log_level(\"info\");\n    },\n    function(Bokeh) {\n    \n    \n    }\n  ];\n\n  function run_inline_js() {\n    \n    if (root.Bokeh !== undefined || force === true) {\n      \n    for (var i = 0; i < inline_js.length; i++) {\n      inline_js[i].call(root, root.Bokeh);\n    }\n    } else if (Date.now() < root._bokeh_timeout) {\n      setTimeout(run_inline_js, 100);\n    } else if (!root._bokeh_failed_load) {\n      console.log(\"Bokeh: BokehJS failed to load within specified timeout.\");\n      root._bokeh_failed_load = true;\n    } else if (force !== true) {\n      var cell = $(document.getElementById(null)).parents('.cell').data().cell;\n      cell.output_area.append_execute_result(NB_LOAD_WARNING)\n    }\n\n  }\n\n  if (root._bokeh_is_loading === 0) {\n    console.debug(\"Bokeh: BokehJS loaded, going straight to plotting\");\n    run_inline_js();\n  } else {\n    load_libs(css_urls, js_urls, function() {\n      console.debug(\"Bokeh: BokehJS plotting callback run at\", now());\n      run_inline_js();\n    });\n  }\n}(window));"
     },
     "metadata": {},
     "output_type": "display_data"
    }
   ],
   "source": [
    "import cameo\n",
    "import pandas as pd\n",
    "import cobra.io"
   ]
  },
  {
   "cell_type": "code",
   "execution_count": 121,
   "metadata": {},
   "outputs": [],
   "source": [
    "model = cobra.io.read_sbml_model('../model/g-thermo.xml')"
   ]
  },
  {
   "cell_type": "code",
   "execution_count": 3,
   "metadata": {},
   "outputs": [],
   "source": [
    "model_e_coli = cameo.load_model('iML1515')"
   ]
  },
  {
   "cell_type": "markdown",
   "metadata": {},
   "source": [
    "# Metabolites\n",
    "If metabolites already have information for that field in the annotations, we will let that one predominate. Alternatively, we will then fill it up with the information from notes.\n",
    "\n",
    "Notes contain:\n",
    "- KEGG: should be in annotation\n",
    "- NAME: Leave for now. We've already gone through many of these by hand, due to an issue of automatic conversion the end of some names were cut off. Also, as this contains some alternate names for the metabolite it can be usefull to keep.\n",
    "- ChEBI: should be in annotation\n"
   ]
  },
  {
   "cell_type": "code",
   "execution_count": 5,
   "metadata": {
    "scrolled": true
   },
   "outputs": [
    {
     "name": "stdout",
     "output_type": "stream",
     "text": [
      "focytB561_c\n",
      "Biomass_c\n",
      "Biomass_e\n",
      "sbt__D_e\n",
      "melib_e\n",
      "tag1p__D_c\n",
      "amylose_e\n",
      "pyr_e\n",
      "for_e\n"
     ]
    }
   ],
   "source": [
    "#check KEGG info\n",
    "for met in model.metabolites:\n",
    "    try:\n",
    "        kegg_anno = met.annotation['kegg.compound'] #try to find if there is already info in the annotation\n",
    "        if len(kegg_anno) > 0:\n",
    "            try: \n",
    "                del met.notes['KEGG'] #delete the notes if the metabolite has it\n",
    "            except KeyError: \n",
    "                continue #if it doesn't have a KEGG in the notes but has the annotation, just continue\n",
    "        else: \n",
    "            continue\n",
    "    except KeyError:\n",
    "        try:\n",
    "            kegg_note = met.notes['KEGG'] #lift KEGG ID from notes\n",
    "            met.annotation['kegg.compound'] = kegg_note #move KEGG ID to annotation\n",
    "            del met.notes['KEGG'] #delete the info in notes\n",
    "        except KeyError:\n",
    "            print (met.id)"
   ]
  },
  {
   "cell_type": "markdown",
   "metadata": {},
   "source": [
    "So there are 9 metabolites without KEGG in the annotation or notes. For the Biomass, this makes sense. For the others I will check and fix this. "
   ]
  },
  {
   "cell_type": "code",
   "execution_count": 6,
   "metadata": {},
   "outputs": [],
   "source": [
    "model.metabolites.focytB561_c.annotation['kegg.compound'] = 'C05183'"
   ]
  },
  {
   "cell_type": "code",
   "execution_count": 7,
   "metadata": {},
   "outputs": [],
   "source": [
    "model.metabolites.sbt__D_e.annotation = model.metabolites.sbt__D_c.annotation"
   ]
  },
  {
   "cell_type": "code",
   "execution_count": 8,
   "metadata": {},
   "outputs": [],
   "source": [
    "model.metabolites.melib_e.annotation = model.metabolites.melib_c.annotation"
   ]
  },
  {
   "cell_type": "code",
   "execution_count": 9,
   "metadata": {},
   "outputs": [],
   "source": [
    "#tagatose 1 phosphate doesnt have a kegg number, but does have a MetanetX: so I will add this instead.\n",
    "model.metabolites.tag1p__D_c.annotation['metanetx.chemical'] = 'MNXM11293'"
   ]
  },
  {
   "cell_type": "code",
   "execution_count": 10,
   "metadata": {},
   "outputs": [],
   "source": [
    "model.metabolites.amylose_e.annotation = model.metabolites.amylose_c.annotation"
   ]
  },
  {
   "cell_type": "code",
   "execution_count": 11,
   "metadata": {},
   "outputs": [],
   "source": [
    "model.metabolites.pyr_e.annotation = model.metabolites.pyr_c.annotation"
   ]
  },
  {
   "cell_type": "code",
   "execution_count": 12,
   "metadata": {},
   "outputs": [],
   "source": [
    "model.metabolites.for_e.annotation = model.metabolites.for_c.annotation"
   ]
  },
  {
   "cell_type": "code",
   "execution_count": 13,
   "metadata": {},
   "outputs": [],
   "source": [
    "#save&commit\n",
    "cobra.io.write_sbml_model(model,'../model/g-thermo.xml')"
   ]
  },
  {
   "cell_type": "markdown",
   "metadata": {},
   "source": [
    "### Chebi"
   ]
  },
  {
   "cell_type": "code",
   "execution_count": 4,
   "metadata": {},
   "outputs": [
    {
     "name": "stdout",
     "output_type": "stream",
     "text": [
      "octdecacp_c\n",
      "3hpalmACP_c\n",
      "3hmrsACP_c\n",
      "dodecacp_c\n",
      "3hdecACP_c\n",
      "toct2eACP_c\n",
      "3hoctACP_c\n",
      "but2eACP_c\n",
      "6dg_c\n",
      "cellb_c\n",
      "stys_c\n",
      "cellulose_c\n",
      "starch_c\n",
      "focytB561_c\n",
      "decdp_c\n",
      "dextrin_c\n",
      "5mtr_c\n",
      "cellb6p_c\n",
      "3hbutACP_c\n",
      "Biomass_c\n",
      "Biomass_e\n",
      "cmtdepp_c\n",
      "cthzp_c\n",
      "enzcys_c\n",
      "enzscys_c\n",
      "aglyc3p_c\n",
      "cellb_e\n",
      "gtbi_e\n",
      "gtbi_c\n",
      "tura_c\n",
      "tura_e\n",
      "kdg2_e\n",
      "kdg2_c\n",
      "dglcn5_e\n",
      "dglcn5_c\n",
      "mdgp_e\n",
      "mdgp_c\n",
      "tag__D_e\n",
      "tag1p__D_c\n",
      "tagdp__D_c\n"
     ]
    }
   ],
   "source": [
    "#check Chebi info\n",
    "for met in model.metabolites:\n",
    "    try:\n",
    "        chebi_anno = met.annotation['chebi'] #try to find if there is already info in the annotation\n",
    "        if len(chebi_anno) > 0:\n",
    "            try: \n",
    "                del met.notes['ChEBI'] #delete the notes if the metabolite has it\n",
    "            except KeyError: \n",
    "                continue #if it doesn't have a KEGG in the notes but has the annotation, just continue\n",
    "        else: \n",
    "            continue\n",
    "    except KeyError:\n",
    "        try:\n",
    "            kegg_note = met.notes['ChEBI'] #lift KEGG ID from notes\n",
    "            met.annotation['chebi'] = kegg_note #move KEGG ID to annotation\n",
    "            del met.notes['ChEBI'] #delete the info in notes\n",
    "        except KeyError:\n",
    "            print (met.id)"
   ]
  },
  {
   "cell_type": "code",
   "execution_count": 5,
   "metadata": {},
   "outputs": [],
   "source": [
    "#save & commit\n",
    "cobra.io.write_sbml_model(model,'../model/g-thermo.xml')"
   ]
  },
  {
   "cell_type": "markdown",
   "metadata": {},
   "source": [
    "Quite some metabolites do not have the Chebi associated to them. However this is fine, as they will contain atleast a KEGG or metanetX in the annotation. Now I will check that every metabolite only has the name left in the notes field."
   ]
  },
  {
   "cell_type": "code",
   "execution_count": 18,
   "metadata": {},
   "outputs": [],
   "source": [
    "for met in model.metabolites:\n",
    "    try:\n",
    "        met.notes['PubChem']\n",
    "        del met.notes['PubChem']\n",
    "    except KeyError:\n",
    "        continue "
   ]
  },
  {
   "cell_type": "code",
   "execution_count": 19,
   "metadata": {},
   "outputs": [],
   "source": [
    "for met in model.metabolites:\n",
    "    try :\n",
    "        met.notes['EXACT_MASS']\n",
    "        del met.notes['EXACT_MASS']\n",
    "    except KeyError:\n",
    "        continue "
   ]
  },
  {
   "cell_type": "code",
   "execution_count": 20,
   "metadata": {},
   "outputs": [],
   "source": [
    "for met in model.metabolites:\n",
    "    try:\n",
    "        met.notes['MODULE']\n",
    "        del met.notes['MODULE']\n",
    "    except KeyError:\n",
    "        continue "
   ]
  },
  {
   "cell_type": "code",
   "execution_count": 21,
   "metadata": {},
   "outputs": [],
   "source": [
    "for met in model.metabolites:\n",
    "    try:\n",
    "        met.notes['KNApSAcK']\n",
    "        del met.notes['KNApSAcK']\n",
    "    except KeyError:\n",
    "        continue "
   ]
  },
  {
   "cell_type": "code",
   "execution_count": 22,
   "metadata": {},
   "outputs": [],
   "source": [
    "for met in model.metabolites:\n",
    "    try:\n",
    "        met.notes['3DMET']\n",
    "        del met.notes['3DMET']\n",
    "    except KeyError:\n",
    "        continue "
   ]
  },
  {
   "cell_type": "code",
   "execution_count": 23,
   "metadata": {},
   "outputs": [],
   "source": [
    "for met in model.metabolites:\n",
    "    try:\n",
    "        met.notes['NIKKAJI']\n",
    "        del met.notes['NIKKAJI']\n",
    "    except KeyError:\n",
    "        continue \n"
   ]
  },
  {
   "cell_type": "code",
   "execution_count": 24,
   "metadata": {},
   "outputs": [],
   "source": [
    "for met in model.metabolites:\n",
    "    try:\n",
    "        met.notes['PDB-CCD']\n",
    "        del met.notes['PDB-CCD']\n",
    "    except KeyError:\n",
    "        continue "
   ]
  },
  {
   "cell_type": "code",
   "execution_count": 25,
   "metadata": {},
   "outputs": [],
   "source": [
    "for met in model.metabolites:\n",
    "    try:\n",
    "        met.notes['LIPIDMAPS']\n",
    "        del met.notes['LIPIDMAPS']\n",
    "    except KeyError:\n",
    "        continue "
   ]
  },
  {
   "cell_type": "code",
   "execution_count": 26,
   "metadata": {},
   "outputs": [],
   "source": [
    "for met in model.metabolites:\n",
    "    try:\n",
    "        met.notes['CAS']\n",
    "        del met.notes['CAS']\n",
    "    except KeyError:\n",
    "        continue "
   ]
  },
  {
   "cell_type": "code",
   "execution_count": 27,
   "metadata": {},
   "outputs": [
    {
     "name": "stdout",
     "output_type": "stream",
     "text": [
      "atp_c\n",
      "actn__R_c\n",
      "actn_c\n",
      "hacc_c\n",
      "mdgp_e\n",
      "mdgp_c\n"
     ]
    }
   ],
   "source": [
    "for met in model.metabolites:\n",
    "    if len (met.notes) == 0: #metabolites with no notes\n",
    "        continue\n",
    "    elif len(met.notes) == 1: #metabolites with just one note\n",
    "        try:\n",
    "            name = met.notes['NAME']\n",
    "        except KeyError:\n",
    "            print (met.id)\n",
    "    else:\n",
    "        print (met.id)"
   ]
  },
  {
   "cell_type": "markdown",
   "metadata": {},
   "source": [
    "So it some metabolites still have some notes. I will inspect what they are on a case by case basis and decide what to do with them."
   ]
  },
  {
   "cell_type": "code",
   "execution_count": 28,
   "metadata": {},
   "outputs": [],
   "source": [
    "model.metabolites.atp_c.notes = {}"
   ]
  },
  {
   "cell_type": "code",
   "execution_count": 29,
   "metadata": {},
   "outputs": [],
   "source": [
    "del model.metabolites.actn__R_c.notes['KEGG_COMMENT']"
   ]
  },
  {
   "cell_type": "code",
   "execution_count": 30,
   "metadata": {},
   "outputs": [],
   "source": [
    "del model.metabolites.actn_c.notes['KEGG_COMMENT']"
   ]
  },
  {
   "cell_type": "code",
   "execution_count": 31,
   "metadata": {},
   "outputs": [],
   "source": [
    "del model.metabolites.hacc_c.notes['KEGG_COMMENT']"
   ]
  },
  {
   "cell_type": "code",
   "execution_count": 32,
   "metadata": {},
   "outputs": [],
   "source": [
    "model.metabolites.mdgp_e.notes = {}"
   ]
  },
  {
   "cell_type": "code",
   "execution_count": 33,
   "metadata": {},
   "outputs": [],
   "source": [
    "model.metabolites.mdgp_c.notes={}"
   ]
  },
  {
   "cell_type": "code",
   "execution_count": 35,
   "metadata": {},
   "outputs": [],
   "source": [
    "#save&commit\n",
    "cobra.io.write_sbml_model(model,'../model/g-thermo.xml')"
   ]
  },
  {
   "cell_type": "markdown",
   "metadata": {},
   "source": [
    "Check that every metabolite has either Chebi or Kegg annotation"
   ]
  },
  {
   "cell_type": "code",
   "execution_count": 36,
   "metadata": {},
   "outputs": [
    {
     "name": "stdout",
     "output_type": "stream",
     "text": [
      "Biomass_c\n",
      "Biomass_e\n",
      "tag1p__D_c\n"
     ]
    }
   ],
   "source": [
    "for met in model.metabolites: \n",
    "    if len(met.annotation) == 0:\n",
    "        print(met.id)\n",
    "    else:\n",
    "        try:\n",
    "            met.annotation['kegg.compound']\n",
    "        except KeyError:\n",
    "            try:\n",
    "                met.annotation['chebi']\n",
    "            except KeyError:\n",
    "                print(met.id)"
   ]
  },
  {
   "cell_type": "markdown",
   "metadata": {},
   "source": [
    "So only one metabolite lacks a Kegg or chebi annotation, tag1p__D_c. But we gave it a metanetx annotation so the metabolite can still be traced back."
   ]
  },
  {
   "cell_type": "code",
   "execution_count": 37,
   "metadata": {},
   "outputs": [
    {
     "data": {
      "text/plain": [
       "{'metanetx.chemical': 'MNXM11293'}"
      ]
     },
     "execution_count": 37,
     "metadata": {},
     "output_type": "execute_result"
    }
   ],
   "source": [
    "model.metabolites.tag1p__D_c.annotation"
   ]
  },
  {
   "cell_type": "markdown",
   "metadata": {},
   "source": [
    "# Reactions\n",
    "Annotation field can contain: ec-code, kegg-reaction, metanetx.reaction, rhea and sbo. These fields may also be present in the notes and so should be removed from notes to prevent duplicate information. \n",
    "\n",
    "So from the notes:\n",
    "- Subsystem: I will remove this, as it has been moved to the group field and modified in notebook 34. \n",
    "- Gene_association: Remove, this is stored in the GPR field also.\n",
    "- KEGG ID: move to kegg.reaction annotation and delete\n",
    "- Enzyme: move to ec-code and remove\n",
    "- Name: Contains some alternate names for reactions, can be left. \n",
    "- Definition: This describes the stoichiometry of the reaction. This can just be found when looking at the reaction in the model itself, as may become redundant if the reaction is changed and this is wrong."
   ]
  },
  {
   "cell_type": "code",
   "execution_count": 33,
   "metadata": {},
   "outputs": [
    {
     "name": "stdout",
     "output_type": "stream",
     "text": [
      "LALDO2x\n",
      "PGL\n",
      "GTBIHY\n",
      "TURAHY\n",
      "KDG2R\n",
      "DGLCN5R\n",
      "BGAL\n",
      "ALCD1\n",
      "TAG1PK\n",
      "TGBPA\n",
      "SUCD5\n",
      "ATPS4r\n",
      "Kt2\n",
      "CYTBO3\n"
     ]
    }
   ],
   "source": [
    "#check KEGG info\n",
    "for rct in model.reactions:\n",
    "    if rct.id[:2] in 'EX':\n",
    "        continue\n",
    "    elif rct.id[-1:] in ['t', 's', 'c']: #get rid of transports, we will tackle those later\n",
    "        continue\n",
    "    else:\n",
    "        try:\n",
    "            kegg_anno = rct.annotation['kegg.reaction'] #try to find if there is already info in the annotation\n",
    "            if len(kegg_anno) > 0:\n",
    "                try: \n",
    "                    del rct.notes['KEGG ID'] #delete the notes if the metabolite has it\n",
    "                except KeyError: \n",
    "                    continue #if it doesn't have a KEGG in the notes but has the annotation, just continue\n",
    "            else: \n",
    "                continue\n",
    "        except KeyError:\n",
    "            try:\n",
    "                kegg_note = rct.notes['KEGG ID'] #lift KEGG ID from notes\n",
    "                rct.annotation['kegg.reaction'] = kegg_note #move KEGG ID to annotation\n",
    "                del rct.notes['KEGG ID'] #delete the info in notes\n",
    "            except KeyError:\n",
    "                try:\n",
    "                    kegg_note_wrong = rct.notes['ID'] #When Kegg ID is stored wrongly in the ID field instead\n",
    "                    rct.annotation['kegg.reaction'] = kegg_note_wrong #move to annotation\n",
    "                    del rct.notes['ID'] #delete note\n",
    "                except KeyError:\n",
    "                    print (rct.id)"
   ]
  },
  {
   "cell_type": "markdown",
   "metadata": {},
   "source": [
    "The reactions that did not have the KEGG ID in either notes or annotations will be inspected one by one now."
   ]
  },
  {
   "cell_type": "code",
   "execution_count": 34,
   "metadata": {},
   "outputs": [],
   "source": [
    "model.reactions.LALDO2x.annotation = model_e_coli.reactions.LALDO2x.annotation"
   ]
  },
  {
   "cell_type": "code",
   "execution_count": 35,
   "metadata": {},
   "outputs": [],
   "source": [
    "model.reactions.PGL.annotation = model_e_coli.reactions.PGL.annotation"
   ]
  },
  {
   "cell_type": "code",
   "execution_count": 36,
   "metadata": {},
   "outputs": [],
   "source": [
    "model.reactions.KDG2R.annotation['kegg.reaction'] = 'R01739'\n",
    "model.reactions.KDG2R.annotation['ec-code'] = '1.1.1.215'\n",
    "model.reactions.KDG2R.annotation['rhea']= '16656'\n",
    "model.reactions.KDG2R.annotation['sbo'] ='SBO:0000176'\n",
    "model.reactions.KDG2R.annotation['metanetx.reaction']='MNXR94784'"
   ]
  },
  {
   "cell_type": "code",
   "execution_count": 37,
   "metadata": {},
   "outputs": [],
   "source": [
    "model.metabolites.glcn__D_c.name = 'D-Gluconate'"
   ]
  },
  {
   "cell_type": "code",
   "execution_count": 38,
   "metadata": {},
   "outputs": [],
   "source": [
    "model.reactions.DGLCN5R.annotation['ec-code'] = '1.1.1.69'\n",
    "model.reactions.DGLCN5R.annotation['kegg.reaction'] = 'R01740'\n",
    "model.reactions.DGLCN5R.annotation['rhea'] = '23939'\n",
    "model.reactions.DGLCN5R.annotation['sbo'] = 'SBO:0000176'\n",
    "model.reactions.DGLCN5R.annotation['metanetx.reaction'] = 'MNXR107148'"
   ]
  },
  {
   "cell_type": "code",
   "execution_count": 39,
   "metadata": {},
   "outputs": [],
   "source": [
    "model.reactions.BGAL.annotation['sbo'] = 'SBO:0000176'"
   ]
  },
  {
   "cell_type": "code",
   "execution_count": 40,
   "metadata": {},
   "outputs": [],
   "source": [
    "model.reactions.ALCD1.annotation['kegg.reaction']= 'R00605'\n",
    "model.reactions.ALCD1.annotation['ec-code'] = '1.1.1.244'\n",
    "model.reactions.ALCD1.annotation['sbo'] = 'SBO:0000176'\n",
    "model.reactions.ALCD1.notes = {}\n",
    "model.reactions.ALCD1.annotation['metanetx.reaction'] = 'MNXR95708'"
   ]
  },
  {
   "cell_type": "code",
   "execution_count": 41,
   "metadata": {},
   "outputs": [],
   "source": [
    "model.reactions.TAG1PK.annotation['sbo'] = 'SBO:0000176'\n",
    "model.reactions.TAG1PK.annotation['ec-code'] = '2.7.1.B6'"
   ]
  },
  {
   "cell_type": "code",
   "execution_count": 42,
   "metadata": {},
   "outputs": [],
   "source": [
    "model.reactions.TGBPA.name = 'Tagatose-bisphosphate aldolase'"
   ]
  },
  {
   "cell_type": "code",
   "execution_count": 43,
   "metadata": {},
   "outputs": [],
   "source": [
    "model.reactions.TGBPA.annotation = model_e_coli.reactions.TGBPA.annotation"
   ]
  },
  {
   "cell_type": "code",
   "execution_count": 44,
   "metadata": {},
   "outputs": [],
   "source": [
    "model.reactions.SUCD5.annotation['sbo'] = 'SBO:0000176'\n",
    "model.reactions.SUCD5.annotation['kegg.reaction'] = 'R02164'\n",
    "model.reactions.SUCD5.annotation['ec-code'] = '1.3.5.1'\n",
    "model.reactions.SUCD5.annotation['metanetx.reaction'] = 'MNXR107340'"
   ]
  },
  {
   "cell_type": "code",
   "execution_count": 45,
   "metadata": {},
   "outputs": [],
   "source": [
    "model.reactions.LTHRK.annotation['sbo'] = 'SBO:0000176'\n",
    "model.reactions.LTHRK.annotation['kegg.reaction'] = 'R06531'\n",
    "model.reactions.LTHRK.annotation['ec-code'] = '2.7.1.177'\n",
    "model.reactions.LTHRK.annotation['metanetx.reaction'] = 'MNXR101251'"
   ]
  },
  {
   "cell_type": "code",
   "execution_count": 46,
   "metadata": {},
   "outputs": [],
   "source": [
    "model.reactions.ATPS4r.annotation['sbo'] = 'SBO:0000185'\n",
    "model.reactions.ATPS4r.annotation['ec-code'] = '7.1.2.2'\n",
    "model.reactions.ATPS4r.annotation['metanetx.reaction'] = 'MNXR96136'\n",
    "model.reactions.ATPS4r.annotation['seed.reaction'] = 'rxn10042'"
   ]
  },
  {
   "cell_type": "code",
   "execution_count": 47,
   "metadata": {},
   "outputs": [],
   "source": [
    "model.reactions.Kt2.annotation['sbo'] = 'SBO:0000185'\n",
    "model.reactions.Kt2.annotation['metanetx.reaction'] = 'MNXR100951'\n",
    "model.reactions.Kt2.annotation['seed.reaction'] = 'rxn05595'"
   ]
  },
  {
   "cell_type": "code",
   "execution_count": 48,
   "metadata": {},
   "outputs": [],
   "source": [
    "model.reactions.CYTBO3.annotation['sbo'] = 'SBO:0000185'\n",
    "model.reactions.CYTBO3.annotation['metanetx.reaction'] = 'MNXR97035'\n",
    "model.reactions.CYTBO3.annotation['seed.reaction'] = 'rxn10113'"
   ]
  },
  {
   "cell_type": "code",
   "execution_count": 49,
   "metadata": {},
   "outputs": [],
   "source": [
    "#save & commit\n",
    "cobra.io.write_sbml_model(model,'../model/g-thermo.xml')"
   ]
  },
  {
   "cell_type": "markdown",
   "metadata": {},
   "source": [
    "### EC info"
   ]
  },
  {
   "cell_type": "code",
   "execution_count": 39,
   "metadata": {},
   "outputs": [
    {
     "name": "stdout",
     "output_type": "stream",
     "text": [
      "MALHYDRO\n",
      "BCFASYN\n",
      "BCFASYN2\n",
      "BCFASYN3\n",
      "UPP1S\n",
      "AMACT\n",
      "ACEDIA\n",
      "GTBIHY\n",
      "TURAHY\n",
      "BGAL\n",
      "Kt2\n",
      "CYTBO3\n"
     ]
    }
   ],
   "source": [
    "#check EC info\n",
    "for rct in model.reactions:\n",
    "    if rct.id[:2] in 'EX':\n",
    "        continue\n",
    "    elif rct.id[-1:] in ['t', 's', 'c']: #get rid of transports, we will tackle those later\n",
    "        continue\n",
    "    else:\n",
    "        try:\n",
    "            ec_anno = rct.annotation['ec-code'] #try to find if there is already info in the annotation\n",
    "            if len(ec_anno) > 0:\n",
    "                try: \n",
    "                    del rct.notes['ENZYME'] #delete the notes if the metabolite has it\n",
    "                except KeyError: \n",
    "                    continue #if it doesn't have an EC in the notes but has the annotation, just continue\n",
    "            else: \n",
    "                continue\n",
    "        except KeyError:\n",
    "            try:\n",
    "                ec_note = rct.notes['ENZYME'] #lift KEGG ID from notes\n",
    "                rct.annotation['ec-code'] = ec_note #move KEGG ID to annotation\n",
    "                del rct.notes['ENZYME'] #delete the info in notes\n",
    "            except KeyError:\n",
    "                print (rct.id)"
   ]
  },
  {
   "cell_type": "markdown",
   "metadata": {},
   "source": [
    "Most of these reactions are fine without an ec code because they contain significant other information that can allow them to be traced back. IF not, they are changed below."
   ]
  },
  {
   "cell_type": "code",
   "execution_count": 40,
   "metadata": {
    "scrolled": true
   },
   "outputs": [],
   "source": [
    "del model.reactions.MALHYDRO.annotation['metanetx.reaction']"
   ]
  },
  {
   "cell_type": "code",
   "execution_count": 41,
   "metadata": {
    "scrolled": true
   },
   "outputs": [],
   "source": [
    "model.reactions.AMACT.annotation['ec-code'] = '2.3.1.180'"
   ]
  },
  {
   "cell_type": "code",
   "execution_count": 42,
   "metadata": {},
   "outputs": [],
   "source": [
    "#remove all gene associations and definitions\n",
    "for rct in model.reactions:\n",
    "    try: \n",
    "        del rct.notes['DEFINITION']\n",
    "    except KeyError:\n",
    "        continue\n",
    "    try: \n",
    "        del rct.notes['GENE_ASSOCIATION']\n",
    "    except KeyError:\n",
    "        continue"
   ]
  },
  {
   "cell_type": "code",
   "execution_count": 43,
   "metadata": {},
   "outputs": [],
   "source": [
    "#save&commit\n",
    "cobra.io.write_sbml_model(model,'../model/g-thermo.xml')"
   ]
  },
  {
   "cell_type": "markdown",
   "metadata": {},
   "source": [
    "## Transport reactions\n",
    "The transport reactions in our model don't have any annotations or notes it seems. Here, I see that there are MetanetX ids for some of these reactions. So these should be added. There reactions don't have E.C. numbers or KEGG IDs and so I will add the MetanetX IDs and where possible the seed.reaction to the annotation field. And make sure their notes are empty.\n",
    "\n",
    "__Export reactions__\n",
    "for Export reactions, they all contain the SBO annotation. As these are not biochemical reactions, but just from a modelling perspective added, I will not add any additional annotations here. \n"
   ]
  },
  {
   "cell_type": "code",
   "execution_count": 46,
   "metadata": {},
   "outputs": [],
   "source": [
    "#check which miss sbo term: should be none as Ben did this already.\n",
    "for rct in model.reactions:\n",
    "    if rct.id[-1:] in ['t', 's', 'c']:\n",
    "        try:\n",
    "            sbo = rct.annotation['sbo']\n",
    "        except KeyError:\n",
    "            print (rct.id)\n",
    "    else:\n",
    "        continue"
   ]
  },
  {
   "cell_type": "code",
   "execution_count": 47,
   "metadata": {},
   "outputs": [
    {
     "name": "stdout",
     "output_type": "stream",
     "text": [
      "NH4t\n",
      "GLC__Dtabc\n",
      "FEtabc\n",
      "H2Ot\n",
      "O2t\n",
      "CO2t\n",
      "THMt\n",
      "COBALT2t\n",
      "ETOHt\n",
      "ACt\n",
      "LAC__Dt\n",
      "SUCCt\n",
      "LAC__Lt\n",
      "biomass\n",
      "EX_succcoa_c\n",
      "EX_dlglu_c\n",
      "CLt\n",
      "ASN__Lt\n",
      "PYDX5Pt\n",
      "QH2t\n",
      "GTHRDt\n",
      "BIOMASSt\n",
      "THMTPt\n",
      "NADPt\n",
      "GLC__Dtpts\n",
      "FRUtpts\n",
      "ARAB__Ltabc\n",
      "XYL__Dtabc\n",
      "GALtabc\n",
      "MNLtpts\n",
      "CELLBtpts\n",
      "SUCRtpts\n",
      "GLYCt\n",
      "RIB__Dtabc\n",
      "MANtpts\n",
      "SBTtpts\n",
      "ACGAMtpts\n",
      "ARBTtpts\n",
      "SALCNtpts\n",
      "MALTtabc\n",
      "MALTtpts\n",
      "TREtpts\n",
      "RMNt\n",
      "MELIBt\n",
      "GTBIt\n",
      "TURAt\n",
      "KDG2t\n",
      "DGLCN5t\n",
      "MDGPt\n",
      "TAGtpts\n",
      "AMYt\n",
      "PYRt\n",
      "FORt\n",
      "PIt\n",
      "Kt\n",
      "SO4t\n"
     ]
    }
   ],
   "source": [
    "#check which miss metanetx term: probably almost all of them\n",
    "for rct in model.reactions:\n",
    "    if rct.id[-1:] in ['t', 's', 'c']:\n",
    "        try:\n",
    "            meta = rct.annotation['metanetx.reaction']\n",
    "        except KeyError:\n",
    "            print (rct.id)\n",
    "    else:\n",
    "        continue"
   ]
  },
  {
   "cell_type": "markdown",
   "metadata": {},
   "source": [
    "Reactions with no Metanetx: biomass, QH2t (should be removed later), THMt, GTHRDt (should be removed later), BIOMASSt, THMTPt, NADPt(should be removed later), GTBIt, TURAt, KDG2t, MDGPt, TAGtpts."
   ]
  },
  {
   "cell_type": "code",
   "execution_count": 48,
   "metadata": {},
   "outputs": [
    {
     "name": "stderr",
     "output_type": "stream",
     "text": [
      "C:\\Users\\vivmol\\AppData\\Local\\Continuum\\anaconda3\\envs\\g-thermo\\lib\\site-packages\\cobra\\core\\model.py:716: UserWarning:\n",
      "\n",
      "need to pass in a list\n",
      "\n",
      "C:\\Users\\vivmol\\AppData\\Local\\Continuum\\anaconda3\\envs\\g-thermo\\lib\\site-packages\\cobra\\core\\group.py:110: UserWarning:\n",
      "\n",
      "need to pass in a list\n",
      "\n"
     ]
    }
   ],
   "source": [
    "#these two exchange reactions should be removed\n",
    "model.remove_reactions(model.reactions.EX_succcoa_c)"
   ]
  },
  {
   "cell_type": "code",
   "execution_count": 49,
   "metadata": {},
   "outputs": [],
   "source": [
    "model.remove_reactions(model.reactions.EX_dlglu_c)"
   ]
  },
  {
   "cell_type": "code",
   "execution_count": 50,
   "metadata": {},
   "outputs": [],
   "source": [
    "model.reactions.NH4t.annotation['metanetx.reaction'] = 'MNXR101950'\n",
    "model.reactions.NH4t.annotation['seed.reaction'] = 'rxn05466'"
   ]
  },
  {
   "cell_type": "code",
   "execution_count": 51,
   "metadata": {},
   "outputs": [],
   "source": [
    "model.reactions.PIt.annotation['metanetx.reaction'] = 'MNXR102872'\n",
    "model.reactions.PIt.annotation['seed.reaction'] = 'rxn05312'"
   ]
  },
  {
   "cell_type": "code",
   "execution_count": 52,
   "metadata": {},
   "outputs": [],
   "source": [
    "model.reactions.FORt.annotation['metanetx.reaction'] = 'MNXR99621'\n",
    "model.reactions.FORt.annotation['seed.reaction'] = 'rxn05559'"
   ]
  },
  {
   "cell_type": "code",
   "execution_count": 53,
   "metadata": {},
   "outputs": [],
   "source": [
    "model.reactions.PYRt.annotation['metanetx.reaction'] = 'MNXR103385 '\n",
    "model.reactions.PYRt.annotation['seed.reaction'] = 'rxn05469'"
   ]
  },
  {
   "cell_type": "code",
   "execution_count": 54,
   "metadata": {},
   "outputs": [],
   "source": [
    "model.reactions.AMYt.annotation['metanetx.reaction'] = 'MNXR142927'"
   ]
  },
  {
   "cell_type": "code",
   "execution_count": 55,
   "metadata": {},
   "outputs": [],
   "source": [
    "model.reactions.Kt.annotation['metanetx.reaction'] = 'MNXR100951'\n",
    "model.reactions.Kt.annotation['seed.reaction'] = 'rxn05595'"
   ]
  },
  {
   "cell_type": "code",
   "execution_count": 56,
   "metadata": {},
   "outputs": [],
   "source": [
    "model.reactions.SO4t.annotation['metanetx.reaction'] = 'MNXR104466'\n",
    "model.reactions.SO4t.annotation['seed.reaction'] = 'rxn05651'"
   ]
  },
  {
   "cell_type": "code",
   "execution_count": 57,
   "metadata": {},
   "outputs": [],
   "source": [
    "model.reactions.GLC__Dtpts.annotation['metanetx.reaction'] = 'MNXR100237'\n",
    "model.reactions.GLC__Dtpts.annotation['seed.reaction'] = 'rxn05226'"
   ]
  },
  {
   "cell_type": "code",
   "execution_count": 58,
   "metadata": {},
   "outputs": [],
   "source": [
    "model.reactions.FRUtpts.annotation['metanetx.reaction'] = 'MNXR99662'"
   ]
  },
  {
   "cell_type": "code",
   "execution_count": 59,
   "metadata": {},
   "outputs": [],
   "source": [
    "model.reactions.ARAB__Ltabc.annotation['metanetx.reaction'] = 'MNXR126447'\n",
    "model.reactions.ARAB__Ltabc.annotation['seed.reaction'] = 'rxn05173'"
   ]
  },
  {
   "cell_type": "code",
   "execution_count": 60,
   "metadata": {},
   "outputs": [],
   "source": [
    "model.reactions.XYL__Dtabc.annotation['metanetx.reaction'] = 'MNXR105268'\n",
    "model.reactions.XYL__Dtabc.annotation['seed.reaction'] = 'rxn05167'"
   ]
  },
  {
   "cell_type": "code",
   "execution_count": 61,
   "metadata": {},
   "outputs": [],
   "source": [
    "model.reactions.GALtabc.annotation['metanetx.reaction'] = 'MNXR100023'\n",
    "model.reactions.GALtabc.annotation['seed.reaction'] = 'rxn05162'"
   ]
  },
  {
   "cell_type": "code",
   "execution_count": 62,
   "metadata": {},
   "outputs": [],
   "source": [
    "model.reactions.SUCCt.annotation['metanetx.reaction'] = 'MNXR104619'\n",
    "model.reactions.SUCCt.annotation['seed.reaction'] = 'rxn10952'"
   ]
  },
  {
   "cell_type": "code",
   "execution_count": 63,
   "metadata": {},
   "outputs": [],
   "source": [
    "model.reactions.LAC__Lt.annotation['metanetx.reaction'] = 'MNXR100999'\n",
    "model.reactions.LAC__Lt.annotation['seed.reaction'] = 'rxn11016'"
   ]
  },
  {
   "cell_type": "code",
   "execution_count": 64,
   "metadata": {},
   "outputs": [],
   "source": [
    "model.reactions.ASN__Lt.annotation['metanetx.reaction'] = 'MNXR96066 '\n",
    "model.reactions.ASN__Lt.annotation['seed.reaction'] = ['rxn05508','rxn11321']"
   ]
  },
  {
   "cell_type": "code",
   "execution_count": 65,
   "metadata": {},
   "outputs": [],
   "source": [
    "model.metabolites.pydx5p_e.name = 'Pyridoxal phosphate'"
   ]
  },
  {
   "cell_type": "code",
   "execution_count": 66,
   "metadata": {},
   "outputs": [],
   "source": [
    "model.reactions.PYDX5Pt.annotation['metanetx.reaction'] = 'MNXR103359'"
   ]
  },
  {
   "cell_type": "code",
   "execution_count": 67,
   "metadata": {},
   "outputs": [],
   "source": [
    "model.metabolites.qh2_e.name = 'Ubiquinol'"
   ]
  },
  {
   "cell_type": "code",
   "execution_count": 68,
   "metadata": {},
   "outputs": [],
   "source": [
    "model.reactions.GLC__Dtabc.annotation['metanetx.reaction'] = 'MNXR100236'\n",
    "model.reactions.GLC__Dtabc.annotation['seed.reaction'] = 'rxn05147'"
   ]
  },
  {
   "cell_type": "code",
   "execution_count": 69,
   "metadata": {},
   "outputs": [],
   "source": [
    "model.reactions.FEtabc.annotation['metanetx.reaction'] = 'MNXR99504'"
   ]
  },
  {
   "cell_type": "code",
   "execution_count": 70,
   "metadata": {},
   "outputs": [],
   "source": [
    "model.reactions.H2Ot.annotation['metanetx.reaction'] = 'MNXR98641'"
   ]
  },
  {
   "cell_type": "code",
   "execution_count": 71,
   "metadata": {},
   "outputs": [],
   "source": [
    "model.reactions.O2t.annotation['metanetx.reaction'] = 'MNXR102090'"
   ]
  },
  {
   "cell_type": "code",
   "execution_count": 72,
   "metadata": {},
   "outputs": [],
   "source": [
    "model.reactions.CO2t.annotation['metanetx.reaction'] = 'MNXR97980'"
   ]
  },
  {
   "cell_type": "code",
   "execution_count": 73,
   "metadata": {},
   "outputs": [],
   "source": [
    "model.reactions.COBALT2t.id = 'COBALT2tabc'"
   ]
  },
  {
   "cell_type": "code",
   "execution_count": 74,
   "metadata": {},
   "outputs": [],
   "source": [
    "model.reactions.ETOHt.annotation['metanetx.reaction'] = 'MNXR96810'"
   ]
  },
  {
   "cell_type": "code",
   "execution_count": 75,
   "metadata": {},
   "outputs": [],
   "source": [
    "model.metabolites.ac_e.name = 'Acetate'"
   ]
  },
  {
   "cell_type": "code",
   "execution_count": 76,
   "metadata": {},
   "outputs": [],
   "source": [
    "model.reactions.ACt.annotation['metanetx.reaction'] ='MNXR95431'\n",
    "model.reactions.ACt.annotation['seed.reaction'] = 'rxn10904'"
   ]
  },
  {
   "cell_type": "code",
   "execution_count": 77,
   "metadata": {},
   "outputs": [],
   "source": [
    "model.reactions.COBALT2tabc.annotation['metanetx.reaction'] = 'MNXR96819'\n",
    "model.reactions.COBALT2tabc.annotation['seed.reaction'] = 'rxn08239'"
   ]
  },
  {
   "cell_type": "code",
   "execution_count": 78,
   "metadata": {},
   "outputs": [],
   "source": [
    "model.reactions.LAC__Dt.annotation['metanetx.reaction'] = 'MNXR101277'\n",
    "model.reactions.LAC__Dt.annotation['seed.reaction'] = 'rxn05602'"
   ]
  },
  {
   "cell_type": "code",
   "execution_count": 79,
   "metadata": {},
   "outputs": [],
   "source": [
    "model.metabolites.cl_e.name = 'Chloride'"
   ]
  },
  {
   "cell_type": "code",
   "execution_count": 80,
   "metadata": {},
   "outputs": [],
   "source": [
    "model.reactions.CLt.annotation['metanetx.reaction'] = 'MNXR96797'\n",
    "model.reactions.CLt.annotation['seed.reaction'] = 'rxn10473'"
   ]
  },
  {
   "cell_type": "code",
   "execution_count": 81,
   "metadata": {},
   "outputs": [],
   "source": [
    "model.reactions.MNLtpts.annotation['metanetx.reaction'] = 'MNXR101677'\n",
    "model.reactions.MNLtpts.annotation['seed.reaction'] = 'rxn05617'"
   ]
  },
  {
   "cell_type": "code",
   "execution_count": 82,
   "metadata": {},
   "outputs": [],
   "source": [
    "model.reactions.CELLBtpts.annotation['metanetx.reaction'] = 'MNXR96586'"
   ]
  },
  {
   "cell_type": "code",
   "execution_count": 83,
   "metadata": {},
   "outputs": [],
   "source": [
    "model.reactions.SUCRtpts.annotation['metanetx.reaction'] = 'MNXR104643'\n",
    "model.reactions.SUCRtpts.annotation['seed.reaction'] = 'rxn05655'"
   ]
  },
  {
   "cell_type": "code",
   "execution_count": 84,
   "metadata": {},
   "outputs": [],
   "source": [
    "model.reactions.GLYCt.annotation['metanetx.reaction'] = 'MNXR100343'\n",
    "model.reactions.GLYCt.annotation['seed.reaction'] = 'rxn05581'"
   ]
  },
  {
   "cell_type": "code",
   "execution_count": 85,
   "metadata": {},
   "outputs": [],
   "source": [
    "model.reactions.RIB__Dtabc.annotation['metanetx.reaction'] = 'MNXR104034'\n",
    "model.reactions.RIB__Dtabc.annotation['seed.reaction'] = 'rxn05160'"
   ]
  },
  {
   "cell_type": "code",
   "execution_count": 86,
   "metadata": {},
   "outputs": [],
   "source": [
    "model.reactions.MANtpts.annotation['metanetx.reaction'] = 'MNXR101401'\n",
    "model.reactions.MANtpts.annotation['seed.reaction'] = 'rxn05610'"
   ]
  },
  {
   "cell_type": "code",
   "execution_count": 87,
   "metadata": {},
   "outputs": [],
   "source": [
    "model.reactions.SBTtpts.annotation['metanetx.reaction'] = 'MNXR104290'\n",
    "model.reactions.SBTtpts.annotation['seed.reaction'] = 'rxn10184'"
   ]
  },
  {
   "cell_type": "code",
   "execution_count": 88,
   "metadata": {},
   "outputs": [],
   "source": [
    "model.reactions.ACGAMtpts.annotation['metanetx.reaction'] = 'MNXR95253'\n",
    "model.reactions.ACGAMtpts.annotation['seed.reaction'] = 'rxn05485'"
   ]
  },
  {
   "cell_type": "code",
   "execution_count": 89,
   "metadata": {},
   "outputs": [],
   "source": [
    "model.reactions.ARBTtpts.annotation['metanetx.reaction'] = 'MNXR95932'\n",
    "model.reactions.ARBTtpts.annotation['seed.reaction'] = 'rxn05501'"
   ]
  },
  {
   "cell_type": "code",
   "execution_count": 90,
   "metadata": {},
   "outputs": [],
   "source": [
    "model.reactions.SALCNtpts.annotation['metanetx.reaction'] = 'MNXR104266'\n",
    "model.reactions.SALCNtpts.annotation['seed.reaction'] = 'rxn05647'"
   ]
  },
  {
   "cell_type": "code",
   "execution_count": 91,
   "metadata": {},
   "outputs": [],
   "source": [
    "model.reactions.MALTtabc.annotation['metanetx.reaction'] = 'MNXR101362'\n",
    "model.reactions.MALTtabc.annotation['seed.reaction'] = 'rxn05170'"
   ]
  },
  {
   "cell_type": "code",
   "execution_count": 92,
   "metadata": {},
   "outputs": [],
   "source": [
    "model.reactions.MALTtpts.annotation['metanetx.reaction'] = 'MNXR101363'\n",
    "model.reactions.MALTtpts.annotation['seed.reaction'] = 'rxn05607'"
   ]
  },
  {
   "cell_type": "code",
   "execution_count": 93,
   "metadata": {},
   "outputs": [],
   "source": [
    "model.reactions.TREtpts.annotation['metanetx.reaction'] = 'MNXR104931'\n",
    "model.reactions.TREtpts.annotation['seed.reaction'] = 'rxn02005'"
   ]
  },
  {
   "cell_type": "code",
   "execution_count": 94,
   "metadata": {},
   "outputs": [],
   "source": [
    "model.metabolites.tre6p_c.name='Trehalose 6-phosphate'"
   ]
  },
  {
   "cell_type": "code",
   "execution_count": 95,
   "metadata": {},
   "outputs": [],
   "source": [
    "model.reactions.RMNt.annotation['metanetx.reaction'] = 'MNXR104041'\n",
    "model.reactions.RMNt.annotation['seed.reaction'] = 'rxn05646'"
   ]
  },
  {
   "cell_type": "code",
   "execution_count": 96,
   "metadata": {},
   "outputs": [],
   "source": [
    "model.reactions.MELIBt.annotation['metanetx.reaction'] = 'MNXR138587'"
   ]
  },
  {
   "cell_type": "code",
   "execution_count": 97,
   "metadata": {},
   "outputs": [],
   "source": [
    "model.metabolites.tura_c.annotation['metanetx.chemical'] = 'MNXM161984'\n",
    "model.metabolites.tura_e.annotation['metanetx.chemical'] = 'MNXM161984'"
   ]
  },
  {
   "cell_type": "code",
   "execution_count": 98,
   "metadata": {},
   "outputs": [],
   "source": [
    "model.reactions.TURAt.name = 'Turanose transport'"
   ]
  },
  {
   "cell_type": "code",
   "execution_count": 99,
   "metadata": {},
   "outputs": [],
   "source": [
    "model.metabolites.kdg2_c.annotation['metanetx.chemical'] = 'MNXM480329'\n",
    "model.metabolites.kdg2_e.annotation['metanetx.chemical'] = 'MNXM480329'"
   ]
  },
  {
   "cell_type": "code",
   "execution_count": 100,
   "metadata": {},
   "outputs": [],
   "source": [
    "model.metabolites.dglcn5_e.annotation['metanetx.chemical'] ='MNXM963'\n",
    "model.metabolites.dglcn5_c.annotation['metanetx.chemical'] ='MNXM963'"
   ]
  },
  {
   "cell_type": "code",
   "execution_count": 101,
   "metadata": {},
   "outputs": [],
   "source": [
    "model.reactions.DGLCN5t.annotation['metanetx.reaction'] = 'MNXR95067'"
   ]
  },
  {
   "cell_type": "code",
   "execution_count": 102,
   "metadata": {},
   "outputs": [],
   "source": [
    "model.metabolites.mdgp_e.annotation['metanetx.chemical'] = 'MNXM61754'\n",
    "model.metabolites.mdgp_c.annotation['metanetx.chemical'] = 'MNXM61754'"
   ]
  },
  {
   "cell_type": "code",
   "execution_count": 103,
   "metadata": {},
   "outputs": [],
   "source": [
    "model.metabolites.tag__D_e.annotation['metanetx.chemical'] = 'MNXM83257'"
   ]
  },
  {
   "cell_type": "code",
   "execution_count": 104,
   "metadata": {},
   "outputs": [],
   "source": [
    "#save&commit\n",
    "cobra.io.write_sbml_model(model,'../model/g-thermo.xml')"
   ]
  },
  {
   "cell_type": "markdown",
   "metadata": {},
   "source": [
    "Now I will check that none of the reactions have any field left except the 'name' or other notes. I will also check that al reactions will have some annotation (atleast SBO)"
   ]
  },
  {
   "cell_type": "code",
   "execution_count": 123,
   "metadata": {},
   "outputs": [],
   "source": [
    "#remove other fields in notes that should be gone\n",
    "for rct in model.reactions:\n",
    "    try: \n",
    "        del rct.notes['GENE_ASSOCIATION']\n",
    "    except KeyError:\n",
    "        continue"
   ]
  },
  {
   "cell_type": "code",
   "execution_count": 124,
   "metadata": {},
   "outputs": [],
   "source": [
    "for rct in model.reactions:\n",
    "    try: \n",
    "        del rct.notes['ORTHOLOGY']\n",
    "    except KeyError:\n",
    "        continue"
   ]
  },
  {
   "cell_type": "code",
   "execution_count": 125,
   "metadata": {},
   "outputs": [],
   "source": [
    "for rct in model.reactions:\n",
    "    try: \n",
    "        del rct.notes['PATHWAY']\n",
    "    except KeyError:\n",
    "        continue"
   ]
  },
  {
   "cell_type": "code",
   "execution_count": 126,
   "metadata": {},
   "outputs": [],
   "source": [
    "for rct in model.reactions:\n",
    "    try: \n",
    "        del rct.notes['EQUATION']\n",
    "    except KeyError:\n",
    "        continue"
   ]
  },
  {
   "cell_type": "code",
   "execution_count": 127,
   "metadata": {},
   "outputs": [],
   "source": [
    "for rct in model.reactions:\n",
    "    try: \n",
    "        del rct.notes['RPAIR']\n",
    "    except KeyError:\n",
    "        continue"
   ]
  },
  {
   "cell_type": "code",
   "execution_count": 128,
   "metadata": {},
   "outputs": [],
   "source": [
    "for rct in model.reactions:\n",
    "    try: \n",
    "        del rct.notes['original_bigg_ids']\n",
    "    except KeyError:\n",
    "        continue"
   ]
  },
  {
   "cell_type": "code",
   "execution_count": 129,
   "metadata": {},
   "outputs": [],
   "source": [
    "for rct in model.reactions:\n",
    "    try: \n",
    "        del rct.notes['KEGG ID']\n",
    "    except KeyError:\n",
    "        continue"
   ]
  },
  {
   "cell_type": "code",
   "execution_count": 130,
   "metadata": {},
   "outputs": [],
   "source": [
    "for rct in model.reactions:\n",
    "    try: \n",
    "        del rct.notes['ENZYME']\n",
    "    except KeyError:\n",
    "        continue"
   ]
  },
  {
   "cell_type": "code",
   "execution_count": 131,
   "metadata": {},
   "outputs": [],
   "source": [
    "for rct in model.reactions:\n",
    "    try: \n",
    "        del rct.notes['ENTRY']\n",
    "    except KeyError:\n",
    "        continue"
   ]
  },
  {
   "cell_type": "code",
   "execution_count": 132,
   "metadata": {},
   "outputs": [],
   "source": [
    "for rct in model.reactions:\n",
    "    try: \n",
    "        del rct.notes['EQUATION_USED_HEREIN']\n",
    "    except KeyError:\n",
    "        continue"
   ]
  },
  {
   "cell_type": "code",
   "execution_count": 133,
   "metadata": {},
   "outputs": [],
   "source": [
    "for rct in model.reactions:\n",
    "    try: \n",
    "        del rct.notes['KEGG_COMMENT']\n",
    "    except KeyError:\n",
    "        continue"
   ]
  },
  {
   "cell_type": "code",
   "execution_count": 134,
   "metadata": {},
   "outputs": [],
   "source": [
    "for rct in model.reactions:\n",
    "    try: \n",
    "        del rct.notes['MODULE']\n",
    "    except KeyError:\n",
    "        continue"
   ]
  },
  {
   "cell_type": "code",
   "execution_count": 135,
   "metadata": {},
   "outputs": [],
   "source": [
    "#convert field comments to field 'NOTES'\n",
    "for rct in model.reactions:\n",
    "    try:\n",
    "        comment = rct.notes['COMMENTS']\n",
    "        rct.notes['NOTES'] = comment\n",
    "        del rct.notes['COMMENTS']\n",
    "    except KeyError:\n",
    "        try:\n",
    "            comment = rct.notes['COMMENT']\n",
    "            rct.notes['NOTES'] = comment\n",
    "            del rct.notes['COMMENT']\n",
    "        except KeyError:\n",
    "            continue"
   ]
  },
  {
   "cell_type": "code",
   "execution_count": 136,
   "metadata": {
    "scrolled": true
   },
   "outputs": [
    {
     "name": "stdout",
     "output_type": "stream",
     "text": [
      "IG3PS\n",
      "PGL\n",
      "HOXPRm\n"
     ]
    }
   ],
   "source": [
    "for rct in model.reactions:\n",
    "    if len (rct.notes) == 0: #rcts with no notes\n",
    "        continue\n",
    "    elif len(rct.notes) == 1: #rcts with just one note\n",
    "        try:\n",
    "            name = rct.notes['NAME']\n",
    "        except KeyError:\n",
    "            try:\n",
    "                rct.notes['NOTES']\n",
    "            except:\n",
    "                print (rct.id)\n",
    "    else:\n",
    "        print (rct.id)"
   ]
  },
  {
   "cell_type": "code",
   "execution_count": 139,
   "metadata": {},
   "outputs": [],
   "source": [
    "del model.reactions.IG3PS.notes['ECNumbers']"
   ]
  },
  {
   "cell_type": "code",
   "execution_count": 143,
   "metadata": {},
   "outputs": [],
   "source": [
    "del model.reactions.PGL.notes['KEGG']"
   ]
  },
  {
   "cell_type": "code",
   "execution_count": 146,
   "metadata": {},
   "outputs": [],
   "source": [
    "#save&commit\n",
    "cobra.io.write_sbml_model(model,'../model/g-thermo.xml')"
   ]
  },
  {
   "cell_type": "code",
   "execution_count": 147,
   "metadata": {
    "scrolled": true
   },
   "outputs": [],
   "source": [
    "#which reactions have no annotation\n",
    "for rct in model.reactions:\n",
    "    if len(rct.annotation) == 0:\n",
    "        print(rct.id)\n",
    "    else:\n",
    "        continue"
   ]
  },
  {
   "cell_type": "markdown",
   "metadata": {},
   "source": [
    "This list should become zero, as all should have an SBO. \n",
    "\n",
    "So below I check how many rcts have only SBO annotation, excluding the exchange reactions."
   ]
  },
  {
   "cell_type": "code",
   "execution_count": 148,
   "metadata": {},
   "outputs": [
    {
     "name": "stdout",
     "output_type": "stream",
     "text": [
      "THMt\n",
      "biomass\n",
      "QH2t\n",
      "GTHRDt\n",
      "BIOMASSt\n",
      "THMTPt\n",
      "NADPt\n",
      "GTBIt\n",
      "GTBIHY\n",
      "TURAt\n",
      "TURAHY\n",
      "KDG2t\n",
      "MDGPt\n",
      "BGAL\n",
      "TAGtpts\n"
     ]
    }
   ],
   "source": [
    "for rct in model.reactions:\n",
    "    if rct.id[:2] in 'EX':\n",
    "        continue\n",
    "    else:\n",
    "        if len(rct.annotation) <= 1:\n",
    "            print(rct.id)\n",
    "        else:\n",
    "            continue"
   ]
  },
  {
   "cell_type": "markdown",
   "metadata": {},
   "source": [
    "This list matches what we've already checked above. So I can leave it like it is. "
   ]
  },
  {
   "cell_type": "markdown",
   "metadata": {},
   "source": [
    "# Missing names\n",
    "some reactions and metabolites don't have names, and this was added automatically in commit  4fc25cc, and so this will be fixed here,"
   ]
  },
  {
   "cell_type": "code",
   "execution_count": 149,
   "metadata": {},
   "outputs": [],
   "source": [
    "model.metabolites.lald__L_c.name = 'L-Lactaldehyde' "
   ]
  },
  {
   "cell_type": "code",
   "execution_count": 150,
   "metadata": {},
   "outputs": [],
   "source": [
    "model.metabolites.gtspmd_c.name = 'Glutathionylspermidine'"
   ]
  },
  {
   "cell_type": "code",
   "execution_count": 151,
   "metadata": {},
   "outputs": [],
   "source": [
    "model.metabolites.cdpdag_c.name = 'CDP-1,2-diacylglycerol'"
   ]
  },
  {
   "cell_type": "code",
   "execution_count": 152,
   "metadata": {},
   "outputs": [],
   "source": [
    "model.metabolites.actn__R_c.name = '(R)-Acetoin'"
   ]
  },
  {
   "cell_type": "code",
   "execution_count": 153,
   "metadata": {},
   "outputs": [],
   "source": [
    "model.reactions.HOXPRm.name = '(R)-Glycerate:NAD+ oxidoreductase'"
   ]
  },
  {
   "cell_type": "code",
   "execution_count": 154,
   "metadata": {},
   "outputs": [],
   "source": [
    "model.reactions.MOX.name = '(S)-Malate:oxygen oxidoreductase'"
   ]
  },
  {
   "cell_type": "code",
   "execution_count": 155,
   "metadata": {},
   "outputs": [],
   "source": [
    "model.reactions.TRPS3.name = 'Tryptophan synthase (indoleglycerol phosphate)'"
   ]
  },
  {
   "cell_type": "code",
   "execution_count": 156,
   "metadata": {},
   "outputs": [],
   "source": [
    "model.reactions.SUCOAACTr.name = 'succinyl-CoA:acetate CoA-transferase'"
   ]
  },
  {
   "cell_type": "code",
   "execution_count": 157,
   "metadata": {},
   "outputs": [],
   "source": [
    "model.reactions.ACTD.name = '(R)-Acetoin:NAD+ oxidoreductase'"
   ]
  },
  {
   "cell_type": "code",
   "execution_count": 158,
   "metadata": {},
   "outputs": [],
   "source": [
    "model.reactions.ACOAD1.name = 'butanoyl-CoA:NAD+ trans-2-oxidoreductase'"
   ]
  },
  {
   "cell_type": "code",
   "execution_count": 159,
   "metadata": {},
   "outputs": [],
   "source": [
    "model.reactions.ECOAH1.name = '(S)-3-hydroxybutanoyl-CoA hydro-lyase'"
   ]
  },
  {
   "cell_type": "code",
   "execution_count": 160,
   "metadata": {},
   "outputs": [],
   "source": [
    "model.reactions.MANtpts.name = 'Mannose transport via PTS'"
   ]
  },
  {
   "cell_type": "code",
   "execution_count": 161,
   "metadata": {},
   "outputs": [],
   "source": [
    "model.reactions.SALCNtpts.name = 'Salicin transport via PTS'"
   ]
  },
  {
   "cell_type": "code",
   "execution_count": 162,
   "metadata": {},
   "outputs": [],
   "source": [
    "model.reactions.TGBPA.name = 'Tagatose-bisphosphate aldolase'"
   ]
  },
  {
   "cell_type": "code",
   "execution_count": 163,
   "metadata": {},
   "outputs": [],
   "source": [
    "#save&commit\n",
    "cobra.io.write_sbml_model(model,'../model/g-thermo.xml')"
   ]
  },
  {
   "cell_type": "markdown",
   "metadata": {},
   "source": [
    "__E. coli genes__\n",
    "In a previous commit, Ben saw therewere accidentally three E. coli genes present in the model. (See Issue #55: fix: 3 genes from E. coli) \n",
    "\n",
    "Here I check that they are not associated to any reaction. Also the xml file seems to show they are not associated to any reaction. So they can be removed. "
   ]
  },
  {
   "cell_type": "code",
   "execution_count": 164,
   "metadata": {},
   "outputs": [],
   "source": [
    "e_coli_genes = ['b3903', 'b3904', 'b3902']"
   ]
  },
  {
   "cell_type": "code",
   "execution_count": 165,
   "metadata": {},
   "outputs": [],
   "source": [
    "for rct in model.reactions:\n",
    "    if rct.gene_reaction_rule in e_coli_genes:\n",
    "        print (rct.id)\n",
    "    else:\n",
    "        continue"
   ]
  },
  {
   "cell_type": "code",
   "execution_count": 166,
   "metadata": {},
   "outputs": [],
   "source": [
    "genes = [model.genes.get_by_id('b3903'), model.genes.get_by_id('b3904'), model.genes.get_by_id('b3902')]"
   ]
  },
  {
   "cell_type": "code",
   "execution_count": 167,
   "metadata": {},
   "outputs": [
    {
     "data": {
      "text/plain": [
       "[<Gene b3903 at 0x22257ca0b08>,\n",
       " <Gene b3904 at 0x22257ca06c8>,\n",
       " <Gene b3902 at 0x22257ca0348>]"
      ]
     },
     "execution_count": 167,
     "metadata": {},
     "output_type": "execute_result"
    }
   ],
   "source": [
    "genes"
   ]
  },
  {
   "cell_type": "code",
   "execution_count": 168,
   "metadata": {},
   "outputs": [],
   "source": [
    "cobra.manipulation.delete.remove_genes(model, genes, remove_reactions=True)"
   ]
  },
  {
   "cell_type": "code",
   "execution_count": 169,
   "metadata": {},
   "outputs": [],
   "source": [
    "#save&commit\n",
    "cobra.io.write_sbml_model(model,'../model/g-thermo.xml')"
   ]
  }
 ],
 "metadata": {
  "kernelspec": {
   "display_name": "Python 3",
   "language": "python",
   "name": "python3"
  },
  "language_info": {
   "codemirror_mode": {
    "name": "ipython",
    "version": 3
   },
   "file_extension": ".py",
   "mimetype": "text/x-python",
   "name": "python",
   "nbconvert_exporter": "python",
   "pygments_lexer": "ipython3",
   "version": "3.7.7"
  }
 },
 "nbformat": 4,
 "nbformat_minor": 2
}
