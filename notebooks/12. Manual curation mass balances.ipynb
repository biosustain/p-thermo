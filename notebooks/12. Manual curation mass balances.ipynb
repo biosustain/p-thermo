{
 "cells": [
  {
   "cell_type": "markdown",
   "metadata": {},
   "source": [
    "# Introduction\n",
    "In the previous notebooks and commits, we've fixed 60% of the mass imbalances present in the model. Here I will split the list of left over imbalances in two: one for Martyn to check by hand, the other I will do here. \n",
    "\n",
    "\n",
    "## Manual fixing of unbalanced metabolites\n"
   ]
  },
  {
   "cell_type": "code",
   "execution_count": 38,
   "metadata": {},
   "outputs": [],
   "source": [
    "import cameo\n",
    "import pandas as pd\n",
    "import cobra.io\n",
    "import escher"
   ]
  },
  {
   "cell_type": "code",
   "execution_count": 77,
   "metadata": {},
   "outputs": [],
   "source": [
    "model = cobra.io.read_sbml_model('../model/g-thermo.xml')"
   ]
  },
  {
   "cell_type": "code",
   "execution_count": 3,
   "metadata": {},
   "outputs": [
    {
     "data": {
      "text/plain": [
       "174"
      ]
     },
     "execution_count": 3,
     "metadata": {},
     "output_type": "execute_result"
    }
   ],
   "source": [
    "unbalanced_id_new = [\"DCTPT\",\"THPPGLIG\",\"SUCHY2\",\"MHTPPT\",\"DTTPT\",\"AHETDYTTPHY\",\"CELLBHY\",\"TAL\",\"SUCHY\",\"OAACOLY\",\"3HAD40_1\",\"ATPACAT\",\"BGLUCH\",\"COOR\",\"DXYL5PTST\",\"SEPHCHCS\",\"PYRPT\",\"FBAf\",\"SUCBZL\",\"SCENLAT\",\"DTPCUDCPPR\",\"ECOAH9ir\",\"GCCa\",\"PYRACT\",\"AMYLOSEGT\",\"ACEDIA\",\"HPI\",\"SUCHMSSELCYSL\",\"TALA\",\"UPP1S\",\"FICYTCCNOR\",\"SELCYSTL\",\"TKT2\",\"HOXPRm\",\"GCCb\",\"THRPD\",\"ADPGLCGT\",\"ACt\",\"LAC__Dt\",\"FOCYTCCOR\",\"FAPNTPAH\",\"SUCCt\",\"MBTCOAT\",\"BCFASYN2\",\"GTPHYDRO\",\"VALDHr\",\"TDP\",\"MALACPAT\",\"UGE\",\"THRS\",\"GLUTRS\",\"TMDPPK\",\"CO2t\",\"UACMAMO\",\"Ht\",\"AKGDEHY\",\"FRU1PT\",\"GSPMDS\",\"PRE3AOR\",\"PGLHY\",\"SSALx\",\"ACCOAACT\",\"AKGOR\",\"NADHQOR\",\"SSALy\",\"ATPNAT\",\"ACCOATT\",\"SHSL1\",\"STARCHHY\",\"PRPAT\",\"ARABINANHY\",\"CDPDAGPT\",\"PRPUT\",\"PRPGT\",\"PRPCT\",\"23DK5MPPISO\",\"STARCHHY2\",\"AMYTRANS\",\"STARCHGT\",\"OPALMACPOR\",\"HDEACPT\",\"SHSL2\",\"UDPGD\",\"ARBTPT\",\"TREPT\",\"LAC__Lt\",\"UAMAGS\",\"BCFASYN\",\"SBP\",\"HMSD\",\"GHMT\",\"MNLPT\",\"GALISO\",\"GLCDPT\",\"ASPSALY\",\"AH6PISO\",\"NH4t\",\"ATPPT\",\"GTHRDt\",\"UAMAS\",\"QH2t\",\"UPP3MT\",\"SALCNPT\",\"TMPPP\",\"DECACPOR\",\"MYRACPOR\",\"THMTPt\",\"R05219\",\"UPPDC1\",\"MMACPAT\",\"MHOPT\",\"OMCDC\",\"NADPt\",\"CTPPCT\",\"GAMPT\",\"AMETLY\",\"AADCOAT\",\"ENCOAT\",\"MANPT\",\"UAGCVT\",\"SHSL4h\",\"SERD_L\",\"DHNAOCTD\",\"SELCYSLY\",\"ATPTAT\",\"LPROQOR\",\"BTNLIG\",\"ACDO\",\"UAAAGGLAAT\",\"STACHY2\",\"COQOR\",\"THMt\",\"CELLOHYDRO\",\"ACMUMPT\",\"COBALT2t\",\"MTRI\",\"ETOHt\",\"MDRPD\",\"STACHY\",\"PYDX5Pt\",\"QH2OR\",\"CLt\",\"IVCOAR\",\"ACTCO2L\",\"QH2NOR\",\"BCFASYN3\",\"COH2OOR\",\"MALTPT\",\"ASN__Lt\",\"GLUTRR\",\"GLC__Dt\",\"HEXACPOR\",\"HEXACPAT\",\"DATPT\",\"BTN5AMPL\",\"GTPT\",\"MALQOR\",\"FE2t\",\"CTPT\",\"OBO2OR\",\"F1PPT\",\"SELMELIG\",\"LALDPOR\",\"OH1t\",\"PFKh\",\"DGTPT\",\"PHEAOR\",\"UTPT\",\"BFBP\",\"OCTACPOR\",\"PYRLLOR\",\"O2t\",\"SAM\",\"SELCYSTGL\"]\n",
    "len(unbalanced_id_new)"
   ]
  },
  {
   "cell_type": "code",
   "execution_count": 4,
   "metadata": {},
   "outputs": [
    {
     "data": {
      "text/plain": [
       "174"
      ]
     },
     "execution_count": 4,
     "metadata": {},
     "output_type": "execute_result"
    }
   ],
   "source": [
    "#convert to list of reactions\n",
    "unbalanced_rct_new = []\n",
    "for rct in model.reactions:\n",
    "    if rct.id in unbalanced_id_new:\n",
    "        unbalanced_rct_new.append(rct)\n",
    "    else:\n",
    "        continue\n",
    "len(unbalanced_rct_new)   "
   ]
  },
  {
   "cell_type": "code",
   "execution_count": 5,
   "metadata": {},
   "outputs": [
    {
     "data": {
      "text/plain": [
       "86"
      ]
     },
     "execution_count": 5,
     "metadata": {},
     "output_type": "execute_result"
    }
   ],
   "source": [
    "martyn_reactions = unbalanced_rct_new[0:86]\n",
    "len(martyn_reactions)"
   ]
  },
  {
   "cell_type": "code",
   "execution_count": 6,
   "metadata": {},
   "outputs": [
    {
     "data": {
      "text/plain": [
       "86"
      ]
     },
     "execution_count": 6,
     "metadata": {},
     "output_type": "execute_result"
    }
   ],
   "source": [
    "viv_reactions = unbalanced_rct_new[87:173]\n",
    "len(viv_reactions)"
   ]
  },
  {
   "cell_type": "code",
   "execution_count": 7,
   "metadata": {},
   "outputs": [],
   "source": [
    "#make a csv file of both lists to use in analysis\n",
    "martyn_id = []\n",
    "martyn_name = []\n",
    "for rct in martyn_reactions:\n",
    "    martyn_id.append(rct.id)\n",
    "    martyn_name.append(rct.name)\n"
   ]
  },
  {
   "cell_type": "code",
   "execution_count": 8,
   "metadata": {},
   "outputs": [],
   "source": [
    "viv_id = []\n",
    "viv_name = []\n",
    "for rct in viv_reactions:\n",
    "    viv_id.append(rct.id)\n",
    "    viv_name.append(rct.name)"
   ]
  },
  {
   "cell_type": "code",
   "execution_count": 9,
   "metadata": {},
   "outputs": [],
   "source": [
    "martyn_df = pd.DataFrame({'rct_id': martyn_id, 'rct_name':martyn_name})\n",
    "viv_df = pd.DataFrame({'rct_id': viv_id, 'rct_name':viv_name})"
   ]
  },
  {
   "cell_type": "code",
   "execution_count": 11,
   "metadata": {},
   "outputs": [],
   "source": [
    "#df to two csv files\n",
    "martyn_df.to_csv('../databases/Martyn_unbalanced_rcts.csv')\n",
    "viv_df.to_csv('../databases/Viv_unbalanced_rcts.csv')"
   ]
  },
  {
   "cell_type": "markdown",
   "metadata": {},
   "source": [
    "From the list, I will just go through them all, inspect them and change what should be fixed. In some cases, it can be usefull to check how the reactions are stored in the E. coli iML1515 model. If some reactions cannot be fixed, I will keep them noted and discuss with Niko/Ben how to proceed with those cases further.\n",
    "\n",
    "Every 5 reactions I will save & commit, to prevent too many changes from accumulating between commits."
   ]
  },
  {
   "cell_type": "code",
   "execution_count": 129,
   "metadata": {},
   "outputs": [],
   "source": [
    "model_e_coli = cameo.load_model(\"iML1515\")\n",
    "model_e_coli_MG1655 = cameo.load_model(\"iJO1366\")"
   ]
  },
  {
   "cell_type": "code",
   "execution_count": 201,
   "metadata": {},
   "outputs": [],
   "source": [
    "model = cobra.io.read_sbml_model('../model/g-thermo.xml')"
   ]
  },
  {
   "cell_type": "code",
   "execution_count": 202,
   "metadata": {},
   "outputs": [],
   "source": [
    "model.reactions.AHETDYTTPHY.add_metabolites({model.metabolites.h_c: -3.0})"
   ]
  },
  {
   "cell_type": "code",
   "execution_count": 203,
   "metadata": {},
   "outputs": [],
   "source": [
    "model.reactions.COOR.add_metabolites({model.metabolites.fcytb5612_c: 2.0, model.metabolites.h_c:1.0})"
   ]
  },
  {
   "cell_type": "code",
   "execution_count": 204,
   "metadata": {},
   "outputs": [],
   "source": [
    "model.metabolites.fdp_B_c.formula = 'C6H10O12P2'"
   ]
  },
  {
   "cell_type": "code",
   "execution_count": 205,
   "metadata": {},
   "outputs": [],
   "source": [
    "model.reactions.PFKh.add_metabolites({model.metabolites.h_c:3.0})"
   ]
  },
  {
   "cell_type": "code",
   "execution_count": 206,
   "metadata": {},
   "outputs": [],
   "source": [
    "model.metabolites.f6p_B_c.formula = 'C6H11O9P'"
   ]
  },
  {
   "cell_type": "code",
   "execution_count": 207,
   "metadata": {},
   "outputs": [],
   "source": [
    "model.reactions.SELCYSTGL.add_metabolites({model.metabolites.h_c:1.0})"
   ]
  },
  {
   "cell_type": "code",
   "execution_count": 208,
   "metadata": {},
   "outputs": [],
   "source": [
    "model.reactions.SELCYSTL.add_metabolites({model.metabolites.h_c:1.0})"
   ]
  },
  {
   "cell_type": "code",
   "execution_count": 209,
   "metadata": {},
   "outputs": [],
   "source": [
    "model.reactions.SUCHMSSELCYSL.add_metabolites({model.metabolites.h_c:1.0})"
   ]
  },
  {
   "cell_type": "code",
   "execution_count": 210,
   "metadata": {},
   "outputs": [],
   "source": [
    "model.metabolites.uppg1_c.formula = 'C40H36N4O16'"
   ]
  },
  {
   "cell_type": "code",
   "execution_count": null,
   "metadata": {},
   "outputs": [],
   "source": []
  },
  {
   "cell_type": "code",
   "execution_count": 173,
   "metadata": {},
   "outputs": [],
   "source": [
    "#save & commit\n",
    "cobra.io.write_sbml_model(model,'../model/g-thermo.xml')"
   ]
  },
  {
   "cell_type": "code",
   "execution_count": null,
   "metadata": {},
   "outputs": [],
   "source": [
    "model.metabolites.oh1_c.id = h2o_c\n",
    "model.metabolites.oh1_e.id = h2o_e"
   ]
  },
  {
   "cell_type": "code",
   "execution_count": null,
   "metadata": {},
   "outputs": [],
   "source": []
  },
  {
   "cell_type": "code",
   "execution_count": null,
   "metadata": {},
   "outputs": [],
   "source": []
  },
  {
   "cell_type": "code",
   "execution_count": 214,
   "metadata": {},
   "outputs": [
    {
     "data": {
      "text/plain": [
       "{'charge': -1.0, 'H': -1.0}"
      ]
     },
     "execution_count": 214,
     "metadata": {},
     "output_type": "execute_result"
    }
   ],
   "source": [
    "model.reactions.FAPNTPAH.check_mass_balance()"
   ]
  },
  {
   "cell_type": "code",
   "execution_count": 215,
   "metadata": {},
   "outputs": [
    {
     "data": {
      "text/html": [
       "\n",
       "        <table>\n",
       "            <tr>\n",
       "                <td><strong>Reaction identifier</strong></td><td>FAPNTPAH</td>\n",
       "            </tr><tr>\n",
       "                <td><strong>Name</strong></td><td>R05046</td>\n",
       "            </tr><tr>\n",
       "                <td><strong>Memory address</strong></td>\n",
       "                <td>0x0221380d81c8</td>\n",
       "            </tr><tr>\n",
       "                <td><strong>Stoichiometry</strong></td>\n",
       "                <td>\n",
       "                    <p style='text-align:right'>HC01651_c + oh1_c --> HC01652_c + for_c</p>\n",
       "                    <p style='text-align:right'>Formamidopyrimidine nucleoside triphosphate + Water --> 2,5-Diaminopyrimidine nucleoside triphosphate + Formate_CHO2</p>\n",
       "                </td>\n",
       "            </tr><tr>\n",
       "                <td><strong>GPR</strong></td><td>RTMO04290</td>\n",
       "            </tr><tr>\n",
       "                <td><strong>Lower bound</strong></td><td>0.0</td>\n",
       "            </tr><tr>\n",
       "                <td><strong>Upper bound</strong></td><td>20.0</td>\n",
       "            </tr>\n",
       "        </table>\n",
       "        "
      ],
      "text/plain": [
       "<Reaction FAPNTPAH at 0x221380d81c8>"
      ]
     },
     "execution_count": 215,
     "metadata": {},
     "output_type": "execute_result"
    }
   ],
   "source": [
    "model.reactions.FAPNTPAH"
   ]
  },
  {
   "cell_type": "code",
   "execution_count": 211,
   "metadata": {},
   "outputs": [
    {
     "data": {
      "text/html": [
       "\n",
       "        <table>\n",
       "            <tr>\n",
       "                <td><strong>Metabolite identifier</strong></td><td>uppg1_c</td>\n",
       "            </tr><tr>\n",
       "                <td><strong>Name</strong></td><td>Uroporphyrinogen I</td>\n",
       "            </tr><tr>\n",
       "                <td><strong>Memory address</strong></td>\n",
       "                <td>0x022139a1a288</td>\n",
       "            </tr><tr>\n",
       "                <td><strong>Formula</strong></td><td>C40H36N4O16</td>\n",
       "            </tr><tr>\n",
       "                <td><strong>Compartment</strong></td><td>c</td>\n",
       "            </tr><tr>\n",
       "                <td><strong>In 2 reaction(s)</strong></td><td>\n",
       "                    UPP1S, UPPDC2</td>\n",
       "            </tr>\n",
       "        </table>"
      ],
      "text/plain": [
       "<Metabolite uppg1_c at 0x22139a1a288>"
      ]
     },
     "execution_count": 211,
     "metadata": {},
     "output_type": "execute_result"
    }
   ],
   "source": [
    "model.metabolites.uppg1_c"
   ]
  },
  {
   "cell_type": "code",
   "execution_count": 195,
   "metadata": {},
   "outputs": [
    {
     "data": {
      "text/html": [
       "\n",
       "        <table>\n",
       "            <tr>\n",
       "                <td><strong>Metabolite identifier</strong></td><td>hmbil_c</td>\n",
       "            </tr><tr>\n",
       "                <td><strong>Name</strong></td><td>Hydroxymethylbilane</td>\n",
       "            </tr><tr>\n",
       "                <td><strong>Memory address</strong></td>\n",
       "                <td>0x02213349d6c8</td>\n",
       "            </tr><tr>\n",
       "                <td><strong>Formula</strong></td><td>C40H38N4O17</td>\n",
       "            </tr><tr>\n",
       "                <td><strong>Compartment</strong></td><td>c</td>\n",
       "            </tr><tr>\n",
       "                <td><strong>In 2 reaction(s)</strong></td><td>\n",
       "                    UPP3S, HMBS</td>\n",
       "            </tr>\n",
       "        </table>"
      ],
      "text/plain": [
       "<Metabolite hmbil_c at 0x2213349d6c8>"
      ]
     },
     "execution_count": 195,
     "metadata": {},
     "output_type": "execute_result"
    }
   ],
   "source": [
    "model_e_coli.metabolites.hmbil_c"
   ]
  },
  {
   "cell_type": "code",
   "execution_count": 168,
   "metadata": {},
   "outputs": [
    {
     "name": "stdout",
     "output_type": "stream",
     "text": [
      "HCYSMT: amet_c + hcys__L_c --> ahcys_c + h_c + met__L_c\n",
      "DMQMT: 2omhmbl_c + amet_c --> ahcys_c + h_c + q8h2_c\n",
      "UPP3MT: 2.0 amet_c + uppg3_c --> 2.0 ahcys_c + dscl_c + h_c\n",
      "OMBZLM: 2ombzl_c + amet_c --> 2ommbl_c + ahcys_c + h_c\n",
      "CFAS180G: 2.0 amet_c + pg181_c --> 2.0 ahcys_c + cpg180_c + 2.0 h_c\n",
      "MALCOAMT: amet_c + malcoa_c --> ahcys_c + malcoame_c\n",
      "CFAS160G: 2.0 amet_c + pg161_c --> 2.0 ahcys_c + cpg160_c + 2.0 h_c\n",
      "CFAS160E: 2.0 amet_c + pe161_c --> 2.0 ahcys_c + cpe160_c + 2.0 h_c\n",
      "AMMQLT8: 2dmmql8_c + amet_c --> ahcys_c + h_c + mql8_c\n",
      "OHPHM: 2ohph_c + amet_c --> 2omph_c + ahcys_c + h_c\n",
      "CFAS180E: 2.0 amet_c + pe181_c --> 2.0 ahcys_c + cpe180_c + 2.0 h_c\n",
      "TEO2M: amet_c + teo2_c --> ahcys_c + mteo2_c\n",
      "ACONMT: acon_T_c + amet_c --> aconm_c + ahcys_c\n"
     ]
    }
   ],
   "source": [
    "for rct in rct_ahcys:\n",
    "    if rct in rct_amet_c:\n",
    "        print (rct)"
   ]
  },
  {
   "cell_type": "code",
   "execution_count": null,
   "metadata": {},
   "outputs": [],
   "source": []
  },
  {
   "cell_type": "code",
   "execution_count": 62,
   "metadata": {},
   "outputs": [],
   "source": [
    "met_id = []\n",
    "met_kegg = []\n",
    "for met in model.metabolites:\n",
    "    met_id.append(met.id)\n",
    "    try:\n",
    "        met_kegg.append(met.notes['KEGG'])\n",
    "    except KeyError:\n",
    "        met_kegg.append('--')"
   ]
  },
  {
   "cell_type": "code",
   "execution_count": 68,
   "metadata": {},
   "outputs": [
    {
     "data": {
      "text/html": [
       "<div>\n",
       "<style scoped>\n",
       "    .dataframe tbody tr th:only-of-type {\n",
       "        vertical-align: middle;\n",
       "    }\n",
       "\n",
       "    .dataframe tbody tr th {\n",
       "        vertical-align: top;\n",
       "    }\n",
       "\n",
       "    .dataframe thead th {\n",
       "        text-align: right;\n",
       "    }\n",
       "</style>\n",
       "<table border=\"1\" class=\"dataframe\">\n",
       "  <thead>\n",
       "    <tr style=\"text-align: right;\">\n",
       "      <th></th>\n",
       "      <th>ID</th>\n",
       "      <th>KEGG</th>\n",
       "    </tr>\n",
       "  </thead>\n",
       "  <tbody>\n",
       "    <tr>\n",
       "      <th>0</th>\n",
       "      <td>pyridoxal_c</td>\n",
       "      <td>C00030</td>\n",
       "    </tr>\n",
       "    <tr>\n",
       "      <th>1</th>\n",
       "      <td>pydx5p_c</td>\n",
       "      <td>C00018</td>\n",
       "    </tr>\n",
       "    <tr>\n",
       "      <th>2</th>\n",
       "      <td>co2dam_c</td>\n",
       "      <td>C06504</td>\n",
       "    </tr>\n",
       "    <tr>\n",
       "      <th>3</th>\n",
       "      <td>adhlam_c</td>\n",
       "      <td>C16255</td>\n",
       "    </tr>\n",
       "    <tr>\n",
       "      <th>4</th>\n",
       "      <td>selmethtrna_c</td>\n",
       "      <td>C05336</td>\n",
       "    </tr>\n",
       "  </tbody>\n",
       "</table>\n",
       "</div>"
      ],
      "text/plain": [
       "              ID    KEGG\n",
       "0    pyridoxal_c  C00030\n",
       "1       pydx5p_c  C00018\n",
       "2       co2dam_c  C06504\n",
       "3       adhlam_c  C16255\n",
       "4  selmethtrna_c  C05336"
      ]
     },
     "execution_count": 68,
     "metadata": {},
     "output_type": "execute_result"
    }
   ],
   "source": [
    "mets_df = pd.DataFrame({'ID': met_id, 'KEGG': met_kegg})\n",
    "mets_df[0:5]"
   ]
  },
  {
   "cell_type": "code",
   "execution_count": 99,
   "metadata": {},
   "outputs": [
    {
     "data": {
      "text/html": [
       "<div>\n",
       "<style scoped>\n",
       "    .dataframe tbody tr th:only-of-type {\n",
       "        vertical-align: middle;\n",
       "    }\n",
       "\n",
       "    .dataframe tbody tr th {\n",
       "        vertical-align: top;\n",
       "    }\n",
       "\n",
       "    .dataframe thead th {\n",
       "        text-align: right;\n",
       "    }\n",
       "</style>\n",
       "<table border=\"1\" class=\"dataframe\">\n",
       "  <thead>\n",
       "    <tr style=\"text-align: right;\">\n",
       "      <th></th>\n",
       "      <th>ID</th>\n",
       "      <th>KEGG</th>\n",
       "    </tr>\n",
       "  </thead>\n",
       "  <tbody>\n",
       "    <tr>\n",
       "      <th>4</th>\n",
       "      <td>selmethtrna_c</td>\n",
       "      <td>C05336</td>\n",
       "    </tr>\n",
       "    <tr>\n",
       "      <th>771</th>\n",
       "      <td>selmethtrna_e</td>\n",
       "      <td>C05336</td>\n",
       "    </tr>\n",
       "  </tbody>\n",
       "</table>\n",
       "</div>"
      ],
      "text/plain": [
       "                ID    KEGG\n",
       "4    selmethtrna_c  C05336\n",
       "771  selmethtrna_e  C05336"
      ]
     },
     "execution_count": 99,
     "metadata": {},
     "output_type": "execute_result"
    }
   ],
   "source": [
    "mets_df.loc[mets_df['KEGG'] =='C05336']"
   ]
  },
  {
   "cell_type": "code",
   "execution_count": 110,
   "metadata": {},
   "outputs": [],
   "source": [
    "#for e. coli model\n",
    "met_id_ecoli = []\n",
    "met_kegg_ecoli = []\n",
    "for met in model_e_coli.metabolites:\n",
    "    met_id_ecoli.append(met.id)\n",
    "    try:\n",
    "        met_kegg_ecoli.append(met.annotation['kegg.reaction'])\n",
    "    except KeyError:\n",
    "        met_kegg_ecoli.append('--')"
   ]
  },
  {
   "cell_type": "code",
   "execution_count": 111,
   "metadata": {},
   "outputs": [
    {
     "data": {
      "text/html": [
       "<div>\n",
       "<style scoped>\n",
       "    .dataframe tbody tr th:only-of-type {\n",
       "        vertical-align: middle;\n",
       "    }\n",
       "\n",
       "    .dataframe tbody tr th {\n",
       "        vertical-align: top;\n",
       "    }\n",
       "\n",
       "    .dataframe thead th {\n",
       "        text-align: right;\n",
       "    }\n",
       "</style>\n",
       "<table border=\"1\" class=\"dataframe\">\n",
       "  <thead>\n",
       "    <tr style=\"text-align: right;\">\n",
       "      <th></th>\n",
       "      <th>ID</th>\n",
       "      <th>KEGG</th>\n",
       "    </tr>\n",
       "  </thead>\n",
       "  <tbody>\n",
       "    <tr>\n",
       "      <th>0</th>\n",
       "      <td>octapb_c</td>\n",
       "      <td>--</td>\n",
       "    </tr>\n",
       "    <tr>\n",
       "      <th>1</th>\n",
       "      <td>cysi__L_e</td>\n",
       "      <td>--</td>\n",
       "    </tr>\n",
       "    <tr>\n",
       "      <th>2</th>\n",
       "      <td>dhap_c</td>\n",
       "      <td>--</td>\n",
       "    </tr>\n",
       "    <tr>\n",
       "      <th>3</th>\n",
       "      <td>prbatp_c</td>\n",
       "      <td>--</td>\n",
       "    </tr>\n",
       "    <tr>\n",
       "      <th>4</th>\n",
       "      <td>10fthf_c</td>\n",
       "      <td>--</td>\n",
       "    </tr>\n",
       "  </tbody>\n",
       "</table>\n",
       "</div>"
      ],
      "text/plain": [
       "          ID KEGG\n",
       "0   octapb_c   --\n",
       "1  cysi__L_e   --\n",
       "2     dhap_c   --\n",
       "3   prbatp_c   --\n",
       "4   10fthf_c   --"
      ]
     },
     "execution_count": 111,
     "metadata": {},
     "output_type": "execute_result"
    }
   ],
   "source": [
    "mets_ecoli_df = pd.DataFrame({'ID': met_id_ecoli, 'KEGG': met_kegg_ecoli})\n",
    "mets_ecoli_df[0:5]"
   ]
  },
  {
   "cell_type": "code",
   "execution_count": 114,
   "metadata": {},
   "outputs": [
    {
     "data": {
      "text/html": [
       "<div>\n",
       "<style scoped>\n",
       "    .dataframe tbody tr th:only-of-type {\n",
       "        vertical-align: middle;\n",
       "    }\n",
       "\n",
       "    .dataframe tbody tr th {\n",
       "        vertical-align: top;\n",
       "    }\n",
       "\n",
       "    .dataframe thead th {\n",
       "        text-align: right;\n",
       "    }\n",
       "</style>\n",
       "<table border=\"1\" class=\"dataframe\">\n",
       "  <thead>\n",
       "    <tr style=\"text-align: right;\">\n",
       "      <th></th>\n",
       "      <th>ID</th>\n",
       "      <th>KEGG</th>\n",
       "    </tr>\n",
       "  </thead>\n",
       "  <tbody>\n",
       "  </tbody>\n",
       "</table>\n",
       "</div>"
      ],
      "text/plain": [
       "Empty DataFrame\n",
       "Columns: [ID, KEGG]\n",
       "Index: []"
      ]
     },
     "execution_count": 114,
     "metadata": {},
     "output_type": "execute_result"
    }
   ],
   "source": [
    "mets_ecoli_df.loc[mets_ecoli_df['KEGG'] =='C01647']"
   ]
  },
  {
   "cell_type": "code",
   "execution_count": null,
   "metadata": {},
   "outputs": [],
   "source": []
  }
 ],
 "metadata": {
  "kernelspec": {
   "display_name": "Python 3",
   "language": "python",
   "name": "python3"
  },
  "language_info": {
   "codemirror_mode": {
    "name": "ipython",
    "version": 3
   },
   "file_extension": ".py",
   "mimetype": "text/x-python",
   "name": "python",
   "nbconvert_exporter": "python",
   "pygments_lexer": "ipython3",
   "version": "3.7.4"
  }
 },
 "nbformat": 4,
 "nbformat_minor": 2
}
