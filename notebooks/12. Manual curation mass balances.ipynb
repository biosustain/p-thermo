{
 "cells": [
  {
   "cell_type": "markdown",
   "metadata": {},
   "source": [
    "# Introduction\n",
    "In the previous notebooks and commits, we've fixed 60% of the mass imbalances present in the model. Here I will split the list of left over imbalances in two: one for Martyn to check by hand, the other I will do here. \n",
    "\n",
    "\n",
    "## Manual fixing of unbalanced metabolites\n"
   ]
  },
  {
   "cell_type": "code",
   "execution_count": 469,
   "metadata": {},
   "outputs": [],
   "source": [
    "import cameo\n",
    "import pandas as pd\n",
    "import cobra.io\n",
    "import escher"
   ]
  },
  {
   "cell_type": "code",
   "execution_count": 470,
   "metadata": {},
   "outputs": [],
   "source": [
    "model = cobra.io.read_sbml_model('../model/p-thermo.xml')"
   ]
  },
  {
   "cell_type": "code",
   "execution_count": 471,
   "metadata": {},
   "outputs": [
    {
     "data": {
      "text/plain": [
       "174"
      ]
     },
     "execution_count": 471,
     "metadata": {},
     "output_type": "execute_result"
    }
   ],
   "source": [
    "unbalanced_id_new = [\"DCTPT\",\"THPPGLIG\",\"SUCHY2\",\"MHTPPT\",\"DTTPT\",\"AHETDYTTPHY\",\"CELLBHY\",\"TAL\",\"SUCHY\",\"OAACOLY\",\"3HAD40_1\",\"ATPACAT\",\"BGLUCH\",\"COOR\",\"DXYL5PTST\",\"SEPHCHCS\",\"PYRPT\",\"FBAf\",\"SUCBZL\",\"SCENLAT\",\"DTPCUDCPPR\",\"ECOAH9ir\",\"GCCa\",\"PYRACT\",\"AMYLOSEGT\",\"ACEDIA\",\"HPI\",\"SUCHMSSELCYSL\",\"TALA\",\"UPP1S\",\"FICYTCCNOR\",\"SELCYSTL\",\"TKT2\",\"HOXPRm\",\"GCCb\",\"THRPD\",\"ADPGLCGT\",\"ACt\",\"LAC__Dt\",\"FOCYTCCOR\",\"FAPNTPAH\",\"SUCCt\",\"MBTCOAT\",\"BCFASYN2\",\"GTPHYDRO\",\"VALDHr\",\"TDP\",\"MALACPAT\",\"UGE\",\"THRS\",\"GLUTRS\",\"TMDPPK\",\"CO2t\",\"UACMAMO\",\"Ht\",\"AKGDEHY\",\"FRU1PT\",\"GSPMDS\",\"PRE3AOR\",\"PGLHY\",\"SSALx\",\"ACCOAACT\",\"AKGOR\",\"NADHQOR\",\"SSALy\",\"ATPNAT\",\"ACCOATT\",\"SHSL1\",\"STARCHHY\",\"PRPAT\",\"ARABINANHY\",\"CDPDAGPT\",\"PRPUT\",\"PRPGT\",\"PRPCT\",\"23DK5MPPISO\",\"STARCHHY2\",\"AMYTRANS\",\"STARCHGT\",\"OPALMACPOR\",\"HDEACPT\",\"SHSL2\",\"UDPGD\",\"ARBTPT\",\"TREPT\",\"LAC__Lt\",\"UAMAGS\",\"BCFASYN\",\"SBP\",\"HMSD\",\"GHMT\",\"MNLPT\",\"GALISO\",\"GLCDPT\",\"ASPSALY\",\"AH6PISO\",\"NH4t\",\"ATPPT\",\"GTHRDt\",\"UAMAS\",\"QH2t\",\"UPP3MT\",\"SALCNPT\",\"TMPPP\",\"DECACPOR\",\"MYRACPOR\",\"THMTPt\",\"R05219\",\"UPPDC1\",\"MMACPAT\",\"MHOPT\",\"OMCDC\",\"NADPt\",\"CTPPCT\",\"GAMPT\",\"AMETLY\",\"AADCOAT\",\"ENCOAT\",\"MANPT\",\"UAGCVT\",\"SHSL4h\",\"SERD_L\",\"DHNAOCTD\",\"SELCYSLY\",\"ATPTAT\",\"LPROQOR\",\"BTNLIG\",\"ACDO\",\"UAAAGGLAAT\",\"STACHY2\",\"COQOR\",\"THMt\",\"CELLOHYDRO\",\"ACMUMPT\",\"COBALT2t\",\"MTRI\",\"ETOHt\",\"MDRPD\",\"STACHY\",\"PYDX5Pt\",\"QH2OR\",\"CLt\",\"IVCOAR\",\"ACTCO2L\",\"QH2NOR\",\"BCFASYN3\",\"COH2OOR\",\"MALTPT\",\"ASN__Lt\",\"GLUTRR\",\"GLC__Dt\",\"HEXACPOR\",\"HEXACPAT\",\"DATPT\",\"BTN5AMPL\",\"GTPT\",\"MALQOR\",\"FE2t\",\"CTPT\",\"OBO2OR\",\"F1PPT\",\"SELMELIG\",\"LALDPOR\",\"OH1t\",\"PFKh\",\"DGTPT\",\"PHEAOR\",\"UTPT\",\"BFBP\",\"OCTACPOR\",\"PYRLLOR\",\"O2t\",\"SAM\",\"SELCYSTGL\"]\n",
    "len(unbalanced_id_new)"
   ]
  },
  {
   "cell_type": "code",
   "execution_count": 472,
   "metadata": {},
   "outputs": [
    {
     "data": {
      "text/plain": [
       "171"
      ]
     },
     "execution_count": 472,
     "metadata": {},
     "output_type": "execute_result"
    }
   ],
   "source": [
    "#convert to list of reactions\n",
    "unbalanced_rct_new = []\n",
    "for rct in model.reactions:\n",
    "    if rct.id in unbalanced_id_new:\n",
    "        unbalanced_rct_new.append(rct)\n",
    "    else:\n",
    "        continue\n",
    "len(unbalanced_rct_new)   "
   ]
  },
  {
   "cell_type": "code",
   "execution_count": 5,
   "metadata": {},
   "outputs": [
    {
     "data": {
      "text/plain": [
       "86"
      ]
     },
     "execution_count": 5,
     "metadata": {},
     "output_type": "execute_result"
    }
   ],
   "source": [
    "martyn_reactions = unbalanced_rct_new[0:86]\n",
    "len(martyn_reactions)"
   ]
  },
  {
   "cell_type": "code",
   "execution_count": 473,
   "metadata": {},
   "outputs": [
    {
     "data": {
      "text/plain": [
       "84"
      ]
     },
     "execution_count": 473,
     "metadata": {},
     "output_type": "execute_result"
    }
   ],
   "source": [
    "viv_reactions = unbalanced_rct_new[87:173]\n",
    "len(viv_reactions)"
   ]
  },
  {
   "cell_type": "code",
   "execution_count": 7,
   "metadata": {},
   "outputs": [],
   "source": [
    "#make a csv file of both lists to use in analysis\n",
    "martyn_id = []\n",
    "martyn_name = []\n",
    "for rct in martyn_reactions:\n",
    "    martyn_id.append(rct.id)\n",
    "    martyn_name.append(rct.name)\n"
   ]
  },
  {
   "cell_type": "code",
   "execution_count": 8,
   "metadata": {},
   "outputs": [],
   "source": [
    "viv_id = []\n",
    "viv_name = []\n",
    "for rct in viv_reactions:\n",
    "    viv_id.append(rct.id)\n",
    "    viv_name.append(rct.name)"
   ]
  },
  {
   "cell_type": "code",
   "execution_count": 9,
   "metadata": {},
   "outputs": [],
   "source": [
    "martyn_df = pd.DataFrame({'rct_id': martyn_id, 'rct_name':martyn_name})\n",
    "viv_df = pd.DataFrame({'rct_id': viv_id, 'rct_name':viv_name})"
   ]
  },
  {
   "cell_type": "code",
   "execution_count": 11,
   "metadata": {},
   "outputs": [],
   "source": [
    "#df to two csv files\n",
    "martyn_df.to_csv('../databases/Martyn_unbalanced_rcts.csv')\n",
    "viv_df.to_csv('../databases/Viv_unbalanced_rcts.csv')"
   ]
  },
  {
   "cell_type": "markdown",
   "metadata": {},
   "source": [
    "From the list, I will just go through them all, inspect them and change what should be fixed. In some cases, it can be usefull to check how the reactions are stored in the E. coli iML1515 model. If some reactions cannot be fixed, I will keep them noted and discuss with Niko/Ben how to proceed with those cases further.\n",
    "\n",
    "Every 5 reactions I will save & commit, to prevent too many changes from accumulating between commits."
   ]
  },
  {
   "cell_type": "code",
   "execution_count": 14,
   "metadata": {},
   "outputs": [],
   "source": [
    "model_e_coli = cameo.load_model(\"iML1515\")\n",
    "model_e_coli_MG1655 = cameo.load_model(\"iJO1366\")"
   ]
  },
  {
   "cell_type": "code",
   "execution_count": 4,
   "metadata": {},
   "outputs": [],
   "source": [
    "model = cobra.io.read_sbml_model('../model/p-thermo.xml')"
   ]
  },
  {
   "cell_type": "code",
   "execution_count": 202,
   "metadata": {},
   "outputs": [],
   "source": [
    "model.reactions.AHETDYTTPHY.add_metabolites({model.metabolites.h_c: -3.0})"
   ]
  },
  {
   "cell_type": "code",
   "execution_count": 203,
   "metadata": {},
   "outputs": [],
   "source": [
    "model.reactions.COOR.add_metabolites({model.metabolites.fcytb5612_c: 2.0, model.metabolites.h_c:1.0})"
   ]
  },
  {
   "cell_type": "code",
   "execution_count": 204,
   "metadata": {},
   "outputs": [],
   "source": [
    "model.metabolites.fdp_B_c.formula = 'C6H10O12P2'"
   ]
  },
  {
   "cell_type": "code",
   "execution_count": 206,
   "metadata": {},
   "outputs": [],
   "source": [
    "model.metabolites.f6p_B_c.formula = 'C6H11O9P'"
   ]
  },
  {
   "cell_type": "code",
   "execution_count": 207,
   "metadata": {},
   "outputs": [],
   "source": [
    "model.reactions.SELCYSTGL.add_metabolites({model.metabolites.h_c:1.0})"
   ]
  },
  {
   "cell_type": "code",
   "execution_count": 208,
   "metadata": {},
   "outputs": [],
   "source": [
    "model.reactions.SELCYSTL.add_metabolites({model.metabolites.h_c:1.0})"
   ]
  },
  {
   "cell_type": "code",
   "execution_count": 209,
   "metadata": {},
   "outputs": [],
   "source": [
    "model.reactions.SUCHMSSELCYSL.add_metabolites({model.metabolites.h_c:1.0})"
   ]
  },
  {
   "cell_type": "code",
   "execution_count": 210,
   "metadata": {},
   "outputs": [],
   "source": [
    "model.metabolites.uppg1_c.formula = 'C40H36N4O16'"
   ]
  },
  {
   "cell_type": "code",
   "execution_count": 217,
   "metadata": {},
   "outputs": [],
   "source": [
    "model.reactions.FAPNTPAH.add_metabolites({model.metabolites.h_c:1.0})"
   ]
  },
  {
   "cell_type": "code",
   "execution_count": 219,
   "metadata": {},
   "outputs": [],
   "source": [
    "#save & commit\n",
    "cobra.io.write_sbml_model(model,'../model/p-thermo.xml')"
   ]
  },
  {
   "cell_type": "code",
   "execution_count": 3,
   "metadata": {},
   "outputs": [
    {
     "ename": "AttributeError",
     "evalue": "DictList has no attribute or entry oh1_c",
     "output_type": "error",
     "traceback": [
      "\u001b[1;31m---------------------------------------------------------------------------\u001b[0m",
      "\u001b[1;31mKeyError\u001b[0m                                  Traceback (most recent call last)",
      "\u001b[1;32m~\\AppData\\Local\\Continuum\\anaconda3\\envs\\g-thermo\\lib\\site-packages\\cobra\\core\\dictlist.py\u001b[0m in \u001b[0;36m__getattr__\u001b[1;34m(self, attr)\u001b[0m\n\u001b[0;32m    450\u001b[0m         \u001b[1;32mtry\u001b[0m\u001b[1;33m:\u001b[0m\u001b[1;33m\u001b[0m\u001b[1;33m\u001b[0m\u001b[0m\n\u001b[1;32m--> 451\u001b[1;33m             \u001b[1;32mreturn\u001b[0m \u001b[0mDictList\u001b[0m\u001b[1;33m.\u001b[0m\u001b[0mget_by_id\u001b[0m\u001b[1;33m(\u001b[0m\u001b[0mself\u001b[0m\u001b[1;33m,\u001b[0m \u001b[0mattr\u001b[0m\u001b[1;33m)\u001b[0m\u001b[1;33m\u001b[0m\u001b[1;33m\u001b[0m\u001b[0m\n\u001b[0m\u001b[0;32m    452\u001b[0m         \u001b[1;32mexcept\u001b[0m \u001b[0mKeyError\u001b[0m\u001b[1;33m:\u001b[0m\u001b[1;33m\u001b[0m\u001b[1;33m\u001b[0m\u001b[0m\n",
      "\u001b[1;32m~\\AppData\\Local\\Continuum\\anaconda3\\envs\\g-thermo\\lib\\site-packages\\cobra\\core\\dictlist.py\u001b[0m in \u001b[0;36mget_by_id\u001b[1;34m(self, id)\u001b[0m\n\u001b[0;32m     57\u001b[0m         \u001b[1;34m\"\"\"return the element with a matching id\"\"\"\u001b[0m\u001b[1;33m\u001b[0m\u001b[1;33m\u001b[0m\u001b[0m\n\u001b[1;32m---> 58\u001b[1;33m         \u001b[1;32mreturn\u001b[0m \u001b[0mlist\u001b[0m\u001b[1;33m.\u001b[0m\u001b[0m__getitem__\u001b[0m\u001b[1;33m(\u001b[0m\u001b[0mself\u001b[0m\u001b[1;33m,\u001b[0m \u001b[0mself\u001b[0m\u001b[1;33m.\u001b[0m\u001b[0m_dict\u001b[0m\u001b[1;33m[\u001b[0m\u001b[0mid\u001b[0m\u001b[1;33m]\u001b[0m\u001b[1;33m)\u001b[0m\u001b[1;33m\u001b[0m\u001b[1;33m\u001b[0m\u001b[0m\n\u001b[0m\u001b[0;32m     59\u001b[0m \u001b[1;33m\u001b[0m\u001b[0m\n",
      "\u001b[1;31mKeyError\u001b[0m: 'oh1_c'",
      "\nDuring handling of the above exception, another exception occurred:\n",
      "\u001b[1;31mAttributeError\u001b[0m                            Traceback (most recent call last)",
      "\u001b[1;32m<ipython-input-3-6671eabb20e1>\u001b[0m in \u001b[0;36m<module>\u001b[1;34m\u001b[0m\n\u001b[0;32m      1\u001b[0m \u001b[1;31m#noticed water is named as oh1, which is not so useful so i cahnged it here.\u001b[0m\u001b[1;33m\u001b[0m\u001b[1;33m\u001b[0m\u001b[1;33m\u001b[0m\u001b[0m\n\u001b[1;32m----> 2\u001b[1;33m \u001b[0mmodel\u001b[0m\u001b[1;33m.\u001b[0m\u001b[0mmetabolites\u001b[0m\u001b[1;33m.\u001b[0m\u001b[0moh1_c\u001b[0m\u001b[1;33m.\u001b[0m\u001b[0mid\u001b[0m \u001b[1;33m=\u001b[0m \u001b[1;34m'h2o_c'\u001b[0m\u001b[1;33m\u001b[0m\u001b[1;33m\u001b[0m\u001b[0m\n\u001b[0m\u001b[0;32m      3\u001b[0m \u001b[0mmodel\u001b[0m\u001b[1;33m.\u001b[0m\u001b[0mmetabolites\u001b[0m\u001b[1;33m.\u001b[0m\u001b[0moh1_e\u001b[0m\u001b[1;33m.\u001b[0m\u001b[0mid\u001b[0m \u001b[1;33m=\u001b[0m \u001b[1;34m'h2o_e'\u001b[0m\u001b[1;33m\u001b[0m\u001b[1;33m\u001b[0m\u001b[0m\n",
      "\u001b[1;32m~\\AppData\\Local\\Continuum\\anaconda3\\envs\\g-thermo\\lib\\site-packages\\cobra\\core\\dictlist.py\u001b[0m in \u001b[0;36m__getattr__\u001b[1;34m(self, attr)\u001b[0m\n\u001b[0;32m    452\u001b[0m         \u001b[1;32mexcept\u001b[0m \u001b[0mKeyError\u001b[0m\u001b[1;33m:\u001b[0m\u001b[1;33m\u001b[0m\u001b[1;33m\u001b[0m\u001b[0m\n\u001b[0;32m    453\u001b[0m             raise AttributeError(\"DictList has no attribute or entry %s\" %\n\u001b[1;32m--> 454\u001b[1;33m                                  attr)\n\u001b[0m\u001b[0;32m    455\u001b[0m \u001b[1;33m\u001b[0m\u001b[0m\n\u001b[0;32m    456\u001b[0m     \u001b[1;32mdef\u001b[0m \u001b[0m__dir__\u001b[0m\u001b[1;33m(\u001b[0m\u001b[0mself\u001b[0m\u001b[1;33m)\u001b[0m\u001b[1;33m:\u001b[0m\u001b[1;33m\u001b[0m\u001b[1;33m\u001b[0m\u001b[0m\n",
      "\u001b[1;31mAttributeError\u001b[0m: DictList has no attribute or entry oh1_c"
     ]
    }
   ],
   "source": [
    "#noticed water is named as oh1, which is not so useful so i cahnged it here.\n",
    "model.metabolites.oh1_c.id = 'h2o_c'\n",
    "model.metabolites.oh1_e.id = 'h2o_e'"
   ]
  },
  {
   "cell_type": "code",
   "execution_count": null,
   "metadata": {},
   "outputs": [],
   "source": [
    "#save & commit\n",
    "cobra.io.write_sbml_model(model,'../model/p-thermo.xml')"
   ]
  },
  {
   "cell_type": "code",
   "execution_count": 157,
   "metadata": {},
   "outputs": [],
   "source": [
    "model = cobra.io.read_sbml_model('../model/p-thermo.xml')"
   ]
  },
  {
   "cell_type": "code",
   "execution_count": 158,
   "metadata": {},
   "outputs": [],
   "source": [
    "model.reactions.PRE3AOR.add_metabolites({model.metabolites.nad_c:-8.0, model.metabolites.h2o_c: -8.0})"
   ]
  },
  {
   "cell_type": "code",
   "execution_count": 159,
   "metadata": {},
   "outputs": [],
   "source": [
    "model.reactions.R05219.add_metabolites({model.metabolites.amet_c:1.0, model.metabolites.h_c:2.0})"
   ]
  },
  {
   "cell_type": "code",
   "execution_count": 160,
   "metadata": {},
   "outputs": [],
   "source": [
    "model.reactions.DHNAOCTD.id = 'DHNAOT4'"
   ]
  },
  {
   "cell_type": "code",
   "execution_count": 161,
   "metadata": {},
   "outputs": [],
   "source": [
    "model.metabolites.octdp_c.formula = 'C40H65O7P2'"
   ]
  },
  {
   "cell_type": "code",
   "execution_count": 162,
   "metadata": {},
   "outputs": [],
   "source": [
    "model.metabolites.get_by_id('2dmmq_c').formula = 'C50H72O2'"
   ]
  },
  {
   "cell_type": "code",
   "execution_count": 163,
   "metadata": {},
   "outputs": [],
   "source": [
    "model.metabolites.ppi_c.formula = 'HO7P2'"
   ]
  },
  {
   "cell_type": "code",
   "execution_count": 164,
   "metadata": {},
   "outputs": [],
   "source": [
    "model.reactions.DHNAOT4.add_metabolites({model.metabolites.h_c:-1.0})"
   ]
  },
  {
   "cell_type": "code",
   "execution_count": 165,
   "metadata": {},
   "outputs": [],
   "source": [
    "model.reactions.SUCHY.add_metabolites({model.metabolites.get_by_id('6dg_c'):1.0, model.metabolites.sucr_c:-1.0})"
   ]
  },
  {
   "cell_type": "code",
   "execution_count": 166,
   "metadata": {},
   "outputs": [],
   "source": [
    "model.reactions.SUCHY2.add_metabolites({model.metabolites.get_by_id('6dg_c'):1.0, model.metabolites.sucr_c:-1.0})"
   ]
  },
  {
   "cell_type": "code",
   "execution_count": 167,
   "metadata": {},
   "outputs": [],
   "source": [
    "model.metabolites.cellb_c.formula = 'C12H22O11'"
   ]
  },
  {
   "cell_type": "code",
   "execution_count": 168,
   "metadata": {},
   "outputs": [],
   "source": [
    "model.metabolites.mnt_c.id = 'stys_c'"
   ]
  },
  {
   "cell_type": "code",
   "execution_count": 169,
   "metadata": {},
   "outputs": [],
   "source": [
    "model.metabolites.stys_c.formula = 'C24H42O21'"
   ]
  },
  {
   "cell_type": "code",
   "execution_count": 170,
   "metadata": {},
   "outputs": [],
   "source": [
    "model.reactions.THRPD.add_metabolites({model.metabolites.h_c: -1.0})"
   ]
  },
  {
   "cell_type": "code",
   "execution_count": 171,
   "metadata": {},
   "outputs": [],
   "source": [
    "model.metabolites.empdhll_c.formula = 'C12H22NO2S2R'"
   ]
  },
  {
   "cell_type": "code",
   "execution_count": 172,
   "metadata": {},
   "outputs": [],
   "source": [
    "#save & commit\n",
    "cobra.io.write_sbml_model(model,'../model/p-thermo.xml')"
   ]
  },
  {
   "cell_type": "code",
   "execution_count": 275,
   "metadata": {},
   "outputs": [],
   "source": [
    "model =cobra.io.read_sbml_model('../model/p-thermo.xml')"
   ]
  },
  {
   "cell_type": "code",
   "execution_count": 276,
   "metadata": {},
   "outputs": [],
   "source": [
    "model.metabolites.dhpltra_c.formula = 'C13H24NO2S2R'"
   ]
  },
  {
   "cell_type": "code",
   "execution_count": 277,
   "metadata": {},
   "outputs": [],
   "source": [
    "model.reactions.SEPHCHCS.add_metabolites({model.metabolites.h_c:-1.0})"
   ]
  },
  {
   "cell_type": "code",
   "execution_count": 278,
   "metadata": {},
   "outputs": [],
   "source": [
    "model.metabolites.glyc3p_c.formula = 'C3H7O6P'"
   ]
  },
  {
   "cell_type": "code",
   "execution_count": 279,
   "metadata": {},
   "outputs": [],
   "source": [
    "model.metabolites.dhap_c = 'C3H5O6P'"
   ]
  },
  {
   "cell_type": "code",
   "execution_count": 280,
   "metadata": {},
   "outputs": [],
   "source": [
    "model.metabolites.qh2_c.formula = 'C19H28O4R'"
   ]
  },
  {
   "cell_type": "code",
   "execution_count": 281,
   "metadata": {},
   "outputs": [],
   "source": [
    "model.reactions.COQOR.add_metabolites({model.metabolites.h_c:-1.0})"
   ]
  },
  {
   "cell_type": "code",
   "execution_count": 282,
   "metadata": {},
   "outputs": [],
   "source": [
    "model.metabolites.get_by_id('but2eACP_c').formula = 'C4H5OSR'"
   ]
  },
  {
   "cell_type": "code",
   "execution_count": 283,
   "metadata": {},
   "outputs": [],
   "source": [
    "model.metabolites.get_by_id('3hbutACP_c').formula = 'C4H7O2SR'"
   ]
  },
  {
   "cell_type": "code",
   "execution_count": 284,
   "metadata": {},
   "outputs": [],
   "source": [
    "model.reactions.get_by_id('3HAD40_1').add_metabolites({model.metabolites.get_by_id('3hbutACP_c'):-2.0, model.metabolites.malcoa_c: 1.0, model.metabolites.but2eACP_c:1.0})"
   ]
  },
  {
   "cell_type": "code",
   "execution_count": 285,
   "metadata": {},
   "outputs": [],
   "source": [
    "model.metabolites.hexacp_c.formula = 'C6H11OSR'"
   ]
  },
  {
   "cell_type": "code",
   "execution_count": 286,
   "metadata": {},
   "outputs": [],
   "source": [
    "model.metabolites.get_by_id('3hhexACP_c').formula = 'C6H9OSR'"
   ]
  },
  {
   "cell_type": "code",
   "execution_count": 287,
   "metadata": {},
   "outputs": [],
   "source": [
    "model.metabolites.malACP_c.formula = 'C3H3O3SR'"
   ]
  },
  {
   "cell_type": "code",
   "execution_count": 288,
   "metadata": {},
   "outputs": [],
   "source": [
    "model.metabolites.get_by_id('3ooctACP_c').formula = 'C8H13O2SR'"
   ]
  },
  {
   "cell_type": "code",
   "execution_count": 289,
   "metadata": {},
   "outputs": [],
   "source": [
    "model.metabolites.ACP_c.formula = 'HSR'"
   ]
  },
  {
   "cell_type": "code",
   "execution_count": 290,
   "metadata": {},
   "outputs": [],
   "source": [
    "model.metabolites.octacp_c.formula = 'C8H13OSR'"
   ]
  },
  {
   "cell_type": "code",
   "execution_count": 291,
   "metadata": {},
   "outputs": [],
   "source": [
    "model.metabolites.toct2eACP_c.formula = 'C8H13OSR'"
   ]
  },
  {
   "cell_type": "code",
   "execution_count": 292,
   "metadata": {},
   "outputs": [],
   "source": [
    "model.reactions.OCTACPOR.add_metabolites({model.metabolites.gtp_c: -1.0, model.metabolites.nadh_c:1.0, model.metabolites.h_c:-2.0})"
   ]
  },
  {
   "cell_type": "code",
   "execution_count": 306,
   "metadata": {},
   "outputs": [],
   "source": [
    "model.reactions.DECACPOR.add_metabolites({model.metabolites.decanoylacp_c: -1.0, model.metabolites.get_by_id('3hdecACP_c'):1.0})"
   ]
  },
  {
   "cell_type": "code",
   "execution_count": 305,
   "metadata": {},
   "outputs": [],
   "source": [
    "model.metabolites.decanoylacp_c.formula = 'C10H19OSR'"
   ]
  },
  {
   "cell_type": "code",
   "execution_count": 310,
   "metadata": {},
   "outputs": [],
   "source": [
    "model.metabolites.tdec2eACP_c.formula = 'C10H17OSR'"
   ]
  },
  {
   "cell_type": "code",
   "execution_count": 315,
   "metadata": {},
   "outputs": [],
   "source": [
    "model.metabolites.get_by_id('3omrsACP_c').formula = 'C12H23OSR'"
   ]
  },
  {
   "cell_type": "code",
   "execution_count": 320,
   "metadata": {},
   "outputs": [],
   "source": [
    "model.metabolites.tddec2eACP_c.formula = 'C14H25O2SR'"
   ]
  },
  {
   "cell_type": "code",
   "execution_count": 326,
   "metadata": {},
   "outputs": [],
   "source": [
    "model.metabolites.myracp_c.formula = 'C14H27OSR'"
   ]
  },
  {
   "cell_type": "code",
   "execution_count": 329,
   "metadata": {},
   "outputs": [],
   "source": [
    "model.metabolites.tmrs2eACP_c.formula = 'C14H25OSR'"
   ]
  },
  {
   "cell_type": "code",
   "execution_count": 353,
   "metadata": {},
   "outputs": [],
   "source": [
    "model.metabolites.get_by_id('3opalmACP_c').formula = 'C16H31OSR'"
   ]
  },
  {
   "cell_type": "code",
   "execution_count": 347,
   "metadata": {},
   "outputs": [],
   "source": [
    "model.metabolites.tpalm2eACP_c.formula = 'C16H29OSR'"
   ]
  },
  {
   "cell_type": "code",
   "execution_count": 359,
   "metadata": {},
   "outputs": [],
   "source": [
    "model.metabolites.hdeacp_c.formula = 'C16H31OSR'"
   ]
  },
  {
   "cell_type": "code",
   "execution_count": 375,
   "metadata": {
    "scrolled": true
   },
   "outputs": [
    {
     "name": "stderr",
     "output_type": "stream",
     "text": [
      "C:\\Users\\vivmol\\AppData\\Local\\Continuum\\anaconda3\\envs\\g-thermo\\lib\\site-packages\\cobra\\core\\model.py:716: UserWarning:\n",
      "\n",
      "need to pass in a list\n",
      "\n",
      "C:\\Users\\vivmol\\AppData\\Local\\Continuum\\anaconda3\\envs\\g-thermo\\lib\\site-packages\\cobra\\core\\group.py:110: UserWarning:\n",
      "\n",
      "need to pass in a list\n",
      "\n"
     ]
    }
   ],
   "source": [
    "model.remove_reactions(model.reactions.GALISO)"
   ]
  },
  {
   "cell_type": "code",
   "execution_count": 378,
   "metadata": {},
   "outputs": [],
   "source": [
    "#save & commit\n",
    "cobra.io.write_sbml_model(model,'../model/p-thermo.xml')"
   ]
  },
  {
   "cell_type": "code",
   "execution_count": 379,
   "metadata": {},
   "outputs": [],
   "source": [
    "model =cobra.io.read_sbml_model('../model/p-thermo.xml')"
   ]
  },
  {
   "cell_type": "code",
   "execution_count": 390,
   "metadata": {},
   "outputs": [],
   "source": [
    "model.metabolites.get_by_id('l23dhdpico_c').formula = 'C7H7NO5'"
   ]
  },
  {
   "cell_type": "code",
   "execution_count": 391,
   "metadata": {},
   "outputs": [],
   "source": [
    "model.metabolites.get_by_id('l23dhdpico_c').name = '4-Hydroxy-2,3,4,5-tetrahydrodipicolinate'"
   ]
  },
  {
   "cell_type": "code",
   "execution_count": 394,
   "metadata": {},
   "outputs": [],
   "source": [
    "model.reactions.ASPSALY.add_metabolites({model.metabolites.h_c: 1.0})"
   ]
  },
  {
   "cell_type": "code",
   "execution_count": 400,
   "metadata": {},
   "outputs": [],
   "source": [
    "model.metabolites.fdp_B_c.formula = 'C6H12O9P'"
   ]
  },
  {
   "cell_type": "code",
   "execution_count": 403,
   "metadata": {},
   "outputs": [],
   "source": [
    "model.metabolites.fdp_B_c.charge = -1"
   ]
  },
  {
   "cell_type": "code",
   "execution_count": 411,
   "metadata": {},
   "outputs": [],
   "source": [
    "model.metabolites.nh4_c.formula = 'NH4'\n",
    "model.metabolites.nh4_e.formula = 'NH4'"
   ]
  },
  {
   "cell_type": "code",
   "execution_count": 412,
   "metadata": {},
   "outputs": [],
   "source": [
    "model.metabolites.nh4_c.charge = 1\n",
    "model.metabolites.nh4_e.charge = 1"
   ]
  },
  {
   "cell_type": "code",
   "execution_count": 425,
   "metadata": {},
   "outputs": [],
   "source": [
    "model.metabolites.glc__D_e.formula = 'C6H12O6'"
   ]
  },
  {
   "cell_type": "code",
   "execution_count": 424,
   "metadata": {},
   "outputs": [],
   "source": [
    "model.metabolites.glc__D_e.charge = 0"
   ]
  },
  {
   "cell_type": "code",
   "execution_count": 442,
   "metadata": {},
   "outputs": [],
   "source": [
    "model.metabolites.fe2_e.formula = model.metabolites.fe2_c.formula\n",
    "model.metabolites.fe2_e.charge = model.metabolites.fe2_c.charge"
   ]
  },
  {
   "cell_type": "code",
   "execution_count": 453,
   "metadata": {},
   "outputs": [],
   "source": [
    "model.reactions.OH1t.id = 'H2Ot'"
   ]
  },
  {
   "cell_type": "code",
   "execution_count": 447,
   "metadata": {},
   "outputs": [],
   "source": [
    "model.metabolites.h2o_e.formula = model.metabolites.h2o_c.formula\n",
    "model.metabolites.h2o_e.charge = model.metabolites.h2o_c.charge"
   ]
  },
  {
   "cell_type": "code",
   "execution_count": 458,
   "metadata": {},
   "outputs": [],
   "source": [
    "model.metabolites.o2_e.formula = model.metabolites.o2_c.formula\n",
    "model.metabolites.o2_e.charge = model.metabolites.o2_c.charge"
   ]
  },
  {
   "cell_type": "code",
   "execution_count": 461,
   "metadata": {},
   "outputs": [],
   "source": [
    "model.metabolites.co2_e.formula = model.metabolites.co2_c.formula\n",
    "model.metabolites.co2_e.charge = model.metabolites.co2_c.charge"
   ]
  },
  {
   "cell_type": "code",
   "execution_count": 463,
   "metadata": {},
   "outputs": [],
   "source": [
    "model.metabolites.h_e.formula = model.metabolites.h_c.formula\n",
    "model.metabolites.h_e.charge = model.metabolites.h_c.charge"
   ]
  },
  {
   "cell_type": "code",
   "execution_count": 466,
   "metadata": {},
   "outputs": [],
   "source": [
    "model.metabolites.thm_e.formula = model.metabolites.thm_c.formula\n",
    "model.metabolites.thm_e.charge = model.metabolites.thm_c.charge"
   ]
  },
  {
   "cell_type": "code",
   "execution_count": 469,
   "metadata": {},
   "outputs": [],
   "source": [
    "model.metabolites.etoh_e.formula = model.metabolites.etoh_c.formula\n",
    "model.metabolites.etoh_e.charge = model.metabolites.etoh_c.charge"
   ]
  },
  {
   "cell_type": "code",
   "execution_count": 470,
   "metadata": {},
   "outputs": [],
   "source": [
    "model.metabolites.ac_e.formula = model.metabolites.ac_c.formula\n",
    "model.metabolites.ac_e.charge = model.metabolites.ac_c.charge"
   ]
  },
  {
   "cell_type": "code",
   "execution_count": 471,
   "metadata": {},
   "outputs": [],
   "source": [
    "model.metabolites.lac__L_e.formula = model.metabolites.lac__L_c.formula\n",
    "model.metabolites.lac__L_e.charge = model.metabolites.lac__L_c.charge"
   ]
  },
  {
   "cell_type": "code",
   "execution_count": 472,
   "metadata": {},
   "outputs": [],
   "source": [
    "model.metabolites.lac__D_e.formula = model.metabolites.lac__D_c.formula\n",
    "model.metabolites.lac__D_e.charge = model.metabolites.lac__D_c.charge"
   ]
  },
  {
   "cell_type": "code",
   "execution_count": 473,
   "metadata": {},
   "outputs": [],
   "source": [
    "model.metabolites.succ_e.formula = model.metabolites.succ_c.formula\n",
    "model.metabolites.succ_e.charge = model.metabolites.succ_c.charge"
   ]
  },
  {
   "cell_type": "code",
   "execution_count": 474,
   "metadata": {},
   "outputs": [],
   "source": [
    "model.metabolites.cl_e.formula = model.metabolites.cl_c.formula\n",
    "model.metabolites.cl_e.charge = model.metabolites.cl_c.charge"
   ]
  },
  {
   "cell_type": "code",
   "execution_count": 475,
   "metadata": {},
   "outputs": [],
   "source": [
    "model.metabolites.asn__L_e.formula = model.metabolites.asn__L_c.formula\n",
    "model.metabolites.asn__L_e.charge = model.metabolites.asn__L_c.charge"
   ]
  },
  {
   "cell_type": "code",
   "execution_count": 476,
   "metadata": {},
   "outputs": [],
   "source": [
    "model.metabolites.pydx5p_e.formula = model.metabolites.pydx5p_c.formula\n",
    "model.metabolites.pydx5p_e.charge = model.metabolites.pydx5p_c.charge"
   ]
  },
  {
   "cell_type": "code",
   "execution_count": 477,
   "metadata": {},
   "outputs": [],
   "source": [
    "model.metabolites.qh2_e.formula = model.metabolites.qh2_c.formula\n",
    "model.metabolites.qh2_e.charge = model.metabolites.qh2_c.charge"
   ]
  },
  {
   "cell_type": "code",
   "execution_count": 478,
   "metadata": {},
   "outputs": [],
   "source": [
    "model.metabolites.gthrd_e.formula = model.metabolites.gthrd_c.formula\n",
    "model.metabolites.gthrd_e.charge = model.metabolites.gthrd_c.charge"
   ]
  },
  {
   "cell_type": "code",
   "execution_count": 479,
   "metadata": {},
   "outputs": [],
   "source": [
    "model.metabolites.thmtp_e.formula = model.metabolites.thmtp_c.formula\n",
    "model.metabolites.thmtp_e.charge = model.metabolites.thmtp_c.charge"
   ]
  },
  {
   "cell_type": "code",
   "execution_count": 480,
   "metadata": {},
   "outputs": [],
   "source": [
    "#save&commit\n",
    "cobra.io.write_sbml_model(model,'../model/p-thermo.xml')"
   ]
  },
  {
   "cell_type": "code",
   "execution_count": 407,
   "metadata": {},
   "outputs": [],
   "source": [
    "model = cobra.io.read_sbml_model('../model/p-thermo.xml')"
   ]
  },
  {
   "cell_type": "code",
   "execution_count": 408,
   "metadata": {},
   "outputs": [],
   "source": [
    "model.reactions.DXYL5PTST.add_metabolites({model.metabolites.h_c:-1.0})"
   ]
  },
  {
   "cell_type": "code",
   "execution_count": 409,
   "metadata": {},
   "outputs": [],
   "source": [
    "model.reactions.ATPTAT.add_metabolites({model.metabolites.atp_c:1.0, model.metabolites.scpgg_c:1.0})"
   ]
  },
  {
   "cell_type": "code",
   "execution_count": 410,
   "metadata": {},
   "outputs": [],
   "source": [
    "model.reactions.LPROQOR.add_metabolites({model.metabolites.myinp_c:1.0, model.metabolites.qh2_c:1.0,model.metabolites.ubiquin_c:-1.0})"
   ]
  },
  {
   "cell_type": "code",
   "execution_count": 411,
   "metadata": {},
   "outputs": [],
   "source": [
    "model.reactions.MALQOR.add_metabolites({model.metabolites.myinp_c:1.0, model.metabolites.qh2_c: 1.0, model.metabolites.ubiquin_c:-1.0})"
   ]
  },
  {
   "cell_type": "code",
   "execution_count": 412,
   "metadata": {},
   "outputs": [],
   "source": [
    "model.reactions.OBO2OR.add_metabolites({model.metabolites.h2o_c:-1.0, model.metabolites.h2o2_c: 1.0, model.metabolites.h_c:-2.0})"
   ]
  },
  {
   "cell_type": "code",
   "execution_count": 413,
   "metadata": {},
   "outputs": [],
   "source": [
    "model.metabolites.fdp_B_c.formula = 'C6H10O12P2'"
   ]
  },
  {
   "cell_type": "code",
   "execution_count": 414,
   "metadata": {},
   "outputs": [],
   "source": [
    "model.reactions.PFKh.add_metabolites({model.metabolites.h_c:-5.0})"
   ]
  },
  {
   "cell_type": "code",
   "execution_count": 415,
   "metadata": {},
   "outputs": [],
   "source": [
    "model.reactions.LALDPOR.add_metabolites({model.metabolites.h_c:-2.0})"
   ]
  },
  {
   "cell_type": "code",
   "execution_count": 416,
   "metadata": {},
   "outputs": [],
   "source": [
    "model.reactions.PHEAOR.add_metabolites({model.metabolites.h_c:2.0})"
   ]
  },
  {
   "cell_type": "code",
   "execution_count": 417,
   "metadata": {},
   "outputs": [],
   "source": [
    "model.reactions.PYRLLOR.add_metabolites({model.metabolites.h_c:-1.0})"
   ]
  },
  {
   "cell_type": "code",
   "execution_count": 418,
   "metadata": {},
   "outputs": [],
   "source": [
    "model.reactions.NADHQOR.add_metabolites({model.metabolites.nadh_c:-1.0, model.metabolites.qh2_c:1.0, model.metabolites.nad_c:1.0, model.metabolites.ubiquin_c:-1.0, model.metabolites.myinp_c:1.0})"
   ]
  },
  {
   "cell_type": "code",
   "execution_count": 419,
   "metadata": {},
   "outputs": [],
   "source": [
    "model.reactions.PGLHY.notes['KEGG'] = 'R02035'"
   ]
  },
  {
   "cell_type": "code",
   "execution_count": 420,
   "metadata": {},
   "outputs": [],
   "source": [
    "model.reactions.PGLHY.add_metabolites({model.metabolites.h2o_c:-2.0,})"
   ]
  },
  {
   "cell_type": "code",
   "execution_count": 461,
   "metadata": {},
   "outputs": [],
   "source": [
    "model.metabolites.get_by_id('6pgl_c').formula = 'C6H9O9P'\n",
    "model.metabolites.get_by_id('6pgl_c').charge = -2"
   ]
  },
  {
   "cell_type": "code",
   "execution_count": 422,
   "metadata": {},
   "outputs": [],
   "source": [
    "model.reactions.GSPMDS.name = 'R01917'"
   ]
  },
  {
   "cell_type": "code",
   "execution_count": 423,
   "metadata": {},
   "outputs": [],
   "source": [
    "model.metabolites.spmd_c.formula = 'C7H22N3'"
   ]
  },
  {
   "cell_type": "code",
   "execution_count": 424,
   "metadata": {},
   "outputs": [],
   "source": [
    "model.metabolites.gtspmd_c.charge = 2"
   ]
  },
  {
   "cell_type": "code",
   "execution_count": 425,
   "metadata": {},
   "outputs": [],
   "source": [
    "model.metabolites.gtspmd_c.formula = 'C17H36N6O5S'"
   ]
  },
  {
   "cell_type": "code",
   "execution_count": 426,
   "metadata": {},
   "outputs": [],
   "source": [
    "model.reactions.GSPMDS.add_metabolites({model.metabolites.h_c:1.0})"
   ]
  },
  {
   "cell_type": "code",
   "execution_count": 427,
   "metadata": {},
   "outputs": [],
   "source": [
    "model.metabolites.coa_c.formula = 'C21H32N7O16P3S'\n",
    "model.metabolites.coa_c.charge = -4"
   ]
  },
  {
   "cell_type": "code",
   "execution_count": 428,
   "metadata": {},
   "outputs": [],
   "source": [
    "model.metabolites.succoa_c.formula = 'C25H35N7O19P3S'\n",
    "model.metabolites.succoa_c.charge = -5"
   ]
  },
  {
   "cell_type": "code",
   "execution_count": 429,
   "metadata": {},
   "outputs": [],
   "source": [
    "model.reactions.AKGOR.add_metabolites({model.metabolites.h_c:-1.0})"
   ]
  },
  {
   "cell_type": "code",
   "execution_count": 430,
   "metadata": {},
   "outputs": [],
   "source": [
    "model.metabolites.glyc3p_c.charge = -2"
   ]
  },
  {
   "cell_type": "code",
   "execution_count": 431,
   "metadata": {},
   "outputs": [],
   "source": [
    "model.metabolites.accoa_c.formula = 'C23H34N7O17P3S'\n",
    "model.metabolites.accoa_c.charge = -4"
   ]
  },
  {
   "cell_type": "code",
   "execution_count": 432,
   "metadata": {},
   "outputs": [],
   "source": [
    "model.reactions.ACCOAACT.add_metabolites({model.metabolites.acoa_c:-2.0, model.metabolites.accoa_c:1.0})"
   ]
  },
  {
   "cell_type": "code",
   "execution_count": 433,
   "metadata": {},
   "outputs": [],
   "source": [
    "model.metabolites.acoa_c.name = 'Acyl coenzyme A'"
   ]
  },
  {
   "cell_type": "code",
   "execution_count": 434,
   "metadata": {},
   "outputs": [],
   "source": [
    "model.metabolites.pa_EC_c.name = 'Phosphatidate'"
   ]
  },
  {
   "cell_type": "code",
   "execution_count": 435,
   "metadata": {},
   "outputs": [],
   "source": [
    "model.metabolites.pa_EC_c.formula = 'C5HO8PR2'\n",
    "model.metabolites.pa_EC_c.charge = -2"
   ]
  },
  {
   "cell_type": "code",
   "execution_count": 436,
   "metadata": {},
   "outputs": [],
   "source": [
    "model.reactions.ACCOATT.add_metabolites({model.metabolites.accoa_c: 1.0})"
   ]
  },
  {
   "cell_type": "code",
   "execution_count": 437,
   "metadata": {},
   "outputs": [],
   "source": [
    "model.metabolites.ctp_c.formula = 'C9H12N3O14P3'\n",
    "model.metabolites.ctp_c.charge = -4"
   ]
  },
  {
   "cell_type": "code",
   "execution_count": 438,
   "metadata": {},
   "outputs": [
    {
     "ename": "AttributeError",
     "evalue": "DictList has no attribute or entry cdpdag_c",
     "output_type": "error",
     "traceback": [
      "\u001b[1;31m---------------------------------------------------------------------------\u001b[0m",
      "\u001b[1;31mKeyError\u001b[0m                                  Traceback (most recent call last)",
      "\u001b[1;32m~\\AppData\\Local\\Continuum\\anaconda3\\envs\\g-thermo\\lib\\site-packages\\cobra\\core\\dictlist.py\u001b[0m in \u001b[0;36m__getattr__\u001b[1;34m(self, attr)\u001b[0m\n\u001b[0;32m    450\u001b[0m         \u001b[1;32mtry\u001b[0m\u001b[1;33m:\u001b[0m\u001b[1;33m\u001b[0m\u001b[1;33m\u001b[0m\u001b[0m\n\u001b[1;32m--> 451\u001b[1;33m             \u001b[1;32mreturn\u001b[0m \u001b[0mDictList\u001b[0m\u001b[1;33m.\u001b[0m\u001b[0mget_by_id\u001b[0m\u001b[1;33m(\u001b[0m\u001b[0mself\u001b[0m\u001b[1;33m,\u001b[0m \u001b[0mattr\u001b[0m\u001b[1;33m)\u001b[0m\u001b[1;33m\u001b[0m\u001b[1;33m\u001b[0m\u001b[0m\n\u001b[0m\u001b[0;32m    452\u001b[0m         \u001b[1;32mexcept\u001b[0m \u001b[0mKeyError\u001b[0m\u001b[1;33m:\u001b[0m\u001b[1;33m\u001b[0m\u001b[1;33m\u001b[0m\u001b[0m\n",
      "\u001b[1;32m~\\AppData\\Local\\Continuum\\anaconda3\\envs\\g-thermo\\lib\\site-packages\\cobra\\core\\dictlist.py\u001b[0m in \u001b[0;36mget_by_id\u001b[1;34m(self, id)\u001b[0m\n\u001b[0;32m     57\u001b[0m         \u001b[1;34m\"\"\"return the element with a matching id\"\"\"\u001b[0m\u001b[1;33m\u001b[0m\u001b[1;33m\u001b[0m\u001b[0m\n\u001b[1;32m---> 58\u001b[1;33m         \u001b[1;32mreturn\u001b[0m \u001b[0mlist\u001b[0m\u001b[1;33m.\u001b[0m\u001b[0m__getitem__\u001b[0m\u001b[1;33m(\u001b[0m\u001b[0mself\u001b[0m\u001b[1;33m,\u001b[0m \u001b[0mself\u001b[0m\u001b[1;33m.\u001b[0m\u001b[0m_dict\u001b[0m\u001b[1;33m[\u001b[0m\u001b[0mid\u001b[0m\u001b[1;33m]\u001b[0m\u001b[1;33m)\u001b[0m\u001b[1;33m\u001b[0m\u001b[1;33m\u001b[0m\u001b[0m\n\u001b[0m\u001b[0;32m     59\u001b[0m \u001b[1;33m\u001b[0m\u001b[0m\n",
      "\u001b[1;31mKeyError\u001b[0m: 'cdpdag_c'",
      "\nDuring handling of the above exception, another exception occurred:\n",
      "\u001b[1;31mAttributeError\u001b[0m                            Traceback (most recent call last)",
      "\u001b[1;32m<ipython-input-438-4e7cc6cda5ae>\u001b[0m in \u001b[0;36m<module>\u001b[1;34m\u001b[0m\n\u001b[1;32m----> 1\u001b[1;33m \u001b[0mmodel\u001b[0m\u001b[1;33m.\u001b[0m\u001b[0mmetabolites\u001b[0m\u001b[1;33m.\u001b[0m\u001b[0mcdpdag_c\u001b[0m\u001b[1;33m.\u001b[0m\u001b[0mname\u001b[0m \u001b[1;33m=\u001b[0m \u001b[1;34m'CDP-diacylglycerol'\u001b[0m\u001b[1;33m\u001b[0m\u001b[1;33m\u001b[0m\u001b[0m\n\u001b[0m",
      "\u001b[1;32m~\\AppData\\Local\\Continuum\\anaconda3\\envs\\g-thermo\\lib\\site-packages\\cobra\\core\\dictlist.py\u001b[0m in \u001b[0;36m__getattr__\u001b[1;34m(self, attr)\u001b[0m\n\u001b[0;32m    452\u001b[0m         \u001b[1;32mexcept\u001b[0m \u001b[0mKeyError\u001b[0m\u001b[1;33m:\u001b[0m\u001b[1;33m\u001b[0m\u001b[1;33m\u001b[0m\u001b[0m\n\u001b[0;32m    453\u001b[0m             raise AttributeError(\"DictList has no attribute or entry %s\" %\n\u001b[1;32m--> 454\u001b[1;33m                                  attr)\n\u001b[0m\u001b[0;32m    455\u001b[0m \u001b[1;33m\u001b[0m\u001b[0m\n\u001b[0;32m    456\u001b[0m     \u001b[1;32mdef\u001b[0m \u001b[0m__dir__\u001b[0m\u001b[1;33m(\u001b[0m\u001b[0mself\u001b[0m\u001b[1;33m)\u001b[0m\u001b[1;33m:\u001b[0m\u001b[1;33m\u001b[0m\u001b[1;33m\u001b[0m\u001b[0m\n",
      "\u001b[1;31mAttributeError\u001b[0m: DictList has no attribute or entry cdpdag_c"
     ]
    }
   ],
   "source": [
    "model.metabolites.cdpdag_c.name = 'CDP-diacylglycerol'"
   ]
  },
  {
   "cell_type": "code",
   "execution_count": 439,
   "metadata": {},
   "outputs": [],
   "source": [
    "model.metabolites.cdpdag_cho_c.id = 'cdpdag_c'"
   ]
  },
  {
   "cell_type": "code",
   "execution_count": 440,
   "metadata": {},
   "outputs": [],
   "source": [
    "model.metabolites.cdpdag_c.formula = 'C14H17N3O15P2R2'\n",
    "model.metabolites.cdpdag_c.charge = -2"
   ]
  },
  {
   "cell_type": "code",
   "execution_count": 441,
   "metadata": {},
   "outputs": [],
   "source": [
    "model.metabolites.ppi_c.charge = -3"
   ]
  },
  {
   "cell_type": "code",
   "execution_count": 442,
   "metadata": {},
   "outputs": [],
   "source": [
    "model.reactions.CTPPCT.add_metabolites({model.metabolites.h_c:-5.0})"
   ]
  },
  {
   "cell_type": "code",
   "execution_count": 443,
   "metadata": {},
   "outputs": [],
   "source": [
    "model.metabolites.alac__S_c.formula = 'C5H7O4'\n",
    "model.metabolites.alac__S_c.charge = -1"
   ]
  },
  {
   "cell_type": "code",
   "execution_count": 444,
   "metadata": {},
   "outputs": [],
   "source": [
    "model.reactions.PYRACT.add_metabolites({model.metabolites.h_c:-1.0})"
   ]
  },
  {
   "cell_type": "code",
   "execution_count": 445,
   "metadata": {},
   "outputs": [],
   "source": [
    "model.metabolites.diact_c.name = 'Diacetyl'"
   ]
  },
  {
   "cell_type": "code",
   "execution_count": 446,
   "metadata": {},
   "outputs": [],
   "source": [
    "model.reactions.ACEDIA.add_metabolites({model.metabolites.pyridoxal_c:-1.0})"
   ]
  },
  {
   "cell_type": "code",
   "execution_count": 447,
   "metadata": {},
   "outputs": [],
   "source": [
    "model.reactions.HPI.name = 'hydroxypyruvate aldose-ketose-isomerase'"
   ]
  },
  {
   "cell_type": "code",
   "execution_count": 448,
   "metadata": {},
   "outputs": [],
   "source": [
    "model.metabolites.hop_c.name = '2-Hydroxy-3-oxopropanoate'"
   ]
  },
  {
   "cell_type": "code",
   "execution_count": 449,
   "metadata": {},
   "outputs": [],
   "source": [
    "model.metabolites.hop_c.formula = 'C3H3O4'\n",
    "model.metabolites.hop_c.charge = -1"
   ]
  },
  {
   "cell_type": "code",
   "execution_count": 450,
   "metadata": {},
   "outputs": [],
   "source": [
    "model.metabolites.co_c.formula = 'CO'"
   ]
  },
  {
   "cell_type": "code",
   "execution_count": 451,
   "metadata": {},
   "outputs": [],
   "source": [
    "model.reactions.COH2OOR.add_metabolites({model.metabolites.fcytb561_c:-2.0, model.metabolites.focytB561_c: 2.0})"
   ]
  },
  {
   "cell_type": "code",
   "execution_count": 452,
   "metadata": {},
   "outputs": [],
   "source": [
    "model.remove_metabolites(model.metabolites.fcytb561_c)"
   ]
  },
  {
   "cell_type": "code",
   "execution_count": 453,
   "metadata": {},
   "outputs": [],
   "source": [
    "model.metabolites.fcytb5612_c.charge = 1\n"
   ]
  },
  {
   "cell_type": "code",
   "execution_count": 454,
   "metadata": {},
   "outputs": [],
   "source": [
    "model.reactions.ACTCO2L.add_metabolites({model.metabolites.N_224_c:1.0, model.metabolites.atp_c:-1.0})"
   ]
  },
  {
   "cell_type": "code",
   "execution_count": 455,
   "metadata": {},
   "outputs": [],
   "source": [
    "model.remove_metabolites(model.metabolites.N_224_c)"
   ]
  },
  {
   "cell_type": "code",
   "execution_count": 456,
   "metadata": {},
   "outputs": [],
   "source": [
    "model.metabolites.atp_c.formula = 'C10H12N5O13P3'\n",
    "model.metabolites.atp_e.formula = 'C10H12N5O13P3'\n",
    "model.metabolites.atp_c.charge = -4\n",
    "model.metabolites.atp_e.charge = -4"
   ]
  },
  {
   "cell_type": "code",
   "execution_count": 457,
   "metadata": {},
   "outputs": [],
   "source": [
    "model.metabolites.amp_c.formula = 'C10H12N5O7P'\n",
    "model.metabolites.amp_e.formula = 'C10H12N5O7P'\n",
    "model.metabolites.amp_c.charge = -2\n",
    "model.metabolites.amp_e.charge = -2"
   ]
  },
  {
   "cell_type": "code",
   "execution_count": 458,
   "metadata": {},
   "outputs": [],
   "source": [
    "model.metabolites.adp_c.formula = 'C10H12N5O10P2'\n",
    "model.metabolites.adp_c.charge = -3"
   ]
  },
  {
   "cell_type": "code",
   "execution_count": 459,
   "metadata": {},
   "outputs": [],
   "source": [
    "model.reactions.ACTCO2L.add_metabolites({model.metabolites.h_c:3.0})"
   ]
  },
  {
   "cell_type": "code",
   "execution_count": 462,
   "metadata": {},
   "outputs": [],
   "source": [
    "#save&commit\n",
    "cobra.io.write_sbml_model(model,'../model/p-thermo.xml')"
   ]
  },
  {
   "cell_type": "markdown",
   "metadata": {},
   "source": [
    "Now I've been through the whole list assigned to me (Viv_unbalanced_rcts.csv). Some I havent been able to fix because i want to discuss it with Niko/Ben first.\n",
    "Additionally, I've had to changed quite a bit metabolites formulas, which can impact other reactions too.\n",
    "I would expect mostly hydrogens to be impacted, and so the hydrogen balance should be revisited (I can do that with a code similar to what i used in a previous notebook).\n",
    "\n",
    "Then I'll put the model back into memote and check if any of the reactions assigned to me became inbalanced again in modifications I did later in the process, and modify those by hand again. "
   ]
  },
  {
   "cell_type": "code",
   "execution_count": 463,
   "metadata": {},
   "outputs": [],
   "source": [
    "unbalanced_rct = [\"G6PDH2er\",\"THPPGLIG\",\"GHMT\",\"PPTT\",\"GCCa\",\"ABFPT\",\"MALCOAOR\",\"TREPT\",\"MMM2\",\"MMSAD1\",\"MMTSAOR\",\"PPNCL3\",\"HEXTT\",\"CTPS1\",\"PYK4\",\"DTTPT\",\"MNLPT\",\"BUPN\",\"M1PD\",\"SUCBZL\",\"CTPS2\",\"BCFASYN\",\"PPGPPDP\",\"DCTPT\",\"GLYCL\",\"NAMNPP\",\"ACS\",\"UAMAGS\",\"AAGAMPT\",\"G6PI2\",\"DCMPDA\",\"MMSDH\",\"AH6PISO\",\"LLEUDr\",\"AADCOAT\",\"THDPOR\",\"NNDPR\",\"THDPPOR\",\"DCYTD\",\"ASNS2\",\"DPCOAK\",\"ACACT1\",\"NADS1\",\"FICYTCCNOR\",\"G3PD2\",\"L23DHDPICOLY\",\"UAMAS\",\"3OAR80\",\"CYSDS\",\"ADPT\",\"UPP3MT\",\"ATPPT\",\"3HAD80\",\"NNAM\",\"GLYK\",\"GTPCII2\",\"CBPSam\",\"FRTT\",\"DPCOAPP\",\"SSALy\",\"SELMELY\",\"F6PCPT\",\"G6PDA\",\"GAM\",\"SSALx\",\"GDH_nadp\",\"STARCHHY\",\"FRDPT\",\"ARABINANHY\",\"GALh\",\"DNGALh\",\"HEX7\",\"ATPNAT\",\"BTN5AMPL\",\"PRPUT\",\"DHPPDA2\",\"FPPSh\",\"NPHS\",\"DALAOX\",\"PRPAT\",\"STARCHGT\",\"OBTFL\",\"HXPRT\",\"PRPGT\",\"3OAR140\",\"BUTACPOR\",\"HMGCOALY\",\"UGE\",\"CTPT\",\"BUTACPAT\",\"UAGCVT\",\"3HAD140\",\"ACMUMPT\",\"AMYTRANS\",\"3OAR60\",\"GTPT\",\"DNADDP\",\"STARCHHY2\",\"PRPCT\",\"ACBIPGT\",\"GALT\",\"XPPT\",\"TMDPPK\",\"MMACPAT\",\"3HAD60\",\"SELCYSTL\",\"NADPt\",\"UPPRT\",\"ORPT\",\"HMBS\",\"PHEOR\",\"BNOR\",\"GALUi\",\"CBL\",\"UAAAGGLAAT\",\"CYSTHI\",\"CYTD\",\"OMCDC\",\"AMBALY\",\"SHSL2\",\"F1PPT\",\"BTCOAOR\",\"MALTPT\",\"OCTACPAT\",\"UREA\",\"SHSL1\",\"UACMAMO\",\"IVCOAR\",\"ECOAH9ir\",\"FRU1PT\",\"GLUTRR\",\"3HAD120\",\"3HAD100\",\"GCCb\",\"FADDP\",\"FOCYTCCOR\",\"ACLS\",\"DDECACPOR__39__\",\"PBUTT\",\"GAMPT\",\"DTPCUDCPPR\",\"MANPT\",\"SELCYSLY\",\"BCFASYN3\",\"DECACPAT\",\"DMORh\",\"DGTPT\",\"GLYO1\",\"RNDR1\",\"CYSTGL\",\"DHPS2\",\"DATPT\",\"SHSL4h\",\"CO1DAMT\",\"ACCOAC\",\"HMSD\",\"BGLUCH\",\"OAACOLY\",\"KAS14\",\"NO2R\",\"GMPS2\",\"UTPT\",\"ASNN\",\"GMPS\",\"MAHMPDC\",\"ALAD_L\",\"ADPRIBPH\",\"GGTT\",\"G3PD\",\"GPAR\",\"3OAR40_1\",\"ATPTAT\",\"ACCOAACT\",\"ADD\",\"METGL\",\"ADPGLCGT\",\"THRS\",\"G3PCT\",\"BTNLIG\",\"ACCOATT\",\"ASNS1\",\"HEPDPP\",\"ATPACAT\",\"ARGSS\",\"NDPK3\",\"ILEOR\",\"GLUTRS\",\"GLNAMHYDRO\",\"TDP\",\"PANTS\",\"UPPDC1\",\"AMETDMMQ\",\"3OAR160\",\"DTPCHEXPPCT\",\"TALA\",\"3HAD160\",\"DTPCHEPPCT\",\"SBP\",\"MAN1PT\",\"COOR\",\"ANS2\",\"DTPCOCPPCT\",\"ACEDIA\",\"UPPDC2\",\"APLh\",\"BCFASYN2\",\"DTPCNOPPCT\",\"PCPPTh\",\"AHETDYTTPHY\",\"TKT2\",\"MBTCOAT\",\"PRADPh\",\"GDH\",\"ADSL1r\",\"UDPGD\",\"G6PBDH\",\"IDPh\",\"ASPO1\",\"NADDP\",\"FRDPTT\",\"ANPRT\",\"AMETLY\",\"SCENLAT\",\"SELMELIG\",\"AKGDEHY\",\"SALCNPT\",\"ACOATA\",\"ADPT2\",\"GLCDPT\",\"FBAf\",\"SAM\",\"SELCYSTGL\",\"GLYOR\",\"HEMEOS\",\"PGIA\",\"GLUPRT\",\"H202OR\",\"PYRPT\",\"ENCOAT\",\"2AMACHYD\",\"IPDPCT\",\"CCTTPENPP\",\"CELLOHYDRO\",\"DMATT\",\"ADOCBITRANS\",\"23DK5MPPISO\",\"MDRPD\",\"ACDO\",\"ADNK1\",\"KARI_3hmoa\",\"GTPHYDRO\",\"FRDPPT\",\"DECDPPP\",\"ARBTPT\",\"AMYLOSEGT\",\"NTD7\",\"MTRI\",\"CDPDAGPT\",\"MAN6PI\",\"G3PD1\"]"
   ]
  },
  {
   "cell_type": "code",
   "execution_count": 464,
   "metadata": {},
   "outputs": [],
   "source": [
    "#make a list of all unbalanced metabolic reactions\n",
    "metabolic_rct = []\n",
    "for rct in model.reactions:\n",
    "    if rct.id in unbalanced_rct:\n",
    "        if rct.id[-1:] in 't':\n",
    "            continue\n",
    "        else: \n",
    "            metabolic_rct.append(rct)\n",
    "    else: continue"
   ]
  },
  {
   "cell_type": "code",
   "execution_count": 465,
   "metadata": {},
   "outputs": [
    {
     "name": "stderr",
     "output_type": "stream",
     "text": [
      "C:\\Users\\vivmol\\AppData\\Local\\Continuum\\anaconda3\\envs\\g-thermo\\lib\\site-packages\\cobra\\core\\metabolite.py:89: UserWarning:\n",
      "\n",
      "invalid formula (has parenthesis) in '(C12H20O10)n'\n",
      "\n",
      "C:\\Users\\vivmol\\AppData\\Local\\Continuum\\anaconda3\\envs\\g-thermo\\lib\\site-packages\\cobra\\core\\metabolite.py:89: UserWarning:\n",
      "\n",
      "invalid formula (has parenthesis) in '(C6H10O5)n'\n",
      "\n"
     ]
    }
   ],
   "source": [
    "#calc Number of each element in the metabolite in this reaction\n",
    "C_unbalanced =[]\n",
    "O_unbalanced =[]\n",
    "error_formula = []\n",
    "\n",
    "for rct in metabolic_rct:\n",
    "#make one dictionary that contains the information about the total elements involved in each metabolite of the whole reaction\n",
    "    rct_dict = {}\n",
    "    all_H = []\n",
    "    all_C = []\n",
    "    all_O = []\n",
    "    stoich = {}\n",
    "    for met in rct.metabolites.keys():\n",
    "        met_formula = met.elements\n",
    "        if not met.elements:\n",
    "            error_formula.append(met)\n",
    "        else:\n",
    "            try:\n",
    "                H = met_formula['H']\n",
    "            except KeyError:\n",
    "                H = 0\n",
    "            try:\n",
    "                C = met_formula['C']\n",
    "            except KeyError:\n",
    "                C = 0\n",
    "            try: \n",
    "                O = met_formula['O']\n",
    "            except KeyError:\n",
    "                O = 0\n",
    "        elements = {f\"H_{met.id}\":H,f\"C_{met.id}\":C, f\"O_{met.id}\":O}\n",
    "        rct_dict.update(elements)\n",
    "#make a dictionary that has the information about the met.id and stoichiometry\n",
    "        for met in rct.metabolites.keys():\n",
    "            stoichiometry = rct.metabolites.get(met)\n",
    "            stoich[met.id]=stoichiometry\n",
    "        #make a calculation for the final balance of hydrogen for example:\n",
    "    for key in rct_dict:\n",
    "        id_key = stoich[key[2:]]\n",
    "        el = key[:2]\n",
    "        if el in 'H_':\n",
    "            num_H = rct_dict.get(key)\n",
    "            totH_key = num_H * id_key\n",
    "            all_H.append(totH_key)\n",
    "        elif el in 'C_':\n",
    "            num_C = rct_dict.get(key)\n",
    "            totC_key = num_C * id_key\n",
    "            all_C.append(totC_key)\n",
    "        elif el in 'O_':\n",
    "            num_O = rct_dict.get(key)\n",
    "            totO_key = num_O * id_key\n",
    "            all_O.append(totO_key)\n",
    "        else: \n",
    "            continue\n",
    "#add the number of that element to the list, and sum all parts of the list. this sum should equal 0 or it is unbalanced\n",
    "    balance_H = sum(all_H) \n",
    "    balance_C = sum(all_C)\n",
    "    balance_O = sum(all_O)\n",
    "    if balance_H != 0 and balance_C == 0 and balance_O == 0:\n",
    "    #Make a script to balance the reaction with a proton)\n",
    "        add_H = -sum(all_H) #i.e. the stoichiometry of the proton needed to get mass balance\n",
    "        proton = model.metabolites.h_c\n",
    "        rct.add_metabolites({proton:add_H})   "
   ]
  },
  {
   "cell_type": "code",
   "execution_count": 466,
   "metadata": {},
   "outputs": [],
   "source": [
    "#save&commit\n",
    "cobra.io.write_sbml_model(model,'../model/p-thermo.xml')"
   ]
  },
  {
   "cell_type": "markdown",
   "metadata": {},
   "source": [
    "I will now put the model back into memote and check if any of the reactions assigned to me need re-evaluation from changes performed downstream."
   ]
  },
  {
   "cell_type": "code",
   "execution_count": 467,
   "metadata": {},
   "outputs": [
    {
     "data": {
      "text/plain": [
       "85"
      ]
     },
     "execution_count": 467,
     "metadata": {},
     "output_type": "execute_result"
    }
   ],
   "source": [
    "left_over_rct_unbalanced = [\"SELCYSLY\",\"ACMUMPT\",\"GLUTRS\",\"THDPOR\",\"FOCYTCCOR\",\"HMSD\",\"THDPPOR\",\"ARABINANHY\",\"ACOATA\",\"OMCDC\",\"COOR\",\"TREPT\",\"ECOAH9ir\",\"FICYTCCNOR\",\"NADPt\",\"AMETLY\",\"23DK5MPPISO\",\"MTRI\",\"MDRPD\",\"FRU1PT\",\"SELMELIG\",\"ACCOAACT\",\"SAM\",\"ACCOATT\",\"PYRPT\",\"GLCDPT\",\"BCFASYN2\",\"ATPPT\",\"GCCb\",\"3HAD120\",\"DDECACPOR__39__\",\"DGTPT\",\"DCTPT\",\"DTPCUDCPPR\",\"AMYLOSEGT\",\"BTN5AMPL\",\"THPPGLIG\",\"STARCHHY2\",\"AMYTRANS\",\"STARCHGT\",\"UAAAGGLAAT\",\"BCFASYN3\",\"ATPNAT\",\"MALTPT\",\"GLUTRR\",\"CELLOHYDRO\",\"L23DHDPICOLY\",\"GCCa\",\"ADPGLCGT\",\"SALCNPT\",\"MANPT\",\"GAMPT\",\"AMETDMMQ\",\"PRPCT\",\"GTPT\",\"3OAR140\",\"ARBTPT\",\"AH6PISO\",\"3HAD140\",\"ACEDIA\",\"DATPT\",\"ACDO\",\"MMACPAT\",\"3OAR160\",\"OCTACPAT\",\"3HAD160\",\"3HAD100\",\"GHMT\",\"DECACPAT\",\"BGLUCH\",\"BCFASYN\",\"MNLPT\",\"UTPT\",\"PRPUT\",\"CTPT\",\"PRPGT\",\"STARCHHY\",\"CDPDAGPT\",\"PRPAT\",\"BUTACPOR\",\"3OAR80\",\"3OAR60\",\"3HAD80\",\"DTTPT\",\"3HAD60\"]\n",
    "len(left_over_rct_unbalanced)"
   ]
  },
  {
   "cell_type": "code",
   "execution_count": 480,
   "metadata": {},
   "outputs": [
    {
     "name": "stdout",
     "output_type": "stream",
     "text": [
      "COOR\n",
      "SELMELIG\n",
      "SAM\n",
      "ARBTPT\n",
      "GLUTRS\n",
      "BGLUCH\n",
      "UAAAGGLAAT\n",
      "CELLOHYDRO\n",
      "ACMUMPT\n",
      "MMACPAT\n",
      "AH6PISO\n",
      "BTN5AMPL\n",
      "ACCOAACT\n",
      "ACCOATT\n",
      "ACEDIA\n",
      "NADPt\n"
     ]
    }
   ],
   "source": [
    "for rct in model.reactions:\n",
    "    if rct in viv_reactions:\n",
    "        if rct.id in left_over_rct_unbalanced:\n",
    "            print (rct.id)\n",
    "        else:\n",
    "            continue\n",
    "    else:\n",
    "        continue"
   ]
  },
  {
   "cell_type": "markdown",
   "metadata": {},
   "source": [
    "In the list of reactions assigned to me that are still unbalanced, some are because I want to discuss with Niko/Ben how they should be fixed first. The ones that I had originally fixed and are no longer balanced are: COOR, MMACPAT, AH6PISO and NADPt, so I will inspect and fix those again now."
   ]
  },
  {
   "cell_type": "code",
   "execution_count": 485,
   "metadata": {},
   "outputs": [],
   "source": [
    "model.metabolites.nadp_e.formula = model.metabolites.nadp_c.formula\n",
    "model.metabolites.nadp_e.charge = model.metabolites.nadp_c.charge"
   ]
  },
  {
   "cell_type": "code",
   "execution_count": 494,
   "metadata": {},
   "outputs": [
    {
     "name": "stderr",
     "output_type": "stream",
     "text": [
      "C:\\Users\\vivmol\\AppData\\Local\\Continuum\\anaconda3\\envs\\g-thermo\\lib\\site-packages\\cobra\\core\\model.py:716: UserWarning:\n",
      "\n",
      "need to pass in a list\n",
      "\n"
     ]
    }
   ],
   "source": [
    "#Reaction COOR is also present in the form of COH2OOR. So I will remove the duplicate reaction \n",
    "#and fix the COOR reaction\n",
    "\n",
    "model.remove_reactions(model.reactions.COH2OOR)"
   ]
  },
  {
   "cell_type": "code",
   "execution_count": 492,
   "metadata": {},
   "outputs": [],
   "source": [
    "model.reactions.COOR.add_metabolites({model.metabolites.fcytb5612_c:-2.0})"
   ]
  },
  {
   "cell_type": "markdown",
   "metadata": {},
   "source": [
    "in MMACPAT it seems the 3opalmACP_c has an incorrect formula, but it is also present in the OPALMACPOR reaction, which is mass balanced at this point. Need to inspect both reactions and see where the discrepancy comes from. \n",
    "\n",
    "It turns out, the OPALMACPOR reaction should have hdeacp_c as substrate instead of 3opalmACP_c.\n"
   ]
  },
  {
   "cell_type": "code",
   "execution_count": 517,
   "metadata": {},
   "outputs": [],
   "source": [
    "model.metabolites.get_by_id('3opalmACP_c').formula ='C16H29O2SR'"
   ]
  },
  {
   "cell_type": "code",
   "execution_count": 519,
   "metadata": {},
   "outputs": [],
   "source": [
    "model.reactions.OPALMACPOR.add_metabolites({model.metabolites.get_by_id('3opalmACP_c'):1.0, model.metabolites.hdeacp_c:-1.0})"
   ]
  },
  {
   "cell_type": "code",
   "execution_count": 525,
   "metadata": {},
   "outputs": [],
   "source": [
    "#for AH6PISO, the product should be f6p_B_c not fdp_B_c\n",
    "model.reactions.AH6PISO.add_metabolites({model.metabolites.fdp_B_c:-1.0, model.metabolites.f6p_B_c:1.0})"
   ]
  },
  {
   "cell_type": "code",
   "execution_count": 536,
   "metadata": {},
   "outputs": [],
   "source": [
    "#also the charge of the metabolite is wrong\n",
    "model.metabolites.f6p_B_c.charge = -2\n",
    "model.metabolites.ah6p__D_c.formula = 'C6H11O9P'\n",
    "model.metabolites.ah6p__D_c.charge = -2"
   ]
  },
  {
   "cell_type": "code",
   "execution_count": 539,
   "metadata": {},
   "outputs": [],
   "source": [
    "#save&commit\n",
    "cobra.io.write_sbml_model(model,'../model/p-thermo.xml')"
   ]
  },
  {
   "cell_type": "markdown",
   "metadata": {},
   "source": [
    "Please see '../memote reports/03-11-2020.html' for a memote report of the model before all the mass balance fixing I will do. "
   ]
  },
  {
   "cell_type": "code",
   "execution_count": null,
   "metadata": {},
   "outputs": [],
   "source": []
  }
 ],
 "metadata": {
  "kernelspec": {
   "display_name": "Python 3",
   "language": "python",
   "name": "python3"
  },
  "language_info": {
   "codemirror_mode": {
    "name": "ipython",
    "version": 3
   },
   "file_extension": ".py",
   "mimetype": "text/x-python",
   "name": "python",
   "nbconvert_exporter": "python",
   "pygments_lexer": "ipython3",
   "version": "3.7.9"
  }
 },
 "nbformat": 4,
 "nbformat_minor": 2
}
