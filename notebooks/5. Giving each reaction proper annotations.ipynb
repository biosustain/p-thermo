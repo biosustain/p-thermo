{
 "cells": [
  {
   "cell_type": "markdown",
   "metadata": {},
   "source": [
    "# Introduction\n",
    "Now that all the reactions have proper names, we can add all the needed annotations to the reactions to make further searching easier, and from there start fixing stochiometric problems. Right now, each reaction has no annotation at all. For some of them we can lift it from the notes.\n",
    "\n",
    "For the reactions, we would want to have KEGG IDs, MetanetX IDs and E.C. numbers where ever possible."
   ]
  },
  {
   "cell_type": "code",
   "execution_count": 9,
   "metadata": {},
   "outputs": [],
   "source": [
    "import cobra\n",
    "import pandas as pd\n",
    "import cameo"
   ]
  },
  {
   "cell_type": "code",
   "execution_count": 13,
   "metadata": {},
   "outputs": [],
   "source": [
    "model = cobra.io.read_sbml_model('../../model/Comparison models/Beata_model_orig_mod.xml')"
   ]
  },
  {
   "cell_type": "code",
   "execution_count": 14,
   "metadata": {},
   "outputs": [],
   "source": [
    "matteo_model = cobra.io.read_sbml_model(\"../../model/Matteo-g-thermo.xml\")"
   ]
  },
  {
   "cell_type": "markdown",
   "metadata": {},
   "source": [
    "## KEGG IDs\n",
    "First we will add KEGG IDs. This can be done by lifting the Kegg reaction information from the reaction name or reaction notes."
   ]
  },
  {
   "cell_type": "code",
   "execution_count": 16,
   "metadata": {},
   "outputs": [
    {
     "data": {
      "text/plain": [
       "326"
      ]
     },
     "execution_count": 16,
     "metadata": {},
     "output_type": "execute_result"
    }
   ],
   "source": [
    "#first try to add the KEGG reaction IDs\n",
    "unannotated_rct_kegg = []\n",
    "for rct in model.reactions:\n",
    "    try:\n",
    "        rct.annotation[\"kegg.reaction\"] = rct.notes[\"KEGG ID\"]\n",
    "    except:\n",
    "        unannotated_rct_kegg.append(rct)\n",
    "len(unannotated_rct_kegg)\n",
    "#the majority of the unannotated reactions are exchange and transport, as expected. "
   ]
  },
  {
   "cell_type": "markdown",
   "metadata": {},
   "source": [
    "## MetaNetX IDs\n",
    "Now I will try to annotate each compound with MetaNetX IDs, where possible, based on the KEGG ID's found. "
   ]
  },
  {
   "cell_type": "code",
   "execution_count": 17,
   "metadata": {},
   "outputs": [],
   "source": [
    "#load metaNetX dataframe\n",
    "rct_df = pd.read_csv(\"../../../Databases/reac_xref.tsv\", sep=\"\\t\", skiprows=385)\n",
    "#NOTE: an extra colum head was added to the file on line 386 called 'note' to fix the headings being aligned further"
   ]
  },
  {
   "cell_type": "code",
   "execution_count": 18,
   "metadata": {},
   "outputs": [
    {
     "data": {
      "text/html": [
       "<div>\n",
       "<style scoped>\n",
       "    .dataframe tbody tr th:only-of-type {\n",
       "        vertical-align: middle;\n",
       "    }\n",
       "\n",
       "    .dataframe tbody tr th {\n",
       "        vertical-align: top;\n",
       "    }\n",
       "\n",
       "    .dataframe thead th {\n",
       "        text-align: right;\n",
       "    }\n",
       "</style>\n",
       "<table border=\"1\" class=\"dataframe\">\n",
       "  <thead>\n",
       "    <tr style=\"text-align: right;\">\n",
       "      <th></th>\n",
       "      <th>#XREF</th>\n",
       "      <th>MNX_ID</th>\n",
       "      <th>Note</th>\n",
       "    </tr>\n",
       "  </thead>\n",
       "  <tbody>\n",
       "    <tr>\n",
       "      <th>0</th>\n",
       "      <td>MNXR01</td>\n",
       "      <td>MNXR01</td>\n",
       "      <td>Synthetic reaction</td>\n",
       "    </tr>\n",
       "    <tr>\n",
       "      <th>1</th>\n",
       "      <td>bigg:10FTHF5GLUtl</td>\n",
       "      <td>MNXR94668</td>\n",
       "      <td>1 10fthf5glu@l = 1 10fthf5glu@c</td>\n",
       "    </tr>\n",
       "    <tr>\n",
       "      <th>2</th>\n",
       "      <td>bigg:R_10FTHF5GLUtl</td>\n",
       "      <td>MNXR94668</td>\n",
       "      <td>1 10fthf5glu@l = 1 10fthf5glu@c</td>\n",
       "    </tr>\n",
       "    <tr>\n",
       "      <th>3</th>\n",
       "      <td>MNXR94668</td>\n",
       "      <td>MNXR94668</td>\n",
       "      <td>NaN</td>\n",
       "    </tr>\n",
       "    <tr>\n",
       "      <th>4</th>\n",
       "      <td>bigg:10FTHF5GLUtm</td>\n",
       "      <td>MNXR94668</td>\n",
       "      <td>1 10fthf5glu@c = 1 10fthf5glu@m</td>\n",
       "    </tr>\n",
       "    <tr>\n",
       "      <th>...</th>\n",
       "      <td>...</td>\n",
       "      <td>...</td>\n",
       "      <td>...</td>\n",
       "    </tr>\n",
       "    <tr>\n",
       "      <th>238202</th>\n",
       "      <td>deprecated:MNXR56427</td>\n",
       "      <td>MNXR116132</td>\n",
       "      <td>NaN</td>\n",
       "    </tr>\n",
       "    <tr>\n",
       "      <th>238203</th>\n",
       "      <td>deprecated:MNXR56426</td>\n",
       "      <td>MNXR108670</td>\n",
       "      <td>NaN</td>\n",
       "    </tr>\n",
       "    <tr>\n",
       "      <th>238204</th>\n",
       "      <td>deprecated:MNXR56425</td>\n",
       "      <td>MNXR108723</td>\n",
       "      <td>NaN</td>\n",
       "    </tr>\n",
       "    <tr>\n",
       "      <th>238205</th>\n",
       "      <td>deprecated:MNXR56424</td>\n",
       "      <td>MNXR106728</td>\n",
       "      <td>NaN</td>\n",
       "    </tr>\n",
       "    <tr>\n",
       "      <th>238206</th>\n",
       "      <td>deprecated:MNXR56422</td>\n",
       "      <td>MNXR114907</td>\n",
       "      <td>NaN</td>\n",
       "    </tr>\n",
       "  </tbody>\n",
       "</table>\n",
       "<p>238207 rows × 3 columns</p>\n",
       "</div>"
      ],
      "text/plain": [
       "                       #XREF      MNX_ID                             Note\n",
       "0                     MNXR01      MNXR01               Synthetic reaction\n",
       "1          bigg:10FTHF5GLUtl   MNXR94668  1 10fthf5glu@l = 1 10fthf5glu@c\n",
       "2        bigg:R_10FTHF5GLUtl   MNXR94668  1 10fthf5glu@l = 1 10fthf5glu@c\n",
       "3                  MNXR94668   MNXR94668                              NaN\n",
       "4          bigg:10FTHF5GLUtm   MNXR94668  1 10fthf5glu@c = 1 10fthf5glu@m\n",
       "...                      ...         ...                              ...\n",
       "238202  deprecated:MNXR56427  MNXR116132                              NaN\n",
       "238203  deprecated:MNXR56426  MNXR108670                              NaN\n",
       "238204  deprecated:MNXR56425  MNXR108723                              NaN\n",
       "238205  deprecated:MNXR56424  MNXR106728                              NaN\n",
       "238206  deprecated:MNXR56422  MNXR114907                              NaN\n",
       "\n",
       "[238207 rows x 3 columns]"
      ]
     },
     "execution_count": 18,
     "metadata": {},
     "output_type": "execute_result"
    }
   ],
   "source": [
    "rct_df"
   ]
  },
  {
   "cell_type": "code",
   "execution_count": 19,
   "metadata": {},
   "outputs": [
    {
     "data": {
      "text/plain": [
       "361"
      ]
     },
     "execution_count": 19,
     "metadata": {},
     "output_type": "execute_result"
    }
   ],
   "source": [
    "unannotated_rct_meta = []\n",
    "for rct in model.reactions:\n",
    "    try:\n",
    "        rct_id = \"kegg:\"+ rct.notes[\"KEGG ID\"]\n",
    "    except KeyError:\n",
    "        unannotated_rct_meta.append(rct)\n",
    "        continue\n",
    "    #find metanetX ID for this compound\n",
    "    try:\n",
    "        rct_new_ann = rct_df.loc[rct_df[\"#XREF\"] == rct_id,\"MNX_ID\"].values[0]\n",
    "    except IndexError:\n",
    "        unannotated_rct_meta.append(rct)\n",
    "        continue\n",
    "    rct.annotation[\"metanetx.reaction\"] = rct_new_ann\n",
    "\n",
    "len(unannotated_rct_meta)"
   ]
  },
  {
   "cell_type": "markdown",
   "metadata": {},
   "source": [
    "## E.C. numbers\n",
    "First we will try to add E.C. numbers based on the E.C. numbers present in the iML1515 model. To do so, we first make a dictionary of these values and then use this to match our reactions to it.\n",
    "\n",
    "As a second attempt, we will annotate all reactions with a Rhea database annotation, based on the reaction KEGG ID. Then from here, for all metabolites without an E.C. number from the iML1515 model, we will add the E.C. annotation, on the basis of the Rhea annotation"
   ]
  },
  {
   "cell_type": "code",
   "execution_count": 20,
   "metadata": {},
   "outputs": [],
   "source": [
    "#load the iML1515 model\n",
    "model_e_coli = cameo.load_model(\"iML1515\")"
   ]
  },
  {
   "cell_type": "code",
   "execution_count": 21,
   "metadata": {},
   "outputs": [],
   "source": [
    "#making the e. coli iML1515 based dictionary of EC numbers based on BiGG ID\n",
    "EC_dict = {reaction.id : reaction.annotation[\"ec-code\"] for reaction in model_e_coli.reactions if \"ec-code\" in reaction.annotation}"
   ]
  },
  {
   "cell_type": "code",
   "execution_count": 22,
   "metadata": {},
   "outputs": [
    {
     "data": {
      "text/plain": [
       "1096"
      ]
     },
     "execution_count": 22,
     "metadata": {},
     "output_type": "execute_result"
    }
   ],
   "source": [
    "len(EC_dict)"
   ]
  },
  {
   "cell_type": "code",
   "execution_count": 23,
   "metadata": {},
   "outputs": [
    {
     "data": {
      "text/plain": [
       "922"
      ]
     },
     "execution_count": 23,
     "metadata": {},
     "output_type": "execute_result"
    }
   ],
   "source": [
    "#copy E.C. numbers from the E. coli model on the basis of the BIGG IDs.\n",
    "no_ec_rct = []\n",
    "for reaction in model.reactions:\n",
    "    try:\n",
    "        reaction.id in EC_dict\n",
    "        reaction.annotation[\"ec-code\"] = EC_dict[reaction.id]\n",
    "    except:\n",
    "        no_ec_rct.append(reaction)\n",
    "len(no_ec_rct)"
   ]
  },
  {
   "cell_type": "markdown",
   "metadata": {},
   "source": [
    "So not many reactions have an E.C. number attached to them in this way. For the (non-exchange or -transport) reactions we can try to add them by using the Rhea database. \n",
    "\n",
    "For all reactions we first add a rhea number, based on the kegg reaction ID the reaction has.\n",
    "Then we can couple this to an E.C. number for the reactions without the E.C. already.\n",
    "\n",
    "Files used for this section can be found here: https://www.rhea-db.org/download"
   ]
  },
  {
   "cell_type": "code",
   "execution_count": 25,
   "metadata": {},
   "outputs": [
    {
     "data": {
      "text/html": [
       "<div>\n",
       "<style scoped>\n",
       "    .dataframe tbody tr th:only-of-type {\n",
       "        vertical-align: middle;\n",
       "    }\n",
       "\n",
       "    .dataframe tbody tr th {\n",
       "        vertical-align: top;\n",
       "    }\n",
       "\n",
       "    .dataframe thead th {\n",
       "        text-align: right;\n",
       "    }\n",
       "</style>\n",
       "<table border=\"1\" class=\"dataframe\">\n",
       "  <thead>\n",
       "    <tr style=\"text-align: right;\">\n",
       "      <th></th>\n",
       "      <th>RHEA_ID</th>\n",
       "      <th>DIRECTION</th>\n",
       "      <th>MASTER_ID</th>\n",
       "      <th>ID</th>\n",
       "    </tr>\n",
       "  </thead>\n",
       "  <tbody>\n",
       "    <tr>\n",
       "      <th>0</th>\n",
       "      <td>10003</td>\n",
       "      <td>BI</td>\n",
       "      <td>10000</td>\n",
       "      <td>R02938</td>\n",
       "    </tr>\n",
       "    <tr>\n",
       "      <th>1</th>\n",
       "      <td>10007</td>\n",
       "      <td>BI</td>\n",
       "      <td>10004</td>\n",
       "      <td>R04010</td>\n",
       "    </tr>\n",
       "    <tr>\n",
       "      <th>2</th>\n",
       "      <td>10011</td>\n",
       "      <td>BI</td>\n",
       "      <td>10008</td>\n",
       "      <td>R07180</td>\n",
       "    </tr>\n",
       "    <tr>\n",
       "      <th>3</th>\n",
       "      <td>10015</td>\n",
       "      <td>BI</td>\n",
       "      <td>10012</td>\n",
       "      <td>R07170</td>\n",
       "    </tr>\n",
       "    <tr>\n",
       "      <th>4</th>\n",
       "      <td>10019</td>\n",
       "      <td>BI</td>\n",
       "      <td>10016</td>\n",
       "      <td>R02381</td>\n",
       "    </tr>\n",
       "    <tr>\n",
       "      <th>...</th>\n",
       "      <td>...</td>\n",
       "      <td>...</td>\n",
       "      <td>...</td>\n",
       "      <td>...</td>\n",
       "    </tr>\n",
       "    <tr>\n",
       "      <th>6456</th>\n",
       "      <td>61319</td>\n",
       "      <td>BI</td>\n",
       "      <td>61316</td>\n",
       "      <td>R12130</td>\n",
       "    </tr>\n",
       "    <tr>\n",
       "      <th>6457</th>\n",
       "      <td>61343</td>\n",
       "      <td>BI</td>\n",
       "      <td>61340</td>\n",
       "      <td>R00923</td>\n",
       "    </tr>\n",
       "    <tr>\n",
       "      <th>6458</th>\n",
       "      <td>61439</td>\n",
       "      <td>BI</td>\n",
       "      <td>61436</td>\n",
       "      <td>R00122</td>\n",
       "    </tr>\n",
       "    <tr>\n",
       "      <th>6459</th>\n",
       "      <td>61503</td>\n",
       "      <td>BI</td>\n",
       "      <td>61500</td>\n",
       "      <td>R06536</td>\n",
       "    </tr>\n",
       "    <tr>\n",
       "      <th>6460</th>\n",
       "      <td>61507</td>\n",
       "      <td>BI</td>\n",
       "      <td>61504</td>\n",
       "      <td>R06534</td>\n",
       "    </tr>\n",
       "  </tbody>\n",
       "</table>\n",
       "<p>6461 rows × 4 columns</p>\n",
       "</div>"
      ],
      "text/plain": [
       "      RHEA_ID DIRECTION  MASTER_ID      ID\n",
       "0       10003        BI      10000  R02938\n",
       "1       10007        BI      10004  R04010\n",
       "2       10011        BI      10008  R07180\n",
       "3       10015        BI      10012  R07170\n",
       "4       10019        BI      10016  R02381\n",
       "...       ...       ...        ...     ...\n",
       "6456    61319        BI      61316  R12130\n",
       "6457    61343        BI      61340  R00923\n",
       "6458    61439        BI      61436  R00122\n",
       "6459    61503        BI      61500  R06536\n",
       "6460    61507        BI      61504  R06534\n",
       "\n",
       "[6461 rows x 4 columns]"
      ]
     },
     "execution_count": 25,
     "metadata": {},
     "output_type": "execute_result"
    }
   ],
   "source": [
    "#load the data base that converts the kegg ID to rhea ID\n",
    "rhea2kegg_df = pd.read_csv(\"../../../Databases/rhea2kegg_reaction.tsv\", sep=\"\\t\")\n",
    "rhea2kegg_df"
   ]
  },
  {
   "cell_type": "code",
   "execution_count": 26,
   "metadata": {},
   "outputs": [
    {
     "data": {
      "text/plain": [
       "536"
      ]
     },
     "execution_count": 26,
     "metadata": {},
     "output_type": "execute_result"
    }
   ],
   "source": [
    "#add rhea annotation to all reactions\n",
    "unannotated_rct_rhea = []\n",
    "for reaction in model.reactions:\n",
    "    try:\n",
    "        rct_kegg = reaction.annotation[\"kegg.reaction\"]\n",
    "    except KeyError:\n",
    "        unannotated_rct_rhea.append(reaction)\n",
    "        continue\n",
    "    #find rhea ID for this compound\n",
    "    try:\n",
    "        rhea_ann = rhea2kegg_df.loc[rhea2kegg_df[\"ID\"]== rct_kegg,\"MASTER_ID\"].values[0]\n",
    "    except IndexError:\n",
    "        unannotated_rct_rhea.append(reaction)\n",
    "        continue\n",
    "    reaction.annotation[\"rhea\"] = str(rhea_ann)\n",
    "\n",
    "len(unannotated_rct_rhea)\n",
    "#quite a lot of unannotated, the large majority of these are the Exchange and transport reactions, as they have no Kegg ID."
   ]
  },
  {
   "cell_type": "markdown",
   "metadata": {},
   "source": [
    "now with the rhea annotation added, for the reactions in no_ec_rct, add the corresponding EC number from the Rhea2EC database provided on their website."
   ]
  },
  {
   "cell_type": "code",
   "execution_count": 28,
   "metadata": {},
   "outputs": [
    {
     "data": {
      "text/html": [
       "<div>\n",
       "<style scoped>\n",
       "    .dataframe tbody tr th:only-of-type {\n",
       "        vertical-align: middle;\n",
       "    }\n",
       "\n",
       "    .dataframe tbody tr th {\n",
       "        vertical-align: top;\n",
       "    }\n",
       "\n",
       "    .dataframe thead th {\n",
       "        text-align: right;\n",
       "    }\n",
       "</style>\n",
       "<table border=\"1\" class=\"dataframe\">\n",
       "  <thead>\n",
       "    <tr style=\"text-align: right;\">\n",
       "      <th></th>\n",
       "      <th>RHEA_ID</th>\n",
       "      <th>DIRECTION</th>\n",
       "      <th>MASTER_ID</th>\n",
       "      <th>ID</th>\n",
       "    </tr>\n",
       "  </thead>\n",
       "  <tbody>\n",
       "    <tr>\n",
       "      <th>0</th>\n",
       "      <td>10000</td>\n",
       "      <td>UN</td>\n",
       "      <td>10000</td>\n",
       "      <td>3.5.1.50</td>\n",
       "    </tr>\n",
       "    <tr>\n",
       "      <th>1</th>\n",
       "      <td>10004</td>\n",
       "      <td>UN</td>\n",
       "      <td>10004</td>\n",
       "      <td>5.99.1.1</td>\n",
       "    </tr>\n",
       "    <tr>\n",
       "      <th>2</th>\n",
       "      <td>10008</td>\n",
       "      <td>UN</td>\n",
       "      <td>10008</td>\n",
       "      <td>1.11.1.15</td>\n",
       "    </tr>\n",
       "    <tr>\n",
       "      <th>3</th>\n",
       "      <td>10012</td>\n",
       "      <td>UN</td>\n",
       "      <td>10012</td>\n",
       "      <td>1.5.3.6</td>\n",
       "    </tr>\n",
       "    <tr>\n",
       "      <th>4</th>\n",
       "      <td>10016</td>\n",
       "      <td>UN</td>\n",
       "      <td>10016</td>\n",
       "      <td>3.1.1.49</td>\n",
       "    </tr>\n",
       "    <tr>\n",
       "      <th>...</th>\n",
       "      <td>...</td>\n",
       "      <td>...</td>\n",
       "      <td>...</td>\n",
       "      <td>...</td>\n",
       "    </tr>\n",
       "    <tr>\n",
       "      <th>6930</th>\n",
       "      <td>61392</td>\n",
       "      <td>UN</td>\n",
       "      <td>61392</td>\n",
       "      <td>2.7.1.172</td>\n",
       "    </tr>\n",
       "    <tr>\n",
       "      <th>6931</th>\n",
       "      <td>61396</td>\n",
       "      <td>UN</td>\n",
       "      <td>61396</td>\n",
       "      <td>2.7.1.172</td>\n",
       "    </tr>\n",
       "    <tr>\n",
       "      <th>6932</th>\n",
       "      <td>61500</td>\n",
       "      <td>UN</td>\n",
       "      <td>61500</td>\n",
       "      <td>2.4.1.115</td>\n",
       "    </tr>\n",
       "    <tr>\n",
       "      <th>6933</th>\n",
       "      <td>61504</td>\n",
       "      <td>UN</td>\n",
       "      <td>61504</td>\n",
       "      <td>2.4.1.115</td>\n",
       "    </tr>\n",
       "    <tr>\n",
       "      <th>6934</th>\n",
       "      <td>61508</td>\n",
       "      <td>UN</td>\n",
       "      <td>61508</td>\n",
       "      <td>2.4.1.115</td>\n",
       "    </tr>\n",
       "  </tbody>\n",
       "</table>\n",
       "<p>6935 rows × 4 columns</p>\n",
       "</div>"
      ],
      "text/plain": [
       "      RHEA_ID DIRECTION  MASTER_ID         ID\n",
       "0       10000        UN      10000   3.5.1.50\n",
       "1       10004        UN      10004   5.99.1.1\n",
       "2       10008        UN      10008  1.11.1.15\n",
       "3       10012        UN      10012    1.5.3.6\n",
       "4       10016        UN      10016   3.1.1.49\n",
       "...       ...       ...        ...        ...\n",
       "6930    61392        UN      61392  2.7.1.172\n",
       "6931    61396        UN      61396  2.7.1.172\n",
       "6932    61500        UN      61500  2.4.1.115\n",
       "6933    61504        UN      61504  2.4.1.115\n",
       "6934    61508        UN      61508  2.4.1.115\n",
       "\n",
       "[6935 rows x 4 columns]"
      ]
     },
     "execution_count": 28,
     "metadata": {},
     "output_type": "execute_result"
    }
   ],
   "source": [
    "#load the dataframe\n",
    "rhea2ec_df = pd.read_csv(\"../../../Databases/rhea2ec.tsv\", sep=\"\\t\")\n",
    "rhea2ec_df"
   ]
  },
  {
   "cell_type": "code",
   "execution_count": 29,
   "metadata": {},
   "outputs": [
    {
     "name": "stderr",
     "output_type": "stream",
     "text": [
      "C:\\Users\\vivmol\\AppData\\Local\\Continuum\\anaconda3\\envs\\g-thermo\\lib\\site-packages\\pandas\\core\\ops\\__init__.py:1115: FutureWarning:\n",
      "\n",
      "elementwise comparison failed; returning scalar instead, but in the future will perform elementwise comparison\n",
      "\n"
     ]
    },
    {
     "data": {
      "text/plain": [
       "922"
      ]
     },
     "execution_count": 29,
     "metadata": {},
     "output_type": "execute_result"
    }
   ],
   "source": [
    "#add the E.C. numbers based on the rhea IDs given\n",
    "unannotated_rct_ec = []\n",
    "for reaction in model.reactions:\n",
    "    if reaction in no_ec_rct:\n",
    "        try:\n",
    "            rct_rhea = reaction.annotation[\"rhea\"]\n",
    "        except KeyError:\n",
    "            unannotated_rct_ec.append(reaction)\n",
    "            continue\n",
    "        try:\n",
    "            ec_ann_1 = rhea2ec_df.loc[rhea2ec_df[\"MASTER_ID\"]== rct_rhea,\"ID\"].values[0]\n",
    "        except IndexError:\n",
    "            unannotated_rct_ec.append(reaction)\n",
    "            continue\n",
    "        try:\n",
    "            ec_ann_2 =  rhea2ec_df.loc[rhea2ec_df[\"MASTER_ID\"]== rct_rhea,\"ID\"].values[1]\n",
    "        except IndexError:\n",
    "            reaction.annotation[\"ec-code\"] = [ec_ann_1]\n",
    "            continue\n",
    "        try: \n",
    "            reaction.annotation[\"ec-code\"] = str([ec_ann_1, ec_ann_2])\n",
    "        except IndexError:\n",
    "            continue\n",
    "    else: \n",
    "        continue\n",
    "\n",
    "len(unannotated_rct_ec)"
   ]
  },
  {
   "cell_type": "markdown",
   "metadata": {},
   "source": [
    "So we have now annotated a bit more than half of the reactions with an E.C. number. Not everything is completely annotated, but most reactions will have some annotation and otherwise additional information in notes that allows one to identify the reaction. Therefore I will not manually go through each and make sure they have correct Kegg, metaNetX and E.C. numbers. (also because for transport and exchange there are no numbers allocated, so there will always be a lrge fraction of unannotated numbers."
   ]
  },
  {
   "cell_type": "code",
   "execution_count": 30,
   "metadata": {},
   "outputs": [],
   "source": [
    "cobra.io.write_sbml_model(model,\"../../model/Comparison models/Beata_model_orig_mod.xml\")"
   ]
  }
 ],
 "metadata": {
  "kernelspec": {
   "display_name": "Python 3",
   "language": "python",
   "name": "python3"
  },
  "language_info": {
   "codemirror_mode": {
    "name": "ipython",
    "version": 3
   },
   "file_extension": ".py",
   "mimetype": "text/x-python",
   "name": "python",
   "nbconvert_exporter": "python",
   "pygments_lexer": "ipython3",
   "version": "3.7.4"
  }
 },
 "nbformat": 4,
 "nbformat_minor": 2
}
